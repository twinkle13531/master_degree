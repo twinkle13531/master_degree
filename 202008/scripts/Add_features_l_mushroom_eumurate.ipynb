{
 "cells": [
  {
   "cell_type": "markdown",
   "metadata": {},
   "source": [
    "### 方法\n",
    "```\n",
    "while 調べるべき特徴量がある限り :\n",
    "    for 調べる特徴量 in 調べる特徴量の数 :\n",
    "        ある特徴量ベクトルxiと元のy(y^)の内積を求める(t^i)\n",
    "        for 100程度 :\n",
    "            y^を、{t0 = t^0かつt1 = t^1...tj = t^j}という条件の元サンプリング（nealを使う）しyを生成する。\n",
    "            ある特徴量ベクトルxiとyの内積を求める(ti)\n",
    "        複数のtiを求めることによって得られた分布に対するt^iの位置から、p値を求める。\n",
    "    p値の一番小さいXsを知る。\n",
    "    条件{}にts = t^sを足す（更新する）\n",
    "    調べる特徴量からXsを除外（更新する）\n",
    "```\n",
    "\n",
    "#### 条件について\n",
    "- t0 = t^0 : 1の総和が同じ\n",
    "- tj = t^j : xの特徴量jつ目とyの内積の値が同じ\n",
    "\n",
    "### データ\n",
    "- mushroomの50サンプル分\n",
    "\n",
    "### yのサンプリング\n",
    "- 条件に合うまでサンプルを作り続ける\n",
    "\n",
    "### 改訂(08/03)\n",
    "- ori_tiのkeyがなかった場合に1とする必要がない\n",
    "- sum([j[1] for j in ti_list])は必ず100である\n",
    "- 正確な分布を作ることが必要なので、yを全列挙する必要がある。"
   ]
  },
  {
   "cell_type": "code",
   "execution_count": 1,
   "metadata": {},
   "outputs": [],
   "source": [
    "#!pip3 install dwave-neal"
   ]
  },
  {
   "cell_type": "code",
   "execution_count": 2,
   "metadata": {},
   "outputs": [],
   "source": [
    "import pandas as pd \n",
    "import numpy as np\n",
    "from neal import SimulatedAnnealingSampler\n",
    "from pyqubo import Array, Constraint, Placeholder, solve_qubo\n",
    "import itertools"
   ]
  },
  {
   "cell_type": "code",
   "execution_count": 3,
   "metadata": {},
   "outputs": [],
   "source": [
    "X_mushroom = pd.read_csv(\"../input/X_l_mushroom.csv\", sep=',', index_col=0)\n",
    "y_mushroom = pd.read_csv('../input/y_l_mushroom.csv', sep=',', index_col=0)['21']\n",
    "\n",
    "num_samples = X_mushroom.shape[0]\n",
    "num_cols = X_mushroom.shape[1]\n",
    "columns = list(X_mushroom.columns)\n",
    "\n",
    "y_sum = sum(y_mushroom)"
   ]
  },
  {
   "cell_type": "code",
   "execution_count": 4,
   "metadata": {},
   "outputs": [
    {
     "data": {
      "text/plain": [
       "50"
      ]
     },
     "execution_count": 4,
     "metadata": {},
     "output_type": "execute_result"
    }
   ],
   "source": [
    "num_samples"
   ]
  },
  {
   "cell_type": "code",
   "execution_count": 5,
   "metadata": {},
   "outputs": [
    {
     "data": {
      "text/plain": [
       "26"
      ]
     },
     "execution_count": 5,
     "metadata": {},
     "output_type": "execute_result"
    }
   ],
   "source": [
    "y_sum"
   ]
  },
  {
   "cell_type": "code",
   "execution_count": 6,
   "metadata": {},
   "outputs": [],
   "source": [
    "def make_y(minP_cols):\n",
    "    y_list = []\n",
    "    y_list_all = itertools.product('01', repeat=num_samples)\n",
    "\n",
    "    for y_tuple in y_list_all:\n",
    "        y_list_list = [int(n) for n in list(y_tuple)]\n",
    "        y = pd.Series(y_list_list)\n",
    "\n",
    "        if sum(y) - y_sum != 0:\n",
    "            continue\n",
    "\n",
    "        #print(y)\n",
    "        if len(minP_cols) == 0:\n",
    "            y_list.append(y)\n",
    "        else:\n",
    "            for i in minP_cols:\n",
    "                if np.dot(X_mushroom[i], y) - np.dot(X_mushroom[i], y_mushroom) != 0:\n",
    "                    continue        \n",
    "            y_list.append(y)\n",
    "    return y_list"
   ]
  },
  {
   "cell_type": "code",
   "execution_count": null,
   "metadata": {},
   "outputs": [],
   "source": [
    "minP_cols = []\n",
    "servey_num_col_list = columns\n",
    "\n",
    "while len(servey_num_col_list) > 0:    \n",
    "    p = {}\n",
    "    for i in servey_num_col_list:\n",
    "        ori_ti = int(np.dot(X_mushroom[i], y_mushroom)) #特徴量iを表すp\n",
    "        \n",
    "        ti_dic = {} #{内積の値:該当数}という辞書。\n",
    "        y_list = make_y(minP_cols)\n",
    "        \n",
    "        for y in y_list:       \n",
    "            if int(np.dot(X_mushroom[i], y)) in ti_dic.keys():\n",
    "                ti_dic[int(np.dot(X_mushroom[i], y))] += 1\n",
    "            else:\n",
    "                ti_dic[int(np.dot(X_mushroom[i], y))] = 1\n",
    "                \n",
    "        count_better_t = sum([v for k, v in ti_dic.items() if k >= ori_ti])\n",
    "        p[i] = count_better_t / len(y_list)\n",
    "        \n",
    "    minP_keys = [k for k, v in p.items() if v == min(list(p.values()))]\n",
    "    minP_cols += minP_keys\n",
    "    servey_num_col_list = [i for i in servey_num_col_list if i not in minP_keys]"
   ]
  },
  {
   "cell_type": "code",
   "execution_count": null,
   "metadata": {},
   "outputs": [],
   "source": [
    "minP_cols"
   ]
  },
  {
   "cell_type": "code",
   "execution_count": null,
   "metadata": {},
   "outputs": [],
   "source": []
  },
  {
   "cell_type": "code",
   "execution_count": null,
   "metadata": {},
   "outputs": [],
   "source": []
  },
  {
   "cell_type": "code",
   "execution_count": null,
   "metadata": {},
   "outputs": [],
   "source": []
  }
 ],
 "metadata": {
  "kernelspec": {
   "display_name": "Python 3",
   "language": "python",
   "name": "python3"
  },
  "language_info": {
   "codemirror_mode": {
    "name": "ipython",
    "version": 3
   },
   "file_extension": ".py",
   "mimetype": "text/x-python",
   "name": "python",
   "nbconvert_exporter": "python",
   "pygments_lexer": "ipython3",
   "version": "3.6.9"
  }
 },
 "nbformat": 4,
 "nbformat_minor": 4
}
