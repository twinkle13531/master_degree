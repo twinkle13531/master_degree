{
 "cells": [
  {
   "cell_type": "code",
   "execution_count": 1,
   "metadata": {},
   "outputs": [],
   "source": [
    "#!python3 --version"
   ]
  },
  {
   "cell_type": "code",
   "execution_count": 2,
   "metadata": {},
   "outputs": [],
   "source": [
    "#!pip3 install dwave-neal"
   ]
  },
  {
   "cell_type": "code",
   "execution_count": 110,
   "metadata": {},
   "outputs": [],
   "source": [
    "import pandas as pd \n",
    "import numpy as np\n",
    "import neal\n",
    "from neal import SimulatedAnnealingSampler\n",
    "from pyqubo import Array, Constraint, Placeholder, solve_qubo\n",
    "import itertools\n",
    "\n",
    "%matplotlib inline\n",
    "import matplotlib.pyplot as plt"
   ]
  },
  {
   "cell_type": "code",
   "execution_count": 111,
   "metadata": {},
   "outputs": [],
   "source": [
    "X_mushroom = pd.read_csv(\"./X_l_mushroom.csv\", sep=',', index_col=0)\n",
    "y_mushroom = pd.read_csv('./y_l_mushroom.csv', sep=',', index_col=0)['21']\n",
    "\n",
    "num_samples = X_mushroom.shape[0]\n",
    "num_cols = X_mushroom.shape[1]\n",
    "columns = list(X_mushroom.columns)\n",
    "\n",
    "y_sum = sum(y_mushroom)\n"
   ]
  },
  {
   "cell_type": "code",
   "execution_count": 112,
   "metadata": {},
   "outputs": [
    {
     "data": {
      "text/plain": [
       "16"
      ]
     },
     "execution_count": 112,
     "metadata": {},
     "output_type": "execute_result"
    }
   ],
   "source": [
    "num_samples"
   ]
  },
  {
   "cell_type": "code",
   "execution_count": 113,
   "metadata": {},
   "outputs": [
    {
     "data": {
      "text/plain": [
       "119"
      ]
     },
     "execution_count": 113,
     "metadata": {},
     "output_type": "execute_result"
    }
   ],
   "source": [
    "num_cols"
   ]
  },
  {
   "cell_type": "code",
   "execution_count": 114,
   "metadata": {},
   "outputs": [
    {
     "data": {
      "text/plain": [
       "3"
      ]
     },
     "execution_count": 114,
     "metadata": {},
     "output_type": "execute_result"
    }
   ],
   "source": [
    "y_sum"
   ]
  },
  {
   "cell_type": "code",
   "execution_count": 115,
   "metadata": {},
   "outputs": [
    {
     "data": {
      "text/plain": [
       "65536"
      ]
     },
     "execution_count": 115,
     "metadata": {},
     "output_type": "execute_result"
    }
   ],
   "source": [
    "2**num_samples"
   ]
  },
  {
   "cell_type": "code",
   "execution_count": 116,
   "metadata": {},
   "outputs": [
    {
     "data": {
      "text/plain": [
       "5004    0\n",
       "1039    0\n",
       "3992    0\n",
       "6624    0\n",
       "1916    0\n",
       "6167    0\n",
       "3178    1\n",
       "1232    1\n",
       "6902    0\n",
       "5295    1\n",
       "5648    0\n",
       "6675    0\n",
       "6283    0\n",
       "6690    0\n",
       "5103    0\n",
       "7820    0\n",
       "Name: 21, dtype: int64"
      ]
     },
     "execution_count": 116,
     "metadata": {},
     "output_type": "execute_result"
    }
   ],
   "source": [
    "y_mushroom"
   ]
  },
  {
   "cell_type": "markdown",
   "metadata": {},
   "source": [
    "-----"
   ]
  },
  {
   "cell_type": "code",
   "execution_count": 189,
   "metadata": {},
   "outputs": [
    {
     "name": "stdout",
     "output_type": "stream",
     "text": [
      "t_0_hat =  3\n",
      "t_j_hat =  [0, 3, 2, 0, 0, 1, 1, 0, 1, 1, 0, 0, 0, 2, 1, 0, 0, 0, 0, 0, 1, 2, 0, 0, 0, 0, 0, 3, 0, 0, 0, 0, 0, 3, 0, 2, 0, 1, 3, 0, 0, 1, 0, 0, 1, 1, 0, 0, 0, 0, 0, 0, 1, 2, 1, 0, 2, 0, 0, 0, 3, 0, 0, 0, 1, 1, 0, 0, 0, 1, 0, 0, 0, 0, 1, 0, 0, 0, 2, 0, 3, 0, 0, 0, 3, 0, 0, 2, 1, 0, 2, 0, 0, 0, 1, 0, 0, 0, 0, 2, 0, 0, 0, 0, 1, 0, 1, 1, 0, 0, 1, 0, 1, 1, 0, 0, 0, 0, 1]\n",
      "119\n"
     ]
    }
   ],
   "source": [
    "#ハットつきの統計量を計算する．\n",
    "\n",
    "t_0_hat=y_sum\n",
    "\n",
    "t_j_hat=[]\n",
    "\n",
    "for i in range(num_cols):\n",
    "    t_j_hat.append(np.dot(X_mushroom.iloc[:,i], y_mushroom))\n",
    "\n",
    "print('t_0_hat = ', t_0_hat)\n",
    "\n",
    "print('t_j_hat = ', t_j_hat)"
   ]
  },
  {
   "cell_type": "code",
   "execution_count": 201,
   "metadata": {},
   "outputs": [
    {
     "name": "stdout",
     "output_type": "stream",
     "text": [
      "target index = 2\n",
      "target t_0_hat = 3\n",
      "target t_j_hat = 2\n"
     ]
    }
   ],
   "source": [
    "#対象とするインデックスを決める．津田先生のノートだと\"1\"を意味する．\n",
    "\n",
    "target_index=2\n",
    "\n",
    "target_X=X_mushroom.iloc[:,target_index]\n",
    "\n",
    "target_t_j_hat=t_j_hat[target_index]\n",
    "\n",
    "print('target index =', target_index)\n",
    "print('target t_0_hat =', t_0_hat)\n",
    "print('target t_j_hat =', target_t_j_hat)"
   ]
  },
  {
   "cell_type": "code",
   "execution_count": 268,
   "metadata": {},
   "outputs": [
    {
     "name": "stdout",
     "output_type": "stream",
     "text": [
      "constraint index = 4\n",
      "constraint t_j_hat = 0\n",
      "number of solutions = 560\n",
      "number of solutions (larger than hat) = 440\n",
      "p-value = 0.7857142857142857\n"
     ]
    }
   ],
   "source": [
    "#全列挙\n",
    "#t_0以外に制約を一個だけ加える．津田先生のノートだと\"j\"\n",
    "#j=target_indexは禁止されている（津田先生ノート参照）\n",
    "\n",
    "#入れたい制約のインデックス．　例）糖尿病患者の性別\n",
    "j=4\n",
    "\n",
    "print('constraint index =', j)\n",
    "print('constraint t_j_hat =', t_j_hat[j])\n",
    "\n",
    "y_list_all = itertools.product('01', repeat=num_samples)\n",
    "\n",
    "count=0  #制約を満たす解の個数\n",
    "\n",
    "count2=0 #そのうち，target t_j_hatよりも大きな値となる解の個数\n",
    "\n",
    "for y_tuple in y_list_all:\n",
    "    y_list_list = [int(n) for n in list(y_tuple)]\n",
    "    \n",
    "    y = pd.Series(y_list_list)\n",
    "    \n",
    "    t_0=sum(y)\n",
    "    t_j=np.dot(X_mushroom.iloc[:,j], y)\n",
    "    \n",
    "    if t_0 ==  t_0_hat and t_j == t_j_hat[j]:\n",
    "        count= count+1\n",
    "        #if np.dot(target_X, y) > target_t_j_hat:\n",
    "        if np.dot(target_X, y) >= target_t_j_hat:  #イコール入れるかどうかわからない．\n",
    "            count2=count2+1\n",
    "\n",
    "print('number of solutions =', count)\n",
    "print('number of solutions (larger than hat) =', count2)\n",
    "print('p-value =', count2/count)\n",
    "\n",
    "exact_p_value= count2/count"
   ]
  },
  {
   "cell_type": "code",
   "execution_count": 269,
   "metadata": {},
   "outputs": [
    {
     "name": "stdout",
     "output_type": "stream",
     "text": [
      "number of sampling =  10\n",
      "p-value = 0.7402777777777778 ± 0.12483785780259427\n",
      "number of sampling =  20\n",
      "p-value = 0.7833881578947369 ± 0.0973049168355534\n",
      "number of sampling =  50\n",
      "p-value = 0.7859438775510204 ± 0.05961052417885592\n",
      "number of sampling =  100\n",
      "p-value = 0.794861111111111 ± 0.046010390332168645\n",
      "number of sampling =  200\n",
      "p-value = 0.7943121859296483 ± 0.0348509239593451\n",
      "number of sampling =  500\n",
      "p-value = 0.7897727955911824 ± 0.01848101216081552\n",
      "number of sampling =  1000\n",
      "p-value = 0.7870735735735737 ± 0.014874303713182439\n"
     ]
    }
   ],
   "source": [
    "#SA\n",
    "y = Array.create('y', shape=num_samples, vartype='BINARY')\n",
    "\n",
    "#QUBO式で定式化\n",
    "H = (sum(y) - t_0_hat)**2+(np.dot(X_mushroom.iloc[:,j],y)-t_j_hat[j])**2\n",
    "\n",
    "qb = H.compile().to_qubo()\n",
    "\n",
    "sampler = neal.SimulatedAnnealingSampler()\n",
    "\n",
    "\n",
    "num_sampling=[10,20,50,100,200,500,1000]\n",
    "\n",
    "mean_p_value=[]\n",
    "std_p_value=[]\n",
    "\n",
    "\n",
    "for id_samp in range(len(num_sampling)):\n",
    "\n",
    "    p_value=[]\n",
    "\n",
    "    for ind in range(16):\n",
    "\n",
    "        res = sampler.sample_qubo(qb[0], seed=1234+ind, num_reads=num_sampling[id_samp], num_sweeps=1000)\n",
    "\n",
    "        tt = 0\n",
    "        tt2 = 0\n",
    "        for y_info in list(res.record):\n",
    "            if sum(y_info[0]) == t_0_hat and np.dot(X_mushroom.iloc[:,j], y_info[0]) == t_j_hat[j]:\n",
    "                tt = tt + 1\n",
    "                #if np.dot(target_X, y_info[0]) > target_t_j_hat:\n",
    "                if np.dot(target_X, y_info[0]) >= target_t_j_hat: #イコール入れるかどうかわからない．\n",
    "                    tt2 =tt2 +1\n",
    "                \n",
    "        if tt ==0:\n",
    "            p_value.append(0.0)\n",
    "        else:\n",
    "            p_value.append(tt2/tt)\n",
    "                \n",
    "    print('number of sampling = ', num_sampling[id_samp])                \n",
    "    print('p-value =', np.mean(p_value), '±', np.std(p_value))\n",
    "    \n",
    "    mean_p_value.append(np.mean(p_value))\n",
    "    std_p_value.append(np.std(p_value))"
   ]
  },
  {
   "cell_type": "code",
   "execution_count": 270,
   "metadata": {},
   "outputs": [
    {
     "data": {
      "image/png": "[encoded data removed]",
      "text/plain": [
       "<Figure size 432x288 with 1 Axes>"
      ]
     },
     "metadata": {
      "needs_background": "light"
     },
     "output_type": "display_data"
    }
   ],
   "source": [
    "plt.figure()\n",
    "plt.errorbar(num_sampling,mean_p_value, yerr=std_p_value, capsize=5, fmt='o', markersize=10, label=\"annealing machine\")\n",
    "plt.axhline(y=exact_p_value, color = 'red', label=\"exact\")\n",
    "plt.xscale('log')\n",
    "\n",
    "plt.legend(loc='lower right', fontsize=12)\n",
    "plt.xlabel('number of sampling', fontsize=15)\n",
    "plt.ylabel('p-value', fontsize=15)\n",
    "plt.show()"
   ]
  },
  {
   "cell_type": "code",
   "execution_count": null,
   "metadata": {},
   "outputs": [],
   "source": []
  }
 ],
 "metadata": {
  "kernelspec": {
   "display_name": "Python 3",
   "language": "python",
   "name": "python3"
  },
  "language_info": {
   "codemirror_mode": {
    "name": "ipython",
    "version": 3
   },
   "file_extension": ".py",
   "mimetype": "text/x-python",
   "name": "python",
   "nbconvert_exporter": "python",
   "pygments_lexer": "ipython3",
   "version": "3.6.9"
  }
 },
 "nbformat": 4,
 "nbformat_minor": 4
}
