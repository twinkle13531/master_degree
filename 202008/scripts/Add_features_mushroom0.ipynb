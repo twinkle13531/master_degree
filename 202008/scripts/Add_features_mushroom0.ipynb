{
 "cells": [
  {
   "cell_type": "markdown",
   "metadata": {},
   "source": [
    "### このノート\n",
    "\n",
    "### memo\n",
    "等式制約、漸近論を使っていないから良い、nealの設定で1, -1に変えられるか、十分統計量、t^はオリジナルのデータを使って計算した、漸近論はnをすごく増やしたときにする、qaで統計の問題を解くのはなかなかない、戦前（ビッグデータがない）に作った基準を今も使っている、最尤推定をする際に十分統計量だけ知っていれば圧縮な可能"
   ]
  },
  {
   "cell_type": "markdown",
   "metadata": {},
   "source": [
    "### 方法\n",
    "```\n",
    "for 0（特徴量なし）→j（全特徴量-1）回 :\n",
    "    for 調べる特徴量の数 :\n",
    "        ある特徴量ベクトルxiと元のy(y^)の内積を求める(t^i)\n",
    "        for 100程度 :\n",
    "            y^を、{t0 = t^0かつt1 = t^1...tj = t^j}という条件の元サンプリング（nealを使う）しyを生成する。\n",
    "            ある特徴量ベクトルxiとyの内積を求める(ti)\n",
    "        複数のtiを求めることによって得られた分布に対するt^iの位置から、p値を求める。\n",
    "    p値の一番小さいxsを知る。\n",
    "    条件{}にts = t^sを足す（更新する）\n",
    "    調べる特徴量の数 = 調べる特徴量の数 - 1　（更新する）\n",
    "```\n",
    "\n",
    "#### 条件について\n",
    "- t0 = t^0 : 1の総和が同じ\n",
    "- tj = t^j : xの特徴量jつ目とyの内積の値が同じ\n",
    "\n",
    "\n",
    "### nealを使う\n"
   ]
  },
  {
   "cell_type": "code",
   "execution_count": 2,
   "metadata": {},
   "outputs": [],
   "source": [
    "#!pip3 install dwave-neal"
   ]
  },
  {
   "cell_type": "code",
   "execution_count": 3,
   "metadata": {},
   "outputs": [],
   "source": [
    "import pandas as pd \n",
    "import numpy as np\n",
    "from neal import SimulatedAnnealingSampler\n",
    "from pyqubo import Array, Constraint, Placeholder, solve_qubo"
   ]
  },
  {
   "cell_type": "code",
   "execution_count": 4,
   "metadata": {},
   "outputs": [],
   "source": [
    "X_mushroom = pd.read_csv(\"../input/X_mushroom.csv\", sep=',', index_col=0)\n",
    "y_mushroom = pd.read_csv('../input/y_mushroom.csv', sep=',', index_col=0)['21']\n",
    "\n",
    "num_samples = X_mushroom.shape[0]\n",
    "num_cols = X_mushroom.shape[1]\n",
    "columns = list(X_mushroom.columns)\n",
    "\n",
    "y_sum = sum(y_mushroom)"
   ]
  },
  {
   "cell_type": "code",
   "execution_count": 21,
   "metadata": {},
   "outputs": [],
   "source": [
    "#columns #'0', '1',..,'118'"
   ]
  },
  {
   "cell_type": "code",
   "execution_count": 5,
   "metadata": {},
   "outputs": [
    {
     "data": {
      "text/plain": [
       "8124"
      ]
     },
     "execution_count": 5,
     "metadata": {},
     "output_type": "execute_result"
    }
   ],
   "source": [
    "num_samples"
   ]
  },
  {
   "cell_type": "code",
   "execution_count": 6,
   "metadata": {},
   "outputs": [
    {
     "data": {
      "text/plain": [
       "4208"
      ]
     },
     "execution_count": 6,
     "metadata": {},
     "output_type": "execute_result"
    }
   ],
   "source": [
    "y_sum"
   ]
  },
  {
   "cell_type": "code",
   "execution_count": 7,
   "metadata": {},
   "outputs": [],
   "source": [
    "# BINARY変数\n",
    "y = Array.create('y', shape=num_samples, vartype='BINARY')\n",
    "#y2 = Array.create('y', shape=5, vartype='BINARY')\n",
    "y2_sum = 2"
   ]
  },
  {
   "cell_type": "code",
   "execution_count": 19,
   "metadata": {},
   "outputs": [
    {
     "ename": "SyntaxError",
     "evalue": "unexpected EOF while parsing (<ipython-input-19-d810ccb98a80>, line 1)",
     "output_type": "error",
     "traceback": [
      "\u001b[0;36m  File \u001b[0;32m\"<ipython-input-19-d810ccb98a80>\"\u001b[0;36m, line \u001b[0;32m1\u001b[0m\n\u001b[0;31m    def H():\u001b[0m\n\u001b[0m            ^\u001b[0m\n\u001b[0;31mSyntaxError\u001b[0m\u001b[0;31m:\u001b[0m unexpected EOF while parsing\n"
     ]
    }
   ],
   "source": [
    "def H(minP_cols):\n",
    "    \n",
    "    #QUBO式で定式化\n",
    "    H = (sum(y) - y_sum)**2\n",
    "    　\n",
    "    for i in minP_cols:\n",
    "        H_plus = (ti_dic[np.dot(X_mushroom[i], y)] - ti_dic[np.dot(X_mushroom[i], y_mushroom)])**2\n",
    "        H += H_plus\n",
    "        \n",
    "    return H"
   ]
  },
  {
   "cell_type": "code",
   "execution_count": null,
   "metadata": {},
   "outputs": [],
   "source": [
    "def make_y(H):\n",
    "    # モデルをコンパイル\n",
    "    model = H.compile()\n",
    "\n",
    "    # プレースホルダーに具体的な数値を当てはめて、QUBOを作成\n",
    "    feed_dict = {\"cover\": 1.0}\n",
    "    qubo, offset = model.to_qubo(feed_dict=feed_dict)\n",
    "\n",
    "    # SAで解を探索する\n",
    "    raw_solution = solve_qubo(qubo)\n",
    "\n",
    "    # 得られた結果をデコードする\n",
    "    decoded_solution, broken, energy = model.decode_solution(raw_solution, vartype=\"BINARY\", feed_dict=feed_dict)\n",
    "\n",
    "    return pd.Series(list(decoded_solution['y'].values()))"
   ]
  },
  {
   "cell_type": "markdown",
   "metadata": {},
   "source": [
    "### 方法\n",
    "```\n",
    "while 調べる特徴量がある限り:\n",
    "    for 調べる特徴量 :\n",
    "        ある特徴量ベクトルxiと元のy(y^)の内積を求める(t^i)\n",
    "        for 100程度 :\n",
    "            y^を、{t0 = t^0かつt1 = t^1...tj = t^j}という条件の元サンプリング（nealを使う）しyを生成する。\n",
    "            ある特徴量ベクトルxiとyの内積を求める(ti)\n",
    "        複数のtiを求めることによって得られた分布に対するt^iの位置から、p値を求める。\n",
    "    p値の一番小さいxsを知る。\n",
    "    条件{}にts = t^sを足す（更新する）\n",
    "    調べる特徴量の数 = 調べる特徴量の数 - 1　（更新する）\n",
    "```\n"
   ]
  },
  {
   "cell_type": "code",
   "execution_count": 14,
   "metadata": {},
   "outputs": [
    {
     "ename": "SyntaxError",
     "evalue": "invalid syntax (<ipython-input-14-17ec753b7213>, line 8)",
     "output_type": "error",
     "traceback": [
      "\u001b[0;36m  File \u001b[0;32m\"<ipython-input-14-17ec753b7213>\"\u001b[0;36m, line \u001b[0;32m8\u001b[0m\n\u001b[0;31m    y =\u001b[0m\n\u001b[0m        ^\u001b[0m\n\u001b[0;31mSyntaxError\u001b[0m\u001b[0;31m:\u001b[0m invalid syntax\n"
     ]
    }
   ],
   "source": [
    "minP_cols = {}\n",
    "servey_num_col_list = columns\n",
    "\n",
    "while len(servey_num_col_list) > 0:\n",
    "    \n",
    "    p = {}\n",
    "    for i in servey_num_col_list:\n",
    "        ori_ti = np.dot(X_mushroom[i], y_mushroom) #特徴量iを表すp\n",
    "        \n",
    "        ti_dic = {} #分布の要素となる値を格納する\n",
    "        for _ in range(100):   \n",
    "            H = H(minP_cols)\n",
    "            y = make_y(H)\n",
    "            ti_dic[np.dot(X_mushroom[i], y)] += 1\n",
    "        bunshi = sum([ti_dic[ii] for ii in range(int(ori_ti), int(list(ti_dic.keys)[-1])+1)])\n",
    "        p[i] = bunshi/sum(list(ti_dic.values))\n",
    "        \n",
    "    minP_keys = [k for k, v in p.items() if v == min(list(p.values))]\n",
    "    minP_cols += minP_keys\n",
    "    servey_num_col_list = [i for i in servey_num_col_list if i not in minp_keys]"
   ]
  },
  {
   "cell_type": "code",
   "execution_count": null,
   "metadata": {},
   "outputs": [],
   "source": []
  }
 ],
 "metadata": {
  "kernelspec": {
   "display_name": "Python 3",
   "language": "python",
   "name": "python3"
  },
  "language_info": {
   "codemirror_mode": {
    "name": "ipython",
    "version": 3
   },
   "file_extension": ".py",
   "mimetype": "text/x-python",
   "name": "python",
   "nbconvert_exporter": "python",
   "pygments_lexer": "ipython3",
   "version": "3.6.9"
  }
 },
 "nbformat": 4,
 "nbformat_minor": 4
}
