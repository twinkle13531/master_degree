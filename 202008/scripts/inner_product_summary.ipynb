{
 "cells": [
  {
   "cell_type": "markdown",
   "metadata": {},
   "source": [
    "<img src = '../output/enu10_p.png'>"
   ]
  },
  {
   "cell_type": "markdown",
   "metadata": {},
   "source": [
    "<img src = '../output/to_qubo10_100samples_inner_product.png'>\n",
    "<img src = '../output/to_qubo10_200samples_inner_product.png'>\n",
    "<img src = '../output/to_qubo10_210samples_inner_product.png'>\n",
    "<img src = '../output/to_qubo10_300samples_inner_product.png'>\n",
    "<img src = '../output/to_qubo10_400samples_inner_product.png'>\n",
    "<img src = '../output/to_qubo10_500samples_inner_product.png'>\n",
    "<img src = '../output/to_qubo10_600samples_inner_product.png'>"
   ]
  },
  {
   "cell_type": "markdown",
   "metadata": {},
   "source": [
    "<img src = '../output/to_bqm10_100samples_inner_product.png'>\n",
    "<img src = '../output/to_bqm10_200samples_inner_product.png'>\n",
    "<img src = '../output/to_bqm10_210samples_inner_product.png'>\n",
    "<img src = '../output/to_bqm10_300samples_inner_product.png'>\n",
    "<img src = '../output/to_bqm10_400samples_inner_product.png'>\n",
    "<img src = '../output/to_bqm10_500samples_inner_product.png'>\n",
    "<img src = '../output/to_bqm10_600samples_inner_product.png'>"
   ]
  },
  {
   "cell_type": "code",
   "execution_count": null,
   "metadata": {},
   "outputs": [],
   "source": []
  }
 ],
 "metadata": {
  "kernelspec": {
   "display_name": "Python 3",
   "language": "python",
   "name": "python3"
  },
  "language_info": {
   "codemirror_mode": {
    "name": "ipython",
    "version": 3
   },
   "file_extension": ".py",
   "mimetype": "text/x-python",
   "name": "python",
   "nbconvert_exporter": "python",
   "pygments_lexer": "ipython3",
   "version": "3.6.9"
  }
 },
 "nbformat": 4,
 "nbformat_minor": 4
}
