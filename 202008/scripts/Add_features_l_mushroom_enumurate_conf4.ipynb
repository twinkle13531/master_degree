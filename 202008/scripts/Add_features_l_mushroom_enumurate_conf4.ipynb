{
 "cells": [
  {
   "cell_type": "markdown",
   "metadata": {},
   "source": [
    "### 方法\n",
    "```\n",
    "while 調べるべき特徴量がある限り :\n",
    "    for 調べる特徴量 in 調べる特徴量の数 :\n",
    "        ある特徴量ベクトルxiと元のy(y^)の内積を求める(t^i)\n",
    "        for 100程度 :\n",
    "            y^を、{t0 = t^0かつt1 = t^1...tj = t^j}という条件の元サンプリング（nealを使う）しyを生成する。\n",
    "            ある特徴量ベクトルxiとyの内積を求める(ti)\n",
    "        複数のtiを求めることによって得られた分布に対するt^iの位置から、p値を求める。\n",
    "    p値の一番小さいXsを知る。\n",
    "    条件{}にts = t^sを足す（更新する）\n",
    "    調べる特徴量からXsを除外（更新する）\n",
    "```\n",
    "\n",
    "#### 条件について\n",
    "- t0 = t^0 : 1の総和が同じ\n",
    "- tj = t^j : xの特徴量jつ目とyの内積の値が同じ\n",
    "\n",
    "### データ\n",
    "- mushroomの50サンプル分\n",
    "\n",
    "### yのサンプリング\n",
    "- 条件に合うまでサンプルを作り続ける\n",
    "\n",
    "### 改訂(2020/08/03)\n",
    "- ori_tiのkeyがなかった場合に1とする必要がない\n",
    "- sum([j[1] for j in ti_list])は必ず100である\n",
    "- 正確な分布を作ることが必要なので、yを全列挙する必要がある。\n",
    "\n",
    "### 改訂（2020/08/18）\n",
    "- mushroom_l データを更新（sumが8になるようにした）\n",
    "\n",
    "### 改訂（2020/08/20）\n",
    "- make_y関数のバグを発見\n",
    "\n"
   ]
  },
  {
   "cell_type": "code",
   "execution_count": 61,
   "metadata": {},
   "outputs": [],
   "source": [
    "#!python3 --version"
   ]
  },
  {
   "cell_type": "code",
   "execution_count": 62,
   "metadata": {},
   "outputs": [],
   "source": [
    "#!pip3 install dwave-neal"
   ]
  },
  {
   "cell_type": "code",
   "execution_count": 63,
   "metadata": {},
   "outputs": [],
   "source": [
    "import pandas as pd \n",
    "import numpy as np\n",
    "from neal import SimulatedAnnealingSampler\n",
    "from pyqubo import Array, Constraint, Placeholder, solve_qubo\n",
    "import itertools\n",
    "\n",
    "%matplotlib inline\n",
    "import matplotlib.pyplot as plt"
   ]
  },
  {
   "cell_type": "code",
   "execution_count": 64,
   "metadata": {},
   "outputs": [],
   "source": [
    "#X_mushroom = pd.read_csv(\"../input/SNP_df1010.csv\", sep=',', index_col=0).iloc[:10, :10]\n",
    "#y_mushroom = pd.read_csv('../input/y10.csv', sep=',', index_col=0)['y'][:10]\n",
    "\n",
    "X_mushroom = pd.read_csv(\"../input/X_l_mushroom.csv\", sep=',', index_col=0)\n",
    "y_mushroom = pd.read_csv('../input/y_l_mushroom.csv', sep=',', index_col=0)['21']\n",
    "\n",
    "j = '4'\n",
    "\n",
    "#X_mushroom = pd.read_csv(\"../input/X_l_mushroom.csv\", sep=',', index_col=0)\n",
    "#y_mushroom = pd.read_csv('../input/y_l_mushroom.csv', sep=',', index_col=0)['21']\n",
    "\n",
    "num_samples = X_mushroom.shape[0]\n",
    "num_cols = X_mushroom.shape[1]\n",
    "columns = list(X_mushroom.columns)\n",
    "\n",
    "y_sum = sum(y_mushroom)"
   ]
  },
  {
   "cell_type": "markdown",
   "metadata": {},
   "source": [
    "-----"
   ]
  },
  {
   "cell_type": "code",
   "execution_count": 65,
   "metadata": {},
   "outputs": [],
   "source": [
    "def make_y(j):\n",
    "    y_list = []\n",
    "    y_list_all = itertools.product('01', repeat=num_samples)\n",
    "\n",
    "    for y_tuple in y_list_all:\n",
    "        y_list_list = [int(n) for n in list(y_tuple)]\n",
    "        y = pd.Series(y_list_list)\n",
    "\n",
    "        if sum(y) - y_sum != 0:\n",
    "            continue\n",
    "\n",
    "        for i in list(j):\n",
    "            if np.dot(X_mushroom[i], y) - np.dot(X_mushroom[i], y_mushroom) == 0:\n",
    "                y_list.append(y) #pd.Seriesを要素として足している\n",
    "    return y_list"
   ]
  },
  {
   "cell_type": "code",
   "execution_count": 66,
   "metadata": {},
   "outputs": [
    {
     "name": "stdout",
     "output_type": "stream",
     "text": [
      "560\n",
      "['1', '27']\n",
      "['0', '2', '3', '5', '6', '7', '8', '9', '10', '11', '12', '13', '14', '15', '16', '17', '18', '19', '20', '21', '22', '23', '24', '25', '26', '28', '29', '30', '31', '32', '33', '34', '35', '36', '37', '38', '39', '40', '41', '42', '43', '44', '45', '46', '47', '48', '49', '50', '51', '52', '53', '54', '55', '56', '57', '58', '59', '60', '61', '62', '63', '64', '65', '66', '67', '68', '69', '70', '71', '72', '73', '74', '75', '76', '77', '78', '79', '80', '81', '82', '83', '84', '85', '86', '87', '88', '89', '90', '91', '92', '93', '94', '95', '96', '97', '98', '99', '100', '101', '102', '103', '104', '105', '106', '107', '108', '109', '110', '111', '112', '113', '114', '115', '116', '117', '118']\n"
     ]
    }
   ],
   "source": [
    "minP_cols = []\n",
    "servey_num_col_list = [jj for jj in columns if jj != j]\n",
    "\n",
    "y_list = make_y(j)\n",
    "print(len(y_list)) ##\n",
    "\n",
    "p = {}\n",
    "for i in servey_num_col_list:\n",
    "    ori_ti = int(np.dot(X_mushroom[i], y_mushroom)) #特徴量iを表すp\n",
    "\n",
    "    ti_dic = {} #{内積の値:該当数}という辞書。\n",
    "\n",
    "    for y in y_list:       \n",
    "        if int(np.dot(X_mushroom[i], y)) in ti_dic.keys():\n",
    "            ti_dic[int(np.dot(X_mushroom[i], y))] += 1\n",
    "        else:\n",
    "            ti_dic[int(np.dot(X_mushroom[i], y))] = 1\n",
    "\n",
    "    count_better_t = sum([v for k, v in ti_dic.items() if k >= ori_ti]) \n",
    "    #count_better_t = sum([v for k, v in ti_dic.items() if k > ori_ti]) #2020/08/20変更\n",
    "    p[i] = count_better_t / len(y_list)\n",
    "\n",
    "minP_keys = [k for k, v in p.items() if v == min(list(p.values()))]\n",
    "print(minP_keys) ##\n",
    "\n",
    "minP_cols += minP_keys\n",
    "servey_num_col_list = [i for i in servey_num_col_list if i not in minP_keys]\n",
    "print(servey_num_col_list)"
   ]
  },
  {
   "cell_type": "code",
   "execution_count": 75,
   "metadata": {},
   "outputs": [
    {
     "data": {
      "text/plain": [
       "560"
      ]
     },
     "execution_count": 75,
     "metadata": {},
     "output_type": "execute_result"
    }
   ],
   "source": [
    "len(y_list)"
   ]
  },
  {
   "cell_type": "code",
   "execution_count": 77,
   "metadata": {},
   "outputs": [
    {
     "name": "stdout",
     "output_type": "stream",
     "text": [
      "0.0017857142857142857\n",
      "1.0\n"
     ]
    }
   ],
   "source": [
    "print(p['1'])\n",
    "print(p['1']*len(y_list))"
   ]
  },
  {
   "cell_type": "code",
   "execution_count": 78,
   "metadata": {},
   "outputs": [
    {
     "name": "stdout",
     "output_type": "stream",
     "text": [
      "0.7857142857142857\n",
      "440.0\n"
     ]
    }
   ],
   "source": [
    "print(p['2'])\n",
    "print(p['2']*len(y_list))"
   ]
  },
  {
   "cell_type": "code",
   "execution_count": 79,
   "metadata": {},
   "outputs": [
    {
     "name": "stdout",
     "output_type": "stream",
     "text": [
      "1.0\n",
      "560.0\n"
     ]
    }
   ],
   "source": [
    "print(p['26'])\n",
    "print(p['26']*len(y_list))"
   ]
  },
  {
   "cell_type": "code",
   "execution_count": 80,
   "metadata": {},
   "outputs": [
    {
     "name": "stdout",
     "output_type": "stream",
     "text": [
      "0.0017857142857142857\n",
      "1.0\n"
     ]
    }
   ],
   "source": [
    "print(p['27'])\n",
    "print(p['27']*len(y_list))"
   ]
  },
  {
   "cell_type": "code",
   "execution_count": null,
   "metadata": {},
   "outputs": [],
   "source": []
  },
  {
   "cell_type": "code",
   "execution_count": 57,
   "metadata": {},
   "outputs": [
    {
     "name": "stdout",
     "output_type": "stream",
     "text": [
      "560\n",
      "['1', '7', '10', '11', '15', '16', '17', '19', '22', '23', '25', '27', '29', '31', '32', '33', '34', '36', '37', '38', '41', '42', '44', '45', '46', '48', '49', '51', '54', '57', '58', '60', '62', '64', '65', '67', '70', '73', '74', '76', '79', '80', '81', '82', '83', '84', '85', '88', '89', '91', '95', '96', '97', '100', '101', '102', '103', '105', '106', '108', '115', '118']\n",
      "['0', '2', '3', '5', '6', '8', '9', '12', '13', '14', '18', '20', '21', '24', '26', '28', '30', '35', '39', '40', '43', '47', '50', '52', '53', '55', '56', '59', '61', '63', '66', '68', '69', '71', '72', '75', '77', '78', '86', '87', '90', '92', '93', '94', '98', '99', '104', '107', '109', '110', '111', '112', '113', '114', '116', '117']\n"
     ]
    }
   ],
   "source": [
    "#≧を＞にした結果\n",
    "\n",
    "minP_cols = []\n",
    "servey_num_col_list = [jj for jj in columns if jj != j]\n",
    "\n",
    "y_list = make_y(j)\n",
    "print(len(y_list)) ##\n",
    "\n",
    "p = {}\n",
    "for i in servey_num_col_list:\n",
    "    ori_ti = int(np.dot(X_mushroom[i], y_mushroom)) #特徴量iを表すp\n",
    "\n",
    "    ti_dic = {} #{内積の値:該当数}という辞書。\n",
    "\n",
    "    for y in y_list:       \n",
    "        if int(np.dot(X_mushroom[i], y)) in ti_dic.keys():\n",
    "            ti_dic[int(np.dot(X_mushroom[i], y))] += 1\n",
    "        else:\n",
    "            ti_dic[int(np.dot(X_mushroom[i], y))] = 1\n",
    "\n",
    "    count_better_t = sum([v for k, v in ti_dic.items() if k > ori_ti]) #2020/08/20変更\n",
    "    p[i] = count_better_t / len(y_list)\n",
    "\n",
    "minP_keys = [k for k, v in p.items() if v == min(list(p.values()))] \n",
    "print(minP_keys) ##ここの結果が変わった（≧だと1,27しか出力されなかった）\n",
    "\n",
    "minP_cols += minP_keys\n",
    "servey_num_col_list = [i for i in servey_num_col_list if i not in minP_keys]\n",
    "print(servey_num_col_list)"
   ]
  },
  {
   "cell_type": "code",
   "execution_count": 81,
   "metadata": {},
   "outputs": [
    {
     "name": "stdout",
     "output_type": "stream",
     "text": [
      "     0         1         2    3         5     6    7    8         9   10  ...  \\\n",
      "0  1.0  0.001786  0.785714  1.0  0.607143  0.35  1.0  0.9  0.785714  1.0  ...   \n",
      "\n",
      "   109  110  111       112   113  114  115  116  117     118  \n",
      "0  1.0  0.9  1.0  0.785714  0.35  1.0  1.0  1.0  1.0  0.1875  \n",
      "\n",
      "[1 rows x 118 columns]\n"
     ]
    }
   ],
   "source": [
    "enul_p = pd.DataFrame.from_dict(p, orient='index').T\n",
    "print(enul_p)\n",
    "\n",
    "enul_p.to_csv('../output/mushrooml/enul_p_conf4.csv')"
   ]
  },
  {
   "cell_type": "markdown",
   "metadata": {},
   "source": [
    "-----"
   ]
  },
  {
   "cell_type": "code",
   "execution_count": null,
   "metadata": {},
   "outputs": [],
   "source": []
  },
  {
   "cell_type": "markdown",
   "metadata": {},
   "source": [
    "### t^0のみ"
   ]
  },
  {
   "cell_type": "code",
   "execution_count": null,
   "metadata": {},
   "outputs": [],
   "source": [
    "#t^0に当てはまるyの数を知る\n",
    "y_list = []\n",
    "y_list_all = itertools.product('01', repeat=num_samples)\n",
    "\n",
    "for y_tuple in y_list_all:\n",
    "    y_list_list = [int(n) for n in list(y_tuple)]\n",
    "    y = pd.Series(y_list_list)\n",
    "\n",
    "    if sum(y) - y_sum == 0:\n",
    "        y_list.append(y) #type(y)はSeries\n",
    "len(y_list)"
   ]
  },
  {
   "cell_type": "code",
   "execution_count": null,
   "metadata": {},
   "outputs": [],
   "source": [
    "ori_t1 = int(np.dot(X_mushroom['1'], y_mushroom)) #特徴量iを表すp\n",
    "#print(ori_t1) #8\n",
    "for y in y_list:\n",
    "    #print(y)\n",
    "    if list(y)==list(y_mushroom):\n",
    "        print(y)\n",
    "    if int(np.dot(X_mushroom['1'], y))==ori_t1:\n",
    "        print(y)\n",
    "        print('---------')#originalのyしか該当するyはないようだ"
   ]
  },
  {
   "cell_type": "code",
   "execution_count": null,
   "metadata": {},
   "outputs": [],
   "source": [
    "0.000078*12870  #約1(1.00386)"
   ]
  },
  {
   "cell_type": "code",
   "execution_count": null,
   "metadata": {},
   "outputs": [],
   "source": [
    "plt.rcParams[\"figure.figsize\"] = [100, 150]  # 図の縦横のサイズ([横(inch),縦(inch)])\n",
    "plt.rcParams[\"figure.autolayout\"] = True   # レイアウトの自動調整を利用するかどうか\n",
    "plt.rcParams[\"figure.subplot.wspace\"] = 0.10# 図が複数枚ある時の左右との余白\n",
    "plt.rcParams[\"figure.subplot.hspace\"] = 0.10# 図が複数枚ある時の上下との余白\n",
    "\n",
    "fig, ax = plt.subplots(int(num_cols/3)+1, 3)\n",
    "\n",
    "minP_cols = []\n",
    "servey_num_col_list = columns\n",
    "\n",
    "enul_p = {}\n",
    "for index, i in enumerate(servey_num_col_list):\n",
    "    \n",
    "    ori_ti = int(np.dot(X_mushroom[i], y_mushroom)) #特徴量iを表すp\n",
    "\n",
    "    ti_dic = {} #{内積の値:該当数}という辞書。\n",
    "\n",
    "    for y in y_list:       \n",
    "        if int(np.dot(X_mushroom[i], y)) in ti_dic.keys():\n",
    "            ti_dic[int(np.dot(X_mushroom[i], y))] += 1\n",
    "        else:\n",
    "            ti_dic[int(np.dot(X_mushroom[i], y))] = 1\n",
    "\n",
    "    ti_list = sorted(ti_dic.items()) #listになり、要素はタプルになる。\n",
    "    franc = sum([j[1] for j in ti_list if j[0] >= ori_ti])\n",
    "    enul_p[i] = franc/len(y_list)\n",
    "    \n",
    "    n_row = int(index%(int(num_cols/3)+1))#行\n",
    "    \n",
    "    #列\n",
    "    if index < int(num_cols/3)+1:\n",
    "        n_col = 0\n",
    "    elif index < (int(num_cols/3)+1)*2:\n",
    "        n_col = 1\n",
    "    else:\n",
    "        n_col = 2\n",
    "    \n",
    "    #ヒストグラムを出力\n",
    "    ax[n_row, n_col].set_title(i, fontsize=15)\n",
    "    ax[n_row, n_col].bar([j[0] for j in ti_list], [j[1] for j in ti_list])\n",
    "    ax[n_row, n_col].scatter(ori_ti, 100, s=200, marker='D')\n",
    "    ax[n_row, n_col].set_xlabel('inner product size', fontsize=10)\n",
    "    ax[n_row, n_col].set_ylabel('number', rotation=90, fontsize=10, labelpad=20)\n",
    "    \n",
    "#図が重ならないようにする\n",
    "fig.tight_layout()\n",
    "\n",
    "fig.subplots_adjust(bottom=0, left=0, top=0.1, right=0.1, wspace=0)\n",
    "    \n",
    "#全体に一つの題名を表示\n",
    "fig.suptitle('inner product size and its number using all y which meet conditions', fontsize=15)\n",
    "\n",
    "#図を表示\n",
    "#plt.show()\n",
    "\n",
    "#fig.savefig('../output/mushrooml/enul_p.png')\n",
    "\n",
    "enul_p = pd.DataFrame.from_dict(enul_p, orient='index').T\n",
    "print(enul_p)\n",
    "\n",
    "enul_p.to_csv('../output/mushrooml/enul_p.csv')"
   ]
  },
  {
   "cell_type": "code",
   "execution_count": null,
   "metadata": {},
   "outputs": [],
   "source": [
    "enul_p"
   ]
  },
  {
   "cell_type": "code",
   "execution_count": null,
   "metadata": {},
   "outputs": [],
   "source": [
    "#enul_pにおける各列の最小さい値\n",
    "enul_p.idxmin(axis=1)"
   ]
  },
  {
   "cell_type": "code",
   "execution_count": null,
   "metadata": {},
   "outputs": [],
   "source": [
    "np.dot(X_mushroom['1'], y_mushroom)"
   ]
  },
  {
   "cell_type": "code",
   "execution_count": null,
   "metadata": {},
   "outputs": [],
   "source": [
    "y_mushroom"
   ]
  },
  {
   "cell_type": "code",
   "execution_count": null,
   "metadata": {},
   "outputs": [],
   "source": [
    "np.dot(X_mushroom['1'], pd.Series([0, 1,1,1,0,1,0,1,0,1,0,1,0, 0, 0, 1])) "
   ]
  },
  {
   "cell_type": "code",
   "execution_count": null,
   "metadata": {},
   "outputs": [],
   "source": [
    "np.dot(X_mushroom['27'], y) - np.dot(X_mushroom['27'], y_mushroom)"
   ]
  },
  {
   "cell_type": "code",
   "execution_count": null,
   "metadata": {},
   "outputs": [],
   "source": [
    "#選ばれるyがあるかどうかの確認（p値とは無関係）\n",
    "y_list = []\n",
    "y_list_all = itertools.product('01', repeat=num_samples)\n",
    "\n",
    "for y_tuple in y_list_all:\n",
    "    y_list_list = [int(n) for n in list(y_tuple)]\n",
    "    y = pd.Series(y_list_list)\n",
    "\n",
    "    if sum(y) - y_sum != 0:\n",
    "        continue\n",
    "\n",
    "    if np.dot(X_mushroom['1'], y) - np.dot(X_mushroom['1'], y_mushroom) == 0:\n",
    "        if np.dot(X_mushroom['27'], y) - np.dot(X_mushroom['27'], y_mushroom) == 0:\n",
    "            print(y)"
   ]
  },
  {
   "cell_type": "code",
   "execution_count": null,
   "metadata": {},
   "outputs": [],
   "source": [
    "#選ばれるyがあるかどうかの確認（p値とは無関係）\n",
    "y_list = []\n",
    "y_list_all = itertools.product('01', repeat=num_samples)\n",
    "\n",
    "for y_tuple in y_list_all:\n",
    "    y_list_list = [int(n) for n in list(y_tuple)]\n",
    "    y = pd.Series(y_list_list)\n",
    "\n",
    "    if sum(y) - y_sum != 0:\n",
    "        continue\n",
    "\n",
    "    if np.dot(X_mushroom['1'], y) - np.dot(X_mushroom['1'], y_mushroom) == 0:\n",
    "        print(y)"
   ]
  }
 ],
 "metadata": {
  "kernelspec": {
   "display_name": "Python 3",
   "language": "python",
   "name": "python3"
  },
  "language_info": {
   "codemirror_mode": {
    "name": "ipython",
    "version": 3
   },
   "file_extension": ".py",
   "mimetype": "text/x-python",
   "name": "python",
   "nbconvert_exporter": "python",
   "pygments_lexer": "ipython3",
   "version": "3.6.9"
  }
 },
 "nbformat": 4,
 "nbformat_minor": 4
}
