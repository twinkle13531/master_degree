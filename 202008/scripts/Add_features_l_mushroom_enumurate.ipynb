{
 "cells": [
  {
   "cell_type": "markdown",
   "metadata": {},
   "source": [
    "### 方法\n",
    "```\n",
    "while 調べるべき特徴量がある限り :\n",
    "    for 調べる特徴量 in 調べる特徴量の数 :\n",
    "        ある特徴量ベクトルxiと元のy(y^)の内積を求める(t^i)\n",
    "        for 100程度 :\n",
    "            y^を、{t0 = t^0かつt1 = t^1...tj = t^j}という条件の元サンプリング（nealを使う）しyを生成する。\n",
    "            ある特徴量ベクトルxiとyの内積を求める(ti)\n",
    "        複数のtiを求めることによって得られた分布に対するt^iの位置から、p値を求める。\n",
    "    p値の一番小さいXsを知る。\n",
    "    条件{}にts = t^sを足す（更新する）\n",
    "    調べる特徴量からXsを除外（更新する）\n",
    "```\n",
    "\n",
    "#### 条件について\n",
    "- t0 = t^0 : 1の総和が同じ\n",
    "- tj = t^j : xの特徴量jつ目とyの内積の値が同じ\n",
    "\n",
    "### データ\n",
    "- mushroomの50サンプル分\n",
    "\n",
    "### yのサンプリング\n",
    "- 条件に合うまでサンプルを作り続ける\n",
    "\n",
    "### 改訂(08/03)\n",
    "- ori_tiのkeyがなかった場合に1とする必要がない\n",
    "- sum([j[1] for j in ti_list])は必ず100である\n",
    "- 正確な分布を作ることが必要なので、yを全列挙する必要がある。"
   ]
  },
  {
   "cell_type": "code",
   "execution_count": 1,
   "metadata": {},
   "outputs": [],
   "source": [
    "#!pip3 install dwave-neal"
   ]
  },
  {
   "cell_type": "code",
   "execution_count": 2,
   "metadata": {},
   "outputs": [],
   "source": [
    "import pandas as pd \n",
    "import numpy as np\n",
    "from neal import SimulatedAnnealingSampler\n",
    "from pyqubo import Array, Constraint, Placeholder, solve_qubo\n",
    "import itertools\n",
    "\n",
    "%matplotlib inline\n",
    "import matplotlib.pyplot as plt"
   ]
  },
  {
   "cell_type": "code",
   "execution_count": 3,
   "metadata": {},
   "outputs": [],
   "source": [
    "X_mushroom = pd.read_csv(\"../input/X_l_mushroom.csv\", sep=',', index_col=0)\n",
    "y_mushroom = pd.read_csv('../input/y_l_mushroom.csv', sep=',', index_col=0)['21']\n",
    "\n",
    "num_samples = X_mushroom.shape[0]\n",
    "num_cols = X_mushroom.shape[1]\n",
    "columns = list(X_mushroom.columns)\n",
    "\n",
    "y_sum = sum(y_mushroom)"
   ]
  },
  {
   "cell_type": "code",
   "execution_count": 4,
   "metadata": {},
   "outputs": [
    {
     "data": {
      "text/plain": [
       "16"
      ]
     },
     "execution_count": 4,
     "metadata": {},
     "output_type": "execute_result"
    }
   ],
   "source": [
    "num_samples"
   ]
  },
  {
   "cell_type": "code",
   "execution_count": 5,
   "metadata": {},
   "outputs": [
    {
     "data": {
      "text/plain": [
       "119"
      ]
     },
     "execution_count": 5,
     "metadata": {},
     "output_type": "execute_result"
    }
   ],
   "source": [
    "num_cols"
   ]
  },
  {
   "cell_type": "code",
   "execution_count": 6,
   "metadata": {},
   "outputs": [
    {
     "data": {
      "text/plain": [
       "3"
      ]
     },
     "execution_count": 6,
     "metadata": {},
     "output_type": "execute_result"
    }
   ],
   "source": [
    "y_sum"
   ]
  },
  {
   "cell_type": "markdown",
   "metadata": {},
   "source": [
    "### t^0のみ"
   ]
  },
  {
   "cell_type": "code",
   "execution_count": 7,
   "metadata": {},
   "outputs": [
    {
     "data": {
      "text/plain": [
       "560"
      ]
     },
     "execution_count": 7,
     "metadata": {},
     "output_type": "execute_result"
    }
   ],
   "source": [
    "y_list = []\n",
    "y_list_all = itertools.product('01', repeat=num_samples)\n",
    "\n",
    "for y_tuple in y_list_all:\n",
    "    y_list_list = [int(n) for n in list(y_tuple)]\n",
    "    y = pd.Series(y_list_list)\n",
    "\n",
    "    if sum(y) - y_sum == 0:\n",
    "        y_list.append(y)\n",
    "len(y_list)"
   ]
  },
  {
   "cell_type": "code",
   "execution_count": 9,
   "metadata": {},
   "outputs": [
    {
     "name": "stdout",
     "output_type": "stream",
     "text": [
      "     0         1         2    3    4         5     6    7    8         9  ...  \\\n",
      "0  1.0  0.001786  0.785714  1.0  1.0  0.607143  0.35  1.0  0.9  0.785714  ...   \n",
      "\n",
      "   109  110  111       112   113  114  115  116  117     118  \n",
      "0  1.0  0.9  1.0  0.785714  0.35  1.0  1.0  1.0  1.0  0.1875  \n",
      "\n",
      "[1 rows x 119 columns]\n"
     ]
    }
   ],
   "source": [
    "#fig, ax = plt.subplots(int(num_cols/2), 2, figsize=(100,200))\n",
    "\n",
    "minP_cols = []\n",
    "servey_num_col_list = columns\n",
    "\n",
    "enul_p = {}\n",
    "for index, i in enumerate(servey_num_col_list):\n",
    "    \n",
    "    ori_ti = int(np.dot(X_mushroom[i], y_mushroom)) #特徴量iを表すp\n",
    "\n",
    "    ti_dic = {} #{内積の値:該当数}という辞書。\n",
    "\n",
    "    for y in y_list:       \n",
    "        if int(np.dot(X_mushroom[i], y)) in ti_dic.keys():\n",
    "            ti_dic[int(np.dot(X_mushroom[i], y))] += 1\n",
    "        else:\n",
    "            ti_dic[int(np.dot(X_mushroom[i], y))] = 1\n",
    "\n",
    "    ti_list = sorted(ti_dic.items()) #listになり、要素はタプルになる。\n",
    "    franc = sum([j[1] for j in ti_list if j[0] >= ori_ti])\n",
    "    enul_p[i] = franc/len(y_list)\n",
    "    \n",
    "    n_row = int(index%int(num_cols/2))\n",
    "    \n",
    "    if index < int(num_cols/2):\n",
    "        n_col = 0\n",
    "    else:\n",
    "        n_col = 1\n",
    "    \n",
    "    '''#ヒストグラムを出力\n",
    "    ax[n_row, n_col].set_title(i, fontsize=15)\n",
    "    ax[n_row, n_col].bar([j[0] for j in ti_list], [j[1] for j in ti_list])\n",
    "    ax[n_row, n_col].scatter(ori_ti, 100, s=200, marker='D')\n",
    "    ax[n_row, n_col].set_xlabel('inner product size', fontsize=10)\n",
    "    ax[n_row, n_col].set_ylabel('number', rotation=90, fontsize=10, labelpad=20)\n",
    "    \n",
    "#図が重ならないようにする\n",
    "fig.tight_layout()\n",
    "\n",
    "fig.subplots_adjust(bottom=0, left=0, top=0.1, right=0.1, wspace=0)\n",
    "    \n",
    "#全体に一つの題名を表示\n",
    "fig.suptitle('inner product size and its number use all y which meet conditions', fontsize=15)\n",
    "\n",
    "#図を表示\n",
    "plt.show()\n",
    "\n",
    "fig.savefig('../output/mushrooml/enul_p.png')'''\n",
    "\n",
    "enul_p = pd.DataFrame.from_dict(enul_p, orient='index').T\n",
    "print(enul_p)\n",
    "\n",
    "enul_p.to_csv('../output/mushrooml/enul_p.csv')"
   ]
  },
  {
   "cell_type": "code",
   "execution_count": null,
   "metadata": {},
   "outputs": [],
   "source": []
  },
  {
   "cell_type": "code",
   "execution_count": 6,
   "metadata": {},
   "outputs": [],
   "source": [
    "def make_y(minP_cols):\n",
    "    y_list = []\n",
    "    y_list_all = itertools.product('01', repeat=num_samples)\n",
    "\n",
    "    for y_tuple in y_list_all:\n",
    "        y_list_list = [int(n) for n in list(y_tuple)]\n",
    "        y = pd.Series(y_list_list)\n",
    "\n",
    "        if sum(y) - y_sum != 0:\n",
    "            continue\n",
    "\n",
    "        #print(y)\n",
    "        if len(minP_cols) == 0:\n",
    "            y_list.append(y)\n",
    "        else:\n",
    "            for i in minP_cols:\n",
    "                if np.dot(X_mushroom[i], y) - np.dot(X_mushroom[i], y_mushroom) != 0:\n",
    "                    continue        \n",
    "            y_list.append(y)\n",
    "    return y_list"
   ]
  },
  {
   "cell_type": "code",
   "execution_count": null,
   "metadata": {},
   "outputs": [],
   "source": [
    "minP_cols = []\n",
    "servey_num_col_list = columns\n",
    "\n",
    "while len(servey_num_col_list) > 0:    \n",
    "    p = {}\n",
    "    for i in servey_num_col_list:\n",
    "        ori_ti = int(np.dot(X_mushroom[i], y_mushroom)) #特徴量iを表すp\n",
    "        \n",
    "        ti_dic = {} #{内積の値:該当数}という辞書。\n",
    "        y_list = make_y(minP_cols)\n",
    "        \n",
    "        for y in y_list:       \n",
    "            if int(np.dot(X_mushroom[i], y)) in ti_dic.keys():\n",
    "                ti_dic[int(np.dot(X_mushroom[i], y))] += 1\n",
    "            else:\n",
    "                ti_dic[int(np.dot(X_mushroom[i], y))] = 1\n",
    "                \n",
    "        count_better_t = sum([v for k, v in ti_dic.items() if k >= ori_ti])\n",
    "        p[i] = count_better_t / len(y_list)\n",
    "        \n",
    "    minP_keys = [k for k, v in p.items() if v == min(list(p.values()))]\n",
    "    minP_cols += minP_keys\n",
    "    servey_num_col_list = [i for i in servey_num_col_list if i not in minP_keys]"
   ]
  },
  {
   "cell_type": "code",
   "execution_count": null,
   "metadata": {},
   "outputs": [],
   "source": [
    "minP_cols"
   ]
  },
  {
   "cell_type": "code",
   "execution_count": null,
   "metadata": {},
   "outputs": [],
   "source": []
  },
  {
   "cell_type": "code",
   "execution_count": null,
   "metadata": {},
   "outputs": [],
   "source": []
  },
  {
   "cell_type": "code",
   "execution_count": null,
   "metadata": {},
   "outputs": [],
   "source": []
  }
 ],
 "metadata": {
  "kernelspec": {
   "display_name": "Python 3",
   "language": "python",
   "name": "python3"
  },
  "language_info": {
   "codemirror_mode": {
    "name": "ipython",
    "version": 3
   },
   "file_extension": ".py",
   "mimetype": "text/x-python",
   "name": "python",
   "nbconvert_exporter": "python",
   "pygments_lexer": "ipython3",
   "version": "3.6.9"
  }
 },
 "nbformat": 4,
 "nbformat_minor": 4
}
