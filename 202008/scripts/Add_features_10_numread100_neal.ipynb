{
 "cells": [
  {
   "cell_type": "markdown",
   "metadata": {},
   "source": [
    "### 方法(制約付きサンプリング)\n",
    "```\n",
    "while 調べるべき特徴量がある限り :\n",
    "    for 調べる特徴量 in 調べる特徴量の数 :\n",
    "        ある特徴量ベクトルxiと元のy(y^)の内積を求める(t^i)\n",
    "        for 100程度 :\n",
    "            y^を、{t0 = t^0かつt1 = t^1...tj = t^j}という条件の元サンプリング（nealを使う）しyを生成する。\n",
    "            ある特徴量ベクトルxiとyの内積を求める(ti)\n",
    "        複数のtiを求めることによって得られた分布に対するt^iの位置から、p値を求める。\n",
    "    p値の一番小さいXs[交絡因子]を知る。\n",
    "    条件{}にts = t^sを足す（更新する）\n",
    "    調べる特徴量からXsを除外（更新する）\n",
    "```\n",
    "<br/>\n",
    "\n",
    "#### **交絡因子とexact logistic regression**\n",
    "交絡因子を除いたあと、p値を求めその値が大きかったとき、交絡因子はデータに対して大きく相関していたということがわかる。\n",
    "\n",
    "### 条件について\n",
    "- t0 = t^0 : 1の総和が同じ\n",
    "- tj = t^j : xの特徴量jつ目とyの内積の値が同じ\n",
    "\n",
    "\n",
    "### yのサンプリング\n",
    "- コンパイルを行うまでは`pyqubo`\n",
    "- SAは`SimulatedAnnealingSampler()`\n",
    "\n",
    "### 改訂(08/03)\n",
    "- ori_tiのkeyがなかった場合に1とする必要がない\n",
    "- sum([j[1] for j in ti_list])は必ず100である\n",
    "\n",
    "### 改訂（08/04）\n",
    "- numreads=100を使用"
   ]
  },
  {
   "cell_type": "code",
   "execution_count": 75,
   "metadata": {},
   "outputs": [],
   "source": [
    "#!pip3 install dwave-neal"
   ]
  },
  {
   "cell_type": "code",
   "execution_count": 76,
   "metadata": {},
   "outputs": [],
   "source": [
    "import pandas as pd \n",
    "import numpy as np\n",
    "from neal import SimulatedAnnealingSampler\n",
    "from pyqubo import Array, Constraint, Placeholder, solve_qubo"
   ]
  },
  {
   "cell_type": "code",
   "execution_count": 77,
   "metadata": {},
   "outputs": [],
   "source": [
    "X_mushroom = pd.read_csv(\"../input/SNP_df1010.csv\", sep=',', index_col=0)\n",
    "y_mushroom = pd.read_csv('../input/y10.csv', sep=',', index_col=0)['y']\n",
    "\n",
    "num_samples = X_mushroom.shape[0]\n",
    "num_cols = X_mushroom.shape[1]\n",
    "columns = list(X_mushroom.columns)\n",
    "\n",
    "y_sum = sum(y_mushroom)"
   ]
  },
  {
   "cell_type": "code",
   "execution_count": 78,
   "metadata": {},
   "outputs": [
    {
     "data": {
      "text/plain": [
       "10"
      ]
     },
     "execution_count": 78,
     "metadata": {},
     "output_type": "execute_result"
    }
   ],
   "source": [
    "num_samples"
   ]
  },
  {
   "cell_type": "code",
   "execution_count": 79,
   "metadata": {},
   "outputs": [
    {
     "data": {
      "text/plain": [
       "6"
      ]
     },
     "execution_count": 79,
     "metadata": {},
     "output_type": "execute_result"
    }
   ],
   "source": [
    "y_sum"
   ]
  },
  {
   "cell_type": "code",
   "execution_count": 80,
   "metadata": {},
   "outputs": [],
   "source": [
    "def SA_qb_y(minP_cols):\n",
    "    # BINARY変数\n",
    "    y = Array.create('y', shape=num_samples, vartype='BINARY')\n",
    "\n",
    "    #QUBO式で定式化\n",
    "    H = (sum(y) - y_sum)**2\n",
    "\n",
    "    if len(minP_cols) > 0:\n",
    "        for i in minP_cols:\n",
    "            H_plus = (np.dot(X_mushroom[i], y) - np.dot(X_mushroom[i], y_mushroom))**2\n",
    "            H = H + H_plus\n",
    "\n",
    "    qb = H.compile().to_qubo()\n",
    "\n",
    "    sa_sampler = SimulatedAnnealingSampler()\n",
    "\n",
    "    res = sa_sampler.sample_qubo(qb[0], num_reads=100)\n",
    "    \n",
    "    return list(res.record)"
   ]
  },
  {
   "cell_type": "code",
   "execution_count": 81,
   "metadata": {},
   "outputs": [],
   "source": [
    "def SA_bqm_y(minP_cols):\n",
    "    # BINARY変数\n",
    "    y = Array.create('y', shape=num_samples, vartype='BINARY')\n",
    "    \n",
    "    #QUBO式で定式化\n",
    "    H = (sum(y) - y_sum)**2\n",
    "    \n",
    "    if len(minP_cols) > 0:\n",
    "        for i in minP_cols:\n",
    "            H_plus = (np.dot(X_mushroom[i], y) - np.dot(X_mushroom[i], y_mushroom))**2\n",
    "            H = H + H_plus\n",
    "    \n",
    "    bqm = H.compile().to_dimod_bqm()\n",
    "\n",
    "    sa_sampler = SimulatedAnnealingSampler()\n",
    "    \n",
    "    res = sa_sampler.sample(bqm, num_reads=100)\n",
    "\n",
    "    return list(res.record)"
   ]
  },
  {
   "cell_type": "code",
   "execution_count": 73,
   "metadata": {},
   "outputs": [
    {
     "name": "stdout",
     "output_type": "stream",
     "text": [
      "['A', 'B', 'C', 'D', 'E', 'F', 'G', 'H', 'I', 'J']\n"
     ]
    }
   ],
   "source": [
    "bqm_minP_cols = []\n",
    "servey_num_col_list = columns\n",
    "distri_element_num = 100\n",
    "\n",
    "while len(servey_num_col_list) > 0:    \n",
    "    p = {}\n",
    "    for i in servey_num_col_list:\n",
    "        ori_ti = int(np.dot(X_mushroom[i], y_mushroom)) #特徴量iを表すp\n",
    "        \n",
    "        ti_dic = {} #{内積の値:該当数}という辞書。\n",
    "        \n",
    "        res_record = SA_bqm_y(minP_cols)\n",
    "        for y_info in res_record:\n",
    "            y = pd.Series(y_info[0])\n",
    "            \n",
    "            if int(np.dot(X_mushroom[i], y)) in ti_dic.keys():\n",
    "                ti_dic[int(np.dot(X_mushroom[i], y))] += 1\n",
    "            else:\n",
    "                ti_dic[int(np.dot(X_mushroom[i], y))] = 1\n",
    "                \n",
    "        count_better_t = sum([v for k, v in ti_dic.items() if k >= ori_ti])\n",
    "        p[i] = count_better_t / distri_element_num\n",
    "\n",
    "        \n",
    "    bqm_minP_keys = [k for k, v in p.items() if v == min(list(p.values()))]\n",
    "    print(bqm_minP_keys)\n",
    "    bqm_minP_cols += bqm_minP_keys\n",
    "    servey_num_col_list = [i for i in servey_num_col_list if i not in bqm_minP_keys]"
   ]
  },
  {
   "cell_type": "code",
   "execution_count": 74,
   "metadata": {},
   "outputs": [
    {
     "data": {
      "text/plain": [
       "['A', 'B', 'C', 'D', 'E', 'F', 'G', 'H', 'I', 'J']"
      ]
     },
     "execution_count": 74,
     "metadata": {},
     "output_type": "execute_result"
    }
   ],
   "source": [
    "bqm_minP_cols #['A', 'B', 'C', 'D', 'E', 'F', 'G', 'H', 'I', 'J']"
   ]
  },
  {
   "cell_type": "code",
   "execution_count": 82,
   "metadata": {},
   "outputs": [
    {
     "name": "stdout",
     "output_type": "stream",
     "text": [
      "['A', 'B', 'C', 'D', 'E', 'F', 'G', 'H', 'I', 'J']\n"
     ]
    }
   ],
   "source": [
    "qb_minP_cols = []\n",
    "servey_num_col_list = columns\n",
    "distri_element_num = 100\n",
    "\n",
    "while len(servey_num_col_list) > 0:    \n",
    "    p = {}\n",
    "    for i in servey_num_col_list:\n",
    "        ori_ti = int(np.dot(X_mushroom[i], y_mushroom)) #特徴量iを表すp\n",
    "        \n",
    "        ti_dic = {} #{内積の値:該当数}という辞書。\n",
    "        \n",
    "        res_record = SA_qb_y(minP_cols)\n",
    "        for y_info in res_record:\n",
    "            y = pd.Series(y_info[0])\n",
    "            \n",
    "            if int(np.dot(X_mushroom[i], y)) in ti_dic.keys():\n",
    "                ti_dic[int(np.dot(X_mushroom[i], y))] += 1\n",
    "            else:\n",
    "                ti_dic[int(np.dot(X_mushroom[i], y))] = 1\n",
    "                \n",
    "        count_better_t = sum([v for k, v in ti_dic.items() if k >= ori_ti])\n",
    "        p[i] = count_better_t / distri_element_num\n",
    "\n",
    "        \n",
    "    qb_minP_keys = [k for k, v in p.items() if v == min(list(p.values()))]\n",
    "    print(bqm_minP_keys)\n",
    "    qb_minP_cols += qb_minP_keys\n",
    "    servey_num_col_list = [i for i in servey_num_col_list if i not in qb_minP_keys]"
   ]
  },
  {
   "cell_type": "code",
   "execution_count": 83,
   "metadata": {},
   "outputs": [
    {
     "data": {
      "text/plain": [
       "['A', 'B', 'C', 'D', 'E', 'F', 'G', 'H', 'I', 'J']"
      ]
     },
     "execution_count": 83,
     "metadata": {},
     "output_type": "execute_result"
    }
   ],
   "source": [
    "qb_minP_cols #['A', 'B', 'C', 'D', 'E', 'F', 'G', 'H', 'I', 'J']"
   ]
  },
  {
   "cell_type": "code",
   "execution_count": null,
   "metadata": {},
   "outputs": [],
   "source": []
  },
  {
   "cell_type": "code",
   "execution_count": null,
   "metadata": {},
   "outputs": [],
   "source": []
  },
  {
   "cell_type": "code",
   "execution_count": null,
   "metadata": {},
   "outputs": [],
   "source": []
  },
  {
   "cell_type": "code",
   "execution_count": null,
   "metadata": {},
   "outputs": [],
   "source": []
  },
  {
   "cell_type": "code",
   "execution_count": null,
   "metadata": {},
   "outputs": [],
   "source": [
    "'''\n",
    "minP_cols = []\n",
    "servey_num_col_list = columns\n",
    "\n",
    "while len(servey_num_col_list) > 0:    \n",
    "    p = {}\n",
    "    for i in servey_num_col_list:\n",
    "        ori_ti = int(np.dot(X_mushroom[i], y_mushroom)) #特徴量iを表すp\n",
    "        \n",
    "        ti_dic = {} #分布の要素となる値を格納する\n",
    "        for _ in range(100): \n",
    "            y = make_y(minP_cols)\n",
    "            \n",
    "            if int(np.dot(X_mushroom[i], y)) in ti_dic.keys():\n",
    "                ti_dic[int(np.dot(X_mushroom[i], y))] += 1\n",
    "            else:\n",
    "                ti_dic[int(np.dot(X_mushroom[i], y))] = 1\n",
    "                \n",
    "        bunshi = sum([ti_dic[ii] for ii in range(ori_ti, int(list(ti_dic.keys())[-1])+1)])\n",
    "        p[i] = bunshi/sum(list(ti_dic.values()))\n",
    "        \n",
    "    minP_keys = [k for k, v in p.items() if v == min(list(p.values()))]\n",
    "    minP_cols += minP_keys\n",
    "    servey_num_col_list = [i for i in servey_num_col_list if i not in minP_keys]\n",
    "    \n",
    "#minP_cols #['A', 'D', 'G', 'I', 'C', 'F', 'E', 'B', 'H', 'J']\n",
    "'''"
   ]
  },
  {
   "cell_type": "code",
   "execution_count": null,
   "metadata": {},
   "outputs": [],
   "source": [
    "'''\n",
    "if not ori_ti in ti_dic.keys():\n",
    "    ti_dic[ori_ti] = 1                        \n",
    "ti_list = sorted(ti_dic.items()) #listになり、要素はタプルになる。\n",
    "franc = sum([j[1] for j in ti_list if j[0] >= ori_ti])\n",
    "denomi = sum([j[1] for j in ti_list])\n",
    "p[i] = franc/denomi\n",
    "\n",
    "↓\n",
    "\n",
    "count_better_t = sum([v for k, v in ti_dic.items() if k >= ori_ti])\n",
    "p[i] = count_better_t / distri_element_num\n",
    "\n",
    "\n",
    "結果\n",
    "#minP_cols #['A', 'D', 'F', 'I', 'E', 'G', 'C', 'B', 'H', 'J']\n",
    "'''"
   ]
  },
  {
   "cell_type": "code",
   "execution_count": null,
   "metadata": {},
   "outputs": [],
   "source": [
    "'''\n",
    "def make_y(minP_cols):\n",
    "    # BINARY変数\n",
    "    y = Array.create('y', shape=num_samples, vartype='BINARY')\n",
    "    \n",
    "    #QUBO式で定式化\n",
    "    H = (sum(y) - y_sum)**2\n",
    "    \n",
    "    if len(minP_cols) > 0:\n",
    "        for i in minP_cols:\n",
    "            H_plus = (np.dot(X_mushroom[i], y) - np.dot(X_mushroom[i], y_mushroom))**2\n",
    "            H = H + H_plus\n",
    "    \n",
    "    bqm = H.compile().to_dimod_bqm()\n",
    "\n",
    "    sa_sampler = SimulatedAnnealingSampler()\n",
    "    \n",
    "    res = sa_sampler.sample(bqm, num_reads=100)\n",
    "\n",
    "    return list(res.record)\n",
    "    \n",
    "結果\n",
    "#minP_cols #['A', 'D', 'F', 'I', 'E', 'G', 'C', 'B', 'H', 'J']\n",
    "'''"
   ]
  }
 ],
 "metadata": {
  "kernelspec": {
   "display_name": "Python 3",
   "language": "python",
   "name": "python3"
  },
  "language_info": {
   "codemirror_mode": {
    "name": "ipython",
    "version": 3
   },
   "file_extension": ".py",
   "mimetype": "text/x-python",
   "name": "python",
   "nbconvert_exporter": "python",
   "pygments_lexer": "ipython3",
   "version": "3.6.9"
  }
 },
 "nbformat": 4,
 "nbformat_minor": 4
}
