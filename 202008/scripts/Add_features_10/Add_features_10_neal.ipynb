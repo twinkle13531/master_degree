{
 "cells": [
  {
   "cell_type": "markdown",
   "metadata": {},
   "source": [
    "### 方法\n",
    "```\n",
    "while 調べるべき特徴量がある限り :\n",
    "    for 調べる特徴量 in 調べる特徴量の数 :\n",
    "        ある特徴量ベクトルxiと元のy(y^)の内積を求める(t^i)\n",
    "        for 100程度 :\n",
    "            y^を、{t0 = t^0かつt1 = t^1...tj = t^j}という条件の元サンプリング（nealを使う）しyを生成する。\n",
    "            ある特徴量ベクトルxiとyの内積を求める(ti)\n",
    "        複数のtiを求めることによって得られた分布に対するt^iの位置から、p値を求める。\n",
    "    p値の一番小さいXsを知る。\n",
    "    条件{}にts = t^sを足す（更新する）\n",
    "    調べる特徴量からXsを除外（更新する）\n",
    "```\n",
    "\n",
    "### 条件について\n",
    "- t0 = t^0 : 1の総和が同じ\n",
    "- tj = t^j : xの特徴量jつ目とyの内積の値が同じ\n",
    "\n",
    "\n",
    "### yのサンプリング\n",
    "- コンパイルを行うまでは`pyqubo`\n",
    "- SAは`SimulatedAnnealingSampler()`\n",
    "\n",
    "### 改訂(08/03)\n",
    "- ori_tiのkeyがなかった場合に1とする必要がない\n",
    "- sum([j[1] for j in ti_list])は必ず100である"
   ]
  },
  {
   "cell_type": "code",
   "execution_count": 17,
   "metadata": {},
   "outputs": [],
   "source": [
    "#!pip3 install dwave-neal"
   ]
  },
  {
   "cell_type": "code",
   "execution_count": 18,
   "metadata": {},
   "outputs": [],
   "source": [
    "import pandas as pd \n",
    "import numpy as np\n",
    "from neal import SimulatedAnnealingSampler\n",
    "from pyqubo import Array, Constraint, Placeholder, solve_qubo"
   ]
  },
  {
   "cell_type": "code",
   "execution_count": 19,
   "metadata": {},
   "outputs": [],
   "source": [
    "X_mushroom = pd.read_csv(\"../../input/SNP_df1010.csv\", sep=',', index_col=0)\n",
    "y_mushroom = pd.read_csv('../../input/y10.csv', sep=',', index_col=0, dtype=np.float64)['y']\n",
    "\n",
    "num_samples = X_mushroom.shape[0]\n",
    "num_cols = X_mushroom.shape[1]\n",
    "columns = list(X_mushroom.columns)\n",
    "\n",
    "y_sum = sum(y_mushroom)"
   ]
  },
  {
   "cell_type": "code",
   "execution_count": 20,
   "metadata": {},
   "outputs": [
    {
     "data": {
      "text/plain": [
       "10"
      ]
     },
     "execution_count": 20,
     "metadata": {},
     "output_type": "execute_result"
    }
   ],
   "source": [
    "num_samples"
   ]
  },
  {
   "cell_type": "code",
   "execution_count": 21,
   "metadata": {},
   "outputs": [
    {
     "data": {
      "text/plain": [
       "6.0"
      ]
     },
     "execution_count": 21,
     "metadata": {},
     "output_type": "execute_result"
    }
   ],
   "source": [
    "y_sum"
   ]
  },
  {
   "cell_type": "code",
   "execution_count": 22,
   "metadata": {},
   "outputs": [],
   "source": [
    "def make_y(minP_cols):\n",
    "    # BINARY変数\n",
    "    y = Array.create('y', shape=num_samples, vartype='BINARY')\n",
    "    \n",
    "    #QUBO式で定式化\n",
    "    H = (sum(y) - y_sum)**2\n",
    "    \n",
    "    if len(minP_cols) > 0:\n",
    "        for i in minP_cols:\n",
    "            H_plus = (np.dot(X_mushroom[i], y) - np.dot(X_mushroom[i], y_mushroom))**2\n",
    "            H = H + H_plus\n",
    "    \n",
    "    bqm = H.compile().to_dimod_bqm()\n",
    "\n",
    "    sa_sampler = SimulatedAnnealingSampler()\n",
    "\n",
    "    res = sa_sampler.sample(bqm)\n",
    "\n",
    "    return pd.Series(list(list(res.record)[0][0]))"
   ]
  },
  {
   "cell_type": "code",
   "execution_count": 23,
   "metadata": {},
   "outputs": [],
   "source": [
    "minP_cols = []\n",
    "servey_num_col_list = columns\n",
    "distri_element_num = 100\n",
    "\n",
    "while len(servey_num_col_list) > 0:    \n",
    "    p = {}\n",
    "    for i in servey_num_col_list:\n",
    "        ori_ti = int(np.dot(X_mushroom[i], y_mushroom)) #特徴量iを表すp\n",
    "        \n",
    "        ti_dic = {} #{内積の値:該当数}という辞書。\n",
    "        \n",
    "        for _ in range(distri_element_num): \n",
    "            y = make_y(minP_cols)\n",
    "            \n",
    "            if int(np.dot(X_mushroom[i], y)) in ti_dic.keys():\n",
    "                ti_dic[int(np.dot(X_mushroom[i], y))] += 1\n",
    "            else:\n",
    "                ti_dic[int(np.dot(X_mushroom[i], y))] = 1\n",
    "                \n",
    "        count_better_t = sum([v for k, v in ti_dic.items() if k >= ori_ti])\n",
    "        p[i] = count_better_t / distri_element_num\n",
    "\n",
    "        \n",
    "    minP_keys = [k for k, v in p.items() if v == min(list(p.values()))]\n",
    "    minP_cols += minP_keys\n",
    "    servey_num_col_list = [i for i in servey_num_col_list if i not in minP_keys]"
   ]
  },
  {
   "cell_type": "code",
   "execution_count": 24,
   "metadata": {},
   "outputs": [
    {
     "data": {
      "text/plain": [
       "['A', 'D', 'F', 'G', 'I', 'E', 'C', 'B', 'H', 'J']"
      ]
     },
     "execution_count": 24,
     "metadata": {},
     "output_type": "execute_result"
    }
   ],
   "source": [
    "minP_cols #['A', 'D', 'F', 'I', 'E', 'G', 'C', 'B', 'H', 'J']"
   ]
  },
  {
   "cell_type": "code",
   "execution_count": null,
   "metadata": {},
   "outputs": [],
   "source": []
  },
  {
   "cell_type": "code",
   "execution_count": null,
   "metadata": {},
   "outputs": [],
   "source": [
    "'''\n",
    "minP_cols = []\n",
    "servey_num_col_list = columns\n",
    "\n",
    "while len(servey_num_col_list) > 0:    \n",
    "    p = {}\n",
    "    for i in servey_num_col_list:\n",
    "        ori_ti = int(np.dot(X_mushroom[i], y_mushroom)) #特徴量iを表すp\n",
    "        \n",
    "        ti_dic = {} #分布の要素となる値を格納する\n",
    "        for _ in range(100): \n",
    "            y = make_y(minP_cols)\n",
    "            \n",
    "            if int(np.dot(X_mushroom[i], y)) in ti_dic.keys():\n",
    "                ti_dic[int(np.dot(X_mushroom[i], y))] += 1\n",
    "            else:\n",
    "                ti_dic[int(np.dot(X_mushroom[i], y))] = 1\n",
    "                \n",
    "        bunshi = sum([ti_dic[ii] for ii in range(ori_ti, int(list(ti_dic.keys())[-1])+1)])\n",
    "        p[i] = bunshi/sum(list(ti_dic.values()))\n",
    "        \n",
    "    minP_keys = [k for k, v in p.items() if v == min(list(p.values()))]\n",
    "    minP_cols += minP_keys\n",
    "    servey_num_col_list = [i for i in servey_num_col_list if i not in minP_keys]\n",
    "    \n",
    "#minP_cols #['A', 'D', 'G', 'I', 'C', 'F', 'E', 'B', 'H', 'J']\n",
    "'''"
   ]
  },
  {
   "cell_type": "code",
   "execution_count": null,
   "metadata": {},
   "outputs": [],
   "source": [
    "'''\n",
    "if not ori_ti in ti_dic.keys():\n",
    "    ti_dic[ori_ti] = 1                        \n",
    "ti_list = sorted(ti_dic.items()) #listになり、要素はタプルになる。\n",
    "franc = sum([j[1] for j in ti_list if j[0] >= ori_ti])\n",
    "denomi = sum([j[1] for j in ti_list])\n",
    "p[i] = franc/denomi\n",
    "\n",
    "↓\n",
    "\n",
    "count_better_t = sum([v for k, v in ti_dic.items() if k >= ori_ti])\n",
    "p[i] = count_better_t / distri_element_num\n",
    "\n",
    "\n",
    "結果\n",
    "#minP_cols #['A', 'D', 'F', 'I', 'E', 'G', 'C', 'B', 'H', 'J']\n",
    "'''"
   ]
  }
 ],
 "metadata": {
  "kernelspec": {
   "display_name": "Python 3",
   "language": "python",
   "name": "python3"
  },
  "language_info": {
   "codemirror_mode": {
    "name": "ipython",
    "version": 3
   },
   "file_extension": ".py",
   "mimetype": "text/x-python",
   "name": "python",
   "nbconvert_exporter": "python",
   "pygments_lexer": "ipython3",
   "version": "3.6.9"
  }
 },
 "nbformat": 4,
 "nbformat_minor": 4
}
