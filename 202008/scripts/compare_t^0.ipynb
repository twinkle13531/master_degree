{
 "cells": [
  {
   "cell_type": "markdown",
   "metadata": {},
   "source": [
    "### 08/04まとめ\n",
    "- （p値が同じかどうか（必要ない、サンプルが異なるから））\n",
    "- 選択される特徴量が同じかどうか（ランキングを付けた際に同じ特徴量が選ばれているか）\n",
    "- サンプル数...to_qubo10_p, to_bqm10_p:100で、enu10_pは210\n",
    "\n",
    "### 結果\n",
    "- 最小のpを持つ特徴量は3つの手法どれでも同じだった。\n",
    "- 各p値やA以外のp値の順番は異なることもあった"
   ]
  },
  {
   "cell_type": "code",
   "execution_count": 9,
   "metadata": {},
   "outputs": [],
   "source": [
    "import pandas as pd \n",
    "import numpy as np"
   ]
  },
  {
   "cell_type": "code",
   "execution_count": 10,
   "metadata": {},
   "outputs": [],
   "source": [
    "%matplotlib inline\n",
    "import matplotlib.pyplot as plt"
   ]
  },
  {
   "cell_type": "code",
   "execution_count": 11,
   "metadata": {},
   "outputs": [],
   "source": [
    "#比較対象\n",
    "enu10_p = pd.read_csv(\"../output/10bit/enu10_p.csv\", sep=',', index_col=0)\n",
    "enul_p = pd.read_csv(\"../output/mushrooml/enul_p.csv\", sep=',', index_col=0)"
   ]
  },
  {
   "cell_type": "code",
   "execution_count": 12,
   "metadata": {},
   "outputs": [
    {
     "data": {
      "text/html": [
       "<div>\n",
       "<style scoped>\n",
       "    .dataframe tbody tr th:only-of-type {\n",
       "        vertical-align: middle;\n",
       "    }\n",
       "\n",
       "    .dataframe tbody tr th {\n",
       "        vertical-align: top;\n",
       "    }\n",
       "\n",
       "    .dataframe thead th {\n",
       "        text-align: right;\n",
       "    }\n",
       "</style>\n",
       "<table border=\"1\" class=\"dataframe\">\n",
       "  <thead>\n",
       "    <tr style=\"text-align: right;\">\n",
       "      <th></th>\n",
       "      <th>0</th>\n",
       "      <th>1</th>\n",
       "      <th>2</th>\n",
       "      <th>3</th>\n",
       "      <th>4</th>\n",
       "      <th>5</th>\n",
       "      <th>6</th>\n",
       "      <th>7</th>\n",
       "      <th>8</th>\n",
       "      <th>9</th>\n",
       "      <th>...</th>\n",
       "      <th>109</th>\n",
       "      <th>110</th>\n",
       "      <th>111</th>\n",
       "      <th>112</th>\n",
       "      <th>113</th>\n",
       "      <th>114</th>\n",
       "      <th>115</th>\n",
       "      <th>116</th>\n",
       "      <th>117</th>\n",
       "      <th>118</th>\n",
       "    </tr>\n",
       "  </thead>\n",
       "  <tbody>\n",
       "    <tr>\n",
       "      <th>0</th>\n",
       "      <td>1.0</td>\n",
       "      <td>0.001786</td>\n",
       "      <td>0.785714</td>\n",
       "      <td>1.0</td>\n",
       "      <td>1.0</td>\n",
       "      <td>0.607143</td>\n",
       "      <td>0.35</td>\n",
       "      <td>1.0</td>\n",
       "      <td>0.9</td>\n",
       "      <td>0.785714</td>\n",
       "      <td>...</td>\n",
       "      <td>1.0</td>\n",
       "      <td>0.9</td>\n",
       "      <td>1.0</td>\n",
       "      <td>0.785714</td>\n",
       "      <td>0.35</td>\n",
       "      <td>1.0</td>\n",
       "      <td>1.0</td>\n",
       "      <td>1.0</td>\n",
       "      <td>1.0</td>\n",
       "      <td>0.1875</td>\n",
       "    </tr>\n",
       "  </tbody>\n",
       "</table>\n",
       "<p>1 rows × 119 columns</p>\n",
       "</div>"
      ],
      "text/plain": [
       "     0         1         2    3    4         5     6    7    8         9  ...  \\\n",
       "0  1.0  0.001786  0.785714  1.0  1.0  0.607143  0.35  1.0  0.9  0.785714  ...   \n",
       "\n",
       "   109  110  111       112   113  114  115  116  117     118  \n",
       "0  1.0  0.9  1.0  0.785714  0.35  1.0  1.0  1.0  1.0  0.1875  \n",
       "\n",
       "[1 rows x 119 columns]"
      ]
     },
     "execution_count": 12,
     "metadata": {},
     "output_type": "execute_result"
    }
   ],
   "source": [
    "enul_p"
   ]
  },
  {
   "cell_type": "code",
   "execution_count": 13,
   "metadata": {},
   "outputs": [
    {
     "data": {
      "text/plain": [
       "0    0.001786\n",
       "dtype: float64"
      ]
     },
     "execution_count": 13,
     "metadata": {},
     "output_type": "execute_result"
    }
   ],
   "source": [
    "enul_p.min(axis=1) #'1'というcolumnが最小値を示している"
   ]
  },
  {
   "cell_type": "code",
   "execution_count": 14,
   "metadata": {},
   "outputs": [
    {
     "data": {
      "text/plain": [
       "Index(['0', '1', '2', '3', '4', '5', '6', '7', '8', '9',\n",
       "       ...\n",
       "       '109', '110', '111', '112', '113', '114', '115', '116', '117', '118'],\n",
       "      dtype='object', length=119)"
      ]
     },
     "execution_count": 14,
     "metadata": {},
     "output_type": "execute_result"
    }
   ],
   "source": [
    "enul_p.columns"
   ]
  },
  {
   "cell_type": "markdown",
   "metadata": {},
   "source": [
    "## 各試行10回ずつ"
   ]
  },
  {
   "cell_type": "code",
   "execution_count": 18,
   "metadata": {},
   "outputs": [],
   "source": [
    "#X軸\n",
    "numreads_10 = np.logspace(1, 3, num=3, base=10, dtype=int)\n",
    "numreads_5 = [ll*100 for ll in range(1, 21) if ll%5==0 or ll==1]"
   ]
  },
  {
   "cell_type": "markdown",
   "metadata": {},
   "source": [
    "### 16bit, using mushroom dataset"
   ]
  },
  {
   "cell_type": "code",
   "execution_count": 19,
   "metadata": {},
   "outputs": [],
   "source": [
    "#10回分\n",
    "to_qubol_samples_p_10time = {}\n",
    "to_qubol_samples_p_10time['10'] = pd.read_csv(\"../output/mushrooml/to_qubol_10samples_p_10time.csv\", sep=',', index_col=0)\n",
    "to_qubol_samples_p_10time['100'] = pd.read_csv(\"../output/mushrooml/to_qubol_100samples_p_10time.csv\", sep=',', index_col=0)\n",
    "to_qubol_samples_p_10time['500'] = pd.read_csv(\"../output/mushrooml/to_qubol_500samples_p_10time.csv\", sep=',', index_col=0)\n",
    "to_qubol_samples_p_10time['1000'] = pd.read_csv(\"../output/mushrooml/to_qubol_1000samples_p_10time.csv\", sep=',', index_col=0)\n",
    "to_qubol_samples_p_10time['1500'] = pd.read_csv(\"../output/mushrooml/to_qubol_1500samples_p_10time.csv\", sep=',', index_col=0)\n",
    "to_qubol_samples_p_10time['2000'] = pd.read_csv(\"../output/mushrooml/to_qubol_2000samples_p_10time.csv\", sep=',', index_col=0)\n",
    "to_qubol_samples_p_10time['10000'] = pd.read_csv(\"../output/mushrooml/to_qubol_10000samples_p_10time.csv\", sep=',', index_col=0)"
   ]
  },
  {
   "cell_type": "code",
   "execution_count": 20,
   "metadata": {},
   "outputs": [
    {
     "name": "stdout",
     "output_type": "stream",
     "text": [
      "[0.0, 0.003, 0.0015]\n"
     ]
    },
    {
     "data": {
      "text/plain": [
       "Text(0, 0.5, 'p value mean of 1 ')"
      ]
     },
     "execution_count": 20,
     "metadata": {},
     "output_type": "execute_result"
    },
    {
     "data": {
      "image/png": "[encoded data removed]",
      "text/plain": [
       "<Figure size 432x288 with 1 Axes>"
      ]
     },
     "metadata": {
      "needs_background": "light"
     },
     "output_type": "display_data"
    }
   ],
   "source": [
    "#y軸\n",
    "qubol_10times_lg_mean_list = []\n",
    "qubol_10times_lg_mean_list.append(to_qubol_samples_p_10time['10']['1'].mean())\n",
    "qubol_10times_lg_mean_list.append(to_qubol_samples_p_10time['100']['1'].mean())\n",
    "qubol_10times_lg_mean_list.append(to_qubol_samples_p_10time['1000']['1'].mean())\n",
    "#qubol_10times_lg_mean_list.append(to_qubol_samples_p_10time['10000']['1'].mean())\n",
    "print(qubol_10times_lg_mean_list)\n",
    "\n",
    "plt.plot(numreads_10, qubol_10times_lg_mean_list)\n",
    "plt.plot(numreads_10, [enul_p['1']]*3)\n",
    "\n",
    "ax = plt.gca()\n",
    "ax.set_xscale('log')\n",
    "\n",
    "plt.title('P value Transition of 1 using 16bit mushroom datasets')\n",
    "plt.xlabel('sample numbers')\n",
    "plt.ylabel('p value mean of 1 ')"
   ]
  },
  {
   "cell_type": "code",
   "execution_count": 21,
   "metadata": {},
   "outputs": [
    {
     "data": {
      "text/plain": [
       "dict_values([1, 0, 0, 1, 1, 0, 0, 1, 0, 0, 1, 1, 1, 0, 0, 1, 1, 1, 1, 1, 0, 0, 1, 1, 1, 1, 1, 0, 1, 1, 1, 1, 1, 1, 1, 1, 1, 0, 1, 1, 1, 0, 1, 1, 0, 0, 1, 1, 1, 1, 1, 1, 0, 0, 0, 1, 0, 1, 1, 1, 0, 1, 1, 1, 0, 0, 1, 1, 1, 0, 1, 1, 1, 1, 0, 1, 1, 1, 0, 1, 1, 1, 1, 1, 1, 1, 1, 0, 0, 1, 0, 1, 1, 1, 0, 1, 1, 1, 1, 0, 1, 1, 1, 1, 0, 1, 0, 0, 1, 1, 0, 1, 0, 0, 1, 1, 1, 1, 0])"
      ]
     },
     "execution_count": 21,
     "metadata": {},
     "output_type": "execute_result"
    }
   ],
   "source": [
    "same_value_count = []\n",
    "for sample_df in to_qubol_samples_p_10time.values(): #sample数ごと\n",
    "    dic = {}\n",
    "    same_value_count.append(dic)\n",
    "    for col in enul_p.columns: #columnごと\n",
    "        dic[col] = 0\n",
    "        if (sample_df[col].mean()==enul_p[col]).all() == True:\n",
    "            dic[col] += 1 \n",
    "same_value_count[0].values() #0"
   ]
  },
  {
   "cell_type": "code",
   "execution_count": 22,
   "metadata": {},
   "outputs": [
    {
     "data": {
      "text/plain": [
       "dict_values([0, 0, 0, 0, 0, 0, 0, 0, 0, 0, 0, 0, 0, 0, 0, 0, 0, 0, 0, 0, 0, 0, 0, 0, 0, 0, 0, 0, 0, 0, 0, 0, 0, 0, 0, 0, 0, 0, 0, 0, 0, 0, 0, 0, 0, 0, 0, 0, 0, 0, 0, 0, 0, 0, 0, 0, 0, 0, 0, 0, 0, 0, 0, 0, 0, 0, 0, 0, 0, 0, 0, 0, 0, 0, 0, 0, 0, 0, 0, 0, 0, 0, 0, 0, 0, 0, 0, 0, 0, 0, 0, 0, 0, 0, 0, 0, 0, 0, 0, 0, 0, 0, 0, 0, 0, 0, 0, 0, 0, 0, 0, 0, 0, 0, 0, 0, 0, 0, 0])"
      ]
     },
     "execution_count": 22,
     "metadata": {},
     "output_type": "execute_result"
    }
   ],
   "source": [
    "same_value_count = []\n",
    "for sample_df in to_qubol_samples_p_10time.values(): #sample数ごと\n",
    "    dic = {}\n",
    "    same_value_count.append(dic)\n",
    "    for col in enul_p.columns: #columnごと\n",
    "        dic[col] = 0\n",
    "        for i in [int(i) for i in range(10)]: #回数分\n",
    "            if (sample_df[col][i]==enul_p[col]).all== True:\n",
    "                dic[col] += 1\n",
    "                continue\n",
    "same_value_count[0].values() #平均でなくて各変数そのままを用いて比較しても全く同じ値というのは表れなかった。"
   ]
  },
  {
   "cell_type": "code",
   "execution_count": null,
   "metadata": {},
   "outputs": [],
   "source": []
  },
  {
   "cell_type": "code",
   "execution_count": 23,
   "metadata": {},
   "outputs": [
    {
     "data": {
      "text/plain": [
       "Text(0, 0.5, 'p value variance of 1 ')"
      ]
     },
     "execution_count": 23,
     "metadata": {},
     "output_type": "execute_result"
    },
    {
     "data": {
      "image/png": "[encoded data removed]",
      "text/plain": [
       "<Figure size 432x288 with 1 Axes>"
      ]
     },
     "metadata": {
      "needs_background": "light"
     },
     "output_type": "display_data"
    }
   ],
   "source": [
    "#y軸\n",
    "qubol_10times_lg_var_list = []\n",
    "qubol_10times_lg_var_list.append(to_qubol_samples_p_10time['10']['1'].var())\n",
    "qubol_10times_lg_var_list.append(to_qubol_samples_p_10time['100']['1'].var())\n",
    "qubol_10times_lg_var_list.append(to_qubol_samples_p_10time['1000']['1'].var())\n",
    "#qubol_10times_lg_var_list.append(to_qubol_samples_p_10time['10000']['1'].var())\n",
    "\n",
    "plt.plot(numreads_10, qubol_10times_lg_var_list)\n",
    "plt.plot(numreads_10, [0]*3)\n",
    "\n",
    "ax = plt.gca()\n",
    "ax.set_xscale('log')\n",
    "\n",
    "plt.title('P value Transition of 1 using 16bit mushroom datasets')\n",
    "plt.xlabel('sample numbers')\n",
    "plt.ylabel('p value variance of 1 ')"
   ]
  },
  {
   "cell_type": "code",
   "execution_count": 24,
   "metadata": {},
   "outputs": [
    {
     "name": "stdout",
     "output_type": "stream",
     "text": [
      "[0.003, 0.0016, 0.0015, 0.0012666666666666666, 0.0018000000000000002]\n"
     ]
    },
    {
     "data": {
      "text/plain": [
       "Text(0, 0.5, 'p value mean of 1 ')"
      ]
     },
     "execution_count": 24,
     "metadata": {},
     "output_type": "execute_result"
    },
    {
     "data": {
      "image/png": "[encoded data removed]",
      "text/plain": [
       "<Figure size 432x288 with 1 Axes>"
      ]
     },
     "metadata": {
      "needs_background": "light"
     },
     "output_type": "display_data"
    }
   ],
   "source": [
    "#y軸\n",
    "qubol_10times_5_mean_list = []\n",
    "qubol_10times_5_mean_list.append(to_qubol_samples_p_10time['100']['1'].mean())\n",
    "qubol_10times_5_mean_list.append(to_qubol_samples_p_10time['500']['1'].mean())\n",
    "qubol_10times_5_mean_list.append(to_qubol_samples_p_10time['1000']['1'].mean())\n",
    "qubol_10times_5_mean_list.append(to_qubol_samples_p_10time['1500']['1'].mean())\n",
    "qubol_10times_5_mean_list.append(to_qubol_samples_p_10time['2000']['1'].mean())\n",
    "print(qubol_10times_5_mean_list)\n",
    "\n",
    "plt.plot(numreads_5, qubol_10times_5_mean_list)\n",
    "plt.plot(numreads_5, [enul_p['1']]*5)\n",
    "\n",
    "plt.title('P value Transition of 1 using 16bit mushroom datasets')\n",
    "plt.xlabel('sample numbers')\n",
    "plt.ylabel('p value mean of 1 ')"
   ]
  },
  {
   "cell_type": "code",
   "execution_count": 25,
   "metadata": {},
   "outputs": [
    {
     "data": {
      "text/plain": [
       "Text(0, 0.5, 'p value variance of 1 ')"
      ]
     },
     "execution_count": 25,
     "metadata": {},
     "output_type": "execute_result"
    },
    {
     "data": {
      "image/png": "[encoded data removed]",
      "text/plain": [
       "<Figure size 432x288 with 1 Axes>"
      ]
     },
     "metadata": {
      "needs_background": "light"
     },
     "output_type": "display_data"
    }
   ],
   "source": [
    "#y軸\n",
    "qubol_10times_5_var_list = []\n",
    "qubol_10times_5_var_list.append(to_qubol_samples_p_10time['100']['1'].var())\n",
    "qubol_10times_5_var_list.append(to_qubol_samples_p_10time['500']['1'].var())\n",
    "qubol_10times_5_var_list.append(to_qubol_samples_p_10time['1000']['1'].var())\n",
    "qubol_10times_5_var_list.append(to_qubol_samples_p_10time['1500']['1'].var())\n",
    "qubol_10times_5_var_list.append(to_qubol_samples_p_10time['2000']['1'].var())\n",
    "\n",
    "plt.plot(numreads_5, qubol_10times_5_var_list)\n",
    "plt.plot(numreads_5, [0]*5)\n",
    "\n",
    "plt.title('P value Transition of 1 using 16bit mushroom datasets')\n",
    "plt.xlabel('sample numbers')\n",
    "plt.ylabel('p value variance of 1 ')"
   ]
  },
  {
   "cell_type": "markdown",
   "metadata": {},
   "source": [
    "### 10bit, using original datasets"
   ]
  },
  {
   "cell_type": "code",
   "execution_count": 52,
   "metadata": {},
   "outputs": [],
   "source": [
    "#10回分\n",
    "to_qubo10_10samples_p_10time = pd.read_csv(\"../output/10bit/to_qubo10_10samples_p_10time.csv\", sep=',', index_col=0)\n",
    "to_qubo10_100samples_p_10time = pd.read_csv(\"../output/10bit/to_qubo10_100samples_p_10time.csv\", sep=',', index_col=0)\n",
    "to_qubo10_500samples_p_10time = pd.read_csv(\"../output/10bit/to_qubo10_500samples_p_10time.csv\", sep=',', index_col=0)\n",
    "to_qubo10_1000samples_p_10time = pd.read_csv(\"../output/10bit/to_qubo10_1000samples_p_10time.csv\", sep=',', index_col=0)\n",
    "to_qubo10_1500samples_p_10time = pd.read_csv(\"../output/10bit/to_qubo10_1500samples_p_10time.csv\", sep=',', index_col=0)\n",
    "to_qubo10_2000samples_p_10time = pd.read_csv(\"../output/10bit/to_qubo10_2000samples_p_10time.csv\", sep=',', index_col=0)\n",
    "to_qubo10_10000samples_p_10time = pd.read_csv(\"../output/10bit/to_qubo10_10000samples_p_10time.csv\", sep=',', index_col=0)"
   ]
  },
  {
   "cell_type": "code",
   "execution_count": 53,
   "metadata": {},
   "outputs": [
    {
     "data": {
      "text/plain": [
       "Text(0, 0.5, 'p value mean of A ')"
      ]
     },
     "execution_count": 53,
     "metadata": {},
     "output_type": "execute_result"
    },
    {
     "data": {
      "image/png": "[encoded data removed]",
      "text/plain": [
       "<Figure size 432x288 with 1 Axes>"
      ]
     },
     "metadata": {
      "needs_background": "light"
     },
     "output_type": "display_data"
    }
   ],
   "source": [
    "#y軸\n",
    "A_qubo_10times_lg_mean_list = []\n",
    "A_qubo_10times_lg_mean_list.append(to_qubo10_10samples_p_10time['A'].mean())\n",
    "A_qubo_10times_lg_mean_list.append(to_qubo10_100samples_p_10time['A'].mean())\n",
    "A_qubo_10times_lg_mean_list.append(to_qubo10_1000samples_p_10time['A'].mean())\n",
    "A_qubo_10times_lg_mean_list.append(to_qubo10_10000samples_p_10time['A'].mean())\n",
    "\n",
    "plt.plot(numreads_10, A_qubo_10times_lg_mean_list)\n",
    "plt.plot(numreads_10, [enu10_p['A']]*4)\n",
    "\n",
    "ax = plt.gca()\n",
    "ax.set_xscale('log')\n",
    "\n",
    "plt.title('P value Transition of A')\n",
    "plt.xlabel('sample numbers')\n",
    "plt.ylabel('p value mean of A ')"
   ]
  },
  {
   "cell_type": "code",
   "execution_count": 54,
   "metadata": {},
   "outputs": [
    {
     "data": {
      "text/plain": [
       "Text(0, 0.5, 'p value variance of A ')"
      ]
     },
     "execution_count": 54,
     "metadata": {},
     "output_type": "execute_result"
    },
    {
     "data": {
      "image/png": "[encoded data removed]",
      "text/plain": [
       "<Figure size 432x288 with 1 Axes>"
      ]
     },
     "metadata": {
      "needs_background": "light"
     },
     "output_type": "display_data"
    }
   ],
   "source": [
    "#y軸\n",
    "A_qubo_10times_lg_var_list = []\n",
    "A_qubo_10times_lg_var_list.append(to_qubo10_10samples_p_10time['A'].var())\n",
    "A_qubo_10times_lg_var_list.append(to_qubo10_100samples_p_10time['A'].var())\n",
    "A_qubo_10times_lg_var_list.append(to_qubo10_1000samples_p_10time['A'].var())\n",
    "A_qubo_10times_lg_var_list.append(to_qubo10_10000samples_p_10time['A'].var())\n",
    "\n",
    "plt.plot(numreads_10, A_qubo_10times_lg_var_list)\n",
    "plt.plot(numreads_10, [0]*4)\n",
    "\n",
    "ax = plt.gca()\n",
    "ax.set_xscale('log')\n",
    "\n",
    "plt.title('P value Transition of A')\n",
    "plt.xlabel('sample numbers')\n",
    "plt.ylabel('p value variance of A ')"
   ]
  },
  {
   "cell_type": "markdown",
   "metadata": {},
   "source": [
    "---------------------------------------------"
   ]
  },
  {
   "cell_type": "code",
   "execution_count": 55,
   "metadata": {},
   "outputs": [
    {
     "data": {
      "text/plain": [
       "Text(0, 0.5, 'p value mean of A ')"
      ]
     },
     "execution_count": 55,
     "metadata": {},
     "output_type": "execute_result"
    },
    {
     "data": {
      "image/png": "[encoded data removed]",
      "text/plain": [
       "<Figure size 432x288 with 1 Axes>"
      ]
     },
     "metadata": {
      "needs_background": "light"
     },
     "output_type": "display_data"
    }
   ],
   "source": [
    "#y軸\n",
    "A_qubo_10times_5_mean_list = []\n",
    "A_qubo_10times_5_mean_list.append(to_qubo10_100samples_p_10time['A'].mean())\n",
    "A_qubo_10times_5_mean_list.append(to_qubo10_500samples_p_10time['A'].mean())\n",
    "A_qubo_10times_5_mean_list.append(to_qubo10_1000samples_p_10time['A'].mean())\n",
    "A_qubo_10times_5_mean_list.append(to_qubo10_1500samples_p_10time['A'].mean())\n",
    "A_qubo_10times_5_mean_list.append(to_qubo10_2000samples_p_10time['A'].mean())\n",
    "\n",
    "plt.plot(numreads_5, A_qubo_10times_5_mean_list)\n",
    "plt.plot(numreads_5, [enu10_p['A']]*5)\n",
    "\n",
    "plt.title('P value Transition of A')\n",
    "plt.xlabel('sample numbers')\n",
    "plt.ylabel('p value mean of A ')"
   ]
  },
  {
   "cell_type": "code",
   "execution_count": 56,
   "metadata": {},
   "outputs": [
    {
     "data": {
      "text/plain": [
       "Text(0, 0.5, 'p value variance of A ')"
      ]
     },
     "execution_count": 56,
     "metadata": {},
     "output_type": "execute_result"
    },
    {
     "data": {
      "image/png": "[encoded data removed]",
      "text/plain": [
       "<Figure size 432x288 with 1 Axes>"
      ]
     },
     "metadata": {
      "needs_background": "light"
     },
     "output_type": "display_data"
    }
   ],
   "source": [
    "#y軸\n",
    "A_qubo_10times_5_var_list = []\n",
    "A_qubo_10times_5_var_list.append(to_qubo10_100samples_p_10time['A'].var())\n",
    "A_qubo_10times_5_var_list.append(to_qubo10_500samples_p_10time['A'].var())\n",
    "A_qubo_10times_5_var_list.append(to_qubo10_1500samples_p_10time['A'].var())\n",
    "A_qubo_10times_5_var_list.append(to_qubo10_2000samples_p_10time['A'].var())\n",
    "\n",
    "plt.plot(numreads_10, A_qubo_10times_5_var_list)\n",
    "plt.plot(numreads_10, [0]*4)\n",
    "\n",
    "plt.title('P value Transition of A')\n",
    "plt.xlabel('sample numbers')\n",
    "plt.ylabel('p value variance of A ')"
   ]
  },
  {
   "cell_type": "markdown",
   "metadata": {},
   "source": [
    "## 各試行1回ずつ"
   ]
  },
  {
   "cell_type": "code",
   "execution_count": 2,
   "metadata": {},
   "outputs": [],
   "source": [
    "#100\n",
    "to_qubo10_100samples_p = pd.read_csv(\"../output/to_qubo10_100samples_p.csv\", sep=',', index_col=0)\n",
    "to_bqm10_100samples_p = pd.read_csv(\"../output/to_bqm10_100samples_p.csv\", sep=',', index_col=0)\n",
    "\n",
    "#200\n",
    "to_qubo10_200samples_p = pd.read_csv(\"../output/to_qubo10_200samples_p.csv\", sep=',', index_col=0)\n",
    "to_bqm10_200samples_p = pd.read_csv(\"../output/to_bqm10_200samples_p.csv\", sep=',', index_col=0)\n",
    "\n",
    "#210\n",
    "enu10_p = pd.read_csv(\"../output/enu10_p.csv\", sep=',', index_col=0)\n",
    "to_qubo10_210samples_p = pd.read_csv(\"../output/to_qubo10_210samples_p.csv\", sep=',', index_col=0)\n",
    "to_bqm10_210samples_p = pd.read_csv(\"../output/to_bqm10_210samples_p.csv\", sep=',', index_col=0)\n",
    "\n",
    "#300\n",
    "to_qubo10_300samples_p = pd.read_csv(\"../output/to_qubo10_300samples_p.csv\", sep=',', index_col=0)\n",
    "to_bqm10_300samples_p = pd.read_csv(\"../output/to_bqm10_300samples_p.csv\", sep=',', index_col=0)\n",
    "\n",
    "#400\n",
    "to_qubo10_400samples_p = pd.read_csv(\"../output/to_qubo10_400samples_p.csv\", sep=',', index_col=0)\n",
    "to_bqm10_400samples_p = pd.read_csv(\"../output/to_bqm10_400samples_p.csv\", sep=',', index_col=0)\n",
    "\n",
    "#500\n",
    "to_qubo10_500samples_p = pd.read_csv(\"../output/to_qubo10_500samples_p.csv\", sep=',', index_col=0)\n",
    "to_bqm10_500samples_p = pd.read_csv(\"../output/to_bqm10_500samples_p.csv\", sep=',', index_col=0)\n",
    "\n",
    "#600\n",
    "to_qubo10_600samples_p = pd.read_csv(\"../output/to_qubo10_600samples_p.csv\", sep=',', index_col=0)\n",
    "to_bqm10_600samples_p = pd.read_csv(\"../output/to_bqm10_600samples_p.csv\", sep=',', index_col=0)\n",
    "\n",
    "#700\n",
    "to_qubo10_700samples_p = pd.read_csv(\"../output/to_qubo10_700samples_p.csv\", sep=',', index_col=0)\n",
    "to_bqm10_700samples_p = pd.read_csv(\"../output/to_bqm10_700samples_p.csv\", sep=',', index_col=0)\n",
    "\n",
    "#800\n",
    "to_qubo10_800samples_p = pd.read_csv(\"../output/to_qubo10_800samples_p.csv\", sep=',', index_col=0)\n",
    "to_bqm10_800samples_p = pd.read_csv(\"../output/to_bqm10_800samples_p.csv\", sep=',', index_col=0)\n",
    "\n",
    "#900\n",
    "to_qubo10_900samples_p = pd.read_csv(\"../output/to_qubo10_900samples_p.csv\", sep=',', index_col=0)\n",
    "to_bqm10_900samples_p = pd.read_csv(\"../output/to_bqm10_900samples_p.csv\", sep=',', index_col=0)"
   ]
  },
  {
   "cell_type": "code",
   "execution_count": 299,
   "metadata": {},
   "outputs": [
    {
     "data": {
      "text/html": [
       "<div>\n",
       "<style scoped>\n",
       "    .dataframe tbody tr th:only-of-type {\n",
       "        vertical-align: middle;\n",
       "    }\n",
       "\n",
       "    .dataframe tbody tr th {\n",
       "        vertical-align: top;\n",
       "    }\n",
       "\n",
       "    .dataframe thead th {\n",
       "        text-align: right;\n",
       "    }\n",
       "</style>\n",
       "<table border=\"1\" class=\"dataframe\">\n",
       "  <thead>\n",
       "    <tr style=\"text-align: right;\">\n",
       "      <th></th>\n",
       "      <th>A</th>\n",
       "      <th>B</th>\n",
       "      <th>C</th>\n",
       "      <th>D</th>\n",
       "      <th>E</th>\n",
       "      <th>F</th>\n",
       "      <th>G</th>\n",
       "      <th>H</th>\n",
       "      <th>I</th>\n",
       "      <th>J</th>\n",
       "    </tr>\n",
       "  </thead>\n",
       "  <tbody>\n",
       "    <tr>\n",
       "      <th>0</th>\n",
       "      <td>0.166667</td>\n",
       "      <td>0.880952</td>\n",
       "      <td>0.452381</td>\n",
       "      <td>0.452381</td>\n",
       "      <td>0.547619</td>\n",
       "      <td>0.738095</td>\n",
       "      <td>0.738095</td>\n",
       "      <td>0.995238</td>\n",
       "      <td>0.966667</td>\n",
       "      <td>1.0</td>\n",
       "    </tr>\n",
       "  </tbody>\n",
       "</table>\n",
       "</div>"
      ],
      "text/plain": [
       "          A         B         C         D         E         F         G  \\\n",
       "0  0.166667  0.880952  0.452381  0.452381  0.547619  0.738095  0.738095   \n",
       "\n",
       "          H         I    J  \n",
       "0  0.995238  0.966667  1.0  "
      ]
     },
     "execution_count": 299,
     "metadata": {},
     "output_type": "execute_result"
    }
   ],
   "source": [
    "enu10_p"
   ]
  },
  {
   "cell_type": "code",
   "execution_count": 300,
   "metadata": {},
   "outputs": [
    {
     "data": {
      "text/html": [
       "<div>\n",
       "<style scoped>\n",
       "    .dataframe tbody tr th:only-of-type {\n",
       "        vertical-align: middle;\n",
       "    }\n",
       "\n",
       "    .dataframe tbody tr th {\n",
       "        vertical-align: top;\n",
       "    }\n",
       "\n",
       "    .dataframe thead th {\n",
       "        text-align: right;\n",
       "    }\n",
       "</style>\n",
       "<table border=\"1\" class=\"dataframe\">\n",
       "  <thead>\n",
       "    <tr style=\"text-align: right;\">\n",
       "      <th></th>\n",
       "      <th>A</th>\n",
       "      <th>B</th>\n",
       "      <th>C</th>\n",
       "      <th>D</th>\n",
       "      <th>E</th>\n",
       "      <th>F</th>\n",
       "      <th>G</th>\n",
       "      <th>H</th>\n",
       "      <th>I</th>\n",
       "      <th>J</th>\n",
       "    </tr>\n",
       "  </thead>\n",
       "  <tbody>\n",
       "    <tr>\n",
       "      <th>0</th>\n",
       "      <td>0.152381</td>\n",
       "      <td>0.838095</td>\n",
       "      <td>0.414286</td>\n",
       "      <td>0.361905</td>\n",
       "      <td>0.519048</td>\n",
       "      <td>0.733333</td>\n",
       "      <td>0.733333</td>\n",
       "      <td>0.990476</td>\n",
       "      <td>0.971429</td>\n",
       "      <td>1.0</td>\n",
       "    </tr>\n",
       "  </tbody>\n",
       "</table>\n",
       "</div>"
      ],
      "text/plain": [
       "          A         B         C         D         E         F         G  \\\n",
       "0  0.152381  0.838095  0.414286  0.361905  0.519048  0.733333  0.733333   \n",
       "\n",
       "          H         I    J  \n",
       "0  0.990476  0.971429  1.0  "
      ]
     },
     "execution_count": 300,
     "metadata": {},
     "output_type": "execute_result"
    }
   ],
   "source": [
    "to_qubo10_210samples_p"
   ]
  },
  {
   "cell_type": "code",
   "execution_count": 301,
   "metadata": {},
   "outputs": [
    {
     "data": {
      "text/html": [
       "<div>\n",
       "<style scoped>\n",
       "    .dataframe tbody tr th:only-of-type {\n",
       "        vertical-align: middle;\n",
       "    }\n",
       "\n",
       "    .dataframe tbody tr th {\n",
       "        vertical-align: top;\n",
       "    }\n",
       "\n",
       "    .dataframe thead th {\n",
       "        text-align: right;\n",
       "    }\n",
       "</style>\n",
       "<table border=\"1\" class=\"dataframe\">\n",
       "  <thead>\n",
       "    <tr style=\"text-align: right;\">\n",
       "      <th></th>\n",
       "      <th>A</th>\n",
       "      <th>B</th>\n",
       "      <th>C</th>\n",
       "      <th>D</th>\n",
       "      <th>E</th>\n",
       "      <th>F</th>\n",
       "      <th>G</th>\n",
       "      <th>H</th>\n",
       "      <th>I</th>\n",
       "      <th>J</th>\n",
       "    </tr>\n",
       "  </thead>\n",
       "  <tbody>\n",
       "    <tr>\n",
       "      <th>0</th>\n",
       "      <td>0.138095</td>\n",
       "      <td>0.885714</td>\n",
       "      <td>0.466667</td>\n",
       "      <td>0.466667</td>\n",
       "      <td>0.52381</td>\n",
       "      <td>0.671429</td>\n",
       "      <td>0.752381</td>\n",
       "      <td>1.0</td>\n",
       "      <td>0.961905</td>\n",
       "      <td>1.0</td>\n",
       "    </tr>\n",
       "  </tbody>\n",
       "</table>\n",
       "</div>"
      ],
      "text/plain": [
       "          A         B         C         D        E         F         G    H  \\\n",
       "0  0.138095  0.885714  0.466667  0.466667  0.52381  0.671429  0.752381  1.0   \n",
       "\n",
       "          I    J  \n",
       "0  0.961905  1.0  "
      ]
     },
     "execution_count": 301,
     "metadata": {},
     "output_type": "execute_result"
    }
   ],
   "source": [
    "to_bqm10_210samples_p"
   ]
  },
  {
   "cell_type": "markdown",
   "metadata": {},
   "source": [
    "### 210サンプル分で比較\n",
    "- 全列挙は210サンプルあるが、他の２つはSAによって出力されているので210サンプルすべて異なるとは限らない。\n",
    "- bqm, quboを使った関数はどちらも同じ結果を出す（理想的）。"
   ]
  },
  {
   "cell_type": "code",
   "execution_count": 302,
   "metadata": {},
   "outputs": [
    {
     "data": {
      "text/plain": [
       "[('A', 0.16666666666666666),\n",
       " ('C', 0.4523809523809524),\n",
       " ('D', 0.4523809523809524),\n",
       " ('E', 0.5476190476190477),\n",
       " ('F', 0.7380952380952381),\n",
       " ('G', 0.7380952380952381),\n",
       " ('B', 0.8809523809523809),\n",
       " ('I', 0.9666666666666668),\n",
       " ('H', 0.9952380952380953),\n",
       " ('J', 1.0)]"
      ]
     },
     "execution_count": 302,
     "metadata": {},
     "output_type": "execute_result"
    }
   ],
   "source": [
    "#基準数値\n",
    "enu10_p_dic = enu10_p.T.to_dict()\n",
    "sorted_enu10_p_list = sorted(enu10_p_dic[0].items(), key=lambda x:x[1])\n",
    "sorted_enu10_p_list"
   ]
  },
  {
   "cell_type": "code",
   "execution_count": 303,
   "metadata": {},
   "outputs": [
    {
     "data": {
      "text/plain": [
       "[('A', 0.1523809523809524),\n",
       " ('D', 0.3619047619047619),\n",
       " ('C', 0.4142857142857143),\n",
       " ('E', 0.5190476190476191),\n",
       " ('F', 0.7333333333333333),\n",
       " ('G', 0.7333333333333333),\n",
       " ('B', 0.8380952380952381),\n",
       " ('I', 0.9714285714285714),\n",
       " ('H', 0.9904761904761904),\n",
       " ('J', 1.0)]"
      ]
     },
     "execution_count": 303,
     "metadata": {},
     "output_type": "execute_result"
    }
   ],
   "source": [
    "to_qubo10_210samples_p_dic = to_qubo10_210samples_p.T.to_dict()\n",
    "sorted_to_qubo10_210samples_p_list = sorted(to_qubo10_210samples_p_dic[0].items(), key=lambda x:x[1])\n",
    "sorted_to_qubo10_210samples_p_list"
   ]
  },
  {
   "cell_type": "code",
   "execution_count": 304,
   "metadata": {},
   "outputs": [
    {
     "data": {
      "text/plain": [
       "[('A', 0.1380952380952381),\n",
       " ('C', 0.4666666666666667),\n",
       " ('D', 0.4666666666666667),\n",
       " ('E', 0.5238095238095238),\n",
       " ('F', 0.6714285714285714),\n",
       " ('G', 0.7523809523809524),\n",
       " ('B', 0.8857142857142857),\n",
       " ('I', 0.961904761904762),\n",
       " ('H', 1.0),\n",
       " ('J', 1.0)]"
      ]
     },
     "execution_count": 304,
     "metadata": {},
     "output_type": "execute_result"
    }
   ],
   "source": [
    "to_bqm10_210samples_p_dic = to_bqm10_210samples_p.T.to_dict()\n",
    "sorted_to_bqm10_210samples_p_list = sorted(to_bqm10_210samples_p_dic[0].items(), key=lambda x:x[1])\n",
    "sorted_to_bqm10_210samples_p_list"
   ]
  },
  {
   "cell_type": "code",
   "execution_count": null,
   "metadata": {},
   "outputs": [],
   "source": []
  },
  {
   "cell_type": "markdown",
   "metadata": {},
   "source": [
    "### サンプル数の増加とp値の変化\n",
    "- qubo"
   ]
  },
  {
   "cell_type": "code",
   "execution_count": 305,
   "metadata": {},
   "outputs": [
    {
     "data": {
      "text/plain": [
       "[('A', 0.16),\n",
       " ('D', 0.42),\n",
       " ('C', 0.5),\n",
       " ('E', 0.59),\n",
       " ('G', 0.67),\n",
       " ('F', 0.74),\n",
       " ('B', 0.88),\n",
       " ('I', 0.99),\n",
       " ('H', 1.0),\n",
       " ('J', 1.0)]"
      ]
     },
     "execution_count": 305,
     "metadata": {},
     "output_type": "execute_result"
    }
   ],
   "source": [
    "#100\n",
    "to_qubo10_100samples_p_dic = to_qubo10_100samples_p.T.to_dict()\n",
    "sorted_to_qubo10_100samples_p_list = sorted(to_qubo10_100samples_p_dic[0].items(), key=lambda x:x[1])\n",
    "sorted_to_qubo10_100samples_p_list"
   ]
  },
  {
   "cell_type": "code",
   "execution_count": 306,
   "metadata": {},
   "outputs": [
    {
     "data": {
      "text/plain": [
       "[('A', 0.205),\n",
       " ('D', 0.485),\n",
       " ('C', 0.515),\n",
       " ('E', 0.575),\n",
       " ('G', 0.725),\n",
       " ('F', 0.735),\n",
       " ('B', 0.885),\n",
       " ('I', 0.965),\n",
       " ('H', 1.0),\n",
       " ('J', 1.0)]"
      ]
     },
     "execution_count": 306,
     "metadata": {},
     "output_type": "execute_result"
    }
   ],
   "source": [
    "#200\n",
    "to_qubo10_200samples_p_dic = to_qubo10_200samples_p.T.to_dict()\n",
    "sorted_to_qubo10_200samples_p_list = sorted(to_qubo10_200samples_p_dic[0].items(), key=lambda x:x[1])\n",
    "sorted_to_qubo10_200samples_p_list"
   ]
  },
  {
   "cell_type": "code",
   "execution_count": 307,
   "metadata": {},
   "outputs": [
    {
     "data": {
      "text/plain": [
       "[('A', 0.17333333333333334),\n",
       " ('C', 0.4166666666666667),\n",
       " ('D', 0.44666666666666666),\n",
       " ('E', 0.5466666666666666),\n",
       " ('F', 0.72),\n",
       " ('G', 0.7433333333333333),\n",
       " ('B', 0.9033333333333332),\n",
       " ('I', 0.97),\n",
       " ('H', 0.9966666666666668),\n",
       " ('J', 1.0)]"
      ]
     },
     "execution_count": 307,
     "metadata": {},
     "output_type": "execute_result"
    }
   ],
   "source": [
    "#300\n",
    "to_qubo10_300samples_p_dic = to_qubo10_300samples_p.T.to_dict()\n",
    "sorted_to_qubo10_300samples_p_list = sorted(to_qubo10_300samples_p_dic[0].items(), key=lambda x:x[1])\n",
    "sorted_to_qubo10_300samples_p_list"
   ]
  },
  {
   "cell_type": "code",
   "execution_count": 308,
   "metadata": {},
   "outputs": [
    {
     "data": {
      "text/plain": [
       "[('A', 0.1325),\n",
       " ('C', 0.4175),\n",
       " ('D', 0.47),\n",
       " ('E', 0.5225),\n",
       " ('F', 0.735),\n",
       " ('G', 0.74),\n",
       " ('B', 0.875),\n",
       " ('I', 0.9625),\n",
       " ('H', 0.9875),\n",
       " ('J', 1.0)]"
      ]
     },
     "execution_count": 308,
     "metadata": {},
     "output_type": "execute_result"
    }
   ],
   "source": [
    "#400\n",
    "to_qubo10_400samples_p_dic = to_qubo10_400samples_p.T.to_dict()\n",
    "sorted_to_qubo10_400samples_p_list = sorted(to_qubo10_400samples_p_dic[0].items(), key=lambda x:x[1])\n",
    "sorted_to_qubo10_400samples_p_list"
   ]
  },
  {
   "cell_type": "code",
   "execution_count": 309,
   "metadata": {},
   "outputs": [
    {
     "data": {
      "text/plain": [
       "[('A', 0.182),\n",
       " ('C', 0.428),\n",
       " ('D', 0.46),\n",
       " ('E', 0.56),\n",
       " ('G', 0.706),\n",
       " ('F', 0.7240000000000001),\n",
       " ('B', 0.898),\n",
       " ('I', 0.9620000000000001),\n",
       " ('H', 0.996),\n",
       " ('J', 1.0)]"
      ]
     },
     "execution_count": 309,
     "metadata": {},
     "output_type": "execute_result"
    }
   ],
   "source": [
    "#500\n",
    "to_qubo10_500samples_p_dic = to_qubo10_500samples_p.T.to_dict()\n",
    "sorted_to_qubo10_500samples_p_list = sorted(to_qubo10_500samples_p_dic[0].items(), key=lambda x:x[1])\n",
    "sorted_to_qubo10_500samples_p_list"
   ]
  },
  {
   "cell_type": "code",
   "execution_count": 310,
   "metadata": {},
   "outputs": [
    {
     "data": {
      "text/plain": [
       "[('A', 0.15833333333333333),\n",
       " ('C', 0.415),\n",
       " ('D', 0.43666666666666665),\n",
       " ('E', 0.5266666666666666),\n",
       " ('G', 0.7),\n",
       " ('F', 0.7483333333333333),\n",
       " ('B', 0.88),\n",
       " ('I', 0.975),\n",
       " ('H', 0.9983333333333332),\n",
       " ('J', 1.0)]"
      ]
     },
     "execution_count": 310,
     "metadata": {},
     "output_type": "execute_result"
    }
   ],
   "source": [
    "#600\n",
    "to_qubo10_600samples_p_dic = to_qubo10_600samples_p.T.to_dict()\n",
    "sorted_to_qubo10_600samples_p_list = sorted(to_qubo10_600samples_p_dic[0].items(), key=lambda x:x[1])\n",
    "sorted_to_qubo10_600samples_p_list"
   ]
  },
  {
   "cell_type": "code",
   "execution_count": 311,
   "metadata": {},
   "outputs": [
    {
     "data": {
      "text/plain": [
       "[('A', 0.15857142857142856),\n",
       " ('C', 0.45),\n",
       " ('D', 0.4585714285714286),\n",
       " ('E', 0.5471428571428572),\n",
       " ('F', 0.7485714285714286),\n",
       " ('G', 0.7485714285714286),\n",
       " ('B', 0.8857142857142857),\n",
       " ('I', 0.9614285714285714),\n",
       " ('H', 0.9971428571428572),\n",
       " ('J', 1.0)]"
      ]
     },
     "execution_count": 311,
     "metadata": {},
     "output_type": "execute_result"
    }
   ],
   "source": [
    "#700\n",
    "to_qubo10_700samples_p_dic = to_qubo10_700samples_p.T.to_dict()\n",
    "sorted_to_qubo10_700samples_p_list = sorted(to_qubo10_700samples_p_dic[0].items(), key=lambda x:x[1])\n",
    "sorted_to_qubo10_700samples_p_list"
   ]
  },
  {
   "cell_type": "code",
   "execution_count": 312,
   "metadata": {},
   "outputs": [
    {
     "data": {
      "text/plain": [
       "[('A', 0.1625),\n",
       " ('D', 0.42875),\n",
       " ('C', 0.4375),\n",
       " ('E', 0.54875),\n",
       " ('F', 0.73625),\n",
       " ('G', 0.76375),\n",
       " ('B', 0.87375),\n",
       " ('I', 0.96875),\n",
       " ('H', 1.0),\n",
       " ('J', 1.0)]"
      ]
     },
     "execution_count": 312,
     "metadata": {},
     "output_type": "execute_result"
    }
   ],
   "source": [
    "#800\n",
    "to_qubo10_800samples_p_dic = to_qubo10_800samples_p.T.to_dict()\n",
    "sorted_to_qubo10_800samples_p_list = sorted(to_qubo10_800samples_p_dic[0].items(), key=lambda x:x[1])\n",
    "sorted_to_qubo10_800samples_p_list"
   ]
  },
  {
   "cell_type": "code",
   "execution_count": 313,
   "metadata": {},
   "outputs": [
    {
     "data": {
      "text/plain": [
       "[('A', 0.15888888888888889),\n",
       " ('C', 0.4455555555555555),\n",
       " ('D', 0.4488888888888889),\n",
       " ('E', 0.5344444444444445),\n",
       " ('F', 0.73),\n",
       " ('G', 0.7522222222222222),\n",
       " ('B', 0.8844444444444445),\n",
       " ('I', 0.9544444444444444),\n",
       " ('H', 0.9933333333333332),\n",
       " ('J', 1.0)]"
      ]
     },
     "execution_count": 313,
     "metadata": {},
     "output_type": "execute_result"
    }
   ],
   "source": [
    "#900\n",
    "to_qubo10_900samples_p_dic = to_qubo10_900samples_p.T.to_dict()\n",
    "sorted_to_qubo10_900samples_p_list = sorted(to_qubo10_900samples_p_dic[0].items(), key=lambda x:x[1])\n",
    "sorted_to_qubo10_900samples_p_list"
   ]
  },
  {
   "cell_type": "markdown",
   "metadata": {},
   "source": [
    "- bqm"
   ]
  },
  {
   "cell_type": "code",
   "execution_count": 314,
   "metadata": {},
   "outputs": [
    {
     "data": {
      "text/plain": [
       "[('A', 0.18),\n",
       " ('C', 0.41),\n",
       " ('D', 0.46),\n",
       " ('E', 0.5),\n",
       " ('F', 0.68),\n",
       " ('G', 0.81),\n",
       " ('B', 0.91),\n",
       " ('I', 0.97),\n",
       " ('H', 0.99),\n",
       " ('J', 1.0)]"
      ]
     },
     "execution_count": 314,
     "metadata": {},
     "output_type": "execute_result"
    }
   ],
   "source": [
    "#100\n",
    "to_bqm10_100samples_p_dic = to_bqm10_100samples_p.T.to_dict()\n",
    "sorted_to_bqm10_100samples_p_list = sorted(to_bqm10_100samples_p_dic[0].items(), key=lambda x:x[1])\n",
    "sorted_to_bqm10_100samples_p_list"
   ]
  },
  {
   "cell_type": "code",
   "execution_count": 315,
   "metadata": {},
   "outputs": [
    {
     "data": {
      "text/plain": [
       "[('A', 0.175),\n",
       " ('D', 0.45),\n",
       " ('C', 0.48),\n",
       " ('E', 0.52),\n",
       " ('G', 0.74),\n",
       " ('F', 0.775),\n",
       " ('B', 0.85),\n",
       " ('H', 0.99),\n",
       " ('I', 0.99),\n",
       " ('J', 1.0)]"
      ]
     },
     "execution_count": 315,
     "metadata": {},
     "output_type": "execute_result"
    }
   ],
   "source": [
    "#200\n",
    "to_bqm10_200samples_p_dic = to_bqm10_200samples_p.T.to_dict()\n",
    "sorted_to_bqm10_200samples_p_list = sorted(to_bqm10_200samples_p_dic[0].items(), key=lambda x:x[1])\n",
    "sorted_to_bqm10_200samples_p_list"
   ]
  },
  {
   "cell_type": "code",
   "execution_count": 316,
   "metadata": {},
   "outputs": [
    {
     "data": {
      "text/plain": [
       "[('A', 0.15333333333333332),\n",
       " ('C', 0.43),\n",
       " ('D', 0.44333333333333336),\n",
       " ('E', 0.5533333333333333),\n",
       " ('G', 0.74),\n",
       " ('F', 0.7733333333333333),\n",
       " ('B', 0.9166666666666666),\n",
       " ('I', 0.9833333333333332),\n",
       " ('H', 0.9866666666666668),\n",
       " ('J', 1.0)]"
      ]
     },
     "execution_count": 316,
     "metadata": {},
     "output_type": "execute_result"
    }
   ],
   "source": [
    "#300\n",
    "to_bqm10_300samples_p_dic = to_bqm10_300samples_p.T.to_dict()\n",
    "sorted_to_bqm10_300samples_p_list = sorted(to_bqm10_300samples_p_dic[0].items(), key=lambda x:x[1])\n",
    "sorted_to_bqm10_300samples_p_list"
   ]
  },
  {
   "cell_type": "code",
   "execution_count": 317,
   "metadata": {},
   "outputs": [
    {
     "data": {
      "text/plain": [
       "[('A', 0.1675),\n",
       " ('C', 0.4375),\n",
       " ('D', 0.4825),\n",
       " ('E', 0.515),\n",
       " ('G', 0.7425),\n",
       " ('F', 0.76),\n",
       " ('B', 0.8525),\n",
       " ('I', 0.98),\n",
       " ('H', 0.995),\n",
       " ('J', 1.0)]"
      ]
     },
     "execution_count": 317,
     "metadata": {},
     "output_type": "execute_result"
    }
   ],
   "source": [
    "#400\n",
    "to_bqm10_400samples_p_dic = to_bqm10_400samples_p.T.to_dict()\n",
    "sorted_to_bqm10_400samples_p_list = sorted(to_bqm10_400samples_p_dic[0].items(), key=lambda x:x[1])\n",
    "sorted_to_bqm10_400samples_p_list"
   ]
  },
  {
   "cell_type": "code",
   "execution_count": 318,
   "metadata": {},
   "outputs": [
    {
     "data": {
      "text/plain": [
       "[('A', 0.172),\n",
       " ('C', 0.48),\n",
       " ('D', 0.48200000000000004),\n",
       " ('E', 0.556),\n",
       " ('G', 0.736),\n",
       " ('F', 0.752),\n",
       " ('B', 0.904),\n",
       " ('I', 0.972),\n",
       " ('H', 0.9940000000000001),\n",
       " ('J', 1.0)]"
      ]
     },
     "execution_count": 318,
     "metadata": {},
     "output_type": "execute_result"
    }
   ],
   "source": [
    "#500\n",
    "to_bqm10_500samples_p_dic = to_bqm10_500samples_p.T.to_dict()\n",
    "sorted_to_bqm10_500samples_p_list = sorted(to_bqm10_500samples_p_dic[0].items(), key=lambda x:x[1])\n",
    "sorted_to_bqm10_500samples_p_list"
   ]
  },
  {
   "cell_type": "code",
   "execution_count": 319,
   "metadata": {},
   "outputs": [
    {
     "data": {
      "text/plain": [
       "[('A', 0.16),\n",
       " ('C', 0.3933333333333333),\n",
       " ('D', 0.43333333333333335),\n",
       " ('E', 0.54),\n",
       " ('G', 0.7266666666666667),\n",
       " ('F', 0.7683333333333333),\n",
       " ('B', 0.8716666666666667),\n",
       " ('I', 0.9666666666666668),\n",
       " ('H', 0.9966666666666668),\n",
       " ('J', 1.0)]"
      ]
     },
     "execution_count": 319,
     "metadata": {},
     "output_type": "execute_result"
    }
   ],
   "source": [
    "#600\n",
    "to_bqm10_600samples_p_dic = to_bqm10_600samples_p.T.to_dict()\n",
    "sorted_to_bqm10_600samples_p_list = sorted(to_bqm10_600samples_p_dic[0].items(), key=lambda x:x[1])\n",
    "sorted_to_bqm10_600samples_p_list"
   ]
  },
  {
   "cell_type": "code",
   "execution_count": 320,
   "metadata": {},
   "outputs": [
    {
     "data": {
      "text/plain": [
       "[('A', 0.16428571428571428),\n",
       " ('D', 0.3971428571428571),\n",
       " ('C', 0.4228571428571429),\n",
       " ('E', 0.5414285714285715),\n",
       " ('G', 0.7214285714285714),\n",
       " ('F', 0.7442857142857143),\n",
       " ('B', 0.8714285714285714),\n",
       " ('I', 0.9757142857142858),\n",
       " ('H', 0.9957142857142856),\n",
       " ('J', 1.0)]"
      ]
     },
     "execution_count": 320,
     "metadata": {},
     "output_type": "execute_result"
    }
   ],
   "source": [
    "#700\n",
    "to_bqm10_700samples_p_dic = to_bqm10_700samples_p.T.to_dict()\n",
    "sorted_to_bqm10_700samples_p_list = sorted(to_bqm10_700samples_p_dic[0].items(), key=lambda x:x[1])\n",
    "sorted_to_bqm10_700samples_p_list"
   ]
  },
  {
   "cell_type": "code",
   "execution_count": 321,
   "metadata": {},
   "outputs": [
    {
     "data": {
      "text/plain": [
       "[('A', 0.18),\n",
       " ('D', 0.4625),\n",
       " ('C', 0.4925),\n",
       " ('E', 0.56875),\n",
       " ('F', 0.7025),\n",
       " ('G', 0.76375),\n",
       " ('B', 0.9),\n",
       " ('I', 0.9625),\n",
       " ('H', 0.99375),\n",
       " ('J', 1.0)]"
      ]
     },
     "execution_count": 321,
     "metadata": {},
     "output_type": "execute_result"
    }
   ],
   "source": [
    "#800\n",
    "to_bqm10_800samples_p_dic = to_bqm10_800samples_p.T.to_dict()\n",
    "sorted_to_bqm10_800samples_p_list = sorted(to_bqm10_800samples_p_dic[0].items(), key=lambda x:x[1])\n",
    "sorted_to_bqm10_800samples_p_list"
   ]
  },
  {
   "cell_type": "code",
   "execution_count": 323,
   "metadata": {},
   "outputs": [
    {
     "data": {
      "text/plain": [
       "[('A', 0.1688888888888889),\n",
       " ('C', 0.4488888888888889),\n",
       " ('D', 0.4588888888888889),\n",
       " ('E', 0.5711111111111111),\n",
       " ('G', 0.7255555555555555),\n",
       " ('F', 0.7444444444444445),\n",
       " ('B', 0.8822222222222222),\n",
       " ('I', 0.9577777777777776),\n",
       " ('H', 0.9944444444444444),\n",
       " ('J', 1.0)]"
      ]
     },
     "execution_count": 323,
     "metadata": {},
     "output_type": "execute_result"
    }
   ],
   "source": [
    "#900\n",
    "to_bqm10_900samples_p_dic = to_bqm10_900samples_p.T.to_dict()\n",
    "sorted_to_bqm10_900samples_p_list = sorted(to_bqm10_900samples_p_dic[0].items(), key=lambda x:x[1])\n",
    "sorted_to_bqm10_900samples_p_list"
   ]
  },
  {
   "cell_type": "markdown",
   "metadata": {},
   "source": [
    "### Aのp値変遷\n",
    "- nealのSAを使った方法、一つは使えそう。"
   ]
  },
  {
   "cell_type": "code",
   "execution_count": 10,
   "metadata": {},
   "outputs": [
    {
     "data": {
      "text/plain": [
       "[100, 200, 300, 400, 500, 600, 700, 800, 900, 1000]"
      ]
     },
     "execution_count": 10,
     "metadata": {},
     "output_type": "execute_result"
    }
   ],
   "source": [
    "import matplotlib.pyplot as plt\n",
    "int_int = 10\n",
    "hundred_list = [l*100 for l in range(1, int_int+1)]\n",
    "hundred_list"
   ]
  },
  {
   "cell_type": "code",
   "execution_count": 325,
   "metadata": {},
   "outputs": [
    {
     "data": {
      "text/plain": [
       "[<matplotlib.lines.Line2D at 0x7ffa511f3b00>]"
      ]
     },
     "execution_count": 325,
     "metadata": {},
     "output_type": "execute_result"
    },
    {
     "data": {
      "image/png": "[encoded data removed]",
      "text/plain": [
       "<Figure size 432x288 with 1 Axes>"
      ]
     },
     "metadata": {
      "needs_background": "light"
     },
     "output_type": "display_data"
    }
   ],
   "source": [
    "A_qubo_list = []\n",
    "A_qubo_list.append(to_qubo10_100samples_p['A'])\n",
    "A_qubo_list.append(to_qubo10_200samples_p['A'])\n",
    "A_qubo_list.append(to_qubo10_300samples_p['A'])\n",
    "A_qubo_list.append(to_qubo10_400samples_p['A'])\n",
    "A_qubo_list.append(to_qubo10_500samples_p['A'])\n",
    "A_qubo_list.append(to_qubo10_600samples_p['A'])\n",
    "A_qubo_list.append(to_qubo10_700samples_p['A'])\n",
    "A_qubo_list.append(to_qubo10_800samples_p['A'])\n",
    "A_qubo_list.append(to_qubo10_900samples_p['A'])\n",
    "\n",
    "plt.plot(hundred_list, A_qubo_list)\n",
    "plt.plot(hundred_list, [enu10_p['A']]*int_int)"
   ]
  },
  {
   "cell_type": "code",
   "execution_count": 326,
   "metadata": {},
   "outputs": [
    {
     "data": {
      "text/plain": [
       "[<matplotlib.lines.Line2D at 0x7ffa4eb73dd8>]"
      ]
     },
     "execution_count": 326,
     "metadata": {},
     "output_type": "execute_result"
    },
    {
     "data": {
      "image/png": "[encoded data removed]",
      "text/plain": [
       "<Figure size 432x288 with 1 Axes>"
      ]
     },
     "metadata": {
      "needs_background": "light"
     },
     "output_type": "display_data"
    }
   ],
   "source": [
    "A_bqm_list = []\n",
    "A_bqm_list.append(to_bqm10_100samples_p['A'])\n",
    "A_bqm_list.append(to_bqm10_200samples_p['A'])\n",
    "A_bqm_list.append(to_bqm10_300samples_p['A'])\n",
    "A_bqm_list.append(to_bqm10_400samples_p['A'])\n",
    "A_bqm_list.append(to_bqm10_500samples_p['A'])\n",
    "A_bqm_list.append(to_bqm10_600samples_p['A'])\n",
    "A_bqm_list.append(to_bqm10_700samples_p['A'])\n",
    "A_bqm_list.append(to_bqm10_800samples_p['A'])\n",
    "A_bqm_list.append(to_bqm10_900samples_p['A'])\n",
    "    \n",
    "plt.plot(hundred_list, A_bqm_list)\n",
    "plt.plot(hundred_list, [enu10_p['A']]*int_int)"
   ]
  },
  {
   "cell_type": "code",
   "execution_count": null,
   "metadata": {},
   "outputs": [],
   "source": []
  },
  {
   "cell_type": "code",
   "execution_count": null,
   "metadata": {},
   "outputs": [],
   "source": []
  }
 ],
 "metadata": {
  "kernelspec": {
   "display_name": "Python 3",
   "language": "python",
   "name": "python3"
  },
  "language_info": {
   "codemirror_mode": {
    "name": "ipython",
    "version": 3
   },
   "file_extension": ".py",
   "mimetype": "text/x-python",
   "name": "python",
   "nbconvert_exporter": "python",
   "pygments_lexer": "ipython3",
   "version": "3.6.9"
  }
 },
 "nbformat": 4,
 "nbformat_minor": 4
}
