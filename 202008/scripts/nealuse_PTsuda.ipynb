{
 "cells": [
  {
   "cell_type": "code",
   "execution_count": 3,
   "metadata": {},
   "outputs": [
    {
     "name": "stdout",
     "output_type": "stream",
     "text": [
      "Collecting dwave-neal\n",
      "  Downloading https://files.pythonhosted.org/packages/c6/14/964a6a7aff39d97fbcb9ff82a4525a484d301468048a706be3dcc5be64ca/dwave_neal-0.5.4-cp36-cp36m-manylinux1_x86_64.whl (390kB)\n",
      "\u001b[K    100% |################################| 399kB 2.3MB/s ta 0:00:01\n",
      "\u001b[?25hRequirement already satisfied: numpy<2.0.0,>=1.14.0 in /usr/local/lib/python3.6/dist-packages (from dwave-neal)\n",
      "Requirement already satisfied: six<2.0.0,>=1.11.0 in /usr/lib/python3/dist-packages (from dwave-neal)\n",
      "Collecting dimod>=0.7.7 (from dwave-neal)\n",
      "  Downloading https://files.pythonhosted.org/packages/81/58/fbba4f4d4497bbb071cd9d769c9fa479ffdd6278b6bb7bdebd7b2e921d7d/dimod-0.9.5-cp36-cp36m-manylinux1_x86_64.whl (4.7MB)\n",
      "\u001b[K    100% |################################| 4.7MB 331kB/s ta 0:00:011\n",
      "\u001b[?25hInstalling collected packages: dimod, dwave-neal\n",
      "Successfully installed dimod-0.9.5 dwave-neal-0.5.4\n"
     ]
    }
   ],
   "source": [
    "!pip3 install dwave-neal"
   ]
  },
  {
   "cell_type": "code",
   "execution_count": 1,
   "metadata": {},
   "outputs": [],
   "source": [
    "import numpy as np\n",
    "import neal"
   ]
  },
  {
   "cell_type": "code",
   "execution_count": 2,
   "metadata": {},
   "outputs": [],
   "source": [
    "dim = 8"
   ]
  },
  {
   "cell_type": "code",
   "execution_count": 3,
   "metadata": {},
   "outputs": [],
   "source": [
    "w1 = np.ones(dim)\n",
    "w2 = np.array([0,1,0,1,0,1,0,1])"
   ]
  },
  {
   "cell_type": "markdown",
   "metadata": {},
   "source": [
    "x1+..+x8 = 0　と　x2+x4+x6+x8=0からサンプルを発生"
   ]
  },
  {
   "cell_type": "code",
   "execution_count": 6,
   "metadata": {},
   "outputs": [
    {
     "data": {
      "text/plain": [
       "array([1., 1., 1., 1., 1., 1., 1., 1.])"
      ]
     },
     "execution_count": 6,
     "metadata": {},
     "output_type": "execute_result"
    }
   ],
   "source": [
    "w1"
   ]
  },
  {
   "cell_type": "code",
   "execution_count": 7,
   "metadata": {},
   "outputs": [
    {
     "data": {
      "text/plain": [
       "array([0, 1, 0, 1, 0, 1, 0, 1])"
      ]
     },
     "execution_count": 7,
     "metadata": {},
     "output_type": "execute_result"
    }
   ],
   "source": [
    "w2"
   ]
  },
  {
   "cell_type": "code",
   "execution_count": 11,
   "metadata": {},
   "outputs": [],
   "source": [
    "JJ1 = np.zeros((dim,dim))\n",
    "for i in range(dim):\n",
    "    for j in range(dim):\n",
    "        JJ1[i,j] = w1[i]*w1[j] + w2[i]*w2[j]\n",
    "        #print(w1[i]*w1[j])\n",
    "        #print(w2[i]*w2[j])\n",
    "        #print(JJ1[i,j])\n",
    "        #print('---------------')"
   ]
  },
  {
   "cell_type": "code",
   "execution_count": 6,
   "metadata": {},
   "outputs": [
    {
     "name": "stdout",
     "output_type": "stream",
     "text": [
      "[[1. 1. 1. 1. 1. 1. 1. 1.]\n",
      " [1. 2. 1. 2. 1. 2. 1. 2.]\n",
      " [1. 1. 1. 1. 1. 1. 1. 1.]\n",
      " [1. 2. 1. 2. 1. 2. 1. 2.]\n",
      " [1. 1. 1. 1. 1. 1. 1. 1.]\n",
      " [1. 2. 1. 2. 1. 2. 1. 2.]\n",
      " [1. 1. 1. 1. 1. 1. 1. 1.]\n",
      " [1. 2. 1. 2. 1. 2. 1. 2.]]\n"
     ]
    }
   ],
   "source": [
    "print(JJ1)"
   ]
  },
  {
   "cell_type": "code",
   "execution_count": 12,
   "metadata": {},
   "outputs": [
    {
     "name": "stdout",
     "output_type": "stream",
     "text": [
      "0 0\n",
      "0 1\n",
      "0 2\n",
      "0 3\n",
      "0 4\n",
      "0 5\n",
      "0 6\n",
      "0 7\n",
      "1 1\n",
      "1 2\n",
      "1 3\n",
      "1 4\n",
      "1 5\n",
      "1 6\n",
      "1 7\n",
      "2 2\n",
      "2 3\n",
      "2 4\n",
      "2 5\n",
      "2 6\n",
      "2 7\n",
      "3 3\n",
      "3 4\n",
      "3 5\n",
      "3 6\n",
      "3 7\n",
      "4 4\n",
      "4 5\n",
      "4 6\n",
      "4 7\n",
      "5 5\n",
      "5 6\n",
      "5 7\n",
      "6 6\n",
      "6 7\n",
      "7 7\n"
     ]
    }
   ],
   "source": [
    "J = {}\n",
    "h = {}\n",
    "for i in range(dim):\n",
    "    h[i] = 0\n",
    "    for j in range(i,dim):#0-7, 1-7, ..., 7\n",
    "        print(i, j)\n",
    "        J[i,j] = JJ1[i,j]"
   ]
  },
  {
   "cell_type": "code",
   "execution_count": 13,
   "metadata": {},
   "outputs": [
    {
     "name": "stdout",
     "output_type": "stream",
     "text": [
      "{(0, 0): 1.0, (0, 1): 1.0, (0, 2): 1.0, (0, 3): 1.0, (0, 4): 1.0, (0, 5): 1.0, (0, 6): 1.0, (0, 7): 1.0, (1, 1): 2.0, (1, 2): 1.0, (1, 3): 2.0, (1, 4): 1.0, (1, 5): 2.0, (1, 6): 1.0, (1, 7): 2.0, (2, 2): 1.0, (2, 3): 1.0, (2, 4): 1.0, (2, 5): 1.0, (2, 6): 1.0, (2, 7): 1.0, (3, 3): 2.0, (3, 4): 1.0, (3, 5): 2.0, (3, 6): 1.0, (3, 7): 2.0, (4, 4): 1.0, (4, 5): 1.0, (4, 6): 1.0, (4, 7): 1.0, (5, 5): 2.0, (5, 6): 1.0, (5, 7): 2.0, (6, 6): 1.0, (6, 7): 1.0, (7, 7): 2.0}\n"
     ]
    }
   ],
   "source": [
    "print(J) #1, 2のみ"
   ]
  },
  {
   "cell_type": "code",
   "execution_count": 14,
   "metadata": {},
   "outputs": [
    {
     "data": {
      "text/plain": [
       "{0: 0, 1: 0, 2: 0, 3: 0, 4: 0, 5: 0, 6: 0, 7: 0}"
      ]
     },
     "execution_count": 14,
     "metadata": {},
     "output_type": "execute_result"
    }
   ],
   "source": [
    "h #すべての値が0"
   ]
  },
  {
   "cell_type": "code",
   "execution_count": 15,
   "metadata": {},
   "outputs": [],
   "source": [
    "sampler = neal.SimulatedAnnealingSampler()\n",
    "response = sampler.sample_ising(h, J, num_reads=100)"
   ]
  },
  {
   "cell_type": "code",
   "execution_count": 20,
   "metadata": {},
   "outputs": [],
   "source": [
    "response1 = sampler.sample_qubo(J, num_reads=10)"
   ]
  },
  {
   "cell_type": "code",
   "execution_count": 22,
   "metadata": {},
   "outputs": [
    {
     "name": "stdout",
     "output_type": "stream",
     "text": [
      "{0: 0, 1: 0, 2: 0, 3: 0, 4: 0, 5: 0, 6: 0, 7: 0}\n",
      "{0: 0, 1: 0, 2: 0, 3: 0, 4: 0, 5: 0, 6: 0, 7: 0}\n",
      "{0: 0, 1: 0, 2: 0, 3: 0, 4: 0, 5: 0, 6: 0, 7: 0}\n",
      "{0: 0, 1: 0, 2: 0, 3: 0, 4: 0, 5: 0, 6: 0, 7: 0}\n",
      "{0: 0, 1: 0, 2: 0, 3: 0, 4: 0, 5: 0, 6: 0, 7: 0}\n",
      "{0: 0, 1: 0, 2: 0, 3: 0, 4: 0, 5: 0, 6: 0, 7: 0}\n",
      "{0: 0, 1: 0, 2: 0, 3: 0, 4: 0, 5: 0, 6: 0, 7: 0}\n",
      "{0: 0, 1: 0, 2: 0, 3: 0, 4: 0, 5: 0, 6: 0, 7: 0}\n",
      "{0: 0, 1: 0, 2: 0, 3: 0, 4: 0, 5: 0, 6: 0, 7: 0}\n",
      "{0: 0, 1: 0, 2: 0, 3: 0, 4: 0, 5: 0, 6: 0, 7: 0}\n"
     ]
    }
   ],
   "source": [
    "for sample in response1:\n",
    "    print(sample)#0のみ"
   ]
  },
  {
   "cell_type": "code",
   "execution_count": 12,
   "metadata": {},
   "outputs": [
    {
     "name": "stdout",
     "output_type": "stream",
     "text": [
      "{0: -1, 1: 1, 2: -1, 3: 1, 4: 1, 5: -1, 6: 1, 7: -1}\n",
      "{0: 1, 1: -1, 2: 1, 3: 1, 4: -1, 5: -1, 6: -1, 7: 1}\n",
      "{0: -1, 1: -1, 2: 1, 3: -1, 4: 1, 5: 1, 6: -1, 7: 1}\n",
      "{0: -1, 1: 1, 2: -1, 3: 1, 4: 1, 5: -1, 6: 1, 7: -1}\n",
      "{0: -1, 1: 1, 2: 1, 3: 1, 4: -1, 5: -1, 6: 1, 7: -1}\n",
      "{0: 1, 1: -1, 2: -1, 3: 1, 4: -1, 5: 1, 6: 1, 7: -1}\n",
      "{0: -1, 1: -1, 2: -1, 3: -1, 4: 1, 5: 1, 6: 1, 7: 1}\n",
      "{0: 1, 1: 1, 2: -1, 3: 1, 4: 1, 5: -1, 6: -1, 7: -1}\n",
      "{0: -1, 1: -1, 2: -1, 3: 1, 4: 1, 5: 1, 6: 1, 7: -1}\n",
      "{0: 1, 1: -1, 2: -1, 3: 1, 4: 1, 5: -1, 6: -1, 7: 1}\n",
      "{0: 1, 1: -1, 2: -1, 3: 1, 4: -1, 5: -1, 6: 1, 7: 1}\n",
      "{0: -1, 1: -1, 2: 1, 3: 1, 4: -1, 5: -1, 6: 1, 7: 1}\n",
      "{0: 1, 1: 1, 2: -1, 3: 1, 4: -1, 5: -1, 6: 1, 7: -1}\n",
      "{0: 1, 1: 1, 2: -1, 3: 1, 4: -1, 5: -1, 6: 1, 7: -1}\n",
      "{0: 1, 1: 1, 2: 1, 3: -1, 4: -1, 5: 1, 6: -1, 7: -1}\n",
      "{0: -1, 1: -1, 2: 1, 3: -1, 4: 1, 5: 1, 6: -1, 7: 1}\n",
      "{0: 1, 1: -1, 2: -1, 3: -1, 4: 1, 5: 1, 6: -1, 7: 1}\n",
      "{0: 1, 1: 1, 2: 1, 3: 1, 4: -1, 5: -1, 6: -1, 7: -1}\n",
      "{0: 1, 1: -1, 2: -1, 3: 1, 4: -1, 5: 1, 6: 1, 7: -1}\n",
      "{0: -1, 1: -1, 2: -1, 3: 1, 4: 1, 5: -1, 6: 1, 7: 1}\n",
      "{0: -1, 1: -1, 2: -1, 3: 1, 4: 1, 5: -1, 6: 1, 7: 1}\n",
      "{0: 1, 1: 1, 2: -1, 3: -1, 4: -1, 5: 1, 6: 1, 7: -1}\n",
      "{0: -1, 1: 1, 2: -1, 3: 1, 4: 1, 5: -1, 6: 1, 7: -1}\n",
      "{0: 1, 1: -1, 2: 1, 3: 1, 4: -1, 5: -1, 6: -1, 7: 1}\n",
      "{0: -1, 1: -1, 2: -1, 3: 1, 4: 1, 5: 1, 6: 1, 7: -1}\n",
      "{0: -1, 1: -1, 2: 1, 3: 1, 4: 1, 5: 1, 6: -1, 7: -1}\n",
      "{0: -1, 1: 1, 2: 1, 3: -1, 4: 1, 5: -1, 6: -1, 7: 1}\n",
      "{0: 1, 1: -1, 2: -1, 3: 1, 4: -1, 5: 1, 6: 1, 7: -1}\n",
      "{0: -1, 1: -1, 2: 1, 3: 1, 4: -1, 5: -1, 6: 1, 7: 1}\n",
      "{0: 1, 1: -1, 2: -1, 3: 1, 4: 1, 5: -1, 6: -1, 7: 1}\n",
      "{0: 1, 1: 1, 2: 1, 3: -1, 4: -1, 5: 1, 6: -1, 7: -1}\n",
      "{0: 1, 1: -1, 2: -1, 3: 1, 4: -1, 5: -1, 6: 1, 7: 1}\n",
      "{0: -1, 1: 1, 2: 1, 3: -1, 4: 1, 5: -1, 6: -1, 7: 1}\n",
      "{0: 1, 1: 1, 2: -1, 3: -1, 4: -1, 5: -1, 6: 1, 7: 1}\n",
      "{0: -1, 1: 1, 2: -1, 3: 1, 4: 1, 5: -1, 6: 1, 7: -1}\n",
      "{0: 1, 1: 1, 2: 1, 3: -1, 4: -1, 5: 1, 6: -1, 7: -1}\n",
      "{0: -1, 1: -1, 2: 1, 3: 1, 4: -1, 5: -1, 6: 1, 7: 1}\n",
      "{0: 1, 1: 1, 2: 1, 3: -1, 4: -1, 5: 1, 6: -1, 7: -1}\n",
      "{0: 1, 1: 1, 2: -1, 3: -1, 4: 1, 5: 1, 6: -1, 7: -1}\n",
      "{0: 1, 1: -1, 2: -1, 3: -1, 4: 1, 5: 1, 6: -1, 7: 1}\n",
      "{0: -1, 1: 1, 2: -1, 3: 1, 4: 1, 5: -1, 6: 1, 7: -1}\n",
      "{0: -1, 1: 1, 2: 1, 3: 1, 4: 1, 5: -1, 6: -1, 7: -1}\n",
      "{0: -1, 1: -1, 2: 1, 3: 1, 4: -1, 5: 1, 6: 1, 7: -1}\n",
      "{0: -1, 1: 1, 2: 1, 3: -1, 4: 1, 5: 1, 6: -1, 7: -1}\n",
      "{0: -1, 1: 1, 2: -1, 3: -1, 4: 1, 5: -1, 6: 1, 7: 1}\n",
      "{0: 1, 1: 1, 2: -1, 3: -1, 4: -1, 5: 1, 6: 1, 7: -1}\n",
      "{0: 1, 1: 1, 2: -1, 3: -1, 4: 1, 5: 1, 6: -1, 7: -1}\n",
      "{0: -1, 1: -1, 2: 1, 3: 1, 4: -1, 5: -1, 6: 1, 7: 1}\n",
      "{0: 1, 1: 1, 2: -1, 3: -1, 4: -1, 5: -1, 6: 1, 7: 1}\n",
      "{0: -1, 1: 1, 2: -1, 3: 1, 4: 1, 5: -1, 6: 1, 7: -1}\n",
      "{0: -1, 1: 1, 2: -1, 3: -1, 4: 1, 5: 1, 6: 1, 7: -1}\n",
      "{0: -1, 1: 1, 2: -1, 3: -1, 4: 1, 5: -1, 6: 1, 7: 1}\n",
      "{0: -1, 1: 1, 2: 1, 3: -1, 4: 1, 5: 1, 6: -1, 7: -1}\n",
      "{0: 1, 1: 1, 2: -1, 3: 1, 4: -1, 5: -1, 6: 1, 7: -1}\n",
      "{0: 1, 1: 1, 2: 1, 3: -1, 4: -1, 5: -1, 6: -1, 7: 1}\n",
      "{0: -1, 1: -1, 2: -1, 3: 1, 4: 1, 5: -1, 6: 1, 7: 1}\n",
      "{0: -1, 1: -1, 2: -1, 3: 1, 4: 1, 5: -1, 6: 1, 7: 1}\n",
      "{0: -1, 1: -1, 2: 1, 3: 1, 4: -1, 5: -1, 6: 1, 7: 1}\n",
      "{0: 1, 1: -1, 2: -1, 3: -1, 4: 1, 5: 1, 6: -1, 7: 1}\n",
      "{0: -1, 1: -1, 2: -1, 3: 1, 4: 1, 5: -1, 6: 1, 7: 1}\n",
      "{0: -1, 1: 1, 2: 1, 3: -1, 4: -1, 5: -1, 6: 1, 7: 1}\n",
      "{0: 1, 1: -1, 2: -1, 3: 1, 4: -1, 5: -1, 6: 1, 7: 1}\n",
      "{0: 1, 1: -1, 2: 1, 3: 1, 4: -1, 5: -1, 6: -1, 7: 1}\n",
      "{0: -1, 1: 1, 2: 1, 3: 1, 4: 1, 5: -1, 6: -1, 7: -1}\n",
      "{0: 1, 1: -1, 2: -1, 3: 1, 4: 1, 5: 1, 6: -1, 7: -1}\n",
      "{0: -1, 1: 1, 2: 1, 3: 1, 4: 1, 5: -1, 6: -1, 7: -1}\n",
      "{0: -1, 1: -1, 2: -1, 3: -1, 4: 1, 5: 1, 6: 1, 7: 1}\n",
      "{0: -1, 1: -1, 2: 1, 3: 1, 4: 1, 5: 1, 6: -1, 7: -1}\n",
      "{0: 1, 1: -1, 2: -1, 3: 1, 4: -1, 5: 1, 6: 1, 7: -1}\n",
      "{0: -1, 1: 1, 2: 1, 3: 1, 4: 1, 5: -1, 6: -1, 7: -1}\n",
      "{0: -1, 1: 1, 2: -1, 3: -1, 4: 1, 5: -1, 6: 1, 7: 1}\n",
      "{0: -1, 1: -1, 2: -1, 3: -1, 4: 1, 5: 1, 6: 1, 7: 1}\n",
      "{0: -1, 1: -1, 2: 1, 3: 1, 4: -1, 5: -1, 6: 1, 7: 1}\n",
      "{0: 1, 1: -1, 2: 1, 3: 1, 4: -1, 5: 1, 6: -1, 7: -1}\n",
      "{0: -1, 1: -1, 2: 1, 3: 1, 4: 1, 5: -1, 6: -1, 7: 1}\n",
      "{0: 1, 1: -1, 2: -1, 3: -1, 4: 1, 5: 1, 6: -1, 7: 1}\n",
      "{0: -1, 1: 1, 2: 1, 3: -1, 4: 1, 5: 1, 6: -1, 7: -1}\n",
      "{0: -1, 1: 1, 2: 1, 3: -1, 4: -1, 5: 1, 6: 1, 7: -1}\n",
      "{0: 1, 1: 1, 2: 1, 3: -1, 4: -1, 5: -1, 6: -1, 7: 1}\n",
      "{0: 1, 1: -1, 2: -1, 3: 1, 4: 1, 5: 1, 6: -1, 7: -1}\n",
      "{0: 1, 1: -1, 2: 1, 3: 1, 4: -1, 5: 1, 6: -1, 7: -1}\n",
      "{0: -1, 1: -1, 2: 1, 3: 1, 4: -1, 5: -1, 6: 1, 7: 1}\n",
      "{0: -1, 1: -1, 2: -1, 3: 1, 4: 1, 5: -1, 6: 1, 7: 1}\n",
      "{0: -1, 1: 1, 2: -1, 3: 1, 4: 1, 5: -1, 6: 1, 7: -1}\n",
      "{0: 1, 1: 1, 2: -1, 3: 1, 4: -1, 5: -1, 6: 1, 7: -1}\n",
      "{0: 1, 1: -1, 2: 1, 3: 1, 4: -1, 5: 1, 6: -1, 7: -1}\n",
      "{0: 1, 1: 1, 2: 1, 3: 1, 4: -1, 5: -1, 6: -1, 7: -1}\n",
      "{0: 1, 1: -1, 2: -1, 3: 1, 4: 1, 5: 1, 6: -1, 7: -1}\n",
      "{0: -1, 1: -1, 2: 1, 3: -1, 4: -1, 5: 1, 6: 1, 7: 1}\n",
      "{0: -1, 1: 1, 2: 1, 3: -1, 4: 1, 5: -1, 6: -1, 7: 1}\n",
      "{0: -1, 1: -1, 2: 1, 3: 1, 4: -1, 5: 1, 6: 1, 7: -1}\n",
      "{0: -1, 1: 1, 2: 1, 3: -1, 4: -1, 5: -1, 6: 1, 7: 1}\n",
      "{0: -1, 1: -1, 2: 1, 3: 1, 4: 1, 5: -1, 6: -1, 7: 1}\n",
      "{0: -1, 1: -1, 2: -1, 3: 1, 4: 1, 5: -1, 6: 1, 7: 1}\n",
      "{0: 1, 1: -1, 2: -1, 3: 1, 4: 1, 5: 1, 6: -1, 7: -1}\n",
      "{0: -1, 1: -1, 2: 1, 3: -1, 4: 1, 5: 1, 6: -1, 7: 1}\n",
      "{0: -1, 1: -1, 2: 1, 3: 1, 4: 1, 5: 1, 6: -1, 7: -1}\n",
      "{0: 1, 1: 1, 2: 1, 3: 1, 4: -1, 5: -1, 6: -1, 7: -1}\n",
      "{0: 1, 1: -1, 2: -1, 3: -1, 4: -1, 5: 1, 6: 1, 7: 1}\n",
      "{0: -1, 1: 1, 2: 1, 3: -1, 4: 1, 5: 1, 6: -1, 7: -1}\n"
     ]
    }
   ],
   "source": [
    "k=0\n",
    "con1 = np.zeros(100)\n",
    "con2 = np.zeros(100)\n",
    "for sample in response:\n",
    "    print(sample)\n",
    "    for i in range(dim):\n",
    "        con1[k] = con1[k]+w1[i]*sample[i]\n",
    "        con2[k] = con2[k]+w2[i]*sample[i]\n",
    "    k = k+1"
   ]
  },
  {
   "cell_type": "code",
   "execution_count": 13,
   "metadata": {},
   "outputs": [
    {
     "name": "stdout",
     "output_type": "stream",
     "text": [
      "[0. 0. 0. 0. 0. 0. 0. 0. 0. 0. 0. 0. 0. 0. 0. 0. 0. 0. 0. 0. 0. 0. 0. 0.\n",
      " 0. 0. 0. 0. 0. 0. 0. 0. 0. 0. 0. 0. 0. 0. 0. 0. 0. 0. 0. 0. 0. 0. 0. 0.\n",
      " 0. 0. 0. 0. 0. 0. 0. 0. 0. 0. 0. 0. 0. 0. 0. 0. 0. 0. 0. 0. 0. 0. 0. 0.\n",
      " 0. 0. 0. 0. 0. 0. 0. 0. 0. 0. 0. 0. 0. 0. 0. 0. 0. 0. 0. 0. 0. 0. 0. 0.\n",
      " 0. 0. 0. 0.]\n"
     ]
    }
   ],
   "source": [
    "print(con1) #和"
   ]
  },
  {
   "cell_type": "code",
   "execution_count": 14,
   "metadata": {},
   "outputs": [
    {
     "name": "stdout",
     "output_type": "stream",
     "text": [
      "[0. 0. 0. 0. 0. 0. 0. 0. 0. 0. 0. 0. 0. 0. 0. 0. 0. 0. 0. 0. 0. 0. 0. 0.\n",
      " 0. 0. 0. 0. 0. 0. 0. 0. 0. 0. 0. 0. 0. 0. 0. 0. 0. 0. 0. 0. 0. 0. 0. 0.\n",
      " 0. 0. 0. 0. 0. 0. 0. 0. 0. 0. 0. 0. 0. 0. 0. 0. 0. 0. 0. 0. 0. 0. 0. 0.\n",
      " 0. 0. 0. 0. 0. 0. 0. 0. 0. 0. 0. 0. 0. 0. 0. 0. 0. 0. 0. 0. 0. 0. 0. 0.\n",
      " 0. 0. 0. 0.]\n"
     ]
    }
   ],
   "source": [
    "print(con2)"
   ]
  },
  {
   "cell_type": "code",
   "execution_count": 15,
   "metadata": {},
   "outputs": [
    {
     "name": "stdout",
     "output_type": "stream",
     "text": [
      "100\n"
     ]
    }
   ],
   "source": [
    "print(k)"
   ]
  },
  {
   "cell_type": "code",
   "execution_count": 14,
   "metadata": {},
   "outputs": [
    {
     "name": "stdout",
     "output_type": "stream",
     "text": [
      "Collecting pyqubo\n",
      "  Downloading https://files.pythonhosted.org/packages/28/57/ba41de3b13ba23e981463aa1daa2ebe6bd9dcddb15571e4c5905463326c7/pyqubo-0.4.0.tar.gz\n",
      "Requirement already satisfied: dimod>=0.7.4 in /usr/local/lib/python3.6/dist-packages (from pyqubo)\n",
      "Requirement already satisfied: dwave-neal>=0.4.2 in /usr/local/lib/python3.6/dist-packages (from pyqubo)\n",
      "Requirement already satisfied: numpy<2.0.0,>=1.14.0 in /usr/local/lib/python3.6/dist-packages (from pyqubo)\n",
      "Requirement already satisfied: six<2.0.0,>=1.10.0 in /usr/lib/python3/dist-packages (from pyqubo)\n",
      "Building wheels for collected packages: pyqubo\n",
      "  Running setup.py bdist_wheel for pyqubo ... \u001b[?25ldone\n",
      "\u001b[?25h  Stored in directory: /root/.cache/pip/wheels/77/b7/47/b989889699f788f4fecdc534bfddbb16df9a9a51f4e431b04d\n",
      "Successfully built pyqubo\n",
      "Installing collected packages: pyqubo\n",
      "Successfully installed pyqubo-0.4.0\n"
     ]
    }
   ],
   "source": [
    "!pip3 install pyqubo"
   ]
  },
  {
   "cell_type": "code",
   "execution_count": 15,
   "metadata": {},
   "outputs": [
    {
     "data": {
      "text/plain": [
       "((Binary(x[0])*((Binary(x[0])*Num(1))+(Binary(x[1])*Num(2))+(Binary(x[2])*Num(-1))+(Binary(x[3])*Num(0))))+(Binary(x[1])*((Binary(x[0])*Num(0))+(Binary(x[1])*Num(-1))+(Binary(x[2])*Num(-2))+(Binary(x[3])*Num(-1))))+(Binary(x[2])*((Binary(x[0])*Num(0))+(Binary(x[1])*Num(0))+(Binary(x[2])*Num(-2))+(Binary(x[3])*Num(2))))+(Binary(x[3])*((Binary(x[0])*Num(0))+(Binary(x[1])*Num(0))+(Binary(x[2])*Num(0))+(Binary(x[3])*Num(0)))))"
      ]
     },
     "execution_count": 15,
     "metadata": {},
     "output_type": "execute_result"
    }
   ],
   "source": [
    "import pyqubo\n",
    "Q = np.array([\n",
    "       [ 1,  2, -1,  0],\n",
    "       [ 0, -1, -2, -1],\n",
    "       [ 0,  0, -2,  2],\n",
    "       [ 0,  0,  0,  0]\n",
    "  ])\n",
    "x = pyqubo.Array.create('x', shape=(4), vartype='BINARY') \n",
    "xQx = x.dot(Q.dot(x))\n",
    "xQx"
   ]
  },
  {
   "cell_type": "code",
   "execution_count": null,
   "metadata": {},
   "outputs": [],
   "source": []
  }
 ],
 "metadata": {
  "kernelspec": {
   "display_name": "Python 3",
   "language": "python",
   "name": "python3"
  },
  "language_info": {
   "codemirror_mode": {
    "name": "ipython",
    "version": 3
   },
   "file_extension": ".py",
   "mimetype": "text/x-python",
   "name": "python",
   "nbconvert_exporter": "python",
   "pygments_lexer": "ipython3",
   "version": "3.6.9"
  }
 },
 "nbformat": 4,
 "nbformat_minor": 4
}
