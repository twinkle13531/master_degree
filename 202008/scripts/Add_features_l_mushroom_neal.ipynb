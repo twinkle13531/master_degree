{
 "cells": [
  {
   "cell_type": "markdown",
   "metadata": {},
   "source": [
    "### 方法\n",
    "```\n",
    "while 調べるべき特徴量がある限り :\n",
    "    for 調べる特徴量 in 調べる特徴量の数 :\n",
    "        ある特徴量ベクトルxiと元のy(y^)の内積を求める(t^i)\n",
    "        for 100程度 :\n",
    "            y^を、{t0 = t^0かつt1 = t^1...tj = t^j}という条件の元サンプリング（nealを使う）しyを生成する。\n",
    "            ある特徴量ベクトルxiとyの内積を求める(ti)\n",
    "        複数のtiを求めることによって得られた分布に対するt^iの位置から、p値を求める。\n",
    "    p値の一番小さいXsを知る。\n",
    "    条件{}にts = t^sを足す（更新する）\n",
    "    調べる特徴量からXsを除外（更新する）\n",
    "```\n",
    "\n",
    "#### 条件について\n",
    "- t0 = t^0 : 1の総和が同じ\n",
    "- tj = t^j : xの特徴量jつ目とyの内積の値が同じ\n",
    "\n",
    "### データ\n",
    "mushroomの50サンプル分\n",
    "\n",
    "### yのサンプリング\n",
    "- コンパイルを行うまでは`pyqubo`\n",
    "- SAは`SimulatedAnnealingSampler()`\n",
    "\n",
    "### 改訂(08/03)\n",
    "- ori_tiのkeyがなかった場合に1とする必要がない\n",
    "- sum([j[1] for j in ti_list])は必ず100である\n",
    "\n",
    "### 改訂（08/04）\n",
    "- samplingでnum=100とする。"
   ]
  },
  {
   "cell_type": "code",
   "execution_count": 1,
   "metadata": {},
   "outputs": [],
   "source": [
    "#!pip3 install dwave-neal"
   ]
  },
  {
   "cell_type": "code",
   "execution_count": 2,
   "metadata": {},
   "outputs": [],
   "source": [
    "import pandas as pd \n",
    "import numpy as np\n",
    "from neal import SimulatedAnnealingSampler\n",
    "from pyqubo import Array, Constraint, Placeholder, solve_qubo\n",
    "import sys"
   ]
  },
  {
   "cell_type": "code",
   "execution_count": 3,
   "metadata": {},
   "outputs": [],
   "source": [
    "X_mushroom = pd.read_csv(\"../input/X_l_mushroom.csv\", sep=',', index_col=0) #50bit\n",
    "y_mushroom = pd.read_csv('../input/y_l_mushroom.csv', sep=',', index_col=0)['21']\n",
    "\n",
    "num_samples = X_mushroom.shape[0]\n",
    "num_cols = X_mushroom.shape[1]\n",
    "columns = list(X_mushroom.columns)\n",
    "\n",
    "y_sum = sum(y_mushroom)"
   ]
  },
  {
   "cell_type": "code",
   "execution_count": 4,
   "metadata": {},
   "outputs": [
    {
     "data": {
      "text/plain": [
       "50"
      ]
     },
     "execution_count": 4,
     "metadata": {},
     "output_type": "execute_result"
    }
   ],
   "source": [
    "num_samples"
   ]
  },
  {
   "cell_type": "code",
   "execution_count": 5,
   "metadata": {},
   "outputs": [
    {
     "data": {
      "text/plain": [
       "26"
      ]
     },
     "execution_count": 5,
     "metadata": {},
     "output_type": "execute_result"
    }
   ],
   "source": [
    "y_sum"
   ]
  },
  {
   "cell_type": "markdown",
   "metadata": {},
   "source": [
    "## t^0だけでサンプリングをしてみる"
   ]
  },
  {
   "cell_type": "code",
   "execution_count": 23,
   "metadata": {},
   "outputs": [
    {
     "name": "stdout",
     "output_type": "stream",
     "text": [
      "[   10   100  1000 10000]\n",
      "[100, 500, 1000, 1500, 2000]\n"
     ]
    }
   ],
   "source": [
    "#numreadsは作るサンプル数（ダブリはあるはず）\n",
    "#numreadsは100, 500, 1000とするか、logをとるか(np.logspace)\n",
    "\n",
    "numreads_10 = np.logspace(1, 4, num=4, base=10, dtype=int)\n",
    "len(numreads_10) #4\n",
    "print(numreads_10)\n",
    "\n",
    "numreads_5 = [ll*100 for ll in range(1, 21) if ll%5==0 or ll==1]\n",
    "len(numreads_5) #5\n",
    "print(numreads_5)"
   ]
  },
  {
   "cell_type": "code",
   "execution_count": 31,
   "metadata": {},
   "outputs": [
    {
     "name": "stdout",
     "output_type": "stream",
     "text": [
      "     0    1       2    3    4       5       6    7       8       9  ...  \\\n",
      "0  1.0  0.0  0.5729  1.0  1.0  0.7108  0.0041  1.0  0.9797  0.9147  ...   \n",
      "1  1.0  0.0  0.5759  1.0  1.0  0.7121  0.0061  1.0  0.9764  0.9189  ...   \n",
      "2  1.0  0.0  0.5750  1.0  1.0  0.7091  0.0063  1.0  0.9781  0.9182  ...   \n",
      "3  1.0  0.0  0.5750  1.0  1.0  0.7157  0.0058  1.0  0.9789  0.9188  ...   \n",
      "4  1.0  0.0  0.5788  1.0  1.0  0.7096  0.0052  1.0  0.9777  0.9163  ...   \n",
      "5  1.0  0.0  0.5691  1.0  1.0  0.7190  0.0059  1.0  0.9780  0.9196  ...   \n",
      "6  1.0  0.0  0.5798  1.0  1.0  0.7147  0.0045  1.0  0.9771  0.9231  ...   \n",
      "7  1.0  0.0  0.5768  1.0  1.0  0.6999  0.0044  1.0  0.9758  0.9226  ...   \n",
      "8  1.0  0.0  0.5786  1.0  1.0  0.7068  0.0051  1.0  0.9780  0.9219  ...   \n",
      "9  1.0  0.0  0.5688  1.0  1.0  0.7082  0.0051  1.0  0.9775  0.9229  ...   \n",
      "\n",
      "      109  110     111     112     113     114     115     116     117     118  \n",
      "0  0.7091  1.0  0.0508  0.1464  0.1986  0.8229  0.5273  0.9998  0.7821  0.2585  \n",
      "1  0.7072  1.0  0.0497  0.1535  0.2014  0.8222  0.5257  1.0000  0.7681  0.2625  \n",
      "2  0.7103  1.0  0.0461  0.1450  0.1963  0.8276  0.5167  1.0000  0.7742  0.2676  \n",
      "3  0.7066  1.0  0.0515  0.1462  0.2034  0.8201  0.5201  0.9999  0.7787  0.2656  \n",
      "4  0.7042  1.0  0.0497  0.1493  0.2017  0.8179  0.5214  1.0000  0.7710  0.2665  \n",
      "5  0.7057  1.0  0.0523  0.1504  0.1929  0.8233  0.5205  1.0000  0.7731  0.2683  \n",
      "6  0.7144  1.0  0.0503  0.1490  0.2110  0.8250  0.5164  0.9999  0.7770  0.2711  \n",
      "7  0.7014  1.0  0.0500  0.1505  0.2057  0.8260  0.5181  1.0000  0.7805  0.2673  \n",
      "8  0.7110  1.0  0.0481  0.1498  0.2000  0.8267  0.5237  0.9999  0.7758  0.2630  \n",
      "9  0.7043  1.0  0.0464  0.1429  0.2098  0.8135  0.5183  1.0000  0.7709  0.2695  \n",
      "\n",
      "[10 rows x 119 columns]\n"
     ]
    }
   ],
   "source": [
    "qbl_p_list = [] ##\n",
    "for k in range(10): #10回回して平均、分散を得る\n",
    "    y = Array.create('y', shape=num_samples, vartype='BINARY')\n",
    "\n",
    "    #QUBO式で定式化\n",
    "    H = (sum(y) - y_sum)**2\n",
    "    qb = H.compile().to_qubo()\n",
    "    sa_sampler = SimulatedAnnealingSampler()\n",
    "    res = sa_sampler.sample_qubo(qb[0], num_reads=numreads_10[3]) #0, 1, 2, 3\n",
    "    #res = sa_sampler.sample_qubo(qb[0], num_reads=numreads_5[4]) #0, 1, 2, 3, 4\n",
    "    \n",
    "    #fig, ax = plt.subplots(int(num_cols/2), 2, figsize=(30,30))\n",
    "\n",
    "    qb_minP_cols = []\n",
    "    servey_num_col_list = columns\n",
    "    qbl_p = {} ##\n",
    "    \n",
    "    for i in servey_num_col_list: #A, B, ..., \n",
    "        ori_ti = int(np.dot(X_mushroom[i], y_mushroom)) #特徴量iを表すp\n",
    "\n",
    "        ti_dic = {} #{内積の値:該当数}という辞書。\n",
    "\n",
    "        for y_info in list(res.record):\n",
    "            y = pd.Series(y_info[0])\n",
    "\n",
    "            if int(np.dot(X_mushroom[i], y)) in ti_dic.keys():\n",
    "                ti_dic[int(np.dot(X_mushroom[i], y))] += 1\n",
    "            else:\n",
    "                ti_dic[int(np.dot(X_mushroom[i], y))] = 1\n",
    "\n",
    "        ti_list = sorted(ti_dic.items()) #listになり、要素はタプルになる。\n",
    "        franc = sum([j[1] for j in ti_list if j[0] >= ori_ti])\n",
    "        qbl_p[i] = franc/numreads_10[3] ##\n",
    "        #qbl_p[i] = franc/numreads_5[4] ##\n",
    "    \n",
    "    ##一周終了\n",
    "    qbl_p_list.append(qbl_p) ##\n",
    "\n",
    "## 10回終了\n",
    "to_qubol_p_10times = pd.DataFrame(qbl_p_list)\n",
    "print(to_qubol_p_10times)\n",
    "\n",
    "#to_qubol_p_10times.to_csv('../output/mushrooml/to_qubol_10samples_p_10time.csv')\n",
    "#to_qubol_p_10times.to_csv('../output/mushrooml/to_qubol_100samples_p_10time.csv')\n",
    "#to_qubol_p_10times.to_csv('../output/mushrooml/to_qubol_1000samples_p_10time.csv')\n",
    "to_qubol_p_10times.to_csv('../output/mushrooml/to_qubol_10000samples_p_10time.csv')\n",
    "\n",
    "\n",
    "##to_qubol_p_10times.to_csv('../output/mushrooml/to_qubol_100samples_p_10time.csv')\n",
    "#to_qubol_p_10times.to_csv('../output/mushrooml/to_qubol_500samples_p_10time.csv')\n",
    "##to_qubol_p_10times.to_csv('../output/mushrooml/to_qubol_1000samples_p_10time.csv')\n",
    "#to_qubol_p_10times.to_csv('../output/mushrooml/to_qubol_1500samples_p_10time.csv')\n",
    "#to_qubol_p_10times.to_csv('../output/mushrooml/to_qubol_2000samples_p_10time.csv')"
   ]
  },
  {
   "cell_type": "code",
   "execution_count": null,
   "metadata": {},
   "outputs": [],
   "source": []
  },
  {
   "cell_type": "code",
   "execution_count": 6,
   "metadata": {},
   "outputs": [],
   "source": [
    "def make_y(minP_cols):\n",
    "    # BINARY変数\n",
    "    y = Array.create('y', shape=num_samples, vartype='BINARY')\n",
    "    \n",
    "    #QUBO式で定式化\n",
    "    H = (sum(y) - y_sum)**2\n",
    "    \n",
    "    if len(minP_cols) > 0:\n",
    "        for i in minP_cols:\n",
    "            H_plus = (np.dot(X_mushroom[i], y) - np.dot(X_mushroom[i], y_mushroom))**2\n",
    "            H = H + H_plus\n",
    "    \n",
    "    bqm = H.compile().to_dimod_bqm()\n",
    "\n",
    "    sa_sampler = SimulatedAnnealingSampler()\n",
    "\n",
    "    res = sa_sampler.sample(bqm)\n",
    "\n",
    "    return pd.Series(list(list(res.record)[0][0]))"
   ]
  },
  {
   "cell_type": "code",
   "execution_count": 7,
   "metadata": {},
   "outputs": [],
   "source": [
    "minP_cols = []\n",
    "servey_num_col_list = columns\n",
    "distri_element_num = 100\n",
    "\n",
    "while len(servey_num_col_list) > 0:    \n",
    "    p = {}\n",
    "    for i in servey_num_col_list:\n",
    "        ori_ti = int(np.dot(X_mushroom[i], y_mushroom)) #特徴量iを表すp\n",
    "        \n",
    "        ti_dic = {} #{内積の値:該当数}という辞書。\n",
    "        \n",
    "        for _ in range(distri_element_num): \n",
    "            y = make_y(minP_cols)\n",
    "            \n",
    "            if int(np.dot(X_mushroom[i], y)) in ti_dic.keys():\n",
    "                ti_dic[int(np.dot(X_mushroom[i], y))] += 1\n",
    "            else:\n",
    "                ti_dic[int(np.dot(X_mushroom[i], y))] = 1\n",
    "                \n",
    "        count_better_t = sum([v for k, v in ti_dic.items() if k >= ori_ti])\n",
    "        p[i] = count_better_t / distri_element_num\n",
    "\n",
    "        \n",
    "    minP_keys = [k for k, v in p.items() if v == min(list(p.values()))]\n",
    "    minP_cols += minP_keys\n",
    "    servey_num_col_list = [i for i in servey_num_col_list if i not in minP_keys]"
   ]
  },
  {
   "cell_type": "code",
   "execution_count": 8,
   "metadata": {},
   "outputs": [
    {
     "data": {
      "text/plain": [
       "['1',\n",
       " '21',\n",
       " '27',\n",
       " '38',\n",
       " '56',\n",
       " '94',\n",
       " '100',\n",
       " '2',\n",
       " '6',\n",
       " '14',\n",
       " '25',\n",
       " '31',\n",
       " '37',\n",
       " '44',\n",
       " '45',\n",
       " '49',\n",
       " '50',\n",
       " '51',\n",
       " '60',\n",
       " '65',\n",
       " '67',\n",
       " '74',\n",
       " '76',\n",
       " '78',\n",
       " '83',\n",
       " '88',\n",
       " '97',\n",
       " '99',\n",
       " '101',\n",
       " '107',\n",
       " '108',\n",
       " '111',\n",
       " '112',\n",
       " '115',\n",
       " '18',\n",
       " '113',\n",
       " '52',\n",
       " '117',\n",
       " '118',\n",
       " '0',\n",
       " '3',\n",
       " '4',\n",
       " '5',\n",
       " '7',\n",
       " '8',\n",
       " '9',\n",
       " '10',\n",
       " '11',\n",
       " '12',\n",
       " '13',\n",
       " '15',\n",
       " '16',\n",
       " '17',\n",
       " '19',\n",
       " '20',\n",
       " '22',\n",
       " '23',\n",
       " '24',\n",
       " '26',\n",
       " '28',\n",
       " '29',\n",
       " '30',\n",
       " '32',\n",
       " '33',\n",
       " '34',\n",
       " '35',\n",
       " '36',\n",
       " '39',\n",
       " '40',\n",
       " '41',\n",
       " '42',\n",
       " '43',\n",
       " '46',\n",
       " '47',\n",
       " '48',\n",
       " '53',\n",
       " '54',\n",
       " '55',\n",
       " '57',\n",
       " '58',\n",
       " '59',\n",
       " '61',\n",
       " '62',\n",
       " '63',\n",
       " '64',\n",
       " '66',\n",
       " '68',\n",
       " '69',\n",
       " '70',\n",
       " '71',\n",
       " '72',\n",
       " '73',\n",
       " '75',\n",
       " '77',\n",
       " '79',\n",
       " '80',\n",
       " '81',\n",
       " '82',\n",
       " '84',\n",
       " '85',\n",
       " '86',\n",
       " '87',\n",
       " '89',\n",
       " '90',\n",
       " '91',\n",
       " '92',\n",
       " '93',\n",
       " '95',\n",
       " '96',\n",
       " '98',\n",
       " '102',\n",
       " '103',\n",
       " '104',\n",
       " '105',\n",
       " '106',\n",
       " '109',\n",
       " '110',\n",
       " '114',\n",
       " '116']"
      ]
     },
     "execution_count": 8,
     "metadata": {},
     "output_type": "execute_result"
    }
   ],
   "source": [
    "minP_cols"
   ]
  },
  {
   "cell_type": "code",
   "execution_count": null,
   "metadata": {},
   "outputs": [],
   "source": []
  },
  {
   "cell_type": "code",
   "execution_count": null,
   "metadata": {},
   "outputs": [],
   "source": []
  },
  {
   "cell_type": "code",
   "execution_count": null,
   "metadata": {},
   "outputs": [],
   "source": []
  }
 ],
 "metadata": {
  "kernelspec": {
   "display_name": "Python 3",
   "language": "python",
   "name": "python3"
  },
  "language_info": {
   "codemirror_mode": {
    "name": "ipython",
    "version": 3
   },
   "file_extension": ".py",
   "mimetype": "text/x-python",
   "name": "python",
   "nbconvert_exporter": "python",
   "pygments_lexer": "ipython3",
   "version": "3.6.9"
  }
 },
 "nbformat": 4,
 "nbformat_minor": 4
}
