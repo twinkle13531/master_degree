{
 "cells": [
  {
   "cell_type": "markdown",
   "metadata": {},
   "source": [
    "### 方法\n",
    "```\n",
    "while 調べるべき特徴量がある限り :\n",
    "    for 調べる特徴量 in 調べる特徴量の数 :\n",
    "        ある特徴量ベクトルxiと元のy(y^)の内積を求める(t^i)\n",
    "        for 100程度 :\n",
    "            y^を、{t0 = t^0かつt1 = t^1...tj = t^j}という条件の元サンプリング（nealを使う）しyを生成する。\n",
    "            ある特徴量ベクトルxiとyの内積を求める(ti)\n",
    "        複数のtiを求めることによって得られた分布に対するt^iの位置から、p値を求める。\n",
    "    p値の一番小さいXsを知る。\n",
    "    条件{}にts = t^sを足す（更新する）\n",
    "    調べる特徴量からXsを除外（更新する）\n",
    "```\n",
    "\n",
    "#### 条件について\n",
    "- t0 = t^0 : 1の総和が同じ\n",
    "- tj = t^j : xの特徴量jつ目とyの内積の値が同じ\n",
    "\n",
    "### データ\n",
    "mushroomの50サンプル分\n",
    "\n",
    "### yのサンプリング\n",
    "- コンパイルを行うまでは`pyqubo`\n",
    "- SAは`SimulatedAnnealingSampler()`\n",
    "\n",
    "### 改訂(08/03)\n",
    "- ori_tiのkeyがなかった場合に1とする必要がない\n",
    "- sum([j[1] for j in ti_list])は必ず100である\n",
    "\n",
    "### 改訂（08/04）\n",
    "- samplingでnum=100とする。\n",
    "\n",
    "\n",
    "### 改訂（08/18）\n",
    "- mushroom_lの1の総数を8にしよう。(今までは3だった)\n",
    "- A4を2枚\n",
    "- 幅を付けた図を描く\n",
    "- tを0, 1と増やす\n",
    "\n",
    "### 改訂\n",
    "- 8/18に新たに作ったデータではt^1のとき該当するyが一つであったため非常に難しいと判断。再度作り直して実験することにした。"
   ]
  },
  {
   "cell_type": "code",
   "execution_count": 1,
   "metadata": {},
   "outputs": [],
   "source": [
    "#!pip3 install dwave-neal"
   ]
  },
  {
   "cell_type": "code",
   "execution_count": 2,
   "metadata": {},
   "outputs": [],
   "source": [
    "import pandas as pd \n",
    "import numpy as np\n",
    "from neal import SimulatedAnnealingSampler\n",
    "from pyqubo import Array, Constraint, Placeholder, solve_qubo\n",
    "import sys\n",
    "import pprint"
   ]
  },
  {
   "cell_type": "code",
   "execution_count": 3,
   "metadata": {},
   "outputs": [],
   "source": [
    "X_mushroom = pd.read_csv(\"../input/X_l_mushroom.csv\", sep=',', index_col=0) #50bit\n",
    "y_mushroom = pd.read_csv('../input/y_l_mushroom.csv', sep=',', index_col=0)['21']\n",
    "\n",
    "num_samples = X_mushroom.shape[0]\n",
    "num_cols = X_mushroom.shape[1]\n",
    "columns = list(X_mushroom.columns)\n",
    "\n",
    "y_sum = sum(y_mushroom)"
   ]
  },
  {
   "cell_type": "code",
   "execution_count": 4,
   "metadata": {},
   "outputs": [
    {
     "name": "stdout",
     "output_type": "stream",
     "text": [
      "117\n"
     ]
    },
    {
     "data": {
      "text/plain": [
       "str"
      ]
     },
     "execution_count": 4,
     "metadata": {},
     "output_type": "execute_result"
    }
   ],
   "source": [
    "num_samples\n",
    "print(len(columns))\n",
    "type(columns[0])"
   ]
  },
  {
   "cell_type": "code",
   "execution_count": 5,
   "metadata": {},
   "outputs": [
    {
     "data": {
      "text/plain": [
       "117"
      ]
     },
     "execution_count": 5,
     "metadata": {},
     "output_type": "execute_result"
    }
   ],
   "source": [
    "num_cols"
   ]
  },
  {
   "cell_type": "code",
   "execution_count": 6,
   "metadata": {},
   "outputs": [
    {
     "data": {
      "text/plain": [
       "8"
      ]
     },
     "execution_count": 6,
     "metadata": {},
     "output_type": "execute_result"
    }
   ],
   "source": [
    "y_sum"
   ]
  },
  {
   "cell_type": "code",
   "execution_count": 7,
   "metadata": {},
   "outputs": [
    {
     "data": {
      "text/plain": [
       "65536"
      ]
     },
     "execution_count": 7,
     "metadata": {},
     "output_type": "execute_result"
    }
   ],
   "source": [
    "2**16"
   ]
  },
  {
   "cell_type": "code",
   "execution_count": null,
   "metadata": {},
   "outputs": [],
   "source": []
  },
  {
   "cell_type": "markdown",
   "metadata": {},
   "source": [
    "## t^0だけでサンプリングをしてみる\n",
    "\n",
    "- minPの特徴量を知る（10回とも同じ？、）"
   ]
  },
  {
   "cell_type": "code",
   "execution_count": 8,
   "metadata": {},
   "outputs": [
    {
     "name": "stdout",
     "output_type": "stream",
     "text": [
      "[   10   100  1000 10000]\n",
      "[100, 500, 1000, 1500, 2000]\n"
     ]
    }
   ],
   "source": [
    "#numreadsは作るサンプル数（ダブリはあるはず）\n",
    "#numreadsは100, 500, 1000とするか、logをとるか(np.logspace)\n",
    "\n",
    "numreads_10 = np.logspace(1, 4, num=4, base=10, dtype=int)\n",
    "len(numreads_10) #4\n",
    "print(numreads_10)\n",
    "\n",
    "numreads_5 = [ll*100 for ll in range(1, 21) if ll%5==0 or ll==1]\n",
    "len(numreads_5) #5\n",
    "print(numreads_5)"
   ]
  },
  {
   "cell_type": "markdown",
   "metadata": {},
   "source": [
    "```python\n",
    "y = Array.create('y', shape=num_samples, vartype='BINARY')\n",
    "\n",
    "#QUBO式で定式化\n",
    "H = (sum(y) - y_sum)**2\n",
    "qb = H.compile().to_qubo()\n",
    "sa_sampler = SimulatedAnnealingSampler()\n",
    "res = sa_sampler.sample_qubo(qb[0], num_reads=numreads_10[2]) #0, 1, 2, 3\n",
    "#res = sa_sampler.sample_qubo(qb[0], num_reads=numreads_5[4]) #0, 1, 2, 3, 4\n",
    "\n",
    "tt = 0\n",
    "for y_info in list(res.record):\n",
    "    if sum(y_info[0]) - y_sum==0:\n",
    "        tt += 1\n",
    "print(tt)#1000だったり999だったり→やはり条件に適しているか毎回確認する必要がありそう\n",
    "```"
   ]
  },
  {
   "cell_type": "code",
   "execution_count": 69,
   "metadata": {},
   "outputs": [
    {
     "name": "stdout",
     "output_type": "stream",
     "text": [
      "     0       1         2         3    4         5         6    7         8  \\\n",
      "0  1.0  0.0000  0.984000  0.211000  1.0  0.734500  0.297000  1.0  0.717500   \n",
      "1  1.0  0.0000  0.979490  0.233117  1.0  0.708854  0.309155  1.0  0.702351   \n",
      "2  1.0  0.0000  0.975488  0.246623  1.0  0.712356  0.299650  1.0  0.728364   \n",
      "3  1.0  0.0005  0.980000  0.242000  1.0  0.716500  0.301500  1.0  0.736500   \n",
      "4  1.0  0.0000  0.977489  0.238619  1.0  0.719360  0.307154  1.0  0.734367   \n",
      "5  1.0  0.0000  0.976500  0.239000  1.0  0.709000  0.285500  1.0  0.718000   \n",
      "6  1.0  0.0000  0.980500  0.253500  1.0  0.716000  0.295000  1.0  0.726000   \n",
      "7  1.0  0.0005  0.979990  0.231116  1.0  0.722361  0.302651  1.0  0.705353   \n",
      "8  1.0  0.0000  0.981500  0.229000  1.0  0.713000  0.294000  1.0  0.720000   \n",
      "9  1.0  0.0000  0.984000  0.224000  1.0  0.709000  0.307000  1.0  0.709500   \n",
      "\n",
      "          9  ...  108       109       110       111       112       113  \\\n",
      "0  0.944000  ...  1.0  0.478500  0.839500  0.908500  0.497000  0.286500   \n",
      "1  0.942971  ...  1.0  0.514257  0.836918  0.880940  0.492746  0.310655   \n",
      "2  0.937969  ...  1.0  0.511256  0.851926  0.882941  0.480740  0.312656   \n",
      "3  0.934500  ...  1.0  0.516500  0.832000  0.895500  0.500500  0.311000   \n",
      "4  0.924462  ...  1.0  0.502751  0.848424  0.899950  0.516258  0.300650   \n",
      "5  0.945000  ...  1.0  0.495000  0.850000  0.898500  0.490000  0.307500   \n",
      "6  0.932000  ...  1.0  0.528500  0.829500  0.908500  0.497000  0.296000   \n",
      "7  0.946473  ...  1.0  0.500750  0.844422  0.894447  0.511256  0.311156   \n",
      "8  0.944500  ...  1.0  0.486000  0.843500  0.903000  0.501000  0.299000   \n",
      "9  0.941000  ...  1.0  0.496500  0.833500  0.909000  0.495500  0.304000   \n",
      "\n",
      "        114  115       116  117  \n",
      "0  0.756000  1.0  0.913500  1.0  \n",
      "1  0.772886  1.0  0.902451  1.0  \n",
      "2  0.786893  1.0  0.903452  1.0  \n",
      "3  0.756500  1.0  0.909500  1.0  \n",
      "4  0.765883  1.0  0.901451  1.0  \n",
      "5  0.784000  1.0  0.903000  1.0  \n",
      "6  0.769500  1.0  0.902000  1.0  \n",
      "7  0.776388  1.0  0.896448  1.0  \n",
      "8  0.763500  1.0  0.914500  1.0  \n",
      "9  0.749000  1.0  0.902000  1.0  \n",
      "\n",
      "[10 rows x 118 columns]\n"
     ]
    }
   ],
   "source": [
    "qbl_p_list = [] ##\n",
    "for k in range(10): #10回回して平均、分散を得る\n",
    "    y = Array.create('y', shape=num_samples, vartype='BINARY')\n",
    "\n",
    "    #QUBO式で定式化\n",
    "    H = (sum(y) - y_sum)**2\n",
    "    qb = H.compile().to_qubo()\n",
    "    sa_sampler = SimulatedAnnealingSampler()\n",
    "    #res = sa_sampler.sample_qubo(qb[0], num_reads=numreads_10[3]) #0, 1, 2, 3\n",
    "    res = sa_sampler.sample_qubo(qb[0], num_reads=numreads_5[4]) #1, 3, 4\n",
    "    \n",
    "    #fig, ax = plt.subplots(int(num_cols/2), 2, figsize=(30,30))\n",
    "\n",
    "    qb_minP_cols = []\n",
    "    servey_num_col_list = columns\n",
    "    qbl_p = {} ##\n",
    "    \n",
    "    for i in servey_num_col_list: #1, 2, ..., \n",
    "        ori_ti = int(np.dot(X_mushroom[i], y_mushroom)) #特徴量iを表すp\n",
    "\n",
    "        ti_dic = {} #{内積の値:該当数}という辞書。\n",
    "\n",
    "        valid_y_num = 0\n",
    "        for y_info in list(res.record):\n",
    "            if sum(y_info[0]) - y_sum == 0: #サンプリングした結果が本当に条件に適しているのか確認\n",
    "                valid_y_num += 1\n",
    "                y = pd.Series(y_info[0])\n",
    "\n",
    "                if int(np.dot(X_mushroom[i], y)) in ti_dic.keys():\n",
    "                    ti_dic[int(np.dot(X_mushroom[i], y))] += 1\n",
    "                else:\n",
    "                    ti_dic[int(np.dot(X_mushroom[i], y))] = 1\n",
    "\n",
    "        ti_list = sorted(ti_dic.items()) #listになり、要素はタプルになる。\n",
    "        franc = sum([j[1] for j in ti_list if j[0] > ori_ti]) #変更してみた2020/08/21\n",
    "        qbl_p[i] = franc/valid_y_num\n",
    "        \n",
    "    ##一周終了\n",
    "    qbl_p_list.append(qbl_p) ##\n",
    "\n",
    "## 10回終了\n",
    "to_qubol_p_10times = pd.DataFrame(qbl_p_list)\n",
    "print(to_qubol_p_10times)\n",
    "\n",
    "#最小値のpの列名取得（typeはarray)\n",
    "np.where(to_qubol_p_10times.mean() == to_qubol_p_10times.mean().min())[0]\n",
    "\n",
    "#to_qubol_p_10times.to_csv('../output/mushrooml/to_qubol_10samples_p_10time.csv')\n",
    "#to_qubol_p_10times.to_csv('../output/mushrooml/to_qubol_100samples_p_10time.csv')\n",
    "#to_qubol_p_10times.to_csv('../output/mushrooml/to_qubol_1000samples_p_10time.csv')\n",
    "#to_qubol_p_10times.to_csv('../output/mushrooml/to_qubol_10000samples_p_10time.csv')\n",
    "\n",
    "\n",
    "##to_qubol_p_10times.to_csv('../output/mushrooml/to_qubol_100samples_p_10time.csv')\n",
    "#to_qubol_p_10times.to_csv('../output/mushrooml/to_qubol_500samples_p_10time.csv')\n",
    "##to_qubol_p_10times.to_csv('../output/mushrooml/to_qubol_1000samples_p_10time.csv')\n",
    "#to_qubol_p_10times.to_csv('../output/mushrooml/to_qubol_1500samples_p_10time.csv')\n",
    "to_qubol_p_10times.to_csv('../output/mushrooml/to_qubol_2000samples_p_10time.csv')"
   ]
  },
  {
   "cell_type": "markdown",
   "metadata": {},
   "source": [
    "-----\n",
    "\n",
    "#### メモ帳"
   ]
  },
  {
   "cell_type": "code",
   "execution_count": 65,
   "metadata": {},
   "outputs": [
    {
     "name": "stdout",
     "output_type": "stream",
     "text": [
      "0      1.000000\n",
      "1      0.000060\n",
      "2      0.979476\n",
      "3      0.232914\n",
      "4      1.000000\n",
      "         ...   \n",
      "113    0.306048\n",
      "114    0.765985\n",
      "115    1.000000\n",
      "116    0.900541\n",
      "117    1.000000\n",
      "Length: 118, dtype: float64\n"
     ]
    }
   ],
   "source": [
    "#10000で実験\n",
    "print(to_qubol_p_10times.mean())"
   ]
  },
  {
   "cell_type": "code",
   "execution_count": 66,
   "metadata": {},
   "outputs": [
    {
     "data": {
      "text/plain": [
       "'1'"
      ]
     },
     "execution_count": 66,
     "metadata": {},
     "output_type": "execute_result"
    }
   ],
   "source": [
    "#10000で実験\n",
    "to_qubol_p_10times.mean().idxmin(axis=1) #enumurateと同じ結果"
   ]
  },
  {
   "cell_type": "code",
   "execution_count": 72,
   "metadata": {},
   "outputs": [
    {
     "data": {
      "text/plain": [
       "1"
      ]
     },
     "execution_count": 72,
     "metadata": {},
     "output_type": "execute_result"
    }
   ],
   "source": [
    "to_qubol_p_10times.mean().argmin()"
   ]
  },
  {
   "cell_type": "code",
   "execution_count": 77,
   "metadata": {},
   "outputs": [
    {
     "data": {
      "text/plain": [
       "array([1])"
      ]
     },
     "execution_count": 77,
     "metadata": {},
     "output_type": "execute_result"
    }
   ],
   "source": [
    "np.where(to_qubol_p_10times.mean() == to_qubol_p_10times.mean().min())[0]"
   ]
  },
  {
   "cell_type": "code",
   "execution_count": 84,
   "metadata": {},
   "outputs": [
    {
     "data": {
      "text/plain": [
       "[1]"
      ]
     },
     "execution_count": 84,
     "metadata": {},
     "output_type": "execute_result"
    }
   ],
   "source": [
    "list(np.where(to_qubol_p_10times.mean() == to_qubol_p_10times.mean().min())[0])"
   ]
  },
  {
   "cell_type": "code",
   "execution_count": 85,
   "metadata": {},
   "outputs": [
    {
     "data": {
      "text/plain": [
       "list"
      ]
     },
     "execution_count": 85,
     "metadata": {},
     "output_type": "execute_result"
    }
   ],
   "source": [
    "type(list(np.where(to_qubol_p_10times.mean() == to_qubol_p_10times.mean().min())[0]))"
   ]
  },
  {
   "cell_type": "code",
   "execution_count": 78,
   "metadata": {},
   "outputs": [
    {
     "data": {
      "text/plain": [
       "numpy.ndarray"
      ]
     },
     "execution_count": 78,
     "metadata": {},
     "output_type": "execute_result"
    }
   ],
   "source": [
    "type(np.where(to_qubol_p_10times.mean() == to_qubol_p_10times.mean().min())[0])"
   ]
  },
  {
   "cell_type": "code",
   "execution_count": 81,
   "metadata": {},
   "outputs": [
    {
     "data": {
      "text/plain": [
       "[1, 2, 13, 4]"
      ]
     },
     "execution_count": 81,
     "metadata": {},
     "output_type": "execute_result"
    }
   ],
   "source": [
    "[1, 2] + [13, 4]"
   ]
  },
  {
   "cell_type": "code",
   "execution_count": 87,
   "metadata": {},
   "outputs": [
    {
     "data": {
      "text/plain": [
       "[1, 2, 13]"
      ]
     },
     "execution_count": 87,
     "metadata": {},
     "output_type": "execute_result"
    }
   ],
   "source": [
    "a = [1, 2]\n",
    "a += [13]\n",
    "a"
   ]
  },
  {
   "cell_type": "code",
   "execution_count": 83,
   "metadata": {},
   "outputs": [
    {
     "data": {
      "text/plain": [
       "array([ 1,  2, 13,  4])"
      ]
     },
     "execution_count": 83,
     "metadata": {},
     "output_type": "execute_result"
    }
   ],
   "source": [
    "np.append(np.array([1, 2]), np.array([13, 4]))"
   ]
  },
  {
   "cell_type": "code",
   "execution_count": 86,
   "metadata": {},
   "outputs": [
    {
     "data": {
      "text/plain": [
       "[1, 2, 13, 4]"
      ]
     },
     "execution_count": 86,
     "metadata": {},
     "output_type": "execute_result"
    }
   ],
   "source": [
    "list(np.append(np.array([1, 2]), np.array([13, 4])))"
   ]
  },
  {
   "cell_type": "markdown",
   "metadata": {},
   "source": [
    "----"
   ]
  },
  {
   "cell_type": "markdown",
   "metadata": {},
   "source": [
    "## t^0, t^1だけ\n",
    "\n",
    "- 平均などt^0のときと同じ図を出力する\n",
    "- 一番小さいiを知る\n"
   ]
  },
  {
   "cell_type": "code",
   "execution_count": 9,
   "metadata": {},
   "outputs": [],
   "source": [
    "def make_y(minP_cols, numreads):\n",
    "    \n",
    "    # BINARY変数\n",
    "    y = Array.create('y', shape=num_samples, vartype='BINARY')\n",
    "    \n",
    "    # t0の条件\n",
    "    H = (sum(y) - y_sum)**2\n",
    "    \n",
    "    # tのそれ以外の条件\n",
    "    if len(minP_cols) > 0:\n",
    "        for i in minP_cols:\n",
    "            H_plus = (np.dot(X_mushroom[str(i)], y) - np.dot(X_mushroom[str(i)], y_mushroom))**2\n",
    "            H = H + H_plus\n",
    "    \n",
    "    qb = H.compile().to_qubo()\n",
    "    sa_sampler = SimulatedAnnealingSampler()\n",
    "\n",
    "    res = sa_sampler.sample_qubo(qb[0], num_reads=numreads)\n",
    "    \n",
    "    # 本当に条件に適しているか確認して新たなリストに格納\n",
    "    valid_y_list = []\n",
    "    for y_info in list(res.record):\n",
    "        if sum(y_info[0]) - y_sum !=0:\n",
    "            continue\n",
    "        if len(minP_cols) == 0:\n",
    "            valid_y_list.append(pd.Series(y_info[0]))\n",
    "        else:\n",
    "            for i in minP_cols:\n",
    "                if np.dot(X_mushroom[str(i)], pd.Series(y_info[0])) - np.dot(X_mushroom[str(i)], y_mushroom)!=0:\n",
    "                    break                 \n",
    "            else:\n",
    "                valid_y_list.append(pd.Series(y_info[0]))\n",
    "                    \n",
    "    return valid_y_list"
   ]
  },
  {
   "cell_type": "code",
   "execution_count": 10,
   "metadata": {},
   "outputs": [],
   "source": [
    "#numreadsの違いによって、tをいくつまで(0-)回せるのか、minPlistはどう変わるのか、確認する\n",
    "t_num_dic = {}"
   ]
  },
  {
   "cell_type": "code",
   "execution_count": 12,
   "metadata": {},
   "outputs": [
    {
     "name": "stdout",
     "output_type": "stream",
     "text": [
      "        0    1         2         3    4         5         6    7         8  \\\n",
      "0  0.9999  0.0  0.693800  0.764500  0.0  0.005500  0.140600  0.0  0.492000   \n",
      "1  0.9999  0.0  0.698170  0.771577  0.0  0.004800  0.138014  0.0  0.504450   \n",
      "2  1.0000  0.0  0.689238  0.765453  0.0  0.004801  0.137327  0.0  0.501400   \n",
      "3  0.9998  0.0  0.692508  0.759328  0.0  0.005602  0.139642  0.0  0.491047   \n",
      "4  0.9998  0.0  0.691238  0.756051  0.0  0.006301  0.138628  0.0  0.492699   \n",
      "5  0.9998  0.0  0.692369  0.766877  0.0  0.004500  0.143614  0.0  0.502750   \n",
      "6  0.9999  0.0  0.693477  0.766106  0.0  0.005002  0.142257  0.0  0.502801   \n",
      "7  0.9998  0.0  0.697609  0.756727  0.0  0.005702  0.138342  0.0  0.503351   \n",
      "8  1.0000  0.0  0.696539  0.771154  0.0  0.005201  0.146029  0.0  0.502601   \n",
      "9  1.0000  0.0  0.694939  0.767654  0.0  0.005001  0.136227  0.0  0.506601   \n",
      "\n",
      "          9  ...  107  108       109       110  111       112       113  \\\n",
      "0  0.308900  ...  0.0  0.0  0.766500  0.282300  0.0  0.006700  0.897300   \n",
      "1  0.301530  ...  0.0  0.0  0.769677  0.284428  0.0  0.005301  0.899790   \n",
      "2  0.310062  ...  0.0  0.0  0.765753  0.282857  0.0  0.004001  0.901780   \n",
      "3  0.306992  ...  0.0  0.0  0.764329  0.281284  0.0  0.005802  0.898870   \n",
      "4  0.310162  ...  0.0  0.0  0.758052  0.285457  0.0  0.005401  0.897479   \n",
      "5  0.302430  ...  0.0  0.0  0.762476  0.289429  0.0  0.006001  0.898990   \n",
      "6  0.303221  ...  0.0  0.0  0.763305  0.284914  0.0  0.003802  0.899460   \n",
      "7  0.310093  ...  0.0  0.0  0.768130  0.278484  0.0  0.005802  0.899770   \n",
      "8  0.303661  ...  0.0  0.0  0.763053  0.286857  0.0  0.005401  0.895979   \n",
      "9  0.301560  ...  0.0  0.0  0.769454  0.278856  0.0  0.004001  0.903581   \n",
      "\n",
      "        114  115       116  \n",
      "0  0.096000  0.0  0.768300  \n",
      "1  0.103110  0.0  0.755576  \n",
      "2  0.101520  0.0  0.768554  \n",
      "3  0.098730  0.0  0.764729  \n",
      "4  0.103221  0.0  0.765153  \n",
      "5  0.105411  0.0  0.768277  \n",
      "6  0.094638  0.0  0.766307  \n",
      "7  0.101731  0.0  0.769431  \n",
      "8  0.096219  0.0  0.769054  \n",
      "9  0.103421  0.0  0.761052  \n",
      "\n",
      "[10 rows x 117 columns]\n",
      "[1, 4, 7, 10, 11, 15, 16, 17, 19, 22, 23, 25, 26, 27, 30, 31, 32, 34, 35, 36, 37, 38, 41, 43, 44, 45, 46, 48, 49, 51, 56, 57, 60, 63, 64, 65, 66, 67, 70, 72, 73, 74, 76, 77, 79, 80, 81, 82, 83, 85, 86, 87, 88, 89, 91, 93, 94, 95, 96, 97, 100, 101, 102, 103, 105, 106, 107, 108, 111, 115]\n",
      "1\n"
     ]
    },
    {
     "name": "stderr",
     "output_type": "stream",
     "text": [
      "/usr/local/lib/python3.6/dist-packages/ipykernel_launcher.py:58: FutureWarning: elementwise comparison failed; returning scalar instead, but in the future will perform elementwise comparison\n"
     ]
    },
    {
     "name": "stdout",
     "output_type": "stream",
     "text": [
      "{10000: [0, [1, 4, 7, 10, 11, 15, 16, 17, 19, 22, 23, 25, 26, 27, 30, 31, 32, 34, 35, 36, 37, 38, 41, 43, 44, 45, 46, 48, 49, 51, 56, 57, 60, 63, 64, 65, 66, 67, 70, 72, 73, 74, 76, 77, 79, 80, 81, 82, 83, 85, 86, 87, 88, 89, 91, 93, 94, 95, 96, 97, 100, 101, 102, 103, 105, 106, 107, 108, 111, 115]]}\n",
      "----------------\n"
     ]
    }
   ],
   "source": [
    "minP_cols = []\n",
    "servey_num_col_list = columns\n",
    "\n",
    "#while len(servey_num_col_list) > 0:\n",
    "tt = 0\n",
    "while tt < 2:\n",
    "    \n",
    "    qbl_p_list = [] ##\n",
    "    for k in range(20): #10回回して平均、分散を得る\n",
    "        valid_y_list = make_y(minP_cols, numreads_10[3]) #0, 1, 2, 3\n",
    "        #valid_y_list = make_y(minP_cols, numreads_5[4]) #1, 3, 4\n",
    "        \n",
    "        if len(valid_y_list) == 0:\n",
    "            continue\n",
    "        \n",
    "        qbl_p = {} ##\n",
    "        for i in servey_num_col_list:\n",
    "            ori_ti = int(np.dot(X_mushroom[i], y_mushroom)) #特徴量iを表すp\n",
    "\n",
    "            ti_dic = {} #{内積の値:該当数}という辞書。\n",
    "            \n",
    "            for y in valid_y_list:      \n",
    "                if int(np.dot(X_mushroom[i], y)) in ti_dic.keys():\n",
    "                    ti_dic[int(np.dot(X_mushroom[i], y))] += 1\n",
    "                else:\n",
    "                    ti_dic[int(np.dot(X_mushroom[i], y))] = 1\n",
    "\n",
    "            ti_list = sorted(ti_dic.items()) #listになり、要素はタプルになる。\n",
    "            franc = sum([j[1] for j in ti_list if j[0] > ori_ti]) #変更してみた2020/08/21\n",
    "            qbl_p[i] = franc/len(valid_y_list)\n",
    "        \n",
    "\n",
    "        ##一周終了\n",
    "        qbl_p_list.append(qbl_p) ##\n",
    "        \n",
    "        if len(qbl_p_list) == 10:\n",
    "            break\n",
    "            \n",
    "    ## 10回終了\n",
    "    to_qubol_p_10times = pd.DataFrame(qbl_p_list)\n",
    "    \n",
    "    if to_qubol_p_10times.shape[0] < 10:\n",
    "        t_num_dic[numreads_10[3]] = [tt-1, minP_cols] #0, 1, 2, 3\n",
    "        #t_num_dic[numreads_5[4]] = [tt-1, minP_cols] #1, 3, 4\n",
    "        print(t_num_dic)\n",
    "        print('----------------')\n",
    "        break\n",
    "    \n",
    "    else:\n",
    "        print(to_qubol_p_10times) #表示\n",
    "    \n",
    "    #最小値のpの列名取得（typeはarray)\n",
    "    minP_keys = np.where(to_qubol_p_10times.mean() == to_qubol_p_10times.mean().min())[0]\n",
    "    print(list(minP_keys)) #表示\n",
    "    \n",
    "    minP_cols += list(minP_keys)\n",
    "\n",
    "    servey_num_col_list = [i for i in servey_num_col_list if i not in minP_keys]\n",
    "    \n",
    "    tt +=1\n",
    "    print(tt) #表示\n",
    "    \n",
    "#to_qubol_p_10times.to_csv('../output/mushrooml/t0t1_qubol_10samples_p_10time.csv')\n",
    "#to_qubol_p_10times.to_csv('../output/mushrooml/t0t1_qubol_100samples_p_10time.csv')\n",
    "#to_qubol_p_10times.to_csv('../output/mushrooml/t0t1_qubol_1000samples_p_10time.csv')\n",
    "to_qubol_p_10times.to_csv('../output/mushrooml/t0t1_qubol_10000samples_p_10time.csv')\n",
    "\n",
    "##to_qubol_p_10times.to_csv('../output/mushrooml/t0t1_qubol_100samples_p_10time.csv')\n",
    "#to_qubol_p_10times.to_csv('../output/mushrooml/t0t1_qubol_500samples_p_10time.csv')\n",
    "##to_qubol_p_10times.to_csv('../output/mushrooml/t0t1_qubol_1000samples_p_10time.csv')\n",
    "#to_qubol_p_10times.to_csv('../output/mushrooml/t0t1_qubol_1500samples_p_10time.csv')\n",
    "#to_qubol_p_10times.to_csv('../output/mushrooml/t0t1_qubol_2000samples_p_10time.csv')"
   ]
  },
  {
   "cell_type": "code",
   "execution_count": null,
   "metadata": {},
   "outputs": [],
   "source": []
  },
  {
   "cell_type": "markdown",
   "metadata": {},
   "source": [
    "#### 考察\n",
    "numreads = 10のとき\n",
    "- サンプル数が足りず、27という特徴量もp値が小さくなった。t^1の際は1, 27両方の特徴量についての条件を満たすyは一つ存在するが得られなかったよう。\n",
    "\n",
    "numreads = 100のとき\n",
    "- サンプル数が足りず、27という特徴量もp値が小さくなった。t^1の際は1, 27両方の特徴量についての条件を満たすyは一つ存在するが得られなかったよう。\n",
    "\n",
    "numreads = 1000のとき\n",
    "- 1だけ選ばれた。実際は1の特徴量についての条件を満たすyは一つ存在するのだが得られなかったよう。\n",
    "\n",
    "numreads = 500のとき\n",
    "- 1だけ選ばれた。実際は1の特徴量についての条件を満たすyは一つ存在するのだが得られなかったよう。\n",
    "\n",
    "numreads = 1500のとき\n",
    "- 1だけ選ばれた。実際は1の特徴量についての条件を満たすyは一つ存在するのだが得られなかったよう。\n",
    "\n",
    "numreads = 2000のとき\n",
    "- 1だけ選ばれた。実際は1の特徴量についての条件を満たすyは一つ存在するのだが得られなかったよう。\n",
    "\n",
    "numreads = 10000のとき\n",
    "- 1だけ選ばれた。実際は1の特徴量についての条件を満たすyは一つ存在するのだが得られなかったよう。"
   ]
  },
  {
   "cell_type": "code",
   "execution_count": 162,
   "metadata": {},
   "outputs": [
    {
     "data": {
      "text/html": [
       "<div>\n",
       "<style scoped>\n",
       "    .dataframe tbody tr th:only-of-type {\n",
       "        vertical-align: middle;\n",
       "    }\n",
       "\n",
       "    .dataframe tbody tr th {\n",
       "        vertical-align: top;\n",
       "    }\n",
       "\n",
       "    .dataframe thead th {\n",
       "        text-align: right;\n",
       "    }\n",
       "</style>\n",
       "<table border=\"1\" class=\"dataframe\">\n",
       "  <thead>\n",
       "    <tr style=\"text-align: right;\">\n",
       "      <th></th>\n",
       "      <th>10</th>\n",
       "      <th>100</th>\n",
       "      <th>1000</th>\n",
       "      <th>500</th>\n",
       "      <th>1500</th>\n",
       "      <th>2000</th>\n",
       "      <th>10000</th>\n",
       "    </tr>\n",
       "  </thead>\n",
       "  <tbody>\n",
       "    <tr>\n",
       "      <th>last t num</th>\n",
       "      <td>0</td>\n",
       "      <td>0</td>\n",
       "      <td>0</td>\n",
       "      <td>0</td>\n",
       "      <td>0</td>\n",
       "      <td>0</td>\n",
       "      <td>0</td>\n",
       "    </tr>\n",
       "    <tr>\n",
       "      <th>minP</th>\n",
       "      <td>[1, 27]</td>\n",
       "      <td>[1, 27]</td>\n",
       "      <td>[1]</td>\n",
       "      <td>[1]</td>\n",
       "      <td>[1]</td>\n",
       "      <td>[1]</td>\n",
       "      <td>[1]</td>\n",
       "    </tr>\n",
       "  </tbody>\n",
       "</table>\n",
       "</div>"
      ],
      "text/plain": [
       "              10       100   1000  500   1500  2000  10000\n",
       "last t num        0        0     0     0     0     0     0\n",
       "minP        [1, 27]  [1, 27]   [1]   [1]   [1]   [1]   [1]"
      ]
     },
     "execution_count": 162,
     "metadata": {},
     "output_type": "execute_result"
    }
   ],
   "source": [
    "t_num_10times_t0t1 = pd.DataFrame(t_num_dic, index = ['last t num', 'minP'])\n",
    "t_num_10times_t0t1"
   ]
  },
  {
   "cell_type": "code",
   "execution_count": null,
   "metadata": {},
   "outputs": [],
   "source": [
    "#t_num_10times_t0t1.to_csv('../output/mushrooml/t_num_10times_t0t1.csv')"
   ]
  },
  {
   "cell_type": "code",
   "execution_count": null,
   "metadata": {},
   "outputs": [],
   "source": []
  },
  {
   "cell_type": "code",
   "execution_count": null,
   "metadata": {},
   "outputs": [],
   "source": []
  },
  {
   "cell_type": "markdown",
   "metadata": {},
   "source": [
    "## t（条件）をすべて使ってみる"
   ]
  },
  {
   "cell_type": "code",
   "execution_count": null,
   "metadata": {},
   "outputs": [],
   "source": [
    "minP_cols = []\n",
    "servey_num_col_list = columns\n",
    "\n",
    "while len(servey_num_col_list) > 0:    \n",
    "    qbl_p_list = [] ##\n",
    "    for k in range(20): #10回回して平均、分散を得る\n",
    "        #valid_y_list = make_y(minP_cols, numreads_10[2]) #0, 1, 2, 3\n",
    "        valid_y_list = make_y(minP_cols, numreads_5[3]) #1, 3, 4\n",
    "        \n",
    "        if len(valid_y_list) == 0:\n",
    "            continue\n",
    "        \n",
    "        qb_minP_cols = []\n",
    "        qbl_p = {} ##\n",
    "\n",
    "        for i in servey_num_col_list:\n",
    "            ori_ti = int(np.dot(X_mushroom[i], y_mushroom)) #特徴量iを表すp\n",
    "\n",
    "            ti_dic = {} #{内積の値:該当数}という辞書。\n",
    "            \n",
    "            for y in valid_y_list:      \n",
    "                if int(np.dot(X_mushroom[i], y)) in ti_dic.keys():\n",
    "                    ti_dic[int(np.dot(X_mushroom[i], y))] += 1\n",
    "                else:\n",
    "                    ti_dic[int(np.dot(X_mushroom[i], y))] = 1\n",
    "\n",
    "                ti_list = sorted(ti_dic.items()) #listになり、要素はタプルになる。\n",
    "                franc = sum([j[1] for j in ti_list if j[0] >= ori_ti])\n",
    "                qbl_p[i] = franc/len(valid_y_list)\n",
    "        \n",
    "\n",
    "        ##一周終了\n",
    "        qbl_p_list.append(qbl_p) ##\n",
    "        \n",
    "        if len(qbl_p_list) == 10:\n",
    "            break\n",
    "            \n",
    "    ## 10回終了\n",
    "    to_qubol_p_10times = pd.DataFrame(qbl_p_list)\n",
    "    \n",
    "    if to_qubol_p_10times.shape[0] < 10:\n",
    "        #t_num_dic[numreads_10[2]] = [tt-1, minP_cols] #0, 1, 2, 3\n",
    "        t_num_dic[numreads_5[3]] = [tt-1, minP_cols] #1, 3, 4\n",
    "        print(t_num_dic)\n",
    "        print('----------------')\n",
    "        break\n",
    "    \n",
    "    else:\n",
    "        print(to_qubol_p_10times) #表示\n",
    "    \n",
    "    #最小値のpの列名取得（typeはarray)\n",
    "    minP_keys = np.where(to_qubol_p_10times.mean() == to_qubol_p_10times.mean().min())[0]\n",
    "    print(list(minP_keys)) #表示\n",
    "    \n",
    "    minP_cols += list(minP_keys)\n",
    "\n",
    "    servey_num_col_list = [i for i in servey_num_col_list if i not in minP_keys]\n",
    "    \n",
    "    tt +=1\n",
    "    print(tt) #表示\n",
    "    \n",
    "#to_qubol_p_10times.to_csv('../output/mushrooml/t0t1_qubol_10samples_p_10time.csv')\n",
    "#to_qubol_p_10times.to_csv('../output/mushrooml/t0t1_qubol_100samples_p_10time.csv')\n",
    "#to_qubol_p_10times.to_csv('../output/mushrooml/t0t1_qubol_1000samples_p_10time.csv')\n",
    "#to_qubol_p_10times.to_csv('../output/mushrooml/t0t1_qubol_10000samples_p_10time.csv')まだ\n",
    "\n",
    "##to_qubol_p_10times.to_csv('../output/mushrooml/t0t1_qubol_100samples_p_10time.csv')\n",
    "#to_qubol_p_10times.to_csv('../output/mushrooml/t0t1_qubol_500samples_p_10time.csv')\n",
    "##to_qubol_p_10times.to_csv('../output/mushrooml/t0t1_qubol_1000samples_p_10time.csv')\n",
    "to_qubol_p_10times.to_csv('../output/mushrooml/t0t1_qubol_1500samples_p_10time.csv')\n",
    "#to_qubol_p_10times.to_csv('../output/mushrooml/t0t1_qubol_2000samples_p_10time.csv')"
   ]
  },
  {
   "cell_type": "code",
   "execution_count": 7,
   "metadata": {},
   "outputs": [],
   "source": [
    "minP_cols = []\n",
    "servey_num_col_list = columns\n",
    "distri_element_num = 100\n",
    "\n",
    "while len(servey_num_col_list) > 0:    \n",
    "    p = {}\n",
    "    for i in servey_num_col_list:\n",
    "        ori_ti = int(np.dot(X_mushroom[i], y_mushroom)) #特徴量iを表すp\n",
    "        \n",
    "        ti_dic = {} #{内積の値:該当数}という辞書。\n",
    "        \n",
    "        for _ in range(distri_element_num): \n",
    "            y = make_y(minP_cols)\n",
    "            \n",
    "            if int(np.dot(X_mushroom[i], y)) in ti_dic.keys():\n",
    "                ti_dic[int(np.dot(X_mushroom[i], y))] += 1\n",
    "            else:\n",
    "                ti_dic[int(np.dot(X_mushroom[i], y))] = 1\n",
    "                \n",
    "        count_better_t = sum([v for k, v in ti_dic.items() if k >= ori_ti])\n",
    "        p[i] = count_better_t / distri_element_num\n",
    "\n",
    "        \n",
    "    minP_keys = [k for k, v in p.items() if v == min(list(p.values()))]\n",
    "    minP_cols += minP_keys\n",
    "    servey_num_col_list = [i for i in servey_num_col_list if i not in minP_keys]"
   ]
  },
  {
   "cell_type": "code",
   "execution_count": null,
   "metadata": {},
   "outputs": [],
   "source": []
  },
  {
   "cell_type": "code",
   "execution_count": null,
   "metadata": {},
   "outputs": [],
   "source": []
  },
  {
   "cell_type": "code",
   "execution_count": null,
   "metadata": {},
   "outputs": [],
   "source": []
  }
 ],
 "metadata": {
  "kernelspec": {
   "display_name": "Python 3",
   "language": "python",
   "name": "python3"
  },
  "language_info": {
   "codemirror_mode": {
    "name": "ipython",
    "version": 3
   },
   "file_extension": ".py",
   "mimetype": "text/x-python",
   "name": "python",
   "nbconvert_exporter": "python",
   "pygments_lexer": "ipython3",
   "version": "3.6.9"
  }
 },
 "nbformat": 4,
 "nbformat_minor": 4
}
