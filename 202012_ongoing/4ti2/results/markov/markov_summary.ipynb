{
 "cells": [
  {
   "cell_type": "code",
   "execution_count": 1,
   "metadata": {
    "scrolled": true
   },
   "outputs": [
    {
     "name": "stdout",
     "output_type": "stream",
     "text": [
      "/Users/shihosato/src/github.com/twinkle13531/master_degree/202012/4ti2/results/markov\n"
     ]
    }
   ],
   "source": [
    "!pwd"
   ]
  },
  {
   "cell_type": "code",
   "execution_count": 2,
   "metadata": {},
   "outputs": [],
   "source": [
    "%load_ext autoreload\n",
    "%autoreload 2"
   ]
  },
  {
   "cell_type": "code",
   "execution_count": 3,
   "metadata": {},
   "outputs": [],
   "source": [
    "import sys, os\n",
    "sys.path.append(os.path.join('..', '..', 'functions'))"
   ]
  },
  {
   "cell_type": "code",
   "execution_count": 12,
   "metadata": {},
   "outputs": [],
   "source": [
    "import pandas as pd\n",
    "import numpy as np\n",
    "import markov_basis_make_samples as mbms \n",
    "import timeit"
   ]
  },
  {
   "cell_type": "markdown",
   "metadata": {},
   "source": [
    "## random method"
   ]
  },
  {
   "cell_type": "code",
   "execution_count": 10,
   "metadata": {},
   "outputs": [
    {
     "name": "stdout",
     "output_type": "stream",
     "text": [
      "20 bit data can make  1505.0 samples in average using markov basis and random method.\n",
      "25 bit data can make  2399.8 samples in average using markov basis and random method.\n",
      "30 bit data can make  3355.2 samples in average using markov basis and random method.\n",
      "35 bit data can make  3596.6 samples in average using markov basis and random method.\n",
      "40 bit data can make  3503.8 samples in average using markov basis and random method.\n"
     ]
    }
   ],
   "source": [
    "for bit in [20, 25, 30, 35, 40]:\n",
    "    num_sample = 0\n",
    "    for num in [0, 1, 2, 3, 4]:\n",
    "        df_path = '../../../input/ost{}_{}.csv'.format(bit, num)\n",
    "        df = pd.read_csv(df_path, sep=',')\n",
    "        matmar_path = '../../{}bit/{}/{}bit_{}.mat.mar'.format(bit, num, bit, num)\n",
    "        result_list = mbms.make_result_list(matmar_path)\n",
    "        ms = mbms.make_samples_using_markov_basis(df, matmar_path, result_list)\n",
    "        num_sample += len(ms.random(10000))\n",
    "    print(bit, 'bit data can make ', num_sample/5, 'samples in average using markov basis and random method.')"
   ]
  },
  {
   "cell_type": "code",
   "execution_count": 6,
   "metadata": {},
   "outputs": [
    {
     "name": "stdout",
     "output_type": "stream",
     "text": [
      "mean p value of  20 bit data is  0.36990985306775787  using markov basis and random method.\n",
      "mean p value of  25 bit data is  0.23047803425454355  using markov basis and random method.\n",
      "mean p value of  30 bit data is  0.0951295368368754  using markov basis and random method.\n",
      "mean p value of  35 bit data is  0.1248020022012225  using markov basis and random method.\n",
      "mean p value of  40 bit data is  0.05889804002433404  using markov basis and random method.\n"
     ]
    }
   ],
   "source": [
    "for bit in [20, 25, 30, 35, 40]:\n",
    "    p_values = 0\n",
    "    for num in [0, 1, 2, 3, 4]:\n",
    "        df_path = '../../../input/ost{}_{}.csv'.format(bit, num)\n",
    "        df = pd.read_csv(df_path, sep=',')\n",
    "        matmar_path = '../../{}bit/{}/{}bit_{}.mat.mar'.format(bit, num, bit, num)\n",
    "        result_list = mbms.make_result_list(matmar_path)\n",
    "        ms = mbms.make_samples_using_markov_basis(df, matmar_path, result_list)\n",
    "        p_values += mbms.p_value(df, ms.random(10000))\n",
    "    print('mean p value of ', bit, 'bit data is ', p_values/5, ' using markov basis and random method.')"
   ]
  },
  {
   "cell_type": "code",
   "execution_count": 17,
   "metadata": {},
   "outputs": [
    {
     "name": "stdout",
     "output_type": "stream",
     "text": [
      "20 bit data takes 6.333164400819987 second in average to find valid y using markov basis and random method.\n",
      "25 bit data takes 7.203692917659974 second in average to find valid y using markov basis and random method.\n",
      "30 bit data takes 7.680527376639984 second in average to find valid y using markov basis and random method.\n",
      "35 bit data takes 7.690447605279988 second in average to find valid y using markov basis and random method.\n",
      "40 bit data takes 7.89818534486003 second in average to find valid y using markov basis and random method.\n"
     ]
    }
   ],
   "source": [
    "for bit in [20, 25, 30, 35, 40]:\n",
    "    time_time = 0\n",
    "    for num in [0, 1, 2, 3, 4]:\n",
    "        df_path = '../../../input/ost{}_{}.csv'.format(bit, num)\n",
    "        df = pd.read_csv(df_path, sep=',')\n",
    "        matmar_path = '../../{}bit/{}/{}bit_{}.mat.mar'.format(bit, num, bit, num)\n",
    "        result_list = mbms.make_result_list(matmar_path)\n",
    "        ms = mbms.make_samples_using_markov_basis(df, matmar_path, result_list)\n",
    "        loop = 10\n",
    "        result = timeit.timeit('ms.random(10000)', globals=globals(), number=loop)\n",
    "        time_time += result / loop\n",
    "    print(bit, 'bit data takes', time_time/5, 'second in average to find valid y using markov basis and random method.')"
   ]
  },
  {
   "cell_type": "markdown",
   "metadata": {},
   "source": [
    "## SA"
   ]
  },
  {
   "cell_type": "code",
   "execution_count": 7,
   "metadata": {},
   "outputs": [
    {
     "name": "stdout",
     "output_type": "stream",
     "text": [
      "20 bit data can make  957.0 in average samples using markov basis and SA.\n",
      "25 bit data can make  1440.0 in average samples using markov basis and SA.\n",
      "30 bit data can make  1672.0 in average samples using markov basis and SA.\n",
      "35 bit data can make  1763.0 in average samples using markov basis and SA.\n",
      "40 bit data can make  1715.0 in average samples using markov basis and SA.\n"
     ]
    }
   ],
   "source": [
    "for bit in [20, 25, 30, 35, 40]:\n",
    "    num_sample = 0\n",
    "    for num in [0, 1, 2, 3, 4]:\n",
    "        df_path = '../../../input/ost{}_{}.csv'.format(bit, num)\n",
    "        df = pd.read_csv(df_path, sep=',')\n",
    "        matmar_path = '../../{}bit/{}/{}bit_{}.mat.mar'.format(bit, num, bit, num)\n",
    "        result_list = mbms.make_result_list(matmar_path)\n",
    "        ms = mbms.make_samples_using_markov_basis(df, matmar_path, result_list)\n",
    "        E_list, valid_y = ms.SA(10000)\n",
    "        num_sample += len(valid_y)\n",
    "    print(bit, 'bit data can make ', num_sample/5, 'samples in average using markov basis and SA.')"
   ]
  },
  {
   "cell_type": "code",
   "execution_count": 9,
   "metadata": {},
   "outputs": [
    {
     "name": "stdout",
     "output_type": "stream",
     "text": [
      "mean p value of  20 bit data is  0.36698984777863053  using markov basis and SA.\n",
      "mean p value of  25 bit data is  0.23276852110007118  using markov basis and SA.\n",
      "mean p value of  30 bit data is  0.1042901306842849  using markov basis and SA.\n",
      "mean p value of  35 bit data is  0.1380607193816773  using markov basis and SA.\n",
      "mean p value of  40 bit data is  0.04508371965657588  using markov basis and SA.\n"
     ]
    }
   ],
   "source": [
    "for bit in [20, 25, 30, 35, 40]:\n",
    "    p_values = 0\n",
    "    for num in [0, 1, 2, 3, 4]:\n",
    "        df_path = '../../../input/ost{}_{}.csv'.format(bit, num)\n",
    "        df = pd.read_csv(df_path, sep=',')\n",
    "        matmar_path = '../../{}bit/{}/{}bit_{}.mat.mar'.format(bit, num, bit, num)\n",
    "        result_list = mbms.make_result_list(matmar_path)\n",
    "        ms = mbms.make_samples_using_markov_basis(df, matmar_path, result_list)\n",
    "        E_list, valid_y = ms.SA(10000)\n",
    "        p_values += mbms.p_value(df, valid_y)\n",
    "    print('mean p value of ', bit, 'bit data is ', p_values/5, ' using markov basis and SA.')"
   ]
  },
  {
   "cell_type": "code",
   "execution_count": 18,
   "metadata": {},
   "outputs": [
    {
     "name": "stdout",
     "output_type": "stream",
     "text": [
      "20 bit data takes 6.115944898520029 second in average to find valid y using markov basis and random method.\n",
      "25 bit data takes 5.987557551459976 second in average to find valid y using markov basis and random method.\n",
      "30 bit data takes 5.724453607540018 second in average to find valid y using markov basis and random method.\n",
      "35 bit data takes 5.886456335400035 second in average to find valid y using markov basis and random method.\n",
      "40 bit data takes 5.923045095640045 second in average to find valid y using markov basis and random method.\n"
     ]
    }
   ],
   "source": [
    "for bit in [20, 25, 30, 35, 40]:\n",
    "    time_time = 0\n",
    "    for num in [0, 1, 2, 3, 4]:\n",
    "        df_path = '../../../input/ost{}_{}.csv'.format(bit, num)\n",
    "        df = pd.read_csv(df_path, sep=',')\n",
    "        matmar_path = '../../{}bit/{}/{}bit_{}.mat.mar'.format(bit, num, bit, num)\n",
    "        result_list = mbms.make_result_list(matmar_path)\n",
    "        ms = mbms.make_samples_using_markov_basis(df, matmar_path, result_list)\n",
    "        loop = 10\n",
    "        result = timeit.timeit('ms.SA(10000)', globals=globals(), number=loop)\n",
    "        time_time += result / loop\n",
    "    print(bit, 'bit data takes', time_time/5, 'second in average to find valid y using markov basis and random method.')"
   ]
  },
  {
   "cell_type": "code",
   "execution_count": null,
   "metadata": {},
   "outputs": [],
   "source": []
  }
 ],
 "metadata": {
  "kernelspec": {
   "display_name": "Python 3",
   "language": "python",
   "name": "python3"
  },
  "language_info": {
   "codemirror_mode": {
    "name": "ipython",
    "version": 3
   },
   "file_extension": ".py",
   "mimetype": "text/x-python",
   "name": "python",
   "nbconvert_exporter": "python",
   "pygments_lexer": "ipython3",
   "version": "3.7.9"
  }
 },
 "nbformat": 4,
 "nbformat_minor": 4
}
