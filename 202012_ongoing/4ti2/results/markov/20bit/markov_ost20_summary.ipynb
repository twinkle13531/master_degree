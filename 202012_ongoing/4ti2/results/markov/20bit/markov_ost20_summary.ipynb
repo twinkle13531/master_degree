{
 "cells": [
  {
   "cell_type": "code",
   "execution_count": 26,
   "metadata": {
    "scrolled": true
   },
   "outputs": [
    {
     "name": "stdout",
     "output_type": "stream",
     "text": [
      "/Users/shihosato/src/github.com/twinkle13531/master_degree/202012/4ti2/results/markov/20bit\n"
     ]
    }
   ],
   "source": [
    "!pwd"
   ]
  },
  {
   "cell_type": "code",
   "execution_count": 27,
   "metadata": {},
   "outputs": [
    {
     "name": "stdout",
     "output_type": "stream",
     "text": [
      "The autoreload extension is already loaded. To reload it, use:\n",
      "  %reload_ext autoreload\n"
     ]
    }
   ],
   "source": [
    "%load_ext autoreload\n",
    "%autoreload 2"
   ]
  },
  {
   "cell_type": "code",
   "execution_count": 28,
   "metadata": {},
   "outputs": [],
   "source": [
    "import sys, os\n",
    "sys.path.append(os.path.join('..', '..', '..', 'functions'))"
   ]
  },
  {
   "cell_type": "code",
   "execution_count": 29,
   "metadata": {},
   "outputs": [],
   "source": [
    "import pandas as pd\n",
    "import numpy as np\n",
    "import markov_basis_make_samples as mbms "
   ]
  },
  {
   "cell_type": "markdown",
   "metadata": {},
   "source": [
    "### 20bit"
   ]
  },
  {
   "cell_type": "code",
   "execution_count": 30,
   "metadata": {},
   "outputs": [],
   "source": [
    "bit = 20"
   ]
  },
  {
   "cell_type": "markdown",
   "metadata": {},
   "source": [
    "## random method"
   ]
  },
  {
   "cell_type": "code",
   "execution_count": 41,
   "metadata": {},
   "outputs": [
    {
     "name": "stdout",
     "output_type": "stream",
     "text": [
      "20bit_ 0  data can make  3965 samples using markov basis and random method\n",
      "20bit_ 1  data can make  567 samples using markov basis and random method\n",
      "20bit_ 2  data can make  120 samples using markov basis and random method\n",
      "20bit_ 3  data can make  796 samples using markov basis and random method\n",
      "20bit_ 4  data can make  797 samples using markov basis and random method\n"
     ]
    }
   ],
   "source": [
    "for num in [0, 1, 2, 3, 4]:\n",
    "    df_path = '../../../../input/ost{}_{}.csv'.format(bit, num)\n",
    "    df = pd.read_csv(df_path, sep=',')\n",
    "    matmar_path = '../../../{}bit/{}/{}bit_{}.mat.mar'.format(bit, num, bit, num)\n",
    "    result_list = mbms.make_result_list(matmar_path)\n",
    "    ms = mbms.make_samples_using_markov_basis(df, matmar_path, result_list)\n",
    "    print('20bit_', num, ' data can make ', len(ms.random(10000)), 'samples using markov basis and random method')"
   ]
  },
  {
   "cell_type": "code",
   "execution_count": 43,
   "metadata": {},
   "outputs": [
    {
     "name": "stdout",
     "output_type": "stream",
     "text": [
      "i knew that 20bit data can make  1434.8 in average samples using markov basis and random method.\n"
     ]
    }
   ],
   "source": [
    "print('i knew that 20bit data can make ', (4087+1221+84+710+1072)/5, 'in average samples using markov basis and random method.')"
   ]
  },
  {
   "cell_type": "code",
   "execution_count": 33,
   "metadata": {},
   "outputs": [
    {
     "data": {
      "image/png": "[encoded data removed]",
      "text/plain": [
       "<Figure size 432x288 with 1 Axes>"
      ]
     },
     "metadata": {
      "needs_background": "light"
     },
     "output_type": "display_data"
    },
    {
     "data": {
      "image/png": "[encoded data removed]",
      "text/plain": [
       "<Figure size 432x288 with 1 Axes>"
      ]
     },
     "metadata": {
      "needs_background": "light"
     },
     "output_type": "display_data"
    },
    {
     "data": {
      "image/png": "[encoded data removed]",
      "text/plain": [
       "<Figure size 432x288 with 1 Axes>"
      ]
     },
     "metadata": {
      "needs_background": "light"
     },
     "output_type": "display_data"
    },
    {
     "data": {
      "image/png": "[encoded data removed]",
      "text/plain": [
       "<Figure size 432x288 with 1 Axes>"
      ]
     },
     "metadata": {
      "needs_background": "light"
     },
     "output_type": "display_data"
    },
    {
     "data": {
      "image/png": "[encoded data removed]",
      "text/plain": [
       "<Figure size 432x288 with 1 Axes>"
      ]
     },
     "metadata": {
      "needs_background": "light"
     },
     "output_type": "display_data"
    }
   ],
   "source": [
    "for num in [0, 1, 2, 3, 4]:\n",
    "    df_path = '../../../../input/ost{}_{}.csv'.format(bit, num)\n",
    "    df = pd.read_csv(df_path, sep=',')\n",
    "    matmar_path = '../../../{}bit/{}/{}bit_{}.mat.mar'.format(bit, num, bit, num)\n",
    "    result_list = mbms.make_result_list(matmar_path)\n",
    "    ms = mbms.make_samples_using_markov_basis(df, matmar_path, result_list)\n",
    "    plot_path = \"{}/random_10000_t_num\".format(num)\n",
    "    hist_dic = mbms.y_num_t1_hist(df, ms.random(10000), plot_path)"
   ]
  },
  {
   "cell_type": "code",
   "execution_count": 38,
   "metadata": {},
   "outputs": [
    {
     "name": "stdout",
     "output_type": "stream",
     "text": [
      "p values is 0.22140402552773686 when i use 20bit_ 0  data markov basis and random method\n",
      "p values is 0.3368421052631579 when i use 20bit_ 1  data markov basis and random method\n",
      "p values is 0.47058823529411764 when i use 20bit_ 2  data markov basis and random method\n",
      "p values is 0.519455252918288 when i use 20bit_ 3  data markov basis and random method\n",
      "p values is 0.3273885350318471 when i use 20bit_ 4  data markov basis and random method\n"
     ]
    }
   ],
   "source": [
    "for num in [0, 1, 2, 3, 4]:\n",
    "    df_path = '../../../../input/ost{}_{}.csv'.format(bit, num)\n",
    "    df = pd.read_csv(df_path, sep=',')\n",
    "    matmar_path = '../../../{}bit/{}/{}bit_{}.mat.mar'.format(bit, num, bit, num)\n",
    "    result_list = mbms.make_result_list(matmar_path)\n",
    "    ms = mbms.make_samples_using_markov_basis(df, matmar_path, result_list)\n",
    "    print('p values is',mbms.p_value(df, ms.random(10000)) , 'when i use 20bit_', num, ' data markov basis and random method')"
   ]
  },
  {
   "cell_type": "code",
   "execution_count": 46,
   "metadata": {},
   "outputs": [
    {
     "name": "stdout",
     "output_type": "stream",
     "text": [
      "i knew that mean p values of 20bit dat is 0.37513563080702944 when i use markov basis and random method.\n"
     ]
    }
   ],
   "source": [
    "mean_p = (0.22140402552773686 + 0.3368421052631579 + 0.47058823529411764 + 0.519455252918288 + 0.3273885350318471)/5\n",
    "print('i knew that mean p values of 20bit dat is', mean_p, 'when i use markov basis and random method.')"
   ]
  },
  {
   "cell_type": "markdown",
   "metadata": {},
   "source": [
    "## SA"
   ]
  },
  {
   "cell_type": "code",
   "execution_count": 36,
   "metadata": {},
   "outputs": [
    {
     "name": "stdout",
     "output_type": "stream",
     "text": [
      "20bit_ 0  data can make  2191 samples using markov basis and SA\n",
      "20bit_ 1  data can make  1115 samples using markov basis and SA\n",
      "20bit_ 2  data can make  256 samples using markov basis and SA\n",
      "20bit_ 3  data can make  576 samples using markov basis and SA\n",
      "20bit_ 4  data can make  89 samples using markov basis and SA\n"
     ]
    }
   ],
   "source": [
    "for num in [0, 1, 2, 3, 4]:\n",
    "    df_path = '../../../../input/ost{}_{}.csv'.format(bit, num)\n",
    "    df = pd.read_csv(df_path, sep=',')\n",
    "    matmar_path = '../../../{}bit/{}/{}bit_{}.mat.mar'.format(bit, num, bit, num)\n",
    "    result_list = mbms.make_result_list(matmar_path)\n",
    "    ms = mbms.make_samples_using_markov_basis(df, matmar_path, result_list)\n",
    "    E_list, valid_y = ms.SA(10000)\n",
    "    print('20bit_', num, ' data can make ', len(valid_y), 'samples using markov basis and SA')"
   ]
  },
  {
   "cell_type": "code",
   "execution_count": 44,
   "metadata": {},
   "outputs": [
    {
     "name": "stdout",
     "output_type": "stream",
     "text": [
      "i knew that 20bit data can make  845.4 in average samples using markov basis and random method.\n"
     ]
    }
   ],
   "source": [
    "print('i knew that 20bit data can make ', (2191+1115+256+576+89)/5, 'in average samples using markov basis and random method.')"
   ]
  },
  {
   "cell_type": "code",
   "execution_count": 40,
   "metadata": {},
   "outputs": [
    {
     "data": {
      "image/png": "[encoded data removed]",
      "text/plain": [
       "<Figure size 432x288 with 1 Axes>"
      ]
     },
     "metadata": {
      "needs_background": "light"
     },
     "output_type": "display_data"
    },
    {
     "data": {
      "image/png": "[encoded data removed]",
      "text/plain": [
       "<Figure size 432x288 with 1 Axes>"
      ]
     },
     "metadata": {
      "needs_background": "light"
     },
     "output_type": "display_data"
    },
    {
     "data": {
      "image/png": "[encoded data removed]",
      "text/plain": [
       "<Figure size 432x288 with 1 Axes>"
      ]
     },
     "metadata": {
      "needs_background": "light"
     },
     "output_type": "display_data"
    },
    {
     "data": {
      "image/png": "[encoded data removed]",
      "text/plain": [
       "<Figure size 432x288 with 1 Axes>"
      ]
     },
     "metadata": {
      "needs_background": "light"
     },
     "output_type": "display_data"
    },
    {
     "data": {
      "image/png": "[encoded data removed]",
      "text/plain": [
       "<Figure size 432x288 with 1 Axes>"
      ]
     },
     "metadata": {
      "needs_background": "light"
     },
     "output_type": "display_data"
    }
   ],
   "source": [
    "for num in [0, 1, 2, 3, 4]:\n",
    "    df_path = '../../../../input/ost{}_{}.csv'.format(bit, num)\n",
    "    df = pd.read_csv(df_path, sep=',')\n",
    "    matmar_path = '../../../{}bit/{}/{}bit_{}.mat.mar'.format(bit, num, bit, num)\n",
    "    result_list = mbms.make_result_list(matmar_path)\n",
    "    ms = mbms.make_samples_using_markov_basis(df, matmar_path, result_list)\n",
    "    plot_path = \"{}/SA_10000_t_num\".format(num)\n",
    "    E_list, valid_y = ms.SA(10000)\n",
    "    hist_dic = mbms.y_num_t1_hist(df, valid_y, plot_path)"
   ]
  },
  {
   "cell_type": "code",
   "execution_count": 42,
   "metadata": {},
   "outputs": [
    {
     "name": "stdout",
     "output_type": "stream",
     "text": [
      "p values is 0.26527711984841307 when i use 20bit_ 0  data markov basis and random method\n",
      "p values is 0.3297609233305853 when i use 20bit_ 1  data markov basis and random method\n",
      "p values is 0.42592592592592593 when i use 20bit_ 2  data markov basis and random method\n",
      "p values is 0.4985549132947977 when i use 20bit_ 3  data markov basis and random method\n",
      "p values is 0.3192019950124688 when i use 20bit_ 4  data markov basis and random method\n"
     ]
    }
   ],
   "source": [
    "for num in [0, 1, 2, 3, 4]:\n",
    "    df_path = '../../../../input/ost{}_{}.csv'.format(bit, num)\n",
    "    df = pd.read_csv(df_path, sep=',')\n",
    "    matmar_path = '../../../{}bit/{}/{}bit_{}.mat.mar'.format(bit, num, bit, num)\n",
    "    result_list = mbms.make_result_list(matmar_path)\n",
    "    ms = mbms.make_samples_using_markov_basis(df, matmar_path, result_list)\n",
    "    E_list, valid_y = ms.SA(10000)\n",
    "    print('p values is',mbms.p_value(df, valid_y) , 'when i use 20bit_', num, ' data markov basis and random method')"
   ]
  },
  {
   "cell_type": "code",
   "execution_count": 45,
   "metadata": {},
   "outputs": [
    {
     "name": "stdout",
     "output_type": "stream",
     "text": [
      "i knew that mean p values of 20bit dat is 0.36774417548243815 when i use markov basis and random method.\n"
     ]
    }
   ],
   "source": [
    "mean_p = (0.26527711984841307 + 0.3297609233305853 + 0.42592592592592593 + 0.4985549132947977 + 0.3192019950124688)/5\n",
    "print('i knew that mean p values of 20bit dat is', mean_p, 'when i use markov basis and random method.')"
   ]
  },
  {
   "cell_type": "code",
   "execution_count": null,
   "metadata": {},
   "outputs": [],
   "source": []
  }
 ],
 "metadata": {
  "kernelspec": {
   "display_name": "Python 3",
   "language": "python",
   "name": "python3"
  },
  "language_info": {
   "codemirror_mode": {
    "name": "ipython",
    "version": 3
   },
   "file_extension": ".py",
   "mimetype": "text/x-python",
   "name": "python",
   "nbconvert_exporter": "python",
   "pygments_lexer": "ipython3",
   "version": "3.7.9"
  }
 },
 "nbformat": 4,
 "nbformat_minor": 4
}
