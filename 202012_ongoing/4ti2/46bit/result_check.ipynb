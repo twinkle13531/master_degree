{
 "cells": [
  {
   "cell_type": "code",
   "execution_count": 94,
   "metadata": {},
   "outputs": [],
   "source": [
    "#import \n",
    "import numpy as np\n",
    "import pandas as pd\n",
    "import random"
   ]
  },
  {
   "cell_type": "code",
   "execution_count": 95,
   "metadata": {},
   "outputs": [],
   "source": [
    "ost16 = pd.read_csv(\"../../input/ost16.csv\", sep=',', index_col=0)\n",
    "#ost16"
   ]
  },
  {
   "cell_type": "code",
   "execution_count": 96,
   "metadata": {},
   "outputs": [],
   "source": [
    "t0 = sum(ost16['Y'])"
   ]
  },
  {
   "cell_type": "code",
   "execution_count": 97,
   "metadata": {},
   "outputs": [],
   "source": [
    "#t1 = 10\n",
    "t1 = 11\n",
    "#t1 = np.dot(ost16['Y'], ost16['LI']) #変化する\n",
    "t2 = np.dot(ost16['Y'], ost16['SEX'])\n",
    "t3 = np.dot(ost16['Y'], ost16['AOP'])"
   ]
  },
  {
   "cell_type": "code",
   "execution_count": 98,
   "metadata": {},
   "outputs": [
    {
     "data": {
      "text/plain": [
       "[14, 11, 9, 8]"
      ]
     },
     "execution_count": 98,
     "metadata": {},
     "output_type": "execute_result"
    }
   ],
   "source": [
    "t_list = [t0, t1, t2, t3]\n",
    "t_list"
   ]
  },
  {
   "cell_type": "code",
   "execution_count": 99,
   "metadata": {},
   "outputs": [],
   "source": [
    "#with open('trial3.zinhom') as f:\n",
    "#    l_strip = [s.strip() for s in f.readlines()]"
   ]
  },
  {
   "cell_type": "code",
   "execution_count": 100,
   "metadata": {},
   "outputs": [],
   "source": [
    "#with open('10/10.zinhom') as f:\n",
    "#    l_strip = [s.strip() for s in f.readlines()]"
   ]
  },
  {
   "cell_type": "code",
   "execution_count": 101,
   "metadata": {},
   "outputs": [],
   "source": [
    "with open('11/11.zinhom') as f:\n",
    "    l_strip = [s.strip() for s in f.readlines()]"
   ]
  },
  {
   "cell_type": "code",
   "execution_count": 102,
   "metadata": {},
   "outputs": [],
   "source": [
    "del l_strip[0]"
   ]
  },
  {
   "cell_type": "code",
   "execution_count": 103,
   "metadata": {},
   "outputs": [
    {
     "data": {
      "text/plain": [
       "3"
      ]
     },
     "execution_count": 103,
     "metadata": {},
     "output_type": "execute_result"
    }
   ],
   "source": [
    "len(l_strip)"
   ]
  },
  {
   "cell_type": "code",
   "execution_count": 104,
   "metadata": {},
   "outputs": [
    {
     "name": "stdout",
     "output_type": "stream",
     "text": [
      "1111101111111110\n",
      "[1, 1, 1, 1, 1, 0, 1, 1, 1, 1, 1, 1, 1, 1, 1, 0]\n",
      "1111110111111110\n",
      "[1, 1, 1, 1, 1, 1, 0, 1, 1, 1, 1, 1, 1, 1, 1, 0]\n",
      "1111111111011110\n",
      "[1, 1, 1, 1, 1, 1, 1, 1, 1, 1, 0, 1, 1, 1, 1, 0]\n"
     ]
    }
   ],
   "source": [
    "for i in range(len(l_strip)):\n",
    "    print(l_strip[i].replace(' ', ''))\n",
    "    #print(list(l_strip[i].replace(' ', '')))\n",
    "    num_list = [int(j) for j in list(l_strip[i].replace(' ', ''))]\n",
    "    print(num_list)"
   ]
  },
  {
   "cell_type": "code",
   "execution_count": 105,
   "metadata": {},
   "outputs": [
    {
     "data": {
      "text/plain": [
       "0     1\n",
       "32    1\n",
       "31    1\n",
       "34    1\n",
       "3     1\n",
       "24    0\n",
       "25    0\n",
       "37    1\n",
       "43    1\n",
       "40    1\n",
       "23    0\n",
       "33    1\n",
       "42    1\n",
       "38    1\n",
       "26    0\n",
       "21    0\n",
       "Name: LI, dtype: int64"
      ]
     },
     "execution_count": 105,
     "metadata": {},
     "output_type": "execute_result"
    }
   ],
   "source": [
    "ost16['LI']"
   ]
  },
  {
   "cell_type": "code",
   "execution_count": 106,
   "metadata": {},
   "outputs": [
    {
     "name": "stdout",
     "output_type": "stream",
     "text": [
      "t0 =  14\n",
      "t1 =  11\n",
      "t2 =  9\n",
      "t3 =  8\n",
      "t0 =  14\n",
      "t1 =  11\n",
      "t2 =  9\n",
      "t3 =  8\n",
      "t0 =  14\n",
      "t1 =  11\n",
      "t2 =  9\n",
      "t3 =  8\n"
     ]
    }
   ],
   "source": [
    "valid_y = []\n",
    "for i in range(len(l_strip)):\n",
    "    l_list = [int(j) for j in list(l_strip[i].replace(' ', ''))]\n",
    "    print('t0 = ', sum(l_list))\n",
    "    print('t1 = ', np.dot(l_list, ost16['LI'].values.tolist()))\n",
    "    print('t2 = ', np.dot(l_list, ost16['SEX'].values.tolist()))\n",
    "    print('t3 = ', np.dot(l_list, ost16['AOP'].values.tolist()))\n",
    "    if sum(l_list)==t0:\n",
    "        if np.dot(l_list, ost16['LI'].values.tolist()) == t1:\n",
    "            if np.dot(l_list, ost16['SEX'].values.tolist()) == t2:\n",
    "                if np.dot(l_list, ost16['AOP'].values.tolist()) == t3:\n",
    "                    valid_y.append(l_list)"
   ]
  },
  {
   "cell_type": "code",
   "execution_count": 107,
   "metadata": {},
   "outputs": [
    {
     "data": {
      "text/plain": [
       "[[1, 1, 1, 1, 1, 0, 1, 1, 1, 1, 1, 1, 1, 1, 1, 0],\n",
       " [1, 1, 1, 1, 1, 1, 0, 1, 1, 1, 1, 1, 1, 1, 1, 0],\n",
       " [1, 1, 1, 1, 1, 1, 1, 1, 1, 1, 0, 1, 1, 1, 1, 0]]"
      ]
     },
     "execution_count": 107,
     "metadata": {},
     "output_type": "execute_result"
    }
   ],
   "source": [
    "valid_y"
   ]
  },
  {
   "cell_type": "code",
   "execution_count": 108,
   "metadata": {},
   "outputs": [
    {
     "data": {
      "text/plain": [
       "3"
      ]
     },
     "execution_count": 108,
     "metadata": {},
     "output_type": "execute_result"
    }
   ],
   "source": [
    "len(valid_y)\n",
    "\n",
    "#全列挙でも15"
   ]
  },
  {
   "cell_type": "code",
   "execution_count": null,
   "metadata": {},
   "outputs": [],
   "source": []
  },
  {
   "cell_type": "code",
   "execution_count": null,
   "metadata": {},
   "outputs": [],
   "source": []
  },
  {
   "cell_type": "code",
   "execution_count": null,
   "metadata": {},
   "outputs": [],
   "source": []
  }
 ],
 "metadata": {
  "kernelspec": {
   "display_name": "Python 3",
   "language": "python",
   "name": "python3"
  },
  "language_info": {
   "codemirror_mode": {
    "name": "ipython",
    "version": 3
   },
   "file_extension": ".py",
   "mimetype": "text/x-python",
   "name": "python",
   "nbconvert_exporter": "python",
   "pygments_lexer": "ipython3",
   "version": "3.6.9"
  }
 },
 "nbformat": 4,
 "nbformat_minor": 4
}
