{
 "cells": [
  {
   "cell_type": "code",
   "execution_count": 1,
   "metadata": {},
   "outputs": [],
   "source": [
    "!pwd"
   ]
  },
  {
   "cell_type": "code",
   "execution_count": 2,
   "metadata": {},
   "outputs": [],
   "source": [
    "%load_ext autoreload\n",
    "%autoreload 2"
   ]
  },
  {
   "cell_type": "code",
   "execution_count": 3,
   "metadata": {},
   "outputs": [],
   "source": [
    "import QA_DwaveSampler_AutoEmbedding as qda\n",
    "import pandas as pd\n",
    "import numpy as np\n",
    "import timeit\n",
    "import matplotlib.pyplot as plt\n",
    "import statistics\n",
    "import time"
   ]
  },
  {
   "cell_type": "markdown",
   "metadata": {},
   "source": [
    "## QA"
   ]
  },
  {
   "cell_type": "code",
   "execution_count": 4,
   "metadata": {},
   "outputs": [],
   "source": [
    "n, num_reads = 10, 1000"
   ]
  },
  {
   "cell_type": "code",
   "execution_count": 5,
   "metadata": {},
   "outputs": [],
   "source": [
    "chain_strength_dic = {20:10, 25:15, 30:20, 35:20, 40:30}"
   ]
  },
  {
   "cell_type": "markdown",
   "metadata": {},
   "source": [
    "### n, num_readsについて\n",
    "- nが大きくなればなるほど、num_readsが小さくなればなるほど時間は短く、サンプル数は増える。\n",
    "- でも不思議なことに、実行をすると、時間がかかるのはnが大きくnum_readsが小さい組み合わせ。"
   ]
  },
  {
   "cell_type": "code",
   "execution_count": 9,
   "metadata": {},
   "outputs": [
    {
     "ename": "SyntaxError",
     "evalue": "invalid syntax (<ipython-input-9-a02669003d54>, line 3)",
     "output_type": "error",
     "traceback": [
      "\u001b[0;36m  File \u001b[0;32m\"<ipython-input-9-a02669003d54>\"\u001b[0;36m, line \u001b[0;32m3\u001b[0m\n\u001b[0;31m    num in [0, 1, 2, 3, 4]:\u001b[0m\n\u001b[0m                           ^\u001b[0m\n\u001b[0;31mSyntaxError\u001b[0m\u001b[0;31m:\u001b[0m invalid syntax\n"
     ]
    }
   ],
   "source": [
    "for bit in [20, 25, 30, 35, 40]:\n",
    "    chain_strength = chain_strength_dic[bit]\n",
    "    num in [0, 1, 2, 3, 4]:\n",
    "        bqm = qda.make_Hamiltonian(df)\n",
    "        qqda = qda.QA_DSampler_AEmbedding(df, bqm, n, num_reads, chain_strength)\n",
    "        valid_y_info_dic, calculation_time = qqda.find_valid_y_time_ntimes()\n",
    "\n",
    "        plot_path = '../QA/{}bit/{}/QA_{}bit_{}_10000_num_y_t1.png'.format(bit, num, bit, num)\n",
    "        hist_dic = qqda.y_num_t1_hist(valid_y_info_dic, plot_path)\n",
    "\n",
    "        plot_path = '../QA/{}bit/{}/QA_{}bit_{}_10000_occurence_hist.png'.format(bit, num, bit, num)\n",
    "        occurrence_list = qqda.occurrence_hist(valid_y_info_dic, plot_path)\n",
    "\n",
    "        path = '../QA/{}bit/{}/QA_{}bit_{}_10000_num_y_transition.png'.format(bit, num, bit, num)\n",
    "        time_list = qqda.num_y_transition(path)\n",
    "\n",
    "        output_path = '../QA/{}bit/{}/QA_{}bit_{}_10000_p_value_transition.png'.format(bit, num, bit, num)\n",
    "        valid_y_list, p_dic = qqda.p_value_transition(output_path)"
   ]
  },
  {
   "cell_type": "code",
   "execution_count": null,
   "metadata": {},
   "outputs": [],
   "source": []
  },
  {
   "cell_type": "code",
   "execution_count": null,
   "metadata": {},
   "outputs": [],
   "source": []
  },
  {
   "cell_type": "code",
   "execution_count": null,
   "metadata": {},
   "outputs": [],
   "source": []
  },
  {
   "cell_type": "code",
   "execution_count": null,
   "metadata": {},
   "outputs": [],
   "source": []
  }
 ],
 "metadata": {
  "kernelspec": {
   "display_name": "Python 3",
   "language": "python",
   "name": "python3"
  },
  "language_info": {
   "codemirror_mode": {
    "name": "ipython",
    "version": 3
   },
   "file_extension": ".py",
   "mimetype": "text/x-python",
   "name": "python",
   "nbconvert_exporter": "python",
   "pygments_lexer": "ipython3",
   "version": "3.7.9"
  }
 },
 "nbformat": 4,
 "nbformat_minor": 4
}
