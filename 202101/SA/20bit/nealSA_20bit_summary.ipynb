{
 "cells": [
  {
   "cell_type": "code",
   "execution_count": 1,
   "metadata": {},
   "outputs": [
    {
     "name": "stdout",
     "output_type": "stream",
     "text": [
      "/Users/shihosato/src/github.com/twinkle13531/master_degree/202012/SA/20bit\n"
     ]
    }
   ],
   "source": [
    "!pwd"
   ]
  },
  {
   "cell_type": "code",
   "execution_count": 2,
   "metadata": {},
   "outputs": [],
   "source": [
    "%load_ext autoreload\n",
    "%autoreload 2"
   ]
  },
  {
   "cell_type": "code",
   "execution_count": 3,
   "metadata": {},
   "outputs": [],
   "source": [
    "import sys, os\n",
    "sys.path.append(os.path.join('..'))"
   ]
  },
  {
   "cell_type": "code",
   "execution_count": 11,
   "metadata": {},
   "outputs": [],
   "source": [
    "import Neal_exact_test_functions as net\n",
    "import pandas as pd\n",
    "import numpy as np\n",
    "import timeit\n",
    "import matplotlib.pyplot as plt\n",
    "import time"
   ]
  },
  {
   "cell_type": "code",
   "execution_count": 5,
   "metadata": {},
   "outputs": [],
   "source": [
    "bit = 20\n",
    "num_reads = 10000"
   ]
  },
  {
   "cell_type": "code",
   "execution_count": 6,
   "metadata": {},
   "outputs": [
    {
     "name": "stdout",
     "output_type": "stream",
     "text": [
      "number of valid y of 20bit_0 data is 7396\n",
      "number of valid y of 20bit_1 data is 2819\n",
      "number of valid y of 20bit_2 data is 1050\n",
      "number of valid y of 20bit_3 data is 2576\n",
      "number of valid y of 20bit_4 data is 2411\n",
      "mean number of valid y of 20bit data is 3250.4\n"
     ]
    }
   ],
   "source": [
    "y_num_list = []\n",
    "for num in [0, 1, 2, 3, 4]:\n",
    "    path = '../../input/ost{}_{}.csv'.format(bit, num)\n",
    "    df = pd.read_csv(path, sep=',')\n",
    "    res = net.make_res_data(df, num_reads)\n",
    "    valid_y_list, valid_y_num, occurrence_list = net.find_valid_y(res)\n",
    "    y_num_list.append(valid_y_num)\n",
    "    print('number of valid y of {}bit_{} data is {}'.format(bit, num, y_num_list[-1]))\n",
    "print('mean number of valid y of {}bit data is {}'.format(bit, sum(y_num_list)/5))"
   ]
  },
  {
   "cell_type": "code",
   "execution_count": 9,
   "metadata": {},
   "outputs": [
    {
     "name": "stdout",
     "output_type": "stream",
     "text": [
      "p value of 20bit_0 data is 0.2281203212195454\n",
      "p value of 20bit_1 data is 0.41654879773691655\n",
      "p value of 20bit_2 data is 0.47619047619047616\n",
      "p value of 20bit_3 data is 0.5420705699883676\n",
      "p value of 20bit_4 data is 0.29338842975206614\n",
      "mean p value of 20bit data is 0.39126371897747436\n"
     ]
    }
   ],
   "source": [
    "p_list = []\n",
    "for num in [0, 1, 2, 3, 4]:\n",
    "    df_path = '../../input/ost{}_{}.csv'.format(bit, num)\n",
    "    df = pd.read_csv(df_path, sep=',')\n",
    "    res = net.make_res_data(df, num_reads)\n",
    "    p_value = net.calc_p_value(df, res)\n",
    "    p_list.append(p_value)\n",
    "    print('p value of {}bit_{} data is {}'.format(bit, num, p_list[-1]))\n",
    "print('mean p value of {}bit data is {}'.format(bit, sum(p_list)/5))"
   ]
  },
  {
   "cell_type": "code",
   "execution_count": 12,
   "metadata": {},
   "outputs": [
    {
     "name": "stdout",
     "output_type": "stream",
     "text": [
      "calculation time of 20bit_0 data is 39.3638699054718\n",
      "calculation time of 20bit_1 data is 30.394564867019653\n",
      "calculation time of 20bit_2 data is 24.911816835403442\n",
      "calculation time of 20bit_3 data is 31.526935815811157\n",
      "calculation time of 20bit_4 data is 29.0723819732666\n",
      "calculation time of 20bit data is 0.39126371897747436\n"
     ]
    }
   ],
   "source": [
    "time_list = []\n",
    "for num in [0, 1, 2, 3, 4]:\n",
    "    df_path = '../../input/ost{}_{}.csv'.format(bit, num)\n",
    "    df = pd.read_csv(df_path, sep=',')\n",
    "    time_0 = time.time()\n",
    "    res = net.make_res_data(df, num_reads)\n",
    "    valid_y_list, valid_y_num, occurrence_list = net.find_valid_y(res)\n",
    "    time_1 = time.time()\n",
    "    elapsed_time = time_1 - time_0\n",
    "    time_list.append(elapsed_time)\n",
    "    print('calculation time of {}bit_{} data is {}'.format(bit, num, time_list[-1]))\n",
    "print('calculation time of {}bit data is {}'.format(bit, sum(p_list)/5))"
   ]
  },
  {
   "cell_type": "code",
   "execution_count": null,
   "metadata": {},
   "outputs": [],
   "source": []
  }
 ],
 "metadata": {
  "kernelspec": {
   "display_name": "Python 3",
   "language": "python",
   "name": "python3"
  },
  "language_info": {
   "codemirror_mode": {
    "name": "ipython",
    "version": 3
   },
   "file_extension": ".py",
   "mimetype": "text/x-python",
   "name": "python",
   "nbconvert_exporter": "python",
   "pygments_lexer": "ipython3",
   "version": "3.7.9"
  }
 },
 "nbformat": 4,
 "nbformat_minor": 4
}
