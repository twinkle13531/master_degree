{
 "cells": [
  {
   "cell_type": "code",
   "execution_count": 1,
   "metadata": {
    "scrolled": true
   },
   "outputs": [
    {
     "name": "stdout",
     "output_type": "stream",
     "text": [
      "/Users/shihosato/src/github.com/twinkle13531/master_degree/202012/4ti2/results/markov/46bit\n"
     ]
    }
   ],
   "source": [
    "!pwd"
   ]
  },
  {
   "cell_type": "code",
   "execution_count": 2,
   "metadata": {},
   "outputs": [],
   "source": [
    "%load_ext autoreload\n",
    "%autoreload 2"
   ]
  },
  {
   "cell_type": "code",
   "execution_count": 3,
   "metadata": {},
   "outputs": [],
   "source": [
    "import sys, os\n",
    "sys.path.append(os.path.join('..', '..', '..', 'functions'))"
   ]
  },
  {
   "cell_type": "code",
   "execution_count": 4,
   "metadata": {},
   "outputs": [],
   "source": [
    "import pandas as pd\n",
    "import numpy as np\n",
    "import markov_basis_make_samples as mbms "
   ]
  },
  {
   "cell_type": "markdown",
   "metadata": {},
   "source": [
    "### 46bit"
   ]
  },
  {
   "cell_type": "code",
   "execution_count": 5,
   "metadata": {},
   "outputs": [],
   "source": [
    "bit = 46"
   ]
  },
  {
   "cell_type": "markdown",
   "metadata": {},
   "source": [
    "## random method"
   ]
  },
  {
   "cell_type": "code",
   "execution_count": 6,
   "metadata": {},
   "outputs": [
    {
     "name": "stdout",
     "output_type": "stream",
     "text": [
      "46bit data can make  3634 samples using markov basis and random method\n"
     ]
    }
   ],
   "source": [
    "df_path = '../../../../input/ost{}.csv'.format(bit)\n",
    "df = pd.read_csv(df_path, sep=',')\n",
    "matmar_path = '../../../{}bit/{}bit.mat.mar'.format(bit, bit)\n",
    "result_list = mbms.make_result_list(matmar_path)\n",
    "ms = mbms.make_samples_using_markov_basis(df, matmar_path, result_list)\n",
    "print('46bit data can make ', len(ms.random(10000)), 'samples using markov basis and random method')"
   ]
  },
  {
   "cell_type": "code",
   "execution_count": 7,
   "metadata": {},
   "outputs": [
    {
     "data": {
      "image/png": "[encoded data removed]",
      "text/plain": [
       "<Figure size 432x288 with 1 Axes>"
      ]
     },
     "metadata": {
      "needs_background": "light"
     },
     "output_type": "display_data"
    }
   ],
   "source": [
    "df_path = '../../../../input/ost{}.csv'.format(bit)\n",
    "df = pd.read_csv(df_path, sep=',')\n",
    "matmar_path = '../../../{}bit/{}bit.mat.mar'.format(bit, bit)\n",
    "result_list = mbms.make_result_list(matmar_path)\n",
    "ms = mbms.make_samples_using_markov_basis(df, matmar_path, result_list)\n",
    "plot_path = \"random_10000_t_num\"\n",
    "hist_dic = mbms.y_num_t1_hist(df, ms.random(10000), plot_path)"
   ]
  },
  {
   "cell_type": "code",
   "execution_count": 8,
   "metadata": {},
   "outputs": [
    {
     "name": "stdout",
     "output_type": "stream",
     "text": [
      "p values is 0.030676526978909886 when i use 46bit data markov basis and random method\n"
     ]
    }
   ],
   "source": [
    "df_path = '../../../../input/ost{}.csv'.format(bit)\n",
    "df = pd.read_csv(df_path, sep=',')\n",
    "matmar_path = '../../../{}bit/{}bit.mat.mar'.format(bit, bit)\n",
    "result_list = mbms.make_result_list(matmar_path)\n",
    "ms = mbms.make_samples_using_markov_basis(df, matmar_path, result_list)\n",
    "print('p values is',mbms.p_value(df, ms.random(10000)) , 'when i use 46bit data markov basis and random method')"
   ]
  },
  {
   "cell_type": "markdown",
   "metadata": {},
   "source": [
    "## SA"
   ]
  },
  {
   "cell_type": "code",
   "execution_count": 9,
   "metadata": {},
   "outputs": [
    {
     "name": "stdout",
     "output_type": "stream",
     "text": [
      "46bit data can make  1814 samples using markov basis and SA\n"
     ]
    }
   ],
   "source": [
    "df_path = '../../../../input/ost{}.csv'.format(bit)\n",
    "df = pd.read_csv(df_path, sep=',')\n",
    "matmar_path = '../../../{}bit/{}bit.mat.mar'.format(bit, bit)\n",
    "result_list = mbms.make_result_list(matmar_path)\n",
    "ms = mbms.make_samples_using_markov_basis(df, matmar_path, result_list)\n",
    "E_list, valid_y = ms.SA(10000)\n",
    "print('46bit data can make ', len(valid_y), 'samples using markov basis and SA')"
   ]
  },
  {
   "cell_type": "code",
   "execution_count": 10,
   "metadata": {},
   "outputs": [
    {
     "data": {
      "image/png": "[encoded data removed]",
      "text/plain": [
       "<Figure size 432x288 with 1 Axes>"
      ]
     },
     "metadata": {
      "needs_background": "light"
     },
     "output_type": "display_data"
    }
   ],
   "source": [
    "df_path = '../../../../input/ost{}.csv'.format(bit)\n",
    "df = pd.read_csv(df_path, sep=',')\n",
    "matmar_path = '../../../{}bit/{}bit.mat.mar'.format(bit, bit)\n",
    "result_list = mbms.make_result_list(matmar_path)\n",
    "ms = mbms.make_samples_using_markov_basis(df, matmar_path, result_list)\n",
    "plot_path = \"SA_10000_t_num\"\n",
    "E_list, valid_y = ms.SA(10000)\n",
    "hist_dic = mbms.y_num_t1_hist(df, valid_y, plot_path)"
   ]
  },
  {
   "cell_type": "code",
   "execution_count": 11,
   "metadata": {},
   "outputs": [
    {
     "name": "stdout",
     "output_type": "stream",
     "text": [
      "p values is 0.021310602024507193 when i use 46bit data markov basis and random method\n"
     ]
    }
   ],
   "source": [
    "df_path = '../../../../input/ost{}.csv'.format(bit)\n",
    "df = pd.read_csv(df_path, sep=',')\n",
    "matmar_path = '../../../{}bit/{}bit.mat.mar'.format(bit, bit)\n",
    "result_list = mbms.make_result_list(matmar_path)\n",
    "ms = mbms.make_samples_using_markov_basis(df, matmar_path, result_list)\n",
    "E_list, valid_y = ms.SA(10000)\n",
    "print('p values is',mbms.p_value(df, valid_y) , 'when i use 46bit data markov basis and SA')"
   ]
  },
  {
   "cell_type": "code",
   "execution_count": null,
   "metadata": {},
   "outputs": [],
   "source": []
  }
 ],
 "metadata": {
  "kernelspec": {
   "display_name": "Python 3",
   "language": "python",
   "name": "python3"
  },
  "language_info": {
   "codemirror_mode": {
    "name": "ipython",
    "version": 3
   },
   "file_extension": ".py",
   "mimetype": "text/x-python",
   "name": "python",
   "nbconvert_exporter": "python",
   "pygments_lexer": "ipython3",
   "version": "3.7.9"
  }
 },
 "nbformat": 4,
 "nbformat_minor": 4
}
