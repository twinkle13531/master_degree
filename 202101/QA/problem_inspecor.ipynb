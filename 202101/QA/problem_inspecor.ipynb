{
 "cells": [
  {
   "cell_type": "code",
   "execution_count": null,
   "metadata": {},
   "outputs": [],
   "source": [
    "%load_ext autoreload\n",
    "%autoreload 2"
   ]
  },
  {
   "cell_type": "code",
   "execution_count": null,
   "metadata": {},
   "outputs": [],
   "source": [
    "import dwave.inspector\n",
    "import QA_DwaveSampler_AutoEmbedding as qda\n",
    "import pandas as pd\n",
    "import numpy as np\n",
    "import timeit\n",
    "import matplotlib.pyplot as plt\n",
    "import statistics"
   ]
  },
  {
   "cell_type": "markdown",
   "metadata": {},
   "source": [
    "##### autoembeddingcompositeとembeddingcompositeの違いは，自動でマイナー埋め込みをする必要があるか判断してくれるか（autoembeddingcomposite），自動でマイナー埋め込みを常にしてくれるか（embeddingcomposite）．現在autoembeddingcompositeを使っているが，調べるとembeddingcompositeを使っている例の方が多い．autoembeddingcompositeはまずはそのままのbqmで試して，BinaryQuadraticModelStructureErrorというサンプラーが扱えない形のbqmが入った際に出るエラーが発令されたら，マイナー埋め込みをするらしい．大きな問題だと埋め込みに時間がかかるので，しなくて済むならしないでおきたい．そのニーズに答えるためのツールなのか．\n",
    "\n",
    "マイナー埋め込みは手動と自動どちらも可能．自動で行うというのは，Oceanソフトウェア・ツールを使って行うことを指す．\n",
    "\n",
    "autoのほうが速いかと思って試してみたが一回目の試行ではautonのほうが負けていたので途中でやめた"
   ]
  },
  {
   "cell_type": "code",
   "execution_count": null,
   "metadata": {},
   "outputs": [],
   "source": [
    "bit, num, n, num_reads = 20, 0, 100, 100\n",
    "path = '../input/ost{}_{}.csv'.format(bit, num)\n",
    "df = pd.read_csv(path, sep=',')\n",
    "bqm = qda.make_Hamiltonian(df)"
   ]
  },
  {
   "cell_type": "code",
   "execution_count": null,
   "metadata": {},
   "outputs": [],
   "source": [
    "from dimod.reference.samplers import ExactSolver\n",
    "solver = ExactSolver()\n",
    "response = solver.sample(bqm)\n",
    "for datum in response.data(['sample', 'energy']):     \n",
    "    if datum.energy==0.0:\n",
    "        datum.sample.values()"
   ]
  },
  {
   "cell_type": "code",
   "execution_count": null,
   "metadata": {},
   "outputs": [],
   "source": [
    "bit, num, n, num_reads = 20, 0, 100, 100\n",
    "path = '../input/ost{}_{}.csv'.format(bit, num)\n",
    "df = pd.read_csv(path, sep=',')\n",
    "bqm = qda.make_Hamiltonian(df)\n",
    "#QDA = qda.QA_DSampler_AEmbedding(df, bqm, n, num_reads, chain_strength)\n",
    "\n",
    "#繰り返さない！\n",
    "dw_sampler = DWaveSampler(\n",
    "        endpoint=\"https://cloud.dwavesys.com/sapi\",\n",
    "        solver = 'DW_2000Q_6',\n",
    "        token = \"TOKY-1319d5c52b9aa35f34b40feba0cea58a4f5d3c09\",\n",
    "        retry_interval=5\n",
    "    )\n",
    "# インスタンス作成\n",
    "qa_sampler = AutoEmbeddingComposite(dw_sampler)\n",
    "\n",
    "res = qa_sampler.sample(bqm, chain_strength = chain_strength, chain_break_fraction=True, num_reads=num_reads)\n",
    "# Inspect\n",
    "dwave.inspector.show(response)"
   ]
  },
  {
   "cell_type": "markdown",
   "metadata": {},
   "source": [
    "### chain_strength = partial(uniform_torque_compensation, prefactor=2) ???\n",
    "\n",
    "- chain_strength (float, optional) – The (relative) chain strength to use in the embedding. By default a chain strength of 1.5sqrt(N) where N is the size of the largest clique, as returned by largest_clique_size.\n",
    "\n",
    "- chain_strength (float/mapping/callable, optional, default=1.0) Magnitude of the quadratic bias (in SPIN-space) applied between variables to create chains. The energy penalty of chain breaks is 2 * chain_strength.mappingが渡されたらchain特有の強さが適用される. If a callable is passed, it will be called on chain_strength(bqm, embedding) and should return a float or mapping, to be interpreted as above. By default, chain_strength is scaled to the problem. デフォルトでも，考えられた値となっているようだ．autoembedding_compositeではこのように考えられた値だが，embedding_compositeではnoneとなっているようだ．一方両者ともにdefaul=1.0と書いてある\n",
    "\n",
    "→returning_embeddin=Trueで確認したらchain_strengthとかわかりそう\n",
    "\n",
    "- return_embedding (bool, optional) – If True, the embedding, chain strength, chain break method and embedding parameters are added to dimod. SampleSet.info of the returned sample set. The default behaviour is defined by return_embedding_default, which itself defaults to False."
   ]
  },
  {
   "cell_type": "code",
   "execution_count": null,
   "metadata": {},
   "outputs": [],
   "source": [
    "#autoを使わないと精度は変わるのか\n",
    "\n",
    "from functools import partial\n",
    ">>> from dwave.system import EmbeddingComposite, DWaveSampler\n",
    ">>> from dwave.embedding.chain_strength import uniform_torque_compensation\n",
    "...\n",
    ">>> Q = {(0,0): 1, (1,1): 1, (2,3): 2, (1,2): -2, (0,3): -2}\n",
    ">>> sampler = EmbeddingComposite(DWaveSampler())\n",
    ">>> # partial() can be used when the BQM or embedding is not accessible\n",
    ">>> chain_strength = partial(uniform_torque_compensation, prefactor=2)\n",
    ">>> sampleset = sampler.sample_qubo(Q, chain_strength=chain_strength, return_embedding=True)\n",
    ">>> sampleset.info['embedding_context']['chain_strength']"
   ]
  },
  {
   "cell_type": "markdown",
   "metadata": {},
   "source": [
    "- [Ocean SDK](https://docs.ocean.dwavesys.com/en/latest/)は、D-Wave量子コンピューターをプログラミングするためのオープンソースのPythonツールのセット"
   ]
  },
  {
   "cell_type": "code",
   "execution_count": 1,
   "metadata": {},
   "outputs": [],
   "source": [
    "import networkx as nx\n",
    " \n",
    "graph_nodes = 16\n",
    "G = nx.random_geometric_graph(n=graph_nodes, radius=.5, dim=2)"
   ]
  },
  {
   "cell_type": "code",
   "execution_count": 2,
   "metadata": {},
   "outputs": [],
   "source": [
    "from collections import defaultdict\n",
    "from itertools import combinations\n",
    " \n",
    "gamma = 60\n",
    " \n",
    "Q = defaultdict(int)\n",
    " \n",
    "# Fill in Q matrix\n",
    "for u, v in G.edges:\n",
    "    Q[(u,u)] += 1\n",
    "    Q[(v,v)] += 1\n",
    "    Q[(u,v)] += -2\n",
    "\n",
    "for i in G.nodes:\n",
    "    Q[(i,i)] += gamma*(1-len(G.nodes))\n",
    "\n",
    "for i, j in combinations(G.nodes, 2):\n",
    "    Q[(i,j)] += 2*gamma"
   ]
  },
  {
   "cell_type": "code",
   "execution_count": 3,
   "metadata": {},
   "outputs": [
    {
     "name": "stdout",
     "output_type": "stream",
     "text": [
      "Maximum element is 120.00 and minimum is -897.00.\n"
     ]
    }
   ],
   "source": [
    "print(\"Maximum element is {:.2f} and minimum is {:.2f}.\".format(max(Q.values()), min(Q.values())))    # doctest: +SKIP"
   ]
  },
  {
   "cell_type": "code",
   "execution_count": 4,
   "metadata": {},
   "outputs": [],
   "source": [
    "import numpy as np\n",
    "from dwave.system import DWaveSampler, EmbeddingComposite\n",
    " \n",
    "# Import the problem inspector to begin data capture\n",
    "import dwave.inspector\n",
    " \n",
    "sampler = EmbeddingComposite(DWaveSampler(solver={'qpu': True}))\n",
    " \n",
    "num_reads = 1000\n",
    "sampleset = sampler.sample_qubo(Q, num_reads=num_reads)"
   ]
  },
  {
   "cell_type": "code",
   "execution_count": 5,
   "metadata": {},
   "outputs": [
    {
     "name": "stdout",
     "output_type": "stream",
     "text": [
      "Number of nodes in one set is 8, in the other, 8. \n",
      "Energy is -3809.0.\n"
     ]
    }
   ],
   "source": [
    "print(\"Number of nodes in one set is {}, in the other, {}. \\nEnergy is {}.\".format(\n",
    "    sum(sampleset.first.sample.values()),\n",
    "    graph_nodes - sum(sampleset.first.sample.values()),\n",
    "    sampleset.first.energy))      # doctest: +SKIP"
   ]
  },
  {
   "cell_type": "code",
   "execution_count": 6,
   "metadata": {},
   "outputs": [
    {
     "name": "stdout",
     "output_type": "stream",
     "text": [
      "Percentage of samples with high rates of breaks is 6.6000000000000005.\n"
     ]
    }
   ],
   "source": [
    "print(\"Percentage of samples with high rates of breaks is {}.\".format(\n",
    "    np.count_nonzero(sampleset.record.chain_break_fraction > 0.33)/num_reads*100))    # doctest: +SKIP"
   ]
  },
  {
   "cell_type": "code",
   "execution_count": 7,
   "metadata": {},
   "outputs": [
    {
     "data": {
      "text/plain": [
       "'http://127.0.0.1:18000/?problemId=19fa8c91-64f6-4d07-a85f-8dbdacd7e6b0'"
      ]
     },
     "execution_count": 7,
     "metadata": {},
     "output_type": "execute_result"
    }
   ],
   "source": [
    "dwave.inspector.show(sampleset)"
   ]
  },
  {
   "cell_type": "code",
   "execution_count": 8,
   "metadata": {},
   "outputs": [],
   "source": [
    "sampleset = sampler.sample_qubo(Q, num_reads=num_reads, chain_strength=1000)"
   ]
  },
  {
   "cell_type": "code",
   "execution_count": 9,
   "metadata": {},
   "outputs": [
    {
     "name": "stdout",
     "output_type": "stream",
     "text": [
      "Number of nodes in one set is 8, in the other, 8. \n",
      "Energy is -3814.0.\n"
     ]
    }
   ],
   "source": [
    "print(\"Number of nodes in one set is {}, in the other, {}. \\nEnergy is {}.\".format(\n",
    "...        sum(sampleset.first.sample.values()),\n",
    "...        graph_nodes - sum(sampleset.first.sample.values()),\n",
    "...        sampleset.first.energy))    # doctest: +SKIP"
   ]
  },
  {
   "cell_type": "code",
   "execution_count": 10,
   "metadata": {},
   "outputs": [
    {
     "name": "stdout",
     "output_type": "stream",
     "text": [
      "Percentage of samples with high rates of breaks is 0.0.\n"
     ]
    }
   ],
   "source": [
    "print(\"Percentage of samples with high rates of breaks is {}.\".format(\n",
    "...        np.count_nonzero(sampleset.record.chain_break_fraction > 0.33)/num_reads*100))    # doctest: +SKIP"
   ]
  },
  {
   "cell_type": "code",
   "execution_count": 11,
   "metadata": {},
   "outputs": [
    {
     "data": {
      "text/plain": [
       "'http://127.0.0.1:18000/?problemId=54c66c0a-e191-472a-822c-f8de9dc724d1'"
      ]
     },
     "execution_count": 11,
     "metadata": {},
     "output_type": "execute_result"
    }
   ],
   "source": [
    "dwave.inspector.show(sampleset)"
   ]
  },
  {
   "cell_type": "code",
   "execution_count": 13,
   "metadata": {},
   "outputs": [
    {
     "name": "stdout",
     "output_type": "stream",
     "text": [
      "python: can't open file 'graph_partitioning.py': [Errno 2] No such file or directory\n"
     ]
    }
   ],
   "source": [
    "!python graph_partitioning.py"
   ]
  },
  {
   "cell_type": "code",
   "execution_count": null,
   "metadata": {},
   "outputs": [],
   "source": []
  }
 ],
 "metadata": {
  "kernelspec": {
   "display_name": "Python 3",
   "language": "python",
   "name": "python3"
  },
  "language_info": {
   "codemirror_mode": {
    "name": "ipython",
    "version": 3
   },
   "file_extension": ".py",
   "mimetype": "text/x-python",
   "name": "python",
   "nbconvert_exporter": "python",
   "pygments_lexer": "ipython3",
   "version": "3.7.9"
  }
 },
 "nbformat": 4,
 "nbformat_minor": 4
}
