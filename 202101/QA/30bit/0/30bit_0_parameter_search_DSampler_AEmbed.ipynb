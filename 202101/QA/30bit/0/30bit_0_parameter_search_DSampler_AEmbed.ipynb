{
 "cells": [
  {
   "cell_type": "code",
   "execution_count": 1,
   "metadata": {},
   "outputs": [
    {
     "name": "stdout",
     "output_type": "stream",
     "text": [
      "/Users/shihosato/src/github.com/twinkle13531/master_degree/202012/QA/30bit/0\n"
     ]
    }
   ],
   "source": [
    "!pwd"
   ]
  },
  {
   "cell_type": "code",
   "execution_count": 2,
   "metadata": {},
   "outputs": [],
   "source": [
    "%load_ext autoreload\n",
    "%autoreload 2"
   ]
  },
  {
   "cell_type": "code",
   "execution_count": 3,
   "metadata": {},
   "outputs": [],
   "source": [
    "import sys, os\n",
    "sys.path.append(os.path.join('..', '..'))"
   ]
  },
  {
   "cell_type": "code",
   "execution_count": 4,
   "metadata": {},
   "outputs": [],
   "source": [
    "import QA_DwaveSampler_AutoEmbedding as qda\n",
    "import pandas as pd\n",
    "import numpy as np\n",
    "import timeit"
   ]
  },
  {
   "cell_type": "code",
   "execution_count": 5,
   "metadata": {},
   "outputs": [],
   "source": [
    "#今回のデータ\n",
    "bit = 30\n",
    "num = 0"
   ]
  },
  {
   "cell_type": "code",
   "execution_count": 6,
   "metadata": {},
   "outputs": [],
   "source": [
    "#chain strength\n",
    "# 20bitは11, 25bitは12"
   ]
  },
  {
   "cell_type": "code",
   "execution_count": 7,
   "metadata": {},
   "outputs": [
    {
     "name": "stdout",
     "output_type": "stream",
     "text": [
      "18 samplese were made if n=100, num_reads=100 and chain_strength =10\n",
      "12 samplese were made if n=100, num_reads=100 and chain_strength =11\n",
      "22 samplese were made if n=100, num_reads=100 and chain_strength =12\n",
      "36 samplese were made if n=100, num_reads=100 and chain_strength =13\n"
     ]
    }
   ],
   "source": [
    "n = 100\n",
    "num_reads = 100\n",
    "for chain_strength in [10, 11, 12, 13]:#13が一番多い。\n",
    "    path = '../../../input/ost{}_{}.csv'.format(bit, num)\n",
    "    df = pd.read_csv(path, sep=',')\n",
    "    bqm = qda.make_Hamiltonian(df)\n",
    "    time_once = timeit.timeit(\"qda.make_Hamiltonian(df)\", globals=globals(), number=1)\n",
    "    QDA = qda.QA_DSampler_AEmbedding(df, bqm, time_once, n, num_reads, chain_strength)\n",
    "    valid_y_info_list, valid_y_num = QDA.find_valid_y_ntimes()\n",
    "    print('{} samplese were made if n=100, num_reads=100 and chain_strength ={}'.format(valid_y_num, chain_strength))"
   ]
  },
  {
   "cell_type": "code",
   "execution_count": 8,
   "metadata": {},
   "outputs": [
    {
     "name": "stdout",
     "output_type": "stream",
     "text": [
      "25 samplese were made if n=100, num_reads=100 and chain_strength =14\n",
      "22 samplese were made if n=100, num_reads=100 and chain_strength =15\n",
      "15 samplese were made if n=100, num_reads=100 and chain_strength =16\n",
      "25 samplese were made if n=100, num_reads=100 and chain_strength =17\n"
     ]
    }
   ],
   "source": [
    "n = 100\n",
    "num_reads = 100\n",
    "for chain_strength in [14, 15, 16, 17]:\n",
    "    path = '../../../input/ost{}_{}.csv'.format(bit, num)\n",
    "    df = pd.read_csv(path, sep=',')\n",
    "    bqm = qda.make_Hamiltonian(df)\n",
    "    time_once = timeit.timeit(\"qda.make_Hamiltonian(df)\", globals=globals(), number=1)\n",
    "    QDA = qda.QA_DSampler_AEmbedding(df, bqm, time_once, n, num_reads, chain_strength)\n",
    "    valid_y_info_list, valid_y_num = QDA.find_valid_y_ntimes()\n",
    "    print('{} samplese were made if n=100, num_reads=100 and chain_strength ={}'.format(valid_y_num, chain_strength))"
   ]
  },
  {
   "cell_type": "code",
   "execution_count": 9,
   "metadata": {},
   "outputs": [],
   "source": [
    "path = '../../../input/ost{}_{}.csv'.format(bit, num)\n",
    "df = pd.read_csv(path, sep=',')\n",
    "bqm = qda.make_Hamiltonian(df)\n",
    "time_once = timeit.timeit(\"qda.make_Hamiltonian(df)\", globals=globals(), number=1)\n",
    "n = 100\n",
    "num_reads = 100\n",
    "chain_strength = 13\n",
    "QDA = qda.QA_DSampler_AEmbedding(df, bqm, time_once, n, num_reads, chain_strength)\n",
    "valid_y_info_list, valid_y_num = QDA.find_valid_y_ntimes()"
   ]
  },
  {
   "cell_type": "code",
   "execution_count": 10,
   "metadata": {
    "collapsed": true,
    "jupyter": {
     "outputs_hidden": true
    }
   },
   "outputs": [
    {
     "name": "stdout",
     "output_type": "stream",
     "text": [
      "[[1, 1, 0, 1, 0, 0, 1, 1, 1, 1, 1, 1, 1, 0, 1, 0, 1, 1, 1, 1, 0, 0, 1, 1, 1, 1, 0, 0, 1, 1], 0.0, 1, 0.03333333333333333]\n",
      "[[1, 1, 0, 1, 1, 1, 0, 1, 1, 1, 1, 0, 1, 1, 1, 1, 1, 1, 0, 0, 0, 1, 1, 1, 0, 1, 0, 0, 1, 1], 0.0, 1, 0.0]\n",
      "[[1, 0, 1, 1, 1, 1, 1, 1, 1, 1, 1, 1, 1, 0, 0, 0, 1, 1, 0, 0, 0, 1, 0, 1, 1, 1, 0, 1, 1, 1], 0.0, 1, 0.0]\n",
      "[[0, 1, 0, 1, 1, 0, 1, 1, 1, 1, 0, 1, 1, 1, 0, 0, 1, 1, 0, 1, 0, 1, 1, 1, 1, 1, 0, 1, 1, 1], 0.0, 1, 0.0]\n",
      "[[1, 1, 1, 1, 0, 1, 0, 1, 1, 1, 1, 0, 1, 0, 0, 1, 1, 1, 0, 1, 0, 1, 0, 1, 1, 1, 1, 0, 1, 1], 0.0, 1, 0.03333333333333333]\n",
      "[[1, 1, 0, 0, 0, 1, 1, 0, 1, 1, 1, 1, 1, 1, 0, 1, 1, 1, 0, 0, 1, 0, 1, 1, 1, 1, 1, 0, 1, 1], 0.0, 1, 0.0]\n",
      "[[1, 0, 0, 1, 0, 1, 1, 1, 1, 1, 0, 1, 1, 1, 0, 1, 1, 1, 0, 1, 1, 1, 1, 1, 0, 1, 0, 0, 1, 1], 0.0, 1, 0.06666666666666667]\n",
      "[[0, 1, 1, 1, 0, 1, 1, 1, 1, 0, 0, 0, 1, 1, 1, 0, 1, 1, 1, 0, 1, 1, 1, 1, 1, 1, 0, 0, 1, 1], 0.0, 1, 0.0]\n",
      "[[1, 1, 1, 1, 1, 1, 1, 1, 1, 1, 1, 1, 1, 1, 0, 0, 1, 1, 0, 0, 0, 1, 0, 1, 0, 0, 0, 1, 1, 1], 0.0, 1, 0.0]\n",
      "[[0, 1, 1, 0, 1, 1, 1, 1, 1, 1, 0, 1, 1, 1, 0, 0, 1, 1, 0, 0, 0, 1, 1, 1, 1, 1, 0, 1, 1, 1], 0.0, 1, 0.03333333333333333]\n",
      "[[1, 1, 0, 1, 1, 1, 1, 1, 1, 0, 1, 0, 1, 1, 0, 1, 1, 0, 0, 1, 0, 1, 0, 1, 1, 1, 1, 0, 1, 1], 0.0, 1, 0.0]\n",
      "[[1, 1, 0, 1, 0, 1, 1, 1, 1, 1, 1, 0, 1, 0, 1, 0, 1, 1, 1, 1, 0, 0, 0, 1, 0, 1, 1, 1, 1, 1], 0.0, 1, 0.0]\n",
      "[[0, 1, 0, 1, 1, 1, 1, 1, 1, 0, 0, 0, 1, 1, 0, 1, 1, 1, 0, 1, 0, 1, 0, 1, 1, 1, 1, 1, 1, 1], 0.0, 1, 0.06666666666666667]\n",
      "[[1, 1, 0, 1, 0, 1, 1, 1, 1, 0, 0, 1, 1, 0, 1, 0, 1, 1, 0, 1, 1, 1, 1, 1, 1, 1, 0, 0, 1, 1], 0.0, 1, 0.0]\n",
      "[[1, 1, 1, 1, 1, 1, 1, 1, 1, 1, 0, 0, 1, 1, 0, 0, 1, 1, 0, 1, 1, 1, 1, 0, 0, 1, 0, 0, 1, 1], 0.0, 1, 0.03333333333333333]\n",
      "[[1, 1, 0, 0, 1, 1, 1, 1, 1, 1, 1, 1, 1, 1, 0, 0, 1, 1, 1, 1, 0, 1, 0, 1, 0, 1, 0, 0, 1, 1], 0.0, 1, 0.0]\n",
      "[[1, 0, 1, 1, 1, 0, 1, 1, 1, 1, 1, 1, 1, 1, 0, 0, 1, 1, 0, 0, 0, 0, 1, 1, 1, 1, 0, 1, 1, 1], 0.0, 1, 0.0]\n",
      "[[1, 1, 0, 1, 0, 1, 1, 1, 0, 0, 1, 0, 1, 1, 0, 1, 1, 1, 0, 1, 0, 0, 1, 1, 1, 1, 1, 1, 1, 1], 0.0, 1, 0.0]\n",
      "[[0, 1, 1, 1, 1, 1, 1, 1, 1, 0, 1, 0, 1, 1, 0, 1, 1, 1, 0, 1, 0, 0, 0, 1, 1, 1, 1, 0, 1, 1], 0.0, 1, 0.03333333333333333]\n",
      "[[1, 1, 1, 1, 0, 1, 1, 1, 1, 1, 0, 0, 1, 0, 1, 1, 1, 1, 0, 0, 1, 1, 1, 0, 1, 1, 0, 0, 1, 1], 0.0, 1, 0.03333333333333333]\n",
      "[[1, 1, 0, 1, 0, 1, 1, 0, 1, 1, 1, 1, 1, 1, 0, 1, 1, 1, 0, 1, 0, 1, 0, 1, 0, 1, 1, 0, 1, 1], 0.0, 1, 0.0]\n",
      "[[1, 1, 0, 1, 1, 1, 1, 1, 1, 1, 1, 0, 0, 1, 0, 1, 1, 1, 0, 1, 1, 0, 0, 1, 1, 0, 1, 0, 1, 1], 0.0, 1, 0.0]\n"
     ]
    }
   ],
   "source": [
    "for valid_y_info in valid_y_info_list:\n",
    "    print(valid_y_info)"
   ]
  },
  {
   "cell_type": "code",
   "execution_count": 12,
   "metadata": {
    "collapsed": true,
    "jupyter": {
     "outputs_hidden": true
    }
   },
   "outputs": [
    {
     "name": "stdout",
     "output_type": "stream",
     "text": [
      "15 samplese were made if n=1, num_reads=10000 and chain_strength = 13\n",
      "33 samplese were made if n=10, num_reads=1000 and chain_strength = 13\n",
      "32 samplese were made if n=100, num_reads=100 and chain_strength = 13\n",
      "30 samplese were made if n=1000, num_reads=10 and chain_strength = 13\n"
     ]
    },
    {
     "ename": "KeyboardInterrupt",
     "evalue": "embedding cancelled by keyboard interrupt",
     "output_type": "error",
     "traceback": [
      "\u001b[0;31m---------------------------------------------------------------------------\u001b[0m",
      "\u001b[0;31mKeyboardInterrupt\u001b[0m                         Traceback (most recent call last)",
      "\u001b[0;32m<ipython-input-12-7bbdf6e772c7>\u001b[0m in \u001b[0;36m<module>\u001b[0;34m\u001b[0m\n\u001b[1;32m      9\u001b[0m     \u001b[0mnum_reads\u001b[0m \u001b[0;34m=\u001b[0m \u001b[0mn_numreads\u001b[0m\u001b[0;34m[\u001b[0m\u001b[0;36m1\u001b[0m\u001b[0;34m]\u001b[0m\u001b[0;34m\u001b[0m\u001b[0;34m\u001b[0m\u001b[0m\n\u001b[1;32m     10\u001b[0m     \u001b[0mQDA\u001b[0m \u001b[0;34m=\u001b[0m \u001b[0mqda\u001b[0m\u001b[0;34m.\u001b[0m\u001b[0mQA_DSampler_AEmbedding\u001b[0m\u001b[0;34m(\u001b[0m\u001b[0mdf\u001b[0m\u001b[0;34m,\u001b[0m \u001b[0mbqm\u001b[0m\u001b[0;34m,\u001b[0m \u001b[0mtime_once\u001b[0m\u001b[0;34m,\u001b[0m \u001b[0mn\u001b[0m\u001b[0;34m,\u001b[0m \u001b[0mnum_reads\u001b[0m\u001b[0;34m,\u001b[0m \u001b[0mchain_strength\u001b[0m\u001b[0;34m)\u001b[0m\u001b[0;34m\u001b[0m\u001b[0;34m\u001b[0m\u001b[0m\n\u001b[0;32m---> 11\u001b[0;31m     \u001b[0mvalid_y_info_list\u001b[0m\u001b[0;34m,\u001b[0m \u001b[0mvalid_y_num\u001b[0m \u001b[0;34m=\u001b[0m \u001b[0mQDA\u001b[0m\u001b[0;34m.\u001b[0m\u001b[0mfind_valid_y_ntimes\u001b[0m\u001b[0;34m(\u001b[0m\u001b[0;34m)\u001b[0m\u001b[0;34m\u001b[0m\u001b[0;34m\u001b[0m\u001b[0m\n\u001b[0m\u001b[1;32m     12\u001b[0m     \u001b[0mprint\u001b[0m\u001b[0;34m(\u001b[0m\u001b[0;34m'{} samplese were made if n={}, num_reads={} and chain_strength = {}'\u001b[0m\u001b[0;34m.\u001b[0m\u001b[0mformat\u001b[0m\u001b[0;34m(\u001b[0m\u001b[0mvalid_y_num\u001b[0m\u001b[0;34m,\u001b[0m \u001b[0mn_numreads\u001b[0m\u001b[0;34m[\u001b[0m\u001b[0;36m0\u001b[0m\u001b[0;34m]\u001b[0m\u001b[0;34m,\u001b[0m \u001b[0mn_numreads\u001b[0m\u001b[0;34m[\u001b[0m\u001b[0;36m1\u001b[0m\u001b[0;34m]\u001b[0m\u001b[0;34m,\u001b[0m \u001b[0mchain_strength\u001b[0m\u001b[0;34m)\u001b[0m\u001b[0;34m)\u001b[0m\u001b[0;34m\u001b[0m\u001b[0;34m\u001b[0m\u001b[0m\n",
      "\u001b[0;32m~/src/github.com/twinkle13531/master_degree/202012/QA/QA_DwaveSampler_AutoEmbedding.py\u001b[0m in \u001b[0;36mfind_valid_y_ntimes\u001b[0;34m(self)\u001b[0m\n\u001b[1;32m     82\u001b[0m         \u001b[0mdf_list_list\u001b[0m \u001b[0;34m=\u001b[0m \u001b[0;34m[\u001b[0m\u001b[0;34m]\u001b[0m\u001b[0;34m\u001b[0m\u001b[0;34m\u001b[0m\u001b[0m\n\u001b[1;32m     83\u001b[0m         \u001b[0;32mfor\u001b[0m \u001b[0m_\u001b[0m \u001b[0;32min\u001b[0m \u001b[0mrange\u001b[0m\u001b[0;34m(\u001b[0m\u001b[0mself\u001b[0m\u001b[0;34m.\u001b[0m\u001b[0mn\u001b[0m\u001b[0;34m)\u001b[0m\u001b[0;34m:\u001b[0m\u001b[0;34m\u001b[0m\u001b[0;34m\u001b[0m\u001b[0m\n\u001b[0;32m---> 84\u001b[0;31m             \u001b[0mres\u001b[0m \u001b[0;34m=\u001b[0m \u001b[0mqa_sampler\u001b[0m\u001b[0;34m.\u001b[0m\u001b[0msample\u001b[0m\u001b[0;34m(\u001b[0m\u001b[0mself\u001b[0m\u001b[0;34m.\u001b[0m\u001b[0mbqm\u001b[0m\u001b[0;34m,\u001b[0m \u001b[0mchain_strength\u001b[0m\u001b[0;34m=\u001b[0m\u001b[0mself\u001b[0m\u001b[0;34m.\u001b[0m\u001b[0mchain_strength\u001b[0m\u001b[0;34m,\u001b[0m \u001b[0mchain_break_fraction\u001b[0m\u001b[0;34m=\u001b[0m\u001b[0;32mTrue\u001b[0m\u001b[0;34m,\u001b[0m \u001b[0mnum_reads\u001b[0m\u001b[0;34m=\u001b[0m\u001b[0mself\u001b[0m\u001b[0;34m.\u001b[0m\u001b[0mnum_reads\u001b[0m\u001b[0;34m)\u001b[0m\u001b[0;34m\u001b[0m\u001b[0;34m\u001b[0m\u001b[0m\n\u001b[0m\u001b[1;32m     85\u001b[0m             \u001b[0;32mfor\u001b[0m \u001b[0msample\u001b[0m\u001b[0;34m,\u001b[0m \u001b[0menergy\u001b[0m\u001b[0;34m,\u001b[0m \u001b[0mnum_occurrences\u001b[0m\u001b[0;34m,\u001b[0m \u001b[0mchain_break_fraction\u001b[0m \u001b[0;32min\u001b[0m \u001b[0mres\u001b[0m\u001b[0;34m.\u001b[0m\u001b[0mdata\u001b[0m\u001b[0;34m(\u001b[0m\u001b[0;34m[\u001b[0m\u001b[0;34m'sample'\u001b[0m\u001b[0;34m,\u001b[0m \u001b[0;34m'energy'\u001b[0m\u001b[0;34m,\u001b[0m \u001b[0;34m'num_occurrences'\u001b[0m\u001b[0;34m,\u001b[0m \u001b[0;34m'chain_break_fraction'\u001b[0m\u001b[0;34m]\u001b[0m\u001b[0;34m)\u001b[0m\u001b[0;34m:\u001b[0m\u001b[0;34m\u001b[0m\u001b[0;34m\u001b[0m\u001b[0m\n\u001b[1;32m     86\u001b[0m                 \u001b[0mdf_list_list\u001b[0m\u001b[0;34m.\u001b[0m\u001b[0mappend\u001b[0m\u001b[0;34m(\u001b[0m\u001b[0;34m[\u001b[0m\u001b[0mlist\u001b[0m\u001b[0;34m(\u001b[0m\u001b[0msample\u001b[0m\u001b[0;34m.\u001b[0m\u001b[0mvalues\u001b[0m\u001b[0;34m(\u001b[0m\u001b[0;34m)\u001b[0m\u001b[0;34m)\u001b[0m\u001b[0;34m,\u001b[0m \u001b[0menergy\u001b[0m\u001b[0;34m,\u001b[0m \u001b[0mnum_occurrences\u001b[0m\u001b[0;34m,\u001b[0m \u001b[0mchain_break_fraction\u001b[0m\u001b[0;34m]\u001b[0m\u001b[0;34m)\u001b[0m\u001b[0;34m\u001b[0m\u001b[0;34m\u001b[0m\u001b[0m\n",
      "\u001b[0;32m~/.pyenv/versions/miniconda3-4.7.12/lib/python3.7/site-packages/dwave/system/composites/embedding.py\u001b[0m in \u001b[0;36msample\u001b[0;34m(self, bqm, **parameters)\u001b[0m\n\u001b[1;32m    631\u001b[0m             \u001b[0;32mpass\u001b[0m\u001b[0;34m\u001b[0m\u001b[0;34m\u001b[0m\u001b[0m\n\u001b[1;32m    632\u001b[0m \u001b[0;34m\u001b[0m\u001b[0m\n\u001b[0;32m--> 633\u001b[0;31m         \u001b[0;32mreturn\u001b[0m \u001b[0msuper\u001b[0m\u001b[0;34m(\u001b[0m\u001b[0mAutoEmbeddingComposite\u001b[0m\u001b[0;34m,\u001b[0m \u001b[0mself\u001b[0m\u001b[0;34m)\u001b[0m\u001b[0;34m.\u001b[0m\u001b[0msample\u001b[0m\u001b[0;34m(\u001b[0m\u001b[0mbqm\u001b[0m\u001b[0;34m,\u001b[0m \u001b[0;34m**\u001b[0m\u001b[0mparameters\u001b[0m\u001b[0;34m)\u001b[0m\u001b[0;34m\u001b[0m\u001b[0;34m\u001b[0m\u001b[0m\n\u001b[0m",
      "\u001b[0;32m~/.pyenv/versions/miniconda3-4.7.12/lib/python3.7/site-packages/dwave/system/composites/embedding.py\u001b[0m in \u001b[0;36msample\u001b[0;34m(self, bqm, chain_strength, chain_break_method, chain_break_fraction, embedding_parameters, return_embedding, warnings, **parameters)\u001b[0m\n\u001b[1;32m    236\u001b[0m \u001b[0;34m\u001b[0m\u001b[0m\n\u001b[1;32m    237\u001b[0m         embedding = self.find_embedding(source_edgelist, target_edgelist,\n\u001b[0;32m--> 238\u001b[0;31m                                         **embedding_parameters)\n\u001b[0m\u001b[1;32m    239\u001b[0m \u001b[0;34m\u001b[0m\u001b[0m\n\u001b[1;32m    240\u001b[0m         \u001b[0;32mif\u001b[0m \u001b[0mbqm\u001b[0m \u001b[0;32mand\u001b[0m \u001b[0;32mnot\u001b[0m \u001b[0membedding\u001b[0m\u001b[0;34m:\u001b[0m\u001b[0;34m\u001b[0m\u001b[0;34m\u001b[0m\u001b[0m\n",
      "\u001b[0;32m~/.pyenv/versions/miniconda3-4.7.12/lib/python3.7/site-packages/minorminer/minorminer.py\u001b[0m in \u001b[0;36mfind_embedding\u001b[0;34m(S, T, max_no_improvement, random_seed, timeout, max_beta, tries, inner_rounds, chainlength_patience, max_fill, threads, return_overlap, skip_initialization, verbose, interactive, initial_chains, fixed_chains, restrict_chains, suspend_chains)\u001b[0m\n\u001b[1;32m     56\u001b[0m                             \u001b[0mfixed_chains\u001b[0m\u001b[0;34m=\u001b[0m\u001b[0mfixed_chains\u001b[0m\u001b[0;34m,\u001b[0m\u001b[0;34m\u001b[0m\u001b[0;34m\u001b[0m\u001b[0m\n\u001b[1;32m     57\u001b[0m                             \u001b[0mrestrict_chains\u001b[0m\u001b[0;34m=\u001b[0m\u001b[0mrestrict_chains\u001b[0m\u001b[0;34m,\u001b[0m\u001b[0;34m\u001b[0m\u001b[0;34m\u001b[0m\u001b[0m\n\u001b[0;32m---> 58\u001b[0;31m                             \u001b[0msuspend_chains\u001b[0m\u001b[0;34m=\u001b[0m\u001b[0msuspend_chains\u001b[0m\u001b[0;34m,\u001b[0m\u001b[0;34m\u001b[0m\u001b[0;34m\u001b[0m\u001b[0m\n\u001b[0m\u001b[1;32m     59\u001b[0m                             )\n",
      "\u001b[0;32mminorminer/_minorminer.pyx\u001b[0m in \u001b[0;36mminorminer._minorminer.find_embedding\u001b[0;34m()\u001b[0m\n",
      "\u001b[0;31mKeyboardInterrupt\u001b[0m: embedding cancelled by keyboard interrupt"
     ]
    }
   ],
   "source": [
    "chain_strength = 13\n",
    "n_numreads_list = [[1, 10000], [10, 1000], [100, 100], [1000, 10], [10000, 1]]#[10, 1000]が現時点でベスト\n",
    "for n_numreads in n_numreads_list:\n",
    "    path = '../../../input/ost{}_{}.csv'.format(bit, num)\n",
    "    df = pd.read_csv(path, sep=',')\n",
    "    bqm = qda.make_Hamiltonian(df)\n",
    "    time_once = timeit.timeit(\"qda.make_Hamiltonian(df)\", globals=globals(), number=1)\n",
    "    n = n_numreads[0]\n",
    "    num_reads = n_numreads[1]\n",
    "    QDA = qda.QA_DSampler_AEmbedding(df, bqm, time_once, n, num_reads, chain_strength)\n",
    "    valid_y_info_list, valid_y_num = QDA.find_valid_y_ntimes()\n",
    "    print('{} samplese were made if n={}, num_reads={} and chain_strength = {}'.format(valid_y_num, n_numreads[0], n_numreads[1], chain_strength))"
   ]
  },
  {
   "cell_type": "code",
   "execution_count": 13,
   "metadata": {},
   "outputs": [],
   "source": [
    "#最終確認\n",
    "path = '../../../input/ost{}_{}.csv'.format(bit, num)\n",
    "df = pd.read_csv(path, sep=',')\n",
    "bqm = qda.make_Hamiltonian(df)\n",
    "time_once = timeit.timeit(\"qda.make_Hamiltonian(df)\", globals=globals(), number=1)\n",
    "n = 10\n",
    "num_reads = 1000\n",
    "chain_strength = 13\n",
    "QDA = qda.QA_DSampler_AEmbedding(df, bqm, time_once, n, num_reads, chain_strength)\n",
    "valid_y_info_list, valid_y_num = QDA.find_valid_y_ntimes()"
   ]
  },
  {
   "cell_type": "code",
   "execution_count": 15,
   "metadata": {
    "collapsed": true,
    "jupyter": {
     "outputs_hidden": true
    }
   },
   "outputs": [
    {
     "name": "stdout",
     "output_type": "stream",
     "text": [
      "[[0, 1, 0, 1, 1, 1, 1, 1, 1, 1, 1, 1, 0, 1, 0, 1, 1, 1, 1, 0, 0, 0, 0, 1, 1, 1, 1, 0, 1, 1], 0.0, 1, 0.0]\n",
      "[[1, 1, 1, 1, 0, 1, 0, 1, 1, 1, 1, 0, 1, 1, 1, 0, 1, 1, 0, 0, 0, 0, 1, 1, 0, 1, 1, 1, 1, 1], 0.0, 1, 0.0]\n",
      "[[1, 1, 1, 1, 0, 1, 1, 1, 1, 1, 1, 0, 1, 1, 0, 1, 1, 1, 1, 0, 0, 0, 0, 1, 0, 0, 1, 1, 1, 1], 0.0, 1, 0.0]\n",
      "[[1, 1, 0, 1, 1, 1, 1, 1, 1, 1, 1, 0, 0, 1, 0, 0, 1, 1, 1, 0, 0, 0, 1, 1, 1, 1, 1, 1, 0, 1], 0.0, 1, 0.03333333333333333]\n",
      "[[1, 1, 0, 1, 0, 1, 0, 1, 1, 1, 1, 0, 1, 1, 0, 0, 1, 1, 0, 0, 1, 1, 1, 1, 1, 1, 1, 1, 1, 0], 0.0, 1, 0.03333333333333333]\n",
      "[[1, 1, 0, 1, 0, 1, 1, 1, 0, 1, 0, 0, 1, 1, 0, 1, 1, 1, 1, 0, 0, 1, 1, 0, 1, 1, 1, 1, 1, 1], 0.0, 1, 0.03333333333333333]\n",
      "[[1, 0, 1, 1, 0, 1, 1, 1, 1, 1, 1, 0, 1, 1, 1, 0, 1, 0, 0, 0, 1, 1, 0, 1, 1, 1, 1, 0, 1, 1], 0.0, 1, 0.0]\n",
      "[[1, 1, 1, 1, 0, 0, 1, 1, 1, 1, 1, 0, 1, 1, 0, 0, 1, 1, 1, 0, 1, 0, 0, 1, 1, 0, 1, 1, 1, 1], 0.0, 1, 0.0]\n",
      "[[1, 1, 0, 1, 0, 1, 1, 1, 1, 0, 1, 1, 1, 1, 1, 0, 1, 1, 1, 0, 1, 1, 0, 1, 1, 0, 0, 0, 1, 1], 0.0, 1, 0.0]\n",
      "[[1, 0, 0, 1, 0, 1, 0, 1, 1, 1, 1, 0, 1, 1, 0, 0, 1, 1, 1, 1, 1, 1, 0, 1, 1, 1, 1, 0, 1, 1], 0.0, 1, 0.03333333333333333]\n",
      "[[1, 1, 0, 1, 0, 1, 1, 1, 1, 1, 0, 0, 1, 0, 1, 0, 1, 1, 1, 1, 0, 0, 1, 1, 1, 0, 1, 1, 1, 1], 0.0, 1, 0.03333333333333333]\n",
      "[[1, 0, 1, 1, 1, 0, 1, 1, 1, 1, 0, 1, 1, 1, 1, 0, 1, 1, 0, 0, 0, 1, 1, 1, 1, 1, 0, 0, 1, 1], 0.0, 1, 0.0]\n",
      "[[1, 1, 1, 1, 1, 0, 1, 1, 1, 1, 1, 0, 1, 1, 0, 0, 0, 1, 0, 1, 0, 1, 0, 1, 1, 1, 1, 0, 1, 1], 0.0, 1, 0.0]\n",
      "[[1, 0, 1, 1, 0, 1, 0, 1, 1, 1, 0, 1, 1, 1, 0, 1, 1, 1, 0, 0, 0, 1, 1, 1, 1, 1, 1, 0, 1, 1], 0.0, 1, 0.03333333333333333]\n",
      "[[1, 0, 1, 1, 0, 1, 1, 1, 1, 1, 0, 1, 0, 1, 0, 1, 1, 1, 0, 0, 1, 0, 1, 1, 1, 1, 1, 0, 1, 1], 0.0, 1, 0.0]\n",
      "[[1, 1, 1, 1, 0, 1, 1, 1, 1, 1, 0, 0, 0, 1, 0, 0, 1, 1, 1, 1, 0, 0, 1, 1, 0, 1, 1, 1, 1, 1], 0.0, 1, 0.0]\n",
      "[[1, 0, 0, 1, 1, 0, 1, 1, 1, 1, 0, 1, 1, 1, 0, 0, 1, 1, 0, 0, 1, 1, 1, 1, 1, 1, 0, 1, 1, 1], 0.0, 1, 0.0]\n",
      "[[0, 1, 0, 1, 0, 1, 1, 1, 1, 1, 1, 0, 1, 1, 0, 0, 1, 1, 1, 0, 1, 0, 1, 1, 1, 1, 1, 1, 0, 1], 0.0, 1, 0.0]\n",
      "[[1, 0, 1, 1, 0, 1, 1, 1, 0, 1, 1, 0, 1, 1, 0, 0, 1, 1, 1, 0, 0, 1, 1, 1, 1, 1, 0, 1, 1, 1], 0.0, 1, 0.03333333333333333]\n",
      "[[1, 1, 0, 1, 1, 1, 1, 1, 1, 0, 1, 0, 1, 1, 0, 0, 0, 1, 0, 1, 0, 0, 1, 1, 1, 1, 1, 1, 1, 1], 0.0, 1, 0.0]\n",
      "[[1, 1, 0, 1, 1, 0, 1, 1, 1, 0, 1, 0, 1, 1, 0, 1, 1, 1, 1, 1, 0, 1, 0, 1, 1, 1, 0, 0, 1, 1], 0.0, 1, 0.0]\n",
      "[[1, 1, 0, 1, 1, 1, 1, 0, 1, 1, 1, 1, 1, 1, 0, 1, 1, 1, 0, 0, 0, 0, 1, 1, 1, 0, 1, 0, 1, 1], 0.0, 1, 0.0]\n",
      "[[0, 1, 1, 1, 0, 1, 1, 1, 1, 0, 1, 1, 1, 1, 0, 0, 1, 1, 1, 1, 0, 0, 0, 1, 1, 1, 1, 0, 1, 1], 0.0, 1, 0.0]\n",
      "[[1, 1, 1, 1, 0, 0, 1, 1, 0, 1, 1, 0, 1, 1, 0, 0, 1, 1, 0, 1, 1, 1, 1, 1, 1, 1, 0, 0, 1, 1], 0.0, 1, 0.0]\n",
      "[[1, 1, 1, 1, 0, 1, 1, 1, 1, 0, 0, 1, 1, 1, 0, 0, 1, 1, 0, 1, 1, 1, 0, 1, 1, 0, 1, 0, 1, 1], 0.0, 1, 0.0]\n",
      "[[0, 1, 1, 1, 0, 1, 1, 1, 1, 0, 1, 0, 1, 1, 0, 1, 1, 1, 0, 1, 1, 0, 0, 1, 1, 1, 1, 0, 1, 1], 0.0, 1, 0.06666666666666667]\n",
      "[[1, 1, 1, 1, 1, 1, 1, 1, 1, 1, 1, 0, 1, 1, 1, 0, 1, 1, 0, 0, 0, 0, 1, 0, 0, 1, 0, 1, 1, 1], 0.0, 1, 0.0]\n",
      "[[1, 1, 0, 1, 1, 1, 0, 1, 1, 1, 1, 0, 1, 1, 1, 0, 1, 1, 0, 1, 0, 0, 1, 1, 0, 1, 1, 0, 1, 1], 0.0, 1, 0.0]\n",
      "[[1, 1, 0, 1, 0, 1, 1, 1, 1, 1, 0, 0, 1, 1, 1, 0, 1, 1, 1, 1, 1, 1, 1, 0, 0, 1, 0, 0, 1, 1], 0.0, 1, 0.0]\n",
      "[[1, 1, 0, 1, 1, 1, 1, 0, 1, 1, 1, 0, 1, 1, 1, 0, 1, 1, 1, 0, 0, 0, 1, 1, 0, 1, 1, 0, 1, 1], 0.0, 2, 0.0]\n",
      "[[1, 1, 1, 1, 1, 1, 1, 1, 1, 1, 1, 1, 1, 0, 0, 0, 1, 1, 0, 1, 0, 0, 0, 0, 1, 1, 1, 0, 1, 1], 0.0, 1, 0.0]\n",
      "[[1, 0, 0, 1, 0, 1, 1, 1, 1, 1, 1, 0, 0, 1, 1, 0, 1, 1, 1, 1, 0, 0, 0, 1, 1, 1, 1, 1, 1, 1], 0.0, 1, 0.06666666666666667]\n"
     ]
    }
   ],
   "source": [
    "for valid_y_info in valid_y_info_list:\n",
    "    print(valid_y_info)"
   ]
  },
  {
   "cell_type": "code",
   "execution_count": null,
   "metadata": {},
   "outputs": [],
   "source": []
  },
  {
   "cell_type": "code",
   "execution_count": null,
   "metadata": {},
   "outputs": [],
   "source": []
  },
  {
   "cell_type": "code",
   "execution_count": null,
   "metadata": {},
   "outputs": [],
   "source": []
  }
 ],
 "metadata": {
  "kernelspec": {
   "display_name": "Python 3",
   "language": "python",
   "name": "python3"
  },
  "language_info": {
   "codemirror_mode": {
    "name": "ipython",
    "version": 3
   },
   "file_extension": ".py",
   "mimetype": "text/x-python",
   "name": "python",
   "nbconvert_exporter": "python",
   "pygments_lexer": "ipython3",
   "version": "3.7.9"
  }
 },
 "nbformat": 4,
 "nbformat_minor": 4
}
