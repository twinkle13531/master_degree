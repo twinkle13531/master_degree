{
 "cells": [
  {
   "cell_type": "code",
   "execution_count": 1,
   "metadata": {},
   "outputs": [
    {
     "name": "stdout",
     "output_type": "stream",
     "text": [
      "/Users/shihosato/src/github.com/twinkle13531/master_degree/202012/QA/25bit\n"
     ]
    }
   ],
   "source": [
    "!pwd"
   ]
  },
  {
   "cell_type": "code",
   "execution_count": 2,
   "metadata": {},
   "outputs": [],
   "source": [
    "%load_ext autoreload\n",
    "%autoreload 2"
   ]
  },
  {
   "cell_type": "code",
   "execution_count": 3,
   "metadata": {},
   "outputs": [],
   "source": [
    "import sys, os\n",
    "sys.path.append(os.path.join('..'))"
   ]
  },
  {
   "cell_type": "code",
   "execution_count": 4,
   "metadata": {},
   "outputs": [],
   "source": [
    "import QA_DwaveSampler_AutoEmbedding as qda\n",
    "import pandas as pd\n",
    "import numpy as np\n",
    "import timeit\n",
    "import statistics\n",
    "import math"
   ]
  },
  {
   "cell_type": "code",
   "execution_count": 5,
   "metadata": {},
   "outputs": [],
   "source": [
    "bit = 25\n",
    "n = 10\n",
    "num_reads = 1000\n",
    "chain_strength = 12"
   ]
  },
  {
   "cell_type": "code",
   "execution_count": 6,
   "metadata": {},
   "outputs": [
    {
     "name": "stdout",
     "output_type": "stream",
     "text": [
      "number of valid y of 25bit_0 data is 180\n",
      "calculation time of 25bit_0 data is 0.003081083297729492\n",
      "p value of 25bit_0 data is 0.0\n",
      "-------------------------------------\n",
      "number of valid y of 25bit_1 data is 10\n",
      "calculation time of 25bit_1 data is 0.002710103988647461\n",
      "p value of 25bit_1 data is 0.0\n",
      "-------------------------------------\n",
      "number of valid y of 25bit_2 data is 320\n",
      "calculation time of 25bit_2 data is 0.004812002182006836\n",
      "p value of 25bit_2 data is 0.1875\n",
      "-------------------------------------\n",
      "number of valid y of 25bit_3 data is 30\n",
      "calculation time of 25bit_3 data is 0.003191232681274414\n",
      "p value of 25bit_3 data is 0.6666666666666666\n",
      "-------------------------------------\n",
      "number of valid y of 25bit_4 data is 30\n",
      "calculation time of 25bit_4 data is 0.018784046173095703\n",
      "p value of 25bit_4 data is 0.0\n",
      "-------------------------------------\n",
      "mean number of valid y of 25 bit data is 114.0\n",
      "mean calculate time of 25 bit data is 0.006515693664550781\n",
      "mean p value of 25 bit data is 0.17083333333333334\n",
      "mean sample occurrence of 25 bit data is 1.0222222222222221\n"
     ]
    }
   ],
   "source": [
    "valid_y_num_sum = 0\n",
    "time_list = []\n",
    "p_list = []\n",
    "occurance_list_list = []\n",
    "for num in [0, 1, 2, 3, 4]:\n",
    "    path = '../../input/ost{}_{}.csv'.format(bit, num)\n",
    "    df = pd.read_csv(path, sep=',')\n",
    "    bqm = qda.make_Hamiltonian(df)\n",
    "    QDA = qda.QA_DSampler_AEmbedding(df, bqm, n, num_reads, chain_strength)\n",
    "    \n",
    "    valid_y_info_list, valid_y_num, elapsed_time = QDA.find_valid_y_time_ntimes()\n",
    "    print('number of valid y of {}bit_{} data is {}'.format(bit, num, valid_y_num))\n",
    "    print('calculation time of {}bit_{} data is {}'.format(bit, num, elapsed_time))\n",
    "    valid_y_num_sum += valid_y_num\n",
    "    time_list.append(elapsed_time)\n",
    "    \n",
    "    p_ = qda.p_value(df, valid_y_info_list)\n",
    "    print('p value of {}bit_{} data is {}'.format(bit, num, p_))\n",
    "    print('-------------------------------------')\n",
    "    p_list.append(p_)\n",
    "    \n",
    "    occurance_list = [int(valid_y_info[2]) for valid_y_info in valid_y_info_list]\n",
    "    \n",
    "    if len(occurance_list) == 0:\n",
    "        occurance_list_list.append(0)\n",
    "    else:\n",
    "        occurance_list_list.append(statistics.mean(occurance_list))\n",
    "print('mean number of valid y of {} bit data is {}'.format(bit, valid_y_num_sum/5))\n",
    "print('mean calculate time of {} bit data is {}'.format(bit, statistics.mean(time_list)))\n",
    "print('mean p value of {} bit data is {}'.format(bit, statistics.mean(p_list)))\n",
    "print('mean sample occurrence of {} bit data is {}'.format(bit, statistics.mean(occurance_list_list)))"
   ]
  },
  {
   "cell_type": "code",
   "execution_count": 7,
   "metadata": {},
   "outputs": [
    {
     "data": {
      "text/plain": [
       "[1.1111111111111112, 1, 1, 1, 1]"
      ]
     },
     "execution_count": 7,
     "metadata": {},
     "output_type": "execute_result"
    }
   ],
   "source": [
    "occurance_list_list"
   ]
  },
  {
   "cell_type": "code",
   "execution_count": null,
   "metadata": {},
   "outputs": [],
   "source": []
  },
  {
   "cell_type": "code",
   "execution_count": null,
   "metadata": {},
   "outputs": [],
   "source": []
  }
 ],
 "metadata": {
  "kernelspec": {
   "display_name": "Python 3",
   "language": "python",
   "name": "python3"
  },
  "language_info": {
   "codemirror_mode": {
    "name": "ipython",
    "version": 3
   },
   "file_extension": ".py",
   "mimetype": "text/x-python",
   "name": "python",
   "nbconvert_exporter": "python",
   "pygments_lexer": "ipython3",
   "version": "3.7.9"
  }
 },
 "nbformat": 4,
 "nbformat_minor": 4
}
