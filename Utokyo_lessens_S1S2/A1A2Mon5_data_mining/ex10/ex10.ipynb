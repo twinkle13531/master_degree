{
 "cells": [
  {
   "cell_type": "markdown",
   "metadata": {},
   "source": [
    "# 課題10\n",
    "\n",
    "配点\n",
    "- Q1 10P"
   ]
  },
  {
   "cell_type": "code",
   "execution_count": 1,
   "metadata": {},
   "outputs": [],
   "source": [
    "import pandas as pd\n",
    "import numpy as  np\n",
    "import matplotlib.pyplot  as plt\n",
    "%matplotlib inline\n",
    "import seaborn as sns\n",
    "from sklearn.preprocessing import StandardScaler\n",
    "from sklearn.preprocessing import PolynomialFeatures\n",
    "from sklearn.linear_model import LinearRegression\n",
    "from sklearn.linear_model import Ridge\n",
    "from sklearn.pipeline import make_pipeline\n",
    "from sklearn.model_selection import train_test_split\n",
    "from sklearn.model_selection import cross_val_score\n",
    "from sklearn.model_selection import StratifiedKFold\n",
    "from sklearn.model_selection import GridSearchCV\n",
    "from sklearn.model_selection import learning_curve\n",
    "from sklearn.model_selection import validation_curve\n",
    "from sklearn.metrics import mean_squared_error"
   ]
  },
  {
   "cell_type": "markdown",
   "metadata": {},
   "source": [
    "## Q1\n",
    "データ分析の実践のノートブックで使用したデータセットについて、特徴量の選択、特徴量の変換や組み合わせによる新たな特徴量の作成、などを行い、それらの特徴量を用いたモデルの学習と評価を行ってください。モデルは`LinearRegression`を使ってください。\n",
    "\n",
    "どのような着想の元で特徴量の選択や作成を行ったのかについても報告してください。\n",
    "\n",
    "以下では例として、`alcohol`と`sulphates`の特徴量に加えて、それらの特徴量を掛け合わせた交差項となる特徴量を新たに作成し、これらの特徴量を用いてモデルの学習と交差検証による評価を行っています。"
   ]
  },
  {
   "cell_type": "code",
   "execution_count": 2,
   "metadata": {},
   "outputs": [],
   "source": [
    "wine = pd.read_csv(\"winequality-red.csv\", sep=\";\")"
   ]
  },
  {
   "cell_type": "code",
   "execution_count": 3,
   "metadata": {},
   "outputs": [
    {
     "name": "stdout",
     "output_type": "stream",
     "text": [
      "0.4908615524969576\n"
     ]
    }
   ],
   "source": [
    "X=wine[ ['sulphates', 'alcohol']].values\n",
    "y=wine[['quality']].values\n",
    "\n",
    "# 標準化と線形回帰モデルのパイプライン\n",
    "pipe=make_pipeline(StandardScaler(), LinearRegression())\n",
    "\n",
    "# 交差検証\n",
    "scores = cross_val_score(pipe, X, y, scoring='neg_mean_squared_error', cv=10)\n",
    "print( -scores.mean()) # 平均二乗誤差"
   ]
  },
  {
   "cell_type": "code",
   "execution_count": 4,
   "metadata": {},
   "outputs": [
    {
     "name": "stdout",
     "output_type": "stream",
     "text": [
      "0.4798464310510474\n"
     ]
    }
   ],
   "source": [
    "X=wine[ ['sulphates', 'alcohol']].values\n",
    "y=wine[['quality']].values\n",
    "\n",
    "# 'sulphates'と'alcohol'の交差項となる特徴量\n",
    "new_feature=X[:,0]*X[:,1]\n",
    "\n",
    "#  特徴量の追加\n",
    "X=np.insert(X, 0, new_feature, axis=1)\n",
    "\n",
    "# 標準化と線形回帰モデルのパイプライン\n",
    "pipe=make_pipeline(StandardScaler(), LinearRegression())\n",
    "\n",
    "# 交差検証\n",
    "scores = cross_val_score(pipe, X, y, scoring='neg_mean_squared_error', cv=10)\n",
    "print( -scores.mean()) # 平均二乗誤差"
   ]
  },
  {
   "cell_type": "code",
   "execution_count": 5,
   "metadata": {},
   "outputs": [
    {
     "name": "stdout",
     "output_type": "stream",
     "text": [
      "[0.41587262 0.36478067 0.23329516]\n",
      "[0.4351849  0.46879418 2.65921337]\n"
     ]
    },
    {
     "data": {
      "image/png": "[encoded data removed]",
      "text/plain": [
       "<Figure size 504x360 with 1 Axes>"
      ]
     },
     "metadata": {
      "needs_background": "light"
     },
     "output_type": "display_data"
    }
   ],
   "source": [
    "### このセルにコードを記入してください ###\n",
    "\n",
    "X=wine.drop(\"quality\", axis=1).values\n",
    "y=wine[['quality']].values\n",
    "\n",
    "# 多項式特徴量と標準化と線形回帰モデルのパイプライン\n",
    "pipe=make_pipeline(PolynomialFeatures(), StandardScaler(), LinearRegression())\n",
    "\n",
    "# 次数\n",
    "degree = [1, 2, 3]\n",
    "\n",
    "# validation_curve:\n",
    "#param_name引数...指定されたハイパーパラメータ（ここでは多項式の次数）\n",
    "#param_range引数...指定した値ごとに交差検証（cv引数でfold数を指定）によりモデルの評価を行い、\n",
    "#各交差検証の訓練データと検証データの予測精度（scoring引数で指標を指定）を返します。\n",
    "\n",
    "# バリデーション曲線\n",
    "train_scores, valid_scores = validation_curve(pipe, X, y, \n",
    "                                              param_name='polynomialfeatures__degree',  param_range=degree, \n",
    "                                              scoring=\"neg_mean_squared_error\", cv=10)\n",
    "\n",
    "print(-train_scores.mean(axis=1)) # 訓練データの誤差\n",
    "print(-valid_scores.mean(axis=1)) # 検証データの誤差\n",
    "\n",
    "plt.figure(figsize=(7,5))\n",
    "plt.xlabel('degree')\n",
    "plt.ylabel('MSE')\n",
    "plt.plot(degree, -train_scores.mean(axis=1), color='red', label='training')\n",
    "plt.plot(degree, -valid_scores.mean(axis=1), color='blue', label='validation')\n",
    "plt.legend();\n",
    "\n",
    "\n",
    "\n",
    "#多項式の次数を増やすと訓練データの誤差は減少していきますが\n",
    "#検証データの誤差は3次の多項式で急激に増加し、過学習がおこっていることがわかる\n",
    "# よって、２次項が良さそうだ"
   ]
  },
  {
   "cell_type": "code",
   "execution_count": 7,
   "metadata": {},
   "outputs": [
    {
     "data": {
      "text/plain": [
       "StandardScaler(copy=True, with_mean=True, with_std=True)"
      ]
     },
     "execution_count": 7,
     "metadata": {},
     "output_type": "execute_result"
    }
   ],
   "source": [
    "### このセルにコードを記入してください ###\n",
    "\n",
    "X=wine.drop(\"quality\", axis=1).values\n",
    "y=wine[['quality']].values\n",
    "\n",
    "#標準化\n",
    "sc = StandardScaler()\n",
    "sc.fit(X)"
   ]
  },
  {
   "cell_type": "code",
   "execution_count": 8,
   "metadata": {},
   "outputs": [
    {
     "name": "stdout",
     "output_type": "stream",
     "text": [
      "11\n"
     ]
    }
   ],
   "source": [
    "#特徴量選択-1\n",
    "\n",
    "#特徴量の分散や同じ特徴量が存在するのかを確認\n",
    "from sklearn.feature_selection import VarianceThreshold\n",
    "sel = VarianceThreshold(threshold=0)\n",
    "sel.fit(X)\n",
    "\n",
    "# get_supportで保持するデータのみをTrue値、そうでないものはFalse値を返します\n",
    "print(sum(sel.get_support()))#変化なし"
   ]
  },
  {
   "cell_type": "code",
   "execution_count": 20,
   "metadata": {},
   "outputs": [
    {
     "data": {
      "text/html": [
       "<div>\n",
       "<style scoped>\n",
       "    .dataframe tbody tr th:only-of-type {\n",
       "        vertical-align: middle;\n",
       "    }\n",
       "\n",
       "    .dataframe tbody tr th {\n",
       "        vertical-align: top;\n",
       "    }\n",
       "\n",
       "    .dataframe thead th {\n",
       "        text-align: right;\n",
       "    }\n",
       "</style>\n",
       "<table border=\"1\" class=\"dataframe\">\n",
       "  <thead>\n",
       "    <tr style=\"text-align: right;\">\n",
       "      <th></th>\n",
       "      <th>fixed acidity</th>\n",
       "      <th>volatile acidity</th>\n",
       "      <th>citric acid</th>\n",
       "      <th>residual sugar</th>\n",
       "      <th>chlorides</th>\n",
       "      <th>free sulfur dioxide</th>\n",
       "      <th>total sulfur dioxide</th>\n",
       "      <th>density</th>\n",
       "      <th>pH</th>\n",
       "      <th>sulphates</th>\n",
       "      <th>alcohol</th>\n",
       "      <th>quality</th>\n",
       "    </tr>\n",
       "  </thead>\n",
       "  <tbody>\n",
       "    <tr>\n",
       "      <td>0</td>\n",
       "      <td>7.4</td>\n",
       "      <td>0.70</td>\n",
       "      <td>0.00</td>\n",
       "      <td>1.9</td>\n",
       "      <td>0.076</td>\n",
       "      <td>11.0</td>\n",
       "      <td>34.0</td>\n",
       "      <td>0.9978</td>\n",
       "      <td>3.51</td>\n",
       "      <td>0.56</td>\n",
       "      <td>9.4</td>\n",
       "      <td>5</td>\n",
       "    </tr>\n",
       "    <tr>\n",
       "      <td>1</td>\n",
       "      <td>7.8</td>\n",
       "      <td>0.88</td>\n",
       "      <td>0.00</td>\n",
       "      <td>2.6</td>\n",
       "      <td>0.098</td>\n",
       "      <td>25.0</td>\n",
       "      <td>67.0</td>\n",
       "      <td>0.9968</td>\n",
       "      <td>3.20</td>\n",
       "      <td>0.68</td>\n",
       "      <td>9.8</td>\n",
       "      <td>5</td>\n",
       "    </tr>\n",
       "    <tr>\n",
       "      <td>2</td>\n",
       "      <td>7.8</td>\n",
       "      <td>0.76</td>\n",
       "      <td>0.04</td>\n",
       "      <td>2.3</td>\n",
       "      <td>0.092</td>\n",
       "      <td>15.0</td>\n",
       "      <td>54.0</td>\n",
       "      <td>0.9970</td>\n",
       "      <td>3.26</td>\n",
       "      <td>0.65</td>\n",
       "      <td>9.8</td>\n",
       "      <td>5</td>\n",
       "    </tr>\n",
       "    <tr>\n",
       "      <td>3</td>\n",
       "      <td>11.2</td>\n",
       "      <td>0.28</td>\n",
       "      <td>0.56</td>\n",
       "      <td>1.9</td>\n",
       "      <td>0.075</td>\n",
       "      <td>17.0</td>\n",
       "      <td>60.0</td>\n",
       "      <td>0.9980</td>\n",
       "      <td>3.16</td>\n",
       "      <td>0.58</td>\n",
       "      <td>9.8</td>\n",
       "      <td>6</td>\n",
       "    </tr>\n",
       "    <tr>\n",
       "      <td>4</td>\n",
       "      <td>7.4</td>\n",
       "      <td>0.70</td>\n",
       "      <td>0.00</td>\n",
       "      <td>1.9</td>\n",
       "      <td>0.076</td>\n",
       "      <td>11.0</td>\n",
       "      <td>34.0</td>\n",
       "      <td>0.9978</td>\n",
       "      <td>3.51</td>\n",
       "      <td>0.56</td>\n",
       "      <td>9.4</td>\n",
       "      <td>5</td>\n",
       "    </tr>\n",
       "  </tbody>\n",
       "</table>\n",
       "</div>"
      ],
      "text/plain": [
       "   fixed acidity  volatile acidity  citric acid  residual sugar  chlorides  \\\n",
       "0            7.4              0.70         0.00             1.9      0.076   \n",
       "1            7.8              0.88         0.00             2.6      0.098   \n",
       "2            7.8              0.76         0.04             2.3      0.092   \n",
       "3           11.2              0.28         0.56             1.9      0.075   \n",
       "4            7.4              0.70         0.00             1.9      0.076   \n",
       "\n",
       "   free sulfur dioxide  total sulfur dioxide  density    pH  sulphates  \\\n",
       "0                 11.0                  34.0   0.9978  3.51       0.56   \n",
       "1                 25.0                  67.0   0.9968  3.20       0.68   \n",
       "2                 15.0                  54.0   0.9970  3.26       0.65   \n",
       "3                 17.0                  60.0   0.9980  3.16       0.58   \n",
       "4                 11.0                  34.0   0.9978  3.51       0.56   \n",
       "\n",
       "   alcohol  quality  \n",
       "0      9.4        5  \n",
       "1      9.8        5  \n",
       "2      9.8        5  \n",
       "3      9.8        6  \n",
       "4      9.4        5  "
      ]
     },
     "execution_count": 20,
     "metadata": {},
     "output_type": "execute_result"
    }
   ],
   "source": [
    "wine.head()"
   ]
  },
  {
   "cell_type": "code",
   "execution_count": 13,
   "metadata": {
    "scrolled": true
   },
   "outputs": [
    {
     "name": "stdout",
     "output_type": "stream",
     "text": [
      "[False  True False False False False False False False False  True]\n"
     ]
    },
    {
     "name": "stderr",
     "output_type": "stream",
     "text": [
      "/usr/local/Caskroom/miniconda/base/lib/python3.7/site-packages/sklearn/utils/validation.py:724: DataConversionWarning: A column-vector y was passed when a 1d array was expected. Please change the shape of y to (n_samples, ), for example using ravel().\n",
      "  y = column_or_1d(y, warn=True)\n"
     ]
    }
   ],
   "source": [
    "#特徴量選択-2\n",
    "from sklearn.feature_selection import SelectKBest, f_regression\n",
    "selector = SelectKBest(score_func=f_regression, k=2) #SelectKBest\n",
    "selector.fit(X, y)\n",
    "mask = selector.get_support()    # 各特徴量を選択したか否かのmaskを取得\n",
    "print(mask) #wine.head()よりTrueとなっているのはvolatile acidity, alcohol\n",
    "#上記の２つだけ使って線形回帰をしていく"
   ]
  },
  {
   "cell_type": "code",
   "execution_count": 21,
   "metadata": {},
   "outputs": [
    {
     "name": "stdout",
     "output_type": "stream",
     "text": [
      "0.44915454797733056\n"
     ]
    }
   ],
   "source": [
    "X=wine[ ['volatile acidity', 'alcohol']].values\n",
    "y=wine[['quality']].values\n",
    "\n",
    "# 標準化と線形回帰モデルのパイプライン\n",
    "pipe=make_pipeline(StandardScaler(), LinearRegression())\n",
    "\n",
    "# 交差検証\n",
    "scores = cross_val_score(pipe, X, y, scoring='neg_mean_squared_error', cv=10)\n",
    "print( -scores.mean()) # 平均二乗誤差"
   ]
  },
  {
   "cell_type": "markdown",
   "metadata": {},
   "source": [
    "このマークダウンセルに説明を記入してください（セルをダブルクリックすると編集できます）<br/>\n",
    "\n",
    "* 資料コードにより、2次特徴量を選ぶのが最適だと判断しました。\n",
    "* このwineデータを特徴づけている特徴量を重要度の高い順から2つ選ぼうと思いました。(⇒SelectKBest)"
   ]
  }
 ],
 "metadata": {
  "kernelspec": {
   "display_name": "Python 3",
   "language": "python",
   "name": "python3"
  },
  "language_info": {
   "codemirror_mode": {
    "name": "ipython",
    "version": 3
   },
   "file_extension": ".py",
   "mimetype": "text/x-python",
   "name": "python",
   "nbconvert_exporter": "python",
   "pygments_lexer": "ipython3",
   "version": "3.7.3"
  }
 },
 "nbformat": 4,
 "nbformat_minor": 2
}
