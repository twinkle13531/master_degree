{
 "cells": [
  {
   "cell_type": "markdown",
   "metadata": {},
   "source": [
    "# データマイニング概論\n",
    "# Pythonの基礎 "
   ]
  },
  {
   "cell_type": "markdown",
   "metadata": {},
   "source": [
    "## 式と数学演算子\n",
    "以下のセルで足し算を計算してみましょう。`1+1`は式で、単純なプログラム命令となっていて、Python処理系はこの命令を評価して足し算の結果を返しています。セルの式は`Ctrl+Enter`もしくは`Shift+Enter`で実行することができます。\n",
    "\n",
    "式の中の`1`は値、`+`は数学演算子です。"
   ]
  },
  {
   "cell_type": "code",
   "execution_count": 1,
   "metadata": {},
   "outputs": [
    {
     "data": {
      "text/plain": [
       "2"
      ]
     },
     "execution_count": 1,
     "metadata": {},
     "output_type": "execute_result"
    }
   ],
   "source": [
    "# 1+1を計算\n",
    "1+1"
   ]
  },
  {
   "cell_type": "markdown",
   "metadata": {},
   "source": [
    "数学演算子には他に以下のような演算子があります。これらの演算子を使って式を入力して実行し、その評価結果を確認してみてください。\n",
    "- `**`：累乗\n",
    "-  `*`：掛け算\n",
    "- `/`：割り算\n",
    "- `//`:整数の割り算（小数点以下は切り捨て）\n",
    "- `%`:割り算の余り\n",
    "- `+`:足し算\n",
    "- `-`:引き算"
   ]
  },
  {
   "cell_type": "code",
   "execution_count": 2,
   "metadata": {},
   "outputs": [
    {
     "data": {
      "text/plain": [
       "32"
      ]
     },
     "execution_count": 2,
     "metadata": {},
     "output_type": "execute_result"
    }
   ],
   "source": [
    "# 2の5乗を計算\n",
    "2**5"
   ]
  },
  {
   "cell_type": "markdown",
   "metadata": {},
   "source": [
    "通常の数学と同様に、演算子には以下のように優先順序（評価の順序）があります。括弧`()`を使うことで、明示的に評価の順序を変えることもできます。\n",
    "`** > *, /, //, % > +, -`"
   ]
  },
  {
   "cell_type": "code",
   "execution_count": 3,
   "metadata": {},
   "outputs": [
    {
     "data": {
      "text/plain": [
       "32"
      ]
     },
     "execution_count": 3,
     "metadata": {},
     "output_type": "execute_result"
    }
   ],
   "source": [
    "# (1+1)(2+3)を計算\n",
    "(1+1)**(2+3)"
   ]
  },
  {
   "cell_type": "markdown",
   "metadata": {},
   "source": [
    "以下の式は間違った命令で`Syntax Error`（文法エラー）となります。エラーの対処については後で学びます。"
   ]
  },
  {
   "cell_type": "code",
   "execution_count": 4,
   "metadata": {},
   "outputs": [
    {
     "ename": "SyntaxError",
     "evalue": "invalid syntax (<ipython-input-4-263a6c47e3ef>, line 1)",
     "output_type": "error",
     "traceback": [
      "\u001b[0;36m  File \u001b[0;32m\"<ipython-input-4-263a6c47e3ef>\"\u001b[0;36m, line \u001b[0;32m1\u001b[0m\n\u001b[0;31m    1+*\u001b[0m\n\u001b[0m      ^\u001b[0m\n\u001b[0;31mSyntaxError\u001b[0m\u001b[0;31m:\u001b[0m invalid syntax\n"
     ]
    }
   ],
   "source": [
    "1+*"
   ]
  },
  {
   "cell_type": "markdown",
   "metadata": {},
   "source": [
    "# 練習\n",
    "上記の数学演算子を利用して任意の数式を記述し実行してください"
   ]
  },
  {
   "cell_type": "code",
   "execution_count": 5,
   "metadata": {},
   "outputs": [
    {
     "data": {
      "text/plain": [
       "64"
      ]
     },
     "execution_count": 5,
     "metadata": {},
     "output_type": "execute_result"
    }
   ],
   "source": [
    "(1+1)*2**5"
   ]
  },
  {
   "cell_type": "markdown",
   "metadata": {},
   "source": [
    "***\n",
    "***"
   ]
  },
  {
   "cell_type": "markdown",
   "metadata": {},
   "source": [
    "## 型"
   ]
  },
  {
   "cell_type": "markdown",
   "metadata": {},
   "source": [
    "値（例えば先の式の`1`）のタイプをデータ型と呼びます。すべての値はいずれかのデータ型に属しています。以下にPythonの主なデータ型を示します。\n",
    "- 整数(int): -1, 0, 1\n",
    "- 浮動小数点(float): -1.0, 0.0, 3.14,\n",
    "- 文字列（str）: 'a', '1', 'U Tokyo'\n",
    "\n",
    "浮動小数点型は小数点を含む数値です。文字列型は文字・テキストの値です。文字列は、シングルクオート（`'`）もしくはダブルクオート（`\"`）で囲んで記述します。`''`や`\"\"`のように空の文字列も値となります。\n",
    "\n",
    "演算子の意味は、一緒に使われる値のデータ型によって変化します。整数型や浮動小数点の値に対しては、`+`は値の足し合わせを意味します。一方、文字列の値に対しては、`+`は文字列をつなぐ文字列連結演算子となります。"
   ]
  },
  {
   "cell_type": "code",
   "execution_count": 6,
   "metadata": {},
   "outputs": [
    {
     "data": {
      "text/plain": [
       "'Hello World!'"
      ]
     },
     "execution_count": 6,
     "metadata": {},
     "output_type": "execute_result"
    }
   ],
   "source": [
    "# 文字列の連結\n",
    "'Hello' + ' ' + 'World!'"
   ]
  },
  {
   "cell_type": "markdown",
   "metadata": {},
   "source": [
    "`*`は整数型や浮動小数点の値の掛け算を意味しますが、文字列と整数と併せて用いると文字列の複製演算子となります。以下の式を評価すると、整数で指定した回数だけ文字列を繰り返した文字列になります。"
   ]
  },
  {
   "cell_type": "code",
   "execution_count": 7,
   "metadata": {},
   "outputs": [
    {
     "data": {
      "text/plain": [
       "'HelloHelloHelloHelloHello'"
      ]
     },
     "execution_count": 7,
     "metadata": {},
     "output_type": "execute_result"
    }
   ],
   "source": [
    "# Helloを5回繰り返し出力\n",
    "'Hello'*5"
   ]
  },
  {
   "cell_type": "markdown",
   "metadata": {},
   "source": [
    "以下の式はそれぞれ評価されるでしょうか？"
   ]
  },
  {
   "cell_type": "code",
   "execution_count": 8,
   "metadata": {},
   "outputs": [
    {
     "ename": "TypeError",
     "evalue": "can only concatenate str (not \"int\") to str",
     "output_type": "error",
     "traceback": [
      "\u001b[0;31m---------------------------------------------------------------------------\u001b[0m",
      "\u001b[0;31mTypeError\u001b[0m                                 Traceback (most recent call last)",
      "\u001b[0;32m<ipython-input-8-7a924553bf89>\u001b[0m in \u001b[0;36m<module>\u001b[0;34m\u001b[0m\n\u001b[0;32m----> 1\u001b[0;31m \u001b[0;34m'Hello'\u001b[0m\u001b[0;34m+\u001b[0m\u001b[0;36m1\u001b[0m\u001b[0;34m\u001b[0m\u001b[0;34m\u001b[0m\u001b[0m\n\u001b[0m",
      "\u001b[0;31mTypeError\u001b[0m: can only concatenate str (not \"int\") to str"
     ]
    }
   ],
   "source": [
    "'Hello'+1"
   ]
  },
  {
   "cell_type": "code",
   "execution_count": 9,
   "metadata": {},
   "outputs": [
    {
     "ename": "TypeError",
     "evalue": "can't multiply sequence by non-int of type 'str'",
     "output_type": "error",
     "traceback": [
      "\u001b[0;31m---------------------------------------------------------------------------\u001b[0m",
      "\u001b[0;31mTypeError\u001b[0m                                 Traceback (most recent call last)",
      "\u001b[0;32m<ipython-input-9-09b9a7cb92c5>\u001b[0m in \u001b[0;36m<module>\u001b[0;34m\u001b[0m\n\u001b[0;32m----> 1\u001b[0;31m \u001b[0;34m'Hello'\u001b[0m\u001b[0;34m*\u001b[0m\u001b[0;34m'World!'\u001b[0m\u001b[0;34m\u001b[0m\u001b[0;34m\u001b[0m\u001b[0m\n\u001b[0m",
      "\u001b[0;31mTypeError\u001b[0m: can't multiply sequence by non-int of type 'str'"
     ]
    }
   ],
   "source": [
    "'Hello'*'World!'"
   ]
  },
  {
   "cell_type": "code",
   "execution_count": 10,
   "metadata": {},
   "outputs": [
    {
     "ename": "TypeError",
     "evalue": "can't multiply sequence by non-int of type 'float'",
     "output_type": "error",
     "traceback": [
      "\u001b[0;31m---------------------------------------------------------------------------\u001b[0m",
      "\u001b[0;31mTypeError\u001b[0m                                 Traceback (most recent call last)",
      "\u001b[0;32m<ipython-input-10-14a507aaddfc>\u001b[0m in \u001b[0;36m<module>\u001b[0;34m\u001b[0m\n\u001b[0;32m----> 1\u001b[0;31m \u001b[0;34m'Hello'\u001b[0m\u001b[0;34m*\u001b[0m\u001b[0;36m1.0\u001b[0m\u001b[0;34m\u001b[0m\u001b[0;34m\u001b[0m\u001b[0m\n\u001b[0m",
      "\u001b[0;31mTypeError\u001b[0m: can't multiply sequence by non-int of type 'float'"
     ]
    }
   ],
   "source": [
    "'Hello'*1.0"
   ]
  },
  {
   "cell_type": "markdown",
   "metadata": {},
   "source": [
    "# 練習\n",
    "好きな英単語を10回繰り返して表示してください"
   ]
  },
  {
   "cell_type": "code",
   "execution_count": 11,
   "metadata": {},
   "outputs": [
    {
     "data": {
      "text/plain": [
       "'PeanutsPeanutsPeanutsPeanutsPeanutsPeanutsPeanutsPeanutsPeanutsPeanuts'"
      ]
     },
     "execution_count": 11,
     "metadata": {},
     "output_type": "execute_result"
    }
   ],
   "source": [
    "'Peanuts'*10"
   ]
  },
  {
   "cell_type": "markdown",
   "metadata": {},
   "source": [
    "***\n",
    "***"
   ]
  },
  {
   "cell_type": "markdown",
   "metadata": {},
   "source": [
    "## 変数\n",
    "変数は値や式の評価結果を格納するための\"箱\"の役割を果たします。値や式の評価結果を変数へ保存することで、その結果を再利用することができます。変数に値を保存するには、以下のような代入文を用います。\n",
    "```Pyhon\n",
    "変数名 = 値 or 式\n",
    "```"
   ]
  },
  {
   "cell_type": "code",
   "execution_count": 12,
   "metadata": {},
   "outputs": [
    {
     "data": {
      "text/plain": [
       "2"
      ]
     },
     "execution_count": 12,
     "metadata": {},
     "output_type": "execute_result"
    }
   ],
   "source": [
    "# 変数xを初期化\n",
    "x=1\n",
    "\n",
    "# 変数yを初期化\n",
    "y=1\n",
    "\n",
    "# xとy利用して変数zを初期化\n",
    "z = x+y\n",
    "z"
   ]
  },
  {
   "cell_type": "code",
   "execution_count": 13,
   "metadata": {},
   "outputs": [
    {
     "data": {
      "text/plain": [
       "3"
      ]
     },
     "execution_count": 13,
     "metadata": {},
     "output_type": "execute_result"
    }
   ],
   "source": [
    "# zを上書き\n",
    "z = z+1\n",
    "z"
   ]
  },
  {
   "cell_type": "code",
   "execution_count": 14,
   "metadata": {},
   "outputs": [
    {
     "data": {
      "text/plain": [
       "'Hello World'"
      ]
     },
     "execution_count": 14,
     "metadata": {},
     "output_type": "execute_result"
    }
   ],
   "source": [
    "# 変数word1を初期化\n",
    "word1='Hello'\n",
    "\n",
    "# 変数word2を初期化\n",
    "word2='World'\n",
    "\n",
    "# word1とword2を利用して変数sentenceを初期化\n",
    "sentence = word1 + ' ' + word2\n",
    "sentence"
   ]
  },
  {
   "cell_type": "code",
   "execution_count": 15,
   "metadata": {},
   "outputs": [
    {
     "data": {
      "text/plain": [
       "'Hello World!'"
      ]
     },
     "execution_count": 15,
     "metadata": {},
     "output_type": "execute_result"
    }
   ],
   "source": [
    "#sentenceを上書き\n",
    "sentence = sentence+'!'\n",
    "sentence"
   ]
  },
  {
   "cell_type": "markdown",
   "metadata": {},
   "source": [
    "コーディングではわかりやすい変数名をつけましょう。\n",
    "\n",
    "変数の命名規則\n",
    "- 空白を含まない\n",
    "- 文字と数字と下線記号_から構成される\n",
    "- 数字から始まらない\n",
    "- 特殊文字（$や`など) を含まない"
   ]
  },
  {
   "cell_type": "markdown",
   "metadata": {},
   "source": [
    "# 練習\n",
    "変数$x$と$y$の値を掛け算した結果を変数$z$に代入して、$z$の値を表示してください"
   ]
  },
  {
   "cell_type": "code",
   "execution_count": 17,
   "metadata": {},
   "outputs": [
    {
     "data": {
      "text/plain": [
       "72"
      ]
     },
     "execution_count": 17,
     "metadata": {},
     "output_type": "execute_result"
    }
   ],
   "source": [
    "x = 8\n",
    "y = 9\n",
    "z = x*y\n",
    "z"
   ]
  },
  {
   "cell_type": "markdown",
   "metadata": {},
   "source": [
    "***\n",
    "***"
   ]
  },
  {
   "cell_type": "markdown",
   "metadata": {},
   "source": [
    "## `print`関数\n",
    "`print()`関数を使うことで、以下のように括弧内の文字列を出力させることできます。この時、Pythonは`print()`関数を呼び出し、'Hello World!'という文字列の値を関数に渡しています。関数については後で学びます。なお、シングルクオートは文字列の開始と終了を表す記号で、文字列の値には含まれないので表示されません。"
   ]
  },
  {
   "cell_type": "code",
   "execution_count": 18,
   "metadata": {},
   "outputs": [
    {
     "name": "stdout",
     "output_type": "stream",
     "text": [
      "Hello World\n",
      "Hello World\n"
     ]
    }
   ],
   "source": [
    "print('Hello World')\n",
    "\n",
    "# 変数greetに文字列を代入\n",
    "greet='Hello World'\n",
    "print(greet)"
   ]
  },
  {
   "cell_type": "markdown",
   "metadata": {},
   "source": [
    "整数型や浮動小数点型の値を文字列型の値とともに`print()`関数に渡したいときは、`str()`関数を使って文字列型に変換します。"
   ]
  },
  {
   "cell_type": "code",
   "execution_count": 19,
   "metadata": {},
   "outputs": [
    {
     "name": "stdout",
     "output_type": "stream",
     "text": [
      "int:1 float:3.14\n"
     ]
    }
   ],
   "source": [
    "# 整数型や浮動小数点型の値のprint\n",
    "print('int:'+str(1) + \" float:\"+str(3.14))"
   ]
  },
  {
   "cell_type": "markdown",
   "metadata": {},
   "source": [
    "# 練習\n",
    "２つの好きな文字列をつなげたものを変数に代入して、その変数の値を`print()`関数で表示してください"
   ]
  },
  {
   "cell_type": "code",
   "execution_count": 20,
   "metadata": {},
   "outputs": [
    {
     "name": "stdout",
     "output_type": "stream",
     "text": [
      "mission impossible\n"
     ]
    }
   ],
   "source": [
    "title = 'mission impossible'\n",
    "print(title)"
   ]
  },
  {
   "cell_type": "markdown",
   "metadata": {},
   "source": [
    "***\n",
    "***"
   ]
  },
  {
   "cell_type": "markdown",
   "metadata": {},
   "source": [
    "## ブール型と比較演算子\n",
    "ブール型は`True`または`False`の2種類の値をとります。以下に示す比較演算子は、2つの値を比較して1つのブール型の値を返します。\n",
    "- `==` ： 等しい\n",
    "- `!=` : 等しくない\n",
    "- `>` : より大きい\n",
    "- `<` : より小さい\n",
    "- `>=` : 以上\n",
    "- `<=` : 以下\n",
    "\n",
    "`>,<,>=,<=`の比較演算子は、両辺が同じ型どうしである必要があります。"
   ]
  },
  {
   "cell_type": "code",
   "execution_count": 21,
   "metadata": {},
   "outputs": [
    {
     "data": {
      "text/plain": [
       "True"
      ]
     },
     "execution_count": 21,
     "metadata": {},
     "output_type": "execute_result"
    }
   ],
   "source": [
    "1 == 1"
   ]
  },
  {
   "cell_type": "code",
   "execution_count": 22,
   "metadata": {},
   "outputs": [
    {
     "data": {
      "text/plain": [
       "False"
      ]
     },
     "execution_count": 22,
     "metadata": {},
     "output_type": "execute_result"
    }
   ],
   "source": [
    "1 == 0"
   ]
  },
  {
   "cell_type": "code",
   "execution_count": 23,
   "metadata": {},
   "outputs": [
    {
     "data": {
      "text/plain": [
       "True"
      ]
     },
     "execution_count": 23,
     "metadata": {},
     "output_type": "execute_result"
    }
   ],
   "source": [
    "1 == 1.0"
   ]
  },
  {
   "cell_type": "code",
   "execution_count": 24,
   "metadata": {},
   "outputs": [
    {
     "data": {
      "text/plain": [
       "True"
      ]
     },
     "execution_count": 24,
     "metadata": {},
     "output_type": "execute_result"
    }
   ],
   "source": [
    "'Hello' == 'Hello'"
   ]
  },
  {
   "cell_type": "code",
   "execution_count": 25,
   "metadata": {},
   "outputs": [
    {
     "data": {
      "text/plain": [
       "False"
      ]
     },
     "execution_count": 25,
     "metadata": {},
     "output_type": "execute_result"
    }
   ],
   "source": [
    "'Hello' == 'hello'"
   ]
  },
  {
   "cell_type": "code",
   "execution_count": 26,
   "metadata": {},
   "outputs": [
    {
     "data": {
      "text/plain": [
       "False"
      ]
     },
     "execution_count": 26,
     "metadata": {},
     "output_type": "execute_result"
    }
   ],
   "source": [
    "1 == '1'"
   ]
  },
  {
   "cell_type": "code",
   "execution_count": 27,
   "metadata": {},
   "outputs": [
    {
     "data": {
      "text/plain": [
       "True"
      ]
     },
     "execution_count": 27,
     "metadata": {},
     "output_type": "execute_result"
    }
   ],
   "source": [
    "x = 1\n",
    "x > 0"
   ]
  },
  {
   "cell_type": "code",
   "execution_count": 28,
   "metadata": {},
   "outputs": [
    {
     "data": {
      "text/plain": [
       "False"
      ]
     },
     "execution_count": 28,
     "metadata": {},
     "output_type": "execute_result"
    }
   ],
   "source": [
    "x = -1\n",
    "x > 0"
   ]
  },
  {
   "cell_type": "markdown",
   "metadata": {},
   "source": [
    "## ブール演算子\n",
    "ブール演算子は、ブール型の値を組み合わせる場合に使います。比較演算子のように1つのブール型の値を返します。\n",
    "- `and`\n",
    "- `or`\n",
    "- `not`\n"
   ]
  },
  {
   "cell_type": "markdown",
   "metadata": {},
   "source": [
    "### 二項ブール演算子\n",
    "`and`と`or`演算子は、常に2つのブール値（もしくは式）をとるので、二項演算子と呼ばれます。`and`演算子は、以下のように、2つのブール値が`True`の時のみに`True`となり、それ以外は`False`となります。\n",
    "- `True and True`: `True`\n",
    "- `True and False`: `False`\n",
    "- `False and False`: `False`\n",
    "- `False and False`: `False`\n",
    "\n",
    "一方、`or`演算子は、以下のように、2つのブール値がどちらかが`True`なら`True`となり、両方が`False`なら`False`となります。\n",
    "- `True or True`: `True`\n",
    "- `True or False`: `True`\n",
    "- `False or True`: `True`\n",
    "- `False or False`: `False`"
   ]
  },
  {
   "cell_type": "markdown",
   "metadata": {},
   "source": [
    "### `not`演算子\n",
    "`not`演算子は1つのブール値（もしくは式）をとり、そのブール値を以下のように反転させます。\n",
    "- `not True`: `False`\n",
    "- `not False`: `True`\n"
   ]
  },
  {
   "cell_type": "markdown",
   "metadata": {},
   "source": [
    "## ブール演算子と比較演算子\n",
    "比較演算子はブール値を返すので、以下のようにブール演算子と組み合わせて使うことができます。"
   ]
  },
  {
   "cell_type": "code",
   "execution_count": 29,
   "metadata": {},
   "outputs": [
    {
     "data": {
      "text/plain": [
       "True"
      ]
     },
     "execution_count": 29,
     "metadata": {},
     "output_type": "execute_result"
    }
   ],
   "source": [
    "(0<1) and (1<2)"
   ]
  },
  {
   "cell_type": "code",
   "execution_count": 30,
   "metadata": {},
   "outputs": [
    {
     "data": {
      "text/plain": [
       "False"
      ]
     },
     "execution_count": 30,
     "metadata": {},
     "output_type": "execute_result"
    }
   ],
   "source": [
    "x = 1\n",
    "y = -1\n",
    "(x>0) and (y>0)"
   ]
  },
  {
   "cell_type": "code",
   "execution_count": 31,
   "metadata": {},
   "outputs": [
    {
     "data": {
      "text/plain": [
       "True"
      ]
     },
     "execution_count": 31,
     "metadata": {},
     "output_type": "execute_result"
    }
   ],
   "source": [
    "x=1\n",
    "y=-1\n",
    "(x ==1) or (y==1)"
   ]
  },
  {
   "cell_type": "markdown",
   "metadata": {},
   "source": [
    "複数の演算子がある時は、算術演算子と比較演算子を評価した後に、まず`not`演算子を評価し、次に`and`演算子、最後に`or`演算子を評価します。"
   ]
  },
  {
   "cell_type": "code",
   "execution_count": 32,
   "metadata": {},
   "outputs": [
    {
     "data": {
      "text/plain": [
       "True"
      ]
     },
     "execution_count": 32,
     "metadata": {},
     "output_type": "execute_result"
    }
   ],
   "source": [
    "x = 1\n",
    "y = -1\n",
    "x+y==0 and not x-y< 0 and (x >0 or y > 0)"
   ]
  },
  {
   "cell_type": "markdown",
   "metadata": {},
   "source": [
    "# 練習\n",
    "変数$x$,$y$,$z$について、$x$が$y$より大きく、$y$が$z$より大きいならば`True`となる式をブール演算子と比較演算子を使って記述してください"
   ]
  },
  {
   "cell_type": "code",
   "execution_count": 33,
   "metadata": {},
   "outputs": [
    {
     "data": {
      "text/plain": [
       "True"
      ]
     },
     "execution_count": 33,
     "metadata": {},
     "output_type": "execute_result"
    }
   ],
   "source": [
    "x = 10\n",
    "y = 8\n",
    "z = 5\n",
    "\n",
    "x > y and y > z "
   ]
  },
  {
   "cell_type": "markdown",
   "metadata": {},
   "source": [
    "***\n",
    "***"
   ]
  },
  {
   "cell_type": "markdown",
   "metadata": {},
   "source": [
    "## フロー制御\n",
    "### 条件式\n",
    "ブール演算子を使った式は、条件式ともよばれます。条件式は、これから説明するフロー制御文（`if`文など）で使われます。条件式は、常に1つのブール値に評価され、その値が`True`か`False`によって、フロー制御文は次に何を実行するかを決定します。\n",
    "\n",
    "### コードブロック\n",
    "Pythonのコードは1行以上をひとまとまりとしてブロックとすることができます。ブロックの区間は、コードのインデントで指定します。インデントとは、行の先頭に何個かのスペースを入れることです。Pythonの標準コーディングスタイルでは、4文字のスペースを入れます（ノートブックのセルではtabでインデントが挿入されます）。\n",
    "- ブロックはインデントで始まる\n",
    "- ブロックの中には新しいブロックを含めることができる\n",
    "- インデントがなくなるか、上位のブロックのインデントに戻るとそのブロックは終了する\n",
    "\n",
    "\n",
    "```Python\n",
    "x=1\n",
    "if x >= 0:\n",
    "    if x == 0:　# 第1ブロック開始\n",
    "        print('0')　# 第2ブロック開始\n",
    "    else:　# 第2ブロック終了\n",
    "        print('positive')　#第3ブロック開始\n",
    "```\n",
    "\n",
    "### `if`文\n",
    "`if`文は最もよく用いるフロー制御文の1つです。`if`文に続くブロックは、`if`文の条件式が`True`の時に実行されます。条件式が`False`ならば、そのブロックの実行はスキップされます。フロー制御文はすべてコロン（`:`)で終わり、次にコードのブロックが続きます。\n",
    "\n",
    "### `else`文\n",
    "`if`文には、オプションとして`else`文を続けることができます。`else`文に続くブロックには、先の`if`文の条件式が`False`の時に実行されます。`else`文には条件式は必要ありません。\n",
    "\n",
    "### `elif`文\n",
    "複数のブロックからいずれか1つを実行したい場合は、`if`文に`elif`文を続けて、それ以前の条件式が`False`だった場合に、別の条件式を判定させます。この時、`elif`文に続くブロックには、`elif`文の条件式が`True`の時に実行されます。\n",
    "```Python\n",
    "if 条件式1:\n",
    "    ブロック1\n",
    "elif 条件式2:\n",
    "    ブロック2\n",
    "elif 条件式3:\n",
    "    ブロック3\n",
    "else:\n",
    "    ブロック4\n",
    "```"
   ]
  },
  {
   "cell_type": "code",
   "execution_count": 34,
   "metadata": {},
   "outputs": [
    {
     "name": "stdout",
     "output_type": "stream",
     "text": [
      "before birth\n"
     ]
    }
   ],
   "source": [
    "# 変数ageを初期化\n",
    "age = -1\n",
    "\n",
    "# ageの値で条件分岐\n",
    "if age == 20:\n",
    "    print('come of age')\n",
    "elif age > 65:\n",
    "    print('elder')\n",
    "elif age > 20:\n",
    "    print('adult')\n",
    "elif age >= 0:\n",
    "    print('child')\n",
    "else:\n",
    "    print('before birth')"
   ]
  },
  {
   "cell_type": "markdown",
   "metadata": {},
   "source": [
    "# 練習\n",
    "変数$x$が偶数だったら'even'、奇数だったら'odd'をprintする処理を`if`文を使って記述してください。なお、$x$は整数とします。"
   ]
  },
  {
   "cell_type": "code",
   "execution_count": 39,
   "metadata": {},
   "outputs": [
    {
     "name": "stdout",
     "output_type": "stream",
     "text": [
      "even\n"
     ]
    }
   ],
   "source": [
    "x = 20\n",
    "\n",
    "if x%2==0:\n",
    "    print('even')\n",
    "else:\n",
    "    print('odd')"
   ]
  },
  {
   "cell_type": "markdown",
   "metadata": {},
   "source": [
    "### `while`文\n",
    "`while`文を使うと、`while`文の条件式が`True`である限り、`while`文に続くブロックを何回も繰り返すことができます。`while`文のブロックの終わりでは、プログラムの実行は`while`文の最初に戻り、繰り返し`while`文の条件式を判定します。条件式が`False`になると、ブロックの実行をスキップして繰り返しを抜けます。\n",
    "```Python\n",
    "while 条件式:\n",
    "    ブロック\n",
    "```"
   ]
  },
  {
   "cell_type": "code",
   "execution_count": 40,
   "metadata": {},
   "outputs": [
    {
     "name": "stdout",
     "output_type": "stream",
     "text": [
      "1\n",
      "2\n",
      "3\n",
      "4\n",
      "5\n"
     ]
    }
   ],
   "source": [
    "# 変数countを初期化\n",
    "count=1\n",
    "\n",
    "# countが5以内であればwhile文内の処理を繰り返す\n",
    "while count <=5:\n",
    "    print(count)\n",
    "    count = count+1"
   ]
  },
  {
   "cell_type": "markdown",
   "metadata": {},
   "source": [
    "### `break`文\n",
    "`break`文を使って、`while`文の繰り返しブロックから抜け出すことができます。Jupyter Notebookで無限ループに入りセル操作が受け付けられない時は、メニューのKernelからJupyter NotebookをRestartしてください。"
   ]
  },
  {
   "cell_type": "code",
   "execution_count": 41,
   "metadata": {},
   "outputs": [
    {
     "name": "stdout",
     "output_type": "stream",
     "text": [
      "1\n",
      "2\n",
      "3\n",
      "4\n",
      "5\n"
     ]
    }
   ],
   "source": [
    "# 変数countを初期化\n",
    "count=1\n",
    "while True: \n",
    "    # countが５を超えたらwhile文の処理を抜ける\n",
    "    if count > 5:\n",
    "        break\n",
    "    print(count)\n",
    "    count = count+1"
   ]
  },
  {
   "cell_type": "markdown",
   "metadata": {},
   "source": [
    "### for文\n",
    "`while`文では条件式が`True`のあいだ、ブロックの実行が繰り返されます。一定の回数だけ、ブロックの実行を繰り返したい場合は、`for`文と`range()`関数を用います。\n",
    "```Python\n",
    "for 変数名 in range()関数:\n",
    "    ブロック\n",
    "```\n",
    "\n",
    "`range()`関数では、第1引数で繰り返し変数の開始値を指定し、第2引数では終了値より1大きい数を指定します。`for`に続く変数には、繰り返しごとに`range()`関数が返す値が代入されます。"
   ]
  },
  {
   "cell_type": "code",
   "execution_count": 42,
   "metadata": {},
   "outputs": [
    {
     "name": "stdout",
     "output_type": "stream",
     "text": [
      "1\n",
      "2\n",
      "3\n",
      "4\n",
      "5\n"
     ]
    }
   ],
   "source": [
    "# 変数countに1から5を順に代入してfor文内を繰り返す\n",
    "for count in range(1,6):\n",
    "    print(count)"
   ]
  },
  {
   "cell_type": "markdown",
   "metadata": {},
   "source": [
    "# 練習\n",
    "1. while文を使って、1から5までの整数の平方を順番に出力する処理を記述してください。その際、break文を含めてください。\n",
    "1. for文を使って、1から5までの整数の平方を順番に出力する処理を記述してください。その際、range関数を含めてください。"
   ]
  },
  {
   "cell_type": "code",
   "execution_count": 43,
   "metadata": {
    "scrolled": true
   },
   "outputs": [
    {
     "name": "stdout",
     "output_type": "stream",
     "text": [
      "1\n",
      "4\n",
      "9\n",
      "16\n",
      "25\n"
     ]
    }
   ],
   "source": [
    "cnt = 1\n",
    "while True: \n",
    "    if cnt > 5:\n",
    "        break\n",
    "    print(cnt*cnt)\n",
    "    cnt = cnt+1"
   ]
  },
  {
   "cell_type": "code",
   "execution_count": 45,
   "metadata": {},
   "outputs": [
    {
     "name": "stdout",
     "output_type": "stream",
     "text": [
      "1\n",
      "4\n",
      "9\n",
      "16\n",
      "25\n"
     ]
    }
   ],
   "source": [
    "for i in range(1, 6):\n",
    "    print(i*i)"
   ]
  },
  {
   "cell_type": "markdown",
   "metadata": {},
   "source": [
    "***\n",
    "***"
   ]
  },
  {
   "cell_type": "markdown",
   "metadata": {},
   "source": [
    "## 関数\n",
    "関数はプログラムの処理や手続きの流れをまとめて小さなプログラムのようなものです。関数の主な目的は、頻繁に呼び出されるような処理のコードをまとめることです。\n",
    "\n",
    "\n",
    "`print()`や`range()`はPythonが持つ組み込み関数ですが、自分で関数を定義することもできます。以下は、'Hello'を出力するだけの単純な関数を定義しています。1行目では`def`で`hello()`という名前の関数を定義することを宣言しています。`def`文に続くブロックが関数の本体です。このブロックは関数が呼び出された時に実行されます。関数を定義すると、その関数名を使った関数を呼び出すことができます。"
   ]
  },
  {
   "cell_type": "code",
   "execution_count": 46,
   "metadata": {},
   "outputs": [
    {
     "name": "stdout",
     "output_type": "stream",
     "text": [
      "Hello\n"
     ]
    }
   ],
   "source": [
    "def hello():\n",
    "    # Helloを出力\n",
    "    print('Hello')\n",
    "    \n",
    "hello()"
   ]
  },
  {
   "cell_type": "markdown",
   "metadata": {},
   "source": [
    "### 引数\n",
    "関数を定義する際に、括弧の中に関数へ渡す変数の一覧を記述することができます。これらの変数は関数のローカル変数となります。ローカル変数とはプログラムの一部（ここでは関数内）でのみ利用可能な変数で、関数の外からは参照することはできません。また、関数が呼び出された後はその変数は消滅します。"
   ]
  },
  {
   "cell_type": "code",
   "execution_count": 47,
   "metadata": {},
   "outputs": [
    {
     "name": "stdout",
     "output_type": "stream",
     "text": [
      "Hello\n"
     ]
    }
   ],
   "source": [
    "def hello(greet):\n",
    "    # 引数greetの値を出力\n",
    "    print(greet)\n",
    "    \n",
    "hello(\"Hello\")"
   ]
  },
  {
   "cell_type": "markdown",
   "metadata": {},
   "source": [
    "### 戻り値\n",
    "関数は受け取った引数を元に処理を行い、その結果の戻り値を返すことができます。戻り値は、`return`で定義します。関数の戻り値がない場合は、`None`が返されます。"
   ]
  },
  {
   "cell_type": "code",
   "execution_count": 48,
   "metadata": {},
   "outputs": [
    {
     "name": "stdout",
     "output_type": "stream",
     "text": [
      "Hello\n"
     ]
    }
   ],
   "source": [
    "def hello(greet):\n",
    "    # 引数greetの値を返す\n",
    "    return greet\n",
    "    \n",
    "echo = hello(\"Hello\")\n",
    "print(echo)"
   ]
  },
  {
   "cell_type": "markdown",
   "metadata": {},
   "source": [
    "### 複数の引数\n",
    "関数は任意の数の引数を受け取ることができます。複数の引数を受け取る場合は、引数をカンマで区切ります。これらの引数名は重複しないようにしましょう。"
   ]
  },
  {
   "cell_type": "code",
   "execution_count": 49,
   "metadata": {},
   "outputs": [
    {
     "name": "stdout",
     "output_type": "stream",
     "text": [
      "Hello Bonjour Guten Tag\n"
     ]
    }
   ],
   "source": [
    "def hello(en, fr, de):\n",
    "    print(en, fr, de)\n",
    "    \n",
    "hello(\"Hello\",\"Bonjour\",\"Guten Tag\")"
   ]
  },
  {
   "cell_type": "markdown",
   "metadata": {},
   "source": [
    "### キーワード引数\n",
    "一般的な引数（位置引数とも呼ばれます）では、事前に定義した引数の順番に従って、関数は引数を受け取る必要があります。キーワード引数を使うと、関数は引数の変数名とその値の組みを受け取ることができます。その際、引数は順不同で関数に渡すことができます。"
   ]
  },
  {
   "cell_type": "code",
   "execution_count": 50,
   "metadata": {},
   "outputs": [
    {
     "name": "stdout",
     "output_type": "stream",
     "text": [
      "Hello, Bonjour, Guten Tag\n"
     ]
    }
   ],
   "source": [
    "def hello(en, fr, de):\n",
    "    print(en, fr, de, sep=', ')\n",
    "    \n",
    "hello(\"Hello\", de=\"Guten Tag\", fr=\"Bonjour\")"
   ]
  },
  {
   "cell_type": "markdown",
   "metadata": {},
   "source": [
    "# 練習\n",
    "引数xを受け取り、xが偶数だったら'even'、奇数だったら'odd'を返す関数even_oddを作成し、作成した関数に引数を渡して、関数から返ってきた値を表示してください"
   ]
  },
  {
   "cell_type": "code",
   "execution_count": 51,
   "metadata": {},
   "outputs": [
    {
     "name": "stdout",
     "output_type": "stream",
     "text": [
      "even\n"
     ]
    }
   ],
   "source": [
    "def even_odd(x):\n",
    "    if x%2 == 0:\n",
    "        print('even')\n",
    "    else:\n",
    "        print('odd')\n",
    "        \n",
    "even_odd(30)"
   ]
  },
  {
   "cell_type": "markdown",
   "metadata": {},
   "source": [
    "***\n",
    "***"
   ]
  },
  {
   "cell_type": "markdown",
   "metadata": {},
   "source": [
    "## リスト\n",
    "リストは値を格納するためのデータ構造の1つです。リストまたはタプルは複数の値を格納でき、大量のデータを保持しながら処理するプログラムを書くのに役立ちます。また、リストの中に他のリストを入れ子に含むこともできるので、階層的なデータ構造を表現するのにも使えます。\n",
    "\n",
    "リストは以下のように、複数の値（要素と呼びます）をカンマ区切りにして、四角括弧`[]`で囲って記述します。リストはそれ自体が値なので、他の値のように、変数に代入したり、関数に渡すことができます。なお、関数にリストを渡して操作すると、その操作は元のリストに反映されることに注意してください。\n",
    "\n",
    "`[]`という値は空リストと呼び、要素が1つも入っていないリストを表します。"
   ]
  },
  {
   "cell_type": "code",
   "execution_count": 52,
   "metadata": {},
   "outputs": [
    {
     "data": {
      "text/plain": [
       "[1, 2, 3, 4, 5]"
      ]
     },
     "execution_count": 52,
     "metadata": {},
     "output_type": "execute_result"
    }
   ],
   "source": [
    "num=[1,2,3,4,5]\n",
    "num"
   ]
  },
  {
   "cell_type": "code",
   "execution_count": 53,
   "metadata": {},
   "outputs": [
    {
     "data": {
      "text/plain": [
       "['hello', 'bonjour', 'guten tag']"
      ]
     },
     "execution_count": 53,
     "metadata": {},
     "output_type": "execute_result"
    }
   ],
   "source": [
    "greet=['hello','bonjour','guten tag']\n",
    "greet"
   ]
  },
  {
   "cell_type": "code",
   "execution_count": 54,
   "metadata": {},
   "outputs": [
    {
     "name": "stdout",
     "output_type": "stream",
     "text": [
      "['hello', 'bonjour', 'guten tag']\n"
     ]
    }
   ],
   "source": [
    "def hello(greet_list):\n",
    "    print(greet_list)\n",
    "    \n",
    "hello(greet)"
   ]
  },
  {
   "cell_type": "markdown",
   "metadata": {},
   "source": [
    "### リストとインデックス\n",
    "以下では、`ut_dep`という変数に`['理1','理2','理3','文1','文2','文3']`という文字列の要素からなるリストが入っています。ここで、`ut_dep[0]`を評価して値を見てみましょう。同様に、`ut_dep[1]`を評価するとどうなるでしょう。"
   ]
  },
  {
   "cell_type": "code",
   "execution_count": 55,
   "metadata": {},
   "outputs": [
    {
     "name": "stdout",
     "output_type": "stream",
     "text": [
      "理1\n",
      "理2\n"
     ]
    }
   ],
   "source": [
    "ut_dep=['理1','理2','理3','文1','文2','文3']\n",
    "\n",
    "# リストの先頭要素を出力\n",
    "print(ut_dep[0])\n",
    "\n",
    "# リストの2番目の要素を出力\n",
    "print(ut_dep[1])"
   ]
  },
  {
   "cell_type": "markdown",
   "metadata": {},
   "source": [
    "リストに続く四角括弧内の整数はインデックスと呼ばれ、リストの各要素に対応しています。リストの先頭の要素のインデックスは0、2番目の要素のインデックスは1、3番目は2となります。このようにインデックスを使うことで、リスト内の任意の要素にアクセスできます。"
   ]
  },
  {
   "cell_type": "code",
   "execution_count": 56,
   "metadata": {},
   "outputs": [
    {
     "name": "stdout",
     "output_type": "stream",
     "text": [
      "文科:文1,文2,文3\n"
     ]
    }
   ],
   "source": [
    "print('文科:'+ut_dep[3]+\",\"+ut_dep[4]+\",\"+ut_dep[5])"
   ]
  },
  {
   "cell_type": "markdown",
   "metadata": {},
   "source": [
    "インデックスは0から始まりますが、インデックスとして負の整数も用いることができます。インデックス-1はリストの末尾の要素に対応し、-2は末尾から2番目の要素に対応しています。"
   ]
  },
  {
   "cell_type": "code",
   "execution_count": 57,
   "metadata": {},
   "outputs": [
    {
     "name": "stdout",
     "output_type": "stream",
     "text": [
      "文科:文1,文2,文3\n"
     ]
    }
   ],
   "source": [
    "print('文科:'+ut_dep[-3]+\",\"+ut_dep[-2]+\",\"+ut_dep[-1])"
   ]
  },
  {
   "cell_type": "markdown",
   "metadata": {},
   "source": [
    "リストのは他のリストを入れ子に入れることができます。リストの中のリストの要素にアクセするには以下のように複数のインデックスを使います。第1のインデックスにはどのリストを用いるのかを指定し、第2のインデックスにはそのリストの中の要素に対応するものを指定します。"
   ]
  },
  {
   "cell_type": "code",
   "execution_count": 58,
   "metadata": {},
   "outputs": [
    {
     "name": "stdout",
     "output_type": "stream",
     "text": [
      "3類:理3,文3\n"
     ]
    }
   ],
   "source": [
    "ut_dep2=[['理1','理2','理3'],['文1','文2','文3']]\n",
    "print('3類:'+ut_dep2[0][2]+\",\"+ut_dep2[1][2])"
   ]
  },
  {
   "cell_type": "markdown",
   "metadata": {},
   "source": [
    "リストのインデックスを用いるとリストの要素の値を変更できます。リストの要素を削除する場合は`del`文を使います。削除した要素より後ろの要素は、ひとつずつ前にずれます。"
   ]
  },
  {
   "cell_type": "code",
   "execution_count": 59,
   "metadata": {},
   "outputs": [
    {
     "name": "stdout",
     "output_type": "stream",
     "text": [
      "['Science', 'Human']\n",
      "['Human']\n"
     ]
    }
   ],
   "source": [
    "ut_dep=['理','文']\n",
    "ut_dep[0]='Science'\n",
    "ut_dep[1]='Human'\n",
    "print(ut_dep)\n",
    "\n",
    "del ut_dep[0]\n",
    "print(ut_dep)"
   ]
  },
  {
   "cell_type": "markdown",
   "metadata": {},
   "source": [
    "### リストとスライス\n",
    "インデックスではリストの任意の要素にアクセスできましたが、スライスを用いるとリスト内の複数の要素にアクセスすることができます。スライスでは四角括弧の中に、2つの整数をコロンで区切って記述します。第1番目の整数はスライスの開始インデックスを、第2整数はスライスの終端インデックスを表しますが、そのインデックス自身は含まれずに、それより1つ小さいインデックスまでを含みます。スライスを評価すると新しいリストとなります。"
   ]
  },
  {
   "cell_type": "code",
   "execution_count": 60,
   "metadata": {},
   "outputs": [
    {
     "name": "stdout",
     "output_type": "stream",
     "text": [
      "['理1', '理2', '理3']\n",
      "['文1', '文2', '文3']\n"
     ]
    }
   ],
   "source": [
    "ut_dep=['理1','理2','理3','文1','文2','文3']\n",
    "\n",
    "# リストの先頭から3番目までの要素\n",
    "ut_science = ut_dep[0:3]\n",
    "\n",
    "#リストの4番目から6番目までの要素\n",
    "ut_human = ut_dep[3:6]\n",
    "\n",
    "print(ut_science)\n",
    "print(ut_human)"
   ]
  },
  {
   "cell_type": "markdown",
   "metadata": {},
   "source": [
    "スライスで第1のインデックスを省略するとインデックス0を指定したのと同じになり、リストの先頭からスライスとなります。また、第2のインデックスを省略するとリストの長さを指定したのと同じになり、リストの末尾までのスライスとなります。なお、リストの長さは`len()`関数で取得できます。"
   ]
  },
  {
   "cell_type": "code",
   "execution_count": 61,
   "metadata": {},
   "outputs": [
    {
     "name": "stdout",
     "output_type": "stream",
     "text": [
      "6\n",
      "['理1', '理2', '理3']\n",
      "['文1', '文2', '文3']\n"
     ]
    }
   ],
   "source": [
    "ut_dep=['理1','理2','理3','文1','文2','文3']\n",
    "print(len(ut_dep))\n",
    "\n",
    "# リストの先頭から3番目までの要素\n",
    "ut_science = ut_dep[:3]\n",
    "\n",
    "#リストの4番目から終端までの要素\n",
    "ut_human = ut_dep[3:]\n",
    "\n",
    "print(ut_science)\n",
    "print(ut_human)"
   ]
  },
  {
   "cell_type": "markdown",
   "metadata": {},
   "source": [
    "### リストの連結\n",
    "2つのリストに`+`演算子を適用すると、2つのリストが連結され新たに1つのリストが生成されます。また、`*`演算子をリストと整数に適用すると、リストを整数の数分だけ複製します。"
   ]
  },
  {
   "cell_type": "code",
   "execution_count": 62,
   "metadata": {},
   "outputs": [
    {
     "name": "stdout",
     "output_type": "stream",
     "text": [
      "['理1', '理2', '理3', '文1', '文2', '文3']\n",
      "['理1', '理2', '理3', '文1', '文2', '文3', '理1', '理2', '理3', '文1', '文2', '文3']\n"
     ]
    }
   ],
   "source": [
    "ut_science=['理1','理2','理3']\n",
    "ut_human=['文1','文2','文3']\n",
    "ut_dep = ut_science+ut_human\n",
    "print(ut_dep)\n",
    "print(ut_dep*2)"
   ]
  },
  {
   "cell_type": "markdown",
   "metadata": {},
   "source": [
    "### リストと`for`文\n",
    "さきほど出てきた`for`文の繰り返しは、リストのように複数の要素を持つデータ構造から要素を1つずつ取り出してコードブロックを繰り返しています。そのため、リストと`for`文を組み合わせると、リストの要素を1つずつ取り出しながら処理することができます。"
   ]
  },
  {
   "cell_type": "code",
   "execution_count": 63,
   "metadata": {},
   "outputs": [
    {
     "name": "stdout",
     "output_type": "stream",
     "text": [
      "理1\n",
      "理2\n",
      "理3\n",
      "文1\n",
      "文2\n",
      "文3\n"
     ]
    }
   ],
   "source": [
    "# リストの要素を1つずつ取り出し\n",
    "ut_dep=['理1','理2','理3','文1','文2','文3']\n",
    "for dep in ut_dep:\n",
    "    print(dep)"
   ]
  },
  {
   "cell_type": "markdown",
   "metadata": {},
   "source": [
    "リストのインデックスを用いて、繰り返し処理をしたい場合は、`range()`関数と`len()`関数を用いて以下のように記述します。"
   ]
  },
  {
   "cell_type": "code",
   "execution_count": 64,
   "metadata": {},
   "outputs": [
    {
     "name": "stdout",
     "output_type": "stream",
     "text": [
      "0 理1\n",
      "1 理2\n",
      "2 理3\n",
      "3 文1\n",
      "4 文2\n",
      "5 文3\n"
     ]
    }
   ],
   "source": [
    "ut_dep=['理1','理2','理3','文1','文2','文3']\n",
    "for i in range(len(ut_dep)):\n",
    "    print(i,ut_dep[i])"
   ]
  },
  {
   "cell_type": "markdown",
   "metadata": {},
   "source": [
    "### リストと`in`演算子\n",
    "`in`演算子を使うと、ある要素がリストの中に含まれているかどうかを判定することができます。`in`は式として用い、調べたい要素と対象のリストの間に書きます。この式を評価するとブール値となります。"
   ]
  },
  {
   "cell_type": "code",
   "execution_count": 65,
   "metadata": {},
   "outputs": [
    {
     "data": {
      "text/plain": [
       "True"
      ]
     },
     "execution_count": 65,
     "metadata": {},
     "output_type": "execute_result"
    }
   ],
   "source": [
    "ut_dep=['理1','理2','理3','文1','文2','文3']\n",
    "'理1' in ut_dep"
   ]
  },
  {
   "cell_type": "markdown",
   "metadata": {},
   "source": [
    "### リストとメソッド\n",
    "メソッドは、あるオブジェクト（リストはオブジェクトの1つです）について呼び出し可能な専用の関数です。リストのようなデータ型には1連のメソッドが備わっていて、例えばリスト型には、検索（`index()`）、追加（`append()`, `insert()`）、削除（`remove()`）、並び替え（`sort()`)、取り出し（`pop()`）などのリストの要素を操作するための便利なメソッドが準備されています。"
   ]
  },
  {
   "cell_type": "markdown",
   "metadata": {},
   "source": [
    "#### index()メソッド\n",
    "`index()`メソッドは、以下のように値を渡すと、リストの要素からその値のインデックスを返します。リストの中に値がなければ、`ValueError`を返します。リストの中に値が複数存在している場合は、最初に出現した方のインデックスを返します。"
   ]
  },
  {
   "cell_type": "code",
   "execution_count": 66,
   "metadata": {},
   "outputs": [
    {
     "data": {
      "text/plain": [
       "1"
      ]
     },
     "execution_count": 66,
     "metadata": {},
     "output_type": "execute_result"
    }
   ],
   "source": [
    "ut_dep=['理1','理2','理3','文1','文2','文3']\n",
    "ut_dep.index('理2')"
   ]
  },
  {
   "cell_type": "markdown",
   "metadata": {},
   "source": [
    "#### apped()メソッドとinsert()メソッド\n",
    "`append()`メソッドや`insert()`メソッドを使うと、以下のようにリストに新しい要素を追加することができます。`append()`メソッドは、引数に渡された値をリストの末尾に要素として追加します。`index()`メソッドでは、第1引数で値を挿入するインデックスを指定することで、リストの任意の場所に要素を追加することができます。\n",
    "\n",
    "`append()`メソッドや`insert()`メソッドは元のリストを書き換える操作をしていて、戻り値で新しいリストが返るわけではないことに注意してください。"
   ]
  },
  {
   "cell_type": "code",
   "execution_count": 67,
   "metadata": {},
   "outputs": [
    {
     "name": "stdout",
     "output_type": "stream",
     "text": [
      "['理2', '理3', '文1', '文2', '文3']\n",
      "['理1', '理2', '理3', '文1', '文2', '文3']\n"
     ]
    }
   ],
   "source": [
    "ut_dep=['理2','理3','文1','文2']\n",
    "\n",
    "# リストの末尾に要素を追加\n",
    "ut_dep.append('文3')\n",
    "print(ut_dep)\n",
    "\n",
    "# リストの先頭に要素を追加\n",
    "ut_dep.insert(0,'理1')\n",
    "print(ut_dep)"
   ]
  },
  {
   "cell_type": "markdown",
   "metadata": {},
   "source": [
    "#### remove()メソッド\n",
    "`remove()`メソッドは、渡された値をリストから削除します。リストに含まれない値を削除しようとすると、`ValueError`を返します。リストの中に値が複数含まれる場合は、最初のあたいだけが削除されます。\n",
    "\n",
    "`del`文はリストから削除したい値のインデックスがわかっている時に使い、`remove()`メソッドはリストから削除したい値がわかっている時に使います。"
   ]
  },
  {
   "cell_type": "code",
   "execution_count": 68,
   "metadata": {},
   "outputs": [
    {
     "name": "stdout",
     "output_type": "stream",
     "text": [
      "['理1', '理2', '理3', '文2', '文3']\n"
     ]
    }
   ],
   "source": [
    "ut_dep=['理1','理2','理3','文1','文2','文3']\n",
    "ut_dep.remove('文1')\n",
    "print(ut_dep)"
   ]
  },
  {
   "cell_type": "markdown",
   "metadata": {},
   "source": [
    "#### pop()メソッド\n",
    "`pop()`メソッドは、渡された値のインデックスの要素をリストから削除し、削除した値を返します。`pop()`メソッドは、リストから任意の要素を取り出したい時にも使えます。"
   ]
  },
  {
   "cell_type": "code",
   "execution_count": 69,
   "metadata": {},
   "outputs": [
    {
     "name": "stdout",
     "output_type": "stream",
     "text": [
      "文1\n",
      "['理1', '理2', '理3', '文2', '文3']\n"
     ]
    }
   ],
   "source": [
    "ut_dep=['理1','理2','理3','文1','文2','文3']\n",
    "print(ut_dep.pop(3))\n",
    "print(ut_dep)"
   ]
  },
  {
   "cell_type": "markdown",
   "metadata": {},
   "source": [
    "#### sort()メソッド\n",
    "`sort()`メソッドを使うと、リストの要素（数や文字列）を並べ換えることができます。\n",
    "\n",
    "`append()`メソッドや`insert()`メソッドと同じく`sort()`メソッドは元のリストを書き換える操作をしていて、戻り値で新しいリストが返るわけではないことに注意してください。"
   ]
  },
  {
   "cell_type": "code",
   "execution_count": 70,
   "metadata": {},
   "outputs": [
    {
     "data": {
      "text/plain": [
       "[1, 2, 3, 4, 5]"
      ]
     },
     "execution_count": 70,
     "metadata": {},
     "output_type": "execute_result"
    }
   ],
   "source": [
    "num = [4,3,5,1,2]\n",
    "num.sort()\n",
    "num"
   ]
  },
  {
   "cell_type": "code",
   "execution_count": 71,
   "metadata": {},
   "outputs": [
    {
     "data": {
      "text/plain": [
       "['apple', 'banana', 'carrot', 'desert']"
      ]
     },
     "execution_count": 71,
     "metadata": {},
     "output_type": "execute_result"
    }
   ],
   "source": [
    "word = ['desert','banana','carrot','apple']\n",
    "word.sort()\n",
    "word"
   ]
  },
  {
   "cell_type": "markdown",
   "metadata": {},
   "source": [
    "文字列の並び替えは、ASCIIコード順で行われます。アルファベット順で行いたい場合は、キーワード引数keyにstr.lowerを指定します。"
   ]
  },
  {
   "cell_type": "code",
   "execution_count": 72,
   "metadata": {},
   "outputs": [
    {
     "name": "stdout",
     "output_type": "stream",
     "text": [
      "['Banana', 'Desert', 'apple', 'carrot']\n",
      "['apple', 'Banana', 'carrot', 'Desert']\n"
     ]
    }
   ],
   "source": [
    "word = ['Desert','Banana','carrot','apple']\n",
    "word.sort()\n",
    "print(word)\n",
    "word.sort(key=str.lower)\n",
    "print(word)"
   ]
  },
  {
   "cell_type": "markdown",
   "metadata": {},
   "source": [
    "# 練習\n",
    "以下のリストデータdepについて\n",
    "1. 先頭と末尾の要素をインデックスを使って表示してください\n",
    "2. 先頭と末尾以外の要素をスライスを使って表示してください\n",
    "3. リストの長さを表示してください\n",
    "4. for文を使ってリストの要素を1つずつ取り出して表示してください\n",
    "```Python\n",
    "dep = ['理', '工', '農', '薬', '医', '法', '経', '教', '養', '文']\n",
    "```"
   ]
  },
  {
   "cell_type": "code",
   "execution_count": 73,
   "metadata": {},
   "outputs": [
    {
     "data": {
      "text/plain": [
       "'理'"
      ]
     },
     "execution_count": 73,
     "metadata": {},
     "output_type": "execute_result"
    }
   ],
   "source": [
    "dep = ['理', '工', '農', '薬', '医', '法', '経', '教', '養', '文']\n",
    "dep[0]"
   ]
  },
  {
   "cell_type": "code",
   "execution_count": 76,
   "metadata": {},
   "outputs": [
    {
     "data": {
      "text/plain": [
       "'文'"
      ]
     },
     "execution_count": 76,
     "metadata": {},
     "output_type": "execute_result"
    }
   ],
   "source": [
    "dep[-1]"
   ]
  },
  {
   "cell_type": "code",
   "execution_count": 77,
   "metadata": {
    "scrolled": true
   },
   "outputs": [
    {
     "data": {
      "text/plain": [
       "['工', '農', '薬', '医', '法', '経', '教', '養']"
      ]
     },
     "execution_count": 77,
     "metadata": {},
     "output_type": "execute_result"
    }
   ],
   "source": [
    "dep[1:-1]"
   ]
  },
  {
   "cell_type": "code",
   "execution_count": 79,
   "metadata": {},
   "outputs": [
    {
     "data": {
      "text/plain": [
       "10"
      ]
     },
     "execution_count": 79,
     "metadata": {},
     "output_type": "execute_result"
    }
   ],
   "source": [
    "len(dep)"
   ]
  },
  {
   "cell_type": "code",
   "execution_count": 78,
   "metadata": {},
   "outputs": [
    {
     "name": "stdout",
     "output_type": "stream",
     "text": [
      "理\n",
      "工\n",
      "農\n",
      "薬\n",
      "医\n",
      "法\n",
      "経\n",
      "教\n",
      "養\n",
      "文\n"
     ]
    }
   ],
   "source": [
    "for i in dep:\n",
    "    print(i)"
   ]
  },
  {
   "cell_type": "markdown",
   "metadata": {},
   "source": [
    "***\n",
    "***"
   ]
  },
  {
   "cell_type": "markdown",
   "metadata": {},
   "source": [
    "## 辞書\n",
    "辞書は、リスト同様に複数の要素の集合を格納するためのデータ構造の1つです。リストのインデックスが整数型だったのに対して、辞書のインデックスにはさまざまなデータ型（整数、浮動小数点数、文字列など）を用いることができます。辞書のインデックスをキーと呼び、キーには対応する値が存在します。リストと同様に辞書のキーとして整数値を使うこともできます。その場合は、任意の整数値をとることができます。\n",
    "\n",
    "辞書は以下のように、複数の要素（キーと値の組み）をカンマ区切りにして、波括弧`{}`で囲って記述します。ここでは、'semester', 'title', 'year', 'unit'というキーが、それぞれ'S', 'data mining', '2018', 2という値と対応している辞書を変数`course`に代入しています。"
   ]
  },
  {
   "cell_type": "code",
   "execution_count": 80,
   "metadata": {},
   "outputs": [],
   "source": [
    "course = {'semster':'S', 'title':'data mining', 'year':'2018',  'unit':2}"
   ]
  },
  {
   "cell_type": "markdown",
   "metadata": {},
   "source": [
    "辞書のキーを使うことで、以下のようにキーに対応する値にアクセスすることができます。"
   ]
  },
  {
   "cell_type": "code",
   "execution_count": 81,
   "metadata": {},
   "outputs": [
    {
     "name": "stdout",
     "output_type": "stream",
     "text": [
      "data mining, 2018S\n"
     ]
    }
   ],
   "source": [
    "print(course['title'] + ', ' + course['year']+course['semster'])"
   ]
  },
  {
   "cell_type": "code",
   "execution_count": 82,
   "metadata": {},
   "outputs": [
    {
     "data": {
      "text/plain": [
       "{'semster': 'A', 'title': 'data mining', 'year': 2017}"
      ]
     },
     "execution_count": 82,
     "metadata": {},
     "output_type": "execute_result"
    }
   ],
   "source": [
    "# キーと値を更新\n",
    "course['year']=2017\n",
    "course['semster']='A'\n",
    "del course['unit']\n",
    "course"
   ]
  },
  {
   "cell_type": "markdown",
   "metadata": {},
   "source": [
    "### 辞書とkeys, values, itemsメソッド\n",
    "リストと異なり、辞書の要素には順序がありません。リストの先頭はインデックスが0で、末尾はインデックスが-1でしたが、辞書は先頭あるいは末尾の要素という概念がありません。また、2つの辞書の中身が同じか判定する際も、辞書では要素の順番は影響しません。このように辞書には要素の順序関係がないので、インデックスやスライスで部分を抜き出すことはできないことに注意してください。\n",
    "\n",
    "辞書にはインデックスやスライスで要素にアクセスできませんが、キー、キーに対応する値、キーと値の組み、それぞれにアクセスするためのメソッドがあります。\n",
    "- `keys()`：辞書のすべてのキーをリストで取得\n",
    "- `values()`：辞書のすべての値をリストで取得\n",
    "- `items()`：辞書のすべてキーと値の組みをリストで取得\n",
    "\n",
    "これらのメソッドは以下のようにfor文と一緒に使うことができます。"
   ]
  },
  {
   "cell_type": "code",
   "execution_count": 83,
   "metadata": {},
   "outputs": [
    {
     "name": "stdout",
     "output_type": "stream",
     "text": [
      "semster\n",
      "title\n",
      "year\n",
      "unit\n",
      "S\n",
      "data mining\n",
      "2018\n",
      "2\n",
      "('semster', 'S')\n",
      "('title', 'data mining')\n",
      "('year', '2018')\n",
      "('unit', 2)\n",
      "semster S\n",
      "title data mining\n",
      "year 2018\n",
      "unit 2\n"
     ]
    }
   ],
   "source": [
    "course = {'semster':'S', 'title':'data mining', 'year':'2018',  'unit':2}\n",
    "for k in course.keys():\n",
    "    print(k)\n",
    "\n",
    "for v in course.values():\n",
    "    print(v)\n",
    "    \n",
    "for i in course.items():\n",
    "    print(i)\n",
    "    \n",
    "for k, v in course.items():\n",
    "    print(k, v)"
   ]
  },
  {
   "cell_type": "markdown",
   "metadata": {},
   "source": [
    "### 辞書と`in`演算子\n",
    "リストにある要素が含まれるかどうか判定するのに、`in`演算子を使ったように、辞書にあるキーや値が存在するかを判定するのにも、`in`演算子を使うことができます。"
   ]
  },
  {
   "cell_type": "code",
   "execution_count": 84,
   "metadata": {},
   "outputs": [
    {
     "name": "stdout",
     "output_type": "stream",
     "text": [
      "True\n",
      "False\n"
     ]
    }
   ],
   "source": [
    "course = {'semster':'S', 'title':'data mining', 'year':'2018',  'unit':2}\n",
    "\n",
    "# キーに'year'があるか?\n",
    "print('year' in course.keys())\n",
    "\n",
    "# 値に'2017'があるか?\n",
    "print('2017' in course.values())"
   ]
  },
  {
   "cell_type": "markdown",
   "metadata": {},
   "source": [
    "### 辞書のメソッド\n",
    "リスト型でみたメソッドのように、辞書型にも辞書を操作するための便利なメソッドが準備されています。さきほどの`keys`, `values`, `items`メソッドはそのようなメソッドです。\n"
   ]
  },
  {
   "cell_type": "markdown",
   "metadata": {},
   "source": [
    "#### get()メソッド\n",
    "`get()`メソッドを使うと、辞書にキーの存在の確認ができます。第1引数には存在を確認したいキー、第2引数にはそのキーが存在しない時に用いる値を渡します。"
   ]
  },
  {
   "cell_type": "code",
   "execution_count": 85,
   "metadata": {},
   "outputs": [
    {
     "name": "stdout",
     "output_type": "stream",
     "text": [
      "2018\n",
      "1\n"
     ]
    }
   ],
   "source": [
    "course = {'semster':'S', 'title':'data mining', 'year':'2018'}\n",
    "print(course.get('year',2017))\n",
    "print(course.get('unit',1))"
   ]
  },
  {
   "cell_type": "markdown",
   "metadata": {},
   "source": [
    "#### pop()メソッド\n",
    "リストと同じく、`pop()`メソッドを使って、渡されたキーに対応する要素を辞書から削除し、削除した要素の値を返します。`pop()`メソッドは、辞書から任意の要素を取り出したい時にも使えます。"
   ]
  },
  {
   "cell_type": "code",
   "execution_count": 86,
   "metadata": {},
   "outputs": [
    {
     "name": "stdout",
     "output_type": "stream",
     "text": [
      "2\n",
      "{'semster': 'S', 'title': 'data mining', 'year': '2018'}\n"
     ]
    }
   ],
   "source": [
    "course = {'semster':'S', 'title':'data mining', 'year':'2018',  'unit':2}\n",
    "print(course.pop('unit'))\n",
    "print(course)"
   ]
  },
  {
   "cell_type": "markdown",
   "metadata": {},
   "source": [
    "# 練習\n",
    "以下の辞書データcourseについて\n",
    "1. キー'title'に対応する値を表示させてください\n",
    "1. for文を使って、辞書のすべてのキーと値の組みを表示してください\n",
    "1. if文を使って、辞書のキー'year'に対応する値が'2017'であれば`True`、そうでなければ`False`を表示する処理を記述してください\n",
    "\n",
    "\n",
    "```Python\n",
    "course = {'semster':'A', 'title':'python programming', 'year':'2018',  'unit':1}\n",
    "```"
   ]
  },
  {
   "cell_type": "code",
   "execution_count": 87,
   "metadata": {},
   "outputs": [],
   "source": [
    "course = {'semster':'A', 'title':'python programming', 'year':'2018',  'unit':1}"
   ]
  },
  {
   "cell_type": "code",
   "execution_count": 88,
   "metadata": {
    "scrolled": true
   },
   "outputs": [
    {
     "data": {
      "text/plain": [
       "'python programming'"
      ]
     },
     "execution_count": 88,
     "metadata": {},
     "output_type": "execute_result"
    }
   ],
   "source": [
    "course['title']"
   ]
  },
  {
   "cell_type": "code",
   "execution_count": 90,
   "metadata": {},
   "outputs": [
    {
     "name": "stdout",
     "output_type": "stream",
     "text": [
      "('semster', 'A')\n",
      "('title', 'python programming')\n",
      "('year', '2018')\n",
      "('unit', 1)\n"
     ]
    }
   ],
   "source": [
    "for i in course.items():\n",
    "    print(i)"
   ]
  },
  {
   "cell_type": "code",
   "execution_count": 91,
   "metadata": {},
   "outputs": [
    {
     "name": "stdout",
     "output_type": "stream",
     "text": [
      "False\n"
     ]
    }
   ],
   "source": [
    "if course['year']=='2017':\n",
    "    print('True')\n",
    "else:\n",
    "    print('False')"
   ]
  },
  {
   "cell_type": "markdown",
   "metadata": {},
   "source": [
    "***\n",
    "***"
   ]
  },
  {
   "cell_type": "markdown",
   "metadata": {},
   "source": [
    "## 文字列\n",
    "### リストと文字列\n",
    "文字列は1文字の要素が並んだリスト（正確にはタプル）とみなすことができます。そのため、インデックスによる要素の指定、スライスによる部分の取り出し、`for`文での要素の繰り返し処理、`len()`関数による長さの取得、`in`演算子による要素の検索など、リストに対して可能なことの多くは文字列に対しても可能です。\n",
    "\n",
    "リストは変更可能なデータ型ですが、文字列はそれ自体が変更不可能です。文字列のように要素を変更したり追加したり削除したりできなくしたリストをタプルと呼びます。\n",
    "\n",
    "リスト型や辞書型と同様に、文字列型にも文字列を操作するための便利なメソッドが準備されています。"
   ]
  },
  {
   "cell_type": "code",
   "execution_count": 92,
   "metadata": {},
   "outputs": [
    {
     "name": "stdout",
     "output_type": "stream",
     "text": [
      "d\n",
      "g\n",
      "data\n",
      "mining\n",
      "d\n",
      "a\n",
      "t\n",
      "a\n",
      "m\n",
      "i\n",
      "n\n",
      "i\n",
      "n\n",
      "g\n",
      "0 d\n",
      "1 a\n",
      "2 t\n",
      "3 a\n",
      "4 m\n",
      "5 i\n",
      "6 n\n",
      "7 i\n",
      "8 n\n",
      "9 g\n",
      "True\n"
     ]
    }
   ],
   "source": [
    "course = 'datamining'\n",
    "\n",
    "print(course[0])\n",
    "print(course[-1])\n",
    "print(course[:4])\n",
    "print(course[4:])\n",
    "\n",
    "for i in course:\n",
    "    print(i)\n",
    "\n",
    "for i in range(len(course)):\n",
    "    print(i,course[i])\n",
    "    \n",
    "print('data' in course)"
   ]
  },
  {
   "cell_type": "markdown",
   "metadata": {},
   "source": [
    "#### upper(), lower()メソッド\n",
    "`upper()`, `lower()`メソッドは、元の文字列のすべての文字を、それぞれ大文字または小文字に変換した文字列を返します。なお、以下のように　`ut.upper()`や`ut.lower()`だけでは、元の文字列`ut`は変更されません。`ut = ut.lower()`として変数に代入することで、`ut`を変更します。"
   ]
  },
  {
   "cell_type": "code",
   "execution_count": 93,
   "metadata": {},
   "outputs": [
    {
     "name": "stdout",
     "output_type": "stream",
     "text": [
      "THE UNIVERSITY OF TOKYO\n",
      "The University of Tokyo\n",
      "the university of tokyo\n"
     ]
    }
   ],
   "source": [
    "ut = 'The University of Tokyo'\n",
    "print(ut.upper())\n",
    "print(ut)\n",
    "ut = ut.lower()\n",
    "print(ut)"
   ]
  },
  {
   "cell_type": "markdown",
   "metadata": {},
   "source": [
    "#### join(), split()メソッド\n",
    "`join()`メソッドは、文字列のリストを渡すと、リスト中の文字列を元の文字列で連結したものを返します。以下では、リスト中の文字列を' : 'で連結しています。"
   ]
  },
  {
   "cell_type": "code",
   "execution_count": 94,
   "metadata": {},
   "outputs": [
    {
     "data": {
      "text/plain": [
       "'理1 : 理2 : 理3 : 文1 : 文2 : 文3'"
      ]
     },
     "execution_count": 94,
     "metadata": {},
     "output_type": "execute_result"
    }
   ],
   "source": [
    "' : '.join(['理1','理2','理3','文1','文2','文3'])"
   ]
  },
  {
   "cell_type": "markdown",
   "metadata": {},
   "source": [
    "`split()`メソッドは、文字列を渡すと、その文字列で、元の文字列を分割してリストとして返します。以下では、文字列を' : 'で分割してリストにしています。"
   ]
  },
  {
   "cell_type": "code",
   "execution_count": 95,
   "metadata": {},
   "outputs": [
    {
     "data": {
      "text/plain": [
       "['理1', '理2', '理3', '文1', '文2', '文3']"
      ]
     },
     "execution_count": 95,
     "metadata": {},
     "output_type": "execute_result"
    }
   ],
   "source": [
    "'理1 : 理2 : 理3 : 文1 : 文2 : 文3'.split(' : ')"
   ]
  },
  {
   "cell_type": "markdown",
   "metadata": {},
   "source": [
    "#### count()メソッド\n",
    "`count()`メソッドは、文字列を検索して、引数で指定した文字列が含まれている個数を返します。"
   ]
  },
  {
   "cell_type": "code",
   "execution_count": 96,
   "metadata": {},
   "outputs": [
    {
     "data": {
      "text/plain": [
       "3"
      ]
     },
     "execution_count": 96,
     "metadata": {},
     "output_type": "execute_result"
    }
   ],
   "source": [
    "'the university of tokyo'.count('t')"
   ]
  },
  {
   "cell_type": "markdown",
   "metadata": {},
   "source": [
    "#### replaceメソッド\n",
    "`replace()`メソッドは、引数で指定した文字列で、元の文字列の指定部分を置き換えた新しい文字列を返します。元の文字列を直接置き換えないことに注意してください。"
   ]
  },
  {
   "cell_type": "code",
   "execution_count": 97,
   "metadata": {},
   "outputs": [
    {
     "name": "stdout",
     "output_type": "stream",
     "text": [
      "I love Paris\n",
      "I love Tokyo\n"
     ]
    }
   ],
   "source": [
    "s = 'I love Tokyo'\n",
    "print(s.replace('Tokyo', 'Paris'))\n",
    "print(s)"
   ]
  },
  {
   "cell_type": "markdown",
   "metadata": {},
   "source": [
    "# 練習\n",
    "以下の文に含まれる単語を、１つずつ出力してください。その際、単語はすべて大文字にして、その単語の長さとともに出力してください。\n",
    "\n",
    "'Data mining is the process of discovering patterns in large data sets involving methods at the intersection of machine learning, statistics, and database systems'"
   ]
  },
  {
   "cell_type": "code",
   "execution_count": 104,
   "metadata": {
    "scrolled": true
   },
   "outputs": [
    {
     "name": "stdout",
     "output_type": "stream",
     "text": [
      "DATA:4\n",
      "MINING:6\n",
      "IS:2\n",
      "THE:3\n",
      "PROCESS:7\n",
      "OF:2\n",
      "DISCOVERING:11\n",
      "PATTERNS:8\n",
      "IN:2\n",
      "LARGE:5\n",
      "DATA:4\n",
      "SETS:4\n",
      "INVOLVING:9\n",
      "METHODS:7\n",
      "AT:2\n",
      "THE:3\n",
      "INTERSECTION:12\n",
      "OF:2\n",
      "MACHINE:7\n",
      "LEARNING,:9\n",
      "STATISTICS,:11\n",
      "AND:3\n",
      "DATABASE:8\n",
      "SYSTEMS:7\n"
     ]
    }
   ],
   "source": [
    "data_mining = 'Data mining is the process of discovering patterns in large data sets involving methods at the intersection of machine learning, statistics, and database systems'\n",
    "DATA_MINING = data_mining.upper().split(' ')\n",
    "for i in DATA_MINING:\n",
    "    print(i+':'+str(len(i)))"
   ]
  },
  {
   "cell_type": "markdown",
   "metadata": {},
   "source": [
    "***\n",
    "***"
   ]
  },
  {
   "cell_type": "markdown",
   "metadata": {},
   "source": [
    "## ファイルの入出力\n",
    "Pythonでファイルを読み書きするには以下のステップがあります。なお、ここではテキストが含まれるプレーンテキストファイルの読み書きを扱うこととします。\n",
    "1. `open()`関数を呼び出し、`File`オブジェクトを取得する\n",
    "1. `File`オブジェクトの`read()`や`write()`メソッドを呼び出して読み書きする\n",
    "1. `File`オブジェクトの`close()`オブジェクトを呼び出してファイルを閉じる"
   ]
  },
  {
   "cell_type": "markdown",
   "metadata": {},
   "source": [
    "### `open()`関数\n",
    "`open()`関数を使ってファイルを開くには、開きたいファイルへのパスを文字列として渡します。パスは絶対パスでも相対パスでも構いません。パスは例えば、以下のように指定します。\n",
    "\n",
    "```Python\n",
    "# 同じフォルダ（ディレクトリ）ファイルがある場合\n",
    "data_file = open('data.txt')\n",
    "\n",
    "# 同じフォルダの下位フォルダ、フォルダ名：data、にファイルがある場合\n",
    "data_file = open('data/data.txt')\n",
    "\n",
    "# 上位のフォルダ、フォルダ名：data、にファイルがある場合\n",
    "data_file = open('../data/data.txt')\n",
    "```\n",
    "\n",
    "`open()`関数を呼び出すと、ファイルを読み込みモードで開くことになります。この時、ファイルからは読み込みだけが可能になり、書き込んだり変更したりすることはできません。\n",
    "\n",
    "`open()`関数の戻り値は`File`オブジェクトです。`File`オブジェクトはデータ型の一つで、ファイルを操作するためのメソッドが用意されています。"
   ]
  },
  {
   "cell_type": "markdown",
   "metadata": {},
   "source": [
    "### read()メソッド, readlines()メソッド\n",
    "`File`オブジェクトの`read()`メソッドを使うと、ファイル全体をひとつの文字列として読み込むことができます。`read`メソッドは、ファイルの内容をひとつの文字列として返します。"
   ]
  },
  {
   "cell_type": "code",
   "execution_count": 106,
   "metadata": {},
   "outputs": [
    {
     "name": "stdout",
     "output_type": "stream",
     "text": [
      "Data mining is the process of discovering patterns in large data sets involving methods at the intersection of machine learning, statistics, and database systems.\n",
      "It is an essential process where intelligent methods are applied to extract data patterns.\n",
      "It is an interdisciplinary subfield of computer science.\n",
      "The overall goal of the data mining process is to extract information from a data set and transform it into an understandable structure for further use.\n",
      "Aside from the raw analysis step, it involves database and data management aspects, data pre-processing, model and inference considerations, interestingness metrics, complexity considerations, post-processing of discovered structures, visualization, and online updating.\n",
      "Data mining is the analysis step of the knowledge discovery in databases process, or KDD.\n",
      "\n"
     ]
    }
   ],
   "source": [
    "infile = open('data_mining.txt')\n",
    "content = infile.read()\n",
    "print(content)"
   ]
  },
  {
   "cell_type": "markdown",
   "metadata": {},
   "source": [
    "`File`オブジェクトの`readlines()`メソッドを使うと、1行ずつの文字列を要素とするリストとしてファイルを読み込むことができます。"
   ]
  },
  {
   "cell_type": "code",
   "execution_count": 107,
   "metadata": {},
   "outputs": [
    {
     "name": "stdout",
     "output_type": "stream",
     "text": [
      "['Data mining is the process of discovering patterns in large data sets involving methods at the intersection of machine learning, statistics, and database systems.\\n', 'It is an essential process where intelligent methods are applied to extract data patterns.\\n', 'It is an interdisciplinary subfield of computer science.\\n', 'The overall goal of the data mining process is to extract information from a data set and transform it into an understandable structure for further use.\\n', 'Aside from the raw analysis step, it involves database and data management aspects, data pre-processing, model and inference considerations, interestingness metrics, complexity considerations, post-processing of discovered structures, visualization, and online updating.\\n', 'Data mining is the analysis step of the knowledge discovery in databases process, or KDD.\\n']\n",
      "\n",
      "\n",
      "Data mining is the process of discovering patterns in large data sets involving methods at the intersection of machine learning, statistics, and database systems.\n",
      "\n",
      "It is an essential process where intelligent methods are applied to extract data patterns.\n",
      "\n",
      "It is an interdisciplinary subfield of computer science.\n",
      "\n",
      "The overall goal of the data mining process is to extract information from a data set and transform it into an understandable structure for further use.\n",
      "\n",
      "Aside from the raw analysis step, it involves database and data management aspects, data pre-processing, model and inference considerations, interestingness metrics, complexity considerations, post-processing of discovered structures, visualization, and online updating.\n",
      "\n",
      "Data mining is the analysis step of the knowledge discovery in databases process, or KDD.\n",
      "\n"
     ]
    }
   ],
   "source": [
    "dmfile = open('data_mining.txt')\n",
    "content = dmfile.readlines()\n",
    "print(content)\n",
    "# '\\n'は改行を表す文字\n",
    "print('\\n')\n",
    "\n",
    "# 1行ずつ出力\n",
    "for line in content:\n",
    "    print(line)"
   ]
  },
  {
   "cell_type": "markdown",
   "metadata": {},
   "source": [
    "### write()メソッド\n",
    "`File`オブジェクトの`write()`メソッドを使うと、ファイルに書き込むことができます。この時、`write()`メソッドは書き込まれた文字数を返します。ただし、読み込みモードで開いたファイルに書き込むことはできません。ファイルに書き込むには、書き込みモード、もしくは、追記モードでファイルを開く必要があります。\n",
    "\n",
    "`open()`関数の第2引数に`'w'`を渡すと書き込みモードでファイルを開きます。書き込みモードでは、既存のファイルの内容を上書きして書き直します。\n",
    "```Python\n",
    "data_file = open('data.txt', 'w')\n",
    "```\n",
    "\n",
    "`open()`関数の第2引数に`'a'`を渡すと追記モードでファイルを開きます。追記モードでは、既存のファイルの終端に追加して書き込みます。\n",
    "```Python\n",
    "data_file = open('data.txt', 'a')\n",
    "```\n",
    "\n",
    "書き込みモードでも追記モードでも、もし引数で指定したファイルが存在しなければ、新たに空のファイルが引数で示したパスに作成されます。\n",
    "\n",
    "ファイルを読み書きした後は、`close()`メソッドを呼び出して閉じます。\n"
   ]
  },
  {
   "cell_type": "code",
   "execution_count": 108,
   "metadata": {},
   "outputs": [
    {
     "name": "stdout",
     "output_type": "stream",
     "text": [
      "Hello\n",
      "Bonjour\n",
      "\n"
     ]
    }
   ],
   "source": [
    "myfile = open('greet.txt', 'w')\n",
    "myfile.write('Hello\\n')\n",
    "myfile.close()\n",
    "             \n",
    "myfile = open('greet.txt', 'a')\n",
    "myfile.write('Bonjour\\n')\n",
    "myfile.close()\n",
    "\n",
    "myfile = open('greet.txt')\n",
    "content=myfile.read()\n",
    "print(content)\n",
    "myfile.close()"
   ]
  },
  {
   "cell_type": "markdown",
   "metadata": {},
   "source": [
    "# 練習\n",
    "先ほどの\"data_mining.txt\"ファイルを開いて、以下のコードを参考にファイル中のテキストに単語\"data\"が出現する回数を数えてください。その際、大文字・小文字は区別しないこととします。\n"
   ]
  },
  {
   "cell_type": "code",
   "execution_count": 116,
   "metadata": {
    "scrolled": false
   },
   "outputs": [
    {
     "name": "stdout",
     "output_type": "stream",
     "text": [
      "8\n"
     ]
    }
   ],
   "source": [
    "dmfile = open('data_mining.txt')\n",
    "content = dmfile.readlines()\n",
    "freq = 0\n",
    "for line in content:\n",
    "    # rstripは文字列の末尾の指定した文字を削除\n",
    "    sentence = line.rstrip().rstrip('.').split(' ')\n",
    "    for word in sentence:\n",
    "        word=word.rstrip(',').lower()\n",
    "        if word == 'data':\n",
    "            freq +=1\n",
    "\n",
    "print(freq)"
   ]
  },
  {
   "cell_type": "markdown",
   "metadata": {},
   "source": [
    "## モジュール\n",
    "Pythonでは、これまでに見てきたような`print`, `len`, `range`などの組み込み関数と呼ばれる基本的な関数を使用することができます。さらに、Pythonには標準ライブラリと呼ばれるモジュール群も含まれています。\n",
    "\n",
    "各モジュールは関連する関数を備えたPythonプログラムで、それらの関数を利用し独自のPythonプログラムを作成することができます。例えば、`math`モジュールには、数学関連の関数が含まれています。\n",
    "\n",
    "モジュールの中の関数を呼び出すには、まず`import`文を使ってモジュールを読み込む必要があります。\n",
    "```Python\n",
    "import モジュール名\n",
    "```\n",
    "\n",
    "モジュールを読み込んだら、その中の関数を使うことができます。以下では、`math`モジュールの`sqrt`関数（平方根を計算する関数）を`math.sqrt`と指定して使用しています。"
   ]
  },
  {
   "cell_type": "code",
   "execution_count": 109,
   "metadata": {},
   "outputs": [
    {
     "name": "stdout",
     "output_type": "stream",
     "text": [
      "2.0\n"
     ]
    }
   ],
   "source": [
    "import math\n",
    "print(math.sqrt(4))"
   ]
  },
  {
   "cell_type": "markdown",
   "metadata": {},
   "source": [
    "`import`は、以下のように`from`と組み合わせて書くこともできます。この時は、モジュールの関数を使う際にモジュール名を書く必要はありません。\n",
    "```Python\n",
    "from モジュール名 import *\n",
    "```"
   ]
  },
  {
   "cell_type": "code",
   "execution_count": 110,
   "metadata": {},
   "outputs": [
    {
     "name": "stdout",
     "output_type": "stream",
     "text": [
      "2.0\n"
     ]
    }
   ],
   "source": [
    "from math import * #　mathモジュールのsqrt関数だけ使う場合は、from math import sqrt\n",
    "print(sqrt(4))"
   ]
  },
  {
   "cell_type": "markdown",
   "metadata": {},
   "source": [
    "# 練習\n",
    "mathモジュールのfactorial関数を用いて10の階乗を計算してください"
   ]
  },
  {
   "cell_type": "code",
   "execution_count": 118,
   "metadata": {},
   "outputs": [
    {
     "name": "stdout",
     "output_type": "stream",
     "text": [
      "3628800\n"
     ]
    }
   ],
   "source": [
    "from math import *#\n",
    "print(factorial(10))"
   ]
  },
  {
   "cell_type": "markdown",
   "metadata": {},
   "source": [
    "## CSVファイル"
   ]
  },
  {
   "cell_type": "markdown",
   "metadata": {},
   "source": [
    "### csvモジュール\n",
    "CSV（Comma Separated Values）ファイルは、プレーンテキストファイルに記録された簡易的なスプレッドシート（エクセルの表など）です。CSVファイルの各行は、スプレッドシートの行を表していて、区切り文字（通常はカンマ）は、その行の要素を区切るものです。\n",
    "\n",
    "```Python\n",
    "## 成績CSVファイル\n",
    "#　ユーザID, 国語、算数\n",
    "1, 60, 70\n",
    "2, 70, 90\n",
    "3, 80, 80\n",
    "...\n",
    "```\n",
    "\n",
    "csvモジュールを使うとCSVファイルを読み書き、解析することが容易になります。csvモジュールを使って、CSVファイルからデータを読み込むには、まず通常のテキストファイルと同様に、`open()`関数でCSVファイルを開きます。この`open()`関数の戻り値の`File`オブジェクトを、`csv.reader()`関数へ渡します。すると、`csv.reader()`は、`Reader`オブジェクトを生成し、この`Reader`オブジェクトを用いると、CSVファイルの行を順番に処理することができます。\n",
    "\n",
    "`Reader`オブジェクトを`list()`関数に渡すと、元のcsvファイルの1行がリストとそのリスト要素としたリスト（リストのリスト）が返ってきます。このリストに対して、リストのインデックスを使うことで、特定の行と列の値に以下のようにアクセスすることができます。"
   ]
  },
  {
   "cell_type": "code",
   "execution_count": 114,
   "metadata": {},
   "outputs": [
    {
     "name": "stdout",
     "output_type": "stream",
     "text": [
      "[['user', 'kokugo', 'shakai', 'sugaku', 'rika'], ['1', '30', '43', '51', '63'], ['2', '39', '21', '49', '56'], ['3', '29', '30', '23', '57'], ['4', '95', '87', '77', '100'], ['5', '70', '71', '78', '67']]\n",
      "43\n",
      "49\n"
     ]
    }
   ],
   "source": [
    "import csv\n",
    "score = open('simple_score.csv')\n",
    "# score = open('simple_score.csv', encoding='utf-8') # 文字コードを指定する場合\n",
    "score_reader = csv.reader(score)\n",
    "score_data = list(score_reader)\n",
    "print(score_data)\n",
    "\n",
    "# 2行目の3列目\n",
    "print(score_data[1][2])\n",
    "\n",
    "# 3行目の4列目\n",
    "print(score_data[2][3])"
   ]
  },
  {
   "cell_type": "markdown",
   "metadata": {},
   "source": [
    "`Reader`オブジェクトからは、以下のように`for`文をつかうことで1行ずつファイルを処理することもできます。この時、各行はリストとなって取り出されます。以下では、行番号を取得するのに、`Reader`オブジェクトの`line_num`変数を使っています。`Reader`オブジェクトは、1度繰り返し処理すると、再び利用することはできないため、元のCSVファイルを読み込み直すには、ファイルを開き直す必要があります。"
   ]
  },
  {
   "cell_type": "code",
   "execution_count": 119,
   "metadata": {},
   "outputs": [
    {
     "name": "stdout",
     "output_type": "stream",
     "text": [
      "1: ['user', 'kokugo', 'shakai', 'sugaku', 'rika']\n",
      "2: ['1', '30', '43', '51', '63']\n",
      "3: ['2', '39', '21', '49', '56']\n",
      "4: ['3', '29', '30', '23', '57']\n",
      "5: ['4', '95', '87', '77', '100']\n",
      "6: ['5', '70', '71', '78', '67']\n"
     ]
    }
   ],
   "source": [
    "import csv\n",
    "score = open('simple_score.csv')\n",
    "# score = open('simple_score.csv', encoding='utf-8') # 文字コードを指定する場合\n",
    "score_reader = csv.reader(score)\n",
    "for row in score_reader:\n",
    "    print(str(score_reader.line_num)+\": \"+str(row))"
   ]
  },
  {
   "cell_type": "markdown",
   "metadata": {},
   "source": [
    "`Writer`オブジェクトを用いると、データをCSVファイルに書き込むことができます。`Writer`オブジェクトを作るには`csv.writer()`関数を使います。CSVファイルにデータを書き込むには、まず、`open()`関数に `'w'`を渡して書き込みモードでファイルを開きます。この`File`オブジェクトを、`csv.writer()`関数に渡して`Writer`オブジェクトを生成します。\n",
    "\n",
    "`Writer`オブジェクトの`writerow()`メソッドは、引数にリストをとります。この引数に渡されたリストの各要素の値が、出力するCSVファイルの各セルの値となります。"
   ]
  },
  {
   "cell_type": "code",
   "execution_count": 121,
   "metadata": {},
   "outputs": [],
   "source": [
    "import csv\n",
    "score = open('my_score.csv', 'w')\n",
    "# score = open('my_score.csv', 'w', encoding='utf-8') # 文字コードを指定する場合\n",
    "# score = open('my_score.csv', 'w', newline='') #for Windows \n",
    "score_writer = csv.writer(score)\n",
    "score_writer.writerow(['user','kokugo','sugaku'])\n",
    "score_writer.writerow([1,50,50])\n",
    "score_writer.writerow([2,30,40])\n",
    "score.close()"
   ]
  },
  {
   "cell_type": "markdown",
   "metadata": {},
   "source": [
    "カンマの代わりにタブ区切りで出力したい場合は、以下のように`csv.writer()`関数の引数`delimiter`に区切り文字を指定します。\n",
    "```Python\n",
    "score_writer = csv.writer(score, delimiter='\\t')\n",
    "```"
   ]
  },
  {
   "cell_type": "markdown",
   "metadata": {},
   "source": [
    "# 練習\n",
    "先ほどの\"simple_score.csv\"ファイルを開いて、すべてのユーザIDとそのユーザの数学の点数を組みにして出力してください。"
   ]
  },
  {
   "cell_type": "code",
   "execution_count": 130,
   "metadata": {},
   "outputs": [],
   "source": [
    "import csv\n",
    "score = open('simple_score.csv')\n",
    "score_reader = csv.reader(score)\n",
    "score_data = list(score_reader)\n",
    "#print(score_data)\n",
    "\n",
    "score_reader = csv.reader(score)\n",
    "for row in score_reader:\n",
    "    print(row[0]+\":\"+ row[3])"
   ]
  },
  {
   "cell_type": "markdown",
   "metadata": {},
   "source": [
    "## エラーが出たら\n",
    "プログラムが実行できない（エラーが出た）時は、バグを取り除くデバッギングが必要になります。例えば、以下に留意することでバグを防ぐことができます。\n",
    "\n",
    "- \"よい\"コードを書く\n",
    "    - コードに説明のコメントを入れる\n",
    "    - 1行の文字数、インデント、空白などのフォーマットに気をつける\n",
    "    - 変数や関数の名前を適当につけない\n",
    "    - グローバル変数に留意する\n",
    "    - コードに固有の\"マジックナンバー\"を使わず、変数を使う\n",
    "    - コード内でのコピーアンドペーストを避ける\n",
    "    - コード内の不要な処理は削除する\n",
    "    - コードの冗長性を減らすようにする    など\n",
    "    - 参考\n",
    "        - [Google Python Style Guide](http://works.surgo.jp/translation/pyguide.html)\n",
    "        - [Official Style Guide for Python Code](http://pep8-ja.readthedocs.io/ja/latest/)\n",
    "- 関数の単体テストを行う\n",
    "- 一つの関数には一つの機能・タスクを持たせるようにする など\n",
    "\n",
    "エラーには大きく分けて、文法エラー、実行エラーがあります。以下、それぞれのエラーについて対処法を説明します。"
   ]
  },
  {
   "cell_type": "markdown",
   "metadata": {},
   "source": [
    "### 文法エラー\n",
    "1. まず、エラーメッセージを確認しましょう\n",
    "2. エラーメッセージの最終行を見て、それがSyntaxErrorであることを確認しましょう\n",
    "3. エラーとなっているコードの行数を確認しましょう\n",
    "4. そして、当該行付近のコードを注意深く確認しましょう\n",
    "\n",
    "よくある文法エラーの例：\n",
    "- クオーテーションや括弧の閉じ忘れ\n",
    "- コロンのつけ忘れ\n",
    "- =と==の混同\n",
    "- インデントの誤り など"
   ]
  },
  {
   "cell_type": "code",
   "execution_count": 113,
   "metadata": {},
   "outputs": [
    {
     "ename": "SyntaxError",
     "evalue": "EOL while scanning string literal (<ipython-input-113-ee5acbb4f977>, line 1)",
     "output_type": "error",
     "traceback": [
      "\u001b[0;36m  File \u001b[0;32m\"<ipython-input-113-ee5acbb4f977>\"\u001b[0;36m, line \u001b[0;32m1\u001b[0m\n\u001b[0;31m    print('This is the error)\u001b[0m\n\u001b[0m                             ^\u001b[0m\n\u001b[0;31mSyntaxError\u001b[0m\u001b[0;31m:\u001b[0m EOL while scanning string literal\n"
     ]
    }
   ],
   "source": [
    "print('This is the error)"
   ]
  },
  {
   "cell_type": "markdown",
   "metadata": {},
   "source": [
    "### 実行エラー\n",
    "1. まず、エラーメッセージを確認しましょう\n",
    "2. エラーメッセージの最終行を見て、そのエラーのタイプを確認しましょう\n",
    "3. エラーとなっているコードの行数を確認しましょう\n",
    "4. そして、当該行付近のコードについて、どの部分が実行エラーのタイプに関係しているか確認しましょう。もし複数の原因がありそうであれば、行を分割、改行して再度実行し、エラーを確認しましょう\n",
    "5. 原因がわからない場合は、print文を挿入して処理の入出力の内容を確認しましょう\n",
    "\n",
    "よくある実行エラーの例：\n",
    "- 文字列やリストの要素エラー\n",
    "- 変数名・関数名の打ち間違え\n",
    "- 無限の繰り返し\n",
    "- 型と処理の不整合\n",
    "- ゼロ分割\n",
    "- ファイルの入出力誤り など"
   ]
  },
  {
   "cell_type": "code",
   "execution_count": 112,
   "metadata": {},
   "outputs": [
    {
     "ename": "ZeroDivisionError",
     "evalue": "division by zero",
     "output_type": "error",
     "traceback": [
      "\u001b[0;31m---------------------------------------------------------------------------\u001b[0m",
      "\u001b[0;31mZeroDivisionError\u001b[0m                         Traceback (most recent call last)",
      "\u001b[0;32m<ipython-input-112-2fc232d1511a>\u001b[0m in \u001b[0;36m<module>\u001b[0;34m\u001b[0m\n\u001b[0;32m----> 1\u001b[0;31m \u001b[0mprint\u001b[0m\u001b[0;34m(\u001b[0m\u001b[0;36m1\u001b[0m\u001b[0;34m/\u001b[0m\u001b[0;36m0\u001b[0m\u001b[0;34m)\u001b[0m\u001b[0;34m\u001b[0m\u001b[0;34m\u001b[0m\u001b[0m\n\u001b[0m",
      "\u001b[0;31mZeroDivisionError\u001b[0m: division by zero"
     ]
    }
   ],
   "source": [
    "print(1/0)"
   ]
  }
 ],
 "metadata": {
  "kernelspec": {
   "display_name": "Python 3",
   "language": "python",
   "name": "python3"
  },
  "language_info": {
   "codemirror_mode": {
    "name": "ipython",
    "version": 3
   },
   "file_extension": ".py",
   "mimetype": "text/x-python",
   "name": "python",
   "nbconvert_exporter": "python",
   "pygments_lexer": "ipython3",
   "version": "3.7.3"
  }
 },
 "nbformat": 4,
 "nbformat_minor": 2
}
