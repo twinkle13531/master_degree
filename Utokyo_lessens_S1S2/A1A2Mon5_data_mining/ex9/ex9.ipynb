{
 "cells": [
  {
   "cell_type": "markdown",
   "metadata": {},
   "source": [
    "# 課題9 \n",
    "配点\n",
    "- Q1.1 1P\n",
    "- Q1.2 2P\n",
    "- Q2.1 2P\n",
    "- Q2.2 2P\n",
    "- Q3 3P\n"
   ]
  },
  {
   "cell_type": "code",
   "execution_count": 1,
   "metadata": {},
   "outputs": [],
   "source": [
    "import numpy as np\n",
    "import pandas as pd\n",
    "import  matplotlib.pyplot  as plt\n",
    "%matplotlib inline"
   ]
  },
  {
   "cell_type": "markdown",
   "metadata": {},
   "source": [
    "## Q1.1 多項式による線形回帰\n",
    "`scikit-learn`モジュールの`PolynomialFeatures`クラスを使うと入力の特徴量から多項や交差項の特徴量を生成することができます。多項や交差項の特徴量を導入にすることによりモデルが複雑になり、訓練データへのより柔軟な適合が可能になります。\n",
    "\n",
    "例えば、多項式の次数としてパラメータ`degree`に2を指定すると、1変数の入力$x$に対して、1（バイアス項), $x$, $x^2$、の3つの特徴量を生成します。2変数入力$x_1, x_2$の場合は、1, $x_1$, $x_2$, $x_1^2$, $x_1x_2$, $x_2^2$、の特徴量が生成されます。バイアス項を生成しない場合はパラメータ`include_bias`に`False`を指定します。\n",
    "\n",
    "[PolynomialFeatures](https://scikit-learn.org/stable/modules/generated/sklearn.preprocessing.PolynomialFeatures.html#sklearn.preprocessing.PolynomialFeatures)"
   ]
  },
  {
   "cell_type": "code",
   "execution_count": 2,
   "metadata": {},
   "outputs": [
    {
     "name": "stdout",
     "output_type": "stream",
     "text": [
      "[[ 1.    1.4   1.96]\n",
      " [ 1.    1.4   1.96]\n",
      " [ 1.    1.3   1.69]\n",
      " [ 1.    1.5   2.25]\n",
      " [ 1.    1.4   1.96]\n",
      " [ 1.    1.7   2.89]\n",
      " [ 1.    1.4   1.96]\n",
      " [ 1.    1.5   2.25]\n",
      " [ 1.    1.4   1.96]\n",
      " [ 1.    1.5   2.25]\n",
      " [ 1.    1.5   2.25]\n",
      " [ 1.    1.6   2.56]\n",
      " [ 1.    1.4   1.96]\n",
      " [ 1.    1.1   1.21]\n",
      " [ 1.    1.2   1.44]\n",
      " [ 1.    1.5   2.25]\n",
      " [ 1.    1.3   1.69]\n",
      " [ 1.    1.4   1.96]\n",
      " [ 1.    1.7   2.89]\n",
      " [ 1.    1.5   2.25]\n",
      " [ 1.    1.7   2.89]\n",
      " [ 1.    1.5   2.25]\n",
      " [ 1.    1.    1.  ]\n",
      " [ 1.    1.7   2.89]\n",
      " [ 1.    1.9   3.61]\n",
      " [ 1.    1.6   2.56]\n",
      " [ 1.    1.6   2.56]\n",
      " [ 1.    1.5   2.25]\n",
      " [ 1.    1.4   1.96]\n",
      " [ 1.    1.6   2.56]\n",
      " [ 1.    1.6   2.56]\n",
      " [ 1.    1.5   2.25]\n",
      " [ 1.    1.5   2.25]\n",
      " [ 1.    1.4   1.96]\n",
      " [ 1.    1.5   2.25]\n",
      " [ 1.    1.2   1.44]\n",
      " [ 1.    1.3   1.69]\n",
      " [ 1.    1.4   1.96]\n",
      " [ 1.    1.3   1.69]\n",
      " [ 1.    1.5   2.25]\n",
      " [ 1.    1.3   1.69]\n",
      " [ 1.    1.3   1.69]\n",
      " [ 1.    1.3   1.69]\n",
      " [ 1.    1.6   2.56]\n",
      " [ 1.    1.9   3.61]\n",
      " [ 1.    1.4   1.96]\n",
      " [ 1.    1.6   2.56]\n",
      " [ 1.    1.4   1.96]\n",
      " [ 1.    1.5   2.25]\n",
      " [ 1.    1.4   1.96]\n",
      " [ 1.    4.7  22.09]\n",
      " [ 1.    4.5  20.25]\n",
      " [ 1.    4.9  24.01]\n",
      " [ 1.    4.   16.  ]\n",
      " [ 1.    4.6  21.16]\n",
      " [ 1.    4.5  20.25]\n",
      " [ 1.    4.7  22.09]\n",
      " [ 1.    3.3  10.89]\n",
      " [ 1.    4.6  21.16]\n",
      " [ 1.    3.9  15.21]\n",
      " [ 1.    3.5  12.25]\n",
      " [ 1.    4.2  17.64]\n",
      " [ 1.    4.   16.  ]\n",
      " [ 1.    4.7  22.09]\n",
      " [ 1.    3.6  12.96]\n",
      " [ 1.    4.4  19.36]\n",
      " [ 1.    4.5  20.25]\n",
      " [ 1.    4.1  16.81]\n",
      " [ 1.    4.5  20.25]\n",
      " [ 1.    3.9  15.21]\n",
      " [ 1.    4.8  23.04]\n",
      " [ 1.    4.   16.  ]\n",
      " [ 1.    4.9  24.01]\n",
      " [ 1.    4.7  22.09]\n",
      " [ 1.    4.3  18.49]\n",
      " [ 1.    4.4  19.36]\n",
      " [ 1.    4.8  23.04]\n",
      " [ 1.    5.   25.  ]\n",
      " [ 1.    4.5  20.25]\n",
      " [ 1.    3.5  12.25]\n",
      " [ 1.    3.8  14.44]\n",
      " [ 1.    3.7  13.69]\n",
      " [ 1.    3.9  15.21]\n",
      " [ 1.    5.1  26.01]\n",
      " [ 1.    4.5  20.25]\n",
      " [ 1.    4.5  20.25]\n",
      " [ 1.    4.7  22.09]\n",
      " [ 1.    4.4  19.36]\n",
      " [ 1.    4.1  16.81]\n",
      " [ 1.    4.   16.  ]\n",
      " [ 1.    4.4  19.36]\n",
      " [ 1.    4.6  21.16]\n",
      " [ 1.    4.   16.  ]\n",
      " [ 1.    3.3  10.89]\n",
      " [ 1.    4.2  17.64]\n",
      " [ 1.    4.2  17.64]\n",
      " [ 1.    4.2  17.64]\n",
      " [ 1.    4.3  18.49]\n",
      " [ 1.    3.    9.  ]\n",
      " [ 1.    4.1  16.81]\n",
      " [ 1.    6.   36.  ]\n",
      " [ 1.    5.1  26.01]\n",
      " [ 1.    5.9  34.81]\n",
      " [ 1.    5.6  31.36]\n",
      " [ 1.    5.8  33.64]\n",
      " [ 1.    6.6  43.56]\n",
      " [ 1.    4.5  20.25]\n",
      " [ 1.    6.3  39.69]\n",
      " [ 1.    5.8  33.64]\n",
      " [ 1.    6.1  37.21]\n",
      " [ 1.    5.1  26.01]\n",
      " [ 1.    5.3  28.09]\n",
      " [ 1.    5.5  30.25]\n",
      " [ 1.    5.   25.  ]\n",
      " [ 1.    5.1  26.01]\n",
      " [ 1.    5.3  28.09]\n",
      " [ 1.    5.5  30.25]\n",
      " [ 1.    6.7  44.89]\n",
      " [ 1.    6.9  47.61]\n",
      " [ 1.    5.   25.  ]\n",
      " [ 1.    5.7  32.49]\n",
      " [ 1.    4.9  24.01]\n",
      " [ 1.    6.7  44.89]\n",
      " [ 1.    4.9  24.01]\n",
      " [ 1.    5.7  32.49]\n",
      " [ 1.    6.   36.  ]\n",
      " [ 1.    4.8  23.04]\n",
      " [ 1.    4.9  24.01]\n",
      " [ 1.    5.6  31.36]\n",
      " [ 1.    5.8  33.64]\n",
      " [ 1.    6.1  37.21]\n",
      " [ 1.    6.4  40.96]\n",
      " [ 1.    5.6  31.36]\n",
      " [ 1.    5.1  26.01]\n",
      " [ 1.    5.6  31.36]\n",
      " [ 1.    6.1  37.21]\n",
      " [ 1.    5.6  31.36]\n",
      " [ 1.    5.5  30.25]\n",
      " [ 1.    4.8  23.04]\n",
      " [ 1.    5.4  29.16]\n",
      " [ 1.    5.6  31.36]\n",
      " [ 1.    5.1  26.01]\n",
      " [ 1.    5.1  26.01]\n",
      " [ 1.    5.9  34.81]\n",
      " [ 1.    5.7  32.49]\n",
      " [ 1.    5.2  27.04]\n",
      " [ 1.    5.   25.  ]\n",
      " [ 1.    5.2  27.04]\n",
      " [ 1.    5.4  29.16]\n",
      " [ 1.    5.1  26.01]]\n"
     ]
    }
   ],
   "source": [
    "from sklearn.datasets import load_iris\n",
    "from sklearn.preprocessing import PolynomialFeatures\n",
    "\n",
    "iris = load_iris() \n",
    "X=(iris['data'][:,2])[:,np.newaxis] \n",
    "y=(iris['data'][:,3])[:,np.newaxis] \n",
    "\n",
    "print(PolynomialFeatures(degree=2).fit_transform(X)) # 1, x, x^2、の特徴量"
   ]
  },
  {
   "cell_type": "markdown",
   "metadata": {},
   "source": [
    "以下の関数`iris_poly_regression()`では、課題8で用いたirisデータセットの特徴量`petal_length`から引数`n`の次数の多項式の特徴量を生成し、それらの特徴量を用いて線形回帰（`LinearRegression`）により特徴量`petal_width`を予測するモデルを学習しています。\n",
    "\n",
    "[LinearRegression](https://scikit-learn.org/stable/modules/generated/sklearn.linear_model.LinearRegression.html)\n",
    "\n",
    "データセットは`tran_test_split`関数を使って、70%をモデル学習の訓練データ、30%をモデル評価のテストデータに分割しています。\n",
    "\n",
    "[train_test_split](https://scikit-learn.org/stable/modules/generated/sklearn.model_selection.train_test_split.html)\n",
    "\n",
    "モデル評価は平均二乗誤差（`mean_squared_error`）で行います。\n",
    "\n",
    "[mean_squared_error](https://scikit-learn.org/stable/modules/generated/sklearn.metrics.mean_squared_error.html)\n"
   ]
  },
  {
   "cell_type": "code",
   "execution_count": 3,
   "metadata": {},
   "outputs": [],
   "source": [
    "from sklearn.datasets import load_iris\n",
    "from sklearn.linear_model import LinearRegression\n",
    "from sklearn.metrics import mean_squared_error\n",
    "from sklearn.preprocessing import PolynomialFeatures\n",
    "from sklearn.model_selection import train_test_split\n",
    "\n",
    "def iris_poly_regression(n):\n",
    "    # 引数 n: 多項式の次数 \n",
    "\n",
    "    iris = load_iris() \n",
    "    X=(iris['data'][:,2])[:,np.newaxis] \n",
    "    y=(iris['data'][:,3])[:,np.newaxis] \n",
    "\n",
    "    # 訓練データとテストデータに分割\n",
    "    X_train, X_test, y_train, y_test = train_test_split(X, y, test_size=0.3, random_state=0)\n",
    "\n",
    "    # 入力からn次多項式の特徴量を生成\n",
    "    poly=PolynomialFeatures(degree=n, include_bias=False)\n",
    "    poly_X_train=poly.fit_transform(X_train)\n",
    "    poly_X_test=poly.fit_transform(X_test)\n",
    "\n",
    "    # 訓練データへ適合\n",
    "    model=LinearRegression(normalize=True) # normalize=Trueで各特徴量を標準化\n",
    "    model.fit(poly_X_train, y_train) \n",
    "\n",
    "    # 訓練データ誤差\n",
    "    y_predicted_train=model.predict(poly_X_train)\n",
    "    train_loss =mean_squared_error(y_train,y_predicted_train)\n",
    "    print(train_loss)\n",
    "\n",
    "    # テストデータ誤差\n",
    "    y_predicted_test=model.predict(poly_X_test) \n",
    "    test_loss = mean_squared_error(y_test,y_predicted_test)\n",
    "    print(test_loss)\n",
    "\n",
    "    #パラメータ\n",
    "    #print(model.intercept_)\n",
    "    #print(model.coef_)\n",
    "\n",
    "    # 曲線描画用のデータポイント\n",
    "    X_point=np.arange(X.min(),X.max(),0.1)[:,np.newaxis]\n",
    "    y_point=model.predict(poly.fit_transform(X_point))\n",
    "\n",
    "    plt.figure(figsize=(7,5))\n",
    "    plt.xlabel(iris[\"feature_names\"][2])\n",
    "    plt.ylabel(iris[\"feature_names\"][3])\n",
    "    plt.scatter(poly_X_train[:,0], y_train,c='blue') # 訓練データ\n",
    "    plt.scatter(poly_X_test[:,0], y_test,c='green') # テストデータ\n",
    "    plt.plot(X_point, y_point, color='red');\n",
    "    \n",
    "    return train_loss, test_loss"
   ]
  },
  {
   "cell_type": "markdown",
   "metadata": {},
   "source": [
    "多項式の次数$n$を変化させて、入力（petal_lengthの値）と出力（入力から予測されたpetal_widthの値）の対応がどのように変化するか、特に次数が大きくなり学習モデルが複雑になると訓練データ（青のデータポイント）に適合しすぎてしまう過学習が起こることを観察してください。"
   ]
  },
  {
   "cell_type": "code",
   "execution_count": 4,
   "metadata": {},
   "outputs": [
    {
     "name": "stdout",
     "output_type": "stream",
     "text": [
      "0.03727130781245481\n",
      "0.05335352448031871\n"
     ]
    },
    {
     "data": {
      "image/png": "[encoded data removed]",
      "text/plain": [
       "<Figure size 504x360 with 1 Axes>"
      ]
     },
     "metadata": {
      "needs_background": "light"
     },
     "output_type": "display_data"
    }
   ],
   "source": [
    "train_loss, test_loss = iris_poly_regression(1)"
   ]
  },
  {
   "cell_type": "code",
   "execution_count": 5,
   "metadata": {},
   "outputs": [
    {
     "name": "stdout",
     "output_type": "stream",
     "text": [
      "0.03168430390802144\n",
      "0.05057567023552101\n"
     ]
    },
    {
     "data": {
      "image/png": "[encoded data removed]",
      "text/plain": [
       "<Figure size 504x360 with 1 Axes>"
      ]
     },
     "metadata": {
      "needs_background": "light"
     },
     "output_type": "display_data"
    }
   ],
   "source": [
    "train_loss, test_loss = iris_poly_regression(3)"
   ]
  },
  {
   "cell_type": "code",
   "execution_count": 6,
   "metadata": {},
   "outputs": [
    {
     "name": "stdout",
     "output_type": "stream",
     "text": [
      "0.025692542143382593\n",
      "0.05177907632430684\n"
     ]
    },
    {
     "data": {
      "image/png": "[encoded data removed]",
      "text/plain": [
       "<Figure size 504x360 with 1 Axes>"
      ]
     },
     "metadata": {
      "needs_background": "light"
     },
     "output_type": "display_data"
    }
   ],
   "source": [
    "train_loss, test_loss = iris_poly_regression(10)"
   ]
  },
  {
   "cell_type": "markdown",
   "metadata": {},
   "source": [
    "多項式の次数を1から10まで変化させた時の訓練データとテストデータの誤差の変化をプロットする以下の処理を完成させてください。\n",
    "\n",
    "完成したらセルを実行し、多項式の次数が大きくなると、訓練データとテストデータの誤差はそれぞれどのように変化するか観察してください。特に、次数が大きくなると訓練データの誤差が減少していきますが、テストデータの誤差は必ずしも減少しないことも確認してください。"
   ]
  },
  {
   "cell_type": "code",
   "execution_count": 7,
   "metadata": {},
   "outputs": [
    {
     "data": {
      "image/png": "[encoded data removed]",
      "text/plain": [
       "<Figure size 432x288 with 1 Axes>"
      ]
     },
     "metadata": {
      "needs_background": "light"
     },
     "output_type": "display_data"
    }
   ],
   "source": [
    "import matplotlib.pyplot as plt\n",
    "\n",
    "x_datas = range(1, 13)\n",
    "tokyo =  [6.1, 7.2, 10.1, 15.4, 20.2, 22.4, 25.4, 27.1, 24.4, 18.7, 11.4, 8.9]\n",
    "\n",
    "#沖縄の平均気温を追加\n",
    "okinawa = [17.4, 16.9, 18.7, 23.0, 25.7, 28.4, 29.8, 29.5, 28.4, 27.7, 23.2, 20.5]\n",
    "\n",
    "months = ['Jan', 'Feb', 'Mar', 'Apr', \n",
    "    'May', 'Jun','Jul', 'Aug', \n",
    "    'Sep', 'Oct', 'Nov', 'Dec']\n",
    "\n",
    "plt.plot(x_datas, tokyo, marker = 'o', label = 'Tokyo')\n",
    "plt.plot(x_datas, okinawa, marker = 'x', label = 'Okinawa')\n",
    "\n",
    "plt.xticks(x_datas, months)\n",
    "plt.xlim(0, 13)\n",
    "plt.ylim(0, 35) #y軸の最大値を変更30→35\n",
    "\n",
    "plt.title('The average temperature in 2016', fontsize = 20)\n",
    "plt.xlabel('month', fontsize = 16)\n",
    "plt.ylabel('temperature', fontsize = 16)\n",
    "plt.tick_params(labelsize=14)\n",
    "plt.grid(True)\n",
    "plt.legend(loc = 'upper right')\n",
    "plt.show()"
   ]
  },
  {
   "cell_type": "code",
   "execution_count": 8,
   "metadata": {},
   "outputs": [],
   "source": [
    "degree=np.arange(1,11) # 次数(1から10)\n",
    "train_curve=[] # 各次数の訓練データ誤差のリスト\n",
    "test_curve=[] # 各次数のテストデータ誤差のリスト\n",
    "\n",
    "iris = load_iris() \n",
    "X=(iris['data'][:,2])[:,np.newaxis] \n",
    "y=(iris['data'][:,3])[:,np.newaxis] \n",
    "X_train, X_test, y_train, y_test = train_test_split(X, y, test_size=0.3, random_state=0)"
   ]
  },
  {
   "cell_type": "code",
   "execution_count": 9,
   "metadata": {},
   "outputs": [
    {
     "name": "stdout",
     "output_type": "stream",
     "text": [
      "True\n",
      "(105, 1)\n",
      "(105, 1)\n",
      "0\n",
      "0\n"
     ]
    }
   ],
   "source": [
    "print(X_train.ndim==y_train.ndim) #ともに２\n",
    "\n",
    "# ValueError: x and y can be no greater than 2-D, but have shapes (10,) and (10, 105, 1)\n",
    "\n",
    "\n",
    "print(X_train.shape)\n",
    "print(y_train.shape)\n",
    "print(len(train_curve))\n",
    "print(len(test_curve))"
   ]
  },
  {
   "cell_type": "code",
   "execution_count": 10,
   "metadata": {},
   "outputs": [
    {
     "data": {
      "image/png": "[encoded data removed]",
      "text/plain": [
       "<Figure size 504x360 with 1 Axes>"
      ]
     },
     "metadata": {
      "needs_background": "light"
     },
     "output_type": "display_data"
    }
   ],
   "source": [
    "for n in degree:\n",
    "    # 入力からn次多項式の特徴量を生成\n",
    "    poly=PolynomialFeatures(degree=n, include_bias=False)\n",
    "    poly_X_train=poly.fit_transform(X_train)\n",
    "    poly_X_test=poly.fit_transform(X_test)\n",
    "\n",
    "    # 訓練データへ適合\n",
    "    model=LinearRegression(normalize=True) # normalize=Trueで各特徴量を標準化\n",
    "    model.fit(poly_X_train, y_train) \n",
    "\n",
    "    # 訓練データ誤差\n",
    "    y_predicted_train=model.predict(poly_X_train)\n",
    "    train_loss =mean_squared_error(y_train,y_predicted_train)\n",
    "    ### 訓練データの誤差を計算するコード ###\n",
    "    ### train_curve(list)にtrain_lossを追加するコード ###\n",
    "    train_curve.append(train_loss)\n",
    "    \n",
    "    # テストデータ誤差\n",
    "    y_predicted_test=model.predict(poly_X_test)\n",
    "    test_loss = mean_squared_error(y_test,y_predicted_test)\n",
    "    ### テストデータの誤差を計算するコード ###\n",
    "    ### test_curve(list)にtest_lossを追加するコード ###\n",
    "    test_curve.append(test_loss)\n",
    "    \n",
    "plt.figure(figsize=(7,5))\n",
    "plt.xlabel('degree')\n",
    "plt.ylabel('mean squared error')    \n",
    "\n",
    "plt.plot(degree, train_curve, color='red'); # 訓練データ誤差曲線\n",
    "plt.plot(degree, test_curve, color='blue'); # テストデータ誤差曲線"
   ]
  },
  {
   "cell_type": "markdown",
   "metadata": {},
   "source": [
    "## Q1.2 正則化\n",
    "以下では、学習モデルとして`LinearRegression`の代わりに`Ridge`（リッジ回帰）を使っています。`Ridge`クラスは、$L_2$ノルムを正則化に用いた線形回帰モデルで学習を行うことができます。パラメータ`alpha`に正則化項の係数（講義資料中の$\\lambda$）を指定します。\n",
    "\n",
    "[Ridge](https://scikit-learn.org/stable/modules/generated/sklearn.linear_model.Ridge.html)\n",
    "\n",
    "Q1.1で観察した過学習が、正則化により抑えられていることを観察してください。また、正則化項の係数のハイパーパラメータを変化させた時（例えば、0.01, 0.1, 1, 10など）、入力（`petal_length`の値）と出力（入力から予測された`petal_width`の値）の対応がどのように変化するかその時の誤差の値とともに観察してください。正則化項の係数を大きするとアンダーフィッティングが起こることを確認してください。"
   ]
  },
  {
   "cell_type": "code",
   "execution_count": 11,
   "metadata": {},
   "outputs": [],
   "source": [
    "from sklearn.datasets import load_iris\n",
    "from sklearn.metrics import mean_squared_error\n",
    "from sklearn.preprocessing import PolynomialFeatures\n",
    "from sklearn.linear_model import Ridge\n",
    "\n",
    "def iris_poly_ridge(n, a):\n",
    "    # 引数 n: 多項式の次数 \n",
    "    # 引数 a: 正則化項の係数\n",
    "\n",
    "    iris = load_iris() \n",
    "    X=(iris['data'][:,2])[:,np.newaxis] \n",
    "    y=(iris['data'][:,3])[:,np.newaxis] \n",
    "    X_train, X_test, y_train, y_test = train_test_split(X, y, test_size=0.3, random_state=0)\n",
    "\n",
    "    # 入力からn次多項式の特徴量を生成\n",
    "    poly=PolynomialFeatures(degree=n, include_bias=False)\n",
    "    poly_X_train=poly.fit_transform(X_train)\n",
    "    poly_X_test=poly.fit_transform(X_test)\n",
    "\n",
    "    # 訓練データへ適合\n",
    "    # リッジ回帰モデル（aは正則化項の係数）\n",
    "    model=Ridge(alpha=a, normalize=True)\n",
    "    model.fit(poly_X_train, y_train) \n",
    "\n",
    "    # 訓練データ誤差\n",
    "    y_predicted_train=model.predict(poly_X_train)\n",
    "    train_loss =mean_squared_error(y_train,y_predicted_train)\n",
    "    print(train_loss)\n",
    "\n",
    "    # テストデータ誤差\n",
    "    y_predicted_test=model.predict(poly_X_test) \n",
    "    test_loss = mean_squared_error(y_test,y_predicted_test)\n",
    "    print(test_loss)\n",
    "\n",
    "    #パラメータ\n",
    "    #print(model.intercept_)\n",
    "    #print(model.coef_)\n",
    "\n",
    "    # 曲線描画用のデータポイント\n",
    "    X_point=np.arange(X.min(),X.max(),0.1)[:,np.newaxis]\n",
    "    y_point=model.predict(poly.fit_transform(X_point))\n",
    "\n",
    "    plt.figure(figsize=(7,5))\n",
    "    plt.xlabel(iris[\"feature_names\"][2])\n",
    "    plt.ylabel(iris[\"feature_names\"][3])\n",
    "    plt.scatter(poly_X_train[:,0], y_train,c='blue') # 訓練データ\n",
    "    plt.scatter(poly_X_test[:,0], y_test,c='green') # テストデータ\n",
    "    plt.plot(X_point, y_point, color='red');\n",
    "    \n",
    "    return train_loss, test_loss"
   ]
  },
  {
   "cell_type": "code",
   "execution_count": 12,
   "metadata": {},
   "outputs": [
    {
     "name": "stdout",
     "output_type": "stream",
     "text": [
      "0.03732674254335568\n",
      "0.05314635132763728\n"
     ]
    },
    {
     "data": {
      "image/png": "[encoded data removed]",
      "text/plain": [
       "<Figure size 504x360 with 1 Axes>"
      ]
     },
     "metadata": {
      "needs_background": "light"
     },
     "output_type": "display_data"
    }
   ],
   "source": [
    "train_loss, test_loss = iris_poly_ridge(1, 0.01)"
   ]
  },
  {
   "cell_type": "code",
   "execution_count": 13,
   "metadata": {},
   "outputs": [
    {
     "name": "stdout",
     "output_type": "stream",
     "text": [
      "0.03653864159211502\n",
      "0.052648737192171516\n"
     ]
    },
    {
     "data": {
      "image/png": "[encoded data removed]",
      "text/plain": [
       "<Figure size 504x360 with 1 Axes>"
      ]
     },
     "metadata": {
      "needs_background": "light"
     },
     "output_type": "display_data"
    }
   ],
   "source": [
    "train_loss, test_loss = iris_poly_ridge(3, 0.01)"
   ]
  },
  {
   "cell_type": "code",
   "execution_count": 14,
   "metadata": {},
   "outputs": [
    {
     "name": "stdout",
     "output_type": "stream",
     "text": [
      "0.03058712377586999\n",
      "0.04999172173970824\n"
     ]
    },
    {
     "data": {
      "image/png": "[encoded data removed]",
      "text/plain": [
       "<Figure size 504x360 with 1 Axes>"
      ]
     },
     "metadata": {
      "needs_background": "light"
     },
     "output_type": "display_data"
    }
   ],
   "source": [
    "train_loss, test_loss = iris_poly_ridge(10, 0.01)"
   ]
  },
  {
   "cell_type": "markdown",
   "metadata": {},
   "source": [
    "Q1.1を参考に、上記のリッジ回帰で多項式の次数を1から10まで変化させた時の訓練データとテストデータの誤差の変化をプロットする以下の処理を完成させてください。その際、正則化項の係数は0.01など適当な値に固定してください。\n",
    "\n",
    "完成したらセルを実行し、多項式の次数が大きくなると、訓練データとテストデータの誤差はそれぞれどのように変化するか観察してください。"
   ]
  },
  {
   "cell_type": "code",
   "execution_count": 15,
   "metadata": {},
   "outputs": [],
   "source": [
    "degree=np.arange(1,11) # 次数(1から10)\n",
    "train_curve=[] # 各次数の訓練データ誤差のリスト\n",
    "test_curve=[] # 各次数のテストデータ誤差のリスト\n",
    "\n",
    "iris = load_iris() \n",
    "X=(iris['data'][:,2])[:,np.newaxis] \n",
    "y=(iris['data'][:,3])[:,np.newaxis] \n",
    "X_train, X_test, y_train, y_test = train_test_split(X, y, test_size=0.3, random_state=0)"
   ]
  },
  {
   "cell_type": "code",
   "execution_count": 16,
   "metadata": {},
   "outputs": [
    {
     "data": {
      "image/png": "[encoded data removed]",
      "text/plain": [
       "<Figure size 504x360 with 1 Axes>"
      ]
     },
     "metadata": {
      "needs_background": "light"
     },
     "output_type": "display_data"
    }
   ],
   "source": [
    "### 上記のリッジ回帰で多項式の次数を1から10まで変化させた時の訓練データとテストデータの誤差の変化曲線を表示するコード ###\n",
    "\n",
    "for n in degree:\n",
    "    # 入力からn次多項式の特徴量を生成\n",
    "    poly=PolynomialFeatures(degree=n, include_bias=False)\n",
    "    poly_X_train=poly.fit_transform(X_train)\n",
    "    poly_X_test=poly.fit_transform(X_test)\n",
    "\n",
    "    # 訓練データへ適合\n",
    "    model=Ridge(alpha=0.01, normalize=True)\n",
    "    model.fit(poly_X_train, y_train) \n",
    "\n",
    "    # 訓練データ誤差\n",
    "    y_predicted_train=model.predict(poly_X_train)\n",
    "    train_loss =mean_squared_error(y_train,y_predicted_train)\n",
    "    train_curve.append(train_loss)\n",
    "    \n",
    "    # テストデータ誤差\n",
    "    y_predicted_test=model.predict(poly_X_test) \n",
    "    test_loss = mean_squared_error(y_test,y_predicted_test)\n",
    "    test_curve.append(test_loss)\n",
    "    \n",
    "plt.figure(figsize=(7,5))\n",
    "plt.xlabel('degree')\n",
    "plt.ylabel('mean squared error')    \n",
    "\n",
    "plt.plot(degree, train_curve, color='red'); # 訓練データ誤差曲線\n",
    "plt.plot(degree, test_curve, color='blue'); # テストデータ誤差曲線"
   ]
  },
  {
   "cell_type": "markdown",
   "metadata": {},
   "source": [
    "### Q2 ロジスティック回帰"
   ]
  },
  {
   "cell_type": "markdown",
   "metadata": {},
   "source": [
    "irisデータセットの特徴量`petal_length`と`petal_width`で2つの花の種類`versicolor`か`virginica`のデータを散布図で可視化すると以下のように花ごとに`petal_length`と`petal_width`の特徴が異なることがわかります。"
   ]
  },
  {
   "cell_type": "code",
   "execution_count": 17,
   "metadata": {},
   "outputs": [
    {
     "data": {
      "image/png": "[encoded data removed]",
      "text/plain": [
       "<Figure size 504x360 with 1 Axes>"
      ]
     },
     "metadata": {
      "needs_background": "light"
     },
     "output_type": "display_data"
    }
   ],
   "source": [
    "from sklearn.datasets import load_iris\n",
    "iris = load_iris()\n",
    "X_all = iris.data[:,[2,3]] # 特徴量petal_lengthとpetal_width\n",
    "y_all = iris.target # 花の種類\n",
    "\n",
    "X = X_all[(y_all==1)|(y_all==2)] # 花の種類versicolorかvirginicaに対応する入力\n",
    "y_label = y_all[(y_all==1)|(y_all==2)]-1 # 花の種類versicolorかvirginica（ラベルを0or1にする）\n",
    "\n",
    "plt.figure(figsize=(7,5))\n",
    "plt.xlabel('petal_length')\n",
    "plt.ylabel('petal_width')\n",
    "plt.scatter(X[:,0], X[:,1], c=y_label);"
   ]
  },
  {
   "cell_type": "markdown",
   "metadata": {},
   "source": [
    "以下では、ロジスティック回帰により特徴量`petal_length`と`petal_width`から2つの花の種類`versicolor`か`virginica`を予測するような仮説関数のパラメータを学習することを考えます。\n",
    "\n",
    "まず準備として、特徴量`petal_length`と`petal_width`を入力$X$, 花の種類`versicolor`か`virginica`を出力（ラベル）$y$とします。入力$X$は各特徴量ごとに標準化し、入力の各データにバイアス項($x_0=1$)を追加するため、入力の先頭列に1を要素とする列ベクトルを挿入します。これにより、入力$X$と出力$y$はデータ数を$m$としてそれぞれ行列（$m \\times 3$) とベクトル($m \\times 1$)になります。"
   ]
  },
  {
   "cell_type": "code",
   "execution_count": 18,
   "metadata": {},
   "outputs": [
    {
     "data": {
      "text/plain": [
       "array([0.2])"
      ]
     },
     "execution_count": 18,
     "metadata": {},
     "output_type": "execute_result"
    }
   ],
   "source": [
    "y\n",
    "type(y) #numpy.ndarray\n",
    "y.shape #(100, 1)\n",
    "y[0]"
   ]
  },
  {
   "cell_type": "code",
   "execution_count": 19,
   "metadata": {},
   "outputs": [],
   "source": [
    "y=y_label[:,np.newaxis] # 列ベクトルにする\n",
    "X_norm=(X-np.mean(X, axis=0))/np.std(X, axis=0) # 標準化\n",
    "X_norm=np.insert(X_norm, 0, np.ones((1,X.shape[0]), dtype=int), axis=1) # バイアス項の追加"
   ]
  },
  {
   "cell_type": "markdown",
   "metadata": {},
   "source": [
    "### Q2.1 シグモイド関数\n",
    "シグモイド関数$g(z)$は以下のように定義されます\n",
    "\n",
    "$g(z)=\\frac{1}{1+e^{-z}}$\n",
    "\n",
    "引数に`NumPy`の実数値を要素とする任意の長さの配列を入力として受け取り、配列の各要素に対するシグモイド関数の値を要素とする配列を返す`sigmoid`関数を完成させてください。\n",
    "\n",
    "[NumPyの指数関数](https://docs.scipy.org/doc/numpy/reference/generated/numpy.exp.html)"
   ]
  },
  {
   "cell_type": "code",
   "execution_count": 21,
   "metadata": {},
   "outputs": [],
   "source": [
    "def sigmoid(Z):\n",
    "    return 1/(1+np.exp(-Z)) \n",
    "### 配列Zの各要素に対するシグモイド関数の値を計算しそれら要素とする配列を返すコード ###"
   ]
  },
  {
   "cell_type": "markdown",
   "metadata": {},
   "source": [
    "`sigmoid`関数は入力の配列`[-1,0,1]`に対しては、配列`[0.26894142, 0.5, 0.73105858]`を返します。"
   ]
  },
  {
   "cell_type": "markdown",
   "metadata": {},
   "source": [
    "### Q2.2 コスト関数とパラメータの推定\n",
    "\n",
    "以下では、最急降下法により、訓練データセットを元にロジスティック回帰の仮説関数のパラメータを学習する`graddes_logit`関数を実装します。\n",
    "\n",
    "`graddes_logit`関数では第1引数に入力のデータ行列（データ数($m$)$\\times$(特徴量+バイアス)($n$))、第2引数に入力の各データに対する出力（正解）のベクトル（$m\\times1$）、第3引数に学習率、第4引数に学習の繰り返し（各繰り返しをエポックと呼ぶ）の回数を受け取ります。\n",
    "\n",
    "これらの引数を元に、`graddes_logit`関数ではパラメータの学習を行い、以下を返します\n",
    "\n",
    "- エポックごとのコスト関数の値を要素とするリスト\n",
    "- 最終的なパラメータの値を要素とする配列（$n\\times1$）を返します。\n",
    "\n",
    "\n",
    "パラメータを$\\theta=(\\theta_0, \\theta_1, ..., \\theta_{n-1})^T$\n",
    "\n",
    "仮説関数を$h(x)=g(\\theta_0+\\theta_1x_1+\\theta_2x_2+....+\\theta_{n-1}x_{n-1})=g(\\theta^Tx)=\\frac{1}{1+e^{-\\theta^Tx}}$\n",
    "\n",
    "入力を$\n",
    "  X = \\left(\n",
    "    \\begin{array}{cccc}\n",
    "      x_0^{(1)} &   x_1^{(1)} & ... &   x_{n-1}^{(1)}  \\\\\n",
    "      ... & ...& ...&...\\\\\n",
    "      x_0^{(m)} &  x_1^{(m)} & ... &   x_{n-1}^{(m)}  \\\\\n",
    "    \\end{array}\n",
    "  \\right)\n",
    "$ \n",
    "\n",
    "$X$において$x_0^{(i)}=1$\n",
    "\n",
    "出力を$y=(y^{(1)}, y^{(2)}, ..., y^{(m)})^T$\n",
    "\n",
    "とすると、ロジスティック回帰のコスト関数を以下のようにして\n",
    "\n",
    "$J(\\theta)=-\\frac{1}{m}\\Sigma_{i=1}^{m}(y^{(i)}log(h(x^{(i)}))+(1-y^{(i)})log(1-h(x^{(i)})))$\n",
    "\n",
    "最急降下法では入力$X$の各特徴量$x_j$に対するパラメータ$\\theta_j$を以下の様に更新していきます。\n",
    "\n",
    "$\\theta_j:= \\theta_j - \\alpha \\frac{\\partial J(\\theta)}{\\partial \\theta_j} =  \\theta_j - \\frac{\\alpha}{m} \\Sigma_{i=1}^m ((h(x^{(i)})-y^{(i)})x^{(i)}_j)$\n",
    "\n",
    "パラメータ全体を以下のように一度に更新することもできます。\n",
    "\n",
    "$\\theta := \\theta - \\frac{\\alpha}{m}X^T(g(X\\theta)-y)$\n",
    "\n",
    "入力が1特徴量（変数）の時は、バイアス項に対するパラメータを$\\theta_0$、入力変数に対するパラメータを$\\theta_1$としてパラメータは以下の様に更新されます。\n",
    "\n",
    "$\\theta_0 := \\theta_0 - \\frac{\\alpha}{m}\\Sigma_{i=1}^m (h(x^{(i)})-y^{(i)})$ \n",
    "\n",
    "$\\theta_1 := \\theta_1 - \\frac{\\alpha}{m}\\Sigma_{i=1}^m ((h(x^{(i)})-y^{(i)})x^{(i)})$\n",
    "\n",
    "具体的に、`graddes_logit`関数では以下の手順によりパラメータの学習を行います。\n",
    "\n",
    "- 引数`n_iter`で指定されたエポックの回数だけ以下を繰り返す    \n",
    "\n",
    "     - すべてのm個のデータについて以下を求める\n",
    "        \n",
    "        - 入力データ$x^{(i)}$について仮説関数$h(x^{(i)})$の値を求める\n",
    "        \n",
    "        - 出力$y^{(i)}$との誤差$h(x^{(i)})-y^{(i)}$の値を求める\n",
    "    \n",
    " - すべてのm個のデータの誤差を用いてコスト関数$ J(\\theta)$の値を求め、各エポックのコスト関数の値を要素とするリスト`costs`に追加\n",
    " \n",
    " - すべてのm個のデータの誤差を用いて各パラメータ$\\theta_j (j=0,..,n-1)$を更新し、パラメータの値を要素とする配列`w`を更新\n",
    "      - `w[0,0]`$:=$($x_0$に対するパラメータ$\\theta_0$), \n",
    "      - ...,\n",
    "      - `w[n-1,0]`$:=$($x_{n-1}$に対するパラメータ$\\theta_{n-1}$)\n",
    "        \n",
    "\n",
    " \n",
    " すべての繰り返しが終了したらリスト`costs`と配列`w`を返す。\n",
    " \n",
    " 上記に従って、`graddes_logit`関数を完成させてください。"
   ]
  },
  {
   "cell_type": "code",
   "execution_count": 44,
   "metadata": {},
   "outputs": [
    {
     "name": "stdout",
     "output_type": "stream",
     "text": [
      "[38 71]\n"
     ]
    },
    {
     "data": {
      "text/plain": [
       "array([38, 71])"
      ]
     },
     "execution_count": 44,
     "metadata": {},
     "output_type": "execute_result"
    }
   ],
   "source": [
    "x = np.array([[2, 3, 4], [4, 6 ,7]])#m2, n3\n",
    "w = np.array([3, 4, 5]).T #n3\n",
    "print(np.dot(x, w)) #ok\n",
    "#np.dot(x.T, w)\n",
    "#np.dot(x, w.T)\n",
    "#np.dot(w, x)\n",
    "#np.dot(w.T, x)\n",
    "np.dot(w, x.T)"
   ]
  },
  {
   "cell_type": "code",
   "execution_count": null,
   "metadata": {},
   "outputs": [],
   "source": [
    "def hypothesis(self):\n",
    "        return np.matmul(self.data.X, self.theta)\n",
    "\n",
    "def compute_J(self):\n",
    "    h = self.hypothesis()\n",
    "    self.J = 0.5 * np.mean((h - self.data.y)**2)\n",
    "\n",
    "    return self.J"
   ]
  },
  {
   "cell_type": "code",
   "execution_count": 45,
   "metadata": {},
   "outputs": [],
   "source": [
    "import math\n",
    "eps = np.finfo(float).eps\n",
    "\n",
    "def g(w, x):\n",
    "    #x = np.insert(x, 0, 1, axis=1)\n",
    "    return 1/(1+np.exp(-np.dot(x, w)))\n",
    "\n",
    "def h(x):\n",
    "    return g(w, x)\n",
    "\n",
    "#ロジスティック回帰のコスト関数\n",
    "def j(w):\n",
    "    m_j = 0\n",
    "    m = X.shape[0] # データ数\n",
    "    for i in range(0, m):\n",
    "        if y[i]==0:\n",
    "            m_j += (1-float(y[i]))*math.log(1-h(x[i][:]))\n",
    "        elif y[i]==1:\n",
    "            m_j += float(y[i])*math.log(h(x[i][:]))\n",
    "    return -1/m * m_j\n",
    "\n",
    "def update_para(w):\n",
    "    return w - (alpha / m * np.dot(X, (g(X, w) - y)))\n",
    "\n",
    "def graddes_logit(X, y, alpha, n_iter):  \n",
    "    m = X.shape[0] # データ数\n",
    "    #n =  X.shape[1] # 次元（特徴量）数\n",
    "    \n",
    "    costs=[] # エポックごとのコスト関数の値を入れるリスト\n",
    "    w = np.zeros((n,1)) #  バイアスと各特徴量に対するパラメータ（重み）の初期化\n",
    "    \n",
    "    for k in range(n_iter):\n",
    "        costs.append(j(w))\n",
    "        w = update_para(w)\n",
    "\n",
    "        ### コスト関数の計算とパラメータの更新をするコード ###\n",
    "            # 課題8のgraddes関数と手続きは同じです\n",
    "            # ロジスティック回帰では仮説関数h(x)がシグモイド関数になっていることに注意してください\n",
    "            # ロジスティック回帰のコスト関数にすることに注意してください\n",
    "        \n",
    "    return costs, w"
   ]
  },
  {
   "cell_type": "markdown",
   "metadata": {},
   "source": [
    "`graddes_logit`関数が完成したら以下のセルを実行して動作を確認してください。`graddes_logit`関数に訓練データセットを与え、学習率を0.1、学習のエポック数を100とした時の各エポックごとのコスト関数の値を示しています。パラメータの学習が進むにつれてコスト関数の値が減少していくことがわかります。この時の最終的なコスト関数の値は$\\simeq 0.199$となります。"
   ]
  },
  {
   "cell_type": "code",
   "execution_count": 46,
   "metadata": {},
   "outputs": [
    {
     "ename": "IndexError",
     "evalue": "index 2 is out of bounds for axis 0 with size 2",
     "output_type": "error",
     "traceback": [
      "\u001b[0;31m---------------------------------------------------------------------------\u001b[0m",
      "\u001b[0;31mIndexError\u001b[0m                                Traceback (most recent call last)",
      "\u001b[0;32m<ipython-input-46-2d42040ea9bf>\u001b[0m in \u001b[0;36m<module>\u001b[0;34m\u001b[0m\n\u001b[1;32m      1\u001b[0m \u001b[0ma\u001b[0m\u001b[0;34m=\u001b[0m\u001b[0;36m0.1\u001b[0m \u001b[0;31m# 学習率\u001b[0m\u001b[0;34m\u001b[0m\u001b[0;34m\u001b[0m\u001b[0m\n\u001b[1;32m      2\u001b[0m \u001b[0mn\u001b[0m\u001b[0;34m=\u001b[0m\u001b[0;36m100\u001b[0m \u001b[0;31m# 繰り返し回数\u001b[0m\u001b[0;34m\u001b[0m\u001b[0;34m\u001b[0m\u001b[0m\n\u001b[0;32m----> 3\u001b[0;31m \u001b[0mcosts\u001b[0m\u001b[0;34m,\u001b[0m \u001b[0mw\u001b[0m \u001b[0;34m=\u001b[0m \u001b[0mgraddes_logit\u001b[0m\u001b[0;34m(\u001b[0m\u001b[0mX_norm\u001b[0m\u001b[0;34m,\u001b[0m \u001b[0my\u001b[0m\u001b[0;34m,\u001b[0m \u001b[0ma\u001b[0m\u001b[0;34m,\u001b[0m \u001b[0mn\u001b[0m\u001b[0;34m)\u001b[0m\u001b[0;34m\u001b[0m\u001b[0;34m\u001b[0m\u001b[0m\n\u001b[0m\u001b[1;32m      4\u001b[0m \u001b[0mprint\u001b[0m\u001b[0;34m(\u001b[0m\u001b[0mcosts\u001b[0m\u001b[0;34m[\u001b[0m\u001b[0;34m-\u001b[0m\u001b[0;36m1\u001b[0m\u001b[0;34m]\u001b[0m\u001b[0;34m)\u001b[0m\u001b[0;34m\u001b[0m\u001b[0;34m\u001b[0m\u001b[0m\n\u001b[1;32m      5\u001b[0m \u001b[0mprint\u001b[0m\u001b[0;34m(\u001b[0m\u001b[0mw\u001b[0m\u001b[0;34m)\u001b[0m\u001b[0;34m\u001b[0m\u001b[0;34m\u001b[0m\u001b[0m\n",
      "\u001b[0;32m<ipython-input-45-51e20462d962>\u001b[0m in \u001b[0;36mgraddes_logit\u001b[0;34m(X, y, alpha, n_iter)\u001b[0m\n\u001b[1;32m     33\u001b[0m \u001b[0;34m\u001b[0m\u001b[0m\n\u001b[1;32m     34\u001b[0m     \u001b[0;32mfor\u001b[0m \u001b[0mk\u001b[0m \u001b[0;32min\u001b[0m \u001b[0mrange\u001b[0m\u001b[0;34m(\u001b[0m\u001b[0mn_iter\u001b[0m\u001b[0;34m)\u001b[0m\u001b[0;34m:\u001b[0m\u001b[0;34m\u001b[0m\u001b[0;34m\u001b[0m\u001b[0m\n\u001b[0;32m---> 35\u001b[0;31m         \u001b[0mcosts\u001b[0m\u001b[0;34m.\u001b[0m\u001b[0mappend\u001b[0m\u001b[0;34m(\u001b[0m\u001b[0mj\u001b[0m\u001b[0;34m(\u001b[0m\u001b[0mw\u001b[0m\u001b[0;34m)\u001b[0m\u001b[0;34m)\u001b[0m\u001b[0;34m\u001b[0m\u001b[0;34m\u001b[0m\u001b[0m\n\u001b[0m\u001b[1;32m     36\u001b[0m         \u001b[0mw\u001b[0m \u001b[0;34m=\u001b[0m \u001b[0mupdate_para\u001b[0m\u001b[0;34m(\u001b[0m\u001b[0mw\u001b[0m\u001b[0;34m)\u001b[0m\u001b[0;34m\u001b[0m\u001b[0;34m\u001b[0m\u001b[0m\n\u001b[1;32m     37\u001b[0m \u001b[0;34m\u001b[0m\u001b[0m\n",
      "\u001b[0;32m<ipython-input-45-51e20462d962>\u001b[0m in \u001b[0;36mj\u001b[0;34m(w)\u001b[0m\n\u001b[1;32m     15\u001b[0m     \u001b[0;32mfor\u001b[0m \u001b[0mi\u001b[0m \u001b[0;32min\u001b[0m \u001b[0mrange\u001b[0m\u001b[0;34m(\u001b[0m\u001b[0;36m0\u001b[0m\u001b[0;34m,\u001b[0m \u001b[0mm\u001b[0m\u001b[0;34m)\u001b[0m\u001b[0;34m:\u001b[0m\u001b[0;34m\u001b[0m\u001b[0;34m\u001b[0m\u001b[0m\n\u001b[1;32m     16\u001b[0m         \u001b[0;32mif\u001b[0m \u001b[0my\u001b[0m\u001b[0;34m[\u001b[0m\u001b[0mi\u001b[0m\u001b[0;34m]\u001b[0m\u001b[0;34m==\u001b[0m\u001b[0;36m0\u001b[0m\u001b[0;34m:\u001b[0m\u001b[0;34m\u001b[0m\u001b[0;34m\u001b[0m\u001b[0m\n\u001b[0;32m---> 17\u001b[0;31m             \u001b[0;32mif\u001b[0m \u001b[0mh\u001b[0m\u001b[0;34m(\u001b[0m\u001b[0mx\u001b[0m\u001b[0;34m[\u001b[0m\u001b[0mi\u001b[0m\u001b[0;34m]\u001b[0m\u001b[0;34m[\u001b[0m\u001b[0;34m:\u001b[0m\u001b[0;34m]\u001b[0m\u001b[0;34m)\u001b[0m\u001b[0;34m!=\u001b[0m\u001b[0;36m1\u001b[0m\u001b[0;34m:\u001b[0m\u001b[0;34m\u001b[0m\u001b[0;34m\u001b[0m\u001b[0m\n\u001b[0m\u001b[1;32m     18\u001b[0m                 \u001b[0mm_j\u001b[0m \u001b[0;34m+=\u001b[0m \u001b[0;34m(\u001b[0m\u001b[0;36m1\u001b[0m\u001b[0;34m-\u001b[0m\u001b[0mfloat\u001b[0m\u001b[0;34m(\u001b[0m\u001b[0my\u001b[0m\u001b[0;34m[\u001b[0m\u001b[0mi\u001b[0m\u001b[0;34m]\u001b[0m\u001b[0;34m)\u001b[0m\u001b[0;34m)\u001b[0m\u001b[0;34m*\u001b[0m\u001b[0mmath\u001b[0m\u001b[0;34m.\u001b[0m\u001b[0mlog\u001b[0m\u001b[0;34m(\u001b[0m\u001b[0;36m1\u001b[0m\u001b[0;34m-\u001b[0m\u001b[0mh\u001b[0m\u001b[0;34m(\u001b[0m\u001b[0mx\u001b[0m\u001b[0;34m[\u001b[0m\u001b[0mi\u001b[0m\u001b[0;34m]\u001b[0m\u001b[0;34m[\u001b[0m\u001b[0;34m:\u001b[0m\u001b[0;34m]\u001b[0m\u001b[0;34m)\u001b[0m\u001b[0;34m)\u001b[0m\u001b[0;34m\u001b[0m\u001b[0;34m\u001b[0m\u001b[0m\n\u001b[1;32m     19\u001b[0m         \u001b[0;32melif\u001b[0m \u001b[0my\u001b[0m\u001b[0;34m[\u001b[0m\u001b[0mi\u001b[0m\u001b[0;34m]\u001b[0m\u001b[0;34m==\u001b[0m\u001b[0;36m1\u001b[0m\u001b[0;34m:\u001b[0m\u001b[0;34m\u001b[0m\u001b[0;34m\u001b[0m\u001b[0m\n",
      "\u001b[0;31mIndexError\u001b[0m: index 2 is out of bounds for axis 0 with size 2"
     ]
    }
   ],
   "source": [
    "a=0.1 # 学習率\n",
    "n=100 # 繰り返し回数\n",
    "costs, w = graddes_logit(X_norm, y, a, n)\n",
    "print(costs[-1])\n",
    "print(w)\n",
    "plt.figure(figsize=(7,5))\n",
    "plt.plot(range(1,n+1),costs) # 繰り返しとコスト関数のプロット\n",
    "plt.ylabel('Cost')\n",
    "plt.xlabel('Iteration');"
   ]
  },
  {
   "cell_type": "markdown",
   "metadata": {},
   "source": [
    "学習されたパラメータを元に、2つの特徴量、`petal_length`と`petal_width`、から2つの花の種類、`versicolor`か`virginica`、を分類するための決定境界を可視化してみます。"
   ]
  },
  {
   "cell_type": "code",
   "execution_count": null,
   "metadata": {},
   "outputs": [],
   "source": [
    "plt.figure(figsize=(7,5))\n",
    "x1=np.arange(X_norm[:,1].min(),X_norm[:,1].max(),0.1)\n",
    "plt.plot(x1, -(w[1,0]*x1+w[0,0])/w[2,0])\n",
    "plt.xlabel('petal_length')\n",
    "plt.ylabel('petal_width')\n",
    "plt.scatter(X_norm[:,1], X_norm[:,2],c=y_label);"
   ]
  },
  {
   "cell_type": "markdown",
   "metadata": {},
   "source": [
    "2つの特徴量、`petal_length`($x_1$)と`petal_width`($x_2$)に対する、仮説関数$y=\\frac{1}{1+e^{-(\\theta_0+\\theta_1x_1+\\theta_2x_2)}}$（ロジスティック関数）は以下のようになります。以下の曲面で$y=0.5$となるところが上記の決定境界になっています。"
   ]
  },
  {
   "cell_type": "code",
   "execution_count": 47,
   "metadata": {},
   "outputs": [
    {
     "ename": "IndexError",
     "evalue": "too many indices for array",
     "output_type": "error",
     "traceback": [
      "\u001b[0;31m---------------------------------------------------------------------------\u001b[0m",
      "\u001b[0;31mIndexError\u001b[0m                                Traceback (most recent call last)",
      "\u001b[0;32m<ipython-input-47-a014661b0f12>\u001b[0m in \u001b[0;36m<module>\u001b[0;34m\u001b[0m\n\u001b[1;32m      2\u001b[0m \u001b[0;34m\u001b[0m\u001b[0m\n\u001b[1;32m      3\u001b[0m \u001b[0mX1\u001b[0m\u001b[0;34m,\u001b[0m \u001b[0mX2\u001b[0m \u001b[0;34m=\u001b[0m \u001b[0mnp\u001b[0m\u001b[0;34m.\u001b[0m\u001b[0mmeshgrid\u001b[0m\u001b[0;34m(\u001b[0m\u001b[0mnp\u001b[0m\u001b[0;34m.\u001b[0m\u001b[0marange\u001b[0m\u001b[0;34m(\u001b[0m\u001b[0;34m-\u001b[0m\u001b[0;36m2.0\u001b[0m\u001b[0;34m,\u001b[0m \u001b[0;36m2.0\u001b[0m\u001b[0;34m,\u001b[0m \u001b[0;36m0.1\u001b[0m\u001b[0;34m)\u001b[0m\u001b[0;34m,\u001b[0m \u001b[0mnp\u001b[0m\u001b[0;34m.\u001b[0m\u001b[0marange\u001b[0m\u001b[0;34m(\u001b[0m\u001b[0;34m-\u001b[0m\u001b[0;36m2.0\u001b[0m\u001b[0;34m,\u001b[0m \u001b[0;36m2.0\u001b[0m\u001b[0;34m,\u001b[0m \u001b[0;36m0.1\u001b[0m\u001b[0;34m)\u001b[0m\u001b[0;34m)\u001b[0m\u001b[0;34m\u001b[0m\u001b[0;34m\u001b[0m\u001b[0m\n\u001b[0;32m----> 4\u001b[0;31m \u001b[0mZ\u001b[0m \u001b[0;34m=\u001b[0m \u001b[0msigmoid\u001b[0m\u001b[0;34m(\u001b[0m\u001b[0mw\u001b[0m\u001b[0;34m[\u001b[0m\u001b[0;36m0\u001b[0m\u001b[0;34m,\u001b[0m\u001b[0;36m0\u001b[0m\u001b[0;34m]\u001b[0m\u001b[0;34m+\u001b[0m\u001b[0mw\u001b[0m\u001b[0;34m[\u001b[0m\u001b[0;36m1\u001b[0m\u001b[0;34m,\u001b[0m\u001b[0;36m0\u001b[0m\u001b[0;34m]\u001b[0m\u001b[0;34m*\u001b[0m\u001b[0mX1\u001b[0m\u001b[0;34m+\u001b[0m \u001b[0mw\u001b[0m\u001b[0;34m[\u001b[0m\u001b[0;36m2\u001b[0m\u001b[0;34m,\u001b[0m\u001b[0;36m0\u001b[0m\u001b[0;34m]\u001b[0m\u001b[0;34m*\u001b[0m\u001b[0mX2\u001b[0m\u001b[0;34m)\u001b[0m\u001b[0;34m\u001b[0m\u001b[0;34m\u001b[0m\u001b[0m\n\u001b[0m\u001b[1;32m      5\u001b[0m \u001b[0;34m\u001b[0m\u001b[0m\n\u001b[1;32m      6\u001b[0m \u001b[0mfig\u001b[0m \u001b[0;34m=\u001b[0m \u001b[0mplt\u001b[0m\u001b[0;34m.\u001b[0m\u001b[0mfigure\u001b[0m\u001b[0;34m(\u001b[0m\u001b[0mfigsize\u001b[0m\u001b[0;34m=\u001b[0m\u001b[0;34m(\u001b[0m\u001b[0;36m10\u001b[0m\u001b[0;34m,\u001b[0m\u001b[0;36m7\u001b[0m\u001b[0;34m)\u001b[0m\u001b[0;34m)\u001b[0m\u001b[0;34m\u001b[0m\u001b[0;34m\u001b[0m\u001b[0m\n",
      "\u001b[0;31mIndexError\u001b[0m: too many indices for array"
     ]
    }
   ],
   "source": [
    "from mpl_toolkits.mplot3d import Axes3D\n",
    "\n",
    "X1, X2 = np.meshgrid(np.arange(-2.0, 2.0, 0.1), np.arange(-2.0, 2.0, 0.1))\n",
    "Z = sigmoid(w[0,0]+w[1,0]*X1+ w[2,0]*X2)\n",
    "\n",
    "fig = plt.figure(figsize=(10,7))\n",
    "ax = fig.add_subplot(111, projection=\"3d\")\n",
    "ax.set_xlabel(\"petal_length\")\n",
    "ax.set_ylabel(\"petal_widht\")\n",
    "ax.plot_wireframe(X1, X2, Z);"
   ]
  },
  {
   "cell_type": "markdown",
   "metadata": {},
   "source": [
    "## Q3\n",
    "以下のような形式の\"SSDSE.csv\"ファイルを読み込みます。\n",
    "\n",
    "```Python\n",
    "## SSDSE.csvファイル\n",
    "code, prefecture, municipality, A1101,\tA110101, A110102, ..., A4101\n",
    "地域コード, 都道府県, 市区町村, 人口総数, 人口総数（男）, 人口総数（女）, ..., 出生数\n",
    "R01100, 北海道, 札幌市, 1952356, 910614, 1041742, ..., 14021\n",
    "R01202, 北海道, 函館市, 265979, 120376, 145603, ..., 1532\n",
    "R01203, 北海道, 小樽市, 121924, 54985, 66939, ..., 512\n",
    "...\n",
    "```\n",
    "\n",
    "`pandas`モジュールでは、\"SSDES.csv\"ファイルから以下のようにデータフレーム`df`を作成できます。この時、csvファイルの2行目（日本語ヘッダ）は`skiprows=[1]`で読み飛ばしています。\n",
    "```Python\n",
    "df = pd.read_csv('SSDSE.csv',  skiprows=[1])\n",
    "```\n",
    "\n",
    "北海道と東京都の各市区町村（札幌市を除く）を人口総数（A1101）と面積（B1101）で散布図により可視化すると以下のようになります。"
   ]
  },
  {
   "cell_type": "code",
   "execution_count": 48,
   "metadata": {},
   "outputs": [
    {
     "data": {
      "image/png": "[encoded data removed]",
      "text/plain": [
       "<Figure size 504x360 with 1 Axes>"
      ]
     },
     "metadata": {
      "needs_background": "light"
     },
     "output_type": "display_data"
    }
   ],
   "source": [
    "df = pd.read_csv('SSDSE.csv', skiprows=[1])\n",
    "df=df[((df['prefecture']=='北海道') & (df['municipality'] !='札幌市'))|(df['prefecture']=='東京都')]\n",
    "df.loc[df['prefecture'] == '北海道', 'prefecture'] = 1 # 北海道の市区町村ラベルを1\n",
    "df.loc[df['prefecture'] == '東京都', 'prefecture'] = 0 # 東京都の市区町村ラベルを0\n",
    "plt.figure(figsize=(7,5))\n",
    "plt.xlabel('population')\n",
    "plt.ylabel('land area')\n",
    "plt.scatter(df['A1101'], df['B1101'],c=df['prefecture']);"
   ]
  },
  {
   "cell_type": "markdown",
   "metadata": {},
   "source": [
    "上記のQ2で行ったロジスティック回帰のパラメータ推定を参考に、市区長村の人口総数$x_1$と面積$x_2$からその市区町村が北海道（1）か東京都（0）かを予測するような仮説関数$y=\\frac{1}{1+e^{-(\\theta_0+\\theta_1x_1+\\theta_2x_2)}}$のパラメータ$\\theta_0, \\theta_1, \\theta_2$を学習し、学習されたパラメータを元に決定境界を可視化してください。"
   ]
  },
  {
   "cell_type": "code",
   "execution_count": 49,
   "metadata": {},
   "outputs": [
    {
     "data": {
      "text/plain": [
       "array([[ 1.00000000e+00,  1.35135853e+00,  1.10465871e+00],\n",
       "       [ 1.00000000e+00,  3.54973845e-01, -2.77194404e-01],\n",
       "       [ 1.00000000e+00,  1.86060721e+00,  1.32684912e+00],\n",
       "       [ 1.00000000e+00,  1.24232857e-01, -7.95978305e-01],\n",
       "       [ 1.00000000e+00,  7.20299908e-01,  3.28558866e+00],\n",
       "       [ 1.00000000e+00,  6.82845998e-01,  9.18316750e-01],\n",
       "       [ 1.00000000e+00,  3.50145991e-01,  3.49096914e+00],\n",
       "       [ 1.00000000e+00, -4.27173087e-01,  1.37590994e+00],\n",
       "       [ 1.00000000e+00,  9.61164865e-02,  4.77947378e-01],\n",
       "       [ 1.00000000e+00, -2.18053692e-01,  4.46046705e-01],\n",
       "       [ 1.00000000e+00, -3.34641524e-01, -1.05274609e-01],\n",
       "       [ 1.00000000e+00,  7.06431932e-01,  7.34394406e-01],\n",
       "       [ 1.00000000e+00, -2.36708022e-01,  1.37081602e+00],\n",
       "       [ 1.00000000e+00, -3.29011333e-01, -1.69394325e-01],\n",
       "       [ 1.00000000e+00, -3.86827998e-01,  1.70055182e+00],\n",
       "       [ 1.00000000e+00,  3.46065140e-01, -4.56914264e-01],\n",
       "       [ 1.00000000e+00, -4.11527520e-01, -6.39977009e-01],\n",
       "       [ 1.00000000e+00, -3.28499498e-01,  1.59125540e+00],\n",
       "       [ 1.00000000e+00, -3.50598343e-01,  2.50978466e+00],\n",
       "       [ 1.00000000e+00, -2.87421239e-01,  6.50440239e-01],\n",
       "       [ 1.00000000e+00, -4.25561497e-01, -9.03430565e-02],\n",
       "       [ 1.00000000e+00, -3.02160719e-01,  2.56330027e-01],\n",
       "       [ 1.00000000e+00,  1.73230733e-01,  8.39233644e-01],\n",
       "       [ 1.00000000e+00, -2.03424879e-01, -6.84485134e-01],\n",
       "       [ 1.00000000e+00, -3.65953408e-01, -8.02982445e-01],\n",
       "       [ 1.00000000e+00, -4.63541076e-01, -8.75347944e-01],\n",
       "       [ 1.00000000e+00, -3.36799533e-01,  6.32038453e-01],\n",
       "       [ 1.00000000e+00, -3.29696086e-01,  8.59004420e-01],\n",
       "       [ 1.00000000e+00, -1.45096379e-01, -3.77862995e-01],\n",
       "       [ 1.00000000e+00, -6.22986834e-03, -1.15398775e-01],\n",
       "       [ 1.00000000e+00, -2.46287646e-01,  3.60755384e-01],\n",
       "       [ 1.00000000e+00, -7.98096833e-02, -6.74456479e-01],\n",
       "       [ 1.00000000e+00, -9.10700649e-02,  1.24649254e+00],\n",
       "       [ 1.00000000e+00, -1.67471892e-01,  2.11853739e-01],\n",
       "       [ 1.00000000e+00, -3.68830754e-01,  2.92783391e-01],\n",
       "       [ 1.00000000e+00, -4.65311750e-01, -8.05020013e-01],\n",
       "       [ 1.00000000e+00, -4.37589632e-01, -1.19855955e-01],\n",
       "       [ 1.00000000e+00, -4.57751801e-01, -4.57232634e-01],\n",
       "       [ 1.00000000e+00, -4.56154044e-01, -4.27082996e-01],\n",
       "       [ 1.00000000e+00, -4.56887214e-01, -3.47108454e-01],\n",
       "       [ 1.00000000e+00, -2.93839933e-01, -3.63408998e-01],\n",
       "       [ 1.00000000e+00, -4.59107474e-01, -7.01263232e-01],\n",
       "       [ 1.00000000e+00, -3.78043793e-01,  1.20640737e-01],\n",
       "       [ 1.00000000e+00, -3.69010588e-01,  1.99039586e+00],\n",
       "       [ 1.00000000e+00, -4.47349090e-01, -6.41093692e-02],\n",
       "       [ 1.00000000e+00, -4.31288521e-01, -7.04765302e-01],\n",
       "       [ 1.00000000e+00, -4.54611621e-01,  6.90268325e-01],\n",
       "       [ 1.00000000e+00, -4.60331729e-01,  4.12872552e-01],\n",
       "       [ 1.00000000e+00, -4.61320817e-01, -5.35838185e-01],\n",
       "       [ 1.00000000e+00, -4.69731519e-01, -5.98302377e-01],\n",
       "       [ 1.00000000e+00, -4.49410266e-01,  7.55661521e-01],\n",
       "       [ 1.00000000e+00, -4.29732265e-01,  9.79889506e-01],\n",
       "       [ 1.00000000e+00, -4.77969304e-01,  3.38373974e-01],\n",
       "       [ 1.00000000e+00, -4.66639756e-01, -7.50228537e-01],\n",
       "       [ 1.00000000e+00, -4.67020174e-01,  4.69699207e-02],\n",
       "       [ 1.00000000e+00, -4.54839872e-01,  3.78488593e-01],\n",
       "       [ 1.00000000e+00, -4.54044452e-01, -4.25873190e-01],\n",
       "       [ 1.00000000e+00, -4.73791620e-01, -6.89738239e-01],\n",
       "       [ 1.00000000e+00, -4.75147292e-01, -6.71941356e-01],\n",
       "       [ 1.00000000e+00, -4.72470531e-01, -4.50451353e-01],\n",
       "       [ 1.00000000e+00, -4.66293921e-01, -3.16481261e-01],\n",
       "       [ 1.00000000e+00, -3.84462487e-01, -2.21447819e-01],\n",
       "       [ 1.00000000e+00, -4.45287915e-01, -8.27340137e-02],\n",
       "       [ 1.00000000e+00, -3.98129879e-01, -8.28706740e-01],\n",
       "       [ 1.00000000e+00, -4.76087963e-01, -7.91521125e-01],\n",
       "       [ 1.00000000e+00, -4.81393069e-01, -5.82925107e-01],\n",
       "       [ 1.00000000e+00, -4.73708620e-01, -2.95309657e-01],\n",
       "       [ 1.00000000e+00, -4.66287004e-01, -4.53794238e-01],\n",
       "       [ 1.00000000e+00, -4.64142829e-01, -5.18741717e-01],\n",
       "       [ 1.00000000e+00, -3.52721768e-01, -6.05879583e-01],\n",
       "       [ 1.00000000e+00, -4.80583816e-01, -1.61753445e-01],\n",
       "       [ 1.00000000e+00, -4.33508781e-01, -7.94450129e-01],\n",
       "       [ 1.00000000e+00, -4.49092097e-01, -7.72705458e-01],\n",
       "       [ 1.00000000e+00, -4.64274246e-01, -9.26191631e-01],\n",
       "       [ 1.00000000e+00, -4.51582108e-01, -6.27687928e-01],\n",
       "       [ 1.00000000e+00, -4.11728104e-01, -5.16958845e-01],\n",
       "       [ 1.00000000e+00, -4.02957733e-01, -4.04224031e-01],\n",
       "       [ 1.00000000e+00, -4.56679713e-01, -5.74647487e-01],\n",
       "       [ 1.00000000e+00, -4.74607790e-01, -7.29279792e-01],\n",
       "       [ 1.00000000e+00, -4.41089480e-01,  5.23951841e-01],\n",
       "       [ 1.00000000e+00, -4.66957924e-01, -8.98620790e-01],\n",
       "       [ 1.00000000e+00, -4.70955774e-01, -9.03268992e-01],\n",
       "       [ 1.00000000e+00, -4.69323434e-01, -4.44911716e-01],\n",
       "       [ 1.00000000e+00, -4.74635457e-01, -5.48222778e-01],\n",
       "       [ 1.00000000e+00, -4.66335421e-01, -1.51374584e-01],\n",
       "       [ 1.00000000e+00, -4.39796058e-01, -6.09604512e-01],\n",
       "       [ 1.00000000e+00, -4.17558879e-01, -8.35392510e-01],\n",
       "       [ 1.00000000e+00, -4.42071651e-01, -4.01135842e-01],\n",
       "       [ 1.00000000e+00, -4.62213070e-01, -7.76812431e-01],\n",
       "       [ 1.00000000e+00, -4.67753344e-01, -2.57137095e-01],\n",
       "       [ 1.00000000e+00, -4.60366312e-01,  2.28772159e+00],\n",
       "       [ 1.00000000e+00, -4.32236109e-01, -2.66146966e-01],\n",
       "       [ 1.00000000e+00, -4.17150794e-01,  1.10118847e+00],\n",
       "       [ 1.00000000e+00, -4.13457278e-01, -2.98620705e-01],\n",
       "       [ 1.00000000e+00, -4.53276699e-01, -7.07566958e-01],\n",
       "       [ 1.00000000e+00, -4.70665273e-01,  1.06540369e+00],\n",
       "       [ 1.00000000e+00, -4.79961313e-01,  7.65722013e-01],\n",
       "       [ 1.00000000e+00, -4.63464992e-01, -3.36793267e-01],\n",
       "       [ 1.00000000e+00, -4.66010337e-01, -6.36443102e-01],\n",
       "       [ 1.00000000e+00, -4.63803910e-01,  9.97463529e-01],\n",
       "       [ 1.00000000e+00, -4.56112544e-01,  1.08625692e+00],\n",
       "       [ 1.00000000e+00, -4.82582741e-01, -1.75952747e-01],\n",
       "       [ 1.00000000e+00, -4.76115630e-01,  8.39997732e-01],\n",
       "       [ 1.00000000e+00, -4.77789470e-01,  1.38854923e+00],\n",
       "       [ 1.00000000e+00, -4.57233049e-01,  1.23569741e-01],\n",
       "       [ 1.00000000e+00, -4.65263333e-01,  9.43404305e-01],\n",
       "       [ 1.00000000e+00, -4.65754419e-01,  3.93834026e-01],\n",
       "       [ 1.00000000e+00, -4.37658799e-01,  4.51299809e-01],\n",
       "       [ 1.00000000e+00, -4.79919813e-01, -1.63599991e-01],\n",
       "       [ 1.00000000e+00, -4.68929182e-01,  8.27453954e-01],\n",
       "       [ 1.00000000e+00, -4.65906586e-01,  7.21529870e-02],\n",
       "       [ 1.00000000e+00, -4.69773019e-01,  8.24811483e-01],\n",
       "       [ 1.00000000e+00, -4.61493734e-01,  2.25225279e-01],\n",
       "       [ 1.00000000e+00, -4.76184797e-01,  2.15260298e-01],\n",
       "       [ 1.00000000e+00, -4.29981266e-01,  2.49931029e+00],\n",
       "       [ 1.00000000e+00, -4.60297145e-01,  6.04244753e-01],\n",
       "       [ 1.00000000e+00, -4.69157433e-01, -7.93558693e-01],\n",
       "       [ 1.00000000e+00, -4.72408281e-01, -8.09891073e-01],\n",
       "       [ 1.00000000e+00, -4.69060600e-01, -7.17245406e-01],\n",
       "       [ 1.00000000e+00, -4.71412276e-01,  7.74286166e-01],\n",
       "       [ 1.00000000e+00, -3.47956165e-01,  3.42289925e-01],\n",
       "       [ 1.00000000e+00, -4.53698617e-01,  1.22860014e+00],\n",
       "       [ 1.00000000e+00, -4.03739320e-01,  1.29329293e+00],\n",
       "       [ 1.00000000e+00, -4.59142057e-01,  2.28791023e-01],\n",
       "       [ 1.00000000e+00, -4.53166032e-01, -1.40104286e-01],\n",
       "       [ 1.00000000e+00, -4.53062281e-01, -4.45548456e-01],\n",
       "       [ 1.00000000e+00, -4.66951007e-01,  6.25193499e-01],\n",
       "       [ 1.00000000e+00, -4.51250107e-01,  2.35731488e-01],\n",
       "       [ 1.00000000e+00, -3.43965231e-01,  3.18864499e+00],\n",
       "       [ 1.00000000e+00, -4.24489409e-01,  5.56807625e-01],\n",
       "       [ 1.00000000e+00, -4.69517102e-01,  1.38807167e+00],\n",
       "       [ 1.00000000e+00, -4.61300066e-01,  1.00742612e-01],\n",
       "       [ 1.00000000e+00, -4.80618399e-01, -7.26416850e-02],\n",
       "       [ 1.00000000e+00, -4.57039382e-01,  9.74095172e-01],\n",
       "       [ 1.00000000e+00, -4.37430548e-01,  4.06343579e-02],\n",
       "       [ 1.00000000e+00, -4.58657888e-01, -3.09859165e-01],\n",
       "       [ 1.00000000e+00, -4.68126846e-01, -4.00785635e-01],\n",
       "       [ 1.00000000e+00, -3.65635240e-01,  3.01634077e-01],\n",
       "       [ 1.00000000e+00, -4.54874456e-01,  2.34680868e-01],\n",
       "       [ 1.00000000e+00, -4.24019073e-01, -4.77831173e-01],\n",
       "       [ 1.00000000e+00, -4.31980191e-01, -2.98429683e-01],\n",
       "       [ 1.00000000e+00, -4.28881511e-01,  1.21128082e+00],\n",
       "       [ 1.00000000e+00, -4.02722566e-01,  2.10510457e+00],\n",
       "       [ 1.00000000e+00, -4.51575191e-01,  1.31229961e+00],\n",
       "       [ 1.00000000e+00, -4.49659267e-01,  8.11567291e-01],\n",
       "       [ 1.00000000e+00, -3.97901628e-01,  1.15683955e+00],\n",
       "       [ 1.00000000e+00, -4.57087798e-01,  1.06345924e-01],\n",
       "       [ 1.00000000e+00, -4.54404120e-01, -1.49305179e-01],\n",
       "       [ 1.00000000e+00, -3.27655661e-01,  2.59997888e+00],\n",
       "       [ 1.00000000e+00, -1.78421022e-01,  4.30191879e-01],\n",
       "       [ 1.00000000e+00, -4.45924251e-01, -2.28292774e-01],\n",
       "       [ 1.00000000e+00, -4.55379374e-01,  1.15674404e+00],\n",
       "       [ 1.00000000e+00, -4.50005101e-01,  2.29173067e-01],\n",
       "       [ 1.00000000e+00, -4.44845246e-01,  2.33343952e+00],\n",
       "       [ 1.00000000e+00, -4.21944065e-01,  2.27167336e-01],\n",
       "       [ 1.00000000e+00, -3.60489218e-01,  5.82181713e-01],\n",
       "       [ 1.00000000e+00, -4.60905815e-01, -1.21989034e-01],\n",
       "       [ 1.00000000e+00, -4.66307755e-01, -4.90279439e-01],\n",
       "       [ 1.00000000e+00, -4.48649429e-01,  1.54340439e+00],\n",
       "       [ 1.00000000e+00, -4.39713057e-01,  8.45728392e-01],\n",
       "       [ 1.00000000e+00, -3.03246640e-01,  4.67186472e-01],\n",
       "       [ 1.00000000e+00, -4.40736728e-01,  1.30191836e-01],\n",
       "       [ 1.00000000e+00, -4.66328505e-01,  6.55247626e-01],\n",
       "       [ 1.00000000e+00, -4.37444381e-01,  1.94247879e-01],\n",
       "       [ 1.00000000e+00, -4.39989725e-01,  3.42930087e+00],\n",
       "       [ 1.00000000e+00, -4.71170192e-01,  8.85078922e-01],\n",
       "       [ 1.00000000e+00, -4.54314203e-01,  1.27014743e+00],\n",
       "       [ 1.00000000e+00, -3.51158595e-01, -2.49082334e-01],\n",
       "       [ 1.00000000e+00, -4.20705976e-01,  1.30010604e+00],\n",
       "       [ 1.00000000e+00, -4.46415336e-01,  2.95234840e-01],\n",
       "       [ 1.00000000e+00, -4.34788370e-01,  2.44658822e+00],\n",
       "       [ 1.00000000e+00, -4.34677702e-01,  1.41175840e+00],\n",
       "       [ 1.00000000e+00, -4.70810524e-01,  7.66963656e-01],\n",
       "       [ 1.00000000e+00, -4.32533527e-01,  1.40793796e+00],\n",
       "       [ 1.00000000e+00, -3.82698730e-01,  3.14782996e+00],\n",
       "       [ 1.00000000e+00, -3.23899895e-01,  1.12694460e+00],\n",
       "       [ 1.00000000e+00, -4.52080110e-01,  9.35317707e-01],\n",
       "       [ 1.00000000e+00, -4.50883522e-01,  2.12745175e-01],\n",
       "       [ 1.00000000e+00, -8.43608695e-02, -1.01635401e+00],\n",
       "       [ 1.00000000e+00,  4.88182498e-01, -1.02097038e+00],\n",
       "       [ 1.00000000e+00,  1.19437719e+00, -9.88623986e-01],\n",
       "       [ 1.00000000e+00,  1.81879578e+00, -9.95468941e-01],\n",
       "       [ 1.00000000e+00,  1.03142674e+00, -1.01753198e+00],\n",
       "       [ 1.00000000e+00,  8.81673349e-01, -1.02128875e+00],\n",
       "       [ 1.00000000e+00,  1.28423199e+00, -1.00963641e+00],\n",
       "       [ 1.00000000e+00,  2.95693123e+00, -9.25618565e-01],\n",
       "       [ 1.00000000e+00,  2.18742111e+00, -9.80760248e-01],\n",
       "       [ 1.00000000e+00,  1.43188962e+00, -1.00677108e+00],\n",
       "       [ 1.00000000e+00,  4.47150097e+00, -8.60066184e-01],\n",
       "       [ 1.00000000e+00,  5.75983248e+00, -8.68662174e-01],\n",
       "       [ 1.00000000e+00,  1.06468913e+00, -1.00537025e+00],\n",
       "       [ 1.00000000e+00,  1.78182604e+00, -1.00384207e+00],\n",
       "       [ 1.00000000e+00,  3.41265852e+00, -9.45039135e-01],\n",
       "       [ 1.00000000e+00,  1.52557627e+00, -1.01205602e+00],\n",
       "       [ 1.00000000e+00,  1.87078167e+00, -9.87859899e-01],\n",
       "       [ 1.00000000e+00,  9.79828186e-01, -1.02112956e+00],\n",
       "       [ 1.00000000e+00,  3.39826487e+00, -9.50897143e-01],\n",
       "       [ 1.00000000e+00,  4.50359444e+00, -9.00403662e-01],\n",
       "       [ 1.00000000e+00,  4.14669291e+00, -8.83943933e-01],\n",
       "       [ 1.00000000e+00,  2.57515727e+00, -9.42683197e-01],\n",
       "       [ 1.00000000e+00,  4.22399391e+00, -8.94609328e-01],\n",
       "       [ 1.00000000e+00,  3.50614458e+00, -4.60097964e-01],\n",
       "       [ 1.00000000e+00,  7.31041538e-01, -9.75921024e-01],\n",
       "       [ 1.00000000e+00,  5.12716020e-01, -1.01851893e+00],\n",
       "       [ 1.00000000e+00,  8.04642103e-01, -1.00119960e+00],\n",
       "       [ 1.00000000e+00,  4.61885219e-01, -7.24567916e-01],\n",
       "       [ 1.00000000e+00,  1.31189877e+00, -9.59779665e-01],\n",
       "       [ 1.00000000e+00,  2.83143954e-01, -9.98270597e-01],\n",
       "       [ 1.00000000e+00,  1.09600793e+00, -9.84771710e-01],\n",
       "       [ 1.00000000e+00,  2.50208237e+00, -8.24886300e-01],\n",
       "       [ 1.00000000e+00,  3.51321829e-01, -1.01750014e+00],\n",
       "       [ 1.00000000e+00,  8.25869444e-01, -9.88178269e-01],\n",
       "       [ 1.00000000e+00,  8.00125500e-01, -9.65765021e-01],\n",
       "       [ 1.00000000e+00,  5.48862675e-01, -9.98907337e-01],\n",
       "       [ 1.00000000e+00,  3.60631702e-01, -1.01699075e+00],\n",
       "       [ 1.00000000e+00,  2.11118320e-02, -1.02752880e+00],\n",
       "       [ 1.00000000e+00, -8.44369531e-02, -1.02112956e+00],\n",
       "       [ 1.00000000e+00,  6.67205273e-02, -1.03313211e+00],\n",
       "       [ 1.00000000e+00,  1.00667673e-01, -1.01075070e+00],\n",
       "       [ 1.00000000e+00,  2.94741178e-02, -1.02090670e+00],\n",
       "       [ 1.00000000e+00,  3.18370688e-01, -1.01246990e+00],\n",
       "       [ 1.00000000e+00,  4.33192688e-03, -1.00470167e+00],\n",
       "       [ 1.00000000e+00,  5.25864659e-01, -9.86586419e-01],\n",
       "       [ 1.00000000e+00,  1.17814163e-01, -9.96264866e-01],\n",
       "       [ 1.00000000e+00, -1.02157529e-01, -1.02195732e+00],\n",
       "       [ 1.00000000e+00,  7.15967982e-02, -8.19569521e-01],\n",
       "       [ 1.00000000e+00,  8.95084823e-01, -1.00333268e+00],\n",
       "       [ 1.00000000e+00, -2.57008525e-01, -9.99830610e-01],\n",
       "       [ 1.00000000e+00, -3.67668749e-01, -9.64109497e-01],\n",
       "       [ 1.00000000e+00, -4.73058450e-01, -7.17882146e-01],\n",
       "       [ 1.00000000e+00, -4.52135444e-01, -3.35456113e-01],\n",
       "       [ 1.00000000e+00, -4.33806199e-01, -7.64523350e-01],\n",
       "       [ 1.00000000e+00, -4.86006506e-01, -1.04035911e+00],\n",
       "       [ 1.00000000e+00, -4.69323434e-01, -9.65796858e-01],\n",
       "       [ 1.00000000e+00, -4.75257960e-01, -9.94322809e-01],\n",
       "       [ 1.00000000e+00, -4.71170192e-01, -8.77544697e-01],\n",
       "       [ 1.00000000e+00, -4.86020339e-01, -9.88082758e-01],\n",
       "       [ 1.00000000e+00, -4.35680623e-01, -8.23517309e-01],\n",
       "       [ 1.00000000e+00, -4.87106260e-01, -1.03450110e+00],\n",
       "       [ 1.00000000e+00, -4.67435176e-01, -7.21256868e-01]])"
      ]
     },
     "execution_count": 49,
     "metadata": {},
     "output_type": "execute_result"
    }
   ],
   "source": [
    "X=df[['A1101','B1101']].values # 入力: 人口総数と面積\n",
    "y=df[['prefecture']].values # 出力: 北海道の市区町村（1）か東京都の市区町村（0）\n",
    "\n",
    "X_norm=(X-np.mean(X, axis=0))/np.std(X, axis=0) # 標準化\n",
    "X_norm=np.insert(X_norm, 0, np.ones((1,X.shape[0]), dtype=int), axis=1) # バイアス項の追加\n",
    "X_norm #m行3列\n",
    "\n",
    "\n",
    "\n",
    "###  ロジスティック回帰により、市区長村の人口総数と面積からその市区町村が北海道（1）か東京都（0）かを予測するような\n",
    "###  仮説関数のパラメータを学習し、学習されたパラメータを元に決定境界を可視化"
   ]
  },
  {
   "cell_type": "markdown",
   "metadata": {},
   "source": [
    "## 参考：scikit-learnでのロジスティック回帰\n",
    "以下では、ロジスティック回帰（`LogisticRegression`）クラスをインポートしています。`train_test_split()`はデータセットを学習データとテストデータに分割するための関数、`accuracy_score()`はモデルの予測精度を評価するための関数です。\n",
    "\n",
    "[LogisticRegression](https://scikit-learn.org/stable/modules/generated/sklearn.linear_model.LogisticRegression.html)\n",
    "\n",
    "特徴量データ（`X_irist`）とラベルデータ（`y_iris`）からなるデータセットを学習データ（`X_train`, `y_train`）とテストデータ（`X_test`, `y_test`)に分割しています。ここでは、`train_test_split()`関数の`test_size`引数にデータセットの30%をテストデータとすることを指定しています。また、`stratify`引数にラベルデータを指定することで、学習データとテストデータ、それぞれでラベルの分布が同じになるようにしています。入力の特徴量は`StandardScaler`で標準化しています。\n",
    "\n",
    "ロジスティック回帰クラスのインスタンスを作成し、**`fit`**`()`メソッドによりモデルを学習データに適合させています。そして、**`predict`**`()`メソッドを用いてテストデータのラベルを予測し、`accuracy_score()`関数などで実際のラベルデータ（`y_test`）と比較して予測精度の評価を行なっています。"
   ]
  },
  {
   "cell_type": "code",
   "execution_count": 50,
   "metadata": {},
   "outputs": [
    {
     "name": "stdout",
     "output_type": "stream",
     "text": [
      "[[15  0]\n",
      " [ 1 14]]\n",
      "0.9666666666666667\n",
      "0.9375\n",
      "1.0\n",
      "0.967741935483871\n"
     ]
    }
   ],
   "source": [
    "from sklearn.linear_model import LogisticRegression\n",
    "from sklearn.model_selection import train_test_split\n",
    "from sklearn.preprocessing import StandardScaler\n",
    "from sklearn.metrics import accuracy_score, confusion_matrix,  precision_score, recall_score, f1_score\n",
    "from sklearn.datasets import load_iris\n",
    "\n",
    "iris = load_iris()\n",
    "X_all = iris.data[:,[2,3]] \n",
    "y_all = iris.target \n",
    "X = X_all[(y_all==1)|(y_all==2)] # 入力\n",
    "y = y_all[(y_all==1)|(y_all==2)] # 出力\n",
    "\n",
    "# 学習データとテストデータに分割\n",
    "X_train, X_test, y_train, y_test = train_test_split(X, y, test_size=0.3, random_state=1, stratify=y)\n",
    "\n",
    "# 標準化\n",
    "sc=StandardScaler() \n",
    "sc.fit(X_train)\n",
    "norm_X_train=sc.transform(X_train) \n",
    "norm_X_test=sc.transform(X_test) \n",
    "\n",
    "model=LogisticRegression(solver='lbfgs',  multi_class='auto') # ロジスティック回帰モデル\n",
    "# model=LogisticRegression() # sklearn0.19以前の場合\n",
    "model.fit(norm_X_train, y_train) # モデルを学習データに適合\n",
    "\n",
    "#print(model.coef_) # パラメータ重み\n",
    "#print(model.intercept_) # バイアス重み\n",
    "\n",
    "y_pred=model.predict(norm_X_test) # テストデータでラベルを予測\n",
    "\n",
    "# print(model.predict_proba(norm_X_test)) # 各テストデータのラベル1or0であるかの確率の推定値\n",
    "\n",
    "print(confusion_matrix(y_test, y_pred)) # 混同行列\n",
    "print(accuracy_score(y_test, y_pred)) # accuracy\n",
    "print(precision_score(y_test, y_pred)) # precision\n",
    "print(recall_score(y_test, y_pred)) # recall\n",
    "print(f1_score(y_test, y_pred))  # f値"
   ]
  },
  {
   "cell_type": "markdown",
   "metadata": {},
   "source": [
    "`LogisticRegression`ではデフォルトで正則化（$L_2$ノルム）が有効になっています。引数`C`は正則化項の係数の逆数になっています。"
   ]
  },
  {
   "cell_type": "code",
   "execution_count": 51,
   "metadata": {},
   "outputs": [
    {
     "name": "stdout",
     "output_type": "stream",
     "text": [
      "[[15  0]\n",
      " [ 1 14]]\n",
      "0.9666666666666667\n",
      "0.9375\n",
      "1.0\n",
      "0.967741935483871\n"
     ]
    }
   ],
   "source": [
    "from sklearn.linear_model import LogisticRegression\n",
    "from sklearn.model_selection import train_test_split\n",
    "from sklearn.preprocessing import StandardScaler\n",
    "from sklearn.metrics import accuracy_score, confusion_matrix,  precision_score, recall_score, f1_score\n",
    "from sklearn.datasets import load_iris\n",
    "\n",
    "iris = load_iris()\n",
    "X_all = iris.data[:,[2,3]] \n",
    "y_all = iris.target \n",
    "X = X_all[(y_all==1)|(y_all==2)] # 入力\n",
    "y = y_all[(y_all==1)|(y_all==2)] # 出力\n",
    "\n",
    "# 学習データとテストデータに分割\n",
    "X_train, X_test, y_train, y_test = train_test_split(X, y, test_size=0.3, random_state=1, stratify=y)\n",
    "\n",
    "# 標準化\n",
    "sc=StandardScaler() \n",
    "sc.fit(X_train)\n",
    "norm_X_train=sc.transform(X_train) \n",
    "norm_X_test=sc.transform(X_test) \n",
    "\n",
    "model=LogisticRegression(solver='lbfgs',  multi_class='auto', C=100) # ロジスティック回帰モデル、正則化の係数を指定\n",
    "# model=LogisticRegression() # sklearn0.19以前の場合\n",
    "model.fit(norm_X_train, y_train) # モデルを学習データに適合\n",
    "\n",
    "#print(model.coef_) # パラメータ重み\n",
    "#print(model.intercept_) # バイアス重み\n",
    "\n",
    "y_pred=model.predict(norm_X_test) # テストデータでラベルを予測\n",
    "\n",
    "# print(model.predict_proba(norm_X_test)) # 各テストデータのラベル1or0であるかの確率の推定値\n",
    "\n",
    "print(confusion_matrix(y_test, y_pred)) # 混同行列\n",
    "print(accuracy_score(y_test, y_pred)) # accuracy\n",
    "print(precision_score(y_test, y_pred)) # precision\n",
    "print(recall_score(y_test, y_pred)) # recall\n",
    "print(f1_score(y_test, y_pred))  # f値"
   ]
  }
 ],
 "metadata": {
  "kernelspec": {
   "display_name": "Python 3",
   "language": "python",
   "name": "python3"
  },
  "language_info": {
   "codemirror_mode": {
    "name": "ipython",
    "version": 3
   },
   "file_extension": ".py",
   "mimetype": "text/x-python",
   "name": "python",
   "nbconvert_exporter": "python",
   "pygments_lexer": "ipython3",
   "version": "3.7.3"
  }
 },
 "nbformat": 4,
 "nbformat_minor": 2
}
