{
 "cells": [
  {
   "cell_type": "markdown",
   "metadata": {},
   "source": [
    "# 課題3 データの前処理と可視化\n",
    "\n",
    "配点\n",
    "- Q1.1, 1P\n",
    "- Q2.1, 1P\n",
    "- Q2.2, 2P\n",
    "- Q2.3 1P\n",
    "- Q3, 1P\n",
    "- Q4, 1P\n",
    "- Q5.1, 2P \n",
    "- Q5.2, 1P"
   ]
  },
  {
   "cell_type": "code",
   "execution_count": 1,
   "metadata": {},
   "outputs": [],
   "source": [
    "# 必要なモジュールの読み込み\n",
    "import pandas as pd\n",
    "import numpy as np\n",
    "import matplotlib.pyplot as plt\n",
    "%matplotlib inline"
   ]
  },
  {
   "cell_type": "markdown",
   "metadata": {},
   "source": [
    "## Q1 欠損値の処理\n",
    "### 欠損値の検出\n",
    "pandasのシリーズやデータフレームではデータに欠損値（例えば数値データ内の空値）が含まれる場合、欠損値が`NaN`となります。以下では欠損値（空値）を含む得点データのcsvファイル, 'score_missing.csv', を読み込み、データフレーム`score`を作成します。"
   ]
  },
  {
   "cell_type": "code",
   "execution_count": 2,
   "metadata": {},
   "outputs": [
    {
     "data": {
      "text/html": [
       "<div>\n",
       "<style scoped>\n",
       "    .dataframe tbody tr th:only-of-type {\n",
       "        vertical-align: middle;\n",
       "    }\n",
       "\n",
       "    .dataframe tbody tr th {\n",
       "        vertical-align: top;\n",
       "    }\n",
       "\n",
       "    .dataframe thead th {\n",
       "        text-align: right;\n",
       "    }\n",
       "</style>\n",
       "<table border=\"1\" class=\"dataframe\">\n",
       "  <thead>\n",
       "    <tr style=\"text-align: right;\">\n",
       "      <th></th>\n",
       "      <th>kokugo</th>\n",
       "      <th>shakai</th>\n",
       "      <th>sugaku</th>\n",
       "      <th>rika</th>\n",
       "    </tr>\n",
       "  </thead>\n",
       "  <tbody>\n",
       "    <tr>\n",
       "      <td>0</td>\n",
       "      <td>30.0</td>\n",
       "      <td>43.0</td>\n",
       "      <td>51</td>\n",
       "      <td>NaN</td>\n",
       "    </tr>\n",
       "    <tr>\n",
       "      <td>1</td>\n",
       "      <td>39.0</td>\n",
       "      <td>21.0</td>\n",
       "      <td>50</td>\n",
       "      <td>56.0</td>\n",
       "    </tr>\n",
       "    <tr>\n",
       "      <td>2</td>\n",
       "      <td>NaN</td>\n",
       "      <td>NaN</td>\n",
       "      <td>23</td>\n",
       "      <td>57.0</td>\n",
       "    </tr>\n",
       "    <tr>\n",
       "      <td>3</td>\n",
       "      <td>29.0</td>\n",
       "      <td>87.0</td>\n",
       "      <td>77</td>\n",
       "      <td>100.0</td>\n",
       "    </tr>\n",
       "    <tr>\n",
       "      <td>4</td>\n",
       "      <td>70.0</td>\n",
       "      <td>71.0</td>\n",
       "      <td>78</td>\n",
       "      <td>67.0</td>\n",
       "    </tr>\n",
       "    <tr>\n",
       "      <td>5</td>\n",
       "      <td>66.0</td>\n",
       "      <td>NaN</td>\n",
       "      <td>53</td>\n",
       "      <td>NaN</td>\n",
       "    </tr>\n",
       "    <tr>\n",
       "      <td>6</td>\n",
       "      <td>29.0</td>\n",
       "      <td>26.0</td>\n",
       "      <td>44</td>\n",
       "      <td>52.0</td>\n",
       "    </tr>\n",
       "    <tr>\n",
       "      <td>7</td>\n",
       "      <td>NaN</td>\n",
       "      <td>54.0</td>\n",
       "      <td>37</td>\n",
       "      <td>59.0</td>\n",
       "    </tr>\n",
       "    <tr>\n",
       "      <td>8</td>\n",
       "      <td>45.0</td>\n",
       "      <td>NaN</td>\n",
       "      <td>7</td>\n",
       "      <td>44.0</td>\n",
       "    </tr>\n",
       "    <tr>\n",
       "      <td>9</td>\n",
       "      <td>68.0</td>\n",
       "      <td>41.0</td>\n",
       "      <td>29</td>\n",
       "      <td>81.0</td>\n",
       "    </tr>\n",
       "  </tbody>\n",
       "</table>\n",
       "</div>"
      ],
      "text/plain": [
       "   kokugo  shakai  sugaku   rika\n",
       "0    30.0    43.0      51    NaN\n",
       "1    39.0    21.0      50   56.0\n",
       "2     NaN     NaN      23   57.0\n",
       "3    29.0    87.0      77  100.0\n",
       "4    70.0    71.0      78   67.0\n",
       "5    66.0     NaN      53    NaN\n",
       "6    29.0    26.0      44   52.0\n",
       "7     NaN    54.0      37   59.0\n",
       "8    45.0     NaN       7   44.0\n",
       "9    68.0    41.0      29   81.0"
      ]
     },
     "execution_count": 2,
     "metadata": {},
     "output_type": "execute_result"
    }
   ],
   "source": [
    "score = pd.read_csv('score_missing.csv')\n",
    "score"
   ]
  },
  {
   "cell_type": "markdown",
   "metadata": {},
   "source": [
    "データフレームに欠損値が含まれるかどうかはpandasの`isnull()`メソッドを使うと調べることができます。`isnull()`メソッドはデータフレームの各要素の値について、欠損値であれば`True`、欠損値でなければ`False`を要素としたデータフレームを返します。\n",
    "\n",
    "`isnull()`メソッドの詳細は以下を参照してください。\n",
    "\n",
    "[isnull()](https://pandas.pydata.org/pandas-docs/stable/generated/pandas.isnull.html#pandas.isnull)"
   ]
  },
  {
   "cell_type": "code",
   "execution_count": 3,
   "metadata": {},
   "outputs": [
    {
     "data": {
      "text/html": [
       "<div>\n",
       "<style scoped>\n",
       "    .dataframe tbody tr th:only-of-type {\n",
       "        vertical-align: middle;\n",
       "    }\n",
       "\n",
       "    .dataframe tbody tr th {\n",
       "        vertical-align: top;\n",
       "    }\n",
       "\n",
       "    .dataframe thead th {\n",
       "        text-align: right;\n",
       "    }\n",
       "</style>\n",
       "<table border=\"1\" class=\"dataframe\">\n",
       "  <thead>\n",
       "    <tr style=\"text-align: right;\">\n",
       "      <th></th>\n",
       "      <th>kokugo</th>\n",
       "      <th>shakai</th>\n",
       "      <th>sugaku</th>\n",
       "      <th>rika</th>\n",
       "    </tr>\n",
       "  </thead>\n",
       "  <tbody>\n",
       "    <tr>\n",
       "      <td>0</td>\n",
       "      <td>False</td>\n",
       "      <td>False</td>\n",
       "      <td>False</td>\n",
       "      <td>True</td>\n",
       "    </tr>\n",
       "    <tr>\n",
       "      <td>1</td>\n",
       "      <td>False</td>\n",
       "      <td>False</td>\n",
       "      <td>False</td>\n",
       "      <td>False</td>\n",
       "    </tr>\n",
       "    <tr>\n",
       "      <td>2</td>\n",
       "      <td>True</td>\n",
       "      <td>True</td>\n",
       "      <td>False</td>\n",
       "      <td>False</td>\n",
       "    </tr>\n",
       "    <tr>\n",
       "      <td>3</td>\n",
       "      <td>False</td>\n",
       "      <td>False</td>\n",
       "      <td>False</td>\n",
       "      <td>False</td>\n",
       "    </tr>\n",
       "    <tr>\n",
       "      <td>4</td>\n",
       "      <td>False</td>\n",
       "      <td>False</td>\n",
       "      <td>False</td>\n",
       "      <td>False</td>\n",
       "    </tr>\n",
       "    <tr>\n",
       "      <td>5</td>\n",
       "      <td>False</td>\n",
       "      <td>True</td>\n",
       "      <td>False</td>\n",
       "      <td>True</td>\n",
       "    </tr>\n",
       "    <tr>\n",
       "      <td>6</td>\n",
       "      <td>False</td>\n",
       "      <td>False</td>\n",
       "      <td>False</td>\n",
       "      <td>False</td>\n",
       "    </tr>\n",
       "    <tr>\n",
       "      <td>7</td>\n",
       "      <td>True</td>\n",
       "      <td>False</td>\n",
       "      <td>False</td>\n",
       "      <td>False</td>\n",
       "    </tr>\n",
       "    <tr>\n",
       "      <td>8</td>\n",
       "      <td>False</td>\n",
       "      <td>True</td>\n",
       "      <td>False</td>\n",
       "      <td>False</td>\n",
       "    </tr>\n",
       "    <tr>\n",
       "      <td>9</td>\n",
       "      <td>False</td>\n",
       "      <td>False</td>\n",
       "      <td>False</td>\n",
       "      <td>False</td>\n",
       "    </tr>\n",
       "  </tbody>\n",
       "</table>\n",
       "</div>"
      ],
      "text/plain": [
       "   kokugo  shakai  sugaku   rika\n",
       "0   False   False   False   True\n",
       "1   False   False   False  False\n",
       "2    True    True   False  False\n",
       "3   False   False   False  False\n",
       "4   False   False   False  False\n",
       "5   False    True   False   True\n",
       "6   False   False   False  False\n",
       "7    True   False   False  False\n",
       "8   False    True   False  False\n",
       "9   False   False   False  False"
      ]
     },
     "execution_count": 3,
     "metadata": {},
     "output_type": "execute_result"
    }
   ],
   "source": [
    "score.isnull()"
   ]
  },
  {
   "cell_type": "markdown",
   "metadata": {},
   "source": [
    "`isnull()`メソッドで返された上記のデータフレームの`any()`メソッド使うと、データフレームにおいて欠損値を含む行または列を調べることができます。以下では、列ごとに欠損値を含むかどうかを示すシリーズオブジェクトを返します。"
   ]
  },
  {
   "cell_type": "code",
   "execution_count": 4,
   "metadata": {},
   "outputs": [
    {
     "data": {
      "text/plain": [
       "kokugo     True\n",
       "shakai     True\n",
       "sugaku    False\n",
       "rika       True\n",
       "dtype: bool"
      ]
     },
     "execution_count": 4,
     "metadata": {},
     "output_type": "execute_result"
    }
   ],
   "source": [
    "# 列ごとに欠損値があるか調べる\n",
    "score.isnull().any()"
   ]
  },
  {
   "cell_type": "markdown",
   "metadata": {},
   "source": [
    "上記で`any()メソッド`の引数`axix`を1とすると、行ごとに欠損値を含むかどうかを示すシリーズオブジェクトを返します。"
   ]
  },
  {
   "cell_type": "code",
   "execution_count": 5,
   "metadata": {},
   "outputs": [
    {
     "data": {
      "text/plain": [
       "0     True\n",
       "1    False\n",
       "2     True\n",
       "3    False\n",
       "4    False\n",
       "5     True\n",
       "6    False\n",
       "7     True\n",
       "8     True\n",
       "9    False\n",
       "dtype: bool"
      ]
     },
     "execution_count": 5,
     "metadata": {},
     "output_type": "execute_result"
    }
   ],
   "source": [
    "# 行ごとに欠損値があるか調べる\n",
    "score.isnull().any(axis=1)"
   ]
  },
  {
   "cell_type": "markdown",
   "metadata": {},
   "source": [
    "上記のシリーズオブジェクトを以下のようデータフレーム抽出の条件として用いると、元のデータフレームから欠損値を含む行または列からなるデータフレームを抽出できます。"
   ]
  },
  {
   "cell_type": "code",
   "execution_count": 6,
   "metadata": {},
   "outputs": [
    {
     "data": {
      "text/html": [
       "<div>\n",
       "<style scoped>\n",
       "    .dataframe tbody tr th:only-of-type {\n",
       "        vertical-align: middle;\n",
       "    }\n",
       "\n",
       "    .dataframe tbody tr th {\n",
       "        vertical-align: top;\n",
       "    }\n",
       "\n",
       "    .dataframe thead th {\n",
       "        text-align: right;\n",
       "    }\n",
       "</style>\n",
       "<table border=\"1\" class=\"dataframe\">\n",
       "  <thead>\n",
       "    <tr style=\"text-align: right;\">\n",
       "      <th></th>\n",
       "      <th>kokugo</th>\n",
       "      <th>shakai</th>\n",
       "      <th>sugaku</th>\n",
       "      <th>rika</th>\n",
       "    </tr>\n",
       "  </thead>\n",
       "  <tbody>\n",
       "    <tr>\n",
       "      <td>0</td>\n",
       "      <td>30.0</td>\n",
       "      <td>43.0</td>\n",
       "      <td>51</td>\n",
       "      <td>NaN</td>\n",
       "    </tr>\n",
       "    <tr>\n",
       "      <td>2</td>\n",
       "      <td>NaN</td>\n",
       "      <td>NaN</td>\n",
       "      <td>23</td>\n",
       "      <td>57.0</td>\n",
       "    </tr>\n",
       "    <tr>\n",
       "      <td>5</td>\n",
       "      <td>66.0</td>\n",
       "      <td>NaN</td>\n",
       "      <td>53</td>\n",
       "      <td>NaN</td>\n",
       "    </tr>\n",
       "    <tr>\n",
       "      <td>7</td>\n",
       "      <td>NaN</td>\n",
       "      <td>54.0</td>\n",
       "      <td>37</td>\n",
       "      <td>59.0</td>\n",
       "    </tr>\n",
       "    <tr>\n",
       "      <td>8</td>\n",
       "      <td>45.0</td>\n",
       "      <td>NaN</td>\n",
       "      <td>7</td>\n",
       "      <td>44.0</td>\n",
       "    </tr>\n",
       "  </tbody>\n",
       "</table>\n",
       "</div>"
      ],
      "text/plain": [
       "   kokugo  shakai  sugaku  rika\n",
       "0    30.0    43.0      51   NaN\n",
       "2     NaN     NaN      23  57.0\n",
       "5    66.0     NaN      53   NaN\n",
       "7     NaN    54.0      37  59.0\n",
       "8    45.0     NaN       7  44.0"
      ]
     },
     "execution_count": 6,
     "metadata": {},
     "output_type": "execute_result"
    }
   ],
   "source": [
    "# データフレームから欠損値を含む行を抽出\n",
    "score[score.isnull().any(axis=1)]"
   ]
  },
  {
   "cell_type": "code",
   "execution_count": 7,
   "metadata": {},
   "outputs": [
    {
     "data": {
      "text/html": [
       "<div>\n",
       "<style scoped>\n",
       "    .dataframe tbody tr th:only-of-type {\n",
       "        vertical-align: middle;\n",
       "    }\n",
       "\n",
       "    .dataframe tbody tr th {\n",
       "        vertical-align: top;\n",
       "    }\n",
       "\n",
       "    .dataframe thead th {\n",
       "        text-align: right;\n",
       "    }\n",
       "</style>\n",
       "<table border=\"1\" class=\"dataframe\">\n",
       "  <thead>\n",
       "    <tr style=\"text-align: right;\">\n",
       "      <th></th>\n",
       "      <th>kokugo</th>\n",
       "      <th>shakai</th>\n",
       "      <th>rika</th>\n",
       "    </tr>\n",
       "  </thead>\n",
       "  <tbody>\n",
       "    <tr>\n",
       "      <td>0</td>\n",
       "      <td>30.0</td>\n",
       "      <td>43.0</td>\n",
       "      <td>NaN</td>\n",
       "    </tr>\n",
       "    <tr>\n",
       "      <td>1</td>\n",
       "      <td>39.0</td>\n",
       "      <td>21.0</td>\n",
       "      <td>56.0</td>\n",
       "    </tr>\n",
       "    <tr>\n",
       "      <td>2</td>\n",
       "      <td>NaN</td>\n",
       "      <td>NaN</td>\n",
       "      <td>57.0</td>\n",
       "    </tr>\n",
       "    <tr>\n",
       "      <td>3</td>\n",
       "      <td>29.0</td>\n",
       "      <td>87.0</td>\n",
       "      <td>100.0</td>\n",
       "    </tr>\n",
       "    <tr>\n",
       "      <td>4</td>\n",
       "      <td>70.0</td>\n",
       "      <td>71.0</td>\n",
       "      <td>67.0</td>\n",
       "    </tr>\n",
       "    <tr>\n",
       "      <td>5</td>\n",
       "      <td>66.0</td>\n",
       "      <td>NaN</td>\n",
       "      <td>NaN</td>\n",
       "    </tr>\n",
       "    <tr>\n",
       "      <td>6</td>\n",
       "      <td>29.0</td>\n",
       "      <td>26.0</td>\n",
       "      <td>52.0</td>\n",
       "    </tr>\n",
       "    <tr>\n",
       "      <td>7</td>\n",
       "      <td>NaN</td>\n",
       "      <td>54.0</td>\n",
       "      <td>59.0</td>\n",
       "    </tr>\n",
       "    <tr>\n",
       "      <td>8</td>\n",
       "      <td>45.0</td>\n",
       "      <td>NaN</td>\n",
       "      <td>44.0</td>\n",
       "    </tr>\n",
       "    <tr>\n",
       "      <td>9</td>\n",
       "      <td>68.0</td>\n",
       "      <td>41.0</td>\n",
       "      <td>81.0</td>\n",
       "    </tr>\n",
       "  </tbody>\n",
       "</table>\n",
       "</div>"
      ],
      "text/plain": [
       "   kokugo  shakai   rika\n",
       "0    30.0    43.0    NaN\n",
       "1    39.0    21.0   56.0\n",
       "2     NaN     NaN   57.0\n",
       "3    29.0    87.0  100.0\n",
       "4    70.0    71.0   67.0\n",
       "5    66.0     NaN    NaN\n",
       "6    29.0    26.0   52.0\n",
       "7     NaN    54.0   59.0\n",
       "8    45.0     NaN   44.0\n",
       "9    68.0    41.0   81.0"
      ]
     },
     "execution_count": 7,
     "metadata": {},
     "output_type": "execute_result"
    }
   ],
   "source": [
    "# データフレームから欠損値を含む列を抽出\n",
    "score.loc[:, score.isnull().any()]"
   ]
  },
  {
   "cell_type": "markdown",
   "metadata": {},
   "source": [
    "### 欠損値の削除\n",
    "pandasの`dropna()`メソッドを使うと欠損値を含む行を削除することができます。`dropna()`メソッドでは、この他にもさまざまな方法で欠損値を削除することができます。詳細は以下を参照してください。\n",
    "\n",
    "[dropna()](https://pandas.pydata.org/pandas-docs/stable/generated/pandas.DataFrame.dropna.html)"
   ]
  },
  {
   "cell_type": "code",
   "execution_count": 8,
   "metadata": {},
   "outputs": [
    {
     "data": {
      "text/html": [
       "<div>\n",
       "<style scoped>\n",
       "    .dataframe tbody tr th:only-of-type {\n",
       "        vertical-align: middle;\n",
       "    }\n",
       "\n",
       "    .dataframe tbody tr th {\n",
       "        vertical-align: top;\n",
       "    }\n",
       "\n",
       "    .dataframe thead th {\n",
       "        text-align: right;\n",
       "    }\n",
       "</style>\n",
       "<table border=\"1\" class=\"dataframe\">\n",
       "  <thead>\n",
       "    <tr style=\"text-align: right;\">\n",
       "      <th></th>\n",
       "      <th>kokugo</th>\n",
       "      <th>shakai</th>\n",
       "      <th>sugaku</th>\n",
       "      <th>rika</th>\n",
       "    </tr>\n",
       "  </thead>\n",
       "  <tbody>\n",
       "    <tr>\n",
       "      <td>1</td>\n",
       "      <td>39.0</td>\n",
       "      <td>21.0</td>\n",
       "      <td>50</td>\n",
       "      <td>56.0</td>\n",
       "    </tr>\n",
       "    <tr>\n",
       "      <td>3</td>\n",
       "      <td>29.0</td>\n",
       "      <td>87.0</td>\n",
       "      <td>77</td>\n",
       "      <td>100.0</td>\n",
       "    </tr>\n",
       "    <tr>\n",
       "      <td>4</td>\n",
       "      <td>70.0</td>\n",
       "      <td>71.0</td>\n",
       "      <td>78</td>\n",
       "      <td>67.0</td>\n",
       "    </tr>\n",
       "    <tr>\n",
       "      <td>6</td>\n",
       "      <td>29.0</td>\n",
       "      <td>26.0</td>\n",
       "      <td>44</td>\n",
       "      <td>52.0</td>\n",
       "    </tr>\n",
       "    <tr>\n",
       "      <td>9</td>\n",
       "      <td>68.0</td>\n",
       "      <td>41.0</td>\n",
       "      <td>29</td>\n",
       "      <td>81.0</td>\n",
       "    </tr>\n",
       "  </tbody>\n",
       "</table>\n",
       "</div>"
      ],
      "text/plain": [
       "   kokugo  shakai  sugaku   rika\n",
       "1    39.0    21.0      50   56.0\n",
       "3    29.0    87.0      77  100.0\n",
       "4    70.0    71.0      78   67.0\n",
       "6    29.0    26.0      44   52.0\n",
       "9    68.0    41.0      29   81.0"
      ]
     },
     "execution_count": 8,
     "metadata": {},
     "output_type": "execute_result"
    }
   ],
   "source": [
    "score.dropna()"
   ]
  },
  {
   "cell_type": "markdown",
   "metadata": {},
   "source": [
    "### 欠損値の補完\n",
    "pandasの`fillna()`メソッドを使うと欠損値を補完することができます。以下では、欠損値が含まれる列の欠損がない要素の値の平均値でその列にある欠損値を補完しています。`fillna()`メソッドでは、この他にもさまざまな方法で欠損値を補完することができます。詳細は以下を参照してください。\n",
    "\n",
    "[fillna()](https://pandas.pydata.org/pandas-docs/stable/generated/pandas.DataFrame.fillna.html)"
   ]
  },
  {
   "cell_type": "code",
   "execution_count": 9,
   "metadata": {},
   "outputs": [
    {
     "data": {
      "text/html": [
       "<div>\n",
       "<style scoped>\n",
       "    .dataframe tbody tr th:only-of-type {\n",
       "        vertical-align: middle;\n",
       "    }\n",
       "\n",
       "    .dataframe tbody tr th {\n",
       "        vertical-align: top;\n",
       "    }\n",
       "\n",
       "    .dataframe thead th {\n",
       "        text-align: right;\n",
       "    }\n",
       "</style>\n",
       "<table border=\"1\" class=\"dataframe\">\n",
       "  <thead>\n",
       "    <tr style=\"text-align: right;\">\n",
       "      <th></th>\n",
       "      <th>kokugo</th>\n",
       "      <th>shakai</th>\n",
       "      <th>sugaku</th>\n",
       "      <th>rika</th>\n",
       "    </tr>\n",
       "  </thead>\n",
       "  <tbody>\n",
       "    <tr>\n",
       "      <td>0</td>\n",
       "      <td>30.0</td>\n",
       "      <td>43.0</td>\n",
       "      <td>51</td>\n",
       "      <td>64.5</td>\n",
       "    </tr>\n",
       "    <tr>\n",
       "      <td>1</td>\n",
       "      <td>39.0</td>\n",
       "      <td>21.0</td>\n",
       "      <td>50</td>\n",
       "      <td>56.0</td>\n",
       "    </tr>\n",
       "    <tr>\n",
       "      <td>2</td>\n",
       "      <td>47.0</td>\n",
       "      <td>49.0</td>\n",
       "      <td>23</td>\n",
       "      <td>57.0</td>\n",
       "    </tr>\n",
       "    <tr>\n",
       "      <td>3</td>\n",
       "      <td>29.0</td>\n",
       "      <td>87.0</td>\n",
       "      <td>77</td>\n",
       "      <td>100.0</td>\n",
       "    </tr>\n",
       "    <tr>\n",
       "      <td>4</td>\n",
       "      <td>70.0</td>\n",
       "      <td>71.0</td>\n",
       "      <td>78</td>\n",
       "      <td>67.0</td>\n",
       "    </tr>\n",
       "    <tr>\n",
       "      <td>5</td>\n",
       "      <td>66.0</td>\n",
       "      <td>49.0</td>\n",
       "      <td>53</td>\n",
       "      <td>64.5</td>\n",
       "    </tr>\n",
       "    <tr>\n",
       "      <td>6</td>\n",
       "      <td>29.0</td>\n",
       "      <td>26.0</td>\n",
       "      <td>44</td>\n",
       "      <td>52.0</td>\n",
       "    </tr>\n",
       "    <tr>\n",
       "      <td>7</td>\n",
       "      <td>47.0</td>\n",
       "      <td>54.0</td>\n",
       "      <td>37</td>\n",
       "      <td>59.0</td>\n",
       "    </tr>\n",
       "    <tr>\n",
       "      <td>8</td>\n",
       "      <td>45.0</td>\n",
       "      <td>49.0</td>\n",
       "      <td>7</td>\n",
       "      <td>44.0</td>\n",
       "    </tr>\n",
       "    <tr>\n",
       "      <td>9</td>\n",
       "      <td>68.0</td>\n",
       "      <td>41.0</td>\n",
       "      <td>29</td>\n",
       "      <td>81.0</td>\n",
       "    </tr>\n",
       "  </tbody>\n",
       "</table>\n",
       "</div>"
      ],
      "text/plain": [
       "   kokugo  shakai  sugaku   rika\n",
       "0    30.0    43.0      51   64.5\n",
       "1    39.0    21.0      50   56.0\n",
       "2    47.0    49.0      23   57.0\n",
       "3    29.0    87.0      77  100.0\n",
       "4    70.0    71.0      78   67.0\n",
       "5    66.0    49.0      53   64.5\n",
       "6    29.0    26.0      44   52.0\n",
       "7    47.0    54.0      37   59.0\n",
       "8    45.0    49.0       7   44.0\n",
       "9    68.0    41.0      29   81.0"
      ]
     },
     "execution_count": 9,
     "metadata": {},
     "output_type": "execute_result"
    }
   ],
   "source": [
    "score = pd.read_csv('score_missing.csv')\n",
    "score.fillna(score.mean())"
   ]
  },
  {
   "cell_type": "markdown",
   "metadata": {},
   "source": [
    "### Q1.1\n",
    "欠損値（空値）を含む得点データのcsvファイル, 'score_missing.csv', を読み込み作成したデータフレームを受け取り、各列の欠損値をその列の欠損がない要素の値の中央値で補完したデータフレームを返す`fill_median()`関数を完成させてください。"
   ]
  },
  {
   "cell_type": "code",
   "execution_count": 10,
   "metadata": {},
   "outputs": [
    {
     "data": {
      "text/html": [
       "<div>\n",
       "<style scoped>\n",
       "    .dataframe tbody tr th:only-of-type {\n",
       "        vertical-align: middle;\n",
       "    }\n",
       "\n",
       "    .dataframe tbody tr th {\n",
       "        vertical-align: top;\n",
       "    }\n",
       "\n",
       "    .dataframe thead th {\n",
       "        text-align: right;\n",
       "    }\n",
       "</style>\n",
       "<table border=\"1\" class=\"dataframe\">\n",
       "  <thead>\n",
       "    <tr style=\"text-align: right;\">\n",
       "      <th></th>\n",
       "      <th>kokugo</th>\n",
       "      <th>shakai</th>\n",
       "      <th>sugaku</th>\n",
       "      <th>rika</th>\n",
       "    </tr>\n",
       "  </thead>\n",
       "  <tbody>\n",
       "    <tr>\n",
       "      <td>0</td>\n",
       "      <td>30.0</td>\n",
       "      <td>43.0</td>\n",
       "      <td>51</td>\n",
       "      <td>58.0</td>\n",
       "    </tr>\n",
       "    <tr>\n",
       "      <td>1</td>\n",
       "      <td>39.0</td>\n",
       "      <td>21.0</td>\n",
       "      <td>50</td>\n",
       "      <td>56.0</td>\n",
       "    </tr>\n",
       "    <tr>\n",
       "      <td>2</td>\n",
       "      <td>42.0</td>\n",
       "      <td>43.0</td>\n",
       "      <td>23</td>\n",
       "      <td>57.0</td>\n",
       "    </tr>\n",
       "    <tr>\n",
       "      <td>3</td>\n",
       "      <td>29.0</td>\n",
       "      <td>87.0</td>\n",
       "      <td>77</td>\n",
       "      <td>100.0</td>\n",
       "    </tr>\n",
       "    <tr>\n",
       "      <td>4</td>\n",
       "      <td>70.0</td>\n",
       "      <td>71.0</td>\n",
       "      <td>78</td>\n",
       "      <td>67.0</td>\n",
       "    </tr>\n",
       "    <tr>\n",
       "      <td>5</td>\n",
       "      <td>66.0</td>\n",
       "      <td>43.0</td>\n",
       "      <td>53</td>\n",
       "      <td>58.0</td>\n",
       "    </tr>\n",
       "    <tr>\n",
       "      <td>6</td>\n",
       "      <td>29.0</td>\n",
       "      <td>26.0</td>\n",
       "      <td>44</td>\n",
       "      <td>52.0</td>\n",
       "    </tr>\n",
       "    <tr>\n",
       "      <td>7</td>\n",
       "      <td>42.0</td>\n",
       "      <td>54.0</td>\n",
       "      <td>37</td>\n",
       "      <td>59.0</td>\n",
       "    </tr>\n",
       "    <tr>\n",
       "      <td>8</td>\n",
       "      <td>45.0</td>\n",
       "      <td>43.0</td>\n",
       "      <td>7</td>\n",
       "      <td>44.0</td>\n",
       "    </tr>\n",
       "    <tr>\n",
       "      <td>9</td>\n",
       "      <td>68.0</td>\n",
       "      <td>41.0</td>\n",
       "      <td>29</td>\n",
       "      <td>81.0</td>\n",
       "    </tr>\n",
       "  </tbody>\n",
       "</table>\n",
       "</div>"
      ],
      "text/plain": [
       "   kokugo  shakai  sugaku   rika\n",
       "0    30.0    43.0      51   58.0\n",
       "1    39.0    21.0      50   56.0\n",
       "2    42.0    43.0      23   57.0\n",
       "3    29.0    87.0      77  100.0\n",
       "4    70.0    71.0      78   67.0\n",
       "5    66.0    43.0      53   58.0\n",
       "6    29.0    26.0      44   52.0\n",
       "7    42.0    54.0      37   59.0\n",
       "8    45.0    43.0       7   44.0\n",
       "9    68.0    41.0      29   81.0"
      ]
     },
     "execution_count": 10,
     "metadata": {},
     "output_type": "execute_result"
    }
   ],
   "source": [
    "score = pd.read_csv('score_missing.csv') #csvファイル読み込み\n",
    "def fill_median(df):\n",
    "    return df.fillna(df.median())### データフレームの各列の欠損値をその列の中央値で補完するコード ###\n",
    "fill_median(score) # 関数呼び出して補完されたデータフレームを表示"
   ]
  },
  {
   "cell_type": "markdown",
   "metadata": {},
   "source": [
    "`fill_median()`関数が完成したら、以下のセルを実行してデータフレームのすべての要素の和を求めることで動作を確認してください。すべての要素の和は`2013`となります。"
   ]
  },
  {
   "cell_type": "code",
   "execution_count": 11,
   "metadata": {},
   "outputs": [
    {
     "data": {
      "text/plain": [
       "2013.0"
      ]
     },
     "execution_count": 11,
     "metadata": {},
     "output_type": "execute_result"
    }
   ],
   "source": [
    "fill_median(score).sum().sum()"
   ]
  },
  {
   "cell_type": "markdown",
   "metadata": {},
   "source": [
    "## Q2 外れ値の処理\n",
    "### NumPyでの記述統計\n",
    "以下では、次のような形式の\"exam_score.csv\"ファイルを読み込み、NumPyの配列を作成し、NumPyの関数または`ndarray`オブジェクトのメソッドを用いて、配列の記述統計を求めています。\n",
    "```Python\n",
    "## exam_score.csvファイル\n",
    "kokugo, shakai, sugaku, rika\n",
    "30, 43, 51, 63\n",
    "39, 21, 49, 56\n",
    "...\n",
    "```"
   ]
  },
  {
   "cell_type": "code",
   "execution_count": 12,
   "metadata": {},
   "outputs": [],
   "source": [
    "# csvファイルからNumPy配列の作成\n",
    "score = np.loadtxt(\"exam_score.csv\", delimiter=\",\", skiprows=1)"
   ]
  },
  {
   "cell_type": "code",
   "execution_count": 13,
   "metadata": {},
   "outputs": [
    {
     "name": "stdout",
     "output_type": "stream",
     "text": [
      "[52.3313253  39.60240964 45.61445783 49.88554217]\n",
      "[473.93239222 457.60095805 583.85135724 455.54714037]\n",
      "[53. 35. 43. 49.]\n",
      "[ 96.  90. 100. 100.]\n",
      "[0. 4. 0. 9.]\n"
     ]
    }
   ],
   "source": [
    "# NumPyの関数で配列の各列の平均、分散、中央値、最大、最小を求める\n",
    "print(np.mean(score, axis=0)) # 平均\n",
    "print(np.var(score, axis=0)) # 分散\n",
    "print(np.median(score, axis=0)) # 中央値\n",
    "print(np.amax(score, axis=0)) # 最大値\n",
    "print(np.amin(score, axis=0)) # 最小値"
   ]
  },
  {
   "cell_type": "code",
   "execution_count": 14,
   "metadata": {},
   "outputs": [
    {
     "name": "stdout",
     "output_type": "stream",
     "text": [
      "[52.3313253  39.60240964 45.61445783 49.88554217]\n",
      "[473.93239222 457.60095805 583.85135724 455.54714037]\n",
      "[ 96.  90. 100. 100.]\n",
      "[0. 4. 0. 9.]\n"
     ]
    }
   ],
   "source": [
    "# ndarrayのメソッドで配列の各列の平均、分散、最大、最小を求める\n",
    "print(score.mean(0)) # 平均\n",
    "print(score.var(0)) # 分散\n",
    "print(score.max(0)) # 最大値\n",
    "print(score.min(0)) # 最小値"
   ]
  },
  {
   "cell_type": "markdown",
   "metadata": {},
   "source": [
    "### Q2.1\n",
    "整数を要素とする任意の長さの1次元配列を入力として受け取り、配列の要素の値の中で、以下の外れ値の基準にあてはまる要素からなる1次元配列を返す`find_outliers()`関数を完成させてください。なお、IQRは四分位範囲であり、第3四分位から第1四分位を引いた値です。\n",
    "- （第1四分位-1.5IQR）を値の下限としてそれより小さい値は外れ値とする\n",
    "- （第3四分位+1.5IQR）を値の上限としてそれより大きい値は外れ値とする\n",
    "\n",
    "配列の第1四分位と第3四分位は、NumPyの`percentile()`関数を用いて以下のように求められる。\n",
    "```Python\n",
    "第1四分位, 第3四分位=np.percentile(配列, [25, 75])\n",
    "```"
   ]
  },
  {
   "cell_type": "code",
   "execution_count": 15,
   "metadata": {},
   "outputs": [],
   "source": [
    "def find_outliers(input_array):\n",
    "    q1, q3 = np.percentile(input_array, [25, 75])### 入力の第1四分位q1, 第3四分位q3を求めるコード ###\n",
    "    iqr = q3 - q1 ### 四分位範囲を求めるコード ###\n",
    "    lower = q1 - 1.5*iqr ### 下限値を求めるコード ###\n",
    "    upper = q3 + 1.5*iqr ### 上限値を求めるコード ###\n",
    "    return  np.array(input_array)[((input_array > upper) | (input_array < lower))]\n",
    " ### 下限より小さい値と上限より大きい値を外れ値としてそれらを要素する配列を抽出するコード ###"
   ]
  },
  {
   "cell_type": "markdown",
   "metadata": {},
   "source": [
    "`find_outliers()`関数が完成したら、以下のセルを実行して動作を確認してください。`[-100, 200, 1000]`が外れ値の配列です。"
   ]
  },
  {
   "cell_type": "code",
   "execution_count": 16,
   "metadata": {},
   "outputs": [
    {
     "data": {
      "text/plain": [
       "array([-100,  200, 1000])"
      ]
     },
     "execution_count": 16,
     "metadata": {},
     "output_type": "execute_result"
    }
   ],
   "source": [
    "find_outliers(np.array([30,39,-100,29,95,70,67,200,29,1000,56,45,68]))"
   ]
  },
  {
   "cell_type": "markdown",
   "metadata": {},
   "source": [
    "### Q2.2\n",
    "以下のような形式の\"score_outlier.csv\"ファイルを読み込み、データフレーム`score`を作成します。\n",
    "```Python\n",
    "## score_outlier.csvファイル\n",
    "kokugo, shakai, sugaku, rika\n",
    "30, 43, 51, 63\n",
    "39, 21, 49, 56\n",
    "...\n",
    "```\n",
    "`score`を受け取り、各列ごとに、Q2.1と同様に四分位範囲, 第3四分位, 第1四分位を用いて外れ値を検出し、外れ値を含む行を除いたデータフレームを返す関数`drop_outliers()`を完成させてください。データフレームの各列の第1四分位と第3四分位は、pandasの`describe()`関数を用いて以下のように求められる。\n",
    "```Python\n",
    "第1四分位 = データフレーム[列名].describe()['25%']\n",
    "第3四分位 = データフレーム[列名].describe()['75%']\n",
    "```"
   ]
  },
  {
   "cell_type": "code",
   "execution_count": 20,
   "metadata": {},
   "outputs": [
    {
     "name": "stdout",
     "output_type": "stream",
     "text": [
      "   kokugo  shakai  sugaku  rika\n",
      "0      30      43      51    63\n",
      "1      39      21      49    56\n",
      "2      29      30      23    57\n",
      "3      95      87      77   100\n",
      "4      70      71      78    67\n"
     ]
    },
    {
     "data": {
      "text/plain": [
       "RangeIndex(start=0, stop=166, step=1)"
      ]
     },
     "execution_count": 20,
     "metadata": {},
     "output_type": "execute_result"
    }
   ],
   "source": [
    "score = pd.read_csv('score_outlier.csv') # csvファイル読み込み\n",
    "print(score.head())\n",
    "score.index"
   ]
  },
  {
   "cell_type": "code",
   "execution_count": 18,
   "metadata": {},
   "outputs": [
    {
     "name": "stderr",
     "output_type": "stream",
     "text": [
      "/usr/local/Caskroom/miniconda/base/lib/python3.7/site-packages/ipykernel_launcher.py:16: SettingWithCopyWarning: \n",
      "A value is trying to be set on a copy of a slice from a DataFrame\n",
      "\n",
      "See the caveats in the documentation: http://pandas.pydata.org/pandas-docs/stable/user_guide/indexing.html#returning-a-view-versus-a-copy\n",
      "  app.launch_new_instance()\n",
      "/usr/local/Caskroom/miniconda/base/lib/python3.7/site-packages/ipykernel_launcher.py:17: SettingWithCopyWarning: \n",
      "A value is trying to be set on a copy of a slice from a DataFrame\n",
      "\n",
      "See the caveats in the documentation: http://pandas.pydata.org/pandas-docs/stable/user_guide/indexing.html#returning-a-view-versus-a-copy\n"
     ]
    },
    {
     "data": {
      "text/html": [
       "<div>\n",
       "<style scoped>\n",
       "    .dataframe tbody tr th:only-of-type {\n",
       "        vertical-align: middle;\n",
       "    }\n",
       "\n",
       "    .dataframe tbody tr th {\n",
       "        vertical-align: top;\n",
       "    }\n",
       "\n",
       "    .dataframe thead th {\n",
       "        text-align: right;\n",
       "    }\n",
       "</style>\n",
       "<table border=\"1\" class=\"dataframe\">\n",
       "  <thead>\n",
       "    <tr style=\"text-align: right;\">\n",
       "      <th></th>\n",
       "      <th>kokugo</th>\n",
       "      <th>shakai</th>\n",
       "      <th>sugaku</th>\n",
       "      <th>rika</th>\n",
       "    </tr>\n",
       "  </thead>\n",
       "  <tbody>\n",
       "    <tr>\n",
       "      <td>0</td>\n",
       "      <td>30.0</td>\n",
       "      <td>43.0</td>\n",
       "      <td>51.0</td>\n",
       "      <td>63.0</td>\n",
       "    </tr>\n",
       "    <tr>\n",
       "      <td>1</td>\n",
       "      <td>39.0</td>\n",
       "      <td>21.0</td>\n",
       "      <td>49.0</td>\n",
       "      <td>56.0</td>\n",
       "    </tr>\n",
       "    <tr>\n",
       "      <td>2</td>\n",
       "      <td>29.0</td>\n",
       "      <td>30.0</td>\n",
       "      <td>23.0</td>\n",
       "      <td>57.0</td>\n",
       "    </tr>\n",
       "    <tr>\n",
       "      <td>3</td>\n",
       "      <td>95.0</td>\n",
       "      <td>87.0</td>\n",
       "      <td>77.0</td>\n",
       "      <td>100.0</td>\n",
       "    </tr>\n",
       "    <tr>\n",
       "      <td>4</td>\n",
       "      <td>70.0</td>\n",
       "      <td>71.0</td>\n",
       "      <td>78.0</td>\n",
       "      <td>67.0</td>\n",
       "    </tr>\n",
       "    <tr>\n",
       "      <td>5</td>\n",
       "      <td>67.0</td>\n",
       "      <td>53.0</td>\n",
       "      <td>56.0</td>\n",
       "      <td>61.0</td>\n",
       "    </tr>\n",
       "    <tr>\n",
       "      <td>6</td>\n",
       "      <td>29.0</td>\n",
       "      <td>26.0</td>\n",
       "      <td>44.0</td>\n",
       "      <td>52.0</td>\n",
       "    </tr>\n",
       "    <tr>\n",
       "      <td>7</td>\n",
       "      <td>56.0</td>\n",
       "      <td>54.0</td>\n",
       "      <td>37.0</td>\n",
       "      <td>59.0</td>\n",
       "    </tr>\n",
       "    <tr>\n",
       "      <td>8</td>\n",
       "      <td>45.0</td>\n",
       "      <td>21.0</td>\n",
       "      <td>7.0</td>\n",
       "      <td>44.0</td>\n",
       "    </tr>\n",
       "    <tr>\n",
       "      <td>9</td>\n",
       "      <td>68.0</td>\n",
       "      <td>41.0</td>\n",
       "      <td>29.0</td>\n",
       "      <td>81.0</td>\n",
       "    </tr>\n",
       "  </tbody>\n",
       "</table>\n",
       "</div>"
      ],
      "text/plain": [
       "   kokugo  shakai  sugaku   rika\n",
       "0    30.0    43.0    51.0   63.0\n",
       "1    39.0    21.0    49.0   56.0\n",
       "2    29.0    30.0    23.0   57.0\n",
       "3    95.0    87.0    77.0  100.0\n",
       "4    70.0    71.0    78.0   67.0\n",
       "5    67.0    53.0    56.0   61.0\n",
       "6    29.0    26.0    44.0   52.0\n",
       "7    56.0    54.0    37.0   59.0\n",
       "8    45.0    21.0     7.0   44.0\n",
       "9    68.0    41.0    29.0   81.0"
      ]
     },
     "execution_count": 18,
     "metadata": {},
     "output_type": "execute_result"
    }
   ],
   "source": [
    "def drop_outliers(df):\n",
    "    for i in range(len(df.columns)):\n",
    "        # 列を抽出する\n",
    "        col = df.iloc[:,i]\n",
    "        \n",
    "        # 四分位数\n",
    "        q1 = col.describe()['25%']\n",
    "        q3 = col.describe()['75%']\n",
    "        iqr = q3 - q1 ###四分位範囲を求めるコード ###\n",
    "        \n",
    "        # 外れ値の基準点\n",
    "        outlier_min = q1 - iqr * 1.5\n",
    "        outlier_max = q3 + iqr * 1.5\n",
    "\n",
    "        # 範囲から外れている値を除く\n",
    "        col[col < outlier_min] = None\n",
    "        col[col > outlier_max] = None\n",
    "\n",
    "    return df.dropna(how='any', axis=0)\n",
    "        \n",
    "drop_outliers(score).head(10)  # 関数呼び出して外れた値を含む行を除いたデータフレームを表示"
   ]
  },
  {
   "cell_type": "markdown",
   "metadata": {},
   "source": [
    "`drop_outliers()`関数が完成したら、以下のセルを実行して外れ値を含む行を除いたデータフレームの行数を求めることで動作を確認してください。行数は`155`となります。"
   ]
  },
  {
   "cell_type": "code",
   "execution_count": 19,
   "metadata": {},
   "outputs": [
    {
     "data": {
      "text/plain": [
       "155"
      ]
     },
     "execution_count": 19,
     "metadata": {},
     "output_type": "execute_result"
    }
   ],
   "source": [
    "len(drop_outliers(score).index)"
   ]
  },
  {
   "cell_type": "markdown",
   "metadata": {},
   "source": [
    "### Q2.3\n",
    "`matplotlib`では、以下のようにして複数の1次配列を入力として、それぞれを箱ひげ図として同時に可視化することができます。\n",
    "```Python\n",
    "plt.boxplot([配列1, 配列2, 配列3, ....], showmeans=True);\n",
    "```\n",
    "\"score_outlier.csv\"ファイルを読み込み、NumPyの配列を作成し、各教科の点数の箱ひげ図を可視化してください。"
   ]
  },
  {
   "cell_type": "code",
   "execution_count": null,
   "metadata": {},
   "outputs": [],
   "source": [
    "df.plot.box()"
   ]
  },
  {
   "cell_type": "code",
   "execution_count": 49,
   "metadata": {},
   "outputs": [
    {
     "data": {
      "image/png": "[encoded data removed]",
      "text/plain": [
       "<Figure size 432x288 with 1 Axes>"
      ]
     },
     "metadata": {
      "needs_background": "light"
     },
     "output_type": "display_data"
    }
   ],
   "source": [
    "# csvファイルからNumPy配列の作成\n",
    "import matplotlib.pyplot as plt\n",
    "score = np.loadtxt(\"score_outlier.csv\", delimiter=\",\", skiprows=1)\n",
    "plt.boxplot(score,showmeans=True); ### 各教科の点数の配列を指定するコード ###"
   ]
  },
  {
   "cell_type": "markdown",
   "metadata": {},
   "source": [
    "## Q3 標準化\n",
    "以下のような形式の\"exam_score.csv\"ファイルを読み込み、作成したNumPyの配列を受け取り、各教科の点数をその教科の平均値と分散を用いて標準化した配列を返す`normalize_score()`関数を完成させてください。平均値と分散の計算には、NumPyの関数またはndarrayオブジェクトのメソッド、どちらを使ってもよいです。また、分散は標本分散としてください。\n",
    "```Python\n",
    "## exam_score.csvファイル\n",
    "kokugo, shakai, sugaku, rika\n",
    "30, 43, 51, 63\n",
    "39, 21, 49, 56\n",
    "...\n",
    "```\n",
    "\n",
    "配列の列ごとに関数やメソッドを適用するには以下のように`axis`引数を0とする。\n",
    "```Python\n",
    "np.mean(配列, axis=0)\n",
    "配列.mean(axis=0)\n",
    "```\n",
    "また、配列の元の次元を保持したい場合は`keepdims`引数をTrueとする。\n",
    "```Python\n",
    "np.mean(配列, axis=0, keepdims=True)\n",
    "配列.mean(axis=0, keepdims=True)\n",
    "```"
   ]
  },
  {
   "cell_type": "code",
   "execution_count": 53,
   "metadata": {},
   "outputs": [
    {
     "data": {
      "text/plain": [
       "array([[-1.0257849 ,  0.15882818,  0.22288369,  0.61444594],\n",
       "       [-0.61237172, -0.86961243,  0.14011256,  0.28647801],\n",
       "       [-1.0717197 , -0.44888673, -0.93591204,  0.33333057],\n",
       "       [ 1.95997692,  2.2157094 ,  1.29890829,  2.34799071],\n",
       "       [ 0.81160699,  1.46775259,  1.34029385,  0.80185618],\n",
       "       [ 0.6738026 ,  0.62630118,  0.4298115 ,  0.52074082],\n",
       "       [-1.0717197 , -0.63587593, -0.06681524,  0.09906777],\n",
       "       [ 0.16851983,  0.67304848, -0.35651418,  0.42703569],\n",
       "       [-0.33676294, -0.86961243, -1.59808102, -0.27575273],\n",
       "       [ 0.7197374 ,  0.06533358, -0.68759867,  1.45779204],\n",
       "       [-0.10708895,  0.15882818,  1.42306497,  1.08297155],\n",
       "       [ 0.81160699,  1.00027959,  0.6367393 ,  0.98926643],\n",
       "       [-0.29082814, -0.12165563, -0.39789974,  0.28647801],\n",
       "       [-1.34732848, -0.72937053, -1.06006872, -0.65057322],\n",
       "       [ 1.13315057,  0.67304848,  0.51258262,  1.59834973],\n",
       "       [-1.71480686, -1.47732734, -0.9772976 , -0.97854114],\n",
       "       [-0.70424132, -0.77611783, -0.93591204, -0.83798346],\n",
       "       [ 0.12258503,  0.11208088,  1.62999278,  1.69205485],\n",
       "       [-2.40382882, -1.61756924, -1.88777995, -1.21280395],\n",
       "       [-0.79611091,  0.39256468, -0.89452648, -0.36945785],\n",
       "       [ 0.35225902,  1.8884783 ,  0.76089599,  1.03611899],\n",
       "       [ 0.81160699,  0.57955388,  1.21613717,  0.47388826],\n",
       "       [ 1.36282456,  2.0754675 ,  1.67137834,  1.78575997],\n",
       "       [-0.38269774, -0.82286513, -1.14283985, -1.72818213],\n",
       "       [ 0.07665023, -1.19684354, -0.52205642, -0.32260529],\n",
       "       [ 1.27095496,  1.09377419,  0.55396818,  1.08297155],\n",
       "       [-0.29082814,  0.34581738,  1.09198048,  0.28647801],\n",
       "       [-0.19895855,  1.09377419,  1.09198048,  1.55149717],\n",
       "       [-0.06115416,  0.06533358,  0.71951043,  0.47388826],\n",
       "       [-0.70424132, -1.00985434, -0.31512861,  0.0522152 ],\n",
       "       [-0.9798501 , -0.49563403, -0.72898423, -0.65057322],\n",
       "       [-0.79611091,  0.57955388, -0.23235749,  0.70815106],\n",
       "       [-0.10708895,  0.06533358,  0.18149813,  0.6612985 ],\n",
       "       [-0.88798051, -0.54238133,  0.80228155, -0.32260529],\n",
       "       [-1.16358929, -0.91635974, -1.18422541, -0.97854114],\n",
       "       [-0.75017612, -0.58912863,  0.67812486,  0.38018313],\n",
       "       [ 1.13315057,  1.42100529,  1.87830615,  1.03611899],\n",
       "       [ 0.39819381,  0.43931198,  1.05059492,  0.98926643],\n",
       "       [ 1.45469415,  2.3559513 ,  1.7127639 ,  2.34799071],\n",
       "       [ 1.17908537,  0.15882818,  0.55396818,  0.23962545],\n",
       "       [-2.08228524, -1.05660164, -1.14283985, -1.07224627],\n",
       "       [ 0.21445463, -0.35539213, -0.39789974,  0.23962545],\n",
       "       [ 0.35225902,  0.95353229,  1.62999278,  0.75500362],\n",
       "       [-1.62293726, -0.96310704, -0.85314091, -1.02539371],\n",
       "       [ 1.36282456,  2.1689621 ,  1.21613717,  1.59834973],\n",
       "       [-0.70424132, -0.16840293, -0.02542968, -0.41631041],\n",
       "       [-0.56643693, -0.58912863, -0.4392853 , -0.22890016],\n",
       "       [ 0.90347658,  1.56124719,  2.00246284,  2.16058046],\n",
       "       [ 0.99534618,  1.09377419,  1.38167941,  0.89556131],\n",
       "       [ 1.59249854,  2.1222148 ,  1.58860722,  2.02002278],\n",
       "       [ 0.6278678 , -0.26189753,  0.47119706,  0.00536264],\n",
       "       [ 1.73030293,  1.32751069,  0.76089599,  1.31723436],\n",
       "       [-0.42863254, -0.96310704, -0.68759867, -0.69742578],\n",
       "       [-1.30139368, -1.15009624, -1.84639439, -1.54077188],\n",
       "       [-0.52050213, -0.26189753, -0.72898423, -0.32260529],\n",
       "       [-0.47456733, -1.10334894, -0.68759867, -0.32260529],\n",
       "       [-0.88798051, -0.77611783,  0.098727  ,  0.14592033],\n",
       "       [-1.0717197 , -1.15009624, -1.06006872, -1.35336164],\n",
       "       [ 1.40875935,  2.0287202 ,  0.51258262,  0.98926643],\n",
       "       [ 0.94941138,  1.9352256 ,  2.00246284,  1.64520229],\n",
       "       [ 0.6278678 , -0.77611783,  1.34029385, -0.41631041],\n",
       "       [ 0.85754179, -0.07490833,  1.42306497,  0.52074082],\n",
       "       [ 0.44412861,  0.81329039,  1.87830615,  1.55149717],\n",
       "       [-0.24489335,  0.53280658,  0.9678238 ,  1.41093948],\n",
       "       [ 0.03071544, -0.30864483,  0.18149813, -0.55686809],\n",
       "       [ 0.39819381, -0.30864483,  0.18149813, -0.04148992],\n",
       "       [-1.43919807, -0.91635974, -0.27374305, -1.35336164],\n",
       "       [ 0.99534618,  1.23401609,  0.80228155,  1.31723436],\n",
       "       [ 0.90347658,  1.32751069, -0.14958637,  0.75500362],\n",
       "       [-0.10708895,  0.20557548,  0.05734144,  0.28647801],\n",
       "       [-2.17415483, -0.58912863, -0.68759867, -1.21280395],\n",
       "       [-0.93391531, -0.54238133, -1.30838209, -0.32260529],\n",
       "       [-1.34732848, -0.68262323, -0.81175535, -0.74427834],\n",
       "       [-0.84204571, -0.91635974, -0.93591204, -0.93168858],\n",
       "       [ 0.81160699,  2.2157094 ,  1.58860722,  1.78575997],\n",
       "       [-1.99041564, -0.68262323, -0.93591204, -0.7911309 ],\n",
       "       [ 0.39819381, -0.12165563, -0.27374305,  0.23962545],\n",
       "       [-0.84204571,  0.01858628, -0.39789974, -0.7911309 ],\n",
       "       [-0.65830652, -0.40213943, -0.52205642, -0.88483602],\n",
       "       [ 0.90347658,  0.06533358, -0.39789974, -0.27575273],\n",
       "       [-0.93391531, -0.54238133, -0.56344198, -0.41631041],\n",
       "       [-0.01521936, -0.49563403, -0.56344198, -0.65057322],\n",
       "       [ 2.00591172,  1.7014891 ,  1.83692059,  1.2703818 ],\n",
       "       [ 0.26038942, -0.40213943,  0.01595588, -0.1820476 ],\n",
       "       [-0.79611091, -0.77611783, -1.18422541, -0.55686809],\n",
       "       [-0.56643693, -0.07490833, -1.59808102, -1.35336164],\n",
       "       [-0.19895855, -0.77611783, -0.19097193, -0.46316297],\n",
       "       [-0.29082814,  0.62630118, -0.48067086, -0.93168858],\n",
       "       [-0.93391531, -0.86961243, -0.89452648, -1.02539371],\n",
       "       [-0.10708895, -0.54238133, -0.68759867, -0.88483602],\n",
       "       [ 1.08721577,  1.09377419,  1.1747516 ,  1.03611899],\n",
       "       [ 0.53599821,  0.01858628, -0.64621311, -0.04148992],\n",
       "       [ 0.44412861,  0.15882818, -1.30838209, -0.08834248],\n",
       "       [ 1.08721577,  0.11208088,  0.51258262,  0.0522152 ],\n",
       "       [ 1.31688976,  0.48605928,  0.6367393 ,  0.61444594],\n",
       "       [ 0.76567219,  0.43931198, -0.64621311, -0.74427834],\n",
       "       [ 1.68436814,  2.0287202 ,  1.13336604,  1.45779204],\n",
       "       [-1.16358929, -0.49563403, -0.48067086, -0.46316297],\n",
       "       [-0.61237172, -0.72937053, -0.81175535, -1.21280395],\n",
       "       [ 0.44412861, -0.02816102, -0.14958637, -0.46316297],\n",
       "       [ 0.94941138,  1.6079945 ,  1.1747516 ,  0.52074082],\n",
       "       [-0.15302375, -1.00985434, -0.77036979, -1.4002142 ],\n",
       "       [-0.79611091, -1.00985434, -0.72898423, -1.16595139],\n",
       "       [-0.75017612, -1.66431654, -1.26699653, -0.32260529],\n",
       "       [-1.66887206, -1.10334894, -0.85314091, -1.30650907],\n",
       "       [ 0.35225902,  0.39256468,  0.88505267, -0.97854114],\n",
       "       [ 0.99534618,  0.95353229,  0.47119706,  1.31723436],\n",
       "       [-1.39326328, -1.43058004, -1.63946658, -1.11909883],\n",
       "       [-0.24489335, -0.86961243, -0.81175535, -1.16595139],\n",
       "       [-0.42863254, -0.35539213,  1.1747516 ,  0.23962545],\n",
       "       [ 1.45469415,  0.53280658,  1.25752273,  1.59834973],\n",
       "       [ 0.581933  ,  0.15882818, -0.31512861,  0.94241387],\n",
       "       [-0.15302375, -0.63587593,  0.67812486,  0.00536264],\n",
       "       [-0.9798501 , -1.19684354, -1.55669546, -1.58762444],\n",
       "       [ 1.40875935,  0.67304848, -0.06681524, -0.22890016],\n",
       "       [ 1.59249854,  2.1689621 ,  1.29890829,  1.31723436],\n",
       "       [ 0.7197374 ,  0.90678499,  0.59535374,  0.61444594],\n",
       "       [ 0.7197374 ,  0.62630118, -0.19097193,  0.33333057],\n",
       "       [-1.11765449, -1.66431654, -0.35651418, -0.97854114],\n",
       "       [-0.47456733, -0.49563403, -0.52205642, -0.08834248],\n",
       "       [-0.47456733, -0.40213943,  0.05734144, -0.27575273],\n",
       "       [ 0.81160699,  0.81329039,  0.59535374,  0.52074082],\n",
       "       [ 0.26038942,  1.04702689, -0.23235749,  0.75500362],\n",
       "       [ 0.21445463,  0.01858628, -0.10820081, -1.02539371],\n",
       "       [-2.03635044, -1.29033814, -1.88777995, -1.4002142 ],\n",
       "       [-0.38269774, -0.35539213, -0.60482754, -1.02539371],\n",
       "       [ 0.581933  ,  0.15882818, -0.39789974, -0.04148992],\n",
       "       [ 1.31688976,  0.62630118,  1.34029385,  1.45779204],\n",
       "       [ 0.21445463,  0.62630118,  1.21613717,  0.38018313],\n",
       "       [ 0.53599821, -0.16840293, -1.06006872, -0.88483602],\n",
       "       [ 1.54656375,  1.04702689,  1.34029385,  0.19277289],\n",
       "       [-0.84204571, -0.58912863,  0.098727  ,  0.09906777],\n",
       "       [ 1.45469415,  0.81329039, -0.02542968,  0.6612985 ],\n",
       "       [-2.22008963, -1.43058004, -1.68085215, -1.82188725],\n",
       "       [-1.34732848, -1.43058004, -1.68085215, -1.11909883],\n",
       "       [ 0.6278678 ,  0.15882818,  0.34704037,  1.03611899],\n",
       "       [ 0.03071544, -0.77611783, -0.72898423, -0.93168858],\n",
       "       [ 0.81160699,  0.06533358, -0.06681524, -0.74427834],\n",
       "       [ 1.17908537,  0.62630118, -0.02542968,  0.19277289],\n",
       "       [-0.61237172, -0.96310704, -1.68085215, -0.83798346],\n",
       "       [ 0.99534618,  1.04702689, -0.06681524,  0.38018313],\n",
       "       [-0.88798051, -0.30864483, -0.56344198, -0.36945785],\n",
       "       [-0.42863254, -0.72937053, -0.68759867, -0.13519504],\n",
       "       [ 0.07665023, -0.86961243, -0.10820081, -1.02539371],\n",
       "       [-1.20952409, -1.15009624, -1.34976765, -1.44706676],\n",
       "       [ 0.26038942, -1.05660164, -0.48067086, -1.44706676],\n",
       "       [-1.0717197 , -1.15009624, -0.35651418, -1.44706676],\n",
       "       [ 0.94941138,  0.95353229,  0.55396818,  0.19277289],\n",
       "       [ 0.30632422, -0.68262323, -0.02542968, -0.08834248],\n",
       "       [ 0.26038942, -1.05660164, -0.60482754, -1.25965651],\n",
       "       [ 0.81160699,  0.76654309,  1.25752273,  0.56759338],\n",
       "       [-1.53106767, -1.29033814, -1.5153099 , -1.02539371],\n",
       "       [-1.0717197 , -0.86961243, -0.81175535, -0.93168858],\n",
       "       [-0.93391531, -1.52407464, -1.30838209, -1.49391932],\n",
       "       [ 1.13315057,  1.14052149,  1.7127639 ,  0.98926643],\n",
       "       [ 1.77623773,  1.37425799,  2.25077621,  1.55149717],\n",
       "       [-0.10708895, -0.40213943,  0.30565481, -0.27575273],\n",
       "       [ 0.49006341, -0.35539213, -0.10820081,  0.09906777],\n",
       "       [-0.47456733, -1.10334894, -0.77036979, -1.30650907],\n",
       "       [ 0.7197374 , -0.54238133,  0.59535374,  0.89556131],\n",
       "       [ 0.81160699, -0.77611783, -0.10820081,  0.00536264],\n",
       "       [ 1.36282456,  1.7949837 ,  1.42306497,  1.78575997],\n",
       "       [-2.40382882, -1.47732734, -1.80500883, -1.91559237],\n",
       "       [-0.33676294, -0.63587593, -0.68759867, -1.21280395],\n",
       "       [ 0.94941138, -0.40213943, -0.10820081, -0.83798346],\n",
       "       [ 0.35225902,  2.1222148 ,  1.79553503,  1.41093948]])"
      ]
     },
     "execution_count": 53,
     "metadata": {},
     "output_type": "execute_result"
    }
   ],
   "source": [
    "# csvファイルからNumPy配列の作成\n",
    "score = np.loadtxt(\"exam_score.csv\", delimiter=\",\", skiprows=1)\n",
    "def normalize_score(a):\n",
    "    a_mean = a.mean(axis=0, keepdims=True)\n",
    "    a_std = a.std(axis=0, keepdims=True)\n",
    "    return (a - a_mean) / a_std ### 配列aの各列をその列の平均値と分散を用いて標準化した配列を求めるコード ###\n",
    "\n",
    "normalize_score(score) # 関数呼び出して標準化された配列を表示"
   ]
  },
  {
   "cell_type": "markdown",
   "metadata": {},
   "source": [
    "`normalize_score()`関数が完成したら、以下のセルを実行して標準化された`score`配列のすべての要素の和を求めることで動作を確認してください。すべての要素の和は`1.4210854715202004e-14`となります。"
   ]
  },
  {
   "cell_type": "code",
   "execution_count": 54,
   "metadata": {},
   "outputs": [
    {
     "data": {
      "text/plain": [
       "1.4210854715202004e-14"
      ]
     },
     "execution_count": 54,
     "metadata": {},
     "output_type": "execute_result"
    }
   ],
   "source": [
    "normalize_score(score).sum()"
   ]
  },
  {
   "cell_type": "markdown",
   "metadata": {},
   "source": [
    "### 参考\n",
    "pandasでは以下のようにしてデータフレームの各列をその列の平均値と分散を用いて標準化できます。"
   ]
  },
  {
   "cell_type": "code",
   "execution_count": 55,
   "metadata": {},
   "outputs": [
    {
     "data": {
      "text/html": [
       "<div>\n",
       "<style scoped>\n",
       "    .dataframe tbody tr th:only-of-type {\n",
       "        vertical-align: middle;\n",
       "    }\n",
       "\n",
       "    .dataframe tbody tr th {\n",
       "        vertical-align: top;\n",
       "    }\n",
       "\n",
       "    .dataframe thead th {\n",
       "        text-align: right;\n",
       "    }\n",
       "</style>\n",
       "<table border=\"1\" class=\"dataframe\">\n",
       "  <thead>\n",
       "    <tr style=\"text-align: right;\">\n",
       "      <th></th>\n",
       "      <th>kokugo</th>\n",
       "      <th>shakai</th>\n",
       "      <th>sugaku</th>\n",
       "      <th>rika</th>\n",
       "    </tr>\n",
       "  </thead>\n",
       "  <tbody>\n",
       "    <tr>\n",
       "      <td>0</td>\n",
       "      <td>-1.025785</td>\n",
       "      <td>0.158828</td>\n",
       "      <td>0.222884</td>\n",
       "      <td>0.614446</td>\n",
       "    </tr>\n",
       "    <tr>\n",
       "      <td>1</td>\n",
       "      <td>-0.612372</td>\n",
       "      <td>-0.869612</td>\n",
       "      <td>0.140113</td>\n",
       "      <td>0.286478</td>\n",
       "    </tr>\n",
       "    <tr>\n",
       "      <td>2</td>\n",
       "      <td>-1.071720</td>\n",
       "      <td>-0.448887</td>\n",
       "      <td>-0.935912</td>\n",
       "      <td>0.333331</td>\n",
       "    </tr>\n",
       "    <tr>\n",
       "      <td>3</td>\n",
       "      <td>1.959977</td>\n",
       "      <td>2.215709</td>\n",
       "      <td>1.298908</td>\n",
       "      <td>2.347991</td>\n",
       "    </tr>\n",
       "    <tr>\n",
       "      <td>4</td>\n",
       "      <td>0.811607</td>\n",
       "      <td>1.467753</td>\n",
       "      <td>1.340294</td>\n",
       "      <td>0.801856</td>\n",
       "    </tr>\n",
       "  </tbody>\n",
       "</table>\n",
       "</div>"
      ],
      "text/plain": [
       "     kokugo    shakai    sugaku      rika\n",
       "0 -1.025785  0.158828  0.222884  0.614446\n",
       "1 -0.612372 -0.869612  0.140113  0.286478\n",
       "2 -1.071720 -0.448887 -0.935912  0.333331\n",
       "3  1.959977  2.215709  1.298908  2.347991\n",
       "4  0.811607  1.467753  1.340294  0.801856"
      ]
     },
     "execution_count": 55,
     "metadata": {},
     "output_type": "execute_result"
    }
   ],
   "source": [
    "score_df = pd.read_csv('exam_score.csv')\n",
    "((score_df - score_df.mean()) / score_df.std(ddof=0)).head(5)"
   ]
  },
  {
   "cell_type": "markdown",
   "metadata": {},
   "source": [
    "## Q4 ヒストグラム\n",
    "`matplotlib`では、以下のように1次配列を入力として、ヒストグラムを可視化することができます。\n",
    "```Python\n",
    "plt.hist(配列, bins=階級数);\n",
    "```\n",
    "\"exam_score.csv\"ファイルを読み込み、NumPyの配列を作成し、数学（3列目）の点数のヒストグラムを可視化してください。その際、階級数は任意に設定してください。"
   ]
  },
  {
   "cell_type": "code",
   "execution_count": 59,
   "metadata": {},
   "outputs": [
    {
     "data": {
      "image/png": "[encoded data removed]",
      "text/plain": [
       "<Figure size 432x288 with 1 Axes>"
      ]
     },
     "metadata": {
      "needs_background": "light"
     },
     "output_type": "display_data"
    }
   ],
   "source": [
    "# csvファイルからNumPy配列の作成\n",
    "score = np.loadtxt(\"exam_score.csv\", delimiter=\",\", skiprows=1)\n",
    "plt.hist(score[:, 2], bins=10); ### 数学の点数の配列, bins=階級数(いくつの棒にするか) ###"
   ]
  },
  {
   "cell_type": "markdown",
   "metadata": {},
   "source": [
    "### 参考\n",
    "平均=muと標準偏差=stdの時の正規分布に従うランダムな値からなる配列を入力とするヒストグラム"
   ]
  },
  {
   "cell_type": "code",
   "execution_count": 58,
   "metadata": {},
   "outputs": [
    {
     "data": {
      "image/png": "[encoded data removed]",
      "text/plain": [
       "<Figure size 432x288 with 1 Axes>"
      ]
     },
     "metadata": {
      "needs_background": "light"
     },
     "output_type": "display_data"
    }
   ],
   "source": [
    "mu, std = 0, 1\n",
    "nor = np.random.normal(mu, std,200)\n",
    "plt.hist(nor, bins=20);"
   ]
  },
  {
   "cell_type": "markdown",
   "metadata": {},
   "source": [
    "## Q5 相関\n",
    "### Q5.1\n",
    "整数を要素とする同じ長さの2つの1次元配列を入力として受け取り、それらの配列の要素の相関係数を返す`correlation()`関数を完成させてください。2つの配列は先頭から順にそれぞれの要素が対応するものとします。それぞれの配列の対応する要素の値を$x_{i}, y_{i}$とすると、相関係数は以下のように求められます。\n",
    "\n",
    "$\\frac{1}{n}\\Sigma^{n}_{i=1}(\\frac{x_{i}-\\overline{x}}{s_{x}})(\\frac{y_{i}-\\overline{y}}{s_{y}})$\n",
    "\n",
    "$\\overline{x}, \\overline{y}$は平均、$s_{x}, s_{y}$は標準偏差です。"
   ]
  },
  {
   "cell_type": "code",
   "execution_count": 65,
   "metadata": {},
   "outputs": [],
   "source": [
    "def correlation(x, y):\n",
    "    return np.corrcoef(x, y)[0, 1]### 配列xと配列yの相関係数を計算するコード ###"
   ]
  },
  {
   "cell_type": "code",
   "execution_count": 81,
   "metadata": {},
   "outputs": [],
   "source": [
    "def correlation(x, y):\n",
    "    sum = 0\n",
    "    for i, j in zip(x, y):\n",
    "        sum += ((i-np.mean(x))/np.std(x))*((j-np.mean(y))/np.std(y))\n",
    "    return sum / len(y)"
   ]
  },
  {
   "cell_type": "markdown",
   "metadata": {},
   "source": [
    "`correlation()`関数が完成したら、以下のセルを実行して動作を確認してください。それぞれ相関係数は`1`,`-1`となります"
   ]
  },
  {
   "cell_type": "code",
   "execution_count": 82,
   "metadata": {},
   "outputs": [
    {
     "data": {
      "text/plain": [
       "1.0"
      ]
     },
     "execution_count": 82,
     "metadata": {},
     "output_type": "execute_result"
    }
   ],
   "source": [
    "correlation(np.array([-1,1]),np.array([ -1, 1]))"
   ]
  },
  {
   "cell_type": "code",
   "execution_count": 83,
   "metadata": {},
   "outputs": [
    {
     "data": {
      "text/plain": [
       "-1.0"
      ]
     },
     "execution_count": 83,
     "metadata": {},
     "output_type": "execute_result"
    }
   ],
   "source": [
    "correlation(np.array([1,-1]),np.array([-1, 1]))"
   ]
  },
  {
   "cell_type": "markdown",
   "metadata": {},
   "source": [
    "### Q5.2\n",
    "以下のような形式の\"exam_score.csv\"ファイルを読み込み、数学と理科の点数の関係を散布図として可視化してください。\n",
    "```Python\n",
    "## exam_score.csvファイル\n",
    "kokugo, shakai, sugaku, rika\n",
    "30, 43, 51, 63\n",
    "39, 21, 49, 56\n",
    "...\n",
    "```\n",
    "`matplotlib`では、以下のように2つの1次配列を入力として、散布図を可視化することができます。\n",
    "```Python\n",
    "plt.plot(配列1, 配列2, 'o');\n",
    "```"
   ]
  },
  {
   "cell_type": "code",
   "execution_count": 78,
   "metadata": {},
   "outputs": [
    {
     "data": {
      "image/png": "[encoded data removed]",
      "text/plain": [
       "<Figure size 432x288 with 1 Axes>"
      ]
     },
     "metadata": {
      "needs_background": "light"
     },
     "output_type": "display_data"
    }
   ],
   "source": [
    "# csvファイルからNumPy配列の作成\n",
    "score = np.loadtxt(\"exam_score.csv\", delimiter=\",\", skiprows=1)\n",
    "plt.plot(score[:, 2], score[:, 3], 'o'); ### 数学の点数の配列, 理科の点数の配列 ###, 'o'"
   ]
  },
  {
   "cell_type": "markdown",
   "metadata": {},
   "source": [
    "### 参考\n",
    "NumPyの`corrcoef()`関数を使うと2つの配列の共分散行列を以下のように求めることができます。"
   ]
  },
  {
   "cell_type": "code",
   "execution_count": 75,
   "metadata": {},
   "outputs": [
    {
     "data": {
      "text/plain": [
       "array([[1.        , 0.78262164],\n",
       "       [0.78262164, 1.        ]])"
      ]
     },
     "execution_count": 75,
     "metadata": {},
     "output_type": "execute_result"
    }
   ],
   "source": [
    "score = np.loadtxt(\"exam_score.csv\", delimiter=\",\", skiprows=1)\n",
    "np.corrcoef(score[:,0], score[:,1])"
   ]
  },
  {
   "cell_type": "markdown",
   "metadata": {},
   "source": [
    "pandasのcorrメソッドを使うとデータフレームの列間の相関係数を以下のように求めることができます。"
   ]
  },
  {
   "cell_type": "code",
   "execution_count": 76,
   "metadata": {},
   "outputs": [
    {
     "data": {
      "text/html": [
       "<div>\n",
       "<style scoped>\n",
       "    .dataframe tbody tr th:only-of-type {\n",
       "        vertical-align: middle;\n",
       "    }\n",
       "\n",
       "    .dataframe tbody tr th {\n",
       "        vertical-align: top;\n",
       "    }\n",
       "\n",
       "    .dataframe thead th {\n",
       "        text-align: right;\n",
       "    }\n",
       "</style>\n",
       "<table border=\"1\" class=\"dataframe\">\n",
       "  <thead>\n",
       "    <tr style=\"text-align: right;\">\n",
       "      <th></th>\n",
       "      <th>kokugo</th>\n",
       "      <th>shakai</th>\n",
       "      <th>sugaku</th>\n",
       "      <th>rika</th>\n",
       "    </tr>\n",
       "  </thead>\n",
       "  <tbody>\n",
       "    <tr>\n",
       "      <td>kokugo</td>\n",
       "      <td>1.000000</td>\n",
       "      <td>0.782622</td>\n",
       "      <td>0.718526</td>\n",
       "      <td>0.717996</td>\n",
       "    </tr>\n",
       "    <tr>\n",
       "      <td>shakai</td>\n",
       "      <td>0.782622</td>\n",
       "      <td>1.000000</td>\n",
       "      <td>0.778242</td>\n",
       "      <td>0.834075</td>\n",
       "    </tr>\n",
       "    <tr>\n",
       "      <td>sugaku</td>\n",
       "      <td>0.718526</td>\n",
       "      <td>0.778242</td>\n",
       "      <td>1.000000</td>\n",
       "      <td>0.817947</td>\n",
       "    </tr>\n",
       "    <tr>\n",
       "      <td>rika</td>\n",
       "      <td>0.717996</td>\n",
       "      <td>0.834075</td>\n",
       "      <td>0.817947</td>\n",
       "      <td>1.000000</td>\n",
       "    </tr>\n",
       "  </tbody>\n",
       "</table>\n",
       "</div>"
      ],
      "text/plain": [
       "          kokugo    shakai    sugaku      rika\n",
       "kokugo  1.000000  0.782622  0.718526  0.717996\n",
       "shakai  0.782622  1.000000  0.778242  0.834075\n",
       "sugaku  0.718526  0.778242  1.000000  0.817947\n",
       "rika    0.717996  0.834075  0.817947  1.000000"
      ]
     },
     "execution_count": 76,
     "metadata": {},
     "output_type": "execute_result"
    }
   ],
   "source": [
    "score = pd.read_csv(\"exam_score.csv\", sep=\",\")\n",
    "score.corr(method='pearson')"
   ]
  },
  {
   "cell_type": "markdown",
   "metadata": {},
   "source": [
    "これらの相関係数の大小に基づいて以下のように列間の相関の大小をヒートマップとして可視化することができます。"
   ]
  },
  {
   "cell_type": "code",
   "execution_count": 77,
   "metadata": {},
   "outputs": [
    {
     "data": {
      "image/png": "[encoded data removed]",
      "text/plain": [
       "<Figure size 432x288 with 2 Axes>"
      ]
     },
     "metadata": {
      "needs_background": "light"
     },
     "output_type": "display_data"
    }
   ],
   "source": [
    "plt.colorbar(plt.imshow(score.corr(method='pearson')));"
   ]
  },
  {
   "cell_type": "code",
   "execution_count": null,
   "metadata": {},
   "outputs": [],
   "source": []
  }
 ],
 "metadata": {
  "kernelspec": {
   "display_name": "Python 3",
   "language": "python",
   "name": "python3"
  },
  "language_info": {
   "codemirror_mode": {
    "name": "ipython",
    "version": 3
   },
   "file_extension": ".py",
   "mimetype": "text/x-python",
   "name": "python",
   "nbconvert_exporter": "python",
   "pygments_lexer": "ipython3",
   "version": "3.7.3"
  }
 },
 "nbformat": 4,
 "nbformat_minor": 2
}
