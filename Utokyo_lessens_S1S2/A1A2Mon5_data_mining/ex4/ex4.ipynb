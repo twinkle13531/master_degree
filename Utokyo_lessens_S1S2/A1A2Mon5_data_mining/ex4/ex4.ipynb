{
 "cells": [
  {
   "cell_type": "markdown",
   "metadata": {},
   "source": [
    "# 課題5 テキストデータ分析\n",
    "配点\n",
    "- Q1, 1P\n",
    "- Q2.1, 0.5P\n",
    "- Q2.2, 0.5P\n",
    "- Q2.3, 1P\n",
    "- Q3.1, 1P\n",
    "- Q3.2, 2P\n",
    "- Q3.3, 2P\n",
    "- Q4, 2P"
   ]
  },
  {
   "cell_type": "markdown",
   "metadata": {},
   "source": [
    "## Q1\n",
    "\n",
    "$n$-次元ベクトル空間における、任意の2つのベクトル、$ \\vec{x}=(x_1,x_2,...,x_n)$、$\\vec{y}=(y_1,y_2,...,y_n)$、の間のcos類似度 $cos( \\vec{x}, \\vec{y})$ は以下のように定義されます。\n",
    "\n",
    "$cos( \\vec{x}, \\vec{y}) =  \\frac{\\vec{x}\\cdot \\vec{y}}{\\|x\\|_2\\|y\\|_2}=\\frac{\\Sigma^{n}_{i=1}{x_{i}y_{i}}}{\\sqrt{\\Sigma^{n}_{i=1}x_{i}^{2}}\\sqrt{\\Sigma^{n}_{i=1}y_{i}^{2}}}$\n",
    "\n",
    "入力ベクトル $\\vec{x}$, $\\vec{y}$ をそれぞれ`NumPy` の配列として引数で受け取り、それらのベクトル間のcos類似度を計算して返す関数 `cos_sim` を完成させてください。"
   ]
  },
  {
   "cell_type": "code",
   "execution_count": 1,
   "metadata": {},
   "outputs": [],
   "source": [
    "import numpy as np"
   ]
  },
  {
   "cell_type": "code",
   "execution_count": 32,
   "metadata": {},
   "outputs": [],
   "source": [
    "def cos_sim(v1, v2):\n",
    "    return np.dot(v1, v2) / (np.linalg.norm(v1) * np.linalg.norm(v2))"
   ]
  },
  {
   "cell_type": "code",
   "execution_count": 2,
   "metadata": {},
   "outputs": [],
   "source": [
    "'''\n",
    "def cos_sim(vec1, vec2):\n",
    "    v1_sum = 0\n",
    "    v2_sum = 0\n",
    "    for i in range(2):\n",
    "        v1_sum += vec1[i]**2\n",
    "        v2_sum += vec2[i]**2\n",
    "    return np.dot(vec1, vec2) / ((v1_sum**0.5)*(v2_sum**0.5))# (vec1とvec2の内積)/np.sqrt(vec1の要素の二乗和*vec2の要素の二乗和)\n",
    "'''"
   ]
  },
  {
   "cell_type": "markdown",
   "metadata": {},
   "source": [
    "`cos_sim()`関数が完成したら、以下のセルを実行して動作を確認してください。`-1.0, 1.0, 0.0`がそれぞれのcos類似度です。"
   ]
  },
  {
   "cell_type": "code",
   "execution_count": 33,
   "metadata": {},
   "outputs": [
    {
     "name": "stdout",
     "output_type": "stream",
     "text": [
      "-1.0\n",
      "1.0\n",
      "0.0\n"
     ]
    }
   ],
   "source": [
    "print(cos_sim(np.array([1,0]), np.array([-1,0])))\n",
    "print(cos_sim(np.array([1,0]), np.array([1,0])))\n",
    "print(cos_sim(np.array([1,0]), np.array([0,-1])))"
   ]
  },
  {
   "cell_type": "markdown",
   "metadata": {},
   "source": [
    "## Q2\n",
    "\"course_list.csv\"ファイルには以下のように各行に授業名のテキストデータ（文字コードはUTF8）が含まれています。以下では、このファイルを読み込み、各授業のベクトルを作成し、授業間の類似度を求めるコードを実装します。\n",
    "```Python\n",
    "## course_list.csvファイル\n",
    "...\n",
    "計量経済学Ⅰ\n",
    "数理統計\n",
    "計量経済学\n",
    "経済史Ⅱ\n",
    "ICTマネジメントⅠ\n",
    "現代日本経済史\n",
    "経済学史\n",
    "...\n",
    "```\n",
    "まず必要なモジュールをimportします。"
   ]
  },
  {
   "cell_type": "code",
   "execution_count": 4,
   "metadata": {},
   "outputs": [],
   "source": [
    "import json\n",
    "import csv\n",
    "import numpy as np\n",
    "import pandas as pd"
   ]
  },
  {
   "cell_type": "markdown",
   "metadata": {},
   "source": [
    "### Q2.1\n",
    "\"course_list.csv\"ファイルを1行ずつ**順番に**読み込み、その各行を要素とするリストを作成して返す`course_list`関数を完成さてください。作成されたリストは変数`courses`で受け取ります。以降の処理では、リスト`courses`のインデックスをその要素（授業名）のIDとして扱います。\n"
   ]
  },
  {
   "cell_type": "code",
   "execution_count": 5,
   "metadata": {},
   "outputs": [],
   "source": [
    "def course_list():\n",
    "    lst=[]\n",
    "    with open('course_list.csv', 'r',  encoding=\"utf-8\") as f:\n",
    "        dataReader = csv.reader(f)\n",
    "        for row in dataReader:\n",
    "            lst.append(row[0])# lstにrow[0]を追加\n",
    "    return lst\n",
    "courses = course_list()"
   ]
  },
  {
   "cell_type": "markdown",
   "metadata": {},
   "source": [
    "`course_list`関数が完成したら、以下のセルを実行して動作を確認してください。リストの長さ（授業の数）は`4678`、\"Pythonプログラミング\n",
    "入門\"授業のID（リスト`courses`のインデックス）は`6`となります。"
   ]
  },
  {
   "cell_type": "code",
   "execution_count": 6,
   "metadata": {},
   "outputs": [
    {
     "name": "stdout",
     "output_type": "stream",
     "text": [
      "4678\n",
      "6\n"
     ]
    }
   ],
   "source": [
    "print(len(courses))\n",
    "print(course_list().index('Pythonプログラミング入門'))"
   ]
  },
  {
   "cell_type": "markdown",
   "metadata": {},
   "source": [
    "### Q2.2\n",
    "\"keyword_list.csv\"ファイルには以下のように各行に1単語が含まれています（文字コードはUTF8）。\n",
    "```Python\n",
    "## keyword_list.csvファイル\n",
    "...\n",
    "資源\n",
    "広域\n",
    "フランス語\n",
    "語学\n",
    "教育法\n",
    "環境学\n",
    "相関\n",
    "解析学\n",
    "森林\n",
    "...\n",
    "```\n",
    "\"keywor_list.csv\"ファイルを1行ずつ**順番に**読み込み、その各行を要素とするリストを作成して返す`vocab_list`関数を完成さてください。作成されたリストは変数`vocab`で受け取ります。以降の処理では、リスト`vocab`のインデックスをその要素（単語）のIDとして扱います。リスト`vocab`は以降の処理における語彙となります。"
   ]
  },
  {
   "cell_type": "code",
   "execution_count": 7,
   "metadata": {},
   "outputs": [],
   "source": [
    "def vocab_list():\n",
    "    lst = []\n",
    "    with open('keyword_list.csv', 'r',  encoding=\"utf-8\") as f:\n",
    "        dataReader = csv.reader(f)\n",
    "        for row in dataReader:\n",
    "            lst.append(row[0])\n",
    "    return lst\n",
    "vocab = vocab_list()"
   ]
  },
  {
   "cell_type": "markdown",
   "metadata": {},
   "source": [
    "`vocab_list`関数が完成したら、以下のセルを実行して動作を確認してください。リストの長さ（単語の数）は`910`、単語\"プログラミング\"のID（リスト`vocab`のインデックス）は`113`となります。"
   ]
  },
  {
   "cell_type": "code",
   "execution_count": 8,
   "metadata": {},
   "outputs": [
    {
     "name": "stdout",
     "output_type": "stream",
     "text": [
      "910\n",
      "113\n"
     ]
    }
   ],
   "source": [
    "print(len(vocab))\n",
    "print(vocab.index('プログラミング'))"
   ]
  },
  {
   "cell_type": "markdown",
   "metadata": {},
   "source": [
    "### Q2.3\n",
    "リスト`courses`と`vocab`を引数で受け取り、単語のID（リスト`vocab`のその単語のインデックス）をキー、その単語のDF（Document Frequency)を値とする辞書を作成して返す`count_df`関数を作成してください。作成された辞書は変数`df`で受け取ります。この場合、ある単語のDFはその単語を授業名に含む授業数に対応します。**単語が授業名に複数回含まれる場合でも1回と数えます**"
   ]
  },
  {
   "cell_type": "code",
   "execution_count": 9,
   "metadata": {},
   "outputs": [],
   "source": [
    "def count_df(courses, vocab): #Document Frequency\n",
    "    dic={}\n",
    "    for i in range(len(vocab)):\n",
    "        for course in courses:\n",
    "            if vocab[i] in course: #courseがvocab[i]を含むという条件:\n",
    "                if not i in dic:\n",
    "                    dic[i] = 0\n",
    "                dic[i] += 1 #dic[i]を1つ増やす\n",
    "                #dicにiのキーがまだない場合に注意\n",
    "    return dic\n",
    "df = count_df(courses, vocab)"
   ]
  },
  {
   "cell_type": "markdown",
   "metadata": {},
   "source": [
    "`count_df`関数が完成したら、以下のセルを実行して動作を確認してください。辞書の長さは`910`、単語\"プログラミング\"（IDは`113`）のDFは`23`、単語\"英語\"（IDは`15`）のDFは`145`となります。"
   ]
  },
  {
   "cell_type": "code",
   "execution_count": 10,
   "metadata": {},
   "outputs": [
    {
     "name": "stdout",
     "output_type": "stream",
     "text": [
      "910\n",
      "113 23\n",
      "15 145\n"
     ]
    }
   ],
   "source": [
    "print(len(df))\n",
    "print(vocab.index('プログラミング'), df[vocab.index('プログラミング')])\n",
    "print(vocab.index('英語'), df[vocab.index('英語')])"
   ]
  },
  {
   "cell_type": "markdown",
   "metadata": {},
   "source": [
    "## Q3\n",
    "### Q3.1\n",
    "リスト`vocab`の各単語を次元とする授業ベクトルを考えます。授業ベクトルの長さはリスト`vocab`の長さと等しく、リスト`vocab`のインデックス`i`の単語`vocab[i]`が授業名に含まれる時、授業ベクトルの`i`番目の要素は`1`、含まれなければ`0`とします。\n",
    "\n",
    "以下では、リスト`courses`と`vocab`を引数で受け取り、リスト`courses`の各授業のベクトルを行、リスト`vocab`の各単語を列とした`NumPy`の行列を作成して返す`lec_word_matrix`関数を完成させてください。作成した授業-単語行列は、授業（行）の授業名に単語（列）が含まれていれば、その要素が1であるような行列です。"
   ]
  },
  {
   "cell_type": "code",
   "execution_count": 11,
   "metadata": {},
   "outputs": [],
   "source": [
    "# document-term matrix\n",
    "def lec_word_matrix(courses, vocab):\n",
    "    mat = np.zeros((len(courses), len(vocab))) #授業数x単語数の0要素の行列を初期化\n",
    "    for i in range(len(courses)):\n",
    "        for j in range(len(vocab)):\n",
    "            if vocab[j] in courses[i]:#courses[i]がvocab[i]を含むという条件:\n",
    "                mat[i, j] = 1# mat[i, j]に1を代入\n",
    "    return mat"
   ]
  },
  {
   "cell_type": "markdown",
   "metadata": {},
   "source": [
    "`lec_word_matrix`関数が完成したら、以下のセルを実行して動作を確認してください。作成した授業-単語行列の要素の値の和は`17406`となります。"
   ]
  },
  {
   "cell_type": "code",
   "execution_count": 12,
   "metadata": {},
   "outputs": [
    {
     "data": {
      "text/plain": [
       "17406.0"
      ]
     },
     "execution_count": 12,
     "metadata": {},
     "output_type": "execute_result"
    }
   ],
   "source": [
    "np.sum(lec_word_matrix(courses, vocab))"
   ]
  },
  {
   "cell_type": "markdown",
   "metadata": {},
   "source": [
    "### Q3.2\n",
    "Q3.1で作成した授業-単語行列の各要素を、その授業の授業名に単語が含まれるか否かの1or0ではなく、その授業の授業名に単語が何回含まれるか（TF: Term Frequency)で表した行列を作成して返す`lec_word_tf_matrix`関数を完成させてください。"
   ]
  },
  {
   "cell_type": "code",
   "execution_count": 13,
   "metadata": {},
   "outputs": [],
   "source": [
    "# document-term matrix\n",
    "def lec_word_tf_matrix(courses, vocab):\n",
    "    mat = np.zeros((len(courses), len(vocab))) # 授業数x単語数の0要素の行列を初期化\n",
    "    for i in range(len(courses)):\n",
    "        for j in range(len(vocab)):\n",
    "            if vocab[j] in courses[i]:# courses[i]がvocab[i]を含むという条件:\n",
    "                 mat[i, j] = courses[i].count(vocab[j])# courses[i]に含まれるvocab[j]の数（ヒント count())をmat[i, j]に代入\n",
    "    return mat"
   ]
  },
  {
   "cell_type": "markdown",
   "metadata": {},
   "source": [
    "`lec_word_tf_matrix`関数が完成したら、以下のセルを実行して動作を確認してください。作成した授業-単語行列の要素の値の和は`17732`となります。"
   ]
  },
  {
   "cell_type": "code",
   "execution_count": 14,
   "metadata": {},
   "outputs": [
    {
     "data": {
      "text/plain": [
       "17732.0"
      ]
     },
     "execution_count": 14,
     "metadata": {},
     "output_type": "execute_result"
    }
   ],
   "source": [
    "np.sum(lec_word_tf_matrix(courses, vocab))"
   ]
  },
  {
   "cell_type": "markdown",
   "metadata": {},
   "source": [
    "授業「総合社会科学高度教養（計量社会科学研究）」には「科学」が2回含まれるので対応する行列の要素の値は2となります。"
   ]
  },
  {
   "cell_type": "code",
   "execution_count": 15,
   "metadata": {},
   "outputs": [
    {
     "data": {
      "text/plain": [
       "2.0"
      ]
     },
     "execution_count": 15,
     "metadata": {},
     "output_type": "execute_result"
    }
   ],
   "source": [
    "lec_word_tf_matrix(courses, vocab)[courses.index('総合社会科学高度教養（計量社会科学研究）'), vocab.index('科学')]"
   ]
  },
  {
   "cell_type": "markdown",
   "metadata": {},
   "source": [
    "### Q3.3\n",
    "Q3.2で作成した授業-単語行列の各要素（授業`i`の単語`j`の$TF_{ij}$）にその単語のIDF値を掛けたTFIDF値を要素とする行列を作成して返す`lec_word_tfidf_matrix`関数を完成させてください。作成した行列は変数`tfidf_matrix`で受け取ります。\n",
    "\n",
    "ここで、授業`i`、単語`j`のTFIDF値は以下のように定義されます。\n",
    "```Python\n",
    "TFIDF=TF_ij*log(すべての授業数/単語jのDF)=TF_ij*log(len(courses)/df[j])\n",
    "```\n",
    "`log`の計算には`np.log()`を使用してよいです。\n",
    "\n",
    "`lec_word_tfidf_matrix`関数が完成したら、以下のセルを実行して動作を確認してください。作成した授業-単語行列の要素の値の和の整数部分は`76994`となります。"
   ]
  },
  {
   "cell_type": "code",
   "execution_count": 16,
   "metadata": {},
   "outputs": [],
   "source": [
    "def lec_word_tfidf_matrix(courses, vocab, df):\n",
    "    ### 引数:\n",
    "    # courses: 授業リスト\n",
    "    # vocab: 単語リスト\n",
    "    # df: DF辞書\n",
    "    df = count_df(courses, vocab)\n",
    "    TF_ij = lec_word_tf_matrix(courses, vocab) #Q3.2で作成した授業-単語行列の各要素（授業iの単語jの 𝑇𝐹𝑖𝑗)\n",
    "    tfidf_matrix = np.zeros((len(courses), len(vocab))) \n",
    "    for i in range(len(courses)):\n",
    "        for j in range(len(vocab)):\n",
    "            # その単語のIDF値 = np.log(len(courses)/df[j])\n",
    "            tfidf_matrix[i, j] = TF_ij[i, j]*np.log(len(courses)/df[j])\n",
    "    ###  Q3.2のmat[i,j]を\"授業名iの単語jのTFIDF値\"とした行列を作成するコード ###\n",
    "    return tfidf_matrix### 上記で作成した行列を返す ###\n",
    "tfidf_matrix = lec_word_tfidf_matrix(courses, vocab, df)"
   ]
  },
  {
   "cell_type": "markdown",
   "metadata": {},
   "source": [
    "`lec_word_tfidf_matrix`関数が完成したら、以下のセルを実行して動作を確認してください。作成した授業-単語行列の要素の値の和の整数部分は`76994`となります。"
   ]
  },
  {
   "cell_type": "code",
   "execution_count": 17,
   "metadata": {},
   "outputs": [
    {
     "data": {
      "text/plain": [
       "76994.09284193128"
      ]
     },
     "execution_count": 17,
     "metadata": {},
     "output_type": "execute_result"
    }
   ],
   "source": [
    "np.sum(lec_word_tfidf_matrix(courses, vocab, df))\n",
    "#np.sum(tfidf_matrix)"
   ]
  },
  {
   "cell_type": "markdown",
   "metadata": {},
   "source": [
    "授業「総合社会科学高度教養（計量社会科学研究）」には「科学」が`2`回含まれ、「科学」のDF値は`412`なので対応する行列の要素の値は$2*log(4678/412)\\simeq4.85$となります。"
   ]
  },
  {
   "cell_type": "code",
   "execution_count": 18,
   "metadata": {},
   "outputs": [
    {
     "name": "stdout",
     "output_type": "stream",
     "text": [
      "412\n",
      "4.859205195589196\n"
     ]
    }
   ],
   "source": [
    "print(df[vocab.index('科学')])\n",
    "print(tfidf_matrix[courses.index('総合社会科学高度教養（計量社会科学研究）'), vocab.index('科学')])"
   ]
  },
  {
   "cell_type": "markdown",
   "metadata": {},
   "source": [
    "## Q4\n",
    "Q3.3で作成した授業-単語行列を元に、入力の授業に対してcos類似度に基づいて他のすべての授業との類似度を計算し、類似する授業名をキー、その類似度を値とした辞書を返す以下の`find_similar_course`関数を完成させてください。その際、入力の授業および類似度が0の授業は辞書に含めないようにしてください。cos類似度の計算にはQ1で作成した関数を使ってもよいです。"
   ]
  },
  {
   "cell_type": "code",
   "execution_count": 29,
   "metadata": {},
   "outputs": [],
   "source": [
    "def find_similar_course(target, tfidf_matrix, courses):\n",
    "    ### 引数：\n",
    "    # target:  入力授業のID\n",
    "    # tfidf_matrix: Q3.3で作成した授業-単語行列\n",
    "    # courses: 授業リスト    \n",
    "    ### 入力授業のベクトルtfidf_matrix[target]と各授業iのベクトルtfidf_matrix[i]の類似度を計算するコード ###\n",
    "    dic_cos = {}\n",
    "    for i in range(len(courses)):\n",
    "        if cos_sim(np.array(tfidf_matrix[target]), np.array(tfidf_matrix[i])) != 0:\n",
    "            dic_cos[courses[i]] = cos_sim(np.array(tfidf_matrix[target]), np.array(tfidf_matrix[i]))\n",
    "    return dic_cos ### 類似する授業名をキー、その類似度を値とする辞書を返す ###"
   ]
  },
  {
   "cell_type": "markdown",
   "metadata": {},
   "source": [
    "`find_similar_course`関数が完成したら、以下のセルを実行して動作を確認してください。入力の授業`再生可能エネルギーと公共政策`に類似した上位の授業は、`公共政策、金融市場と公共政策、文化人類学特殊演習（公共政策論）、エネルギー政策、河川流域の環境とその再生、...`となります。"
   ]
  },
  {
   "cell_type": "code",
   "execution_count": 34,
   "metadata": {},
   "outputs": [
    {
     "data": {
      "text/html": [
       "<div>\n",
       "<style scoped>\n",
       "    .dataframe tbody tr th:only-of-type {\n",
       "        vertical-align: middle;\n",
       "    }\n",
       "\n",
       "    .dataframe tbody tr th {\n",
       "        vertical-align: top;\n",
       "    }\n",
       "\n",
       "    .dataframe thead th {\n",
       "        text-align: right;\n",
       "    }\n",
       "</style>\n",
       "<table border=\"1\" class=\"dataframe\">\n",
       "  <thead>\n",
       "    <tr style=\"text-align: right;\">\n",
       "      <th></th>\n",
       "      <th>title</th>\n",
       "      <th>similarity</th>\n",
       "    </tr>\n",
       "  </thead>\n",
       "  <tbody>\n",
       "    <tr>\n",
       "      <td>3</td>\n",
       "      <td>再生可能エネルギーと公共政策</td>\n",
       "      <td>1.000000</td>\n",
       "    </tr>\n",
       "    <tr>\n",
       "      <td>27</td>\n",
       "      <td>公共政策</td>\n",
       "      <td>0.649841</td>\n",
       "    </tr>\n",
       "    <tr>\n",
       "      <td>4</td>\n",
       "      <td>金融市場と公共政策</td>\n",
       "      <td>0.483719</td>\n",
       "    </tr>\n",
       "    <tr>\n",
       "      <td>31</td>\n",
       "      <td>文化人類学特殊演習（公共政策論）</td>\n",
       "      <td>0.475690</td>\n",
       "    </tr>\n",
       "    <tr>\n",
       "      <td>1</td>\n",
       "      <td>エネルギー政策</td>\n",
       "      <td>0.442935</td>\n",
       "    </tr>\n",
       "    <tr>\n",
       "      <td>63</td>\n",
       "      <td>河川流域の環境とその再生</td>\n",
       "      <td>0.413535</td>\n",
       "    </tr>\n",
       "    <tr>\n",
       "      <td>46</td>\n",
       "      <td>エネルギー・資源政策論</td>\n",
       "      <td>0.366721</td>\n",
       "    </tr>\n",
       "    <tr>\n",
       "      <td>13</td>\n",
       "      <td>発生・再生生物学</td>\n",
       "      <td>0.303553</td>\n",
       "    </tr>\n",
       "    <tr>\n",
       "      <td>62</td>\n",
       "      <td>公共経営学</td>\n",
       "      <td>0.277481</td>\n",
       "    </tr>\n",
       "    <tr>\n",
       "      <td>57</td>\n",
       "      <td>エネルギー変換工学</td>\n",
       "      <td>0.267711</td>\n",
       "    </tr>\n",
       "  </tbody>\n",
       "</table>\n",
       "</div>"
      ],
      "text/plain": [
       "               title  similarity\n",
       "3     再生可能エネルギーと公共政策    1.000000\n",
       "27              公共政策    0.649841\n",
       "4          金融市場と公共政策    0.483719\n",
       "31  文化人類学特殊演習（公共政策論）    0.475690\n",
       "1            エネルギー政策    0.442935\n",
       "63      河川流域の環境とその再生    0.413535\n",
       "46       エネルギー・資源政策論    0.366721\n",
       "13          発生・再生生物学    0.303553\n",
       "62             公共経営学    0.277481\n",
       "57         エネルギー変換工学    0.267711"
      ]
     },
     "execution_count": 34,
     "metadata": {},
     "output_type": "execute_result"
    }
   ],
   "source": [
    "import sys\n",
    "title=\"再生可能エネルギーと公共政策\" # 入力の授業名\n",
    "results=find_similar_course(courses.index(title), tfidf_matrix, courses) # 類似授業の辞書を受け取る\n",
    "df=pd.DataFrame(list(results.items()), columns=['title', \"similarity\"]) # 類似度が上位の授業を表示\n",
    "df.sort_values(by='similarity', ascending=False).head(10)"
   ]
  },
  {
   "cell_type": "code",
   "execution_count": null,
   "metadata": {},
   "outputs": [],
   "source": []
  }
 ],
 "metadata": {
  "kernelspec": {
   "display_name": "Python 3",
   "language": "python",
   "name": "python3"
  },
  "language_info": {
   "codemirror_mode": {
    "name": "ipython",
    "version": 3
   },
   "file_extension": ".py",
   "mimetype": "text/x-python",
   "name": "python",
   "nbconvert_exporter": "python",
   "pygments_lexer": "ipython3",
   "version": "3.7.3"
  }
 },
 "nbformat": 4,
 "nbformat_minor": 2
}
