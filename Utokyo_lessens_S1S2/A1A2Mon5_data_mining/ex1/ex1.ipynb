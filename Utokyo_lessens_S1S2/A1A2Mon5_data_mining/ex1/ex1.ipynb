{
 "cells": [
  {
   "cell_type": "markdown",
   "metadata": {},
   "source": [
    "# 課題1 データの基本的な記述統計の計算\n",
    "データの特徴を指標（統計値）によって記述することを記述統計と呼びます。データ分析の過程で、記述統計は分析対象のデータを観察し、理解するのに用いられます。\n",
    "\n",
    "記述統計により対象データを理解することは、データの前処理（欠損値、外れ値、異常値の処理）の準備にもなります。\n",
    "\n",
    "記述統計および前処理について次回以降の授業で詳しく説明します。\n",
    "\n",
    "代表的な記述統計に平均があります。平均はデータの中心傾向を記述するための指標で、データが$n$個の数値要素からなる場合、平均は以下のように計算できます。$x_{i}$はデータの各要素を表しています。\n",
    "\n",
    "$\\frac{1}{n}\\Sigma^{n}_{i=1}x_{i}$\n",
    "\n",
    "以下では、Pythonの基礎で学んだ内容を元にして、数値データの平均に加えて最大値、最小値を求めるPythonコードを実装します。"
   ]
  },
  {
   "cell_type": "markdown",
   "metadata": {},
   "source": [
    "## Q1\n",
    "非負の整数（最大でも10,000,000とする）を要素とする任意の長さのリストを引数で入力として受け取り、以下を要素とするリストを返す`avg_max_min`関数を完成させてください。\n",
    "- 入力リストの全ての要素の平均値\n",
    "- 入力リストの全ての要素の中で最大の値\n",
    "- 入力リストの全ての要素の中で最小の値"
   ]
  },
  {
   "cell_type": "code",
   "execution_count": 1,
   "metadata": {},
   "outputs": [],
   "source": [
    "def avg_max_min(input_list):\n",
    "    avg_value=0 # 平均値を初期化\n",
    "    max_value=-1 # 最大値を初期化\n",
    "    min_value= 10**7 # 最小値を初期化    \n",
    "    sum_value=0 # 要素の和を初期化\n",
    "    results=[] # 結果のリスト\n",
    "    \n",
    "    for value in input_list:\n",
    "        sum_value += value\n",
    "        \n",
    "        if max_value <= value:\n",
    "            max_value = value\n",
    "            \n",
    "        if min_value >= value:\n",
    "            min_value = value\n",
    "        \n",
    "    avg_value = sum_value/len(input_list)\n",
    "    \n",
    "    results.append(avg_value) \n",
    "    results.append(max_value)\n",
    "    results.append(min_value)\n",
    "    return results    "
   ]
  },
  {
   "cell_type": "markdown",
   "metadata": {},
   "source": [
    "`avg_max_min`関数が完成したら、以下のセルを実行して動作を確認してください。"
   ]
  },
  {
   "cell_type": "code",
   "execution_count": 2,
   "metadata": {},
   "outputs": [
    {
     "data": {
      "text/plain": [
       "[52.8, 95, 29]"
      ]
     },
     "execution_count": 2,
     "metadata": {},
     "output_type": "execute_result"
    }
   ],
   "source": [
    "avg_max_min([30,39,29,95,70,67,29,56,45,68])"
   ]
  },
  {
   "cell_type": "markdown",
   "metadata": {},
   "source": [
    "以下のセルを実行して、実行結果が上記と同じであること確認してください。結果が異なる場合は、作成した`avg_max_min`関数に誤りがないか確認してください。"
   ]
  },
  {
   "cell_type": "code",
   "execution_count": 14,
   "metadata": {},
   "outputs": [
    {
     "data": {
      "text/plain": [
       "[52.8, 95, 29]"
      ]
     },
     "execution_count": 14,
     "metadata": {},
     "output_type": "execute_result"
    }
   ],
   "source": [
    "# avg_max_min関数の結果を検証するための関数\n",
    "def avg_max_min_test(input_list):\n",
    "    return [sum(input_list)/len(input_list), max(input_list), min(input_list)]\n",
    "\n",
    "avg_max_min_test([30,39,29,95,70,67,29,56,45,68])"
   ]
  },
  {
   "cell_type": "markdown",
   "metadata": {},
   "source": [
    "## Q2\n",
    "以下のような形式の\"SSDSE.csv\"ファイルを読み込み、\"人口総数\", \"人口総数(男)\", \"人口総数(女)\"、の各列に対応するキーを、\"total\", \"male\", \"female\"、として、各列の平均値、最大値、最小値のリストを値に持つ以下のような辞書を返す`population_stat`関数を完成させてください。その際、先に作成した`avg_max_min`関数を利用してください。\n",
    "```Python\n",
    "## SSDSE.csvファイル\n",
    "code, prefecture, municipality, A1101,\tA110101, A110102, ...\n",
    "地域コード, 都道府県, 市区町村, 人口総数, 人口総数（男）, 人口総数（女）, ...\n",
    "R01100, 北海道, 札幌市, 1952356, 910614, 1041742\n",
    "R01202, 北海道, 函館市, 265979, 120376, 145603\n",
    "R01203, 北海道, 小樽市, 121924, 54985, 66939\n",
    "...\n",
    "\n",
    "## 結果の辞書\n",
    "{'total': ['人口総数の平均', '人口総数の最大値', '人口総数の最小値'],\n",
    " 'male': ['人口総数（男）の平均', '人口総数（男）の最大値', '人口総数（男）の最小値'],\n",
    " 'female': ['人口総数（女）の平均', '人口総数（女）の最大値', '人口総数（女）の最小値']}\n",
    "```\n",
    "\n",
    "### 参考\n",
    "\n",
    "- [教育用標準データセット](https://www.nstac.go.jp/SSDSE/)"
   ]
  },
  {
   "cell_type": "code",
   "execution_count": 3,
   "metadata": {},
   "outputs": [],
   "source": [
    "import csv\n",
    "\n",
    "def population_stat():\n",
    "    total=[] # 人口総数のリストを初期化\n",
    "    male=[] # 人口総数(男)のリストを初期化\n",
    "    female=[] # 人口総数(女)のリストを初期化\n",
    "    \n",
    "    with open('SSDSE.csv', 'r', encoding=\"utf-8\") as handler: # ファイルオープン\n",
    "        csv_reader = csv.reader(handler) \n",
    "        for row in csv_reader: # 1行ずつ読み込み\n",
    "            if csv_reader.line_num > 2: # 3行以降を処理する\n",
    "                ### 各市町村の人口総数, int(row[3]), をtotalに追加するコード ###\n",
    "                total.append(int(row[3]))\n",
    "                ### 各市町村の人口総数(男), int(row[4]), をmaleに追加するコード ###\n",
    "                male.append(int(row[4]))\n",
    "                ### 各市町村の人口総数(女), int(row[5]), をfemaleに追加するコード ###\n",
    "                female.append(int(row[5]))\n",
    "    total_stat = avg_max_min(total) ### 人口総数の平均値、最大値、最小値のリストを計算するコード###\n",
    "    male_stat = avg_max_min(male) ### 人口総数（男）の平均値、最大値、最小値のリストを計算するコード###\n",
    "    female_stat = avg_max_min(female) ### 人口総数（女）の平均値、最大値、最小値のリストを計算するコード###\n",
    "    \n",
    "    results={\"total\":total_stat, \"male\":male_stat, \"female\":female_stat} # 結果の辞書\n",
    "    return results"
   ]
  },
  {
   "cell_type": "markdown",
   "metadata": {},
   "source": [
    "`poplation_stat`関数が完成したら、以下のセルを実行して動作を確認してください。"
   ]
  },
  {
   "cell_type": "code",
   "execution_count": 4,
   "metadata": {},
   "outputs": [
    {
     "data": {
      "text/plain": [
       "{'total': [73001.00229753015, 3724844, 0],\n",
       " 'male': [35520.814474439976, 1855985, 0],\n",
       " 'female': [37480.18782309018, 1868859, 0]}"
      ]
     },
     "execution_count": 4,
     "metadata": {},
     "output_type": "execute_result"
    }
   ],
   "source": [
    "population_stat()"
   ]
  },
  {
   "cell_type": "markdown",
   "metadata": {},
   "source": [
    "以下のセルを実行して、実行結果が上記と同じであること確認してください。結果が異なる場合は、作成した`exam_stat`関数に誤りがないか確認してください。"
   ]
  },
  {
   "cell_type": "code",
   "execution_count": 15,
   "metadata": {},
   "outputs": [
    {
     "data": {
      "text/plain": [
       "{'total': [73001.00229753015, 3724844, 0],\n",
       " 'male': [35520.814474439976, 1855985, 0],\n",
       " 'female': [37480.18782309018, 1868859, 0]}"
      ]
     },
     "execution_count": 15,
     "metadata": {},
     "output_type": "execute_result"
    }
   ],
   "source": [
    "import pandas as pd\n",
    "\n",
    "def population_stat_test():\n",
    "    stat = pd.read_csv('SSDSE.csv',  skiprows=[1])\n",
    "    return {\"total\":[stat['A1101'].mean(), stat['A1101'].max(), stat['A1101'].min()],\\\n",
    "                 \"male\":[stat['A110101'].mean(), stat['A110101'].max(), stat['A110101'].min()], \\\n",
    "                 \"female\":[stat['A110102'].mean(), stat['A110102'].max(), stat['A110102'].min()]}\n",
    "\n",
    "population_stat_test()"
   ]
  }
 ],
 "metadata": {
  "kernelspec": {
   "display_name": "Python 3",
   "language": "python",
   "name": "python3"
  },
  "language_info": {
   "codemirror_mode": {
    "name": "ipython",
    "version": 3
   },
   "file_extension": ".py",
   "mimetype": "text/x-python",
   "name": "python",
   "nbconvert_exporter": "python",
   "pygments_lexer": "ipython3",
   "version": "3.7.4"
  }
 },
 "nbformat": 4,
 "nbformat_minor": 2
}
