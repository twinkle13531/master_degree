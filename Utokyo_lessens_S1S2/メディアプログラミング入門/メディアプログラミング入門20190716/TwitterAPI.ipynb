{
 "cells": [
  {
   "cell_type": "markdown",
   "metadata": {},
   "source": [
    "# Twitter APIの利用\n",
    "\n",
    "このファイルは参考資料です。   \n",
    "Twitter APIを利用するためには、同社のサイトにてアカウントの取得が必要ですが、   \n",
    "個人情報を登録することが必要となるため、**このファイルは実行しなくても結構です。**\n",
    "\n",
    "\n",
    "## 拡張モジュールのインストール\n",
    "\n",
    "まず始めにAnaconda Navigatorでrequests-oauthlibをインストールします。\n",
    "\n",
    "また追加でtweepyというモジュールも必要です。   \n",
    "tweepyはAnaconda Navigatorではインストールできないので、Anaconda Promptを開いて、以下のコマンドでインストールします。\n",
    "\n",
    "`% pip install tweepy`\n",
    "\n",
    "なお、Twitter apiには15分あたりに15回（リクエストの種類によっては180回）のアクセス制限があり、  \n",
    "それを超えると15分間は`Rate limit exceeded`というメッセージが返され、  \n",
    "アクセスが遮断されるので注意してください（15分待てば回復するはずです）。   \n",
    "\n",
    "\n",
    "詳しくは[こちら](https://developer.twitter.com/en/docs/basics/rate-limiting.html)にあります。"
   ]
  },
  {
   "cell_type": "markdown",
   "metadata": {},
   "source": [
    "# Twitterから特定ユーザの情報を取得\n",
    "\n",
    "特定ユーザ(以下の例では東京大学 @UTokyo_News）の情報を取得します。\n"
   ]
  },
  {
   "cell_type": "code",
   "execution_count": 1,
   "metadata": {},
   "outputs": [
    {
     "name": "stdout",
     "output_type": "stream",
     "text": [
      "User(_api=<tweepy.api.API object at 0x00000266BB152278>, _json={'id': 300045014, 'id_str': '300045014', 'name': '東京大学 | UTokyo', 'screen_name': 'UTokyo_News', 'location': '東京都', 'profile_location': None, 'description': '東京大学の公式Twitterアカウントです。 (English: @UTokyo_News_en)  東京大学の取組み、活動状況をお知らせします。', 'url': 'http://t.co/1XB3oFPR68', 'entities': {'url': {'urls': [{'url': 'http://t.co/1XB3oFPR68', 'expanded_url': 'http://www.u-tokyo.ac.jp/', 'display_url': 'u-tokyo.ac.jp', 'indices': [0, 22]}]}, 'description': {'urls': []}}, 'protected': False, 'followers_count': 40157, 'friends_count': 40, 'listed_count': 627, 'created_at': 'Tue May 17 03:15:23 +0000 2011', 'favourites_count': 2, 'utc_offset': None, 'time_zone': None, 'geo_enabled': False, 'verified': True, 'statuses_count': 3105, 'lang': None, 'status': {'created_at': 'Mon Jul 15 01:05:11 +0000 2019', 'id': 1150571982473302019, 'id_str': '1150571982473302019', 'text': '現在世界中で使われている太陽電池のほとんどが、半導体にシリコンを使ったタイプ。性質の異なる半導体を組み合わせればより高い変換効率を発揮します。変換効率が高い太陽電池の製造コストを下げること。それが岡田至崇教授らの研究テーマです。… https://t.co/lUHgaayxq5', 'truncated': True, 'entities': {'hashtags': [], 'symbols': [], 'user_mentions': [], 'urls': [{'url': 'https://t.co/lUHgaayxq5', 'expanded_url': 'https://twitter.com/i/web/status/1150571982473302019', 'display_url': 'twitter.com/i/web/status/1…', 'indices': [116, 139]}]}, 'source': '<a href=\"https://www.hootsuite.com\" rel=\"nofollow\">Hootsuite Inc.</a>', 'in_reply_to_status_id': None, 'in_reply_to_status_id_str': None, 'in_reply_to_user_id': None, 'in_reply_to_user_id_str': None, 'in_reply_to_screen_name': None, 'geo': None, 'coordinates': None, 'place': None, 'contributors': None, 'is_quote_status': False, 'retweet_count': 10, 'favorite_count': 36, 'favorited': False, 'retweeted': False, 'possibly_sensitive': False, 'lang': 'ja'}, 'contributors_enabled': False, 'is_translator': False, 'is_translation_enabled': False, 'profile_background_color': '0033CC', 'profile_background_image_url': 'http://abs.twimg.com/images/themes/theme1/bg.png', 'profile_background_image_url_https': 'https://abs.twimg.com/images/themes/theme1/bg.png', 'profile_background_tile': False, 'profile_image_url': 'http://pbs.twimg.com/profile_images/741125819200868353/dGZZ8ywt_normal.jpg', 'profile_image_url_https': 'https://pbs.twimg.com/profile_images/741125819200868353/dGZZ8ywt_normal.jpg', 'profile_banner_url': 'https://pbs.twimg.com/profile_banners/300045014/1457508540', 'profile_link_color': '0084B4', 'profile_sidebar_border_color': 'C0DEED', 'profile_sidebar_fill_color': 'DDEEF6', 'profile_text_color': '333333', 'profile_use_background_image': True, 'has_extended_profile': False, 'default_profile': False, 'default_profile_image': False, 'following': False, 'follow_request_sent': False, 'notifications': False, 'translator_type': 'none'}, id=300045014, id_str='300045014', name='東京大学 | UTokyo', screen_name='UTokyo_News', location='東京都', profile_location=None, description='東京大学の公式Twitterアカウントです。 (English: @UTokyo_News_en)  東京大学の取組み、活動状況をお知らせします。', url='http://t.co/1XB3oFPR68', entities={'url': {'urls': [{'url': 'http://t.co/1XB3oFPR68', 'expanded_url': 'http://www.u-tokyo.ac.jp/', 'display_url': 'u-tokyo.ac.jp', 'indices': [0, 22]}]}, 'description': {'urls': []}}, protected=False, followers_count=40157, friends_count=40, listed_count=627, created_at=datetime.datetime(2011, 5, 17, 3, 15, 23), favourites_count=2, utc_offset=None, time_zone=None, geo_enabled=False, verified=True, statuses_count=3105, lang=None, status=Status(_api=<tweepy.api.API object at 0x00000266BB152278>, _json={'created_at': 'Mon Jul 15 01:05:11 +0000 2019', 'id': 1150571982473302019, 'id_str': '1150571982473302019', 'text': '現在世界中で使われている太陽電池のほとんどが、半導体にシリコンを使ったタイプ。性質の異なる半導体を組み合わせればより高い変換効率を発揮します。変換効率が高い太陽電池の製造コストを下げること。それが岡田至崇教授らの研究テーマです。… https://t.co/lUHgaayxq5', 'truncated': True, 'entities': {'hashtags': [], 'symbols': [], 'user_mentions': [], 'urls': [{'url': 'https://t.co/lUHgaayxq5', 'expanded_url': 'https://twitter.com/i/web/status/1150571982473302019', 'display_url': 'twitter.com/i/web/status/1…', 'indices': [116, 139]}]}, 'source': '<a href=\"https://www.hootsuite.com\" rel=\"nofollow\">Hootsuite Inc.</a>', 'in_reply_to_status_id': None, 'in_reply_to_status_id_str': None, 'in_reply_to_user_id': None, 'in_reply_to_user_id_str': None, 'in_reply_to_screen_name': None, 'geo': None, 'coordinates': None, 'place': None, 'contributors': None, 'is_quote_status': False, 'retweet_count': 10, 'favorite_count': 36, 'favorited': False, 'retweeted': False, 'possibly_sensitive': False, 'lang': 'ja'}, created_at=datetime.datetime(2019, 7, 15, 1, 5, 11), id=1150571982473302019, id_str='1150571982473302019', text='現在世界中で使われている太陽電池のほとんどが、半導体にシリコンを使ったタイプ。性質の異なる半導体を組み合わせればより高い変換効率を発揮します。変換効率が高い太陽電池の製造コストを下げること。それが岡田至崇教授らの研究テーマです。… https://t.co/lUHgaayxq5', truncated=True, entities={'hashtags': [], 'symbols': [], 'user_mentions': [], 'urls': [{'url': 'https://t.co/lUHgaayxq5', 'expanded_url': 'https://twitter.com/i/web/status/1150571982473302019', 'display_url': 'twitter.com/i/web/status/1…', 'indices': [116, 139]}]}, source='Hootsuite Inc.', source_url='https://www.hootsuite.com', in_reply_to_status_id=None, in_reply_to_status_id_str=None, in_reply_to_user_id=None, in_reply_to_user_id_str=None, in_reply_to_screen_name=None, geo=None, coordinates=None, place=None, contributors=None, is_quote_status=False, retweet_count=10, favorite_count=36, favorited=False, retweeted=False, possibly_sensitive=False, lang='ja'), contributors_enabled=False, is_translator=False, is_translation_enabled=False, profile_background_color='0033CC', profile_background_image_url='http://abs.twimg.com/images/themes/theme1/bg.png', profile_background_image_url_https='https://abs.twimg.com/images/themes/theme1/bg.png', profile_background_tile=False, profile_image_url='http://pbs.twimg.com/profile_images/741125819200868353/dGZZ8ywt_normal.jpg', profile_image_url_https='https://pbs.twimg.com/profile_images/741125819200868353/dGZZ8ywt_normal.jpg', profile_banner_url='https://pbs.twimg.com/profile_banners/300045014/1457508540', profile_link_color='0084B4', profile_sidebar_border_color='C0DEED', profile_sidebar_fill_color='DDEEF6', profile_text_color='333333', profile_use_background_image=True, has_extended_profile=False, default_profile=False, default_profile_image=False, following=False, follow_request_sent=False, notifications=False, translator_type='none')\n"
     ]
    }
   ],
   "source": [
    "import tweepy\n",
    "\n",
    "CONSUMER_KEY = 'xxxxx'\n",
    "CONSUMER_SECRET = 'xxxxx'\n",
    "ACCESS_TOKEN = 'xxxxx'\n",
    "ACCESS_TOKEN_SECRET = 'xxxxx'\n",
    "\n",
    "# ↓探したいユーザーの「@」以降のアカウント名を入れる\n",
    "screen_name = 'UTokyo_News'\n",
    "\n",
    "auth = tweepy.OAuthHandler(CONSUMER_KEY, CONSUMER_SECRET)\n",
    "auth.set_access_token(ACCESS_TOKEN, ACCESS_TOKEN_SECRET)\n",
    "api = tweepy.API(auth)\n",
    "user_info = api.get_user(screen_name=screen_name)\n",
    "print(user_info)\n"
   ]
  },
  {
   "cell_type": "markdown",
   "metadata": {},
   "source": [
    "## 情報を見やすく整形"
   ]
  },
  {
   "cell_type": "code",
   "execution_count": 2,
   "metadata": {},
   "outputs": [
    {
     "name": "stdout",
     "output_type": "stream",
     "text": [
      "【名前】東京大学 | UTokyo\n",
      "【アカウント名】UTokyo_News\n",
      "【自己紹介】東京大学の公式Twitterアカウントです。 (English: @UTokyo_News_en)  東京大学の取組み、活動状況をお知らせします。\n",
      "【画像URL】https://pbs.twimg.com/profile_images/741125819200868353/dGZZ8ywt_normal.jpg\n",
      "【フォロー数】:40\n",
      "【フォロワー数】:40157\n"
     ]
    }
   ],
   "source": [
    "print('【名前】{}\\n【アカウント名】{}\\n【自己紹介】{}\\n【画像URL】{}\\n【フォロー数】:{}\\n【フォロワー数】:{}'\n",
    "      .format(user_info.name, user_info.screen_name, user_info.description, \n",
    "              user_info.profile_image_url_https, user_info.friends_count, user_info.followers_count))\n"
   ]
  },
  {
   "cell_type": "markdown",
   "metadata": {},
   "source": [
    "## 当該ユーザがフォローしているユーザのリストを表示"
   ]
  },
  {
   "cell_type": "code",
   "execution_count": 3,
   "metadata": {},
   "outputs": [
    {
     "name": "stdout",
     "output_type": "stream",
     "text": [
      "1:\t東京大学総合図書館 ::: @UTokyo_GenLib\n",
      "2:\t東京カレッジ / Tokyo College ::: @CollegeTokyo\n",
      "3:\tIRCN_UTokyo ::: @IRCN_UTokyo\n",
      "4:\t東京大学史料編纂所 ::: @UTokyo_HI\n",
      "5:\tキミの東大―高校生・受験生向けサイト ::: @KiminoUTokyo\n",
      "6:\tPHISEM ::: @PHISEM_UT\n",
      "7:\t東京大学附属図書館ASKサービス ::: @UTokyoLibAsk\n",
      "8:\tアカデミックコモンズサポーター ::: @acsUTokyoNewLib\n",
      "9:\tU-PARL ::: @U_PARL\n",
      "10:\tCSIS official ::: @CSISut\n",
      "11:\t東大FFP「教える」を学ぶ ::: @TodaiFD\n",
      "12:\tInteractive Teaching ::: @InteractivTeach\n",
      "13:\t東大TV ::: @UTokyoTV\n",
      "14:\tKavli IPMU ::: @KavliIPMU\n",
      "15:\t東京大学大気海洋研究所図書室 ::: @UTokyo_aorilib\n",
      "16:\t東京大学 物性研究所 ::: @UTokyo_issp\n",
      "17:\t宇宙線研究所 ::: @ICRRpr\n",
      "18:\ttobunken (IASA, UT) ::: @tobunken\n",
      "19:\t東京大学情報学環・学際情報学府図書室 ::: @UTokyo_iiiLib\n",
      "20:\t東京大学駒場図書館 ::: @UTokyoKomabaLib\n",
      "21:\t東京大学駒場博物館 ::: @komabamuseum\n",
      "22:\t東京大学農学生命科学図書館 ::: @UTokyo_AgLib\n",
      "23:\t東大農学部 ::: @UTokyo_Agri\n",
      "24:\t東京大学工学部広報室 ::: @Eng_Univ_Tokyo\n",
      "25:\tGraSPP 東京大学公共政策大学院 ::: @UTokyoGraSPP\n",
      "26:\t東京大学地球惑星科学専攻 ::: @eps_UTokyo\n",
      "27:\t東京大学法学部附属明治新聞雑誌文庫 ::: @UTokyo_LMeiji\n",
      "28:\t東大GACoS ::: @gacos_utokyo\n",
      "29:\t東大さんぽ ::: @todai_sanpo\n",
      "30:\t東京大学 体験活動プログラム ::: @UTokyotaiken\n",
      "31:\tNihongo Center,Todai ::: @TodaiNihongoC\n",
      "32:\tUTokyo_OCW ::: @UTokyo_OCW\n",
      "33:\t東京大学生協駒場購買部 ::: @komabakoubai\n",
      "34:\tインターメディアテク ::: @IMT_Tokyo\n",
      "35:\tPEAK, Univ. of Tokyo ::: @Todai_PEAK\n",
      "36:\t東京大学先端科学技術研究センター ::: @UTokyo_Rcast\n",
      "37:\t東京大学未来ビジョン研究センター ::: @UTokyoIFI\n",
      "38:\t東京大学新図書館計画 ::: @UTokyoNewLib\n",
      "39:\tUTokyo Go Global ::: @todai_global\n",
      "40:\t東大ナビ:東京大学公式イベント情報 ::: @UTokyo_navi\n"
     ]
    }
   ],
   "source": [
    "friends_ids = []\n",
    "# フォローした人のIDを全取得\n",
    "# Cursor使うとすべて取ってきてくれるが，配列ではなくなるので配列に入れる\n",
    "for friend_id in tweepy.Cursor(api.friends_ids, user_id=user_info.id).items():\n",
    "    friends_ids.append(friend_id)\n",
    "\n",
    "# 100IDsずつに詳細取得\n",
    "num = 1\n",
    "for i in range(0, len(friends_ids), 100):\n",
    "    for user in api.lookup_users(user_ids=friends_ids[i:i+100]):\n",
    "        print(str(num) + ':\\t' + str(user.name) + \" ::: @\" + str(user.screen_name))\n",
    "        num += 1\n",
    "        "
   ]
  },
  {
   "cell_type": "markdown",
   "metadata": {},
   "source": [
    "## 当該ユーザをフォローしているフォロワーの表示\n",
    "\n",
    "Twitter情報の取得は、一気にやりすぎると、その取得元のアカウントが遮断されて、15分ほど"
   ]
  },
  {
   "cell_type": "code",
   "execution_count": 4,
   "metadata": {},
   "outputs": [
    {
     "name": "stdout",
     "output_type": "stream",
     "text": [
      "1:\tLinbo Wang ::: @WLinbo\n",
      "2:\t会飞的猪hh ::: @huifeidezhuhh\n",
      "3:\tすずめさん ::: @tokyo_suzume\n",
      "4:\tナツホ ::: @MudkipSugar19\n",
      "5:\tK ::: @K97811870\n",
      "6:\tYiYibaby ::: @YibabyYi\n",
      "7:\tゲン ::: @gid9RmoU1dm2EZ1\n",
      "8:\tたかはし ::: @ata8824\n",
      "9:\tゆけ ::: @yuke0502\n",
      "10:\t牡蠣王 ::: @oddloneliness\n"
     ]
    }
   ],
   "source": [
    "followers_ids = []\n",
    "# フォローした人のIDを全取得\n",
    "# Cursor使うとすべて取ってきてくれるが，配列ではなくなるので配列に入れる\n",
    "for follower_id in tweepy.Cursor(api.followers_ids, user_id=user_info.id).items(10):\n",
    "    followers_ids.append(follower_id)\n",
    "\n",
    "num = 1\n",
    "for user in api.lookup_users(user_ids=followers_ids):\n",
    "    print(str(num) + ':\\t' + str(user.name) + \" ::: @\" + str(user.screen_name))\n",
    "    num += 1\n",
    "        "
   ]
  },
  {
   "cell_type": "markdown",
   "metadata": {},
   "source": [
    "## twitterのキーワード検索\n",
    "\n",
    "特定キーワード（以下の例では「東京大学」）を含むツイートを検索して表示します。"
   ]
  },
  {
   "cell_type": "code",
   "execution_count": 5,
   "metadata": {},
   "outputs": [
    {
     "name": "stdout",
     "output_type": "stream",
     "text": [
      "【名前】PAN🧖‍♂️ Revenge\n",
      "【アカウント名】pan7711\n",
      "【本文】RT @W7wBC8: 朝日新聞社と東京大学谷口研究室の共同調査。自民党の参院選候補者で『同性婚に反対』している候補は誰かを公開。\n",
      "https://t.co/hD54ygGdJS https://t.co/OCv0MRu4iH\n",
      "【時刻】:2019-07-15 17:54:39\n",
      "\n",
      "【名前】ごろー\n",
      "【アカウント名】rosemarie_fairy\n",
      "【本文】RT @W7wBC8: 朝日新聞社と東京大学谷口研究室の共同調査。最後に同性婚に『賛成』している参院選の自民党候補。2枚目が比例。 https://t.co/SsouKsbBpH\n",
      "【時刻】:2019-07-15 17:53:16\n",
      "\n",
      "【名前】政治問題の名言-kotodama\n",
      "【アカウント名】kotodama_po\n",
      "【本文】今回の事故で放射性物質が海へ流出しても問題ありません。大量の海水で薄められますから 。(出典：東京大学　諸葛教授) https://t.co/qPDLJEKqJh #原発\n",
      "【時刻】:2019-07-15 17:50:50\n",
      "\n",
      "【名前】ありーちぇ🎌\n",
      "【アカウント名】ALC_V\n",
      "【本文】RT @W7wBC8: 朝日新聞社と東京大学谷口研究室の共同調査。最後に同性婚に『賛成』している参院選の自民党候補。2枚目が比例。 https://t.co/SsouKsbBpH\n",
      "【時刻】:2019-07-15 17:49:11\n",
      "\n",
      "【名前】山中靖広（弁護士）\n",
      "【アカウント名】tamachuo_law\n",
      "【本文】大学教育はたしかに公益的な面もあるが、同時に私的な利益も大きい。東京大学などの旧帝大を出た人の多くが高収入を得ている時点で、私益の部分の存在は否定し得ない。それゆえ、「全面無償化」ではなく、優秀かつ貧困な家庭の学費免除や減額、利子なしの奨学金などの方法が望ましい。\n",
      "【時刻】:2019-07-15 17:48:38\n",
      "\n",
      "【名前】かまやん\n",
      "【アカウント名】kama_yam\n",
      "【本文】RT @W7wBC8: 朝日新聞社と東京大学谷口研究室の共同調査。最後に同性婚に『賛成』している参院選の自民党候補。2枚目が比例。 https://t.co/SsouKsbBpH\n",
      "【時刻】:2019-07-15 17:48:29\n",
      "\n",
      "【名前】かまやん\n",
      "【アカウント名】kama_yam\n",
      "【本文】RT @W7wBC8: 朝日新聞社と東京大学谷口研究室の共同調査。自民党の参院選候補者で『同性婚に反対』している候補、比例部門。\n",
      "(ツイッターで見かける和田政宗は反対を明言していたのか) https://t.co/VeDoklW8XM\n",
      "【時刻】:2019-07-15 17:48:26\n",
      "\n",
      "【名前】かまやん\n",
      "【アカウント名】kama_yam\n",
      "【本文】RT @W7wBC8: 朝日新聞社と東京大学谷口研究室の共同調査。自民党の参院選候補者で『同性婚に反対』している候補は誰かを公開。\n",
      "https://t.co/hD54ygGdJS https://t.co/OCv0MRu4iH\n",
      "【時刻】:2019-07-15 17:48:23\n",
      "\n",
      "【名前】kabuvictoryroom\n",
      "【アカウント名】kabuvictoryroom\n",
      "【本文】東京大学と共同で特許取得-糖尿病患者が注目の新成分とは https://t.co/V7a7WWLdTi\n",
      "【時刻】:2019-07-15 17:47:10\n",
      "\n",
      "【名前】Kei@勉強垢\n",
      "【アカウント名】kei_keitoai0220\n",
      "【本文】RT @cafe_petit: 【朝日新聞社「DANRO」で連載中！】東京大学の駒場キャンパスにあった学生寮「駒場寮」。廃寮を巡り大学側と寮生が争った末、2001年にその歴史を閉じた。写真やインタビューを通じて振り返る。／私と東大駒場寮 https://t.co/UsG5kEQ…\n",
      "【時刻】:2019-07-15 17:46:47\n",
      "\n"
     ]
    }
   ],
   "source": [
    "import datetime\n",
    "\n",
    "i = 1\n",
    "# twitter内を検索し、結果をエクセルに書き込む\n",
    "for status in api.search(q='\"東京大学\"', lang='ja', result_type='recent',count=10):\n",
    "    print('【名前】{}\\n【アカウント名】{}\\n【本文】{}\\n【時刻】:{}'\n",
    "      .format(status.user.name, status.user.screen_name, status.text, status.created_at+ datetime.timedelta(hours=9)))\n",
    "    print()\n",
    "    i = i + 1\n"
   ]
  },
  {
   "cell_type": "code",
   "execution_count": null,
   "metadata": {},
   "outputs": [],
   "source": []
  }
 ],
 "metadata": {
  "kernelspec": {
   "display_name": "Python 3",
   "language": "python",
   "name": "python3"
  },
  "language_info": {
   "codemirror_mode": {
    "name": "ipython",
    "version": 3
   },
   "file_extension": ".py",
   "mimetype": "text/x-python",
   "name": "python",
   "nbconvert_exporter": "python",
   "pygments_lexer": "ipython3",
   "version": "3.7.3"
  }
 },
 "nbformat": 4,
 "nbformat_minor": 2
}
