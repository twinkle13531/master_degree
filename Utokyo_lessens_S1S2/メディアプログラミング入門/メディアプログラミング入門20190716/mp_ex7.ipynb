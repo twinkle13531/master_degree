{
 "cells": [
  {
   "cell_type": "markdown",
   "metadata": {},
   "source": [
    "# 第7回課題：ウェブスクレイピング\n",
    "\n",
    "東京大学のUTokyo Focus（https://www.u-tokyo.ac.jp/focus/ja/index.html) をスクレイピングして、所定の情報を取得してください。"
   ]
  },
  {
   "cell_type": "markdown",
   "metadata": {},
   "source": [
    "## 課題１：ヘッダ情報の取得\n",
    "\n",
    "東京大学のUTokyo Focus（https://www.u-tokyo.ac.jp/focus/ja/index.html) のタイトル（タグ\"TITLE\"でマークアップされているテキスト）を取り出して、**変数`title`に代入してください。**"
   ]
  },
  {
   "cell_type": "code",
   "execution_count": 1,
   "metadata": {},
   "outputs": [],
   "source": [
    "### ここに課題1のコードを書いてください\n",
    "import random\n",
    "import requests\n",
    "\n",
    "url = 'https://www.u-tokyo.ac.jp/focus/ja/index.html'\n",
    "res = requests.get(url)\n",
    "res.encoding = res.apparent_encoding  # 文字コードを設定\n",
    "#print(res.text)\n",
    "\n",
    "from bs4 import BeautifulSoup\n",
    "# res.textには、上のセルでダウンロードしたHTMLソースが代入されています\n",
    "soup = BeautifulSoup(res.text, \"lxml\")\n",
    "#print(soup.title)\n",
    "#print(soup.title.name)\n",
    "#print(soup.title.text)\n",
    "title = soup.title.text"
   ]
  },
  {
   "cell_type": "markdown",
   "metadata": {},
   "source": [
    "以下のセルで出力してください。東大側のWebページに変更がなければ、以下のように表示されるはずです。   \n",
    "```\n",
    "このページのタイトル： UTokyo FOCUS | 東京大学\n",
    "```\n",
    "評価の際は変数`title`に入っている値が正しいかどうかで評価します。"
   ]
  },
  {
   "cell_type": "code",
   "execution_count": 2,
   "metadata": {},
   "outputs": [
    {
     "name": "stdout",
     "output_type": "stream",
     "text": [
      "このページのタイトル： UTokyo FOCUS | 東京大学\n"
     ]
    }
   ],
   "source": [
    "# このページのタイトルを変数'title'に代入して、以下の行で出力してください\n",
    "print('このページのタイトル：', title)  # この行は変更しないでください。"
   ]
  },
  {
   "cell_type": "markdown",
   "metadata": {},
   "source": [
    "## 課題２：UTokyo FOCUS>Latest News一覧の取得\n",
    "\n",
    "東京大学のUTokyo Focus（https://www.u-tokyo.ac.jp/focus/ja/index.html) のページのHTMLソースでは、Latest Newsの一覧は次のような書式で書かれています（これは2019年7月15日のLatest Newsの一部を抜粋したものです）。  "
   ]
  },
  {
   "cell_type": "markdown",
   "metadata": {},
   "source": [
    "```\n",
    "<div class=\"p-news-list p-news-list__latest-news\">\n",
    "    <div class=\"c-section__ineer\">\n",
    "        <div class=\"c-section__title-wrap\"><p class=\"c-section__title\" lang=\"en\">LATEST <span>NEWS</span></p></div>\n",
    "        <div class=\"l-row l-gutter-40\">\n",
    "            <div class=\"l-col-xs-12 l-col-sm-3\">\n",
    "                <div class=\"p-top-focus__item\">\n",
    "                    <a href=\"/focus/ja/features/fsi013.html\">\n",
    "                        <figure class=\"p-top-focus__image-box\">\n",
    "                            <img src=\"/content/400117278.jpg\" alt=\"\">\n",
    "                        </figure>\n",
    "                        <p class=\"p-top-focus__item-text\">宇宙用から、地球用へ</p>\n",
    "                        <p class=\"p-top-focus__item-date\">2019年7月15日</p>\n",
    "                        <p class=\"p-top-focus__item-tag\" lang=\"en\">科学と技術</p>\n",
    "                    </a>\n",
    "                </div>\n",
    "            </div>\n",
    "            <div class=\"l-col-xs-12 l-col-sm-3\">\n",
    "                <div class=\"p-top-focus__item\">\n",
    "                    <a href=\"/focus/ja/features/voices069.html\">\n",
    "                        <figure class=\"p-top-focus__image-box\">\n",
    "                            <img src=\"/content/400119211.jpg\" alt=\"\">\n",
    "                        </figure>\n",
    "                        <p class=\"p-top-focus__item-text\">光合成研究から次世代太陽電池の開発へ。光エネルギー変換にかけた35年。...</p>\n",
    "                        <p class=\"p-top-focus__item-date\">2019年7月11日</p>\n",
    "                        <p class=\"p-top-focus__item-tag\" lang=\"en\">UTOKYO VOICES</p>\n",
    "                    </a>\n",
    "                </div>\n",
    "            </div>\n",
    "        </div>\n",
    "    </div>\n",
    "</div>\n",
    "```"
   ]
  },
  {
   "cell_type": "markdown",
   "metadata": {},
   "source": [
    "ここからタグ情報を読み取って、Latest Newsの一覧を取得して、**そのテキストを`news`という名前のリストに代入**してください。   \n",
    "例えば上のようなHTMLソースなら、「宇宙用から、地球用へ」と「光合成研究から次世代太陽電池の開発へ。光エネルギー変換にかけた35年。...」がリスト`news`の要素となります。\n",
    "\n",
    "ヒント：「宇宙用から、地球用へ」や「光合成研究から次世代太陽電池の開発へ。光エネルギー変換にかけた35年。...」を囲んでいるHTMLタグは何でしょうか？"
   ]
  },
  {
   "cell_type": "code",
   "execution_count": 3,
   "metadata": {},
   "outputs": [
    {
     "name": "stdout",
     "output_type": "stream",
     "text": [
      "光学顕微鏡で分子の分布を観る新しい顕微分光手法を開発2019年7月18日科学と技術\n",
      "総合文化研究科超域文化科学専攻の大西由紀助教が第24回日本比較文学会賞...2019年7月18日受賞\n",
      "国際研究集会「在外写真史料の研究と歴史学」を開催2019年7月18日美術と文学\n",
      "「0」から「1」をつくり出す研究で電子スピンの可能性を拓く。｜ UTO...2019年7月18日UTOKYO VOICES\n",
      "学際大規模情報基盤共同利用・共同研究拠点　第11回シンポジウムが開催さ...2019年7月18日社会科学\n",
      "量子暗号の到達距離を2倍に2019年7月17日科学と技術\n",
      "スマートフォン小型蛍光顕微鏡による高感度デジタルインフルエンザウイルス...2019年7月17日科学と技術\n",
      "CO2からプラスチックを作る2019年7月17日科学と技術\n",
      "オンラインで手軽に！バイオ医薬品製造の技術選択ツール、プロトタイプ版公...2019年7月16日科学と技術\n",
      "単一光子から単一電子スピンへ情報の変換に成功、―長距離量子暗号通信の基...2019年7月16日科学と技術\n",
      "宇宙用から、地球用へ2019年7月15日科学と技術\n",
      "肝静脈血流の速度変化（肝静脈波形）を数値化した新しい肝線維化診断法の開...2019年7月12日医療と健康\n"
     ]
    }
   ],
   "source": [
    "for div1 in soup.find_all('div', attrs={\"class\": \"l-row l-gutter-40\"}):\n",
    "    for div2 in div1.find_all('div', attrs={\"class\": \"l-col-xs-12 l-col-sm-3\"}):\n",
    "        print(div2.text.replace('\\n', ''))"
   ]
  },
  {
   "cell_type": "code",
   "execution_count": 4,
   "metadata": {},
   "outputs": [],
   "source": [
    "### ここに課題２のコードを書いてください\n",
    "news = [] # このリストにニュースのテキストをappendしてください\n",
    "for div1 in soup.find_all('div', attrs={\"class\": \"l-row l-gutter-40\"}):\n",
    "    for div2 in div1.find_all('div', attrs={\"class\": \"l-col-xs-12 l-col-sm-3\"}):\n",
    "        for p1 in div2.find_all('p', attrs={\"class\":\"p-top-focus__item-text\"}):\n",
    "            #print(p1.text.replace('\\n', ''))\n",
    "            news.append(p1.text.replace('\\n', ''))         "
   ]
  },
  {
   "cell_type": "markdown",
   "metadata": {},
   "source": [
    "以下のセルで出力すると、東大側のWebページに変更がなければ、以下のように表示されるはずです。   \n",
    "**なお、これは2019年7月15日時点のリストなので、テキストの内容は皆さんがこのプログラムを実行したタイミングによって変わります。**\n",
    "```\n",
    "宇宙用から、地球用へ\n",
    "光合成研究から次世代太陽電池の開発へ。光エネルギー変換にかけた35年。...\n",
    "「2019年度厚生労働省臨床研究総合促進事業　治験・倫理審査委員会委員...\n",
    "人工知能を用いた簡便な白血病の薬剤耐性検査法を開発\n",
    "2019年9月、東京大学目白台インターナショナルビレッジが誕生！201...\n",
    "水をめぐるアジア史を、空間解析から読み解いていく\n",
    "第3回　東京大学環境安全衛生スローガン募集　実施報告\n",
    "令和元年度「東京大学安全の日」講演会　開催\n",
    "泳ぐ一細胞の代謝を経時測定 \n",
    "世界の川の流れをつかめ！\n",
    "ペプチド系抗生物質のアップグレード\n",
    "ハイパーカミオカンデ計画に参加予定の12ケ国の科学者、具体的な貢献につ...\n",
    "```\n",
    "評価の際は変数newsに入っている値が正しいかどうかで評価します。"
   ]
  },
  {
   "cell_type": "code",
   "execution_count": 5,
   "metadata": {},
   "outputs": [
    {
     "name": "stdout",
     "output_type": "stream",
     "text": [
      "光学顕微鏡で分子の分布を観る新しい顕微分光手法を開発\n",
      "総合文化研究科超域文化科学専攻の大西由紀助教が第24回日本比較文学会賞...\n",
      "国際研究集会「在外写真史料の研究と歴史学」を開催\n",
      "「0」から「1」をつくり出す研究で電子スピンの可能性を拓く。｜ UTO...\n",
      "学際大規模情報基盤共同利用・共同研究拠点　第11回シンポジウムが開催さ...\n",
      "量子暗号の到達距離を2倍に\n",
      "スマートフォン小型蛍光顕微鏡による高感度デジタルインフルエンザウイルス...\n",
      "CO2からプラスチックを作る\n",
      "オンラインで手軽に！バイオ医薬品製造の技術選択ツール、プロトタイプ版公...\n",
      "単一光子から単一電子スピンへ情報の変換に成功、―長距離量子暗号通信の基...\n",
      "宇宙用から、地球用へ\n",
      "肝静脈血流の速度変化（肝静脈波形）を数値化した新しい肝線維化診断法の開...\n"
     ]
    }
   ],
   "source": [
    "for n in news:\n",
    "    print(n)"
   ]
  }
 ],
 "metadata": {
  "kernelspec": {
   "display_name": "Python 3",
   "language": "python",
   "name": "python3"
  },
  "language_info": {
   "codemirror_mode": {
    "name": "ipython",
    "version": 3
   },
   "file_extension": ".py",
   "mimetype": "text/x-python",
   "name": "python",
   "nbconvert_exporter": "python",
   "pygments_lexer": "ipython3",
   "version": "3.7.3"
  }
 },
 "nbformat": 4,
 "nbformat_minor": 2
}
