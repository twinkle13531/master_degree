{
 "cells": [
  {
   "cell_type": "markdown",
   "metadata": {},
   "source": [
    "###  13.4.2 irisデータで実装\n",
    "\n",
    "今回は､**<font color='red'>おなじみirisデータをクラスタリングで分類してみましょう</font>**｡ストーリーとしては､**｢<font color='red'>未知である新種のアヤメの花を発見する</font>ために､無作為に摘んだ150個のサンプルの形状データを調査する｣**という状況を想定しましょう｡\n",
    "\n",
    "そのため､今回は**setosa**や**versicolor**､あるいは**versinicaといった品種は未知**であり､さらに言えば**<font color='red'>サンプルの中にいくつの品種が混ざっているかもわからない</font>**とします｡つまり､**<font color='red'>k-meansを現実の状況で使う場面と同じように､クラスタの数 $k$ が未知である</font>**ということです｡"
   ]
  },
  {
   "cell_type": "code",
   "execution_count": 20,
   "metadata": {
    "collapsed": true
   },
   "outputs": [],
   "source": [
    "#写経【1】\n",
    "# irisデータのロード\n",
    "from sklearn.datasets import load_iris\n",
    "import numpy as np\n",
    "\n",
    "iris = load_iris()\n",
    "#データとラベルに分ける\n",
    "\n",
    "X = iris.data\n",
    "y = iris.target # クラスラベルは今回は未知とする"
   ]
  },
  {
   "cell_type": "code",
   "execution_count": 21,
   "metadata": {
    "collapsed": true
   },
   "outputs": [],
   "source": [
    "#写経【２】\n",
    "# データの標準化\n",
    "from sklearn.preprocessing import StandardScaler\n",
    "scaler = StandardScaler()\n",
    "scaler.fit(X)\n",
    "X_std = scaler.fit_transform(X)"
   ]
  },
  {
   "cell_type": "code",
   "execution_count": 22,
   "metadata": {
    "collapsed": true
   },
   "outputs": [],
   "source": [
    "#写経【３】\n",
    "# 主成分分析の実行\n",
    "#PCAのクラスを読み込む\n",
    "from sklearn.decomposition import PCA\n",
    "#PCAのインスタンスを生成\n",
    "pca = PCA(n_components=4)\n",
    "X_pca = pca.fit_transform(X_std)"
   ]
  },
  {
   "cell_type": "markdown",
   "metadata": {},
   "source": [
    "#### k-means法の実行\n",
    "\n",
    "さて､ここからいよいよ**k-means法**の実行に移ります｡ **$k$ の数を変えたりしながら､試していきましょう**｡"
   ]
  },
  {
   "cell_type": "code",
   "execution_count": 23,
   "metadata": {
    "collapsed": true
   },
   "outputs": [],
   "source": [
    "#写経【４】\n",
    "# k-means法を実行\n",
    "from sklearn.cluster import KMeans\n",
    "km = KMeans(n_clusters=3,  # クラスタの個数を指定\n",
    "            init='random',           # セントロイドの初期値の決め方を決定\n",
    "            n_init=10,                # 異なるセントロイドの初期値を用いての実行回数\n",
    "            max_iter=300,         # ひとつのセントロイドを用いたときの最大イテレーション回数\n",
    "            tol=1e-04,               # 収束と判定するための相対的な許容誤差\n",
    "            random_state=0,     # セントロイドの初期化に用いる乱数生成器の状態\n",
    "           )\n",
    "\n",
    "# クラスラベルを予測\n",
    "y_km = km.fit_predict(X_pca[:, 0:2])"
   ]
  },
  {
   "cell_type": "code",
   "execution_count": null,
   "metadata": {
    "collapsed": true
   },
   "outputs": [],
   "source": [
    "#写経【５】\n",
    "# クラスタリングの結果を出力\n",
    "import matplotlib.pyplot as plt\n",
    "% matplotlib inline"
   ]
  },
  {
   "cell_type": "code",
   "execution_count": 24,
   "metadata": {
    "collapsed": true
   },
   "outputs": [],
   "source": [
    "# クラスタリングの結果をプロットする関数\n",
    "# (クラスタの数, 学習器, 学習データ)\n",
    "def kmeans_plot(n_clusters, km, X):\n",
    "    # クラスタの予測値を算出\n",
    "    y_km = km.fit_predict(X)\n",
    "    \n",
    "    # クラスタごとに散布図をプロット\n",
    "    # 5クラスまでプロットできる\n",
    "    for i, color, marker in zip(range(n_clusters), 'rgbcm', '>o+xv'):\n",
    "        plt.scatter(X[y_km==i, 0],            # 横軸の値\n",
    "                    X[y_km==i, 1],            # 縦軸の値\n",
    "                    color=color,              # プロットの色\n",
    "                    marker=marker,            # プロットの形\n",
    "                    label='cluster ' + str(i) # ラベル\n",
    "                   )\n",
    "    \n",
    "    # クラスタの中心をプロット\n",
    "    plt.scatter(km.cluster_centers_[:, 0],    # 横軸の値\n",
    "                km.cluster_centers_[:, 1],    # 縦軸の値\n",
    "                color='y',                    # プロットの色\n",
    "                marker='*',                   # プロットの形\n",
    "                label='centroids',            # ラベル\n",
    "                s=300,                        # プロットのサイズを大きくして見やすくする\n",
    "               )\n",
    "    \n",
    "    plt.legend()\n",
    "    plt.grid()\n",
    "    plt.show()"
   ]
  },
  {
   "cell_type": "code",
   "execution_count": 25,
   "metadata": {},
   "outputs": [
    {
     "data": {
      "image/png": "[encoded data removed]",
      "text/plain": [
       "<matplotlib.figure.Figure at 0x111139780>"
      ]
     },
     "metadata": {},
     "output_type": "display_data"
    }
   ],
   "source": [
    "#写経【６】\n",
    "# プロットを実行\n",
    "kmeans_plot(3, km, X_pca[:, 0:2])"
   ]
  },
  {
   "cell_type": "markdown",
   "metadata": {},
   "source": [
    "#### おまけ: 精度の確認\n",
    "\n",
    "さて､これで**クラスタリング**は完了しました｡**見た感じだと､3品種のクラスタは正解のものにかなり近いのではないか**という印象を受けます｡実際のケースでは､**この結果から品種分類にあたりをつけて､詳細な調査をしていく**という流れになりますが､**今回は本来手に入っていないはずの教師データが手元にある**ので､**クラスタリングでの正答率を求めてみます**｡"
   ]
  },
  {
   "cell_type": "code",
   "execution_count": 26,
   "metadata": {},
   "outputs": [
    {
     "data": {
      "text/plain": [
       "array([0, 0, 0, 0, 0, 0, 0, 0, 0, 0, 0, 0, 0, 0, 0, 0, 0, 0, 0, 0, 0, 0, 0,\n",
       "       0, 0, 0, 0, 0, 0, 0, 0, 0, 0, 0, 0, 0, 0, 0, 0, 0, 0, 0, 0, 0, 0, 0,\n",
       "       0, 0, 0, 0, 1, 1, 1, 2, 2, 2, 1, 2, 2, 2, 2, 2, 2, 2, 2, 1, 2, 2, 2,\n",
       "       2, 1, 2, 2, 2, 2, 1, 1, 1, 2, 2, 2, 2, 2, 2, 2, 1, 1, 2, 2, 2, 2, 2,\n",
       "       2, 2, 2, 2, 2, 2, 2, 2, 1, 2, 1, 1, 1, 1, 2, 1, 1, 1, 1, 1, 1, 2, 2,\n",
       "       1, 1, 1, 1, 2, 1, 2, 1, 2, 1, 1, 2, 1, 1, 1, 1, 1, 1, 2, 2, 1, 1, 1,\n",
       "       2, 1, 1, 1, 2, 1, 1, 1, 2, 1, 1, 2], dtype=int32)"
      ]
     },
     "execution_count": 26,
     "metadata": {},
     "output_type": "execute_result"
    }
   ],
   "source": [
    "#写経【７】\n",
    "# y_kmを確認\n",
    "y_km"
   ]
  },
  {
   "cell_type": "code",
   "execution_count": 9,
   "metadata": {},
   "outputs": [
    {
     "data": {
      "text/plain": [
       "array([0, 0, 0, 0, 0, 0, 0, 0, 0, 0, 0, 0, 0, 0, 0, 0, 0, 0, 0, 0, 0, 0, 0,\n",
       "       0, 0, 0, 0, 0, 0, 0, 0, 0, 0, 0, 0, 0, 0, 0, 0, 0, 0, 0, 0, 0, 0, 0,\n",
       "       0, 0, 0, 0, 2, 2, 2, 2, 2, 2, 2, 2, 2, 2, 2, 2, 2, 2, 2, 2, 2, 2, 2,\n",
       "       2, 2, 2, 2, 2, 2, 2, 2, 2, 2, 2, 2, 2, 2, 2, 2, 2, 2, 2, 2, 2, 2, 2,\n",
       "       2, 2, 2, 2, 2, 2, 2, 2, 1, 1, 1, 1, 1, 1, 1, 1, 1, 1, 1, 1, 1, 1, 1,\n",
       "       1, 1, 1, 1, 1, 1, 1, 1, 1, 1, 1, 1, 1, 1, 1, 1, 1, 1, 1, 1, 1, 1, 1,\n",
       "       1, 1, 1, 1, 1, 1, 1, 1, 1, 1, 1, 1])"
      ]
     },
     "execution_count": 9,
     "metadata": {},
     "output_type": "execute_result"
    }
   ],
   "source": [
    "#写経【８】\n",
    "# 正解ラベルを作る\n",
    "# プロットを見ると､このときはversicolorとversinicaのlabelが逆になっている\n",
    "# 両者のラベルを入れ替えて､正解ラベルをつくる\n",
    "y_correct = np.hstack((y[0:50], y[100:150]))\n",
    "y_correct = np.hstack((y_correct, y[50:100]))\n",
    "y_correct"
   ]
  },
  {
   "cell_type": "code",
   "execution_count": 27,
   "metadata": {},
   "outputs": [
    {
     "data": {
      "text/plain": [
       "0.8333333333333334"
      ]
     },
     "execution_count": 27,
     "metadata": {},
     "output_type": "execute_result"
    }
   ],
   "source": [
    "# 正答数を累積\n",
    "correct_ans = 0\n",
    "for i in range(len(y_correct)):\n",
    "    if y_km[i] == y_correct[i]:\n",
    "        correct_ans += 1\n",
    "\n",
    "# 正答率を出力\n",
    "correct_ans / len(y)"
   ]
  },
  {
   "cell_type": "markdown",
   "metadata": {},
   "source": [
    "## 13.5 k-means法の弱点と対策"
   ]
  },
  {
   "cell_type": "markdown",
   "metadata": {},
   "source": [
    "### 13.5.1 弱点1. 超球状でないクラスタや､サンプル数の異なるクラスタの検出が苦手"
   ]
  },
  {
   "cell_type": "markdown",
   "metadata": {},
   "source": [
    "#### 例1）超球状でないクラスタを検出できない例\n",
    "では､説明した内容が本当かどうか､**適当なサンプルデータを作成して確認**してみましょう｡まずは､**<font color='red'>クラスタが超球状でない場合</font>**です｡**細長い形状**をしたクラスタを適切に検出できるかどうかを確認します｡"
   ]
  },
  {
   "cell_type": "code",
   "execution_count": 33,
   "metadata": {},
   "outputs": [
    {
     "data": {
      "image/png": "[encoded data removed]",
      "text/plain": [
       "<matplotlib.figure.Figure at 0x111635860>"
      ]
     },
     "metadata": {},
     "output_type": "display_data"
    }
   ],
   "source": [
    "# 超球上でないクラスタを作成\n",
    "\n",
    "# サンプル数50の超球状のクラスタを生成\n",
    "from sklearn.datasets import make_blobs\n",
    "X_1, _ = make_blobs(n_samples=50,\n",
    "                 n_features=2,\n",
    "                 centers=1,\n",
    "                 cluster_std=0.4,\n",
    "                 center_box=[0, -2],\n",
    "                 random_state=6\n",
    "                )\n",
    "\n",
    "# サンプル数50の超球状のクラスタを生成\n",
    "X_2, _ = make_blobs(n_samples=50,\n",
    "                 n_features=2,\n",
    "                 centers=1,\n",
    "                 cluster_std=0.4,\n",
    "                 center_box=[0, 2],\n",
    "                 random_state=9\n",
    "                )\n",
    "\n",
    "# サンプル数50の細長いクラスタを生成\n",
    "from numpy.random import *\n",
    "seed(2)\n",
    "X_31 = np.array([i/15 for i in range(-50, 0)])\n",
    "X_32 = np.array([0.5*float(i) + 2 + float(randint(100))/100 for i in X_31])\n",
    "X_3 = np.hstack((X_31.reshape(-1, 1), X_32.reshape(-1, 1)))\n",
    "\n",
    "# 2種類のクラスタを色分けして表示\n",
    "plt.scatter(X_1[:, 0], X_1[:, 1], c='r', marker='s', s=50)\n",
    "plt.scatter(X_2[:, 0], X_2[:, 1], c='y', marker='o', s=50)\n",
    "plt.scatter(X_3[:, 0], X_3[:, 1], c='b', marker='x', s=50)\n",
    "plt.show()"
   ]
  },
  {
   "cell_type": "markdown",
   "metadata": {},
   "source": [
    "このデータを**k-means法**にかけてみましょう｡**縦長のクラスタ**を検出できるのでしょうか？"
   ]
  },
  {
   "cell_type": "code",
   "execution_count": 34,
   "metadata": {},
   "outputs": [
    {
     "data": {
      "image/png": "[encoded data removed]",
      "text/plain": [
       "<matplotlib.figure.Figure at 0x11163ce80>"
      ]
     },
     "metadata": {},
     "output_type": "display_data"
    }
   ],
   "source": [
    "#写経【９】\n",
    "# 生成したクラスタのデータを統合\n",
    "X = np.vstack((X_1, X_2))\n",
    "X = np.vstack((X, X_3))\n",
    "\n",
    "# k-means法を実行\n",
    "from sklearn.cluster import KMeans\n",
    "km = KMeans(n_clusters=3,   # クラスタの個数を指定\n",
    "            init='random',  # セントロイドの初期値の決め方を決定\n",
    "            n_init=10,      # 異なるセントロイドの初期値を用いた実行回数\n",
    "            max_iter=300,   # ひとつのセントロイドを用いたときの最大イテレーション回数\n",
    "            tol=1e-04,      # 収束と判定するための相対的な許容誤差\n",
    "            random_state=0, # セントロイドの初期化に用いる乱数生成器の状態\n",
    "           )\n",
    "\n",
    "# クラスラベルを予測\n",
    "y_km = km.fit_predict(X)\n",
    "\n",
    "# プロットを実行\n",
    "kmeans_plot(3, km, X)"
   ]
  },
  {
   "cell_type": "markdown",
   "metadata": {},
   "source": [
    "**<font color='red'>縦長のクラスタが超球状に近づくように､緑のクラスタが食い込んでしまっている</font>**のがわかるかと思います｡"
   ]
  },
  {
   "cell_type": "markdown",
   "metadata": {},
   "source": [
    "#### 例2）クラスタ内のサンプル数が大きく異なる場合\n",
    "では､次に**<font color='red'>クラスタ内のサンプル数が大きく異なる場合</font>**について確認してみましょう｡"
   ]
  },
  {
   "cell_type": "code",
   "execution_count": 35,
   "metadata": {},
   "outputs": [
    {
     "data": {
      "image/png": "[encoded data removed]",
      "text/plain": [
       "<matplotlib.figure.Figure at 0x112429780>"
      ]
     },
     "metadata": {},
     "output_type": "display_data"
    }
   ],
   "source": [
    "# サンプル数が大きく異なるクラスタを生成\n",
    "from sklearn.datasets import make_blobs\n",
    "\n",
    "# サンプル数25のクラスタを2つ生成\n",
    "X_1, _ = make_blobs(n_samples=50,\n",
    "                 n_features=2,\n",
    "                 centers=2,\n",
    "                 cluster_std=0.5,\n",
    "                 random_state=3\n",
    "                )\n",
    "\n",
    "# サンプル数300のクラスタを1つ生成\n",
    "X_2, _ = make_blobs(n_samples=300,\n",
    "                 n_features=2,\n",
    "                 centers=1,\n",
    "                 cluster_std=1.0,\n",
    "                 center_box=(-5, 5),\n",
    "                 random_state=5\n",
    "                )\n",
    "\n",
    "# 2種類のクラスタを色分けして表示\n",
    "plt.scatter(X_1[:, 0], X_1[:, 1], c='y', marker='o', s=50)\n",
    "plt.scatter(X_2[:, 0], X_2[:, 1], c='b', marker='x', s=50)\n",
    "plt.show()"
   ]
  },
  {
   "cell_type": "code",
   "execution_count": 36,
   "metadata": {},
   "outputs": [
    {
     "data": {
      "image/png": "[encoded data removed]",
      "text/plain": [
       "<matplotlib.figure.Figure at 0x1123af668>"
      ]
     },
     "metadata": {},
     "output_type": "display_data"
    }
   ],
   "source": [
    "#写経【1０】\n",
    "# 生成したクラスタのデータを統合\n",
    "X_blobs = np.vstack((X_1, X_2))\n",
    "\n",
    "# k-means法を実行\n",
    "from sklearn.cluster import KMeans\n",
    "km = KMeans(n_clusters=3,   # クラスタの個数を指定\n",
    "            init='random',  # セントロイドの初期値の決め方を決定\n",
    "            n_init=10,      # 異なるセントロイドの初期値を用いた実行回数\n",
    "            max_iter=300,   # ひとつのセントロイドを用いたときの最大イテレーション回数\n",
    "            tol=1e-04,      # 収束と判定するための相対的な許容誤差\n",
    "            random_state=0, # セントロイドの初期化に用いる乱数生成器の状態\n",
    "           )\n",
    "\n",
    "# クラスラベルを予測\n",
    "y_km = km.fit_predict(X_blobs)\n",
    "\n",
    "# プロットを実行\n",
    "kmeans_plot(3, km, X_blobs)"
   ]
  },
  {
   "cell_type": "markdown",
   "metadata": {},
   "source": [
    "プロットの結果を見ると､予想通り**<font color='red'>大きなクラスタに小さなクラスタが食い込んで､クラスタ内のサンプル数を等しくさせるような力が加わっているのがわかります</font>**｡このように､**<font color='red'>k-means法はサンプル数が大きく違うようなクラスタも正しく検出できません</font>**｡"
   ]
  },
  {
   "cell_type": "markdown",
   "metadata": {},
   "source": [
    "#### 対策①: エルボー法\n",
    "そこで役に立つのが､**エルボー法**です｡エルボー法とは､**<font color='red'>k-means法を $k$ を変えて繰り返し行い､ $SSE$ が｢がくっ｣と低下するような $k$ を見つけて目安とする方法</font>**です｡**グラフが決まって人の肘のような形になる**ことから､**エルボー法**と名付けられています｡\n"
   ]
  },
  {
   "cell_type": "code",
   "execution_count": 46,
   "metadata": {},
   "outputs": [
    {
     "data": {
      "image/png": "[encoded data removed]",
      "text/plain": [
       "<matplotlib.figure.Figure at 0x110dc16d8>"
      ]
     },
     "metadata": {},
     "output_type": "display_data"
    }
   ],
   "source": [
    "#写経【1１】\n",
    "# エルボー法による､適切なkの値の確認\n",
    "\n",
    "# 各kで算出されたSSEを格納するリストを定義\n",
    "distortions = []\n",
    "\n",
    "# kを変えながらk-means法を実行\n",
    "for k  in range(1,11):              # 1~10クラスタまで繰り返し計算 \n",
    "    km = KMeans(n_clusters=k,       # クラスタの数をk個に指定\n",
    "                init='random',   # セントロイドの初期値をk-means++法で設定\n",
    "                n_init=10,          # セントロイドの初期値を変えての繰り返し回数を指定\n",
    "                max_iter=300,       # 一回の最適化の繰り返し回数を指定\n",
    "                random_state=0)     # 乱数の生成状態を指定\n",
    "    \n",
    "    km.fit(X_pca[:, 0:2])                       # クラスタリングの計算を実行\n",
    "    distortions.append(km.inertia_) # SSEをリストに格納していく\n",
    "\n",
    "# 結果を散布図に出力\n",
    "plt.plot(range(1,11), distortions,marker='o') # 1から10までのSSEを順にプロット\n",
    "plt.xticks([i for i in range(1, 11)])         # 横軸のメモリを1から10までの1刻みに設定\n",
    "plt.xlabel('Number of clusters')\n",
    "plt.ylabel('Distortion')\n",
    "plt.show()"
   ]
  },
  {
   "cell_type": "markdown",
   "metadata": {},
   "source": [
    "**エルボー法**は､**<font color='red'>｢ $k$ が小さすぎると､複数のクラスタを無理に統合することになるので､ $SSE$ が急に上がるだろう｣</font>**という仮定に基づいています｡この**｢がくっと｣**というところが重要です｡なぜなら､ **<font color='red'>$k$ が増えれば増えるほどセントロイドが多く存在することになり､近くのセントロイドを見つけるのが容易になって $SSE$ が小さくなりやすくなるという､一般的な傾向があるからです</font>**｡**今回のケースで言えば､それらしい $k$ の値は2または3といったところでしょうか**｡"
   ]
  },
  {
   "cell_type": "markdown",
   "metadata": {},
   "source": [
    "#### 対策②: シルエット分析\n",
    "\n",
    "もうひとつの対策が**シルエット分析**です｡ここでは**<font color='red'>シルエット係数（silhouette coefficient）</font>**なるものを計算して､**クラスタリングの質**を判定します｡**クラスタリングの質**は何で決まるかというと､**<font color='red'>｢似たものを似たもの扱いできていること（内部結合）｣</font>**と､**<font color='red'>｢似てないものを似てないもの扱いできていること（外部分離）｣</font>**の2つです｡**シルエット係数**は**これらがどれだけ際立っているかを表す指標**になっています｡"
   ]
  },
  {
   "cell_type": "code",
   "execution_count": 47,
   "metadata": {
    "collapsed": true
   },
   "outputs": [],
   "source": [
    "#写経【1２】\n",
    "# k-means法を実行\n",
    "# 3クラスタに分ける\n",
    "from sklearn.cluster import KMeans\n",
    "km = KMeans(n_clusters=3,   # クラスタの個数を指定\n",
    "            init='random',  # セントロイドの初期値の決め方を決定\n",
    "            n_init=10,      # 異なるセントロイドの初期値を用いた実行回数\n",
    "            max_iter=300,   # ひとつのセントロイドを用いたときの最大イテレーション回数\n",
    "            tol=1e-04,      # 収束と判定するための相対的な許容誤差\n",
    "            random_state=0, # セントロイドの初期化に用いる乱数生成器の状態\n",
    "           )\n",
    "\n",
    "# クラスラベルを予測\n",
    "y_km = km.fit_predict(X_pca[:, 0:2])"
   ]
  },
  {
   "cell_type": "code",
   "execution_count": 48,
   "metadata": {
    "collapsed": true
   },
   "outputs": [],
   "source": [
    "from sklearn.metrics import silhouette_samples\n",
    "\n",
    "# 全サンプルのシルエット係数を計算\n",
    "# (X, y_km, 利用する距離の種類)\n",
    "# 'euclidiean' はユークリッド距離\n",
    "s = silhouette_samples(X_pca[:, 0:2], y_km, metric='euclidean')"
   ]
  },
  {
   "cell_type": "code",
   "execution_count": 49,
   "metadata": {},
   "outputs": [
    {
     "data": {
      "text/plain": [
       "array([ 0.7437586 ,  0.58954614,  0.69409517,  0.64122155,  0.73369006,\n",
       "        0.61141915,  0.73511038,  0.74362968,  0.50135509,  0.65881326,\n",
       "        0.68571458,  0.74237058,  0.59842831,  0.56327201,  0.56628677,\n",
       "        0.4531917 ,  0.62528033,  0.73935287,  0.59722791,  0.68463541,\n",
       "        0.69664134,  0.70278381,  0.71659332,  0.65310985,  0.73907159,\n",
       "        0.56794047,  0.72282242,  0.735419  ,  0.73779078,  0.68998794,\n",
       "        0.64387074,  0.67403197,  0.59277666,  0.53806428,  0.65881326,\n",
       "        0.70266667,  0.70991422,  0.65881326,  0.57082221,  0.74027388,\n",
       "        0.74561258,  0.07387569,  0.66820107,  0.70668142,  0.66918434,\n",
       "        0.57672248,  0.68618886,  0.68751404,  0.69636903,  0.72662061,\n",
       "        0.46212585,  0.21972257,  0.48205205,  0.56842335,  0.18797752,\n",
       "        0.58705332,  0.29071226,  0.4273799 ,  0.07138504,  0.61145173,\n",
       "        0.43386335,  0.37349002,  0.55612643,  0.37048656,  0.5300063 ,\n",
       "        0.26246967,  0.45841515,  0.61241816,  0.45906888,  0.61730613,\n",
       "        0.10900922,  0.5350552 ,  0.43356197,  0.50707618,  0.29358085,\n",
       "        0.08030026,  0.06093282,  0.43397581,  0.41314614,  0.60564043,\n",
       "        0.59403512,  0.58734249,  0.61578107,  0.43777815,  0.50268433,\n",
       "        0.15927388,  0.3650558 ,  0.51458696,  0.47264321,  0.61799592,\n",
       "        0.62795121,  0.25622038,  0.62806671,  0.45361512,  0.62319861,\n",
       "        0.45872978,  0.53641247,  0.39923994,  0.46010598,  0.58986426,\n",
       "        0.62682497,  0.41507594,  0.5944806 ,  0.22433656,  0.54387247,\n",
       "        0.53549456,  0.59477736,  0.5602107 ,  0.02301233,  0.50049898,\n",
       "        0.53833295,  0.00083154,  0.58314569,  0.44751641,  0.07847957,\n",
       "        0.59222715,  0.44309166,  0.43052702,  0.36508046,  0.44460901,\n",
       "        0.62414954,  0.44971076,  0.47862723,  0.20957798,  0.60644629,\n",
       "        0.62018394,  0.20310478,  0.01109978,  0.27996232,  0.61105691,\n",
       "        0.50927936,  0.4239499 ,  0.30777848,  0.22873697,  0.42397951,\n",
       "        0.52998389,  0.58466791,  0.46817319,  0.08518424,  0.62425795,\n",
       "        0.61723868,  0.62664371,  0.41507594,  0.62546358,  0.61467697,\n",
       "        0.57395067,  0.26209185,  0.46664301,  0.54811396,  0.09858802])"
      ]
     },
     "execution_count": 49,
     "metadata": {},
     "output_type": "execute_result"
    }
   ],
   "source": [
    "# シルエット係数を確認\n",
    "s"
   ]
  },
  {
   "cell_type": "code",
   "execution_count": 50,
   "metadata": {},
   "outputs": [
    {
     "data": {
      "text/plain": [
       "150"
      ]
     },
     "execution_count": 50,
     "metadata": {},
     "output_type": "execute_result"
    }
   ],
   "source": [
    "#写経【1３】\n",
    "# サンプル数と同じ150個のシルエット係数が算出されていることを確認\n",
    "len(s)"
   ]
  },
  {
   "cell_type": "code",
   "execution_count": 51,
   "metadata": {},
   "outputs": [
    {
     "data": {
      "image/png": "[encoded data removed]",
      "text/plain": [
       "<matplotlib.figure.Figure at 0x1115562b0>"
      ]
     },
     "metadata": {},
     "output_type": "display_data"
    }
   ],
   "source": [
    "# シルエット図を出力\n",
    "from matplotlib import cm\n",
    "\n",
    "# シルエット図を出力する関数を定義\n",
    "def draw_silhouettes(X, y_km):\n",
    "    cluster_labels = np.unique(y_km)                     # クラスラベルを重複なく抽出\n",
    "    n_clusters = cluster_labels.shape[0]                 # クラスタの数を算出\n",
    "\n",
    "    # シルエット係数を計算\n",
    "    # (X, y_km, 距離の種類)\n",
    "    s = silhouette_samples(X, y_km, metric='euclidean')\n",
    "\n",
    "    # 各ラベルごとにシルエット図を描画\n",
    "    y_ax_lower, y_ax_upper= 0, 0                         # シルエット図の上端と下端の初期値を設定\n",
    "    yticks = []                                          # 縦軸のメモリ位置を格納するリストを生成\n",
    "    for i, label in enumerate(cluster_labels):\n",
    "            label_s = s[y_km==label]                     # 該当するクラスタについて､シルエット係数を算出\n",
    "            label_s.sort()                               # シルエット係数を小さい順に並べ替える\n",
    "            y_ax_upper += len(label_s)                   # シルエット図の上端を､サンプルの数だけ引き上げる\n",
    "            color = cm.jet(float(i) / n_clusters)        # color mapから色を取得\n",
    "            plt.barh(range(y_ax_lower, y_ax_upper),      # 横軸の範囲を指定\n",
    "                             label_s,                    # バーの幅を指定\n",
    "                             height=1.0,                 # バーの厚みを指\n",
    "                             color=color)                # バーの色を指定\n",
    "            yticks.append((y_ax_lower + y_ax_upper) / 2) # クラスタラベルの表示位置を追加\n",
    "            y_ax_lower += len(label_s)                   # シルエット図の下端を､サンプルの数だけ引き上げる\n",
    "\n",
    "            \n",
    "    plt.axvline(np.mean(s), color=\"red\", linestyle=\"--\") # 係数の平均値に破線を引く(横軸の値, 色, 線の形式)\n",
    "    plt.yticks(yticks, cluster_labels + 1)               # クラスタレベルを表示(位置, 縦軸の値)\n",
    "    plt.ylabel('Cluster')\n",
    "    plt.xlabel('silhouette coefficient')\n",
    "    plt.show()\n",
    "\n",
    "# シルエット図を出力\n",
    "draw_silhouettes(X_pca[:, 0:2], y_km)"
   ]
  },
  {
   "cell_type": "markdown",
   "metadata": {},
   "source": [
    "#### クラスタリングが適切でない場合のシルエット図\n",
    "\n",
    "では､ $k$ の値を変えて､クラスタリングが適切でない場合のシルエット図を見ていきましょう｡まずは､ **<font color='red'>$k$ が小さすぎる場合</font>**です｡**シルエット係数の値自体は問題なさそう**ですが､**<font color='red'>サンプル数が大きく偏っている</font>**ことがわかります｡こういった場合は､**<font color='red'>k-meansが適切にクラスタリングできる状況に反している</font>**ので､ $k$ は不適切だと思われます｡"
   ]
  },
  {
   "cell_type": "code",
   "execution_count": 54,
   "metadata": {
    "collapsed": true
   },
   "outputs": [],
   "source": [
    "#写経【14】\n",
    "# k-means法を実行\n",
    "# 2クラスタに分ける\n",
    "from sklearn.cluster import KMeans\n",
    "km = KMeans(n_clusters=2,   # クラスタの個数を指定\n",
    "            init='random',  # セントロイドの初期値の決め方を決定\n",
    "            n_init=10,      # 異なるセントロイドの初期値を用いた実行回数\n",
    "            max_iter=300,   # ひとつのセントロイドを用いたときの最大イテレーション回数\n",
    "            tol=1e-04,      # 収束と判定するための相対的な許容誤差\n",
    "            random_state=0, # セントロイドの初期化に用いる乱数生成器の状態\n",
    "           )\n",
    "\n",
    "# クラスラベルを予測\n",
    "y_km = km.fit_predict(X_pca[:, 0:2])"
   ]
  },
  {
   "cell_type": "code",
   "execution_count": 55,
   "metadata": {},
   "outputs": [
    {
     "data": {
      "image/png": "[encoded data removed]",
      "text/plain": [
       "<matplotlib.figure.Figure at 0x111689f60>"
      ]
     },
     "metadata": {},
     "output_type": "display_data"
    }
   ],
   "source": [
    "#写経【1５】\n",
    "# シルエット図を描画\n",
    "draw_silhouettes(X_pca[:, 0:2], y_km)"
   ]
  },
  {
   "cell_type": "code",
   "execution_count": 56,
   "metadata": {
    "collapsed": true
   },
   "outputs": [],
   "source": [
    "#写経【1６】\n",
    "# k-means法を実行\n",
    "# 4クラスタに分ける\n",
    "from sklearn.cluster import KMeans\n",
    "km = KMeans(n_clusters=4,   # クラスタの個数を指定\n",
    "            init='random',  # セントロイドの初期値の決め方を決定\n",
    "            n_init=10,      # 異なるセントロイドの初期値を用いた実行回数\n",
    "            max_iter=300,   # ひとつのセントロイドを用いたときの最大イテレーション回数\n",
    "            tol=1e-04,      # 収束と判定するための相対的な許容誤差\n",
    "            random_state=0, # セントロイドの初期化に用いる乱数生成器の状態\n",
    "           )\n",
    "\n",
    "# クラスラベルを予測\n",
    "y_km = km.fit_predict(X_pca[:, 0:2])"
   ]
  },
  {
   "cell_type": "markdown",
   "metadata": {},
   "source": [
    "では､逆に**<font color='red'> $k$ が大きすぎる場合を見てみましょう</font>**｡この場合は､サンプル数が等しくならないことに加えて､**<font color='red'>シルエット係数がマイナスのものが出てきてしまっています</font>**｡**やはり､ $k$ の値が適切でないことがわかります**｡"
   ]
  },
  {
   "cell_type": "code",
   "execution_count": 57,
   "metadata": {},
   "outputs": [
    {
     "data": {
      "image/png": "[encoded data removed]",
      "text/plain": [
       "<matplotlib.figure.Figure at 0x112177fd0>"
      ]
     },
     "metadata": {},
     "output_type": "display_data"
    }
   ],
   "source": [
    "#写経【1７】\n",
    "# シルエット図を描画\n",
    "draw_silhouettes(X_pca[:, 0:2], y_km)"
   ]
  },
  {
   "cell_type": "markdown",
   "metadata": {},
   "source": [
    "### 13.5.3 弱点3. セントロイドの初期値次第で､最終的なクラスタが大きく変わる\n",
    "\n",
    "**k-means法**は**セントロイドの初期値を､ランダムに決定します**｡そのときに､**<font color='red'>初期値次第では､どう見ても無理のあるクラスタに収束してしまうことがあります</font>**｡このような､**初期値によって結果が変わってしまう性質を<font color='red'>｢初期値依存性｣</font>といいます**｡\n",
    "![](https://ai-std-contents.azureedge.net/image/ml13_18.png)\n",
    "\n",
    "**こうした収束を抑制するための対策**には､以下の2つがあります｡\n",
    "\n",
    "**対策①: k-means法を繰り返し実行する**  \n",
    "最も単純な方法は､**<font color='red'>k-means法を何回か繰り返し実行して､$SSE$ が一番小さくなった学習器を採用することです</font>**｡そうすることで､**<font color='red'>無理のある学習器を採用してしまう確率を減らすことができます</font>**｡** ```KMeans()``` の引数である ```n_init``` の値を変えることで実行できます**｡\n",
    "\n",
    "**対策②: k-means++法を利用する**  \n",
    "次に考えられるのは､**<font color='red'>セントロイドの初期値のとり方を工夫する</font>**という方法です｡**k-means++法**はそうした工夫のひとつで､**<font color='red'>｢無理のある収束は､セントロイドの初期値が近いときに起こりやすい｣</font>**という傾向に注目して、**<font color='red'>離れたサンプル同士で初期値をとるようにしています</font>**｡実行するためには､KMeansの引数の ```init='random'``` のところを ```init='k-means++'``` とするだけで実行できます｡  \n",
    "\n",
    "というよりも実は､**<font color='red'><code>init</code>のデフォルト値は<code>k-means++</code>になっているので､特に指定しなければk-means++法で初期値が設定されます</font>**｡"
   ]
  },
  {
   "cell_type": "code",
   "execution_count": null,
   "metadata": {
    "collapsed": true
   },
   "outputs": [],
   "source": []
  }
 ],
 "metadata": {
  "anaconda-cloud": {},
  "kernelspec": {
   "display_name": "Python 3",
   "language": "python",
   "name": "python3"
  },
  "language_info": {
   "codemirror_mode": {
    "name": "ipython",
    "version": 3
   },
   "file_extension": ".py",
   "mimetype": "text/x-python",
   "name": "python",
   "nbconvert_exporter": "python",
   "pygments_lexer": "ipython3",
   "version": "3.7.3"
  }
 },
 "nbformat": 4,
 "nbformat_minor": 2
}
