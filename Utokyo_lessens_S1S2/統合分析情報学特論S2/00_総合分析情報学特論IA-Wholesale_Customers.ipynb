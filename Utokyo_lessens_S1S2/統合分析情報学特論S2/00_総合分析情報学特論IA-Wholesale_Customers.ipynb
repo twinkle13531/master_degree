{
 "cells": [
  {
   "cell_type": "markdown",
   "metadata": {},
   "source": [
    "# 最終課題 Wholesale customers\n",
    "\n",
    "今回の課題は**Wholesale Customers（小売店舗の顧客データ）**です｡また､今回は**教師なし学習手法の扱い以外に､データを観察する姿勢･主張を組み立てる姿勢を養うことを重視**しました｡　**<font color=red>様々な視点からデータを眺め､出力結果から仮説を立て､その検証を行い､検証結果をもとに主張を組み立てる</font>**という流れで分析を行います｡ただのデータからこれほどの知識を抽出することができるのかということを実感してもらえるはずです｡\n",
    "\n",
    "## 到達ゴール\n",
    "この実践演習課題の目的は、以下の通りです。\n",
    "\n",
    " - 教師なし学習手法を実装し､施策提言までのステップを体験する\n",
    " - 学習結果の解釈・可視化ができるかどうか確認する"
   ]
  },
  {
   "cell_type": "markdown",
   "metadata": {},
   "source": [
    "## 3.1 分析ストーリー: 食品小売店舗の出店戦略\n",
    "\n",
    "とある企業が**<font color='red'>人口の多い都市に中小規模の食品小売店舗を出店しようとしているとします</font>**｡しかし､そうした都市には既に競合店舗も多く出店されているため､そうした環境の中でいかに売上を､ひいては利益を上げていけるかということが問題になります｡  \n",
    "\n",
    "こうした場合､教師なし学習の手法が役に立ちます｡**<font color='red'>教師なし学習は既知のデータの構造を浮かび上がらせるために用いられる</font>**と説明しました｡この場合では､これを用いて市場環境の構造化が行えます｡アンケートデータなどを用いて､**既存の店舗をよく説明する軸を抽出し（主成分分析）､同質の店舗をグループにまとめる（クラスタリング）**ことを試しましょう｡また､今回は周辺の店舗の売上構成のデータが得られたという想定で分析を行います（実際には､こうしたデータが手に入るケースは稀ですが）｡  \n",
    "\n",
    "そして､今回は教師なし学習の手法による分析を行うだけでは終わりません｡**<font color='red'>この企業の出店戦略に対して､具体的な施策の提言を行う</font>**ところまでを今回の課題とします｡最後に簡単な**レポーティングの課題**を用意しましたので､それを完成させて､回答例と照らし合わせてみてください｡\n",
    "\n",
    "<img src='https://s3.us-east-2.amazonaws.com/ai.standard/Machine+Learning/Machine+Learning/vol.13+%E3%82%AF%E3%83%A9%E3%82%B9%E3%82%BF%E3%83%AA%E3%83%B3%E3%82%B0/%E3%82%B9%E3%82%AF%E3%83%AA%E3%83%BC%E3%83%B3%E3%82%B7%E3%83%A7%E3%83%83%E3%83%88+2018-01-03+12.51.34.png' width=70%>"
   ]
  },
  {
   "cell_type": "markdown",
   "metadata": {},
   "source": [
    "## 3.2 データの観察\n",
    "\n",
    "次はデータの理解です｡まずはデータの読み込みを行います｡**Wholesale Customers**のデータセットは､**UCI Machine Learning Repository（カリフォルニア大学アーバイン校が運営する､機械学習用のデータ配布サイト）**で配布されています｡\n",
    "\n",
    "<img src='https://s3.us-east-2.amazonaws.com/ai.standard/Machine+Learning/Machine+Learning/vol.13+%E3%82%AF%E3%83%A9%E3%82%B9%E3%82%BF%E3%83%AA%E3%83%B3%E3%82%B0/%E3%82%B9%E3%82%AF%E3%83%AA%E3%83%BC%E3%83%B3%E3%82%B7%E3%83%A7%E3%83%83%E3%83%88+2018-01-02+11.11.06.png' width=80%>\n",
    "\n",
    "掲載: [UCI, \"Wholesale customers Data Set\"](https://archive.ics.uci.edu/ml/datasets/wholesale+customers)  \n",
    "\n",
    "出典: Margarida G. M. S. Cardoso, margarida.cardoso '@' iscte.pt, ISCTE-IUL, Lisbon, Portugal  \n",
    "\n",
    "参考: [Enhancing the selection of a model-based clustering\n",
    "with external categorical variables](https://arxiv.org/pdf/1211.0437.pdf)"
   ]
  },
  {
   "cell_type": "code",
   "execution_count": 1,
   "metadata": {
    "scrolled": true
   },
   "outputs": [],
   "source": [
    "# モジュールをインポート\n",
    "import pandas as pd\n",
    "import numpy as  np\n",
    "import matplotlib.pyplot as plt\n",
    "%matplotlib inline"
   ]
  },
  {
   "cell_type": "markdown",
   "metadata": {},
   "source": [
    "### 3.2.1 ファイルの読み込み\n",
    "\n",
    "さて､それでは早速Wholesale Customersのデータセットを読み込みましょう｡\n",
    "\n",
    "#### 問題1: csvファイルの読み込み\n",
    "pandasのメソッドを利用して､以下のURLに保存されたcsvファイルを読み込んでください｡\n",
    "\n",
    "URL : https://archive.ics.uci.edu/ml/machine-learning-databases/00292/Wholesale%20customers%20data.csv"
   ]
  },
  {
   "cell_type": "code",
   "execution_count": 2,
   "metadata": {},
   "outputs": [],
   "source": [
    "# pandasのライブラリを用いて､csvファイルを読み込む\n",
    "df = pd.read_csv('Wholesale_customers_data.csv')"
   ]
  },
  {
   "cell_type": "code",
   "execution_count": 3,
   "metadata": {
    "scrolled": true
   },
   "outputs": [
    {
     "data": {
      "text/html": [
       "<div>\n",
       "<style scoped>\n",
       "    .dataframe tbody tr th:only-of-type {\n",
       "        vertical-align: middle;\n",
       "    }\n",
       "\n",
       "    .dataframe tbody tr th {\n",
       "        vertical-align: top;\n",
       "    }\n",
       "\n",
       "    .dataframe thead th {\n",
       "        text-align: right;\n",
       "    }\n",
       "</style>\n",
       "<table border=\"1\" class=\"dataframe\">\n",
       "  <thead>\n",
       "    <tr style=\"text-align: right;\">\n",
       "      <th></th>\n",
       "      <th>Channel</th>\n",
       "      <th>Region</th>\n",
       "      <th>Fresh</th>\n",
       "      <th>Milk</th>\n",
       "      <th>Grocery</th>\n",
       "      <th>Frozen</th>\n",
       "      <th>Detergents_Paper</th>\n",
       "      <th>Delicassen</th>\n",
       "    </tr>\n",
       "  </thead>\n",
       "  <tbody>\n",
       "    <tr>\n",
       "      <th>0</th>\n",
       "      <td>2</td>\n",
       "      <td>3</td>\n",
       "      <td>12669</td>\n",
       "      <td>9656</td>\n",
       "      <td>7561</td>\n",
       "      <td>214</td>\n",
       "      <td>2674</td>\n",
       "      <td>1338</td>\n",
       "    </tr>\n",
       "    <tr>\n",
       "      <th>1</th>\n",
       "      <td>2</td>\n",
       "      <td>3</td>\n",
       "      <td>7057</td>\n",
       "      <td>9810</td>\n",
       "      <td>9568</td>\n",
       "      <td>1762</td>\n",
       "      <td>3293</td>\n",
       "      <td>1776</td>\n",
       "    </tr>\n",
       "    <tr>\n",
       "      <th>2</th>\n",
       "      <td>2</td>\n",
       "      <td>3</td>\n",
       "      <td>6353</td>\n",
       "      <td>8808</td>\n",
       "      <td>7684</td>\n",
       "      <td>2405</td>\n",
       "      <td>3516</td>\n",
       "      <td>7844</td>\n",
       "    </tr>\n",
       "    <tr>\n",
       "      <th>3</th>\n",
       "      <td>1</td>\n",
       "      <td>3</td>\n",
       "      <td>13265</td>\n",
       "      <td>1196</td>\n",
       "      <td>4221</td>\n",
       "      <td>6404</td>\n",
       "      <td>507</td>\n",
       "      <td>1788</td>\n",
       "    </tr>\n",
       "    <tr>\n",
       "      <th>4</th>\n",
       "      <td>2</td>\n",
       "      <td>3</td>\n",
       "      <td>22615</td>\n",
       "      <td>5410</td>\n",
       "      <td>7198</td>\n",
       "      <td>3915</td>\n",
       "      <td>1777</td>\n",
       "      <td>5185</td>\n",
       "    </tr>\n",
       "  </tbody>\n",
       "</table>\n",
       "</div>"
      ],
      "text/plain": [
       "   Channel  Region  Fresh  Milk  Grocery  Frozen  Detergents_Paper  Delicassen\n",
       "0        2       3  12669  9656     7561     214              2674        1338\n",
       "1        2       3   7057  9810     9568    1762              3293        1776\n",
       "2        2       3   6353  8808     7684    2405              3516        7844\n",
       "3        1       3  13265  1196     4221    6404               507        1788\n",
       "4        2       3  22615  5410     7198    3915              1777        5185"
      ]
     },
     "execution_count": 3,
     "metadata": {},
     "output_type": "execute_result"
    }
   ],
   "source": [
    "# 初めの5行のみを表示して､csvファイルが読み込まれたことを確認\n",
    "df.head()"
   ]
  },
  {
   "cell_type": "markdown",
   "metadata": {},
   "source": [
    "csvファイルを正常に読み込めたら､内容の確認に移りましょう｡それぞれの変数の意味を以下の表にまとめておきました｡**小売店舗ごとの（各サンプルは店舗を表しています）食品の売上データが､カテゴリ別に記載されたデータ**であるようです｡それぞれの名称と意味をしっかりと覚えておいてください｡  \n",
    "\n",
    "注意すべきは**\"Grocery\"の意味**です｡Groceryは､MilkやFreshなどを含め食料品店で買えるもの全般を指す単語なのですが､ここでは食料品の一カテゴリとして扱われているようです｡論文にも詳細な記述がなかったので､今回は**｢他のカテゴリを除く食料雑貨全般の年間売上｣**として扱うことにします｡**<font color=red>第三者から提供されたデータを分析するときは､こうした言葉の定義にも注意する必要があります<font>**｡\n",
    "\n",
    "|index|名称|意味|\n",
    "|:--|:--|:--|\n",
    "|0|Channel|販売チャネル（1: Horeca (ホテル･レストラン･カフェ), 2: Retail（個人向け小売））|\n",
    "|1|Region|所在地（1: リスボン市, 2: ポルト市, 3: その他）|\n",
    "|2|Fresh|生鮮品の年間売上 [単位: ユーロ]|\n",
    "|3|Milk|乳製品の年間売上 [単位: ユーロ]|\n",
    "|4|Grocery|他のカテゴリを除く食料雑貨全般の年間売上 [単位: ユーロ]|\n",
    "|5|Frozen|冷凍食品の年間売上 [単位: ユーロ]|\n",
    "|6|Detergents_Paper|洗剤と紙類の年間売上 [単位: ユーロ]|\n",
    "|7|Delicassen|惣菜の年間売上 [単位: ユーロ]|\n",
    "\n"
   ]
  },
  {
   "cell_type": "markdown",
   "metadata": {},
   "source": [
    "#### 問題2: サンプル数の確認\n",
    "\n",
    "pandasのメソッドを利用して､サンプル数を出力してください｡  \n",
    "（ヒント: サンプル数を出力することは､データフレームの長さを出力することと同じです｡）"
   ]
  },
  {
   "cell_type": "code",
   "execution_count": 4,
   "metadata": {},
   "outputs": [
    {
     "data": {
      "text/plain": [
       "440"
      ]
     },
     "execution_count": 4,
     "metadata": {},
     "output_type": "execute_result"
    }
   ],
   "source": [
    "# サンプル数の確認\n",
    "len(df)"
   ]
  },
  {
   "cell_type": "markdown",
   "metadata": {},
   "source": [
    "#### 問題3: 欠損の個数を確認\n",
    "\n",
    "pandasのメソッドを利用して､特徴量ごとの欠損の個数を確認してください｡"
   ]
  },
  {
   "cell_type": "code",
   "execution_count": 5,
   "metadata": {
    "scrolled": true
   },
   "outputs": [
    {
     "data": {
      "text/plain": [
       "Channel             0\n",
       "Region              0\n",
       "Fresh               0\n",
       "Milk                0\n",
       "Grocery             0\n",
       "Frozen              0\n",
       "Detergents_Paper    0\n",
       "Delicassen          0\n",
       "dtype: int64"
      ]
     },
     "execution_count": 5,
     "metadata": {},
     "output_type": "execute_result"
    }
   ],
   "source": [
    "# 欠損の個数を確認\n",
    "df.isnull().sum()"
   ]
  },
  {
   "cell_type": "markdown",
   "metadata": {},
   "source": [
    "### 3.2.2 データの整形\n",
    "\n",
    "#### 年間売上高の合計を算出\n",
    "\n",
    "さて､現在は商品のカテゴリ別の売上高が記載されていますが､**<font color='red'>本当に重要なのは合計の売上高です</font>**（**営業利益**などがあると更に良いのですが）｡そこで､各カテゴリの売上高を合計して､店舗ごとの年間の売上高を算出します｡そして､それをデータフレームの列に加えておきましょう｡"
   ]
  },
  {
   "cell_type": "code",
   "execution_count": 6,
   "metadata": {
    "scrolled": false
   },
   "outputs": [
    {
     "data": {
      "text/html": [
       "<div>\n",
       "<style scoped>\n",
       "    .dataframe tbody tr th:only-of-type {\n",
       "        vertical-align: middle;\n",
       "    }\n",
       "\n",
       "    .dataframe tbody tr th {\n",
       "        vertical-align: top;\n",
       "    }\n",
       "\n",
       "    .dataframe thead th {\n",
       "        text-align: right;\n",
       "    }\n",
       "</style>\n",
       "<table border=\"1\" class=\"dataframe\">\n",
       "  <thead>\n",
       "    <tr style=\"text-align: right;\">\n",
       "      <th></th>\n",
       "      <th>Sum</th>\n",
       "    </tr>\n",
       "  </thead>\n",
       "  <tbody>\n",
       "    <tr>\n",
       "      <th>0</th>\n",
       "      <td>34112</td>\n",
       "    </tr>\n",
       "    <tr>\n",
       "      <th>1</th>\n",
       "      <td>33266</td>\n",
       "    </tr>\n",
       "    <tr>\n",
       "      <th>2</th>\n",
       "      <td>36610</td>\n",
       "    </tr>\n",
       "    <tr>\n",
       "      <th>3</th>\n",
       "      <td>27381</td>\n",
       "    </tr>\n",
       "    <tr>\n",
       "      <th>4</th>\n",
       "      <td>46100</td>\n",
       "    </tr>\n",
       "  </tbody>\n",
       "</table>\n",
       "</div>"
      ],
      "text/plain": [
       "     Sum\n",
       "0  34112\n",
       "1  33266\n",
       "2  36610\n",
       "3  27381\n",
       "4  46100"
      ]
     },
     "execution_count": 6,
     "metadata": {},
     "output_type": "execute_result"
    }
   ],
   "source": [
    "# 各サンプルのFresh, Milk, Grocery, Frozen, Detergents_paper, Delicassenを合計\n",
    "# axisで列（0）の合計を取るか､行（1）の合計を取るかを指定\n",
    "df_sum = df.iloc[:,2:8].sum(axis=1)\n",
    "\n",
    "# sum関数の出力がSeries型になってしまうので､DataFrame型に戻す\n",
    "df_sum = pd.DataFrame(df_sum)\n",
    "# カラム名を与える\n",
    "df_sum.columns = ['Sum']\n",
    "\n",
    "df_sum.head()"
   ]
  },
  {
   "cell_type": "markdown",
   "metadata": {},
   "source": [
    "#### 問題4: データフレームの結合\n",
    "新たに作られたSumの列を､dfの右側から結合してください｡"
   ]
  },
  {
   "cell_type": "code",
   "execution_count": 7,
   "metadata": {},
   "outputs": [
    {
     "data": {
      "text/html": [
       "<div>\n",
       "<style scoped>\n",
       "    .dataframe tbody tr th:only-of-type {\n",
       "        vertical-align: middle;\n",
       "    }\n",
       "\n",
       "    .dataframe tbody tr th {\n",
       "        vertical-align: top;\n",
       "    }\n",
       "\n",
       "    .dataframe thead th {\n",
       "        text-align: right;\n",
       "    }\n",
       "</style>\n",
       "<table border=\"1\" class=\"dataframe\">\n",
       "  <thead>\n",
       "    <tr style=\"text-align: right;\">\n",
       "      <th></th>\n",
       "      <th>Channel</th>\n",
       "      <th>Region</th>\n",
       "      <th>Fresh</th>\n",
       "      <th>Milk</th>\n",
       "      <th>Grocery</th>\n",
       "      <th>Frozen</th>\n",
       "      <th>Detergents_Paper</th>\n",
       "      <th>Delicassen</th>\n",
       "      <th>Sum</th>\n",
       "    </tr>\n",
       "  </thead>\n",
       "  <tbody>\n",
       "    <tr>\n",
       "      <th>0</th>\n",
       "      <td>2</td>\n",
       "      <td>3</td>\n",
       "      <td>12669</td>\n",
       "      <td>9656</td>\n",
       "      <td>7561</td>\n",
       "      <td>214</td>\n",
       "      <td>2674</td>\n",
       "      <td>1338</td>\n",
       "      <td>34112</td>\n",
       "    </tr>\n",
       "    <tr>\n",
       "      <th>1</th>\n",
       "      <td>2</td>\n",
       "      <td>3</td>\n",
       "      <td>7057</td>\n",
       "      <td>9810</td>\n",
       "      <td>9568</td>\n",
       "      <td>1762</td>\n",
       "      <td>3293</td>\n",
       "      <td>1776</td>\n",
       "      <td>33266</td>\n",
       "    </tr>\n",
       "    <tr>\n",
       "      <th>2</th>\n",
       "      <td>2</td>\n",
       "      <td>3</td>\n",
       "      <td>6353</td>\n",
       "      <td>8808</td>\n",
       "      <td>7684</td>\n",
       "      <td>2405</td>\n",
       "      <td>3516</td>\n",
       "      <td>7844</td>\n",
       "      <td>36610</td>\n",
       "    </tr>\n",
       "    <tr>\n",
       "      <th>3</th>\n",
       "      <td>1</td>\n",
       "      <td>3</td>\n",
       "      <td>13265</td>\n",
       "      <td>1196</td>\n",
       "      <td>4221</td>\n",
       "      <td>6404</td>\n",
       "      <td>507</td>\n",
       "      <td>1788</td>\n",
       "      <td>27381</td>\n",
       "    </tr>\n",
       "    <tr>\n",
       "      <th>4</th>\n",
       "      <td>2</td>\n",
       "      <td>3</td>\n",
       "      <td>22615</td>\n",
       "      <td>5410</td>\n",
       "      <td>7198</td>\n",
       "      <td>3915</td>\n",
       "      <td>1777</td>\n",
       "      <td>5185</td>\n",
       "      <td>46100</td>\n",
       "    </tr>\n",
       "  </tbody>\n",
       "</table>\n",
       "</div>"
      ],
      "text/plain": [
       "   Channel  Region  Fresh  Milk  Grocery  Frozen  Detergents_Paper  \\\n",
       "0        2       3  12669  9656     7561     214              2674   \n",
       "1        2       3   7057  9810     9568    1762              3293   \n",
       "2        2       3   6353  8808     7684    2405              3516   \n",
       "3        1       3  13265  1196     4221    6404               507   \n",
       "4        2       3  22615  5410     7198    3915              1777   \n",
       "\n",
       "   Delicassen    Sum  \n",
       "0        1338  34112  \n",
       "1        1776  33266  \n",
       "2        7844  36610  \n",
       "3        1788  27381  \n",
       "4        5185  46100  "
      ]
     },
     "execution_count": 7,
     "metadata": {},
     "output_type": "execute_result"
    }
   ],
   "source": [
    "# dfのカラムを接続\n",
    "df = pd.concat([df, df_sum], axis=1)\n",
    "df.head()"
   ]
  },
  {
   "cell_type": "markdown",
   "metadata": {},
   "source": [
    "#### 通貨単位をユーロから千円に変換\n",
    "\n",
    "このデータの通貨単位はユーロです｡このままだといまいち直感的に理解できないので､**通貨単位を円に変換**してみましょう｡ひとまず､データが寄贈された2014年3月31日の為替相場で変換してみます｡1ユーロが約141.65円です｡また､円に換算したときの単位は会計の規則に倣って千円とします｡  \n",
    "\n",
    "ところで､下のセルの変数名はdf_kyenとなっていますが､**このkはkilo（キロ）の頭文字で1000を意味します**｡｢キロ円｣で千円ということです｡キログラムやキロメートルのキロと同じで､**<font color='red'>些末な桁を切り捨てることで､データを見やすくする</font>**ことを目的としています｡\n",
    "\n",
    "<img src='https://s3.us-east-2.amazonaws.com/ai.standard/Machine+Learning/Machine+Learning/vol.13+%E3%82%AF%E3%83%A9%E3%82%B9%E3%82%BF%E3%83%AA%E3%83%B3%E3%82%B0/%E3%82%B9%E3%82%AF%E3%83%AA%E3%83%BC%E3%83%B3%E3%82%B7%E3%83%A7%E3%83%83%E3%83%88+2018-01-02+11.44.50.png' width=50%>"
   ]
  },
  {
   "cell_type": "code",
   "execution_count": 8,
   "metadata": {},
   "outputs": [
    {
     "data": {
      "text/html": [
       "<div>\n",
       "<style scoped>\n",
       "    .dataframe tbody tr th:only-of-type {\n",
       "        vertical-align: middle;\n",
       "    }\n",
       "\n",
       "    .dataframe tbody tr th {\n",
       "        vertical-align: top;\n",
       "    }\n",
       "\n",
       "    .dataframe thead th {\n",
       "        text-align: right;\n",
       "    }\n",
       "</style>\n",
       "<table border=\"1\" class=\"dataframe\">\n",
       "  <thead>\n",
       "    <tr style=\"text-align: right;\">\n",
       "      <th></th>\n",
       "      <th>Channel</th>\n",
       "      <th>Region</th>\n",
       "      <th>Fresh</th>\n",
       "      <th>Milk</th>\n",
       "      <th>Grocery</th>\n",
       "      <th>Frozen</th>\n",
       "      <th>Detergents_Paper</th>\n",
       "      <th>Delicassen</th>\n",
       "      <th>Sum</th>\n",
       "    </tr>\n",
       "  </thead>\n",
       "  <tbody>\n",
       "    <tr>\n",
       "      <th>0</th>\n",
       "      <td>2</td>\n",
       "      <td>3</td>\n",
       "      <td>1794</td>\n",
       "      <td>1367</td>\n",
       "      <td>1071</td>\n",
       "      <td>30</td>\n",
       "      <td>378</td>\n",
       "      <td>189</td>\n",
       "      <td>4831</td>\n",
       "    </tr>\n",
       "    <tr>\n",
       "      <th>1</th>\n",
       "      <td>2</td>\n",
       "      <td>3</td>\n",
       "      <td>999</td>\n",
       "      <td>1389</td>\n",
       "      <td>1355</td>\n",
       "      <td>249</td>\n",
       "      <td>466</td>\n",
       "      <td>251</td>\n",
       "      <td>4712</td>\n",
       "    </tr>\n",
       "    <tr>\n",
       "      <th>2</th>\n",
       "      <td>2</td>\n",
       "      <td>3</td>\n",
       "      <td>899</td>\n",
       "      <td>1247</td>\n",
       "      <td>1088</td>\n",
       "      <td>340</td>\n",
       "      <td>498</td>\n",
       "      <td>1111</td>\n",
       "      <td>5185</td>\n",
       "    </tr>\n",
       "    <tr>\n",
       "      <th>3</th>\n",
       "      <td>1</td>\n",
       "      <td>3</td>\n",
       "      <td>1878</td>\n",
       "      <td>169</td>\n",
       "      <td>597</td>\n",
       "      <td>907</td>\n",
       "      <td>71</td>\n",
       "      <td>253</td>\n",
       "      <td>3878</td>\n",
       "    </tr>\n",
       "    <tr>\n",
       "      <th>4</th>\n",
       "      <td>2</td>\n",
       "      <td>3</td>\n",
       "      <td>3203</td>\n",
       "      <td>766</td>\n",
       "      <td>1019</td>\n",
       "      <td>554</td>\n",
       "      <td>251</td>\n",
       "      <td>734</td>\n",
       "      <td>6530</td>\n",
       "    </tr>\n",
       "  </tbody>\n",
       "</table>\n",
       "</div>"
      ],
      "text/plain": [
       "   Channel  Region  Fresh  Milk  Grocery  Frozen  Detergents_Paper  \\\n",
       "0        2       3   1794  1367     1071      30               378   \n",
       "1        2       3    999  1389     1355     249               466   \n",
       "2        2       3    899  1247     1088     340               498   \n",
       "3        1       3   1878   169      597     907                71   \n",
       "4        2       3   3203   766     1019     554               251   \n",
       "\n",
       "   Delicassen   Sum  \n",
       "0         189  4831  \n",
       "1         251  4712  \n",
       "2        1111  5185  \n",
       "3         253  3878  \n",
       "4         734  6530  "
      ]
     },
     "execution_count": 8,
     "metadata": {},
     "output_type": "execute_result"
    }
   ],
   "source": [
    "# 単位をユーロから千円に変換\n",
    "\n",
    "# dfのコピーを生成\n",
    "# df_kyen = dfだと､dfの呼び名を増やしているだけでコピーが生成されないので注意\n",
    "df_kyen = df.copy()\n",
    "\n",
    "# ChannelとRegionを除いた列について変換を施す\n",
    "# 為替レートをかけ算して､1000で割り算\n",
    "df_kyen.iloc[:,2:9] = df_kyen.iloc[:,2:9] * 141.65 / 1000\n",
    "# 小数点以下を切り捨て\n",
    "df_kyen = df_kyen.astype(int)\n",
    "\n",
    "df_kyen.head()"
   ]
  },
  {
   "cell_type": "markdown",
   "metadata": {},
   "source": [
    "### 3.2.3 基礎的な統計解析\n",
    "\n",
    "#### 問題5: 基本統計量を出力\n",
    "\n",
    "pandasのメソッドを利用して､基本統計量を出力してください｡"
   ]
  },
  {
   "cell_type": "code",
   "execution_count": 9,
   "metadata": {
    "scrolled": true
   },
   "outputs": [
    {
     "data": {
      "text/html": [
       "<div>\n",
       "<style scoped>\n",
       "    .dataframe tbody tr th:only-of-type {\n",
       "        vertical-align: middle;\n",
       "    }\n",
       "\n",
       "    .dataframe tbody tr th {\n",
       "        vertical-align: top;\n",
       "    }\n",
       "\n",
       "    .dataframe thead th {\n",
       "        text-align: right;\n",
       "    }\n",
       "</style>\n",
       "<table border=\"1\" class=\"dataframe\">\n",
       "  <thead>\n",
       "    <tr style=\"text-align: right;\">\n",
       "      <th></th>\n",
       "      <th>Channel</th>\n",
       "      <th>Region</th>\n",
       "      <th>Fresh</th>\n",
       "      <th>Milk</th>\n",
       "      <th>Grocery</th>\n",
       "      <th>Frozen</th>\n",
       "      <th>Detergents_Paper</th>\n",
       "      <th>Delicassen</th>\n",
       "      <th>Sum</th>\n",
       "    </tr>\n",
       "  </thead>\n",
       "  <tbody>\n",
       "    <tr>\n",
       "      <th>count</th>\n",
       "      <td>440.000000</td>\n",
       "      <td>440.000000</td>\n",
       "      <td>440.000000</td>\n",
       "      <td>440.000000</td>\n",
       "      <td>440.000000</td>\n",
       "      <td>440.000000</td>\n",
       "      <td>440.000000</td>\n",
       "      <td>440.000000</td>\n",
       "      <td>440.000000</td>\n",
       "    </tr>\n",
       "    <tr>\n",
       "      <th>mean</th>\n",
       "      <td>1.322727</td>\n",
       "      <td>2.543182</td>\n",
       "      <td>1699.354545</td>\n",
       "      <td>820.540909</td>\n",
       "      <td>1125.765909</td>\n",
       "      <td>434.645455</td>\n",
       "      <td>407.670455</td>\n",
       "      <td>215.513636</td>\n",
       "      <td>4705.984091</td>\n",
       "    </tr>\n",
       "    <tr>\n",
       "      <th>std</th>\n",
       "      <td>0.468052</td>\n",
       "      <td>0.774272</td>\n",
       "      <td>1791.497894</td>\n",
       "      <td>1045.406010</td>\n",
       "      <td>1346.120455</td>\n",
       "      <td>687.693164</td>\n",
       "      <td>675.385875</td>\n",
       "      <td>399.481115</td>\n",
       "      <td>3733.340696</td>\n",
       "    </tr>\n",
       "    <tr>\n",
       "      <th>min</th>\n",
       "      <td>1.000000</td>\n",
       "      <td>1.000000</td>\n",
       "      <td>0.000000</td>\n",
       "      <td>7.000000</td>\n",
       "      <td>0.000000</td>\n",
       "      <td>3.000000</td>\n",
       "      <td>0.000000</td>\n",
       "      <td>0.000000</td>\n",
       "      <td>128.000000</td>\n",
       "    </tr>\n",
       "    <tr>\n",
       "      <th>25%</th>\n",
       "      <td>1.000000</td>\n",
       "      <td>2.000000</td>\n",
       "      <td>442.750000</td>\n",
       "      <td>216.750000</td>\n",
       "      <td>304.750000</td>\n",
       "      <td>104.750000</td>\n",
       "      <td>36.000000</td>\n",
       "      <td>57.000000</td>\n",
       "      <td>2471.250000</td>\n",
       "    </tr>\n",
       "    <tr>\n",
       "      <th>50%</th>\n",
       "      <td>1.000000</td>\n",
       "      <td>3.000000</td>\n",
       "      <td>1204.000000</td>\n",
       "      <td>513.000000</td>\n",
       "      <td>673.000000</td>\n",
       "      <td>215.500000</td>\n",
       "      <td>115.500000</td>\n",
       "      <td>136.000000</td>\n",
       "      <td>3893.500000</td>\n",
       "    </tr>\n",
       "    <tr>\n",
       "      <th>75%</th>\n",
       "      <td>2.000000</td>\n",
       "      <td>3.000000</td>\n",
       "      <td>2398.000000</td>\n",
       "      <td>1018.000000</td>\n",
       "      <td>1509.250000</td>\n",
       "      <td>502.750000</td>\n",
       "      <td>555.000000</td>\n",
       "      <td>257.250000</td>\n",
       "      <td>5851.000000</td>\n",
       "    </tr>\n",
       "    <tr>\n",
       "      <th>max</th>\n",
       "      <td>2.000000</td>\n",
       "      <td>3.000000</td>\n",
       "      <td>15886.000000</td>\n",
       "      <td>10410.000000</td>\n",
       "      <td>13142.000000</td>\n",
       "      <td>8622.000000</td>\n",
       "      <td>5783.000000</td>\n",
       "      <td>6791.000000</td>\n",
       "      <td>28314.000000</td>\n",
       "    </tr>\n",
       "  </tbody>\n",
       "</table>\n",
       "</div>"
      ],
      "text/plain": [
       "          Channel      Region         Fresh          Milk       Grocery  \\\n",
       "count  440.000000  440.000000    440.000000    440.000000    440.000000   \n",
       "mean     1.322727    2.543182   1699.354545    820.540909   1125.765909   \n",
       "std      0.468052    0.774272   1791.497894   1045.406010   1346.120455   \n",
       "min      1.000000    1.000000      0.000000      7.000000      0.000000   \n",
       "25%      1.000000    2.000000    442.750000    216.750000    304.750000   \n",
       "50%      1.000000    3.000000   1204.000000    513.000000    673.000000   \n",
       "75%      2.000000    3.000000   2398.000000   1018.000000   1509.250000   \n",
       "max      2.000000    3.000000  15886.000000  10410.000000  13142.000000   \n",
       "\n",
       "            Frozen  Detergents_Paper   Delicassen           Sum  \n",
       "count   440.000000        440.000000   440.000000    440.000000  \n",
       "mean    434.645455        407.670455   215.513636   4705.984091  \n",
       "std     687.693164        675.385875   399.481115   3733.340696  \n",
       "min       3.000000          0.000000     0.000000    128.000000  \n",
       "25%     104.750000         36.000000    57.000000   2471.250000  \n",
       "50%     215.500000        115.500000   136.000000   3893.500000  \n",
       "75%     502.750000        555.000000   257.250000   5851.000000  \n",
       "max    8622.000000       5783.000000  6791.000000  28314.000000  "
      ]
     },
     "execution_count": 9,
     "metadata": {},
     "output_type": "execute_result"
    }
   ],
   "source": [
    "# 基本統計量を出力\n",
    "df_kyen.describe()"
   ]
  },
  {
   "cell_type": "markdown",
   "metadata": {},
   "source": [
    "ChannelとRegionを除いた変数について基本統計量を観察します｡ChannelとRegionについては､One-Hotエンコーディングを施した後の方が観察しやすいので､そのときに観察します｡  \n",
    "\n",
    "全店舗の平均を見ると､年間売上は生鮮食品が約170万円､牛乳が約82万円､食料雑貨が約113万円､冷凍食品が43万円､洗剤や紙類が約41万円､惣菜が22万円､食料品合計が約471万円になるということがわかります｡しかし､標準偏差がかなり大きいこともわかります｡**標準偏差が平均よりも大きい変数も多く､売上規模にかなりのばらつきがある**ことがわかります｡これは､**<font color=red>データの分布についての観察を行うことが非常に重要</font>**だということを意味します｡"
   ]
  },
  {
   "cell_type": "markdown",
   "metadata": {},
   "source": [
    "#### 問題6: Sumについてヒストグラムを出力\n",
    "\n",
    "データの分布についての観察の最も簡単なものとして､ヒストグラムを出力してみましょう｡   \n",
    "また､観察するべき変数は店舗の売上総額を表すSumとします｡    \n",
    "\n",
    "**※ 今回はヒストグラムのbinsを15としてください**"
   ]
  },
  {
   "cell_type": "code",
   "execution_count": 10,
   "metadata": {
    "scrolled": true
   },
   "outputs": [
    {
     "data": {
      "image/png": "[encoded data removed]",
      "text/plain": [
       "<Figure size 432x288 with 1 Axes>"
      ]
     },
     "metadata": {
      "needs_background": "light"
     },
     "output_type": "display_data"
    }
   ],
   "source": [
    "# sumについてヒストグラムを出力\n",
    "plt.hist(df_kyen.Sum, bins=15)\n",
    "plt.show()"
   ]
  },
  {
   "cell_type": "markdown",
   "metadata": {},
   "source": [
    "ヒストグラムを観察すると､ほとんどの店舗が売上合計1000万円(10,000千円)以下に集中していることがわかります｡ちなみに､平均は471万円（4,710千円）です｡**今回はサンプルのほとんどが中小規模の店舗だといえます**｡また､一方で2000万円以上の店舗も存在します｡大規模な総合スーパーでしょうか｡"
   ]
  },
  {
   "cell_type": "markdown",
   "metadata": {},
   "source": [
    "#### 売上総額15,000千円以上の大型店舗を抽出\n",
    "\n",
    "さて､ヒストグラムによって**平均から大きく外れた大規模店舗が一定数存在する**ことが明らかになりました｡**中小規模の出店戦略を考えるとき､大型店舗に顧客を取られてしまうというケースは想定しておかなければならない**でしょう｡このデータ分析より更に進んだ追加調査を行うときのために､売上総額が15,000千円以上の店舗を抽出しておきましょう｡"
   ]
  },
  {
   "cell_type": "code",
   "execution_count": 11,
   "metadata": {
    "scrolled": true
   },
   "outputs": [
    {
     "data": {
      "text/html": [
       "<div>\n",
       "<style scoped>\n",
       "    .dataframe tbody tr th:only-of-type {\n",
       "        vertical-align: middle;\n",
       "    }\n",
       "\n",
       "    .dataframe tbody tr th {\n",
       "        vertical-align: top;\n",
       "    }\n",
       "\n",
       "    .dataframe thead th {\n",
       "        text-align: right;\n",
       "    }\n",
       "</style>\n",
       "<table border=\"1\" class=\"dataframe\">\n",
       "  <thead>\n",
       "    <tr style=\"text-align: right;\">\n",
       "      <th></th>\n",
       "      <th>Channel</th>\n",
       "      <th>Region</th>\n",
       "      <th>Fresh</th>\n",
       "      <th>Milk</th>\n",
       "      <th>Grocery</th>\n",
       "      <th>Frozen</th>\n",
       "      <th>Detergents_Paper</th>\n",
       "      <th>Delicassen</th>\n",
       "      <th>Sum</th>\n",
       "    </tr>\n",
       "  </thead>\n",
       "  <tbody>\n",
       "    <tr>\n",
       "      <th>23</th>\n",
       "      <td>2</td>\n",
       "      <td>3</td>\n",
       "      <td>3735</td>\n",
       "      <td>5159</td>\n",
       "      <td>3118</td>\n",
       "      <td>730</td>\n",
       "      <td>614</td>\n",
       "      <td>2340</td>\n",
       "      <td>15698</td>\n",
       "    </tr>\n",
       "    <tr>\n",
       "      <th>47</th>\n",
       "      <td>2</td>\n",
       "      <td>3</td>\n",
       "      <td>6298</td>\n",
       "      <td>7685</td>\n",
       "      <td>7871</td>\n",
       "      <td>1102</td>\n",
       "      <td>3423</td>\n",
       "      <td>915</td>\n",
       "      <td>27297</td>\n",
       "    </tr>\n",
       "    <tr>\n",
       "      <th>61</th>\n",
       "      <td>2</td>\n",
       "      <td>3</td>\n",
       "      <td>5091</td>\n",
       "      <td>5434</td>\n",
       "      <td>8442</td>\n",
       "      <td>460</td>\n",
       "      <td>3782</td>\n",
       "      <td>285</td>\n",
       "      <td>23497</td>\n",
       "    </tr>\n",
       "    <tr>\n",
       "      <th>85</th>\n",
       "      <td>2</td>\n",
       "      <td>3</td>\n",
       "      <td>2282</td>\n",
       "      <td>6543</td>\n",
       "      <td>13142</td>\n",
       "      <td>145</td>\n",
       "      <td>5783</td>\n",
       "      <td>417</td>\n",
       "      <td>28314</td>\n",
       "    </tr>\n",
       "    <tr>\n",
       "      <th>86</th>\n",
       "      <td>2</td>\n",
       "      <td>3</td>\n",
       "      <td>3247</td>\n",
       "      <td>10410</td>\n",
       "      <td>4548</td>\n",
       "      <td>139</td>\n",
       "      <td>2842</td>\n",
       "      <td>127</td>\n",
       "      <td>21317</td>\n",
       "    </tr>\n",
       "    <tr>\n",
       "      <th>181</th>\n",
       "      <td>1</td>\n",
       "      <td>3</td>\n",
       "      <td>15886</td>\n",
       "      <td>4196</td>\n",
       "      <td>2570</td>\n",
       "      <td>2371</td>\n",
       "      <td>700</td>\n",
       "      <td>1211</td>\n",
       "      <td>26937</td>\n",
       "    </tr>\n",
       "    <tr>\n",
       "      <th>183</th>\n",
       "      <td>1</td>\n",
       "      <td>3</td>\n",
       "      <td>5219</td>\n",
       "      <td>6225</td>\n",
       "      <td>2857</td>\n",
       "      <td>5175</td>\n",
       "      <td>33</td>\n",
       "      <td>6791</td>\n",
       "      <td>26301</td>\n",
       "    </tr>\n",
       "    <tr>\n",
       "      <th>211</th>\n",
       "      <td>2</td>\n",
       "      <td>1</td>\n",
       "      <td>1716</td>\n",
       "      <td>4012</td>\n",
       "      <td>5622</td>\n",
       "      <td>670</td>\n",
       "      <td>2749</td>\n",
       "      <td>406</td>\n",
       "      <td>15178</td>\n",
       "    </tr>\n",
       "    <tr>\n",
       "      <th>325</th>\n",
       "      <td>1</td>\n",
       "      <td>2</td>\n",
       "      <td>4634</td>\n",
       "      <td>2377</td>\n",
       "      <td>1930</td>\n",
       "      <td>8622</td>\n",
       "      <td>180</td>\n",
       "      <td>794</td>\n",
       "      <td>18538</td>\n",
       "    </tr>\n",
       "    <tr>\n",
       "      <th>333</th>\n",
       "      <td>2</td>\n",
       "      <td>2</td>\n",
       "      <td>1213</td>\n",
       "      <td>705</td>\n",
       "      <td>9532</td>\n",
       "      <td>18</td>\n",
       "      <td>5397</td>\n",
       "      <td>172</td>\n",
       "      <td>17039</td>\n",
       "    </tr>\n",
       "  </tbody>\n",
       "</table>\n",
       "</div>"
      ],
      "text/plain": [
       "     Channel  Region  Fresh   Milk  Grocery  Frozen  Detergents_Paper  \\\n",
       "23         2       3   3735   5159     3118     730               614   \n",
       "47         2       3   6298   7685     7871    1102              3423   \n",
       "61         2       3   5091   5434     8442     460              3782   \n",
       "85         2       3   2282   6543    13142     145              5783   \n",
       "86         2       3   3247  10410     4548     139              2842   \n",
       "181        1       3  15886   4196     2570    2371               700   \n",
       "183        1       3   5219   6225     2857    5175                33   \n",
       "211        2       1   1716   4012     5622     670              2749   \n",
       "325        1       2   4634   2377     1930    8622               180   \n",
       "333        2       2   1213    705     9532      18              5397   \n",
       "\n",
       "     Delicassen    Sum  \n",
       "23         2340  15698  \n",
       "47          915  27297  \n",
       "61          285  23497  \n",
       "85          417  28314  \n",
       "86          127  21317  \n",
       "181        1211  26937  \n",
       "183        6791  26301  \n",
       "211         406  15178  \n",
       "325         794  18538  \n",
       "333         172  17039  "
      ]
     },
     "execution_count": 11,
     "metadata": {},
     "output_type": "execute_result"
    }
   ],
   "source": [
    "# 食品の売上総額が15,000千円以上の店舗を抽出\n",
    "df_large = df_kyen[df_kyen.Sum > 15000]\n",
    "df_large"
   ]
  },
  {
   "cell_type": "markdown",
   "metadata": {},
   "source": [
    "ChannelがRetailになっている店舗がやや多めでしょうか｡Horecaの大規模店舗はFreshやFrozenを主力商品にしているようです｡  \n",
    "また､47番のサンプルは小売り店舗でありながら､Horecaのような売上構成のようです｡こうした店舗も存在します｡"
   ]
  },
  {
   "cell_type": "markdown",
   "metadata": {},
   "source": [
    "#### 問題7: 相関行列のヒートマップを確認\n",
    "\n",
    "続いて､各変数同士の関係性を見ていきます｡まずは､各特徴量どうしの相関係数を確認しましょう｡直感的に観察できるように､ヒートマップの形式で出力しましょう（参考: [**相関係数行列の観察**](https://ai-std.com/show_ml/ml3.html#%E7%9B%B8%E9%96%A2%E4%BF%82%E6%95%B0%E8%A1%8C%E5%88%97%E3%81%AE%E8%A6%B3%E5%AF%9F)）｡ただし､ChannelとRegionは列のスライシングで除いておいてください｡**<font color='red'>これらの名義特徴量はエンコーディングがまだなので､意味のない数値が出力されてしまいます</font>**｡"
   ]
  },
  {
   "cell_type": "code",
   "execution_count": 12,
   "metadata": {
    "scrolled": false
   },
   "outputs": [
    {
     "data": {
      "image/png": "[encoded data removed]",
      "text/plain": [
       "<Figure size 576x432 with 2 Axes>"
      ]
     },
     "metadata": {
      "needs_background": "light"
     },
     "output_type": "display_data"
    }
   ],
   "source": [
    "# 相関係数行列のヒートマップの出力\n",
    "import seaborn as sns\n",
    "plt.figure(figsize=(8, 6))\n",
    "sns.heatmap(df.corr(), annot=True, square=True, fmt='.2f')\n",
    "plt.show()"
   ]
  },
  {
   "cell_type": "markdown",
   "metadata": {},
   "source": [
    "### 出力結果から､相関が強い（絶対値が0.7以上）変数のペアを列挙します｡  \n",
    "- SumとMilk（0.78）\n",
    "- SumとGrocery（0.74）\n",
    "- GroceryとDetergents_Paper（0.92）\n",
    "- GroceryとMilk（0.73）\n",
    "\n",
    "まとめると､**Milk､Grocery､Detergents_paperの3つはSumと強い正の相関がある**ようです｡そもそも､Sumは各食品カテゴリの売上を合計しただけですので､すべてのカテゴリとある程度は正の相関があるはずです｡ここからわかるのは､**大規模な店舗は多数あるカテゴリの中でも牛乳､食料雑貨､洗剤や紙類を中心に売上を上げている**ということです｡  \n",
    "\n",
    "これらのカテゴリは生活の中心になっているものと言ってもいいでしょう｡食料雑貨全般が食べられ､牛乳を飲んで､水回りも整えられ､という3点を押さえています｡大量に販売できるということは､原価を押さえて安値で提供しているかもしれません｡その場合は､大規模な店舗の周辺に何の工夫もなしに同カテゴリの商品を主力とする店舗を出店することは危険かもしれません｡  \n",
    "\n",
    "**※注意**  \n",
    "それにしても､GroceryとDetergents_Paperのような､**0.9を超える相関は高すぎ**です｡通常､これほど高い相関はあまり観察されません.特に､今回はGroceryの定義が曖昧だったこともあり､データの取り方にミスがあった可能性も考えられます｡"
   ]
  },
  {
   "cell_type": "markdown",
   "metadata": {},
   "source": [
    "#### 問題8: 散布図行列を確認\n",
    "\n",
    "さらに､散布図行列を確認します｡**<font color='red'>相関係数だけでは､曲線的な関係性の強さを見落とすことになりかねません</font>**｡  \n",
    "また､ChannelとRegionは列のスライシングで除いておいてください｡"
   ]
  },
  {
   "cell_type": "code",
   "execution_count": 13,
   "metadata": {
    "scrolled": false
   },
   "outputs": [
    {
     "name": "stderr",
     "output_type": "stream",
     "text": [
      "/miniconda3/lib/python3.7/site-packages/seaborn/axisgrid.py:2065: UserWarning: The `size` parameter has been renamed to `height`; pleaes update your code.\n",
      "  warnings.warn(msg, UserWarning)\n"
     ]
    },
    {
     "data": {
      "image/png": "[encoded data removed]",
      "text/plain": [
       "<Figure size 576x576 with 20 Axes>"
      ]
     },
     "metadata": {
      "needs_background": "light"
     },
     "output_type": "display_data"
    }
   ],
   "source": [
    "# 散布図行列を出力\n",
    "df_pickup = df.loc[:, ['Milk', 'Grocery', 'Detergents_Paper', 'Sum']]\n",
    "\n",
    "import seaborn as sns\n",
    "sns.pairplot(df_pickup, size=2.0)\n",
    "plt.show()"
   ]
  },
  {
   "cell_type": "markdown",
   "metadata": {},
   "source": [
    "散布図行列を見るに､Sumと曲線的な関係が著しく強い変数はないようです｡"
   ]
  },
  {
   "cell_type": "markdown",
   "metadata": {},
   "source": [
    "#### Channelで層別したヒストグラム\n",
    "\n",
    "続いて､ChannelとRegionにも触れていきましょう｡**これらのカテゴリ変数に大きな傾向の違いはあるのでしょうか**｡ \n",
    "まずは､Channelごとに**<font color='red'>層別したヒストグラム</font>**を出力して､分布に大きな違いがあるかを観察します｡"
   ]
  },
  {
   "cell_type": "code",
   "execution_count": 14,
   "metadata": {},
   "outputs": [
    {
     "data": {
      "image/png": "[encoded data removed]",
      "text/plain": [
       "<Figure size 432x288 with 1 Axes>"
      ]
     },
     "metadata": {
      "needs_background": "light"
     },
     "output_type": "display_data"
    }
   ],
   "source": [
    "# Channelで層別したヒストグラムを出力\n",
    "plt.hist(df_kyen[df_kyen.Channel==1]['Sum'], bins=15, alpha=0.3, color='red') # 販路がHorecaのサンプルを赤で表示\n",
    "plt.hist(df_kyen[df_kyen.Channel==2]['Sum'], bins=15, alpha=0.3, color='blue') # 販路がRetailのサンプルを青で表示\n",
    "plt.show()"
   ]
  },
  {
   "cell_type": "markdown",
   "metadata": {},
   "source": [
    "Retailの方が年間売上がやや高めなようです｡小売店舗の方が､ホテル､レストラン､カフェよりもまとまった量の食料品を購入するのでしょうか｡"
   ]
  },
  {
   "cell_type": "markdown",
   "metadata": {},
   "source": [
    "#### Regionごとに層別したヒストグラム\n",
    "次に､Regionごとの層別です｡"
   ]
  },
  {
   "cell_type": "code",
   "execution_count": 15,
   "metadata": {
    "scrolled": true
   },
   "outputs": [
    {
     "data": {
      "image/png": "[encoded data removed]",
      "text/plain": [
       "<Figure size 432x288 with 1 Axes>"
      ]
     },
     "metadata": {
      "needs_background": "light"
     },
     "output_type": "display_data"
    }
   ],
   "source": [
    "# Regionごとに層別したヒストグラムを出力\n",
    "plt.hist(df_kyen[df_kyen.Region==1]['Sum'], bins=15, alpha=0.3, color='red')\n",
    "plt.hist(df_kyen[df_kyen.Region==2]['Sum'], bins=15, alpha=0.3, color='blue')\n",
    "plt.hist(df_kyen[df_kyen.Region==3]['Sum'], bins=15, alpha=0.3, color='green')\n",
    "plt.show()"
   ]
  },
  {
   "cell_type": "markdown",
   "metadata": {},
   "source": [
    "こちらは分布の違いはないものの､サンプル数に大きな違いがあることがわかりました｡リスボン市とポルト市は同程度のサンプル数ですが､その他があまりにも多いので､これらの情報がほとんど意味をなしません｡**リスボン市もポルト市も､その他の一部であるとして観察しても差し支えなさそう**です｡"
   ]
  },
  {
   "cell_type": "markdown",
   "metadata": {},
   "source": [
    "## 3.3 機械学習のための前処理①\n",
    "\n",
    "### 3.3.1 エンコーディング\n",
    "\n",
    "#### 問題9: ChannelへのOne-Hotエンコーディング\n",
    "\n",
    "続いて､ChannelとRegionをOne-Hotエンコーディングを施してください｡これらはあらかじめ数値で表現されています｡なので､マッピングは必要ありません｡One-Hotエンコーディングだけ施しましょう｡なお、データの観察が終わりましたのでここからはdf_kyenではなくdfのみを扱っていきます。"
   ]
  },
  {
   "cell_type": "code",
   "execution_count": 16,
   "metadata": {
    "scrolled": true
   },
   "outputs": [],
   "source": [
    "# ChannelにOne-Hotエンコーディングを施す\n",
    "channel = pd.get_dummies(df['Channel'])"
   ]
  },
  {
   "cell_type": "code",
   "execution_count": 17,
   "metadata": {},
   "outputs": [
    {
     "data": {
      "text/html": [
       "<div>\n",
       "<style scoped>\n",
       "    .dataframe tbody tr th:only-of-type {\n",
       "        vertical-align: middle;\n",
       "    }\n",
       "\n",
       "    .dataframe tbody tr th {\n",
       "        vertical-align: top;\n",
       "    }\n",
       "\n",
       "    .dataframe thead th {\n",
       "        text-align: right;\n",
       "    }\n",
       "</style>\n",
       "<table border=\"1\" class=\"dataframe\">\n",
       "  <thead>\n",
       "    <tr style=\"text-align: right;\">\n",
       "      <th></th>\n",
       "      <th>Horeca</th>\n",
       "      <th>Retail</th>\n",
       "    </tr>\n",
       "  </thead>\n",
       "  <tbody>\n",
       "    <tr>\n",
       "      <th>0</th>\n",
       "      <td>0</td>\n",
       "      <td>1</td>\n",
       "    </tr>\n",
       "    <tr>\n",
       "      <th>1</th>\n",
       "      <td>0</td>\n",
       "      <td>1</td>\n",
       "    </tr>\n",
       "    <tr>\n",
       "      <th>2</th>\n",
       "      <td>0</td>\n",
       "      <td>1</td>\n",
       "    </tr>\n",
       "    <tr>\n",
       "      <th>3</th>\n",
       "      <td>1</td>\n",
       "      <td>0</td>\n",
       "    </tr>\n",
       "    <tr>\n",
       "      <th>4</th>\n",
       "      <td>0</td>\n",
       "      <td>1</td>\n",
       "    </tr>\n",
       "  </tbody>\n",
       "</table>\n",
       "</div>"
      ],
      "text/plain": [
       "   Horeca  Retail\n",
       "0       0       1\n",
       "1       0       1\n",
       "2       0       1\n",
       "3       1       0\n",
       "4       0       1"
      ]
     },
     "execution_count": 17,
     "metadata": {},
     "output_type": "execute_result"
    }
   ],
   "source": [
    "# わかりやすいように､列の名称を変更する\n",
    "channel.columns = ['Horeca', 'Retail']\n",
    "channel.head()"
   ]
  },
  {
   "cell_type": "markdown",
   "metadata": {},
   "source": [
    "#### 問題10: RegionへのOne-Hotエンコーディング\n",
    "\n",
    "Regionに対しても同様の処理を施します｡"
   ]
  },
  {
   "cell_type": "code",
   "execution_count": 18,
   "metadata": {},
   "outputs": [],
   "source": [
    "# RegionにOne-Hotエンコーディングを施す\n",
    "region = pd.get_dummies(df['Region'])"
   ]
  },
  {
   "cell_type": "code",
   "execution_count": 19,
   "metadata": {},
   "outputs": [
    {
     "data": {
      "text/html": [
       "<div>\n",
       "<style scoped>\n",
       "    .dataframe tbody tr th:only-of-type {\n",
       "        vertical-align: middle;\n",
       "    }\n",
       "\n",
       "    .dataframe tbody tr th {\n",
       "        vertical-align: top;\n",
       "    }\n",
       "\n",
       "    .dataframe thead th {\n",
       "        text-align: right;\n",
       "    }\n",
       "</style>\n",
       "<table border=\"1\" class=\"dataframe\">\n",
       "  <thead>\n",
       "    <tr style=\"text-align: right;\">\n",
       "      <th></th>\n",
       "      <th>Lisnon</th>\n",
       "      <th>Opotro</th>\n",
       "      <th>Other</th>\n",
       "    </tr>\n",
       "  </thead>\n",
       "  <tbody>\n",
       "    <tr>\n",
       "      <th>0</th>\n",
       "      <td>0</td>\n",
       "      <td>0</td>\n",
       "      <td>1</td>\n",
       "    </tr>\n",
       "    <tr>\n",
       "      <th>1</th>\n",
       "      <td>0</td>\n",
       "      <td>0</td>\n",
       "      <td>1</td>\n",
       "    </tr>\n",
       "    <tr>\n",
       "      <th>2</th>\n",
       "      <td>0</td>\n",
       "      <td>0</td>\n",
       "      <td>1</td>\n",
       "    </tr>\n",
       "    <tr>\n",
       "      <th>3</th>\n",
       "      <td>0</td>\n",
       "      <td>0</td>\n",
       "      <td>1</td>\n",
       "    </tr>\n",
       "    <tr>\n",
       "      <th>4</th>\n",
       "      <td>0</td>\n",
       "      <td>0</td>\n",
       "      <td>1</td>\n",
       "    </tr>\n",
       "  </tbody>\n",
       "</table>\n",
       "</div>"
      ],
      "text/plain": [
       "   Lisnon  Opotro  Other\n",
       "0       0       0      1\n",
       "1       0       0      1\n",
       "2       0       0      1\n",
       "3       0       0      1\n",
       "4       0       0      1"
      ]
     },
     "execution_count": 19,
     "metadata": {},
     "output_type": "execute_result"
    }
   ],
   "source": [
    "# わかりやすいように､列の名称を変更する\n",
    "region.columns = ['Lisnon', 'Opotro', 'Other']\n",
    "region.head()"
   ]
  },
  {
   "cell_type": "markdown",
   "metadata": {},
   "source": [
    "#### 問題11: データフレームへの反映\n",
    "\n",
    "df内のChannelとRegionをOne-Hotエンコーディングを施したものに入れ替えてください｡"
   ]
  },
  {
   "cell_type": "code",
   "execution_count": 20,
   "metadata": {},
   "outputs": [],
   "source": [
    "# いったんChannelとRegionをdfから削除\n",
    "del(df['Channel'])\n",
    "del(df['Region'])"
   ]
  },
  {
   "cell_type": "code",
   "execution_count": 21,
   "metadata": {},
   "outputs": [
    {
     "data": {
      "text/html": [
       "<div>\n",
       "<style scoped>\n",
       "    .dataframe tbody tr th:only-of-type {\n",
       "        vertical-align: middle;\n",
       "    }\n",
       "\n",
       "    .dataframe tbody tr th {\n",
       "        vertical-align: top;\n",
       "    }\n",
       "\n",
       "    .dataframe thead th {\n",
       "        text-align: right;\n",
       "    }\n",
       "</style>\n",
       "<table border=\"1\" class=\"dataframe\">\n",
       "  <thead>\n",
       "    <tr style=\"text-align: right;\">\n",
       "      <th></th>\n",
       "      <th>Fresh</th>\n",
       "      <th>Milk</th>\n",
       "      <th>Grocery</th>\n",
       "      <th>Frozen</th>\n",
       "      <th>Detergents_Paper</th>\n",
       "      <th>Delicassen</th>\n",
       "      <th>Sum</th>\n",
       "      <th>Horeca</th>\n",
       "      <th>Retail</th>\n",
       "      <th>Lisnon</th>\n",
       "      <th>Opotro</th>\n",
       "      <th>Other</th>\n",
       "    </tr>\n",
       "  </thead>\n",
       "  <tbody>\n",
       "    <tr>\n",
       "      <th>0</th>\n",
       "      <td>12669</td>\n",
       "      <td>9656</td>\n",
       "      <td>7561</td>\n",
       "      <td>214</td>\n",
       "      <td>2674</td>\n",
       "      <td>1338</td>\n",
       "      <td>34112</td>\n",
       "      <td>0</td>\n",
       "      <td>1</td>\n",
       "      <td>0</td>\n",
       "      <td>0</td>\n",
       "      <td>1</td>\n",
       "    </tr>\n",
       "    <tr>\n",
       "      <th>1</th>\n",
       "      <td>7057</td>\n",
       "      <td>9810</td>\n",
       "      <td>9568</td>\n",
       "      <td>1762</td>\n",
       "      <td>3293</td>\n",
       "      <td>1776</td>\n",
       "      <td>33266</td>\n",
       "      <td>0</td>\n",
       "      <td>1</td>\n",
       "      <td>0</td>\n",
       "      <td>0</td>\n",
       "      <td>1</td>\n",
       "    </tr>\n",
       "    <tr>\n",
       "      <th>2</th>\n",
       "      <td>6353</td>\n",
       "      <td>8808</td>\n",
       "      <td>7684</td>\n",
       "      <td>2405</td>\n",
       "      <td>3516</td>\n",
       "      <td>7844</td>\n",
       "      <td>36610</td>\n",
       "      <td>0</td>\n",
       "      <td>1</td>\n",
       "      <td>0</td>\n",
       "      <td>0</td>\n",
       "      <td>1</td>\n",
       "    </tr>\n",
       "    <tr>\n",
       "      <th>3</th>\n",
       "      <td>13265</td>\n",
       "      <td>1196</td>\n",
       "      <td>4221</td>\n",
       "      <td>6404</td>\n",
       "      <td>507</td>\n",
       "      <td>1788</td>\n",
       "      <td>27381</td>\n",
       "      <td>1</td>\n",
       "      <td>0</td>\n",
       "      <td>0</td>\n",
       "      <td>0</td>\n",
       "      <td>1</td>\n",
       "    </tr>\n",
       "    <tr>\n",
       "      <th>4</th>\n",
       "      <td>22615</td>\n",
       "      <td>5410</td>\n",
       "      <td>7198</td>\n",
       "      <td>3915</td>\n",
       "      <td>1777</td>\n",
       "      <td>5185</td>\n",
       "      <td>46100</td>\n",
       "      <td>0</td>\n",
       "      <td>1</td>\n",
       "      <td>0</td>\n",
       "      <td>0</td>\n",
       "      <td>1</td>\n",
       "    </tr>\n",
       "  </tbody>\n",
       "</table>\n",
       "</div>"
      ],
      "text/plain": [
       "   Fresh  Milk  Grocery  Frozen  Detergents_Paper  Delicassen    Sum  Horeca  \\\n",
       "0  12669  9656     7561     214              2674        1338  34112       0   \n",
       "1   7057  9810     9568    1762              3293        1776  33266       0   \n",
       "2   6353  8808     7684    2405              3516        7844  36610       0   \n",
       "3  13265  1196     4221    6404               507        1788  27381       1   \n",
       "4  22615  5410     7198    3915              1777        5185  46100       0   \n",
       "\n",
       "   Retail  Lisnon  Opotro  Other  \n",
       "0       1       0       0      1  \n",
       "1       1       0       0      1  \n",
       "2       1       0       0      1  \n",
       "3       0       0       0      1  \n",
       "4       1       0       0      1  "
      ]
     },
     "execution_count": 21,
     "metadata": {},
     "output_type": "execute_result"
    }
   ],
   "source": [
    "# dfとchannelとregionを接続\n",
    "df_onehot = pd.concat([df, channel, region], axis=1)\n",
    "df_onehot.head()"
   ]
  },
  {
   "cell_type": "markdown",
   "metadata": {},
   "source": [
    "#### 問題12: One-Hotエンコーディングを施したデータの基本統計量\n",
    "\n",
    "**<font color='red'>One-Hotエンコーディングを施していると､meanから定量的データの存在割合がわかります</font>**｡たとえば､Channelは $Horeca:Retail = 68:32$ になっているようです｡同様に､Regionは $Lisnon:Oporto:Other = 18:11:72$ です｡"
   ]
  },
  {
   "cell_type": "code",
   "execution_count": 22,
   "metadata": {},
   "outputs": [
    {
     "data": {
      "text/html": [
       "<div>\n",
       "<style scoped>\n",
       "    .dataframe tbody tr th:only-of-type {\n",
       "        vertical-align: middle;\n",
       "    }\n",
       "\n",
       "    .dataframe tbody tr th {\n",
       "        vertical-align: top;\n",
       "    }\n",
       "\n",
       "    .dataframe thead th {\n",
       "        text-align: right;\n",
       "    }\n",
       "</style>\n",
       "<table border=\"1\" class=\"dataframe\">\n",
       "  <thead>\n",
       "    <tr style=\"text-align: right;\">\n",
       "      <th></th>\n",
       "      <th>Fresh</th>\n",
       "      <th>Milk</th>\n",
       "      <th>Grocery</th>\n",
       "      <th>Frozen</th>\n",
       "      <th>Detergents_Paper</th>\n",
       "      <th>Delicassen</th>\n",
       "      <th>Sum</th>\n",
       "      <th>Horeca</th>\n",
       "      <th>Retail</th>\n",
       "      <th>Lisnon</th>\n",
       "      <th>Opotro</th>\n",
       "      <th>Other</th>\n",
       "    </tr>\n",
       "  </thead>\n",
       "  <tbody>\n",
       "    <tr>\n",
       "      <th>count</th>\n",
       "      <td>440.000000</td>\n",
       "      <td>440.000000</td>\n",
       "      <td>440.000000</td>\n",
       "      <td>440.000000</td>\n",
       "      <td>440.000000</td>\n",
       "      <td>440.000000</td>\n",
       "      <td>440.000000</td>\n",
       "      <td>440.000000</td>\n",
       "      <td>440.000000</td>\n",
       "      <td>440.0000</td>\n",
       "      <td>440.000000</td>\n",
       "      <td>440.000000</td>\n",
       "    </tr>\n",
       "    <tr>\n",
       "      <th>mean</th>\n",
       "      <td>12000.297727</td>\n",
       "      <td>5796.265909</td>\n",
       "      <td>7951.277273</td>\n",
       "      <td>3071.931818</td>\n",
       "      <td>2881.493182</td>\n",
       "      <td>1524.870455</td>\n",
       "      <td>33226.136364</td>\n",
       "      <td>0.677273</td>\n",
       "      <td>0.322727</td>\n",
       "      <td>0.1750</td>\n",
       "      <td>0.106818</td>\n",
       "      <td>0.718182</td>\n",
       "    </tr>\n",
       "    <tr>\n",
       "      <th>std</th>\n",
       "      <td>12647.328865</td>\n",
       "      <td>7380.377175</td>\n",
       "      <td>9503.162829</td>\n",
       "      <td>4854.673333</td>\n",
       "      <td>4767.854448</td>\n",
       "      <td>2820.105937</td>\n",
       "      <td>26356.301730</td>\n",
       "      <td>0.468052</td>\n",
       "      <td>0.468052</td>\n",
       "      <td>0.3804</td>\n",
       "      <td>0.309234</td>\n",
       "      <td>0.450397</td>\n",
       "    </tr>\n",
       "    <tr>\n",
       "      <th>min</th>\n",
       "      <td>3.000000</td>\n",
       "      <td>55.000000</td>\n",
       "      <td>3.000000</td>\n",
       "      <td>25.000000</td>\n",
       "      <td>3.000000</td>\n",
       "      <td>3.000000</td>\n",
       "      <td>904.000000</td>\n",
       "      <td>0.000000</td>\n",
       "      <td>0.000000</td>\n",
       "      <td>0.0000</td>\n",
       "      <td>0.000000</td>\n",
       "      <td>0.000000</td>\n",
       "    </tr>\n",
       "    <tr>\n",
       "      <th>25%</th>\n",
       "      <td>3127.750000</td>\n",
       "      <td>1533.000000</td>\n",
       "      <td>2153.000000</td>\n",
       "      <td>742.250000</td>\n",
       "      <td>256.750000</td>\n",
       "      <td>408.250000</td>\n",
       "      <td>17448.750000</td>\n",
       "      <td>0.000000</td>\n",
       "      <td>0.000000</td>\n",
       "      <td>0.0000</td>\n",
       "      <td>0.000000</td>\n",
       "      <td>0.000000</td>\n",
       "    </tr>\n",
       "    <tr>\n",
       "      <th>50%</th>\n",
       "      <td>8504.000000</td>\n",
       "      <td>3627.000000</td>\n",
       "      <td>4755.500000</td>\n",
       "      <td>1526.000000</td>\n",
       "      <td>816.500000</td>\n",
       "      <td>965.500000</td>\n",
       "      <td>27492.000000</td>\n",
       "      <td>1.000000</td>\n",
       "      <td>0.000000</td>\n",
       "      <td>0.0000</td>\n",
       "      <td>0.000000</td>\n",
       "      <td>1.000000</td>\n",
       "    </tr>\n",
       "    <tr>\n",
       "      <th>75%</th>\n",
       "      <td>16933.750000</td>\n",
       "      <td>7190.250000</td>\n",
       "      <td>10655.750000</td>\n",
       "      <td>3554.250000</td>\n",
       "      <td>3922.000000</td>\n",
       "      <td>1820.250000</td>\n",
       "      <td>41307.500000</td>\n",
       "      <td>1.000000</td>\n",
       "      <td>1.000000</td>\n",
       "      <td>0.0000</td>\n",
       "      <td>0.000000</td>\n",
       "      <td>1.000000</td>\n",
       "    </tr>\n",
       "    <tr>\n",
       "      <th>max</th>\n",
       "      <td>112151.000000</td>\n",
       "      <td>73498.000000</td>\n",
       "      <td>92780.000000</td>\n",
       "      <td>60869.000000</td>\n",
       "      <td>40827.000000</td>\n",
       "      <td>47943.000000</td>\n",
       "      <td>199891.000000</td>\n",
       "      <td>1.000000</td>\n",
       "      <td>1.000000</td>\n",
       "      <td>1.0000</td>\n",
       "      <td>1.000000</td>\n",
       "      <td>1.000000</td>\n",
       "    </tr>\n",
       "  </tbody>\n",
       "</table>\n",
       "</div>"
      ],
      "text/plain": [
       "               Fresh          Milk       Grocery        Frozen  \\\n",
       "count     440.000000    440.000000    440.000000    440.000000   \n",
       "mean    12000.297727   5796.265909   7951.277273   3071.931818   \n",
       "std     12647.328865   7380.377175   9503.162829   4854.673333   \n",
       "min         3.000000     55.000000      3.000000     25.000000   \n",
       "25%      3127.750000   1533.000000   2153.000000    742.250000   \n",
       "50%      8504.000000   3627.000000   4755.500000   1526.000000   \n",
       "75%     16933.750000   7190.250000  10655.750000   3554.250000   \n",
       "max    112151.000000  73498.000000  92780.000000  60869.000000   \n",
       "\n",
       "       Detergents_Paper    Delicassen            Sum      Horeca      Retail  \\\n",
       "count        440.000000    440.000000     440.000000  440.000000  440.000000   \n",
       "mean        2881.493182   1524.870455   33226.136364    0.677273    0.322727   \n",
       "std         4767.854448   2820.105937   26356.301730    0.468052    0.468052   \n",
       "min            3.000000      3.000000     904.000000    0.000000    0.000000   \n",
       "25%          256.750000    408.250000   17448.750000    0.000000    0.000000   \n",
       "50%          816.500000    965.500000   27492.000000    1.000000    0.000000   \n",
       "75%         3922.000000   1820.250000   41307.500000    1.000000    1.000000   \n",
       "max        40827.000000  47943.000000  199891.000000    1.000000    1.000000   \n",
       "\n",
       "         Lisnon      Opotro       Other  \n",
       "count  440.0000  440.000000  440.000000  \n",
       "mean     0.1750    0.106818    0.718182  \n",
       "std      0.3804    0.309234    0.450397  \n",
       "min      0.0000    0.000000    0.000000  \n",
       "25%      0.0000    0.000000    0.000000  \n",
       "50%      0.0000    0.000000    1.000000  \n",
       "75%      0.0000    0.000000    1.000000  \n",
       "max      1.0000    1.000000    1.000000  "
      ]
     },
     "execution_count": 22,
     "metadata": {},
     "output_type": "execute_result"
    }
   ],
   "source": [
    "# 基本統計量を再度出力\n",
    "df_onehot.describe()"
   ]
  },
  {
   "cell_type": "markdown",
   "metadata": {},
   "source": [
    "#### 問題13: One-Hotエンコーディングを施したデータの相関係数行列\n",
    "\n",
    "続いて､**<font color='red'>相関係数行列</font>**も同様に出力してみます｡今回はすべての変数について算出します｡"
   ]
  },
  {
   "cell_type": "code",
   "execution_count": 23,
   "metadata": {},
   "outputs": [
    {
     "data": {
      "image/png": "[encoded data removed]",
      "text/plain": [
       "<Figure size 864x576 with 2 Axes>"
      ]
     },
     "metadata": {
      "needs_background": "light"
     },
     "output_type": "display_data"
    }
   ],
   "source": [
    "# 相関係数行列のヒートマップの出力\n",
    "import seaborn as sns\n",
    "plt.figure(figsize=(12, 8))\n",
    "sns.heatmap(df.corr(), annot=True, square=True, fmt='.2f')\n",
    "plt.show()"
   ]
  },
  {
   "cell_type": "markdown",
   "metadata": {},
   "source": [
    "案の定､Regionに関してはほとんど相関がありません｡やはり､この変数は削除してしまって良いでしょう｡  \n",
    "\n",
    "一方で､Channelの方には有用な情報がありそうです｡HorecaとRetailは0と1が各サンプルで逆に対応しているので､その他の各変数に対して､相関係数の絶対値が同じで符号が反転した状態になっています｡**Retailはサンプル数こそ少ないものの､Horecaよりも売上規模が若干大きく､GroceryやDetergents_Paperを中心に販売しているようです**｡"
   ]
  },
  {
   "cell_type": "markdown",
   "metadata": {},
   "source": [
    "### 3.3.2 標準化\n",
    "\n",
    "次に､標準化の処理を実行します｡テキストではアレイ形式の処理を学びました。しかし、データフレーム形式にsklearnのStandardScalerを用いるとアレイ形式になってしまい、ラベルの情報が欠落してしまうなど観察を続けたい場合にはあまり都合がよくありません。実は、**データフレーム形式のままでも標準化の処理を行うことができます**｡単純に､**平均を引き算して､標準偏差で割り算をする**というやり方で大丈夫です｡平均がほぼ0に､標準偏差がほぼ1になっていれば大丈夫です｡  \n",
    "\n",
    "また､先程One-Hotエンコーディングを施したChannelとRegionは主成分分析には使用せず､このデータフレームを入力のXとします｡今回は食料品カテゴリだけで傾向を分析してみましょう｡"
   ]
  },
  {
   "cell_type": "code",
   "execution_count": 24,
   "metadata": {
    "scrolled": true
   },
   "outputs": [
    {
     "data": {
      "text/html": [
       "<div>\n",
       "<style scoped>\n",
       "    .dataframe tbody tr th:only-of-type {\n",
       "        vertical-align: middle;\n",
       "    }\n",
       "\n",
       "    .dataframe tbody tr th {\n",
       "        vertical-align: top;\n",
       "    }\n",
       "\n",
       "    .dataframe thead th {\n",
       "        text-align: right;\n",
       "    }\n",
       "</style>\n",
       "<table border=\"1\" class=\"dataframe\">\n",
       "  <thead>\n",
       "    <tr style=\"text-align: right;\">\n",
       "      <th></th>\n",
       "      <th>Fresh</th>\n",
       "      <th>Milk</th>\n",
       "      <th>Grocery</th>\n",
       "      <th>Frozen</th>\n",
       "      <th>Detergents_Paper</th>\n",
       "      <th>Delicassen</th>\n",
       "      <th>Sum</th>\n",
       "    </tr>\n",
       "  </thead>\n",
       "  <tbody>\n",
       "    <tr>\n",
       "      <th>count</th>\n",
       "      <td>4.400000e+02</td>\n",
       "      <td>4.400000e+02</td>\n",
       "      <td>4.400000e+02</td>\n",
       "      <td>4.400000e+02</td>\n",
       "      <td>4.400000e+02</td>\n",
       "      <td>440.000000</td>\n",
       "      <td>4.400000e+02</td>\n",
       "    </tr>\n",
       "    <tr>\n",
       "      <th>mean</th>\n",
       "      <td>-3.027881e-17</td>\n",
       "      <td>-3.229740e-17</td>\n",
       "      <td>-4.844610e-17</td>\n",
       "      <td>2.826022e-17</td>\n",
       "      <td>1.614870e-17</td>\n",
       "      <td>0.000000</td>\n",
       "      <td>1.372639e-16</td>\n",
       "    </tr>\n",
       "    <tr>\n",
       "      <th>std</th>\n",
       "      <td>1.000000e+00</td>\n",
       "      <td>1.000000e+00</td>\n",
       "      <td>1.000000e+00</td>\n",
       "      <td>1.000000e+00</td>\n",
       "      <td>1.000000e+00</td>\n",
       "      <td>1.000000</td>\n",
       "      <td>1.000000e+00</td>\n",
       "    </tr>\n",
       "    <tr>\n",
       "      <th>min</th>\n",
       "      <td>-9.486033e-01</td>\n",
       "      <td>-7.779096e-01</td>\n",
       "      <td>-8.363823e-01</td>\n",
       "      <td>-6.276286e-01</td>\n",
       "      <td>-6.037292e-01</td>\n",
       "      <td>-0.539650</td>\n",
       "      <td>-1.226353e+00</td>\n",
       "    </tr>\n",
       "    <tr>\n",
       "      <th>25%</th>\n",
       "      <td>-7.015353e-01</td>\n",
       "      <td>-5.776488e-01</td>\n",
       "      <td>-6.101418e-01</td>\n",
       "      <td>-4.798844e-01</td>\n",
       "      <td>-5.505082e-01</td>\n",
       "      <td>-0.395950</td>\n",
       "      <td>-5.986191e-01</td>\n",
       "    </tr>\n",
       "    <tr>\n",
       "      <th>50%</th>\n",
       "      <td>-2.764455e-01</td>\n",
       "      <td>-2.939234e-01</td>\n",
       "      <td>-3.362856e-01</td>\n",
       "      <td>-3.184420e-01</td>\n",
       "      <td>-4.331074e-01</td>\n",
       "      <td>-0.198351</td>\n",
       "      <td>-2.175623e-01</td>\n",
       "    </tr>\n",
       "    <tr>\n",
       "      <th>75%</th>\n",
       "      <td>3.900786e-01</td>\n",
       "      <td>1.888771e-01</td>\n",
       "      <td>2.845866e-01</td>\n",
       "      <td>9.935132e-02</td>\n",
       "      <td>2.182338e-01</td>\n",
       "      <td>0.104741</td>\n",
       "      <td>3.066198e-01</td>\n",
       "    </tr>\n",
       "    <tr>\n",
       "      <th>max</th>\n",
       "      <td>7.918724e+00</td>\n",
       "      <td>9.173208e+00</td>\n",
       "      <td>8.926367e+00</td>\n",
       "      <td>1.190545e+01</td>\n",
       "      <td>7.958613e+00</td>\n",
       "      <td>16.459711</td>\n",
       "      <td>6.323530e+00</td>\n",
       "    </tr>\n",
       "  </tbody>\n",
       "</table>\n",
       "</div>"
      ],
      "text/plain": [
       "              Fresh          Milk       Grocery        Frozen  \\\n",
       "count  4.400000e+02  4.400000e+02  4.400000e+02  4.400000e+02   \n",
       "mean  -3.027881e-17 -3.229740e-17 -4.844610e-17  2.826022e-17   \n",
       "std    1.000000e+00  1.000000e+00  1.000000e+00  1.000000e+00   \n",
       "min   -9.486033e-01 -7.779096e-01 -8.363823e-01 -6.276286e-01   \n",
       "25%   -7.015353e-01 -5.776488e-01 -6.101418e-01 -4.798844e-01   \n",
       "50%   -2.764455e-01 -2.939234e-01 -3.362856e-01 -3.184420e-01   \n",
       "75%    3.900786e-01  1.888771e-01  2.845866e-01  9.935132e-02   \n",
       "max    7.918724e+00  9.173208e+00  8.926367e+00  1.190545e+01   \n",
       "\n",
       "       Detergents_Paper  Delicassen           Sum  \n",
       "count      4.400000e+02  440.000000  4.400000e+02  \n",
       "mean       1.614870e-17    0.000000  1.372639e-16  \n",
       "std        1.000000e+00    1.000000  1.000000e+00  \n",
       "min       -6.037292e-01   -0.539650 -1.226353e+00  \n",
       "25%       -5.505082e-01   -0.395950 -5.986191e-01  \n",
       "50%       -4.331074e-01   -0.198351 -2.175623e-01  \n",
       "75%        2.182338e-01    0.104741  3.066198e-01  \n",
       "max        7.958613e+00   16.459711  6.323530e+00  "
      ]
     },
     "execution_count": 24,
     "metadata": {},
     "output_type": "execute_result"
    }
   ],
   "source": [
    "# データフレームの状態で標準化を行う\n",
    "# 列ごとの平均を引いて､標準偏差で割る\n",
    "X = (df_onehot.iloc[:, 0:7] - df_onehot.iloc[:, 0:7] .mean()) / df_onehot.iloc[:, 0:7] .std()\n",
    "X.describe()"
   ]
  },
  {
   "cell_type": "markdown",
   "metadata": {},
   "source": [
    "…うまく平均＝０、標準偏差＝０となっているはず"
   ]
  },
  {
   "cell_type": "markdown",
   "metadata": {},
   "source": [
    "<br/>\n",
    "\n",
    "## 3.4 主成分分析\n",
    "\n",
    "### 3.4.1 学習の実行"
   ]
  },
  {
   "cell_type": "markdown",
   "metadata": {},
   "source": [
    "#### 問題14: 主成分の取得\n",
    "\n",
    "主成分分析を行い､第5主成分までを取り出しましょう｡"
   ]
  },
  {
   "cell_type": "code",
   "execution_count": 25,
   "metadata": {},
   "outputs": [],
   "source": [
    "# 主成分分析を実行\n",
    "# 第5主成分まで取得\n",
    "\n",
    "# データの標準化\n",
    "#StandardScalerのライブラリを読み込む\n",
    "from sklearn.preprocessing import StandardScaler\n",
    "#StandardScalerのインスタンスを生成\n",
    "scaler = StandardScaler()\n",
    "\n",
    "# 与えられた行列の各特徴量について､平均と標準偏差を算出\n",
    "scaler.fit(X)\n",
    "# Xを標準化した行列を生成\n",
    "X_std = scaler.fit_transform(X) \n",
    "\n",
    "from sklearn.decomposition import PCA\n",
    "pca = PCA(n_components=5) #次元圧縮\n",
    "X_pca = pca.fit_transform(X_std)"
   ]
  },
  {
   "cell_type": "code",
   "execution_count": 26,
   "metadata": {
    "scrolled": false
   },
   "outputs": [
    {
     "data": {
      "text/plain": [
       "array([[ 0.13433308, -0.3318338 , -0.14928254, -0.48737765,  0.49534103],\n",
       "       [ 0.29539677, -0.45148409,  0.32893385, -0.17643275,  0.36532097],\n",
       "       [ 0.81102701,  0.4743789 ,  1.67361613, -1.24443135, -0.37978825],\n",
       "       [-0.6657518 ,  0.79747911,  0.16709707,  0.38135144, -0.27628465],\n",
       "       [ 0.60005873,  1.22441625,  0.16350921, -0.82735469, -0.39394851],\n",
       "       [-0.31548054, -0.28116558,  0.13234751, -0.41675628,  0.47924279],\n",
       "       [-0.48770853, -0.4240865 , -0.35732552, -0.19345286, -0.15329175]])"
      ]
     },
     "execution_count": 26,
     "metadata": {},
     "output_type": "execute_result"
    }
   ],
   "source": [
    "# 特徴量が７つ※あるので主成分は最大第７主成分まで作成可能。けれど今回は次元を5次元にし（圧縮し）、第一主成分から第五主成分まで作成した\n",
    "# ※ChannelとRegionは主成分分析には使用せず､今回は食料品カテゴリだけで傾向を分析してみましょう｡\n",
    "# 行＝各主成分\n",
    "X_pca[:7] #はじめの 7サンプルが、それぞれの主成分についてどれだけ保持したデータであるかを示している"
   ]
  },
  {
   "cell_type": "code",
   "execution_count": 27,
   "metadata": {},
   "outputs": [],
   "source": [
    "# X_pcaをDataFrameに入れて表で確認する。\n",
    "df_pca = pd.DataFrame(X_pca, columns=['第1主成分(PC0)', '第2主成分(PC1)', '第3主成分(PC2)', '第4主成分(PC3)' , '第5主成分(PC4)'])"
   ]
  },
  {
   "cell_type": "code",
   "execution_count": 28,
   "metadata": {},
   "outputs": [
    {
     "data": {
      "text/html": [
       "<div>\n",
       "<style scoped>\n",
       "    .dataframe tbody tr th:only-of-type {\n",
       "        vertical-align: middle;\n",
       "    }\n",
       "\n",
       "    .dataframe tbody tr th {\n",
       "        vertical-align: top;\n",
       "    }\n",
       "\n",
       "    .dataframe thead th {\n",
       "        text-align: right;\n",
       "    }\n",
       "</style>\n",
       "<table border=\"1\" class=\"dataframe\">\n",
       "  <thead>\n",
       "    <tr style=\"text-align: right;\">\n",
       "      <th></th>\n",
       "      <th>第1主成分(PC0)</th>\n",
       "      <th>第2主成分(PC1)</th>\n",
       "      <th>第3主成分(PC2)</th>\n",
       "      <th>第4主成分(PC3)</th>\n",
       "      <th>第5主成分(PC4)</th>\n",
       "    </tr>\n",
       "  </thead>\n",
       "  <tbody>\n",
       "    <tr>\n",
       "      <th>0</th>\n",
       "      <td>0.134333</td>\n",
       "      <td>-0.331834</td>\n",
       "      <td>-0.149283</td>\n",
       "      <td>-0.487378</td>\n",
       "      <td>0.495341</td>\n",
       "    </tr>\n",
       "    <tr>\n",
       "      <th>1</th>\n",
       "      <td>0.295397</td>\n",
       "      <td>-0.451484</td>\n",
       "      <td>0.328934</td>\n",
       "      <td>-0.176433</td>\n",
       "      <td>0.365321</td>\n",
       "    </tr>\n",
       "    <tr>\n",
       "      <th>2</th>\n",
       "      <td>0.811027</td>\n",
       "      <td>0.474379</td>\n",
       "      <td>1.673616</td>\n",
       "      <td>-1.244431</td>\n",
       "      <td>-0.379788</td>\n",
       "    </tr>\n",
       "    <tr>\n",
       "      <th>3</th>\n",
       "      <td>-0.665752</td>\n",
       "      <td>0.797479</td>\n",
       "      <td>0.167097</td>\n",
       "      <td>0.381351</td>\n",
       "      <td>-0.276285</td>\n",
       "    </tr>\n",
       "    <tr>\n",
       "      <th>4</th>\n",
       "      <td>0.600059</td>\n",
       "      <td>1.224416</td>\n",
       "      <td>0.163509</td>\n",
       "      <td>-0.827355</td>\n",
       "      <td>-0.393949</td>\n",
       "    </tr>\n",
       "  </tbody>\n",
       "</table>\n",
       "</div>"
      ],
      "text/plain": [
       "   第1主成分(PC0)  第2主成分(PC1)  第3主成分(PC2)  第4主成分(PC3)  第5主成分(PC4)\n",
       "0    0.134333   -0.331834   -0.149283   -0.487378    0.495341\n",
       "1    0.295397   -0.451484    0.328934   -0.176433    0.365321\n",
       "2    0.811027    0.474379    1.673616   -1.244431   -0.379788\n",
       "3   -0.665752    0.797479    0.167097    0.381351   -0.276285\n",
       "4    0.600059    1.224416    0.163509   -0.827355   -0.393949"
      ]
     },
     "execution_count": 28,
     "metadata": {},
     "output_type": "execute_result"
    }
   ],
   "source": [
    "df_pca.head()"
   ]
  },
  {
   "cell_type": "code",
   "execution_count": 29,
   "metadata": {},
   "outputs": [
    {
     "data": {
      "text/html": [
       "<div>\n",
       "<style scoped>\n",
       "    .dataframe tbody tr th:only-of-type {\n",
       "        vertical-align: middle;\n",
       "    }\n",
       "\n",
       "    .dataframe tbody tr th {\n",
       "        vertical-align: top;\n",
       "    }\n",
       "\n",
       "    .dataframe thead th {\n",
       "        text-align: right;\n",
       "    }\n",
       "</style>\n",
       "<table border=\"1\" class=\"dataframe\">\n",
       "  <thead>\n",
       "    <tr style=\"text-align: right;\">\n",
       "      <th></th>\n",
       "      <th>第1主成分(PC0)</th>\n",
       "      <th>第2主成分(PC1)</th>\n",
       "      <th>第3主成分(PC2)</th>\n",
       "      <th>第4主成分(PC3)</th>\n",
       "      <th>第5主成分(PC4)</th>\n",
       "    </tr>\n",
       "  </thead>\n",
       "  <tbody>\n",
       "    <tr>\n",
       "      <th>435</th>\n",
       "      <td>1.916129</td>\n",
       "      <td>2.120477</td>\n",
       "      <td>-0.472190</td>\n",
       "      <td>1.041875</td>\n",
       "      <td>0.424651</td>\n",
       "    </tr>\n",
       "    <tr>\n",
       "      <th>436</th>\n",
       "      <td>-0.115669</td>\n",
       "      <td>2.005083</td>\n",
       "      <td>-1.386435</td>\n",
       "      <td>-0.584278</td>\n",
       "      <td>-0.255661</td>\n",
       "    </tr>\n",
       "    <tr>\n",
       "      <th>437</th>\n",
       "      <td>3.632819</td>\n",
       "      <td>-1.677326</td>\n",
       "      <td>-0.638355</td>\n",
       "      <td>0.025872</td>\n",
       "      <td>-0.537680</td>\n",
       "    </tr>\n",
       "    <tr>\n",
       "      <th>438</th>\n",
       "      <td>-1.089433</td>\n",
       "      <td>0.129504</td>\n",
       "      <td>0.227212</td>\n",
       "      <td>-0.521722</td>\n",
       "      <td>-0.093636</td>\n",
       "    </tr>\n",
       "    <tr>\n",
       "      <th>439</th>\n",
       "      <td>-1.587646</td>\n",
       "      <td>-0.664150</td>\n",
       "      <td>0.209659</td>\n",
       "      <td>-0.109991</td>\n",
       "      <td>0.109200</td>\n",
       "    </tr>\n",
       "  </tbody>\n",
       "</table>\n",
       "</div>"
      ],
      "text/plain": [
       "     第1主成分(PC0)  第2主成分(PC1)  第3主成分(PC2)  第4主成分(PC3)  第5主成分(PC4)\n",
       "435    1.916129    2.120477   -0.472190    1.041875    0.424651\n",
       "436   -0.115669    2.005083   -1.386435   -0.584278   -0.255661\n",
       "437    3.632819   -1.677326   -0.638355    0.025872   -0.537680\n",
       "438   -1.089433    0.129504    0.227212   -0.521722   -0.093636\n",
       "439   -1.587646   -0.664150    0.209659   -0.109991    0.109200"
      ]
     },
     "execution_count": 29,
     "metadata": {},
     "output_type": "execute_result"
    }
   ],
   "source": [
    "df_pca.tail() #計440店舗"
   ]
  },
  {
   "cell_type": "markdown",
   "metadata": {},
   "source": [
    "#### 問題15: 寄与率の出力\n",
    "\n",
    "主成分分析の結果から､寄与率を出力してください｡"
   ]
  },
  {
   "cell_type": "code",
   "execution_count": 30,
   "metadata": {},
   "outputs": [
    {
     "name": "stdout",
     "output_type": "stream",
     "text": [
      "[0.49639921 0.25950771 0.11368933 0.08054048 0.04081173]\n"
     ]
    }
   ],
   "source": [
    "# 寄与率を出力\n",
    "# 各主成分の寄与率がarrayの形式で入っている\n",
    "# [第一主成分の寄与率 第二主成分の寄与率 ...]\n",
    "print(pca.explained_variance_ratio_)"
   ]
  },
  {
   "cell_type": "markdown",
   "metadata": {},
   "source": [
    "#### 問題16: 累積寄与率の出力\n",
    "\n",
    "累積寄与率についても同様です｡"
   ]
  },
  {
   "cell_type": "code",
   "execution_count": 31,
   "metadata": {},
   "outputs": [
    {
     "name": "stdout",
     "output_type": "stream",
     "text": [
      "[0.49639921 0.75590692 0.86959625 0.95013673 0.99094846]\n"
     ]
    }
   ],
   "source": [
    "# 累積寄与率を出力\n",
    "# np.cumsum()で固有値の累積をとる\n",
    "# [第1主成分までの累積寄与率 第2主成分までの累積寄与率 ...]\n",
    "print(np.cumsum(pca.explained_variance_ratio_))"
   ]
  },
  {
   "cell_type": "markdown",
   "metadata": {},
   "source": [
    "8 : 2の法則から、第二主成分あるいは第三主成分で今回のサンプルは説明できるということがわかる。"
   ]
  },
  {
   "cell_type": "markdown",
   "metadata": {},
   "source": [
    "#### 問題17: 因子負荷量の出力\n",
    "\n",
    "続いて､因子負荷量を算出してみましょう｡"
   ]
  },
  {
   "cell_type": "code",
   "execution_count": 32,
   "metadata": {},
   "outputs": [
    {
     "data": {
      "text/plain": [
       "array([[ 0.30588956,  0.87645475,  0.87531734,  0.25899818,  0.79309092,\n",
       "         0.50121591,  0.95262649],\n",
       "       [ 0.69615339, -0.11989536, -0.41192214,  0.74142499, -0.53672992,\n",
       "         0.50400145,  0.24535719],\n",
       "       [-0.62349763,  0.13735844, -0.03268386,  0.22786798, -0.0719535 ,\n",
       "         0.54548763, -0.1851902 ],\n",
       "       [-0.18552306, -0.06716896,  0.07734032,  0.57732345,  0.12686147,\n",
       "        -0.41319861,  0.0051291 ],\n",
       "       [-0.02474205,  0.44288881, -0.16795458, -0.01456479, -0.18115206,\n",
       "        -0.16831434, -0.00187478]])"
      ]
     },
     "execution_count": 32,
     "metadata": {},
     "output_type": "execute_result"
    }
   ],
   "source": [
    "# 因子負荷量を出力\n",
    "# 行　＝　Fresh生鮮品, Milk乳製品, Grocery食料雑貨, Frozen冷凍食品, Detergents_Paper洗剤と紙類, Delicassen惣菜,Sum総額\n",
    "# 列　＝　第1主成分、第２主成分、…、第５主成分\n",
    "pca.components_ * np.sqrt(pca.explained_variance_)[:, np.newaxis]"
   ]
  },
  {
   "cell_type": "markdown",
   "metadata": {},
   "source": [
    "### 3.4.2 学習結果の解釈\n",
    "\n",
    "#### 問題18: 主成分軸の意味付け\n",
    "\n",
    "因子負荷量から､第1､第2主成分の軸に意味付けを行いましょう｡\n",
    "\n",
    "ただし､**<font color='red'>因子負荷量という指標があるとは言え､あくまで主観である</font>**ということに注意してください｡解答例を用意していますが､**<font color='red'>厳密な正解があるわけではありません</font>**｡"
   ]
  },
  {
   "cell_type": "markdown",
   "metadata": {},
   "source": [
    "【解答欄】\n",
    "\n",
    "第1主成分：乳製品、食料雑貨、洗剤と紙類の売上高、総額に関わっている。ファミリー世帯向けであるかどうか。（総売上高は乳製品、食料雑貨、洗剤と紙類など生活必需品の売上高と相関しているらしい。大規模な店舗であればあるほど生活必需品が売上を占めているようだ。）\n",
    "\n",
    "\n",
    "第2主成分：冷凍食品と惣菜に関わっている。単身世帯に受けがいいかどうか。\n",
    "\n"
   ]
  },
  {
   "cell_type": "markdown",
   "metadata": {},
   "source": [
    "### 3.4.3 学習結果の可視化\n",
    "\n",
    "#### 問題19: 3次元空間へのプロット\n",
    "\n",
    "累積寄与率を見ると､**8割方の情報を拾うためには､第3主成分まで拾えば十分**（データの分散を抑えている）だということがわかりました｡その状態を可視化するため､第3主成分までででつくった空間にデータ点をプロットしてみましょう｡3次元のプロットについては [**3.5.4 回帰平面の可視化**](https://ai-std.com/show_ml/ml3.html#2.-%E5%9B%9E%E5%B8%B0%E5%B9%B3%E9%9D%A2%E3%81%AE%E5%8F%AF%E8%A6%96%E5%8C%96) を参考にしてください｡"
   ]
  },
  {
   "cell_type": "code",
   "execution_count": 33,
   "metadata": {
    "scrolled": true
   },
   "outputs": [
    {
     "data": {
      "image/png": "[encoded data removed]",
      "text/plain": [
       "<Figure size 576x360 with 1 Axes>"
      ]
     },
     "metadata": {
      "needs_background": "light"
     },
     "output_type": "display_data"
    },
    {
     "data": {
      "text/plain": [
       "\"\\nax.scatter3D(np.ravel(X_train_pca3[Y_train==1,0]),np.ravel(X_train_pca3[Y_train==1,1]),np.ravel(X_train_pca3[Y_train==1,2]),c='r', marker='s',label='1')\\nax.scatter3D(np.ravel(X_train_pca3[Y_train==2,0]),np.ravel(X_train_pca3[Y_train==2,1]),np.ravel(X_train_pca3[Y_train==2,2]),c='b', marker='x',label='2')\\nax.scatter3D(np.ravel(X_train_pca3[Y_train==3,0]),np.ravel(X_train_pca3[Y_train==3,1]),np.ravel(X_train_pca3[Y_train==3,2]),c='g', marker='o',label='3')\\nax.set_xlabel('pc 1')\\nax.set_ylabel('pc 2')\\nax.set_zlabel('pc 3')\\n\""
      ]
     },
     "execution_count": 33,
     "metadata": {},
     "output_type": "execute_result"
    }
   ],
   "source": [
    "# 3次元のプロットをするためのライブラリを読み込み\n",
    "from mpl_toolkits.mplot3d import Axes3D\n",
    "\n",
    "# Figureを追加\n",
    "#fig = plt.figure(figsize = (8, 5))\n",
    "ax = Axes3D(plt.figure(figsize=(8, 5)))\n",
    "\n",
    "ax.scatter(X_pca[:,0], X_pca[:,1], X_pca[:,2])\n",
    "\n",
    "# 3次元の散布図を出力\n",
    "# (x軸, y軸 , z軸 = 第一主成分、第２主成分、第３主成分）\n",
    "#ax.scatter3D(df['X_pca 0'], df['X_pca 1'], df['X_pca 2'])\n",
    "\n",
    "# 3DAxesを追加\n",
    "#ax = fig.add_subplot(111, projection='3d')\n",
    "\n",
    "# 曲線を描画\n",
    "#ax.scatter(x, y, z, s = 40, c = \"blue\")\n",
    "\n",
    "\n",
    "# 散布図をプロット\n",
    "#plt.scatter(X_pca[:, 0], X_pca[:, 1], alpha=0.8, c = \"blue\")\n",
    "\n",
    "\n",
    "# 座標軸のラベルを指定\n",
    "ax.set_xlabel('X_pca 0')\n",
    "ax.set_ylabel('X_pca 1')\n",
    "ax.set_zlabel('X_pca 2')\n",
    "\n",
    "# ここまでの内容でグラフをプロット\n",
    "plt.show()\n",
    "\n",
    "\"\"\"\n",
    "ax.scatter3D(np.ravel(X_train_pca3[Y_train==1,0]),np.ravel(X_train_pca3[Y_train==1,1]),np.ravel(X_train_pca3[Y_train==1,2]),c='r', marker='s',label='1')\n",
    "ax.scatter3D(np.ravel(X_train_pca3[Y_train==2,0]),np.ravel(X_train_pca3[Y_train==2,1]),np.ravel(X_train_pca3[Y_train==2,2]),c='b', marker='x',label='2')\n",
    "ax.scatter3D(np.ravel(X_train_pca3[Y_train==3,0]),np.ravel(X_train_pca3[Y_train==3,1]),np.ravel(X_train_pca3[Y_train==3,2]),c='g', marker='o',label='3')\n",
    "ax.set_xlabel('pc 1')\n",
    "ax.set_ylabel('pc 2')\n",
    "ax.set_zlabel('pc 3')\n",
    "\"\"\""
   ]
  },
  {
   "cell_type": "markdown",
   "metadata": {},
   "source": [
    "プロットをしてみたところ､**小さくまとまったサンプル群**と**大きくばらついたサンプル群**があることがわかりました｡**<font color='red'>こうしたサンプル群はk-means法でクラスタリングを行う上ではSSEを大きく左右してしまうため､分析が上手く行かない原因になりえます</font>**（参考: [13.6 k-means法の弱点と対策](https://ai-std.com/show_ml/ml13.html#13.6-k-means%E6%B3%95%E3%81%AE%E5%BC%B1%E7%82%B9%E3%81%A8%E5%AF%BE%E7%AD%96)）｡  \n",
    "\n",
    "<img src='https://s3.us-east-2.amazonaws.com/ai.standard/Machine+Learning/Machine+Learning/vol.13+%E3%82%AF%E3%83%A9%E3%82%B9%E3%82%BF%E3%83%AA%E3%83%B3%E3%82%B0/%E3%82%B9%E3%82%AF%E3%83%AA%E3%83%BC%E3%83%B3%E3%82%B7%E3%83%A7%E3%83%83%E3%83%88+2018-01-03+10.35.42.png' width=50%>\n",
    "\n",
    "なので､今回は**これらのサンプル群を分けて学習を行いましょう**｡小さくまとまったサンプル群はクラスタリングで分析をして､大きくばらついたサンプル群は個別に売上構成を平均と照らし合わせるなどして個別に観察を行います｡  "
   ]
  },
  {
   "cell_type": "markdown",
   "metadata": {},
   "source": [
    "#### 問題20: 平面でのプロット\n",
    "\n",
    "さて､それでは2つのサンプル群を分けるための線引をしましょう｡こちらは､第2主成分までをプロットした平面で行いたいと思います｡まずは､横軸に第1主成分を､縦軸に第2主成分を取った平面にデータ点をプロットします｡平面でのプロットは､ [**3.7 グリッド線を表示する**](https://ai-std.com/show_tutorial/pl3.html#3.7-%E3%82%B0%E3%83%AA%E3%83%83%E3%83%89%E7%B7%9A%E3%82%92%E8%A1%A8%E7%A4%BA%E3%81%99%E3%82%8B) を参考にしてください｡"
   ]
  },
  {
   "cell_type": "code",
   "execution_count": 34,
   "metadata": {
    "scrolled": false
   },
   "outputs": [
    {
     "data": {
      "image/png": "[encoded data removed]",
      "text/plain": [
       "<Figure size 432x432 with 1 Axes>"
      ]
     },
     "metadata": {
      "needs_background": "light"
     },
     "output_type": "display_data"
    }
   ],
   "source": [
    "# 平面のプロットを行う\n",
    "# 出力するグラフのサイズを指定\n",
    "plt.figure(figsize=(6,6))\n",
    "\n",
    "# 散布図をプロット\n",
    "plt.scatter(X_pca[:, 0], X_pca[:, 1], alpha=0.8, c = \"blue\")\n",
    "\n",
    "# 軸ラベルを表示\n",
    "plt.xlabel('X_pca 0')\n",
    "plt.ylabel('X_pca 1')\n",
    "\n",
    "# グリッド線を表示\n",
    "plt.grid()\n",
    "\n",
    "# 指示した内容でグラフを描画\n",
    "plt.show()\n",
    "\n",
    "#c=list(df.iloc[:, 0]), "
   ]
  },
  {
   "cell_type": "markdown",
   "metadata": {},
   "source": [
    "## 3.5 機械学習のための前処理②\n",
    "\n",
    "#### 規格わけの規準を決める\n",
    "\n",
    "今回は､上記のプロットで以下のような規格で線引きをしたいと思います｡数式は､下の図にプロットしてある範囲を表しています｡第一主成分が売上総額を表しているとすれば､大型店舗のサンプルを除外していることになります｡つまり､**<font color='red'>これから行われるクラスタリングは､中小規模の店舗のグループ分けを行うことになります</font>**｡データの観察のところで大規模店舗は一通り洗い出しておきましたので､ここで中小企業の店舗の分析を行いましょう｡\n",
    "\n",
    "- 小さくまとまったサンプル群（規格内）･･･ $X\\_pca[i,0] \\leqq 5$\n",
    "- 大きくばらついたサンプル群（規格外）･･･それ以外\n",
    "\n",
    "<img src='https://s3.us-east-2.amazonaws.com/ai.standard/Machine+Learning/Machine+Learning/vol.13+%E3%82%AF%E3%83%A9%E3%82%B9%E3%82%BF%E3%83%AA%E3%83%B3%E3%82%B0/%E3%82%B9%E3%82%AF%E3%83%AA%E3%83%BC%E3%83%B3%E3%82%B7%E3%83%A7%E3%83%83%E3%83%88+2018-01-04+14.33.42.png' width=40%>"
   ]
  },
  {
   "cell_type": "markdown",
   "metadata": {},
   "source": [
    "#### 規格分け\n",
    "\n",
    "それでは早速､規格内のサンプル群を抽出しましょう｡numpyの**where**メソッドを利用して､条件を満たすサンプルのインデックスを抽出できます｡"
   ]
  },
  {
   "cell_type": "code",
   "execution_count": 35,
   "metadata": {},
   "outputs": [],
   "source": [
    "# 規格内のサンプルのインデックスを抽出する\n",
    "id = np.where(X_pca[:,0] <= 5)\n",
    "\n",
    "# インデックスの指定で､条件を満たすサンプルのみを抽出\n",
    "X_pca_within_std = X_pca[id] "
   ]
  },
  {
   "cell_type": "code",
   "execution_count": 36,
   "metadata": {},
   "outputs": [
    {
     "name": "stdout",
     "output_type": "stream",
     "text": [
      "(427, 5)\n"
     ]
    }
   ],
   "source": [
    "# 規格内のサンプル数を確認\n",
    "print(X_pca_within_std.shape)"
   ]
  },
  {
   "cell_type": "markdown",
   "metadata": {},
   "source": [
    "規格内のサンプルは**427店舗**となりました｡全体のサンプル数は440ですので､規格外の大型店舗は**13店舗**あることになります｡"
   ]
  },
  {
   "cell_type": "code",
   "execution_count": 37,
   "metadata": {
    "scrolled": false
   },
   "outputs": [
    {
     "data": {
      "image/png": "[encoded data removed]",
      "text/plain": [
       "<Figure size 432x432 with 1 Axes>"
      ]
     },
     "metadata": {
      "needs_background": "light"
     },
     "output_type": "display_data"
    }
   ],
   "source": [
    "# 第二主成分までで平面のプロットを行う\n",
    "# 規格内のサンプルのみ\n",
    "plt.figure(figsize=(6,6))\n",
    "plt.scatter(X_pca_within_std[:,0], X_pca_within_std[:,1])\n",
    "plt.xlabel('X_pca_within_std 0')\n",
    "plt.ylabel('X_pca_within_std 1')\n",
    "plt.grid()\n",
    "plt.show()"
   ]
  },
  {
   "cell_type": "markdown",
   "metadata": {},
   "source": [
    "## 3.6 クラスタリング\n",
    "\n",
    "抽出した中小規模の店舗に関して､k-means法によるクラスタリングを行います｡"
   ]
  },
  {
   "cell_type": "markdown",
   "metadata": {},
   "source": [
    "### 3.6.1 学習の実行\n",
    "\n",
    "#### 問題21: クラスタリングの実行\n",
    "\n",
    "k-means法によるクラスタリングを第3主成分までの3次元空間で実行して､その結果を2次元の散布図上に出力してください｡"
   ]
  },
  {
   "cell_type": "markdown",
   "metadata": {},
   "source": [
    "横軸、縦軸はそれぞれ特徴量を表す。主成分はM次元の特徴量をもつとき第M主成分まで保持可能。<br/>\n",
    "第一主成分…写し取った結果失う情報量が最も少なくなる直線<br/>\n",
    "第二主成分…第1主成分が捨ててしまった情報"
   ]
  },
  {
   "cell_type": "code",
   "execution_count": 38,
   "metadata": {},
   "outputs": [],
   "source": [
    "# クラスタリングの結果を出力\n",
    "import matplotlib.pyplot as plt\n",
    "%matplotlib inline\n",
    "\n",
    "# クラスタリングの結果をプロットする関数\n",
    "# (クラスタの数, 学習器, 学習データ)\n",
    "def kmeans_plot(n_clusters, km, X):\n",
    "    # クラスタの予測値を算出\n",
    "    y_km = km.fit_predict(X)\n",
    "    \n",
    "    # クラスタごとに散布図をプロット\n",
    "    # 5クラスまでプロットできる\n",
    "    for i, color, marker in zip(range(n_clusters), 'rgbcm', '>o+xv'):\n",
    "        plt.scatter(X[y_km==i, 0],            # 横軸の値\n",
    "                    X[y_km==i, 1],            # 縦軸の値\n",
    "                    color=color,              # プロットの色\n",
    "                    marker=marker,            # プロットの形\n",
    "                    label='cluster ' + str(i) # ラベル\n",
    "                   )\n",
    "    \n",
    "    # クラスタの中心をプロット\n",
    "    plt.scatter(km.cluster_centers_[:, 0],    # 横軸の値\n",
    "                km.cluster_centers_[:, 1],    # 縦軸の値\n",
    "                color='y',                    # プロットの色\n",
    "                marker='*',                   # プロットの形\n",
    "                label='centroids',            # ラベル\n",
    "                s=300,                        # プロットのサイズを大きくして見やすくする\n",
    "               )\n",
    "    \n",
    "    plt.legend()\n",
    "    plt.grid()\n",
    "    plt.show()"
   ]
  },
  {
   "cell_type": "code",
   "execution_count": 39,
   "metadata": {},
   "outputs": [],
   "source": [
    "# k-means法を実行　init=k-means++\n",
    "# 3クラスタに分ける\n",
    "from sklearn.cluster import KMeans\n",
    "km = KMeans(n_clusters=3,  # クラスタの個数を指定\n",
    "            init='random',           # セントロイドの初期値の決め方を決定\n",
    "            n_init=10,                # 異なるセントロイドの初期値を用いての実行回数\n",
    "            max_iter=300,         # ひとつのセントロイドを用いたときの最大イテレーション回数\n",
    "            tol=1e-04,               # 収束と判定するための相対的な許容誤差\n",
    "            random_state=0,     # セントロイドの初期化に用いる乱数生成器の状態\n",
    "           )\n",
    "\n",
    "# クラスラベルを予測\n",
    "y_km = km.fit_predict(X_pca[:, 0:2])"
   ]
  },
  {
   "cell_type": "code",
   "execution_count": 40,
   "metadata": {
    "scrolled": false
   },
   "outputs": [
    {
     "data": {
      "image/png": "[encoded data removed]",
      "text/plain": [
       "<Figure size 432x288 with 1 Axes>"
      ]
     },
     "metadata": {
      "needs_background": "light"
     },
     "output_type": "display_data"
    }
   ],
   "source": [
    "#クラスタごとにサンプルの散布図とクラスタの中心をプロット\n",
    "# 第3主成分までの平面上にプロット\n",
    "kmeans_plot(3, km, X_pca[:, 0:2])"
   ]
  },
  {
   "cell_type": "markdown",
   "metadata": {},
   "source": [
    "### 3.6.2 学習結果の解釈\n",
    "\n",
    "#### 問題22: クラスタの意味付け\n",
    "\n",
    "主成分の意味付けを参考に､各クラスタにも意味付けをしていきます｡  \n",
    "ただし､意味付けは以下の結果に対して行うとします（k-means法の結果は初期値によって変わるので）｡\n",
    "\n",
    "<img src='https://s3.us-east-2.amazonaws.com/ai.standard/Machine+Learning/Machine+Learning/vol.13+%E3%82%AF%E3%83%A9%E3%82%B9%E3%82%BF%E3%83%AA%E3%83%B3%E3%82%B0/%E3%82%B9%E3%82%AF%E3%83%AA%E3%83%BC%E3%83%B3%E3%82%B7%E3%83%A7%E3%83%83%E3%83%88+2018-01-04+3.18.06.png\n",
    "' width=40%>"
   ]
  },
  {
   "cell_type": "markdown",
   "metadata": {},
   "source": [
    "第1主成分：乳製品、食料雑貨、洗剤と紙類の売上高、総額に関わっている。ファミリー世帯向けであるかどうか。（総売上高は乳製品、食料雑貨、洗剤と紙類など生活必需品の売上高と相関しているらしい。大規模な店舗であればあるほど生活必需品が売上を占めているようだ。）\n",
    "\n",
    "\n",
    "第2主成分：冷凍食品と惣菜に関わっている。単身世帯に受けがいいかどうか。\n",
    "\n",
    "\n",
    "※ 総額＝生鮮品、乳製品、食料雑貨、冷凍食品、洗剤と紙類、惣菜の合計売上高"
   ]
  },
  {
   "cell_type": "markdown",
   "metadata": {},
   "source": [
    "【解答欄】\n",
    "\n",
    "cluster 0 : 第1主成分が平均より低く、第２主成分が平均くらいのクラスタ。小規模で単身世帯向け。売店、コンビニ。\n",
    "\n",
    "\n",
    "cluster 1: 第２主成分が平均より低く、第1主成分は平均からそれ以上を網羅しているクラスタ。大規模でファミリー世帯向け。総合スーパー。\n",
    "\n",
    "\n",
    "cluster 2 : 第２主成分が平均より高く、第1主成分は平均あたりからそれ以上を網羅しているクラスタ。大規模で幅広い世帯向け。食品スーパー。\n",
    "\n"
   ]
  },
  {
   "cell_type": "code",
   "execution_count": 41,
   "metadata": {
    "scrolled": true
   },
   "outputs": [
    {
     "data": {
      "image/png": "[encoded data removed]",
      "text/plain": [
       "<Figure size 432x288 with 1 Axes>"
      ]
     },
     "metadata": {
      "needs_background": "light"
     },
     "output_type": "display_data"
    }
   ],
   "source": [
    "# HorecaホテルレストランとRetail個人の割合について確認\n",
    "\n",
    "# インデックスの取得\n",
    "index_horeca = np.where(df_onehot.Horeca==1) # Horecaが１であるサンプルのインデックスを取得\n",
    "index_retail = np.where(df_onehot.Retail==1) # Retailが１であるサンプルのインデックスを取得\n",
    "\n",
    "# 色分けして散布図をプロット\n",
    "plt.scatter(X_pca[:,0][index_horeca], X_pca[:,1][index_horeca], alpha=0.1, color='red') # Horecaのサンプルを赤でプロット\n",
    "plt.scatter(X_pca[:,0][index_retail], X_pca[:,1][index_retail], alpha=0.1, color='blue') # Retailのサンプルを青でプロット\n",
    "\n",
    "plt.show()"
   ]
  },
  {
   "cell_type": "markdown",
   "metadata": {},
   "source": [
    "上記の分析を受け、クラスタを再検討。\n",
    "\n",
    "【解答欄】\n",
    "\n",
    "cluster 0 : 第1主成分が平均より低く、第２主成分が平均くらいのクラスタ。ホテルやレストランなどに供給している。小規模な食品スーパー。\n",
    "\n",
    "\n",
    "cluster 1: 第２主成分が平均より低く、第1主成分は平均からそれ以上を網羅しているクラスタ。大規模でファミリー世帯向け。総合スーパー。\n",
    "\n",
    "\n",
    "cluster 2 : 第２主成分が平均より高く、第1主成分は平均あたりからそれ以上を網羅しているクラスタ。ホテルやレストランなどに供給している。大規模で幅広い世帯向け、食品スーパー。\n",
    "\n",
    "\n",
    "\n",
    "<img src=\"2019080822247.png\" width=40%>"
   ]
  },
  {
   "cell_type": "markdown",
   "metadata": {},
   "source": [
    "### 3.6.3 学習結果の可視化\n",
    "\n",
    "#### 参考: 3次元空間へのプロット\n",
    "\n",
    "3次元のプロットも行うことが出来ます｡みなさんも今後利用する機会があるかもしれませんので､関数を作っておきました｡"
   ]
  },
  {
   "cell_type": "code",
   "execution_count": 42,
   "metadata": {
    "scrolled": false
   },
   "outputs": [],
   "source": [
    "# (クラスタの数, 学習器, 学習データ)\n",
    "def clustering_3d(n_clusters, km, X):\n",
    "    # 3次元のプロットをするためのライブラリを読み込み\n",
    "    from mpl_toolkits.mplot3d import Axes3D\n",
    "    \n",
    "    # Axes3Dのインスタンスを生成\n",
    "    ax = Axes3D(plt.figure(figsize=(8, 5)))\n",
    "    \n",
    "    # k-means法で学習を行う\n",
    "    y_km = km.fit_predict(X)\n",
    "    \n",
    "    # クラスタごとに散布図をプロット\n",
    "    for i, color, marker in zip(range(n_clusters), 'rgbcm', '>o+xv'):\n",
    "        ax.scatter3D(X[y_km==i,0],\n",
    "                     X[y_km==i,1],\n",
    "                     X[y_km==i,2],\n",
    "                     color=color,# プロットの色\n",
    "                     marker=marker, # プロットの形\n",
    "                     label='cluster ' + str(i), # ラベル\n",
    "                    )\n",
    "\n",
    "    # クラスタの中心をプロット\n",
    "    ax.scatter3D(km.cluster_centers_[:, 0], # x方向の軸の値\n",
    "                 km.cluster_centers_[:, 1], # y方向の軸の値\n",
    "                 km.cluster_centers_[:,2],  # z方向の軸の値\n",
    "                 color='y',                 # プロットの色\n",
    "                 marker='*',                # プロットの形\n",
    "                 label='centroids',         # ラベル\n",
    "                 s=300,                     # プロットのサイズを大きくして見やすくする\n",
    "                )\n",
    "    \n",
    "    plt.legend()\n",
    "    plt.grid()"
   ]
  },
  {
   "cell_type": "code",
   "execution_count": 43,
   "metadata": {},
   "outputs": [
    {
     "data": {
      "image/png": "[encoded data removed]",
      "text/plain": [
       "<Figure size 576x360 with 1 Axes>"
      ]
     },
     "metadata": {
      "needs_background": "light"
     },
     "output_type": "display_data"
    }
   ],
   "source": [
    "# クラスタリングの結果を3次元空間にプロット\n",
    "clustering_3d(n_clusters=3, km=km, X=X_pca_within_std[:,0:3])\n",
    "plt.show()"
   ]
  },
  {
   "cell_type": "markdown",
   "metadata": {},
   "source": [
    "#### 問題23: エルボー法による最適なクラスタ数の探索\n",
    "\n",
    "続いて､エルボー法によって最適なクラスタ数の検討をつけます｡"
   ]
  },
  {
   "cell_type": "code",
   "execution_count": 44,
   "metadata": {},
   "outputs": [
    {
     "data": {
      "image/png": "[encoded data removed]",
      "text/plain": [
       "<Figure size 432x288 with 1 Axes>"
      ]
     },
     "metadata": {
      "needs_background": "light"
     },
     "output_type": "display_data"
    }
   ],
   "source": [
    "# エルボー法による､適切なkの値の探索\n",
    "\n",
    "# 各kで算出されたSSEを格納するリストを定義\n",
    "distortions = []\n",
    "\n",
    "# kを変えながらk-means法を実行\n",
    "for k  in range(1,11):              # 1~10クラスタまで繰り返し計算 \n",
    "    km = KMeans(n_clusters=k,       # クラスタの数をk個に指定\n",
    "                init='random',   # セントロイドの初期値をk-means++法で設定\n",
    "                n_init=10,          # セントロイドの初期値を変えての繰り返し回数を指定\n",
    "                max_iter=300,       # 一回の最適化の繰り返し回数を指定\n",
    "                random_state=0)     # 乱数の生成状態を指定\n",
    "    \n",
    "    km.fit(X_pca[:, 0:2])                       # クラスタリングの計算を実行\n",
    "    distortions.append(km.inertia_) # SSEをリストに格納していく\n",
    "\n",
    "# 結果を散布図に出力\n",
    "plt.plot(range(1,11), distortions,marker='o') # 1から10までのSSEを順にプロット\n",
    "plt.xticks([i for i in range(1, 11)])         # 横軸のメモリを1から10までの1刻みに設定\n",
    "plt.xlabel('Number of clusters')\n",
    "plt.ylabel('Distortion')\n",
    "plt.show()"
   ]
  },
  {
   "cell_type": "markdown",
   "metadata": {},
   "source": [
    "エルボー法の結果を見ると､クラスタの数は3つにするのが良いようです｡"
   ]
  },
  {
   "cell_type": "markdown",
   "metadata": {},
   "source": [
    "#### 問題24: シルエット図を出力してください｡"
   ]
  },
  {
   "cell_type": "code",
   "execution_count": 45,
   "metadata": {},
   "outputs": [],
   "source": [
    "from sklearn.metrics import silhouette_samples\n",
    "# 全サンプルのシルエット係数を計算\n",
    "# (X, y_km, 利用する距離の種類)\n",
    "# 'euclidiean' はユークリッド距離\n",
    "# クラスラベルを予測\n",
    "y_km = km.fit_predict(X_pca[:, 0:2])\n",
    "s = silhouette_samples(X_pca[:, 0:2], y_km, metric='euclidean')"
   ]
  },
  {
   "cell_type": "code",
   "execution_count": 46,
   "metadata": {
    "scrolled": true
   },
   "outputs": [
    {
     "data": {
      "image/png": "[encoded data removed]",
      "text/plain": [
       "<Figure size 432x288 with 1 Axes>"
      ]
     },
     "metadata": {
      "needs_background": "light"
     },
     "output_type": "display_data"
    }
   ],
   "source": [
    "# シルエット図を出力\n",
    "from matplotlib import cm\n",
    "\n",
    "# シルエット図を出力する関数を定義\n",
    "def draw_silhouettes(X, y_km):\n",
    "    cluster_labels = np.unique(y_km)                     # クラスラベルを重複なく抽出\n",
    "    n_clusters = cluster_labels.shape[0]                 # クラスタの数を算出\n",
    "\n",
    "    # シルエット係数を計算\n",
    "    # (X, y_km, 距離の種類)\n",
    "    s = silhouette_samples(X, y_km, metric='euclidean')\n",
    "\n",
    "    # 各ラベルごとにシルエット図を描画\n",
    "    y_ax_lower, y_ax_upper= 0, 0                         # シルエット図の上端と下端の初期値を設定\n",
    "    yticks = []                                          # 縦軸のメモリ位置を格納するリストを生成\n",
    "    for i, label in enumerate(cluster_labels):\n",
    "            label_s = s[y_km==label]                     # 該当するクラスタについて､シルエット係数を算出\n",
    "            label_s.sort()                               # シルエット係数を小さい順に並べ替える\n",
    "            y_ax_upper += len(label_s)                   # シルエット図の上端を､サンプルの数だけ引き上げる\n",
    "            color = cm.jet(float(i) / n_clusters)        # color mapから色を取得\n",
    "            plt.barh(range(y_ax_lower, y_ax_upper),      # 横軸の範囲を指定\n",
    "                             label_s,                    # バーの幅を指定\n",
    "                             height=1.0,                 # バーの厚みを指\n",
    "                             color=color)                # バーの色を指定\n",
    "            yticks.append((y_ax_lower + y_ax_upper) / 2) # クラスタラベルの表示位置を追加\n",
    "            y_ax_lower += len(label_s)                   # シルエット図の下端を､サンプルの数だけ引き上げる\n",
    "\n",
    "            \n",
    "    plt.axvline(np.mean(s), color=\"red\", linestyle=\"--\") # 係数の平均値に破線を引く(横軸の値, 色, 線の形式)\n",
    "    plt.yticks(yticks, cluster_labels + 1)               # クラスタレベルを表示(位置, 縦軸の値)\n",
    "    plt.ylabel('Cluster')\n",
    "    plt.xlabel('silhouette coefficient')\n",
    "    plt.show()\n",
    "\n",
    "# シルエット図を出力\n",
    "draw_silhouettes(X_pca[:, 0:2], y_km)"
   ]
  },
  {
   "cell_type": "markdown",
   "metadata": {},
   "source": [
    "シルエット図を見ると､クラスタリングはあまり上手くいっていないことがわかります｡**<font color='red'>サンプル数にばらつきがありますし</font>**､**<font color='red'>シルエット係数がマイナスのものも多くあります</font>**｡クラスタ0のサンプル数がその他のクラスタの3倍近くありますので､これらは**かなり密集して存在している**こともわかります｡良い分析結果とは言い難いですが、ひとまず今回はこちらの結果も分析レポートに使ってみてください。\n",
    "\n",
    "クラスタごとの数を正確に割り出してみましょう｡k-means法によって付与されたクラスタのラベルが､**km.labels\\_**を参照することでわかります｡その中に0､1､2が何個ずつあるかを**where**メソッドで数えれば出力できます｡ただし､このとき**whereメソッドの出力はタプルになっており､その第1成分がindexのアレイである**ことに注意してください｡"
   ]
  },
  {
   "cell_type": "code",
   "execution_count": 47,
   "metadata": {},
   "outputs": [
    {
     "data": {
      "text/plain": [
       "array([2, 2, 8, 0, 4], dtype=int32)"
      ]
     },
     "execution_count": 47,
     "metadata": {},
     "output_type": "execute_result"
    }
   ],
   "source": [
    "# k-meansによるクラスタのラベル\n",
    "km.labels_[:5]"
   ]
  },
  {
   "cell_type": "code",
   "execution_count": 48,
   "metadata": {},
   "outputs": [
    {
     "data": {
      "text/plain": [
       "(array([  3,  17,  20,  26,  32,  41,  50,  54,  68,  72,  75,  76,  83,\n",
       "         88,  91,  99, 104, 105, 110, 113, 114, 118, 119, 120, 126, 130,\n",
       "        138, 140, 143, 144, 149, 150, 152, 157, 161, 162, 177, 178, 179,\n",
       "        190, 198, 210, 217, 220, 222, 223, 229, 232, 234, 237, 241, 242,\n",
       "        243, 248, 249, 252, 255, 257, 261, 262, 269, 278, 287, 294, 296,\n",
       "        307, 310, 313, 314, 321, 322, 324, 329, 330, 332, 337, 338, 339,\n",
       "        356, 360, 368, 372, 380, 385, 387, 397, 398, 402, 404, 409, 411,\n",
       "        414, 422, 423, 432, 438]),)"
      ]
     },
     "execution_count": 48,
     "metadata": {},
     "output_type": "execute_result"
    }
   ],
   "source": [
    "# 条件指定で､クラスタ0に属するとされたサンプルのインデックスを出力する\n",
    "# タプル形式になっており､第1成分がindexのアレイ\n",
    "np.where(km.labels_==0)"
   ]
  },
  {
   "cell_type": "code",
   "execution_count": 49,
   "metadata": {},
   "outputs": [
    {
     "name": "stdout",
     "output_type": "stream",
     "text": [
      "96\n",
      "122\n",
      "69\n"
     ]
    }
   ],
   "source": [
    "print(len(np.where(km.labels_==0)[0]))\n",
    "print(len(np.where(km.labels_==1)[0]))\n",
    "print(len(np.where(km.labels_==2)[0]))"
   ]
  },
  {
   "cell_type": "markdown",
   "metadata": {},
   "source": [
    "## 3.7 分析結果のレポーティング\n",
    "\n",
    "以上の分析結果を踏まえて､この企業への提言を行ってみましょう｡機械学習の手法によって抽出された**｢知識｣**を**｢知恵｣**へと昇華させます｡機械学習の第1章で､**<font color=red>データは知恵に昇華されて初めて役に立つ</font>**ということを念を押してお伝えしました｡ここでは､そのステップの実践を行い､この課題の締めくくりとしましょう｡以下に示す雛形に従って分析レポートを書いてください｡  \n",
    "\n",
    "<img src='https://s3.us-east-2.amazonaws.com/ai.standard/Machine+Learning/Machine+Learning/%E7%AC%AC%E4%B8%80%E7%AB%A0+%E6%A9%9F%E6%A2%B0%E5%AD%A6%E7%BF%92%E3%81%A8%E3%81%AF/%E3%82%B9%E3%82%AF%E3%83%AA%E3%83%BC%E3%83%B3%E3%82%B7%E3%83%A7%E3%83%83%E3%83%88+2017-07-12+1.38.05.png' width=70%>"
   ]
  },
  {
   "cell_type": "markdown",
   "metadata": {},
   "source": [
    "#### 最終課題: 分析レポーティング\n",
    "\n",
    "以下の雛形に従って､これまでの分析結果をレポーティングしてください｡**<font color='red'>簡潔に､相手の目標から逆算して､相手の聞きたいことに応える書き方を目指しましょう</font>**｡\n",
    "\n",
    "クライアントの相談内容<br/>\n",
    "中小規模の食料品小売店を出店するに当たり、高い売上（利益）を得るために取るべき方針を知りたい。"
   ]
  },
  {
   "cell_type": "markdown",
   "metadata": {},
   "source": [
    "### 分析レポート\n",
    "\n",
    "#### 1. 提案の要約\n",
    "**レポートの要約を100文字以内で述べなさい｡**  \n",
    "4種の小売店を提案する。<br/>\n",
    "①冷凍食品と惣菜の売上に特化したコンビニ<br/>\n",
    "②生鮮食品に特化した八百屋、魚屋、肉屋など<br/>\n",
    "③個人も利用できる業務用スーパー<br/>\n",
    "④食料品以外の売上が高いドラッグストアや100円ショップ\n",
    "\n",
    "\n",
    "#### 2. 環境\n",
    "**既存店舗の売上構成から､市場がどのような環境にあるかを700文字以内で述べなさい｡**  \n",
    "既存する店舗は3つに分類することができる。ホテルやレストランなどに供給している小規模な食品スーパー、イオンなどの大規模でファミリー世帯向けである総合スーパー、そしてホテルやレストランなどに供給している大規模食品スーパーである。一方以下のような店舗は少ない。冷凍食品や惣菜に特化した店舗、生鮮食品に特化した店舗、ホテルやレストランだけでなく個人も購入でき生活必需品も冷凍食品も強い店舗、そして食料品は販売の一部であるドラッグストアや100円ショップなどである。\n",
    "\n",
    "#### 3. 機会\n",
    "**新たに店舗を出店する際､高い売上を実現するための機会となりうることについて､300文字以内で述べなさい｡**  \n",
    "4提案それぞれを示す。\n",
    "まずコンビニを出店することで、とくに単身世帯の顧客を確保できる。\n",
    "次に八百屋、魚屋、肉屋などを出店することで、高齢者とファミリー世帯の顧客※が確保できる可能性がある。\n",
    "3つ目に、日本にある神戸物産の業務スーパーを想定した店舗を提案した。国内、輸入、あらゆる分野の食料品も洗剤、紙類もおいてあり、商品の量は幅広く選択可能、かつ法人個人すべてを顧客とし、実際日本で成功している。\n",
    "最後に、ドラッグストアや100円ショップである。現在日本ではどちらも販売数、店舗数が増大しており、売上が上昇している。飲料水やレトルト食品も販売できるが、食料品以外の売上のほうが大きい。"
   ]
  },
  {
   "cell_type": "markdown",
   "metadata": {},
   "source": [
    "<img src=\"2019080822247.png\" width=40%>\n",
    "（図１）既存の小売店の特徴と分類\n",
    "\n",
    "- 第1主成分：乳製品、食料雑貨、洗剤と紙類の売上高、総額に関わっている。ファミリー世帯向けであるかどうか。（総売上高は乳製品、食料雑貨、洗剤と紙類など生活必需品の売上高と相関しているらしい。大規模な店舗であればあるほど生活必需品が売上を占めているようだ。）\n",
    "\n",
    "\n",
    "- 第2主成分：冷凍食品と惣菜に関わっている。単身世帯に受けがいいかどうか。\n",
    "\n",
    "\n",
    "-  cluster 0 : 第1主成分が平均より低く、第２主成分が平均くらいのクラスタ。ホテルやレストランなどに供給している。小規模な食品スーパー。\n",
    "\n",
    "\n",
    "-  cluster 1: 第２主成分が平均より低く、第1主成分は平均からそれ以上を網羅しているクラスタ。個人に供給している。大規模でファミリー世帯向け。総合スーパー（例：イオン）。\n",
    "\n",
    "\n",
    "- cluster 2 : 第２主成分が平均より高く、第1主成分は平均あたりからそれ以上を網羅しているクラスタ。ホテルやレストランなどに供給している。大規模食品スーパー（例：業務用スーパー）。\n",
    "\n",
    "\n"
   ]
  },
  {
   "cell_type": "markdown",
   "metadata": {},
   "source": [
    "（表１）既存の小売店と可能性のある小売店\n",
    "\n",
    "<img src=\"08081044.png\">\n",
    "\n"
   ]
  },
  {
   "cell_type": "markdown",
   "metadata": {},
   "source": [
    "※高齢者は以下の3点の理由から常連客となると考えられる。まず彼らにとって昔懐かしい形態であり親しみを感じること、2点目に彼らは単身であることも多いので会話することを楽しみに来店すると考えられること、そして3点目にますます高齢化が進むことが予測されるからである。ファミリー世帯は以下の3点の理由から顧客となると考えられる。まずスーパーに慣れている彼らにとってむしろ新しい形態であること、2点目に彼らは店員と会話することを楽しみに来店すると考えられること、そして3点目に次の世代も潜在的な顧客となるからである。一方、大型スーパーの影響でこの形態の店舗は廃れてきたという経緯があるため、ユニークな取り組みをしないと、生き残りは難しいとも考えられる。"
   ]
  },
  {
   "cell_type": "code",
   "execution_count": null,
   "metadata": {},
   "outputs": [],
   "source": []
  }
 ],
 "metadata": {
  "anaconda-cloud": {},
  "kernelspec": {
   "display_name": "Python 3",
   "language": "python",
   "name": "python3"
  },
  "language_info": {
   "codemirror_mode": {
    "name": "ipython",
    "version": 3
   },
   "file_extension": ".py",
   "mimetype": "text/x-python",
   "name": "python",
   "nbconvert_exporter": "python",
   "pygments_lexer": "ipython3",
   "version": "3.7.3"
  }
 },
 "nbformat": 4,
 "nbformat_minor": 2
}
