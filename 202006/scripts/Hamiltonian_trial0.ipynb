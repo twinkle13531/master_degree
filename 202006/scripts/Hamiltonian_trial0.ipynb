{
 "cells": [
  {
   "cell_type": "markdown",
   "metadata": {},
   "source": [
    "# 不等式のQUBO変換を用いて基底エネルギー以下のサンプルを得る\n",
    "（結果）　サンプルが選ばれすぎている。<br/>\n",
    "（コメント）　MCMCが選ばれなさすぎただけかもしれない、エラーがあるか確認せよ"
   ]
  },
  {
   "cell_type": "markdown",
   "metadata": {},
   "source": [
    "一方で，不等式だと，直接表せないので，例えば，$\\sum_i a_i x_i  >=1$は，複数の等式，$\\sum_i a_i x_i  = 1$, $\\sum_i a_i x_i  = 2$, $\\sum_i a_i x_i  = 3,…$で表すことにして，その等式分だけ$(\\sum_i a_i x_i -1)^2$, $(\\sum_i a_i x_i -2)^2$, $(\\sum_i a_i x_i -3)^2$と制約項を加えるということになります．ただ，この中の等式のどれかだけ成立すればいいので，このうちどの等式が満たされるかを表すadditional bitが必要になるというカラクリです．\n",
    "これでわかりますかね…\n"
   ]
  },
  {
   "cell_type": "markdown",
   "metadata": {},
   "source": [
    "充足可能性問題（じゅうそくかのうせいもんだい、satisfiability problem, SAT）は、一つの命題論理式が与えられたとき、それに含まれる変数の値を偽 (False) あるいは真 (True) にうまく定めることによって全体の値を'真'にできるか、という問題\n",
    "- [The Boolean Satisfiability Problem : Advanced Math](https://www.youtube.com/watch?v=sBTTRwpJWi0)\n",
    "- [pip install python-sat](https://pysathq.github.io/)\n",
    "- [数独を一瞬で解く by SATソルバー](https://qiita.com/okmt1230z/items/63f49e021c94077c343e#fn2)"
   ]
  },
  {
   "cell_type": "code",
   "execution_count": 140,
   "metadata": {},
   "outputs": [],
   "source": [
    "#!pip install sklearn"
   ]
  },
  {
   "cell_type": "code",
   "execution_count": 141,
   "metadata": {},
   "outputs": [],
   "source": [
    "#import\n",
    "import pandas as pd\n",
    "import numpy as np\n",
    "#from sklearn.feature_selection import SelectKBest, chi2\n",
    "from sklearn.feature_selection import SelectKBest, f_regression\n",
    "#from sklearn.feature_selection import SelectPercentile,chi2\n",
    "import random"
   ]
  },
  {
   "cell_type": "code",
   "execution_count": 142,
   "metadata": {
    "scrolled": true
   },
   "outputs": [
    {
     "name": "stdout",
     "output_type": "stream",
     "text": [
      "X.shape is (781, 16799)\n"
     ]
    },
    {
     "data": {
      "text/html": [
       "<div>\n",
       "<style scoped>\n",
       "    .dataframe tbody tr th:only-of-type {\n",
       "        vertical-align: middle;\n",
       "    }\n",
       "\n",
       "    .dataframe tbody tr th {\n",
       "        vertical-align: top;\n",
       "    }\n",
       "\n",
       "    .dataframe thead th {\n",
       "        text-align: right;\n",
       "    }\n",
       "</style>\n",
       "<table border=\"1\" class=\"dataframe\">\n",
       "  <thead>\n",
       "    <tr style=\"text-align: right;\">\n",
       "      <th></th>\n",
       "      <th>ARHGEF10L</th>\n",
       "      <th>HIF3A</th>\n",
       "      <th>RNF17</th>\n",
       "      <th>RNF11</th>\n",
       "      <th>REM1</th>\n",
       "      <th>RTN4RL2</th>\n",
       "      <th>C16orf13</th>\n",
       "      <th>C16orf11</th>\n",
       "      <th>FGFR1OP2</th>\n",
       "      <th>TSKS</th>\n",
       "      <th>...</th>\n",
       "      <th>TULP2</th>\n",
       "      <th>NPY5R</th>\n",
       "      <th>GNGT2</th>\n",
       "      <th>GNGT1</th>\n",
       "      <th>TULP3</th>\n",
       "      <th>PTRF</th>\n",
       "      <th>BCL6B</th>\n",
       "      <th>GSTK1</th>\n",
       "      <th>SELP</th>\n",
       "      <th>SELS</th>\n",
       "    </tr>\n",
       "  </thead>\n",
       "  <tbody>\n",
       "    <tr>\n",
       "      <th>TCGA-A8-A092-01</th>\n",
       "      <td>-0.92667</td>\n",
       "      <td>-4.836158</td>\n",
       "      <td>-0.545559</td>\n",
       "      <td>-0.425362</td>\n",
       "      <td>-2.511796</td>\n",
       "      <td>1.420118</td>\n",
       "      <td>-0.076931</td>\n",
       "      <td>-0.583953</td>\n",
       "      <td>-0.064954</td>\n",
       "      <td>-1.262546</td>\n",
       "      <td>...</td>\n",
       "      <td>-0.727478</td>\n",
       "      <td>-1.319172</td>\n",
       "      <td>-0.534283</td>\n",
       "      <td>-0.871063</td>\n",
       "      <td>0.137041</td>\n",
       "      <td>-0.494064</td>\n",
       "      <td>-0.396097</td>\n",
       "      <td>-1.178462</td>\n",
       "      <td>-1.748619</td>\n",
       "      <td>-0.659749</td>\n",
       "    </tr>\n",
       "    <tr>\n",
       "      <th>TCGA-D8-A1JK-01</th>\n",
       "      <td>-0.83967</td>\n",
       "      <td>-3.260158</td>\n",
       "      <td>0.420041</td>\n",
       "      <td>0.718538</td>\n",
       "      <td>-0.322796</td>\n",
       "      <td>-1.267982</td>\n",
       "      <td>0.252869</td>\n",
       "      <td>-0.583953</td>\n",
       "      <td>-0.031154</td>\n",
       "      <td>-1.634746</td>\n",
       "      <td>...</td>\n",
       "      <td>-0.165278</td>\n",
       "      <td>-1.691372</td>\n",
       "      <td>0.783017</td>\n",
       "      <td>0.037337</td>\n",
       "      <td>-0.051459</td>\n",
       "      <td>0.730136</td>\n",
       "      <td>1.388803</td>\n",
       "      <td>1.339138</td>\n",
       "      <td>-1.924519</td>\n",
       "      <td>0.075451</td>\n",
       "    </tr>\n",
       "    <tr>\n",
       "      <th>TCGA-E2-A10C-01</th>\n",
       "      <td>-0.11937</td>\n",
       "      <td>-4.646958</td>\n",
       "      <td>-0.545559</td>\n",
       "      <td>-0.453962</td>\n",
       "      <td>-1.073796</td>\n",
       "      <td>-1.506382</td>\n",
       "      <td>1.084969</td>\n",
       "      <td>1.680847</td>\n",
       "      <td>0.010146</td>\n",
       "      <td>0.890654</td>\n",
       "      <td>...</td>\n",
       "      <td>-0.166078</td>\n",
       "      <td>-1.129972</td>\n",
       "      <td>-0.350883</td>\n",
       "      <td>-0.681864</td>\n",
       "      <td>-0.206159</td>\n",
       "      <td>-0.406364</td>\n",
       "      <td>0.354103</td>\n",
       "      <td>-0.003162</td>\n",
       "      <td>-0.903719</td>\n",
       "      <td>-0.195349</td>\n",
       "    </tr>\n",
       "    <tr>\n",
       "      <th>TCGA-BH-A0C7-01</th>\n",
       "      <td>0.28803</td>\n",
       "      <td>-1.599358</td>\n",
       "      <td>-0.545559</td>\n",
       "      <td>-0.211162</td>\n",
       "      <td>-2.041396</td>\n",
       "      <td>-0.156182</td>\n",
       "      <td>-0.861231</td>\n",
       "      <td>-0.583953</td>\n",
       "      <td>-0.249454</td>\n",
       "      <td>-1.029746</td>\n",
       "      <td>...</td>\n",
       "      <td>-0.122478</td>\n",
       "      <td>-0.488172</td>\n",
       "      <td>-0.616583</td>\n",
       "      <td>-1.243263</td>\n",
       "      <td>0.330741</td>\n",
       "      <td>-0.188764</td>\n",
       "      <td>0.420403</td>\n",
       "      <td>-0.456262</td>\n",
       "      <td>0.914881</td>\n",
       "      <td>-0.427849</td>\n",
       "    </tr>\n",
       "    <tr>\n",
       "      <th>TCGA-A8-A06N-01</th>\n",
       "      <td>0.61053</td>\n",
       "      <td>-4.268858</td>\n",
       "      <td>-0.545559</td>\n",
       "      <td>0.764638</td>\n",
       "      <td>-2.182996</td>\n",
       "      <td>-1.431682</td>\n",
       "      <td>-0.876131</td>\n",
       "      <td>-0.583953</td>\n",
       "      <td>0.560146</td>\n",
       "      <td>-1.634746</td>\n",
       "      <td>...</td>\n",
       "      <td>-0.429378</td>\n",
       "      <td>2.566228</td>\n",
       "      <td>-1.073483</td>\n",
       "      <td>-1.243263</td>\n",
       "      <td>0.133141</td>\n",
       "      <td>-2.727864</td>\n",
       "      <td>-0.306397</td>\n",
       "      <td>-0.882762</td>\n",
       "      <td>-3.308419</td>\n",
       "      <td>-0.224949</td>\n",
       "    </tr>\n",
       "  </tbody>\n",
       "</table>\n",
       "<p>5 rows × 16799 columns</p>\n",
       "</div>"
      ],
      "text/plain": [
       "                 ARHGEF10L     HIF3A     RNF17     RNF11      REM1   RTN4RL2  \\\n",
       "TCGA-A8-A092-01   -0.92667 -4.836158 -0.545559 -0.425362 -2.511796  1.420118   \n",
       "TCGA-D8-A1JK-01   -0.83967 -3.260158  0.420041  0.718538 -0.322796 -1.267982   \n",
       "TCGA-E2-A10C-01   -0.11937 -4.646958 -0.545559 -0.453962 -1.073796 -1.506382   \n",
       "TCGA-BH-A0C7-01    0.28803 -1.599358 -0.545559 -0.211162 -2.041396 -0.156182   \n",
       "TCGA-A8-A06N-01    0.61053 -4.268858 -0.545559  0.764638 -2.182996 -1.431682   \n",
       "\n",
       "                 C16orf13  C16orf11  FGFR1OP2      TSKS  ...     TULP2  \\\n",
       "TCGA-A8-A092-01 -0.076931 -0.583953 -0.064954 -1.262546  ... -0.727478   \n",
       "TCGA-D8-A1JK-01  0.252869 -0.583953 -0.031154 -1.634746  ... -0.165278   \n",
       "TCGA-E2-A10C-01  1.084969  1.680847  0.010146  0.890654  ... -0.166078   \n",
       "TCGA-BH-A0C7-01 -0.861231 -0.583953 -0.249454 -1.029746  ... -0.122478   \n",
       "TCGA-A8-A06N-01 -0.876131 -0.583953  0.560146 -1.634746  ... -0.429378   \n",
       "\n",
       "                    NPY5R     GNGT2     GNGT1     TULP3      PTRF     BCL6B  \\\n",
       "TCGA-A8-A092-01 -1.319172 -0.534283 -0.871063  0.137041 -0.494064 -0.396097   \n",
       "TCGA-D8-A1JK-01 -1.691372  0.783017  0.037337 -0.051459  0.730136  1.388803   \n",
       "TCGA-E2-A10C-01 -1.129972 -0.350883 -0.681864 -0.206159 -0.406364  0.354103   \n",
       "TCGA-BH-A0C7-01 -0.488172 -0.616583 -1.243263  0.330741 -0.188764  0.420403   \n",
       "TCGA-A8-A06N-01  2.566228 -1.073483 -1.243263  0.133141 -2.727864 -0.306397   \n",
       "\n",
       "                    GSTK1      SELP      SELS  \n",
       "TCGA-A8-A092-01 -1.178462 -1.748619 -0.659749  \n",
       "TCGA-D8-A1JK-01  1.339138 -1.924519  0.075451  \n",
       "TCGA-E2-A10C-01 -0.003162 -0.903719 -0.195349  \n",
       "TCGA-BH-A0C7-01 -0.456262  0.914881 -0.427849  \n",
       "TCGA-A8-A06N-01 -0.882762 -3.308419 -0.224949  \n",
       "\n",
       "[5 rows x 16799 columns]"
      ]
     },
     "execution_count": 142,
     "metadata": {},
     "output_type": "execute_result"
    }
   ],
   "source": [
    "#X : 患者ID（index）, 遺伝子名(columns), 標準化された遺伝子発現（要素）\n",
    "\n",
    "#元のデータから、標準偏差が 低い(患者間で違いがあまりない)遺伝子は除外されている\n",
    "X = pd.read_csv('../input/geneX_df.txt',sep ='\\t')# 説明変数\n",
    "print(\"X.shape is {}\".format(X.shape))\n",
    "\n",
    "X.head()"
   ]
  },
  {
   "cell_type": "code",
   "execution_count": 143,
   "metadata": {},
   "outputs": [
    {
     "data": {
      "text/plain": [
       "numpy.float64"
      ]
     },
     "execution_count": 143,
     "metadata": {},
     "output_type": "execute_result"
    }
   ],
   "source": [
    "type(X.iloc[2, 4]) #numpy.float64"
   ]
  },
  {
   "cell_type": "code",
   "execution_count": 144,
   "metadata": {},
   "outputs": [],
   "source": [
    "num_samples = X.shape[0]\n",
    "num_cols = X.shape[1]\n",
    "\n",
    "selected_col_num = 3"
   ]
  },
  {
   "cell_type": "code",
   "execution_count": 145,
   "metadata": {},
   "outputs": [],
   "source": [
    "#Xの要素の最大値、最小値\n",
    "max_X_element = X.max(axis=1).max() #20.4446452623\n",
    "min_X_element = X.min(axis=1).min()  #-9.741414"
   ]
  },
  {
   "cell_type": "code",
   "execution_count": 146,
   "metadata": {},
   "outputs": [],
   "source": [
    "X = X.astype(float)"
   ]
  },
  {
   "cell_type": "code",
   "execution_count": 147,
   "metadata": {
    "scrolled": true
   },
   "outputs": [
    {
     "name": "stdout",
     "output_type": "stream",
     "text": [
      "type of y is <class 'pandas.core.frame.DataFrame'>\n"
     ]
    },
    {
     "data": {
      "text/html": [
       "<div>\n",
       "<style scoped>\n",
       "    .dataframe tbody tr th:only-of-type {\n",
       "        vertical-align: middle;\n",
       "    }\n",
       "\n",
       "    .dataframe tbody tr th {\n",
       "        vertical-align: top;\n",
       "    }\n",
       "\n",
       "    .dataframe thead th {\n",
       "        text-align: right;\n",
       "    }\n",
       "</style>\n",
       "<table border=\"1\" class=\"dataframe\">\n",
       "  <thead>\n",
       "    <tr style=\"text-align: right;\">\n",
       "      <th></th>\n",
       "      <th>ER_Status_nature2012</th>\n",
       "    </tr>\n",
       "  </thead>\n",
       "  <tbody>\n",
       "    <tr>\n",
       "      <th>TCGA-A8-A092-01</th>\n",
       "      <td>Positive</td>\n",
       "    </tr>\n",
       "    <tr>\n",
       "      <th>TCGA-D8-A1JK-01</th>\n",
       "      <td>Negative</td>\n",
       "    </tr>\n",
       "    <tr>\n",
       "      <th>TCGA-E2-A10C-01</th>\n",
       "      <td>Positive</td>\n",
       "    </tr>\n",
       "    <tr>\n",
       "      <th>TCGA-BH-A0C7-01</th>\n",
       "      <td>Positive</td>\n",
       "    </tr>\n",
       "    <tr>\n",
       "      <th>TCGA-A8-A06N-01</th>\n",
       "      <td>Positive</td>\n",
       "    </tr>\n",
       "  </tbody>\n",
       "</table>\n",
       "</div>"
      ],
      "text/plain": [
       "                ER_Status_nature2012\n",
       "TCGA-A8-A092-01             Positive\n",
       "TCGA-D8-A1JK-01             Negative\n",
       "TCGA-E2-A10C-01             Positive\n",
       "TCGA-BH-A0C7-01             Positive\n",
       "TCGA-A8-A06N-01             Positive"
      ]
     },
     "execution_count": 147,
     "metadata": {},
     "output_type": "execute_result"
    }
   ],
   "source": [
    "y_df = pd.read_csv('../input/ERY_df.txt' ,sep ='\\t')# 目的変数\n",
    "print('type of y is {}'.format(type(y_df)))\n",
    "y_df.head()"
   ]
  },
  {
   "cell_type": "code",
   "execution_count": 148,
   "metadata": {},
   "outputs": [],
   "source": [
    "for yy in range(y_df.shape[0]):\n",
    "    if  y_df.iloc[yy, 0] == 'Positive':\n",
    "         y_df.iloc[yy, 0] = 1\n",
    "    else:\n",
    "        y_df.iloc[yy, 0] = 0"
   ]
  },
  {
   "cell_type": "code",
   "execution_count": 149,
   "metadata": {
    "scrolled": true
   },
   "outputs": [
    {
     "data": {
      "text/plain": [
       "TCGA-A8-A092-01    1\n",
       "TCGA-D8-A1JK-01    0\n",
       "TCGA-E2-A10C-01    1\n",
       "TCGA-BH-A0C7-01    1\n",
       "TCGA-A8-A06N-01    1\n",
       "Name: ER_Status_nature2012, dtype: int64"
      ]
     },
     "execution_count": 149,
     "metadata": {},
     "output_type": "execute_result"
    }
   ],
   "source": [
    "y = y_df['ER_Status_nature2012'] #to Series\n",
    "y.head()"
   ]
  },
  {
   "cell_type": "markdown",
   "metadata": {},
   "source": [
    "## 特徴量選択\n",
    " - select_cols, else_colsを決める"
   ]
  },
  {
   "cell_type": "markdown",
   "metadata": {},
   "source": [
    "### 問題発生\n",
    "- SelectKBest ...`ValueError: Input X must be non-negative.`<br/>\n",
    "SelectKBestを選んだ理由➡上位〇〇個を出してくれるから\n",
    "reason: Pearson's chi square test (goodness of fit) does not apply to negative values. It's logical because the chi square test assumes frequencies distribution and a frequency can't be a negative number.\n",
    "[Feature selection using scikit-learn](https://stackoverrun.com/ja/q/7074850)\n",
    "\n",
    "- SelectPercentile ...`ValueError: Input X must be non-negative.`<br/>"
   ]
  },
  {
   "cell_type": "code",
   "execution_count": 150,
   "metadata": {},
   "outputs": [],
   "source": [
    "#selector = SelectKBest(score_func=chi2, k=selected_col_num) #S\n",
    "selector = SelectKBest(score_func=f_regression, k=selected_col_num) \n",
    "#selector = SelectPercentile(score_func=chi2, percentile=40) \n",
    "selector.fit(X, y)\n",
    "mask = selector.get_support() "
   ]
  },
  {
   "cell_type": "code",
   "execution_count": 151,
   "metadata": {
    "scrolled": true
   },
   "outputs": [
    {
     "data": {
      "text/plain": [
       "['CA12', 'AGR3', 'ESR1']"
      ]
     },
     "execution_count": 151,
     "metadata": {},
     "output_type": "execute_result"
    }
   ],
   "source": [
    "select_cols = []\n",
    "else_cols = []\n",
    "for ii in range(len(mask)):\n",
    "    if mask[ii] == 0:\n",
    "        else_cols.append(X.columns[ii])\n",
    "    else:\n",
    "         select_cols.append(X.columns[ii])\n",
    "\n",
    "select_cols"
   ]
  },
  {
   "cell_type": "markdown",
   "metadata": {},
   "source": [
    "## すべての不等式が成り立つ：条件\n",
    "\n",
    "- 不等式付き問題（Problems with Inequalities）\n",
    "- [整数重みナップザック問題](https://quantum.fixstars.com/techresouces/research/ising-model-formulation/knapsack/)\n",
    "- [イジングモデルでナップサック問題を解く工夫を考えてみた](https://qiita.com/YuichiroMinato/items/4ee83e3150bf693f3bb2)"
   ]
  },
  {
   "cell_type": "code",
   "execution_count": 152,
   "metadata": {},
   "outputs": [],
   "source": [
    "# W : ay - byの最大値\n",
    "\n",
    "#xの要素で最大値とxの要素の最小値を知れば推定はできる\n",
    "W = int((max_X_element *1*num_samples - min_X_element*1*num_samples)//1)"
   ]
  },
  {
   "cell_type": "code",
   "execution_count": 153,
   "metadata": {},
   "outputs": [],
   "source": [
    "def make_y(y_before):\n",
    "    select_index = random.randrange(num_samples)\n",
    "    y_before[select_index] = 1 - y_before[select_index] \n",
    "    y_after = y_before\n",
    "    return y_after"
   ]
  },
  {
   "cell_type": "code",
   "execution_count": 154,
   "metadata": {},
   "outputs": [],
   "source": [
    "def make_ax_by(y_after):\n",
    "    ax_by = []\n",
    "    for i in range(selected_col_num):\n",
    "        for j in range(num_cols - selected_col_num):\n",
    "            ax_by.append(np.dot(X[select_cols[i]], y_after) - np.dot(X[else_cols[j]], y_after) +1)\n",
    "    return ax_by "
   ]
  },
  {
   "cell_type": "code",
   "execution_count": 155,
   "metadata": {},
   "outputs": [],
   "source": [
    "def H(ax_by, index_ax_by):\n",
    "    z = [0]*W\n",
    "        \n",
    "    each_ax_by = ax_by[index_ax_by]\n",
    "    int_each_axby = each_ax_by //1\n",
    "    sum_w_z = 0\n",
    "    \n",
    "    if int_each_axby >= 1:\n",
    "        z[int(int_each_axby)] = 1\n",
    "        sum_w_z = sum([int_each_axby*z[w] for w in range(W)])\n",
    "    else:\n",
    "        z[0] = 1\n",
    "        sum_w_z = sum([1*z[w] for w in range(W)])\n",
    "        \n",
    "    sum_z = sum(z)\n",
    "\n",
    "    ans_h =  (1-sum_z)**2 + (sum_w_z -  int(int_each_axby))**2\n",
    "    return ans_h"
   ]
  },
  {
   "cell_type": "code",
   "execution_count": 108,
   "metadata": {
    "scrolled": false
   },
   "outputs": [
    {
     "name": "stdout",
     "output_type": "stream",
     "text": [
      "705\n",
      "904402.0\n",
      "1201\n",
      "112226.0\n",
      "1203\n",
      "15626.0\n",
      "1840\n",
      "1117250.0\n",
      "1982\n",
      "3276101.0\n",
      "2041\n",
      "547601.0\n",
      "2312\n",
      "795665.0\n",
      "2852\n",
      "283025.0\n",
      "2969\n",
      "30626.0\n",
      "3005\n",
      "32401.0\n",
      "3177\n",
      "106277.0\n",
      "3394\n",
      "50177.0\n",
      "3474\n",
      "525626.0\n",
      "3521\n",
      "1155626.0\n",
      "3768\n",
      "44522.0\n",
      "3832\n",
      "1392401.0\n",
      "3988\n",
      "314722.0\n",
      "4438\n",
      "785.0\n",
      "4586\n",
      "44522.0\n",
      "4765\n",
      "1648657.0\n",
      "4850\n",
      "1739762.0\n",
      "4976\n",
      "4363922.0\n",
      "4979\n",
      "498437.0\n",
      "5521\n",
      "157610.0\n",
      "5859\n",
      "165650.0\n",
      "5906\n",
      "44945.0\n",
      "6505\n",
      "26897.0\n",
      "6579\n",
      "60517.0\n",
      "6580\n",
      "541697.0\n",
      "6639\n",
      "239122.0\n",
      "7000\n",
      "889250.0\n",
      "7016\n",
      "431650.0\n",
      "7189\n",
      "3721042.0\n",
      "7255\n",
      "900602.0\n",
      "7401\n",
      "105626.0\n",
      "7438\n",
      "7570.0\n",
      "7647\n",
      "11026.0\n",
      "7812\n",
      "42437.0\n",
      "7948\n",
      "962.0\n",
      "8262\n",
      "44945.0\n",
      "8276\n",
      "158405.0\n",
      "8337\n",
      "1024145.0\n",
      "8952\n",
      "216226.0\n",
      "9769\n",
      "528530.0\n",
      "9806\n",
      "235226.0\n",
      "9830\n",
      "213445.0\n",
      "10105\n",
      "203402.0\n",
      "10196\n",
      "162410.0\n",
      "10207\n",
      "168101.0\n",
      "10240\n",
      "66565.0\n",
      "10316\n",
      "1181570.0\n",
      "10654\n",
      "112226.0\n",
      "10721\n",
      "37637.0\n",
      "10787\n",
      "1322501.0\n",
      "10896\n",
      "197.0\n",
      "11017\n",
      "594442.0\n",
      "11020\n",
      "96101.0\n",
      "11045\n",
      "1203410.0\n",
      "11262\n",
      "9678322.0\n",
      "11340\n",
      "474722.0\n",
      "11475\n",
      "6562.0\n",
      "11599\n",
      "2893402.0\n",
      "11808\n",
      "328330.0\n",
      "11835\n",
      "422501.0\n",
      "12162\n",
      "2805626.0\n",
      "12547\n",
      "1060901.0\n",
      "12628\n",
      "908210.0\n",
      "12636\n",
      "143642.0\n",
      "12977\n",
      "1951610.0\n",
      "13007\n",
      "14401.0\n",
      "13581\n",
      "217157.0\n",
      "13625\n",
      "828101.0\n",
      "13671\n",
      "799237.0\n",
      "13762\n",
      "2852722.0\n",
      "13816\n",
      "223730.0\n",
      "14034\n",
      "591362.0\n",
      "14763\n",
      "2.0\n",
      "14918\n",
      "3636650.0\n",
      "15106\n",
      "1157.0\n",
      "15558\n",
      "20450.0\n",
      "15732\n",
      "10202.0\n",
      "15821\n",
      "17.0\n",
      "15861\n",
      "1048577.0\n",
      "16320\n",
      "861185.0\n",
      "16516\n",
      "99857.0\n",
      "16773\n",
      "672401.0\n",
      "21772\n",
      "31685.0\n",
      "23985\n",
      "325.0\n",
      "28058\n",
      "1440001.0\n",
      "35574\n",
      "19882.0\n",
      "38568\n",
      "176401.0\n",
      "40781\n",
      "67601.0\n",
      "44854\n",
      "2079365.0\n",
      "45191\n",
      "1025.0\n",
      "45754\n",
      "37.0\n",
      "47354\n",
      "401.0\n",
      "48510\n",
      "56645.0\n"
     ]
    }
   ],
   "source": [
    "tt = 0\n",
    "ax_by = make_ax_by(y)\n",
    "for index_ax_by in range(len(ax_by)):\n",
    "    ans_h = H(ax_by,  index_ax_by)\n",
    "    if ans_h != 0:\n",
    "        print(tt)\n",
    "        print(ans_h)\n",
    "    tt += 1"
   ]
  },
  {
   "cell_type": "code",
   "execution_count": 126,
   "metadata": {},
   "outputs": [
    {
     "data": {
      "text/plain": [
       "-950.4025273829006"
      ]
     },
     "execution_count": 126,
     "metadata": {},
     "output_type": "execute_result"
    }
   ],
   "source": [
    "each_ax_by = ax_by[705]\n",
    "each_ax_by "
   ]
  },
  {
   "cell_type": "code",
   "execution_count": 127,
   "metadata": {},
   "outputs": [],
   "source": [
    "def check_ax_by(y_after, num):\n",
    "    ax_by = []\n",
    "    for i in range(selected_col_num):\n",
    "        for j in range(num_cols - selected_col_num):\n",
    "            ax_by.append(np.dot(X[select_cols[i]], y_after) - np.dot(X[else_cols[j]], y_after) +1)\n",
    "            if len(ax_by) == num:\n",
    "                print(i, j )"
   ]
  },
  {
   "cell_type": "code",
   "execution_count": 128,
   "metadata": {
    "scrolled": false
   },
   "outputs": [
    {
     "name": "stdout",
     "output_type": "stream",
     "text": [
      "0 705\n"
     ]
    }
   ],
   "source": [
    "check_ax_by(y, 706)"
   ]
  },
  {
   "cell_type": "code",
   "execution_count": 129,
   "metadata": {
    "scrolled": true
   },
   "outputs": [
    {
     "data": {
      "text/plain": [
       "-951.4025273829006"
      ]
     },
     "execution_count": 129,
     "metadata": {},
     "output_type": "execute_result"
    }
   ],
   "source": [
    "np.dot(X[select_cols[0]], y) - np.dot(X[else_cols[705]], y)  #なぜ負になるのかを考える"
   ]
  },
  {
   "cell_type": "code",
   "execution_count": 156,
   "metadata": {},
   "outputs": [],
   "source": [
    "def H_sum(ax_by):\n",
    "        H_sum =  sum([H(ax_by, index_ax_by) for index_ax_by in range(len(ax_by))])\n",
    "        return H_sum"
   ]
  },
  {
   "cell_type": "code",
   "execution_count": 157,
   "metadata": {},
   "outputs": [
    {
     "data": {
      "text/plain": [
       "70464156.0"
      ]
     },
     "execution_count": 157,
     "metadata": {},
     "output_type": "execute_result"
    }
   ],
   "source": [
    "#know ori_H_sum\n",
    "ax_by = make_ax_by(y)\n",
    "ori_H_sum = H_sum(ax_by)\n",
    "ori_H_sum #70464156.0"
   ]
  },
  {
   "cell_type": "code",
   "execution_count": 158,
   "metadata": {},
   "outputs": [
    {
     "name": "stdout",
     "output_type": "stream",
     "text": [
      "TCGA-A8-A092-01    1\n",
      "TCGA-D8-A1JK-01    0\n",
      "TCGA-E2-A10C-01    1\n",
      "TCGA-BH-A0C7-01    1\n",
      "TCGA-A8-A06N-01    1\n",
      "TCGA-D8-A1XU-01    1\n",
      "TCGA-AR-A0TV-01    1\n",
      "TCGA-D8-A1XV-01    1\n",
      "TCGA-AN-A03Y-01    1\n",
      "TCGA-AN-A04D-01    0\n",
      "TCGA-A8-A08I-01    1\n",
      "TCGA-BH-A0B3-01    0\n",
      "TCGA-C8-A1HE-01    1\n",
      "TCGA-A2-A0CW-01    1\n",
      "TCGA-EW-A1OZ-01    1\n",
      "TCGA-A1-A0SQ-01    1\n",
      "TCGA-C8-A1HM-01    1\n",
      "TCGA-BH-A1EO-01    1\n",
      "TCGA-BH-A0B9-01    0\n",
      "TCGA-D8-A1XG-01    1\n",
      "TCGA-E2-A1BC-01    1\n",
      "TCGA-A8-A08Z-01    1\n",
      "TCGA-EW-A1P0-01    1\n",
      "TCGA-A8-A06O-01    1\n",
      "TCGA-D8-A1JG-01    0\n",
      "TCGA-B6-A0IA-01    1\n",
      "TCGA-AR-A1AY-01    0\n",
      "TCGA-D8-A1XA-01    1\n",
      "TCGA-E2-A15G-01    1\n",
      "TCGA-GM-A2DH-01    0\n",
      "                  ..\n",
      "TCGA-A2-A0YK-01    1\n",
      "TCGA-AR-A251-01    1\n",
      "TCGA-A1-A0SG-01    1\n",
      "TCGA-A8-A094-01    1\n",
      "TCGA-BH-A0B7-01    1\n",
      "TCGA-E2-A1LA-01    1\n",
      "TCGA-A1-A0SM-01    1\n",
      "TCGA-C8-A12Z-01    0\n",
      "TCGA-AO-A0JD-01    1\n",
      "TCGA-BH-A0BS-01    1\n",
      "TCGA-E9-A22H-01    1\n",
      "TCGA-A8-A0A1-01    1\n",
      "TCGA-BH-A18I-01    1\n",
      "TCGA-E2-A1IJ-01    1\n",
      "TCGA-D8-A1X6-01    1\n",
      "TCGA-B6-A0RU-01    0\n",
      "TCGA-BH-A0DO-01    1\n",
      "TCGA-EW-A1P6-01    1\n",
      "TCGA-BH-A0AY-01    1\n",
      "TCGA-BH-A0C1-01    1\n",
      "TCGA-C8-A135-01    0\n",
      "TCGA-E9-A1NI-01    1\n",
      "TCGA-A8-A09Q-01    1\n",
      "TCGA-BH-A0C0-01    1\n",
      "TCGA-A8-A08X-01    0\n",
      "TCGA-EW-A1OX-01    1\n",
      "TCGA-BH-A0BJ-01    1\n",
      "TCGA-EW-A1IY-01    1\n",
      "TCGA-D8-A142-01    0\n",
      "TCGA-BH-A1FC-01    0\n",
      "Name: ER_Status_nature2012, Length: 781, dtype: int64\n"
     ]
    }
   ],
   "source": [
    "#find ans_y which H is as low as ori_y\n",
    "\n",
    "y_after =  make_y(y)\n",
    "ax_by = make_ax_by(y_after)\n",
    "each_H_sum = H_sum(ax_by)\n",
    "\n",
    "if each_H_sum <= ori_H_sum:\n",
    "    print(y_after) \n",
    "    print(each_H_sum) #70330698.0"
   ]
  },
  {
   "cell_type": "code",
   "execution_count": null,
   "metadata": {},
   "outputs": [
    {
     "name": "stdout",
     "output_type": "stream",
     "text": [
      "1\n",
      "70134819.0\n",
      "TCGA-A8-A092-01    1\n",
      "TCGA-D8-A1JK-01    0\n",
      "TCGA-E2-A10C-01    1\n",
      "TCGA-BH-A0C7-01    1\n",
      "TCGA-A8-A06N-01    1\n",
      "TCGA-D8-A1XU-01    1\n",
      "TCGA-AR-A0TV-01    1\n",
      "TCGA-D8-A1XV-01    1\n",
      "TCGA-AN-A03Y-01    1\n",
      "TCGA-AN-A04D-01    0\n",
      "TCGA-A8-A08I-01    1\n",
      "TCGA-BH-A0B3-01    0\n",
      "TCGA-C8-A1HE-01    1\n",
      "TCGA-A2-A0CW-01    1\n",
      "TCGA-EW-A1OZ-01    1\n",
      "TCGA-A1-A0SQ-01    1\n",
      "TCGA-C8-A1HM-01    1\n",
      "TCGA-BH-A1EO-01    1\n",
      "TCGA-BH-A0B9-01    0\n",
      "TCGA-D8-A1XG-01    1\n",
      "TCGA-E2-A1BC-01    1\n",
      "TCGA-A8-A08Z-01    1\n",
      "TCGA-EW-A1P0-01    1\n",
      "TCGA-A8-A06O-01    1\n",
      "TCGA-D8-A1JG-01    0\n",
      "TCGA-B6-A0IA-01    1\n",
      "TCGA-AR-A1AY-01    0\n",
      "TCGA-D8-A1XA-01    1\n",
      "TCGA-E2-A15G-01    1\n",
      "TCGA-GM-A2DH-01    0\n",
      "                  ..\n",
      "TCGA-A2-A0YK-01    1\n",
      "TCGA-AR-A251-01    1\n",
      "TCGA-A1-A0SG-01    1\n",
      "TCGA-A8-A094-01    1\n",
      "TCGA-BH-A0B7-01    1\n",
      "TCGA-E2-A1LA-01    1\n",
      "TCGA-A1-A0SM-01    1\n",
      "TCGA-C8-A12Z-01    0\n",
      "TCGA-AO-A0JD-01    1\n",
      "TCGA-BH-A0BS-01    1\n",
      "TCGA-E9-A22H-01    1\n",
      "TCGA-A8-A0A1-01    1\n",
      "TCGA-BH-A18I-01    1\n",
      "TCGA-E2-A1IJ-01    1\n",
      "TCGA-D8-A1X6-01    1\n",
      "TCGA-B6-A0RU-01    0\n",
      "TCGA-BH-A0DO-01    1\n",
      "TCGA-EW-A1P6-01    1\n",
      "TCGA-BH-A0AY-01    1\n",
      "TCGA-BH-A0C1-01    1\n",
      "TCGA-C8-A135-01    0\n",
      "TCGA-E9-A1NI-01    1\n",
      "TCGA-A8-A09Q-01    1\n",
      "TCGA-BH-A0C0-01    1\n",
      "TCGA-A8-A08X-01    0\n",
      "TCGA-EW-A1OX-01    1\n",
      "TCGA-BH-A0BJ-01    1\n",
      "TCGA-EW-A1IY-01    1\n",
      "TCGA-D8-A142-01    0\n",
      "TCGA-BH-A1FC-01    0\n",
      "Name: ER_Status_nature2012, Length: 781, dtype: int64\n"
     ]
    }
   ],
   "source": [
    "#少なめloop\n",
    "iii = 0\n",
    "for ii in range(100):\n",
    "    y_after =  make_y(y_after)\n",
    "    ax_by = make_ax_by(y_after)\n",
    "    a_H_sum = H_sum(ax_by)\n",
    "    if a_H_sum <= ori_H_sum:\n",
    "        iii += 1\n",
    "        print(iii)\n",
    "        print(a_H_sum)\n",
    "        print(y_after)"
   ]
  },
  {
   "cell_type": "code",
   "execution_count": null,
   "metadata": {},
   "outputs": [],
   "source": [
    "#中程度loop\n",
    "for ii in range(1000):\n",
    "    y_after =  make_y(y_after)\n",
    "    ax_by = make_ax_by(y_after)\n",
    "    a_H_sum = H_sum(ax_by)\n",
    "\n",
    "    if a_H_sum <= ori_H_sum:\n",
    "        print(y_after) "
   ]
  },
  {
   "cell_type": "code",
   "execution_count": null,
   "metadata": {},
   "outputs": [],
   "source": [
    "#多いloop\n",
    "for ii in range(2**num_samples):\n",
    "    y_after =  make_y(y_after)\n",
    "    ax_by = make_ax_by(y_after)\n",
    "    a_H_sum = H_sum(ax_by)\n",
    "\n",
    "    if a_H_sum <= ori_H_sum:\n",
    "        print(y_after) "
   ]
  },
  {
   "cell_type": "code",
   "execution_count": null,
   "metadata": {},
   "outputs": [],
   "source": []
  },
  {
   "cell_type": "markdown",
   "metadata": {},
   "source": [
    "## py-sat"
   ]
  },
  {
   "cell_type": "code",
   "execution_count": null,
   "metadata": {},
   "outputs": [],
   "source": [
    "from pysat.formula import CNF\n",
    "from pysat.examples.lbx import LBX"
   ]
  },
  {
   "cell_type": "code",
   "execution_count": null,
   "metadata": {},
   "outputs": [],
   "source": [
    "formula = CNF(from_file='input.cnf')\n",
    "mcsls = LBX(formula)\n",
    "for mcs in mcsls.enumerate():\n",
    "    print(mcs)"
   ]
  },
  {
   "cell_type": "markdown",
   "metadata": {},
   "source": [
    "# d-wave \n",
    "-[What is Quantum Annealing?](https://docs.dwavesys.com/docs/latest/c_gs_2.html)\n",
    "\n",
    "## neal usage\n",
    "- [dwave-neal](https://docs.ocean.dwavesys.com/projects/neal/en/latest/)"
   ]
  },
  {
   "cell_type": "code",
   "execution_count": null,
   "metadata": {
    "scrolled": true
   },
   "outputs": [],
   "source": [
    "#!pip install dwave-neal"
   ]
  },
  {
   "cell_type": "code",
   "execution_count": 139,
   "metadata": {},
   "outputs": [
    {
     "data": {
      "text/plain": [
       "SampleSet(rec.array([([1, 1], -3., 1)],\n",
       "          dtype=[('sample', 'i1', (2,)), ('energy', '<f8'), ('num_occurrences', '<i8')]), [0, 1], {'beta_range': [0.34657359027997264, 4.605170185988092], 'beta_schedule_type': 'geometric'}, 'SPIN')"
      ]
     },
     "execution_count": 139,
     "metadata": {},
     "output_type": "execute_result"
    }
   ],
   "source": [
    "import neal\n",
    "\n",
    "sampler = neal.SimulatedAnnealingSampler()\n",
    "\n",
    "h = {0: -1, 1: -1}\n",
    "J = {(0, 1): -1}\n",
    "response = sampler.sample_ising(h, J)\n",
    "response"
   ]
  },
  {
   "cell_type": "markdown",
   "metadata": {},
   "source": [
    "- [dwave-neal→Simulated Annealing Sampler](https://dwave-neal-docs.readthedocs.io/en/latest/reference/sampler.html)"
   ]
  },
  {
   "cell_type": "code",
   "execution_count": null,
   "metadata": {
    "scrolled": true
   },
   "outputs": [],
   "source": [
    "#classSimulatedAnnealingSampler\n",
    "\n",
    "sampler = neal.SimulatedAnnealingSampler()\n",
    "\n",
    "h = {'a': 0.0, 'b': 0.0, 'c': 0.0}\n",
    "J = {('a', 'b'): 1.0, ('b', 'c'): 1.0, ('a', 'c'): 1.0}\n",
    "\n",
    "response = sampler.sample_ising(h, J)\n",
    "\n",
    "for sample in response:  # doctest: +SKIP\n",
    "    print(sample)"
   ]
  },
  {
   "cell_type": "markdown",
   "metadata": {},
   "source": [
    "## dimod usage\n",
    "- [dimod](https://docs.ocean.dwavesys.com/projects/dimod/en/latest/)\n",
    "- [Ising, QUBO, and BQMs](https://docs.ocean.dwavesys.com/projects/dimod/en/latest/reference/bqm/binary_quadratic_model.html)"
   ]
  },
  {
   "cell_type": "markdown",
   "metadata": {},
   "source": [
    "$$ H(x\\in \\{0,1\\}^3) = x_1 + x_2 + 2x_1 * x_2 - x_2 * x_3$$\n",
    "\n",
    "\n",
    "- 北井さんのコードは適用できない"
   ]
  },
  {
   "cell_type": "code",
   "execution_count": null,
   "metadata": {},
   "outputs": [],
   "source": [
    "#!pip freeze #dimod==0.9.3"
   ]
  },
  {
   "cell_type": "code",
   "execution_count": null,
   "metadata": {},
   "outputs": [],
   "source": [
    "import dimod"
   ]
  },
  {
   "cell_type": "code",
   "execution_count": null,
   "metadata": {
    "scrolled": true
   },
   "outputs": [],
   "source": [
    "#lin = [1, 1, 0]\n",
    "#quad = {(0, 1):2, (1, 2):-1}\n",
    "#bqm = dimod.BinaryQuadraticModel(lin, quad)"
   ]
  },
  {
   "cell_type": "code",
   "execution_count": null,
   "metadata": {},
   "outputs": [],
   "source": [
    "#bqm.to_ising()"
   ]
  },
  {
   "cell_type": "code",
   "execution_count": null,
   "metadata": {},
   "outputs": [],
   "source": [
    "#bqm = dimod.BinaryQuadraticModel({'a': 0.0, 'b': -1.0, 'c': 0.5},　{('a', 'b'): -1.0, ('b', 'c'): 1.5},　1.4,　dimod.SPIN)\n",
    "#bqm.to_qubo()"
   ]
  },
  {
   "cell_type": "markdown",
   "metadata": {},
   "source": [
    "## dimod.BinaryQuadraticModel"
   ]
  },
  {
   "cell_type": "code",
   "execution_count": null,
   "metadata": {},
   "outputs": [],
   "source": [
    "bqm = dimod.BinaryQuadraticModel({0: -1, 1: -1}, {(0, 1): 2}, 0.0, dimod.BINARY)\n",
    "bqm_ising = bqm.change_vartype(dimod.SPIN, inplace=False)\n",
    "bqm_ising "
   ]
  },
  {
   "cell_type": "code",
   "execution_count": null,
   "metadata": {},
   "outputs": [],
   "source": [
    "h = {0: 0.0, 1: 0.0}\n",
    "J = {(0, 1): -1.0}\n",
    "bqm = dimod.BinaryQuadraticModel.from_ising(h, J)\n",
    "response = dimod.ExactSolver().sample(bqm)\n",
    "for sample, energy in response.data(['sample', 'energy']): \n",
    "    print(sample, energy)"
   ]
  },
  {
   "cell_type": "code",
   "execution_count": null,
   "metadata": {},
   "outputs": [],
   "source": [
    "h = {'a': -0.5, 'b': 1.0}\n",
    "J = {('a', 'b'): -1.5}\n",
    "sampleset = dimod.ExactSolver().sample_ising(h, J)\n",
    "print(sampleset)"
   ]
  },
  {
   "cell_type": "code",
   "execution_count": null,
   "metadata": {
    "scrolled": true
   },
   "outputs": [],
   "source": [
    "Q = {('a', 'b'): 2.0, ('a', 'a'): 1.0, ('b', 'b'): -0.5}\n",
    "sampleset = dimod.ExactSolver().sample_qubo(Q)\n",
    "sampleset"
   ]
  },
  {
   "cell_type": "code",
   "execution_count": null,
   "metadata": {
    "scrolled": true
   },
   "outputs": [],
   "source": [
    "bqm = dimod.BinaryQuadraticModel({'a': 1.5}, {('a', 'b'): -1}, 0.0, 'SPIN')\n",
    "sampleset = dimod.ExactSolver().sample(bqm)\n",
    "sampleset"
   ]
  },
  {
   "cell_type": "code",
   "execution_count": null,
   "metadata": {},
   "outputs": [],
   "source": [
    "bqm = dimod.BinaryQuadraticModel.from_qubo({('a', 'b'): 1})\n",
    "sampler = dimod.NullSampler()\n",
    "sampleset = sampler.sample(bqm)\n",
    "len(sampleset)"
   ]
  },
  {
   "cell_type": "code",
   "execution_count": null,
   "metadata": {},
   "outputs": [],
   "source": [
    "bqm = dimod.BinaryQuadraticModel.from_qubo({('a', 'b'): 1})\n",
    "sampler = dimod.NullSampler(parameters=['a'])\n",
    "sampleset = sampler.sample(bqm, a=5)\n",
    "sampleset "
   ]
  },
  {
   "cell_type": "code",
   "execution_count": null,
   "metadata": {},
   "outputs": [],
   "source": [
    "h = {'a': -0.5, 'b': 1.0}\n",
    "J = {('a', 'b'): -1.5}\n",
    "sampleset = dimod.SimulatedAnnealingSampler().sample_ising(h, J)\n",
    "sampleset"
   ]
  },
  {
   "cell_type": "code",
   "execution_count": null,
   "metadata": {},
   "outputs": [],
   "source": []
  }
 ],
 "metadata": {
  "kernelspec": {
   "display_name": "Python 3",
   "language": "python",
   "name": "python3"
  },
  "language_info": {
   "codemirror_mode": {
    "name": "ipython",
    "version": 3
   },
   "file_extension": ".py",
   "mimetype": "text/x-python",
   "name": "python",
   "nbconvert_exporter": "python",
   "pygments_lexer": "ipython3",
   "version": "3.7.6"
  }
 },
 "nbformat": 4,
 "nbformat_minor": 4
}
