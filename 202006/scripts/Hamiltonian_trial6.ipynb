{
 "cells": [
  {
   "cell_type": "markdown",
   "metadata": {},
   "source": [
    "# 不等式のQUBO変換を用いて基底エネルギー以下のサンプルを得る\n",
    "- small data\n",
    "- dwave-neal\n",
    "- 基底エネルギーは0であるべき\n",
    "\n",
    "\n",
    "### 量子アニーリングって\n",
    "SAの量子版\n",
    "\n",
    "\n"
   ]
  },
  {
   "cell_type": "markdown",
   "metadata": {},
   "source": [
    "### import"
   ]
  },
  {
   "cell_type": "code",
   "execution_count": 44,
   "metadata": {},
   "outputs": [],
   "source": [
    "import pandas as pd\n",
    "import numpy as np\n",
    "from sklearn.feature_selection import SelectKBest, f_regression\n",
    "import random\n",
    "from pyqubo import Array, OneHotEncInteger, solve_qubo\n",
    "import scipy.stats"
   ]
  },
  {
   "cell_type": "markdown",
   "metadata": {},
   "source": [
    "### 各変数"
   ]
  },
  {
   "cell_type": "code",
   "execution_count": 45,
   "metadata": {},
   "outputs": [],
   "source": [
    "# X\n",
    "#matrix = np.random.randn(5,5)\n",
    "#X_ori= pd.DataFrame(matrix, columns=list('ABCDE'))\n",
    "#X_ori\n",
    "\n",
    "# CSV ファイル (df1.csv) として出力\n",
    "#X_ori.to_csv(\"../input/df1.csv\")"
   ]
  },
  {
   "cell_type": "code",
   "execution_count": 47,
   "metadata": {},
   "outputs": [
    {
     "data": {
      "text/html": [
       "<div>\n",
       "<style scoped>\n",
       "    .dataframe tbody tr th:only-of-type {\n",
       "        vertical-align: middle;\n",
       "    }\n",
       "\n",
       "    .dataframe tbody tr th {\n",
       "        vertical-align: top;\n",
       "    }\n",
       "\n",
       "    .dataframe thead th {\n",
       "        text-align: right;\n",
       "    }\n",
       "</style>\n",
       "<table border=\"1\" class=\"dataframe\">\n",
       "  <thead>\n",
       "    <tr style=\"text-align: right;\">\n",
       "      <th></th>\n",
       "      <th>A</th>\n",
       "      <th>B</th>\n",
       "      <th>C</th>\n",
       "      <th>D</th>\n",
       "      <th>E</th>\n",
       "    </tr>\n",
       "  </thead>\n",
       "  <tbody>\n",
       "    <tr>\n",
       "      <th>0</th>\n",
       "      <td>-1.297303</td>\n",
       "      <td>-0.049925</td>\n",
       "      <td>0.185726</td>\n",
       "      <td>-0.580797</td>\n",
       "      <td>0.926729</td>\n",
       "    </tr>\n",
       "    <tr>\n",
       "      <th>1</th>\n",
       "      <td>1.129216</td>\n",
       "      <td>0.263337</td>\n",
       "      <td>-2.072408</td>\n",
       "      <td>0.269691</td>\n",
       "      <td>-0.565672</td>\n",
       "    </tr>\n",
       "    <tr>\n",
       "      <th>2</th>\n",
       "      <td>-1.140225</td>\n",
       "      <td>0.447902</td>\n",
       "      <td>-0.641875</td>\n",
       "      <td>-0.032109</td>\n",
       "      <td>0.415254</td>\n",
       "    </tr>\n",
       "    <tr>\n",
       "      <th>3</th>\n",
       "      <td>-1.004241</td>\n",
       "      <td>0.700738</td>\n",
       "      <td>-1.250194</td>\n",
       "      <td>-1.827180</td>\n",
       "      <td>1.972915</td>\n",
       "    </tr>\n",
       "    <tr>\n",
       "      <th>4</th>\n",
       "      <td>1.119464</td>\n",
       "      <td>0.248735</td>\n",
       "      <td>1.328148</td>\n",
       "      <td>0.295280</td>\n",
       "      <td>1.007603</td>\n",
       "    </tr>\n",
       "  </tbody>\n",
       "</table>\n",
       "</div>"
      ],
      "text/plain": [
       "          A         B         C         D         E\n",
       "0 -1.297303 -0.049925  0.185726 -0.580797  0.926729\n",
       "1  1.129216  0.263337 -2.072408  0.269691 -0.565672\n",
       "2 -1.140225  0.447902 -0.641875 -0.032109  0.415254\n",
       "3 -1.004241  0.700738 -1.250194 -1.827180  1.972915\n",
       "4  1.119464  0.248735  1.328148  0.295280  1.007603"
      ]
     },
     "execution_count": 47,
     "metadata": {},
     "output_type": "execute_result"
    }
   ],
   "source": [
    "X_ori = pd.read_csv(\"../input/df1.csv\", sep=',', index_col=0)\n",
    "X_ori"
   ]
  },
  {
   "cell_type": "code",
   "execution_count": 48,
   "metadata": {
    "scrolled": false
   },
   "outputs": [
    {
     "data": {
      "text/plain": [
       "0    1\n",
       "1    0\n",
       "2    1\n",
       "3    1\n",
       "4    0\n",
       "dtype: int64"
      ]
     },
     "execution_count": 48,
     "metadata": {},
     "output_type": "execute_result"
    }
   ],
   "source": [
    "# y\n",
    "ori_y = pd.Series([1, 0, 1, 1, 0])\n",
    "ori_y"
   ]
  },
  {
   "cell_type": "code",
   "execution_count": 49,
   "metadata": {},
   "outputs": [],
   "source": [
    "selected_col_num = 2"
   ]
  },
  {
   "cell_type": "markdown",
   "metadata": {},
   "source": [
    "## 特徴量選択\n",
    " - select_cols, else_colsを決める"
   ]
  },
  {
   "cell_type": "code",
   "execution_count": 50,
   "metadata": {},
   "outputs": [],
   "source": [
    "selector = SelectKBest(score_func=f_regression, k=selected_col_num) \n",
    "selector.fit(X_ori, ori_y)\n",
    "mask = selector.get_support() "
   ]
  },
  {
   "cell_type": "code",
   "execution_count": 51,
   "metadata": {
    "scrolled": true
   },
   "outputs": [
    {
     "data": {
      "text/plain": [
       "['A', 'D']"
      ]
     },
     "execution_count": 51,
     "metadata": {},
     "output_type": "execute_result"
    }
   ],
   "source": [
    "select_cols = []\n",
    "else_cols = []\n",
    "for ii in range(len(mask)):\n",
    "    if mask[ii] == 0:\n",
    "        else_cols.append(X_ori.columns[ii])\n",
    "    else:\n",
    "         select_cols.append(X_ori.columns[ii])\n",
    "\n",
    "select_cols"
   ]
  },
  {
   "cell_type": "markdown",
   "metadata": {},
   "source": [
    "## すべての不等式が成り立つ：条件\n",
    "したいこと→ハミルトニアンを最小化させる（xを最適化）"
   ]
  },
  {
   "cell_type": "code",
   "execution_count": 52,
   "metadata": {},
   "outputs": [],
   "source": [
    "from decimal import *"
   ]
  },
  {
   "cell_type": "code",
   "execution_count": 54,
   "metadata": {},
   "outputs": [
    {
     "data": {
      "text/html": [
       "<div>\n",
       "<style scoped>\n",
       "    .dataframe tbody tr th:only-of-type {\n",
       "        vertical-align: middle;\n",
       "    }\n",
       "\n",
       "    .dataframe tbody tr th {\n",
       "        vertical-align: top;\n",
       "    }\n",
       "\n",
       "    .dataframe thead th {\n",
       "        text-align: right;\n",
       "    }\n",
       "</style>\n",
       "<table border=\"1\" class=\"dataframe\">\n",
       "  <thead>\n",
       "    <tr style=\"text-align: right;\">\n",
       "      <th></th>\n",
       "      <th>A</th>\n",
       "      <th>B</th>\n",
       "      <th>C</th>\n",
       "      <th>D</th>\n",
       "      <th>E</th>\n",
       "    </tr>\n",
       "  </thead>\n",
       "  <tbody>\n",
       "    <tr>\n",
       "      <th>0</th>\n",
       "      <td>-0.948036</td>\n",
       "      <td>-1.502995</td>\n",
       "      <td>0.576689</td>\n",
       "      <td>-0.259926</td>\n",
       "      <td>0.211537</td>\n",
       "    </tr>\n",
       "    <tr>\n",
       "      <th>1</th>\n",
       "      <td>1.224875</td>\n",
       "      <td>-0.237599</td>\n",
       "      <td>-1.350141</td>\n",
       "      <td>0.814379</td>\n",
       "      <td>-1.588719</td>\n",
       "    </tr>\n",
       "    <tr>\n",
       "      <th>2</th>\n",
       "      <td>-0.807376</td>\n",
       "      <td>0.507934</td>\n",
       "      <td>-0.129490</td>\n",
       "      <td>0.433156</td>\n",
       "      <td>-0.405446</td>\n",
       "    </tr>\n",
       "    <tr>\n",
       "      <th>3</th>\n",
       "      <td>-0.685604</td>\n",
       "      <td>1.529245</td>\n",
       "      <td>-0.648559</td>\n",
       "      <td>-1.834311</td>\n",
       "      <td>1.473533</td>\n",
       "    </tr>\n",
       "    <tr>\n",
       "      <th>4</th>\n",
       "      <td>1.216142</td>\n",
       "      <td>-0.296585</td>\n",
       "      <td>1.551500</td>\n",
       "      <td>0.846703</td>\n",
       "      <td>0.309095</td>\n",
       "    </tr>\n",
       "  </tbody>\n",
       "</table>\n",
       "</div>"
      ],
      "text/plain": [
       "          A         B         C         D         E\n",
       "0 -0.948036 -1.502995  0.576689 -0.259926  0.211537\n",
       "1  1.224875 -0.237599 -1.350141  0.814379 -1.588719\n",
       "2 -0.807376  0.507934 -0.129490  0.433156 -0.405446\n",
       "3 -0.685604  1.529245 -0.648559 -1.834311  1.473533\n",
       "4  1.216142 -0.296585  1.551500  0.846703  0.309095"
      ]
     },
     "execution_count": 54,
     "metadata": {},
     "output_type": "execute_result"
    }
   ],
   "source": [
    "#Xの要素を標準化(Standardization : 平均0分散1)\n",
    "X_standardization = pd.DataFrame(scipy.stats.zscore(X_ori), columns=X_ori.columns)\n",
    "X_standardization"
   ]
  },
  {
   "cell_type": "code",
   "execution_count": 56,
   "metadata": {},
   "outputs": [],
   "source": [
    "max_X_element = X.max(axis=1).max() \n",
    "min_X_element = X.min(axis=1).min() \n",
    "\n",
    "num_samples = X.shape[0]\n",
    "num_cols = X.shape[1]"
   ]
  },
  {
   "cell_type": "code",
   "execution_count": 57,
   "metadata": {},
   "outputs": [],
   "source": [
    "# W : ay - byの最大値\n",
    "\n",
    "#xの要素で最大値とxの要素の最小値を知れば推定はできる\n",
    "W = int((max_X_element *1*num_samples - min_X_element*1*num_samples)//1)"
   ]
  },
  {
   "cell_type": "code",
   "execution_count": 58,
   "metadata": {},
   "outputs": [],
   "source": [
    "def make_y(y_before):\n",
    "    select_index = random.randrange(num_samples)\n",
    "    y_before[select_index] = 1 - y_before[select_index] \n",
    "    y_after = y_before\n",
    "    return y_after"
   ]
  },
  {
   "cell_type": "code",
   "execution_count": 59,
   "metadata": {},
   "outputs": [],
   "source": [
    "def make_ax_by(y_after):\n",
    "    ax_by = []\n",
    "    for i in range(selected_col_num):\n",
    "        for j in range(num_cols - selected_col_num):\n",
    "            ax_by.append(np.dot(X[select_cols[i]], y_after) - np.dot(X[else_cols[j]], y_after) +1)\n",
    "    return ax_by "
   ]
  },
  {
   "cell_type": "code",
   "execution_count": 60,
   "metadata": {},
   "outputs": [],
   "source": [
    "def H(ax_by, index_ax_by):\n",
    "    z = [0]*W\n",
    "        \n",
    "    each_ax_by = ax_by[index_ax_by]\n",
    "    int_each_axby = each_ax_by //1\n",
    "    sum_w_z = 0\n",
    "    \n",
    "    if int_each_axby >= 1:\n",
    "        z[int(int_each_axby)] = 1\n",
    "        sum_w_z = sum([int_each_axby*z[w] for w in range(W)])\n",
    "    else:\n",
    "        z[0] = 1\n",
    "        sum_w_z = sum([1*z[w] for w in range(W)])\n",
    "        \n",
    "    sum_z = sum(z)\n",
    "\n",
    "    ans_h =  (1-sum_z)**2 + (sum_w_z -  int(int_each_axby))**2\n",
    "    return ans_h"
   ]
  },
  {
   "cell_type": "code",
   "execution_count": 61,
   "metadata": {},
   "outputs": [],
   "source": [
    "def H_sum(ax_by):\n",
    "        H_sum =  sum([H(ax_by, index_ax_by) for index_ax_by in range(len(ax_by))])\n",
    "        return H_sum"
   ]
  },
  {
   "cell_type": "code",
   "execution_count": 62,
   "metadata": {},
   "outputs": [
    {
     "ename": "ValueError",
     "evalue": "shapes (3,) and (5,) not aligned: 3 (dim 0) != 5 (dim 0)",
     "output_type": "error",
     "traceback": [
      "\u001b[0;31m---------------------------------------------------------------------------\u001b[0m",
      "\u001b[0;31mValueError\u001b[0m                                Traceback (most recent call last)",
      "\u001b[0;32m<ipython-input-62-062b236f22e8>\u001b[0m in \u001b[0;36m<module>\u001b[0;34m\u001b[0m\n\u001b[0;32m----> 1\u001b[0;31m \u001b[0max_by\u001b[0m \u001b[0;34m=\u001b[0m \u001b[0mmake_ax_by\u001b[0m\u001b[0;34m(\u001b[0m\u001b[0mori_y\u001b[0m\u001b[0;34m)\u001b[0m\u001b[0;34m\u001b[0m\u001b[0;34m\u001b[0m\u001b[0m\n\u001b[0m\u001b[1;32m      2\u001b[0m \u001b[0mori_H_sum\u001b[0m \u001b[0;34m=\u001b[0m \u001b[0mH_sum\u001b[0m\u001b[0;34m(\u001b[0m\u001b[0max_by\u001b[0m\u001b[0;34m)\u001b[0m\u001b[0;34m\u001b[0m\u001b[0;34m\u001b[0m\u001b[0m\n\u001b[1;32m      3\u001b[0m \u001b[0mori_H_sum\u001b[0m\u001b[0;34m\u001b[0m\u001b[0;34m\u001b[0m\u001b[0m\n",
      "\u001b[0;32m<ipython-input-59-100e186e7906>\u001b[0m in \u001b[0;36mmake_ax_by\u001b[0;34m(y_after)\u001b[0m\n\u001b[1;32m      3\u001b[0m     \u001b[0;32mfor\u001b[0m \u001b[0mi\u001b[0m \u001b[0;32min\u001b[0m \u001b[0mrange\u001b[0m\u001b[0;34m(\u001b[0m\u001b[0mselected_col_num\u001b[0m\u001b[0;34m)\u001b[0m\u001b[0;34m:\u001b[0m\u001b[0;34m\u001b[0m\u001b[0;34m\u001b[0m\u001b[0m\n\u001b[1;32m      4\u001b[0m         \u001b[0;32mfor\u001b[0m \u001b[0mj\u001b[0m \u001b[0;32min\u001b[0m \u001b[0mrange\u001b[0m\u001b[0;34m(\u001b[0m\u001b[0mnum_cols\u001b[0m \u001b[0;34m-\u001b[0m \u001b[0mselected_col_num\u001b[0m\u001b[0;34m)\u001b[0m\u001b[0;34m:\u001b[0m\u001b[0;34m\u001b[0m\u001b[0;34m\u001b[0m\u001b[0m\n\u001b[0;32m----> 5\u001b[0;31m             \u001b[0max_by\u001b[0m\u001b[0;34m.\u001b[0m\u001b[0mappend\u001b[0m\u001b[0;34m(\u001b[0m\u001b[0mnp\u001b[0m\u001b[0;34m.\u001b[0m\u001b[0mdot\u001b[0m\u001b[0;34m(\u001b[0m\u001b[0mX\u001b[0m\u001b[0;34m[\u001b[0m\u001b[0mselect_cols\u001b[0m\u001b[0;34m[\u001b[0m\u001b[0mi\u001b[0m\u001b[0;34m]\u001b[0m\u001b[0;34m]\u001b[0m\u001b[0;34m,\u001b[0m \u001b[0my_after\u001b[0m\u001b[0;34m)\u001b[0m \u001b[0;34m-\u001b[0m \u001b[0mnp\u001b[0m\u001b[0;34m.\u001b[0m\u001b[0mdot\u001b[0m\u001b[0;34m(\u001b[0m\u001b[0mX\u001b[0m\u001b[0;34m[\u001b[0m\u001b[0melse_cols\u001b[0m\u001b[0;34m[\u001b[0m\u001b[0mj\u001b[0m\u001b[0;34m]\u001b[0m\u001b[0;34m]\u001b[0m\u001b[0;34m,\u001b[0m \u001b[0my_after\u001b[0m\u001b[0;34m)\u001b[0m \u001b[0;34m+\u001b[0m\u001b[0;36m1\u001b[0m\u001b[0;34m)\u001b[0m\u001b[0;34m\u001b[0m\u001b[0;34m\u001b[0m\u001b[0m\n\u001b[0m\u001b[1;32m      6\u001b[0m     \u001b[0;32mreturn\u001b[0m \u001b[0max_by\u001b[0m\u001b[0;34m\u001b[0m\u001b[0;34m\u001b[0m\u001b[0m\n",
      "\u001b[0;32m<__array_function__ internals>\u001b[0m in \u001b[0;36mdot\u001b[0;34m(*args, **kwargs)\u001b[0m\n",
      "\u001b[0;31mValueError\u001b[0m: shapes (3,) and (5,) not aligned: 3 (dim 0) != 5 (dim 0)"
     ]
    }
   ],
   "source": [
    "ax_by = make_ax_by(ori_y)\n",
    "ori_H_sum = H_sum(ax_by)\n",
    "ori_H_sum"
   ]
  },
  {
   "cell_type": "code",
   "execution_count": null,
   "metadata": {},
   "outputs": [],
   "source": []
  },
  {
   "cell_type": "markdown",
   "metadata": {},
   "source": [
    "## neal.sampler.SimulatedAnnealingSampler.sample_qubo\n",
    "\n",
    "**SimulatedAnnealingSampler.sample_qubo(Q, **parameters)**\n",
    "\n",
    "Sample from a QUBO using the implemented sample method.\n",
    "\n",
    "This method is inherited from the Sampler base class.\n",
    "\n",
    "Converts the QUBO into a BinaryQuadraticModel and then calls sample().\n",
    "\n",
    "Parameters:\t\n",
    "- Q (dict) – Coefficients of a quadratic unconstrained binary optimization (QUBO) problem. Should be a dict of the form {(u, v): bias, …} where u, v, are binary-valued variables and bias is their associated coefficient.\n",
    "- **kwargs – See the implemented sampling for additional keyword definitions.\n",
    "\n",
    "Returns:\t\n",
    "- SampleSet"
   ]
  },
  {
   "cell_type": "code",
   "execution_count": null,
   "metadata": {},
   "outputs": [],
   "source": []
  },
  {
   "cell_type": "code",
   "execution_count": null,
   "metadata": {},
   "outputs": [],
   "source": []
  },
  {
   "cell_type": "code",
   "execution_count": null,
   "metadata": {},
   "outputs": [],
   "source": []
  },
  {
   "cell_type": "code",
   "execution_count": 11,
   "metadata": {
    "scrolled": true
   },
   "outputs": [],
   "source": [
    "y = Array.create('y', shape=num_samples, vartype='BINARY')"
   ]
  },
  {
   "cell_type": "code",
   "execution_count": 12,
   "metadata": {},
   "outputs": [],
   "source": [
    "m_list = []\n",
    "for i in range(selected_col_num):\n",
    "    for j in range(num_cols - selected_col_num):\n",
    "        sel_list  = X[select_cols[i]].values.tolist()\n",
    "        else_list  = X[else_cols[j]].values.tolist()\n",
    "        m_list.append(y.dot(Array(sel_list)) - y.dot(Array(else_list)))"
   ]
  },
  {
   "cell_type": "code",
   "execution_count": 13,
   "metadata": {},
   "outputs": [
    {
     "data": {
      "text/plain": [
       "[((Binary(y[0])*Num(0))+(Binary(y[1])*Num(2))+(Binary(y[2])*Num(-2))+(((Binary(y[0])*Num(1))+(Binary(y[1])*Num(0))+(Binary(y[2])*Num(3)))*Num(-1))),\n",
       " ((Binary(y[0])*Num(0))+(Binary(y[1])*Num(2))+(Binary(y[2])*Num(-2))+(((Binary(y[0])*Num(-1))+(Binary(y[1])*Num(0))+(Binary(y[2])*Num(0)))*Num(-1))),\n",
       " ((Binary(y[0])*Num(0))+(Binary(y[1])*Num(2))+(Binary(y[2])*Num(-2))+(((Binary(y[0])*Num(0))+(Binary(y[1])*Num(0))+(Binary(y[2])*Num(0)))*Num(-1))),\n",
       " ((Binary(y[0])*Num(0))+(Binary(y[1])*Num(2))+(Binary(y[2])*Num(-2))+(((Binary(y[0])*Num(2))+(Binary(y[1])*Num(2))+(Binary(y[2])*Num(-1)))*Num(-1)))]"
      ]
     },
     "execution_count": 13,
     "metadata": {},
     "output_type": "execute_result"
    }
   ],
   "source": [
    "m_list"
   ]
  },
  {
   "cell_type": "code",
   "execution_count": 14,
   "metadata": {},
   "outputs": [
    {
     "data": {
      "text/plain": [
       "WithPenalty(value=((Binary(x[0])*Num(0))+(Binary(x[1])*Num(1))+(Binary(x[2])*Num(2))+(Binary(x[3])*Num(3))+(Binary(x[4])*Num(4))+(Binary(x[5])*Num(5))+(Binary(x[6])*Num(6))+(Binary(x[7])*Num(7))+(Binary(x[8])*Num(8))+(Binary(x[9])*Num(9))+(Binary(x[10])*Num(10))+(Binary(x[11])*Num(11))+(Binary(x[12])*Num(12))+(Binary(x[13])*Num(13))+(Binary(x[14])*Num(14))+Num(1)),penalty=(Const(x_const, ((Binary(x[0])+Binary(x[1])+Binary(x[2])+Binary(x[3])+Binary(x[4])+Binary(x[5])+Binary(x[6])+Binary(x[7])+Binary(x[8])+Binary(x[9])+Binary(x[10])+Binary(x[11])+Binary(x[12])+Binary(x[13])+Binary(x[14])+Num(-1))*(Binary(x[0])+Binary(x[1])+Binary(x[2])+Binary(x[3])+Binary(x[4])+Binary(x[5])+Binary(x[6])+Binary(x[7])+Binary(x[8])+Binary(x[9])+Binary(x[10])+Binary(x[11])+Binary(x[12])+Binary(x[13])+Binary(x[14])+Num(-1))))*Num(1)))"
      ]
     },
     "execution_count": 14,
     "metadata": {},
     "output_type": "execute_result"
    }
   ],
   "source": [
    "OneHotEncInteger(\"x\", 1, W, strength = 1)"
   ]
  },
  {
   "cell_type": "markdown",
   "metadata": {},
   "source": [
    "WithPenalty(value=((Binary(x[0])*Num(0))+(Binary(x[1])*Num(1))+(Binary(x[2])*Num(2))+(Binary(x[3])*Num(3))+(Binary(x[4])*Num(4))+(Binary(x[5])*Num(5))+(Binary(x[6])*Num(6))+(Binary(x[7])*Num(7))+(Binary(x[8])*Num(8))+(Binary(x[9])*Num(9))+(Binary(x[10])*Num(10))+(Binary(x[11])*Num(11))+Num(1)),penalty=(Const(x_const, ((Binary(x[0])+Binary(x[1])+Binary(x[2])+Binary(x[3])+Binary(x[4])+Binary(x[5])+Binary(x[6])+Binary(x[7])+Binary(x[8])+Binary(x[9])+Binary(x[10])+Binary(x[11])+Num(-1))*(Binary(x[0])+Binary(x[1])+Binary(x[2])+Binary(x[3])+Binary(x[4])+Binary(x[5])+Binary(x[6])+Binary(x[7])+Binary(x[8])+Binary(x[9])+Binary(x[10])+Binary(x[11])+Num(-1))))*Num(1)))"
   ]
  },
  {
   "cell_type": "code",
   "execution_count": 15,
   "metadata": {},
   "outputs": [],
   "source": [
    "H_sum = sum((OneHotEncInteger(\"x\", 1, W, strength = 1)-m)**2 for m in m_list)\n",
    "model = H_sum.compile()"
   ]
  },
  {
   "cell_type": "code",
   "execution_count": 16,
   "metadata": {},
   "outputs": [
    {
     "data": {
      "text/plain": [
       "{0: 0, 1: 1, 2: 0}"
      ]
     },
     "execution_count": 16,
     "metadata": {},
     "output_type": "execute_result"
    }
   ],
   "source": [
    "qubo, offset = model.to_qubo()\n",
    "\n",
    "#PyQUBOによるSA\n",
    "raw_solution = solve_qubo(qubo)\n",
    "\n",
    "# 得られた結果をデコードする\n",
    "decoded_solution, broken, energy = model.decode_solution(raw_solution, vartype=\"BINARY\")\n",
    "decoded_solution[\"y\"] "
   ]
  },
  {
   "cell_type": "code",
   "execution_count": 17,
   "metadata": {},
   "outputs": [
    {
     "data": {
      "text/plain": [
       "{'x': {0: 0,\n",
       "  10: 0,\n",
       "  11: 0,\n",
       "  12: 0,\n",
       "  13: 0,\n",
       "  14: 0,\n",
       "  1: 0,\n",
       "  2: 1,\n",
       "  3: 0,\n",
       "  4: 0,\n",
       "  5: 0,\n",
       "  6: 0,\n",
       "  7: 0,\n",
       "  8: 0,\n",
       "  9: 0},\n",
       " 'y': {0: 0, 1: 1, 2: 0}}"
      ]
     },
     "execution_count": 17,
     "metadata": {},
     "output_type": "execute_result"
    }
   ],
   "source": [
    "decoded_solution"
   ]
  },
  {
   "cell_type": "code",
   "execution_count": 18,
   "metadata": {},
   "outputs": [
    {
     "data": {
      "text/plain": [
       "{}"
      ]
     },
     "execution_count": 18,
     "metadata": {},
     "output_type": "execute_result"
    }
   ],
   "source": [
    "broken"
   ]
  },
  {
   "cell_type": "code",
   "execution_count": 19,
   "metadata": {},
   "outputs": [
    {
     "data": {
      "text/plain": [
       "12.0"
      ]
     },
     "execution_count": 19,
     "metadata": {},
     "output_type": "execute_result"
    }
   ],
   "source": [
    "energy "
   ]
  },
  {
   "cell_type": "markdown",
   "metadata": {},
   "source": [
    "#### 課題\n",
    "すべての$x$を出力したいが、できていない\n",
    "\n",
    "<br/>"
   ]
  },
  {
   "cell_type": "markdown",
   "metadata": {},
   "source": [
    "### 元のyで求められるエネルギーとenergy を比較したい\n",
    "- ori_H_sum : 元のyで求められるエネルギー"
   ]
  },
  {
   "cell_type": "code",
   "execution_count": 20,
   "metadata": {},
   "outputs": [],
   "source": [
    "def make_ax_by(y):\n",
    "    ax_by = []\n",
    "    for i in range(selected_col_num):\n",
    "        for j in range(num_cols - selected_col_num):\n",
    "            ax_by.append(np.dot(X[select_cols[i]], y) - np.dot(X[else_cols[j]], y))\n",
    "    return ax_by "
   ]
  },
  {
   "cell_type": "code",
   "execution_count": 21,
   "metadata": {},
   "outputs": [],
   "source": [
    "def H(ax_by, index_ax_by):\n",
    "    z = [0]*W\n",
    "        \n",
    "    each_axby = ax_by[index_ax_by]\n",
    "    sum_w_z = 0\n",
    "    \n",
    "    if each_axby > 0:\n",
    "        z[int(each_axby)] = 1\n",
    "        sum_w_z = sum([each_axby*z[w] for w in range(W)]) #正確には間違っているが、zの要素は1つ1がある以外全て0なので計算結果は合う\n",
    "    else:\n",
    "        z[0] = 1\n",
    "        sum_w_z = sum([1*z[w] for w in range(W)]) #一番小さいHを得られるのは z[0] = 1であるため、こう設定した\n",
    "        \n",
    "    sum_z = sum(z)\n",
    "    z_series = pd.Series(z)\n",
    "\n",
    "    ans_h =  (1-sum_z)**2 + (sum_w_z -  int(each_axby))**2\n",
    "    return ans_h,  z_series"
   ]
  },
  {
   "cell_type": "code",
   "execution_count": 22,
   "metadata": {
    "scrolled": true
   },
   "outputs": [
    {
     "name": "stdout",
     "output_type": "stream",
     "text": [
      "78\n",
      "[49, 4, 9, 16]\n",
      "    0  1  2  3\n",
      "0   1  1  1  1\n",
      "1   0  0  0  0\n",
      "2   0  0  0  0\n",
      "3   0  0  0  0\n",
      "4   0  0  0  0\n",
      "5   0  0  0  0\n",
      "6   0  0  0  0\n",
      "7   0  0  0  0\n",
      "8   0  0  0  0\n",
      "9   0  0  0  0\n",
      "10  0  0  0  0\n",
      "11  0  0  0  0\n",
      "12  0  0  0  0\n",
      "13  0  0  0  0\n",
      "14  0  0  0  0\n"
     ]
    }
   ],
   "source": [
    "#know ori_H_sum\n",
    "ax_by = make_ax_by(ori_y)\n",
    "\n",
    "ori_H_sum =  sum([H(ax_by, index_ax_by)[0] for index_ax_by in range(len(ax_by))])\n",
    "ori_z_list =  [H(ax_by, index_ax_by)[1] for index_ax_by in range(len(ax_by))]\n",
    "ori_z_df = pd.concat(ori_z_list, axis = 1)\n",
    "\n",
    "print(ori_H_sum)\n",
    "print([H(ax_by, index_ax_by)[0] for index_ax_by in range(len(ax_by))])\n",
    "print(ori_z_df)"
   ]
  },
  {
   "cell_type": "code",
   "execution_count": 23,
   "metadata": {},
   "outputs": [
    {
     "name": "stdout",
     "output_type": "stream",
     "text": [
      "SAは成功していると考えられる\n"
     ]
    }
   ],
   "source": [
    "if ori_H_sum >= energy:\n",
    "    print('SAは成功していると考えられる')"
   ]
  },
  {
   "cell_type": "markdown",
   "metadata": {},
   "source": [
    "## SAで出したyが全ての不等式を満たしているかどうか"
   ]
  },
  {
   "cell_type": "code",
   "execution_count": 24,
   "metadata": {},
   "outputs": [],
   "source": [
    "sol_y =  pd.Series([0, 1, 0])"
   ]
  },
  {
   "cell_type": "code",
   "execution_count": 25,
   "metadata": {},
   "outputs": [
    {
     "data": {
      "text/plain": [
       "[2, 2, 2, 0]"
      ]
     },
     "execution_count": 25,
     "metadata": {},
     "output_type": "execute_result"
    }
   ],
   "source": [
    "sol_ax_by = make_ax_by(sol_y)\n",
    "sol_ax_by "
   ]
  },
  {
   "cell_type": "code",
   "execution_count": 26,
   "metadata": {},
   "outputs": [
    {
     "name": "stdout",
     "output_type": "stream",
     "text": [
      "SAで出したyは全ての不等式を満たしている\n"
     ]
    }
   ],
   "source": [
    "ok = 0\n",
    "for  ii in sol_ax_by :\n",
    "    if ii >= 0:\n",
    "        ok += 1\n",
    "if ok == len(sol_ax_by):\n",
    "    print('SAで出したyは全ての不等式を満たしている')"
   ]
  },
  {
   "cell_type": "markdown",
   "metadata": {},
   "source": [
    "## 結果\n",
    "- `SAは成功していると考えられる`, `SAで出したyは全ての不等式を満たしている`両方を満たしていない結果も出る"
   ]
  },
  {
   "cell_type": "code",
   "execution_count": null,
   "metadata": {},
   "outputs": [],
   "source": []
  }
 ],
 "metadata": {
  "kernelspec": {
   "display_name": "Python 3",
   "language": "python",
   "name": "python3"
  },
  "language_info": {
   "codemirror_mode": {
    "name": "ipython",
    "version": 3
   },
   "file_extension": ".py",
   "mimetype": "text/x-python",
   "name": "python",
   "nbconvert_exporter": "python",
   "pygments_lexer": "ipython3",
   "version": "3.7.6"
  }
 },
 "nbformat": 4,
 "nbformat_minor": 4
}
