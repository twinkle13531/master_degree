{
 "cells": [
  {
   "cell_type": "markdown",
   "metadata": {},
   "source": [
    "[D-WaveのSDKや実機サービスの使い方を確認する。](https://qiita.com/YuichiroMinato/items/57cb8504ab61930eb479)"
   ]
  },
  {
   "cell_type": "code",
   "execution_count": null,
   "metadata": {},
   "outputs": [],
   "source": [
    "#!pip install Dwave-ocean-sdk"
   ]
  },
  {
   "cell_type": "code",
   "execution_count": 12,
   "metadata": {},
   "outputs": [
    {
     "data": {
      "text/plain": [
       "array([-1.5, -0.5, -0.5,  2.5])"
      ]
     },
     "execution_count": 12,
     "metadata": {},
     "output_type": "execute_result"
    }
   ],
   "source": [
    "#ツール読み込み\n",
    "import dimod\n",
    "\n",
    "#ソルバーの選択\n",
    "solver = dimod.ExactSolver()\n",
    "\n",
    "#イジングの準備\n",
    "response = solver.sample_ising({'a': -0.5, 'b': 1.0}, {('a', 'b'): -1})\n",
    "\n",
    "#エネルギーを返す\n",
    "response.data_vectors['energy']"
   ]
  },
  {
   "cell_type": "code",
   "execution_count": 13,
   "metadata": {},
   "outputs": [
    {
     "name": "stdout",
     "output_type": "stream",
     "text": [
      "{'a': -1, 'b': -1} -1.5\n",
      "{'a': 1, 'b': -1} -0.5\n",
      "{'a': 1, 'b': 1} -0.5\n",
      "{'a': -1, 'b': 1} 2.5\n"
     ]
    }
   ],
   "source": [
    "import dimod\n",
    "solver = dimod.ExactSolver()\n",
    "response = solver.sample_ising({'a': -0.5, 'b': 1.0}, {('a', 'b'): -1})\n",
    "for datum in response.data(['sample', 'energy']):     \n",
    "    print(datum.sample, datum.energy)"
   ]
  },
  {
   "cell_type": "code",
   "execution_count": 14,
   "metadata": {},
   "outputs": [
    {
     "data": {
      "text/plain": [
       "array([-1.5, -1.5])"
      ]
     },
     "execution_count": 14,
     "metadata": {},
     "output_type": "execute_result"
    }
   ],
   "source": [
    "import neal\n",
    "solver = neal.SimulatedAnnealingSampler()\n",
    "response = solver.sample_ising({'a': -0.5, 'b': 1.0}, {('a', 'b'): -1}, num_reads=2)\n",
    "response.data_vectors['energy']"
   ]
  },
  {
   "cell_type": "code",
   "execution_count": 10,
   "metadata": {
    "scrolled": true
   },
   "outputs": [
    {
     "data": {
      "text/plain": [
       "[StructuredSolver(id='DW_2000Q_6'), UnstructuredSolver(id='hybrid_v1')]"
      ]
     },
     "execution_count": 10,
     "metadata": {},
     "output_type": "execute_result"
    }
   ],
   "source": [
    "from dwave.cloud import Client\n",
    "client = Client.from_config(token='DEV-6a425d517b4cc6a3e4f9fef6c26af9cd037b879e')\n",
    "client.get_solvers()"
   ]
  },
  {
   "cell_type": "code",
   "execution_count": 16,
   "metadata": {},
   "outputs": [
    {
     "data": {
      "text/plain": [
       "array([-1.5])"
      ]
     },
     "execution_count": 16,
     "metadata": {},
     "output_type": "execute_result"
    }
   ],
   "source": [
    "from dwave.system.samplers import DWaveSampler\n",
    "from dwave.system.composites import EmbeddingComposite\n",
    "\n",
    "sampler = EmbeddingComposite(DWaveSampler(endpoint='https://cloud.dwavesys.com/sapi', token='DEV-6a425d517b4cc6a3e4f9fef6c26af9cd037b879e', solver='DW_2000Q_6'))\n",
    "response = sampler.sample_ising({'a': -0.5, 'b': 1.0}, {('a', 'b'): -1})\n",
    "response.data_vectors['energy'] "
   ]
  },
  {
   "cell_type": "code",
   "execution_count": 17,
   "metadata": {},
   "outputs": [],
   "source": [
    "import networkx as nx\n",
    "s5 = nx.star_graph(4)"
   ]
  },
  {
   "cell_type": "code",
   "execution_count": 18,
   "metadata": {},
   "outputs": [
    {
     "data": {
      "image/png": "[encoded data removed]",
      "text/plain": [
       "<Figure size 432x288 with 1 Axes>"
      ]
     },
     "metadata": {},
     "output_type": "display_data"
    }
   ],
   "source": [
    "import matplotlib.pyplot as plt\n",
    "nx.draw_networkx(s5)\n",
    "plt.show()"
   ]
  },
  {
   "cell_type": "code",
   "execution_count": null,
   "metadata": {
    "scrolled": true
   },
   "outputs": [],
   "source": [
    "from dwave.system.samplers import DWaveSampler\n",
    "from dwave.system.composites import EmbeddingComposite\n",
    "import dwave_networkx as dnx\n",
    "\n",
    "sampler = EmbeddingComposite(DWaveSampler())\n",
    "#print(dnx.min_vertex_cover(s5, sampler))"
   ]
  },
  {
   "cell_type": "code",
   "execution_count": 20,
   "metadata": {},
   "outputs": [
    {
     "name": "stdout",
     "output_type": "stream",
     "text": [
      "Requirement already satisfied: dwave-qbsolv in /Users/shihosato/miniconda3/lib/python3.7/site-packages (0.3.0)\r\n",
      "Requirement already satisfied: dimod<0.10.0,>=0.8.1 in /Users/shihosato/miniconda3/lib/python3.7/site-packages (from dwave-qbsolv) (0.9.2)\r\n",
      "Requirement already satisfied: numpy<2.0.0,>=1.16.0 in /Users/shihosato/miniconda3/lib/python3.7/site-packages (from dimod<0.10.0,>=0.8.1->dwave-qbsolv) (1.18.4)\r\n"
     ]
    }
   ],
   "source": [
    "!pip install dwave-qbsolv"
   ]
  },
  {
   "cell_type": "code",
   "execution_count": 21,
   "metadata": {},
   "outputs": [
    {
     "name": "stdout",
     "output_type": "stream",
     "text": [
      "samples=[{0: 0, 1: 0}]\n",
      "energies=[-0.0]\n"
     ]
    }
   ],
   "source": [
    "from dwave_qbsolv import QBSolv\n",
    "Q = {(0, 0): 1, (1, 1): 1, (0, 1): 1}\n",
    "response = QBSolv().sample_qubo(Q)\n",
    "print(\"samples=\" + str(list(response.samples())))\n",
    "print(\"energies=\" + str(list(response.data_vectors['energy'])))"
   ]
  },
  {
   "cell_type": "code",
   "execution_count": null,
   "metadata": {},
   "outputs": [],
   "source": []
  }
 ],
 "metadata": {
  "kernelspec": {
   "display_name": "Python 3",
   "language": "python",
   "name": "python3"
  },
  "language_info": {
   "codemirror_mode": {
    "name": "ipython",
    "version": 3
   },
   "file_extension": ".py",
   "mimetype": "text/x-python",
   "name": "python",
   "nbconvert_exporter": "python",
   "pygments_lexer": "ipython3",
   "version": "3.7.6"
  }
 },
 "nbformat": 4,
 "nbformat_minor": 4
}
