{
 "cells": [
  {
   "cell_type": "code",
   "execution_count": 13,
   "metadata": {},
   "outputs": [
    {
     "data": {
      "text/html": [
       "<table>\n",
       "<caption>A data.frame: 5 × 3</caption>\n",
       "<thead>\n",
       "\t<tr><th scope=col>SEX</th><th scope=col>HEIGHT</th><th scope=col>WEIGHT</th></tr>\n",
       "\t<tr><th scope=col>&lt;fct&gt;</th><th scope=col>&lt;dbl&gt;</th><th scope=col>&lt;dbl&gt;</th></tr>\n",
       "</thead>\n",
       "<tbody>\n",
       "\t<tr><td>F</td><td>158</td><td>51</td></tr>\n",
       "\t<tr><td>F</td><td>162</td><td>55</td></tr>\n",
       "\t<tr><td>M</td><td>177</td><td>72</td></tr>\n",
       "\t<tr><td>M</td><td>173</td><td>57</td></tr>\n",
       "\t<tr><td>M</td><td>166</td><td>64</td></tr>\n",
       "</tbody>\n",
       "</table>\n"
      ],
      "text/latex": [
       "A data.frame: 5 × 3\n",
       "\\begin{tabular}{lll}\n",
       " SEX & HEIGHT & WEIGHT\\\\\n",
       " <fct> & <dbl> & <dbl>\\\\\n",
       "\\hline\n",
       "\t F & 158 & 51\\\\\n",
       "\t F & 162 & 55\\\\\n",
       "\t M & 177 & 72\\\\\n",
       "\t M & 173 & 57\\\\\n",
       "\t M & 166 & 64\\\\\n",
       "\\end{tabular}\n"
      ],
      "text/markdown": [
       "\n",
       "A data.frame: 5 × 3\n",
       "\n",
       "| SEX &lt;fct&gt; | HEIGHT &lt;dbl&gt; | WEIGHT &lt;dbl&gt; |\n",
       "|---|---|---|\n",
       "| F | 158 | 51 |\n",
       "| F | 162 | 55 |\n",
       "| M | 177 | 72 |\n",
       "| M | 173 | 57 |\n",
       "| M | 166 | 64 |\n",
       "\n"
      ],
      "text/plain": [
       "  SEX HEIGHT WEIGHT\n",
       "1 F   158    51    \n",
       "2 F   162    55    \n",
       "3 M   177    72    \n",
       "4 M   173    57    \n",
       "5 M   166    64    "
      ]
     },
     "metadata": {},
     "output_type": "display_data"
    }
   ],
   "source": [
    "sex    <- c(\"F\",\"F\",\"M\",\"M\",\"M\")\n",
    " height <- c(158,162,177,173,166)\n",
    " weight <- c(51,55,72,57,64)\n",
    "x    <- data.frame(SEX=sex, HEIGHT=height, WEIGHT=weight) \n",
    "x"
   ]
  },
  {
   "cell_type": "code",
   "execution_count": 14,
   "metadata": {},
   "outputs": [
    {
     "data": {
      "text/html": [
       "<table>\n",
       "<caption>A data.frame: 5 × 3</caption>\n",
       "<thead>\n",
       "\t<tr><th scope=col>SEX</th><th scope=col>HEIGHT</th><th scope=col>WEIGHT</th></tr>\n",
       "\t<tr><th scope=col>&lt;fct&gt;</th><th scope=col>&lt;dbl&gt;</th><th scope=col>&lt;dbl&gt;</th></tr>\n",
       "</thead>\n",
       "<tbody>\n",
       "\t<tr><td>F</td><td>158</td><td>51</td></tr>\n",
       "\t<tr><td>F</td><td>160</td><td>55</td></tr>\n",
       "\t<tr><td>M</td><td>177</td><td>72</td></tr>\n",
       "\t<tr><td>M</td><td>173</td><td>57</td></tr>\n",
       "\t<tr><td>M</td><td>166</td><td>64</td></tr>\n",
       "</tbody>\n",
       "</table>\n"
      ],
      "text/latex": [
       "A data.frame: 5 × 3\n",
       "\\begin{tabular}{lll}\n",
       " SEX & HEIGHT & WEIGHT\\\\\n",
       " <fct> & <dbl> & <dbl>\\\\\n",
       "\\hline\n",
       "\t F & 158 & 51\\\\\n",
       "\t F & 160 & 55\\\\\n",
       "\t M & 177 & 72\\\\\n",
       "\t M & 173 & 57\\\\\n",
       "\t M & 166 & 64\\\\\n",
       "\\end{tabular}\n"
      ],
      "text/markdown": [
       "\n",
       "A data.frame: 5 × 3\n",
       "\n",
       "| SEX &lt;fct&gt; | HEIGHT &lt;dbl&gt; | WEIGHT &lt;dbl&gt; |\n",
       "|---|---|---|\n",
       "| F | 158 | 51 |\n",
       "| F | 160 | 55 |\n",
       "| M | 177 | 72 |\n",
       "| M | 173 | 57 |\n",
       "| M | 166 | 64 |\n",
       "\n"
      ],
      "text/plain": [
       "  SEX HEIGHT WEIGHT\n",
       "1 F   158    51    \n",
       "2 F   160    55    \n",
       "3 M   177    72    \n",
       "4 M   173    57    \n",
       "5 M   166    64    "
      ]
     },
     "metadata": {},
     "output_type": "display_data"
    }
   ],
   "source": [
    "x$HEIGHT[x$HEIGHT　== 162] <- 160\n",
    "x"
   ]
  },
  {
   "cell_type": "code",
   "execution_count": 7,
   "metadata": {
    "scrolled": true
   },
   "outputs": [
    {
     "data": {
      "text/html": [
       "<table>\n",
       "<caption>A data.frame: 5 × 3</caption>\n",
       "<thead>\n",
       "\t<tr><th scope=col>SEX</th><th scope=col>HEIGHT</th><th scope=col>WEIGHT</th></tr>\n",
       "\t<tr><th scope=col>&lt;fct&gt;</th><th scope=col>&lt;dbl&gt;</th><th scope=col>&lt;dbl&gt;</th></tr>\n",
       "</thead>\n",
       "<tbody>\n",
       "\t<tr><td>F</td><td>0.1</td><td>51</td></tr>\n",
       "\t<tr><td>F</td><td>0.1</td><td>55</td></tr>\n",
       "\t<tr><td>M</td><td>0.1</td><td>72</td></tr>\n",
       "\t<tr><td>M</td><td>0.1</td><td>57</td></tr>\n",
       "\t<tr><td>M</td><td>0.1</td><td>64</td></tr>\n",
       "</tbody>\n",
       "</table>\n"
      ],
      "text/latex": [
       "A data.frame: 5 × 3\n",
       "\\begin{tabular}{lll}\n",
       " SEX & HEIGHT & WEIGHT\\\\\n",
       " <fct> & <dbl> & <dbl>\\\\\n",
       "\\hline\n",
       "\t F & 0.1 & 51\\\\\n",
       "\t F & 0.1 & 55\\\\\n",
       "\t M & 0.1 & 72\\\\\n",
       "\t M & 0.1 & 57\\\\\n",
       "\t M & 0.1 & 64\\\\\n",
       "\\end{tabular}\n"
      ],
      "text/markdown": [
       "\n",
       "A data.frame: 5 × 3\n",
       "\n",
       "| SEX &lt;fct&gt; | HEIGHT &lt;dbl&gt; | WEIGHT &lt;dbl&gt; |\n",
       "|---|---|---|\n",
       "| F | 0.1 | 51 |\n",
       "| F | 0.1 | 55 |\n",
       "| M | 0.1 | 72 |\n",
       "| M | 0.1 | 57 |\n",
       "| M | 0.1 | 64 |\n",
       "\n"
      ],
      "text/plain": [
       "  SEX HEIGHT WEIGHT\n",
       "1 F   0.1    51    \n",
       "2 F   0.1    55    \n",
       "3 M   0.1    72    \n",
       "4 M   0.1    57    \n",
       "5 M   0.1    64    "
      ]
     },
     "metadata": {},
     "output_type": "display_data"
    }
   ],
   "source": [
    "x$HEIGHT[x$HEIGHT==0]<- 0.1"
   ]
  },
  {
   "cell_type": "code",
   "execution_count": 4,
   "metadata": {},
   "outputs": [
    {
     "name": "stderr",
     "output_type": "stream",
     "text": [
      "Warning message in m$HEIGHT <- 0:\n",
      "“ 左辺をリストに変換しました ”"
     ]
    },
    {
     "data": {
      "text/html": [
       "<table>\n",
       "<caption>A data.frame: 1 × 16</caption>\n",
       "<thead>\n",
       "\t<tr><th scope=col>X.F.</th><th scope=col>X.F..1</th><th scope=col>X.M.</th><th scope=col>X.M..1</th><th scope=col>X.M..2</th><th scope=col>X.158.</th><th scope=col>X.162.</th><th scope=col>X.177.</th><th scope=col>X.173.</th><th scope=col>X.166.</th><th scope=col>X.51.</th><th scope=col>X.55.</th><th scope=col>X.72.</th><th scope=col>X.57.</th><th scope=col>X.64.</th><th scope=col>HEIGHT</th></tr>\n",
       "\t<tr><th scope=col>&lt;fct&gt;</th><th scope=col>&lt;fct&gt;</th><th scope=col>&lt;fct&gt;</th><th scope=col>&lt;fct&gt;</th><th scope=col>&lt;fct&gt;</th><th scope=col>&lt;fct&gt;</th><th scope=col>&lt;fct&gt;</th><th scope=col>&lt;fct&gt;</th><th scope=col>&lt;fct&gt;</th><th scope=col>&lt;fct&gt;</th><th scope=col>&lt;fct&gt;</th><th scope=col>&lt;fct&gt;</th><th scope=col>&lt;fct&gt;</th><th scope=col>&lt;fct&gt;</th><th scope=col>&lt;fct&gt;</th><th scope=col>&lt;dbl&gt;</th></tr>\n",
       "</thead>\n",
       "<tbody>\n",
       "\t<tr><td>F</td><td>F</td><td>M</td><td>M</td><td>M</td><td>158</td><td>162</td><td>177</td><td>173</td><td>166</td><td>51</td><td>55</td><td>72</td><td>57</td><td>64</td><td>0</td></tr>\n",
       "</tbody>\n",
       "</table>\n"
      ],
      "text/latex": [
       "A data.frame: 1 × 16\n",
       "\\begin{tabular}{llllllllllllllll}\n",
       " X.F. & X.F..1 & X.M. & X.M..1 & X.M..2 & X.158. & X.162. & X.177. & X.173. & X.166. & X.51. & X.55. & X.72. & X.57. & X.64. & HEIGHT\\\\\n",
       " <fct> & <fct> & <fct> & <fct> & <fct> & <fct> & <fct> & <fct> & <fct> & <fct> & <fct> & <fct> & <fct> & <fct> & <fct> & <dbl>\\\\\n",
       "\\hline\n",
       "\t F & F & M & M & M & 158 & 162 & 177 & 173 & 166 & 51 & 55 & 72 & 57 & 64 & 0\\\\\n",
       "\\end{tabular}\n"
      ],
      "text/markdown": [
       "\n",
       "A data.frame: 1 × 16\n",
       "\n",
       "| X.F. &lt;fct&gt; | X.F..1 &lt;fct&gt; | X.M. &lt;fct&gt; | X.M..1 &lt;fct&gt; | X.M..2 &lt;fct&gt; | X.158. &lt;fct&gt; | X.162. &lt;fct&gt; | X.177. &lt;fct&gt; | X.173. &lt;fct&gt; | X.166. &lt;fct&gt; | X.51. &lt;fct&gt; | X.55. &lt;fct&gt; | X.72. &lt;fct&gt; | X.57. &lt;fct&gt; | X.64. &lt;fct&gt; | HEIGHT &lt;dbl&gt; |\n",
       "|---|---|---|---|---|---|---|---|---|---|---|---|---|---|---|---|\n",
       "| F | F | M | M | M | 158 | 162 | 177 | 173 | 166 | 51 | 55 | 72 | 57 | 64 | 0 |\n",
       "\n"
      ],
      "text/plain": [
       "  X.F. X.F..1 X.M. X.M..1 X.M..2 X.158. X.162. X.177. X.173. X.166. X.51. X.55.\n",
       "1 F    F      M    M      M      158    162    177    173    166    51    55   \n",
       "  X.72. X.57. X.64. HEIGHT\n",
       "1 72    57    64    0     "
      ]
     },
     "metadata": {},
     "output_type": "display_data"
    }
   ],
   "source": [
    "m <- as.matrix(x)\n",
    "m$HEIGHT<- 0\n",
    "xx <- as.data.frame(m)\n",
    "xx"
   ]
  },
  {
   "cell_type": "code",
   "execution_count": null,
   "metadata": {},
   "outputs": [],
   "source": []
  }
 ],
 "metadata": {
  "kernelspec": {
   "display_name": "R",
   "language": "R",
   "name": "ir"
  },
  "language_info": {
   "codemirror_mode": "r",
   "file_extension": ".r",
   "mimetype": "text/x-r-source",
   "name": "R",
   "pygments_lexer": "r",
   "version": "3.6.3"
  }
 },
 "nbformat": 4,
 "nbformat_minor": 4
}
