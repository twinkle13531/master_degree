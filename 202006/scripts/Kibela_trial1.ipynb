{
 "cells": [
  {
   "cell_type": "markdown",
   "metadata": {},
   "source": [
    "## 課題\n",
    "- [QUBOとその解の探索](https://tsudalab.kibe.la/@kitai/1223)"
   ]
  },
  {
   "cell_type": "code",
   "execution_count": 2,
   "metadata": {},
   "outputs": [],
   "source": [
    "import numpy as np"
   ]
  },
  {
   "cell_type": "code",
   "execution_count": 3,
   "metadata": {},
   "outputs": [],
   "source": [
    "def f(x):\n",
    "    '''\n",
    "    x: 長さ4で要素に0, 1のみを持つNumpy行列\n",
    "    '''\n",
    "    assert np.all((x == 0) | (x == 1))\n",
    "    Q = np.array([\n",
    "    [ 1,  2, -1,  0],\n",
    "    [ 0, -1, -2, -1],\n",
    "    [ 0,  0, -2,  2],\n",
    "    [ 0,  0,  0,  0]\n",
    "    ])\n",
    "    return np.dot(x.T, np.dot(Q, x))"
   ]
  },
  {
   "cell_type": "code",
   "execution_count": 4,
   "metadata": {},
   "outputs": [],
   "source": [
    "def allX(n):\n",
    "    '''\n",
    "    長さnの0,1ベクトルの全パターンを列挙して2次元のNumpy行列として返す。\n",
    "    '''\n",
    "    Xs = np.arange(2**n).reshape((-1,1))\n",
    "    mask = 1 << np.arange(n-1, -1, -1).reshape((1,-1))\n",
    "    return (Xs & mask) / mask"
   ]
  },
  {
   "cell_type": "code",
   "execution_count": null,
   "metadata": {},
   "outputs": [],
   "source": []
  },
  {
   "cell_type": "markdown",
   "metadata": {},
   "source": [
    "## 課題1"
   ]
  },
  {
   "cell_type": "code",
   "execution_count": 98,
   "metadata": {},
   "outputs": [
    {
     "name": "stdout",
     "output_type": "stream",
     "text": [
      "[0. 0. 0. 0.] 0.0\n",
      "[0. 0. 0. 1.] 0.0\n",
      "[0. 0. 1. 0.] -2.0\n",
      "[0. 0. 1. 1.] 0.0\n",
      "[0. 1. 0. 0.] -1.0\n",
      "[0. 1. 0. 1.] -2.0\n",
      "[0. 1. 1. 0.] -5.0\n",
      "[0. 1. 1. 1.] -4.0\n",
      "[1. 0. 0. 0.] 1.0\n",
      "[1. 0. 0. 1.] 1.0\n",
      "[1. 0. 1. 0.] -2.0\n",
      "[1. 0. 1. 1.] 0.0\n",
      "[1. 1. 0. 0.] 2.0\n",
      "[1. 1. 0. 1.] 1.0\n",
      "[1. 1. 1. 0.] -3.0\n",
      "[1. 1. 1. 1.] -2.0\n"
     ]
    }
   ],
   "source": [
    "for each_x in allX(4):\n",
    "    print(each_x, f(each_x))"
   ]
  },
  {
   "cell_type": "code",
   "execution_count": null,
   "metadata": {},
   "outputs": [],
   "source": []
  },
  {
   "cell_type": "markdown",
   "metadata": {},
   "source": [
    "## 課題2"
   ]
  },
  {
   "cell_type": "code",
   "execution_count": null,
   "metadata": {},
   "outputs": [],
   "source": [
    "def f2(x):\n",
    "    return f(x) + 2*(np.sum(x) - 1)**2"
   ]
  },
  {
   "cell_type": "code",
   "execution_count": 104,
   "metadata": {},
   "outputs": [],
   "source": [
    "def f2(x):\n",
    "    '''\n",
    "    x: 長さ4で、要素は3つが1で残り1つは0になるNumpy行列\n",
    "    '''\n",
    "    if np.all((x==0)|(x==1)) and np.sum(x) == 3:\n",
    "        Q = np.array([\n",
    "        [ 1, 2, -1, 0],\n",
    "        [ 0, -1, -2, -1],\n",
    "        [ 0, 0, -2, 2],\n",
    "        [ 0, 0, 0, 0]\n",
    "        ])\n",
    "        return np.dot(x.T, np.dot(Q, x))"
   ]
  },
  {
   "cell_type": "code",
   "execution_count": 107,
   "metadata": {},
   "outputs": [
    {
     "name": "stdout",
     "output_type": "stream",
     "text": [
      "[0. 1. 1. 1.] -4.0\n",
      "[1. 0. 1. 1.] 0.0\n",
      "[1. 1. 0. 1.] 1.0\n",
      "[1. 1. 1. 0.] -3.0\n"
     ]
    }
   ],
   "source": [
    "for each_x in allX(4):\n",
    "    if f2(each_x) != None:\n",
    "        print(each_x, f2(each_x))"
   ]
  },
  {
   "cell_type": "code",
   "execution_count": null,
   "metadata": {},
   "outputs": [],
   "source": []
  },
  {
   "cell_type": "markdown",
   "metadata": {},
   "source": [
    "## 課題3"
   ]
  },
  {
   "cell_type": "code",
   "execution_count": 84,
   "metadata": {},
   "outputs": [],
   "source": [
    "from pyqubo import Array, Binary, solve_qubo"
   ]
  },
  {
   "cell_type": "code",
   "execution_count": 85,
   "metadata": {},
   "outputs": [],
   "source": [
    "x = Array.create('x', shape=4, vartype='BINARY')\n",
    "H = x[0] - x[1] -2*x[2] + 2*x[0]*x[1] - x[0]*x[2] - 2*x[1]*x[2] -x[1]*x[3] + 2*x[2]*x[3]\n",
    "model = H.compile()\n",
    "qubo, offset = model.to_qubo()"
   ]
  },
  {
   "cell_type": "code",
   "execution_count": 87,
   "metadata": {},
   "outputs": [
    {
     "data": {
      "text/plain": [
       "{0: 0, 1: 1, 2: 1, 3: 0}"
      ]
     },
     "execution_count": 87,
     "metadata": {},
     "output_type": "execute_result"
    }
   ],
   "source": [
    "#PyQUBOによるSA\n",
    "raw_solution = solve_qubo(qubo)\n",
    "\n",
    "# 得られた結果をデコードする\n",
    "decoded_solution, broken, energy = model.decode_solution(raw_solution, vartype=\"BINARY\")\n",
    "decoded_solution['x'] #{0: 0, 1: 1, 2: 1, 3: 0}"
   ]
  },
  {
   "cell_type": "markdown",
   "metadata": {},
   "source": [
    "$H$\n",
    "\n",
    "$= f(x) +2*g(x)**2$\n",
    "\n",
    "$= x[0] - x[1] -2*x[2] + 2*x[0]*x[1] - x[0]*x[2] - 2*x[1]*x[2] -x[1]*x[3] + 2*x[2]*x[3]　- (2-2*x[0]-2*x[1]-2*x[2]+4*x[0]*x[1]+4*x[1]*x[2] + 4*x[0]*x[2])$\n",
    "$= -x[0] - 3*x[1] - 4*x[2] + 2 - 6*x[0]*x[1] + 3*x[0]* x[2] +2*x[1]*x[2]- x[1]*x[3] + 2*x[2]*x[3]$"
   ]
  },
  {
   "cell_type": "code",
   "execution_count": 94,
   "metadata": {},
   "outputs": [],
   "source": [
    "x = Array.create('x', shape=4, vartype='BINARY')\n",
    "H = -x[0]-3*x[1]-4*x[2]+2-6*x[0]*x[1]+3*x[0]*x[2]+2*x[1]*x[2]-x[1]*x[3]+2*x[2]*x[3]\n",
    "model = H.compile()\n",
    "qubo, offset = model.to_qubo()"
   ]
  },
  {
   "cell_type": "code",
   "execution_count": 95,
   "metadata": {},
   "outputs": [
    {
     "data": {
      "text/plain": [
       "{0: 1, 1: 1, 2: 0, 3: 1}"
      ]
     },
     "execution_count": 95,
     "metadata": {},
     "output_type": "execute_result"
    }
   ],
   "source": [
    "#PyQUBOによるSA\n",
    "raw_solution = solve_qubo(qubo)\n",
    "\n",
    "# 得られた結果をデコードする\n",
    "decoded_solution, broken, energy = model.decode_solution(raw_solution, vartype=\"BINARY\")\n",
    "decoded_solution['x']"
   ]
  }
 ],
 "metadata": {
  "kernelspec": {
   "display_name": "Python 3",
   "language": "python",
   "name": "python3"
  },
  "language_info": {
   "codemirror_mode": {
    "name": "ipython",
    "version": 3
   },
   "file_extension": ".py",
   "mimetype": "text/x-python",
   "name": "python",
   "nbconvert_exporter": "python",
   "pygments_lexer": "ipython3",
   "version": "3.7.6"
  }
 },
 "nbformat": 4,
 "nbformat_minor": 4
}
