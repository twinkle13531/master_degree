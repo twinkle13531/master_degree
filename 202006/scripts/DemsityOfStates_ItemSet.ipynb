{
 "cells": [
  {
   "cell_type": "code",
   "execution_count": 183,
   "metadata": {},
   "outputs": [],
   "source": [
    "import pandas as pd\n",
    "import numpy as np\n",
    "import random\n",
    "import pprint\n",
    "import math\n",
    "import matplotlib.pyplot as plt\n",
    "import itertools\n",
    "from scipy import optimize, exp"
   ]
  },
  {
   "cell_type": "code",
   "execution_count": 147,
   "metadata": {},
   "outputs": [
    {
     "data": {
      "text/plain": [
       "(50, 50)"
      ]
     },
     "execution_count": 147,
     "metadata": {},
     "output_type": "execute_result"
    }
   ],
   "source": [
    "df = pd.read_table('../../../src/0522gibbs/data/PT_BD_50_50_1_50.csv', header=None)\n",
    "df.shape #(50, 50)\n",
    "#q=50, d=50\n",
    "#df.sum( axis = 1)　#すべての行0が25個、1が25個"
   ]
  },
  {
   "cell_type": "code",
   "execution_count": 148,
   "metadata": {},
   "outputs": [],
   "source": [
    "#変数\n",
    "m = 3\n",
    "d = 50\n",
    "q = 50\n",
    "b_list = [1, 7.6, 13.7, 20.0] #4つ\n",
    "MCMC_step = 10000"
   ]
  },
  {
   "cell_type": "code",
   "execution_count": 149,
   "metadata": {},
   "outputs": [],
   "source": [
    "df_list = []\n",
    "for qq in range(q): #行\n",
    "    qq_list = []\n",
    "    for dd in range(d): #列\n",
    "        if df.iloc[qq, dd] == 1:\n",
    "            qq_list.append(dd)\n",
    "    df_list.append(qq_list) \n",
    "#pprint.pprint(df_list)  "
   ]
  },
  {
   "cell_type": "code",
   "execution_count": 150,
   "metadata": {},
   "outputs": [
    {
     "data": {
      "text/html": [
       "<div>\n",
       "<style scoped>\n",
       "    .dataframe tbody tr th:only-of-type {\n",
       "        vertical-align: middle;\n",
       "    }\n",
       "\n",
       "    .dataframe tbody tr th {\n",
       "        vertical-align: top;\n",
       "    }\n",
       "\n",
       "    .dataframe thead th {\n",
       "        text-align: right;\n",
       "    }\n",
       "</style>\n",
       "<table border=\"1\" class=\"dataframe\">\n",
       "  <thead>\n",
       "    <tr style=\"text-align: right;\">\n",
       "      <th></th>\n",
       "      <th>0</th>\n",
       "      <th>1</th>\n",
       "      <th>2</th>\n",
       "      <th>3</th>\n",
       "      <th>4</th>\n",
       "      <th>5</th>\n",
       "      <th>6</th>\n",
       "      <th>7</th>\n",
       "      <th>8</th>\n",
       "      <th>9</th>\n",
       "      <th>...</th>\n",
       "      <th>15</th>\n",
       "      <th>16</th>\n",
       "      <th>17</th>\n",
       "      <th>18</th>\n",
       "      <th>19</th>\n",
       "      <th>20</th>\n",
       "      <th>21</th>\n",
       "      <th>22</th>\n",
       "      <th>23</th>\n",
       "      <th>24</th>\n",
       "    </tr>\n",
       "  </thead>\n",
       "  <tbody>\n",
       "    <tr>\n",
       "      <th>0</th>\n",
       "      <td>3</td>\n",
       "      <td>5</td>\n",
       "      <td>6</td>\n",
       "      <td>9</td>\n",
       "      <td>14</td>\n",
       "      <td>15</td>\n",
       "      <td>18</td>\n",
       "      <td>19</td>\n",
       "      <td>21</td>\n",
       "      <td>23</td>\n",
       "      <td>...</td>\n",
       "      <td>34</td>\n",
       "      <td>35</td>\n",
       "      <td>36</td>\n",
       "      <td>37</td>\n",
       "      <td>42</td>\n",
       "      <td>44</td>\n",
       "      <td>46</td>\n",
       "      <td>47</td>\n",
       "      <td>48</td>\n",
       "      <td>49</td>\n",
       "    </tr>\n",
       "    <tr>\n",
       "      <th>1</th>\n",
       "      <td>1</td>\n",
       "      <td>3</td>\n",
       "      <td>4</td>\n",
       "      <td>6</td>\n",
       "      <td>10</td>\n",
       "      <td>15</td>\n",
       "      <td>16</td>\n",
       "      <td>18</td>\n",
       "      <td>22</td>\n",
       "      <td>25</td>\n",
       "      <td>...</td>\n",
       "      <td>33</td>\n",
       "      <td>34</td>\n",
       "      <td>35</td>\n",
       "      <td>37</td>\n",
       "      <td>38</td>\n",
       "      <td>40</td>\n",
       "      <td>42</td>\n",
       "      <td>43</td>\n",
       "      <td>46</td>\n",
       "      <td>49</td>\n",
       "    </tr>\n",
       "    <tr>\n",
       "      <th>2</th>\n",
       "      <td>1</td>\n",
       "      <td>2</td>\n",
       "      <td>3</td>\n",
       "      <td>5</td>\n",
       "      <td>6</td>\n",
       "      <td>7</td>\n",
       "      <td>11</td>\n",
       "      <td>12</td>\n",
       "      <td>16</td>\n",
       "      <td>17</td>\n",
       "      <td>...</td>\n",
       "      <td>29</td>\n",
       "      <td>31</td>\n",
       "      <td>32</td>\n",
       "      <td>33</td>\n",
       "      <td>35</td>\n",
       "      <td>37</td>\n",
       "      <td>38</td>\n",
       "      <td>39</td>\n",
       "      <td>43</td>\n",
       "      <td>49</td>\n",
       "    </tr>\n",
       "    <tr>\n",
       "      <th>3</th>\n",
       "      <td>0</td>\n",
       "      <td>2</td>\n",
       "      <td>4</td>\n",
       "      <td>11</td>\n",
       "      <td>12</td>\n",
       "      <td>13</td>\n",
       "      <td>14</td>\n",
       "      <td>15</td>\n",
       "      <td>19</td>\n",
       "      <td>20</td>\n",
       "      <td>...</td>\n",
       "      <td>36</td>\n",
       "      <td>37</td>\n",
       "      <td>38</td>\n",
       "      <td>39</td>\n",
       "      <td>40</td>\n",
       "      <td>41</td>\n",
       "      <td>42</td>\n",
       "      <td>44</td>\n",
       "      <td>46</td>\n",
       "      <td>48</td>\n",
       "    </tr>\n",
       "    <tr>\n",
       "      <th>4</th>\n",
       "      <td>0</td>\n",
       "      <td>1</td>\n",
       "      <td>4</td>\n",
       "      <td>5</td>\n",
       "      <td>6</td>\n",
       "      <td>7</td>\n",
       "      <td>8</td>\n",
       "      <td>11</td>\n",
       "      <td>12</td>\n",
       "      <td>13</td>\n",
       "      <td>...</td>\n",
       "      <td>23</td>\n",
       "      <td>26</td>\n",
       "      <td>28</td>\n",
       "      <td>30</td>\n",
       "      <td>39</td>\n",
       "      <td>41</td>\n",
       "      <td>42</td>\n",
       "      <td>43</td>\n",
       "      <td>45</td>\n",
       "      <td>47</td>\n",
       "    </tr>\n",
       "  </tbody>\n",
       "</table>\n",
       "<p>5 rows × 25 columns</p>\n",
       "</div>"
      ],
      "text/plain": [
       "   0   1   2   3   4   5   6   7   8   9   ...  15  16  17  18  19  20  21  \\\n",
       "0   3   5   6   9  14  15  18  19  21  23  ...  34  35  36  37  42  44  46   \n",
       "1   1   3   4   6  10  15  16  18  22  25  ...  33  34  35  37  38  40  42   \n",
       "2   1   2   3   5   6   7  11  12  16  17  ...  29  31  32  33  35  37  38   \n",
       "3   0   2   4  11  12  13  14  15  19  20  ...  36  37  38  39  40  41  42   \n",
       "4   0   1   4   5   6   7   8  11  12  13  ...  23  26  28  30  39  41  42   \n",
       "\n",
       "   22  23  24  \n",
       "0  47  48  49  \n",
       "1  43  46  49  \n",
       "2  39  43  49  \n",
       "3  44  46  48  \n",
       "4  43  45  47  \n",
       "\n",
       "[5 rows x 25 columns]"
      ]
     },
     "execution_count": 150,
     "metadata": {},
     "output_type": "execute_result"
    }
   ],
   "source": [
    "df_df = pd.DataFrame(df_list)\n",
    "df_df.head()"
   ]
  },
  {
   "cell_type": "code",
   "execution_count": 151,
   "metadata": {},
   "outputs": [],
   "source": [
    "def E(s):\n",
    "    return -s/q"
   ]
  },
  {
   "cell_type": "code",
   "execution_count": 152,
   "metadata": {},
   "outputs": [],
   "source": [
    "def Bol(x, b):\n",
    "    return np.exp(-b*E())"
   ]
  },
  {
   "cell_type": "code",
   "execution_count": 153,
   "metadata": {},
   "outputs": [],
   "source": [
    "dis_s_dic_list = []\n",
    "\n",
    "for b in b_list:\n",
    "    x_list = []\n",
    "    E_list = []\n",
    "    \n",
    "    while len(x_list) < MCMC_step:\n",
    "        x = [random.randrange(d) for _ in range(m)]\n",
    "        if len(set(x)) != len(x):\n",
    "            continue            \n",
    "        if x in x_list:\n",
    "            continue\n",
    "            \n",
    "        x_list.append(x)\n",
    "\n",
    "        sx = 0\n",
    "        for j in range(q):\n",
    "            if set(x) <=  set(df_df.iloc[j, :].values.tolist()):\n",
    "                sx += 1\n",
    "        E_list.append(-sx/q)\n",
    "\n",
    "        if len(E_list) >= 2:\n",
    "            r = math.exp(-E_list[-1]*b-(-E_list[-2]*b)) \n",
    "            R = np.random.uniform(0.0, 1.0)\n",
    "            if R > r :\n",
    "                del x_list[-1]\n",
    "                del E_list[-1]\n",
    "                \n",
    "    #kxの個数(s(x))\n",
    "    sx_set_list = [] #-sx/qがエネルギーの定義だった\n",
    "    for ii in range(len(x_list)):\n",
    "        sx_set_list.append(int(-E_list[ii]*q //1))\n",
    "            \n",
    "            \n",
    "    #N(s)が知りたい\n",
    "    #key->s, value->xの個数(N(s))\n",
    "    sx_set_list = sorted(sx_set_list)    \n",
    "    s_x_dic = {}\n",
    "    for ss in sx_set_list:\n",
    "        if not ss in s_x_dic:\n",
    "            s_x_dic[ss] = 1\n",
    "        else:\n",
    "            s_x_dic[ss] += 1\n",
    "\n",
    "            \n",
    "    #distribution of support\n",
    "    Zb = sum([s_x_dic[jj]*math.exp(-b*(-jj/q)) for jj in s_x_dic])\n",
    "\n",
    "    dis_s_dic = {}\n",
    "    for jj in s_x_dic:\n",
    "        dis_s_dic[jj] = s_x_dic[jj]*math.exp(-b*(-jj/q))/Zb\n",
    "    dis_s_dic_list.append(dis_s_dic)"
   ]
  },
  {
   "cell_type": "code",
   "execution_count": 154,
   "metadata": {
    "scrolled": true
   },
   "outputs": [
    {
     "data": {
      "text/plain": [
       "{0: 0.0006212728354320681,\n",
       " 1: 0.008058611535924515,\n",
       " 2: 0.02715835335489154,\n",
       " 3: 0.07595861469176149,\n",
       " 4: 0.13383420353498093,\n",
       " 5: 0.17989251951639892,\n",
       " 6: 0.1856280389691838,\n",
       " 7: 0.1594654423443289,\n",
       " 8: 0.10717335265602138,\n",
       " 9: 0.06354165403392631,\n",
       " 10: 0.032521043775716456,\n",
       " 11: 0.016810192969121052,\n",
       " 12: 0.0058670304766229855,\n",
       " 13: 0.0029927761771142924,\n",
       " 14: 0.00023486417433016558,\n",
       " 15: 0.00011980437268795627,\n",
       " 16: 0.00012222458155731786}"
      ]
     },
     "execution_count": 154,
     "metadata": {},
     "output_type": "execute_result"
    }
   ],
   "source": [
    "dis_s_dic_list[0]"
   ]
  },
  {
   "cell_type": "code",
   "execution_count": 155,
   "metadata": {
    "scrolled": true
   },
   "outputs": [
    {
     "data": {
      "text/plain": [
       "{0: 0.00014883963426369522,\n",
       " 1: 0.0019493233179175415,\n",
       " 2: 0.010640611346117058,\n",
       " 3: 0.038394996728874475,\n",
       " 4: 0.08379152951658737,\n",
       " 5: 0.13820451382891366,\n",
       " 6: 0.18228891687177023,\n",
       " 7: 0.18482416345496483,\n",
       " 8: 0.13997019261149396,\n",
       " 9: 0.10449114686519483,\n",
       " 10: 0.06448005887108604,\n",
       " 11: 0.0263421135546416,\n",
       " 12: 0.014987358453782348,\n",
       " 13: 0.007247500654589202,\n",
       " 14: 0.0018749449056863234,\n",
       " 15: 0.00036378938411682905}"
      ]
     },
     "execution_count": 155,
     "metadata": {},
     "output_type": "execute_result"
    }
   ],
   "source": [
    "dis_s_dic_list[1]"
   ]
  },
  {
   "cell_type": "code",
   "execution_count": 156,
   "metadata": {
    "scrolled": true
   },
   "outputs": [
    {
     "data": {
      "text/plain": [
       "{0: 1.4771299368431013e-05,\n",
       " 1: 0.0005051132210191597,\n",
       " 2: 0.0036282768724194177,\n",
       " 3: 0.017575611858770632,\n",
       " 4: 0.04662919434643549,\n",
       " 5: 0.0977750691339818,\n",
       " 6: 0.15390141157351303,\n",
       " 7: 0.1851182793117323,\n",
       " 8: 0.16623691933867535,\n",
       " 9: 0.13549596117532534,\n",
       " 10: 0.09242020884167651,\n",
       " 11: 0.05265266007809221,\n",
       " 12: 0.02532555260779916,\n",
       " 13: 0.01249070312424487,\n",
       " 14: 0.007529480584714157,\n",
       " 15: 0.00270078663223231}"
      ]
     },
     "execution_count": 156,
     "metadata": {},
     "output_type": "execute_result"
    }
   ],
   "source": [
    "dis_s_dic_list[2]"
   ]
  },
  {
   "cell_type": "code",
   "execution_count": 157,
   "metadata": {
    "scrolled": true
   },
   "outputs": [
    {
     "data": {
      "text/plain": [
       "{0: 9.411449796856211e-06,\n",
       " 1: 9.126151610914658e-05,\n",
       " 2: 0.0008901865855726138,\n",
       " 3: 0.005218267994250634,\n",
       " 4: 0.019601698329848365,\n",
       " 5: 0.05319942384874861,\n",
       " 6: 0.10006115658395494,\n",
       " 7: 0.1474164890563359,\n",
       " 8: 0.1679700570373163,\n",
       " 9: 0.1741156565137859,\n",
       " 10: 0.13103117574973086,\n",
       " 11: 0.0923717767427565,\n",
       " 12: 0.050317924547994865,\n",
       " 13: 0.0358267266834028,\n",
       " 14: 0.011452970507559392,\n",
       " 15: 0.007593699673126297,\n",
       " 16: 0.0028321171797100636}"
      ]
     },
     "execution_count": 157,
     "metadata": {},
     "output_type": "execute_result"
    }
   ],
   "source": [
    "dis_s_dic_list[3]"
   ]
  },
  {
   "cell_type": "code",
   "execution_count": 158,
   "metadata": {
    "scrolled": true
   },
   "outputs": [],
   "source": [
    "#様子を見ながら削除\n",
    "del dis_s_dic_list[0][16]\n",
    "del dis_s_dic_list[3][16]"
   ]
  },
  {
   "cell_type": "code",
   "execution_count": 159,
   "metadata": {
    "scrolled": true
   },
   "outputs": [
    {
     "data": {
      "image/png": "[encoded data removed]",
      "text/plain": [
       "<Figure size 432x288 with 1 Axes>"
      ]
     },
     "metadata": {
      "needs_background": "light"
     },
     "output_type": "display_data"
    }
   ],
   "source": [
    "\"\"\"複数のグラフを重ねて描画\"\"\"\n",
    "fig, ax = plt.subplots()\n",
    "\n",
    "#s = np.arange(0, 20+1)\n",
    "s = np.linspace(0, 15, 15+1)\n",
    "\n",
    "y = [list(dis_s_dic_list[ii].values()) for ii in range(len(b_list))]\n",
    "\n",
    "c1,c2,c3,c4 = \"blue\",\"green\",\"red\",\"black\"      # 各プロットの色\n",
    "\n",
    "ll_list = ['beta='+ str(ll) for ll in b_list]\n",
    "\n",
    "ax.set_xlabel('Support')  # x軸ラベル\n",
    "ax.set_ylabel('Probability')  # y軸ラベル\n",
    "ax.set_title('sample from the respective Boltzmann distribution') # グラフタイトル\n",
    "\n",
    "ax.grid()  # 罫線\n",
    "\n",
    "ax.plot(s, y[0], color=c1, label=ll_list[0])\n",
    "ax.plot(s, y[1], color=c2, label=ll_list[1])\n",
    "ax.plot(s, y[2], color=c3, label=ll_list[2])\n",
    "ax.plot(s, y[3], color=c4, label=ll_list[3])\n",
    "\n",
    "ax.legend(loc=0)    # 凡例\n",
    "fig.tight_layout()  # レイアウトの設定\n",
    "\n",
    "plt.savefig('sample_Boltzdis.png') # 画像の保存\n",
    "plt.show()"
   ]
  },
  {
   "cell_type": "code",
   "execution_count": 194,
   "metadata": {
    "scrolled": true
   },
   "outputs": [
    {
     "data": {
      "text/html": [
       "<div>\n",
       "<style scoped>\n",
       "    .dataframe tbody tr th:only-of-type {\n",
       "        vertical-align: middle;\n",
       "    }\n",
       "\n",
       "    .dataframe tbody tr th {\n",
       "        vertical-align: top;\n",
       "    }\n",
       "\n",
       "    .dataframe thead th {\n",
       "        text-align: right;\n",
       "    }\n",
       "</style>\n",
       "<table border=\"1\" class=\"dataframe\">\n",
       "  <thead>\n",
       "    <tr style=\"text-align: right;\">\n",
       "      <th></th>\n",
       "      <th>1.0</th>\n",
       "      <th>7.6</th>\n",
       "      <th>13.7</th>\n",
       "      <th>20.0</th>\n",
       "    </tr>\n",
       "  </thead>\n",
       "  <tbody>\n",
       "    <tr>\n",
       "      <th>0</th>\n",
       "      <td>0.000621</td>\n",
       "      <td>0.000149</td>\n",
       "      <td>0.000015</td>\n",
       "      <td>0.000009</td>\n",
       "    </tr>\n",
       "    <tr>\n",
       "      <th>1</th>\n",
       "      <td>0.008059</td>\n",
       "      <td>0.001949</td>\n",
       "      <td>0.000505</td>\n",
       "      <td>0.000091</td>\n",
       "    </tr>\n",
       "    <tr>\n",
       "      <th>2</th>\n",
       "      <td>0.027158</td>\n",
       "      <td>0.010641</td>\n",
       "      <td>0.003628</td>\n",
       "      <td>0.000890</td>\n",
       "    </tr>\n",
       "    <tr>\n",
       "      <th>3</th>\n",
       "      <td>0.075959</td>\n",
       "      <td>0.038395</td>\n",
       "      <td>0.017576</td>\n",
       "      <td>0.005218</td>\n",
       "    </tr>\n",
       "    <tr>\n",
       "      <th>4</th>\n",
       "      <td>0.133834</td>\n",
       "      <td>0.083792</td>\n",
       "      <td>0.046629</td>\n",
       "      <td>0.019602</td>\n",
       "    </tr>\n",
       "  </tbody>\n",
       "</table>\n",
       "</div>"
      ],
      "text/plain": [
       "       1.0       7.6       13.7      20.0\n",
       "0  0.000621  0.000149  0.000015  0.000009\n",
       "1  0.008059  0.001949  0.000505  0.000091\n",
       "2  0.027158  0.010641  0.003628  0.000890\n",
       "3  0.075959  0.038395  0.017576  0.005218\n",
       "4  0.133834  0.083792  0.046629  0.019602"
      ]
     },
     "execution_count": 194,
     "metadata": {},
     "output_type": "execute_result"
    }
   ],
   "source": [
    "#makeing s_df\n",
    "sample_df_each = [pd.Series(dis_s_dic_list[ii]) for ii in range(len(b_list))]\n",
    "sample_df_concat = pd.concat(sample_df_each, axis=1)\n",
    "sample_df_concat.columns = b_list\n",
    "sample_df_concat\n",
    "\n",
    "s_range = 15\n",
    "sample_df_concat.head()"
   ]
  },
  {
   "cell_type": "code",
   "execution_count": 189,
   "metadata": {
    "scrolled": true
   },
   "outputs": [
    {
     "data": {
      "text/plain": [
       "0.010604309590970362"
      ]
     },
     "execution_count": 189,
     "metadata": {},
     "output_type": "execute_result"
    }
   ],
   "source": [
    "sum(sample_df_concat.iloc[1, :])"
   ]
  },
  {
   "cell_type": "code",
   "execution_count": 195,
   "metadata": {},
   "outputs": [
    {
     "data": {
      "text/plain": [
       "0.9999999999999999"
      ]
     },
     "execution_count": 195,
     "metadata": {},
     "output_type": "execute_result"
    }
   ],
   "source": [
    "sum(sample_df_concat.iloc[:, 1])"
   ]
  },
  {
   "cell_type": "code",
   "execution_count": 197,
   "metadata": {},
   "outputs": [],
   "source": [
    "#j = 1,..., k\n",
    "\n",
    "def H(s, j):\n",
    "    return sample_df_concat.iloc[s, j]\n",
    "\n",
    "def h(j):\n",
    "    return sum(sample_df_concat.iloc[:, j])\n",
    "\n",
    "def N(s):\n",
    "    chil = sum(sample_df_concat.iloc[s, :])\n",
    "    moth = sum([h(j)*math.exp(b[j]*s/q + f(j)) for j in range(b_list)])\n",
    "    return chil/moth\n",
    "\n",
    "def sigma(s):\n",
    "        return N(s)*math.exp(b[j]*s/q)\n",
    "    \n",
    "def f(j):\n",
    "    return math.log(sum([sigma(i) for i in range(s_range)]))\n",
    "\n",
    "def f_prime(j):\n",
    "    return -1/sum([sigma(i) for i in range(s_range)])\n",
    "\n",
    "def Newton(ini_num, err):\n",
    "    x_n = b_list[ini_num]\n",
    "    x_n_scc=0\n",
    "    count=0\n",
    "    while True:\n",
    "        count=count+1\n",
    "        x_n_scc=x_n-f(x_n)/f_prime(x_n)\n",
    "        if h(x_n_scc)<err:\n",
    "            break\n",
    "        x_n=x_n_scc\n",
    "    print(\\\n",
    "        \"数値解は\",x_n_scc,\\\n",
    "        \"\\nその時の関数の値は\",h(x_n_scc),\\\n",
    "        \"\\n計算回数は\",count,\"です\")"
   ]
  },
  {
   "cell_type": "code",
   "execution_count": 199,
   "metadata": {},
   "outputs": [],
   "source": [
    "#Newton(0,1/100000)    "
   ]
  },
  {
   "cell_type": "code",
   "execution_count": null,
   "metadata": {},
   "outputs": [],
   "source": []
  },
  {
   "cell_type": "code",
   "execution_count": 160,
   "metadata": {},
   "outputs": [],
   "source": [
    "x_comb_list = list(itertools.combinations(range(50), 3))"
   ]
  },
  {
   "cell_type": "code",
   "execution_count": 161,
   "metadata": {},
   "outputs": [],
   "source": [
    "#key->x, value->xの個数(s(x))\n",
    "sx_dic = {}\n",
    "for xx in x_comb_list:\n",
    "    for qq in range(q):\n",
    "        if set(list(xx)) <=  set(df_df.iloc[qq, :].tolist()):\n",
    "            if not xx in sx_dic:\n",
    "                sx_dic[xx] = 1\n",
    "            else:\n",
    "                sx_dic[xx] += 1\n",
    "    if not xx in list(sx_dic.keys()):\n",
    "        sx_dic[xx] = 0"
   ]
  },
  {
   "cell_type": "code",
   "execution_count": 162,
   "metadata": {},
   "outputs": [],
   "source": [
    "#N(s)が知りたい\n",
    "#key->s, value->xの個数(N(s))\n",
    "sx_values_list = sorted(list(sx_dic.values()))    \n",
    "s_ns_dic = {}\n",
    "for ss in sx_values_list:\n",
    "    if not ss in s_ns_dic:\n",
    "        s_ns_dic[ss] = 1\n",
    "    else:\n",
    "        s_ns_dic[ss] += 1"
   ]
  },
  {
   "cell_type": "code",
   "execution_count": 163,
   "metadata": {},
   "outputs": [],
   "source": [
    "dis_ns_dic_list = []\n",
    "for b in b_list:\n",
    "    #distribution of support\n",
    "    Zb = sum([s_ns_dic[jj]*math.exp(-b*(-jj/q)) for jj in s_ns_dic])\n",
    "\n",
    "    dis_s_dic = {}\n",
    "    for jj in s_ns_dic:\n",
    "        dis_s_dic[jj] = s_ns_dic[jj]*math.exp(-b*(-jj/q))/Zb\n",
    "    dis_ns_dic_list.append(dis_s_dic)"
   ]
  },
  {
   "cell_type": "code",
   "execution_count": 164,
   "metadata": {},
   "outputs": [
    {
     "data": {
      "text/plain": [
       "{0: 0.0005892939526042707,\n",
       " 1: 0.007584350056854819,\n",
       " 2: 0.030714355020696176,\n",
       " 3: 0.0807196673638065,\n",
       " 4: 0.13612108951239374,\n",
       " 5: 0.1787487139832466,\n",
       " 6: 0.18655067909143816,\n",
       " 7: 0.15559250694007884,\n",
       " 8: 0.10245473442861278,\n",
       " 9: 0.06490719158772729,\n",
       " 10: 0.03272163600885209,\n",
       " 11: 0.014912049784571984,\n",
       " 12: 0.005186349945261148,\n",
       " 13: 0.0023516094062236066,\n",
       " 14: 0.0005997787668622117,\n",
       " 15: 0.00018356853050172705,\n",
       " 16: 6.242562026820145e-05}"
      ]
     },
     "execution_count": 164,
     "metadata": {},
     "output_type": "execute_result"
    }
   ],
   "source": [
    "dis_ns_dic_list[0]"
   ]
  },
  {
   "cell_type": "code",
   "execution_count": 165,
   "metadata": {},
   "outputs": [
    {
     "data": {
      "text/plain": [
       "{0: 0.00025763172052190183,\n",
       " 1: 0.0037836642435946943,\n",
       " 2: 0.01748487341903845,\n",
       " 3: 0.05243573112803128,\n",
       " 4: 0.10090211103450736,\n",
       " 5: 0.15119750806793755,\n",
       " 6: 0.18006338637952773,\n",
       " 7: 0.17137368252868704,\n",
       " 8: 0.12876989878037334,\n",
       " 9: 0.09308978182147473,\n",
       " 10: 0.053551430306930395,\n",
       " 11: 0.0278484021702064,\n",
       " 12: 0.011052273564110465,\n",
       " 13: 0.005718496624669878,\n",
       " 14: 0.0016643115956529804,\n",
       " 15: 0.0005812576142076238,\n",
       " 16: 0.00022555900052797102}"
      ]
     },
     "execution_count": 165,
     "metadata": {},
     "output_type": "execute_result"
    }
   ],
   "source": [
    "dis_ns_dic_list[1]"
   ]
  },
  {
   "cell_type": "code",
   "execution_count": 166,
   "metadata": {},
   "outputs": [
    {
     "data": {
      "text/plain": [
       "{0: 0.00011100264521789454,\n",
       " 1: 0.001841749293909959,\n",
       " 2: 0.009615333247679124,\n",
       " 3: 0.03257715113472537,\n",
       " 4: 0.07082228816052732,\n",
       " 5: 0.11989422420157375,\n",
       " 6: 0.1613106230551735,\n",
       " 7: 0.17344652813543515,\n",
       " 8: 0.14723795031917955,\n",
       " 9: 0.12025173412588036,\n",
       " 10: 0.07815276311361623,\n",
       " 11: 0.045915304759867236,\n",
       " 12: 0.02058698470550439,\n",
       " 13: 0.012033914230285159,\n",
       " 14: 0.003956795531135569,\n",
       " 15: 0.0015612108155944593,\n",
       " 16: 0.0006844425246950082}"
      ]
     },
     "execution_count": 166,
     "metadata": {},
     "output_type": "execute_result"
    }
   ],
   "source": [
    "dis_ns_dic_list[2]"
   ]
  },
  {
   "cell_type": "code",
   "execution_count": 167,
   "metadata": {},
   "outputs": [
    {
     "data": {
      "text/plain": [
       "{0: 4.2739454288910437e-05,\n",
       " 1: 0.0008043540653379001,\n",
       " 2: 0.004763237039437956,\n",
       " 3: 0.018305098123454627,\n",
       " 4: 0.04513880083245874,\n",
       " 5: 0.08667611355002147,\n",
       " 6: 0.1322772755455735,\n",
       " 7: 0.16132771717293956,\n",
       " 8: 0.15534033779869158,\n",
       " 9: 0.14390534826155701,\n",
       " 10: 0.10608427894784458,\n",
       " 11: 0.07069444146292245,\n",
       " 12: 0.03595353878193502,\n",
       " 13: 0.023838389832219514,\n",
       " 14: 0.008890674675926405,\n",
       " 15: 0.00397899841807224,\n",
       " 16: 0.0019786560373185715}"
      ]
     },
     "execution_count": 167,
     "metadata": {},
     "output_type": "execute_result"
    }
   ],
   "source": [
    "dis_ns_dic_list[3]"
   ]
  },
  {
   "cell_type": "code",
   "execution_count": 168,
   "metadata": {},
   "outputs": [],
   "source": [
    "#様子を見ながら削除\n",
    "del dis_ns_dic_list[0][16]\n",
    "del dis_ns_dic_list[1][16]\n",
    "del dis_ns_dic_list[2][16]\n",
    "del dis_ns_dic_list[3][16]"
   ]
  },
  {
   "cell_type": "code",
   "execution_count": 169,
   "metadata": {},
   "outputs": [
    {
     "data": {
      "image/png": "[encoded data removed]",
      "text/plain": [
       "<Figure size 432x288 with 1 Axes>"
      ]
     },
     "metadata": {
      "needs_background": "light"
     },
     "output_type": "display_data"
    }
   ],
   "source": [
    "\"\"\"複数のグラフを重ねて描画\"\"\"\n",
    "fig, ax = plt.subplots()\n",
    "\n",
    "s = np.linspace(0, 15, 15+1)\n",
    "\n",
    "y_ = [list(dis_ns_dic_list[ii].values()) for ii in range(len(b_list))]\n",
    "\n",
    "c1,c2,c3,c4 = \"blue\",\"green\",\"red\",\"black\"      # 各プロットの色\n",
    "\n",
    "ll_list = ['beta='+ str(ll) for ll in b_list]\n",
    "\n",
    "ax.set_xlabel('Support')  # x軸ラベル\n",
    "ax.set_ylabel('Probability')  # y軸ラベル\n",
    "ax.set_title('true Boltzmann distribution') # グラフタイトル\n",
    "\n",
    "ax.grid()  # 罫線\n",
    "\n",
    "ax.plot(s, y_[0], color=c1, label=ll_list[0])\n",
    "ax.plot(s, y_[1], color=c2, label=ll_list[1])\n",
    "ax.plot(s, y_[2], color=c3, label=ll_list[2])\n",
    "ax.plot(s, y_[3], color=c4, label=ll_list[3])\n",
    "\n",
    "ax.legend(loc=0)    # 凡例\n",
    "fig.tight_layout()  # レイアウトの設定\n",
    "\n",
    "plt.savefig('true_Boltzdis.png') # 画像の保存\n",
    "plt.show()"
   ]
  },
  {
   "cell_type": "code",
   "execution_count": null,
   "metadata": {},
   "outputs": [],
   "source": []
  }
 ],
 "metadata": {
  "kernelspec": {
   "display_name": "Python 3",
   "language": "python",
   "name": "python3"
  },
  "language_info": {
   "codemirror_mode": {
    "name": "ipython",
    "version": 3
   },
   "file_extension": ".py",
   "mimetype": "text/x-python",
   "name": "python",
   "nbconvert_exporter": "python",
   "pygments_lexer": "ipython3",
   "version": "3.7.6"
  }
 },
 "nbformat": 4,
 "nbformat_minor": 4
}
