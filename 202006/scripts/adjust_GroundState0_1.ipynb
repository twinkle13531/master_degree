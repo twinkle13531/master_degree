{
 "cells": [
  {
   "cell_type": "markdown",
   "metadata": {},
   "source": [
    "# 不等式のQUBO変換を用いて基底エネルギー以下のサンプルを得る\n",
    "\n",
    "\n",
    "#### **このファイルのミッション**\n",
    "基底状態を0にする\n",
    "\n",
    "\n",
    "#### **データ、条件**\n",
    "small data"
   ]
  },
  {
   "cell_type": "markdown",
   "metadata": {},
   "source": [
    "### **調整してみたこと**\n",
    "- Xの標準化\n",
    "- 内積を用いて、絶対値としたこと"
   ]
  },
  {
   "cell_type": "markdown",
   "metadata": {},
   "source": [
    "### import"
   ]
  },
  {
   "cell_type": "code",
   "execution_count": 1,
   "metadata": {},
   "outputs": [],
   "source": [
    "#!pip3 install pyqubo"
   ]
  },
  {
   "cell_type": "code",
   "execution_count": 2,
   "metadata": {},
   "outputs": [],
   "source": [
    "import pandas as pd\n",
    "import numpy as np\n",
    "from sklearn.feature_selection import SelectKBest, f_regression\n",
    "import random\n",
    "from pyqubo import Array, OneHotEncInteger, solve_qubo\n",
    "import scipy.stats"
   ]
  },
  {
   "cell_type": "markdown",
   "metadata": {},
   "source": [
    "### 各変数"
   ]
  },
  {
   "cell_type": "code",
   "execution_count": 3,
   "metadata": {},
   "outputs": [],
   "source": [
    "# X\n",
    "#matrix = np.random.randn(5,5)\n",
    "#X_ori= pd.DataFrame(matrix, columns=list('ABCDE'))\n",
    "#X_ori\n",
    "\n",
    "# CSV ファイル (df1.csv) として出力\n",
    "#X_ori.to_csv(\"../input/df1.csv\")"
   ]
  },
  {
   "cell_type": "code",
   "execution_count": 4,
   "metadata": {},
   "outputs": [
    {
     "data": {
      "text/html": [
       "<div>\n",
       "<style scoped>\n",
       "    .dataframe tbody tr th:only-of-type {\n",
       "        vertical-align: middle;\n",
       "    }\n",
       "\n",
       "    .dataframe tbody tr th {\n",
       "        vertical-align: top;\n",
       "    }\n",
       "\n",
       "    .dataframe thead th {\n",
       "        text-align: right;\n",
       "    }\n",
       "</style>\n",
       "<table border=\"1\" class=\"dataframe\">\n",
       "  <thead>\n",
       "    <tr style=\"text-align: right;\">\n",
       "      <th></th>\n",
       "      <th>A</th>\n",
       "      <th>B</th>\n",
       "      <th>C</th>\n",
       "      <th>D</th>\n",
       "      <th>E</th>\n",
       "    </tr>\n",
       "  </thead>\n",
       "  <tbody>\n",
       "    <tr>\n",
       "      <th>0</th>\n",
       "      <td>-1.297303</td>\n",
       "      <td>-0.049925</td>\n",
       "      <td>0.185726</td>\n",
       "      <td>-0.580797</td>\n",
       "      <td>0.926729</td>\n",
       "    </tr>\n",
       "    <tr>\n",
       "      <th>1</th>\n",
       "      <td>1.129216</td>\n",
       "      <td>0.263337</td>\n",
       "      <td>-2.072408</td>\n",
       "      <td>0.269691</td>\n",
       "      <td>-0.565672</td>\n",
       "    </tr>\n",
       "    <tr>\n",
       "      <th>2</th>\n",
       "      <td>-1.140225</td>\n",
       "      <td>0.447902</td>\n",
       "      <td>-0.641875</td>\n",
       "      <td>-0.032109</td>\n",
       "      <td>0.415254</td>\n",
       "    </tr>\n",
       "    <tr>\n",
       "      <th>3</th>\n",
       "      <td>-1.004241</td>\n",
       "      <td>0.700738</td>\n",
       "      <td>-1.250194</td>\n",
       "      <td>-1.827180</td>\n",
       "      <td>1.972915</td>\n",
       "    </tr>\n",
       "    <tr>\n",
       "      <th>4</th>\n",
       "      <td>1.119464</td>\n",
       "      <td>0.248735</td>\n",
       "      <td>1.328148</td>\n",
       "      <td>0.295280</td>\n",
       "      <td>1.007603</td>\n",
       "    </tr>\n",
       "  </tbody>\n",
       "</table>\n",
       "</div>"
      ],
      "text/plain": [
       "          A         B         C         D         E\n",
       "0 -1.297303 -0.049925  0.185726 -0.580797  0.926729\n",
       "1  1.129216  0.263337 -2.072408  0.269691 -0.565672\n",
       "2 -1.140225  0.447902 -0.641875 -0.032109  0.415254\n",
       "3 -1.004241  0.700738 -1.250194 -1.827180  1.972915\n",
       "4  1.119464  0.248735  1.328148  0.295280  1.007603"
      ]
     },
     "execution_count": 4,
     "metadata": {},
     "output_type": "execute_result"
    }
   ],
   "source": [
    "X_ori = pd.read_csv(\"../input/df1.csv\", sep=',', index_col=0)\n",
    "X_ori"
   ]
  },
  {
   "cell_type": "code",
   "execution_count": 5,
   "metadata": {},
   "outputs": [
    {
     "data": {
      "text/plain": [
       "0    1\n",
       "1    0\n",
       "2    1\n",
       "3    1\n",
       "4    0\n",
       "dtype: int64"
      ]
     },
     "execution_count": 5,
     "metadata": {},
     "output_type": "execute_result"
    }
   ],
   "source": [
    "# y\n",
    "ori_y = pd.Series([1, 0, 1, 1, 0])\n",
    "ori_y"
   ]
  },
  {
   "cell_type": "code",
   "execution_count": 6,
   "metadata": {},
   "outputs": [],
   "source": [
    "selected_col_num = 2"
   ]
  },
  {
   "cell_type": "markdown",
   "metadata": {},
   "source": [
    "## 特徴量選択\n",
    "\n",
    "<br/>\n",
    "\n",
    "#### **ピアソンの相関係数**\n",
    "$\n",
    "r_{xy} = \\frac{{\\displaystyle \\sum_{i = 1}^n (x_i - \\overline{x})\n",
    "(y_i - \\overline{y})}}{\\sqrt{{\\displaystyle \\sum_{i = 1}^n \n",
    "(x_i - \\overline{x})^2}} \\sqrt{{\\displaystyle \\sum_{i = 1}^n \n",
    "(y_i - \\overline{y})^2}}} = \\frac{s_{xy}}{s_xs_y} = \\frac{x'・y'}{||x'||  ||y'||} = cosθ\n",
    "$\n",
    "\n",
    "- [２つのデータをベクトルと捉えると、n次元空間上の2本のベクトルの間の角度と捉える事ができる](https://www.slideshare.net/matsukenbook/5-55326268?next_slideshow=1)\n",
    "- どちらか一方でも標準偏差が0、分散が0のとき分母が0となり計算できないことに注意"
   ]
  },
  {
   "cell_type": "code",
   "execution_count": 7,
   "metadata": {},
   "outputs": [],
   "source": [
    "from decimal import *"
   ]
  },
  {
   "cell_type": "code",
   "execution_count": 8,
   "metadata": {},
   "outputs": [],
   "source": [
    "#標準偏差が0である列をなくす\n",
    "for each_col in X_ori.columns:\n",
    "    if not X_ori[each_col].std()>0:\n",
    "        X_ori.drop(each_col, axis=1)"
   ]
  },
  {
   "cell_type": "code",
   "execution_count": 10,
   "metadata": {},
   "outputs": [
    {
     "data": {
      "text/html": [
       "<div>\n",
       "<style scoped>\n",
       "    .dataframe tbody tr th:only-of-type {\n",
       "        vertical-align: middle;\n",
       "    }\n",
       "\n",
       "    .dataframe tbody tr th {\n",
       "        vertical-align: top;\n",
       "    }\n",
       "\n",
       "    .dataframe thead th {\n",
       "        text-align: right;\n",
       "    }\n",
       "</style>\n",
       "<table border=\"1\" class=\"dataframe\">\n",
       "  <thead>\n",
       "    <tr style=\"text-align: right;\">\n",
       "      <th></th>\n",
       "      <th>A</th>\n",
       "      <th>B</th>\n",
       "      <th>C</th>\n",
       "      <th>D</th>\n",
       "      <th>E</th>\n",
       "    </tr>\n",
       "  </thead>\n",
       "  <tbody>\n",
       "    <tr>\n",
       "      <th>0</th>\n",
       "      <td>-0.948036</td>\n",
       "      <td>-1.502995</td>\n",
       "      <td>0.576689</td>\n",
       "      <td>-0.259926</td>\n",
       "      <td>0.211537</td>\n",
       "    </tr>\n",
       "    <tr>\n",
       "      <th>1</th>\n",
       "      <td>1.224875</td>\n",
       "      <td>-0.237599</td>\n",
       "      <td>-1.350141</td>\n",
       "      <td>0.814379</td>\n",
       "      <td>-1.588719</td>\n",
       "    </tr>\n",
       "    <tr>\n",
       "      <th>2</th>\n",
       "      <td>-0.807376</td>\n",
       "      <td>0.507934</td>\n",
       "      <td>-0.129490</td>\n",
       "      <td>0.433156</td>\n",
       "      <td>-0.405446</td>\n",
       "    </tr>\n",
       "    <tr>\n",
       "      <th>3</th>\n",
       "      <td>-0.685604</td>\n",
       "      <td>1.529245</td>\n",
       "      <td>-0.648559</td>\n",
       "      <td>-1.834311</td>\n",
       "      <td>1.473533</td>\n",
       "    </tr>\n",
       "    <tr>\n",
       "      <th>4</th>\n",
       "      <td>1.216142</td>\n",
       "      <td>-0.296585</td>\n",
       "      <td>1.551500</td>\n",
       "      <td>0.846703</td>\n",
       "      <td>0.309095</td>\n",
       "    </tr>\n",
       "  </tbody>\n",
       "</table>\n",
       "</div>"
      ],
      "text/plain": [
       "          A         B         C         D         E\n",
       "0 -0.948036 -1.502995  0.576689 -0.259926  0.211537\n",
       "1  1.224875 -0.237599 -1.350141  0.814379 -1.588719\n",
       "2 -0.807376  0.507934 -0.129490  0.433156 -0.405446\n",
       "3 -0.685604  1.529245 -0.648559 -1.834311  1.473533\n",
       "4  1.216142 -0.296585  1.551500  0.846703  0.309095"
      ]
     },
     "execution_count": 10,
     "metadata": {},
     "output_type": "execute_result"
    }
   ],
   "source": [
    "#Xの要素を標準化(Standardization : 平均0分散1)\n",
    "X_standardization = pd.DataFrame(scipy.stats.zscore(X_ori), columns=X_ori.columns)\n",
    "X_standardization"
   ]
  },
  {
   "cell_type": "code",
   "execution_count": 11,
   "metadata": {},
   "outputs": [],
   "source": [
    "selector = SelectKBest(score_func=f_regression, k=selected_col_num) \n",
    "selector.fit(X_standardization, ori_y)\n",
    "mask = selector.get_support() "
   ]
  },
  {
   "cell_type": "code",
   "execution_count": 12,
   "metadata": {
    "scrolled": true
   },
   "outputs": [
    {
     "data": {
      "text/plain": [
       "['A', 'D']"
      ]
     },
     "execution_count": 12,
     "metadata": {},
     "output_type": "execute_result"
    }
   ],
   "source": [
    "select_cols = []\n",
    "else_cols = []\n",
    "for ii in range(len(mask)):\n",
    "    if mask[ii] == 1:\n",
    "        select_cols.append(X_standardization.columns[ii])\n",
    "    else:\n",
    "        else_cols.append(X_standardization.columns[ii])\n",
    "\n",
    "select_cols"
   ]
  },
  {
   "cell_type": "code",
   "execution_count": 14,
   "metadata": {},
   "outputs": [],
   "source": [
    "max_X_element = X_standardization.max(axis=1).max() \n",
    "min_X_element = X_standardization.min(axis=1).min() \n",
    "\n",
    "num_samples = X_standardization.shape[0]\n",
    "num_cols = X_standardization.shape[1]"
   ]
  },
  {
   "cell_type": "code",
   "execution_count": 17,
   "metadata": {},
   "outputs": [
    {
     "name": "stdout",
     "output_type": "stream",
     "text": [
      "-2.4410162734247844\n",
      "0.5341841098653275\n",
      "2\n",
      "(0, 0)\n",
      "--------------------\n",
      "-2.4410162734247844\n",
      "-0.20135913539440736\n",
      "3\n",
      "(0, 1)\n",
      "--------------------\n",
      "-2.4410162734247844\n",
      "1.2796242236271855\n",
      "2\n",
      "(0, 2)\n",
      "--------------------\n",
      "-1.6610813048025694\n",
      "0.5341841098653275\n",
      "2\n",
      "(1, 0)\n",
      "--------------------\n",
      "-1.6610813048025694\n",
      "-0.20135913539440736\n",
      "2\n",
      "(1, 1)\n",
      "--------------------\n",
      "-1.6610813048025694\n",
      "1.2796242236271855\n",
      "1\n",
      "(1, 2)\n",
      "--------------------\n"
     ]
    }
   ],
   "source": [
    "#内積での様子を知る\n",
    "\n",
    "ij = []\n",
    "ax_by = []\n",
    "for i in range(selected_col_num):\n",
    "    for j in range(num_cols - selected_col_num):\n",
    "        row_each_axby = abs(np.dot(X_standardization[select_cols[i]], ori_y)) - abs(np.dot(X_standardization[else_cols[j]], ori_y))\n",
    "        print(np.dot(X_standardization[select_cols[i]], ori_y))\n",
    "        print(np.dot(X_standardization[else_cols[j]], ori_y))\n",
    "        #print(row_each_axby)\n",
    "        print(int(row_each_axby + 1))\n",
    "        print((i, j))\n",
    "        ax_by.append(int(row_each_axby))\n",
    "        ij.append((i, j))\n",
    "        print('--------------------')"
   ]
  },
  {
   "cell_type": "code",
   "execution_count": 18,
   "metadata": {},
   "outputs": [
    {
     "name": "stdout",
     "output_type": "stream",
     "text": [
      "-0.9965407206201372\n",
      "0.21807974964548024\n",
      "1\n",
      "(0, 0)\n",
      "--------------------\n",
      "-0.9965407206201372\n",
      "-0.08220452279404826\n",
      "1\n",
      "(0, 1)\n",
      "--------------------\n",
      "-0.9965407206201372\n",
      "0.5224044017319465\n",
      "1\n",
      "(0, 2)\n",
      "--------------------\n",
      "-0.678133603007132\n",
      "0.21807974964548024\n",
      "1\n",
      "(1, 0)\n",
      "--------------------\n",
      "-0.678133603007132\n",
      "-0.08220452279404826\n",
      "1\n",
      "(1, 1)\n",
      "--------------------\n",
      "-0.678133603007132\n",
      "0.5224044017319465\n",
      "1\n",
      "(1, 2)\n",
      "--------------------\n"
     ]
    }
   ],
   "source": [
    "#今回変えた箇所　：　もともとは内積だった\n",
    "#相関係数は内積/長さ/長さ であり、とくにxの長さは毎回変わるので内積で比較はできないのだろうと考えたため。\n",
    "\n",
    "ij = []\n",
    "ax_by = []\n",
    "for i in range(selected_col_num):\n",
    "    for j in range(num_cols - selected_col_num):\n",
    "        row_each_axby = abs(np.corrcoef(X_standardization[select_cols[i]], ori_y)[0, 1]) - abs(np.corrcoef(X_standardization[else_cols[j]], ori_y)[0, 1])\n",
    "        print(np.corrcoef(X_standardization[select_cols[i]], ori_y)[0, 1])\n",
    "        print(np.corrcoef(X_standardization[else_cols[j]], ori_y)[0, 1])\n",
    "        #print(row_each_axby)\n",
    "        print(int(row_each_axby + 1))\n",
    "        print((i, j))\n",
    "        ax_by.append(int(row_each_axby))\n",
    "        ij.append((i, j))\n",
    "        print('--------------------')"
   ]
  },
  {
   "cell_type": "markdown",
   "metadata": {},
   "source": [
    "## すべての不等式が成り立つ：条件\n",
    "したいこと→ハミルトニアンを最小化させる（xを最適化）"
   ]
  },
  {
   "cell_type": "code",
   "execution_count": 19,
   "metadata": {},
   "outputs": [
    {
     "data": {
      "text/plain": [
       "0.9965407206201372"
      ]
     },
     "execution_count": 19,
     "metadata": {},
     "output_type": "execute_result"
    }
   ],
   "source": [
    "#特徴量として選ばれているのに、相関係数はマイナス。-1に限りなく近いマイナス。\n",
    "#負ではあるが相関しているために特徴量として選ばれているようだ。絶対値を取ることが必要そう。\n",
    "\n",
    "#np.corrcoef(X_standardization[select_cols[0]], ori_y)[0, 1]\n",
    "abs(np.corrcoef(X_standardization[select_cols[0]], ori_y)[0, 1])"
   ]
  },
  {
   "cell_type": "code",
   "execution_count": 20,
   "metadata": {},
   "outputs": [],
   "source": [
    "# W : ay - byの最大値\n",
    "\n",
    "#xの要素で最大値とxの要素の最小値を知れば推定はできる\n",
    "W = int((max_X_element *1*num_samples - min_X_element*1*num_samples)//1)"
   ]
  },
  {
   "cell_type": "code",
   "execution_count": 21,
   "metadata": {},
   "outputs": [],
   "source": [
    "#while not バージョン\n",
    "def make_y1(y_after):\n",
    "    select_index = random.randrange(num_samples)\n",
    "    y_after[select_index] = 1 - y_after[select_index]\n",
    "    while not y_after.std()>0:\n",
    "        select_index = random.randrange(num_samples)\n",
    "        y_after[select_index] = 1 - y_after[select_index]\n",
    "    return y_after"
   ]
  },
  {
   "cell_type": "code",
   "execution_count": 22,
   "metadata": {},
   "outputs": [],
   "source": [
    "# while True & if break バージョン\n",
    "def make_y(y_after):\n",
    "    while True:\n",
    "        select_index = random.randrange(num_samples)\n",
    "        y_after[select_index] = 1 - y_after[select_index]\n",
    "        if y_after.std():\n",
    "            #print(y_after.std())\n",
    "            break\n",
    "    return y_after "
   ]
  },
  {
   "cell_type": "code",
   "execution_count": 23,
   "metadata": {},
   "outputs": [],
   "source": [
    "def make_ax_by_dot(y_after):\n",
    "    ij = []\n",
    "    ax_by = []\n",
    "    for i in range(selected_col_num):\n",
    "        for j in range(num_cols - selected_col_num):\n",
    "            row_each_axby = abs(np.dot(X_standardization[select_cols[i]], y_after)) - abs(np.dot(X_standardization[else_cols[j]], y_after))\n",
    "            ax_by.append(int(row_each_axby + 1))\n",
    "            ij.append((i, j))\n",
    "    return ij, ax_by"
   ]
  },
  {
   "cell_type": "code",
   "execution_count": 24,
   "metadata": {},
   "outputs": [],
   "source": [
    "def H(ax_by, index_ax_by):\n",
    "    z = [0]*W\n",
    "        \n",
    "    each_ax_by = ax_by[index_ax_by]\n",
    "    int_each_axby = each_ax_by //1\n",
    "    sum_w_z = 0\n",
    "    \n",
    "    if int_each_axby >= 1:\n",
    "        z[int(int_each_axby)] = 1\n",
    "        sum_w_z = sum([int_each_axby*z[w] for w in range(W)])\n",
    "    else:\n",
    "        z[0] = 1\n",
    "        sum_w_z = sum([1*z[w] for w in range(W)])\n",
    "        \n",
    "    sum_z = sum(z)\n",
    "\n",
    "    ans_h =  (1-sum_z)**2 + (sum_w_z -  int(int_each_axby))**2\n",
    "    return ans_h"
   ]
  },
  {
   "cell_type": "code",
   "execution_count": 25,
   "metadata": {},
   "outputs": [],
   "source": [
    "def H_sum(ax_by):\n",
    "        H_sum =  sum([H(ax_by, index_ax_by) for index_ax_by in range(len(ax_by))])\n",
    "        return H_sum"
   ]
  },
  {
   "cell_type": "code",
   "execution_count": 26,
   "metadata": {},
   "outputs": [
    {
     "data": {
      "text/plain": [
       "0"
      ]
     },
     "execution_count": 26,
     "metadata": {},
     "output_type": "execute_result"
    }
   ],
   "source": [
    "ij, ax_by = make_ax_by_dot(ori_y)\n",
    "ori_H_sum = H_sum(ax_by)\n",
    "ori_H_sum"
   ]
  },
  {
   "cell_type": "code",
   "execution_count": 27,
   "metadata": {},
   "outputs": [],
   "source": [
    "#ori_yからはめでたいことに一つも出力されなくなった\n",
    "for index_ax_by in range(len(ax_by)):\n",
    "    if H(ax_by, index_ax_by) > 0:\n",
    "        print(H(ax_by, index_ax_by)) #Hの値を知る\n",
    "        print(ij[index_ax_by]) #どの特徴量同士から発生している問題か知る\n",
    "        print(ax_by[index_ax_by]) #マイナスになっているのか確認\n",
    "        print('--------')"
   ]
  },
  {
   "cell_type": "code",
   "execution_count": 28,
   "metadata": {},
   "outputs": [
    {
     "name": "stdout",
     "output_type": "stream",
     "text": [
      "0    0\n",
      "1    1\n",
      "2    0\n",
      "3    0\n",
      "4    1\n",
      "dtype: int64\n",
      "(1, 2)\n",
      "1\n",
      "--------\n",
      "0    0\n",
      "1    1\n",
      "2    0\n",
      "3    0\n",
      "4    1\n",
      "dtype: int64\n",
      "(1, 2)\n",
      "1\n",
      "--------\n"
     ]
    },
    {
     "data": {
      "text/plain": [
       "[[0, 1, 0, 0, 1]]"
      ]
     },
     "execution_count": 28,
     "metadata": {},
     "output_type": "execute_result"
    }
   ],
   "source": [
    "#yを変えてみて、どれだけダミーyがえられるのか調べてみる\n",
    "appropriate_y_list = []\n",
    "y_after = make_y(ori_y)\n",
    "for ii in range(100):\n",
    "    y_after = make_y(y_after)\n",
    "    ij, ax_by = make_ax_by_dot(y_after)\n",
    "    each_H_sum = H_sum(ax_by)\n",
    "    if each_H_sum == 0:\n",
    "        print(y_after)\n",
    "        print(ij[index_ax_by])\n",
    "        print(ax_by[index_ax_by])\n",
    "        print('--------')\n",
    "        if not list(y_after) in appropriate_y_list:\n",
    "            #appropriate_y_list.append(list(y_after))\n",
    "            appropriate_y_list.append(list(y_after))\n",
    "appropriate_y_list"
   ]
  },
  {
   "cell_type": "code",
   "execution_count": 31,
   "metadata": {},
   "outputs": [
    {
     "data": {
      "text/plain": [
       "array([ True, False, False,  True, False])"
      ]
     },
     "execution_count": 31,
     "metadata": {},
     "output_type": "execute_result"
    }
   ],
   "source": [
    "#本当に選ばれたyを用いるとA,Dが特徴量として選ばれるのか確認する。\n",
    "\n",
    "selector.fit(X_standardization, pd.Series(appropriate_y_list[0]))\n",
    "mask = selector.get_support()\n",
    "mask #たしかにA, DのみがTrue"
   ]
  },
  {
   "cell_type": "code",
   "execution_count": 32,
   "metadata": {},
   "outputs": [
    {
     "data": {
      "text/plain": [
       "array([ True, False, False,  True, False])"
      ]
     },
     "execution_count": 32,
     "metadata": {},
     "output_type": "execute_result"
    }
   ],
   "source": [
    "#相関係数を用いた計算では選ばれたが|内積|では選ばれなかった[1, 0, 1, 1, 0]について知る\n",
    "selector.fit(X_standardization, pd.Series([1, 0, 1, 1, 0]))\n",
    "mask = selector.get_support()\n",
    "mask #A, DのみがTrueなのは同じ"
   ]
  },
  {
   "cell_type": "code",
   "execution_count": 33,
   "metadata": {},
   "outputs": [
    {
     "data": {
      "text/plain": [
       "0"
      ]
     },
     "execution_count": 33,
     "metadata": {},
     "output_type": "execute_result"
    }
   ],
   "source": [
    "ij, ax_by = make_ax_by_dot(pd.Series([1, 0, 1, 1, 0]))\n",
    "each_H_sum = H_sum(ax_by)\n",
    "each_H_sum  #0だった。100回では得られなかっただけのようだ"
   ]
  },
  {
   "cell_type": "code",
   "execution_count": 34,
   "metadata": {},
   "outputs": [
    {
     "name": "stdout",
     "output_type": "stream",
     "text": [
      "0    1\n",
      "1    0\n",
      "2    1\n",
      "3    1\n",
      "4    0\n",
      "dtype: int64\n",
      "(1, 2)\n",
      "1\n",
      "--------\n",
      "0    1\n",
      "1    0\n",
      "2    1\n",
      "3    1\n",
      "4    0\n",
      "dtype: int64\n",
      "(1, 2)\n",
      "1\n",
      "--------\n",
      "0    1\n",
      "1    0\n",
      "2    1\n",
      "3    1\n",
      "4    0\n",
      "dtype: int64\n",
      "(1, 2)\n",
      "1\n",
      "--------\n",
      "0    0\n",
      "1    1\n",
      "2    0\n",
      "3    0\n",
      "4    1\n",
      "dtype: int64\n",
      "(1, 2)\n",
      "1\n",
      "--------\n",
      "0    0\n",
      "1    1\n",
      "2    0\n",
      "3    0\n",
      "4    1\n",
      "dtype: int64\n",
      "(1, 2)\n",
      "1\n",
      "--------\n",
      "0    0\n",
      "1    1\n",
      "2    0\n",
      "3    0\n",
      "4    1\n",
      "dtype: int64\n",
      "(1, 2)\n",
      "1\n",
      "--------\n",
      "0    1\n",
      "1    0\n",
      "2    1\n",
      "3    1\n",
      "4    0\n",
      "dtype: int64\n",
      "(1, 2)\n",
      "1\n",
      "--------\n",
      "0    0\n",
      "1    1\n",
      "2    0\n",
      "3    0\n",
      "4    1\n",
      "dtype: int64\n",
      "(1, 2)\n",
      "1\n",
      "--------\n",
      "0    0\n",
      "1    1\n",
      "2    0\n",
      "3    0\n",
      "4    1\n",
      "dtype: int64\n",
      "(1, 2)\n",
      "1\n",
      "--------\n",
      "0    1\n",
      "1    0\n",
      "2    1\n",
      "3    1\n",
      "4    0\n",
      "dtype: int64\n",
      "(1, 2)\n",
      "1\n",
      "--------\n",
      "0    0\n",
      "1    1\n",
      "2    0\n",
      "3    0\n",
      "4    1\n",
      "dtype: int64\n",
      "(1, 2)\n",
      "1\n",
      "--------\n",
      "0    0\n",
      "1    1\n",
      "2    0\n",
      "3    0\n",
      "4    1\n",
      "dtype: int64\n",
      "(1, 2)\n",
      "1\n",
      "--------\n",
      "0    0\n",
      "1    1\n",
      "2    0\n",
      "3    0\n",
      "4    1\n",
      "dtype: int64\n",
      "(1, 2)\n",
      "1\n",
      "--------\n",
      "0    0\n",
      "1    1\n",
      "2    0\n",
      "3    0\n",
      "4    1\n",
      "dtype: int64\n",
      "(1, 2)\n",
      "1\n",
      "--------\n",
      "0    0\n",
      "1    1\n",
      "2    0\n",
      "3    0\n",
      "4    1\n",
      "dtype: int64\n",
      "(1, 2)\n",
      "1\n",
      "--------\n",
      "0    1\n",
      "1    0\n",
      "2    1\n",
      "3    1\n",
      "4    0\n",
      "dtype: int64\n",
      "(1, 2)\n",
      "1\n",
      "--------\n",
      "0    1\n",
      "1    0\n",
      "2    1\n",
      "3    1\n",
      "4    0\n",
      "dtype: int64\n",
      "(1, 2)\n",
      "1\n",
      "--------\n"
     ]
    },
    {
     "data": {
      "text/plain": [
       "[[1, 0, 1, 1, 0], [0, 1, 0, 0, 1]]"
      ]
     },
     "execution_count": 34,
     "metadata": {},
     "output_type": "execute_result"
    }
   ],
   "source": [
    "#yを変えてみて、どれだけダミーyがえられるのか調べてみる\n",
    "appropriate_y_list = []\n",
    "y_after = make_y(ori_y)\n",
    "for ii in range(200):\n",
    "    y_after = make_y(y_after)\n",
    "    ij, ax_by = make_ax_by_dot(y_after)\n",
    "    each_H_sum = H_sum(ax_by)\n",
    "    if each_H_sum == 0:\n",
    "        print(y_after)\n",
    "        print(ij[index_ax_by])\n",
    "        print(ax_by[index_ax_by])\n",
    "        print('--------')\n",
    "        if not list(y_after) in appropriate_y_list:\n",
    "            #appropriate_y_list.append(list(y_after))\n",
    "            appropriate_y_list.append(list(y_after))\n",
    "appropriate_y_list #相関係数と同じy listを得ることができた。"
   ]
  },
  {
   "cell_type": "code",
   "execution_count": null,
   "metadata": {},
   "outputs": [],
   "source": []
  }
 ],
 "metadata": {
  "kernelspec": {
   "display_name": "Python 3",
   "language": "python",
   "name": "python3"
  },
  "language_info": {
   "codemirror_mode": {
    "name": "ipython",
    "version": 3
   },
   "file_extension": ".py",
   "mimetype": "text/x-python",
   "name": "python",
   "nbconvert_exporter": "python",
   "pygments_lexer": "ipython3",
   "version": "3.6.9"
  }
 },
 "nbformat": 4,
 "nbformat_minor": 4
}
