{
 "cells": [
  {
   "cell_type": "markdown",
   "metadata": {},
   "source": [
    "## 課題1\n",
    "- [QUBOとその解の探索](https://tsudalab.kibe.la/@kitai/1223)"
   ]
  },
  {
   "cell_type": "code",
   "execution_count": 2,
   "metadata": {},
   "outputs": [],
   "source": [
    "import numpy as np"
   ]
  },
  {
   "cell_type": "code",
   "execution_count": 3,
   "metadata": {},
   "outputs": [],
   "source": [
    "def f(x):\n",
    "    '''\n",
    "    x: 長さ4で要素に0, 1のみを持つNumpy行列\n",
    "    '''\n",
    "    assert np.all((x == 0) | (x == 1))\n",
    "    Q = np.array([\n",
    "    [ 1,  2, -1,  0],\n",
    "    [ 0, -1, -2, -1],\n",
    "    [ 0,  0, -2,  2],\n",
    "    [ 0,  0,  0,  0]\n",
    "    ])\n",
    "    return np.dot(x.T, np.dot(Q, x))"
   ]
  },
  {
   "cell_type": "code",
   "execution_count": 4,
   "metadata": {},
   "outputs": [],
   "source": [
    "def allX(n):\n",
    "    '''\n",
    "    長さnの0,1ベクトルの全パターンを列挙して2次元のNumpy行列として返す。\n",
    "    '''\n",
    "    Xs = np.arange(2**n).reshape((-1,1))\n",
    "    mask = 1 << np.arange(n-1, -1, -1).reshape((1,-1))\n",
    "    return (Xs & mask) / mask"
   ]
  },
  {
   "cell_type": "code",
   "execution_count": null,
   "metadata": {},
   "outputs": [],
   "source": []
  }
 ],
 "metadata": {
  "kernelspec": {
   "display_name": "Python 3",
   "language": "python",
   "name": "python3"
  },
  "language_info": {
   "codemirror_mode": {
    "name": "ipython",
    "version": 3
   },
   "file_extension": ".py",
   "mimetype": "text/x-python",
   "name": "python",
   "nbconvert_exporter": "python",
   "pygments_lexer": "ipython3",
   "version": "3.7.6"
  }
 },
 "nbformat": 4,
 "nbformat_minor": 4
}
