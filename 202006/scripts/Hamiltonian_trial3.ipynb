{
 "cells": [
  {
   "cell_type": "markdown",
   "metadata": {},
   "source": [
    "# 不等式のQUBO変換を用いて基底エネルギー以下のサンプルを得る\n",
    "- small data\n",
    "- SA using Pyqubo"
   ]
  },
  {
   "cell_type": "markdown",
   "metadata": {},
   "source": [
    "### import"
   ]
  },
  {
   "cell_type": "code",
   "execution_count": 1,
   "metadata": {},
   "outputs": [],
   "source": [
    "import pandas as pd\n",
    "import numpy as np\n",
    "from sklearn.feature_selection import SelectKBest, f_regression\n",
    "import random\n",
    "from pyqubo import Array, OneHotEncInteger, solve_qubo"
   ]
  },
  {
   "cell_type": "markdown",
   "metadata": {},
   "source": [
    "### 各変数"
   ]
  },
  {
   "cell_type": "code",
   "execution_count": 2,
   "metadata": {},
   "outputs": [
    {
     "data": {
      "text/html": [
       "<div>\n",
       "<style scoped>\n",
       "    .dataframe tbody tr th:only-of-type {\n",
       "        vertical-align: middle;\n",
       "    }\n",
       "\n",
       "    .dataframe tbody tr th {\n",
       "        vertical-align: top;\n",
       "    }\n",
       "\n",
       "    .dataframe thead th {\n",
       "        text-align: right;\n",
       "    }\n",
       "</style>\n",
       "<table border=\"1\" class=\"dataframe\">\n",
       "  <thead>\n",
       "    <tr style=\"text-align: right;\">\n",
       "      <th></th>\n",
       "      <th>A</th>\n",
       "      <th>B</th>\n",
       "      <th>C</th>\n",
       "      <th>D</th>\n",
       "      <th>E</th>\n",
       "      <th>F</th>\n",
       "    </tr>\n",
       "  </thead>\n",
       "  <tbody>\n",
       "    <tr>\n",
       "      <th>0</th>\n",
       "      <td>0.479386</td>\n",
       "      <td>-0.958332</td>\n",
       "      <td>-0.660104</td>\n",
       "      <td>-0.034278</td>\n",
       "      <td>1.097150</td>\n",
       "      <td>0.568359</td>\n",
       "    </tr>\n",
       "    <tr>\n",
       "      <th>1</th>\n",
       "      <td>1.041824</td>\n",
       "      <td>0.841728</td>\n",
       "      <td>-0.188132</td>\n",
       "      <td>0.520696</td>\n",
       "      <td>-0.119567</td>\n",
       "      <td>-0.292868</td>\n",
       "    </tr>\n",
       "    <tr>\n",
       "      <th>2</th>\n",
       "      <td>0.910752</td>\n",
       "      <td>-0.438261</td>\n",
       "      <td>1.334449</td>\n",
       "      <td>0.991943</td>\n",
       "      <td>-0.124563</td>\n",
       "      <td>-0.156023</td>\n",
       "    </tr>\n",
       "    <tr>\n",
       "      <th>3</th>\n",
       "      <td>-0.269907</td>\n",
       "      <td>-1.960551</td>\n",
       "      <td>-0.340431</td>\n",
       "      <td>0.898961</td>\n",
       "      <td>-0.168632</td>\n",
       "      <td>0.988616</td>\n",
       "    </tr>\n",
       "    <tr>\n",
       "      <th>4</th>\n",
       "      <td>1.765230</td>\n",
       "      <td>1.110544</td>\n",
       "      <td>-0.074837</td>\n",
       "      <td>0.028450</td>\n",
       "      <td>-0.227094</td>\n",
       "      <td>1.258755</td>\n",
       "    </tr>\n",
       "  </tbody>\n",
       "</table>\n",
       "</div>"
      ],
      "text/plain": [
       "          A         B         C         D         E         F\n",
       "0  0.479386 -0.958332 -0.660104 -0.034278  1.097150  0.568359\n",
       "1  1.041824  0.841728 -0.188132  0.520696 -0.119567 -0.292868\n",
       "2  0.910752 -0.438261  1.334449  0.991943 -0.124563 -0.156023\n",
       "3 -0.269907 -1.960551 -0.340431  0.898961 -0.168632  0.988616\n",
       "4  1.765230  1.110544 -0.074837  0.028450 -0.227094  1.258755"
      ]
     },
     "execution_count": 2,
     "metadata": {},
     "output_type": "execute_result"
    }
   ],
   "source": [
    "# X\n",
    "matrix = np.random.randn(5,6)\n",
    "X_ori= pd.DataFrame(matrix, columns=list('ABCDEF'))\n",
    "X_ori"
   ]
  },
  {
   "cell_type": "code",
   "execution_count": 3,
   "metadata": {
    "scrolled": false
   },
   "outputs": [
    {
     "data": {
      "text/plain": [
       "0    1\n",
       "1    0\n",
       "2    1\n",
       "3    1\n",
       "4    0\n",
       "dtype: int64"
      ]
     },
     "execution_count": 3,
     "metadata": {},
     "output_type": "execute_result"
    }
   ],
   "source": [
    "# y\n",
    "ori_y = pd.Series([1, 0, 1, 1, 0])\n",
    "ori_y"
   ]
  },
  {
   "cell_type": "code",
   "execution_count": 4,
   "metadata": {},
   "outputs": [],
   "source": [
    "selected_col_num = 1"
   ]
  },
  {
   "cell_type": "markdown",
   "metadata": {},
   "source": [
    "## 特徴量選択\n",
    " - select_cols, else_colsを決める"
   ]
  },
  {
   "cell_type": "code",
   "execution_count": 5,
   "metadata": {},
   "outputs": [],
   "source": [
    "selector = SelectKBest(score_func=f_regression, k=selected_col_num) \n",
    "selector.fit(X_ori, ori_y)\n",
    "mask = selector.get_support() "
   ]
  },
  {
   "cell_type": "code",
   "execution_count": 6,
   "metadata": {
    "scrolled": true
   },
   "outputs": [
    {
     "data": {
      "text/plain": [
       "['B']"
      ]
     },
     "execution_count": 6,
     "metadata": {},
     "output_type": "execute_result"
    }
   ],
   "source": [
    "select_cols = []\n",
    "else_cols = []\n",
    "for ii in range(len(mask)):\n",
    "    if mask[ii] == 0:\n",
    "        else_cols.append(X_ori.columns[ii])\n",
    "    else:\n",
    "         select_cols.append(X_ori.columns[ii])\n",
    "\n",
    "select_cols"
   ]
  },
  {
   "cell_type": "markdown",
   "metadata": {},
   "source": [
    "## すべての不等式が成り立つ：条件\n",
    "したいこと→ハミルトニアンを最小化させる（xを最適化）"
   ]
  },
  {
   "cell_type": "code",
   "execution_count": 7,
   "metadata": {},
   "outputs": [],
   "source": [
    "from decimal import *"
   ]
  },
  {
   "cell_type": "code",
   "execution_count": 8,
   "metadata": {},
   "outputs": [
    {
     "data": {
      "text/html": [
       "<div>\n",
       "<style scoped>\n",
       "    .dataframe tbody tr th:only-of-type {\n",
       "        vertical-align: middle;\n",
       "    }\n",
       "\n",
       "    .dataframe tbody tr th {\n",
       "        vertical-align: top;\n",
       "    }\n",
       "\n",
       "    .dataframe thead th {\n",
       "        text-align: right;\n",
       "    }\n",
       "</style>\n",
       "<table border=\"1\" class=\"dataframe\">\n",
       "  <thead>\n",
       "    <tr style=\"text-align: right;\">\n",
       "      <th></th>\n",
       "      <th>A</th>\n",
       "      <th>B</th>\n",
       "      <th>C</th>\n",
       "      <th>D</th>\n",
       "      <th>E</th>\n",
       "      <th>F</th>\n",
       "    </tr>\n",
       "  </thead>\n",
       "  <tbody>\n",
       "    <tr>\n",
       "      <th>0</th>\n",
       "      <td>0</td>\n",
       "      <td>-1</td>\n",
       "      <td>-1</td>\n",
       "      <td>0</td>\n",
       "      <td>1</td>\n",
       "      <td>1</td>\n",
       "    </tr>\n",
       "    <tr>\n",
       "      <th>1</th>\n",
       "      <td>1</td>\n",
       "      <td>1</td>\n",
       "      <td>0</td>\n",
       "      <td>1</td>\n",
       "      <td>0</td>\n",
       "      <td>0</td>\n",
       "    </tr>\n",
       "    <tr>\n",
       "      <th>2</th>\n",
       "      <td>1</td>\n",
       "      <td>0</td>\n",
       "      <td>1</td>\n",
       "      <td>1</td>\n",
       "      <td>0</td>\n",
       "      <td>0</td>\n",
       "    </tr>\n",
       "    <tr>\n",
       "      <th>3</th>\n",
       "      <td>0</td>\n",
       "      <td>-2</td>\n",
       "      <td>0</td>\n",
       "      <td>1</td>\n",
       "      <td>0</td>\n",
       "      <td>1</td>\n",
       "    </tr>\n",
       "    <tr>\n",
       "      <th>4</th>\n",
       "      <td>2</td>\n",
       "      <td>1</td>\n",
       "      <td>0</td>\n",
       "      <td>0</td>\n",
       "      <td>0</td>\n",
       "      <td>1</td>\n",
       "    </tr>\n",
       "  </tbody>\n",
       "</table>\n",
       "</div>"
      ],
      "text/plain": [
       "   A  B  C  D  E  F\n",
       "0  0 -1 -1  0  1  1\n",
       "1  1  1  0  1  0  0\n",
       "2  1  0  1  1  0  0\n",
       "3  0 -2  0  1  0  1\n",
       "4  2  1  0  0  0  1"
      ]
     },
     "execution_count": 8,
     "metadata": {},
     "output_type": "execute_result"
    }
   ],
   "source": [
    "#Xの要素をすべてintに置き換える\n",
    "X = pd.DataFrame(index=[])\n",
    "for col in X_ori.columns:\n",
    "    X[col] = X_ori[col].map(lambda x: int(Decimal(str(x)).quantize(Decimal('0'), rounding=ROUND_HALF_UP)))\n",
    "    \n",
    "X"
   ]
  },
  {
   "cell_type": "code",
   "execution_count": 9,
   "metadata": {},
   "outputs": [],
   "source": [
    "max_X_element = X.max(axis=1).max() \n",
    "min_X_element = X.min(axis=1).min() \n",
    "\n",
    "num_samples = X.shape[0]\n",
    "num_cols = X.shape[1]"
   ]
  },
  {
   "cell_type": "code",
   "execution_count": 10,
   "metadata": {},
   "outputs": [],
   "source": [
    "# W : ay - byの最大値\n",
    "\n",
    "#xの要素で最大値とxの要素の最小値を知れば推定はできる\n",
    "W = int((max_X_element *1*num_samples - min_X_element*1*num_samples)//1)"
   ]
  },
  {
   "cell_type": "code",
   "execution_count": 11,
   "metadata": {
    "scrolled": true
   },
   "outputs": [],
   "source": [
    "y = Array.create('y', shape=num_samples, vartype='BINARY')"
   ]
  },
  {
   "cell_type": "code",
   "execution_count": 12,
   "metadata": {},
   "outputs": [],
   "source": [
    "m_list = []\n",
    "for i in range(selected_col_num):\n",
    "    for j in range(num_cols - selected_col_num):\n",
    "        sel_list  = X[select_cols[i]].values.tolist()\n",
    "        else_list  = X[else_cols[j]].values.tolist()\n",
    "        m_list.append(y.dot(Array(sel_list)) - y.dot(Array(else_list)))"
   ]
  },
  {
   "cell_type": "code",
   "execution_count": 13,
   "metadata": {},
   "outputs": [
    {
     "data": {
      "text/plain": [
       "[((Binary(y[0])*Num(-1))+(Binary(y[1])*Num(1))+(Binary(y[2])*Num(0))+(Binary(y[3])*Num(-2))+(Binary(y[4])*Num(1))+(((Binary(y[0])*Num(0))+(Binary(y[1])*Num(1))+(Binary(y[2])*Num(1))+(Binary(y[3])*Num(0))+(Binary(y[4])*Num(2)))*Num(-1))),\n",
       " ((Binary(y[0])*Num(-1))+(Binary(y[1])*Num(1))+(Binary(y[2])*Num(0))+(Binary(y[3])*Num(-2))+(Binary(y[4])*Num(1))+(((Binary(y[0])*Num(-1))+(Binary(y[1])*Num(0))+(Binary(y[2])*Num(1))+(Binary(y[3])*Num(0))+(Binary(y[4])*Num(0)))*Num(-1))),\n",
       " ((Binary(y[0])*Num(-1))+(Binary(y[1])*Num(1))+(Binary(y[2])*Num(0))+(Binary(y[3])*Num(-2))+(Binary(y[4])*Num(1))+(((Binary(y[0])*Num(0))+(Binary(y[1])*Num(1))+(Binary(y[2])*Num(1))+(Binary(y[3])*Num(1))+(Binary(y[4])*Num(0)))*Num(-1))),\n",
       " ((Binary(y[0])*Num(-1))+(Binary(y[1])*Num(1))+(Binary(y[2])*Num(0))+(Binary(y[3])*Num(-2))+(Binary(y[4])*Num(1))+(((Binary(y[0])*Num(1))+(Binary(y[1])*Num(0))+(Binary(y[2])*Num(0))+(Binary(y[3])*Num(0))+(Binary(y[4])*Num(0)))*Num(-1))),\n",
       " ((Binary(y[0])*Num(-1))+(Binary(y[1])*Num(1))+(Binary(y[2])*Num(0))+(Binary(y[3])*Num(-2))+(Binary(y[4])*Num(1))+(((Binary(y[0])*Num(1))+(Binary(y[1])*Num(0))+(Binary(y[2])*Num(0))+(Binary(y[3])*Num(1))+(Binary(y[4])*Num(1)))*Num(-1)))]"
      ]
     },
     "execution_count": 13,
     "metadata": {},
     "output_type": "execute_result"
    }
   ],
   "source": [
    "m_list"
   ]
  },
  {
   "cell_type": "code",
   "execution_count": 14,
   "metadata": {},
   "outputs": [],
   "source": [
    "a = OneHotEncInteger(\"x\", 1, W, strength = 1)\n",
    "H_sum = sum((a-m)**2 for m in m_list)\n",
    "model = H_sum.compile()"
   ]
  },
  {
   "cell_type": "code",
   "execution_count": 15,
   "metadata": {},
   "outputs": [
    {
     "data": {
      "text/plain": [
       "{0: 0, 1: 0, 2: 0, 3: 0, 4: 0}"
      ]
     },
     "execution_count": 15,
     "metadata": {},
     "output_type": "execute_result"
    }
   ],
   "source": [
    "qubo, offset = model.to_qubo()\n",
    "\n",
    "#PyQUBOによるSA\n",
    "raw_solution = solve_qubo(qubo)\n",
    "\n",
    "# 得られた結果をデコードする\n",
    "decoded_solution, broken, energy = model.decode_solution(raw_solution, vartype=\"BINARY\")\n",
    "decoded_solution[\"y\"] "
   ]
  },
  {
   "cell_type": "code",
   "execution_count": 16,
   "metadata": {},
   "outputs": [
    {
     "data": {
      "text/plain": [
       "{'x': {0: 0,\n",
       "  10: 0,\n",
       "  11: 0,\n",
       "  12: 0,\n",
       "  13: 0,\n",
       "  14: 0,\n",
       "  15: 0,\n",
       "  16: 0,\n",
       "  17: 0,\n",
       "  18: 0,\n",
       "  19: 0,\n",
       "  1: 0,\n",
       "  2: 0,\n",
       "  3: 0,\n",
       "  4: 0,\n",
       "  5: 0,\n",
       "  6: 0,\n",
       "  7: 0,\n",
       "  8: 0,\n",
       "  9: 0},\n",
       " 'y': {0: 0, 1: 0, 2: 0, 3: 0, 4: 0}}"
      ]
     },
     "execution_count": 16,
     "metadata": {},
     "output_type": "execute_result"
    }
   ],
   "source": [
    "decoded_solution"
   ]
  },
  {
   "cell_type": "code",
   "execution_count": 17,
   "metadata": {},
   "outputs": [
    {
     "data": {
      "text/plain": [
       "{'x_const': {'result': {'x[13]': 0,\n",
       "   'x[6]': 0,\n",
       "   'x[0]': 0,\n",
       "   'x[7]': 0,\n",
       "   'x[2]': 0,\n",
       "   'x[4]': 0,\n",
       "   'x[8]': 0,\n",
       "   'x[11]': 0,\n",
       "   'x[17]': 0,\n",
       "   'x[1]': 0,\n",
       "   'x[14]': 0,\n",
       "   'x[12]': 0,\n",
       "   'x[3]': 0,\n",
       "   'x[5]': 0,\n",
       "   'x[9]': 0,\n",
       "   'x[10]': 0,\n",
       "   'x[18]': 0,\n",
       "   'x[16]': 0,\n",
       "   'x[19]': 0,\n",
       "   'x[15]': 0},\n",
       "  'penalty': 1.0}}"
      ]
     },
     "execution_count": 17,
     "metadata": {},
     "output_type": "execute_result"
    }
   ],
   "source": [
    "broken"
   ]
  },
  {
   "cell_type": "code",
   "execution_count": 18,
   "metadata": {},
   "outputs": [
    {
     "data": {
      "text/plain": [
       "15.0"
      ]
     },
     "execution_count": 18,
     "metadata": {},
     "output_type": "execute_result"
    }
   ],
   "source": [
    "energy "
   ]
  },
  {
   "cell_type": "markdown",
   "metadata": {},
   "source": [
    "#### 課題\n",
    "すべての$x$を出力したいが、できていない\n",
    "\n",
    "<br/>"
   ]
  },
  {
   "cell_type": "markdown",
   "metadata": {},
   "source": [
    "### 元のyで求められるエネルギーとenergy を比較したい\n",
    "- ori_H_sum : 元のyで求められるエネルギー"
   ]
  },
  {
   "cell_type": "code",
   "execution_count": 19,
   "metadata": {},
   "outputs": [],
   "source": [
    "def make_ax_by(y):\n",
    "    ax_by = []\n",
    "    for i in range(selected_col_num):\n",
    "        for j in range(num_cols - selected_col_num):\n",
    "            ax_by.append(np.dot(X[select_cols[i]], y) - np.dot(X[else_cols[j]], y))\n",
    "    return ax_by "
   ]
  },
  {
   "cell_type": "code",
   "execution_count": 20,
   "metadata": {},
   "outputs": [],
   "source": [
    "def H(ax_by, index_ax_by):\n",
    "    z = [0]*W\n",
    "        \n",
    "    each_axby = ax_by[index_ax_by]\n",
    "    sum_w_z = 0\n",
    "    \n",
    "    if each_axby > 0:\n",
    "        z[int(each_axby)] = 1\n",
    "        sum_w_z = sum([each_axby*z[w] for w in range(W)]) #正確には間違っているが、zの要素は1つ1がある以外全て0なので計算結果は合う\n",
    "    else:\n",
    "        z[0] = 1\n",
    "        sum_w_z = sum([1*z[w] for w in range(W)]) #一番小さいHを得られるのは z[0] = 1であるため、こう設定した\n",
    "        \n",
    "    sum_z = sum(z)\n",
    "    z_series = pd.Series(z)\n",
    "\n",
    "    ans_h =  (1-sum_z)**2 + (sum_w_z -  int(each_axby))**2\n",
    "    return ans_h,  z_series"
   ]
  },
  {
   "cell_type": "code",
   "execution_count": 21,
   "metadata": {},
   "outputs": [
    {
     "name": "stdout",
     "output_type": "stream",
     "text": [
      "138\n",
      "[25, 16, 36, 25, 36]\n",
      "    0  1  2  3  4\n",
      "0   1  1  1  1  1\n",
      "1   0  0  0  0  0\n",
      "2   0  0  0  0  0\n",
      "3   0  0  0  0  0\n",
      "4   0  0  0  0  0\n",
      "5   0  0  0  0  0\n",
      "6   0  0  0  0  0\n",
      "7   0  0  0  0  0\n",
      "8   0  0  0  0  0\n",
      "9   0  0  0  0  0\n",
      "10  0  0  0  0  0\n",
      "11  0  0  0  0  0\n",
      "12  0  0  0  0  0\n",
      "13  0  0  0  0  0\n",
      "14  0  0  0  0  0\n",
      "15  0  0  0  0  0\n",
      "16  0  0  0  0  0\n",
      "17  0  0  0  0  0\n",
      "18  0  0  0  0  0\n",
      "19  0  0  0  0  0\n"
     ]
    }
   ],
   "source": [
    "#know ori_H_sum\n",
    "ax_by = make_ax_by(ori_y)\n",
    "\n",
    "ori_H_sum =  sum([H(ax_by, index_ax_by)[0] for index_ax_by in range(len(ax_by))])\n",
    "ori_z_list =  [H(ax_by, index_ax_by)[1] for index_ax_by in range(len(ax_by))]\n",
    "ori_z_df = pd.concat(ori_z_list, axis = 1)\n",
    "\n",
    "print(ori_H_sum)\n",
    "print([H(ax_by, index_ax_by)[0] for index_ax_by in range(len(ax_by))])\n",
    "print(ori_z_df)"
   ]
  },
  {
   "cell_type": "code",
   "execution_count": 22,
   "metadata": {},
   "outputs": [
    {
     "name": "stdout",
     "output_type": "stream",
     "text": [
      "SAは成功していると考えられる\n"
     ]
    }
   ],
   "source": [
    "if ori_H_sum >= energy:\n",
    "    print('SAは成功していると考えられる')"
   ]
  },
  {
   "cell_type": "markdown",
   "metadata": {},
   "source": [
    "## SAで出したyが全ての不等式を満たしているかどうか"
   ]
  },
  {
   "cell_type": "code",
   "execution_count": 25,
   "metadata": {},
   "outputs": [],
   "source": [
    "sol_y =  pd.Series([0, 0, 0, 0, 0])"
   ]
  },
  {
   "cell_type": "code",
   "execution_count": 26,
   "metadata": {},
   "outputs": [
    {
     "data": {
      "text/plain": [
       "[0, 0, 0, 0, 0]"
      ]
     },
     "execution_count": 26,
     "metadata": {},
     "output_type": "execute_result"
    }
   ],
   "source": [
    "sol_ax_by = make_ax_by(sol_y)\n",
    "sol_ax_by "
   ]
  },
  {
   "cell_type": "code",
   "execution_count": 27,
   "metadata": {},
   "outputs": [],
   "source": [
    "ok = 0\n",
    "for  ii in sol_ax_by :\n",
    "    if ii > 0:\n",
    "        ok += 1\n",
    "if ok == len(sol_ax_by):\n",
    "    print('SAで出したyは全ての不等式を満たしている')"
   ]
  },
  {
   "cell_type": "code",
   "execution_count": null,
   "metadata": {},
   "outputs": [],
   "source": []
  }
 ],
 "metadata": {
  "kernelspec": {
   "display_name": "Python 3",
   "language": "python",
   "name": "python3"
  },
  "language_info": {
   "codemirror_mode": {
    "name": "ipython",
    "version": 3
   },
   "file_extension": ".py",
   "mimetype": "text/x-python",
   "name": "python",
   "nbconvert_exporter": "python",
   "pygments_lexer": "ipython3",
   "version": "3.7.6"
  }
 },
 "nbformat": 4,
 "nbformat_minor": 4
}
