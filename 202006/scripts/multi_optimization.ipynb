{
 "cells": [
  {
   "cell_type": "markdown",
   "metadata": {},
   "source": [
    "- [多目的最適化問題における満足化トレードオフ法を用いたロバスト設計](https://www.jstage.jst.go.jp/article/jacc/54/0/54_0_290/_pdf/-char/ja)\n",
    "\n",
    "- [初めてのベイズ学習](http://watanabe-www.math.dis.titech.ac.jp/users/swatanab/Bayestheory.html)\n",
    "- [The Density of States - a Measure of the Difficulty of Optimisation Problems](https://www.researchgate.net/publication/2677993_The_Density_of_States_-_a_Measure_of_the_Difficulty_of_Optimisation_Problems)\n",
    "- [構造学習理論と代数幾何学](http://watanabe-www.math.dis.titech.ac.jp/users/swatanab/johotusin20180910.pdf)"
   ]
  },
  {
   "cell_type": "markdown",
   "metadata": {},
   "source": [
    "パレート解とは、多目的最適化問題において、理想的な解にできるだけ近く、目的関数同士のバランスの異なる解のことです。\n",
    "複数のパレート解で構成される曲面をパレートフロンティアと呼びます。\n",
    "\n",
    "多目的最適化問題とは、改善したい目的関数が複数あり、なおかつそれらが互いに競合関係にある問題のことです。\n",
    "たとえば、性能向上vs低コスト、軽量化vs剛性向上などは多目的最適化問題といえます。\n",
    "\n",
    "多目的最適化では、一般にすべての目的関数を同時に最適にする解は存在せず、各目的関数の効率をギリギリまで高めた解をパレート解と呼び、意思決定の解の候補とする。これをパレートフロンティアという。"
   ]
  }
 ],
 "metadata": {
  "kernelspec": {
   "display_name": "Python 3",
   "language": "python",
   "name": "python3"
  },
  "language_info": {
   "codemirror_mode": {
    "name": "ipython",
    "version": 3
   },
   "file_extension": ".py",
   "mimetype": "text/x-python",
   "name": "python",
   "nbconvert_exporter": "python",
   "pygments_lexer": "ipython3",
   "version": "3.7.6"
  }
 },
 "nbformat": 4,
 "nbformat_minor": 4
}
