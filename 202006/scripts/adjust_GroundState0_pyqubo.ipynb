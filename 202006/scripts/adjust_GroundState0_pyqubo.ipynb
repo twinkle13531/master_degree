{
 "cells": [
  {
   "cell_type": "markdown",
   "metadata": {},
   "source": [
    "# 不等式のQUBO変換を用いて基底エネルギー以下のサンプルを得る\n",
    "- small data\n",
    "- SA using Pyqubo"
   ]
  },
  {
   "cell_type": "markdown",
   "metadata": {},
   "source": [
    "### import"
   ]
  },
  {
   "cell_type": "code",
   "execution_count": 1,
   "metadata": {},
   "outputs": [],
   "source": [
    "#!pip3 install pyqubo"
   ]
  },
  {
   "cell_type": "code",
   "execution_count": 2,
   "metadata": {},
   "outputs": [],
   "source": [
    "import pandas as pd\n",
    "import numpy as np\n",
    "from sklearn.feature_selection import SelectKBest, f_regression\n",
    "import random\n",
    "from pyqubo import Array, OneHotEncInteger, solve_qubo\n",
    "import scipy.stats\n",
    "import statistics"
   ]
  },
  {
   "cell_type": "markdown",
   "metadata": {},
   "source": [
    "### 各変数"
   ]
  },
  {
   "cell_type": "code",
   "execution_count": 3,
   "metadata": {},
   "outputs": [
    {
     "data": {
      "text/html": [
       "<div>\n",
       "<style scoped>\n",
       "    .dataframe tbody tr th:only-of-type {\n",
       "        vertical-align: middle;\n",
       "    }\n",
       "\n",
       "    .dataframe tbody tr th {\n",
       "        vertical-align: top;\n",
       "    }\n",
       "\n",
       "    .dataframe thead th {\n",
       "        text-align: right;\n",
       "    }\n",
       "</style>\n",
       "<table border=\"1\" class=\"dataframe\">\n",
       "  <thead>\n",
       "    <tr style=\"text-align: right;\">\n",
       "      <th></th>\n",
       "      <th>A</th>\n",
       "      <th>B</th>\n",
       "      <th>C</th>\n",
       "      <th>D</th>\n",
       "      <th>E</th>\n",
       "    </tr>\n",
       "  </thead>\n",
       "  <tbody>\n",
       "    <tr>\n",
       "      <th>0</th>\n",
       "      <td>-1.297303</td>\n",
       "      <td>-0.049925</td>\n",
       "      <td>0.185726</td>\n",
       "      <td>-0.580797</td>\n",
       "      <td>0.926729</td>\n",
       "    </tr>\n",
       "    <tr>\n",
       "      <th>1</th>\n",
       "      <td>1.129216</td>\n",
       "      <td>0.263337</td>\n",
       "      <td>-2.072408</td>\n",
       "      <td>0.269691</td>\n",
       "      <td>-0.565672</td>\n",
       "    </tr>\n",
       "    <tr>\n",
       "      <th>2</th>\n",
       "      <td>-1.140225</td>\n",
       "      <td>0.447902</td>\n",
       "      <td>-0.641875</td>\n",
       "      <td>-0.032109</td>\n",
       "      <td>0.415254</td>\n",
       "    </tr>\n",
       "    <tr>\n",
       "      <th>3</th>\n",
       "      <td>-1.004241</td>\n",
       "      <td>0.700738</td>\n",
       "      <td>-1.250194</td>\n",
       "      <td>-1.827180</td>\n",
       "      <td>1.972915</td>\n",
       "    </tr>\n",
       "    <tr>\n",
       "      <th>4</th>\n",
       "      <td>1.119464</td>\n",
       "      <td>0.248735</td>\n",
       "      <td>1.328148</td>\n",
       "      <td>0.295280</td>\n",
       "      <td>1.007603</td>\n",
       "    </tr>\n",
       "  </tbody>\n",
       "</table>\n",
       "</div>"
      ],
      "text/plain": [
       "          A         B         C         D         E\n",
       "0 -1.297303 -0.049925  0.185726 -0.580797  0.926729\n",
       "1  1.129216  0.263337 -2.072408  0.269691 -0.565672\n",
       "2 -1.140225  0.447902 -0.641875 -0.032109  0.415254\n",
       "3 -1.004241  0.700738 -1.250194 -1.827180  1.972915\n",
       "4  1.119464  0.248735  1.328148  0.295280  1.007603"
      ]
     },
     "execution_count": 3,
     "metadata": {},
     "output_type": "execute_result"
    }
   ],
   "source": [
    "# X\n",
    "matrix = np.random.randn(3,5)\n",
    "X_ori= pd.DataFrame(matrix, columns=list('ABCDE'))\n",
    "X_ori\n",
    "\n",
    "# CSV ファイル (df1.csv) として出力\n",
    "#X_ori.to_csv(\"../input/df1.csv\")\n",
    "X_ori = pd.read_csv(\"../input/df1.csv\", sep=',', index_col=0)\n",
    "X_ori"
   ]
  },
  {
   "cell_type": "code",
   "execution_count": 4,
   "metadata": {},
   "outputs": [
    {
     "data": {
      "text/plain": [
       "0    1\n",
       "1    0\n",
       "2    1\n",
       "3    1\n",
       "4    0\n",
       "dtype: int64"
      ]
     },
     "execution_count": 4,
     "metadata": {},
     "output_type": "execute_result"
    }
   ],
   "source": [
    "# y\n",
    "ori_y = pd.Series([1, 0, 1, 1, 0])\n",
    "ori_y"
   ]
  },
  {
   "cell_type": "code",
   "execution_count": 5,
   "metadata": {},
   "outputs": [],
   "source": [
    "selected_col_num = 2"
   ]
  },
  {
   "cell_type": "markdown",
   "metadata": {},
   "source": [
    "## 特徴量選択\n",
    " - select_cols, else_colsを決める"
   ]
  },
  {
   "cell_type": "code",
   "execution_count": 6,
   "metadata": {},
   "outputs": [],
   "source": [
    "from decimal import *"
   ]
  },
  {
   "cell_type": "code",
   "execution_count": 7,
   "metadata": {},
   "outputs": [],
   "source": [
    "#標準偏差が0である列をなくす\n",
    "for each_col in X_ori.columns:\n",
    "    if not X_ori[each_col].std()>0:\n",
    "        X_ori.drop(each_col, axis=1)"
   ]
  },
  {
   "cell_type": "code",
   "execution_count": 8,
   "metadata": {},
   "outputs": [
    {
     "data": {
      "text/html": [
       "<div>\n",
       "<style scoped>\n",
       "    .dataframe tbody tr th:only-of-type {\n",
       "        vertical-align: middle;\n",
       "    }\n",
       "\n",
       "    .dataframe tbody tr th {\n",
       "        vertical-align: top;\n",
       "    }\n",
       "\n",
       "    .dataframe thead th {\n",
       "        text-align: right;\n",
       "    }\n",
       "</style>\n",
       "<table border=\"1\" class=\"dataframe\">\n",
       "  <thead>\n",
       "    <tr style=\"text-align: right;\">\n",
       "      <th></th>\n",
       "      <th>A</th>\n",
       "      <th>B</th>\n",
       "      <th>C</th>\n",
       "      <th>D</th>\n",
       "      <th>E</th>\n",
       "    </tr>\n",
       "  </thead>\n",
       "  <tbody>\n",
       "    <tr>\n",
       "      <th>0</th>\n",
       "      <td>-0.948036</td>\n",
       "      <td>-1.502995</td>\n",
       "      <td>0.576689</td>\n",
       "      <td>-0.259926</td>\n",
       "      <td>0.211537</td>\n",
       "    </tr>\n",
       "    <tr>\n",
       "      <th>1</th>\n",
       "      <td>1.224875</td>\n",
       "      <td>-0.237599</td>\n",
       "      <td>-1.350141</td>\n",
       "      <td>0.814379</td>\n",
       "      <td>-1.588719</td>\n",
       "    </tr>\n",
       "    <tr>\n",
       "      <th>2</th>\n",
       "      <td>-0.807376</td>\n",
       "      <td>0.507934</td>\n",
       "      <td>-0.129490</td>\n",
       "      <td>0.433156</td>\n",
       "      <td>-0.405446</td>\n",
       "    </tr>\n",
       "    <tr>\n",
       "      <th>3</th>\n",
       "      <td>-0.685604</td>\n",
       "      <td>1.529245</td>\n",
       "      <td>-0.648559</td>\n",
       "      <td>-1.834311</td>\n",
       "      <td>1.473533</td>\n",
       "    </tr>\n",
       "    <tr>\n",
       "      <th>4</th>\n",
       "      <td>1.216142</td>\n",
       "      <td>-0.296585</td>\n",
       "      <td>1.551500</td>\n",
       "      <td>0.846703</td>\n",
       "      <td>0.309095</td>\n",
       "    </tr>\n",
       "  </tbody>\n",
       "</table>\n",
       "</div>"
      ],
      "text/plain": [
       "          A         B         C         D         E\n",
       "0 -0.948036 -1.502995  0.576689 -0.259926  0.211537\n",
       "1  1.224875 -0.237599 -1.350141  0.814379 -1.588719\n",
       "2 -0.807376  0.507934 -0.129490  0.433156 -0.405446\n",
       "3 -0.685604  1.529245 -0.648559 -1.834311  1.473533\n",
       "4  1.216142 -0.296585  1.551500  0.846703  0.309095"
      ]
     },
     "execution_count": 8,
     "metadata": {},
     "output_type": "execute_result"
    }
   ],
   "source": [
    "#Xの要素を標準化(Standardization : 平均0分散1)\n",
    "X_standar = pd.DataFrame(scipy.stats.zscore(X_ori), columns=X_ori.columns)\n",
    "X_standar"
   ]
  },
  {
   "cell_type": "code",
   "execution_count": 9,
   "metadata": {},
   "outputs": [],
   "source": [
    "selector = SelectKBest(score_func=f_regression, k=selected_col_num) \n",
    "selector.fit(X_standar, ori_y)\n",
    "mask = selector.get_support() "
   ]
  },
  {
   "cell_type": "code",
   "execution_count": 10,
   "metadata": {
    "scrolled": true
   },
   "outputs": [
    {
     "data": {
      "text/plain": [
       "['A', 'D']"
      ]
     },
     "execution_count": 10,
     "metadata": {},
     "output_type": "execute_result"
    }
   ],
   "source": [
    "select_cols = []\n",
    "else_cols = []\n",
    "for ii in range(len(mask)):\n",
    "    if mask[ii] == 0:\n",
    "        else_cols.append(X_standar.columns[ii])\n",
    "    else:\n",
    "         select_cols.append(X_standar.columns[ii])\n",
    "\n",
    "select_cols"
   ]
  },
  {
   "cell_type": "markdown",
   "metadata": {},
   "source": [
    "## すべての不等式が成り立つ：条件\n",
    "したいこと→ハミルトニアンを最小化させる（xを最適化）"
   ]
  },
  {
   "cell_type": "code",
   "execution_count": 11,
   "metadata": {},
   "outputs": [],
   "source": [
    "max_X_element = X_standar.max(axis=1).max() \n",
    "min_X_element = X_standar.min(axis=1).min() \n",
    "\n",
    "num_samples = X_standar.shape[0]\n",
    "num_cols = X_standar.shape[1]"
   ]
  },
  {
   "cell_type": "code",
   "execution_count": 12,
   "metadata": {},
   "outputs": [],
   "source": [
    "# W : ay - byの最大値\n",
    "\n",
    "#xの要素で最大値とxの要素の最小値を知れば推定はできる\n",
    "W = int((max_X_element *1*num_samples - min_X_element*1*num_samples)//1)"
   ]
  },
  {
   "cell_type": "code",
   "execution_count": 13,
   "metadata": {
    "scrolled": true
   },
   "outputs": [],
   "source": [
    "y = Array.create('y', shape=num_samples, vartype='BINARY')"
   ]
  },
  {
   "cell_type": "code",
   "execution_count": 14,
   "metadata": {},
   "outputs": [],
   "source": [
    "#内積ではなくて相関係数（もどき）を使うことにする\n",
    "m_list = []\n",
    "for i in range(selected_col_num):\n",
    "    for j in range(num_cols - selected_col_num):\n",
    "        sel_list = X_standar[select_cols[i]].values.tolist()\n",
    "        else_list = X_standar[else_cols[j]].values.tolist()\n",
    "        each_m = y.dot(Array(sel_list))/statistics.pstdev(sel_list)**2**0.5 - y.dot(Array(else_list))/statistics.pstdev(else_list)**2**0.5\n",
    "        m_list.append(each_m)"
   ]
  },
  {
   "cell_type": "code",
   "execution_count": 15,
   "metadata": {},
   "outputs": [
    {
     "data": {
      "text/plain": [
       "[((((Binary(y[0])*Num(-0.9480364220048371))+(Binary(y[1])*Num(1.2248745312842604))+(Binary(y[2])*Num(-0.807375760737013))+(Binary(y[3])*Num(-0.6856040906829342))+(Binary(y[4])*Num(1.2161417421405236)))*Num(1.0))+((((Binary(y[0])*Num(-1.5029954355850952))+(Binary(y[1])*Num(-0.23759877688955197))+(Binary(y[2])*Num(0.5079341001366204))+(Binary(y[3])*Num(1.5292454453138022))+(Binary(y[4])*Num(-0.2965853329757752)))*Num(1.0))*Num(-1))),\n",
       " ((((Binary(y[0])*Num(-0.9480364220048371))+(Binary(y[1])*Num(1.2248745312842604))+(Binary(y[2])*Num(-0.807375760737013))+(Binary(y[3])*Num(-0.6856040906829342))+(Binary(y[4])*Num(1.2161417421405236)))*Num(1.0))+((((Binary(y[0])*Num(0.5766893301292317))+(Binary(y[1])*Num(-1.3501409788166288))+(Binary(y[2])*Num(-0.12948960878414023))+(Binary(y[3])*Num(-0.6485588567394989))+(Binary(y[4])*Num(1.5515001142110358)))*Num(1.0000000000000002))*Num(-1))),\n",
       " ((((Binary(y[0])*Num(-0.9480364220048371))+(Binary(y[1])*Num(1.2248745312842604))+(Binary(y[2])*Num(-0.807375760737013))+(Binary(y[3])*Num(-0.6856040906829342))+(Binary(y[4])*Num(1.2161417421405236)))*Num(1.0))+((((Binary(y[0])*Num(0.21153719505237928))+(Binary(y[1])*Num(-1.588718920719315))+(Binary(y[2])*Num(-0.4054456351929068))+(Binary(y[3])*Num(1.473532663767713))+(Binary(y[4])*Num(0.3090946970921294)))*Num(1.0))*Num(-1))),\n",
       " ((((Binary(y[0])*Num(-0.259926090256153))+(Binary(y[1])*Num(0.8143788027776254))+(Binary(y[2])*Num(0.4331557164475913))+(Binary(y[3])*Num(-1.8343109309940078))+(Binary(y[4])*Num(0.8467025020249445)))*Num(1.0000000000000004))+((((Binary(y[0])*Num(-1.5029954355850952))+(Binary(y[1])*Num(-0.23759877688955197))+(Binary(y[2])*Num(0.5079341001366204))+(Binary(y[3])*Num(1.5292454453138022))+(Binary(y[4])*Num(-0.2965853329757752)))*Num(1.0))*Num(-1))),\n",
       " ((((Binary(y[0])*Num(-0.259926090256153))+(Binary(y[1])*Num(0.8143788027776254))+(Binary(y[2])*Num(0.4331557164475913))+(Binary(y[3])*Num(-1.8343109309940078))+(Binary(y[4])*Num(0.8467025020249445)))*Num(1.0000000000000004))+((((Binary(y[0])*Num(0.5766893301292317))+(Binary(y[1])*Num(-1.3501409788166288))+(Binary(y[2])*Num(-0.12948960878414023))+(Binary(y[3])*Num(-0.6485588567394989))+(Binary(y[4])*Num(1.5515001142110358)))*Num(1.0000000000000002))*Num(-1))),\n",
       " ((((Binary(y[0])*Num(-0.259926090256153))+(Binary(y[1])*Num(0.8143788027776254))+(Binary(y[2])*Num(0.4331557164475913))+(Binary(y[3])*Num(-1.8343109309940078))+(Binary(y[4])*Num(0.8467025020249445)))*Num(1.0000000000000004))+((((Binary(y[0])*Num(0.21153719505237928))+(Binary(y[1])*Num(-1.588718920719315))+(Binary(y[2])*Num(-0.4054456351929068))+(Binary(y[3])*Num(1.473532663767713))+(Binary(y[4])*Num(0.3090946970921294)))*Num(1.0))*Num(-1)))]"
      ]
     },
     "execution_count": 15,
     "metadata": {},
     "output_type": "execute_result"
    }
   ],
   "source": [
    "m_list"
   ]
  },
  {
   "cell_type": "code",
   "execution_count": 16,
   "metadata": {},
   "outputs": [],
   "source": [
    "H_sum = sum((OneHotEncInteger(\"x\", 1, W, strength = 1)-m)**2 for m in m_list)\n",
    "model = H_sum.compile()"
   ]
  },
  {
   "cell_type": "code",
   "execution_count": 17,
   "metadata": {},
   "outputs": [
    {
     "data": {
      "text/plain": [
       "{0: 0, 1: 1, 2: 0, 3: 0, 4: 0}"
      ]
     },
     "execution_count": 17,
     "metadata": {},
     "output_type": "execute_result"
    }
   ],
   "source": [
    "qubo, offset = model.to_qubo()\n",
    "\n",
    "#PyQUBOによるSA\n",
    "raw_solution = solve_qubo(qubo)\n",
    "\n",
    "# 得られた結果をデコードする\n",
    "decoded_solution, broken, energy = model.decode_solution(raw_solution, vartype=\"BINARY\")\n",
    "decoded_solution[\"y\"] "
   ]
  },
  {
   "cell_type": "markdown",
   "metadata": {},
   "source": [
    "### 出力結果の記録\n",
    "|  y  | energy |全探索で得られたかどうか|コメント|\n",
    "| ---- | ---- | ---- | ---- |\n",
    "| (1, 1, 1, 0, 1) |8.15741678762907||コメント|\n",
    "| (0, 1, 0, 0, 1) |16.121628397329548|✔|全探索ではエネルギー0だったのに|\n",
    "| (1, 1, 0, 0, 0) |1.5653947899485452||コメント|\n",
    "| (0, 1, 1, 0, 1) |6.302600000842226||コメント|\n",
    "| (0, 1, 0, 0, 0) |2.3698131291032265||コメント|\n",
    "| (1, 1, 1, 1, ,1) |6.0||内積ならいいが相関係数ではエラーとなる|\n",
    "| (0, 1, 0, 0, 1) |15.059246135573005|✔|全探索ではエネルギー0だったのに、しかもエネルギーが前回のpyqubo出力値から変化した|\n",
    "| (0, 1, 0, 0, 0) |2.3698131291032265||コメント|\n",
    "| (0, 1, 1, 0, 0) |6.729759524817439||コメント|\n",
    "| (1, 1, 0, 0, 0) |1.5653947899485452||コメント|\n",
    "| (0, 1, 1, 1, 1) |8.056104055714982||コメント|\n",
    "| (0, 1, 1, 1, 1) |8.056104055714982||コメント|\n",
    "| (0, 1, 0, 1, 1) |8.916665170674364||コメント|\n",
    "| (1, 1, 0, 0, 0) |11.012739511827256||エネルギーが前回のpyqubo出力値から変化した|\n",
    "| (0, 0, 0, 0, 0) |6.0||内積ならいいが相関係数ではエラーとなる|\n",
    "| (0, 1, 0, 1, 1) |8.916665170674364||コメント|\n",
    "| (0, 1, 1, 0, 0) |6.729759524817439||コメント|\n",
    "| (0, 1, 1, 0, 1) |6.302600000842226||コメント|\n",
    "| (1, 1, 1, 1, ,1) |18.0||内積ならいいが相関係数ではエラーとなる, しかもエネルギーが前回のpyqubo出力値から変化した|\n",
    ":\n",
    ":\n",
    ":"
   ]
  },
  {
   "cell_type": "code",
   "execution_count": 18,
   "metadata": {},
   "outputs": [
    {
     "data": {
      "text/plain": [
       "2.3698131291032265"
      ]
     },
     "execution_count": 18,
     "metadata": {},
     "output_type": "execute_result"
    }
   ],
   "source": [
    "energy "
   ]
  },
  {
   "cell_type": "markdown",
   "metadata": {},
   "source": [
    "#### 課題\n",
    "元のyで求められるエネルギーは0であるので、適した解以外も多く出力されていることになる\n",
    "<br/>"
   ]
  },
  {
   "cell_type": "code",
   "execution_count": null,
   "metadata": {},
   "outputs": [],
   "source": []
  },
  {
   "cell_type": "markdown",
   "metadata": {},
   "source": [
    "### PyQuboで出力されたyを使ってエネルギーを求めてみる"
   ]
  },
  {
   "cell_type": "code",
   "execution_count": 243,
   "metadata": {},
   "outputs": [],
   "source": [
    "def make_ax_by(y_after):\n",
    "    ij = []\n",
    "    ax_by = []\n",
    "    for i in range(selected_col_num):\n",
    "        for j in range(num_cols - selected_col_num):\n",
    "            row_each_axby = abs(np.corrcoef(X_standardization[select_cols[i]], y_after)[0, 1]) - abs(np.corrcoef(X_standardization[else_cols[j]], y_after)[0, 1])\n",
    "            ax_by.append(int(row_each_axby + 1))\n",
    "            ij.append((i, j))\n",
    "    return ij, ax_by"
   ]
  },
  {
   "cell_type": "code",
   "execution_count": 244,
   "metadata": {},
   "outputs": [],
   "source": [
    "def H(ax_by, index_ax_by):\n",
    "    z = [0]*W\n",
    "        \n",
    "    each_ax_by = ax_by[index_ax_by]\n",
    "    int_each_axby = each_ax_by //1\n",
    "    sum_w_z = 0\n",
    "    \n",
    "    if int_each_axby >= 1:\n",
    "        z[int(int_each_axby)] = 1\n",
    "        sum_w_z = sum([int_each_axby*z[w] for w in range(W)])\n",
    "    else:\n",
    "        z[0] = 1\n",
    "        sum_w_z = sum([1*z[w] for w in range(W)])\n",
    "        \n",
    "    sum_z = sum(z)\n",
    "\n",
    "    ans_h =  (1-sum_z)**2 + (sum_w_z -  int(int_each_axby))**2\n",
    "    return ans_h"
   ]
  },
  {
   "cell_type": "code",
   "execution_count": 245,
   "metadata": {},
   "outputs": [],
   "source": [
    "def H_sum(ax_by):\n",
    "        H_sum =  sum([H(ax_by, index_ax_by) for index_ax_by in range(len(ax_by))])\n",
    "        return H_sum"
   ]
  },
  {
   "cell_type": "code",
   "execution_count": 246,
   "metadata": {},
   "outputs": [
    {
     "data": {
      "text/plain": [
       "1"
      ]
     },
     "execution_count": 246,
     "metadata": {},
     "output_type": "execute_result"
    }
   ],
   "source": [
    "y = pd.Series([0, 1, 1, 0, 1])\n",
    "ij, ax_by = make_ax_by(y)\n",
    "pyqubo_H_sum = H_sum(ax_by)\n",
    "pyqubo_H_sum"
   ]
  },
  {
   "cell_type": "code",
   "execution_count": 22,
   "metadata": {},
   "outputs": [
    {
     "name": "stdout",
     "output_type": "stream",
     "text": [
      "SAは成功していると考えられる\n"
     ]
    }
   ],
   "source": [
    "if ori_H_sum >= energy:\n",
    "    print('SAは成功していると考えられる')"
   ]
  },
  {
   "cell_type": "markdown",
   "metadata": {},
   "source": [
    "## SAで出したyが全ての不等式を満たしているかどうか"
   ]
  },
  {
   "cell_type": "code",
   "execution_count": 23,
   "metadata": {},
   "outputs": [],
   "source": [
    "sol_y =  pd.Series([0, 1, 0])"
   ]
  },
  {
   "cell_type": "code",
   "execution_count": 24,
   "metadata": {},
   "outputs": [
    {
     "data": {
      "text/plain": [
       "[2, 2, 2, 0]"
      ]
     },
     "execution_count": 24,
     "metadata": {},
     "output_type": "execute_result"
    }
   ],
   "source": [
    "sol_ax_by = make_ax_by(sol_y)\n",
    "sol_ax_by "
   ]
  },
  {
   "cell_type": "code",
   "execution_count": 25,
   "metadata": {},
   "outputs": [
    {
     "name": "stdout",
     "output_type": "stream",
     "text": [
      "SAで出したyは全ての不等式を満たしている\n"
     ]
    }
   ],
   "source": [
    "ok = 0\n",
    "for  ii in sol_ax_by :\n",
    "    if ii >= 0:\n",
    "        ok += 1\n",
    "if ok == len(sol_ax_by):\n",
    "    print('SAで出したyは全ての不等式を満たしている')"
   ]
  },
  {
   "cell_type": "markdown",
   "metadata": {},
   "source": [
    "## 結果\n",
    "- `SAは成功していると考えられる`, `SAで出したyは全ての不等式を満たしている`両方を満たしていない結果も出る"
   ]
  },
  {
   "cell_type": "code",
   "execution_count": null,
   "metadata": {},
   "outputs": [],
   "source": []
  }
 ],
 "metadata": {
  "kernelspec": {
   "display_name": "Python 3",
   "language": "python",
   "name": "python3"
  },
  "language_info": {
   "codemirror_mode": {
    "name": "ipython",
    "version": 3
   },
   "file_extension": ".py",
   "mimetype": "text/x-python",
   "name": "python",
   "nbconvert_exporter": "python",
   "pygments_lexer": "ipython3",
   "version": "3.6.9"
  }
 },
 "nbformat": 4,
 "nbformat_minor": 4
}
