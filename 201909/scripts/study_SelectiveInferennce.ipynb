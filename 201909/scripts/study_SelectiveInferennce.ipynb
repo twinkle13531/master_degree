{
 "cells": [
  {
   "cell_type": "markdown",
   "metadata": {},
   "source": [
    "## R Package ‘selectiveInference’ -September 7, 2019"
   ]
  },
  {
   "cell_type": "markdown",
   "metadata": {},
   "source": [
    "## 📖Sparse Networks from Scratch\n",
    "https://qiita.com/chobaken/items/0d7e440aff2203bac0e8\n",
    "\n",
    "- sparse learning...「Scratchから疎なネットワークを学習する」従来の疎なネットワークの学習手法としては、まずはじめに密なネットワークを学習・構築してから、重要な部分だけを残すという手法がほとんどでした。つまり、従来の手法では密なモデルの学習が必須であり、学習にかかる時間がネックでした。\n",
    "- Sparse Learningは大きく分けて以下の三つの手順に分解されます。\n",
    " 1. モデル全体に対する各レイヤの貢献度を計算する\n",
    " 2. 貢献度の低いweightsを取り除く(Prune)\n",
    " 3. 2で取り除いた分を再分配する(Redistribution)\n",
    " - sparse <-> dense\n",
    " \n",
    " - 貢献度＝「Error(損失)をWeigths(重み)で偏微分したもの」…偏微分＝「その重みの変化によって生じる損失の変化」ー＞これの絶対値が大きいほどその重みの貢献度は大きい(例　貢献度１００の重みは、重みの１の変化で損失を100変化させる影響力があるが、貢献度１の重みは、重みの１の変化で損失を１しか変化させる事ができません。)\n",
    " - 偏微分をそのまま貢献度に使うことは危うい。理由：確率的勾配降下法(SGD)では各ミニバッチにおいて偏微分の値が大小・正負で振動してしまうから。"
   ]
  },
  {
   "cell_type": "markdown",
   "metadata": {},
   "source": [
    "## 📖Selective Inference for Sparse High-Order Interaction Models -2017津田先生\n",
    "http://proceedings.mlr.press/v70/suzumura17a/suzumura17a.pdf\n",
    "- Lee et al. 2016 https://arxiv.org/pdf/1311.6238.pdf\n",
    "- Lee & Tayler 2014 https://pdfs.semanticscholar.org/39a4/a6fd8033b361ce31628c94119bb83e834040.pdf\n",
    "- Fithian et al. 2015 https://arxiv.org/pdf/1512.02565.pdf\n",
    "- Tian & Taylor 2015 https://arxiv.org/pdf/1501.03588.pdf\n",
    "- Taylor & Tibshirani 2016 https://arxiv.org/pdf/1602.07358.pdf\n",
    "- Yang et al., 2016 https://arxiv.org/pdf/1607.08211.pdf\n",
    "- Barber & Cande's  2016 https://statweb.stanford.edu/~candes/papers/HighDimKnockoffs.pdf\n",
    "\n",
    "ここの方々みなさんCornell university（America）? カルフォルニア大学、スタンフォード大学"
   ]
  },
  {
   "cell_type": "markdown",
   "metadata": {},
   "source": [
    "## 💻LARS(Least Angle Regression)アルゴリズム\n",
    "\n",
    "- LARS(Least Angle Regression)は予測値と教師データとの偏差ベクトルとそれぞれの特徴量が基底となるベクトルとの角度が大きい(偏差との相関が大きい)ものとなるような特徴量を1つずつ追加していくというもの。\n",
    "\n",
    "- 相関の大きい基底(特徴量)を加えていく際に、角度が小さくなるような(内積の値が大きくなるような)特徴量を選ぶというところからLeast Angle Regressionという名前がついているそう。"
   ]
  },
  {
   "cell_type": "code",
   "execution_count": 1,
   "metadata": {},
   "outputs": [],
   "source": [
    "# 必要モジュールのインポート  \n",
    "import numpy as np\n",
    "import matplotlib.pyplot as plt\n",
    "\n",
    "from sklearn import linear_model\n",
    "from sklearn import datasets # データセットダウンロード用"
   ]
  },
  {
   "cell_type": "code",
   "execution_count": 2,
   "metadata": {},
   "outputs": [],
   "source": [
    "diabetes = datasets.load_diabetes() # 糖尿病のデータセット\n",
    "X = diabetes.data\n",
    "y = diabetes.target"
   ]
  },
  {
   "cell_type": "code",
   "execution_count": 33,
   "metadata": {},
   "outputs": [],
   "source": [
    "#y[:5]"
   ]
  },
  {
   "cell_type": "code",
   "execution_count": 38,
   "metadata": {},
   "outputs": [],
   "source": [
    "#type(diabetes)\n",
    "import pandas as pd\n",
    "#pd.DataFrame(diabetes.data, columns=diabetes.feature_names)"
   ]
  },
  {
   "cell_type": "code",
   "execution_count": 3,
   "metadata": {},
   "outputs": [
    {
     "data": {
      "text/plain": [
       "['age', 'sex', 'bmi', 'bp', 's1', 's2', 's3', 's4', 's5', 's6']"
      ]
     },
     "execution_count": 3,
     "metadata": {},
     "output_type": "execute_result"
    }
   ],
   "source": [
    "diabetes['feature_names'] #説明変数の紹介\n",
    "# ['age', 'sex', 'bmi', 'bp', 's1', 's2', 's3', 's4', 's5', 's6']  "
   ]
  },
  {
   "cell_type": "markdown",
   "metadata": {},
   "source": [
    "<img src = '20190929191300.png'>"
   ]
  },
  {
   "cell_type": "code",
   "execution_count": 34,
   "metadata": {},
   "outputs": [],
   "source": [
    "#diabetes.target"
   ]
  },
  {
   "cell_type": "code",
   "execution_count": 36,
   "metadata": {},
   "outputs": [
    {
     "name": "stdout",
     "output_type": "stream",
     "text": [
      "."
     ]
    }
   ],
   "source": [
    "alphas, active, coefs = linear_model.lars_path(X, y, method='lars', verbose=True)  "
   ]
  },
  {
   "cell_type": "code",
   "execution_count": 5,
   "metadata": {},
   "outputs": [
    {
     "data": {
      "text/plain": [
       "array([[   0.        ,    0.        ,    0.        ,    0.        ,\n",
       "           0.        ,    0.        ,    0.        ,    0.        ,\n",
       "           0.        ,    0.        ,  -10.01219782],\n",
       "       [   0.        ,    0.        ,    0.        ,    0.        ,\n",
       "           0.        ,  -74.91651394, -111.97855446, -197.75650114,\n",
       "        -226.13366183, -227.17579824, -239.81908937],\n",
       "       [   0.        ,   60.11926965,  361.89461246,  434.75795962,\n",
       "         505.65955847,  511.3480707 ,  512.04408899,  522.26484702,\n",
       "         526.88546671,  526.39059435,  519.83978679],\n",
       "       [   0.        ,    0.        ,    0.        ,   79.23644688,\n",
       "         191.26988358,  234.15461616,  252.5270165 ,  297.15973689,\n",
       "         314.38927158,  314.95046722,  324.39042769],\n",
       "       [   0.        ,    0.        ,    0.        ,    0.        ,\n",
       "           0.        ,    0.        ,    0.        , -103.94624877,\n",
       "        -195.10582951, -237.34097312, -792.18416163],\n",
       "       [   0.        ,    0.        ,    0.        ,    0.        ,\n",
       "           0.        ,    0.        ,    0.        ,    0.        ,\n",
       "           0.        ,   33.62827441,  476.74583782],\n",
       "       [   0.        ,    0.        ,    0.        ,    0.        ,\n",
       "        -114.10097989, -169.71139351, -196.04544329, -223.92603334,\n",
       "        -152.47725949, -134.59935205,  101.04457032],\n",
       "       [   0.        ,    0.        ,    0.        ,    0.        ,\n",
       "           0.        ,    0.        ,    0.        ,    0.        ,\n",
       "         106.34280588,  111.38412869,  177.06417623],\n",
       "       [   0.        ,    0.        ,  301.77534281,  374.91583685,\n",
       "         439.66494176,  450.66744821,  452.39272771,  514.74948085,\n",
       "         529.91603066,  545.48259721,  751.27932109],\n",
       "       [   0.        ,    0.        ,    0.        ,    0.        ,\n",
       "           0.        ,    0.        ,   12.07815226,   54.76768063,\n",
       "          64.4874179 ,   64.60667013,   67.62538639]])"
      ]
     },
     "execution_count": 5,
     "metadata": {},
     "output_type": "execute_result"
    }
   ],
   "source": [
    "coefs\n",
    "#更新回数ごとの係数の値の変化。1つ1つの行がそれぞれの特徴量に対応する係数となっている。"
   ]
  },
  {
   "cell_type": "code",
   "execution_count": 7,
   "metadata": {},
   "outputs": [
    {
     "data": {
      "text/plain": [
       "array([2.14804358, 2.01202713, 1.02466283, 0.71509967, 0.29441369,\n",
       "       0.20086523, 0.15602991, 0.04520646, 0.01239247, 0.01151398,\n",
       "       0.        ])"
      ]
     },
     "execution_count": 7,
     "metadata": {},
     "output_type": "execute_result"
    }
   ],
   "source": [
    "alphas  #それぞれのイテレーション時に計算された相関係数( ^C )が記録されている。"
   ]
  },
  {
   "cell_type": "code",
   "execution_count": 9,
   "metadata": {},
   "outputs": [
    {
     "data": {
      "text/plain": [
       "[2, 8, 3, 6, 1, 9, 4, 7, 5, 0]"
      ]
     },
     "execution_count": 9,
     "metadata": {},
     "output_type": "execute_result"
    }
   ],
   "source": [
    "active  #それぞれのイテレーションで相関係数の値が最大となった係数のインデックスを表示している。"
   ]
  },
  {
   "cell_type": "code",
   "execution_count": 10,
   "metadata": {},
   "outputs": [],
   "source": [
    "xx = np.sum(np.abs(coefs.T), axis=1)  \n",
    "xx /= xx[-1]"
   ]
  },
  {
   "cell_type": "code",
   "execution_count": 11,
   "metadata": {},
   "outputs": [
    {
     "data": {
      "text/plain": [
       "((10, 11), (11,))"
      ]
     },
     "execution_count": 11,
     "metadata": {},
     "output_type": "execute_result"
    }
   ],
   "source": [
    "coefs.shape, xx.shape"
   ]
  },
  {
   "cell_type": "code",
   "execution_count": 12,
   "metadata": {},
   "outputs": [
    {
     "data": {
      "image/png": "[encoded data removed]",
      "text/plain": [
       "<Figure size 864x576 with 1 Axes>"
      ]
     },
     "metadata": {
      "needs_background": "light"
     },
     "output_type": "display_data"
    }
   ],
   "source": [
    "# それぞれのイテレーションにおける係数の大きさとそれぞれの係数の大きさのプロット\n",
    "plt.figure(figsize=(12,8))\n",
    "labels = ['age', 'sex', 'bmi', 'bp', 's1', 's2', 's3', 's4', 's5', 's6']\n",
    "for i, label in enumerate(labels):\n",
    "    plt.plot(xx, coefs[i], label=label)  \n",
    "ymin, ymax = plt.ylim()  \n",
    "plt.vlines(xx, ymin, ymax, linestyle='dashed')  \n",
    "plt.xlabel('|coef| / max|coef|')  \n",
    "plt.ylabel('Coefficients')\n",
    "plt.title('LARS Path')\n",
    "plt.axis('tight')\n",
    "plt.legend()\n",
    "plt.show()  "
   ]
  },
  {
   "cell_type": "code",
   "execution_count": 31,
   "metadata": {},
   "outputs": [
    {
     "name": "stdout",
     "output_type": "stream",
     "text": [
      "[[1 1 1 0 1]\n",
      " [1 1 1 0 1]\n",
      " [1 0 0 1 0]\n",
      " [0 0 0 0 0]\n",
      " [1 1 1 0 1]\n",
      " [1 0 0 0 0]\n",
      " [1 1 1 1 1]\n",
      " [0 0 0 0 1]\n",
      " [0 1 0 1 0]\n",
      " [0 0 1 0 0]\n",
      " [0 0 0 1 0]\n",
      " [0 0 0 1 0]\n",
      " [0 0 0 1 1]\n",
      " [1 1 1 0 1]\n",
      " [0 0 0 0 0]]\n"
     ]
    }
   ],
   "source": [
    "import numpy as np\n",
    "\n",
    "a = np.loadtxt('sample.csv', delimiter=',', dtype='int64',\n",
    "               skiprows=1, usecols=[1, 2, 3, 4, 5])\n",
    "\n",
    "print(a) #TF1, 2, 3, 4, exの計5要素（列）。計15遺伝子サンプル（行）"
   ]
  },
  {
   "cell_type": "code",
   "execution_count": null,
   "metadata": {},
   "outputs": [],
   "source": []
  }
 ],
 "metadata": {
  "kernelspec": {
   "display_name": "Python 3",
   "language": "python",
   "name": "python3"
  },
  "language_info": {
   "codemirror_mode": {
    "name": "ipython",
    "version": 3
   },
   "file_extension": ".py",
   "mimetype": "text/x-python",
   "name": "python",
   "nbconvert_exporter": "python",
   "pygments_lexer": "ipython3",
   "version": "3.7.6"
  }
 },
 "nbformat": 4,
 "nbformat_minor": 2
}
