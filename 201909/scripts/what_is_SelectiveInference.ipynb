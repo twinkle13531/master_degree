{
 "cells": [
  {
   "cell_type": "markdown",
   "metadata": {},
   "source": [
    "# 選択的サンプリング"
   ]
  },
  {
   "cell_type": "markdown",
   "metadata": {},
   "source": [
    "#### 📖reference\n",
    "- サンプリングの目的・分類・抽出方法https://internal-audit.info/sampling/ \n",
    "- ぱらぱらめくるselective inference論文http://ryamada22.hatenablog.jp/entry/20160228/1456616097 <br/>\n",
    "- 「ビッグデータ統合利活用のための次世代基盤技術の創出・体系化」 平成 27 年度採択研究代表者 津田 宏治教授 東京大学大学院新領域創成科学研究科 「離散構造統計学の創出と癌科学への展開」https://www.jst.go.jp/kisoken/crest/evaluation/nenpou/h29/JST_1111081_15656320_2017_PYR.pdf <br/>\n",
    "- Two novel applications of selective inference http://statweb.stanford.edu/~tibs/ftp/lockharttalk.pdf?fbclid=IwAR09rQ8Rso_G0bqjFF2BTDAfzxHPYdo_34WhKyAt_jQGGaK6oXIag7jNkzk\n",
    "- 「データ駆動型科学のためのselective inference」(名工大、竹内先生) https://www.ieice.org/~sita/forum/article/2019/201903231310.pdf"
   ]
  },
  {
   "cell_type": "markdown",
   "metadata": {},
   "source": [
    "#### 👉selective inference \n",
    "- データを眺めることで、説明変数を絞りこみ(selectionし)、そのうえで絞り込んだ変数について推定(inference)することにするが、そのときselectionがinferenceに影響するので、どうするのがよいのかを考えよう\n",
    "- データに基づいて選択された仮説を同一のデータで評価する際に，選択バイアスを除去するため，仮説を選択するイベントの条件付分布により統計的仮説検定を行うもの\n",
    "- 新たな統計的仮説検定法として近年注目を集めている \n",
    "- 特徴選択の逆像を計算する\n",
    "\n",
    "#### 👉Statical learning and selective inference https://www.pnas.org/content/pnas/112/25/7629.full.pdf\n",
    "Forward stepwiseにおける第一歩は、複数の変数の「トップ」を採用するので、もろにマルチプルテスティング影響を受ける。その分の補正をすることは簡単なケースではできるが、現実課題に対応した多変量解析にはすぐには対応していない。ただし、よく考えれば、説明変数に付与する係数が多次元正規分布しているとして、観察データに照らして、どこが一番遠いかを探せばよい。ただし、Forward stepwiseのときには、探すポイントは、変数の軸方向の点、変数のセットの張る部分平面上の最遠点、といったものになる。それは、凸包探索になっている\n",
    "このステップ処理をどこまで続けるかという問題は、マルチプルテスティングの枠組みで考えることができる。すべての変数が関係ないことを基準とするなら、ボンフェロニやSidak的に閾値設定することになるし、FDR的に設定することもできる\n",
    "Lassoでは、係数空間の探索において、不採択変数と採択変数に分けるにあたり、ペナルティ項を入れて、最適点(最遠点)を探す作業になる\n",
    "PCAでは説明変数をいったん忘れて、説明軸を取り直すわけだが、その取り直した軸からselectionするなり、Lasso的に係数を与えるなりすることもできる\n",
    "Lasso, PCAでもForward stepwiseと同じように、閾値の定め方にはFDR的にするかどうかという基準が入れられるだろう"
   ]
  },
  {
   "cell_type": "markdown",
   "metadata": {},
   "source": [
    "👉Selective Inference for Sparse High-Order Interaction Models（津田先生）\n",
    "http://proceedings.mlr.press/v70/suzumura17a/suzumura17a.pdf"
   ]
  },
  {
   "cell_type": "markdown",
   "metadata": {},
   "source": [
    "#### 👉津田先生　離散構造統計学の創出と癌科学への展開https://www.jst.go.jp/kisoken/crest/evaluation/nenpou/h29/JST_1111081_15656320_2017_PYR.pdf\n",
    "これまで，selective inferenceのような条件付分布の計算は困難であるとされてきたが，近年，仮説選択のアルゴリズムがあるクラスの演算で記述できるときには，正確に条件付分布の計算が可能となることが示された.本研究では，この考え方を発展させ，高次交互作用モデルのための Selective Inference 法を開発した.\n",
    "本年度は dbGaP 等の遺伝情報データを含むデータベースに対して、LAMP/FastWY を適用し、 順次結果の整理を進めた。この過程で、がん情報の遺伝情報に関する実験結果が蓄積されているTCGA では、LAMP/FastWY で扱っていた 疾患有無のバイナリの値ではなく、生存時間および 最終観測時間で表されるサバイバルデータで、疾患の状態が表されていることがわかり、TCGA 等 に LAMP/FastWY を適用するには、サバイバルデータを解析できるようにする必要があった。この ため、LAMP をサバイバルデータの検定ができるように拡張した Survival LAMP を開発し、 https://rtrelator.github.io/SurvivalLAMP/ から公開を行った。\n",
    "組み合わせ要因発見には、非常に大きな計算量を要するため、アルゴリズムの並列化は避けては 通れない課題である。並列化には、共有メモリ型の並列化と、分散メモリ型の並列化があるが、 Amazon Web Service などのクラウド上での利用や、京コンピュータなどのスーパーコンピュータで の利用を考えると、分散メモリ型の並列化が必要である。MP-LAMPでは、動的load balancingの技術を採用し、動作中に計算機間でタスクのやりとりを行って、計算機の空転を防ぐ。TSUBAME上で、1200ノードを使用した際、GWAS データで 1174 倍を記録するなど、ほぼ理想的な結果を得た。Amazon Web Service、京コンピュータ、Oakforest-PACS でも同様の結果を得ている。\n",
    "\n",
    "代表的な原著論文\n",
    "- S. Suzumura, K. Nakagawa, Y. Umezu, K. Tsuda, I. Takeuchi, Selective Inference for Sparse High-Order Interaction Models, Proceedings of the 34th International Conference on Machine Learning (ICML 2017), pp. 3338-3347, 2017.\n",
    "- R.T. Relator, A. Terada and J. Sese, Identifying statistically significant combinatorial markers for survival analysis, BMC Medical Genomics, 11(Suppl 2), 31, 2018.\n",
    "- K. Yoshizoe, A. Terada and K. Tsuda, MP-LAMP: Parallel Detection of Statistically Significant Multi-Loci Markers on Cloud Platforms, Bioinformatics, published online, 2018."
   ]
  },
  {
   "cell_type": "markdown",
   "metadata": {},
   "source": [
    "#### 👉The Cancer Genome Atlas (TCGA)\n",
    "- landmark cancer genomics program that sequenced and molecularly characterized over 11000 cases of primary cancer samples. \n",
    "- 2006年から米国で開始された大型がんゲノムプロジェクト．20種類以上のがん種について，ゲノム・メチル化異常，遺伝子・タンパク質発現異常について網羅的な解析を行っている．解析データはHP（http://cancergenome.nih.gov/）のData Portalから公開している．\n",
    "- 10種類の希少がんを含む33種 類のがん種についてゲノム変異/遺伝子発現変動/メチ ル化異常など7種類のデータタイプを網羅的に解析してい ます。11,000人以上のがん患者に由来するがんサンプルと 正常組織サンプルを比較した解析結果である2.5ペタバイ\n",
    "ト以上の TCGA のデータセットが公開され、がん研究に幅 広く活用されています。\n",
    "- cBioPortal を通して閲覧可能\n",
    "\n",
    "#### 👉サバイバルデータ解析\n",
    "生存時間解析"
   ]
  },
  {
   "cell_type": "markdown",
   "metadata": {},
   "source": [
    "#### 統計\n",
    "p値とは、Pr(手元のデータより極端な値が出る|H0が正しい)という条件付き確率\n",
    "Fisherの有意性検定、Neyman-Pearsonの仮説検定"
   ]
  }
 ],
 "metadata": {
  "kernelspec": {
   "display_name": "Python 3",
   "language": "python",
   "name": "python3"
  },
  "language_info": {
   "codemirror_mode": {
    "name": "ipython",
    "version": 3
   },
   "file_extension": ".py",
   "mimetype": "text/x-python",
   "name": "python",
   "nbconvert_exporter": "python",
   "pygments_lexer": "ipython3",
   "version": "3.7.6"
  }
 },
 "nbformat": 4,
 "nbformat_minor": 2
}
