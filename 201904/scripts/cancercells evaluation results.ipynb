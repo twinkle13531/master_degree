{
 "cells": [
  {
   "cell_type": "markdown",
   "metadata": {},
   "source": [
    "# 結果\n",
    "\n",
    "### Dropout0.5, Augmentorで1000画像/1カテゴリに\n",
    "* 6987/6987  - 38s 5ms/step  \n",
    "* loss= 3.289973085592348  \n",
    "* accuracy= 0.788239433356957\n",
    "* plt.savefig('cancerimages_accuracy')（以降.1, .2,,,として保存した）\n",
    "* plt.savefig('cancerimages_loss')（同上）\n",
    "\n",
    "<img src=\"cancerimages_accuracy.png\">\n",
    "<img src=\"cancerimages_loss.png\">"
   ]
  },
  {
   "cell_type": "markdown",
   "metadata": {},
   "source": [
    "### img = img.resize((150, 150))→((250, 250))（1）\n",
    "* validationすら0.85程度であったため中止\n",
    "\n",
    "<img src=\"cancerimages_accuracy1.png\">\n",
    "<img src=\"cancerimages_loss1.png\">"
   ]
  },
  {
   "cell_type": "markdown",
   "metadata": {},
   "source": [
    "### batch_size=6→32（2）\n",
    "* Epoch 1/10 5589/5589 - 257s 46ms/step - loss: 0.4092 - acc: 0.8554 - val_loss: 0.3811 - val_acc: 0.8568\n",
    "* Epoch 10/10 5589/5589- 233s 42ms/step - loss: 0.3190 - acc: 0.8680 - val_loss: 0.3892 - val_acc: 0.8414（学習回数重ねたのに下がっている）\n",
    "* 6987/6987 - 101s 14ms/step\n",
    "* loss= 3.879581622053186\n",
    "* accuracy= 0.7531743155062173\n",
    "\n",
    "<img src=\"cancerimages_accuracy2.png\">\n",
    "<img src=\"cancerimages_loss2.png\">"
   ]
  },
  {
   "cell_type": "markdown",
   "metadata": {},
   "source": [
    "###  img = img.resize((100, 100)) \n",
    "* Epoch 1/10 5589/5589 - 48s 9ms/step - loss: 0.4210 - acc: 0.8550 - val_loss: 0.3968 - val_acc: 0.8571\n",
    "* Epoch 10/10 5589/5589 - 47s 8ms/step - loss: 0.3523 - acc: 0.8589 - val_loss: 0.3451 - val_acc: 0.8623\n",
    "* 6987/6987 - 20s 3ms/step\n",
    "* loss= 3.1761112101893234\n",
    "* accuracy= 0.7909383186543979"
   ]
  },
  {
   "cell_type": "markdown",
   "metadata": {},
   "source": [
    "### batch_size=64（3）\n",
    "* Epoch 1/10 5589/5589 - 41s 7ms/step - loss: 0.4333 - acc: 0.8525 - val_loss: 0.4168 - val_acc: 0.8571\n",
    "* Epoch 10/10 5589/5589 - 40s 7ms/step - loss: 0.3639 - acc: 0.8583 - val_loss: 0.3662 - val_acc: 0.8585\n",
    "* 6987/6987 - 20s 3ms/step\n",
    "* loss= 3.3677486562448937\n",
    "* accuracy= 0.7690200838678228\n",
    "\n",
    "<img src=\"cancerimages_accuracy3.png\">\n",
    "<img src=\"cancerimages_loss3.png\">"
   ]
  },
  {
   "cell_type": "markdown",
   "metadata": {},
   "source": [
    "### batch_size=128（4）\n",
    "* Epoch 1/10 5589/5589 - 37s 7ms/step - loss: 0.4471 - acc: 0.8469 - val_loss: 0.4210 - val_acc: 0.8571\n",
    "* Epoch 10/10 5589/5589 - 35s 6ms/step - loss: 0.3713 - acc: 0.8571 - val_loss: 0.3759 - val_acc: 0.8579\n",
    "* 6987/6987 - 20s 3ms/step\n",
    "* loss= 2.302585364104648\n",
    "* accuracy= 0.8571428656578064\n",
    "* plotが今までで一番綺麗\n",
    "\n",
    "<img src=\"cancerimages_accuracy4.png\">\n",
    "<img src=\"cancerimages_loss4.png\">"
   ]
  },
  {
   "cell_type": "markdown",
   "metadata": {},
   "source": [
    "### img = img.resize((50, 50)) （5）\n",
    "* Epoch 1/10 5589/5589 - 12s 2ms/step - loss: 0.4850 - acc: 0.8341 - val_loss: 0.4227 - val_acc: 0.8571\n",
    "* Epoch 10/10 5589/5589 - 11s 2ms/step - loss: 0.3878 - acc: 0.8575 - val_loss: 0.3785 - val_acc: 0.8588\n",
    "* 6987/6987 - 5s 719us/step\n",
    "* loss= 2.3025854514599597\n",
    "* accuracy= 0.8571428656578064\n",
    "* 4と結果が同じ\n",
    "\n",
    "<img src=\"cancerimages_accuracy5.png\">\n",
    "<img src=\"cancerimages_loss5.png\">"
   ]
  },
  {
   "cell_type": "markdown",
   "metadata": {},
   "source": [
    "### img = img.resize((70, 70)) （6）\n",
    "* Epoch 1/10 5589/5589 - 20s 4ms/step - loss: 0.4686 - acc: 0.8399 - val_loss: 0.4193 - val_acc: 0.8571\n",
    "* Epoch 10/10 5589/5589 - 19s 3ms/step - loss: 0.3809 - acc: 0.8572 - val_loss: 0.3755 - val_acc: 0.8558\n",
    "* 6987/6987 - 11s 2ms/step\n",
    "* loss= 2.3025853630127067\n",
    "* accuracy= 0.8571428656578064\n",
    "* imgsize((100, 100))~((50, 50))間で結果は変らないのだろうか\n",
    "\n",
    "<img src=\"cancerimages_accuracy6.png\">\n",
    "<img src=\"cancerimages_loss6.png\">"
   ]
  },
  {
   "cell_type": "markdown",
   "metadata": {},
   "source": [
    "### img = img.resize((50, 50)) , epoc=15\n",
    "* Epoch 1/15 5589/5589 - 11s 2ms/step - loss: 0.4723 - acc: 0.8492 - val_loss: 0.4207 - val_acc: 0.8571\n",
    "* Epoch 15/15 5589/5589 - 11s 2ms/step - loss: 0.3813 - acc: 0.8573 - val_loss: 0.3818 - val_acc: 0.8569\n",
    "* 6987/6987 - 5s 705us/step\n",
    "* loss= 2.3025853630127067\n",
    "* accuracy= 0.8571428656578064\n",
    "* 結果に変化無し\n",
    "\n",
    "<img src=\"cancerimages_accuracy7.png\">\n",
    "<img src=\"cancerimages_loss7.png\">"
   ]
  }
 ],
 "metadata": {
  "kernelspec": {
   "display_name": "Python 3",
   "language": "python",
   "name": "python3"
  },
  "language_info": {
   "codemirror_mode": {
    "name": "ipython",
    "version": 3
   },
   "file_extension": ".py",
   "mimetype": "text/x-python",
   "name": "python",
   "nbconvert_exporter": "python",
   "pygments_lexer": "ipython3",
   "version": "3.7.6"
  }
 },
 "nbformat": 4,
 "nbformat_minor": 2
}
