{
 "cells": [
  {
   "cell_type": "markdown",
   "metadata": {},
   "source": [
    "## 目的：population annealingを全解探索で確認\n",
    "\n",
    "- データ\n",
    "```python\n",
    "'training_markers.txt','training_yields.txt'\n",
    "```\n",
    "\n",
    "- 予測アルゴリズム\n",
    "\n",
    "χ2分類    \"説明変数がカテゴリーで目的変数もカテゴリーのときは、χ2乗検定の独立性検定を用いる。\"\n",
    "\n",
    "- 最高温度\n",
    "\n",
    "2500"
   ]
  },
  {
   "cell_type": "markdown",
   "metadata": {},
   "source": [
    "母集団から標本を抜き取ることを標本抽出（またはサンプリング）といいます。標本抽出には、復元抽出と非復元抽出があります。\n",
    "\n",
    "「復元抽出」とは\n",
    "\n",
    "- なんどかの抽出をする際、抽出したものを1個ずつもとの集団に戻してから、次の抽出を行っていく方法です。\n",
    "- 母集団の1個1個の要素は互いに独立しています。たとえば、1から10までの番号が書かれたボールが壺の中に入っており、ボール1個を取りだすとします。このとき、1から10番目まで、どのボールも取りだされる確率は同じ、1/10です。5番のボールを取りだしたとして、これをもとに戻します。次に、ふたたびボールを抜き取るときに、5番のボールを引き当てる確率もその他の番号を抜き取る確率も、変わらず1/10なままです。各要素間での独立性が保たれています。1回目の抜き取りは、2回目の抜き取りに影響を与えません。\n",
    "\n"
   ]
  },
  {
   "cell_type": "code",
   "execution_count": 1,
   "metadata": {},
   "outputs": [],
   "source": [
    "#import\n",
    "import pandas as pd\n",
    "import numpy as np\n",
    "import matplotlib.pyplot as plt\n",
    "import random, math, warnings\n",
    "from sklearn.feature_selection import SelectKBest, chi2\n",
    "import pprint\n",
    "import itertools"
   ]
  },
  {
   "cell_type": "code",
   "execution_count": 2,
   "metadata": {},
   "outputs": [
    {
     "name": "stdout",
     "output_type": "stream",
     "text": [
      "1/bのトップバッター(最大値希望)1/b[0]は2500.0である\n",
      "1/bのラスト1/b[-1]（最小値希望）は1.0である\n"
     ]
    }
   ],
   "source": [
    "#valiable\n",
    "num_select = 3\n",
    "\n",
    "MCS = 1\n",
    "\n",
    "#降順である{1/b}の作成\n",
    "Max_temper = 2500 #最高温度（スタート地点）\n",
    "b = [1/j for j in reversed(range(1, Max_temper+1))]\n",
    "print(\"1/bのトップバッター(最大値希望)1/b[0]は{}である\".format(1/b[0]))\n",
    "print(\"1/bのラスト1/b[-1]（最小値希望）は{}である\".format(1/b[-1]))"
   ]
  },
  {
   "cell_type": "code",
   "execution_count": 3,
   "metadata": {},
   "outputs": [
    {
     "name": "stdout",
     "output_type": "stream",
     "text": [
      "the following is a part of X\n",
      "X.shape is (20, 20)\n",
      "type of X element is <class 'numpy.int64'>\n",
      "type of data_yields is <class 'pandas.core.frame.DataFrame'>\n",
      "type of ori_y is <class 'pandas.core.series.Series'>\n"
     ]
    }
   ],
   "source": [
    "X = pd.read_table('training_markers.txt', header=None,  sep ='\\t')# 説明変数（こっちの特徴量上位5つ取り出す）\n",
    "print('the following is a part of X')\n",
    "#pprint.pprint(X.head())\n",
    "print(\"X.shape is {}\".format(X.shape))\n",
    "print('type of X element is {}'.format(type(X[0][0])))\n",
    "\n",
    "data_yields = pd.read_table('training_yields.txt', header=None,  sep ='\\t')# 目的変数\n",
    "ori_y = data_yields.T.iloc[0]\n",
    "print('type of data_yields is {}'.format(type(data_yields)))\n",
    "print('type of ori_y is {}'.format(type(ori_y)))\n",
    "\n",
    "num_sample = X.shape[0]#サンプル数\n",
    "num_feature = X.shape[1]#特徴量の数\n",
    "K = 2**num_sample"
   ]
  },
  {
   "cell_type": "code",
   "execution_count": 4,
   "metadata": {},
   "outputs": [
    {
     "name": "stdout",
     "output_type": "stream",
     "text": [
      "type of y_tuple_list's element is <class 'tuple'>\n",
      "<class 'pandas.core.series.Series'>\n"
     ]
    },
    {
     "data": {
      "text/plain": [
       "True"
      ]
     },
     "execution_count": 4,
     "metadata": {},
     "output_type": "execute_result"
    }
   ],
   "source": [
    "#状態y(yの色んなパターン)をK個作る\n",
    "y_element = range(2) #0, 1なので\n",
    "y_tuple_list = list(itertools.product(y_element, repeat=num_sample))\n",
    "\n",
    "print(\"type of y_tuple_list's element is {}\".format(type(y_tuple_list[0])))\n",
    "print(type(pd.Series(y_tuple_list[0]))) #ori_yとtypeを揃えるためこのようにしてseriesにしないといけない\n",
    "len(y_tuple_list)==K"
   ]
  },
  {
   "cell_type": "code",
   "execution_count": 5,
   "metadata": {},
   "outputs": [],
   "source": [
    "#mask_oriの計算（以降のエネルギー計算の基準となる）\n",
    "#ori_y == yとなる場合だけ、E(y)==0となる仕様\n",
    "\n",
    "selector = SelectKBest(score_func=chi2, k=num_select) #SelectKBest #chi2...分類\n",
    "selector.fit(X, ori_y)\n",
    "mask_ori = selector.get_support() #各特徴量を選択したか否かのmaskを取得"
   ]
  },
  {
   "cell_type": "code",
   "execution_count": 10,
   "metadata": {},
   "outputs": [
    {
     "data": {
      "text/plain": [
       "0     1\n",
       "1     0\n",
       "2     0\n",
       "3     1\n",
       "4     1\n",
       "5     0\n",
       "6     0\n",
       "7     1\n",
       "8     0\n",
       "9     1\n",
       "10    0\n",
       "11    0\n",
       "12    1\n",
       "13    0\n",
       "14    0\n",
       "15    0\n",
       "16    1\n",
       "17    1\n",
       "18    1\n",
       "19    1\n",
       "Name: 0, dtype: int64"
      ]
     },
     "execution_count": 10,
     "metadata": {},
     "output_type": "execute_result"
    }
   ],
   "source": [
    "ori_y"
   ]
  },
  {
   "cell_type": "code",
   "execution_count": 12,
   "metadata": {},
   "outputs": [],
   "source": [
    "#エネルギーが0(最低)となるのがいつか基準を先に計算しておきましょう\n",
    "\n",
    "def E(y): #毎回のmaskとyが引数、合致度合いの計算を行う\n",
    "    selector = SelectKBest(score_func=chi2, k=num_select) #SelectKBest #chi2...分類\n",
    "    selector.fit(X, y)\n",
    "    mask_each = selector.get_support() #各特徴量を選択したか否かのmaskを取得\n",
    "    \n",
    "    energy_trait_sum = 0\n",
    "    for i in range(len(mask_each)):\n",
    "        if mask_each[i]!=mask_ori[i]:\n",
    "            energy_trait_sum += 1\n",
    "    return energy_trait_sum #もとのyのときのmask(これをmaskとしている)との合致度合い（大きい⇒よく合致している）"
   ]
  },
  {
   "cell_type": "code",
   "execution_count": 13,
   "metadata": {},
   "outputs": [
    {
     "data": {
      "text/plain": [
       "0"
      ]
     },
     "execution_count": 13,
     "metadata": {},
     "output_type": "execute_result"
    }
   ],
   "source": [
    "E(ori_y)"
   ]
  },
  {
   "cell_type": "code",
   "execution_count": 15,
   "metadata": {},
   "outputs": [
    {
     "name": "stdout",
     "output_type": "stream",
     "text": [
      "エネルギーが0のyは2870個ある\n"
     ]
    }
   ],
   "source": [
    "Ene0_list = []\n",
    "for k in range(K):\n",
    "    if E(pd.Series(y_tuple_list[k])) == 0:\n",
    "        Ene0_list.append(k)\n",
    "\n",
    "print(\"エネルギーが0のyは{}個ある\".format(len(Ene0_list)))"
   ]
  },
  {
   "cell_type": "code",
   "execution_count": null,
   "metadata": {},
   "outputs": [],
   "source": []
  }
 ],
 "metadata": {
  "kernelspec": {
   "display_name": "Python 3",
   "language": "python",
   "name": "python3"
  },
  "language_info": {
   "codemirror_mode": {
    "name": "ipython",
    "version": 3
   },
   "file_extension": ".py",
   "mimetype": "text/x-python",
   "name": "python",
   "nbconvert_exporter": "python",
   "pygments_lexer": "ipython3",
   "version": "3.7.6"
  }
 },
 "nbformat": 4,
 "nbformat_minor": 2
}
