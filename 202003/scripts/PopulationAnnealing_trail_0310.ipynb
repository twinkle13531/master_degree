{
 "cells": [
  {
   "cell_type": "markdown",
   "metadata": {},
   "source": [
    "## 目的：population annealingを試す\n",
    "\n",
    "マルコフ連鎖MCと違う点\n",
    "\n",
    "重みが確率分布を作っていく\n",
    "（重い→）\n",
    "\n",
    "- データ\n",
    "```python\n",
    "'training_markers.txt','training_yields.txt'\n",
    "```\n",
    "\n",
    "- 予測アルゴリズム\n",
    "\n",
    "χ2分類    \"説明変数がカテゴリーで目的変数もカテゴリーのときは、χ2乗検定の独立性検定を用いる。\"\n",
    "\n",
    "- 最高温度\n",
    "\n",
    "2500"
   ]
  },
  {
   "cell_type": "markdown",
   "metadata": {},
   "source": [
    "始めっからK個全部入れるのは全解探索と変わらない。"
   ]
  },
  {
   "cell_type": "code",
   "execution_count": 1,
   "metadata": {},
   "outputs": [],
   "source": [
    "#import\n",
    "import pandas as pd\n",
    "import numpy as np\n",
    "import matplotlib.pyplot as plt\n",
    "import random, math, warnings\n",
    "from sklearn.feature_selection import SelectKBest, chi2\n",
    "import pprint\n",
    "import itertools"
   ]
  },
  {
   "cell_type": "code",
   "execution_count": 2,
   "metadata": {},
   "outputs": [
    {
     "name": "stdout",
     "output_type": "stream",
     "text": [
      "1/bのトップバッター(最大値希望)1/b[0]は2500.0である\n",
      "1/bのラスト1/b[-1]（最小値希望）は1.0である\n"
     ]
    }
   ],
   "source": [
    "#valiable\n",
    "num_select = 3\n",
    "\n",
    "MCS = 1\n",
    "\n",
    "#降順である{1/b}の作成\n",
    "Max_temper = 2500 #最高温度（スタート地点）\n",
    "b = [1/j for j in reversed(range(1, Max_temper+1))]\n",
    "print(\"1/bのトップバッター(最大値希望)1/b[0]は{}である\".format(1/b[0]))\n",
    "print(\"1/bのラスト1/b[-1]（最小値希望）は{}である\".format(1/b[-1]))"
   ]
  },
  {
   "cell_type": "code",
   "execution_count": 3,
   "metadata": {},
   "outputs": [
    {
     "name": "stdout",
     "output_type": "stream",
     "text": [
      "the following is a part of X\n",
      "X.shape is (20, 20)\n",
      "type of X element is <class 'numpy.int64'>\n",
      "type of data_yields is <class 'pandas.core.frame.DataFrame'>\n",
      "type of ori_y is <class 'pandas.core.series.Series'>\n"
     ]
    }
   ],
   "source": [
    "X = pd.read_table('training_markers.txt', header=None,  sep ='\\t')# 説明変数（こっちの特徴量上位5つ取り出す）\n",
    "print('the following is a part of X')\n",
    "#pprint.pprint(X.head())\n",
    "print(\"X.shape is {}\".format(X.shape))\n",
    "print('type of X element is {}'.format(type(X[0][0])))\n",
    "\n",
    "data_yields = pd.read_table('training_yields.txt', header=None,  sep ='\\t')# 目的変数\n",
    "ori_y = data_yields.T.iloc[0]\n",
    "print('type of data_yields is {}'.format(type(data_yields)))\n",
    "print('type of ori_y is {}'.format(type(ori_y)))\n",
    "\n",
    "num_sample = X.shape[0]#サンプル数\n",
    "num_feature = X.shape[1]#特徴量の数\n",
    "\n",
    "#Kをはじめにlist upするyの数とする"
   ]
  },
  {
   "cell_type": "code",
   "execution_count": 5,
   "metadata": {},
   "outputs": [
    {
     "name": "stdout",
     "output_type": "stream",
     "text": [
      "type of y_tuple_list's element is <class 'tuple'>\n",
      "<class 'pandas.core.series.Series'>\n"
     ]
    }
   ],
   "source": [
    "#状態y(yの色んなパターン)を作る\n",
    "y_element = range(2) #0, 1なので\n",
    "y_tuple_list = list(itertools.product(y_element, repeat=num_sample))\n",
    "\n",
    "print(\"type of y_tuple_list's element is {}\".format(type(y_tuple_list[0])))\n",
    "print(type(pd.Series(y_tuple_list[0]))) #ori_yとtypeを揃えるためこのようにしてseriesにしないといけない\n",
    "len(y_tuple_list)\n",
    "\n",
    "#はじめに用意するレプリカはK個(今回はlen(y_tuple_list)/Max_temperとしてみる。)\n",
    "#すなわちもし一回もかぶらなかったら全通り制覇できる\n",
    "#K = len(y_tuple_list)/Max_temper #419.4304\n",
    "K = 420"
   ]
  },
  {
   "cell_type": "code",
   "execution_count": 16,
   "metadata": {},
   "outputs": [],
   "source": [
    "#mask_oriの計算（以降のエネルギー計算の基準となる）\n",
    "#ori_y == yとなる場合だけ、E(y)==0となる仕様\n",
    "\n",
    "selector = SelectKBest(score_func=chi2, k=num_select) #SelectKBest #chi2...分類\n",
    "selector.fit(X, ori_y)\n",
    "mask_ori = selector.get_support() #各特徴量を選択したか否かのmaskを取得"
   ]
  },
  {
   "cell_type": "code",
   "execution_count": 17,
   "metadata": {},
   "outputs": [],
   "source": [
    "#エネルギーが0(最低)となるのがいつか基準を先に計算しておきましょう\n",
    "\n",
    "def E(y): #毎回のmaskとyが引数、合致度合いの計算を行う\n",
    "    selector = SelectKBest(score_func=chi2, k=num_select) #SelectKBest #chi2...分類\n",
    "    selector.fit(X, y)\n",
    "    mask_each = selector.get_support() #各特徴量を選択したか否かのmaskを取得\n",
    "    \n",
    "    energy_trait_sum = 0\n",
    "    for i in range(len(mask_each)):\n",
    "        if mask_each[i]==mask_ori[i]:\n",
    "            energy_trait_sum += 1\n",
    "    return energy_trait_sum #もとのyのときのmask(これをmaskとしている)との合致度合い（大きい⇒よく合致している）"
   ]
  },
  {
   "cell_type": "markdown",
   "metadata": {},
   "source": [
    "👇同じ温度条件での比較なので、エネルギーの大きさで判断できる\n",
    "\n",
    "だけど最後でWは計算に使いそうだから一応計算しておく。"
   ]
  },
  {
   "cell_type": "code",
   "execution_count": 18,
   "metadata": {},
   "outputs": [
    {
     "data": {
      "text/plain": [
       "'\\ndef cal_W(i, k):\\n    return\\u3000W[i-1][k]*math.exp(-(b[i]-b[i-1])*E(pd.Series(y_tuple_list[k]))) #Wは一個前のも記憶しておかないといけない\\n'"
      ]
     },
     "execution_count": 18,
     "metadata": {},
     "output_type": "execute_result"
    }
   ],
   "source": [
    "\"\"\"\n",
    "def cal_W(i, k):\n",
    "    return　W[i-1][k]*math.exp(-(b[i]-b[i-1])*E(pd.Series(y_tuple_list[k]))) #Wは一個前のも記憶しておかないといけない\n",
    "\"\"\" "
   ]
  },
  {
   "cell_type": "code",
   "execution_count": 8,
   "metadata": {},
   "outputs": [],
   "source": [
    "def sumW(i):\n",
    "    sumW[i] = 0\n",
    "    for k in range(K):\n",
    "        sumW[i] += W[i][k]\n",
    "    return sumW[i]"
   ]
  },
  {
   "cell_type": "markdown",
   "metadata": {},
   "source": [
    "👇同じ温度条件での比較なので、Wの大小でpの大小が判断できる。すなわちエネルギーの大きさでpの大小を判断できる"
   ]
  },
  {
   "cell_type": "code",
   "execution_count": 9,
   "metadata": {},
   "outputs": [],
   "source": [
    "def P(i, k):\n",
    "    P[i][k]=W[i][k]/sumW[i]"
   ]
  },
  {
   "cell_type": "markdown",
   "metadata": {},
   "source": [
    "👇どうせ残るのはW(p)が大きいものだけ。iが増えて次のサイクルに入っても同じ。常に数をKに揃える必要があるのだろうか。"
   ]
  },
  {
   "cell_type": "code",
   "execution_count": 10,
   "metadata": {},
   "outputs": [],
   "source": [
    "#i=0のときはイレギュラーなので別で作業して以降に備える\n",
    "\n",
    "Ene = [] #これからi(温度)ごとに入れていく。一行に入っているのもlistにしたい\n",
    "Ene.append({})\n",
    "for k in range(K):\n",
    "    Ene[-1][k]=1\n",
    "\n",
    "high_P_Klist = []\n",
    "high_P_Klist.append([ll for ll in range(K)]) #i=0のときはすべて残っている"
   ]
  },
  {
   "cell_type": "code",
   "execution_count": 11,
   "metadata": {},
   "outputs": [
    {
     "ename": "KeyboardInterrupt",
     "evalue": "",
     "output_type": "error",
     "traceback": [
      "\u001b[0;31m---------------------------------------------------------------------------\u001b[0m",
      "\u001b[0;31mKeyboardInterrupt\u001b[0m                         Traceback (most recent call last)",
      "\u001b[0;32m<ipython-input-11-536e9e037c33>\u001b[0m in \u001b[0;36m<module>\u001b[0;34m\u001b[0m\n\u001b[1;32m      2\u001b[0m     \u001b[0mEne\u001b[0m\u001b[0;34m.\u001b[0m\u001b[0mappend\u001b[0m\u001b[0;34m(\u001b[0m\u001b[0;34m{\u001b[0m\u001b[0;34m}\u001b[0m\u001b[0;34m)\u001b[0m \u001b[0;31m#iごとに行を足す\u001b[0m\u001b[0;34m\u001b[0m\u001b[0;34m\u001b[0m\u001b[0m\n\u001b[1;32m      3\u001b[0m     \u001b[0;32mfor\u001b[0m \u001b[0mk\u001b[0m \u001b[0;32min\u001b[0m \u001b[0mrange\u001b[0m\u001b[0;34m(\u001b[0m\u001b[0mK\u001b[0m\u001b[0;34m)\u001b[0m\u001b[0;34m:\u001b[0m\u001b[0;34m\u001b[0m\u001b[0;34m\u001b[0m\u001b[0m\n\u001b[0;32m----> 4\u001b[0;31m         \u001b[0;32mif\u001b[0m \u001b[0mk\u001b[0m \u001b[0;32min\u001b[0m \u001b[0mhigh_P_Klist\u001b[0m\u001b[0;34m[\u001b[0m\u001b[0;34m-\u001b[0m\u001b[0;36m1\u001b[0m\u001b[0;34m]\u001b[0m\u001b[0;34m:\u001b[0m\u001b[0;34m\u001b[0m\u001b[0;34m\u001b[0m\u001b[0m\n\u001b[0m\u001b[1;32m      5\u001b[0m             \u001b[0mEne\u001b[0m\u001b[0;34m[\u001b[0m\u001b[0;34m-\u001b[0m\u001b[0;36m1\u001b[0m\u001b[0;34m]\u001b[0m\u001b[0;34m[\u001b[0m\u001b[0mk\u001b[0m\u001b[0;34m]\u001b[0m \u001b[0;34m=\u001b[0m \u001b[0mE\u001b[0m\u001b[0;34m(\u001b[0m\u001b[0mpd\u001b[0m\u001b[0;34m.\u001b[0m\u001b[0mSeries\u001b[0m\u001b[0;34m(\u001b[0m\u001b[0my_tuple_list\u001b[0m\u001b[0;34m[\u001b[0m\u001b[0mk\u001b[0m\u001b[0;34m]\u001b[0m\u001b[0;34m)\u001b[0m\u001b[0;34m)\u001b[0m\u001b[0;34m\u001b[0m\u001b[0;34m\u001b[0m\u001b[0m\n\u001b[1;32m      6\u001b[0m \u001b[0;34m\u001b[0m\u001b[0m\n",
      "\u001b[0;31mKeyboardInterrupt\u001b[0m: "
     ]
    }
   ],
   "source": [
    "for i in range(1, Max_temper):\n",
    "    Ene.append({}) #iごとに行を足す\n",
    "    for k in range(K):\n",
    "        if k in high_P_Klist[-1]:\n",
    "            Ene[-1][k] = E(pd.Series(y_tuple_list[k]))\n",
    "    \n",
    "    #Eneのi行目に数値が全部入ったら\n",
    "    Ei_sorted = sorted(Ene[-1].items(), key=lambda x:x[1])\n",
    "    tuple_kE_list = Ei_sorted[0:int(len(Ei_sorted)/2)] #上位の方々のメンバー情報が入ったtuple(k, Ene)が出来上がる\n",
    "    \n",
    "    #上位の方々のメンバー所属(k)が入ったlistを作る\n",
    "    high_P_Klist.append([])\n",
    "    for k in range(len(tuple_kE_list)):\n",
    "        high_P_Klist[-1].append(tuple_kE_list[k][0])"
   ]
  },
  {
   "cell_type": "code",
   "execution_count": null,
   "metadata": {},
   "outputs": [],
   "source": [
    "\"\"\"\n",
    "#i=0のときはイレギュラーなので別で作業して以降に備える\n",
    "\n",
    "W = [] #これからi(温度)ごとに入れていく。一行に入っているのもlistにしたい\n",
    "W.append({})\n",
    "for k in range(K):\n",
    "    W[-1][k]=1\n",
    "\n",
    "high_P_Klist = []\n",
    "high_P_Klist.append([ll for ll in range(K)]) #i=0のときはすべて残っている\n",
    "\"\"\""
   ]
  },
  {
   "cell_type": "code",
   "execution_count": null,
   "metadata": {},
   "outputs": [],
   "source": [
    "\"\"\"\n",
    "for i in range(1, Max_temper):\n",
    "    W.append({}) #iごとに行を足す\n",
    "    for k in range(K):\n",
    "        if k in high_P_Klist[-1]:\n",
    "            W[-1][k] = cal_W(i, k)\n",
    "    \n",
    "    #Wのi行目に数値が全部入ったら\n",
    "    Wi_sorted = sorted(W[-1].items(), key=lambda x:x[1], reverse=True)\n",
    "    tuple_kW_list = Wi_sorted[0:int(len(Wi_sorted)/2)] #上位の方々のメンバー情報が入ったtuple(k, W)が出来上がる\n",
    "    \n",
    "    #上位の方々のメンバー所属(k)が入ったlistを作る\n",
    "    high_P_Klist.append([])\n",
    "    for k in range(len(tuple_kW_list)):\n",
    "        high_P_Klist[-1].append(tuple_kW_list[k][0])\n",
    "\"\"\""
   ]
  },
  {
   "cell_type": "markdown",
   "metadata": {},
   "source": [
    "最後まで温度を下げて、それでも残ったkがおそらくエネルギー0のものとなっているはず。（多少前後はあるだろうけど）\n",
    "残るkの個数を調べて、それがKに対してどれくらいの割合なのか知れば、いかにori_yが貴重かがわかるだろう"
   ]
  },
  {
   "cell_type": "code",
   "execution_count": null,
   "metadata": {},
   "outputs": [],
   "source": [
    "print(\"温度を下げきってもなお残ったyのサンプル数は{}個である\".format(len(high_P_Klist[-1])))"
   ]
  }
 ],
 "metadata": {
  "kernelspec": {
   "display_name": "Python 3",
   "language": "python",
   "name": "python3"
  },
  "language_info": {
   "codemirror_mode": {
    "name": "ipython",
    "version": 3
   },
   "file_extension": ".py",
   "mimetype": "text/x-python",
   "name": "python",
   "nbconvert_exporter": "python",
   "pygments_lexer": "ipython3",
   "version": "3.7.6"
  }
 },
 "nbformat": 4,
 "nbformat_minor": 2
}
