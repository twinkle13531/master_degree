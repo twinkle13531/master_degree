{
 "cells": [
  {
   "cell_type": "markdown",
   "metadata": {},
   "source": [
    "# 結果"
   ]
  },
  {
   "cell_type": "markdown",
   "metadata": {},
   "source": [
    "## 0. エネルギー定義： 選ばれるなかった選ばれるべき特徴量の個数*2, 逆温度幅：20.0-0.01\n",
    "ファイル名：meeting_0407<br>\n",
    "理想最低エネルギー：0<br>\n",
    "最終平均エネルギー：6.0<br>\n",
    "わかったこと：論外\n",
    "<img src=\"meeting_0414_figure.png\">"
   ]
  },
  {
   "cell_type": "markdown",
   "metadata": {},
   "source": [
    "## 1. エネルギー定義： -(選択した特徴量のうちの１つ　と　元の選択された特徴量のうちの１つ　での相関係数)の総和　　, 逆温度幅：０と同じ\n",
    "ファイル名：meeting_0421 <br>\n",
    "理想最低エネルギー：-3.0 <br>\n",
    "最終平均エネルギー：-0.6191978509699784<br>\n",
    "わかったこと：少し動きが鈍い\n",
    "<img src=\"0421.png\" width=40%>"
   ]
  },
  {
   "cell_type": "markdown",
   "metadata": {},
   "source": [
    "## 2. エネルギー定義： -(選択した特徴量それぞれの要素の合計リスト と　選択されるべき特徴量それぞれの要素の合計リスト　での相関係数)の総和　　, 逆温度幅：０と同じ\n",
    "ファイル名：meeting_0421_2<br>\n",
    "理想最低エネルギー：-1.0<br>\n",
    "最終平均エネルギー：-0.8517843823364584<br>\n",
    "わかったこと：ほかと比較すると動きが良い。(それだけ甘いエネルギー設定なのだろう)\n",
    "<img src=\"0421_2.png\" width=40%>"
   ]
  },
  {
   "cell_type": "markdown",
   "metadata": {},
   "source": [
    "## 3. エネルギー定義：１と同じ, 逆温度幅：2.0-0.001\n",
    "ファイル名：meeting_0421_3<br>\n",
    "理想最低エネルギー：-3.0<br>\n",
    "最終平均エネルギー：-1.3925950634003526<br>\n",
    "わかったこと：ステップ数は同じでも、温度は低いほうがエネルギーが低くなる\n",
    "<img src=\"meeting_0421_3_figure.png\">"
   ]
  },
  {
   "cell_type": "markdown",
   "metadata": {},
   "source": [
    "## 4. エネルギー定義： -(選択した特徴量それぞれの分散 と　元の選択された特徴量それぞれの分散　での相関係数）　　, 逆温度幅：０と同じ\n",
    "ファイル名：meeting_0421_4<br>\n",
    "理想最低エネルギー：-1.0（-0.999999...）<br>\n",
    "最終平均エネルギー：-0.8155317679608788<br>\n",
    "わかったこと：２．の方が最終平均エネルギーは低くなっている。\n",
    "<img src=\"meeting_0421_4_figure.png\">"
   ]
  },
  {
   "cell_type": "code",
   "execution_count": null,
   "metadata": {},
   "outputs": [],
   "source": []
  }
 ],
 "metadata": {
  "kernelspec": {
   "display_name": "Python 3",
   "language": "python",
   "name": "python3"
  },
  "language_info": {
   "codemirror_mode": {
    "name": "ipython",
    "version": 3
   },
   "file_extension": ".py",
   "mimetype": "text/x-python",
   "name": "python",
   "nbconvert_exporter": "python",
   "pygments_lexer": "ipython3",
   "version": "3.7.6"
  }
 },
 "nbformat": 4,
 "nbformat_minor": 2
}
