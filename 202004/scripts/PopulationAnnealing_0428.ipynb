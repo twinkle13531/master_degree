{
 "cells": [
  {
   "cell_type": "markdown",
   "metadata": {},
   "source": [
    "meeting_0310_2のコードを使用\n",
    "\n",
    "errorがよく起こったので、```jupyter nbconvert --to script 'meeting_0407.ipynb'```をよく使用した。\n",
    "\n",
    "<br>\n",
    "\n",
    "04/17\n",
    "\n",
    "```meeting_0407```のコードを使った。"
   ]
  },
  {
   "cell_type": "code",
   "execution_count": 1,
   "metadata": {},
   "outputs": [],
   "source": [
    "#import\n",
    "import pandas as pd\n",
    "import numpy as np\n",
    "import matplotlib.pyplot as plt\n",
    "import random, math, warnings\n",
    "from sklearn.feature_selection import SelectKBest, f_regression\n",
    "#from sklearn.feature_selection import SelectKBest, chi2\n",
    "import pprint\n",
    "import itertools"
   ]
  },
  {
   "cell_type": "code",
   "execution_count": 2,
   "metadata": {},
   "outputs": [],
   "source": [
    "#valiable\n",
    "num_select = 3\n",
    "\n",
    "every_MCS = 100"
   ]
  },
  {
   "cell_type": "code",
   "execution_count": 3,
   "metadata": {},
   "outputs": [
    {
     "name": "stdout",
     "output_type": "stream",
     "text": [
      "bのトップバッターは0.001である\n",
      "bのラストは4.999である\n",
      "max_stepは2500である\n"
     ]
    }
   ],
   "source": [
    "#変えた\n",
    "\n",
    "b = [i / 1000 for i in range(1, 5000, 2)]\n",
    "print(\"bのトップバッターは{}である\".format(b[0])) #0を目指したかった\n",
    "print(\"bのラストは{}である\".format(b[-1])) #5を目指したかった\n",
    "max_step = len(b)\n",
    "print(\"max_stepは{}である\".format(max_step)) "
   ]
  },
  {
   "cell_type": "code",
   "execution_count": 4,
   "metadata": {
    "scrolled": true
   },
   "outputs": [
    {
     "name": "stdout",
     "output_type": "stream",
     "text": [
      "X.shape is (781, 16799)\n"
     ]
    }
   ],
   "source": [
    "X = pd.read_table('geneX_df.txt',sep ='\\t')# 説明変数（こっちの特徴量上位5つ取り出す）\n",
    "print(\"X.shape is {}\".format(X.shape))\n",
    "\n",
    "y = pd.read_table('ERY_df.txt' ,sep ='\\t')# 目的変数\n",
    "#print('type of y is {}'.format(type(y)))\n",
    "\n",
    "num_sample = X.shape[0]#サンプル数\n",
    "num_feature = X.shape[1]#特徴量の数\n",
    "\n",
    "#Kをはじめにlist upするyの数とする"
   ]
  },
  {
   "cell_type": "markdown",
   "metadata": {},
   "source": [
    "サンプルが"
   ]
  },
  {
   "cell_type": "code",
   "execution_count": 5,
   "metadata": {},
   "outputs": [],
   "source": [
    "#falseしかない！！\n",
    "#X.isnull().apply(lambda col: col.value_counts(), axis=0).fillna(0).astype(np.int)"
   ]
  },
  {
   "cell_type": "code",
   "execution_count": 6,
   "metadata": {
    "scrolled": true
   },
   "outputs": [
    {
     "data": {
      "text/html": [
       "<div>\n",
       "<style scoped>\n",
       "    .dataframe tbody tr th:only-of-type {\n",
       "        vertical-align: middle;\n",
       "    }\n",
       "\n",
       "    .dataframe tbody tr th {\n",
       "        vertical-align: top;\n",
       "    }\n",
       "\n",
       "    .dataframe thead th {\n",
       "        text-align: right;\n",
       "    }\n",
       "</style>\n",
       "<table border=\"1\" class=\"dataframe\">\n",
       "  <thead>\n",
       "    <tr style=\"text-align: right;\">\n",
       "      <th></th>\n",
       "      <th>ARHGEF10L</th>\n",
       "      <th>HIF3A</th>\n",
       "      <th>RNF17</th>\n",
       "      <th>RNF11</th>\n",
       "      <th>REM1</th>\n",
       "      <th>RTN4RL2</th>\n",
       "      <th>C16orf13</th>\n",
       "      <th>C16orf11</th>\n",
       "      <th>FGFR1OP2</th>\n",
       "      <th>TSKS</th>\n",
       "      <th>...</th>\n",
       "      <th>TULP2</th>\n",
       "      <th>NPY5R</th>\n",
       "      <th>GNGT2</th>\n",
       "      <th>GNGT1</th>\n",
       "      <th>TULP3</th>\n",
       "      <th>PTRF</th>\n",
       "      <th>BCL6B</th>\n",
       "      <th>GSTK1</th>\n",
       "      <th>SELP</th>\n",
       "      <th>SELS</th>\n",
       "    </tr>\n",
       "  </thead>\n",
       "  <tbody>\n",
       "    <tr>\n",
       "      <td>TCGA-A8-A092-01</td>\n",
       "      <td>-0.92667</td>\n",
       "      <td>-4.836158</td>\n",
       "      <td>-0.545559</td>\n",
       "      <td>-0.425362</td>\n",
       "      <td>-2.511796</td>\n",
       "      <td>1.420118</td>\n",
       "      <td>-0.076931</td>\n",
       "      <td>-0.583953</td>\n",
       "      <td>-0.064954</td>\n",
       "      <td>-1.262546</td>\n",
       "      <td>...</td>\n",
       "      <td>-0.727478</td>\n",
       "      <td>-1.319172</td>\n",
       "      <td>-0.534283</td>\n",
       "      <td>-0.871063</td>\n",
       "      <td>0.137041</td>\n",
       "      <td>-0.494064</td>\n",
       "      <td>-0.396097</td>\n",
       "      <td>-1.178462</td>\n",
       "      <td>-1.748619</td>\n",
       "      <td>-0.659749</td>\n",
       "    </tr>\n",
       "    <tr>\n",
       "      <td>TCGA-D8-A1JK-01</td>\n",
       "      <td>-0.83967</td>\n",
       "      <td>-3.260158</td>\n",
       "      <td>0.420041</td>\n",
       "      <td>0.718538</td>\n",
       "      <td>-0.322796</td>\n",
       "      <td>-1.267982</td>\n",
       "      <td>0.252869</td>\n",
       "      <td>-0.583953</td>\n",
       "      <td>-0.031154</td>\n",
       "      <td>-1.634746</td>\n",
       "      <td>...</td>\n",
       "      <td>-0.165278</td>\n",
       "      <td>-1.691372</td>\n",
       "      <td>0.783017</td>\n",
       "      <td>0.037337</td>\n",
       "      <td>-0.051459</td>\n",
       "      <td>0.730136</td>\n",
       "      <td>1.388803</td>\n",
       "      <td>1.339138</td>\n",
       "      <td>-1.924519</td>\n",
       "      <td>0.075451</td>\n",
       "    </tr>\n",
       "    <tr>\n",
       "      <td>TCGA-E2-A10C-01</td>\n",
       "      <td>-0.11937</td>\n",
       "      <td>-4.646958</td>\n",
       "      <td>-0.545559</td>\n",
       "      <td>-0.453962</td>\n",
       "      <td>-1.073796</td>\n",
       "      <td>-1.506382</td>\n",
       "      <td>1.084969</td>\n",
       "      <td>1.680847</td>\n",
       "      <td>0.010146</td>\n",
       "      <td>0.890654</td>\n",
       "      <td>...</td>\n",
       "      <td>-0.166078</td>\n",
       "      <td>-1.129972</td>\n",
       "      <td>-0.350883</td>\n",
       "      <td>-0.681864</td>\n",
       "      <td>-0.206159</td>\n",
       "      <td>-0.406364</td>\n",
       "      <td>0.354103</td>\n",
       "      <td>-0.003162</td>\n",
       "      <td>-0.903719</td>\n",
       "      <td>-0.195349</td>\n",
       "    </tr>\n",
       "    <tr>\n",
       "      <td>TCGA-BH-A0C7-01</td>\n",
       "      <td>0.28803</td>\n",
       "      <td>-1.599358</td>\n",
       "      <td>-0.545559</td>\n",
       "      <td>-0.211162</td>\n",
       "      <td>-2.041396</td>\n",
       "      <td>-0.156182</td>\n",
       "      <td>-0.861231</td>\n",
       "      <td>-0.583953</td>\n",
       "      <td>-0.249454</td>\n",
       "      <td>-1.029746</td>\n",
       "      <td>...</td>\n",
       "      <td>-0.122478</td>\n",
       "      <td>-0.488172</td>\n",
       "      <td>-0.616583</td>\n",
       "      <td>-1.243263</td>\n",
       "      <td>0.330741</td>\n",
       "      <td>-0.188764</td>\n",
       "      <td>0.420403</td>\n",
       "      <td>-0.456262</td>\n",
       "      <td>0.914881</td>\n",
       "      <td>-0.427849</td>\n",
       "    </tr>\n",
       "    <tr>\n",
       "      <td>TCGA-A8-A06N-01</td>\n",
       "      <td>0.61053</td>\n",
       "      <td>-4.268858</td>\n",
       "      <td>-0.545559</td>\n",
       "      <td>0.764638</td>\n",
       "      <td>-2.182996</td>\n",
       "      <td>-1.431682</td>\n",
       "      <td>-0.876131</td>\n",
       "      <td>-0.583953</td>\n",
       "      <td>0.560146</td>\n",
       "      <td>-1.634746</td>\n",
       "      <td>...</td>\n",
       "      <td>-0.429378</td>\n",
       "      <td>2.566228</td>\n",
       "      <td>-1.073483</td>\n",
       "      <td>-1.243263</td>\n",
       "      <td>0.133141</td>\n",
       "      <td>-2.727864</td>\n",
       "      <td>-0.306397</td>\n",
       "      <td>-0.882762</td>\n",
       "      <td>-3.308419</td>\n",
       "      <td>-0.224949</td>\n",
       "    </tr>\n",
       "  </tbody>\n",
       "</table>\n",
       "<p>5 rows × 16799 columns</p>\n",
       "</div>"
      ],
      "text/plain": [
       "                 ARHGEF10L     HIF3A     RNF17     RNF11      REM1   RTN4RL2  \\\n",
       "TCGA-A8-A092-01   -0.92667 -4.836158 -0.545559 -0.425362 -2.511796  1.420118   \n",
       "TCGA-D8-A1JK-01   -0.83967 -3.260158  0.420041  0.718538 -0.322796 -1.267982   \n",
       "TCGA-E2-A10C-01   -0.11937 -4.646958 -0.545559 -0.453962 -1.073796 -1.506382   \n",
       "TCGA-BH-A0C7-01    0.28803 -1.599358 -0.545559 -0.211162 -2.041396 -0.156182   \n",
       "TCGA-A8-A06N-01    0.61053 -4.268858 -0.545559  0.764638 -2.182996 -1.431682   \n",
       "\n",
       "                 C16orf13  C16orf11  FGFR1OP2      TSKS  ...     TULP2  \\\n",
       "TCGA-A8-A092-01 -0.076931 -0.583953 -0.064954 -1.262546  ... -0.727478   \n",
       "TCGA-D8-A1JK-01  0.252869 -0.583953 -0.031154 -1.634746  ... -0.165278   \n",
       "TCGA-E2-A10C-01  1.084969  1.680847  0.010146  0.890654  ... -0.166078   \n",
       "TCGA-BH-A0C7-01 -0.861231 -0.583953 -0.249454 -1.029746  ... -0.122478   \n",
       "TCGA-A8-A06N-01 -0.876131 -0.583953  0.560146 -1.634746  ... -0.429378   \n",
       "\n",
       "                    NPY5R     GNGT2     GNGT1     TULP3      PTRF     BCL6B  \\\n",
       "TCGA-A8-A092-01 -1.319172 -0.534283 -0.871063  0.137041 -0.494064 -0.396097   \n",
       "TCGA-D8-A1JK-01 -1.691372  0.783017  0.037337 -0.051459  0.730136  1.388803   \n",
       "TCGA-E2-A10C-01 -1.129972 -0.350883 -0.681864 -0.206159 -0.406364  0.354103   \n",
       "TCGA-BH-A0C7-01 -0.488172 -0.616583 -1.243263  0.330741 -0.188764  0.420403   \n",
       "TCGA-A8-A06N-01  2.566228 -1.073483 -1.243263  0.133141 -2.727864 -0.306397   \n",
       "\n",
       "                    GSTK1      SELP      SELS  \n",
       "TCGA-A8-A092-01 -1.178462 -1.748619 -0.659749  \n",
       "TCGA-D8-A1JK-01  1.339138 -1.924519  0.075451  \n",
       "TCGA-E2-A10C-01 -0.003162 -0.903719 -0.195349  \n",
       "TCGA-BH-A0C7-01 -0.456262  0.914881 -0.427849  \n",
       "TCGA-A8-A06N-01 -0.882762 -3.308419 -0.224949  \n",
       "\n",
       "[5 rows x 16799 columns]"
      ]
     },
     "execution_count": 6,
     "metadata": {},
     "output_type": "execute_result"
    }
   ],
   "source": [
    "X.head()"
   ]
  },
  {
   "cell_type": "code",
   "execution_count": 7,
   "metadata": {},
   "outputs": [],
   "source": [
    "#type(X.iloc[3, 5]) #numpy.float64"
   ]
  },
  {
   "cell_type": "code",
   "execution_count": 8,
   "metadata": {
    "scrolled": true
   },
   "outputs": [
    {
     "data": {
      "text/html": [
       "<div>\n",
       "<style scoped>\n",
       "    .dataframe tbody tr th:only-of-type {\n",
       "        vertical-align: middle;\n",
       "    }\n",
       "\n",
       "    .dataframe tbody tr th {\n",
       "        vertical-align: top;\n",
       "    }\n",
       "\n",
       "    .dataframe thead th {\n",
       "        text-align: right;\n",
       "    }\n",
       "</style>\n",
       "<table border=\"1\" class=\"dataframe\">\n",
       "  <thead>\n",
       "    <tr style=\"text-align: right;\">\n",
       "      <th></th>\n",
       "      <th>ER_Status_nature2012</th>\n",
       "    </tr>\n",
       "  </thead>\n",
       "  <tbody>\n",
       "    <tr>\n",
       "      <td>TCGA-A8-A092-01</td>\n",
       "      <td>Positive</td>\n",
       "    </tr>\n",
       "    <tr>\n",
       "      <td>TCGA-D8-A1JK-01</td>\n",
       "      <td>Negative</td>\n",
       "    </tr>\n",
       "    <tr>\n",
       "      <td>TCGA-E2-A10C-01</td>\n",
       "      <td>Positive</td>\n",
       "    </tr>\n",
       "    <tr>\n",
       "      <td>TCGA-BH-A0C7-01</td>\n",
       "      <td>Positive</td>\n",
       "    </tr>\n",
       "    <tr>\n",
       "      <td>TCGA-A8-A06N-01</td>\n",
       "      <td>Positive</td>\n",
       "    </tr>\n",
       "  </tbody>\n",
       "</table>\n",
       "</div>"
      ],
      "text/plain": [
       "                ER_Status_nature2012\n",
       "TCGA-A8-A092-01             Positive\n",
       "TCGA-D8-A1JK-01             Negative\n",
       "TCGA-E2-A10C-01             Positive\n",
       "TCGA-BH-A0C7-01             Positive\n",
       "TCGA-A8-A06N-01             Positive"
      ]
     },
     "execution_count": 8,
     "metadata": {},
     "output_type": "execute_result"
    }
   ],
   "source": [
    "y.head()"
   ]
  },
  {
   "cell_type": "code",
   "execution_count": 9,
   "metadata": {},
   "outputs": [
    {
     "data": {
      "text/plain": [
       "781"
      ]
     },
     "execution_count": 9,
     "metadata": {},
     "output_type": "execute_result"
    }
   ],
   "source": [
    "len(y)"
   ]
  },
  {
   "cell_type": "code",
   "execution_count": 10,
   "metadata": {},
   "outputs": [],
   "source": [
    "# 1 行目の 1 列目の値を取得\n",
    "#df.iloc[1,1]\n",
    "\n",
    "for i in range(len(y)):\n",
    "    if y.iloc[i, 0]==\"Positive\":\n",
    "        y.iloc[i, 0]=np.float(1)\n",
    "    else:\n",
    "        y.iloc[i, 0]=np.float(0)"
   ]
  },
  {
   "cell_type": "code",
   "execution_count": 11,
   "metadata": {
    "scrolled": false
   },
   "outputs": [
    {
     "data": {
      "text/html": [
       "<div>\n",
       "<style scoped>\n",
       "    .dataframe tbody tr th:only-of-type {\n",
       "        vertical-align: middle;\n",
       "    }\n",
       "\n",
       "    .dataframe tbody tr th {\n",
       "        vertical-align: top;\n",
       "    }\n",
       "\n",
       "    .dataframe thead th {\n",
       "        text-align: right;\n",
       "    }\n",
       "</style>\n",
       "<table border=\"1\" class=\"dataframe\">\n",
       "  <thead>\n",
       "    <tr style=\"text-align: right;\">\n",
       "      <th></th>\n",
       "      <th>ER_Status_nature2012</th>\n",
       "    </tr>\n",
       "  </thead>\n",
       "  <tbody>\n",
       "    <tr>\n",
       "      <td>TCGA-A8-A092-01</td>\n",
       "      <td>1</td>\n",
       "    </tr>\n",
       "    <tr>\n",
       "      <td>TCGA-D8-A1JK-01</td>\n",
       "      <td>0</td>\n",
       "    </tr>\n",
       "    <tr>\n",
       "      <td>TCGA-E2-A10C-01</td>\n",
       "      <td>1</td>\n",
       "    </tr>\n",
       "    <tr>\n",
       "      <td>TCGA-BH-A0C7-01</td>\n",
       "      <td>1</td>\n",
       "    </tr>\n",
       "    <tr>\n",
       "      <td>TCGA-A8-A06N-01</td>\n",
       "      <td>1</td>\n",
       "    </tr>\n",
       "  </tbody>\n",
       "</table>\n",
       "</div>"
      ],
      "text/plain": [
       "                 ER_Status_nature2012\n",
       "TCGA-A8-A092-01                     1\n",
       "TCGA-D8-A1JK-01                     0\n",
       "TCGA-E2-A10C-01                     1\n",
       "TCGA-BH-A0C7-01                     1\n",
       "TCGA-A8-A06N-01                     1"
      ]
     },
     "execution_count": 11,
     "metadata": {},
     "output_type": "execute_result"
    }
   ],
   "source": [
    "y.head()"
   ]
  },
  {
   "cell_type": "code",
   "execution_count": 12,
   "metadata": {},
   "outputs": [
    {
     "data": {
      "text/plain": [
       "pandas.core.frame.DataFrame"
      ]
     },
     "execution_count": 12,
     "metadata": {},
     "output_type": "execute_result"
    }
   ],
   "source": [
    "type(y)"
   ]
  },
  {
   "cell_type": "code",
   "execution_count": 13,
   "metadata": {
    "scrolled": false
   },
   "outputs": [
    {
     "data": {
      "text/plain": [
       "TCGA-A8-A092-01    1\n",
       "TCGA-D8-A1JK-01    0\n",
       "TCGA-E2-A10C-01    1\n",
       "TCGA-BH-A0C7-01    1\n",
       "TCGA-A8-A06N-01    1\n",
       "                  ..\n",
       "TCGA-EW-A1OX-01    1\n",
       "TCGA-BH-A0BJ-01    1\n",
       "TCGA-EW-A1IY-01    1\n",
       "TCGA-D8-A142-01    0\n",
       "TCGA-BH-A1FC-01    0\n",
       "Name: ER_Status_nature2012, Length: 781, dtype: int64"
      ]
     },
     "execution_count": 13,
     "metadata": {},
     "output_type": "execute_result"
    }
   ],
   "source": [
    "series_y = y.loc[:, 'ER_Status_nature2012']\n",
    "series_y"
   ]
  },
  {
   "cell_type": "code",
   "execution_count": 14,
   "metadata": {},
   "outputs": [
    {
     "data": {
      "text/plain": [
       "pandas.core.series.Series"
      ]
     },
     "execution_count": 14,
     "metadata": {},
     "output_type": "execute_result"
    }
   ],
   "source": [
    "type(series_y)\n"
   ]
  },
  {
   "cell_type": "code",
   "execution_count": 15,
   "metadata": {},
   "outputs": [],
   "source": [
    "num_sample = X.shape[0]#サンプル数\n",
    "num_feature = X.shape[1]#特徴量の数"
   ]
  },
  {
   "cell_type": "markdown",
   "metadata": {},
   "source": [
    "👇```dead```してしまう\n",
    "\n",
    "原因はおそらく**メモリのオーバーフロー**\n",
    "- 私のpcメモリ...16 GB 2133 MHz LPDDR3\n",
    "- 「Jupyter Notebookは、変数以外にもキャッシュしているものがあります。出力(Out)は間違いなくキャッシュしています。変数を出力した場合、その変数をキャシュしていると思われ、サイズの大きなものを出力した場合はそれがキャッシュに残ってしまうので、メモリ不足になりやすいと思われます。」\n",
    "\n",
    "\n",
    "\n",
    "メモリー使用量を知る方法```memory_profiler```\n",
    "\n",
    "```\n",
    "pip install memory_profiler\n",
    "%load_ext memory_profiler\n",
    "import numpy as np\n",
    "import gc\n",
    "\n",
    "a = np.random.rand(10000,10000)\n",
    "%memit\n",
    "del a\n",
    "gc.collect()\n",
    "%memit\n",
    "```\n",
    "\n",
    "<br/>\n",
    "対処法\n",
    "\n",
    "- Jupyter Notebookを使わずにPythonファイルにして実行する(Jupyter Notebookのオーバーヘッドを回避する) ←それでも解決されなかった\n"
   ]
  },
  {
   "cell_type": "code",
   "execution_count": 16,
   "metadata": {},
   "outputs": [],
   "source": [
    "'''\n",
    "#状態y(yの色んなパターン)を作る\n",
    "y_element = range(2) #0, 1なので\n",
    "y_tuple_list = list(itertools.product(y_element, repeat=num_sample))\n",
    "\n",
    "print(\"type of y_tuple_list's element is {}\".format(type(y_tuple_list[0])))\n",
    "print(type(pd.Series(y_tuple_list[0]))) #ori_yとtypeを揃えるためこのようにしてseriesにしないといけない\n",
    "print(\"there are {} items in y_tuple_list.\".format(len(y_tuple_list)))\n",
    "'''\n",
    "\n",
    "\n",
    "#はじめに用意するレプリカはK個(今回はlen(y_tuple_list)/Max_temperとしてみる。)\n",
    "#すなわちもし一回もかぶらなかったら全通り制覇できる\n",
    "#K = len(y_tuple_list)/Max_temper #419.4304\n",
    "K = 2*210"
   ]
  },
  {
   "cell_type": "markdown",
   "metadata": {},
   "source": [
    "```chi2```にしたら```non-negative```とエラーが出た➡```f_regression```にした\n",
    "\n",
    "けど```f_regression```として良いのだろうか"
   ]
  },
  {
   "cell_type": "code",
   "execution_count": 17,
   "metadata": {},
   "outputs": [],
   "source": [
    "#mask_oriの計算（以降のエネルギー計算の基準となる）\n",
    "#ori_y == yとなる場合だけ、E(y)==0となる仕様\n",
    "\n",
    "#selector = SelectKBest(score_func=chi2, k=num_select) \n",
    "selector = SelectKBest(score_func=f_regression, k=num_select) \n",
    "selector.fit(X, series_y)\n",
    "mask_ori = selector.get_support() #各特徴量を選択したか否かのmaskを取得"
   ]
  },
  {
   "cell_type": "code",
   "execution_count": 18,
   "metadata": {},
   "outputs": [
    {
     "data": {
      "text/plain": [
       "TCGA-A8-A092-01    1\n",
       "TCGA-D8-A1JK-01    0\n",
       "TCGA-E2-A10C-01    1\n",
       "TCGA-BH-A0C7-01    1\n",
       "TCGA-A8-A06N-01    1\n",
       "                  ..\n",
       "TCGA-EW-A1OX-01    1\n",
       "TCGA-BH-A0BJ-01    1\n",
       "TCGA-EW-A1IY-01    1\n",
       "TCGA-D8-A142-01    0\n",
       "TCGA-BH-A1FC-01    0\n",
       "Name: ER_Status_nature2012, Length: 781, dtype: int64"
      ]
     },
     "execution_count": 18,
     "metadata": {},
     "output_type": "execute_result"
    }
   ],
   "source": [
    "series_y"
   ]
  },
  {
   "cell_type": "code",
   "execution_count": 19,
   "metadata": {},
   "outputs": [
    {
     "data": {
      "text/plain": [
       "array([False, False, False, ..., False, False, False])"
      ]
     },
     "execution_count": 19,
     "metadata": {},
     "output_type": "execute_result"
    }
   ],
   "source": [
    "mask_ori"
   ]
  },
  {
   "cell_type": "code",
   "execution_count": 20,
   "metadata": {},
   "outputs": [],
   "source": [
    "#エネルギーが0(最低)となるのがいつか基準を先に計算しておきましょう\n",
    "def E(y): #毎回のmaskとyが引数、合致度合いの計算を行う\n",
    "    #selector = SelectKBest(score_func=chi2, k=num_select) #SelectKBest #chi2...分類\n",
    "    selector = SelectKBest(score_func=f_regression, k=num_select) \n",
    "    selector.fit(X, y)\n",
    "    mask_each = selector.get_support() #各特徴量を選択したか否かのmaskを取得\n",
    "    \n",
    "    energy_trait_sum = 1 #0を回避するため\n",
    "    for i in range(len(mask_each)):\n",
    "        if mask_each[i]!=mask_ori[i]:\n",
    "            energy_trait_sum += 1\n",
    "    return energy_trait_sum #もとのyのときのmask(これをmaskとしている)との合致度合い（大きい⇒よく合致している）"
   ]
  },
  {
   "cell_type": "code",
   "execution_count": 21,
   "metadata": {
    "scrolled": true
   },
   "outputs": [
    {
     "data": {
      "text/plain": [
       "1"
      ]
     },
     "execution_count": 21,
     "metadata": {},
     "output_type": "execute_result"
    }
   ],
   "source": [
    "E(series_y)"
   ]
  },
  {
   "cell_type": "code",
   "execution_count": 22,
   "metadata": {},
   "outputs": [
    {
     "data": {
      "text/plain": [
       "TCGA-A8-A092-01    1\n",
       "TCGA-D8-A1JK-01    0\n",
       "TCGA-E2-A10C-01    1\n",
       "TCGA-BH-A0C7-01    1\n",
       "TCGA-A8-A06N-01    1\n",
       "                  ..\n",
       "TCGA-EW-A1OX-01    1\n",
       "TCGA-BH-A0BJ-01    1\n",
       "TCGA-EW-A1IY-01    1\n",
       "TCGA-D8-A142-01    0\n",
       "TCGA-BH-A1FC-01    0\n",
       "Name: ER_Status_nature2012, Length: 781, dtype: int64"
      ]
     },
     "execution_count": 22,
     "metadata": {},
     "output_type": "execute_result"
    }
   ],
   "source": [
    "series_y"
   ]
  },
  {
   "cell_type": "markdown",
   "metadata": {},
   "source": [
    "👇ここで毎回```The kernel appears to have died. It will restart automatically.```\n",
    "- num_sample = 10 できた\n",
    "- num_sample = 100　もうだめ\n",
    "- num_sample = 50　これでもだめ"
   ]
  },
  {
   "cell_type": "markdown",
   "metadata": {},
   "source": [
    "### 今日教わったこと、わかったこと\n",
    "```itertools.product```禁止\n",
    "\n",
    "- そもそもモンテカルロはエネルギー差を見るもの。１つだけ変えるからエネルギー差がわかる"
   ]
  },
  {
   "cell_type": "markdown",
   "metadata": {},
   "source": [
    "tried👇but didn't succeed"
   ]
  },
  {
   "cell_type": "markdown",
   "metadata": {},
   "source": [
    "頻繁に起こるエラー\n",
    "```'int' object is not subscriptable```。箇所は```ori_yj = y[j]```。```y```は```int```ではないのになぜ。"
   ]
  },
  {
   "cell_type": "code",
   "execution_count": 23,
   "metadata": {},
   "outputs": [
    {
     "data": {
      "text/plain": [
       "TCGA-A8-A092-01    1\n",
       "TCGA-D8-A1JK-01    0\n",
       "TCGA-E2-A10C-01    1\n",
       "TCGA-BH-A0C7-01    1\n",
       "TCGA-A8-A06N-01    1\n",
       "                  ..\n",
       "TCGA-EW-A1OX-01    1\n",
       "TCGA-BH-A0BJ-01    1\n",
       "TCGA-EW-A1IY-01    1\n",
       "TCGA-D8-A142-01    0\n",
       "TCGA-BH-A1FC-01    0\n",
       "Name: ER_Status_nature2012, Length: 781, dtype: int64"
      ]
     },
     "execution_count": 23,
     "metadata": {},
     "output_type": "execute_result"
    }
   ],
   "source": [
    "series_y #一行前までseriesなのになぜか数字になる時がある。"
   ]
  },
  {
   "cell_type": "code",
   "execution_count": 24,
   "metadata": {},
   "outputs": [],
   "source": [
    "Ene = [] #これからi(温度)ごとに入れていく。一行に入っているのもlistにしたい(行i, 列k, 要素Ene)\n",
    "y_list = [] #これからi(温度)ごとに、選択したyを記録していく。(行i, 要素num_tl)\n",
    "\n",
    "Ene.append({})\n",
    "y_list.append([])\n",
    "for k in range(K):\n",
    "    Ene[-1][k]= 1\n",
    "    y_list[-1].append(series_y)\n",
    "    \n",
    "for i in range(1, max_step):   \n",
    "    Ene.append({})\n",
    "    y_list.append([])\n",
    "    for k in range(K): #一度に熟すサンプル数\n",
    "        #MCS\n",
    "        #𝑃(B)/𝑃(A)>random ならば状態Bを採用し，そうでなければ状態Aを採用(Bを先、Aを過去とする)\n",
    "        j = random.randrange(num_sample) #何番目の0 or 1をいじるか決める\n",
    "        ori_yj = series_y[j]\n",
    "        series_y[j] = 1-series_y[j]\n",
    "        Ene[-1][k]= E(pd.Series(series_y))\n",
    "        y_list[-1].append(series_y)\n",
    "        \n",
    "        #今回のターンはiね。\n",
    "        r = math.exp(-Ene[i][k]*b[i]-(-Ene[i-1][k]*b[i-1])) #Ene[i-1][k]*b[i-1] - Ene[i][k]*b[i] #大きいほうが良い\n",
    "        #rr = math.exp(-eene[0][0]*b[3]-(-eene[1][0]*b[2])) \n",
    "        R = np.random.uniform(0.0, 1.0)\n",
    "        if R > r : #乱数R > エネルギー差の大きさを用いた計算\n",
    "            Ene[-1][k] = Ene[i-1][k]\n",
    "            y_list[-1][k] = y_list[i-1][k]\n",
    "            series_y = y_list[i-1][k]\n",
    "    \n",
    "    \n",
    "    #Eneのi行目に数値が全部入って、かつ👇を満たすようだったら\n",
    "    if i%every_MCS == 0:\n",
    "        Ei_sorted = sorted(Ene[-1].items(), key=lambda x:x[1]) #辞書をvalueを元にsort\n",
    "        tuple_kE_list = Ei_sorted[0:int(len(Ei_sorted))] #tuple(k, Ene)\n",
    "        \n",
    "        #y_list[-1](y_listの最後尾)を並べ替え\n",
    "        y_list_sort = [y_list[-1][tuple_kE_list[k][0]] for k in range(K)]\n",
    "        \n",
    "        #ここまでで、Ei_sorted, tuple_kE_list, y_list_sortによってsortedされたEneとy_listが得られた\n",
    "        \n",
    "        #Ene[i][k]はいつでも0以外にしないとエラーが起こる\n",
    "        sumQ = sum([math.exp(-(b[i]-b[i-1])*Ene[i][k]) for k in range(K)])\n",
    "        \n",
    "        #すべてのアイテムについてコピー可能数を計算する\n",
    "        tbi = [K*math.exp(-(b[i]-b[i-1])*tuple_kE_list[k][1])/sumQ for k in range(K)]\n",
    "        \n",
    "        next_K = 0 #次のKの値を決めよう\n",
    "        reserve_min_num = 0\n",
    "        for k in range(K):\n",
    "            if next_K <= K:\n",
    "                if tbi[k] % 1 >= 0.5:\n",
    "                    tbi[k] = tbi[k] // 1 +1\n",
    "                else:\n",
    "                    tbi[k] = tbi[k] // 1\n",
    "                    \n",
    "                next_K += tbi[k]\n",
    "            else:\n",
    "                reserve_min_num = k-1\n",
    "                break #forループを抜ける\n",
    "        \n",
    "        \n",
    "        #k, k+1, ..., Kにおいてtuple_kE_list[k][1]を0, 1, ...k-1のととって変える\n",
    "        for k in range(reserve_min_num): #次にも引き継がれるk\n",
    "            for kk in range(tbi[k]): #kによって含まれる要素数が異なる\n",
    "                ll = tbi[k]*k + kk + 1 #エネルギー大きいほうからll番目\n",
    "                ori_k = tuple_kE_list[-ll][0]#いわゆるkを知る\n",
    "                y_list[-1][ori_k] = y_list_sort[-ll]\n",
    "                Ene[-1][ori_k] = tuple_kE_list[-ll][1]\n",
    "                \n",
    "        K = int(next_K)\n",
    "                \n",
    "\n",
    "if len(Ene) == max_step:               \n",
    "    #初期値を抜く\n",
    "    del Ene[0]\n",
    "    del y_list[0]"
   ]
  },
  {
   "cell_type": "code",
   "execution_count": 25,
   "metadata": {},
   "outputs": [
    {
     "data": {
      "text/html": [
       "<div>\n",
       "<style scoped>\n",
       "    .dataframe tbody tr th:only-of-type {\n",
       "        vertical-align: middle;\n",
       "    }\n",
       "\n",
       "    .dataframe tbody tr th {\n",
       "        vertical-align: top;\n",
       "    }\n",
       "\n",
       "    .dataframe thead th {\n",
       "        text-align: right;\n",
       "    }\n",
       "</style>\n",
       "<table border=\"1\" class=\"dataframe\">\n",
       "  <thead>\n",
       "    <tr style=\"text-align: right;\">\n",
       "      <th></th>\n",
       "      <th>0</th>\n",
       "      <th>1</th>\n",
       "      <th>2</th>\n",
       "      <th>3</th>\n",
       "      <th>4</th>\n",
       "      <th>5</th>\n",
       "      <th>6</th>\n",
       "      <th>7</th>\n",
       "      <th>8</th>\n",
       "      <th>9</th>\n",
       "      <th>...</th>\n",
       "      <th>410</th>\n",
       "      <th>411</th>\n",
       "      <th>412</th>\n",
       "      <th>413</th>\n",
       "      <th>414</th>\n",
       "      <th>415</th>\n",
       "      <th>416</th>\n",
       "      <th>417</th>\n",
       "      <th>418</th>\n",
       "      <th>419</th>\n",
       "    </tr>\n",
       "  </thead>\n",
       "  <tbody>\n",
       "    <tr>\n",
       "      <td>0</td>\n",
       "      <td>1</td>\n",
       "      <td>1</td>\n",
       "      <td>1</td>\n",
       "      <td>1</td>\n",
       "      <td>1</td>\n",
       "      <td>1</td>\n",
       "      <td>1</td>\n",
       "      <td>1</td>\n",
       "      <td>1</td>\n",
       "      <td>1</td>\n",
       "      <td>...</td>\n",
       "      <td>5</td>\n",
       "      <td>5</td>\n",
       "      <td>5</td>\n",
       "      <td>5</td>\n",
       "      <td>5</td>\n",
       "      <td>5</td>\n",
       "      <td>5</td>\n",
       "      <td>5</td>\n",
       "      <td>5</td>\n",
       "      <td>5</td>\n",
       "    </tr>\n",
       "    <tr>\n",
       "      <td>1</td>\n",
       "      <td>5</td>\n",
       "      <td>5</td>\n",
       "      <td>5</td>\n",
       "      <td>5</td>\n",
       "      <td>5</td>\n",
       "      <td>5</td>\n",
       "      <td>5</td>\n",
       "      <td>5</td>\n",
       "      <td>5</td>\n",
       "      <td>5</td>\n",
       "      <td>...</td>\n",
       "      <td>7</td>\n",
       "      <td>7</td>\n",
       "      <td>7</td>\n",
       "      <td>7</td>\n",
       "      <td>7</td>\n",
       "      <td>7</td>\n",
       "      <td>7</td>\n",
       "      <td>7</td>\n",
       "      <td>7</td>\n",
       "      <td>7</td>\n",
       "    </tr>\n",
       "    <tr>\n",
       "      <td>2</td>\n",
       "      <td>7</td>\n",
       "      <td>7</td>\n",
       "      <td>7</td>\n",
       "      <td>7</td>\n",
       "      <td>7</td>\n",
       "      <td>7</td>\n",
       "      <td>7</td>\n",
       "      <td>7</td>\n",
       "      <td>7</td>\n",
       "      <td>7</td>\n",
       "      <td>...</td>\n",
       "      <td>7</td>\n",
       "      <td>7</td>\n",
       "      <td>7</td>\n",
       "      <td>7</td>\n",
       "      <td>7</td>\n",
       "      <td>7</td>\n",
       "      <td>7</td>\n",
       "      <td>7</td>\n",
       "      <td>7</td>\n",
       "      <td>7</td>\n",
       "    </tr>\n",
       "    <tr>\n",
       "      <td>3</td>\n",
       "      <td>7</td>\n",
       "      <td>7</td>\n",
       "      <td>7</td>\n",
       "      <td>7</td>\n",
       "      <td>7</td>\n",
       "      <td>7</td>\n",
       "      <td>7</td>\n",
       "      <td>7</td>\n",
       "      <td>7</td>\n",
       "      <td>7</td>\n",
       "      <td>...</td>\n",
       "      <td>7</td>\n",
       "      <td>7</td>\n",
       "      <td>7</td>\n",
       "      <td>7</td>\n",
       "      <td>7</td>\n",
       "      <td>7</td>\n",
       "      <td>7</td>\n",
       "      <td>7</td>\n",
       "      <td>7</td>\n",
       "      <td>7</td>\n",
       "    </tr>\n",
       "    <tr>\n",
       "      <td>4</td>\n",
       "      <td>7</td>\n",
       "      <td>7</td>\n",
       "      <td>7</td>\n",
       "      <td>7</td>\n",
       "      <td>7</td>\n",
       "      <td>7</td>\n",
       "      <td>7</td>\n",
       "      <td>7</td>\n",
       "      <td>7</td>\n",
       "      <td>7</td>\n",
       "      <td>...</td>\n",
       "      <td>7</td>\n",
       "      <td>7</td>\n",
       "      <td>7</td>\n",
       "      <td>7</td>\n",
       "      <td>7</td>\n",
       "      <td>7</td>\n",
       "      <td>7</td>\n",
       "      <td>7</td>\n",
       "      <td>7</td>\n",
       "      <td>7</td>\n",
       "    </tr>\n",
       "    <tr>\n",
       "      <td>...</td>\n",
       "      <td>...</td>\n",
       "      <td>...</td>\n",
       "      <td>...</td>\n",
       "      <td>...</td>\n",
       "      <td>...</td>\n",
       "      <td>...</td>\n",
       "      <td>...</td>\n",
       "      <td>...</td>\n",
       "      <td>...</td>\n",
       "      <td>...</td>\n",
       "      <td>...</td>\n",
       "      <td>...</td>\n",
       "      <td>...</td>\n",
       "      <td>...</td>\n",
       "      <td>...</td>\n",
       "      <td>...</td>\n",
       "      <td>...</td>\n",
       "      <td>...</td>\n",
       "      <td>...</td>\n",
       "      <td>...</td>\n",
       "      <td>...</td>\n",
       "    </tr>\n",
       "    <tr>\n",
       "      <td>2494</td>\n",
       "      <td>7</td>\n",
       "      <td>7</td>\n",
       "      <td>7</td>\n",
       "      <td>7</td>\n",
       "      <td>7</td>\n",
       "      <td>7</td>\n",
       "      <td>7</td>\n",
       "      <td>7</td>\n",
       "      <td>7</td>\n",
       "      <td>7</td>\n",
       "      <td>...</td>\n",
       "      <td>7</td>\n",
       "      <td>7</td>\n",
       "      <td>7</td>\n",
       "      <td>7</td>\n",
       "      <td>7</td>\n",
       "      <td>7</td>\n",
       "      <td>7</td>\n",
       "      <td>7</td>\n",
       "      <td>7</td>\n",
       "      <td>7</td>\n",
       "    </tr>\n",
       "    <tr>\n",
       "      <td>2495</td>\n",
       "      <td>7</td>\n",
       "      <td>7</td>\n",
       "      <td>7</td>\n",
       "      <td>7</td>\n",
       "      <td>7</td>\n",
       "      <td>7</td>\n",
       "      <td>7</td>\n",
       "      <td>7</td>\n",
       "      <td>7</td>\n",
       "      <td>7</td>\n",
       "      <td>...</td>\n",
       "      <td>7</td>\n",
       "      <td>7</td>\n",
       "      <td>7</td>\n",
       "      <td>7</td>\n",
       "      <td>7</td>\n",
       "      <td>7</td>\n",
       "      <td>7</td>\n",
       "      <td>7</td>\n",
       "      <td>7</td>\n",
       "      <td>7</td>\n",
       "    </tr>\n",
       "    <tr>\n",
       "      <td>2496</td>\n",
       "      <td>7</td>\n",
       "      <td>7</td>\n",
       "      <td>7</td>\n",
       "      <td>7</td>\n",
       "      <td>7</td>\n",
       "      <td>7</td>\n",
       "      <td>7</td>\n",
       "      <td>7</td>\n",
       "      <td>7</td>\n",
       "      <td>7</td>\n",
       "      <td>...</td>\n",
       "      <td>7</td>\n",
       "      <td>7</td>\n",
       "      <td>7</td>\n",
       "      <td>7</td>\n",
       "      <td>7</td>\n",
       "      <td>7</td>\n",
       "      <td>7</td>\n",
       "      <td>7</td>\n",
       "      <td>7</td>\n",
       "      <td>7</td>\n",
       "    </tr>\n",
       "    <tr>\n",
       "      <td>2497</td>\n",
       "      <td>7</td>\n",
       "      <td>7</td>\n",
       "      <td>7</td>\n",
       "      <td>7</td>\n",
       "      <td>7</td>\n",
       "      <td>7</td>\n",
       "      <td>7</td>\n",
       "      <td>7</td>\n",
       "      <td>7</td>\n",
       "      <td>7</td>\n",
       "      <td>...</td>\n",
       "      <td>7</td>\n",
       "      <td>7</td>\n",
       "      <td>7</td>\n",
       "      <td>7</td>\n",
       "      <td>7</td>\n",
       "      <td>7</td>\n",
       "      <td>7</td>\n",
       "      <td>7</td>\n",
       "      <td>7</td>\n",
       "      <td>7</td>\n",
       "    </tr>\n",
       "    <tr>\n",
       "      <td>2498</td>\n",
       "      <td>7</td>\n",
       "      <td>7</td>\n",
       "      <td>7</td>\n",
       "      <td>7</td>\n",
       "      <td>7</td>\n",
       "      <td>7</td>\n",
       "      <td>7</td>\n",
       "      <td>7</td>\n",
       "      <td>7</td>\n",
       "      <td>7</td>\n",
       "      <td>...</td>\n",
       "      <td>7</td>\n",
       "      <td>7</td>\n",
       "      <td>7</td>\n",
       "      <td>7</td>\n",
       "      <td>7</td>\n",
       "      <td>7</td>\n",
       "      <td>7</td>\n",
       "      <td>7</td>\n",
       "      <td>7</td>\n",
       "      <td>7</td>\n",
       "    </tr>\n",
       "  </tbody>\n",
       "</table>\n",
       "<p>2499 rows × 420 columns</p>\n",
       "</div>"
      ],
      "text/plain": [
       "      0    1    2    3    4    5    6    7    8    9    ...  410  411  412  \\\n",
       "0       1    1    1    1    1    1    1    1    1    1  ...    5    5    5   \n",
       "1       5    5    5    5    5    5    5    5    5    5  ...    7    7    7   \n",
       "2       7    7    7    7    7    7    7    7    7    7  ...    7    7    7   \n",
       "3       7    7    7    7    7    7    7    7    7    7  ...    7    7    7   \n",
       "4       7    7    7    7    7    7    7    7    7    7  ...    7    7    7   \n",
       "...   ...  ...  ...  ...  ...  ...  ...  ...  ...  ...  ...  ...  ...  ...   \n",
       "2494    7    7    7    7    7    7    7    7    7    7  ...    7    7    7   \n",
       "2495    7    7    7    7    7    7    7    7    7    7  ...    7    7    7   \n",
       "2496    7    7    7    7    7    7    7    7    7    7  ...    7    7    7   \n",
       "2497    7    7    7    7    7    7    7    7    7    7  ...    7    7    7   \n",
       "2498    7    7    7    7    7    7    7    7    7    7  ...    7    7    7   \n",
       "\n",
       "      413  414  415  416  417  418  419  \n",
       "0       5    5    5    5    5    5    5  \n",
       "1       7    7    7    7    7    7    7  \n",
       "2       7    7    7    7    7    7    7  \n",
       "3       7    7    7    7    7    7    7  \n",
       "4       7    7    7    7    7    7    7  \n",
       "...   ...  ...  ...  ...  ...  ...  ...  \n",
       "2494    7    7    7    7    7    7    7  \n",
       "2495    7    7    7    7    7    7    7  \n",
       "2496    7    7    7    7    7    7    7  \n",
       "2497    7    7    7    7    7    7    7  \n",
       "2498    7    7    7    7    7    7    7  \n",
       "\n",
       "[2499 rows x 420 columns]"
      ]
     },
     "execution_count": 25,
     "metadata": {},
     "output_type": "execute_result"
    }
   ],
   "source": [
    "pd.DataFrame(Ene)"
   ]
  },
  {
   "cell_type": "code",
   "execution_count": 26,
   "metadata": {},
   "outputs": [
    {
     "name": "stdout",
     "output_type": "stream",
     "text": [
      "7.0\n"
     ]
    },
    {
     "data": {
      "image/png": "[encoded data removed]",
      "text/plain": [
       "<Figure size 432x288 with 1 Axes>"
      ]
     },
     "metadata": {
      "needs_background": "light"
     },
     "output_type": "display_data"
    }
   ],
   "source": [
    "Ene_v_sum_list = []\n",
    "Ene_v_sum_list_append = Ene_v_sum_list.append\n",
    "for each_Ene in Ene:\n",
    "    Ene_v_sum = sum([Ene_v for Ene_v in each_Ene.values()])\n",
    "    Ene_v_sum_list_append(Ene_v_sum/K)\n",
    "#Ene_v_sum_list\n",
    "plt.plot(Ene_v_sum_list)\n",
    "plt.savefig('meeting_0428_0_figure_0.png')\n",
    "print(Ene_v_sum_list[-1])"
   ]
  },
  {
   "cell_type": "code",
   "execution_count": 28,
   "metadata": {
    "scrolled": true
   },
   "outputs": [
    {
     "data": {
      "image/png": "[encoded data removed]",
      "text/plain": [
       "<Figure size 432x288 with 1 Axes>"
      ]
     },
     "metadata": {
      "needs_background": "light"
     },
     "output_type": "display_data"
    }
   ],
   "source": [
    "#毎度(約)K個あるアイテムの内、0, 100, 200, 400番目のアイテムのエネルギーの移り変わりをplotする\n",
    "ene0 = []\n",
    "ene100 = []\n",
    "ene200 = []\n",
    "ene400 = []\n",
    "for i in range(len(Ene)):\n",
    "    ene0.append(Ene[i][0])\n",
    "    ene100.append(Ene[i][100])\n",
    "    ene200.append(Ene[i][200])\n",
    "    ene400.append(Ene[i][400])\n",
    "\n",
    "plt.plot(ene0)\n",
    "plt.plot(ene100)\n",
    "plt.plot(ene200)\n",
    "plt.plot(ene400)\n",
    "plt.savefig('meeting_0428_0_figure_1.png')"
   ]
  },
  {
   "cell_type": "code",
   "execution_count": 30,
   "metadata": {},
   "outputs": [
    {
     "data": {
      "image/png": "[encoded data removed]",
      "text/plain": [
       "<Figure size 432x288 with 1 Axes>"
      ]
     },
     "metadata": {
      "needs_background": "light"
     },
     "output_type": "display_data"
    }
   ],
   "source": [
    "#エネルギーが最小(1)のアイテム数の移り変わりをplotする\n",
    "\n",
    "ene0_num = []\n",
    "for i in range(len(Ene)):\n",
    "    ene0_num.append(len([k for k, v in Ene[i].items() if v == 1]))\n",
    "    \n",
    "plt.plot(ene0_num)\n",
    "plt.savefig('meeting_0428_0_figure_2.png')"
   ]
  },
  {
   "cell_type": "code",
   "execution_count": null,
   "metadata": {},
   "outputs": [],
   "source": []
  }
 ],
 "metadata": {
  "kernelspec": {
   "display_name": "Python 3",
   "language": "python",
   "name": "python3"
  },
  "language_info": {
   "codemirror_mode": {
    "name": "ipython",
    "version": 3
   },
   "file_extension": ".py",
   "mimetype": "text/x-python",
   "name": "python",
   "nbconvert_exporter": "python",
   "pygments_lexer": "ipython3",
   "version": "3.7.6"
  }
 },
 "nbformat": 4,
 "nbformat_minor": 2
}
