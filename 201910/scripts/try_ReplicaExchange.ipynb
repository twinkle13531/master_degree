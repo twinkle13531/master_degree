{
 "cells": [
  {
   "cell_type": "markdown",
   "metadata": {},
   "source": [
    "- 周辺尤度計算における温度交換の確率 http://watanabe-www.math.dis.titech.ac.jp/users/swatanab/exchange_free_energy.pdf\n",
    "- sklearn.feature_selection による特徴量選択 https://qiita.com/rockhopper/items/a68ceb3248f2b3a41c89\n",
    "- ベイズ統計の理論と方法5.1 MCMC http://watanabe-www.math.dis.titech.ac.jp/~kohashi/document/bayes_51.pdf\n",
    "- MCMC, REMC https://github.com/scipy-japan/tokyo-scipy/blob/master/005/teramonagi/Pyremc/pyremc/mcmc.py\n",
    "- 物理学特別講義　https://www.ism.ac.jp/~iba/kougi_2006_ism/c20061.pdf\n",
    "- MCMCチュートリアル　https://www.ism.ac.jp/~shiro/papers/2017.05.slides/Iba.pdf\n",
    "- モンテカルロ法における詳細釣り合い条件と遷移確率の決め方についてhttps://qiita.com/kaityo256/items/f05f9914eb0ad16afe05#熱浴法とメトロポリス法\n",
    "- レプリカ交換型差分進化マルコフ連鎖による多峰性分布からの効率的なサンプリング\n",
    "　https://www.jstage.jst.go.jp/article/tjpnsec/9/2/9_32/_pdf/-char/en"
   ]
  },
  {
   "cell_type": "markdown",
   "metadata": {},
   "source": [
    "- 先程詳細釣り合い条件を導出する際は、「ボルツマン重みに比例する状態を平衡状態として持つこと」を要請した。すなわち必要条件のように見える。しかし、詳細釣り合い条件を満たす系は、状態遷移を繰り返すと、希望する平衡状態に必ず収束することが証明できる\n",
    "- ボルツマン=ギブス\n",
    "- ボルツマン機械とは、マルコフ確率場で表されるもっとも簡単な機械であり、ボルツマン分布として表される。"
   ]
  },
  {
   "cell_type": "markdown",
   "metadata": {},
   "source": [
    "### 言われたこと\n",
    "- 1対1\n",
    "- top5\n",
    "- Yを始めは0, 1にしよう"
   ]
  },
  {
   "cell_type": "markdown",
   "metadata": {},
   "source": [
    "### 考えたこと\n",
    "- filter method"
   ]
  },
  {
   "cell_type": "markdown",
   "metadata": {},
   "source": [
    "- read_csv()\tコンマ区切りのファイルを読み込む。\n",
    "- read_table()\tタブ区切りのファイルを読み込む。\n",
    "- デフォルトの区切り文字だけが違うだけで両者のパフォーマンスに違いはない\n",
    "\n",
    "<br/>\n",
    "\n",
    "\n",
    "行、列の指定方法\n",
    "- loc  行ラベル、 列ラベル\n",
    "- iloc 行の番号(0 ~ )、列の番号(0 ~ )\n",
    "- ix 行ラベル、列ラベル または 行の番号(0 ~ )、列の番号(0 ~ )\n"
   ]
  },
  {
   "cell_type": "markdown",
   "metadata": {},
   "source": [
    "filter法\n",
    "- 統計のテクニックを用いて各特徴の「予測に使える度合」を点数化する\n",
    "- 機械学習クラウドサービスのマイクロソフトAzure Machine Learning Studioではフィルタ法として7つの手法が用意されています。"
   ]
  },
  {
   "cell_type": "code",
   "execution_count": 1,
   "metadata": {},
   "outputs": [],
   "source": [
    "import pandas as pd"
   ]
  },
  {
   "cell_type": "code",
   "execution_count": 2,
   "metadata": {},
   "outputs": [
    {
     "data": {
      "text/plain": [
       "\"\\n# 説明変数（こっちの特徴量上位5つ取り出す）\\ndata_SNP = pd.read_table('CIMMYTwheat_markers.txt', header=None,  sep =  ' ')\\n\\n\\n# 目的変数\\ndata_yields = pd.read_table('CIMMYTwheat_yields.txt', header=None,  sep =  ' ')\\n\\n#１列目での予測失敗、最大値を使った予測失敗、最小値を使った予測失敗、2・3列目での予測失敗\\ndata_amount_list = []\\nfor i in range(len(data_yields)):\\n    data_amount_list.append(data_yields.iloc[i, 0])\\n\""
      ]
     },
     "execution_count": 2,
     "metadata": {},
     "output_type": "execute_result"
    }
   ],
   "source": [
    "# 説明変数（こっちの特徴量上位5つ取り出す）\n",
    "data_SNP = pd.read_table('CIMMYTwheat_markers.txt', header=None,  sep =  ' ')\n",
    "\n",
    "\n",
    "# 目的変数\n",
    "data_yields = pd.read_table('CIMMYTwheat_yields.txt', header=None,  sep =  ' ')\n",
    "\n",
    "#１列目での予測失敗、最大値を使った予測失敗、最小値を使った予測失敗、2・3列目での予測失敗\n",
    "data_amount_list = []\n",
    "for i in range(len(data_yields)):\n",
    "    data_amount_list.append(data_yields.iloc[i, 0])"
   ]
  },
  {
   "cell_type": "code",
   "execution_count": 4,
   "metadata": {},
   "outputs": [],
   "source": [
    "data_amount = pd.Series(data_amount_list)"
   ]
  },
  {
   "cell_type": "code",
   "execution_count": 5,
   "metadata": {
    "scrolled": false
   },
   "outputs": [
    {
     "name": "stdout",
     "output_type": "stream",
     "text": [
      "(SNPサンプル数, 塩基数)= (20, 20)\n"
     ]
    }
   ],
   "source": [
    "print('(SNPサンプル数, 塩基数)=', data_SNP.shape)"
   ]
  },
  {
   "cell_type": "code",
   "execution_count": 6,
   "metadata": {},
   "outputs": [],
   "source": [
    "num_sample = data_SNP.shape[0]"
   ]
  },
  {
   "cell_type": "code",
   "execution_count": 7,
   "metadata": {},
   "outputs": [
    {
     "name": "stdout",
     "output_type": "stream",
     "text": [
      "[ True  True  True False  True False False False False False False False\n",
      " False False False False False  True False False]\n",
      "SNP.shape=(20, 20), SNP_selected.shape=(20, 5)\n"
     ]
    }
   ],
   "source": [
    "from sklearn.feature_selection import SelectKBest, f_regression\n",
    "\n",
    "# 5つの特徴量を選択\n",
    "selector = SelectKBest(score_func=f_regression, k=5) \n",
    "selector.fit(data_SNP, data_amount)\n",
    "mask = selector.get_support()    # 各特徴量を選択したか否かのmaskを取得\n",
    "print(mask)\n",
    "\n",
    "# 選択した特徴量の列のみ取得\n",
    "SNP_selected = selector.transform(data_SNP)\n",
    "print(\"SNP.shape={}, SNP_selected.shape={}\".format(data_SNP.shape, SNP_selected.shape))"
   ]
  },
  {
   "cell_type": "markdown",
   "metadata": {},
   "source": [
    "レプリカ交換法はアンサンブル・モンテカルロ法の一種で、大域的なサンプリングが期待される。<br/>\n",
    "拡張アンサンブルモンテカルロ法(extended ensemble Monte Carlo, generalized ensemble Monte Carlo)と呼ばれる手法群の１つであるレプリカ交換モンテカルロ法を用いる*2。拡張アンサンブルモンテカルロ法のアイディアとしてはパラメータの異なるいろいろな分布をまとめた分布の集まり（分布族）をシミュレーション計算の対象とし、全体の構成要素である各分布をうまく混合することで問題点を回避、実際に欲しい対象とする確率分布からのサンプリングを行う。"
   ]
  },
  {
   "cell_type": "markdown",
   "metadata": {},
   "source": [
    "ランダムにiを10000回(MC ステップ：多ければ多いほうが良い)とか1-100の中で選ぶというのがいいと思います．それで，その10000回で得られたエネルギーをヒストグラムにしてみるというのがわかりやすいかなと思います．"
   ]
  },
  {
   "cell_type": "markdown",
   "metadata": {},
   "source": [
    "randomモジュールの関数randint(a, b)はa <= n <= bのランダムな整数intを返す。randrange(a, b + 1)と等価。bの値も範囲に含むので注意。"
   ]
  },
  {
   "cell_type": "code",
   "execution_count": 8,
   "metadata": {},
   "outputs": [
    {
     "data": {
      "text/plain": [
       "'\\ndef  MonteCarlo(x0, T, num_sample, step_len, calcE):\\n    \\n    x = x0.copy() # x0は直接書き換えない方が良い (\"副作用\"を避ける)\\n    Xs = [x] #まずはxだけ入れた。これから次々入れていく。\\n    # できるだけ多く繰り返すための施策\\n    for _ in range(num_step):\\n        for count in range(step_len):\\n            idx = count % len(x)\\u3000#余り\\n            # TODO:  xのidx番目の要素を確率的に書き換える処理（r, Rの話）\\n        Xs = np.r_[Xs, [x]] #Xsに対して[x]の後に入れる\\n    return Xs\\n'"
      ]
     },
     "execution_count": 8,
     "metadata": {},
     "output_type": "execute_result"
    }
   ],
   "source": [
    "'''\n",
    "def  MonteCarlo(x0, T, num_sample, step_len, calcE):\n",
    "    \n",
    "    x = x0.copy() # x0は直接書き換えない方が良い (\"副作用\"を避ける)\n",
    "    Xs = [x] #まずはxだけ入れた。これから次々入れていく。\n",
    "    # できるだけ多く繰り返すための施策\n",
    "    for _ in range(num_step):\n",
    "        for count in range(step_len):\n",
    "            idx = count % len(x)　#余り\n",
    "            # TODO:  xのidx番目の要素を確率的に書き換える処理（r, Rの話）\n",
    "        Xs = np.r_[Xs, [x]] #Xsに対して[x]の後に入れる\n",
    "    return Xs\n",
    "'''"
   ]
  },
  {
   "cell_type": "code",
   "execution_count": 9,
   "metadata": {},
   "outputs": [],
   "source": [
    "from sklearn.metrics.cluster import normalized_mutual_info_score\n",
    "\n",
    "#print(Energy(mask))\n",
    "#print(mask)\n",
    "#print(type(E))\n",
    "#print(E[0])\n",
    "\n",
    "#mask_trial ...new_yによって選ばれた塩基mask(x)、forループを回すたび値が変わる、maskと比較するためにあるだけなので保存する必要なし\n",
    "\n",
    "import math\n",
    "import random\n",
    "\n",
    "#通常のMCMC（返り値は[一番最後の点のエネルギー、稲の収量リスト]\n",
    "def Montecarlo(T, num_sample=599, MCMC_step=10000):\n",
    "    E = [] #Eは配列、どんどん入れていく(一つ後ろで計算の際使用される)\n",
    "    def Energy(mask_trial): #最高エネルギー10\n",
    "        count_false = 0 #maskと何個違うかという基準でエネルギーを定義\n",
    "        for j in range(len(mask)):\n",
    "            if mask[j]!=mask_trial[j]:\n",
    "                count_false +=1    \n",
    "        return count_false\n",
    "    E.append(Energy(mask)) #第一要素を追加    \n",
    "    save_y = [] #ほしいベクトルを貯める配列\n",
    "    new_y = data_amount #以降要素を一つずつ変えていく #data_amountはSeries\n",
    "    count = 0\n",
    "    while True:\n",
    "        count += 1\n",
    "        i = random.randrange(num_sample)\n",
    "        ori_new_y_i = new_y[i]\n",
    "        new_y[i] = 1 - new_y[i]\n",
    "        #new_y[i] = random.uniform(-2, 2)\n",
    "        selector.fit(data_SNP, new_y)\n",
    "        mask_trial = selector.get_support()\n",
    "        E.append(Energy(mask_trial))  #mask_trialは順番に要素を足していく #E[0]=0とすでに入っている\n",
    "        r = math.exp(-(E[count]-E[count-1])/T) #温度付き\n",
    "        R = np.random.uniform(0.0, 1.0)\n",
    "        if R >= r : #f(z)が一個前のものよりも小さかったら⇔E[count]が一個前のものよりも大きかったら\n",
    "            new_y[i] = ori_new_y_i #元に戻す   \n",
    "        if count % MCMC_step == 0:\n",
    "            save_y.append(new_y)\n",
    "        else:\n",
    "            continue\n",
    "        if len(save_y) >= 1:\n",
    "            return [E[count], new_y] #P\n",
    "            break"
   ]
  },
  {
   "cell_type": "code",
   "execution_count": 10,
   "metadata": {},
   "outputs": [],
   "source": [
    "# レプリカモンテカルロ法（返り値は[要素K個のエネルギーリスト、]\n",
    "def Replica(Ts, num_sample=599, num_step=2000): #Tsは後で指定\n",
    "    E_replica = [] #要素K個のエネルギーリスト\n",
    "    T_replica = [] #要素K個の温度リスト\n",
    "    count_replica = 0\n",
    "    while True:\n",
    "        for l in Ts:\n",
    "            Montecarlo(l, num_sample)\n",
    "            E_replica.append(Montecarlo(l, num_sample)[0])\n",
    "            T_replica.append(l)\n",
    "        count_replica += 1\n",
    "        if count_replica % num_step != 0:\n",
    "            E_replica = []\n",
    "            T_replica = []\n",
    "        else:\n",
    "            break       \n",
    "    k = random.randint(1, len(Ts)-1)\n",
    "    if np.random.uniform(size=1) < math.exp((T_replica[k+1]-T_replica[k])*(E_replica[k+1]-E_replica[k])):\n",
    "        Ts[k], Ts[k+1] = Ts[k+1], Ts[k]\n",
    "    return [E_replica, Ts]"
   ]
  },
  {
   "cell_type": "code",
   "execution_count": 11,
   "metadata": {},
   "outputs": [
    {
     "data": {
      "text/plain": [
       "'\\nTs = np.linspace(1, 2000) #温度Tのリスト len(Ts)=K\\nfor _ in range(200):\\n    Replica(Ts,num_sample=599, num_step=2000)\\n\\nplt.plot(Ts, E_replica)\\n'"
      ]
     },
     "execution_count": 11,
     "metadata": {},
     "output_type": "execute_result"
    }
   ],
   "source": [
    "'''\n",
    "Ts = np.linspace(1, 2000) #温度Tのリスト len(Ts)=K\n",
    "for _ in range(200):\n",
    "    Replica(Ts,num_sample=599, num_step=2000)\n",
    "\n",
    "plt.plot(Ts, E_replica)\n",
    "'''"
   ]
  },
  {
   "cell_type": "code",
   "execution_count": 12,
   "metadata": {},
   "outputs": [
    {
     "ename": "TypeError",
     "evalue": "Montecarlo() missing 1 required positional argument: 'num_sample'",
     "output_type": "error",
     "traceback": [
      "\u001b[0;31m---------------------------------------------------------------------------\u001b[0m",
      "\u001b[0;31mTypeError\u001b[0m                                 Traceback (most recent call last)",
      "\u001b[0;32m<ipython-input-12-2eb9f98c319b>\u001b[0m in \u001b[0;36m<module>\u001b[0;34m\u001b[0m\n\u001b[1;32m      4\u001b[0m \u001b[0;34m\u001b[0m\u001b[0m\n\u001b[1;32m      5\u001b[0m \u001b[0mTs\u001b[0m \u001b[0;34m=\u001b[0m \u001b[0mrange\u001b[0m\u001b[0;34m(\u001b[0m\u001b[0;36m1\u001b[0m\u001b[0;34m,\u001b[0m \u001b[0;36m100\u001b[0m\u001b[0;34m)\u001b[0m\u001b[0;34m\u001b[0m\u001b[0;34m\u001b[0m\u001b[0m\n\u001b[0;32m----> 6\u001b[0;31m \u001b[0mYs\u001b[0m \u001b[0;34m=\u001b[0m \u001b[0;34m[\u001b[0m\u001b[0mMontecarlo\u001b[0m\u001b[0;34m(\u001b[0m\u001b[0mT\u001b[0m\u001b[0;34m)\u001b[0m\u001b[0;34m[\u001b[0m\u001b[0;36m0\u001b[0m\u001b[0;34m]\u001b[0m \u001b[0;32mfor\u001b[0m \u001b[0mT\u001b[0m \u001b[0;32min\u001b[0m \u001b[0mTs\u001b[0m\u001b[0;34m]\u001b[0m\u001b[0;34m\u001b[0m\u001b[0;34m\u001b[0m\u001b[0m\n\u001b[0m\u001b[1;32m      7\u001b[0m \u001b[0mplt\u001b[0m\u001b[0;34m.\u001b[0m\u001b[0mplot\u001b[0m\u001b[0;34m(\u001b[0m\u001b[0mTs\u001b[0m\u001b[0;34m,\u001b[0m \u001b[0mYs\u001b[0m\u001b[0;34m)\u001b[0m\u001b[0;34m\u001b[0m\u001b[0;34m\u001b[0m\u001b[0m\n",
      "\u001b[0;32m<ipython-input-12-2eb9f98c319b>\u001b[0m in \u001b[0;36m<listcomp>\u001b[0;34m(.0)\u001b[0m\n\u001b[1;32m      4\u001b[0m \u001b[0;34m\u001b[0m\u001b[0m\n\u001b[1;32m      5\u001b[0m \u001b[0mTs\u001b[0m \u001b[0;34m=\u001b[0m \u001b[0mrange\u001b[0m\u001b[0;34m(\u001b[0m\u001b[0;36m1\u001b[0m\u001b[0;34m,\u001b[0m \u001b[0;36m100\u001b[0m\u001b[0;34m)\u001b[0m\u001b[0;34m\u001b[0m\u001b[0;34m\u001b[0m\u001b[0m\n\u001b[0;32m----> 6\u001b[0;31m \u001b[0mYs\u001b[0m \u001b[0;34m=\u001b[0m \u001b[0;34m[\u001b[0m\u001b[0mMontecarlo\u001b[0m\u001b[0;34m(\u001b[0m\u001b[0mT\u001b[0m\u001b[0;34m)\u001b[0m\u001b[0;34m[\u001b[0m\u001b[0;36m0\u001b[0m\u001b[0;34m]\u001b[0m \u001b[0;32mfor\u001b[0m \u001b[0mT\u001b[0m \u001b[0;32min\u001b[0m \u001b[0mTs\u001b[0m\u001b[0;34m]\u001b[0m\u001b[0;34m\u001b[0m\u001b[0;34m\u001b[0m\u001b[0m\n\u001b[0m\u001b[1;32m      7\u001b[0m \u001b[0mplt\u001b[0m\u001b[0;34m.\u001b[0m\u001b[0mplot\u001b[0m\u001b[0;34m(\u001b[0m\u001b[0mTs\u001b[0m\u001b[0;34m,\u001b[0m \u001b[0mYs\u001b[0m\u001b[0;34m)\u001b[0m\u001b[0;34m\u001b[0m\u001b[0;34m\u001b[0m\u001b[0m\n",
      "\u001b[0;31mTypeError\u001b[0m: Montecarlo() missing 1 required positional argument: 'num_sample'"
     ]
    }
   ],
   "source": [
    "import matplotlib.pyplot as plt\n",
    "import math \n",
    "import numpy as np\n",
    "\n",
    "Ts = range(1, 100)\n",
    "Ys = [Montecarlo(T)[0] for T in Ts]\n",
    "plt.plot(Ts, Ys)"
   ]
  },
  {
   "cell_type": "markdown",
   "metadata": {},
   "source": [
    "#### 課題\n",
    "- MCMC_step=10000と上げたら全然終わらない。⇒ライブラリを使うor並列化\n",
    " - ライブラリ例…PyMC\n",
    "   - https://orizuru.io/blog/machine-learning/markov-chain-monte-carlo/ \"PyMCによるMarkov Chain Monte Carlo\"...多次元の線形回帰を行う場合は、かなりの数のサンプリングが必要になる。今回の例では、70000000（7千万）点で解析解に近い答えが得られた。計算時間は46分ほどである。\n",
    "   - https://www.slideshare.net/shima__shima/2014-mtokyoscipy6 \"PyMCがあれば，ベイズ推定でもう泣いたりなんかしない\"\n",
    " - ライブラリ例…emcee ⇔ 有力候補\n",
    "   - \"Paralell tempering(レプリカ交換モンテカルロ法)が使えるの他のライブラリとの大きな違いになります\"...事後分布=事前分布*尤度+定数 (lnprob=lnlike+lnprior)\n",
    "   - https://emcee.readthedocs.io/en/stable/tutorials/parallel/"
   ]
  },
  {
   "cell_type": "markdown",
   "metadata": {},
   "source": [
    "👇MCMC_step=200程度のとき（上中下）"
   ]
  },
  {
   "cell_type": "markdown",
   "metadata": {},
   "source": [
    "<img src = \"../images/20191031160301.png\" width = 80%>"
   ]
  },
  {
   "cell_type": "markdown",
   "metadata": {},
   "source": [
    "<img src = \"../images/20191031182156.png\" width = 80%>"
   ]
  },
  {
   "cell_type": "markdown",
   "metadata": {},
   "source": [
    "<img src = \"../images/20191031182927.png\" width = 80%>"
   ]
  },
  {
   "cell_type": "code",
   "execution_count": null,
   "metadata": {},
   "outputs": [],
   "source": []
  }
 ],
 "metadata": {
  "kernelspec": {
   "display_name": "Python 3",
   "language": "python",
   "name": "python3"
  },
  "language_info": {
   "codemirror_mode": {
    "name": "ipython",
    "version": 3
   },
   "file_extension": ".py",
   "mimetype": "text/x-python",
   "name": "python",
   "nbconvert_exporter": "python",
   "pygments_lexer": "ipython3",
   "version": "3.7.6"
  }
 },
 "nbformat": 4,
 "nbformat_minor": 2
}
