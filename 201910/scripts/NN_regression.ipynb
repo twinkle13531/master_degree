{
 "cells": [
  {
   "cell_type": "markdown",
   "metadata": {},
   "source": [
    "<img src = '../images/20191018214303.png'>"
   ]
  },
  {
   "cell_type": "markdown",
   "metadata": {},
   "source": [
    "- 回帰：燃費を予測する https://www.tensorflow.org/tutorials/keras/regression?hl=ja\n",
    "- 機械学習の歴史　https://www.jstage.jst.go.jp/article/psychono/35/2/35_35.26/_pdf　...画像認識においてNNがSVMの精度を超えたのは2012年。このとき使われたNNがCNN。2016年，Googleが買収したスタートアップDeepMind社のAlphaGoが人間の囲碁世界王者を破った。AlphaGoは碁盤の局面認識に深層ニューラルネットワークを用い，強化学習とモンテカルロ木探索(Monte Carlo tree search)を組み合わせている(Silver et al.,2016)。\n",
    "- ML全般　http://www.ms.k.u-tokyo.ac.jp/research-jp.html\n",
    "- NNについてのわかりやすい解説（回帰は他の資料も見る必要がある）https://qiita.com/Nezura/items/0a37e1746f2830e31ddc\n",
    "- 活性化関数まとめhttps://qiita.com/namitop/items/d3d5091c7d0ab669195f\n",
    "\n",
    "#### 特徴量選択に関係しそうな論文\n",
    "- いいサイト　IEEE Geoscience and Remote Sensing Letters\n",
    "- Layerwise feature selection in Stacked Sparse Auto-Encoder for tumor type prediction ~2016 IEEE International Conference on Bioinformatics and Biomedicine (BIBM)  ~Year: 2016, Volume: 1, Pages: 1542-1548  DOI Bookmark:10.1109/BIBM.2016.7822750\n",
    "- Large-Scale Empirical Study of Important Features Indicative of Discovered Vulnerabilities to Assess Application Security  ~Mengyuan Zhang\n",
    "- Automatic lung nodule detection using multi-scale dot nodule-enhancement filter and weighted support vector machines in chest computed tomography  ~Yu Gu https://journals.plos.org/plosone/article?id=10.1371/journal.pone.0210551"
   ]
  },
  {
   "cell_type": "markdown",
   "metadata": {},
   "source": [
    "### 1. NN\n",
    "\n",
    "- 誤差逆伝播則は，正解との差異，すなわち誤差の自乗和を，シナプス結合強度で微分し，各結合強度で加重して下位層へ伝播させる。誤差逆伝播則は入力層と出力層だけでなく，中間層を許す。このため，入出力の表象に拘束されない内部表象を獲得することが期待される。\n",
    "- オートエンコーダはノイズ除去、次元削減などに有効なネットワークだ。その名の通り、入力データを再現（デコード）することが可能な低次元の特徴を抽出（エンコード）できる。中間層は全結合である必要はなく、数十層重ねることが多い。積層型オートエンコーダ（Stacked Autoencoder）は、中間層のエンコード部分を一層ずつ逐次的に加えて学習し、積み重ねていく。教師なし学習のため、入力データ自身を教師データとするところが、ここまで紹介した他のネットワークとは異なる点だ。"
   ]
  },
  {
   "cell_type": "code",
   "execution_count": 1,
   "metadata": {},
   "outputs": [
    {
     "name": "stderr",
     "output_type": "stream",
     "text": [
      "/usr/local/Caskroom/miniconda/base/lib/python3.7/site-packages/tensorflow/python/framework/dtypes.py:516: FutureWarning: Passing (type, 1) or '1type' as a synonym of type is deprecated; in a future version of numpy, it will be understood as (type, (1,)) / '(1,)type'.\n",
      "  _np_qint8 = np.dtype([(\"qint8\", np.int8, 1)])\n",
      "/usr/local/Caskroom/miniconda/base/lib/python3.7/site-packages/tensorflow/python/framework/dtypes.py:517: FutureWarning: Passing (type, 1) or '1type' as a synonym of type is deprecated; in a future version of numpy, it will be understood as (type, (1,)) / '(1,)type'.\n",
      "  _np_quint8 = np.dtype([(\"quint8\", np.uint8, 1)])\n",
      "/usr/local/Caskroom/miniconda/base/lib/python3.7/site-packages/tensorflow/python/framework/dtypes.py:518: FutureWarning: Passing (type, 1) or '1type' as a synonym of type is deprecated; in a future version of numpy, it will be understood as (type, (1,)) / '(1,)type'.\n",
      "  _np_qint16 = np.dtype([(\"qint16\", np.int16, 1)])\n",
      "/usr/local/Caskroom/miniconda/base/lib/python3.7/site-packages/tensorflow/python/framework/dtypes.py:519: FutureWarning: Passing (type, 1) or '1type' as a synonym of type is deprecated; in a future version of numpy, it will be understood as (type, (1,)) / '(1,)type'.\n",
      "  _np_quint16 = np.dtype([(\"quint16\", np.uint16, 1)])\n",
      "/usr/local/Caskroom/miniconda/base/lib/python3.7/site-packages/tensorflow/python/framework/dtypes.py:520: FutureWarning: Passing (type, 1) or '1type' as a synonym of type is deprecated; in a future version of numpy, it will be understood as (type, (1,)) / '(1,)type'.\n",
      "  _np_qint32 = np.dtype([(\"qint32\", np.int32, 1)])\n",
      "/usr/local/Caskroom/miniconda/base/lib/python3.7/site-packages/tensorflow/python/framework/dtypes.py:525: FutureWarning: Passing (type, 1) or '1type' as a synonym of type is deprecated; in a future version of numpy, it will be understood as (type, (1,)) / '(1,)type'.\n",
      "  np_resource = np.dtype([(\"resource\", np.ubyte, 1)])\n",
      "/usr/local/Caskroom/miniconda/base/lib/python3.7/site-packages/tensorboard/compat/tensorflow_stub/dtypes.py:541: FutureWarning: Passing (type, 1) or '1type' as a synonym of type is deprecated; in a future version of numpy, it will be understood as (type, (1,)) / '(1,)type'.\n",
      "  _np_qint8 = np.dtype([(\"qint8\", np.int8, 1)])\n",
      "/usr/local/Caskroom/miniconda/base/lib/python3.7/site-packages/tensorboard/compat/tensorflow_stub/dtypes.py:542: FutureWarning: Passing (type, 1) or '1type' as a synonym of type is deprecated; in a future version of numpy, it will be understood as (type, (1,)) / '(1,)type'.\n",
      "  _np_quint8 = np.dtype([(\"quint8\", np.uint8, 1)])\n",
      "/usr/local/Caskroom/miniconda/base/lib/python3.7/site-packages/tensorboard/compat/tensorflow_stub/dtypes.py:543: FutureWarning: Passing (type, 1) or '1type' as a synonym of type is deprecated; in a future version of numpy, it will be understood as (type, (1,)) / '(1,)type'.\n",
      "  _np_qint16 = np.dtype([(\"qint16\", np.int16, 1)])\n",
      "/usr/local/Caskroom/miniconda/base/lib/python3.7/site-packages/tensorboard/compat/tensorflow_stub/dtypes.py:544: FutureWarning: Passing (type, 1) or '1type' as a synonym of type is deprecated; in a future version of numpy, it will be understood as (type, (1,)) / '(1,)type'.\n",
      "  _np_quint16 = np.dtype([(\"quint16\", np.uint16, 1)])\n",
      "/usr/local/Caskroom/miniconda/base/lib/python3.7/site-packages/tensorboard/compat/tensorflow_stub/dtypes.py:545: FutureWarning: Passing (type, 1) or '1type' as a synonym of type is deprecated; in a future version of numpy, it will be understood as (type, (1,)) / '(1,)type'.\n",
      "  _np_qint32 = np.dtype([(\"qint32\", np.int32, 1)])\n",
      "/usr/local/Caskroom/miniconda/base/lib/python3.7/site-packages/tensorboard/compat/tensorflow_stub/dtypes.py:550: FutureWarning: Passing (type, 1) or '1type' as a synonym of type is deprecated; in a future version of numpy, it will be understood as (type, (1,)) / '(1,)type'.\n",
      "  np_resource = np.dtype([(\"resource\", np.ubyte, 1)])\n"
     ]
    }
   ],
   "source": [
    "# 隠れ層をfitメソッドで指定できるように作りました。\n",
    "# 重みの更新はtrain_stepで指定したOptimizerによるコスト関数最小化で行ってくれるので、\n",
    "# バックプロパゲーションを手動で構築する必要はありません。\n",
    "import tensorflow as tf\n",
    "import numpy as np\n",
    "import matplotlib.pyplot as plt\n",
    "\n",
    "class nnet:\n",
    "    def __init__(self, X, random_state=3):\n",
    "        self.sess = tf.Session()\n",
    "        seed = random_state\n",
    "        tf.set_random_seed(seed)\n",
    "        np.random.seed(seed)\n",
    "        self.x_data = tf.placeholder(shape=[None, X.shape[1]], dtype=tf.float32)\n",
    "        self.y_target = tf.placeholder(shape=[None, 1], dtype=tf.float32)\n",
    "\n",
    "    def init_weight(self, shape, st_dev):\n",
    "        return tf.Variable(tf.random_normal(shape, stddev=st_dev))\n",
    "\n",
    "    def init_bias(self, shape, st_dev):\n",
    "        return tf.Variable(tf.random_normal(shape, stddev=st_dev))\n",
    "\n",
    "    def fully_connected(self, input_layer, weights, biases):\n",
    "        return tf.nn.relu(tf.add(tf.matmul(input_layer, weights), biases))\n",
    "\n",
    "    def fit(self, X, y, hidden_size, batch_size=100, iter_size=200):\n",
    "\n",
    "        x_data = self.x_data\n",
    "        y_target = self.y_target\n",
    "\n",
    "        final_output = self.build_hidden_layer(hidden_size, X.shape[1])\n",
    "\n",
    "        self.loss = tf.reduce_mean(tf.abs(y_target - final_output))\n",
    "        self.opt = tf.train.AdamOptimizer(0.05)\n",
    "        self.train_step = self.opt.minimize(self.loss)\n",
    "\n",
    "        init = tf.global_variables_initializer()\n",
    "        self.sess.run(init)\n",
    "\n",
    "        loss_vec = self.train(X, y, iter_size, batch_size)\n",
    "        plt.plot(loss_vec)\n",
    "        return final_output\n",
    "\n",
    "    def predict(self, final_output, X):\n",
    "        x_data = self.x_data\n",
    "        return [val[0] for val in self.sess.run(final_output, feed_dict={x_data: X})]\n",
    "\n",
    "\n",
    "    def train(self, X, y, iter_size, batch_size):\n",
    "        loss_vec = []\n",
    "        x_data = self.x_data\n",
    "        y_target = self.y_target\n",
    "        for i in range(iter_size):\n",
    "            rand_index = np.random.choice(len(X), size=batch_size)\n",
    "            rand_x = X[rand_index]\n",
    "            rand_y = np.transpose([y[rand_index]])\n",
    "            self.sess.run(self.train_step, feed_dict={x_data:rand_x, y_target: rand_y})\n",
    "            loss_vec.append(self.sess.run(self.loss, feed_dict={x_data:rand_x, y_target: rand_y}))\n",
    "\n",
    "            if (i+1)%25==0:\n",
    "                print('Generation:'+str(i+1)+', Loss = '+str(loss_vec[-1]))\n",
    "\n",
    "        return loss_vec\n",
    "\n",
    "\n",
    "# input_sizeは、画像のピクセル数をならしたもの28*28、\n",
    "# hidden_sizeは隠れ層のニューロン、\n",
    "# output_size=10は、0~９までの数字を想定\n",
    "    def build_hidden_layer(self, hidden_size, col_size):\n",
    "        weights = []\n",
    "        biases = []\n",
    "        layers = []\n",
    "        tmp_size = col_size\n",
    "        x_data = self.x_data\n",
    "        last_layer = x_data\n",
    "\n",
    "        for hsize in hidden_size:\n",
    "            weights.append(self.init_weight(shape=[tmp_size, hsize], st_dev=10.0))\n",
    "            biases.append(self.init_bias(shape=[hsize], st_dev=10.0))\n",
    "            layers.append(self.fully_connected(last_layer, weights[-1], biases[-1]))\n",
    "            tmp_size = hsize\n",
    "            last_layer = layers[-1]\n",
    "\n",
    "        weights.append(self.init_weight(shape=[tmp_size, 1], st_dev=10.0))\n",
    "        biases.append(self.init_bias(shape=[1], st_dev=10.0))\n",
    "        layers.append(self.fully_connected(last_layer, weights[-1], biases[-1]))\n",
    "        final_output = layers[-1]\n",
    "\n",
    "        return final_output"
   ]
  },
  {
   "cell_type": "code",
   "execution_count": 3,
   "metadata": {},
   "outputs": [],
   "source": [
    "import requests\n",
    "import csv\n",
    "import os\n",
    "\n",
    "birthdata_url = 'https://raw.githubusercontent.com/nfmcclure/tensorflow_cookbook/master/01_Introduction/07_Working_with_Data_Sources/birthweight_data/birthweight.dat'\n",
    "birth_file = requests.get(birthdata_url)\n",
    "birth_data = birth_file.text.split('\\r\\n')\n",
    "birth_header = birth_data[0].split('\\t')\n",
    "birth_data = [[float(x) for x in y.split('\\t') if len(x) >= 1]  \n",
    "              for y in birth_data[1:] if len(y) >= 1]\n",
    "\n",
    "with open(\"birth_weight.csv\", \"w\") as f:\n",
    "    writer = csv.writer(f)\n",
    "    writer.writerows([birth_header])\n",
    "    writer.writerows(birth_data)\n",
    "    f.close()"
   ]
  },
  {
   "cell_type": "code",
   "execution_count": 4,
   "metadata": {},
   "outputs": [
    {
     "name": "stderr",
     "output_type": "stream",
     "text": [
      "/usr/local/Caskroom/miniconda/base/lib/python3.7/site-packages/ipykernel_launcher.py:12: FutureWarning: Method .as_matrix will be removed in a future version. Use .values instead.\n",
      "  if sys.path[0] == '':\n"
     ]
    }
   ],
   "source": [
    "import pandas as pd\n",
    "from sklearn.model_selection import train_test_split\n",
    "\n",
    "def normalize_cols(m):\n",
    "    col_max = m.max(axis=0)\n",
    "    col_min = m.min(axis=0)\n",
    "    return np.nan_to_num((m-col_min)/(col_max-col_min))\n",
    "\n",
    "df = pd.read_csv(\"birth_weight.csv\")\n",
    "target_name = [\"BWT\"]\n",
    "X, y = df[df.columns.drop(target_name)], df[target_name]\n",
    "X, y = X.as_matrix(), y.as_matrix()\n",
    "X = normalize_cols(X)\n",
    "X_train, X_test, y_train, y_test = train_test_split(X,y, random_state=0)"
   ]
  },
  {
   "cell_type": "code",
   "execution_count": 5,
   "metadata": {
    "scrolled": true
   },
   "outputs": [
    {
     "name": "stdout",
     "output_type": "stream",
     "text": [
      "Generation:25, Loss = 7338.214\n",
      "Generation:50, Loss = 2569.9954\n",
      "Generation:75, Loss = 2654.5986\n",
      "Generation:100, Loss = 2608.3584\n",
      "Generation:125, Loss = 2320.6992\n",
      "Generation:150, Loss = 2276.543\n",
      "Generation:175, Loss = 2016.3213\n",
      "Generation:200, Loss = 1857.8002\n"
     ]
    },
    {
     "data": {
      "image/png": "[encoded data removed]",
      "text/plain": [
       "<Figure size 432x288 with 1 Axes>"
      ]
     },
     "metadata": {
      "needs_background": "light"
     },
     "output_type": "display_data"
    }
   ],
   "source": [
    "%matplotlib inline\n",
    "nnetc = nnet(X_train)\n",
    "model = nnetc.fit(X_train, y_train.ravel(), hidden_size=[25, 10, 3], iter_size=200)\n",
    "# 25からスタートして25ずつ増やしている\n",
    "#hidden_size（一般）...隠れ層の数"
   ]
  },
  {
   "cell_type": "code",
   "execution_count": 6,
   "metadata": {},
   "outputs": [
    {
     "data": {
      "text/plain": [
       "array([[ 9, 16],\n",
       "       [ 5, 18]])"
      ]
     },
     "execution_count": 6,
     "metadata": {},
     "output_type": "execute_result"
    }
   ],
   "source": [
    "from sklearn.metrics import confusion_matrix\n",
    "preds = nnetc.predict(model, X_test)\n",
    "preds_binary = np.array([1.0 if val<3000.0 else 0.0 for val in preds])\n",
    "y_test_binary = np.array([1.0 if val<3000.0 else 0.0 for val in y_test.ravel()])\n",
    "\n",
    "confusion_matrix(y_test_binary, preds_binary)"
   ]
  }
 ],
 "metadata": {
  "kernelspec": {
   "display_name": "Python 3",
   "language": "python",
   "name": "python3"
  },
  "language_info": {
   "codemirror_mode": {
    "name": "ipython",
    "version": 3
   },
   "file_extension": ".py",
   "mimetype": "text/x-python",
   "name": "python",
   "nbconvert_exporter": "python",
   "pygments_lexer": "ipython3",
   "version": "3.7.6"
  }
 },
 "nbformat": 4,
 "nbformat_minor": 2
}
