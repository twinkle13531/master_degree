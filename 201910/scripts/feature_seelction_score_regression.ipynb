{
 "cells": [
  {
   "cell_type": "markdown",
   "metadata": {},
   "source": [
    "### 10/08言われたこと（来週までの課題）\n",
    "\n",
    "- 以下両方とも伊庭さんの資料を参照せよ\n",
    "- $β$を使う式を使用せよ\n",
    "- レプリカ交換モンテカルロ法を実装せよ（温度を複数設定する）⇒　よりバラエティに飛んだサンプルを得ることができるようになるだろう\n",
    "\n",
    "<br/>"
   ]
  },
  {
   "cell_type": "markdown",
   "metadata": {},
   "source": [
    "#### ヒントとなるアイデア\n",
    "- ニューラルネットは重回帰分析を行う手法の1つとして見ることができます。\n",
    "- (北井さん)ニューラルネットやガウス過程等いろいろ試してみるとよいです。どの手法にも言えることですが過学習してスコアが出ないということがあるので、訓練誤差も見ながら正則化項を調整してみるとよいです。"
   ]
  },
  {
   "cell_type": "markdown",
   "metadata": {},
   "source": [
    "#### 10/12 yとして使う値を0行目ではないものにしてみる\n",
    "(理由)線形回帰モデルの精度がほぼ0だったから"
   ]
  },
  {
   "cell_type": "markdown",
   "metadata": {},
   "source": [
    "１．最大値を使ってみる"
   ]
  },
  {
   "cell_type": "code",
   "execution_count": 1,
   "metadata": {},
   "outputs": [
    {
     "name": "stdout",
     "output_type": "stream",
     "text": [
      "(SNPサンプル数, 塩基数)= (599, 1279)\n"
     ]
    }
   ],
   "source": [
    "# 説明変数\n",
    "import pandas as pd\n",
    "data_SNP = pd.read_table('CIMMYTwheat_markers.txt', header=None,  sep =  ' ')\n",
    "print('(SNPサンプル数, 塩基数)=', data_SNP.shape)\n",
    "#print(data_SNP.style)\n",
    "#print('SNPサンプル数：', len(data_SNP))\n",
    "#print(data_SNP.head)"
   ]
  },
  {
   "cell_type": "code",
   "execution_count": 2,
   "metadata": {},
   "outputs": [
    {
     "name": "stdout",
     "output_type": "stream",
     "text": [
      "SNPサンプル数： 599\n",
      "<class 'pandas.core.frame.DataFrame'>\n",
      "(599, 4)\n",
      "0    1.671629\n",
      "1   -1.727470\n",
      "2   -1.890285\n",
      "3    0.050916\n",
      "Name: 0, dtype: float64\n",
      "1.671629\n",
      "599\n",
      "<class 'list'>\n",
      "0.7854395000000001\n"
     ]
    }
   ],
   "source": [
    "# 目的変数\n",
    "data_yields = pd.read_table('CIMMYTwheat_yields.txt', header=None,  sep =  ' ')\n",
    "print('SNPサンプル数：', len(data_yields))\n",
    "print(type(data_yields))\n",
    "print(data_yields.shape)\n",
    "print(data_yields.iloc[0]) #0行目\n",
    "print(data_yields.iloc[0, 0]) #[0, 0]\n",
    "\n",
    "\n",
    "data_amount_list = []\n",
    "for i in range(len(data_yields)):\n",
    "    canditate = data_yields.iloc[i, 0]\n",
    "    for j in range(1, 4):\n",
    "        if data_yields.iloc[i, j] >= canditate:\n",
    "            canditate = data_yields.iloc[i, j]\n",
    "    data_amount_list.append(canditate)\n",
    "\n",
    "\n",
    "#print(data_amount)\n",
    "print(len(data_amount_list))\n",
    "print(type(data_amount_list))\n",
    "print(data_amount_list[3])"
   ]
  },
  {
   "cell_type": "code",
   "execution_count": 4,
   "metadata": {},
   "outputs": [],
   "source": [
    "data_amount = pd.Series(data_amount_list)"
   ]
  },
  {
   "cell_type": "code",
   "execution_count": 5,
   "metadata": {},
   "outputs": [],
   "source": [
    "from sklearn.model_selection import train_test_split\n",
    "x_train, x_test, y_train, y_test = train_test_split(data_SNP, data_amount, test_size=0.3) #x, y ,test0.3, train0.7"
   ]
  },
  {
   "cell_type": "markdown",
   "metadata": {},
   "source": [
    "### 特徴量選択\n",
    "- 入力データが高次元のとき，データからの学習が非常に困難になることが知られている（“次元の呪い”）． 入力データの次元をうまく減らすことができれば，その後の学習が行ないやすくなる． \n",
    "- 次元削減の目的は，本質的な情報を失うことなくデータの次元を削減することである． \n",
    "- もとの特徴の部分集合を低次元表現として取り出すとき，次元削減は特徴選択とよばれる．生物学や化学などの科学的な応用場面では予測能力よりも学習結果の説明能力が重視されるため，特徴選択が好まれる．\n",
    "- もとの特徴の（非線形）結合として低次元表現として取り出すとき， 次元選択は特徴抽出と呼ばれる．パターン認識などの工学的な応用場面では， 予測能力が重要なため特徴抽出の方が有用である．\n",
    "\n",
    "\n",
    "#### 教師付き次元削減\n",
    "教師付き次元削減では，出力を最も良く説明する入力変数の部分集合，および，入力空間の部分空間を見つけることが目的である．"
   ]
  },
  {
   "cell_type": "markdown",
   "metadata": {},
   "source": [
    "### ベイズ線形回帰 \n",
    "\n",
    "ベイズ線形回帰は、データ分布から関数を導き出す際にベイズ確率を使う教師あり学習。信頼度の高そうなデータと信頼度の低そうなデータ（ノイズっぽい）を同等に扱わず、重みを変えるのです。 ベイズ線形回帰はアプローチは違えどノイズを過小評価して過学習を防ぐ正則化と同じ結果になる。 \n",
    "- L1ノルム正則化(Lasso回帰)：極端なデータの重みを0にする \n",
    "- L2ノルム正則化(Ridge回帰)：極端なデータの重みを0に近づける \n",
    "\n"
   ]
  },
  {
   "cell_type": "code",
   "execution_count": 13,
   "metadata": {},
   "outputs": [
    {
     "name": "stdout",
     "output_type": "stream",
     "text": [
      "Training set score: 0.00\n",
      "Test set score: -0.04\n",
      "Number of features used: 0\n"
     ]
    }
   ],
   "source": [
    "# Lasso回帰\n",
    "import numpy as np\n",
    "from sklearn.linear_model import Lasso\n",
    "lasso = Lasso().fit(x_train, y_train)\n",
    "print(\"Training set score: {:.2f}\".format(lasso.score(x_train, y_train)))\n",
    "print(\"Test set score: {:.2f}\".format(lasso.score(x_test, y_test)))\n",
    "print(\"Number of features used:\", np.sum(lasso.coef_ != 0))"
   ]
  },
  {
   "cell_type": "code",
   "execution_count": 6,
   "metadata": {},
   "outputs": [
    {
     "name": "stdout",
     "output_type": "stream",
     "text": [
      "x_train.shape: (419, 1279)\n",
      "x_train_l1_shape: (419, 640)\n",
      "[ True  True  True ...  True  True False]\n",
      "<class 'numpy.ndarray'>\n"
     ]
    }
   ],
   "source": [
    "# モデルベース特徴量選択（embedded method、組み込み法）\n",
    "from sklearn.feature_selection import SelectFromModel\n",
    "from sklearn.ensemble import RandomForestRegressor\n",
    "\n",
    "# estimator として RandomForestRegressor を使用。重要度が median 以上のものを選択\n",
    "select = SelectFromModel(RandomForestRegressor(n_estimators = 100, random_state = 42), threshold = 'median')\n",
    "select.fit(x_train, y_train)\n",
    "\n",
    "#yはselect.fitしなくていい\n",
    "x_train_selected = select.transform(x_train)\n",
    "x_test_selected = select.transform(x_test)\n",
    "\n",
    "print('x_train.shape: {}'.format(x_train.shape))\n",
    "print('x_train_l1_shape: {}'.format(x_train_selected.shape))\n",
    "\n",
    "mask = select.get_support()\n",
    "print(mask)\n",
    "print(type(mask))"
   ]
  },
  {
   "cell_type": "code",
   "execution_count": 7,
   "metadata": {},
   "outputs": [
    {
     "name": "stdout",
     "output_type": "stream",
     "text": [
      "[ True  True  True ...  True  True False]\n",
      "<class 'numpy.ndarray'>\n",
      "1279\n"
     ]
    }
   ],
   "source": [
    "mask = select.get_support()\n",
    "print(mask)\n",
    "print(type(mask))\n",
    "print(len(mask)) #もとの特徴量の数"
   ]
  },
  {
   "cell_type": "code",
   "execution_count": 8,
   "metadata": {},
   "outputs": [
    {
     "name": "stdout",
     "output_type": "stream",
     "text": [
      "multiclass\n",
      "multiclass\n"
     ]
    }
   ],
   "source": [
    "from sklearn import preprocessing, utils\n",
    "\n",
    "lab_enc = preprocessing.LabelEncoder()\n",
    "\n",
    "train_scores_encoded = lab_enc.fit_transform(y_train)\n",
    "print(utils.multiclass.type_of_target(train_scores_encoded))\n",
    "\n",
    "test_scores_encoded = lab_enc.fit_transform(y_test)\n",
    "print(utils.multiclass.type_of_target(test_scores_encoded))"
   ]
  },
  {
   "cell_type": "code",
   "execution_count": 9,
   "metadata": {},
   "outputs": [
    {
     "name": "stdout",
     "output_type": "stream",
     "text": [
      "Training set score: 1.00\n",
      "Test set score: -1.82\n"
     ]
    }
   ],
   "source": [
    "#線形回帰（最小二乗法）\n",
    "from sklearn.linear_model import LinearRegression\n",
    "lr = LinearRegression().fit(x_train_selected, y_train)\n",
    "print(\"Training set score: {:.2f}\".format(lr.score(x_train_selected, y_train)))\n",
    "print(\"Test set score: {:.2f}\".format(lr.score(x_test_selected, y_test)))\n",
    "# 過剰適合"
   ]
  },
  {
   "cell_type": "code",
   "execution_count": 10,
   "metadata": {},
   "outputs": [
    {
     "name": "stdout",
     "output_type": "stream",
     "text": [
      "Training set score: 0.99\n",
      "Test set score: -0.93\n"
     ]
    }
   ],
   "source": [
    "# リッジ回帰(デフォルトで、alpha=1.0)\n",
    "from sklearn.linear_model import Ridge\n",
    "ridge = Ridge().fit(x_train_selected, y_train)\n",
    "print(\"Training set score: {:.2f}\".format(ridge.score(x_train_selected, y_train)))\n",
    "print(\"Test set score: {:.2f}\".format(ridge.score(x_test_selected, y_test)))\n",
    "# まだ過剰適合\n",
    "\n",
    "# 係数とは w のこと\n",
    "# Ridgeモデルでは、モデルの簡潔さ（絶対値が0に近い係数の数）と訓練セットに対する性能がトレードオフ\n",
    "# alphaを増やすと、係数はより0に近くなり、訓練セットに対する性能は低下するが、汎化にはそのほうが良い可能性もある"
   ]
  },
  {
   "cell_type": "code",
   "execution_count": 11,
   "metadata": {},
   "outputs": [
    {
     "name": "stdout",
     "output_type": "stream",
     "text": [
      "Training set score: 0.87\n",
      "Test set score: -0.17\n"
     ]
    }
   ],
   "source": [
    "# リッジ回帰(alpha=10)\n",
    "from sklearn.linear_model import Ridge\n",
    "ridge = Ridge(alpha = 10).fit(x_train_selected, y_train)\n",
    "print(\"Training set score: {:.2f}\".format(ridge.score(x_train_selected, y_train)))\n",
    "print(\"Test set score: {:.2f}\".format(ridge.score(x_test_selected, y_test)))\n",
    "# alpha=10にしたにもかかわらずテストスコアが低すぎる"
   ]
  },
  {
   "cell_type": "code",
   "execution_count": 12,
   "metadata": {},
   "outputs": [
    {
     "name": "stdout",
     "output_type": "stream",
     "text": [
      "Training set score: 0.80\n",
      "Test set score: -0.02\n"
     ]
    }
   ],
   "source": [
    "# リッジ回帰\n",
    "from sklearn.linear_model import Ridge\n",
    "ridge = Ridge(alpha = 20).fit(x_train_selected, y_train)\n",
    "print(\"Training set score: {:.2f}\".format(ridge.score(x_train_selected, y_train)))\n",
    "print(\"Test set score: {:.2f}\".format(ridge.score(x_test_selected, y_test)))\n",
    "# まだ過剰適合"
   ]
  },
  {
   "cell_type": "markdown",
   "metadata": {},
   "source": [
    "(学習に関してわかったこと)\n",
    "-  最大値を使ったが、それでもだめだった\n",
    "- （特徴量選択＋）線形回帰では表せない（教師あり学習、線形回帰）\n",
    "- lasso回帰でしてもスコアでない"
   ]
  },
  {
   "cell_type": "markdown",
   "metadata": {},
   "source": [
    "２．最小値をつかってみる"
   ]
  },
  {
   "cell_type": "code",
   "execution_count": 14,
   "metadata": {},
   "outputs": [
    {
     "name": "stdout",
     "output_type": "stream",
     "text": [
      "(SNPサンプル数, 塩基数)= (599, 1279)\n"
     ]
    }
   ],
   "source": [
    "# 説明変数\n",
    "import pandas as pd\n",
    "data_SNP = pd.read_table('CIMMYTwheat_markers.txt', header=None,  sep =  ' ')\n",
    "print('(SNPサンプル数, 塩基数)=', data_SNP.shape)\n",
    "#print(data_SNP.style)\n",
    "#print('SNPサンプル数：', len(data_SNP))\n",
    "#print(data_SNP.head)"
   ]
  },
  {
   "cell_type": "code",
   "execution_count": 15,
   "metadata": {},
   "outputs": [
    {
     "name": "stdout",
     "output_type": "stream",
     "text": [
      "SNPサンプル数： 599\n",
      "<class 'pandas.core.frame.DataFrame'>\n",
      "(599, 4)\n",
      "0    1.671629\n",
      "1   -1.727470\n",
      "2   -1.890285\n",
      "3    0.050916\n",
      "Name: 0, dtype: float64\n",
      "1.671629\n",
      "599\n",
      "<class 'list'>\n",
      "0.0939492\n"
     ]
    }
   ],
   "source": [
    "# 目的変数\n",
    "data_yields = pd.read_table('CIMMYTwheat_yields.txt', header=None,  sep =  ' ')\n",
    "print('SNPサンプル数：', len(data_yields))\n",
    "print(type(data_yields))\n",
    "print(data_yields.shape)\n",
    "print(data_yields.iloc[0]) #0行目\n",
    "print(data_yields.iloc[0, 0]) #[0, 0]\n",
    "\n",
    "\n",
    "data_amount_list = []\n",
    "for i in range(len(data_yields)):\n",
    "    canditate = data_yields.iloc[i, 0]\n",
    "    for j in range(1, 4):\n",
    "        if data_yields.iloc[i, j] <= canditate:\n",
    "            canditate = data_yields.iloc[i, j]\n",
    "    data_amount_list.append(canditate)\n",
    "\n",
    "\n",
    "#print(data_amount)\n",
    "print(len(data_amount_list))\n",
    "print(type(data_amount_list))\n",
    "print(data_amount_list[3])"
   ]
  },
  {
   "cell_type": "code",
   "execution_count": 16,
   "metadata": {},
   "outputs": [],
   "source": [
    "data_amount = pd.Series(data_amount_list)"
   ]
  },
  {
   "cell_type": "code",
   "execution_count": 17,
   "metadata": {},
   "outputs": [],
   "source": [
    "from sklearn.model_selection import train_test_split\n",
    "x_train, x_test, y_train, y_test = train_test_split(data_SNP, data_amount, test_size=0.3) #x, y ,test0.3, train0.7"
   ]
  },
  {
   "cell_type": "code",
   "execution_count": 24,
   "metadata": {},
   "outputs": [
    {
     "name": "stdout",
     "output_type": "stream",
     "text": [
      "Training set score: 0.00\n",
      "Test set score: -0.03\n",
      "Number of features used: 0\n"
     ]
    }
   ],
   "source": [
    "# Lasso回帰\n",
    "import numpy as np\n",
    "from sklearn.linear_model import Lasso\n",
    "lasso = Lasso().fit(x_train, y_train)\n",
    "print(\"Training set score: {:.2f}\".format(lasso.score(x_train, y_train)))\n",
    "print(\"Test set score: {:.2f}\".format(lasso.score(x_test, y_test)))\n",
    "print(\"Number of features used:\", np.sum(lasso.coef_ != 0))"
   ]
  },
  {
   "cell_type": "code",
   "execution_count": 18,
   "metadata": {},
   "outputs": [
    {
     "name": "stdout",
     "output_type": "stream",
     "text": [
      "x_train.shape: (419, 1279)\n",
      "x_train_l1_shape: (419, 640)\n",
      "[ True  True False ...  True  True  True]\n",
      "<class 'numpy.ndarray'>\n"
     ]
    }
   ],
   "source": [
    "# モデルベース特徴量選択（embedded method、組み込み法）\n",
    "from sklearn.feature_selection import SelectFromModel\n",
    "from sklearn.ensemble import RandomForestRegressor\n",
    "\n",
    "# estimator として RandomForestRegressor を使用。重要度が median 以上のものを選択\n",
    "select = SelectFromModel(RandomForestRegressor(n_estimators = 100, random_state = 42), threshold = 'median')\n",
    "select.fit(x_train, y_train)\n",
    "\n",
    "#yはselect.fitしなくていい\n",
    "x_train_selected = select.transform(x_train)\n",
    "x_test_selected = select.transform(x_test)\n",
    "\n",
    "print('x_train.shape: {}'.format(x_train.shape))\n",
    "print('x_train_l1_shape: {}'.format(x_train_selected.shape))\n",
    "\n",
    "mask = select.get_support()\n",
    "print(mask)\n",
    "print(type(mask))"
   ]
  },
  {
   "cell_type": "code",
   "execution_count": 19,
   "metadata": {},
   "outputs": [
    {
     "name": "stdout",
     "output_type": "stream",
     "text": [
      "[ True  True False ...  True  True  True]\n",
      "<class 'numpy.ndarray'>\n",
      "1279\n"
     ]
    }
   ],
   "source": [
    "mask = select.get_support()\n",
    "print(mask)\n",
    "print(type(mask))\n",
    "print(len(mask)) #もとの特徴量の数"
   ]
  },
  {
   "cell_type": "code",
   "execution_count": 20,
   "metadata": {},
   "outputs": [
    {
     "name": "stdout",
     "output_type": "stream",
     "text": [
      "multiclass\n",
      "multiclass\n"
     ]
    }
   ],
   "source": [
    "from sklearn import preprocessing, utils\n",
    "\n",
    "lab_enc = preprocessing.LabelEncoder()\n",
    "\n",
    "train_scores_encoded = lab_enc.fit_transform(y_train)\n",
    "print(utils.multiclass.type_of_target(train_scores_encoded))\n",
    "\n",
    "test_scores_encoded = lab_enc.fit_transform(y_test)\n",
    "print(utils.multiclass.type_of_target(test_scores_encoded))"
   ]
  },
  {
   "cell_type": "code",
   "execution_count": 21,
   "metadata": {},
   "outputs": [
    {
     "name": "stdout",
     "output_type": "stream",
     "text": [
      "Training set score: 1.00\n",
      "Test set score: -2.43\n"
     ]
    }
   ],
   "source": [
    "#線形回帰（最小二乗法）\n",
    "from sklearn.linear_model import LinearRegression\n",
    "lr = LinearRegression().fit(x_train_selected, y_train)\n",
    "print(\"Training set score: {:.2f}\".format(lr.score(x_train_selected, y_train)))\n",
    "print(\"Test set score: {:.2f}\".format(lr.score(x_test_selected, y_test)))\n",
    "# 過剰適合"
   ]
  },
  {
   "cell_type": "code",
   "execution_count": 22,
   "metadata": {},
   "outputs": [
    {
     "name": "stdout",
     "output_type": "stream",
     "text": [
      "Training set score: 0.98\n",
      "Test set score: -1.17\n"
     ]
    }
   ],
   "source": [
    "# リッジ回帰(デフォルトで、alpha=1.0)\n",
    "from sklearn.linear_model import Ridge\n",
    "ridge = Ridge().fit(x_train_selected, y_train)\n",
    "print(\"Training set score: {:.2f}\".format(ridge.score(x_train_selected, y_train)))\n",
    "print(\"Test set score: {:.2f}\".format(ridge.score(x_test_selected, y_test)))\n",
    "# まだ過剰適合\n",
    "\n",
    "# 係数とは w のこと\n",
    "# Ridgeモデルでは、モデルの簡潔さ（絶対値が0に近い係数の数）と訓練セットに対する性能がトレードオフ\n",
    "# alphaを増やすと、係数はより0に近くなり、訓練セットに対する性能は低下するが、汎化にはそのほうが良い可能性もある"
   ]
  },
  {
   "cell_type": "code",
   "execution_count": 23,
   "metadata": {},
   "outputs": [
    {
     "name": "stdout",
     "output_type": "stream",
     "text": [
      "Training set score: 0.88\n",
      "Test set score: -0.37\n"
     ]
    }
   ],
   "source": [
    "# リッジ回帰(alpha=10)\n",
    "from sklearn.linear_model import Ridge\n",
    "ridge = Ridge(alpha = 10).fit(x_train_selected, y_train)\n",
    "print(\"Training set score: {:.2f}\".format(ridge.score(x_train_selected, y_train)))\n",
    "print(\"Test set score: {:.2f}\".format(ridge.score(x_test_selected, y_test)))\n",
    "# alpha=10にしたにもかかわらずテストスコアが低すぎる"
   ]
  },
  {
   "cell_type": "code",
   "execution_count": 26,
   "metadata": {},
   "outputs": [
    {
     "name": "stdout",
     "output_type": "stream",
     "text": [
      "Training set score: 0.61\n",
      "Test set score: 0.05\n"
     ]
    }
   ],
   "source": [
    "# リッジ回帰(alpha=100)\n",
    "from sklearn.linear_model import Ridge\n",
    "ridge = Ridge(alpha = 100).fit(x_train_selected, y_train)\n",
    "print(\"Training set score: {:.2f}\".format(ridge.score(x_train_selected, y_train)))\n",
    "print(\"Test set score: {:.2f}\".format(ridge.score(x_test_selected, y_test)))\n",
    "# alpha=10にしたにもかかわらずテストスコアが低すぎる"
   ]
  },
  {
   "cell_type": "markdown",
   "metadata": {},
   "source": [
    "(学習に関してわかったこと)\n",
    "-  最小値を使ったが、それでもだめだった\n",
    "- （特徴量選択＋）線形回帰では表せない（教師あり学習、線形回帰）\n",
    "- lasso回帰でしてもスコアでない\n",
    "-  線形回帰を諦めたほうがよさそう"
   ]
  },
  {
   "cell_type": "markdown",
   "metadata": {},
   "source": [
    "３．ニューラルネットワーク\n",
    "\n",
    "- https://qiita.com/sugiyamath/items/8470ec843f2d213576f1"
   ]
  },
  {
   "cell_type": "code",
   "execution_count": 1,
   "metadata": {},
   "outputs": [
    {
     "name": "stderr",
     "output_type": "stream",
     "text": [
      "/usr/local/Caskroom/miniconda/base/lib/python3.7/site-packages/tensorflow/python/framework/dtypes.py:516: FutureWarning: Passing (type, 1) or '1type' as a synonym of type is deprecated; in a future version of numpy, it will be understood as (type, (1,)) / '(1,)type'.\n",
      "  _np_qint8 = np.dtype([(\"qint8\", np.int8, 1)])\n",
      "/usr/local/Caskroom/miniconda/base/lib/python3.7/site-packages/tensorflow/python/framework/dtypes.py:517: FutureWarning: Passing (type, 1) or '1type' as a synonym of type is deprecated; in a future version of numpy, it will be understood as (type, (1,)) / '(1,)type'.\n",
      "  _np_quint8 = np.dtype([(\"quint8\", np.uint8, 1)])\n",
      "/usr/local/Caskroom/miniconda/base/lib/python3.7/site-packages/tensorflow/python/framework/dtypes.py:518: FutureWarning: Passing (type, 1) or '1type' as a synonym of type is deprecated; in a future version of numpy, it will be understood as (type, (1,)) / '(1,)type'.\n",
      "  _np_qint16 = np.dtype([(\"qint16\", np.int16, 1)])\n",
      "/usr/local/Caskroom/miniconda/base/lib/python3.7/site-packages/tensorflow/python/framework/dtypes.py:519: FutureWarning: Passing (type, 1) or '1type' as a synonym of type is deprecated; in a future version of numpy, it will be understood as (type, (1,)) / '(1,)type'.\n",
      "  _np_quint16 = np.dtype([(\"quint16\", np.uint16, 1)])\n",
      "/usr/local/Caskroom/miniconda/base/lib/python3.7/site-packages/tensorflow/python/framework/dtypes.py:520: FutureWarning: Passing (type, 1) or '1type' as a synonym of type is deprecated; in a future version of numpy, it will be understood as (type, (1,)) / '(1,)type'.\n",
      "  _np_qint32 = np.dtype([(\"qint32\", np.int32, 1)])\n",
      "/usr/local/Caskroom/miniconda/base/lib/python3.7/site-packages/tensorflow/python/framework/dtypes.py:525: FutureWarning: Passing (type, 1) or '1type' as a synonym of type is deprecated; in a future version of numpy, it will be understood as (type, (1,)) / '(1,)type'.\n",
      "  np_resource = np.dtype([(\"resource\", np.ubyte, 1)])\n",
      "/usr/local/Caskroom/miniconda/base/lib/python3.7/site-packages/tensorboard/compat/tensorflow_stub/dtypes.py:541: FutureWarning: Passing (type, 1) or '1type' as a synonym of type is deprecated; in a future version of numpy, it will be understood as (type, (1,)) / '(1,)type'.\n",
      "  _np_qint8 = np.dtype([(\"qint8\", np.int8, 1)])\n",
      "/usr/local/Caskroom/miniconda/base/lib/python3.7/site-packages/tensorboard/compat/tensorflow_stub/dtypes.py:542: FutureWarning: Passing (type, 1) or '1type' as a synonym of type is deprecated; in a future version of numpy, it will be understood as (type, (1,)) / '(1,)type'.\n",
      "  _np_quint8 = np.dtype([(\"quint8\", np.uint8, 1)])\n",
      "/usr/local/Caskroom/miniconda/base/lib/python3.7/site-packages/tensorboard/compat/tensorflow_stub/dtypes.py:543: FutureWarning: Passing (type, 1) or '1type' as a synonym of type is deprecated; in a future version of numpy, it will be understood as (type, (1,)) / '(1,)type'.\n",
      "  _np_qint16 = np.dtype([(\"qint16\", np.int16, 1)])\n",
      "/usr/local/Caskroom/miniconda/base/lib/python3.7/site-packages/tensorboard/compat/tensorflow_stub/dtypes.py:544: FutureWarning: Passing (type, 1) or '1type' as a synonym of type is deprecated; in a future version of numpy, it will be understood as (type, (1,)) / '(1,)type'.\n",
      "  _np_quint16 = np.dtype([(\"quint16\", np.uint16, 1)])\n",
      "/usr/local/Caskroom/miniconda/base/lib/python3.7/site-packages/tensorboard/compat/tensorflow_stub/dtypes.py:545: FutureWarning: Passing (type, 1) or '1type' as a synonym of type is deprecated; in a future version of numpy, it will be understood as (type, (1,)) / '(1,)type'.\n",
      "  _np_qint32 = np.dtype([(\"qint32\", np.int32, 1)])\n",
      "/usr/local/Caskroom/miniconda/base/lib/python3.7/site-packages/tensorboard/compat/tensorflow_stub/dtypes.py:550: FutureWarning: Passing (type, 1) or '1type' as a synonym of type is deprecated; in a future version of numpy, it will be understood as (type, (1,)) / '(1,)type'.\n",
      "  np_resource = np.dtype([(\"resource\", np.ubyte, 1)])\n"
     ]
    }
   ],
   "source": [
    "# 隠れ層をfitメソッドで指定できるように作りました。\n",
    "# 重みの更新はtrain_stepで指定したOptimizerによるコスト関数最小化で行ってくれるので、\n",
    "# バックプロパゲーションを手動で構築する必要はありません。\n",
    "import tensorflow as tf\n",
    "import numpy as np\n",
    "import matplotlib.pyplot as plt\n",
    "\n",
    "class nnet:\n",
    "\n",
    "    def __init__(self, X, random_state=3):\n",
    "        self.sess = tf.Session()\n",
    "        seed = random_state\n",
    "        tf.set_random_seed(seed)\n",
    "        np.random.seed(seed)\n",
    "        self.x_data = tf.placeholder(shape=[None, X.shape[1]], dtype=tf.float32)\n",
    "        self.y_target = tf.placeholder(shape=[None, 1], dtype=tf.float32)\n",
    "\n",
    "    def init_weight(self, shape, st_dev):\n",
    "        return tf.Variable(tf.random_normal(shape, stddev=st_dev))\n",
    "\n",
    "    def init_bias(self, shape, st_dev):\n",
    "        return tf.Variable(tf.random_normal(shape, stddev=st_dev))\n",
    "\n",
    "    def fully_connected(self, input_layer, weights, biases):\n",
    "        return tf.nn.relu(tf.add(tf.matmul(input_layer, weights), biases))\n",
    "\n",
    "    def fit(self, X, y, hidden_size, batch_size=100, iter_size=200):\n",
    "\n",
    "        x_data = self.x_data\n",
    "        y_target = self.y_target\n",
    "\n",
    "        final_output = self.build_hidden_layer(hidden_size, X.shape[1])\n",
    "\n",
    "        self.loss = tf.reduce_mean(tf.abs(y_target - final_output))\n",
    "        self.opt = tf.train.AdamOptimizer(0.05)\n",
    "        self.train_step = self.opt.minimize(self.loss)\n",
    "\n",
    "        init = tf.global_variables_initializer()\n",
    "        self.sess.run(init)\n",
    "\n",
    "        loss_vec = self.train(X, y, iter_size, batch_size)\n",
    "        plt.plot(loss_vec)\n",
    "        return final_output\n",
    "\n",
    "    def predict(self, final_output, X):\n",
    "        x_data = self.x_data\n",
    "        return [val[0] for val in self.sess.run(final_output, feed_dict={x_data: X})]\n",
    "\n",
    "\n",
    "    def train(self, X, y, iter_size, batch_size):\n",
    "        loss_vec = []\n",
    "        x_data = self.x_data\n",
    "        y_target = self.y_target\n",
    "        for i in range(iter_size):\n",
    "            rand_index = np.random.choice(len(X), size=batch_size)\n",
    "            rand_x = X[rand_index]\n",
    "            rand_y = np.transpose([y[rand_index]])\n",
    "            self.sess.run(self.train_step, feed_dict={x_data:rand_x, y_target: rand_y})\n",
    "            loss_vec.append(self.sess.run(self.loss, feed_dict={x_data:rand_x, y_target: rand_y}))\n",
    "\n",
    "            if (i+1)%25==0:\n",
    "                print('Generation:'+str(i+1)+', Loss = '+str(loss_vec[-1]))\n",
    "\n",
    "        return loss_vec\n",
    "\n",
    "\n",
    "    def build_hidden_layer(self, hidden_size, col_size):\n",
    "        weights = []\n",
    "        biases = []\n",
    "        layers = []\n",
    "        tmp_size = col_size\n",
    "        x_data = self.x_data\n",
    "        last_layer = x_data\n",
    "\n",
    "        for hsize in hidden_size:\n",
    "            weights.append(self.init_weight(shape=[tmp_size, hsize], st_dev=10.0))\n",
    "            biases.append(self.init_bias(shape=[hsize], st_dev=10.0))\n",
    "            layers.append(self.fully_connected(last_layer, weights[-1], biases[-1]))\n",
    "            tmp_size = hsize\n",
    "            last_layer = layers[-1]\n",
    "\n",
    "        weights.append(self.init_weight(shape=[tmp_size, 1], st_dev=10.0))\n",
    "        biases.append(self.init_bias(shape=[1], st_dev=10.0))\n",
    "        layers.append(self.fully_connected(last_layer, weights[-1], biases[-1]))\n",
    "        final_output = layers[-1]\n",
    "\n",
    "        return final_output"
   ]
  },
  {
   "cell_type": "code",
   "execution_count": 3,
   "metadata": {},
   "outputs": [
    {
     "name": "stdout",
     "output_type": "stream",
     "text": [
      "(SNPサンプル数, 塩基数)= (599, 1279)\n"
     ]
    }
   ],
   "source": [
    "# 説明変数\n",
    "import pandas as pd\n",
    "data_SNP = pd.read_table('CIMMYTwheat_markers.txt', header=None,  sep =  ' ')\n",
    "print('(SNPサンプル数, 塩基数)=', data_SNP.shape)"
   ]
  },
  {
   "cell_type": "code",
   "execution_count": 4,
   "metadata": {},
   "outputs": [
    {
     "name": "stdout",
     "output_type": "stream",
     "text": [
      "SNPサンプル数： 599\n",
      "<class 'pandas.core.frame.DataFrame'>\n",
      "(599, 4)\n",
      "0    1.671629\n",
      "1   -1.727470\n",
      "2   -1.890285\n",
      "3    0.050916\n",
      "Name: 0, dtype: float64\n",
      "1.671629\n",
      "599\n",
      "<class 'list'>\n",
      "0.7854395000000001\n"
     ]
    }
   ],
   "source": [
    "# 目的変数\n",
    "data_yields = pd.read_table('CIMMYTwheat_yields.txt', header=None,  sep =  ' ')\n",
    "print('SNPサンプル数：', len(data_yields))\n",
    "print(type(data_yields))\n",
    "print(data_yields.shape)\n",
    "print(data_yields.iloc[0]) #0行目\n",
    "print(data_yields.iloc[0, 0]) #[0, 0]\n",
    "\n",
    "# yを0列目にした（戻した）\n",
    "data_amount_list = []\n",
    "for i in range(len(data_yields)):\n",
    "    data_amount_list.append(data_yields.iloc[i, 0])\n",
    "\n",
    "#print(data_amount)\n",
    "print(len(data_amount_list))\n",
    "print(type(data_amount_list))\n",
    "print(data_amount_list[3])"
   ]
  },
  {
   "cell_type": "code",
   "execution_count": 5,
   "metadata": {},
   "outputs": [],
   "source": [
    "data_amount = pd.Series(data_amount_list)"
   ]
  },
  {
   "cell_type": "code",
   "execution_count": 6,
   "metadata": {},
   "outputs": [],
   "source": [
    "from sklearn.model_selection import train_test_split\n",
    "x_train, x_test, y_train, y_test = train_test_split(data_SNP, data_amount, test_size=0.3) #x, y ,test0.3, train0.7"
   ]
  },
  {
   "cell_type": "code",
   "execution_count": 8,
   "metadata": {},
   "outputs": [
    {
     "ename": "ValueError",
     "evalue": "Cannot feed value of shape (419, 100) for Tensor 'Placeholder:0', which has shape '(?, 1279)'",
     "output_type": "error",
     "traceback": [
      "\u001b[0;31m---------------------------------------------------------------------------\u001b[0m",
      "\u001b[0;31mValueError\u001b[0m                                Traceback (most recent call last)",
      "\u001b[0;32m<ipython-input-8-9ca5b0e3107a>\u001b[0m in \u001b[0;36m<module>\u001b[0;34m\u001b[0m\n\u001b[1;32m      1\u001b[0m \u001b[0mget_ipython\u001b[0m\u001b[0;34m(\u001b[0m\u001b[0;34m)\u001b[0m\u001b[0;34m.\u001b[0m\u001b[0mrun_line_magic\u001b[0m\u001b[0;34m(\u001b[0m\u001b[0;34m'matplotlib'\u001b[0m\u001b[0;34m,\u001b[0m \u001b[0;34m'inline'\u001b[0m\u001b[0;34m)\u001b[0m\u001b[0;34m\u001b[0m\u001b[0;34m\u001b[0m\u001b[0m\n\u001b[1;32m      2\u001b[0m \u001b[0mnnetc\u001b[0m \u001b[0;34m=\u001b[0m \u001b[0mnnet\u001b[0m\u001b[0;34m(\u001b[0m\u001b[0mx_train\u001b[0m\u001b[0;34m)\u001b[0m\u001b[0;34m\u001b[0m\u001b[0;34m\u001b[0m\u001b[0m\n\u001b[0;32m----> 3\u001b[0;31m \u001b[0mmodel\u001b[0m \u001b[0;34m=\u001b[0m \u001b[0mnnetc\u001b[0m\u001b[0;34m.\u001b[0m\u001b[0mfit\u001b[0m\u001b[0;34m(\u001b[0m\u001b[0mx_train\u001b[0m\u001b[0;34m,\u001b[0m \u001b[0my_train\u001b[0m\u001b[0;34m.\u001b[0m\u001b[0mravel\u001b[0m\u001b[0;34m(\u001b[0m\u001b[0;34m)\u001b[0m\u001b[0;34m,\u001b[0m \u001b[0mhidden_size\u001b[0m\u001b[0;34m=\u001b[0m\u001b[0;34m[\u001b[0m\u001b[0;36m25\u001b[0m\u001b[0;34m,\u001b[0m \u001b[0;36m10\u001b[0m\u001b[0;34m,\u001b[0m \u001b[0;36m3\u001b[0m\u001b[0;34m]\u001b[0m\u001b[0;34m,\u001b[0m \u001b[0miter_size\u001b[0m\u001b[0;34m=\u001b[0m\u001b[0;36m200\u001b[0m\u001b[0;34m)\u001b[0m\u001b[0;34m\u001b[0m\u001b[0;34m\u001b[0m\u001b[0m\n\u001b[0m",
      "\u001b[0;32m<ipython-input-1-8bf26f626d52>\u001b[0m in \u001b[0;36mfit\u001b[0;34m(self, X, y, hidden_size, batch_size, iter_size)\u001b[0m\n\u001b[1;32m     39\u001b[0m         \u001b[0mself\u001b[0m\u001b[0;34m.\u001b[0m\u001b[0msess\u001b[0m\u001b[0;34m.\u001b[0m\u001b[0mrun\u001b[0m\u001b[0;34m(\u001b[0m\u001b[0minit\u001b[0m\u001b[0;34m)\u001b[0m\u001b[0;34m\u001b[0m\u001b[0;34m\u001b[0m\u001b[0m\n\u001b[1;32m     40\u001b[0m \u001b[0;34m\u001b[0m\u001b[0m\n\u001b[0;32m---> 41\u001b[0;31m         \u001b[0mloss_vec\u001b[0m \u001b[0;34m=\u001b[0m \u001b[0mself\u001b[0m\u001b[0;34m.\u001b[0m\u001b[0mtrain\u001b[0m\u001b[0;34m(\u001b[0m\u001b[0mX\u001b[0m\u001b[0;34m,\u001b[0m \u001b[0my\u001b[0m\u001b[0;34m,\u001b[0m \u001b[0miter_size\u001b[0m\u001b[0;34m,\u001b[0m \u001b[0mbatch_size\u001b[0m\u001b[0;34m)\u001b[0m\u001b[0;34m\u001b[0m\u001b[0;34m\u001b[0m\u001b[0m\n\u001b[0m\u001b[1;32m     42\u001b[0m         \u001b[0mplt\u001b[0m\u001b[0;34m.\u001b[0m\u001b[0mplot\u001b[0m\u001b[0;34m(\u001b[0m\u001b[0mloss_vec\u001b[0m\u001b[0;34m)\u001b[0m\u001b[0;34m\u001b[0m\u001b[0;34m\u001b[0m\u001b[0m\n\u001b[1;32m     43\u001b[0m         \u001b[0;32mreturn\u001b[0m \u001b[0mfinal_output\u001b[0m\u001b[0;34m\u001b[0m\u001b[0;34m\u001b[0m\u001b[0m\n",
      "\u001b[0;32m<ipython-input-1-8bf26f626d52>\u001b[0m in \u001b[0;36mtrain\u001b[0;34m(self, X, y, iter_size, batch_size)\u001b[0m\n\u001b[1;32m     56\u001b[0m             \u001b[0mrand_x\u001b[0m \u001b[0;34m=\u001b[0m \u001b[0mX\u001b[0m\u001b[0;34m[\u001b[0m\u001b[0mrand_index\u001b[0m\u001b[0;34m]\u001b[0m\u001b[0;34m\u001b[0m\u001b[0;34m\u001b[0m\u001b[0m\n\u001b[1;32m     57\u001b[0m             \u001b[0mrand_y\u001b[0m \u001b[0;34m=\u001b[0m \u001b[0mnp\u001b[0m\u001b[0;34m.\u001b[0m\u001b[0mtranspose\u001b[0m\u001b[0;34m(\u001b[0m\u001b[0;34m[\u001b[0m\u001b[0my\u001b[0m\u001b[0;34m[\u001b[0m\u001b[0mrand_index\u001b[0m\u001b[0;34m]\u001b[0m\u001b[0;34m]\u001b[0m\u001b[0;34m)\u001b[0m\u001b[0;34m\u001b[0m\u001b[0;34m\u001b[0m\u001b[0m\n\u001b[0;32m---> 58\u001b[0;31m             \u001b[0mself\u001b[0m\u001b[0;34m.\u001b[0m\u001b[0msess\u001b[0m\u001b[0;34m.\u001b[0m\u001b[0mrun\u001b[0m\u001b[0;34m(\u001b[0m\u001b[0mself\u001b[0m\u001b[0;34m.\u001b[0m\u001b[0mtrain_step\u001b[0m\u001b[0;34m,\u001b[0m \u001b[0mfeed_dict\u001b[0m\u001b[0;34m=\u001b[0m\u001b[0;34m{\u001b[0m\u001b[0mx_data\u001b[0m\u001b[0;34m:\u001b[0m\u001b[0mrand_x\u001b[0m\u001b[0;34m,\u001b[0m \u001b[0my_target\u001b[0m\u001b[0;34m:\u001b[0m \u001b[0mrand_y\u001b[0m\u001b[0;34m}\u001b[0m\u001b[0;34m)\u001b[0m\u001b[0;34m\u001b[0m\u001b[0;34m\u001b[0m\u001b[0m\n\u001b[0m\u001b[1;32m     59\u001b[0m             \u001b[0mloss_vec\u001b[0m\u001b[0;34m.\u001b[0m\u001b[0mappend\u001b[0m\u001b[0;34m(\u001b[0m\u001b[0mself\u001b[0m\u001b[0;34m.\u001b[0m\u001b[0msess\u001b[0m\u001b[0;34m.\u001b[0m\u001b[0mrun\u001b[0m\u001b[0;34m(\u001b[0m\u001b[0mself\u001b[0m\u001b[0;34m.\u001b[0m\u001b[0mloss\u001b[0m\u001b[0;34m,\u001b[0m \u001b[0mfeed_dict\u001b[0m\u001b[0;34m=\u001b[0m\u001b[0;34m{\u001b[0m\u001b[0mx_data\u001b[0m\u001b[0;34m:\u001b[0m\u001b[0mrand_x\u001b[0m\u001b[0;34m,\u001b[0m \u001b[0my_target\u001b[0m\u001b[0;34m:\u001b[0m \u001b[0mrand_y\u001b[0m\u001b[0;34m}\u001b[0m\u001b[0;34m)\u001b[0m\u001b[0;34m)\u001b[0m\u001b[0;34m\u001b[0m\u001b[0;34m\u001b[0m\u001b[0m\n\u001b[1;32m     60\u001b[0m \u001b[0;34m\u001b[0m\u001b[0m\n",
      "\u001b[0;32m/usr/local/Caskroom/miniconda/base/lib/python3.7/site-packages/tensorflow/python/client/session.py\u001b[0m in \u001b[0;36mrun\u001b[0;34m(self, fetches, feed_dict, options, run_metadata)\u001b[0m\n\u001b[1;32m    948\u001b[0m     \u001b[0;32mtry\u001b[0m\u001b[0;34m:\u001b[0m\u001b[0;34m\u001b[0m\u001b[0;34m\u001b[0m\u001b[0m\n\u001b[1;32m    949\u001b[0m       result = self._run(None, fetches, feed_dict, options_ptr,\n\u001b[0;32m--> 950\u001b[0;31m                          run_metadata_ptr)\n\u001b[0m\u001b[1;32m    951\u001b[0m       \u001b[0;32mif\u001b[0m \u001b[0mrun_metadata\u001b[0m\u001b[0;34m:\u001b[0m\u001b[0;34m\u001b[0m\u001b[0;34m\u001b[0m\u001b[0m\n\u001b[1;32m    952\u001b[0m         \u001b[0mproto_data\u001b[0m \u001b[0;34m=\u001b[0m \u001b[0mtf_session\u001b[0m\u001b[0;34m.\u001b[0m\u001b[0mTF_GetBuffer\u001b[0m\u001b[0;34m(\u001b[0m\u001b[0mrun_metadata_ptr\u001b[0m\u001b[0;34m)\u001b[0m\u001b[0;34m\u001b[0m\u001b[0;34m\u001b[0m\u001b[0m\n",
      "\u001b[0;32m/usr/local/Caskroom/miniconda/base/lib/python3.7/site-packages/tensorflow/python/client/session.py\u001b[0m in \u001b[0;36m_run\u001b[0;34m(self, handle, fetches, feed_dict, options, run_metadata)\u001b[0m\n\u001b[1;32m   1147\u001b[0m                              \u001b[0;34m'which has shape %r'\u001b[0m \u001b[0;34m%\u001b[0m\u001b[0;34m\u001b[0m\u001b[0;34m\u001b[0m\u001b[0m\n\u001b[1;32m   1148\u001b[0m                              (np_val.shape, subfeed_t.name,\n\u001b[0;32m-> 1149\u001b[0;31m                               str(subfeed_t.get_shape())))\n\u001b[0m\u001b[1;32m   1150\u001b[0m           \u001b[0;32mif\u001b[0m \u001b[0;32mnot\u001b[0m \u001b[0mself\u001b[0m\u001b[0;34m.\u001b[0m\u001b[0mgraph\u001b[0m\u001b[0;34m.\u001b[0m\u001b[0mis_feedable\u001b[0m\u001b[0;34m(\u001b[0m\u001b[0msubfeed_t\u001b[0m\u001b[0;34m)\u001b[0m\u001b[0;34m:\u001b[0m\u001b[0;34m\u001b[0m\u001b[0;34m\u001b[0m\u001b[0m\n\u001b[1;32m   1151\u001b[0m             \u001b[0;32mraise\u001b[0m \u001b[0mValueError\u001b[0m\u001b[0;34m(\u001b[0m\u001b[0;34m'Tensor %s may not be fed.'\u001b[0m \u001b[0;34m%\u001b[0m \u001b[0msubfeed_t\u001b[0m\u001b[0;34m)\u001b[0m\u001b[0;34m\u001b[0m\u001b[0;34m\u001b[0m\u001b[0m\n",
      "\u001b[0;31mValueError\u001b[0m: Cannot feed value of shape (419, 100) for Tensor 'Placeholder:0', which has shape '(?, 1279)'"
     ]
    }
   ],
   "source": [
    "%matplotlib inline\n",
    "nnetc = nnet(x_train)\n",
    "model = nnetc.fit(x_train, y_train.ravel(), hidden_size=[25, 10, 3], iter_size=200)"
   ]
  },
  {
   "cell_type": "code",
   "execution_count": null,
   "metadata": {},
   "outputs": [],
   "source": []
  }
 ],
 "metadata": {
  "kernelspec": {
   "display_name": "Python 3",
   "language": "python",
   "name": "python3"
  },
  "language_info": {
   "codemirror_mode": {
    "name": "ipython",
    "version": 3
   },
   "file_extension": ".py",
   "mimetype": "text/x-python",
   "name": "python",
   "nbconvert_exporter": "python",
   "pygments_lexer": "ipython3",
   "version": "3.7.6"
  }
 },
 "nbformat": 4,
 "nbformat_minor": 2
}
