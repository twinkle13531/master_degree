{
 "cells": [
  {
   "cell_type": "markdown",
   "metadata": {},
   "source": [
    "### end関数"
   ]
  },
  {
   "cell_type": "code",
   "execution_count": 2,
   "metadata": {},
   "outputs": [
    {
     "name": "stdout",
     "output_type": "stream",
     "text": [
      "pythonawesome\n"
     ]
    }
   ],
   "source": [
    "# end=\n",
    "print(\"python\", end=\"\")\n",
    "print(\"awesome\")\n",
    "# ---> pythonawesome\n",
    "# スペースがないよ"
   ]
  },
  {
   "cell_type": "markdown",
   "metadata": {},
   "source": [
    "### 文字変換"
   ]
  },
  {
   "cell_type": "code",
   "execution_count": 4,
   "metadata": {},
   "outputs": [
    {
     "ename": "SyntaxError",
     "evalue": "invalid syntax (<ipython-input-4-e505be946381>, line 3)",
     "output_type": "error",
     "traceback": [
      "\u001b[0;36m  File \u001b[0;32m\"<ipython-input-4-e505be946381>\"\u001b[0;36m, line \u001b[0;32m3\u001b[0m\n\u001b[0;31m    Hello, World!\u001b[0m\n\u001b[0m                ^\u001b[0m\n\u001b[0;31mSyntaxError\u001b[0m\u001b[0;31m:\u001b[0m invalid syntax\n"
     ]
    }
   ],
   "source": [
    "# 基本形\n",
    ">>> print('Hello, %s!' % 'World')\n",
    "Hello, World!\n",
    "# 複数ある場合はタプルで渡す\n",
    ">>> print( 'Hi, %s. You are %d years old' % ('John', 25))\n",
    "Hi, John. You are 25 years old"
   ]
  },
  {
   "cell_type": "code",
   "execution_count": 1,
   "metadata": {},
   "outputs": [
    {
     "name": "stdout",
     "output_type": "stream",
     "text": [
      "#   2 3 #\n",
      "# 1   3 #\n",
      "# 1 2   #\n"
     ]
    }
   ],
   "source": [
    "for i in range(1, 4): \n",
    "    print(\"#\",end=\" \")\n",
    "    for j in range(1, 4):\n",
    "        if i == j:\n",
    "            print (\" \",end=\" \")\n",
    "            continue\n",
    "        print(\"%d\" % j,end=\" \")\n",
    "    print(\"#\")"
   ]
  },
  {
   "cell_type": "code",
   "execution_count": 8,
   "metadata": {},
   "outputs": [
    {
     "name": "stdout",
     "output_type": "stream",
     "text": [
      "2\n",
      "25\n",
      "2\n",
      "Fizz\n",
      "4\n",
      "Buzz\n",
      "Fizz\n",
      "7\n",
      "8\n",
      "Fizz\n",
      "Buzz\n",
      "11\n",
      "Fizz\n",
      "13\n",
      "14\n",
      "FizzBuzz\n",
      "16\n",
      "17\n",
      "Fizz\n",
      "19\n",
      "Buzz\n",
      "Fizz\n",
      "22\n",
      "23\n",
      "Fizz\n",
      "Buzz\n"
     ]
    }
   ],
   "source": [
    "i = int(input()) #start\n",
    "j = int(input()) #end\n",
    "\n",
    "for x in range(i, j+1):\n",
    "\tif x%3==0 and x%5==0:\n",
    "\t\tprint(\"FizzBuzz\")\n",
    "\telif x%3==0:\n",
    "\t\tprint(\"Fizz\")\n",
    "\telif x%5==0:\n",
    "\t\tprint(\"Buzz\")\n",
    "\telse:\n",
    "\t\tprint(x)"
   ]
  },
  {
   "cell_type": "code",
   "execution_count": 4,
   "metadata": {},
   "outputs": [
    {
     "name": "stdout",
     "output_type": "stream",
     "text": [
      "tyu\n",
      "Hello, tyu\n",
      "\n"
     ]
    }
   ],
   "source": [
    "name= input()\n",
    "print(\"Hello, \"+name)"
   ]
  },
  {
   "cell_type": "code",
   "execution_count": 1,
   "metadata": {},
   "outputs": [
    {
     "name": "stdout",
     "output_type": "stream",
     "text": [
      "START\n",
      "END\n"
     ]
    }
   ],
   "source": [
    "import re\n",
    "pat = re.compile(r\"^(\\d+)$\")\n",
    "print(\"START\")\n",
    "for r in pat.finditer(\"123\\n45\\n678\"):\n",
    "  print(r.group(1))\n",
    "print(\"END\")"
   ]
  },
  {
   "cell_type": "code",
   "execution_count": null,
   "metadata": {},
   "outputs": [],
   "source": []
  }
 ],
 "metadata": {
  "kernelspec": {
   "display_name": "Python 3",
   "language": "python",
   "name": "python3"
  },
  "language_info": {
   "codemirror_mode": {
    "name": "ipython",
    "version": 3
   },
   "file_extension": ".py",
   "mimetype": "text/x-python",
   "name": "python",
   "nbconvert_exporter": "python",
   "pygments_lexer": "ipython3",
   "version": "3.7.3"
  }
 },
 "nbformat": 4,
 "nbformat_minor": 2
}
