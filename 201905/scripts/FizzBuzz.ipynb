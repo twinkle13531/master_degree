{
 "cells": [
  {
   "cell_type": "code",
   "execution_count": 6,
   "metadata": {},
   "outputs": [
    {
     "name": "stdout",
     "output_type": "stream",
     "text": [
      "正の整数を入力してください：23\n",
      "正の整数を入力してください：34\n",
      "23\n",
      "Fuzz\n",
      "Buzz\n",
      "26\n",
      "Fuzz\n",
      "28\n",
      "29\n",
      "Fizz Buzz\n",
      "31\n",
      "32\n",
      "Fuzz\n",
      "34\n",
      "None\n"
     ]
    }
   ],
   "source": [
    "# coding: utf-8\n",
    "def FizzBuzz(i, j):\n",
    "\tfor x in range(i, j+1):\n",
    "\t\tif x%15==0:\n",
    "\t\t\tprint('Fizz Buzz')\n",
    "\t\telif x%5==0:\n",
    "\t\t\tprint('Buzz')\n",
    "\t\telif x%3==0:\n",
    "\t\t\tprint('Fuzz')\n",
    "\t\telse:\n",
    "\t\t\tprint(x)\n",
    "\n",
    "i = int(input('正の整数を入力してください：'))\n",
    "j = int(input('正の整数を入力してください：'))\n",
    "y=FizzBuzz(i, j)\n",
    "print (y)"
   ]
  },
  {
   "cell_type": "code",
   "execution_count": null,
   "metadata": {},
   "outputs": [],
   "source": []
  }
 ],
 "metadata": {
  "kernelspec": {
   "display_name": "Python 3",
   "language": "python",
   "name": "python3"
  },
  "language_info": {
   "codemirror_mode": {
    "name": "ipython",
    "version": 3
   },
   "file_extension": ".py",
   "mimetype": "text/x-python",
   "name": "python",
   "nbconvert_exporter": "python",
   "pygments_lexer": "ipython3",
   "version": "3.7.3"
  }
 },
 "nbformat": 4,
 "nbformat_minor": 2
}
