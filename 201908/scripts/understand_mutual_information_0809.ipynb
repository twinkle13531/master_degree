{
 "cells": [
  {
   "cell_type": "markdown",
   "metadata": {},
   "source": [
    "interaction informaionは正負両方取りうる\n",
    "相互情報量mutual infomationは正のみとる"
   ]
  },
  {
   "cell_type": "markdown",
   "metadata": {},
   "source": [
    "# Thesis\n",
    "Discovering pair-wise genetic interactions: An infromation theory-based approach\n",
    "\n",
    "\n",
    "- 修飾相互作用(modifier interaction)と合成相互作用(synthetic interaction)に対し利用する、ID(interation distance)という相互作用情報(interaction infomation)の概念を拡張した距離を開発した\n",
    "\n",
    "- 近年遺伝子の相互作用の分析に非常に有効だとして使われている相互作用情報を利用した指標を開発した"
   ]
  },
  {
   "cell_type": "markdown",
   "metadata": {},
   "source": [
    "## Terms\n",
    "- interaction ingormation $ID ≡ d(X1;X2・Y) = d(X1;X2) - d(X1; X2|Y)$\n",
    "- mutual information $I(X1; X2)$\n",
    "- conditional information $H(Y|Xi)$...measure of dependence of $Y$ on a single variable $Xi$, 条件付きエントロピー\n",
    "- joint entropy $H(X, Y$)...結合エントロピー\n",
    "- sign convention...a choice of the physical significance of signs (plus or minus) for a set of quantities, in a case where the choice of sign is arbitrary. \n",
    "\n",
    "<br/>\n",
    "$\\begin{align}\n",
    "I(X, Y)& = H(X) - H(X|Y)\\\\\n",
    "& = H(Y) - H(Y|X)\\\\\n",
    "& = H(X) + H(Y) - H(X, Y)\\\\\n",
    "\\end{align}\n",
    "$\n",
    "\n",
    "$H(X|Y) = H(X, Y) - H(Y) $\n",
    "\n",
    "$\\begin{align}\n",
    "ID  &= \\frac{I(X1, X2)}{max[H(X1), H(X2)]} +  \\frac{I(X1, X2 | Y)}{max[H(X1|Y), H(X2|Y)]}\\\\\n",
    "& = \\frac{H(X1) + H(X2) - H(X1, X2)}{max[H(X1), H(X2)]}\n",
    "+ \\frac{H(X1, Y) + H(X2, Y) - H(X1, X2, Y) - H(Y)}{max[H(X1, Y) - H(Y), H(X2, Y) - H(Y)]}\\\\\n",
    "\\end{align}\n",
    "$\n",
    "\n",
    "<br/>\n",
    "<img src='20190809223738.png' width=50%>"
   ]
  },
  {
   "cell_type": "markdown",
   "metadata": {},
   "source": [
    "- conditional mutual information $I(x; y |z$)...the expected value of the mutual information of two random variables given the value of a third\n",
    "\n",
    "$\\begin{align}\n",
    "I(X;Y|Z) &= H(X, Z) + H(Y, Z) - H(X, Y, Z) - H(Z)\\\\\n",
    "& = H(X|Z) - H(X|Y, Z)\\\\\n",
    "& = H(X|Z) - H(Y|Z) - H(X, Y|Z)\\\\\n",
    "& = H(Z|X) + H(X) + H(Z|Y) + H(Y) - H(Z|X, Y) - H(X, Y)\\\\\n",
    "& = I(X;Y) + H(Z|X) + H(Z|Y) - H(Z|X, Y) - H(Z)\\\\\n",
    "\\end{align}$"
   ]
  },
  {
   "cell_type": "markdown",
   "metadata": {},
   "source": [
    "<img src='20190810150512.png' width=50%>"
   ]
  },
  {
   "cell_type": "code",
   "execution_count": 1,
   "metadata": {
    "scrolled": true
   },
   "outputs": [],
   "source": [
    "#import pandas as pd\n",
    "#df = pd.read_csv('sample.csv', index_col=0)\n",
    "#df"
   ]
  },
  {
   "cell_type": "code",
   "execution_count": 2,
   "metadata": {
    "scrolled": false
   },
   "outputs": [
    {
     "name": "stdout",
     "output_type": "stream",
     "text": [
      "[[1 1 1 0 1]\n",
      " [1 1 1 0 1]\n",
      " [1 0 0 1 0]\n",
      " [0 0 0 0 0]\n",
      " [1 1 1 0 1]\n",
      " [1 0 0 0 0]\n",
      " [1 1 1 1 1]\n",
      " [0 0 0 0 1]\n",
      " [0 1 0 1 0]\n",
      " [0 0 1 0 0]\n",
      " [0 0 0 1 0]\n",
      " [0 0 0 1 0]\n",
      " [0 0 0 1 1]\n",
      " [1 1 1 0 1]\n",
      " [0 0 0 0 0]]\n"
     ]
    }
   ],
   "source": [
    "import numpy as np\n",
    "\n",
    "a = np.loadtxt('sample.csv', delimiter=',', dtype='int64',\n",
    "               skiprows=1, usecols=[1, 2, 3, 4, 5])\n",
    "\n",
    "print(a) #TF1, 2, 3, 4, exの計5要素（列）。計15遺伝子サンプル（行）"
   ]
  },
  {
   "cell_type": "code",
   "execution_count": 3,
   "metadata": {},
   "outputs": [
    {
     "data": {
      "text/plain": [
       "[1, 2]"
      ]
     },
     "execution_count": 3,
     "metadata": {},
     "output_type": "execute_result"
    }
   ],
   "source": [
    "a_dic = {}\n",
    "for i in range(10):\n",
    "    for j in range(20):\n",
    "        a_dic[str(i), str(j)] = [i,j]\n",
    "\n",
    "# 内包表記バージョン\n",
    "#a_dic = {str(i)str(j) : [i, j] for i in range(10) for j in range(20)}\n",
    "\n",
    "a_dic[\"1\", \"2\"]\n",
    "# [1, 2]"
   ]
  },
  {
   "cell_type": "code",
   "execution_count": 4,
   "metadata": {},
   "outputs": [
    {
     "name": "stdout",
     "output_type": "stream",
     "text": [
      "[0, 0, 0, 0, 0, 0, 0, 0]\n",
      "3\n"
     ]
    }
   ],
   "source": [
    "b = [0]*2**3\n",
    "print(b)\n",
    "\n",
    "c=[3]\n",
    "print(c[-1])"
   ]
  },
  {
   "cell_type": "code",
   "execution_count": 5,
   "metadata": {},
   "outputs": [
    {
     "name": "stdout",
     "output_type": "stream",
     "text": [
      "[[8, 7], [9, 6], [9, 6], [9, 6], [8, 7]]\n",
      "5\n",
      "2\n",
      "TF1\n"
     ]
    }
   ],
   "source": [
    "TFe1_list = [['TF1'], ['TF2'], ['TF3'], ['TF4'], ['ex']]\n",
    "a1_list = []\n",
    "for j in range(5):\n",
    "    TFe =[]\n",
    "    a1_list.append(TFe) #aの列固定、a2_listの行固定\n",
    "    for k in range(2): #a2_listの列固定\n",
    "            TFe.append(0)\n",
    "            for i in range(15): #aの行固定\n",
    "                if a[i][j]==k:\n",
    "                    TFe[-1] +=1\n",
    "\"\"\"\n",
    "[[TF1が0, 1],\n",
    "[TF2が0, 1], \n",
    "[TF3が0, 1], \n",
    "[TF4が0 ,1], \n",
    "[exが0, 1]]\n",
    "\"\"\"                    \n",
    "print(a1_list)\n",
    "print(len(a1_list))\n",
    "print(len(a1_list[0]))\n",
    "print(TFe1_list[0][0])"
   ]
  },
  {
   "cell_type": "code",
   "execution_count": 6,
   "metadata": {
    "scrolled": false
   },
   "outputs": [
    {
     "name": "stdout",
     "output_type": "stream",
     "text": [
      "[[7, 1, 2, 5], [7, 1, 2, 5], [4, 4, 5, 2], [6, 2, 2, 5], [8, 1, 1, 5], [5, 4, 4, 2], [7, 2, 1, 5], [4, 5, 5, 1], [7, 2, 1, 5], [4, 5, 4, 2]]\n",
      "10\n",
      "4\n",
      "[['TF1'], ['TF2']]\n",
      "TF1 TF2\n"
     ]
    }
   ],
   "source": [
    "TFe2_list = []\n",
    "a2_list = []\n",
    "for j in range(5):\n",
    "    for k in range(5):\n",
    "        if j < k:\n",
    "            TFe2_list.append([TFe1_list[j], TFe1_list[k]])\n",
    "            TFe =[]\n",
    "            a2_list.append(TFe) #aの列固定、a2_listの行固定\n",
    "            for l in range(2):\n",
    "                for m in range(2): #a2_listの列固定\n",
    "                    TFe.append(0)\n",
    "                    for i in range(15): #aの行固定\n",
    "                        if a[i][j]==l and a[i][k]==m:\n",
    "                            TFe[-1] +=1\n",
    "\n",
    "\"\"\"\n",
    "00 ,01, 10, 11(2*2=4列）両者の表現型\n",
    "[[] TF12\n",
    "[] TF13\n",
    "[] TF14\n",
    "[] TF1ex\n",
    "[] TF23\n",
    "[] TF24\n",
    "[] TF2ex\n",
    "[] TF34\n",
    "[] TF3ex\n",
    "[]] TF4ex（5*4/2=10行）\n",
    "\n",
    "[[7, 1, 2, 5], [7, 1, 2, 5], [4, 4, 5, 2], [6, 2, 2, 5], [8, 1, 1, 5], [5, 4, 4, 2], [7, 2, 1, 5], [4, 5, 5, 1], [7, 2, 1, 5], [4, 5, 4, 2]]\n",
    "\n",
    "\"\"\"\n",
    "print(a2_list)\n",
    "print(len(a2_list))\n",
    "print(len(a2_list[0]))\n",
    "print(TFe2_list[0])\n",
    "print(TFe2_list[0][0][0], TFe2_list[0][1][0])"
   ]
  },
  {
   "cell_type": "code",
   "execution_count": 7,
   "metadata": {},
   "outputs": [
    {
     "name": "stdout",
     "output_type": "stream",
     "text": [
      "[[6, 1, 1, 0, 2, 0, 0, 5], [4, 3, 0, 1, 1, 1, 4, 1], [5, 2, 1, 0, 2, 0, 0, 5], [3, 4, 1, 0, 1, 1, 4, 1], [5, 2, 1, 0, 2, 0, 0, 5], [3, 1, 3, 1, 1, 4, 1, 1], [4, 4, 1, 0, 0, 1, 4, 1], [6, 2, 1, 0, 1, 0, 0, 5], [4, 1, 3, 1, 0, 4, 1, 1], [3, 1, 4, 1, 1, 4, 0, 1]]\n",
      "10\n",
      "8\n",
      "[[['TF1'], ['TF2'], ['TF3']], [['TF1'], ['TF2'], ['TF4']], [['TF1'], ['TF2'], ['ex']], [['TF1'], ['TF3'], ['TF4']], [['TF1'], ['TF3'], ['ex']], [['TF1'], ['TF4'], ['ex']], [['TF2'], ['TF3'], ['TF4']], [['TF2'], ['TF3'], ['ex']], [['TF2'], ['TF4'], ['ex']], [['TF3'], ['TF4'], ['ex']]]\n",
      "TF1 TF2 TF3\n"
     ]
    }
   ],
   "source": [
    "TFe3_list = []\n",
    "a3_list = []\n",
    "for j in range(5):\n",
    "    for k in range(5):\n",
    "        for l in range(5):\n",
    "            if j < k and k < l:\n",
    "                TFe3_list.append([TFe1_list[j], TFe1_list[k], TFe1_list[l]])\n",
    "                TFe =[]\n",
    "                a3_list.append(TFe) #aの列固定、a2_listの行固定\n",
    "                for m in range(2):\n",
    "                    for n in range(2): #a2_listの列固定\n",
    "                        for o in range(2):\n",
    "                            TFe.append(0)\n",
    "                            for i in range(15): #aの行固定\n",
    "                                if a[i][j]==m and a[i][k]==n and a[i][l]==o:\n",
    "                                    TFe[-1] +=1\n",
    "\n",
    "'''\n",
    "000, 001, 010, 011, 100, 101, 110, 111(2**3列) 三者の表現型\n",
    "[[] TF123\n",
    "[] TF124\n",
    "[] TF12ex\n",
    "[] TF134\n",
    "[] TF13ex\n",
    "[] TF14ex\n",
    "[] TF234\n",
    "[] TF23ex\n",
    "[] TF24ex\n",
    "[]] TF34ex (5C3=10行)\n",
    "\n",
    " [[6, 1, 1, 0, 2, 0, 0, 5], [4, 3, 0, 1, 1, 1, 4, 1], [5, 2, 1, 0, 2, 0, 0, 5], [3, 4, 1, 0, 1, 1, 4, 1], [5, 2, 1, 0, 2, 0, 0, 5]\n",
    " , [3, 1, 3, 1, 1, 4, 1, 1], [4, 4, 1, 0, 0, 1, 4, 1], [6, 2, 1, 0, 1, 0, 0, 5], [4, 1, 3, 1, 0, 4, 1, 1], [3, 1, 4, 1, 1, 4, 0, 1]]\n",
    "'''                \n",
    "print(a3_list)\n",
    "print(len(a3_list))\n",
    "print(len(a3_list[0]))\n",
    "print(TFe3_list)\n",
    "print(TFe3_list[0][0][0], TFe3_list[0][1][0], TFe3_list[0][2][0])"
   ]
  },
  {
   "cell_type": "code",
   "execution_count": 8,
   "metadata": {},
   "outputs": [
    {
     "name": "stdout",
     "output_type": "stream",
     "text": [
      "[[3, 3, 1, 0, 0, 1, 0, 0, 1, 1, 0, 0, 0, 0, 4, 1], [4, 2, 1, 0, 1, 0, 0, 0, 2, 0, 0, 0, 0, 0, 0, 5], [3, 1, 2, 1, 0, 0, 1, 0, 1, 0, 1, 0, 0, 4, 0, 1], [2, 1, 3, 1, 1, 0, 0, 0, 1, 0, 1, 0, 0, 4, 0, 1], [3, 1, 3, 1, 1, 0, 0, 0, 0, 0, 1, 0, 0, 4, 0, 1]]\n",
      "5\n",
      "16\n",
      "[[['TF1'], ['TF2'], ['TF3'], ['TF4']], [['TF1'], ['TF2'], ['TF3'], ['ex']], [['TF1'], ['TF2'], ['TF4'], ['ex']], [['TF1'], ['TF3'], ['TF4'], ['ex']], [['TF2'], ['TF3'], ['TF4'], ['ex']]] 5\n",
      "TF1 TF2 TF3 TF4\n"
     ]
    }
   ],
   "source": [
    "TFe4_list = []\n",
    "a4_list = []\n",
    "for j in range(5):\n",
    "    for k in range(5):\n",
    "        for l in range(5):\n",
    "            for m in range(5):\n",
    "                if j < k and k < l and l < m:\n",
    "                    TFe4_list.append([TFe1_list[j], TFe1_list[k], TFe1_list[l], TFe1_list[m]])\n",
    "                    TFe =[]\n",
    "                    a4_list.append(TFe) #aの列固定、a2_listの行固定\n",
    "                    for n in range(2):\n",
    "                        for o in range(2): #a2_listの列固定\n",
    "                            for p in range(2):\n",
    "                                for q in range(2):\n",
    "                                    TFe.append(0)\n",
    "                                    for i in range(15): #aの行固定\n",
    "                                        if a[i][j]==n and a[i][k]==o and a[i][l]==p and a[i][m]==q:\n",
    "                                            TFe[-1] +=1\n",
    "\n",
    "'''\n",
    "0000, 0001, 0010, 0011, 0100, 0101, 0110, 0111, 1000, 1001, 1010, 1011, 1100, 1101, 1110, 1111(2**4=16列) 四者の表現型\n",
    "[[] TF1234\n",
    "[] TF123ex\n",
    "[] TF124ex\n",
    "[] TF134ex\n",
    "[]] TF234ex (5行)\n",
    "\n",
    " [[3, 3, 1, 0, 0, 1, 0, 0, 1, 1, 0, 0, 0, 0, 4, 1], [4, 2, 1, 0, 1, 0, 0, 0, 2, 0, 0, 0, 0, 0, 0, 5], [3, 1, 2, 1, 0, 0, 1, 0, 1, 0, 1, 0, 0, 4, 0, 1]\n",
    " , [2, 1, 3, 1, 1, 0, 0, 0, 1, 0, 1, 0, 0, 4, 0, 1], [3, 1, 3, 1, 1, 0, 0, 0, 0, 0, 1, 0, 0, 4, 0, 1]]\n",
    "'''                \n",
    "print(a4_list)\n",
    "print(len(a4_list))\n",
    "print(len(a4_list[0]))\n",
    "print(TFe4_list, len(TFe4_list))\n",
    "print(TFe4_list[0][0][0], TFe4_list[0][1][0], TFe4_list[0][2][0], TFe4_list[0][3][0])"
   ]
  },
  {
   "cell_type": "code",
   "execution_count": 9,
   "metadata": {},
   "outputs": [
    {
     "name": "stdout",
     "output_type": "stream",
     "text": [
      "[[2, 0, 0, 0, 0, 0, 0, 0, 0, 0, 0, 0, 0, 0, 0, 5, 2, 0, 0, 0, 0, 0, 0, 0, 0, 0, 0, 0, 0, 0, 0, 5]]\n",
      "1\n",
      "32\n",
      "[[['TF1'], ['TF2'], ['TF3'], ['TF4'], ['ex']]] 1\n",
      "TF1 TF2 TF3 TF4 ex\n"
     ]
    }
   ],
   "source": [
    "TFe5_list = [[['TF1'], ['TF2'], ['TF3'], ['TF4'], ['ex']]]\n",
    "a5_list = []\n",
    "TFe =[]\n",
    "a5_list.append(TFe) #aの列固定、a2_listの行固定\n",
    "for l in range(2):\n",
    "    for m in range(2): #a2_listの列固定\n",
    "        for n in range(2):\n",
    "            for o in range(2):\n",
    "                for p in range(2):\n",
    "                    TFe.append(0)\n",
    "                    for i in range(15): #aの行固定\n",
    "                        if a[i][0]==m and a[i][1]==n and a[i][2]==o and a[i][2]==p and a[i][4]==q:\n",
    "                            TFe[-1] +=1\n",
    "                            \n",
    "print(a5_list)  \n",
    "print(len(a5_list)) #1\n",
    "print(len(a5_list[0])) #2**5\n",
    "print(TFe5_list, len(TFe5_list))\n",
    "print(TFe5_list[0][0][0], TFe5_list[0][1][0], TFe5_list[0][2][0], TFe5_list[0][3][0], TFe5_list[0][4][0])"
   ]
  },
  {
   "cell_type": "code",
   "execution_count": 10,
   "metadata": {},
   "outputs": [
    {
     "name": "stdout",
     "output_type": "stream",
     "text": [
      "0.43949698692151334\n"
     ]
    }
   ],
   "source": [
    "from scipy.stats import entropy #あるできごと（事象）が起きた際、それがどれほど起こりにくいかを表す尺度\n",
    "# 起こりにくい事象（＝生起確率が低い事象）の情報量ほど、値が大きい。\n",
    "\n",
    "print(entropy([0, 100, 10], base=2)) # 1.0"
   ]
  },
  {
   "cell_type": "markdown",
   "metadata": {},
   "source": [
    "### 例）TF1, 2, ex\n",
    "\n",
    "- $X1 = TF1$\n",
    "- $X2 = TF2$\n",
    "- $Y = ex$\n",
    "\n",
    "とする\n",
    "\n",
    "必要な数値は\n",
    "- $H(TF1)$\n",
    "- $H(TF2)$\n",
    "- $H(ex)$\n",
    "- $H(TF1, TF2)$\n",
    "- $H(X1, ex)$\n",
    "- $H(X2, ex)$\n",
    "- $H(X1, X2, ex)$\n",
    "\n",
    "の7つ"
   ]
  },
  {
   "cell_type": "code",
   "execution_count": 11,
   "metadata": {},
   "outputs": [
    {
     "name": "stdout",
     "output_type": "stream",
     "text": [
      "['TF1']\n"
     ]
    },
    {
     "data": {
      "text/plain": [
       "[8, 7]"
      ]
     },
     "execution_count": 11,
     "metadata": {},
     "output_type": "execute_result"
    }
   ],
   "source": [
    "# TFe1_list = [['TF1'], ['TF2'], ['TF3'], ['TF4'], ['ex']]\n",
    "print(TFe1_list[0])\n",
    "a1_list[TFe1_list[0].index(\"TF1\")]"
   ]
  },
  {
   "cell_type": "code",
   "execution_count": 12,
   "metadata": {},
   "outputs": [
    {
     "name": "stdout",
     "output_type": "stream",
     "text": [
      "{'TF1': 0.9967916319816367, 'TF2': 0.9709505944546688, 'TF3': 0.9709505944546688, 'TF4': 0.9709505944546688, 'ex': 0.9967916319816367}\n",
      "0.9967916319816367\n",
      "0.9967916319816367\n"
     ]
    }
   ],
   "source": [
    "H1 = {}\n",
    "for r in TFe1_list:\n",
    "    H1[r[0]] = entropy(a1_list[TFe1_list.index(r)], base=2)\n",
    "    \n",
    "print(H1)\n",
    "print(H1['TF1'])\n",
    "print(entropy([8, 7], base=2)) #TF1の0, 1の出方の均等具合 = H1[\"TF1\"]"
   ]
  },
  {
   "cell_type": "code",
   "execution_count": 13,
   "metadata": {},
   "outputs": [
    {
     "name": "stdout",
     "output_type": "stream",
     "text": [
      "[['TF1'], ['TF4']]\n",
      "[['TF1'], ['TF4']]\n",
      "['TF1']\n",
      "['TF1']\n",
      "TF1 TF4\n",
      "[4, 4, 5, 2]\n",
      "[4, 4, 5, 2]\n"
     ]
    }
   ],
   "source": [
    "s=TFe2_list[2]\n",
    "\n",
    "print(TFe2_list[2])\n",
    "print(s)\n",
    "\n",
    "print(TFe2_list[2][0])\n",
    "print(s[0])\n",
    "print(s[0][0], s[1][0] )\n",
    "\n",
    "print(a2_list[TFe2_list.index(TFe2_list[2])])\n",
    "print(a2_list[TFe2_list.index(s)])"
   ]
  },
  {
   "cell_type": "code",
   "execution_count": 14,
   "metadata": {
    "scrolled": true
   },
   "outputs": [
    {
     "name": "stdout",
     "output_type": "stream",
     "text": [
      "1.6894822670191825\n",
      "1.6894822670191825\n"
     ]
    }
   ],
   "source": [
    "H2 = {}\n",
    "for r in TFe2_list:\n",
    "    H2[r[0][0], r[1][0]] = entropy(a2_list[TFe2_list.index(r)], base=2)\n",
    "\n",
    "print(H2['TF1', 'TF2'])\n",
    "print(entropy([7, 1, 2, 5], base=2)) #TF1, TF2の0, 1の出方の均等具合 = H2[\"TF1, TF2\"]"
   ]
  },
  {
   "cell_type": "code",
   "execution_count": 15,
   "metadata": {},
   "outputs": [
    {
     "name": "stdout",
     "output_type": "stream",
     "text": [
      "1.965596230357602\n",
      "1.965596230357602\n"
     ]
    }
   ],
   "source": [
    "#TFe3_list = [\"TF1, TF2, TF3\", \"TF1, TF2, TF4\", \"TF1, TF2, ex\", \"TF1, TF3, TF4\", \"TF1, TF3, ex\", \"TF1, TF4, ex\", \"TF2, TF3, TF4\", \"TF2, TF3, ex\", \"TF2, TF4, ex\", \"TF3, TF4, ex\"]\n",
    "#print(len(TFe3_list))\n",
    "\n",
    "H3 = {}\n",
    "for r in TFe3_list:\n",
    "    H3[r[0][0], r[1][0], r[2][0]] = entropy(a3_list[TFe3_list.index(r)], base=2)\n",
    "    \n",
    "print(H3['TF1', 'TF2', 'TF3'])\n",
    "print(entropy([6, 1, 1, 0, 2, 0, 0, 5], base=2)) #TF1, TF2, TF3の0, 1の出方の均等具合 = H3[\"TF1, TF2, TF3\"]"
   ]
  },
  {
   "cell_type": "code",
   "execution_count": 16,
   "metadata": {
    "scrolled": true
   },
   "outputs": [
    {
     "name": "stdout",
     "output_type": "stream",
     "text": [
      "2.739572261986723\n",
      "2.739572261986723\n"
     ]
    }
   ],
   "source": [
    "#TFe4_list = [\"TF1, TF2, TF3, TF4\", \"TF1, TF2, TF3, ex\", \"TF1, TF2, TF4, ex\", \"TF1, TF3, TF4, ex\", \"TF2, TF3, TF4, ex\"]\n",
    "#print(len(TFe4_list))\n",
    "\n",
    "H4 = {}\n",
    "for r in TFe4_list:\n",
    "    H4[r[0][0], r[1][0], r[2][0], r[3][0]] = entropy(a4_list[TFe4_list.index(r)], base=2)\n",
    "    \n",
    "print(H4['TF1', 'TF2', 'TF3', 'TF4'])\n",
    "print(entropy([3, 3, 1, 0, 0, 1, 0, 0, 1, 1, 0, 0, 0, 0, 4, 1], base=2)) \n",
    "#TF1, TF2, TF3, TF4の0, 1の出方の均等具合 = H3[\"TF1, TF2, TF3, TF4\"]"
   ]
  },
  {
   "cell_type": "markdown",
   "metadata": {},
   "source": [
    "$\\begin{align}\n",
    "ID &= \\frac{I(X1, X2)}{max[H(X1), H(X2)]} +  \\frac{I(X1, X2 | Y)}{max[H(X1|Y), H(X2|Y)]}\\\\\n",
    "& = \\frac{H(X1) + H(X2) - H(X1, X2)}{max[H(X1), H(X2)]}\n",
    "+ \\frac{H(X1, Y) + H(X2, Y) - H(X1, X2, Y) - H(Y)}{max[H(X1, Y) - H(Y), H(X2, Y) - H(Y)]}\\\\\n",
    "\\end{align}\n",
    "$"
   ]
  },
  {
   "cell_type": "code",
   "execution_count": 17,
   "metadata": {},
   "outputs": [],
   "source": [
    "#print(max([10, 20, 30, 20, 5, 3]))"
   ]
  },
  {
   "cell_type": "code",
   "execution_count": 18,
   "metadata": {},
   "outputs": [],
   "source": [
    "def ID(X1, X2, Y):\n",
    "    ID1 = (H1[X1] + H1[X2] - H2[X1, X2])/max([H1[X1], H1[X2]]) \n",
    "    ID2 = (H2[X1, Y] + H2[X2, Y] - H3[X1, X2, Y] - H1[Y])/max([H2[X1, Y] - H1[Y], H2[X2, Y] - H1[Y]])\n",
    "    print(ID1 + ID2)"
   ]
  },
  {
   "cell_type": "code",
   "execution_count": 19,
   "metadata": {
    "scrolled": true
   },
   "outputs": [
    {
     "name": "stdout",
     "output_type": "stream",
     "text": [
      "0.797044938485054\n"
     ]
    }
   ],
   "source": [
    "ID('TF1', 'TF2', 'ex')"
   ]
  },
  {
   "cell_type": "code",
   "execution_count": 20,
   "metadata": {},
   "outputs": [
    {
     "name": "stdout",
     "output_type": "stream",
     "text": [
      "0.797044938485054\n"
     ]
    }
   ],
   "source": [
    "ID('TF1', 'TF3', 'ex')"
   ]
  },
  {
   "cell_type": "markdown",
   "metadata": {},
   "source": [
    "### References\n",
    "リストへの要素の追加と別のリストとの結合 https://www.javadrive.jp/python/list/index6.html <br/>\n",
    "最大値最小値の取得 https://www.python-izm.com/advanced/min_max/<br/>\n",
    "Conditional mutual information https://en.wikipedia.org/wiki/Conditional_mutual_information"
   ]
  }
 ],
 "metadata": {
  "kernelspec": {
   "display_name": "Python 3",
   "language": "python",
   "name": "python3"
  },
  "language_info": {
   "codemirror_mode": {
    "name": "ipython",
    "version": 3
   },
   "file_extension": ".py",
   "mimetype": "text/x-python",
   "name": "python",
   "nbconvert_exporter": "python",
   "pygments_lexer": "ipython3",
   "version": "3.7.3"
  }
 },
 "nbformat": 4,
 "nbformat_minor": 2
}
