{
 "cells": [
  {
   "cell_type": "markdown",
   "metadata": {},
   "source": [
    "# 内容\n",
    "```meeting_0114```のファイル群結果まとめ。"
   ]
  },
  {
   "cell_type": "markdown",
   "metadata": {},
   "source": [
    "## １．選択する特徴量数を変える（縦軸エネルギー）\n",
    "\n",
    "#### 特徴量1つ選択、温度リスト1-10000\n",
    "エネルギー0：776サンプル\n",
    "<img src = '../output/0114_numselect1.png'>"
   ]
  },
  {
   "cell_type": "markdown",
   "metadata": {},
   "source": [
    "#### 特徴量2つ選択、温度リスト1-10000\n",
    "エネルギー0：153サンプル\n",
    "<img src = '../output/0114_numselect2.png'>"
   ]
  },
  {
   "cell_type": "markdown",
   "metadata": {},
   "source": [
    "#### 特徴量3つ選択、温度リスト1-10000\n",
    "エネルギー0：19サンプル\n",
    "<img src = '0114_numselect3.png'>\n",
    "\n",
    "### 結果\n",
    "選ぶ特徴量数を増やすと生成サンプル（エネルギー0）は減る"
   ]
  },
  {
   "cell_type": "markdown",
   "metadata": {},
   "source": [
    "\n",
    "\n",
    "## ２．最終温度を変える（縦軸サンプル数）\n",
    "\n",
    "#### 特徴量1つ選択、温度リスト1/10-10000\n",
    "エネルギー0：776サンプル\n",
    "<img src = '0114_numselect1_1.png'>"
   ]
  },
  {
   "cell_type": "markdown",
   "metadata": {},
   "source": [
    "#### 特徴量1つ選択、温度リスト1/10-10000\n",
    "エネルギー0：734サンプル\n",
    "<img src = '0114_numselect10.png'>"
   ]
  },
  {
   "cell_type": "markdown",
   "metadata": {},
   "source": [
    "#### 特徴量1つ選択、温度リスト1/100-10000\n",
    "エネルギー0：813サンプル\n",
    "<img src = '0114_numselect100.png'>"
   ]
  },
  {
   "cell_type": "markdown",
   "metadata": {},
   "source": [
    "#### 特徴量1つ選択、温度リスト1/1000-10000\n",
    "エネルギー0：1492サンプル\n",
    "<img src = '0114_numselect1000.png'>"
   ]
  },
  {
   "cell_type": "markdown",
   "metadata": {},
   "source": [
    "#### 特徴量1つ選択、温度リスト1/10000-10000\n",
    "エネルギー0：3984サンプル\n",
    "<img src = '0114_numselect10000.png'>\n",
    "\n",
    "### 結果\n",
    "最低温度を低くすると生成サンプル（エネルギー0）は増える"
   ]
  }
 ],
 "metadata": {
  "kernelspec": {
   "display_name": "Python 3",
   "language": "python",
   "name": "python3"
  },
  "language_info": {
   "codemirror_mode": {
    "name": "ipython",
    "version": 3
   },
   "file_extension": ".py",
   "mimetype": "text/x-python",
   "name": "python",
   "nbconvert_exporter": "python",
   "pygments_lexer": "ipython3",
   "version": "3.7.6"
  }
 },
 "nbformat": 4,
 "nbformat_minor": 2
}
