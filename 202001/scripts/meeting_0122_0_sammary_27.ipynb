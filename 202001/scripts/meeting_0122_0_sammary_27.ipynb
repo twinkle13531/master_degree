{
 "cells": [
  {
   "cell_type": "markdown",
   "metadata": {},
   "source": [
    "# 内容\n",
    "```meeting_0122_0```のファイル結果まとめ。\n",
    "\n",
    "```meeting_0122_0_1```(分類)と```meeting_0122_0_2```(回帰)で実行\n",
    "<br/>\n",
    "* 分類と回帰での比較をしつつ…\n",
    "    * num_select値の違いによる比較\n",
    "    * MCMC_step値の違いによる比較\n",
    "    * MCMC_step_each値の違いによる比較\n",
    "    * Max_temper値の違いによる比較\n",
    "    \n",
    "* 全解探索に近い結果を出す\n",
    "\n",
    "稲のデータでする。稲は特徴量(説明変数)がバイナリで（yes, noと考える）、目的関数がfloat\n",
    "回帰でしないといけない。\n",
    "\n",
    "# 結果\n"
   ]
  },
  {
   "cell_type": "markdown",
   "metadata": {},
   "source": [
    "## 参考\n",
    "\n",
    "```python\n",
    "'training_markers.txt', 'training_yields.txt'\n",
    "```\n",
    "（特徴量```20```）の全解探索(分類)の結果👇\n",
    "\n",
    "横軸：特徴量数、単位：通り\n",
    "<img src = '20200126173200.png'>"
   ]
  },
  {
   "cell_type": "markdown",
   "metadata": {},
   "source": [
    "## 1.  num_select値の違いによる比較\n",
    "* 固定変数：MCMC_step = 100, MCMC_step_each = 5, Max_temper = 1000"
   ]
  },
  {
   "cell_type": "code",
   "execution_count": 6,
   "metadata": {
    "scrolled": true
   },
   "outputs": [
    {
     "data": {
      "text/html": [
       "<div>\n",
       "<style scoped>\n",
       "    .dataframe tbody tr th:only-of-type {\n",
       "        vertical-align: middle;\n",
       "    }\n",
       "\n",
       "    .dataframe tbody tr th {\n",
       "        vertical-align: top;\n",
       "    }\n",
       "\n",
       "    .dataframe thead th {\n",
       "        text-align: right;\n",
       "    }\n",
       "</style>\n",
       "<table border=\"1\" class=\"dataframe\">\n",
       "  <thead>\n",
       "    <tr style=\"text-align: right;\">\n",
       "      <th>num_select</th>\n",
       "      <th>0</th>\n",
       "      <th>1</th>\n",
       "      <th>2</th>\n",
       "      <th>3</th>\n",
       "      <th>4</th>\n",
       "      <th>5</th>\n",
       "      <th>6</th>\n",
       "      <th>7</th>\n",
       "      <th>8</th>\n",
       "      <th>9</th>\n",
       "      <th>10</th>\n",
       "      <th>11</th>\n",
       "      <th>12</th>\n",
       "      <th>13</th>\n",
       "      <th>14</th>\n",
       "      <th>15</th>\n",
       "      <th>16</th>\n",
       "      <th>17</th>\n",
       "      <th>18</th>\n",
       "      <th>19</th>\n",
       "    </tr>\n",
       "  </thead>\n",
       "  <tbody>\n",
       "    <tr>\n",
       "      <td>y selected featrues are same</td>\n",
       "      <td></td>\n",
       "      <td>7754</td>\n",
       "      <td>1693</td>\n",
       "      <td>370</td>\n",
       "      <td>66</td>\n",
       "      <td>26</td>\n",
       "      <td>14</td>\n",
       "      <td>11</td>\n",
       "      <td>5</td>\n",
       "      <td>4</td>\n",
       "      <td>6</td>\n",
       "      <td>2</td>\n",
       "      <td>10</td>\n",
       "      <td>9</td>\n",
       "      <td>35</td>\n",
       "      <td>119</td>\n",
       "      <td>159</td>\n",
       "      <td>783</td>\n",
       "      <td>1940</td>\n",
       "      <td>8914</td>\n",
       "    </tr>\n",
       "  </tbody>\n",
       "</table>\n",
       "</div>"
      ],
      "text/plain": [
       "num_select                   0     1     2    3   4   5   6   7  8  9 10 11  \\\n",
       "y selected featrues are same    7754  1693  370  66  26  14  11  5  4  6  2   \n",
       "\n",
       "num_select                    12 13  14   15   16   17    18    19  \n",
       "y selected featrues are same  10  9  35  119  159  783  1940  8914  "
      ]
     },
     "execution_count": 6,
     "metadata": {},
     "output_type": "execute_result"
    }
   ],
   "source": [
    "import pandas as pd\n",
    "num_E0_Yreg_df = pd.DataFrame()\n",
    "num_E0_Yreg_df['y selected featrues are same'] = ['', 7754, 1693, 370, 66, 26, 14, 11, 5, 4, 6, 2, 10, 9, 35, 119, 159, 783, 1940, 8914]\n",
    "num_E0_Yreg_df.T.columns.name = 'num_select'\n",
    "num_E0_Yreg_df.T"
   ]
  },
  {
   "cell_type": "code",
   "execution_count": 7,
   "metadata": {},
   "outputs": [
    {
     "data": {
      "text/html": [
       "<div>\n",
       "<style scoped>\n",
       "    .dataframe tbody tr th:only-of-type {\n",
       "        vertical-align: middle;\n",
       "    }\n",
       "\n",
       "    .dataframe tbody tr th {\n",
       "        vertical-align: top;\n",
       "    }\n",
       "\n",
       "    .dataframe thead th {\n",
       "        text-align: right;\n",
       "    }\n",
       "</style>\n",
       "<table border=\"1\" class=\"dataframe\">\n",
       "  <thead>\n",
       "    <tr style=\"text-align: right;\">\n",
       "      <th>num_select</th>\n",
       "      <th>0</th>\n",
       "      <th>1</th>\n",
       "      <th>2</th>\n",
       "      <th>3</th>\n",
       "      <th>4</th>\n",
       "      <th>5</th>\n",
       "      <th>6</th>\n",
       "      <th>7</th>\n",
       "      <th>8</th>\n",
       "      <th>9</th>\n",
       "      <th>10</th>\n",
       "      <th>11</th>\n",
       "      <th>12</th>\n",
       "      <th>13</th>\n",
       "      <th>14</th>\n",
       "      <th>15</th>\n",
       "      <th>16</th>\n",
       "      <th>17</th>\n",
       "      <th>18</th>\n",
       "      <th>19</th>\n",
       "    </tr>\n",
       "  </thead>\n",
       "  <tbody>\n",
       "    <tr>\n",
       "      <td>y selected featrues are same</td>\n",
       "      <td></td>\n",
       "      <td>6864</td>\n",
       "      <td>1617</td>\n",
       "      <td>435</td>\n",
       "      <td>132</td>\n",
       "      <td>43</td>\n",
       "      <td>12</td>\n",
       "      <td>9</td>\n",
       "      <td>4</td>\n",
       "      <td>6</td>\n",
       "      <td>3</td>\n",
       "      <td>7</td>\n",
       "      <td>15</td>\n",
       "      <td>17</td>\n",
       "      <td>46</td>\n",
       "      <td>187</td>\n",
       "      <td>230</td>\n",
       "      <td>633</td>\n",
       "      <td>1939</td>\n",
       "      <td>6603</td>\n",
       "    </tr>\n",
       "  </tbody>\n",
       "</table>\n",
       "</div>"
      ],
      "text/plain": [
       "num_select                   0     1     2    3    4   5   6  7  8  9 10 11  \\\n",
       "y selected featrues are same    6864  1617  435  132  43  12  9  4  6  3  7   \n",
       "\n",
       "num_select                    12  13  14   15   16   17    18    19  \n",
       "y selected featrues are same  15  17  46  187  230  633  1939  6603  "
      ]
     },
     "execution_count": 7,
     "metadata": {},
     "output_type": "execute_result"
    }
   ],
   "source": [
    "# 速い\n",
    "import pandas as pd\n",
    "num_E0_Yclassifi_df = pd.DataFrame()\n",
    "num_E0_Yclassifi_df['y selected featrues are same'] = ['', 6864, 1617, 435, 132, 43, 12, 9, 4, 6, 3, 7, 15, 17, 46, 187, 230, 633, 1939, 6603]\n",
    "num_E0_Yclassifi_df.T.columns.name = 'num_select'\n",
    "num_E0_Yclassifi_df.T"
   ]
  },
  {
   "cell_type": "markdown",
   "metadata": {},
   "source": [
    "## 2.  MCMC_step値の違いによる比較\n",
    "* 固定変数：num_select = 3, MCMC_step_each = 5, Max_temper = 1000"
   ]
  },
  {
   "cell_type": "code",
   "execution_count": 9,
   "metadata": {},
   "outputs": [
    {
     "data": {
      "text/html": [
       "<div>\n",
       "<style scoped>\n",
       "    .dataframe tbody tr th:only-of-type {\n",
       "        vertical-align: middle;\n",
       "    }\n",
       "\n",
       "    .dataframe tbody tr th {\n",
       "        vertical-align: top;\n",
       "    }\n",
       "\n",
       "    .dataframe thead th {\n",
       "        text-align: right;\n",
       "    }\n",
       "</style>\n",
       "<table border=\"1\" class=\"dataframe\">\n",
       "  <thead>\n",
       "    <tr style=\"text-align: right;\">\n",
       "      <th></th>\n",
       "      <th>100</th>\n",
       "      <th>200</th>\n",
       "      <th>500</th>\n",
       "      <th>1000</th>\n",
       "    </tr>\n",
       "    <tr>\n",
       "      <th>MCMC_step</th>\n",
       "      <th></th>\n",
       "      <th></th>\n",
       "      <th></th>\n",
       "      <th></th>\n",
       "    </tr>\n",
       "  </thead>\n",
       "  <tbody>\n",
       "    <tr>\n",
       "      <td>y selected featrues are same</td>\n",
       "      <td>370.0</td>\n",
       "      <td>646.0</td>\n",
       "      <td>1210.0</td>\n",
       "      <td>1931.0</td>\n",
       "    </tr>\n",
       "  </tbody>\n",
       "</table>\n",
       "</div>"
      ],
      "text/plain": [
       "                               100    200     500     1000\n",
       "MCMC_step                                                 \n",
       "y selected featrues are same  370.0  646.0  1210.0  1931.0"
      ]
     },
     "execution_count": 9,
     "metadata": {},
     "output_type": "execute_result"
    }
   ],
   "source": [
    "num_E0_Yreg_df = pd.DataFrame()\n",
    "\n",
    "num_E0_Yreg_dic = {100:370, 200:646, 500:1210, 1000:1931, 2000:}\n",
    "\n",
    "num_E0_Yreg_df = num_E0_Yreg_df.append(num_E0_Yreg_dic, ignore_index=True)\n",
    "num_E0_Yreg_df.index = ['y selected featrues are same']\n",
    "num_E0_Yreg_df.T.columns.name = 'MCMC_step'\n",
    "num_E0_Yreg_df"
   ]
  },
  {
   "cell_type": "code",
   "execution_count": 10,
   "metadata": {},
   "outputs": [
    {
     "data": {
      "text/html": [
       "<div>\n",
       "<style scoped>\n",
       "    .dataframe tbody tr th:only-of-type {\n",
       "        vertical-align: middle;\n",
       "    }\n",
       "\n",
       "    .dataframe tbody tr th {\n",
       "        vertical-align: top;\n",
       "    }\n",
       "\n",
       "    .dataframe thead th {\n",
       "        text-align: right;\n",
       "    }\n",
       "</style>\n",
       "<table border=\"1\" class=\"dataframe\">\n",
       "  <thead>\n",
       "    <tr style=\"text-align: right;\">\n",
       "      <th></th>\n",
       "      <th>100</th>\n",
       "      <th>200</th>\n",
       "      <th>500</th>\n",
       "      <th>1000</th>\n",
       "    </tr>\n",
       "    <tr>\n",
       "      <th>MCMC_step</th>\n",
       "      <th></th>\n",
       "      <th></th>\n",
       "      <th></th>\n",
       "      <th></th>\n",
       "    </tr>\n",
       "  </thead>\n",
       "  <tbody>\n",
       "    <tr>\n",
       "      <td>y selected featrues are same</td>\n",
       "      <td>435.0</td>\n",
       "      <td>705.0</td>\n",
       "      <td>1242.0</td>\n",
       "      <td>1794.0</td>\n",
       "    </tr>\n",
       "  </tbody>\n",
       "</table>\n",
       "</div>"
      ],
      "text/plain": [
       "                               100    200     500     1000\n",
       "MCMC_step                                                 \n",
       "y selected featrues are same  435.0  705.0  1242.0  1794.0"
      ]
     },
     "execution_count": 10,
     "metadata": {},
     "output_type": "execute_result"
    }
   ],
   "source": [
    "import pandas as pd\n",
    "num_E0_Yclassifi_df = pd.DataFrame()\n",
    "\n",
    "num_E0_Yclassifi_dic = {100:435, 200:705, 500:1242, 1000:1794, 2000:}\n",
    "\n",
    "num_E0_Yclassifi_df = num_E0_Yclassifi_df.append(num_E0_Yclassifi_dic, ignore_index=True)\n",
    "num_E0_Yclassifi_df.index = ['y selected featrues are same']\n",
    "num_E0_Yclassifi_df.T.columns.name = 'MCMC_step'\n",
    "num_E0_Yclassifi_df"
   ]
  },
  {
   "cell_type": "markdown",
   "metadata": {},
   "source": [
    "## 3.  MCMC_step_each値の違いによる比較\n",
    "* 固定変数：num_select = 3, MCMC_step = 100, Max_temper = 1000"
   ]
  },
  {
   "cell_type": "code",
   "execution_count": 11,
   "metadata": {},
   "outputs": [
    {
     "data": {
      "text/html": [
       "<div>\n",
       "<style scoped>\n",
       "    .dataframe tbody tr th:only-of-type {\n",
       "        vertical-align: middle;\n",
       "    }\n",
       "\n",
       "    .dataframe tbody tr th {\n",
       "        vertical-align: top;\n",
       "    }\n",
       "\n",
       "    .dataframe thead th {\n",
       "        text-align: right;\n",
       "    }\n",
       "</style>\n",
       "<table border=\"1\" class=\"dataframe\">\n",
       "  <thead>\n",
       "    <tr style=\"text-align: right;\">\n",
       "      <th></th>\n",
       "      <th>5</th>\n",
       "      <th>10</th>\n",
       "      <th>20</th>\n",
       "    </tr>\n",
       "    <tr>\n",
       "      <th>MCMC_step_each</th>\n",
       "      <th></th>\n",
       "      <th></th>\n",
       "      <th></th>\n",
       "    </tr>\n",
       "  </thead>\n",
       "  <tbody>\n",
       "    <tr>\n",
       "      <td>y selected featrues are same</td>\n",
       "      <td>370.0</td>\n",
       "      <td>379.0</td>\n",
       "      <td>425.0</td>\n",
       "    </tr>\n",
       "  </tbody>\n",
       "</table>\n",
       "</div>"
      ],
      "text/plain": [
       "                                 5      10     20\n",
       "MCMC_step_each                                   \n",
       "y selected featrues are same  370.0  379.0  425.0"
      ]
     },
     "execution_count": 11,
     "metadata": {},
     "output_type": "execute_result"
    }
   ],
   "source": [
    "import pandas as pd\n",
    "num_E0_Yreg_df = pd.DataFrame()\n",
    "\n",
    "num_E0_Yreg_dic = {5:370,10:379,20:425}\n",
    "\n",
    "num_E0_Yreg_df = num_E0_Yreg_df.append(num_E0_Yreg_dic, ignore_index=True)\n",
    "num_E0_Yreg_df.index = ['y selected featrues are same']\n",
    "num_E0_Yreg_df.T.columns.name = 'MCMC_step_each'\n",
    "num_E0_Yreg_df"
   ]
  },
  {
   "cell_type": "code",
   "execution_count": 12,
   "metadata": {},
   "outputs": [
    {
     "data": {
      "text/html": [
       "<div>\n",
       "<style scoped>\n",
       "    .dataframe tbody tr th:only-of-type {\n",
       "        vertical-align: middle;\n",
       "    }\n",
       "\n",
       "    .dataframe tbody tr th {\n",
       "        vertical-align: top;\n",
       "    }\n",
       "\n",
       "    .dataframe thead th {\n",
       "        text-align: right;\n",
       "    }\n",
       "</style>\n",
       "<table border=\"1\" class=\"dataframe\">\n",
       "  <thead>\n",
       "    <tr style=\"text-align: right;\">\n",
       "      <th></th>\n",
       "      <th>5</th>\n",
       "      <th>10</th>\n",
       "      <th>20</th>\n",
       "    </tr>\n",
       "    <tr>\n",
       "      <th>MCMC_step_each</th>\n",
       "      <th></th>\n",
       "      <th></th>\n",
       "      <th></th>\n",
       "    </tr>\n",
       "  </thead>\n",
       "  <tbody>\n",
       "    <tr>\n",
       "      <td>y selected featrues are same</td>\n",
       "      <td>435.0</td>\n",
       "      <td>442.0</td>\n",
       "      <td>452.0</td>\n",
       "    </tr>\n",
       "  </tbody>\n",
       "</table>\n",
       "</div>"
      ],
      "text/plain": [
       "                                 5      10     20\n",
       "MCMC_step_each                                   \n",
       "y selected featrues are same  435.0  442.0  452.0"
      ]
     },
     "execution_count": 12,
     "metadata": {},
     "output_type": "execute_result"
    }
   ],
   "source": [
    "import pandas as pd\n",
    "num_E0_Yclassifi_df = pd.DataFrame()\n",
    "\n",
    "num_E0_Yclassifi_dic = {5:435,10:442,20:452}\n",
    "\n",
    "num_E0_Yclassifi_df = num_E0_Yclassifi_df.append(num_E0_Yclassifi_dic, ignore_index=True)\n",
    "num_E0_Yclassifi_df.index = ['y selected featrues are same']\n",
    "num_E0_Yclassifi_df.T.columns.name = 'MCMC_step_each'\n",
    "num_E0_Yclassifi_df"
   ]
  },
  {
   "cell_type": "markdown",
   "metadata": {},
   "source": [
    "## 4.  Max_temper値の違いによる比較\n",
    "* 固定変数：num_select = 3, MCMC_step = 100, MCMC_step_each = 5"
   ]
  },
  {
   "cell_type": "code",
   "execution_count": 13,
   "metadata": {},
   "outputs": [
    {
     "data": {
      "text/html": [
       "<div>\n",
       "<style scoped>\n",
       "    .dataframe tbody tr th:only-of-type {\n",
       "        vertical-align: middle;\n",
       "    }\n",
       "\n",
       "    .dataframe tbody tr th {\n",
       "        vertical-align: top;\n",
       "    }\n",
       "\n",
       "    .dataframe thead th {\n",
       "        text-align: right;\n",
       "    }\n",
       "</style>\n",
       "<table border=\"1\" class=\"dataframe\">\n",
       "  <thead>\n",
       "    <tr style=\"text-align: right;\">\n",
       "      <th></th>\n",
       "      <th>1000</th>\n",
       "      <th>1500</th>\n",
       "      <th>2000</th>\n",
       "      <th>5000</th>\n",
       "    </tr>\n",
       "    <tr>\n",
       "      <th>Max_temper</th>\n",
       "      <th></th>\n",
       "      <th></th>\n",
       "      <th></th>\n",
       "      <th></th>\n",
       "    </tr>\n",
       "  </thead>\n",
       "  <tbody>\n",
       "    <tr>\n",
       "      <td>y selected featrues are same</td>\n",
       "      <td>370.0</td>\n",
       "      <td>425.0</td>\n",
       "      <td>634.0</td>\n",
       "      <td>1246.0</td>\n",
       "    </tr>\n",
       "  </tbody>\n",
       "</table>\n",
       "</div>"
      ],
      "text/plain": [
       "                               1000   1500   2000    5000\n",
       "Max_temper                                               \n",
       "y selected featrues are same  370.0  425.0  634.0  1246.0"
      ]
     },
     "execution_count": 13,
     "metadata": {},
     "output_type": "execute_result"
    }
   ],
   "source": [
    "import pandas as pd\n",
    "num_E0_Yreg_df = pd.DataFrame()\n",
    "\n",
    "num_E0_Yreg_dic = {1000:370, 1500:425, 2000:634, 5000:1246}\n",
    "\n",
    "num_E0_Yreg_df = num_E0_Yreg_df.append(num_E0_Yreg_dic, ignore_index=True)\n",
    "num_E0_Yreg_df.index = ['y selected featrues are same']\n",
    "num_E0_Yreg_df.T.columns.name = 'Max_temper'\n",
    "num_E0_Yreg_df"
   ]
  },
  {
   "cell_type": "code",
   "execution_count": 15,
   "metadata": {},
   "outputs": [
    {
     "data": {
      "text/html": [
       "<div>\n",
       "<style scoped>\n",
       "    .dataframe tbody tr th:only-of-type {\n",
       "        vertical-align: middle;\n",
       "    }\n",
       "\n",
       "    .dataframe tbody tr th {\n",
       "        vertical-align: top;\n",
       "    }\n",
       "\n",
       "    .dataframe thead th {\n",
       "        text-align: right;\n",
       "    }\n",
       "</style>\n",
       "<table border=\"1\" class=\"dataframe\">\n",
       "  <thead>\n",
       "    <tr style=\"text-align: right;\">\n",
       "      <th></th>\n",
       "      <th>1000</th>\n",
       "      <th>1500</th>\n",
       "      <th>2000</th>\n",
       "      <th>5000</th>\n",
       "    </tr>\n",
       "    <tr>\n",
       "      <th>Max_temper</th>\n",
       "      <th></th>\n",
       "      <th></th>\n",
       "      <th></th>\n",
       "      <th></th>\n",
       "    </tr>\n",
       "  </thead>\n",
       "  <tbody>\n",
       "    <tr>\n",
       "      <td>y selected featrues are same</td>\n",
       "      <td>435.0</td>\n",
       "      <td>581.0</td>\n",
       "      <td>725.0</td>\n",
       "      <td>1324.0</td>\n",
       "    </tr>\n",
       "  </tbody>\n",
       "</table>\n",
       "</div>"
      ],
      "text/plain": [
       "                               1000   1500   2000    5000\n",
       "Max_temper                                               \n",
       "y selected featrues are same  435.0  581.0  725.0  1324.0"
      ]
     },
     "execution_count": 15,
     "metadata": {},
     "output_type": "execute_result"
    }
   ],
   "source": [
    "import pandas as pd\n",
    "num_E0_Yclassifi_df = pd.DataFrame()\n",
    "\n",
    "num_E0_Yclassifi_dic = {1000:435, 1500:581, 2000:725, 5000:1324}\n",
    "\n",
    "num_E0_Yclassifi_df = num_E0_Yclassifi_df.append(num_E0_Yclassifi_dic, ignore_index=True)\n",
    "num_E0_Yclassifi_df.index = ['y selected featrues are same']\n",
    "num_E0_Yclassifi_df.T.columns.name = 'Max_temper'\n",
    "num_E0_Yclassifi_df"
   ]
  },
  {
   "cell_type": "markdown",
   "metadata": {},
   "source": [
    "## 5.  num_select = 3の全解探索値2870通り（分類）を求めて\n",
    "* MCMC_step = 1000, MCMC_step_each = 20, Max_temper=5000\n",
    "  * 回帰...3141（回帰の値は調べていない）\n",
    "  * 分類...2846　⬅近い！"
   ]
  },
  {
   "cell_type": "markdown",
   "metadata": {},
   "source": [
    "----------------------------------------------------------------------------------\n",
    "# 日記\n",
    "\n",
    "\n"
   ]
  },
  {
   "cell_type": "markdown",
   "metadata": {},
   "source": [
    "2020/01/27\n",
    "## 結果\n",
    "```num_select = 3```の全解探索値2870通り（分類）をほぼ達成した。\n",
    "```MCMC_step = 1000, MCMC_step_each = 20, Max_temper=5000```において回帰では3141通り、分類では2846通りとなった。\n",
    "分類だと```2846```と、全解探索と近くなったので良かったとする。\n",
    "\n",
    "2020/01/22\n",
    "* 結果をすべては示せなかった\n",
    "\n",
    "## 結果\n",
    "MCMC_step_each値を大きくするとよりバリエーションのあるyが出てくる\n",
    "\n",
    "## 今日の反省\n",
    "このデータで全解探索してない➡済\n",
    "\n",
    "## 疑問\n",
    "温度を上げても解が増えない点➡解決（訂正済み）\n",
    "\n",
    "<br/>\n",
    "\n",
    "2020/01/14\n",
    "\n",
    "## 内容\n",
    "* ```meeting_0122_0```のファイル結果まとめ。\n",
    "* ```num_select```を変更する。\n",
    "\n",
    "## 反省\n",
    "エネルギーが```0```のときがどんな```y```なのかわからない\n",
    "\n",
    "## すべきこと\n",
    "統計を取る"
   ]
  },
  {
   "cell_type": "code",
   "execution_count": null,
   "metadata": {},
   "outputs": [],
   "source": []
  }
 ],
 "metadata": {
  "kernelspec": {
   "display_name": "Python 3",
   "language": "python",
   "name": "python3"
  },
  "language_info": {
   "codemirror_mode": {
    "name": "ipython",
    "version": 3
   },
   "file_extension": ".py",
   "mimetype": "text/x-python",
   "name": "python",
   "nbconvert_exporter": "python",
   "pygments_lexer": "ipython3",
   "version": "3.7.3"
  }
 },
 "nbformat": 4,
 "nbformat_minor": 2
}
