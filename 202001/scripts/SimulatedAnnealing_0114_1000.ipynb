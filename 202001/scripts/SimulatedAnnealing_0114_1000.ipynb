{
 "cells": [
  {
   "cell_type": "markdown",
   "metadata": {},
   "source": [
    "## 内容\n",
    "start_num0 = 1000"
   ]
  },
  {
   "cell_type": "code",
   "execution_count": 5,
   "metadata": {},
   "outputs": [
    {
     "name": "stdout",
     "output_type": "stream",
     "text": [
      "<class 'pandas.core.series.Series'>\n",
      "20\n"
     ]
    }
   ],
   "source": [
    "#import\n",
    "import pandas as pd\n",
    "import numpy as np\n",
    "import matplotlib.pyplot as plt\n",
    "import random, math, warnings\n",
    "from sklearn.feature_selection import SelectKBest, f_regression\n",
    "\n",
    "\n",
    "#valiable\n",
    "warnings.resetwarnings()\n",
    "\n",
    "warnings.simplefilter('error')\n",
    "num_select=1\n",
    "start_num0 = 1000\n",
    "MCMC_step=10000\n",
    "\n",
    "\n",
    "T=[j/start_num0 for j in reversed(range(1, MCMC_step+1))] #0.00001とか\n",
    "\n",
    "\n",
    "X = pd.read_table('training_markers.txt', header=None,  sep ='\\t')# 説明変数（こっちの特徴量上位5つ取り出す）\n",
    "\n",
    "data_yields = pd.read_table('training_yields.txt', header=None,  sep ='\\t')# 目的変数\n",
    "#print(data_yields)\n",
    "#print(type(data_yields))\n",
    "\n",
    "y= data_yields.T.iloc[0]\n",
    "#print(y)\n",
    "print(type(y))\n",
    "\n",
    "num_sample = X.shape[0]#サンプル数\n",
    "num_feature = X.shape[1]#特徴量の数\n",
    "\n",
    "\n",
    "#特徴量の分散や同じ特徴量が存在するのかを確認\n",
    "\n",
    "from sklearn.feature_selection import VarianceThreshold\n",
    "sel = VarianceThreshold(threshold=0)\n",
    "sel.fit(X)\n",
    "\n",
    "# get_supportで保持するデータのみをTrue値、そうでないものはFalse値を返します\n",
    "print(sum(sel.get_support())) #20、すなわち同じ特徴量は存在していないことがわかった\n",
    "\n",
    "\n",
    "def selection(num_select, X, y): #num_select個の特徴量を選択\n",
    "    #print(f_regression(X,y))\n",
    "    #print(np.linalg.norm(y))\n",
    "    selector = SelectKBest(score_func=f_regression, k=num_select) #SelectKBest\n",
    "    selector.fit(X, y)\n",
    "    mask = selector.get_support() #各特徴量を選択したか否かのmaskを取得\n",
    "    return mask\n",
    "\n",
    "\n",
    "def each_energy(every_mask): #毎回のmaskとyが引数、合致度合いの計算を行う\n",
    "    energy_trait_sum = 0\n",
    "    for i in range(len(every_mask)):\n",
    "        if every_mask[i]==mask[i]:\n",
    "            energy_trait_sum += 1\n",
    "    return energy_trait_sum #もとのyのときのmask(これをmaskとしている)との合致度合い（大きい⇒よく合致している）\n",
    "\n",
    "\n",
    "def y_renewal(s: int): #y要素の更新式\n",
    "    return 1-s\n",
    "\n",
    "\n",
    "def Montecarlo(T, num_select, MCMC_step):    \n",
    "    E = [] #エネルギーの大きさの経過を記録、E_nowを入れていく\n",
    "    y_go = []\n",
    "    \n",
    "    ori_y = y #元のデータのyを代入\n",
    "    ori_y_list = ori_y.values.tolist()\n",
    "    each_energy(mask) #比較対象は自身なのですべての要素が同じ⇒len(mask)= 20\n",
    "    E.append(0) #each_energy(mask, ori_y) - each_energy(mask, ori_y) = 0\n",
    "    y_go.append(ori_y_list) #元のyを格納\n",
    "    \n",
    "    \n",
    "    for j in range(MCMC_step):    \n",
    "        i = random.randrange(num_sample) #num_sampleから適当な整数を選ぶ\n",
    "        #print(i)\n",
    "        ori_yi = y[i] #ori_yiとしてとっておく\n",
    "        y[i] = y_renewal(y[i])\n",
    "        if np.all(np.array(y) == 1) or np.all(np.array(y) == 0):\n",
    "            #print(\"warning occured\")\n",
    "            continue\n",
    "        with warnings.catch_warnings():\n",
    "            warnings.filterwarnings('error')\n",
    "            try:\n",
    "                mask_new = selection(num_select, X, y)\n",
    "            except Warning:\n",
    "                print(\"warning is here.\")\n",
    "                print(y)\n",
    "                continue\n",
    "        E_now = each_energy(mask) - each_energy(mask_new) #20 - (20以下) >= 0\n",
    "        E_last = E[-1]\n",
    "        #r = math.exp((b[i+1]-b[i])* (E_lists[i+1][-1]-E_lists[i][-1]))\n",
    "        r = math.exp(-E_now/T[j]-(-E_last/T[j-1])) #温度付き\n",
    "        R = np.random.uniform(0.0, 1.0)\n",
    "        if R > r : #もしいま検討している事象が起こりにくそうだったら\n",
    "            y[i] = ori_yi #新しい値は採用しない     \n",
    "        else:\n",
    "            E.append(E_now)\n",
    "            y_list = y.values.tolist()\n",
    "            y_go.append(y_list)\n",
    "    return E, y_go #エネルギーのリスト、ｙのリスト"
   ]
  },
  {
   "cell_type": "code",
   "execution_count": 6,
   "metadata": {},
   "outputs": [
    {
     "name": "stdout",
     "output_type": "stream",
     "text": [
      "      0  1  2  3  4  5  6  7  8  9  ...  11  12  13  14  15  16  17  18  19  \\\n",
      "0     1  0  0  1  1  0  0  1  0  1  ...   0   1   0   0   0   1   1   1   1   \n",
      "1     1  0  0  1  1  0  0  1  0  1  ...   0   1   0   0   0   1   1   1   0   \n",
      "2     1  0  0  1  1  0  1  1  0  1  ...   0   1   0   0   0   1   1   1   0   \n",
      "3     1  0  0  1  0  0  1  1  0  1  ...   0   1   0   0   0   1   1   1   0   \n",
      "4     1  1  0  1  0  0  1  1  0  1  ...   0   1   0   0   0   1   1   1   0   \n",
      "...  .. .. .. .. .. .. .. .. .. ..  ...  ..  ..  ..  ..  ..  ..  ..  ..  ..   \n",
      "9398  1  0  1  1  1  0  0  1  1  0  ...   0   0   1   1   1   1   0   1   0   \n",
      "9399  1  0  1  1  1  0  0  1  0  0  ...   0   0   1   1   1   1   0   1   0   \n",
      "9400  1  0  1  1  1  0  0  0  0  0  ...   0   0   1   1   1   1   0   1   0   \n",
      "9401  1  0  1  1  1  0  0  0  0  0  ...   0   0   1   1   1   1   0   1   0   \n",
      "9402  1  0  1  1  1  0  0  0  0  0  ...   1   0   1   1   1   1   0   1   0   \n",
      "\n",
      "      Energy  \n",
      "0          0  \n",
      "1          2  \n",
      "2          2  \n",
      "3          2  \n",
      "4          2  \n",
      "...      ...  \n",
      "9398       0  \n",
      "9399       0  \n",
      "9400       0  \n",
      "9401       0  \n",
      "9402       0  \n",
      "\n",
      "[9403 rows x 21 columns]\n"
     ]
    },
    {
     "data": {
      "image/png": "[encoded data removed]",
      "text/plain": [
       "<Figure size 432x288 with 1 Axes>"
      ]
     },
     "metadata": {
      "needs_background": "light"
     },
     "output_type": "display_data"
    }
   ],
   "source": [
    "mask = selection(num_select, X, y)\n",
    "E, y_go = Montecarlo(T,num_select,MCMC_step)\n",
    "#print(E)\n",
    "#print(len(E)==len(y_go))\n",
    "#print(y_go)\n",
    "result_df = pd.DataFrame(y_go)\n",
    "result_df['Energy'] = E\n",
    "result_df.to_csv(\"simulated_annealing_trial1210.csv\", sep=\",\") #yが一要素も変わっていない\n",
    "print(result_df)\n",
    "\n",
    "# グラフの描画先の準備\n",
    "fig = plt.figure()\n",
    "\n",
    "\"\"\"\n",
    "E_Xaxis = [i for i in range(len(E))]\n",
    "plt.plot(E_Xaxis, E)\n",
    "plt.show()\n",
    "\"\"\"\n",
    "\n",
    "plt.hist(E, bins=2)\n",
    "plt.show()\n",
    "\n",
    "# ファイルに保存\n",
    "fig.savefig('0114_numselect1000.png')"
   ]
  },
  {
   "cell_type": "code",
   "execution_count": 7,
   "metadata": {},
   "outputs": [
    {
     "name": "stdout",
     "output_type": "stream",
     "text": [
      "1492\n",
      "7911\n",
      "9403\n",
      "True\n"
     ]
    }
   ],
   "source": [
    "E0_count = 0\n",
    "E2_count = 0\n",
    "for i in range(len(E)):\n",
    "    if E[i]==0:\n",
    "        E0_count += 1\n",
    "    else:\n",
    "        E2_count += 1\n",
    "print(E0_count)\n",
    "print(E2_count)\n",
    "print(len(E))\n",
    "print(E0_count+E2_count==len(E))#エネルギー2...選ぶ特徴量がひとつなのでTrue, Falseがペアで入れ替わっている"
   ]
  }
 ],
 "metadata": {
  "kernelspec": {
   "display_name": "Python 3",
   "language": "python",
   "name": "python3"
  },
  "language_info": {
   "codemirror_mode": {
    "name": "ipython",
    "version": 3
   },
   "file_extension": ".py",
   "mimetype": "text/x-python",
   "name": "python",
   "nbconvert_exporter": "python",
   "pygments_lexer": "ipython3",
   "version": "3.7.6"
  }
 },
 "nbformat": 4,
 "nbformat_minor": 2
}
