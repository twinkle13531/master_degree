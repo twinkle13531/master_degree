{
 "cells": [
  {
   "cell_type": "markdown",
   "metadata": {},
   "source": [
    "# 内容\n",
    "```meeting_0122_1_0```の特徴量固定かつ分類版。\n",
    "\n",
    "# したいこと\n",
    "```/usr/local/Caskroom/miniconda/base/lib/python3.7/site-packages/sklearn/feature_selection/univariate_selection.py:304: RuntimeWarning: divide by zero encountered in true_divide\n",
    "F = corr ** 2 / (1 - corr ** 2) * degrees_of_freedom```をなくす\n",
    "\n",
    "# 方法\n",
    "* 特徴量をある値に固定して動作を確認する\n",
    "* 回帰でなく、分類を使うことにした\n",
    "\n",
    "# 結果\n",
    "* 分類にしたらうまくできるようになった。\n",
    "* 「```16```特徴量を持つ今回の```X```」と ```y```だと、特徴量を2つ選ぶときの解は```388```あることがわかった（入力データ依存性）\n",
    "\n"
   ]
  },
  {
   "cell_type": "code",
   "execution_count": 1,
   "metadata": {},
   "outputs": [],
   "source": [
    "#import\n",
    "import pandas as pd\n",
    "import numpy as np\n",
    "import matplotlib.pyplot as plt\n",
    "import random, math, warnings\n",
    "from sklearn.feature_selection import SelectKBest\n",
    "from sklearn.feature_selection import VarianceThreshold\n",
    "from sklearn.pipeline import Pipeline #何段にも渡る前処理や推論フェーズをわかりやすく表現する\n",
    "from sklearn.feature_selection import chi2\n",
    "import math\n",
    "import itertools\n",
    "import pprint\n",
    "\n",
    "#variable\n",
    "num_select = 2 #選ぶ特徴量数を2つに設定"
   ]
  },
  {
   "cell_type": "code",
   "execution_count": 2,
   "metadata": {},
   "outputs": [],
   "source": [
    "\n",
    "# 説明変数（こっちの特徴量上位〇つ取り出す）\n",
    "X = pd.read_table('training_markers16.txt', header=None,  sep ='\\t')\n",
    "\n",
    "\n",
    "data_yields = pd.read_table('training_yields16.txt', header=None,  sep ='\\t')\n",
    "#print(data_yields)\n",
    "\n",
    "# 目的変数\n",
    "y= data_yields.T.iloc[0]\n"
   ]
  },
  {
   "cell_type": "code",
   "execution_count": 3,
   "metadata": {},
   "outputs": [
    {
     "data": {
      "text/plain": [
       "16"
      ]
     },
     "execution_count": 3,
     "metadata": {},
     "output_type": "execute_result"
    }
   ],
   "source": [
    "X.shape[1]"
   ]
  },
  {
   "cell_type": "code",
   "execution_count": 4,
   "metadata": {},
   "outputs": [
    {
     "name": "stdout",
     "output_type": "stream",
     "text": [
      "type(X)=<class 'pandas.core.frame.DataFrame'>, type(y)=<class 'pandas.core.series.Series'>\n",
      "X.shape=(16, 16), y.shape=(16,)\n",
      "len(X)=16, len(y)=16\n"
     ]
    }
   ],
   "source": [
    "print('type(X)={}, type(y)={}'.format(type(X), type(y)))\n",
    "print('X.shape={}, y.shape={}'.format(X.shape, y.shape))\n",
    "print('len(X)={}, len(y)={}'.format(len(X), len(y))) #check_X_yをpassするはずなんだが"
   ]
  },
  {
   "cell_type": "code",
   "execution_count": 5,
   "metadata": {},
   "outputs": [
    {
     "name": "stdout",
     "output_type": "stream",
     "text": [
      "True\n"
     ]
    }
   ],
   "source": [
    "#特徴量の分散や同じ特徴量が存在するのかを確認\n",
    "#Xはいつでも同じものを使うので一回で大丈夫\n",
    "\n",
    "from sklearn.feature_selection import VarianceThreshold\n",
    "select_VT = VarianceThreshold(threshold=0)\n",
    "select_VT.fit_transform(X)\n",
    "\n",
    "# get_supportで保持するデータのみをTrue値、そうでないものはFalse値を返します\n",
    "print(sum(select_VT.get_support())==X.shape[1]) #同じ特徴量は存在していないことがわかった"
   ]
  },
  {
   "cell_type": "code",
   "execution_count": 6,
   "metadata": {},
   "outputs": [],
   "source": [
    "def selection(num_select, X, y):\n",
    "    # num_select個の特徴量を選択\n",
    "    # yは毎回変わるので、面倒なため関数を用意した。\n",
    "    select_SKB = SelectKBest(score_func=chi2, k=num_select) #SelectKBest #f_regression...線形回帰\n",
    "    select_SKB.fit(X, y)\n",
    "    mask_each = select_SKB.get_support() #各特徴量を選択したか否かのmaskを取得\n",
    "    return mask_each"
   ]
  },
  {
   "cell_type": "code",
   "execution_count": 7,
   "metadata": {},
   "outputs": [
    {
     "data": {
      "text/plain": [
       "array([False, False, False, False, False, False,  True, False, False,\n",
       "        True, False, False, False, False, False, False])"
      ]
     },
     "execution_count": 7,
     "metadata": {},
     "output_type": "execute_result"
    }
   ],
   "source": [
    "standard_mask = selection(num_select, X, y)\n",
    "standard_mask"
   ]
  },
  {
   "cell_type": "code",
   "execution_count": 8,
   "metadata": {},
   "outputs": [],
   "source": [
    "def each_energy(mask_each, num_select): #毎回のmaskとyが引数、合致度合いの計算を行う\n",
    "    energy_trait_sum = 0\n",
    "    for i in range(len(mask_each)):\n",
    "        if mask_each[i]==standard_mask[i]:\n",
    "            energy_trait_sum += 1\n",
    "    return energy_trait_sum #もとのyのときのmask(これをmaskとしている)との合致度合い（大きい⇒よく合致している）"
   ]
  },
  {
   "cell_type": "code",
   "execution_count": 9,
   "metadata": {},
   "outputs": [],
   "source": [
    "selected_X_energy = X.shape[1]#maskのlenなので"
   ]
  },
  {
   "cell_type": "code",
   "execution_count": 10,
   "metadata": {},
   "outputs": [],
   "source": [
    "def y_renewal(s: int):\n",
    "    return 1-s"
   ]
  },
  {
   "cell_type": "code",
   "execution_count": 11,
   "metadata": {},
   "outputs": [
    {
     "name": "stdout",
     "output_type": "stream",
     "text": [
      "yの全部の組み合わせは65536通り\n"
     ]
    }
   ],
   "source": [
    "print('yの全部の組み合わせは{}通り'.format(2**16))\n",
    "#だけど全部１と全部０を後で除かないといけない気がする"
   ]
  },
  {
   "cell_type": "code",
   "execution_count": 12,
   "metadata": {},
   "outputs": [
    {
     "name": "stdout",
     "output_type": "stream",
     "text": [
      "[(0, 0, 0, 0, 0, 0, 0, 0, 0, 0, 0, 0, 0, 0, 0, 0),\n",
      " (0, 0, 0, 0, 0, 0, 0, 0, 0, 0, 0, 0, 0, 0, 0, 1),\n",
      " (0, 0, 0, 0, 0, 0, 0, 0, 0, 0, 0, 0, 0, 0, 1, 0),\n",
      " (0, 0, 0, 0, 0, 0, 0, 0, 0, 0, 0, 0, 0, 0, 1, 1),\n",
      " (0, 0, 0, 0, 0, 0, 0, 0, 0, 0, 0, 0, 0, 1, 0, 0)]\n"
     ]
    },
    {
     "data": {
      "text/plain": [
       "True"
      ]
     },
     "execution_count": 12,
     "metadata": {},
     "output_type": "execute_result"
    }
   ],
   "source": [
    "r = range(2) #0, 1なので\n",
    "y_all_combination = list(itertools.product(r, repeat=16))\n",
    "y_all_combination[0] #tupleです\n",
    "\n",
    "pprint.pprint(y_all_combination[0:5])\n",
    "len(y_all_combination)==2**16 #True"
   ]
  },
  {
   "cell_type": "code",
   "execution_count": 13,
   "metadata": {},
   "outputs": [
    {
     "data": {
      "text/plain": [
       "388"
      ]
     },
     "execution_count": 13,
     "metadata": {},
     "output_type": "execute_result"
    }
   ],
   "source": [
    "E0_count = 0\n",
    "for y_new in y_all_combination:\n",
    "    if y_new != (0,) * len(y):\n",
    "        if y_new != (1,) * len(y):\n",
    "            y_new = pd.Series(list(y_new))\n",
    "            mask_new = selection(num_select, X, y_new)\n",
    "            E_new = selected_X_energy - each_energy(mask_new, num_select)\n",
    "            if E_new == 0:\n",
    "                E0_count += 1\n",
    "E0_count"
   ]
  },
  {
   "cell_type": "markdown",
   "metadata": {},
   "source": [
    "# 時間計測\n",
    "そもそもなぜ、どのくらい```meeting_0122_1_0```は実行時間がかかっているのか調べよう"
   ]
  },
  {
   "cell_type": "code",
   "execution_count": 14,
   "metadata": {},
   "outputs": [
    {
     "name": "stdout",
     "output_type": "stream",
     "text": [
      "0.0017998218536376953 s in needed to execute selection(1, X, y)\n",
      "0.001341104507446289 s in needed to execute selection(2, X, y)\n",
      "0.0013308525085449219 s in needed to execute selection(3, X, y)\n",
      "0.0012121200561523438 s in needed to execute selection(4, X, y)\n",
      "0.0013508796691894531 s in needed to execute selection(5, X, y)\n",
      "0.0014050006866455078 s in needed to execute selection(6, X, y)\n",
      "0.0011250972747802734 s in needed to execute selection(7, X, y)\n",
      "0.0010676383972167969 s in needed to execute selection(8, X, y)\n",
      "0.0010237693786621094 s in needed to execute selection(9, X, y)\n",
      "0.0010912418365478516 s in needed to execute selection(10, X, y)\n",
      "0.0010859966278076172 s in needed to execute selection(11, X, y)\n",
      "0.0010499954223632812 s in needed to execute selection(12, X, y)\n",
      "0.0009479522705078125 s in needed to execute selection(13, X, y)\n",
      "0.001283884048461914 s in needed to execute selection(14, X, y)\n",
      "0.0010650157928466797 s in needed to execute selection(15, X, y)\n"
     ]
    }
   ],
   "source": [
    "import time\n",
    "for num_select in range(1, X.shape[1]):\n",
    "    start = time.time()\n",
    "    selection(num_select, X, y)#\n",
    "    e_time = time.time() - start\n",
    "    print(\"{} s in needed to execute selection({}, X, y)\".format(e_time, num_select))\n",
    "# そんなにかかってないのだろうか…？？ #今回分類"
   ]
  },
  {
   "cell_type": "code",
   "execution_count": null,
   "metadata": {},
   "outputs": [],
   "source": []
  }
 ],
 "metadata": {
  "kernelspec": {
   "display_name": "Python 3",
   "language": "python",
   "name": "python3"
  },
  "language_info": {
   "codemirror_mode": {
    "name": "ipython",
    "version": 3
   },
   "file_extension": ".py",
   "mimetype": "text/x-python",
   "name": "python",
   "nbconvert_exporter": "python",
   "pygments_lexer": "ipython3",
   "version": "3.7.3"
  }
 },
 "nbformat": 4,
 "nbformat_minor": 2
}
