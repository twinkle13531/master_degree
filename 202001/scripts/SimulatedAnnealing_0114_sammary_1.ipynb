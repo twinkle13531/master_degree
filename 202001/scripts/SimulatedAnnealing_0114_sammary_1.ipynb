{
 "cells": [
  {
   "cell_type": "markdown",
   "metadata": {},
   "source": [
    "# 内容\n",
    "* ```meeting_0107```のファイル結果まとめ。\n",
    "* ```num_select = 1```で限定している\n",
    "\n",
    "# 更新\n",
    "01/14 ```ori_y```の出力を直した。"
   ]
  },
  {
   "cell_type": "markdown",
   "metadata": {},
   "source": [
    "### num_select = 1のとき選ばれる特徴量\n",
    "\n",
    "```[False False False False False False False False False False False False False False False False False False False True]```\n",
    "\n",
    "\n",
    "## num_select = 1, MCMC_step = 50, MCMC_step_each = 5, Max_temper = 100 での試行\n",
    "<img src = '20200114220053.png'>\n",
    "<img src = '20200114220356.png'>"
   ]
  },
  {
   "cell_type": "markdown",
   "metadata": {},
   "source": [
    "## num_select = 1, MCMC_step = 50, MCMC_step_each = 5, Max_temper = 1000の試行\n",
    "\n",
    "yがはじめ並びと同じものが出力された。\n",
    "\n",
    "<img src = '20200114221029.png'>\n",
    "<img src = '20200114221133.png'>"
   ]
  },
  {
   "cell_type": "markdown",
   "metadata": {},
   "source": [
    "## num_select = 1, MCMC_step = 50, MCMC_step_each = 5, Max_temper = 10000 での試行\n",
    "\n",
    "動きが途端に悪くなる。printで動作確認しようとすると、メモリーエラーとなりページが表示されなくなる。\n",
    "\n",
    "## num_select = 1, MCMC_step = 50, MCMC_step_each = 5, Max_temper = 5000 での試行\n",
    "\n",
    "やはり遅い。"
   ]
  },
  {
   "cell_type": "markdown",
   "metadata": {},
   "source": [
    "## num_select = 1, MCMC_step = 100, MCMC_step_each = 5, Max_temper = 100 での試行\n",
    "<img src = '20200114221315.png'>\n",
    "<img src = '20200114221444.png'>"
   ]
  },
  {
   "cell_type": "markdown",
   "metadata": {},
   "source": [
    "## num_select = 1, MCMC_step = 100, MCMC_step_each = 5, Max_temper = 1000 での試行\n",
    "\n",
    "Max_temper = 1000 にしたこの辺りから動きが遅くなる\n",
    "\n",
    "<img src = '20200114221731.png'>\n",
    "<img src = '20200114221915.png'>"
   ]
  },
  {
   "cell_type": "markdown",
   "metadata": {},
   "source": [
    "## num_select = 1, MCMC_step = 500, MCMC_step_each = 5, Max_temper = 100 での試行\n",
    "\n",
    "少し遅かった。\n",
    "\n",
    "<img src = '20200114222416.png'>\n",
    "<img src = '20200114222532.png'>"
   ]
  },
  {
   "cell_type": "markdown",
   "metadata": {},
   "source": [
    "## num_select = 1, MCMC_step = 500, MCMC_step_each = 5, Max_temper = 3000 での試行\n",
    "\n",
    "Max_temper = 3000での試行をしていなかったのでしてみたがやはり遅い。結果が出るのを確認しないまま終了した。"
   ]
  },
  {
   "cell_type": "markdown",
   "metadata": {},
   "source": [
    "## num_select = 1, MCMC_step = 500, MCMC_step_each = 5, Max_temper = 2000 での試行\n",
    "\n",
    "やはり遅い。結果が出るのを確認しないまま終了した。"
   ]
  },
  {
   "cell_type": "markdown",
   "metadata": {},
   "source": [
    "# 記録\n",
    "~01/14...ori_yと同じyしか出力されてこなかった。\n",
    "\n",
    "# 津田先生からのフィードバック\n",
    "* 16特徴量での全解探索をしてみよう。\n",
    "* レプリカモンテカルロでも選択する特徴量を複数にしてみよう"
   ]
  },
  {
   "cell_type": "code",
   "execution_count": null,
   "metadata": {},
   "outputs": [],
   "source": []
  }
 ],
 "metadata": {
  "kernelspec": {
   "display_name": "Python 3",
   "language": "python",
   "name": "python3"
  },
  "language_info": {
   "codemirror_mode": {
    "name": "ipython",
    "version": 3
   },
   "file_extension": ".py",
   "mimetype": "text/x-python",
   "name": "python",
   "nbconvert_exporter": "python",
   "pygments_lexer": "ipython3",
   "version": "3.7.6"
  }
 },
 "nbformat": 4,
 "nbformat_minor": 2
}
