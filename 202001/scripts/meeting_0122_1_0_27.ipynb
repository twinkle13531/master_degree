{
 "cells": [
  {
   "cell_type": "markdown",
   "metadata": {},
   "source": [
    "# 内容\n",
    "```meeting_0107```のコードを継承\n",
    "\n",
    "# したいこと\n",
    "使いたいデータの特徴量を```16```へと減らし、全解探索をする。(※```X```の値によって代わるので、あくまでも今回の```x```の```dataframe```において)\n",
    "\n",
    "# 方法\n",
    "特徴量を```1-15```つ選んだときのエネルギーが```0```となる```y_list```の個数の変化を調べる。"
   ]
  },
  {
   "cell_type": "markdown",
   "metadata": {},
   "source": [
    "# 出力\n",
    "選ぶ特徴量数ごと、選んだときのエネルギーが```0```となる```y```\n",
    "\n",
    "# 結果\n",
    "```python\n",
    "'training_markers16.txt', 'training_yields16.txt'\n",
    "```\n",
    "（特徴量```16```）\n",
    "横軸：特徴量数、単位：通り\n",
    "<img src = '20200121210050.png'>\n",
    "\n",
    "最大13748通り(特徴量を15個選ぶ時)、最少22通り(特徴量を7個選ぶ時)となることがわかった\n",
    "\n",
    "<br/>\n",
    "\n",
    "# 追加結果\n",
    "```python\n",
    "'training_markers.txt', 'training_yields.txt'\n",
    "```\n",
    "（特徴量```20```）のデータにも適用してみた\n",
    "\n",
    "横軸：特徴量数、単位：通り\n",
    "<img src = '20200126173200.png'>\n",
    "\n",
    "最大76422通り(特徴量を15個選ぶ時)、最少12通り(特徴量を10個選ぶ時)となることがわかった"
   ]
  },
  {
   "cell_type": "code",
   "execution_count": 1,
   "metadata": {},
   "outputs": [],
   "source": [
    "#import\n",
    "import pandas as pd\n",
    "import numpy as np\n",
    "import matplotlib.pyplot as plt\n",
    "import random, math, warnings\n",
    "from sklearn.feature_selection import VarianceThreshold\n",
    "from sklearn.feature_selection import SelectKBest\n",
    "from sklearn.feature_selection import chi2\n",
    "import math\n",
    "import itertools"
   ]
  },
  {
   "cell_type": "code",
   "execution_count": 2,
   "metadata": {},
   "outputs": [
    {
     "name": "stdout",
     "output_type": "stream",
     "text": [
      "0     1\n",
      "1     0\n",
      "2     0\n",
      "3     1\n",
      "4     1\n",
      "5     0\n",
      "6     0\n",
      "7     1\n",
      "8     0\n",
      "9     1\n",
      "10    0\n",
      "11    0\n",
      "12    1\n",
      "13    0\n",
      "14    0\n",
      "15    0\n",
      "16    1\n",
      "17    1\n",
      "18    1\n",
      "19    1\n",
      "Name: 0, dtype: int64\n"
     ]
    }
   ],
   "source": [
    "'''\n",
    "# 説明変数（こっちの特徴量上位〇つ取り出す）\n",
    "X = pd.read_table('training_markers16.txt', header=None,  sep ='\\t')\n",
    "\n",
    "\n",
    "data_yields = pd.read_table('training_yields16.txt', header=None,  sep ='\\t')\n",
    "#print(data_yields)\n",
    "\n",
    "# 目的変数\n",
    "y= data_yields.T.iloc[0]\n",
    "'''\n",
    "\n",
    "X = pd.read_table('training_markers.txt', header=None,  sep ='\\t')# 説明変数（こっちの特徴量上位5つ取り出す）\n",
    "\n",
    "\n",
    "data_yields = pd.read_table('training_yields.txt', header=None,  sep ='\\t')# 目的変数\n",
    "#print(data_yields)\n",
    "ori_y = data_yields.T.iloc[0]\n",
    "print(ori_y)\n",
    "\n",
    "y= data_yields.T.iloc[0]\n",
    "\n",
    "#num_sample = X.shape[0]#サンプル数\n",
    "#num_feature = X.shape[1]#特徴量の数"
   ]
  },
  {
   "cell_type": "code",
   "execution_count": 3,
   "metadata": {},
   "outputs": [
    {
     "name": "stdout",
     "output_type": "stream",
     "text": [
      "len(y) = 20\n",
      "type(y) = <class 'pandas.core.series.Series'>\n"
     ]
    }
   ],
   "source": [
    "print('len(y) = {}'.format(len(y)))\n",
    "print('type(y) = {}'.format(type(y)))"
   ]
  },
  {
   "cell_type": "code",
   "execution_count": 4,
   "metadata": {},
   "outputs": [
    {
     "name": "stdout",
     "output_type": "stream",
     "text": [
      "True\n"
     ]
    }
   ],
   "source": [
    "#特徴量の分散や同じ特徴量が存在するのかを確認\n",
    "\n",
    "sel = VarianceThreshold() #threshold=0がデフォルト\n",
    "sel.fit_transform(X) #もし👇で減っていたら面倒なのでsel.fit_transformのほうが良いだろう。\n",
    "\n",
    "# get_supportで保持するデータのみをTrue値、そうでないものはFalse値を返します\n",
    "print(sum(sel.get_support())==X.shape[1]) #同じ特徴量は存在していないことがわかった"
   ]
  },
  {
   "cell_type": "code",
   "execution_count": 5,
   "metadata": {},
   "outputs": [],
   "source": [
    "def selection(num_select, X, y):\n",
    "    # num_select個の特徴量を選択\n",
    "    #print(f_regression(X,y))\n",
    "    #print(np.linalg.norm(y))\n",
    "    selector = SelectKBest(score_func=chi2, k=num_select) #SelectKBest #f_regression...線形回帰\n",
    "    selector.fit(X, y)\n",
    "    mask_each = selector.get_support() #各特徴量を選択したか否かのmaskを取得\n",
    "    return mask_each"
   ]
  },
  {
   "cell_type": "code",
   "execution_count": 6,
   "metadata": {},
   "outputs": [],
   "source": [
    "def each_energy(mask_each, num_select): #毎回のmaskとyが引数、合致度合いの計算を行う\n",
    "    standard_mask = selection(num_select, X, y)\n",
    "    energy_trait_sum = 0\n",
    "    for i in range(len(mask_each)):\n",
    "        if mask_each[i]==standard_mask[i]:\n",
    "            energy_trait_sum += 1\n",
    "    return energy_trait_sum #もとのyのときのmask(これをmaskとしている)との合致度合い（大きい⇒よく合致している）"
   ]
  },
  {
   "cell_type": "code",
   "execution_count": 7,
   "metadata": {},
   "outputs": [],
   "source": [
    "selected_X_energy = X.shape[1]#maskのlenなので"
   ]
  },
  {
   "cell_type": "code",
   "execution_count": 8,
   "metadata": {},
   "outputs": [
    {
     "name": "stdout",
     "output_type": "stream",
     "text": [
      "yの全部の組み合わせは1048576通り\n"
     ]
    }
   ],
   "source": [
    "print('yの全部の組み合わせは{}通り'.format(2**20))\n",
    "#だけど全部１と全部０を後で除かないといけない気がする"
   ]
  },
  {
   "cell_type": "code",
   "execution_count": 9,
   "metadata": {},
   "outputs": [
    {
     "data": {
      "text/plain": [
       "True"
      ]
     },
     "execution_count": 9,
     "metadata": {},
     "output_type": "execute_result"
    }
   ],
   "source": [
    "r = range(2) #0, 1なので\n",
    "y_all_combination = list(itertools.product(r, repeat=20))\n",
    "y_all_combination[0] #tupleです\n",
    "\n",
    "len(y_all_combination)==2**20 #True"
   ]
  },
  {
   "cell_type": "code",
   "execution_count": 10,
   "metadata": {},
   "outputs": [],
   "source": [
    "def find_E0(num_select): \n",
    "    E0_count = 0\n",
    "    for y_new in y_all_combination:\n",
    "        if y_new != (0,) * len(y):\n",
    "            if y_new != (1,) * len(y):\n",
    "                y_new = pd.Series(list(y_new))\n",
    "                mask_new = selection(num_select, X, y_new)\n",
    "                E_new = selected_X_energy - each_energy(mask_new, num_select)\n",
    "                if E_new == 0:\n",
    "                    E0_count += 1\n",
    "    return E0_count"
   ]
  },
  {
   "cell_type": "code",
   "execution_count": 11,
   "metadata": {},
   "outputs": [
    {
     "name": "stdout",
     "output_type": "stream",
     "text": [
      "here\n",
      "here\n",
      "here\n",
      "here\n",
      "here\n",
      "here\n",
      "here\n",
      "here\n",
      "here\n",
      "here\n",
      "here\n",
      "here\n",
      "here\n",
      "here\n",
      "here\n",
      "here\n",
      "here\n",
      "here\n",
      "here\n"
     ]
    }
   ],
   "source": [
    "find_E0_df = pd.DataFrame()\n",
    "find_E0_df.index.name = 'the number of y which energy is 0'\n",
    "find_E0_df.columns.name = 'the number of selected features'\n",
    "\n",
    "find_E0_dic = {}\n",
    "for num_select in range(1, X.shape[1]):\n",
    "    E0_count = find_E0(num_select)\n",
    "    find_E0_dic[num_select] = E0_count\n",
    "    print('here')\n",
    "\n",
    "find_E0_df = find_E0_df.append(find_E0_dic, ignore_index=True)"
   ]
  },
  {
   "cell_type": "code",
   "execution_count": 12,
   "metadata": {
    "scrolled": true
   },
   "outputs": [
    {
     "data": {
      "text/html": [
       "<div>\n",
       "<style scoped>\n",
       "    .dataframe tbody tr th:only-of-type {\n",
       "        vertical-align: middle;\n",
       "    }\n",
       "\n",
       "    .dataframe tbody tr th {\n",
       "        vertical-align: top;\n",
       "    }\n",
       "\n",
       "    .dataframe thead th {\n",
       "        text-align: right;\n",
       "    }\n",
       "</style>\n",
       "<table border=\"1\" class=\"dataframe\">\n",
       "  <thead>\n",
       "    <tr style=\"text-align: right;\">\n",
       "      <th></th>\n",
       "      <th>1</th>\n",
       "      <th>2</th>\n",
       "      <th>3</th>\n",
       "      <th>4</th>\n",
       "      <th>5</th>\n",
       "      <th>6</th>\n",
       "      <th>7</th>\n",
       "      <th>8</th>\n",
       "      <th>9</th>\n",
       "      <th>10</th>\n",
       "      <th>11</th>\n",
       "      <th>12</th>\n",
       "      <th>13</th>\n",
       "      <th>14</th>\n",
       "      <th>15</th>\n",
       "      <th>16</th>\n",
       "      <th>17</th>\n",
       "      <th>18</th>\n",
       "      <th>19</th>\n",
       "    </tr>\n",
       "  </thead>\n",
       "  <tbody>\n",
       "    <tr>\n",
       "      <td>0</td>\n",
       "      <td>68666.0</td>\n",
       "      <td>12970.0</td>\n",
       "      <td>2870.0</td>\n",
       "      <td>908.0</td>\n",
       "      <td>214.0</td>\n",
       "      <td>78.0</td>\n",
       "      <td>56.0</td>\n",
       "      <td>18.0</td>\n",
       "      <td>18.0</td>\n",
       "      <td>12.0</td>\n",
       "      <td>34.0</td>\n",
       "      <td>100.0</td>\n",
       "      <td>178.0</td>\n",
       "      <td>568.0</td>\n",
       "      <td>2010.0</td>\n",
       "      <td>2912.0</td>\n",
       "      <td>7464.0</td>\n",
       "      <td>21652.0</td>\n",
       "      <td>76422.0</td>\n",
       "    </tr>\n",
       "  </tbody>\n",
       "</table>\n",
       "</div>"
      ],
      "text/plain": [
       "        1        2       3      4      5     6     7     8     9     10    11  \\\n",
       "0  68666.0  12970.0  2870.0  908.0  214.0  78.0  56.0  18.0  18.0  12.0  34.0   \n",
       "\n",
       "      12     13     14      15      16      17       18       19  \n",
       "0  100.0  178.0  568.0  2010.0  2912.0  7464.0  21652.0  76422.0  "
      ]
     },
     "execution_count": 12,
     "metadata": {},
     "output_type": "execute_result"
    }
   ],
   "source": [
    "find_E0_df"
   ]
  },
  {
   "cell_type": "markdown",
   "metadata": {},
   "source": [
    "# 日記\n",
    "<br/>\n",
    "\n",
    "-2020/01/27\n",
    "## 内容\n",
    "特徴量20のデータに対しても全解探索をした\n",
    "\n",
    "<br/>\n",
    "\n",
    "-2020/01/22\n",
    "## 課題\n",
    "また```/usr/local/Caskroom/miniconda/base/lib/python3.7/site-packages/sklearn/feature_selection/univariate_selection.py:304: RuntimeWarning: divide by zero encountered in true_divide```が発生した\n",
    "\n",
    "## 解決方法\n",
    "回帰でなく分類にした\n",
    "\n",
    "\n"
   ]
  },
  {
   "cell_type": "code",
   "execution_count": null,
   "metadata": {},
   "outputs": [],
   "source": []
  }
 ],
 "metadata": {
  "kernelspec": {
   "display_name": "Python 3",
   "language": "python",
   "name": "python3"
  },
  "language_info": {
   "codemirror_mode": {
    "name": "ipython",
    "version": 3
   },
   "file_extension": ".py",
   "mimetype": "text/x-python",
   "name": "python",
   "nbconvert_exporter": "python",
   "pygments_lexer": "ipython3",
   "version": "3.7.3"
  }
 },
 "nbformat": 4,
 "nbformat_minor": 2
}
