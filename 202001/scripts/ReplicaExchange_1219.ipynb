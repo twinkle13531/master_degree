{
 "cells": [
  {
   "cell_type": "markdown",
   "metadata": {},
   "source": [
    "## 内容\n",
    "```meting_0107```の改定前バージョン\n",
    "\n",
    "### 参考文献\n",
    "http://tombo.sub.jp/doc/esj55/MCMC.pdf"
   ]
  },
  {
   "cell_type": "code",
   "execution_count": 1,
   "metadata": {},
   "outputs": [],
   "source": [
    "#import\n",
    "import pandas as pd\n",
    "import numpy as np\n",
    "import matplotlib.pyplot as plt\n",
    "import random, math, warnings\n",
    "from sklearn.feature_selection import SelectKBest, f_regression"
   ]
  },
  {
   "cell_type": "code",
   "execution_count": 2,
   "metadata": {},
   "outputs": [],
   "source": [
    "#valiable\n",
    "warnings.resetwarnings()\n",
    "\n",
    "warnings.simplefilter('error')\n",
    "num_select = 1\n",
    "\n",
    "MCMC_step = 10000\n",
    "MCMC_step_each = 5\n",
    "\n",
    "Max_temper = 10000\n",
    "T = [j for j in range(1, Max_temper+1)]\n",
    "len_T = len(T)\n",
    "\n",
    "b = [1/ l for l in T]"
   ]
  },
  {
   "cell_type": "code",
   "execution_count": 3,
   "metadata": {},
   "outputs": [],
   "source": [
    "X = pd.read_table('training_markers.txt', header=None,  sep ='\\t')# 説明変数（こっちの特徴量上位5つ取り出す）\n",
    "\n",
    "\n",
    "data_yields = pd.read_table('training_yields.txt', header=None,  sep ='\\t')# 目的変数\n",
    "y= data_yields.T.iloc[0]\n",
    "\n",
    "num_sample = X.shape[0]#サンプル数\n",
    "num_feature = X.shape[1]#特徴量の数"
   ]
  },
  {
   "cell_type": "code",
   "execution_count": 4,
   "metadata": {
    "scrolled": true
   },
   "outputs": [
    {
     "data": {
      "text/plain": [
       "(20,)"
      ]
     },
     "execution_count": 4,
     "metadata": {},
     "output_type": "execute_result"
    }
   ],
   "source": [
    "#type(data_yields) #pandas.core.frame.DataFrame\n",
    "\n",
    "type(X) #pandas.core.frame.DataFrame\n",
    "X.shape #(20, 20)\n",
    "\n",
    "type(y) #pandas.core.series.Series\n",
    "y.shape #(20,)\n",
    "\n",
    "#X"
   ]
  },
  {
   "cell_type": "code",
   "execution_count": 5,
   "metadata": {},
   "outputs": [
    {
     "name": "stdout",
     "output_type": "stream",
     "text": [
      "20\n"
     ]
    }
   ],
   "source": [
    "#特徴量の分散や同じ特徴量が存在するのかを確認\n",
    "\n",
    "from sklearn.feature_selection import VarianceThreshold\n",
    "sel = VarianceThreshold(threshold=0)\n",
    "sel.fit(X)\n",
    "\n",
    "# get_supportで保持するデータのみをTrue値、そうでないものはFalse値を返します\n",
    "print(sum(sel.get_support())) #20、すなわち同じ特徴量は存在していないことがわかった"
   ]
  },
  {
   "cell_type": "code",
   "execution_count": 6,
   "metadata": {},
   "outputs": [],
   "source": [
    "def selection(num_select, X, y):\n",
    "    # num_select個の特徴量を選択\n",
    "    #print(f_regression(X,y))\n",
    "    #print(np.linalg.norm(y))\n",
    "    selector = SelectKBest(score_func=f_regression, k=num_select) #SelectKBest\n",
    "    selector.fit(X, y)\n",
    "    mask = selector.get_support() #各特徴量を選択したか否かのmaskを取得\n",
    "    return mask"
   ]
  },
  {
   "cell_type": "code",
   "execution_count": 7,
   "metadata": {
    "scrolled": true
   },
   "outputs": [
    {
     "name": "stdout",
     "output_type": "stream",
     "text": [
      "[False False False False False False False False False False False False\n",
      " False False False False False False False  True]\n"
     ]
    }
   ],
   "source": [
    "\"\"\"\n",
    "0-division error occurs when all values in y are 0 or 1\n",
    "reason: y = y - np.mean(y), corr /= np.linalg.norm(y)\n",
    "\"\"\"\n",
    "mask = selection(num_select, X, y)\n",
    "print(mask)"
   ]
  },
  {
   "cell_type": "code",
   "execution_count": 8,
   "metadata": {},
   "outputs": [],
   "source": [
    "\"\"\"\n",
    "def each_energy(mask, y):\n",
    "    y_list = y.values.tolist()\n",
    "    energy_find_dic = {}#bestな特徴量:それを選んだときのエネルギー基準値（０となる）\n",
    "    for i in range(len(mask)):\n",
    "        if mask[i]==True:\n",
    "            energy_find_trait = np.dot(np.array(X[:][i]).T, np.array(y_list))\n",
    "            energy_find_dic[i]=energy_find_trait\n",
    "    return sum(energy_find_dic.values())\n",
    "    \n",
    "\n",
    "def each_energy(mask, y):\n",
    "    energy_trait_sum = 0\n",
    "    for i in range(len(mask)):\n",
    "        if mask[i]==True:\n",
    "            energy_trait_sum += np.dot(np.array(X[:][i]).T, np.array(y_list))\n",
    "    return energy_trait_sum\n",
    "\"\"\"\n",
    "\n",
    "def each_energy(every_mask, every_y): #毎回のmaskとyが引数、合致度合いの計算を行う\n",
    "    energy_trait_sum = 0\n",
    "    for i in range(len(every_mask)):\n",
    "        if every_mask[i]==mask[i]:\n",
    "            energy_trait_sum += 1\n",
    "    return energy_trait_sum #もとのyのときのmask(これをmaskとしている)との合致度合い（大きい⇒よく合致している）"
   ]
  },
  {
   "cell_type": "code",
   "execution_count": 9,
   "metadata": {},
   "outputs": [],
   "source": [
    "\"\"\"\n",
    "argument: s is integer\n",
    "procedure: convert s from 0 to 1 or 1 to 0\n",
    "return: changed value\n",
    "\"\"\"\n",
    "def y_renewal(s: int):\n",
    "    return 1-s"
   ]
  },
  {
   "cell_type": "code",
   "execution_count": 10,
   "metadata": {},
   "outputs": [],
   "source": [
    "def Montecarlo(T, num_select, MCMC_step_each, E_first, y):    \n",
    "    E = []\n",
    "    E.append(E_first)\n",
    "    \n",
    "    for j in range(MCMC_step_each):    \n",
    "        i = random.randrange(num_sample)\n",
    "        ori_yi = y[i]\n",
    "        y[i] = y_renewal(y[i])\n",
    "        if np.all(y == 1) or np.all(y == 0):\n",
    "            continue\n",
    "        mask_new = selection(num_select, X, y)\n",
    "        E_now = selected_X_energy - each_energy(mask_new, y) #必ず0以上\n",
    "        E_last = E[-1]\n",
    "        r = math.exp(-(E_now-E_last)/T) #温度付き\n",
    "        R = np.random.uniform(0.0, 1.0)\n",
    "        if R > r :\n",
    "            y[i] = ori_yi #元に戻す       \n",
    "        else:\n",
    "            E.append(E_now)\n",
    "            y_list = y.values.tolist()\n",
    "    return E, y_list #エネルギーのリスト、最後のyだけ"
   ]
  },
  {
   "cell_type": "code",
   "execution_count": 17,
   "metadata": {},
   "outputs": [
    {
     "ename": "RuntimeWarning",
     "evalue": "divide by zero encountered in true_divide",
     "output_type": "error",
     "traceback": [
      "\u001b[0;31m---------------------------------------------------------------------------\u001b[0m",
      "\u001b[0;31mRuntimeWarning\u001b[0m                            Traceback (most recent call last)",
      "\u001b[0;32m<ipython-input-17-d0f079cacdb4>\u001b[0m in \u001b[0;36m<module>\u001b[0;34m\u001b[0m\n\u001b[1;32m      2\u001b[0m \u001b[0mY_lists\u001b[0m \u001b[0;34m=\u001b[0m \u001b[0;34m[\u001b[0m\u001b[0;34m]\u001b[0m\u001b[0;34m\u001b[0m\u001b[0;34m\u001b[0m\u001b[0m\n\u001b[1;32m      3\u001b[0m \u001b[0;34m\u001b[0m\u001b[0m\n\u001b[0;32m----> 4\u001b[0;31m \u001b[0mmask_ori\u001b[0m \u001b[0;34m=\u001b[0m \u001b[0mselection\u001b[0m\u001b[0;34m(\u001b[0m\u001b[0mnum_select\u001b[0m\u001b[0;34m,\u001b[0m \u001b[0mX\u001b[0m\u001b[0;34m,\u001b[0m \u001b[0my\u001b[0m\u001b[0;34m)\u001b[0m\u001b[0;34m\u001b[0m\u001b[0;34m\u001b[0m\u001b[0m\n\u001b[0m\u001b[1;32m      5\u001b[0m \u001b[0mselected_X_energy\u001b[0m \u001b[0;34m=\u001b[0m \u001b[0meach_energy\u001b[0m\u001b[0;34m(\u001b[0m\u001b[0mmask_ori\u001b[0m\u001b[0;34m,\u001b[0m \u001b[0my\u001b[0m\u001b[0;34m)\u001b[0m\u001b[0;34m\u001b[0m\u001b[0;34m\u001b[0m\u001b[0m\n\u001b[1;32m      6\u001b[0m \u001b[0;32mfor\u001b[0m \u001b[0mk\u001b[0m \u001b[0;32min\u001b[0m \u001b[0mrange\u001b[0m\u001b[0;34m(\u001b[0m\u001b[0;36m1\u001b[0m\u001b[0;34m,\u001b[0m \u001b[0mlen_T\u001b[0m\u001b[0;34m)\u001b[0m\u001b[0;34m:\u001b[0m\u001b[0;34m\u001b[0m\u001b[0;34m\u001b[0m\u001b[0m\n",
      "\u001b[0;32m<ipython-input-6-bd3afe31e612>\u001b[0m in \u001b[0;36mselection\u001b[0;34m(num_select, X, y)\u001b[0m\n\u001b[1;32m      4\u001b[0m     \u001b[0;31m#print(np.linalg.norm(y))\u001b[0m\u001b[0;34m\u001b[0m\u001b[0;34m\u001b[0m\u001b[0;34m\u001b[0m\u001b[0m\n\u001b[1;32m      5\u001b[0m     \u001b[0mselector\u001b[0m \u001b[0;34m=\u001b[0m \u001b[0mSelectKBest\u001b[0m\u001b[0;34m(\u001b[0m\u001b[0mscore_func\u001b[0m\u001b[0;34m=\u001b[0m\u001b[0mf_regression\u001b[0m\u001b[0;34m,\u001b[0m \u001b[0mk\u001b[0m\u001b[0;34m=\u001b[0m\u001b[0mnum_select\u001b[0m\u001b[0;34m)\u001b[0m \u001b[0;31m#SelectKBest\u001b[0m\u001b[0;34m\u001b[0m\u001b[0;34m\u001b[0m\u001b[0m\n\u001b[0;32m----> 6\u001b[0;31m     \u001b[0mselector\u001b[0m\u001b[0;34m.\u001b[0m\u001b[0mfit\u001b[0m\u001b[0;34m(\u001b[0m\u001b[0mX\u001b[0m\u001b[0;34m,\u001b[0m \u001b[0my\u001b[0m\u001b[0;34m)\u001b[0m\u001b[0;34m\u001b[0m\u001b[0;34m\u001b[0m\u001b[0m\n\u001b[0m\u001b[1;32m      7\u001b[0m     \u001b[0mmask\u001b[0m \u001b[0;34m=\u001b[0m \u001b[0mselector\u001b[0m\u001b[0;34m.\u001b[0m\u001b[0mget_support\u001b[0m\u001b[0;34m(\u001b[0m\u001b[0;34m)\u001b[0m    \u001b[0;31m# 各特徴量を選択したか否かのmaskを取得\u001b[0m\u001b[0;34m\u001b[0m\u001b[0;34m\u001b[0m\u001b[0m\n\u001b[1;32m      8\u001b[0m     \u001b[0;32mreturn\u001b[0m \u001b[0mmask\u001b[0m\u001b[0;34m\u001b[0m\u001b[0;34m\u001b[0m\u001b[0m\n",
      "\u001b[0;32m/usr/local/Caskroom/miniconda/base/lib/python3.7/site-packages/sklearn/feature_selection/univariate_selection.py\u001b[0m in \u001b[0;36mfit\u001b[0;34m(self, X, y)\u001b[0m\n\u001b[1;32m    347\u001b[0m \u001b[0;34m\u001b[0m\u001b[0m\n\u001b[1;32m    348\u001b[0m         \u001b[0mself\u001b[0m\u001b[0;34m.\u001b[0m\u001b[0m_check_params\u001b[0m\u001b[0;34m(\u001b[0m\u001b[0mX\u001b[0m\u001b[0;34m,\u001b[0m \u001b[0my\u001b[0m\u001b[0;34m)\u001b[0m\u001b[0;34m\u001b[0m\u001b[0;34m\u001b[0m\u001b[0m\n\u001b[0;32m--> 349\u001b[0;31m         \u001b[0mscore_func_ret\u001b[0m \u001b[0;34m=\u001b[0m \u001b[0mself\u001b[0m\u001b[0;34m.\u001b[0m\u001b[0mscore_func\u001b[0m\u001b[0;34m(\u001b[0m\u001b[0mX\u001b[0m\u001b[0;34m,\u001b[0m \u001b[0my\u001b[0m\u001b[0;34m)\u001b[0m\u001b[0;34m\u001b[0m\u001b[0;34m\u001b[0m\u001b[0m\n\u001b[0m\u001b[1;32m    350\u001b[0m         \u001b[0;32mif\u001b[0m \u001b[0misinstance\u001b[0m\u001b[0;34m(\u001b[0m\u001b[0mscore_func_ret\u001b[0m\u001b[0;34m,\u001b[0m \u001b[0;34m(\u001b[0m\u001b[0mlist\u001b[0m\u001b[0;34m,\u001b[0m \u001b[0mtuple\u001b[0m\u001b[0;34m)\u001b[0m\u001b[0;34m)\u001b[0m\u001b[0;34m:\u001b[0m\u001b[0;34m\u001b[0m\u001b[0;34m\u001b[0m\u001b[0m\n\u001b[1;32m    351\u001b[0m             \u001b[0mself\u001b[0m\u001b[0;34m.\u001b[0m\u001b[0mscores_\u001b[0m\u001b[0;34m,\u001b[0m \u001b[0mself\u001b[0m\u001b[0;34m.\u001b[0m\u001b[0mpvalues_\u001b[0m \u001b[0;34m=\u001b[0m \u001b[0mscore_func_ret\u001b[0m\u001b[0;34m\u001b[0m\u001b[0;34m\u001b[0m\u001b[0m\n",
      "\u001b[0;32m/usr/local/Caskroom/miniconda/base/lib/python3.7/site-packages/sklearn/feature_selection/univariate_selection.py\u001b[0m in \u001b[0;36mf_regression\u001b[0;34m(X, y, center)\u001b[0m\n\u001b[1;32m    302\u001b[0m     \u001b[0;31m# convert to p-value\u001b[0m\u001b[0;34m\u001b[0m\u001b[0;34m\u001b[0m\u001b[0;34m\u001b[0m\u001b[0m\n\u001b[1;32m    303\u001b[0m     \u001b[0mdegrees_of_freedom\u001b[0m \u001b[0;34m=\u001b[0m \u001b[0my\u001b[0m\u001b[0;34m.\u001b[0m\u001b[0msize\u001b[0m \u001b[0;34m-\u001b[0m \u001b[0;34m(\u001b[0m\u001b[0;36m2\u001b[0m \u001b[0;32mif\u001b[0m \u001b[0mcenter\u001b[0m \u001b[0;32melse\u001b[0m \u001b[0;36m1\u001b[0m\u001b[0;34m)\u001b[0m\u001b[0;34m\u001b[0m\u001b[0;34m\u001b[0m\u001b[0m\n\u001b[0;32m--> 304\u001b[0;31m     \u001b[0mF\u001b[0m \u001b[0;34m=\u001b[0m \u001b[0mcorr\u001b[0m \u001b[0;34m**\u001b[0m \u001b[0;36m2\u001b[0m \u001b[0;34m/\u001b[0m \u001b[0;34m(\u001b[0m\u001b[0;36m1\u001b[0m \u001b[0;34m-\u001b[0m \u001b[0mcorr\u001b[0m \u001b[0;34m**\u001b[0m \u001b[0;36m2\u001b[0m\u001b[0;34m)\u001b[0m \u001b[0;34m*\u001b[0m \u001b[0mdegrees_of_freedom\u001b[0m\u001b[0;34m\u001b[0m\u001b[0;34m\u001b[0m\u001b[0m\n\u001b[0m\u001b[1;32m    305\u001b[0m     \u001b[0mpv\u001b[0m \u001b[0;34m=\u001b[0m \u001b[0mstats\u001b[0m\u001b[0;34m.\u001b[0m\u001b[0mf\u001b[0m\u001b[0;34m.\u001b[0m\u001b[0msf\u001b[0m\u001b[0;34m(\u001b[0m\u001b[0mF\u001b[0m\u001b[0;34m,\u001b[0m \u001b[0;36m1\u001b[0m\u001b[0;34m,\u001b[0m \u001b[0mdegrees_of_freedom\u001b[0m\u001b[0;34m)\u001b[0m\u001b[0;34m\u001b[0m\u001b[0;34m\u001b[0m\u001b[0m\n\u001b[1;32m    306\u001b[0m     \u001b[0;32mreturn\u001b[0m \u001b[0mF\u001b[0m\u001b[0;34m,\u001b[0m \u001b[0mpv\u001b[0m\u001b[0;34m\u001b[0m\u001b[0;34m\u001b[0m\u001b[0m\n",
      "\u001b[0;31mRuntimeWarning\u001b[0m: divide by zero encountered in true_divide"
     ]
    }
   ],
   "source": [
    "E_lists = []\n",
    "Y_lists = []\n",
    "\n",
    "mask_ori = selection(num_select, X, y)\n",
    "selected_X_energy = 20 #each_energy(mask_ori, y)なので同一⇒特徴量だけポイントが入る\n",
    "\n",
    "for k in range(1, len_T):\n",
    "    E, y_list = Montecarlo(T[k], num_select, MCMC_step_each, 0, y)\n",
    "    E_lists.append(E)\n",
    "    Y_lists.append(y_list)\n",
    "\n",
    "del E_lists[0]#元の条件削除\n",
    "del Y_lists[0]\n",
    "\n",
    "i = random.randrange(1, len_T)\n",
    "r = exp((b[i]-b[i-1])* (E_lists[i][-1]-E_lists[i-1][-1]))\n",
    "if 1 <= r:\n",
    "    E_lists[i-1][-1], E_lists[i][-1] = E_lists[i][-1], E_lists[i-1][-1]\n",
    "\n",
    "\n",
    "for _ in range(MCMC_step/MCMC_step_each - 1):\n",
    "\n",
    "    for k in range(1, len_T):\n",
    "        E, y_list = Montecarlo(T[k], num_select, MCMC_step_each, E_lists[k][-1], Y_lists[k])\n",
    "        E_lists.append(E)\n",
    "        Y_lists.append(y_list)\n",
    "\n",
    "    del E_lists[0, len_T]#1つ前のループで作られたリストの削除\n",
    "    del Y_lists[0, len_T]\n",
    "\n",
    "    i = random.randrange(1, len_T)\n",
    "    r = exp((b[i]-b[i-1])* (E_lists[i][-1]-E_lists[i-1][-1]))\n",
    "    if 1 <= r:\n",
    "        E_lists[i-1][-1], E_lists[i][-1] = E_lists[i][-1], E_lists[i-1][-1]\n",
    "\n",
    "for i in range(len(E_lists)):\n",
    "    print(E_lists[i][-1])\n",
    "\n",
    "\n",
    "\n",
    "\n",
    "\"\"\"\n",
    "E, y_go = Montecarlo(T,num_select,MCMC_step)\n",
    "#print(E)\n",
    "#print(len(E)==len(y_go))\n",
    "#print(y_go)\n",
    "result_df = pd.DataFrame(y_go)\n",
    "result_df['Energy'] = E\n",
    "result_df.to_csv(\"simulated_annealing_trial1219.csv\", sep=\",\") #yが一要素も変わっていない\n",
    "print(result_df)\n",
    "\n",
    "E_Xaxis = [i for i in range(len(E))]\n",
    "plt.plot(E_Xaxis, E)\n",
    "plt.show()\n",
    "\"\"\""
   ]
  },
  {
   "cell_type": "code",
   "execution_count": null,
   "metadata": {},
   "outputs": [],
   "source": []
  }
 ],
 "metadata": {
  "kernelspec": {
   "display_name": "Python 3",
   "language": "python",
   "name": "python3"
  },
  "language_info": {
   "codemirror_mode": {
    "name": "ipython",
    "version": 3
   },
   "file_extension": ".py",
   "mimetype": "text/x-python",
   "name": "python",
   "nbconvert_exporter": "python",
   "pygments_lexer": "ipython3",
   "version": "3.7.9"
  }
 },
 "nbformat": 4,
 "nbformat_minor": 4
}
