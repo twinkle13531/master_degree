{
 "cells": [
  {
   "cell_type": "markdown",
   "metadata": {},
   "source": [
    "## 内容\n",
    "1巡ごとに温度を下げていく"
   ]
  },
  {
   "cell_type": "code",
   "execution_count": 15,
   "metadata": {},
   "outputs": [],
   "source": [
    "#import\n",
    "import pandas as pd\n",
    "import numpy as np\n",
    "import matplotlib.pyplot as plt\n",
    "import random, math, warnings\n",
    "from sklearn.feature_selection import SelectKBest, f_regression"
   ]
  },
  {
   "cell_type": "code",
   "execution_count": 16,
   "metadata": {},
   "outputs": [],
   "source": [
    "#valiable\n",
    "warnings.resetwarnings()\n",
    "\n",
    "warnings.simplefilter('error')\n",
    "num_select=1 #変える\n",
    "#T=0.1\n",
    "MCMC_step=10000\n",
    "T=[j for j in reversed(range(1, MCMC_step+1))] #0.00001とか\n",
    "# 温度を下げていくと0が多くなるはず\n",
    "# 解のかたまりが減るように"
   ]
  },
  {
   "cell_type": "code",
   "execution_count": 17,
   "metadata": {},
   "outputs": [
    {
     "name": "stdout",
     "output_type": "stream",
     "text": [
      "<class 'pandas.core.series.Series'>\n"
     ]
    }
   ],
   "source": [
    "X = pd.read_table('training_markers.txt', header=None,  sep ='\\t')# 説明変数（こっちの特徴量上位5つ取り出す）\n",
    "\n",
    "data_yields = pd.read_table('training_yields.txt', header=None,  sep ='\\t')# 目的変数\n",
    "#print(data_yields)\n",
    "#print(type(data_yields))\n",
    "\n",
    "y= data_yields.T.iloc[0]\n",
    "#print(y)\n",
    "print(type(y))\n",
    "\n",
    "\"\"\"\n",
    "y_list = []\n",
    "for i in range(len(data_yields)):\n",
    "    y_list.append(data_yields.iloc[i, 0])\n",
    "y = pd.Series(y_list)\n",
    "print(y)\n",
    "\"\"\"\n",
    "\n",
    "num_sample = X.shape[0]#サンプル数\n",
    "num_feature = X.shape[1]#特徴量の数"
   ]
  },
  {
   "cell_type": "code",
   "execution_count": 18,
   "metadata": {
    "scrolled": true
   },
   "outputs": [
    {
     "name": "stdout",
     "output_type": "stream",
     "text": [
      "(20, 20)\n",
      "(20,)\n"
     ]
    }
   ],
   "source": [
    "type(X) #pandas.core.frame.DataFrame\n",
    "print(X.shape) #(20, 20)\n",
    "\n",
    "type(y) #pandas.core.series.Series\n",
    "print(y.shape) #(20,)\n",
    "\n",
    "#X"
   ]
  },
  {
   "cell_type": "code",
   "execution_count": 19,
   "metadata": {},
   "outputs": [
    {
     "name": "stdout",
     "output_type": "stream",
     "text": [
      "20\n"
     ]
    }
   ],
   "source": [
    "#特徴量の分散や同じ特徴量が存在するのかを確認\n",
    "\n",
    "from sklearn.feature_selection import VarianceThreshold\n",
    "sel = VarianceThreshold(threshold=0)\n",
    "sel.fit(X)\n",
    "\n",
    "# get_supportで保持するデータのみをTrue値、そうでないものはFalse値を返します\n",
    "print(sum(sel.get_support())) #20、すなわち同じ特徴量は存在していないことがわかった"
   ]
  },
  {
   "cell_type": "code",
   "execution_count": 20,
   "metadata": {},
   "outputs": [],
   "source": [
    "def selection(num_select, X, y): #num_select個の特徴量を選択\n",
    "    #print(f_regression(X,y))\n",
    "    #print(np.linalg.norm(y))\n",
    "    selector = SelectKBest(score_func=f_regression, k=num_select) #SelectKBest\n",
    "    selector.fit(X, y)\n",
    "    mask = selector.get_support() #各特徴量を選択したか否かのmaskを取得\n",
    "    return mask"
   ]
  },
  {
   "cell_type": "code",
   "execution_count": 21,
   "metadata": {
    "scrolled": true
   },
   "outputs": [
    {
     "name": "stdout",
     "output_type": "stream",
     "text": [
      "[False False False False False False False False False False False False\n",
      " False False False False False False False  True]\n"
     ]
    }
   ],
   "source": [
    "\"\"\"\n",
    "0-division error occurs when all values in y are 0 or 1\n",
    "reason: y = y - np.mean(y), corr /= np.linalg.norm(y)\n",
    "\"\"\"\n",
    "mask = selection(num_select, X, y)\n",
    "print(mask)"
   ]
  },
  {
   "cell_type": "code",
   "execution_count": 22,
   "metadata": {},
   "outputs": [],
   "source": [
    "\"\"\"\n",
    "def each_energy(mask, y):\n",
    "    y_list = y.values.tolist()\n",
    "    energy_find_dic = {}#bestな特徴量:それを選んだときのエネルギー基準値（０となる）\n",
    "    for i in range(len(mask)):\n",
    "        if mask[i]==True:\n",
    "            energy_find_trait = np.dot(np.array(X[:][i]).T, np.array(y_list))\n",
    "            energy_find_dic[i]=energy_find_trait\n",
    "    return sum(energy_find_dic.values())\n",
    "\"\"\"\n",
    "\n",
    "def each_energy(every_mask): #毎回のmaskとyが引数、合致度合いの計算を行う\n",
    "    energy_trait_sum = 0\n",
    "    for i in range(len(every_mask)):\n",
    "        if every_mask[i]==mask[i]:\n",
    "            energy_trait_sum += 1\n",
    "    return energy_trait_sum #もとのyのときのmask(これをmaskとしている)との合致度合い（大きい⇒よく合致している）"
   ]
  },
  {
   "cell_type": "code",
   "execution_count": 23,
   "metadata": {},
   "outputs": [],
   "source": [
    "\"\"\"\n",
    "argument: s is integer\n",
    "procedure: convert s from 0 to 1 or 1 to 0\n",
    "return: changed value\n",
    "\"\"\"\n",
    "def y_renewal(s: int): #y要素の更新式\n",
    "    return 1-s"
   ]
  },
  {
   "cell_type": "code",
   "execution_count": 24,
   "metadata": {},
   "outputs": [],
   "source": [
    "def Montecarlo(T, num_select, MCMC_step):    \n",
    "    E = [] #エネルギーの大きさの経過を記録、E_nowを入れていく\n",
    "    y_go = []\n",
    "    \n",
    "    ori_y = y #元のデータのyを代入\n",
    "    ori_y_list = ori_y.values.tolist()\n",
    "    each_energy(mask) #比較対象は自身なのですべての要素が同じ⇒len(mask)= 20\n",
    "    E.append(0) #each_energy(mask, ori_y) - each_energy(mask, ori_y) = 0\n",
    "    y_go.append(ori_y_list) #元のyを格納\n",
    "    \n",
    "    \n",
    "    for j in range(MCMC_step):    \n",
    "        i = random.randrange(num_sample) #num_sampleから適当な整数を選ぶ\n",
    "        #print(i)\n",
    "        ori_yi = y[i] #ori_yiとしてとっておく\n",
    "        y[i] = y_renewal(y[i])\n",
    "        if np.all(np.array(y) == 1) or np.all(np.array(y) == 0):\n",
    "            #print(\"warning occured\")\n",
    "            continue\n",
    "        with warnings.catch_warnings():\n",
    "            warnings.filterwarnings('error')\n",
    "            try:\n",
    "                mask_new = selection(num_select, X, y)\n",
    "            except Warning:\n",
    "                print(\"warning is here.\")\n",
    "                print(y)\n",
    "                continue\n",
    "        E_now = each_energy(mask) - each_energy(mask_new) #20 - (20以下) >= 0\n",
    "        E_last = E[-1]\n",
    "        #r = math.exp((b[i+1]-b[i])* (E_lists[i+1][-1]-E_lists[i][-1]))\n",
    "        r = math.exp(-E_now/T[j]-(-E_last/T[j-1])) #温度付き\n",
    "        R = np.random.uniform(0.0, 1.0)\n",
    "        if R > r : #もしいま検討している事象が起こりにくそうだったら\n",
    "            y[i] = ori_yi #新しい値は採用しない     \n",
    "        else:\n",
    "            E.append(E_now)\n",
    "            y_list = y.values.tolist()\n",
    "            y_go.append(y_list)\n",
    "    return E, y_go #エネルギーのリスト、ｙのリスト"
   ]
  },
  {
   "cell_type": "code",
   "execution_count": 25,
   "metadata": {
    "scrolled": false
   },
   "outputs": [
    {
     "name": "stdout",
     "output_type": "stream",
     "text": [
      "warning is here.\n",
      "0     0\n",
      "1     0\n",
      "2     0\n",
      "3     1\n",
      "4     1\n",
      "5     1\n",
      "6     0\n",
      "7     0\n",
      "8     0\n",
      "9     1\n",
      "10    1\n",
      "11    1\n",
      "12    0\n",
      "13    1\n",
      "14    0\n",
      "15    1\n",
      "16    0\n",
      "17    1\n",
      "18    0\n",
      "19    1\n",
      "Name: 0, dtype: int64\n",
      "warning is here.\n",
      "0     1\n",
      "1     1\n",
      "2     1\n",
      "3     0\n",
      "4     0\n",
      "5     0\n",
      "6     0\n",
      "7     1\n",
      "8     0\n",
      "9     1\n",
      "10    0\n",
      "11    0\n",
      "12    1\n",
      "13    1\n",
      "14    0\n",
      "15    1\n",
      "16    1\n",
      "17    1\n",
      "18    0\n",
      "19    1\n",
      "Name: 0, dtype: int64\n",
      "      0  1  2  3  4  5  6  7  8  9  ...  11  12  13  14  15  16  17  18  19  \\\n",
      "0     1  0  0  1  1  0  0  1  0  1  ...   0   1   0   0   0   1   1   1   1   \n",
      "1     1  0  0  1  1  0  0  1  0  0  ...   0   1   0   0   0   1   1   1   1   \n",
      "2     1  0  0  1  1  0  0  1  0  0  ...   1   1   0   0   0   1   1   1   1   \n",
      "3     1  0  0  0  1  0  0  1  0  0  ...   1   1   0   0   0   1   1   1   1   \n",
      "4     1  0  0  0  1  0  0  1  0  0  ...   1   1   0   0   0   1   1   1   1   \n",
      "...  .. .. .. .. .. .. .. .. .. ..  ...  ..  ..  ..  ..  ..  ..  ..  ..  ..   \n",
      "9994  0  0  1  0  1  1  1  1  1  1  ...   1   0   0   1   0   0   1   0   0   \n",
      "9995  0  0  1  0  1  1  1  1  1  1  ...   1   0   0   1   0   0   1   1   0   \n",
      "9996  0  1  1  0  1  1  1  1  1  1  ...   1   0   0   1   0   0   1   1   0   \n",
      "9997  0  1  0  0  1  1  1  1  1  1  ...   1   0   0   1   0   0   1   1   0   \n",
      "9998  0  1  0  0  1  1  1  1  0  1  ...   1   0   0   1   0   0   1   1   0   \n",
      "\n",
      "      Energy  \n",
      "0          0  \n",
      "1          2  \n",
      "2          0  \n",
      "3          0  \n",
      "4          0  \n",
      "...      ...  \n",
      "9994       2  \n",
      "9995       2  \n",
      "9996       2  \n",
      "9997       2  \n",
      "9998       0  \n",
      "\n",
      "[9999 rows x 21 columns]\n"
     ]
    },
    {
     "data": {
      "image/png": "[encoded data removed]",
      "text/plain": [
       "<Figure size 432x288 with 1 Axes>"
      ]
     },
     "metadata": {
      "needs_background": "light"
     },
     "output_type": "display_data"
    },
    {
     "data": {
      "text/plain": [
       "<Figure size 432x288 with 0 Axes>"
      ]
     },
     "metadata": {},
     "output_type": "display_data"
    }
   ],
   "source": [
    "E, y_go = Montecarlo(T,num_select,MCMC_step)\n",
    "#print(E)\n",
    "#print(len(E)==len(y_go))\n",
    "#print(y_go)\n",
    "result_df = pd.DataFrame(y_go)\n",
    "result_df['Energy'] = E\n",
    "result_df.to_csv(\"simulated_annealing_trial1210.csv\", sep=\",\") #yが一要素も変わっていない\n",
    "print(result_df)\n",
    "\n",
    "E_Xaxis = [i for i in range(len(E))]\n",
    "plt.plot(E_Xaxis, E)\n",
    "plt.show()\n",
    "plt.savefig('0114_numselect1.png')"
   ]
  },
  {
   "cell_type": "code",
   "execution_count": 26,
   "metadata": {
    "scrolled": true
   },
   "outputs": [
    {
     "name": "stdout",
     "output_type": "stream",
     "text": [
      "776\n",
      "9223\n",
      "9999\n",
      "True\n"
     ]
    }
   ],
   "source": [
    "E0_count = 0\n",
    "E2_count = 0\n",
    "for i in range(len(E)):\n",
    "    if E[i]==0:\n",
    "        E0_count += 1\n",
    "    elif E[i]==2:\n",
    "        E2_count += 1\n",
    "print(E0_count)\n",
    "print(E2_count)\n",
    "print(len(E))\n",
    "print(E0_count+E2_count==len(E))#エネルギー2...選ぶ特徴量がひとつなのでTrue, Falseがペアで入れ替わっている"
   ]
  },
  {
   "cell_type": "code",
   "execution_count": 27,
   "metadata": {},
   "outputs": [
    {
     "name": "stdout",
     "output_type": "stream",
     "text": [
      "0\n",
      "2\n"
     ]
    }
   ],
   "source": [
    "print(E[0]) \n",
    "print(E[1])"
   ]
  },
  {
   "cell_type": "markdown",
   "metadata": {},
   "source": [
    "### 記録\n",
    "12/03...温度なし、エラーが取れた\n",
    "\n",
    "12/10...温度をつけた、結果の表示方法変更\n",
    "\n",
    "01/05 👇変更を適用し忘れていたため起こったエラー\n",
    "\n",
    "```\n",
    "---------------------------------------------------------------------------\n",
    "TypeError                                 Traceback (most recent call last)\n",
    "<ipython-input-12-778dc39d918c> in <module>\n",
    "----> 1 E, y_go = Montecarlo(T,num_select,MCMC_step)\n",
    "      2 #print(E)\n",
    "      3 #print(len(E)==len(y_go))\n",
    "      4 #print(y_go)\n",
    "      5 result_df = pd.DataFrame(y_go)\n",
    "\n",
    "<ipython-input-11-8d8129039bcd> in Montecarlo(T, num_select, MCMC_step)\n",
    "      5     ori_y = y #元のデータのyを代入\n",
    "      6     ori_y_list = ori_y.values.tolist()\n",
    "----> 7     each_energy(mask, ori_y) #比較対象は自身なのですべての要素が同じ⇒len(mask)= 20\n",
    "      8     E.append(0) #each_energy(mask, ori_y) - each_energy(mask, ori_y) = 0\n",
    "      9     y_go.append(ori_y_list) #元のyを格納\n",
    "\n",
    "TypeError: each_energy() takes 1 positional argument but 2 were given\n",
    "```\n",
    "\n",
    "###  結果\n",
    "* yに変化なし…```MCMC_step=1000, 5000, 10000```のとき\n",
    "\n",
    "* ```\n",
    " else:\n",
    "     E.append(E_now)   \n",
    "     y_list = y.values.tolist()      \n",
    "     y_go.append(y_list)\n",
    "  ```\n",
    "  と改善したら良くなった\n",
    "\n",
    "\n",
    "* マイナスのエネルギーはおかしい\n",
    "  * ```each_energy(mask_new, y)```に問題があるだろう"
   ]
  },
  {
   "cell_type": "code",
   "execution_count": null,
   "metadata": {},
   "outputs": [],
   "source": []
  }
 ],
 "metadata": {
  "kernelspec": {
   "display_name": "Python 3",
   "language": "python",
   "name": "python3"
  },
  "language_info": {
   "codemirror_mode": {
    "name": "ipython",
    "version": 3
   },
   "file_extension": ".py",
   "mimetype": "text/x-python",
   "name": "python",
   "nbconvert_exporter": "python",
   "pygments_lexer": "ipython3",
   "version": "3.7.3"
  }
 },
 "nbformat": 4,
 "nbformat_minor": 2
}
