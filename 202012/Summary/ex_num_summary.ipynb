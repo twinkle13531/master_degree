{
 "cells": [
  {
   "cell_type": "code",
   "execution_count": 43,
   "metadata": {},
   "outputs": [
    {
     "name": "stdout",
     "output_type": "stream",
     "text": [
      "/Users/shihosato/src/github.com/twinkle13531/master_degree/202012/Summary\n"
     ]
    }
   ],
   "source": [
    "!pwd"
   ]
  },
  {
   "cell_type": "code",
   "execution_count": 44,
   "metadata": {},
   "outputs": [
    {
     "name": "stdout",
     "output_type": "stream",
     "text": [
      "The autoreload extension is already loaded. To reload it, use:\n",
      "  %reload_ext autoreload\n"
     ]
    }
   ],
   "source": [
    "%load_ext autoreload\n",
    "%autoreload 2"
   ]
  },
  {
   "cell_type": "code",
   "execution_count": 45,
   "metadata": {},
   "outputs": [],
   "source": [
    "import sys, os\n",
    "sys.path.append(os.path.join('..', 'Random'))\n",
    "sys.path.append(os.path.join('..', 'SA'))\n",
    "sys.path.append(os.path.join('..', 'QA'))\n",
    "sys.path.append(os.path.join('..', '4ti2', 'functions'))"
   ]
  },
  {
   "cell_type": "code",
   "execution_count": 46,
   "metadata": {},
   "outputs": [],
   "source": [
    "import aws_QA_DwaveSampler_AutoEmbedding as aqa ##new\n",
    "import random_exact_test_functions as ret\n",
    "import SA_exact_test_functions as net\n",
    "import zsolve_t1 as zt\n",
    "import pandas as pd\n",
    "import numpy as np\n",
    "import time\n",
    "import matplotlib.pyplot as plt\n",
    "import statistics\n",
    "import math"
   ]
  },
  {
   "cell_type": "code",
   "execution_count": 47,
   "metadata": {},
   "outputs": [],
   "source": [
    "time_dic = {}"
   ]
  },
  {
   "cell_type": "code",
   "execution_count": 48,
   "metadata": {},
   "outputs": [],
   "source": [
    "y_dic = {'total_y_num':{}, 'mean_occurrence':{}, 'valid_y_num':{}}"
   ]
  },
  {
   "cell_type": "code",
   "execution_count": 49,
   "metadata": {},
   "outputs": [],
   "source": [
    "per_time_dic = {}"
   ]
  },
  {
   "cell_type": "code",
   "execution_count": 50,
   "metadata": {},
   "outputs": [],
   "source": [
    "mean_broken_chain_proportion = {}#only QA"
   ]
  },
  {
   "cell_type": "code",
   "execution_count": 51,
   "metadata": {},
   "outputs": [],
   "source": [
    "p_dic = {}"
   ]
  },
  {
   "cell_type": "code",
   "execution_count": 52,
   "metadata": {},
   "outputs": [],
   "source": [
    "chain_strength_dic = {20:15, 25:15, 30:15, 35:20, 40:20}\n",
    "#chain_strength_dic = {20:10, 25:15, 30:20, 35:20, 40:30}"
   ]
  },
  {
   "cell_type": "code",
   "execution_count": 53,
   "metadata": {},
   "outputs": [],
   "source": [
    "bit_list = [20, 25, 30, 35, 40]\n",
    "num_list = [0, 1, 2, 3, 4]"
   ]
  },
  {
   "cell_type": "markdown",
   "metadata": {},
   "source": [
    "## QA\n",
    "計算時間の制約があるので一気に、まとめて計算する。\n",
    "\n",
    "\n",
    "前回からの変更点\n",
    "- calculation_time測定箇所がおかしかった→修正\n",
    "- n, num_reads.たしかにnを増やすとvalid_y_numが増えるが、per_timeもcalculation_timeも*n弱ほど増える\n",
    "  - どう頑張ってもvalid_y_numでSAには勝てない\n",
    "  - n, num_reads = 100, 100となるとどうしても計算が時間かかりすぎる25bitでさえも\n",
    "  - →n=1, num_reads=10000のtotal_timeで勝負する\n",
    "  - 時間の平均、標準偏差などはtotal_timeにする（すべての手法）\n"
   ]
  },
  {
   "cell_type": "code",
   "execution_count": 54,
   "metadata": {},
   "outputs": [
    {
     "name": "stdout",
     "output_type": "stream",
     "text": [
      "20 finish\n",
      "30 finish\n"
     ]
    }
   ],
   "source": [
    "########################################## 予備実験 ################################################################\n",
    "#n=1でのみ通用するコード\n",
    "n, num_reads = 1, 10000\n",
    "chain_strength_dic = {20:15, 25:15, 30:15, 35:20, 40:20}\n",
    "time_dic['QA'] = {}\n",
    "y_dic['total_y_num']['QA'] = {}\n",
    "y_dic['mean_occurrence']['QA'] = {}\n",
    "y_dic['valid_y_num']['QA'] = {}\n",
    "per_time_dic['QA'] = {}\n",
    "p_dic['QA'] = {}\n",
    "\n",
    "for bit in [20, 30]:\n",
    "    time_dic['QA'][bit] = {}\n",
    "    y_dic['total_y_num']['QA'][bit] = {}\n",
    "    y_dic['mean_occurrence']['QA'][bit] = {}\n",
    "    y_dic['valid_y_num']['QA'][bit] = {}\n",
    "    per_time_dic['QA'][bit] = {}\n",
    "    mean_broken_chain_proportion[bit] = {}\n",
    "    p_dic['QA'][bit] = {}\n",
    "    chain_strength = chain_strength_dic[bit]\n",
    "    \n",
    "    for num in [2, 3]:\n",
    "        path = '../input/ost{}_{}.csv'.format(bit, num)\n",
    "        df = pd.read_csv(path, sep=',')\n",
    "        bqm = aqa.make_Hamiltonian(df)\n",
    "        res = aqa.aws_get_response(bqm, chain_strength, num_reads)\n",
    "        ads = aqa.aws_DSampler(df, bqm, num_reads, chain_strength, res)\n",
    "        valid_y_info_dic = ads.find_valid_y()\n",
    "        \n",
    "        if len(valid_y_info_dic) > 0:\n",
    "            calculation_time = res.info['additionalMetadata']['dwaveMetadata']['timing']['qpuAccessTime']*10**(-6)\n",
    "            occurrence_list = [valid_y_info[0] for valid_y_info in list(valid_y_info_dic.values())]\n",
    "            broken_list = [valid_y_info[1] for valid_y_info in list(valid_y_info_dic.values())]\n",
    "\n",
    "            time_dic['QA'][bit][num] = calculation_time\n",
    "            y_dic['total_y_num']['QA'][bit][num] = sum(occurrence_list)\n",
    "            y_dic['mean_occurrence']['QA'][bit][num] = statistics.mean(occurrence_list)\n",
    "            y_dic['valid_y_num']['QA'][bit][num] = len(valid_y_info_dic)\n",
    "            #per_time_dic['QA'][bit][num] = calculation_time / sum(occurrence_list)\n",
    "            per_time_dic['QA'][bit][num] = calculation_time / len(valid_y_info_dic)\n",
    "            mean_broken_chain_proportion[bit][num] = statistics.mean(broken_list)\n",
    "            p_dic['QA'][bit][num] = ads.p_value(valid_y_info_dic)\n",
    "\n",
    "    print('{} finish'.format(bit))"
   ]
  },
  {
   "cell_type": "code",
   "execution_count": 55,
   "metadata": {},
   "outputs": [
    {
     "data": {
      "text/plain": [
       "{20: {2: 2.400298, 3: 2.4002719999999997}, 30: {2: 2.400395, 3: 2.400392}}"
      ]
     },
     "execution_count": 55,
     "metadata": {},
     "output_type": "execute_result"
    }
   ],
   "source": [
    "time_dic['QA']"
   ]
  },
  {
   "cell_type": "code",
   "execution_count": 56,
   "metadata": {},
   "outputs": [
    {
     "data": {
      "text/plain": [
       "{20: {2: 254, 3: 147}, 30: {2: 17, 3: 6}}"
      ]
     },
     "execution_count": 56,
     "metadata": {},
     "output_type": "execute_result"
    }
   ],
   "source": [
    "y_dic['total_y_num']['QA']"
   ]
  },
  {
   "cell_type": "code",
   "execution_count": 57,
   "metadata": {},
   "outputs": [
    {
     "data": {
      "text/plain": [
       "{20: {2: 1, 3: 1}, 30: {2: 1, 3: 1}}"
      ]
     },
     "execution_count": 57,
     "metadata": {},
     "output_type": "execute_result"
    }
   ],
   "source": [
    "y_dic['mean_occurrence']['QA']"
   ]
  },
  {
   "cell_type": "code",
   "execution_count": 58,
   "metadata": {},
   "outputs": [
    {
     "data": {
      "text/plain": [
       "{20: {2: 185, 3: 140}, 30: {2: 17, 3: 6}}"
      ]
     },
     "execution_count": 58,
     "metadata": {},
     "output_type": "execute_result"
    }
   ],
   "source": [
    "y_dic['valid_y_num']['QA']"
   ]
  },
  {
   "cell_type": "code",
   "execution_count": 59,
   "metadata": {},
   "outputs": [
    {
     "data": {
      "text/plain": [
       "{20: {2: 0.012974583783783782, 3: 0.017144799999999998},\n",
       " 30: {2: 0.14119970588235295, 3: 0.40006533333333333}}"
      ]
     },
     "execution_count": 59,
     "metadata": {},
     "output_type": "execute_result"
    }
   ],
   "source": [
    "per_time_dic['QA']"
   ]
  },
  {
   "cell_type": "code",
   "execution_count": 60,
   "metadata": {},
   "outputs": [
    {
     "data": {
      "text/plain": [
       "{20: {2: 0.33513513513513515, 3: 0.18571428571428572}, 30: {2: 0.0, 3: 0.0}}"
      ]
     },
     "execution_count": 60,
     "metadata": {},
     "output_type": "execute_result"
    }
   ],
   "source": [
    "p_dic['QA']"
   ]
  },
  {
   "cell_type": "code",
   "execution_count": 61,
   "metadata": {},
   "outputs": [
    {
     "data": {
      "text/plain": [
       "{20: {2: 0.0002702702702702703, 3: 0.0007142857142857143},\n",
       " 30: {2: 0.011764705882352941, 3: 0.005555555555555556}}"
      ]
     },
     "execution_count": 61,
     "metadata": {},
     "output_type": "execute_result"
    }
   ],
   "source": [
    "mean_broken_chain_proportion"
   ]
  },
  {
   "cell_type": "code",
   "execution_count": null,
   "metadata": {},
   "outputs": [],
   "source": []
  },
  {
   "cell_type": "code",
   "execution_count": 14,
   "metadata": {
    "collapsed": true,
    "jupyter": {
     "outputs_hidden": true
    }
   },
   "outputs": [
    {
     "ename": "SolverFailureError",
     "evalue": "Problem not accepted because user kitai_koki_16@stu-cbms.k.u-tokyo.ac.jp has insufficient remaining solver access time in project TOKY",
     "output_type": "error",
     "traceback": [
      "\u001b[0;31m---------------------------------------------------------------------------\u001b[0m",
      "\u001b[0;31mSolverFailureError\u001b[0m                        Traceback (most recent call last)",
      "\u001b[0;32m<ipython-input-14-1a73180cfb71>\u001b[0m in \u001b[0;36m<module>\u001b[0;34m\u001b[0m\n\u001b[1;32m     15\u001b[0m \u001b[0;34m\u001b[0m\u001b[0m\n\u001b[1;32m     16\u001b[0m         \u001b[0mqqda\u001b[0m \u001b[0;34m=\u001b[0m \u001b[0mqda\u001b[0m\u001b[0;34m.\u001b[0m\u001b[0mQA_DSampler_AEmbedding\u001b[0m\u001b[0;34m(\u001b[0m\u001b[0mdf\u001b[0m\u001b[0;34m,\u001b[0m \u001b[0mbqm\u001b[0m\u001b[0;34m,\u001b[0m \u001b[0mn\u001b[0m\u001b[0;34m,\u001b[0m \u001b[0mnum_reads\u001b[0m\u001b[0;34m,\u001b[0m \u001b[0mchain_strength\u001b[0m\u001b[0;34m)\u001b[0m\u001b[0;34m\u001b[0m\u001b[0;34m\u001b[0m\u001b[0m\n\u001b[0;32m---> 17\u001b[0;31m         \u001b[0mvalid_y_info_dic\u001b[0m\u001b[0;34m,\u001b[0m \u001b[0mcalculation_time\u001b[0m \u001b[0;34m=\u001b[0m \u001b[0mqqda\u001b[0m\u001b[0;34m.\u001b[0m\u001b[0mfind_valid_y_time_ntimes\u001b[0m\u001b[0;34m(\u001b[0m\u001b[0;34m)\u001b[0m\u001b[0;34m\u001b[0m\u001b[0;34m\u001b[0m\u001b[0m\n\u001b[0m\u001b[1;32m     18\u001b[0m \u001b[0;34m\u001b[0m\u001b[0m\n\u001b[1;32m     19\u001b[0m         \u001b[0;32mif\u001b[0m \u001b[0mlen\u001b[0m\u001b[0;34m(\u001b[0m\u001b[0mvalid_y_info_dic\u001b[0m\u001b[0;34m)\u001b[0m \u001b[0;34m>\u001b[0m \u001b[0;36m0\u001b[0m\u001b[0;34m:\u001b[0m\u001b[0;34m\u001b[0m\u001b[0;34m\u001b[0m\u001b[0m\n",
      "\u001b[0;32m~/src/github.com/twinkle13531/master_degree/202012/QA/QA_DwaveSampler_AutoEmbedding.py\u001b[0m in \u001b[0;36mfind_valid_y_time_ntimes\u001b[0;34m(self)\u001b[0m\n\u001b[1;32m     85\u001b[0m         \u001b[0;32mfor\u001b[0m \u001b[0m_\u001b[0m \u001b[0;32min\u001b[0m \u001b[0mrange\u001b[0m\u001b[0;34m(\u001b[0m\u001b[0mself\u001b[0m\u001b[0;34m.\u001b[0m\u001b[0mn\u001b[0m\u001b[0;34m)\u001b[0m\u001b[0;34m:\u001b[0m\u001b[0;34m\u001b[0m\u001b[0;34m\u001b[0m\u001b[0m\n\u001b[1;32m     86\u001b[0m             \u001b[0mres\u001b[0m \u001b[0;34m=\u001b[0m \u001b[0mqa_sampler\u001b[0m\u001b[0;34m.\u001b[0m\u001b[0msample\u001b[0m\u001b[0;34m(\u001b[0m\u001b[0mself\u001b[0m\u001b[0;34m.\u001b[0m\u001b[0mbqm\u001b[0m\u001b[0;34m,\u001b[0m \u001b[0mchain_strength\u001b[0m \u001b[0;34m=\u001b[0m \u001b[0mself\u001b[0m\u001b[0;34m.\u001b[0m\u001b[0mchain_strength\u001b[0m\u001b[0;34m,\u001b[0m \u001b[0mchain_break_fraction\u001b[0m\u001b[0;34m=\u001b[0m\u001b[0;32mTrue\u001b[0m\u001b[0;34m,\u001b[0m \u001b[0mnum_reads\u001b[0m\u001b[0;34m=\u001b[0m\u001b[0mself\u001b[0m\u001b[0;34m.\u001b[0m\u001b[0mnum_reads\u001b[0m\u001b[0;34m)\u001b[0m\u001b[0;31m#annealing_time\u001b[0m\u001b[0;34m\u001b[0m\u001b[0;34m\u001b[0m\u001b[0m\n\u001b[0;32m---> 87\u001b[0;31m             \u001b[0;32mfor\u001b[0m \u001b[0msample\u001b[0m\u001b[0;34m,\u001b[0m \u001b[0menergy\u001b[0m\u001b[0;34m,\u001b[0m \u001b[0mnum_occurrences\u001b[0m\u001b[0;34m,\u001b[0m \u001b[0mchain_break_fraction\u001b[0m \u001b[0;32min\u001b[0m \u001b[0mres\u001b[0m\u001b[0;34m.\u001b[0m\u001b[0mdata\u001b[0m\u001b[0;34m(\u001b[0m\u001b[0;34m[\u001b[0m\u001b[0;34m'sample'\u001b[0m\u001b[0;34m,\u001b[0m \u001b[0;34m'energy'\u001b[0m\u001b[0;34m,\u001b[0m \u001b[0;34m'num_occurrences'\u001b[0m\u001b[0;34m,\u001b[0m \u001b[0;34m'chain_break_fraction'\u001b[0m\u001b[0;34m]\u001b[0m\u001b[0;34m)\u001b[0m\u001b[0;34m:\u001b[0m\u001b[0;34m\u001b[0m\u001b[0;34m\u001b[0m\u001b[0m\n\u001b[0m\u001b[1;32m     88\u001b[0m                 \u001b[0;32mif\u001b[0m \u001b[0menergy\u001b[0m \u001b[0;34m==\u001b[0m \u001b[0;36m0.0\u001b[0m\u001b[0;34m:\u001b[0m\u001b[0;34m\u001b[0m\u001b[0;34m\u001b[0m\u001b[0m\n\u001b[1;32m     89\u001b[0m                     \u001b[0msample_tuple\u001b[0m \u001b[0;34m=\u001b[0m \u001b[0mtuple\u001b[0m\u001b[0;34m(\u001b[0m\u001b[0msample\u001b[0m\u001b[0;34m.\u001b[0m\u001b[0mvalues\u001b[0m\u001b[0;34m(\u001b[0m\u001b[0;34m)\u001b[0m\u001b[0;34m)\u001b[0m\u001b[0;34m\u001b[0m\u001b[0;34m\u001b[0m\u001b[0m\n",
      "\u001b[0;32m~/.pyenv/versions/miniconda3-4.7.12/lib/python3.7/site-packages/dimod/sampleset.py\u001b[0m in \u001b[0;36mdata\u001b[0;34m(self, fields, sorted_by, name, reverse, sample_dict_cast, index)\u001b[0m\n\u001b[1;32m   1037\u001b[0m \u001b[0;34m\u001b[0m\u001b[0m\n\u001b[1;32m   1038\u001b[0m         \"\"\"\n\u001b[0;32m-> 1039\u001b[0;31m         \u001b[0mrecord\u001b[0m \u001b[0;34m=\u001b[0m \u001b[0mself\u001b[0m\u001b[0;34m.\u001b[0m\u001b[0mrecord\u001b[0m\u001b[0;34m\u001b[0m\u001b[0;34m\u001b[0m\u001b[0m\n\u001b[0m\u001b[1;32m   1040\u001b[0m \u001b[0;34m\u001b[0m\u001b[0m\n\u001b[1;32m   1041\u001b[0m         \u001b[0;32mif\u001b[0m \u001b[0mfields\u001b[0m \u001b[0;32mis\u001b[0m \u001b[0;32mNone\u001b[0m\u001b[0;34m:\u001b[0m\u001b[0;34m\u001b[0m\u001b[0;34m\u001b[0m\u001b[0m\n",
      "\u001b[0;32m~/.pyenv/versions/miniconda3-4.7.12/lib/python3.7/site-packages/dimod/sampleset.py\u001b[0m in \u001b[0;36mrecord\u001b[0;34m(self)\u001b[0m\n\u001b[1;32m    871\u001b[0m \u001b[0;34m\u001b[0m\u001b[0m\n\u001b[1;32m    872\u001b[0m         \"\"\"\n\u001b[0;32m--> 873\u001b[0;31m         \u001b[0mself\u001b[0m\u001b[0;34m.\u001b[0m\u001b[0mresolve\u001b[0m\u001b[0;34m(\u001b[0m\u001b[0;34m)\u001b[0m\u001b[0;34m\u001b[0m\u001b[0;34m\u001b[0m\u001b[0m\n\u001b[0m\u001b[1;32m    874\u001b[0m         \u001b[0;32mreturn\u001b[0m \u001b[0mself\u001b[0m\u001b[0;34m.\u001b[0m\u001b[0m_record\u001b[0m\u001b[0;34m\u001b[0m\u001b[0;34m\u001b[0m\u001b[0m\n\u001b[1;32m    875\u001b[0m \u001b[0;34m\u001b[0m\u001b[0m\n",
      "\u001b[0;32m~/.pyenv/versions/miniconda3-4.7.12/lib/python3.7/site-packages/dimod/sampleset.py\u001b[0m in \u001b[0;36mresolve\u001b[0;34m(self)\u001b[0m\n\u001b[1;32m   1206\u001b[0m         \u001b[0;31m# if it doesn't have the attribute then it is already resolved\u001b[0m\u001b[0;34m\u001b[0m\u001b[0;34m\u001b[0m\u001b[0;34m\u001b[0m\u001b[0m\n\u001b[1;32m   1207\u001b[0m         \u001b[0;32mif\u001b[0m \u001b[0mhasattr\u001b[0m\u001b[0;34m(\u001b[0m\u001b[0mself\u001b[0m\u001b[0;34m,\u001b[0m \u001b[0;34m'_future'\u001b[0m\u001b[0;34m)\u001b[0m\u001b[0;34m:\u001b[0m\u001b[0;34m\u001b[0m\u001b[0;34m\u001b[0m\u001b[0m\n\u001b[0;32m-> 1208\u001b[0;31m             \u001b[0msamples\u001b[0m \u001b[0;34m=\u001b[0m \u001b[0mself\u001b[0m\u001b[0;34m.\u001b[0m\u001b[0m_result_hook\u001b[0m\u001b[0;34m(\u001b[0m\u001b[0mself\u001b[0m\u001b[0;34m.\u001b[0m\u001b[0m_future\u001b[0m\u001b[0;34m)\u001b[0m\u001b[0;34m\u001b[0m\u001b[0;34m\u001b[0m\u001b[0m\n\u001b[0m\u001b[1;32m   1209\u001b[0m             \u001b[0mself\u001b[0m\u001b[0;34m.\u001b[0m\u001b[0m__init__\u001b[0m\u001b[0;34m(\u001b[0m\u001b[0msamples\u001b[0m\u001b[0;34m.\u001b[0m\u001b[0mrecord\u001b[0m\u001b[0;34m,\u001b[0m \u001b[0msamples\u001b[0m\u001b[0;34m.\u001b[0m\u001b[0mvariables\u001b[0m\u001b[0;34m,\u001b[0m \u001b[0msamples\u001b[0m\u001b[0;34m.\u001b[0m\u001b[0minfo\u001b[0m\u001b[0;34m,\u001b[0m \u001b[0msamples\u001b[0m\u001b[0;34m.\u001b[0m\u001b[0mvartype\u001b[0m\u001b[0;34m)\u001b[0m\u001b[0;34m\u001b[0m\u001b[0;34m\u001b[0m\u001b[0m\n\u001b[1;32m   1210\u001b[0m             \u001b[0;32mdel\u001b[0m \u001b[0mself\u001b[0m\u001b[0;34m.\u001b[0m\u001b[0m_future\u001b[0m\u001b[0;34m\u001b[0m\u001b[0;34m\u001b[0m\u001b[0m\n",
      "\u001b[0;32m~/.pyenv/versions/miniconda3-4.7.12/lib/python3.7/site-packages/dwave/system/composites/embedding.py\u001b[0m in \u001b[0;36masync_unembed\u001b[0;34m(response)\u001b[0m\n\u001b[1;32m    287\u001b[0m                                           \u001b[0mchain_break_method\u001b[0m\u001b[0;34m=\u001b[0m\u001b[0mchain_break_method\u001b[0m\u001b[0;34m,\u001b[0m\u001b[0;34m\u001b[0m\u001b[0;34m\u001b[0m\u001b[0m\n\u001b[1;32m    288\u001b[0m                                           \u001b[0mchain_break_fraction\u001b[0m\u001b[0;34m=\u001b[0m\u001b[0mchain_break_fraction\u001b[0m\u001b[0;34m,\u001b[0m\u001b[0;34m\u001b[0m\u001b[0;34m\u001b[0m\u001b[0m\n\u001b[0;32m--> 289\u001b[0;31m                                           return_embedding=return_embedding)\n\u001b[0m\u001b[1;32m    290\u001b[0m \u001b[0;34m\u001b[0m\u001b[0m\n\u001b[1;32m    291\u001b[0m             \u001b[0;32mif\u001b[0m \u001b[0mreturn_embedding\u001b[0m\u001b[0;34m:\u001b[0m\u001b[0;34m\u001b[0m\u001b[0;34m\u001b[0m\u001b[0m\n",
      "\u001b[0;32m~/.pyenv/versions/miniconda3-4.7.12/lib/python3.7/site-packages/dwave/embedding/transforms.py\u001b[0m in \u001b[0;36munembed_sampleset\u001b[0;34m(target_sampleset, embedding, source_bqm, chain_break_method, chain_break_fraction, return_embedding)\u001b[0m\n\u001b[1;32m    618\u001b[0m         \u001b[0;32mraise\u001b[0m \u001b[0mValueError\u001b[0m\u001b[0;34m(\u001b[0m\u001b[0;34m\"given bqm does not match the embedding\"\u001b[0m\u001b[0;34m)\u001b[0m\u001b[0;34m\u001b[0m\u001b[0;34m\u001b[0m\u001b[0m\n\u001b[1;32m    619\u001b[0m \u001b[0;34m\u001b[0m\u001b[0m\n\u001b[0;32m--> 620\u001b[0;31m     \u001b[0mrecord\u001b[0m \u001b[0;34m=\u001b[0m \u001b[0mtarget_sampleset\u001b[0m\u001b[0;34m.\u001b[0m\u001b[0mrecord\u001b[0m\u001b[0;34m\u001b[0m\u001b[0;34m\u001b[0m\u001b[0m\n\u001b[0m\u001b[1;32m    621\u001b[0m \u001b[0;34m\u001b[0m\u001b[0m\n\u001b[1;32m    622\u001b[0m     \u001b[0munembedded\u001b[0m\u001b[0;34m,\u001b[0m \u001b[0midxs\u001b[0m \u001b[0;34m=\u001b[0m \u001b[0mchain_break_method\u001b[0m\u001b[0;34m(\u001b[0m\u001b[0mtarget_sampleset\u001b[0m\u001b[0;34m,\u001b[0m \u001b[0mchains\u001b[0m\u001b[0;34m)\u001b[0m\u001b[0;34m\u001b[0m\u001b[0;34m\u001b[0m\u001b[0m\n",
      "\u001b[0;32m~/.pyenv/versions/miniconda3-4.7.12/lib/python3.7/site-packages/dimod/sampleset.py\u001b[0m in \u001b[0;36mrecord\u001b[0;34m(self)\u001b[0m\n\u001b[1;32m    871\u001b[0m \u001b[0;34m\u001b[0m\u001b[0m\n\u001b[1;32m    872\u001b[0m         \"\"\"\n\u001b[0;32m--> 873\u001b[0;31m         \u001b[0mself\u001b[0m\u001b[0;34m.\u001b[0m\u001b[0mresolve\u001b[0m\u001b[0;34m(\u001b[0m\u001b[0;34m)\u001b[0m\u001b[0;34m\u001b[0m\u001b[0;34m\u001b[0m\u001b[0m\n\u001b[0m\u001b[1;32m    874\u001b[0m         \u001b[0;32mreturn\u001b[0m \u001b[0mself\u001b[0m\u001b[0;34m.\u001b[0m\u001b[0m_record\u001b[0m\u001b[0;34m\u001b[0m\u001b[0;34m\u001b[0m\u001b[0m\n\u001b[1;32m    875\u001b[0m \u001b[0;34m\u001b[0m\u001b[0m\n",
      "\u001b[0;32m~/.pyenv/versions/miniconda3-4.7.12/lib/python3.7/site-packages/dimod/sampleset.py\u001b[0m in \u001b[0;36mresolve\u001b[0;34m(self)\u001b[0m\n\u001b[1;32m   1207\u001b[0m         \u001b[0;32mif\u001b[0m \u001b[0mhasattr\u001b[0m\u001b[0;34m(\u001b[0m\u001b[0mself\u001b[0m\u001b[0;34m,\u001b[0m \u001b[0;34m'_future'\u001b[0m\u001b[0;34m)\u001b[0m\u001b[0;34m:\u001b[0m\u001b[0;34m\u001b[0m\u001b[0;34m\u001b[0m\u001b[0m\n\u001b[1;32m   1208\u001b[0m             \u001b[0msamples\u001b[0m \u001b[0;34m=\u001b[0m \u001b[0mself\u001b[0m\u001b[0;34m.\u001b[0m\u001b[0m_result_hook\u001b[0m\u001b[0;34m(\u001b[0m\u001b[0mself\u001b[0m\u001b[0;34m.\u001b[0m\u001b[0m_future\u001b[0m\u001b[0;34m)\u001b[0m\u001b[0;34m\u001b[0m\u001b[0;34m\u001b[0m\u001b[0m\n\u001b[0;32m-> 1209\u001b[0;31m             \u001b[0mself\u001b[0m\u001b[0;34m.\u001b[0m\u001b[0m__init__\u001b[0m\u001b[0;34m(\u001b[0m\u001b[0msamples\u001b[0m\u001b[0;34m.\u001b[0m\u001b[0mrecord\u001b[0m\u001b[0;34m,\u001b[0m \u001b[0msamples\u001b[0m\u001b[0;34m.\u001b[0m\u001b[0mvariables\u001b[0m\u001b[0;34m,\u001b[0m \u001b[0msamples\u001b[0m\u001b[0;34m.\u001b[0m\u001b[0minfo\u001b[0m\u001b[0;34m,\u001b[0m \u001b[0msamples\u001b[0m\u001b[0;34m.\u001b[0m\u001b[0mvartype\u001b[0m\u001b[0;34m)\u001b[0m\u001b[0;34m\u001b[0m\u001b[0;34m\u001b[0m\u001b[0m\n\u001b[0m\u001b[1;32m   1210\u001b[0m             \u001b[0;32mdel\u001b[0m \u001b[0mself\u001b[0m\u001b[0;34m.\u001b[0m\u001b[0m_future\u001b[0m\u001b[0;34m\u001b[0m\u001b[0;34m\u001b[0m\u001b[0m\n\u001b[1;32m   1211\u001b[0m             \u001b[0;32mdel\u001b[0m \u001b[0mself\u001b[0m\u001b[0;34m.\u001b[0m\u001b[0m_result_hook\u001b[0m\u001b[0;34m\u001b[0m\u001b[0;34m\u001b[0m\u001b[0m\n",
      "\u001b[0;32m~/.pyenv/versions/miniconda3-4.7.12/lib/python3.7/site-packages/dimod/sampleset.py\u001b[0m in \u001b[0;36mrecord\u001b[0;34m(self)\u001b[0m\n\u001b[1;32m    871\u001b[0m \u001b[0;34m\u001b[0m\u001b[0m\n\u001b[1;32m    872\u001b[0m         \"\"\"\n\u001b[0;32m--> 873\u001b[0;31m         \u001b[0mself\u001b[0m\u001b[0;34m.\u001b[0m\u001b[0mresolve\u001b[0m\u001b[0;34m(\u001b[0m\u001b[0;34m)\u001b[0m\u001b[0;34m\u001b[0m\u001b[0;34m\u001b[0m\u001b[0m\n\u001b[0m\u001b[1;32m    874\u001b[0m         \u001b[0;32mreturn\u001b[0m \u001b[0mself\u001b[0m\u001b[0;34m.\u001b[0m\u001b[0m_record\u001b[0m\u001b[0;34m\u001b[0m\u001b[0;34m\u001b[0m\u001b[0m\n\u001b[1;32m    875\u001b[0m \u001b[0;34m\u001b[0m\u001b[0m\n",
      "\u001b[0;32m~/.pyenv/versions/miniconda3-4.7.12/lib/python3.7/site-packages/dimod/sampleset.py\u001b[0m in \u001b[0;36mresolve\u001b[0;34m(self)\u001b[0m\n\u001b[1;32m   1206\u001b[0m         \u001b[0;31m# if it doesn't have the attribute then it is already resolved\u001b[0m\u001b[0;34m\u001b[0m\u001b[0;34m\u001b[0m\u001b[0;34m\u001b[0m\u001b[0m\n\u001b[1;32m   1207\u001b[0m         \u001b[0;32mif\u001b[0m \u001b[0mhasattr\u001b[0m\u001b[0;34m(\u001b[0m\u001b[0mself\u001b[0m\u001b[0;34m,\u001b[0m \u001b[0;34m'_future'\u001b[0m\u001b[0;34m)\u001b[0m\u001b[0;34m:\u001b[0m\u001b[0;34m\u001b[0m\u001b[0;34m\u001b[0m\u001b[0m\n\u001b[0;32m-> 1208\u001b[0;31m             \u001b[0msamples\u001b[0m \u001b[0;34m=\u001b[0m \u001b[0mself\u001b[0m\u001b[0;34m.\u001b[0m\u001b[0m_result_hook\u001b[0m\u001b[0;34m(\u001b[0m\u001b[0mself\u001b[0m\u001b[0;34m.\u001b[0m\u001b[0m_future\u001b[0m\u001b[0;34m)\u001b[0m\u001b[0;34m\u001b[0m\u001b[0;34m\u001b[0m\u001b[0m\n\u001b[0m\u001b[1;32m   1209\u001b[0m             \u001b[0mself\u001b[0m\u001b[0;34m.\u001b[0m\u001b[0m__init__\u001b[0m\u001b[0;34m(\u001b[0m\u001b[0msamples\u001b[0m\u001b[0;34m.\u001b[0m\u001b[0mrecord\u001b[0m\u001b[0;34m,\u001b[0m \u001b[0msamples\u001b[0m\u001b[0;34m.\u001b[0m\u001b[0mvariables\u001b[0m\u001b[0;34m,\u001b[0m \u001b[0msamples\u001b[0m\u001b[0;34m.\u001b[0m\u001b[0minfo\u001b[0m\u001b[0;34m,\u001b[0m \u001b[0msamples\u001b[0m\u001b[0;34m.\u001b[0m\u001b[0mvartype\u001b[0m\u001b[0;34m)\u001b[0m\u001b[0;34m\u001b[0m\u001b[0;34m\u001b[0m\u001b[0m\n\u001b[1;32m   1210\u001b[0m             \u001b[0;32mdel\u001b[0m \u001b[0mself\u001b[0m\u001b[0;34m.\u001b[0m\u001b[0m_future\u001b[0m\u001b[0;34m\u001b[0m\u001b[0;34m\u001b[0m\u001b[0m\n",
      "\u001b[0;32m~/.pyenv/versions/miniconda3-4.7.12/lib/python3.7/site-packages/dwave/cloud/computation.py\u001b[0m in \u001b[0;36m<lambda>\u001b[0;34m(f)\u001b[0m\n\u001b[1;32m    820\u001b[0m \u001b[0;34m\u001b[0m\u001b[0m\n\u001b[1;32m    821\u001b[0m         self._sampleset = sampleset = dimod.SampleSet.from_future(\n\u001b[0;32m--> 822\u001b[0;31m             self, lambda f: f.wait_sampleset())\n\u001b[0m\u001b[1;32m    823\u001b[0m \u001b[0;34m\u001b[0m\u001b[0m\n\u001b[1;32m    824\u001b[0m         \u001b[0;32mreturn\u001b[0m \u001b[0msampleset\u001b[0m\u001b[0;34m\u001b[0m\u001b[0;34m\u001b[0m\u001b[0m\n",
      "\u001b[0;32m~/.pyenv/versions/miniconda3-4.7.12/lib/python3.7/site-packages/dwave/cloud/computation.py\u001b[0m in \u001b[0;36mwait_sampleset\u001b[0;34m(self)\u001b[0m\n\u001b[1;32m    770\u001b[0m         \u001b[0;34m\"\"\"Blocking sampleset getter.\"\"\"\u001b[0m\u001b[0;34m\u001b[0m\u001b[0;34m\u001b[0m\u001b[0m\n\u001b[1;32m    771\u001b[0m \u001b[0;34m\u001b[0m\u001b[0m\n\u001b[0;32m--> 772\u001b[0;31m         \u001b[0mresult\u001b[0m \u001b[0;34m=\u001b[0m \u001b[0mself\u001b[0m\u001b[0;34m.\u001b[0m\u001b[0m_load_result\u001b[0m\u001b[0;34m(\u001b[0m\u001b[0;34m)\u001b[0m\u001b[0;34m\u001b[0m\u001b[0;34m\u001b[0m\u001b[0m\n\u001b[0m\u001b[1;32m    773\u001b[0m         \u001b[0;32mif\u001b[0m \u001b[0;34m'sampleset'\u001b[0m \u001b[0;32min\u001b[0m \u001b[0mresult\u001b[0m\u001b[0;34m:\u001b[0m\u001b[0;34m\u001b[0m\u001b[0;34m\u001b[0m\u001b[0m\n\u001b[1;32m    774\u001b[0m             \u001b[0;32mreturn\u001b[0m \u001b[0mresult\u001b[0m\u001b[0;34m[\u001b[0m\u001b[0;34m'sampleset'\u001b[0m\u001b[0;34m]\u001b[0m\u001b[0;34m\u001b[0m\u001b[0;34m\u001b[0m\u001b[0m\n",
      "\u001b[0;32m~/.pyenv/versions/miniconda3-4.7.12/lib/python3.7/site-packages/dwave/cloud/computation.py\u001b[0m in \u001b[0;36m_load_result\u001b[0;34m(self)\u001b[0m\n\u001b[1;32m    885\u001b[0m             \u001b[0;31m# Check for other error conditions\u001b[0m\u001b[0;34m\u001b[0m\u001b[0;34m\u001b[0m\u001b[0;34m\u001b[0m\u001b[0m\n\u001b[1;32m    886\u001b[0m             \u001b[0;32mif\u001b[0m \u001b[0mself\u001b[0m\u001b[0;34m.\u001b[0m\u001b[0m_exception\u001b[0m \u001b[0;32mis\u001b[0m \u001b[0;32mnot\u001b[0m \u001b[0;32mNone\u001b[0m\u001b[0;34m:\u001b[0m\u001b[0;34m\u001b[0m\u001b[0;34m\u001b[0m\u001b[0m\n\u001b[0;32m--> 887\u001b[0;31m                 \u001b[0;32mraise\u001b[0m \u001b[0mself\u001b[0m\u001b[0;34m.\u001b[0m\u001b[0m_exception\u001b[0m\u001b[0;34m\u001b[0m\u001b[0;34m\u001b[0m\u001b[0m\n\u001b[0m\u001b[1;32m    888\u001b[0m \u001b[0;34m\u001b[0m\u001b[0m\n\u001b[1;32m    889\u001b[0m             \u001b[0;31m# If someone else took care of this while we were waiting\u001b[0m\u001b[0;34m\u001b[0m\u001b[0;34m\u001b[0m\u001b[0;34m\u001b[0m\u001b[0m\n",
      "\u001b[0;32m~/.pyenv/versions/miniconda3-4.7.12/lib/python3.7/site-packages/dwave/cloud/client.py\u001b[0m in \u001b[0;36m_handle_problem_status\u001b[0;34m(self, message, future)\u001b[0m\n\u001b[1;32m   1289\u001b[0m                     \u001b[0;32mraise\u001b[0m \u001b[0mSolverOfflineError\u001b[0m\u001b[0;34m(\u001b[0m\u001b[0merrmsg\u001b[0m\u001b[0;34m)\u001b[0m\u001b[0;34m\u001b[0m\u001b[0;34m\u001b[0m\u001b[0m\n\u001b[1;32m   1290\u001b[0m                 \u001b[0;32melse\u001b[0m\u001b[0;34m:\u001b[0m\u001b[0;34m\u001b[0m\u001b[0;34m\u001b[0m\u001b[0m\n\u001b[0;32m-> 1291\u001b[0;31m                     \u001b[0;32mraise\u001b[0m \u001b[0mSolverFailureError\u001b[0m\u001b[0;34m(\u001b[0m\u001b[0merrmsg\u001b[0m\u001b[0;34m)\u001b[0m\u001b[0;34m\u001b[0m\u001b[0;34m\u001b[0m\u001b[0m\n\u001b[0m\u001b[1;32m   1292\u001b[0m \u001b[0;34m\u001b[0m\u001b[0m\n\u001b[1;32m   1293\u001b[0m         \u001b[0;32mexcept\u001b[0m \u001b[0mException\u001b[0m \u001b[0;32mas\u001b[0m \u001b[0mexc\u001b[0m\u001b[0;34m:\u001b[0m\u001b[0;34m\u001b[0m\u001b[0;34m\u001b[0m\u001b[0m\n",
      "\u001b[0;31mSolverFailureError\u001b[0m: Problem not accepted because user kitai_koki_16@stu-cbms.k.u-tokyo.ac.jp has insufficient remaining solver access time in project TOKY"
     ]
    }
   ],
   "source": [
    "############################################################ 本番 ##########################################################################\n",
    "#n=1でのみ通用するコード\n",
    "n, num_reads = 1, 10000\n",
    "chain_strength_dic = {20:15, 25:15, 30:15, 35:20, 40:20}\n",
    "time_dic['QA'] = {}\n",
    "y_dic['total_y_num']['QA'] = {}\n",
    "y_dic['mean_occurrence']['QA'] = {}\n",
    "y_dic['valid_y_num']['QA'] = {}\n",
    "per_time_dic['QA'] = {}\n",
    "p_dic['QA'] = {}\n",
    "\n",
    "for bit in bit_list:\n",
    "    time_dic['QA'][bit] = {}\n",
    "    y_dic['total_y_num']['QA'][bit] = {}\n",
    "    y_dic['mean_occurrence']['QA'][bit] = {}\n",
    "    y_dic['valid_y_num']['QA'][bit] = {}\n",
    "    per_time_dic['QA'][bit] = {}\n",
    "    mean_broken_chain_proportion[bit] = {}\n",
    "    p_dic['QA'][bit] = {}\n",
    "    chain_strength = chain_strength_dic[bit]\n",
    "    \n",
    "    for num in num_list:\n",
    "        path = '../input/ost{}_{}.csv'.format(bit, num)\n",
    "        df = pd.read_csv(path, sep=',')\n",
    "        bqm = aqa.make_Hamiltonian(df)\n",
    "        res = aqa.aws_get_response(bqm, chain_strength, num_reads)\n",
    "        ads = aqa.aws_DSampler(df, bqm, num_reads, chain_strength, res)\n",
    "        valid_y_info_dic = ads.find_valid_y()\n",
    "        \n",
    "        if len(valid_y_info_dic) > 0:\n",
    "            calculation_time = res.info['additionalMetadata']['dwaveMetadata']['timing']['qpuAccessTime']*10**(-6)\n",
    "            occurrence_list = [valid_y_info[0] for valid_y_info in list(valid_y_info_dic.values())]\n",
    "            broken_list = [valid_y_info[1] for valid_y_info in list(valid_y_info_dic.values())]\n",
    "\n",
    "            time_dic['QA'][bit][num] = calculation_time\n",
    "            y_dic['total_y_num']['QA'][bit][num] = sum(occurrence_list)\n",
    "            y_dic['mean_occurrence']['QA'][bit][num] = statistics.mean(occurrence_list)\n",
    "            y_dic['valid_y_num']['QA'][bit][num] = len(valid_y_info_dic)\n",
    "            #per_time_dic['QA'][bit][num] = calculation_time / sum(occurrence_list)\n",
    "            per_time_dic['QA'][bit][num] = calculation_time / len(valid_y_info_dic)\n",
    "            mean_broken_chain_proportion[bit][num] = statistics.mean(broken_list)\n",
    "            p_dic['QA'][bit][num] = ads.p_value(valid_y_info_dic)\n",
    "\n",
    "    print('{} finish'.format(bit))"
   ]
  },
  {
   "cell_type": "code",
   "execution_count": null,
   "metadata": {},
   "outputs": [],
   "source": [
    "time_dic['QA']"
   ]
  },
  {
   "cell_type": "code",
   "execution_count": null,
   "metadata": {},
   "outputs": [],
   "source": [
    "y_dic['total_y_num']['QA']"
   ]
  },
  {
   "cell_type": "code",
   "execution_count": null,
   "metadata": {},
   "outputs": [],
   "source": [
    "y_dic['mean_occurrence']['QA']"
   ]
  },
  {
   "cell_type": "code",
   "execution_count": null,
   "metadata": {},
   "outputs": [],
   "source": [
    "y_dic['valid_y_num']['QA']"
   ]
  },
  {
   "cell_type": "code",
   "execution_count": null,
   "metadata": {},
   "outputs": [],
   "source": [
    "per_time_dic['QA']"
   ]
  },
  {
   "cell_type": "code",
   "execution_count": null,
   "metadata": {},
   "outputs": [],
   "source": [
    "p_dic['QA']"
   ]
  },
  {
   "cell_type": "code",
   "execution_count": null,
   "metadata": {},
   "outputs": [],
   "source": [
    "mean_broken_chain_proportion"
   ]
  },
  {
   "cell_type": "code",
   "execution_count": null,
   "metadata": {},
   "outputs": [],
   "source": []
  },
  {
   "cell_type": "code",
   "execution_count": null,
   "metadata": {},
   "outputs": [],
   "source": []
  },
  {
   "cell_type": "markdown",
   "metadata": {},
   "source": [
    "## Random"
   ]
  },
  {
   "cell_type": "markdown",
   "metadata": {},
   "source": [
    "前回からの変更点\n",
    "- calculation_timeをret.find_valid_y(df, num_reads)の時間とした\n",
    "```python\n",
    "time_0 = time.time()\n",
    "valid_y_dic = ret.find_valid_y(df, num_reads)\n",
    "time_1 = time.time()\n",
    "calculation_time = time_1 - time_0\n",
    "```"
   ]
  },
  {
   "cell_type": "code",
   "execution_count": 17,
   "metadata": {},
   "outputs": [
    {
     "name": "stdout",
     "output_type": "stream",
     "text": [
      "20_0 finish\n",
      "20_1 finish\n",
      "20_2 finish\n",
      "20_3 finish\n",
      "20_4 finish\n",
      "25_0 finish\n",
      "25_1 finish\n",
      "25_2 finish\n",
      "25_3 finish\n",
      "25_4 finish\n",
      "30_0 finish\n",
      "30_1 finish\n",
      "30_2 finish\n",
      "30_3 finish\n",
      "30_4 finish\n",
      "35_0 finish\n",
      "35_1 finish\n",
      "35_2 finish\n",
      "35_3 finish\n",
      "35_4 finish\n",
      "40_0 finish\n",
      "40_1 finish\n",
      "40_2 finish\n",
      "40_3 finish\n",
      "40_4 finish\n"
     ]
    }
   ],
   "source": [
    "num_reads = 10000\n",
    "\n",
    "time_dic['random'] = {}\n",
    "y_dic['total_y_num']['random'] = {}\n",
    "y_dic['mean_occurrence']['random'] = {}\n",
    "y_dic['valid_y_num']['random'] = {}\n",
    "per_time_dic['random'] = {}\n",
    "p_dic['random'] = {}\n",
    "\n",
    "for bit in bit_list:\n",
    "    time_dic['random'][bit] = {}\n",
    "    y_dic['total_y_num']['random'][bit] = {}\n",
    "    y_dic['mean_occurrence']['random'][bit] = {}\n",
    "    y_dic['valid_y_num']['random'][bit] = {}\n",
    "    per_time_dic['random'][bit] = {}\n",
    "    p_dic['random'][bit] = {}\n",
    "    \n",
    "    for num in num_list:\n",
    "        df_path = '../input/ost{}_{}.csv'.format(bit, num)\n",
    "        df = pd.read_csv(df_path, sep=',')\n",
    "        t_list = ret.calc_marginals(df)\n",
    "        \n",
    "        time_0 = time.time()\n",
    "        valid_y_dic = ret.find_valid_y(df, num_reads)\n",
    "        time_1 = time.time()\n",
    "        calculation_time = time_1 - time_0\n",
    "        \n",
    "        if len(valid_y_dic) > 0:\n",
    "            rm = ret.Random_method(df, valid_y_dic, num_reads, t_list)\n",
    "            \n",
    "            mean_occurrence_list = [i for i in list(valid_y_dic.values())]\n",
    "            \n",
    "            time_dic['random'][bit][num] = calculation_time\n",
    "            y_dic['total_y_num']['random'][bit][num] = sum(mean_occurrence_list)\n",
    "            y_dic['mean_occurrence']['random'][bit][num] = statistics.mean(mean_occurrence_list)\n",
    "            y_dic['valid_y_num']['random'][bit][num] = len(valid_y_dic)\n",
    "            per_time_dic['random'][bit][num] = calculation_time / len(valid_y_dic)\n",
    "            p_dic['random'][bit][num] = rm.p_value()\n",
    "        print('{}_{} finish'.format(bit, num))"
   ]
  },
  {
   "cell_type": "code",
   "execution_count": 18,
   "metadata": {},
   "outputs": [
    {
     "data": {
      "text/plain": [
       "{20: {0: 0.18248987197875977,\n",
       "  1: 0.13700580596923828,\n",
       "  2: 0.04710507392883301,\n",
       "  3: 0.16414785385131836,\n",
       "  4: 0.1400160789489746},\n",
       " 25: {0: 0.06069207191467285,\n",
       "  1: 0.08803606033325195,\n",
       "  2: 0.12667107582092285,\n",
       "  3: 0.14335298538208008,\n",
       "  4: 0.06554007530212402},\n",
       " 30: {0: 0.05747389793395996,\n",
       "  1: 0.06588578224182129,\n",
       "  2: 0.12096881866455078,\n",
       "  4: 0.059448957443237305},\n",
       " 35: {1: 0.08326125144958496, 2: 0.12446022033691406, 4: 0.08044815063476562},\n",
       " 40: {0: 0.08915591239929199, 2: 0.0691230297088623}}"
      ]
     },
     "execution_count": 18,
     "metadata": {},
     "output_type": "execute_result"
    }
   ],
   "source": [
    "time_dic['random']"
   ]
  },
  {
   "cell_type": "code",
   "execution_count": 19,
   "metadata": {},
   "outputs": [
    {
     "data": {
      "text/plain": [
       "{20: {0: 167, 1: 21, 2: 18, 3: 23, 4: 2},\n",
       " 25: {0: 3, 1: 17, 2: 6, 3: 1, 4: 12},\n",
       " 30: {0: 1, 1: 1, 2: 9, 4: 7},\n",
       " 35: {1: 3, 2: 3, 4: 2},\n",
       " 40: {0: 1, 2: 1}}"
      ]
     },
     "execution_count": 19,
     "metadata": {},
     "output_type": "execute_result"
    }
   ],
   "source": [
    "y_dic['total_y_num']['random']"
   ]
  },
  {
   "cell_type": "code",
   "execution_count": 20,
   "metadata": {},
   "outputs": [
    {
     "data": {
      "text/plain": [
       "{20: {0: 1.0060240963855422, 1: 1, 2: 1, 3: 1, 4: 1},\n",
       " 25: {0: 1, 1: 1, 2: 1, 3: 1, 4: 1},\n",
       " 30: {0: 1, 1: 1, 2: 1, 4: 1},\n",
       " 35: {1: 1, 2: 1, 4: 1},\n",
       " 40: {0: 1, 2: 1}}"
      ]
     },
     "execution_count": 20,
     "metadata": {},
     "output_type": "execute_result"
    }
   ],
   "source": [
    "y_dic['mean_occurrence']['random']"
   ]
  },
  {
   "cell_type": "code",
   "execution_count": 21,
   "metadata": {},
   "outputs": [
    {
     "data": {
      "text/plain": [
       "{20: {0: 166, 1: 21, 2: 18, 3: 23, 4: 2},\n",
       " 25: {0: 3, 1: 17, 2: 6, 3: 1, 4: 12},\n",
       " 30: {0: 1, 1: 1, 2: 9, 4: 7},\n",
       " 35: {1: 3, 2: 3, 4: 2},\n",
       " 40: {0: 1, 2: 1}}"
      ]
     },
     "execution_count": 21,
     "metadata": {},
     "output_type": "execute_result"
    }
   ],
   "source": [
    "y_dic['valid_y_num']['random']"
   ]
  },
  {
   "cell_type": "code",
   "execution_count": 22,
   "metadata": {},
   "outputs": [
    {
     "data": {
      "text/plain": [
       "{20: {0: 0.0010993365781852998,\n",
       "  1: 0.006524085998535156,\n",
       "  2: 0.0026169485516018337,\n",
       "  3: 0.007136863210926886,\n",
       "  4: 0.0700080394744873},\n",
       " 25: {0: 0.020230690638224285,\n",
       "  1: 0.005178591784308939,\n",
       "  2: 0.02111184597015381,\n",
       "  3: 0.14335298538208008,\n",
       "  4: 0.005461672941843669},\n",
       " 30: {0: 0.05747389793395996,\n",
       "  1: 0.06588578224182129,\n",
       "  2: 0.013440979851616753,\n",
       "  4: 0.008492708206176758},\n",
       " 35: {1: 0.027753750483194988, 2: 0.04148674011230469, 4: 0.04022407531738281},\n",
       " 40: {0: 0.08915591239929199, 2: 0.0691230297088623}}"
      ]
     },
     "execution_count": 22,
     "metadata": {},
     "output_type": "execute_result"
    }
   ],
   "source": [
    "per_time_dic['random']"
   ]
  },
  {
   "cell_type": "code",
   "execution_count": 23,
   "metadata": {},
   "outputs": [
    {
     "data": {
      "text/plain": [
       "{20: {0: 0.20481927710843373,\n",
       "  1: 0.38095238095238093,\n",
       "  2: 0.2777777777777778,\n",
       "  3: 0.2608695652173913,\n",
       "  4: 0.0},\n",
       " 25: {0: 0.0,\n",
       "  1: 0.058823529411764705,\n",
       "  2: 0.16666666666666666,\n",
       "  3: 0.0,\n",
       "  4: 0.08333333333333333},\n",
       " 30: {0: 0.0, 1: 1.0, 2: 0.1111111111111111, 4: 0.0},\n",
       " 35: {1: 0.0, 2: 0.0, 4: 0.0},\n",
       " 40: {0: 0.0, 2: 0.0}}"
      ]
     },
     "execution_count": 23,
     "metadata": {},
     "output_type": "execute_result"
    }
   ],
   "source": [
    "p_dic['random']"
   ]
  },
  {
   "cell_type": "code",
   "execution_count": null,
   "metadata": {},
   "outputs": [],
   "source": []
  },
  {
   "cell_type": "markdown",
   "metadata": {},
   "source": [
    "## SA\n",
    "- occurrence_list = list(valid_y_info_dic.values())箇所を変更"
   ]
  },
  {
   "cell_type": "code",
   "execution_count": 24,
   "metadata": {},
   "outputs": [],
   "source": [
    "num_reads = 10000"
   ]
  },
  {
   "cell_type": "code",
   "execution_count": 25,
   "metadata": {},
   "outputs": [],
   "source": [
    "time_dic['SA'] = {}\n",
    "y_dic['total_y_num']['SA'] = {}\n",
    "y_dic['mean_occurrence']['SA'] = {}\n",
    "y_dic['valid_y_num']['SA'] = {}\n",
    "per_time_dic['SA'] = {}\n",
    "p_dic['SA'] = {}"
   ]
  },
  {
   "cell_type": "code",
   "execution_count": 26,
   "metadata": {},
   "outputs": [
    {
     "name": "stdout",
     "output_type": "stream",
     "text": [
      "20_0 finish\n",
      "20_1 finish\n",
      "20_2 finish\n",
      "20_3 finish\n",
      "20_4 finish\n",
      "25_0 finish\n",
      "25_1 finish\n",
      "25_2 finish\n",
      "25_3 finish\n",
      "25_4 finish\n",
      "30_0 finish\n",
      "30_1 finish\n",
      "30_2 finish\n",
      "30_3 finish\n",
      "30_4 finish\n",
      "35_0 finish\n",
      "35_1 finish\n",
      "35_2 finish\n",
      "35_3 finish\n",
      "35_4 finish\n",
      "40_0 finish\n",
      "40_1 finish\n",
      "40_2 finish\n",
      "40_3 finish\n",
      "40_4 finish\n"
     ]
    }
   ],
   "source": [
    "for bit in bit_list:\n",
    "    time_dic['SA'][bit] = {}\n",
    "    y_dic['total_y_num']['SA'][bit] = {}\n",
    "    y_dic['mean_occurrence']['SA'][bit] = {}\n",
    "    y_dic['valid_y_num']['SA'][bit] = {}\n",
    "    per_time_dic['SA'][bit] = {}\n",
    "    p_dic['SA'][bit] = {}\n",
    "    \n",
    "    for num in num_list:\n",
    "        \n",
    "        path = '../input/ost{}_{}.csv'.format(bit, num)\n",
    "        df = pd.read_csv(path, sep=',')\n",
    "        \n",
    "        res, elapsed_time = net.make_res_data(df, num_reads)\n",
    "        valid_y_info_dic = net.find_valid_y(res)\n",
    "\n",
    "        occurrence_list = list(valid_y_info_dic.values())\n",
    "        \n",
    "        if len(valid_y_info_dic) > 0:\n",
    "            rvd = net.SA_res_valid_dic(df, res, valid_y_info_dic, num_reads)\n",
    "            \n",
    "            time_dic['SA'][bit][num] = elapsed_time\n",
    "            y_dic['total_y_num']['SA'][bit][num] = sum(occurrence_list)\n",
    "            y_dic['mean_occurrence']['SA'][bit][num] = statistics.mean(occurrence_list)\n",
    "            y_dic['valid_y_num']['SA'][bit][num] = len(valid_y_info_dic)\n",
    "            per_time_dic['SA'][bit][num] = elapsed_time / len(valid_y_info_dic)\n",
    "            p_dic['SA'][bit][num] = rvd.calc_p_value()\n",
    "            \n",
    "        print('{}_{} finish'.format(bit, num))"
   ]
  },
  {
   "cell_type": "code",
   "execution_count": 27,
   "metadata": {},
   "outputs": [
    {
     "data": {
      "text/plain": [
       "{20: {0: 3.898098945617676,\n",
       "  1: 3.915046215057373,\n",
       "  2: 3.8129260540008545,\n",
       "  3: 3.724759817123413,\n",
       "  4: 4.148306846618652},\n",
       " 25: {0: 5.367434978485107,\n",
       "  1: 5.3866660594940186,\n",
       "  2: 5.084359169006348,\n",
       "  3: 5.34026575088501,\n",
       "  4: 5.0264599323272705},\n",
       " 30: {0: 6.630839109420776,\n",
       "  1: 6.8572258949279785,\n",
       "  2: 7.260678291320801,\n",
       "  3: 6.876424074172974,\n",
       "  4: 6.8197081089019775},\n",
       " 35: {0: 8.292114973068237,\n",
       "  1: 8.319061040878296,\n",
       "  2: 8.449536085128784,\n",
       "  3: 8.385251760482788,\n",
       "  4: 8.262472867965698},\n",
       " 40: {0: 10.168527126312256,\n",
       "  1: 10.351256132125854,\n",
       "  2: 11.018885850906372,\n",
       "  3: 10.484769105911255,\n",
       "  4: 10.583085060119629}}"
      ]
     },
     "execution_count": 27,
     "metadata": {},
     "output_type": "execute_result"
    }
   ],
   "source": [
    "time_dic['SA']"
   ]
  },
  {
   "cell_type": "code",
   "execution_count": 28,
   "metadata": {},
   "outputs": [
    {
     "data": {
      "text/plain": [
       "{20: {0: 9765, 1: 9866, 2: 9855, 3: 9615, 4: 9615},\n",
       " 25: {0: 9831, 1: 9794, 2: 9402, 3: 8549, 4: 9842},\n",
       " 30: {0: 9781, 1: 9254, 2: 9937, 3: 9220, 4: 9918},\n",
       " 35: {0: 9605, 1: 9759, 2: 9810, 3: 9537, 4: 9484},\n",
       " 40: {0: 9702, 1: 9766, 2: 9703, 3: 9562, 4: 9561}}"
      ]
     },
     "execution_count": 28,
     "metadata": {},
     "output_type": "execute_result"
    }
   ],
   "source": [
    "y_dic['total_y_num']['SA']"
   ]
  },
  {
   "cell_type": "code",
   "execution_count": 29,
   "metadata": {},
   "outputs": [
    {
     "data": {
      "text/plain": [
       "{20: {0: 1, 1: 7, 2: 6, 3: 4, 4: 36},\n",
       " 25: {0: 1, 1: 1, 2: 1, 3: 6, 4: 1},\n",
       " 30: {0: 1, 1: 1, 2: 1, 3: 1, 4: 1},\n",
       " 35: {0: 1, 1: 1, 2: 1, 3: 1, 4: 1},\n",
       " 40: {0: 1, 1: 1, 2: 1, 3: 1, 4: 1}}"
      ]
     },
     "execution_count": 29,
     "metadata": {},
     "output_type": "execute_result"
    }
   ],
   "source": [
    "y_dic['mean_occurrence']['SA']"
   ]
  },
  {
   "cell_type": "code",
   "execution_count": 30,
   "metadata": {},
   "outputs": [
    {
     "data": {
      "text/plain": [
       "{20: {0: 7408, 1: 1363, 2: 1634, 3: 2360, 4: 260},\n",
       " 25: {0: 6795, 1: 9297, 2: 6995, 3: 1368, 4: 7849},\n",
       " 30: {0: 8968, 1: 8503, 2: 9812, 3: 8872, 4: 9872},\n",
       " 35: {0: 9552, 1: 9756, 2: 9806, 3: 9521, 4: 9478},\n",
       " 40: {0: 9701, 1: 9763, 2: 9703, 3: 9561, 4: 9561}}"
      ]
     },
     "execution_count": 30,
     "metadata": {},
     "output_type": "execute_result"
    }
   ],
   "source": [
    "y_dic['valid_y_num']['SA']"
   ]
  },
  {
   "cell_type": "code",
   "execution_count": 31,
   "metadata": {},
   "outputs": [
    {
     "data": {
      "text/plain": [
       "{20: {0: 0.0005262012615574617,\n",
       "  1: 0.0028723743323971923,\n",
       "  2: 0.002333492077111906,\n",
       "  3: 0.0015782880581031412,\n",
       "  4: 0.015955026333148662},\n",
       " 25: {0: 0.0007899094891074478,\n",
       "  1: 0.0005793983069263223,\n",
       "  2: 0.0007268562071488703,\n",
       "  3: 0.003903703034272668,\n",
       "  4: 0.0006403949461494802},\n",
       " 30: {0: 0.0007393888391414782,\n",
       "  1: 0.0008064478295810865,\n",
       "  2: 0.0007399794426539748,\n",
       "  3: 0.0007750703419942486,\n",
       "  4: 0.0006908132201075747},\n",
       " 35: {0: 0.0008681024888053012,\n",
       "  1: 0.0008527122838128634,\n",
       "  2: 0.0008616700066417279,\n",
       "  3: 0.0008807112446678698,\n",
       "  4: 0.0008717527820179045},\n",
       " 40: {0: 0.0010481937043925632,\n",
       "  1: 0.0010602536241038467,\n",
       "  2: 0.0011356163919309875,\n",
       "  3: 0.0010966184610303581,\n",
       "  4: 0.0011069014810291423}}"
      ]
     },
     "execution_count": 31,
     "metadata": {},
     "output_type": "execute_result"
    }
   ],
   "source": [
    "per_time_dic['SA']"
   ]
  },
  {
   "cell_type": "code",
   "execution_count": 32,
   "metadata": {},
   "outputs": [
    {
     "data": {
      "text/plain": [
       "{20: {0: 0.23663606911447085,\n",
       "  1: 0.21496698459280997,\n",
       "  2: 0.3329253365973072,\n",
       "  3: 0.2639830508474576,\n",
       "  4: 0.4153846153846154},\n",
       " 25: {0: 0.08373804267844003,\n",
       "  1: 0.06356889319135205,\n",
       "  2: 0.1472480343102216,\n",
       "  3: 0.15716374269005848,\n",
       "  4: 0.25595617276086124},\n",
       " 30: {0: 0.04471454058876004,\n",
       "  1: 0.3020110549217923,\n",
       "  2: 0.2109661638809621,\n",
       "  3: 0.10651487826871055,\n",
       "  4: 0.06432333873581848},\n",
       " 35: {0: 0.058103015075376886,\n",
       "  1: 0.05125051250512505,\n",
       "  2: 0.012747297572914542,\n",
       "  3: 0.07614746350173301,\n",
       "  4: 0.14971512977421397},\n",
       " 40: {0: 0.0380373157406453,\n",
       "  1: 0.06043224418723753,\n",
       "  2: 0.0296815417911986,\n",
       "  3: 0.06432381550047066,\n",
       "  4: 0.028971864867691665}}"
      ]
     },
     "execution_count": 32,
     "metadata": {},
     "output_type": "execute_result"
    }
   ],
   "source": [
    "p_dic['SA']"
   ]
  },
  {
   "cell_type": "code",
   "execution_count": null,
   "metadata": {},
   "outputs": [],
   "source": []
  },
  {
   "cell_type": "markdown",
   "metadata": {},
   "source": [
    "## exhaustive enumeration"
   ]
  },
  {
   "cell_type": "code",
   "execution_count": 34,
   "metadata": {},
   "outputs": [],
   "source": [
    "enu_time_dic = {}\n",
    "enu_time_dic[20] = [4.84, 0.02, 0.23, 0.38, 0.65]\n",
    "enu_time_dic[25] = [5.47, 2894.31, 4.19, 0.23, 15.37]\n",
    "enu_time_dic[30] = [120017.00, 105.15, 12792.04, 725.79, 140234.05]"
   ]
  },
  {
   "cell_type": "code",
   "execution_count": 35,
   "metadata": {},
   "outputs": [],
   "source": [
    "time_dic['enumeration'] = {}\n",
    "y_dic['valid_y_num']['enumeration'] = {}\n",
    "per_time_dic['enumeration'] = {}\n",
    "p_dic['enumeration'] = {}"
   ]
  },
  {
   "cell_type": "code",
   "execution_count": 36,
   "metadata": {},
   "outputs": [
    {
     "name": "stdout",
     "output_type": "stream",
     "text": [
      "20_0 finish\n",
      "20_1 finish\n",
      "20_2 finish\n",
      "20_3 finish\n",
      "20_4 finish\n",
      "25_0 finish\n",
      "25_1 finish\n",
      "25_2 finish\n",
      "25_3 finish\n",
      "25_4 finish\n",
      "30_0 finish\n",
      "30_1 finish\n",
      "30_2 finish\n",
      "30_3 finish\n",
      "30_4 finish\n"
     ]
    }
   ],
   "source": [
    "for bit in [20, 25, 30]:\n",
    "    time_dic['enumeration'][bit] = {}\n",
    "    y_dic['valid_y_num']['enumeration'][bit] = {}\n",
    "    per_time_dic['enumeration'][bit] = {}\n",
    "    p_dic['enumeration'][bit] = {}\n",
    "    \n",
    "    for num in [0, 1, 2, 3, 4]:\n",
    "        \n",
    "        path = '../input/ost{}_{}.csv'.format(bit, num)\n",
    "        df = pd.read_csv(path, sep=',')\n",
    "        \n",
    "        zinhom_path = '../4ti2/{}bit/{}/{}bit_{}.zinhom'.format(bit, num, bit, num)\n",
    "        zinhom_num, zinhom_list = zt.make_result_list(zinhom_path)\n",
    "        \n",
    "        if zinhom_num > 0:\n",
    "            zrs = zt.zsolve_result_summerize(df, zinhom_list)\n",
    "            \n",
    "            time_dic['enumeration'][bit][num] = enu_time_dic[bit][num]\n",
    "            y_dic['valid_y_num']['enumeration'][bit][num] = zinhom_num\n",
    "            per_time_dic['enumeration'][bit][num] = enu_time_dic[bit][num] / zinhom_num\n",
    "            p_dic['enumeration'][bit][num] = zrs.calucurate_p()\n",
    "\n",
    "        print('{}_{} finish'.format(bit, num))"
   ]
  },
  {
   "cell_type": "code",
   "execution_count": 37,
   "metadata": {},
   "outputs": [
    {
     "data": {
      "text/plain": [
       "{20: {0: 4.84, 1: 0.02, 2: 0.23, 3: 0.38, 4: 0.65},\n",
       " 25: {0: 5.47, 1: 2894.31, 2: 4.19, 3: 0.23, 4: 15.37},\n",
       " 30: {0: 120017.0, 1: 105.15, 2: 12792.04, 3: 725.79, 4: 140234.05}}"
      ]
     },
     "execution_count": 37,
     "metadata": {},
     "output_type": "execute_result"
    }
   ],
   "source": [
    "time_dic['enumeration']"
   ]
  },
  {
   "cell_type": "code",
   "execution_count": 38,
   "metadata": {},
   "outputs": [
    {
     "data": {
      "text/plain": [
       "{20: {0: 16464, 1: 1365, 2: 1638, 3: 2397, 4: 260},\n",
       " 25: {0: 12600, 1: 89796, 2: 14700, 3: 1372, 4: 21000},\n",
       " 30: {0: 58296, 1: 57159, 2: 429660, 3: 127440, 4: 839916}}"
      ]
     },
     "execution_count": 38,
     "metadata": {},
     "output_type": "execute_result"
    }
   ],
   "source": [
    "y_dic['valid_y_num']['enumeration']"
   ]
  },
  {
   "cell_type": "code",
   "execution_count": 39,
   "metadata": {},
   "outputs": [
    {
     "data": {
      "text/plain": [
       "{20: {0: 0.00029397473275024293,\n",
       "  1: 1.4652014652014653e-05,\n",
       "  2: 0.00014041514041514042,\n",
       "  3: 0.00015853149770546517,\n",
       "  4: 0.0025},\n",
       " 25: {0: 0.0004341269841269841,\n",
       "  1: 0.03223205933449151,\n",
       "  2: 0.0002850340136054422,\n",
       "  3: 0.00016763848396501459,\n",
       "  4: 0.0007319047619047618},\n",
       " 30: {0: 2.058751886921916,\n",
       "  1: 0.0018396053114995016,\n",
       "  2: 0.029772471256342227,\n",
       "  3: 0.00569515065913371,\n",
       "  4: 0.16696199381842944}}"
      ]
     },
     "execution_count": 39,
     "metadata": {},
     "output_type": "execute_result"
    }
   ],
   "source": [
    "per_time_dic['enumeration']"
   ]
  },
  {
   "cell_type": "code",
   "execution_count": 40,
   "metadata": {},
   "outputs": [
    {
     "data": {
      "text/plain": [
       "{20: {0: 0.22959183673469388,\n",
       "  1: 0.2153846153846154,\n",
       "  2: 0.3333333333333333,\n",
       "  3: 0.2640801001251564,\n",
       "  4: 0.4153846153846154},\n",
       " 25: {0: 0.08333333333333333,\n",
       "  1: 0.0608044901777362,\n",
       "  2: 0.15306122448979592,\n",
       "  3: 0.15743440233236153,\n",
       "  4: 0.248},\n",
       " 30: {0: 0.04459997255386304,\n",
       "  1: 0.31648559282002836,\n",
       "  2: 0.20353302611367127,\n",
       "  3: 0.11007532956685499,\n",
       "  4: 0.0675067506750675}}"
      ]
     },
     "execution_count": 40,
     "metadata": {},
     "output_type": "execute_result"
    }
   ],
   "source": [
    "p_dic['enumeration']"
   ]
  },
  {
   "cell_type": "code",
   "execution_count": null,
   "metadata": {},
   "outputs": [],
   "source": []
  },
  {
   "cell_type": "markdown",
   "metadata": {},
   "source": [
    "## mean, std dicについて\n",
    " - enumeration入(all_mean_time, all_std_time)と、なしを作る\n",
    "   - 入はせっかくなので4サンプルずつ20, 25, 30bitまで\n",
    "   - なしは5サンプルずつ20-40bitまで\n",
    " - 種類\n",
    "   - time\n",
    "   - per_time\n",
    "   - valid_y_num\n",
    "   - p_value//\n",
    "   \n",
    "   - total_y_num\n",
    "   - mean_occurrence"
   ]
  },
  {
   "cell_type": "code",
   "execution_count": null,
   "metadata": {},
   "outputs": [],
   "source": [
    "method_list_all = ['enumeration', 'random', 'SA', 'QA']\n",
    "method_list_35 = ['random', 'SA', 'QA']\n",
    "method_list_40 = ['SA', 'QA']\n",
    "\n",
    "bit_list_30 = [20, 25, 30]\n",
    "bit_list_35 = [20, 25, 30, 35]\n",
    "bit_list_40 = [20, 25, 30, 35, 40]\n",
    "#bit_list_all = [20, 25, 30, 35, 40]"
   ]
  },
  {
   "cell_type": "code",
   "execution_count": null,
   "metadata": {},
   "outputs": [],
   "source": [
    "import statistics\n",
    "import numpy as np"
   ]
  },
  {
   "cell_type": "markdown",
   "metadata": {},
   "source": [
    "### time"
   ]
  },
  {
   "cell_type": "code",
   "execution_count": null,
   "metadata": {},
   "outputs": [],
   "source": [
    "mean_time_30 = {}\n",
    "std_time_30 = {}\n",
    "for method in method_list_all:\n",
    "    mean_time_list = []\n",
    "    std_time_list = []\n",
    "    for bit in bit_list_30:\n",
    "        time_list = list(time_dic[method][bit].values())[:4]\n",
    "        mean_time_list.append(statistics.mean(time_list))\n",
    "        std_time_list.append(statistics.pstdev(time_list))\n",
    "\n",
    "    mean_time_30[method] = np.array(mean_time_list)\n",
    "    std_time_30[method] = np.array(std_time_list)"
   ]
  },
  {
   "cell_type": "code",
   "execution_count": null,
   "metadata": {},
   "outputs": [],
   "source": [
    "mean_time_30"
   ]
  },
  {
   "cell_type": "code",
   "execution_count": null,
   "metadata": {},
   "outputs": [],
   "source": [
    "std_time_30"
   ]
  },
  {
   "cell_type": "code",
   "execution_count": null,
   "metadata": {},
   "outputs": [],
   "source": [
    "mean_time_35 = {}\n",
    "std_time_35 = {}\n",
    "for method in method_list_35:\n",
    "    mean_time_list = []\n",
    "    std_time_list = []\n",
    "    for bit in bit_list_35:\n",
    "        time_list = list(time_dic[method][bit].values())\n",
    "        mean_time_list.append(statistics.mean(time_list))\n",
    "        std_time_list.append(statistics.pstdev(time_list))\n",
    "\n",
    "    mean_time_35[method] = np.array(mean_time_list)\n",
    "    std_time_35[method] = np.array(std_time_list)"
   ]
  },
  {
   "cell_type": "code",
   "execution_count": null,
   "metadata": {},
   "outputs": [],
   "source": [
    "mean_time_35"
   ]
  },
  {
   "cell_type": "code",
   "execution_count": null,
   "metadata": {},
   "outputs": [],
   "source": [
    "std_time_35"
   ]
  },
  {
   "cell_type": "code",
   "execution_count": null,
   "metadata": {},
   "outputs": [],
   "source": [
    "mean_time_40 = {}\n",
    "std_time_40 = {}\n",
    "for method in method_list_40:\n",
    "    mean_time_list = []\n",
    "    std_time_list = []\n",
    "    for bit in bit_list_40:\n",
    "        time_list = list(time_dic[method][bit].values())\n",
    "        mean_time_list.append(statistics.mean(time_list))\n",
    "        std_time_list.append(statistics.pstdev(time_list))\n",
    "\n",
    "    mean_time_40[method] = np.array(mean_time_list)\n",
    "    std_time_40[method] = np.array(std_time_list)"
   ]
  },
  {
   "cell_type": "code",
   "execution_count": null,
   "metadata": {},
   "outputs": [],
   "source": [
    "mean_time_40"
   ]
  },
  {
   "cell_type": "code",
   "execution_count": null,
   "metadata": {},
   "outputs": [],
   "source": [
    "std_time_40"
   ]
  },
  {
   "cell_type": "markdown",
   "metadata": {},
   "source": [
    "### per_time"
   ]
  },
  {
   "cell_type": "code",
   "execution_count": null,
   "metadata": {},
   "outputs": [],
   "source": [
    "mean_per_time_30 = {}\n",
    "std_per_time_30 = {}\n",
    "\n",
    "for method in method_list_all:\n",
    "    mean_time_list = []\n",
    "    std_time_list = []\n",
    "    for bit in bit_list_30:\n",
    "        time_list = list(per_time_dic[method][bit].values())[:4]\n",
    "        mean_time_list.append(statistics.mean(time_list))\n",
    "        std_time_list.append(statistics.pstdev(time_list))\n",
    "\n",
    "    mean_per_time_30[method] = np.array(mean_time_list)\n",
    "    std_per_time_30[method] = np.array(std_time_list)"
   ]
  },
  {
   "cell_type": "code",
   "execution_count": null,
   "metadata": {},
   "outputs": [],
   "source": [
    "mean_per_time_30"
   ]
  },
  {
   "cell_type": "code",
   "execution_count": null,
   "metadata": {},
   "outputs": [],
   "source": [
    "std_per_time_30"
   ]
  },
  {
   "cell_type": "code",
   "execution_count": null,
   "metadata": {},
   "outputs": [],
   "source": [
    "mean_per_time_35 = {}\n",
    "std_per_time_35 = {}\n",
    "\n",
    "for method in method_list_35:\n",
    "    mean_time_list = []\n",
    "    std_time_list = []\n",
    "    for bit in bit_list_35:\n",
    "        time_list = list(per_time_dic[method][bit].values())\n",
    "        mean_time_list.append(statistics.mean(time_list))\n",
    "        std_time_list.append(statistics.pstdev(time_list))\n",
    "\n",
    "    mean_per_time_35[method] = np.array(mean_time_list)\n",
    "    std_per_time_35[method] = np.array(std_time_list)"
   ]
  },
  {
   "cell_type": "code",
   "execution_count": null,
   "metadata": {},
   "outputs": [],
   "source": [
    "mean_per_time_35"
   ]
  },
  {
   "cell_type": "code",
   "execution_count": null,
   "metadata": {},
   "outputs": [],
   "source": [
    "std_per_time_35"
   ]
  },
  {
   "cell_type": "code",
   "execution_count": null,
   "metadata": {},
   "outputs": [],
   "source": [
    "mean_per_time_40 = {}\n",
    "std_per_time_40 = {}\n",
    "\n",
    "for method in method_list_40:\n",
    "    mean_time_list = []\n",
    "    std_time_list = []\n",
    "    for bit in bit_list_40:\n",
    "        time_list = list(per_time_dic[method][bit].values())\n",
    "        mean_time_list.append(statistics.mean(time_list))\n",
    "        std_time_list.append(statistics.pstdev(time_list))\n",
    "\n",
    "    mean_per_time_40[method] = np.array(mean_time_list)\n",
    "    std_per_time_40[method] = np.array(std_time_list)"
   ]
  },
  {
   "cell_type": "code",
   "execution_count": null,
   "metadata": {},
   "outputs": [],
   "source": [
    "mean_per_time_40"
   ]
  },
  {
   "cell_type": "code",
   "execution_count": null,
   "metadata": {},
   "outputs": [],
   "source": [
    "std_per_time_40"
   ]
  },
  {
   "cell_type": "markdown",
   "metadata": {},
   "source": [
    "### valid_y_num"
   ]
  },
  {
   "cell_type": "code",
   "execution_count": null,
   "metadata": {},
   "outputs": [],
   "source": [
    "mean_valid_y_num_30 = {}\n",
    "std_valid_y_num_30 = {}\n",
    "\n",
    "for method in method_list_all:\n",
    "    mean_num_list = []\n",
    "    std_num_list = []\n",
    "    for bit in bit_list_30:\n",
    "        num_list = list(y_dic['valid_y_num'][method][bit].values())[:4]\n",
    "        mean_num_list.append(statistics.mean(num_list))\n",
    "        std_num_list.append(statistics.pstdev(num_list))\n",
    "\n",
    "    mean_valid_y_num_30[method] = np.array(mean_num_list)\n",
    "    std_valid_y_num_30[method] = np.array(std_num_list)"
   ]
  },
  {
   "cell_type": "code",
   "execution_count": null,
   "metadata": {},
   "outputs": [],
   "source": [
    "mean_valid_y_num_30"
   ]
  },
  {
   "cell_type": "code",
   "execution_count": null,
   "metadata": {},
   "outputs": [],
   "source": [
    "std_valid_y_num_30"
   ]
  },
  {
   "cell_type": "code",
   "execution_count": null,
   "metadata": {},
   "outputs": [],
   "source": [
    "mean_valid_y_num_35 = {}\n",
    "std_valid_y_num_35 = {}\n",
    "\n",
    "for method in method_list_35:\n",
    "    mean_num_list = []\n",
    "    std_num_list = []\n",
    "    for bit in bit_list_35:\n",
    "        num_list = list(y_dic['valid_y_num'][method][bit].values())\n",
    "        mean_num_list.append(statistics.mean(num_list))\n",
    "        std_num_list.append(statistics.pstdev(num_list))\n",
    "\n",
    "    mean_valid_y_num_35[method] = np.array(mean_num_list)\n",
    "    std_valid_y_num_35[method] = np.array(std_num_list)"
   ]
  },
  {
   "cell_type": "code",
   "execution_count": null,
   "metadata": {},
   "outputs": [],
   "source": [
    "mean_valid_y_num_35"
   ]
  },
  {
   "cell_type": "code",
   "execution_count": null,
   "metadata": {},
   "outputs": [],
   "source": [
    "std_valid_y_num_35"
   ]
  },
  {
   "cell_type": "code",
   "execution_count": null,
   "metadata": {},
   "outputs": [],
   "source": [
    "mean_valid_y_num_40 = {}\n",
    "std_valid_y_num_40 = {}\n",
    "\n",
    "for method in method_list_40:\n",
    "    mean_num_list = []\n",
    "    std_num_list = []\n",
    "    for bit in bit_list_40:\n",
    "        num_list = list(y_dic['valid_y_num'][method][bit].values())\n",
    "        mean_num_list.append(statistics.mean(num_list))\n",
    "        std_num_list.append(statistics.pstdev(num_list))\n",
    "\n",
    "    mean_valid_y_num_40[method] = np.array(mean_num_list)\n",
    "    std_valid_y_num_40[method] = np.array(std_num_list)"
   ]
  },
  {
   "cell_type": "code",
   "execution_count": null,
   "metadata": {},
   "outputs": [],
   "source": [
    "mean_valid_y_num_40"
   ]
  },
  {
   "cell_type": "code",
   "execution_count": null,
   "metadata": {},
   "outputs": [],
   "source": [
    "std_valid_y_num_40"
   ]
  },
  {
   "cell_type": "markdown",
   "metadata": {},
   "source": [
    "### p_value"
   ]
  },
  {
   "cell_type": "code",
   "execution_count": null,
   "metadata": {},
   "outputs": [],
   "source": [
    "mean_p_30 = {}\n",
    "std_p_30 = {}\n",
    "\n",
    "for method in method_list_all:\n",
    "    mean_p_list = []\n",
    "    std_p_list = []\n",
    "    for bit in bit_list_30:\n",
    "        p_list = list(p_dic[method][bit].values())[:4]\n",
    "        mean_p_list.append(statistics.mean(p_list))\n",
    "        std_p_list.append(statistics.pstdev(p_list))\n",
    "\n",
    "    mean_p_30[method] = np.array(mean_p_list)\n",
    "    std_p_30[method] = np.array(std_p_list)"
   ]
  },
  {
   "cell_type": "code",
   "execution_count": null,
   "metadata": {},
   "outputs": [],
   "source": [
    "mean_p_30"
   ]
  },
  {
   "cell_type": "code",
   "execution_count": null,
   "metadata": {},
   "outputs": [],
   "source": [
    "std_p_30"
   ]
  },
  {
   "cell_type": "code",
   "execution_count": null,
   "metadata": {},
   "outputs": [],
   "source": [
    "mean_p_35 = {}\n",
    "std_p_35 = {}\n",
    "\n",
    "for method in method_list_35:\n",
    "    mean_p_list = []\n",
    "    std_p_list = []\n",
    "    for bit in bit_list_35:\n",
    "        p_list = list(p_dic[method][bit].values())\n",
    "        mean_p_list.append(statistics.mean(p_list))\n",
    "        std_p_list.append(statistics.pstdev(p_list))\n",
    "\n",
    "    mean_p_35[method] = np.array(mean_p_list)\n",
    "    std_p_35[method] = np.array(std_p_list)"
   ]
  },
  {
   "cell_type": "code",
   "execution_count": null,
   "metadata": {},
   "outputs": [],
   "source": [
    "mean_p_35"
   ]
  },
  {
   "cell_type": "code",
   "execution_count": null,
   "metadata": {},
   "outputs": [],
   "source": [
    "std_p_35"
   ]
  },
  {
   "cell_type": "code",
   "execution_count": null,
   "metadata": {},
   "outputs": [],
   "source": [
    "mean_p_40 = {}\n",
    "std_p_40 = {}\n",
    "\n",
    "for method in method_list_40:\n",
    "    mean_p_list = []\n",
    "    std_p_list = []\n",
    "    for bit in bit_list_40:\n",
    "        #print(bit)\n",
    "        p_list = list(p_dic[method][bit].values())\n",
    "        mean_p_list.append(statistics.mean(p_list))\n",
    "        std_p_list.append(statistics.pstdev(p_list))\n",
    "\n",
    "    mean_p_40[method] = np.array(mean_p_list)\n",
    "    std_p_40[method] = np.array(std_p_list)"
   ]
  },
  {
   "cell_type": "code",
   "execution_count": null,
   "metadata": {},
   "outputs": [],
   "source": [
    "mean_p_40"
   ]
  },
  {
   "cell_type": "code",
   "execution_count": null,
   "metadata": {},
   "outputs": [],
   "source": [
    "std_p_40"
   ]
  },
  {
   "cell_type": "markdown",
   "metadata": {},
   "source": [
    "### total_y_num"
   ]
  },
  {
   "cell_type": "code",
   "execution_count": null,
   "metadata": {},
   "outputs": [],
   "source": [
    "mean_total_y_num_35 = {}\n",
    "std_total_y_num_35 = {}\n",
    "\n",
    "for method in method_list_35:\n",
    "    mean_total_num_list = []\n",
    "    std_total_num_list = []\n",
    "    for bit in bit_list_35:\n",
    "        total_num_list = list(y_dic['total_y_num'][method][bit].values())\n",
    "        mean_total_num_list.append(statistics.mean(total_num_list))\n",
    "        std_total_num_list.append(statistics.pstdev(total_num_list))\n",
    "\n",
    "    mean_total_y_num_35[method] = np.array(mean_total_num_list)\n",
    "    std_total_y_num_35[method] = np.array(std_total_num_list)"
   ]
  },
  {
   "cell_type": "code",
   "execution_count": null,
   "metadata": {},
   "outputs": [],
   "source": [
    "mean_total_y_num_35"
   ]
  },
  {
   "cell_type": "code",
   "execution_count": null,
   "metadata": {},
   "outputs": [],
   "source": [
    "std_total_y_num_35"
   ]
  },
  {
   "cell_type": "code",
   "execution_count": null,
   "metadata": {},
   "outputs": [],
   "source": [
    "mean_total_y_num_40 = {}\n",
    "std_total_y_num_40 = {}\n",
    "\n",
    "for method in method_list_40:\n",
    "    mean_total_num_list = []\n",
    "    std_total_num_list = []\n",
    "    for bit in bit_list_40:\n",
    "        total_num_list = list(y_dic['total_y_num'][method][bit].values())\n",
    "        mean_total_num_list.append(statistics.mean(total_num_list))\n",
    "        std_total_num_list.append(statistics.pstdev(total_num_list))\n",
    "\n",
    "    mean_total_y_num_40[method] = np.array(mean_total_num_list)\n",
    "    std_total_y_num_40[method] = np.array(std_total_num_list)"
   ]
  },
  {
   "cell_type": "code",
   "execution_count": null,
   "metadata": {},
   "outputs": [],
   "source": [
    "mean_total_y_num_40"
   ]
  },
  {
   "cell_type": "code",
   "execution_count": null,
   "metadata": {},
   "outputs": [],
   "source": [
    "std_total_y_num_40"
   ]
  },
  {
   "cell_type": "markdown",
   "metadata": {},
   "source": [
    "### mean_occurrence"
   ]
  },
  {
   "cell_type": "code",
   "execution_count": null,
   "metadata": {},
   "outputs": [],
   "source": [
    "mean_occurrence_35 = {}\n",
    "std_occurrence_35 = {}\n",
    "\n",
    "for method in method_list_35:\n",
    "    mean_occurrence_list = []\n",
    "    std_occurrence_list = []\n",
    "    for bit in bit_list_35:\n",
    "        occurrence_list = list(y_dic['mean_occurrence'][method][bit].values())\n",
    "        mean_occurrence_list.append(statistics.mean(occurrence_list))\n",
    "        std_occurrence_list.append(statistics.pstdev(occurrence_list))\n",
    "\n",
    "    mean_occurrence_35[method] = np.array(mean_occurrence_list)\n",
    "    std_occurrence_35[method] = np.array(std_occurrence_list)"
   ]
  },
  {
   "cell_type": "code",
   "execution_count": null,
   "metadata": {},
   "outputs": [],
   "source": [
    "mean_occurrence_35"
   ]
  },
  {
   "cell_type": "code",
   "execution_count": null,
   "metadata": {},
   "outputs": [],
   "source": [
    "std_occurrence_35"
   ]
  },
  {
   "cell_type": "code",
   "execution_count": null,
   "metadata": {},
   "outputs": [],
   "source": [
    "mean_occurrence_40 = {}\n",
    "std_occurrence_40 = {}\n",
    "\n",
    "for method in method_list_40:\n",
    "    mean_occurrence_list = []\n",
    "    std_occurrence_list = []\n",
    "    for bit in bit_list_40:\n",
    "        occurrence_list = list(y_dic['mean_occurrence'][method][bit].values())\n",
    "        mean_occurrence_list.append(statistics.mean(occurrence_list))\n",
    "        std_occurrence_list.append(statistics.pstdev(occurrence_list))\n",
    "\n",
    "    mean_occurrence_40[method] = np.array(mean_occurrence_list)\n",
    "    std_occurrence_40[method] = np.array(std_occurrence_list)"
   ]
  },
  {
   "cell_type": "code",
   "execution_count": null,
   "metadata": {},
   "outputs": [],
   "source": [
    "mean_occurrence_40"
   ]
  },
  {
   "cell_type": "code",
   "execution_count": null,
   "metadata": {},
   "outputs": [],
   "source": [
    "std_occurrence_40"
   ]
  },
  {
   "cell_type": "code",
   "execution_count": null,
   "metadata": {},
   "outputs": [],
   "source": []
  }
 ],
 "metadata": {
  "kernelspec": {
   "display_name": "Python 3",
   "language": "python",
   "name": "python3"
  },
  "language_info": {
   "codemirror_mode": {
    "name": "ipython",
    "version": 3
   },
   "file_extension": ".py",
   "mimetype": "text/x-python",
   "name": "python",
   "nbconvert_exporter": "python",
   "pygments_lexer": "ipython3",
   "version": "3.7.9"
  }
 },
 "nbformat": 4,
 "nbformat_minor": 4
}
