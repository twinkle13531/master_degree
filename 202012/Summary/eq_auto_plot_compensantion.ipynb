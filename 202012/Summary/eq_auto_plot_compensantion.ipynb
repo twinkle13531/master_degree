{
 "cells": [
  {
   "cell_type": "code",
   "execution_count": 51,
   "metadata": {},
   "outputs": [
    {
     "name": "stdout",
     "output_type": "stream",
     "text": [
      "/Users/shihosato/src/github.com/twinkle13531/master_degree/202012/Summary\n"
     ]
    }
   ],
   "source": [
    "!pwd"
   ]
  },
  {
   "cell_type": "code",
   "execution_count": 52,
   "metadata": {},
   "outputs": [
    {
     "name": "stdout",
     "output_type": "stream",
     "text": [
      "The autoreload extension is already loaded. To reload it, use:\n",
      "  %reload_ext autoreload\n"
     ]
    }
   ],
   "source": [
    "%load_ext autoreload\n",
    "%autoreload 2"
   ]
  },
  {
   "cell_type": "code",
   "execution_count": 53,
   "metadata": {},
   "outputs": [],
   "source": [
    "import sys, os\n",
    "sys.path.append(os.path.join('..', 'Random'))\n",
    "sys.path.append(os.path.join('..', 'SA'))\n",
    "sys.path.append(os.path.join('..', 'QA'))\n",
    "sys.path.append(os.path.join('..', '4ti2', 'functions'))"
   ]
  },
  {
   "cell_type": "code",
   "execution_count": 54,
   "metadata": {},
   "outputs": [],
   "source": [
    "import aws_QA_DwaveSampler_AutoEmbedding as aqa ##new\n",
    "import random_exact_test_functions as ret\n",
    "import SA_exact_test_functions as net\n",
    "import zsolve_t1 as zt\n",
    "import pandas as pd\n",
    "import numpy as np\n",
    "import time\n",
    "import matplotlib.pyplot as plt\n",
    "import statistics\n",
    "import math"
   ]
  },
  {
   "cell_type": "code",
   "execution_count": 55,
   "metadata": {},
   "outputs": [],
   "source": [
    "time_dic = {}"
   ]
  },
  {
   "cell_type": "code",
   "execution_count": 56,
   "metadata": {},
   "outputs": [],
   "source": [
    "y_dic = {'total_y_num':{}, 'mean_occurrence':{}, 'valid_y_num':{}}"
   ]
  },
  {
   "cell_type": "code",
   "execution_count": 57,
   "metadata": {},
   "outputs": [],
   "source": [
    "per_time_dic = {}"
   ]
  },
  {
   "cell_type": "code",
   "execution_count": 58,
   "metadata": {},
   "outputs": [],
   "source": [
    "mean_broken_chain_proportion = {}#only QA"
   ]
  },
  {
   "cell_type": "code",
   "execution_count": 59,
   "metadata": {},
   "outputs": [],
   "source": [
    "p_dic = {}"
   ]
  },
  {
   "cell_type": "code",
   "execution_count": 60,
   "metadata": {},
   "outputs": [],
   "source": [
    "chain_strength_dic = {20:15, 25:15, 30:15, 35:20, 40:20}\n",
    "#chain_strength_dic = {20:10, 25:15, 30:20, 35:20, 40:30}"
   ]
  },
  {
   "cell_type": "code",
   "execution_count": 61,
   "metadata": {},
   "outputs": [],
   "source": [
    "bit_list = [20, 25, 30, 35, 40]\n",
    "num_list = [0, 1, 2, 3, 4]"
   ]
  },
  {
   "cell_type": "markdown",
   "metadata": {},
   "source": [
    "## QA\n",
    "### auto_scale=Trueを入れる\n",
    "\n",
    "前回からの変更点\n",
    "- calculation_time測定箇所がおかしかった→修正\n",
    "- n, num_reads.たしかにnを増やすとvalid_y_numが増えるが、per_timeもcalculation_timeも*n弱ほど増える\n",
    "  - どう頑張ってもvalid_y_numでSAには勝てない\n",
    "  - n, num_reads = 100, 100となるとどうしても計算が時間かかりすぎる25bitでさえも\n",
    "  - →n=1, num_reads=10000のtotal_timeで勝負する\n",
    "  - 時間の平均、標準偏差などはtotal_timeにする（すべての手法）\n"
   ]
  },
  {
   "cell_type": "code",
   "execution_count": 62,
   "metadata": {},
   "outputs": [
    {
     "name": "stdout",
     "output_type": "stream",
     "text": [
      "20 finish\n"
     ]
    },
    {
     "name": "stderr",
     "output_type": "stream",
     "text": [
      "INFO:backoff:Backing off get_quantum_task(...) for 0.7s (botocore.errorfactory.ResourceNotFoundException: An error occurred (ResourceNotFoundException) when calling the GetQuantumTask operation: Quantum task cacd42e8-a9fe-4b40-bf9f-c1292db0809b not found)\n"
     ]
    },
    {
     "name": "stdout",
     "output_type": "stream",
     "text": [
      "25 finish\n",
      "30 finish\n",
      "35 finish\n",
      "40 finish\n"
     ]
    }
   ],
   "source": [
    "############################################################ 本番 ##########################################################################\n",
    "#n=1でのみ通用するコード\n",
    "n, num_reads = 1, 10000\n",
    "chain_strength_dic = {20:15, 25:15, 30:15, 35:20, 40:20}\n",
    "time_dic['QA'] = {}\n",
    "y_dic['total_y_num']['QA'] = {}\n",
    "y_dic['mean_occurrence']['QA'] = {}\n",
    "y_dic['valid_y_num']['QA'] = {}\n",
    "per_time_dic['QA'] = {}\n",
    "p_dic['QA'] = {}\n",
    "\n",
    "for bit in bit_list:\n",
    "    time_dic['QA'][bit] = {}\n",
    "    y_dic['total_y_num']['QA'][bit] = {}\n",
    "    y_dic['mean_occurrence']['QA'][bit] = {}\n",
    "    y_dic['valid_y_num']['QA'][bit] = {}\n",
    "    per_time_dic['QA'][bit] = {}\n",
    "    mean_broken_chain_proportion[bit] = {}\n",
    "    p_dic['QA'][bit] = {}\n",
    "    chain_strength = chain_strength_dic[bit]\n",
    "    \n",
    "    for num in num_list:\n",
    "        path = '../input/ost{}_{}.csv'.format(bit, num)\n",
    "        df = pd.read_csv(path, sep=',')\n",
    "        bqm = aqa.make_Hamiltonian(df)\n",
    "        res = aqa.aws_autoscale_response(bqm, chain_strength, num_reads)################\n",
    "        ads = aqa.aws_DSampler(df, bqm, num_reads, chain_strength, res)\n",
    "        valid_y_info_dic = ads.find_valid_y()\n",
    "        \n",
    "        if len(valid_y_info_dic) > 0:\n",
    "            calculation_time = res.info['additionalMetadata']['dwaveMetadata']['timing']['qpuAccessTime']*10**(-6)\n",
    "            occurrence_list = [valid_y_info[0] for valid_y_info in list(valid_y_info_dic.values())]\n",
    "            broken_list = [valid_y_info[1] for valid_y_info in list(valid_y_info_dic.values())]\n",
    "\n",
    "            time_dic['QA'][bit][num] = calculation_time\n",
    "            y_dic['total_y_num']['QA'][bit][num] = sum(occurrence_list)\n",
    "            y_dic['mean_occurrence']['QA'][bit][num] = statistics.mean(occurrence_list)\n",
    "            y_dic['valid_y_num']['QA'][bit][num] = len(valid_y_info_dic)\n",
    "            #per_time_dic['QA'][bit][num] = calculation_time / sum(occurrence_list)\n",
    "            per_time_dic['QA'][bit][num] = calculation_time / len(valid_y_info_dic)\n",
    "            mean_broken_chain_proportion[bit][num] = statistics.mean(broken_list)\n",
    "            p_dic['QA'][bit][num] = ads.p_value(valid_y_info_dic)\n",
    "\n",
    "    print('{} finish'.format(bit))"
   ]
  },
  {
   "cell_type": "code",
   "execution_count": 63,
   "metadata": {},
   "outputs": [
    {
     "data": {
      "text/plain": [
       "{20: {0: 2.400312,\n",
       "  1: 2.400347,\n",
       "  2: 2.4003289999999997,\n",
       "  3: 2.400261,\n",
       "  4: 2.400292},\n",
       " 25: {0: 2.400362,\n",
       "  1: 2.400344,\n",
       "  2: 2.4003319999999997,\n",
       "  3: 2.40036,\n",
       "  4: 2.4003639999999997},\n",
       " 30: {0: 2.4004469999999998,\n",
       "  1: 2.400404,\n",
       "  2: 2.4003959999999998,\n",
       "  3: 2.400368,\n",
       "  4: 2.400463},\n",
       " 35: {0: 2.4004179999999997,\n",
       "  1: 2.400409,\n",
       "  2: 2.400384,\n",
       "  3: 2.400442,\n",
       "  4: 2.400476},\n",
       " 40: {0: 2.400477, 1: 2.40046, 2: 2.400439, 3: 2.4004499999999998, 4: 2.40054}}"
      ]
     },
     "execution_count": 63,
     "metadata": {},
     "output_type": "execute_result"
    }
   ],
   "source": [
    "time_dic['QA']"
   ]
  },
  {
   "cell_type": "code",
   "execution_count": 64,
   "metadata": {},
   "outputs": [
    {
     "data": {
      "text/plain": [
       "{20: {0: 414, 1: 90, 2: 445, 3: 182, 4: 57},\n",
       " 25: {0: 90, 1: 192, 2: 65, 3: 2, 4: 117},\n",
       " 30: {0: 11, 1: 28, 2: 82, 3: 8, 4: 283},\n",
       " 35: {0: 7, 1: 7, 2: 19, 3: 24, 4: 72},\n",
       " 40: {0: 2, 1: 11, 2: 9, 3: 4, 4: 13}}"
      ]
     },
     "execution_count": 64,
     "metadata": {},
     "output_type": "execute_result"
    }
   ],
   "source": [
    "y_dic['total_y_num']['QA']"
   ]
  },
  {
   "cell_type": "code",
   "execution_count": 65,
   "metadata": {},
   "outputs": [
    {
     "data": {
      "text/plain": [
       "{20: {0: 1, 1: 1, 2: 1, 3: 1, 4: 1},\n",
       " 25: {0: 1, 1: 1, 2: 1, 3: 1, 4: 1},\n",
       " 30: {0: 1, 1: 1, 2: 1, 3: 1, 4: 1},\n",
       " 35: {0: 1, 1: 1, 2: 1, 3: 1, 4: 1},\n",
       " 40: {0: 1, 1: 1, 2: 1, 3: 1, 4: 1}}"
      ]
     },
     "execution_count": 65,
     "metadata": {},
     "output_type": "execute_result"
    }
   ],
   "source": [
    "y_dic['mean_occurrence']['QA']"
   ]
  },
  {
   "cell_type": "code",
   "execution_count": 66,
   "metadata": {},
   "outputs": [
    {
     "data": {
      "text/plain": [
       "{20: {0: 404, 1: 85, 2: 326, 3: 159, 4: 48},\n",
       " 25: {0: 84, 1: 191, 2: 63, 3: 2, 4: 115},\n",
       " 30: {0: 11, 1: 28, 2: 82, 3: 8, 4: 281},\n",
       " 35: {0: 7, 1: 7, 2: 19, 3: 24, 4: 72},\n",
       " 40: {0: 2, 1: 11, 2: 9, 3: 4, 4: 13}}"
      ]
     },
     "execution_count": 66,
     "metadata": {},
     "output_type": "execute_result"
    }
   ],
   "source": [
    "y_dic['valid_y_num']['QA']"
   ]
  },
  {
   "cell_type": "code",
   "execution_count": 67,
   "metadata": {},
   "outputs": [
    {
     "data": {
      "text/plain": [
       "{20: {0: 0.005941366336633664,\n",
       "  1: 0.028239376470588235,\n",
       "  2: 0.0073629723926380355,\n",
       "  3: 0.015095981132075472,\n",
       "  4: 0.05000608333333333},\n",
       " 25: {0: 0.028575738095238095,\n",
       "  1: 0.012567246073298429,\n",
       "  2: 0.03810050793650793,\n",
       "  3: 1.20018,\n",
       "  4: 0.020872730434782605},\n",
       " 30: {0: 0.21822245454545453,\n",
       "  1: 0.08572871428571428,\n",
       "  2: 0.02927312195121951,\n",
       "  3: 0.300046,\n",
       "  4: 0.008542572953736654},\n",
       " 35: {0: 0.3429168571428571,\n",
       "  1: 0.3429155714285714,\n",
       "  2: 0.126336,\n",
       "  3: 0.10001841666666667,\n",
       "  4: 0.03333994444444444},\n",
       " 40: {0: 1.2002385,\n",
       "  1: 0.21822363636363634,\n",
       "  2: 0.26671544444444445,\n",
       "  3: 0.6001124999999999,\n",
       "  4: 0.18465692307692308}}"
      ]
     },
     "execution_count": 67,
     "metadata": {},
     "output_type": "execute_result"
    }
   ],
   "source": [
    "per_time_dic['QA']"
   ]
  },
  {
   "cell_type": "code",
   "execution_count": 68,
   "metadata": {},
   "outputs": [
    {
     "data": {
      "text/plain": [
       "{20: {0: 0.2871287128712871,\n",
       "  1: 0.27058823529411763,\n",
       "  2: 0.4233128834355828,\n",
       "  3: 0.14465408805031446,\n",
       "  4: 0.4375},\n",
       " 25: {0: 0.09523809523809523,\n",
       "  1: 0.06282722513089005,\n",
       "  2: 0.14285714285714285,\n",
       "  3: 0.0,\n",
       "  4: 0.2956521739130435},\n",
       " 30: {0: 0.09090909090909091,\n",
       "  1: 0.21428571428571427,\n",
       "  2: 0.1951219512195122,\n",
       "  3: 0.0,\n",
       "  4: 0.021352313167259787},\n",
       " 35: {0: 0.0, 1: 0.0, 2: 0.0, 3: 0.041666666666666664, 4: 0.09722222222222222},\n",
       " 40: {0: 0.0, 1: 0.0, 2: 0.0, 3: 0.0, 4: 0.07692307692307693}}"
      ]
     },
     "execution_count": 68,
     "metadata": {},
     "output_type": "execute_result"
    }
   ],
   "source": [
    "p_dic['QA']"
   ]
  },
  {
   "cell_type": "code",
   "execution_count": 69,
   "metadata": {},
   "outputs": [
    {
     "data": {
      "text/plain": [
       "{20: {0: 0.0,\n",
       "  1: 0.0005882352941176471,\n",
       "  2: 0.001226993865030675,\n",
       "  3: 0.0003144654088050315,\n",
       "  4: 0.0},\n",
       " 25: {0: 0.002380952380952381,\n",
       "  1: 0.0010471204188481676,\n",
       "  2: 0.0031746031746031746,\n",
       "  3: 0.0,\n",
       "  4: 0.001391304347826087},\n",
       " 30: {0: 0.0030303030303030303,\n",
       "  1: 0.008333333333333333,\n",
       "  2: 0.0028455284552845526,\n",
       "  3: 0.008333333333333333,\n",
       "  4: 0.007591933570581257},\n",
       " 35: {0: 0.004081632653061224,\n",
       "  1: 0.016326530612244896,\n",
       "  2: 0.019548872180451128,\n",
       "  3: 0.0023809523809523807,\n",
       "  4: 0.005158730158730159},\n",
       " 40: {0: 0.0125,\n",
       "  1: 0.006818181818181819,\n",
       "  2: 0.016666666666666666,\n",
       "  3: 0.0,\n",
       "  4: 0.007692307692307693}}"
      ]
     },
     "execution_count": 69,
     "metadata": {},
     "output_type": "execute_result"
    }
   ],
   "source": [
    "mean_broken_chain_proportion"
   ]
  },
  {
   "cell_type": "code",
   "execution_count": null,
   "metadata": {},
   "outputs": [],
   "source": []
  },
  {
   "cell_type": "code",
   "execution_count": null,
   "metadata": {},
   "outputs": [],
   "source": []
  },
  {
   "cell_type": "markdown",
   "metadata": {},
   "source": [
    "## Random"
   ]
  },
  {
   "cell_type": "markdown",
   "metadata": {},
   "source": [
    "前回からの変更点\n",
    "- calculation_timeをret.find_valid_y(df, num_reads)の時間とした\n",
    "```python\n",
    "time_0 = time.time()\n",
    "valid_y_dic = ret.find_valid_y(df, num_reads)\n",
    "time_1 = time.time()\n",
    "calculation_time = time_1 - time_0\n",
    "```"
   ]
  },
  {
   "cell_type": "code",
   "execution_count": 70,
   "metadata": {},
   "outputs": [
    {
     "name": "stdout",
     "output_type": "stream",
     "text": [
      "20_0 finish\n",
      "20_1 finish\n",
      "20_2 finish\n",
      "20_3 finish\n",
      "20_4 finish\n",
      "25_0 finish\n",
      "25_1 finish\n",
      "25_2 finish\n",
      "25_3 finish\n",
      "25_4 finish\n",
      "30_0 finish\n",
      "30_1 finish\n",
      "30_2 finish\n",
      "30_3 finish\n",
      "30_4 finish\n",
      "35_0 finish\n",
      "35_1 finish\n",
      "35_2 finish\n",
      "35_3 finish\n",
      "35_4 finish\n",
      "40_0 finish\n",
      "40_1 finish\n",
      "40_2 finish\n",
      "40_3 finish\n",
      "40_4 finish\n"
     ]
    }
   ],
   "source": [
    "num_reads = 10000\n",
    "\n",
    "time_dic['random'] = {}\n",
    "y_dic['total_y_num']['random'] = {}\n",
    "y_dic['mean_occurrence']['random'] = {}\n",
    "y_dic['valid_y_num']['random'] = {}\n",
    "per_time_dic['random'] = {}\n",
    "p_dic['random'] = {}\n",
    "\n",
    "for bit in bit_list:\n",
    "    time_dic['random'][bit] = {}\n",
    "    y_dic['total_y_num']['random'][bit] = {}\n",
    "    y_dic['mean_occurrence']['random'][bit] = {}\n",
    "    y_dic['valid_y_num']['random'][bit] = {}\n",
    "    per_time_dic['random'][bit] = {}\n",
    "    p_dic['random'][bit] = {}\n",
    "    \n",
    "    for num in num_list:\n",
    "        df_path = '../input/ost{}_{}.csv'.format(bit, num)\n",
    "        df = pd.read_csv(df_path, sep=',')\n",
    "        t_list = ret.calc_marginals(df)\n",
    "        \n",
    "        time_0 = time.time()\n",
    "        valid_y_dic = ret.find_valid_y(df, num_reads)\n",
    "        time_1 = time.time()\n",
    "        calculation_time = time_1 - time_0\n",
    "        \n",
    "        if len(valid_y_dic) > 0:\n",
    "            rm = ret.Random_method(df, valid_y_dic, num_reads, t_list)\n",
    "            \n",
    "            mean_occurrence_list = [i for i in list(valid_y_dic.values())]\n",
    "            \n",
    "            time_dic['random'][bit][num] = calculation_time\n",
    "            y_dic['total_y_num']['random'][bit][num] = sum(mean_occurrence_list)\n",
    "            y_dic['mean_occurrence']['random'][bit][num] = statistics.mean(mean_occurrence_list)\n",
    "            y_dic['valid_y_num']['random'][bit][num] = len(valid_y_dic)\n",
    "            per_time_dic['random'][bit][num] = calculation_time / len(valid_y_dic)\n",
    "            p_dic['random'][bit][num] = rm.p_value()\n",
    "        print('{}_{} finish'.format(bit, num))"
   ]
  },
  {
   "cell_type": "code",
   "execution_count": 71,
   "metadata": {},
   "outputs": [
    {
     "data": {
      "text/plain": [
       "{20: {0: 0.23176980018615723,\n",
       "  1: 0.16418695449829102,\n",
       "  2: 0.05255317687988281,\n",
       "  3: 0.17732501029968262,\n",
       "  4: 0.17819428443908691},\n",
       " 25: {0: 0.07816529273986816, 1: 0.10420393943786621, 4: 0.0776069164276123},\n",
       " 30: {0: 0.06556892395019531,\n",
       "  2: 0.15509390830993652,\n",
       "  3: 0.0790410041809082,\n",
       "  4: 0.07080483436584473},\n",
       " 35: {1: 0.10197091102600098,\n",
       "  2: 0.16187191009521484,\n",
       "  3: 0.09765028953552246,\n",
       "  4: 0.08307361602783203},\n",
       " 40: {2: 0.09287905693054199}}"
      ]
     },
     "execution_count": 71,
     "metadata": {},
     "output_type": "execute_result"
    }
   ],
   "source": [
    "time_dic['random']"
   ]
  },
  {
   "cell_type": "code",
   "execution_count": 72,
   "metadata": {},
   "outputs": [
    {
     "data": {
      "text/plain": [
       "{20: {0: 160, 1: 17, 2: 14, 3: 23, 4: 1},\n",
       " 25: {0: 3, 1: 23, 4: 6},\n",
       " 30: {0: 1, 2: 2, 3: 1, 4: 7},\n",
       " 35: {1: 2, 2: 5, 3: 1, 4: 3},\n",
       " 40: {2: 1}}"
      ]
     },
     "execution_count": 72,
     "metadata": {},
     "output_type": "execute_result"
    }
   ],
   "source": [
    "y_dic['total_y_num']['random']"
   ]
  },
  {
   "cell_type": "code",
   "execution_count": 73,
   "metadata": {},
   "outputs": [
    {
     "data": {
      "text/plain": [
       "{20: {0: 1, 1: 1, 2: 1, 3: 1, 4: 1},\n",
       " 25: {0: 1, 1: 1, 4: 1},\n",
       " 30: {0: 1, 2: 1, 3: 1, 4: 1},\n",
       " 35: {1: 1, 2: 1, 3: 1, 4: 1},\n",
       " 40: {2: 1}}"
      ]
     },
     "execution_count": 73,
     "metadata": {},
     "output_type": "execute_result"
    }
   ],
   "source": [
    "y_dic['mean_occurrence']['random']"
   ]
  },
  {
   "cell_type": "code",
   "execution_count": 74,
   "metadata": {},
   "outputs": [
    {
     "data": {
      "text/plain": [
       "{20: {0: 160, 1: 17, 2: 14, 3: 23, 4: 1},\n",
       " 25: {0: 3, 1: 23, 4: 6},\n",
       " 30: {0: 1, 2: 2, 3: 1, 4: 7},\n",
       " 35: {1: 2, 2: 5, 3: 1, 4: 3},\n",
       " 40: {2: 1}}"
      ]
     },
     "execution_count": 74,
     "metadata": {},
     "output_type": "execute_result"
    }
   ],
   "source": [
    "y_dic['valid_y_num']['random']"
   ]
  },
  {
   "cell_type": "code",
   "execution_count": 75,
   "metadata": {},
   "outputs": [
    {
     "data": {
      "text/plain": [
       "{20: {0: 0.0014485612511634827,\n",
       "  1: 0.009658056146958294,\n",
       "  2: 0.0037537983485630582,\n",
       "  3: 0.00770978305650794,\n",
       "  4: 0.17819428443908691},\n",
       " 25: {0: 0.026055097579956055,\n",
       "  1: 0.0045306060625159225,\n",
       "  4: 0.012934486071268717},\n",
       " 30: {0: 0.06556892395019531,\n",
       "  2: 0.07754695415496826,\n",
       "  3: 0.0790410041809082,\n",
       "  4: 0.010114976337977819},\n",
       " 35: {1: 0.05098545551300049,\n",
       "  2: 0.03237438201904297,\n",
       "  3: 0.09765028953552246,\n",
       "  4: 0.027691205342610676},\n",
       " 40: {2: 0.09287905693054199}}"
      ]
     },
     "execution_count": 75,
     "metadata": {},
     "output_type": "execute_result"
    }
   ],
   "source": [
    "per_time_dic['random']"
   ]
  },
  {
   "cell_type": "code",
   "execution_count": 76,
   "metadata": {},
   "outputs": [
    {
     "data": {
      "text/plain": [
       "{20: {0: 0.28125,\n",
       "  1: 0.5294117647058824,\n",
       "  2: 0.42857142857142855,\n",
       "  3: 0.34782608695652173,\n",
       "  4: 0.0},\n",
       " 25: {0: 0.0, 1: 0.17391304347826086, 4: 0.6666666666666666},\n",
       " 30: {0: 0.0, 2: 0.5, 3: 0.0, 4: 0.2857142857142857},\n",
       " 35: {1: 0.0, 2: 0.0, 3: 1.0, 4: 0.0},\n",
       " 40: {2: 0.0}}"
      ]
     },
     "execution_count": 76,
     "metadata": {},
     "output_type": "execute_result"
    }
   ],
   "source": [
    "p_dic['random']"
   ]
  },
  {
   "cell_type": "code",
   "execution_count": null,
   "metadata": {},
   "outputs": [],
   "source": []
  },
  {
   "cell_type": "markdown",
   "metadata": {},
   "source": [
    "## SA\n",
    "- occurrence_list = list(valid_y_info_dic.values())箇所を変更"
   ]
  },
  {
   "cell_type": "code",
   "execution_count": 77,
   "metadata": {},
   "outputs": [
    {
     "name": "stdout",
     "output_type": "stream",
     "text": [
      "20_0 finish\n",
      "20_1 finish\n",
      "20_2 finish\n",
      "20_3 finish\n",
      "20_4 finish\n",
      "25_0 finish\n",
      "25_1 finish\n",
      "25_2 finish\n",
      "25_3 finish\n",
      "25_4 finish\n",
      "30_0 finish\n",
      "30_1 finish\n",
      "30_2 finish\n",
      "30_3 finish\n",
      "30_4 finish\n",
      "35_0 finish\n",
      "35_1 finish\n",
      "35_2 finish\n",
      "35_3 finish\n",
      "35_4 finish\n",
      "40_0 finish\n",
      "40_1 finish\n",
      "40_2 finish\n",
      "40_3 finish\n",
      "40_4 finish\n"
     ]
    }
   ],
   "source": [
    "num_reads = 10000\n",
    "time_dic['SA'] = {}\n",
    "y_dic['total_y_num']['SA'] = {}\n",
    "y_dic['mean_occurrence']['SA'] = {}\n",
    "y_dic['valid_y_num']['SA'] = {}\n",
    "per_time_dic['SA'] = {}\n",
    "p_dic['SA'] = {}\n",
    "\n",
    "for bit in bit_list:\n",
    "    time_dic['SA'][bit] = {}\n",
    "    y_dic['total_y_num']['SA'][bit] = {}\n",
    "    y_dic['mean_occurrence']['SA'][bit] = {}\n",
    "    y_dic['valid_y_num']['SA'][bit] = {}\n",
    "    per_time_dic['SA'][bit] = {}\n",
    "    p_dic['SA'][bit] = {}\n",
    "    \n",
    "    for num in num_list:\n",
    "        \n",
    "        path = '../input/ost{}_{}.csv'.format(bit, num)\n",
    "        df = pd.read_csv(path, sep=',')\n",
    "        \n",
    "        res, elapsed_time = net.make_res_data(df, num_reads)\n",
    "        valid_y_info_dic = net.find_valid_y(res)\n",
    "\n",
    "        occurrence_list = list(valid_y_info_dic.values())\n",
    "        \n",
    "        if len(valid_y_info_dic) > 0:\n",
    "            rvd = net.SA_res_valid_dic(df, res, valid_y_info_dic, num_reads)\n",
    "            \n",
    "            time_dic['SA'][bit][num] = elapsed_time\n",
    "            y_dic['total_y_num']['SA'][bit][num] = sum(occurrence_list)\n",
    "            y_dic['mean_occurrence']['SA'][bit][num] = statistics.mean(occurrence_list)\n",
    "            y_dic['valid_y_num']['SA'][bit][num] = len(valid_y_info_dic)\n",
    "            per_time_dic['SA'][bit][num] = elapsed_time / len(valid_y_info_dic)\n",
    "            p_dic['SA'][bit][num] = rvd.calc_p_value()\n",
    "            \n",
    "        print('{}_{} finish'.format(bit, num))"
   ]
  },
  {
   "cell_type": "code",
   "execution_count": 78,
   "metadata": {},
   "outputs": [
    {
     "data": {
      "text/plain": [
       "{20: {0: 4.430273056030273,\n",
       "  1: 4.240472793579102,\n",
       "  2: 4.124181032180786,\n",
       "  3: 4.212869882583618,\n",
       "  4: 4.245862722396851},\n",
       " 25: {0: 5.772629976272583,\n",
       "  1: 6.019297122955322,\n",
       "  2: 5.855103969573975,\n",
       "  3: 5.907823085784912,\n",
       "  4: 5.65931510925293},\n",
       " 30: {0: 7.791236162185669,\n",
       "  1: 7.444330930709839,\n",
       "  2: 7.486382722854614,\n",
       "  3: 7.428648948669434,\n",
       "  4: 7.747031927108765},\n",
       " 35: {0: 9.794157266616821,\n",
       "  1: 9.636767148971558,\n",
       "  2: 9.712950944900513,\n",
       "  3: 9.954700231552124,\n",
       "  4: 9.613384008407593},\n",
       " 40: {0: 11.873701810836792,\n",
       "  1: 12.363799810409546,\n",
       "  2: 11.900765180587769,\n",
       "  3: 11.866310119628906,\n",
       "  4: 11.646608114242554}}"
      ]
     },
     "execution_count": 78,
     "metadata": {},
     "output_type": "execute_result"
    }
   ],
   "source": [
    "time_dic['SA']"
   ]
  },
  {
   "cell_type": "code",
   "execution_count": 79,
   "metadata": {},
   "outputs": [
    {
     "data": {
      "text/plain": [
       "{20: {0: 9747, 1: 9834, 2: 9844, 3: 9606, 4: 9613},\n",
       " 25: {0: 9856, 1: 9822, 2: 9418, 3: 8585, 4: 9870},\n",
       " 30: {0: 9773, 1: 9245, 2: 9929, 3: 9207, 4: 9899},\n",
       " 35: {0: 9618, 1: 9799, 2: 9833, 3: 9556, 4: 9427},\n",
       " 40: {0: 9677, 1: 9762, 2: 9690, 3: 9582, 4: 9574}}"
      ]
     },
     "execution_count": 79,
     "metadata": {},
     "output_type": "execute_result"
    }
   ],
   "source": [
    "y_dic['total_y_num']['SA']"
   ]
  },
  {
   "cell_type": "code",
   "execution_count": 80,
   "metadata": {},
   "outputs": [
    {
     "data": {
      "text/plain": [
       "{20: {0: 1, 1: 7, 2: 6, 3: 4, 4: 36},\n",
       " 25: {0: 1, 1: 1, 2: 1, 3: 6, 4: 1},\n",
       " 30: {0: 1, 1: 1, 2: 1, 3: 1, 4: 1},\n",
       " 35: {0: 1, 1: 1, 2: 1, 3: 1, 4: 1},\n",
       " 40: {0: 1, 1: 1, 2: 1, 3: 1, 4: 1}}"
      ]
     },
     "execution_count": 80,
     "metadata": {},
     "output_type": "execute_result"
    }
   ],
   "source": [
    "y_dic['mean_occurrence']['SA']"
   ]
  },
  {
   "cell_type": "code",
   "execution_count": 81,
   "metadata": {},
   "outputs": [
    {
     "data": {
      "text/plain": [
       "{20: {0: 7387, 1: 1365, 2: 1634, 3: 2354, 4: 260},\n",
       " 25: {0: 6820, 1: 9328, 2: 6982, 3: 1372, 4: 7886},\n",
       " 30: {0: 8985, 1: 8566, 2: 9813, 3: 8864, 4: 9826},\n",
       " 35: {0: 9577, 1: 9792, 2: 9830, 3: 9540, 4: 9419},\n",
       " 40: {0: 9674, 1: 9758, 2: 9689, 3: 9581, 4: 9571}}"
      ]
     },
     "execution_count": 81,
     "metadata": {},
     "output_type": "execute_result"
    }
   ],
   "source": [
    "y_dic['valid_y_num']['SA']"
   ]
  },
  {
   "cell_type": "code",
   "execution_count": 82,
   "metadata": {},
   "outputs": [
    {
     "data": {
      "text/plain": [
       "{20: {0: 0.0005997391439055467,\n",
       "  1: 0.003106573475149525,\n",
       "  2: 0.0025239785998658424,\n",
       "  3: 0.0017896643511400247,\n",
       "  4: 0.016330241239987886},\n",
       " 25: {0: 0.0008464266827379154,\n",
       "  1: 0.0006452934308485551,\n",
       "  2: 0.000838599823771695,\n",
       "  3: 0.004305993502758682,\n",
       "  4: 0.0007176407696237547},\n",
       " 30: {0: 0.0008671381371380823,\n",
       "  1: 0.0008690556771783608,\n",
       "  2: 0.0007629045880826062,\n",
       "  3: 0.0008380696016098188,\n",
       "  4: 0.000788421730827271},\n",
       " 35: {0: 0.0010226748738244567,\n",
       "  1: 0.000984146971912945,\n",
       "  2: 0.000988092669877977,\n",
       "  3: 0.00104346962594886,\n",
       "  4: 0.001020637435864486},\n",
       " 40: {0: 0.001227382862397849,\n",
       "  1: 0.0012670424072975554,\n",
       "  2: 0.0012282758985021952,\n",
       "  3: 0.0012385252186232027,\n",
       "  4: 0.0012168642894412865}}"
      ]
     },
     "execution_count": 82,
     "metadata": {},
     "output_type": "execute_result"
    }
   ],
   "source": [
    "per_time_dic['SA']"
   ]
  },
  {
   "cell_type": "code",
   "execution_count": 83,
   "metadata": {},
   "outputs": [
    {
     "data": {
      "text/plain": [
       "{20: {0: 0.231217002842832,\n",
       "  1: 0.2153846153846154,\n",
       "  2: 0.33353733170134636,\n",
       "  3: 0.26380628717077315,\n",
       "  4: 0.4153846153846154},\n",
       " 25: {0: 0.08299120234604106,\n",
       "  1: 0.06389365351629503,\n",
       "  2: 0.14752219994270982,\n",
       "  3: 0.15743440233236153,\n",
       "  4: 0.26033477047933046},\n",
       " 30: {0: 0.0426265998887034,\n",
       "  1: 0.2972215736633201,\n",
       "  2: 0.19841027208804646,\n",
       "  3: 0.10976985559566788,\n",
       "  4: 0.06360675758192551},\n",
       " 35: {0: 0.06379868434791688,\n",
       "  1: 0.04993872549019608,\n",
       "  2: 0.014140386571719227,\n",
       "  3: 0.07861635220125786,\n",
       "  4: 0.1457691899352373},\n",
       " 40: {0: 0.03876369650609882,\n",
       "  1: 0.0626152900184464,\n",
       "  2: 0.03374961296315409,\n",
       "  3: 0.06199770378874857,\n",
       "  4: 0.028210218367986626}}"
      ]
     },
     "execution_count": 83,
     "metadata": {},
     "output_type": "execute_result"
    }
   ],
   "source": [
    "p_dic['SA']"
   ]
  },
  {
   "cell_type": "code",
   "execution_count": null,
   "metadata": {},
   "outputs": [],
   "source": []
  },
  {
   "cell_type": "markdown",
   "metadata": {},
   "source": [
    "## exhaustive enumeration"
   ]
  },
  {
   "cell_type": "code",
   "execution_count": 84,
   "metadata": {},
   "outputs": [],
   "source": [
    "enu_time_dic = {}\n",
    "enu_time_dic[20] = [4.84, 0.02, 0.23, 0.38, 0.65]\n",
    "enu_time_dic[25] = [5.47, 2894.31, 4.19, 0.23, 15.37]\n",
    "enu_time_dic[30] = [120017.00, 105.15, 12792.04, 725.79, 140234.05]"
   ]
  },
  {
   "cell_type": "code",
   "execution_count": 85,
   "metadata": {},
   "outputs": [],
   "source": [
    "time_dic['enumeration'] = {}\n",
    "y_dic['valid_y_num']['enumeration'] = {}\n",
    "per_time_dic['enumeration'] = {}\n",
    "p_dic['enumeration'] = {}"
   ]
  },
  {
   "cell_type": "code",
   "execution_count": 86,
   "metadata": {},
   "outputs": [
    {
     "name": "stdout",
     "output_type": "stream",
     "text": [
      "20_0 finish\n",
      "20_1 finish\n",
      "20_2 finish\n",
      "20_3 finish\n",
      "20_4 finish\n",
      "25_0 finish\n",
      "25_1 finish\n",
      "25_2 finish\n",
      "25_3 finish\n",
      "25_4 finish\n",
      "30_0 finish\n",
      "30_1 finish\n",
      "30_2 finish\n",
      "30_3 finish\n",
      "30_4 finish\n"
     ]
    }
   ],
   "source": [
    "for bit in [20, 25, 30]:\n",
    "    time_dic['enumeration'][bit] = {}\n",
    "    y_dic['valid_y_num']['enumeration'][bit] = {}\n",
    "    per_time_dic['enumeration'][bit] = {}\n",
    "    p_dic['enumeration'][bit] = {}\n",
    "    \n",
    "    for num in [0, 1, 2, 3, 4]:\n",
    "        \n",
    "        path = '../input/ost{}_{}.csv'.format(bit, num)\n",
    "        df = pd.read_csv(path, sep=',')\n",
    "        \n",
    "        zinhom_path = '../4ti2/{}bit/{}/{}bit_{}.zinhom'.format(bit, num, bit, num)\n",
    "        zinhom_num, zinhom_list = zt.make_result_list(zinhom_path)\n",
    "        \n",
    "        if zinhom_num > 0:\n",
    "            zrs = zt.zsolve_result_summerize(df, zinhom_list)\n",
    "            \n",
    "            time_dic['enumeration'][bit][num] = enu_time_dic[bit][num]\n",
    "            y_dic['valid_y_num']['enumeration'][bit][num] = zinhom_num\n",
    "            per_time_dic['enumeration'][bit][num] = enu_time_dic[bit][num] / zinhom_num\n",
    "            p_dic['enumeration'][bit][num] = zrs.calucurate_p()\n",
    "\n",
    "        print('{}_{} finish'.format(bit, num))"
   ]
  },
  {
   "cell_type": "code",
   "execution_count": 93,
   "metadata": {},
   "outputs": [],
   "source": [
    "diff_time = {}\n",
    "diff_time['QA'] = {}\n",
    "for bit in [20, 25, 30]:\n",
    "    diff_time['QA'][bit] = {}\n",
    "    for num in num_list:\n",
    "        diff_time['QA'][bit][num] = time_dic['enumeration'][bit][num] - time_dic['QA'][bit][num]"
   ]
  },
  {
   "cell_type": "code",
   "execution_count": 94,
   "metadata": {},
   "outputs": [
    {
     "data": {
      "text/plain": [
       "{20: {0: 2.439688,\n",
       "  1: -2.380347,\n",
       "  2: -2.1703289999999997,\n",
       "  3: -2.020261,\n",
       "  4: -1.750292},\n",
       " 25: {0: 3.069638,\n",
       "  1: 2891.909656,\n",
       "  2: 1.7896680000000007,\n",
       "  3: -2.17036,\n",
       "  4: 12.969636},\n",
       " 30: {0: 120014.599553,\n",
       "  1: 102.74959600000001,\n",
       "  2: 12789.639604000002,\n",
       "  3: 723.389632,\n",
       "  4: 140231.649537}}"
      ]
     },
     "execution_count": 94,
     "metadata": {},
     "output_type": "execute_result"
    }
   ],
   "source": [
    "diff_time['QA']"
   ]
  },
  {
   "cell_type": "code",
   "execution_count": 95,
   "metadata": {},
   "outputs": [],
   "source": [
    "diff_time['SA'] = {}\n",
    "for bit in [20, 25, 30]:\n",
    "    diff_time['SA'][bit] = {}\n",
    "    for num in num_list:\n",
    "        diff_time['SA'][bit][num] = time_dic['enumeration'][bit][num] - time_dic['SA'][bit][num]"
   ]
  },
  {
   "cell_type": "code",
   "execution_count": 103,
   "metadata": {},
   "outputs": [
    {
     "data": {
      "text/plain": [
       "{'QA': {20: {0: 2.439688,\n",
       "   1: -2.380347,\n",
       "   2: -2.1703289999999997,\n",
       "   3: -2.020261,\n",
       "   4: -1.750292},\n",
       "  25: {0: 3.069638,\n",
       "   1: 2891.909656,\n",
       "   2: 1.7896680000000007,\n",
       "   3: -2.17036,\n",
       "   4: 12.969636},\n",
       "  30: {0: 120014.599553,\n",
       "   1: 102.74959600000001,\n",
       "   2: 12789.639604000002,\n",
       "   3: 723.389632,\n",
       "   4: 140231.649537}},\n",
       " 'SA': {20: {0: 0.4097269439697264,\n",
       "   1: -4.220472793579102,\n",
       "   2: -3.894181032180786,\n",
       "   3: -3.8328698825836183,\n",
       "   4: -3.5958627223968507},\n",
       "  25: {0: -0.30262997627258326,\n",
       "   1: 2888.2907028770446,\n",
       "   2: -1.6651039695739742,\n",
       "   3: -5.677823085784912,\n",
       "   4: 9.71068489074707},\n",
       "  30: {0: 120009.20876383781,\n",
       "   1: 97.70566906929017,\n",
       "   2: 12784.553617277146,\n",
       "   3: 718.3613510513305,\n",
       "   4: 140226.30296807288}}}"
      ]
     },
     "execution_count": 103,
     "metadata": {},
     "output_type": "execute_result"
    }
   ],
   "source": [
    "diff_time"
   ]
  },
  {
   "cell_type": "code",
   "execution_count": 98,
   "metadata": {},
   "outputs": [
    {
     "data": {
      "text/plain": [
       "{20: {0: 0.2871287128712871,\n",
       "  1: 0.27058823529411763,\n",
       "  2: 0.4233128834355828,\n",
       "  3: 0.14465408805031446,\n",
       "  4: 0.4375},\n",
       " 25: {0: 0.09523809523809523,\n",
       "  1: 0.06282722513089005,\n",
       "  2: 0.14285714285714285,\n",
       "  3: 0.0,\n",
       "  4: 0.2956521739130435},\n",
       " 30: {0: 0.09090909090909091,\n",
       "  1: 0.21428571428571427,\n",
       "  2: 0.1951219512195122,\n",
       "  3: 0.0,\n",
       "  4: 0.021352313167259787},\n",
       " 35: {0: 0.0, 1: 0.0, 2: 0.0, 3: 0.041666666666666664, 4: 0.09722222222222222},\n",
       " 40: {0: 0.0, 1: 0.0, 2: 0.0, 3: 0.0, 4: 0.07692307692307693}}"
      ]
     },
     "execution_count": 98,
     "metadata": {},
     "output_type": "execute_result"
    }
   ],
   "source": [
    "p_dic['QA']"
   ]
  },
  {
   "cell_type": "code",
   "execution_count": 99,
   "metadata": {},
   "outputs": [
    {
     "data": {
      "text/plain": [
       "{20: {0: 0.231217002842832,\n",
       "  1: 0.2153846153846154,\n",
       "  2: 0.33353733170134636,\n",
       "  3: 0.26380628717077315,\n",
       "  4: 0.4153846153846154},\n",
       " 25: {0: 0.08299120234604106,\n",
       "  1: 0.06389365351629503,\n",
       "  2: 0.14752219994270982,\n",
       "  3: 0.15743440233236153,\n",
       "  4: 0.26033477047933046},\n",
       " 30: {0: 0.0426265998887034,\n",
       "  1: 0.2972215736633201,\n",
       "  2: 0.19841027208804646,\n",
       "  3: 0.10976985559566788,\n",
       "  4: 0.06360675758192551},\n",
       " 35: {0: 0.06379868434791688,\n",
       "  1: 0.04993872549019608,\n",
       "  2: 0.014140386571719227,\n",
       "  3: 0.07861635220125786,\n",
       "  4: 0.1457691899352373},\n",
       " 40: {0: 0.03876369650609882,\n",
       "  1: 0.0626152900184464,\n",
       "  2: 0.03374961296315409,\n",
       "  3: 0.06199770378874857,\n",
       "  4: 0.028210218367986626}}"
      ]
     },
     "execution_count": 99,
     "metadata": {},
     "output_type": "execute_result"
    }
   ],
   "source": [
    "p_dic['SA']"
   ]
  },
  {
   "cell_type": "code",
   "execution_count": 100,
   "metadata": {},
   "outputs": [
    {
     "data": {
      "text/plain": [
       "{20: {0: 0.22959183673469388,\n",
       "  1: 0.2153846153846154,\n",
       "  2: 0.3333333333333333,\n",
       "  3: 0.2640801001251564,\n",
       "  4: 0.4153846153846154},\n",
       " 25: {0: 0.08333333333333333,\n",
       "  1: 0.0608044901777362,\n",
       "  2: 0.15306122448979592,\n",
       "  3: 0.15743440233236153,\n",
       "  4: 0.248},\n",
       " 30: {0: 0.04459997255386304,\n",
       "  1: 0.31648559282002836,\n",
       "  2: 0.20353302611367127,\n",
       "  3: 0.11007532956685499,\n",
       "  4: 0.0675067506750675}}"
      ]
     },
     "execution_count": 100,
     "metadata": {},
     "output_type": "execute_result"
    }
   ],
   "source": [
    "p_dic['enumeration']"
   ]
  },
  {
   "cell_type": "code",
   "execution_count": 105,
   "metadata": {},
   "outputs": [],
   "source": [
    "diff_p = {}\n",
    "\n",
    "diff_p['SA'] = {}\n",
    "for bit in [20, 25, 30]:\n",
    "    diff_p['SA'][bit] = {}\n",
    "    for num in num_list:\n",
    "        rr = (p_dic['enumeration'][bit][num] - p_dic['SA'][bit][num])**2\n",
    "        diff_p['SA'][bit][num] = rr**0.5\n",
    "        \n",
    "        \n",
    "diff_p['QA'] = {}\n",
    "for bit in [20, 25, 30]:\n",
    "    diff_p['QA'][bit] = {}\n",
    "    for num in num_list:\n",
    "        rr = (p_dic['enumeration'][bit][num] - p_dic['QA'][bit][num])**2\n",
    "        diff_p['QA'][bit][num] = rr**0.5"
   ]
  },
  {
   "cell_type": "code",
   "execution_count": 106,
   "metadata": {},
   "outputs": [
    {
     "data": {
      "text/plain": [
       "{'SA': {20: {0: 0.0016251661081381208,\n",
       "   1: 0.0,\n",
       "   2: 0.0002039983680130475,\n",
       "   3: 0.000273812954383279,\n",
       "   4: 0.0},\n",
       "  25: {0: 0.00034213098729227176,\n",
       "   1: 0.0030891633385588257,\n",
       "   2: 0.005539024547086102,\n",
       "   3: 0.0,\n",
       "   4: 0.012334770479330459},\n",
       "  30: {0: 0.0019733726651596437,\n",
       "   1: 0.01926401915670828,\n",
       "   2: 0.005122754025624815,\n",
       "   3: 0.0003054739711871174,\n",
       "   4: 0.0038999930931419985}},\n",
       " 'QA': {20: {0: 0.057536876136593224,\n",
       "   1: 0.05520361990950223,\n",
       "   2: 0.0899795501022495,\n",
       "   3: 0.11942601207484196,\n",
       "   4: 0.022115384615384592},\n",
       "  25: {0: 0.011904761904761904,\n",
       "   1: 0.0020227349531538458,\n",
       "   2: 0.010204081632653073,\n",
       "   3: 0.15743440233236153,\n",
       "   4: 0.047652173913043494},\n",
       "  30: {0: 0.04630911835522787,\n",
       "   1: 0.10219987853431409,\n",
       "   2: 0.00841107489415907,\n",
       "   3: 0.11007532956685499,\n",
       "   4: 0.04615443750780772}}}"
      ]
     },
     "execution_count": 106,
     "metadata": {},
     "output_type": "execute_result"
    }
   ],
   "source": [
    "diff_p"
   ]
  },
  {
   "cell_type": "code",
   "execution_count": 107,
   "metadata": {},
   "outputs": [],
   "source": [
    "diff_p_mean = {}\n",
    "diff_p_mean['SA'] = {}\n",
    "for bit in [20, 25, 30]:\n",
    "    ff= list(diff_p['SA'][bit].values())\n",
    "    gg = statistics.mean(ff)\n",
    "    diff_p_mean['SA'][bit] = gg\n",
    "    \n",
    "diff_p_mean['QA'] = {}\n",
    "for bit in [20, 25, 30]:\n",
    "    ff= list(diff_p['QA'][bit].values())\n",
    "    gg = statistics.mean(ff)\n",
    "    diff_p_mean['QA'][bit] = gg"
   ]
  },
  {
   "cell_type": "code",
   "execution_count": 108,
   "metadata": {},
   "outputs": [
    {
     "data": {
      "text/plain": [
       "{'SA': {20: 0.00042059548610688945,\n",
       "  25: 0.004261017870453532,\n",
       "  30: 0.006113122582364371},\n",
       " 'QA': {20: 0.0688522885677143,\n",
       "  25: 0.04584363094719477,\n",
       "  30: 0.06262996777167275}}"
      ]
     },
     "execution_count": 108,
     "metadata": {},
     "output_type": "execute_result"
    }
   ],
   "source": [
    "diff_p_mean"
   ]
  },
  {
   "cell_type": "code",
   "execution_count": 87,
   "metadata": {},
   "outputs": [
    {
     "data": {
      "text/plain": [
       "{20: {0: 4.84, 1: 0.02, 2: 0.23, 3: 0.38, 4: 0.65},\n",
       " 25: {0: 5.47, 1: 2894.31, 2: 4.19, 3: 0.23, 4: 15.37},\n",
       " 30: {0: 120017.0, 1: 105.15, 2: 12792.04, 3: 725.79, 4: 140234.05}}"
      ]
     },
     "execution_count": 87,
     "metadata": {},
     "output_type": "execute_result"
    }
   ],
   "source": [
    "time_dic['enumeration']"
   ]
  },
  {
   "cell_type": "code",
   "execution_count": 88,
   "metadata": {},
   "outputs": [
    {
     "data": {
      "text/plain": [
       "{20: {0: 2.400312,\n",
       "  1: 2.400347,\n",
       "  2: 2.4003289999999997,\n",
       "  3: 2.400261,\n",
       "  4: 2.400292},\n",
       " 25: {0: 2.400362,\n",
       "  1: 2.400344,\n",
       "  2: 2.4003319999999997,\n",
       "  3: 2.40036,\n",
       "  4: 2.4003639999999997},\n",
       " 30: {0: 2.4004469999999998,\n",
       "  1: 2.400404,\n",
       "  2: 2.4003959999999998,\n",
       "  3: 2.400368,\n",
       "  4: 2.400463},\n",
       " 35: {0: 2.4004179999999997,\n",
       "  1: 2.400409,\n",
       "  2: 2.400384,\n",
       "  3: 2.400442,\n",
       "  4: 2.400476},\n",
       " 40: {0: 2.400477, 1: 2.40046, 2: 2.400439, 3: 2.4004499999999998, 4: 2.40054}}"
      ]
     },
     "execution_count": 88,
     "metadata": {},
     "output_type": "execute_result"
    }
   ],
   "source": [
    "time_dic['QA']"
   ]
  },
  {
   "cell_type": "code",
   "execution_count": 89,
   "metadata": {},
   "outputs": [
    {
     "data": {
      "text/plain": [
       "{20: {0: 4.430273056030273,\n",
       "  1: 4.240472793579102,\n",
       "  2: 4.124181032180786,\n",
       "  3: 4.212869882583618,\n",
       "  4: 4.245862722396851},\n",
       " 25: {0: 5.772629976272583,\n",
       "  1: 6.019297122955322,\n",
       "  2: 5.855103969573975,\n",
       "  3: 5.907823085784912,\n",
       "  4: 5.65931510925293},\n",
       " 30: {0: 7.791236162185669,\n",
       "  1: 7.444330930709839,\n",
       "  2: 7.486382722854614,\n",
       "  3: 7.428648948669434,\n",
       "  4: 7.747031927108765},\n",
       " 35: {0: 9.794157266616821,\n",
       "  1: 9.636767148971558,\n",
       "  2: 9.712950944900513,\n",
       "  3: 9.954700231552124,\n",
       "  4: 9.613384008407593},\n",
       " 40: {0: 11.873701810836792,\n",
       "  1: 12.363799810409546,\n",
       "  2: 11.900765180587769,\n",
       "  3: 11.866310119628906,\n",
       "  4: 11.646608114242554}}"
      ]
     },
     "execution_count": 89,
     "metadata": {},
     "output_type": "execute_result"
    }
   ],
   "source": [
    "time_dic['SA']"
   ]
  },
  {
   "cell_type": "code",
   "execution_count": 269,
   "metadata": {},
   "outputs": [
    {
     "data": {
      "text/plain": [
       "{20: {0: 16464, 1: 1365, 2: 1638, 3: 2397, 4: 260},\n",
       " 25: {0: 12600, 1: 89796, 2: 14700, 3: 1372, 4: 21000},\n",
       " 30: {0: 58296, 1: 57159, 2: 429660, 3: 127440, 4: 839916}}"
      ]
     },
     "execution_count": 269,
     "metadata": {},
     "output_type": "execute_result"
    }
   ],
   "source": [
    "y_dic['valid_y_num']['enumeration']"
   ]
  },
  {
   "cell_type": "code",
   "execution_count": 270,
   "metadata": {},
   "outputs": [
    {
     "data": {
      "text/plain": [
       "{20: {0: 0.00029397473275024293,\n",
       "  1: 1.4652014652014653e-05,\n",
       "  2: 0.00014041514041514042,\n",
       "  3: 0.00015853149770546517,\n",
       "  4: 0.0025},\n",
       " 25: {0: 0.0004341269841269841,\n",
       "  1: 0.03223205933449151,\n",
       "  2: 0.0002850340136054422,\n",
       "  3: 0.00016763848396501459,\n",
       "  4: 0.0007319047619047618},\n",
       " 30: {0: 2.058751886921916,\n",
       "  1: 0.0018396053114995016,\n",
       "  2: 0.029772471256342227,\n",
       "  3: 0.00569515065913371,\n",
       "  4: 0.16696199381842944}}"
      ]
     },
     "execution_count": 270,
     "metadata": {},
     "output_type": "execute_result"
    }
   ],
   "source": [
    "per_time_dic['enumeration']"
   ]
  },
  {
   "cell_type": "code",
   "execution_count": 271,
   "metadata": {},
   "outputs": [
    {
     "data": {
      "text/plain": [
       "{20: {0: 0.22959183673469388,\n",
       "  1: 0.2153846153846154,\n",
       "  2: 0.3333333333333333,\n",
       "  3: 0.2640801001251564,\n",
       "  4: 0.4153846153846154},\n",
       " 25: {0: 0.08333333333333333,\n",
       "  1: 0.0608044901777362,\n",
       "  2: 0.15306122448979592,\n",
       "  3: 0.15743440233236153,\n",
       "  4: 0.248},\n",
       " 30: {0: 0.04459997255386304,\n",
       "  1: 0.31648559282002836,\n",
       "  2: 0.20353302611367127,\n",
       "  3: 0.11007532956685499,\n",
       "  4: 0.0675067506750675}}"
      ]
     },
     "execution_count": 271,
     "metadata": {},
     "output_type": "execute_result"
    }
   ],
   "source": [
    "p_dic['enumeration']"
   ]
  },
  {
   "cell_type": "code",
   "execution_count": null,
   "metadata": {},
   "outputs": [],
   "source": []
  },
  {
   "cell_type": "markdown",
   "metadata": {},
   "source": [
    "## 2021/01/22"
   ]
  },
  {
   "cell_type": "code",
   "execution_count": 7,
   "metadata": {},
   "outputs": [],
   "source": [
    "import matplotlib.pyplot as plt\n",
    "import numpy as np"
   ]
  },
  {
   "cell_type": "code",
   "execution_count": 2,
   "metadata": {},
   "outputs": [],
   "source": [
    "method_list_all = ['enumeration', 'random', 'SA', 'QA']\n",
    "method_list_40 = ['random', 'SA', 'QA']\n",
    "bit_list_30 = [20, 25, 30]\n",
    "bit_list_35 = [20, 25, 30, 35]\n",
    "bit_list_40 = [20, 25, 30, 35, 40]"
   ]
  },
  {
   "cell_type": "code",
   "execution_count": 8,
   "metadata": {},
   "outputs": [],
   "source": [
    "mean_time_30 = {'enumeration': np.array([1.2240000e+00, 5.8391400e+02, 5.4774806e+04]),\n",
    " 'random': np.array([0.16080585, 0.08665872, 0.09262717]),\n",
    " 'SA': np.array([4.2507319 , 5.84283385, 7.57952614]),\n",
    " 'QA': np.array([2.4003082, 2.4003524, 2.4004156])}"
   ]
  },
  {
   "cell_type": "code",
   "execution_count": 9,
   "metadata": {},
   "outputs": [],
   "source": [
    "std_time_30 = {'enumeration': np.array([1.81961095e+00, 1.15520876e+03, 6.20200715e+04]),\n",
    " 'random': np.array([0.05889176, 0.01240844, 0.03638351]),\n",
    " 'SA': np.array([0.09981246, 0.1217548 , 0.15658652]),\n",
    " 'QA': np.array([2.98087236e-05, 1.24193398e-05, 3.46906327e-05])}"
   ]
  },
  {
   "cell_type": "code",
   "execution_count": 50,
   "metadata": {},
   "outputs": [
    {
     "data": {
      "image/png": "[encoded data removed]",
      "text/plain": [
       "<Figure size 432x288 with 1 Axes>"
      ]
     },
     "metadata": {
      "needs_background": "light"
     },
     "output_type": "display_data"
    }
   ],
   "source": [
    "############################################## total calculation time30 ###################################################\n",
    "fig, ax = plt.subplots(1)\n",
    "\n",
    "ax.plot(bit_list_30, mean_time_30['enumeration'], label='exhaustive enumeration', color='b')\n",
    "ax.plot(bit_list_30, mean_time_30['SA'], label='SA', color='g')\n",
    "ax.plot(bit_list_30, mean_time_30['QA'], label='QA', color='r')\n",
    "\n",
    "ax.fill_between(bit_list_30, mean_time_30['SA'] + std_time_30['SA'], mean_time_30['SA'] - std_time_30['SA'], alpha=0.4, color='g')\n",
    "ax.fill_between(bit_list_30, mean_time_30['QA'] + std_time_30['QA'], mean_time_30['QA'] - std_time_30['QA'], alpha=0.4, color='r')\n",
    "\n",
    "ax.legend(loc='upper left')\n",
    "ax.set_xlabel('data size')\n",
    "ax.set_ylabel('total calculation time')\n",
    "\n",
    "ax.set_xticks(bit_list_30)\n",
    "ax.set_yscale('log')\n",
    "plt.title('total calculation time 20-30bit')\n",
    "plt.savefig('slide/time_total_30_std_log.png')\n",
    "plt.show()"
   ]
  },
  {
   "cell_type": "code",
   "execution_count": 11,
   "metadata": {},
   "outputs": [
    {
     "data": {
      "image/png": "[encoded data removed]",
      "text/plain": [
       "<Figure size 432x288 with 1 Axes>"
      ]
     },
     "metadata": {
      "needs_background": "light"
     },
     "output_type": "display_data"
    }
   ],
   "source": [
    "############################################## total calculation time30 ###################################################\n",
    "fig, ax = plt.subplots(1)\n",
    "\n",
    "ax.plot(bit_list_30, mean_time_30['enumeration'], label='exhaustive enumeration', color='b')\n",
    "ax.plot(bit_list_30, mean_time_30['SA'], label='SA', color='g')\n",
    "ax.plot(bit_list_30, mean_time_30['QA'], label='QA', color='r')\n",
    "\n",
    "ax.fill_between(bit_list_30, mean_time_30['SA'] + std_time_30['SA'], mean_time_30['SA'] - std_time_30['SA'], alpha=0.4, color='g')\n",
    "ax.fill_between(bit_list_30, mean_time_30['QA'] + std_time_30['QA'], mean_time_30['QA'] - std_time_30['QA'], alpha=0.4, color='r')\n",
    "\n",
    "ax.legend(loc='upper left')\n",
    "ax.set_xlabel('data size')\n",
    "ax.set_ylabel('total calculation time')\n",
    "\n",
    "ax.set_xticks(bit_list_30)\n",
    "plt.title('total calculation time 20-30bit')\n",
    "plt.savefig('slide/time_total_30_std.png')\n",
    "plt.show()"
   ]
  },
  {
   "cell_type": "code",
   "execution_count": 52,
   "metadata": {},
   "outputs": [
    {
     "data": {
      "image/png": "[encoded data removed]",
      "text/plain": [
       "<Figure size 432x288 with 1 Axes>"
      ]
     },
     "metadata": {
      "needs_background": "light"
     },
     "output_type": "display_data"
    }
   ],
   "source": [
    "############################################## total calculation time30 ###################################################\n",
    "fig, ax = plt.subplots(1)\n",
    "\n",
    "ax.plot(bit_list_30, mean_time_30['SA'], label='SA', color='g')\n",
    "ax.plot(bit_list_30, mean_time_30['QA'], label='QA', color='r')\n",
    "\n",
    "ax.legend(loc='upper left')\n",
    "ax.set_xlabel('data size')\n",
    "ax.set_ylabel('total calculation time')\n",
    "\n",
    "ax.set_xticks(bit_list_30)\n",
    "plt.title('total calculation time 20-30bit')\n",
    "plt.savefig('slide/SAQA_time_total_30.png')\n",
    "plt.show()"
   ]
  },
  {
   "cell_type": "code",
   "execution_count": 15,
   "metadata": {},
   "outputs": [
    {
     "data": {
      "image/png": "[encoded data removed]",
      "text/plain": [
       "<Figure size 432x288 with 1 Axes>"
      ]
     },
     "metadata": {
      "needs_background": "light"
     },
     "output_type": "display_data"
    }
   ],
   "source": [
    "############################################## total calculation time30 ###################################################\n",
    "fig, ax = plt.subplots(1)\n",
    "\n",
    "ax.plot(bit_list_30, mean_time_30['SA'], label='SA', color='g')\n",
    "ax.plot(bit_list_30, mean_time_30['QA'], label='QA', color='r')\n",
    "\n",
    "ax.fill_between(bit_list_30, mean_time_30['SA'] + std_time_30['SA'], mean_time_30['SA'] - std_time_30['SA'], alpha=0.4, color='g')\n",
    "ax.fill_between(bit_list_30, mean_time_30['QA'] + std_time_30['QA'], mean_time_30['QA'] - std_time_30['QA'], alpha=0.4, color='r')\n",
    "\n",
    "ax.legend(loc='upper left')\n",
    "ax.set_xlabel('data size')\n",
    "ax.set_ylabel('total calculation time')\n",
    "\n",
    "ax.set_xticks(bit_list_30)\n",
    "plt.title('total calculation time 20-30bit')\n",
    "plt.savefig('slide/SAQA_time_total_30_std.png')\n",
    "plt.show()"
   ]
  },
  {
   "cell_type": "code",
   "execution_count": 17,
   "metadata": {},
   "outputs": [],
   "source": [
    "mean_time_40 = {'random': np.array([0.16080585, 0.08665872, 0.09262717, 0.11114168, 0.09287906]),\n",
    " 'SA': np.array([ 4.2507319 ,  5.84283385,  7.57952614,  9.74239192, 11.93023701]),\n",
    " 'QA': np.array([2.4003082, 2.4003524, 2.4004156, 2.4004258, 2.4004732])}"
   ]
  },
  {
   "cell_type": "code",
   "execution_count": 18,
   "metadata": {},
   "outputs": [],
   "source": [
    "std_time_40 = {'random': np.array([0.05889176, 0.01240844, 0.03638351, 0.03011434, 0.        ]),\n",
    " 'SA': np.array([0.09981246, 0.1217548 , 0.15658652, 0.12362918, 0.23519078]),\n",
    " 'QA': np.array([2.98087236e-05, 1.24193398e-05, 3.46906327e-05, 3.12179436e-05, 3.56617442e-05])}"
   ]
  },
  {
   "cell_type": "code",
   "execution_count": 53,
   "metadata": {},
   "outputs": [
    {
     "data": {
      "image/png": "[encoded data removed]",
      "text/plain": [
       "<Figure size 432x288 with 1 Axes>"
      ]
     },
     "metadata": {
      "needs_background": "light"
     },
     "output_type": "display_data"
    }
   ],
   "source": [
    "############################################## total calculation time40 ###################################################\n",
    "fig, ax = plt.subplots(1)\n",
    "\n",
    "ax.plot(bit_list_40, mean_time_40['SA'], label='SA', color='g')\n",
    "ax.plot(bit_list_40, mean_time_40['QA'], label='QA', color='r')\n",
    "\n",
    "ax.fill_between(bit_list_40, mean_time_40['SA'] + std_time_40['SA'], mean_time_40['SA'] - std_time_40['SA'], alpha=0.4, color='g')\n",
    "ax.fill_between(bit_list_40, mean_time_40['QA'] + std_time_40['QA'], mean_time_40['QA'] - std_time_40['QA'], alpha=0.4, color='r')\n",
    "\n",
    "fig.subplots_adjust(left = 0.2)\n",
    "ax.legend(loc='upper left', ncol=2)\n",
    "ax.set_xlabel('data size')\n",
    "ax.set_ylabel('total calculation time')\n",
    "\n",
    "ax.set_xticks(bit_list_40)\n",
    "ax.set_yscale('log')\n",
    "plt.title('total calculation time 20-40bit')\n",
    "plt.savefig('slide/time_total_40_std_log.png')\n",
    "plt.show()"
   ]
  },
  {
   "cell_type": "code",
   "execution_count": 20,
   "metadata": {},
   "outputs": [
    {
     "data": {
      "image/png": "[encoded data removed]",
      "text/plain": [
       "<Figure size 432x288 with 1 Axes>"
      ]
     },
     "metadata": {
      "needs_background": "light"
     },
     "output_type": "display_data"
    }
   ],
   "source": [
    "############################################## total calculation time40 ###################################################\n",
    "fig, ax = plt.subplots(1)\n",
    "\n",
    "ax.plot(bit_list_40, mean_time_40['SA'], label='SA', color='g')\n",
    "ax.plot(bit_list_40, mean_time_40['QA'], label='QA', color='r')\n",
    "\n",
    "ax.fill_between(bit_list_40, mean_time_40['SA'] + std_time_40['SA'], mean_time_40['SA'] - std_time_40['SA'], alpha=0.4, color='g')\n",
    "ax.fill_between(bit_list_40, mean_time_40['QA'] + std_time_40['QA'], mean_time_40['QA'] - std_time_40['QA'], alpha=0.4, color='r')\n",
    "\n",
    "ax.legend(loc='upper left', ncol=2)\n",
    "ax.set_xlabel('data size')\n",
    "ax.set_ylabel('total calculation time')\n",
    "\n",
    "ax.set_xticks(bit_list_40)\n",
    "plt.title('total calculation time 20-40bit')\n",
    "plt.savefig('slide/time_total_40_std.png')\n",
    "plt.show()"
   ]
  },
  {
   "cell_type": "code",
   "execution_count": 55,
   "metadata": {},
   "outputs": [
    {
     "data": {
      "image/png": "[encoded data removed]",
      "text/plain": [
       "<Figure size 432x288 with 1 Axes>"
      ]
     },
     "metadata": {
      "needs_background": "light"
     },
     "output_type": "display_data"
    }
   ],
   "source": [
    "############################################## total calculation time40 ###################################################\n",
    "fig, ax = plt.subplots(1)\n",
    "\n",
    "ax.plot(bit_list_40, mean_time_40['SA'], label='SA', color='g')\n",
    "ax.plot(bit_list_40, mean_time_40['QA'], label='QA', color='r')\n",
    "fig.subplots_adjust(left = 0.2)\n",
    "ax.legend(loc='upper left', ncol=2)\n",
    "ax.set_xlabel('data size')\n",
    "ax.set_ylabel('total calculation time')\n",
    "\n",
    "ax.set_xticks(bit_list_40)\n",
    "ax.set_yscale('log')\n",
    "plt.title('total calculation time 20-40bit')\n",
    "plt.savefig('slide/time_total_40_log.png')\n",
    "plt.show()"
   ]
  },
  {
   "cell_type": "code",
   "execution_count": 22,
   "metadata": {},
   "outputs": [
    {
     "data": {
      "image/png": "[encoded data removed]",
      "text/plain": [
       "<Figure size 432x288 with 1 Axes>"
      ]
     },
     "metadata": {
      "needs_background": "light"
     },
     "output_type": "display_data"
    }
   ],
   "source": [
    "############################################## total calculation time40 ###################################################\n",
    "fig, ax = plt.subplots(1)\n",
    "\n",
    "ax.plot(bit_list_40, mean_time_40['SA'], label='SA', color='g')\n",
    "ax.plot(bit_list_40, mean_time_40['QA'], label='QA', color='r')\n",
    "\n",
    "ax.legend(loc='upper left', ncol=2)\n",
    "ax.set_xlabel('data size')\n",
    "ax.set_ylabel('total calculation time')\n",
    "\n",
    "ax.set_xticks(bit_list_40)\n",
    "plt.title('total calculation time 20-40bit')\n",
    "plt.savefig('slide/time_total_40.png')\n",
    "plt.show()"
   ]
  },
  {
   "cell_type": "code",
   "execution_count": 23,
   "metadata": {},
   "outputs": [],
   "source": [
    "mean_valid_y_num_30 = {'enumeration': np.array([  4424.8,  27893.6, 302494.2]),\n",
    " 'random': np.array([43.        , 10.66666667,  2.75      ]),\n",
    " 'SA': np.array([2600. , 6477.6, 9210.8]),\n",
    " 'QA': np.array([204.4,  91. ,  82. ])}"
   ]
  },
  {
   "cell_type": "code",
   "execution_count": 26,
   "metadata": {},
   "outputs": [],
   "source": [
    "std_valid_y_num_30 = {'enumeration': np.array([  6058.52290249,  31593.63668589, 301814.3223854 ]),\n",
    " 'random': np.array([58.94064811,  8.80656321,  2.48746859]),\n",
    " 'SA': np.array([2486.35741598, 2703.59683385,  515.39088079]),\n",
    " 'QA': np.array([138.13413771,  62.17716623, 102.98931983])}"
   ]
  },
  {
   "cell_type": "code",
   "execution_count": 47,
   "metadata": {},
   "outputs": [
    {
     "data": {
      "image/png": "[encoded data removed]",
      "text/plain": [
       "<Figure size 432x288 with 1 Axes>"
      ]
     },
     "metadata": {
      "needs_background": "light"
     },
     "output_type": "display_data"
    }
   ],
   "source": [
    "############################################## total valid y_num30 ###################################################\n",
    "fig, ax = plt.subplots(1)\n",
    "\n",
    "ax.plot(bit_list_30, mean_valid_y_num_30['enumeration'], label='exhaustive enumeration', color='b')\n",
    "ax.plot(bit_list_30, mean_valid_y_num_30['SA'], label='SA', color='g')\n",
    "ax.plot(bit_list_30, mean_valid_y_num_30['QA'], label='QA', color='r')\n",
    "\n",
    "#ax.fill_between(bit_list_30, mean_valid_y_num_30['enumeration'] + std_valid_y_num_30['enumeration'], mean_valid_y_num_30['enumeration'] - std_valid_y_num_30['enumeration'], alpha=0.4, color='b')\n",
    "ax.fill_between(bit_list_30, mean_valid_y_num_30['SA'] + std_valid_y_num_30['SA'], mean_valid_y_num_30['SA'] - std_valid_y_num_30['SA'], alpha=0.4, color='g')\n",
    "ax.fill_between(bit_list_30, mean_valid_y_num_30['QA'] + std_valid_y_num_30['QA'], mean_valid_y_num_30['QA'] - std_valid_y_num_30['QA'], alpha=0.4, color='r')\n",
    "\n",
    "#ax.legend(bbox_to_anchor=(0, -0.2), loc='upper left', ncol=2)\n",
    "#ax.legend(loc='upper left', ncol=3)\n",
    "plt.legend(bbox_to_anchor=(0, -0.2), loc='upper left', borderaxespad=0, fontsize=10, ncol = 3)\n",
    "ax.set_xlabel('data size')\n",
    "ax.set_ylabel('number of valid sample')\n",
    "\n",
    "ax.set_xticks(bit_list_30)\n",
    "ax.set_yscale('log')\n",
    "plt.title('number of valid sample 20-30bit')\n",
    "plt.savefig('slide/valid_y_num30_std_log.png')\n",
    "plt.show()"
   ]
  },
  {
   "cell_type": "code",
   "execution_count": 56,
   "metadata": {},
   "outputs": [
    {
     "data": {
      "image/png": "[encoded data removed]",
      "text/plain": [
       "<Figure size 432x288 with 1 Axes>"
      ]
     },
     "metadata": {
      "needs_background": "light"
     },
     "output_type": "display_data"
    }
   ],
   "source": [
    "############################################## total valid y_num30 ###################################################\n",
    "fig, ax = plt.subplots(1)\n",
    "\n",
    "ax.plot(bit_list_30, mean_valid_y_num_30['enumeration'], label='exhaustive enumeration', color='b')\n",
    "ax.plot(bit_list_30, mean_valid_y_num_30['SA'], label='SA', color='g')\n",
    "ax.plot(bit_list_30, mean_valid_y_num_30['QA'], label='QA', color='r')\n",
    "\n",
    "#ax.fill_between(bit_list_30, mean_valid_y_num_30['enumeration'] + std_valid_y_num_30['enumeration'], mean_valid_y_num_30['enumeration'] - std_valid_y_num_30['enumeration'], alpha=0.4, color='b')\n",
    "ax.fill_between(bit_list_30, mean_valid_y_num_30['SA'] + std_valid_y_num_30['SA'], mean_valid_y_num_30['SA'] - std_valid_y_num_30['SA'], alpha=0.4, color='g')\n",
    "ax.fill_between(bit_list_30, mean_valid_y_num_30['QA'] + std_valid_y_num_30['QA'], mean_valid_y_num_30['QA'] - std_valid_y_num_30['QA'], alpha=0.4, color='r')\n",
    "\n",
    "#ax.legend(bbox_to_anchor=(0, -0.2), loc='upper left', ncol=2)\n",
    "fig.subplots_adjust(left = 0.2)\n",
    "plt.legend(bbox_to_anchor=(0, -0.2), loc='upper left', borderaxespad=0, fontsize=10, ncol = 3)\n",
    "ax.set_xlabel('data size')\n",
    "ax.set_ylabel('number of valid sample')\n",
    "\n",
    "ax.set_xticks(bit_list_30)\n",
    "plt.title('number of valid sample 20-30bit')\n",
    "plt.savefig('slide/valid_y_num30_std.png')\n",
    "plt.show()"
   ]
  },
  {
   "cell_type": "code",
   "execution_count": 31,
   "metadata": {},
   "outputs": [
    {
     "data": {
      "image/png": "[encoded data removed]",
      "text/plain": [
       "<Figure size 432x288 with 1 Axes>"
      ]
     },
     "metadata": {
      "needs_background": "light"
     },
     "output_type": "display_data"
    }
   ],
   "source": [
    "############################################## total valid y_num30 ###################################################\n",
    "fig, ax = plt.subplots(1)\n",
    "\n",
    "ax.plot(bit_list_30, mean_valid_y_num_30['enumeration'], label='exhaustive enumeration', color='b')\n",
    "ax.plot(bit_list_30, mean_valid_y_num_30['SA'], label='SA', color='g')\n",
    "ax.plot(bit_list_30, mean_valid_y_num_30['QA'], label='QA', color='r')\n",
    "\n",
    "ax.legend(loc='upper left', ncol=1)\n",
    "#plt.legend(bbox_to_anchor=(0, -0.2), loc='upper left', borderaxespad=0, fontsize=10, ncol = 3)\n",
    "ax.set_xlabel('data size')\n",
    "ax.set_ylabel('number of valid sample')\n",
    "\n",
    "ax.set_xticks(bit_list_30)\n",
    "ax.set_yscale('log')\n",
    "plt.title('number of valid sample 20-30bit')\n",
    "plt.savefig('slide/valid_y_num30_log.png')\n",
    "plt.show()"
   ]
  },
  {
   "cell_type": "code",
   "execution_count": 33,
   "metadata": {},
   "outputs": [
    {
     "data": {
      "image/png": "[encoded data removed]",
      "text/plain": [
       "<Figure size 432x288 with 1 Axes>"
      ]
     },
     "metadata": {
      "needs_background": "light"
     },
     "output_type": "display_data"
    }
   ],
   "source": [
    "############################################## total valid y_num30 ###################################################\n",
    "fig, ax = plt.subplots(1)\n",
    "\n",
    "ax.plot(bit_list_30, mean_valid_y_num_30['enumeration'], label='exhaustive enumeration', color='b')\n",
    "ax.plot(bit_list_30, mean_valid_y_num_30['SA'], label='SA', color='g')\n",
    "ax.plot(bit_list_30, mean_valid_y_num_30['QA'], label='QA', color='r')\n",
    "\n",
    "ax.legend(loc='upper left', ncol=3)\n",
    "ax.set_xlabel('data size')\n",
    "ax.set_ylabel('number of valid sample')\n",
    "\n",
    "ax.set_xticks(bit_list_30)\n",
    "plt.title('number of valid sample 20-30bit')\n",
    "plt.savefig('slide/valid_y_num30.png')\n",
    "plt.show()"
   ]
  },
  {
   "cell_type": "code",
   "execution_count": 34,
   "metadata": {},
   "outputs": [],
   "source": [
    "mean_p_30 = {'enumeration': np.array([0.2915549 , 0.14052669, 0.14844013]),\n",
    " 'random': np.array([0.31741186, 0.28019324, 0.19642857]),\n",
    " 'SA': np.array([0.29186597, 0.14243525, 0.14232701]),\n",
    " 'QA': np.array([0.31263678, 0.11931493, 0.10433381])}"
   ]
  },
  {
   "cell_type": "code",
   "execution_count": 35,
   "metadata": {},
   "outputs": [],
   "source": [
    "std_p_30 = {'enumeration': np.array([0.07412885, 0.06575744, 0.10007932]),\n",
    " 'random': np.array([0.1790438 , 0.28235052, 0.21053261]),\n",
    " 'SA': np.array([0.07390318, 0.06907029, 0.09416441]),\n",
    " 'QA': np.array([0.10814523, 0.09965507, 0.08750269])}"
   ]
  },
  {
   "cell_type": "code",
   "execution_count": 36,
   "metadata": {},
   "outputs": [
    {
     "data": {
      "image/png": "[encoded data removed]",
      "text/plain": [
       "<Figure size 432x288 with 1 Axes>"
      ]
     },
     "metadata": {
      "needs_background": "light"
     },
     "output_type": "display_data"
    }
   ],
   "source": [
    "############################################## p30 ###################################################\n",
    "fig, ax = plt.subplots(1)\n",
    "\n",
    "ax.plot(bit_list_30, mean_p_30['enumeration'], label='exhaustive enumeration', color='b')\n",
    "ax.plot(bit_list_30, mean_p_30['SA'], label='SA', color='g')\n",
    "ax.plot(bit_list_30, mean_p_30['QA'], label='QA', color='r')\n",
    "\n",
    "ax.fill_between(bit_list_30, mean_p_30['enumeration'] + std_p_30['enumeration'], mean_p_30['enumeration'] - std_p_30['enumeration'], alpha=0.4, color='b')\n",
    "ax.fill_between(bit_list_30, mean_p_30['SA'] + std_p_30['SA'], mean_p_30['SA'] - std_p_30['SA'], alpha=0.4, color='g')\n",
    "ax.fill_between(bit_list_30, mean_p_30['QA'] + std_p_30['QA'], mean_p_30['QA'] - std_p_30['QA'], alpha=0.4, color='r')\n",
    "\n",
    "#ax.legend(bbox_to_anchor=(0, -0.2), loc='upper left', ncol=2)\n",
    "plt.legend(bbox_to_anchor=(0, -0.2), loc='upper left', borderaxespad=0, fontsize=10, ncol = 3)\n",
    "#ax.legend(loc='lower left', ncol=2)\n",
    "ax.set_xlabel('data size')\n",
    "ax.set_ylabel('p value')\n",
    "\n",
    "ax.set_xticks(bit_list_30)\n",
    "ax.set_yscale('log')\n",
    "plt.title('p value 20-30bit')\n",
    "plt.savefig('slide/p_std_log.png')\n",
    "plt.show()"
   ]
  },
  {
   "cell_type": "code",
   "execution_count": 37,
   "metadata": {},
   "outputs": [
    {
     "data": {
      "image/png": "[encoded data removed]",
      "text/plain": [
       "<Figure size 432x288 with 1 Axes>"
      ]
     },
     "metadata": {
      "needs_background": "light"
     },
     "output_type": "display_data"
    }
   ],
   "source": [
    "############################################## p30 ###################################################\n",
    "fig, ax = plt.subplots(1)\n",
    "\n",
    "ax.plot(bit_list_30, mean_p_30['enumeration'], label='exhaustive enumeration', color='b')\n",
    "ax.plot(bit_list_30, mean_p_30['random'], label='random', color='#ff7f00')\n",
    "ax.plot(bit_list_30, mean_p_30['SA'], label='SA', color='g')\n",
    "ax.plot(bit_list_30, mean_p_30['QA'], label='QA', color='r')\n",
    "\n",
    "ax.fill_between(bit_list_30, mean_p_30['enumeration'] + std_p_30['enumeration'], mean_p_30['enumeration'] - std_p_30['enumeration'], alpha=0.4, color='b')\n",
    "ax.fill_between(bit_list_30, mean_p_30['random'] + std_p_30['random'], mean_p_30['random'] - std_p_30['random'], alpha=0.4, color='#ff7f00')\n",
    "ax.fill_between(bit_list_30, mean_p_30['SA'] + std_p_30['SA'], mean_p_30['SA'] - std_p_30['SA'], alpha=0.4, color='g')\n",
    "ax.fill_between(bit_list_30, mean_p_30['QA'] + std_p_30['QA'], mean_p_30['QA'] - std_p_30['QA'], alpha=0.4, color='r')\n",
    "\n",
    "#ax.legend(bbox_to_anchor=(0, -0.2), loc='upper left', ncol=2)\n",
    "plt.legend(bbox_to_anchor=(0, -0.2), loc='upper left', borderaxespad=0, fontsize=10, ncol = 3)\n",
    "#ax.legend(loc='lower left', ncol=2)\n",
    "ax.set_xlabel('data size')\n",
    "ax.set_ylabel('p value')\n",
    "\n",
    "ax.set_xticks(bit_list_30)\n",
    "plt.title('p value 20-30bit')\n",
    "plt.savefig('slide/p_std.png')\n",
    "plt.show()"
   ]
  },
  {
   "cell_type": "code",
   "execution_count": 45,
   "metadata": {},
   "outputs": [
    {
     "data": {
      "image/png": "[encoded data removed]",
      "text/plain": [
       "<Figure size 432x288 with 1 Axes>"
      ]
     },
     "metadata": {
      "needs_background": "light"
     },
     "output_type": "display_data"
    }
   ],
   "source": [
    "############################################## p30 ###################################################\n",
    "fig, ax = plt.subplots(1)\n",
    "\n",
    "ax.plot(bit_list_30, mean_p_30['enumeration'], label='exhaustive enumeration', color='b')\n",
    "ax.plot(bit_list_30, mean_p_30['SA'], label='SA', color='g')\n",
    "ax.plot(bit_list_30, mean_p_30['QA'], label='QA', color='r')\n",
    "\n",
    "#ax.legend(bbox_to_anchor=(0, -0.2), loc='upper left', ncol=2)\n",
    "#plt.legend(bbox_to_anchor=(0, -0.2), loc='upper left', borderaxespad=0, fontsize=10, ncol = 3)\n",
    "ax.legend(loc='upper right', ncol=1)\n",
    "ax.set_xlabel('data size')\n",
    "ax.set_ylabel('p value')\n",
    "\n",
    "ax.set_xticks(bit_list_30)\n",
    "ax.set_yscale('log')\n",
    "plt.title('p value 20-30bit')\n",
    "plt.savefig('slide/p_log.png')\n",
    "plt.show()"
   ]
  },
  {
   "cell_type": "code",
   "execution_count": 46,
   "metadata": {},
   "outputs": [
    {
     "data": {
      "image/png": "[encoded data removed]",
      "text/plain": [
       "<Figure size 432x288 with 1 Axes>"
      ]
     },
     "metadata": {
      "needs_background": "light"
     },
     "output_type": "display_data"
    }
   ],
   "source": [
    "############################################## p30 ###################################################\n",
    "fig, ax = plt.subplots(1)\n",
    "\n",
    "ax.plot(bit_list_30, mean_p_30['enumeration'], label='exhaustive enumeration', color='b')\n",
    "ax.plot(bit_list_30, mean_p_30['SA'], label='SA', color='g')\n",
    "ax.plot(bit_list_30, mean_p_30['QA'], label='QA', color='r')\n",
    "\n",
    "ax.legend(loc='upper right', ncol=1)\n",
    "ax.set_xlabel('data size')\n",
    "ax.set_ylabel('p value')\n",
    "\n",
    "ax.set_xticks(bit_list_30)\n",
    "plt.title('p value 20-30bit')\n",
    "plt.savefig('slide/p_.png')\n",
    "plt.show()"
   ]
  },
  {
   "cell_type": "code",
   "execution_count": null,
   "metadata": {},
   "outputs": [],
   "source": []
  },
  {
   "cell_type": "code",
   "execution_count": null,
   "metadata": {},
   "outputs": [],
   "source": []
  },
  {
   "cell_type": "markdown",
   "metadata": {},
   "source": [
    "### time"
   ]
  },
  {
   "cell_type": "code",
   "execution_count": 113,
   "metadata": {},
   "outputs": [],
   "source": [
    "mean_time_30 = {}\n",
    "std_time_30 = {}\n",
    "for method in method_list_all:\n",
    "    mean_time_list = []\n",
    "    std_time_list = []\n",
    "    for bit in bit_list_30:\n",
    "        time_list = list(time_dic[method][bit].values())\n",
    "        mean_time_list.append(statistics.mean(time_list))\n",
    "        std_time_list.append(statistics.pstdev(time_list))\n",
    "\n",
    "    mean_time_30[method] = np.array(mean_time_list)\n",
    "    std_time_30[method] = np.array(std_time_list)"
   ]
  },
  {
   "cell_type": "code",
   "execution_count": 114,
   "metadata": {},
   "outputs": [
    {
     "data": {
      "text/plain": [
       "{'enumeration': array([1.2240000e+00, 5.8391400e+02, 5.4774806e+04]),\n",
       " 'random': array([0.16080585, 0.08665872, 0.09262717]),\n",
       " 'SA': array([4.2507319 , 5.84283385, 7.57952614]),\n",
       " 'QA': array([2.4003082, 2.4003524, 2.4004156])}"
      ]
     },
     "execution_count": 114,
     "metadata": {},
     "output_type": "execute_result"
    }
   ],
   "source": [
    "mean_time_30"
   ]
  },
  {
   "cell_type": "code",
   "execution_count": 115,
   "metadata": {},
   "outputs": [
    {
     "data": {
      "text/plain": [
       "{'enumeration': array([1.81961095e+00, 1.15520876e+03, 6.20200715e+04]),\n",
       " 'random': array([0.05889176, 0.01240844, 0.03638351]),\n",
       " 'SA': array([0.09981246, 0.1217548 , 0.15658652]),\n",
       " 'QA': array([2.98087236e-05, 1.24193398e-05, 3.46906327e-05])}"
      ]
     },
     "execution_count": 115,
     "metadata": {},
     "output_type": "execute_result"
    }
   ],
   "source": [
    "std_time_30"
   ]
  },
  {
   "cell_type": "code",
   "execution_count": 118,
   "metadata": {},
   "outputs": [],
   "source": [
    "mean_time_40 = {}\n",
    "std_time_40 = {}\n",
    "for method in method_list_40:\n",
    "    mean_time_list = []\n",
    "    std_time_list = []\n",
    "    for bit in bit_list_40:\n",
    "        time_list = list(time_dic[method][bit].values())\n",
    "        mean_time_list.append(statistics.mean(time_list))\n",
    "        std_time_list.append(statistics.pstdev(time_list))\n",
    "\n",
    "    mean_time_40[method] = np.array(mean_time_list)\n",
    "    std_time_40[method] = np.array(std_time_list)"
   ]
  },
  {
   "cell_type": "code",
   "execution_count": 119,
   "metadata": {},
   "outputs": [
    {
     "data": {
      "text/plain": [
       "{'random': array([0.16080585, 0.08665872, 0.09262717, 0.11114168, 0.09287906]),\n",
       " 'SA': array([ 4.2507319 ,  5.84283385,  7.57952614,  9.74239192, 11.93023701]),\n",
       " 'QA': array([2.4003082, 2.4003524, 2.4004156, 2.4004258, 2.4004732])}"
      ]
     },
     "execution_count": 119,
     "metadata": {},
     "output_type": "execute_result"
    }
   ],
   "source": [
    "mean_time_40"
   ]
  },
  {
   "cell_type": "code",
   "execution_count": 120,
   "metadata": {},
   "outputs": [
    {
     "data": {
      "text/plain": [
       "{'random': array([0.05889176, 0.01240844, 0.03638351, 0.03011434, 0.        ]),\n",
       " 'SA': array([0.09981246, 0.1217548 , 0.15658652, 0.12362918, 0.23519078]),\n",
       " 'QA': array([2.98087236e-05, 1.24193398e-05, 3.46906327e-05, 3.12179436e-05,\n",
       "        3.56617442e-05])}"
      ]
     },
     "execution_count": 120,
     "metadata": {},
     "output_type": "execute_result"
    }
   ],
   "source": [
    "std_time_40"
   ]
  },
  {
   "cell_type": "markdown",
   "metadata": {},
   "source": [
    "### per_time"
   ]
  },
  {
   "cell_type": "code",
   "execution_count": 121,
   "metadata": {},
   "outputs": [],
   "source": [
    "mean_per_time_30 = {}\n",
    "std_per_time_30 = {}\n",
    "\n",
    "for method in method_list_all:\n",
    "    mean_time_list = []\n",
    "    std_time_list = []\n",
    "    for bit in bit_list_30:\n",
    "        time_list = list(per_time_dic[method][bit].values())\n",
    "        mean_time_list.append(statistics.mean(time_list))\n",
    "        std_time_list.append(statistics.pstdev(time_list))\n",
    "\n",
    "    mean_per_time_30[method] = np.array(mean_time_list)\n",
    "    std_per_time_30[method] = np.array(std_time_list)"
   ]
  },
  {
   "cell_type": "code",
   "execution_count": 122,
   "metadata": {},
   "outputs": [
    {
     "data": {
      "text/plain": [
       "{'enumeration': array([0.00062151, 0.00677015, 0.45260422]),\n",
       " 'random': array([0.0401529 , 0.01450673, 0.05806796]),\n",
       " 'SA': array([0.00487004, 0.00147079, 0.00082512]),\n",
       " 'QA': array([0.02132916, 0.26005924, 0.12836257])}"
      ]
     },
     "execution_count": 122,
     "metadata": {},
     "output_type": "execute_result"
    }
   ],
   "source": [
    "mean_per_time_30"
   ]
  },
  {
   "cell_type": "code",
   "execution_count": 123,
   "metadata": {},
   "outputs": [
    {
     "data": {
      "text/plain": [
       "{'enumeration': array([0.00094341, 0.01273235, 0.80535768]),\n",
       " 'random': array([0.06908087, 0.00885738, 0.0281738 ]),\n",
       " 'SA': array([5.79092763e-03, 1.41961623e-03, 4.26170862e-05]),\n",
       " 'QA': array([0.01637564, 0.47013611, 0.1127326 ])}"
      ]
     },
     "execution_count": 123,
     "metadata": {},
     "output_type": "execute_result"
    }
   ],
   "source": [
    "std_per_time_30"
   ]
  },
  {
   "cell_type": "code",
   "execution_count": 127,
   "metadata": {},
   "outputs": [],
   "source": [
    "mean_per_time_40 = {}\n",
    "std_per_time_40 = {}\n",
    "\n",
    "for method in method_list_40:\n",
    "    mean_time_list = []\n",
    "    std_time_list = []\n",
    "    for bit in bit_list_40:\n",
    "        time_list = list(per_time_dic[method][bit].values())\n",
    "        mean_time_list.append(statistics.mean(time_list))\n",
    "        std_time_list.append(statistics.pstdev(time_list))\n",
    "\n",
    "    mean_per_time_40[method] = np.array(mean_time_list)\n",
    "    std_per_time_40[method] = np.array(std_time_list)"
   ]
  },
  {
   "cell_type": "code",
   "execution_count": 128,
   "metadata": {},
   "outputs": [
    {
     "data": {
      "text/plain": [
       "{'random': array([0.0401529 , 0.01450673, 0.05806796, 0.05217533, 0.09287906]),\n",
       " 'SA': array([0.00487004, 0.00147079, 0.00082512, 0.0010118 , 0.00123562]),\n",
       " 'QA': array([0.02132916, 0.26005924, 0.12836257, 0.18910536, 0.4939894 ])}"
      ]
     },
     "execution_count": 128,
     "metadata": {},
     "output_type": "execute_result"
    }
   ],
   "source": [
    "mean_per_time_40"
   ]
  },
  {
   "cell_type": "code",
   "execution_count": 129,
   "metadata": {},
   "outputs": [
    {
     "data": {
      "text/plain": [
       "{'random': array([0.06908087, 0.00885738, 0.0281738 , 0.02766287, 0.        ]),\n",
       " 'SA': array([5.79092763e-03, 1.41961623e-03, 4.26170862e-05, 2.24769025e-05,\n",
       "        1.71427588e-05]),\n",
       " 'QA': array([0.01637564, 0.47013611, 0.1127326 , 0.12919357, 0.38299783])}"
      ]
     },
     "execution_count": 129,
     "metadata": {},
     "output_type": "execute_result"
    }
   ],
   "source": [
    "std_per_time_40"
   ]
  },
  {
   "cell_type": "markdown",
   "metadata": {},
   "source": [
    "### valid_y_num"
   ]
  },
  {
   "cell_type": "code",
   "execution_count": 130,
   "metadata": {},
   "outputs": [],
   "source": [
    "mean_valid_y_num_30 = {}\n",
    "std_valid_y_num_30 = {}\n",
    "\n",
    "for method in method_list_all:\n",
    "    mean_num_list = []\n",
    "    std_num_list = []\n",
    "    for bit in bit_list_30:\n",
    "        num_list = list(y_dic['valid_y_num'][method][bit].values())\n",
    "        mean_num_list.append(statistics.mean(num_list))\n",
    "        std_num_list.append(statistics.pstdev(num_list))\n",
    "\n",
    "    mean_valid_y_num_30[method] = np.array(mean_num_list)\n",
    "    std_valid_y_num_30[method] = np.array(std_num_list)"
   ]
  },
  {
   "cell_type": "code",
   "execution_count": 131,
   "metadata": {},
   "outputs": [
    {
     "data": {
      "text/plain": [
       "{'enumeration': array([  4424.8,  27893.6, 302494.2]),\n",
       " 'random': array([43.        , 10.66666667,  2.75      ]),\n",
       " 'SA': array([2600. , 6477.6, 9210.8]),\n",
       " 'QA': array([204.4,  91. ,  82. ])}"
      ]
     },
     "execution_count": 131,
     "metadata": {},
     "output_type": "execute_result"
    }
   ],
   "source": [
    "mean_valid_y_num_30"
   ]
  },
  {
   "cell_type": "code",
   "execution_count": 132,
   "metadata": {},
   "outputs": [
    {
     "data": {
      "text/plain": [
       "{'enumeration': array([  6058.52290249,  31593.63668589, 301814.3223854 ]),\n",
       " 'random': array([58.94064811,  8.80656321,  2.48746859]),\n",
       " 'SA': array([2486.35741598, 2703.59683385,  515.39088079]),\n",
       " 'QA': array([138.13413771,  62.17716623, 102.98931983])}"
      ]
     },
     "execution_count": 132,
     "metadata": {},
     "output_type": "execute_result"
    }
   ],
   "source": [
    "std_valid_y_num_30"
   ]
  },
  {
   "cell_type": "code",
   "execution_count": 133,
   "metadata": {},
   "outputs": [],
   "source": [
    "mean_valid_y_num_40 = {}\n",
    "std_valid_y_num_40 = {}\n",
    "\n",
    "for method in method_list_40:\n",
    "    mean_num_list = []\n",
    "    std_num_list = []\n",
    "    for bit in bit_list_40:\n",
    "        num_list = list(y_dic['valid_y_num'][method][bit].values())\n",
    "        mean_num_list.append(statistics.mean(num_list))\n",
    "        std_num_list.append(statistics.pstdev(num_list))\n",
    "\n",
    "    mean_valid_y_num_40[method] = np.array(mean_num_list)\n",
    "    std_valid_y_num_40[method] = np.array(std_num_list)"
   ]
  },
  {
   "cell_type": "code",
   "execution_count": 134,
   "metadata": {},
   "outputs": [
    {
     "data": {
      "text/plain": [
       "{'random': array([43.        , 10.66666667,  2.75      ,  2.75      ,  1.        ]),\n",
       " 'SA': array([2600. , 6477.6, 9210.8, 9631.6, 9654.6]),\n",
       " 'QA': array([204.4,  91. ,  82. ,  25.8,   7.8])}"
      ]
     },
     "execution_count": 134,
     "metadata": {},
     "output_type": "execute_result"
    }
   ],
   "source": [
    "mean_valid_y_num_40"
   ]
  },
  {
   "cell_type": "code",
   "execution_count": 135,
   "metadata": {},
   "outputs": [
    {
     "data": {
      "text/plain": [
       "{'random': array([58.94064811,  8.80656321,  2.48746859,  1.47901995,  0.        ]),\n",
       " 'SA': array([2486.35741598, 2703.59683385,  515.39088079,  155.98794825,\n",
       "          70.22421235]),\n",
       " 'QA': array([138.13413771,  62.17716623, 102.98931983,  24.04495789,\n",
       "          4.16653333])}"
      ]
     },
     "execution_count": 135,
     "metadata": {},
     "output_type": "execute_result"
    }
   ],
   "source": [
    "std_valid_y_num_40"
   ]
  },
  {
   "cell_type": "markdown",
   "metadata": {},
   "source": [
    "### p_value"
   ]
  },
  {
   "cell_type": "code",
   "execution_count": 136,
   "metadata": {},
   "outputs": [],
   "source": [
    "mean_p_30 = {}\n",
    "std_p_30 = {}\n",
    "\n",
    "for method in method_list_all:\n",
    "    mean_p_list = []\n",
    "    std_p_list = []\n",
    "    for bit in bit_list_30:\n",
    "        p_list = list(p_dic[method][bit].values())\n",
    "        mean_p_list.append(statistics.mean(p_list))\n",
    "        std_p_list.append(statistics.pstdev(p_list))\n",
    "\n",
    "    mean_p_30[method] = np.array(mean_p_list)\n",
    "    std_p_30[method] = np.array(std_p_list)"
   ]
  },
  {
   "cell_type": "code",
   "execution_count": 137,
   "metadata": {},
   "outputs": [
    {
     "data": {
      "text/plain": [
       "{'enumeration': array([0.2915549 , 0.14052669, 0.14844013]),\n",
       " 'random': array([0.31741186, 0.28019324, 0.19642857]),\n",
       " 'SA': array([0.29186597, 0.14243525, 0.14232701]),\n",
       " 'QA': array([0.31263678, 0.11931493, 0.10433381])}"
      ]
     },
     "execution_count": 137,
     "metadata": {},
     "output_type": "execute_result"
    }
   ],
   "source": [
    "mean_p_30"
   ]
  },
  {
   "cell_type": "code",
   "execution_count": 138,
   "metadata": {},
   "outputs": [
    {
     "data": {
      "text/plain": [
       "{'enumeration': array([0.07412885, 0.06575744, 0.10007932]),\n",
       " 'random': array([0.1790438 , 0.28235052, 0.21053261]),\n",
       " 'SA': array([0.07390318, 0.06907029, 0.09416441]),\n",
       " 'QA': array([0.10814523, 0.09965507, 0.08750269])}"
      ]
     },
     "execution_count": 138,
     "metadata": {},
     "output_type": "execute_result"
    }
   ],
   "source": [
    "std_p_30"
   ]
  },
  {
   "cell_type": "code",
   "execution_count": null,
   "metadata": {},
   "outputs": [],
   "source": []
  },
  {
   "cell_type": "code",
   "execution_count": 142,
   "metadata": {},
   "outputs": [],
   "source": [
    "mean_p_40 = {}\n",
    "std_p_40 = {}\n",
    "\n",
    "for method in method_list_40:\n",
    "    mean_p_list = []\n",
    "    std_p_list = []\n",
    "    for bit in bit_list_40:\n",
    "        #print(bit)\n",
    "        p_list = list(p_dic[method][bit].values())\n",
    "        mean_p_list.append(statistics.mean(p_list))\n",
    "        std_p_list.append(statistics.pstdev(p_list))\n",
    "\n",
    "    mean_p_40[method] = np.array(mean_p_list)\n",
    "    std_p_40[method] = np.array(std_p_list)"
   ]
  },
  {
   "cell_type": "code",
   "execution_count": 143,
   "metadata": {},
   "outputs": [
    {
     "data": {
      "text/plain": [
       "{'random': array([0.31741186, 0.28019324, 0.19642857, 0.25      , 0.        ]),\n",
       " 'SA': array([0.29186597, 0.14243525, 0.14232701, 0.07045267, 0.0450673 ]),\n",
       " 'QA': array([0.31263678, 0.11931493, 0.10433381, 0.02777778, 0.01538462])}"
      ]
     },
     "execution_count": 143,
     "metadata": {},
     "output_type": "execute_result"
    }
   ],
   "source": [
    "mean_p_40"
   ]
  },
  {
   "cell_type": "code",
   "execution_count": 144,
   "metadata": {},
   "outputs": [
    {
     "data": {
      "text/plain": [
       "{'random': array([0.1790438 , 0.28235052, 0.21053261, 0.4330127 , 0.        ]),\n",
       " 'SA': array([0.07390318, 0.06907029, 0.09416441, 0.04330218, 0.0144676 ]),\n",
       " 'QA': array([0.10814523, 0.09965507, 0.08750269, 0.03828902, 0.03076923])}"
      ]
     },
     "execution_count": 144,
     "metadata": {},
     "output_type": "execute_result"
    }
   ],
   "source": [
    "std_p_40"
   ]
  },
  {
   "cell_type": "markdown",
   "metadata": {},
   "source": [
    "### total_y_num"
   ]
  },
  {
   "cell_type": "code",
   "execution_count": 148,
   "metadata": {},
   "outputs": [],
   "source": [
    "mean_total_y_num_40 = {}\n",
    "std_total_y_num_40 = {}\n",
    "\n",
    "for method in method_list_40:\n",
    "    mean_total_num_list = []\n",
    "    std_total_num_list = []\n",
    "    for bit in bit_list_40:\n",
    "        total_num_list = list(y_dic['total_y_num'][method][bit].values())\n",
    "        mean_total_num_list.append(statistics.mean(total_num_list))\n",
    "        std_total_num_list.append(statistics.pstdev(total_num_list))\n",
    "\n",
    "    mean_total_y_num_40[method] = np.array(mean_total_num_list)\n",
    "    std_total_y_num_40[method] = np.array(std_total_num_list)"
   ]
  },
  {
   "cell_type": "code",
   "execution_count": 149,
   "metadata": {},
   "outputs": [
    {
     "data": {
      "text/plain": [
       "{'random': array([43.        , 10.66666667,  2.75      ,  2.75      ,  1.        ]),\n",
       " 'SA': array([9728, 9510, 9610, 9646, 9657]),\n",
       " 'QA': array([237,  93,  82,  25,   7])}"
      ]
     },
     "execution_count": 149,
     "metadata": {},
     "output_type": "execute_result"
    }
   ],
   "source": [
    "mean_total_y_num_40"
   ]
  },
  {
   "cell_type": "code",
   "execution_count": 150,
   "metadata": {},
   "outputs": [
    {
     "data": {
      "text/plain": [
       "{'random': array([58.94064811,  8.80656321,  2.48746859,  1.47901995,  0.        ]),\n",
       " 'SA': array([103.10674081, 492.08637453, 318.58436873, 151.80250327,\n",
       "         70.74602462]),\n",
       " 'QA': array([162.2498074 ,  62.36986452, 103.75933693,  24.04163056,\n",
       "          4.12310563])}"
      ]
     },
     "execution_count": 150,
     "metadata": {},
     "output_type": "execute_result"
    }
   ],
   "source": [
    "std_total_y_num_40"
   ]
  },
  {
   "cell_type": "markdown",
   "metadata": {},
   "source": [
    "### mean_occurrence"
   ]
  },
  {
   "cell_type": "code",
   "execution_count": null,
   "metadata": {},
   "outputs": [],
   "source": []
  },
  {
   "cell_type": "code",
   "execution_count": 154,
   "metadata": {},
   "outputs": [],
   "source": [
    "mean_occurrence_40 = {}\n",
    "std_occurrence_40 = {}\n",
    "\n",
    "for method in method_list_40:\n",
    "    mean_occurrence_list = []\n",
    "    std_occurrence_list = []\n",
    "    for bit in bit_list_40:\n",
    "        occurrence_list = list(y_dic['mean_occurrence'][method][bit].values())\n",
    "        mean_occurrence_list.append(statistics.mean(occurrence_list))\n",
    "        std_occurrence_list.append(statistics.pstdev(occurrence_list))\n",
    "\n",
    "    mean_occurrence_40[method] = np.array(mean_occurrence_list)\n",
    "    std_occurrence_40[method] = np.array(std_occurrence_list)"
   ]
  },
  {
   "cell_type": "code",
   "execution_count": 155,
   "metadata": {},
   "outputs": [
    {
     "data": {
      "text/plain": [
       "{'random': array([1, 1, 1, 1, 1]),\n",
       " 'SA': array([10,  2,  1,  1,  1]),\n",
       " 'QA': array([1, 1, 1, 1, 1])}"
      ]
     },
     "execution_count": 155,
     "metadata": {},
     "output_type": "execute_result"
    }
   ],
   "source": [
    "mean_occurrence_40"
   ]
  },
  {
   "cell_type": "code",
   "execution_count": 156,
   "metadata": {},
   "outputs": [
    {
     "data": {
      "text/plain": [
       "{'random': array([0., 0., 0., 0., 0.]),\n",
       " 'SA': array([12.72792206,  2.        ,  0.        ,  0.        ,  0.        ]),\n",
       " 'QA': array([0., 0., 0., 0., 0.])}"
      ]
     },
     "execution_count": 156,
     "metadata": {},
     "output_type": "execute_result"
    }
   ],
   "source": [
    "std_occurrence_40"
   ]
  },
  {
   "cell_type": "code",
   "execution_count": null,
   "metadata": {},
   "outputs": [],
   "source": []
  },
  {
   "cell_type": "code",
   "execution_count": null,
   "metadata": {},
   "outputs": [],
   "source": []
  },
  {
   "cell_type": "code",
   "execution_count": null,
   "metadata": {},
   "outputs": [],
   "source": []
  }
 ],
 "metadata": {
  "kernelspec": {
   "display_name": "Python 3",
   "language": "python",
   "name": "python3"
  },
  "language_info": {
   "codemirror_mode": {
    "name": "ipython",
    "version": 3
   },
   "file_extension": ".py",
   "mimetype": "text/x-python",
   "name": "python",
   "nbconvert_exporter": "python",
   "pygments_lexer": "ipython3",
   "version": "3.7.9"
  }
 },
 "nbformat": 4,
 "nbformat_minor": 4
}
