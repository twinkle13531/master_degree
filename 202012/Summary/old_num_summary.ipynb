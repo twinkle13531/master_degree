{
 "cells": [
  {
   "cell_type": "code",
   "execution_count": 6,
   "metadata": {},
   "outputs": [
    {
     "name": "stdout",
     "output_type": "stream",
     "text": [
      "/Users/shihosato/src/github.com/twinkle13531/master_degree/202012/Summary\n"
     ]
    }
   ],
   "source": [
    "!pwd"
   ]
  },
  {
   "cell_type": "code",
   "execution_count": 7,
   "metadata": {},
   "outputs": [
    {
     "name": "stdout",
     "output_type": "stream",
     "text": [
      "The autoreload extension is already loaded. To reload it, use:\n",
      "  %reload_ext autoreload\n"
     ]
    }
   ],
   "source": [
    "%load_ext autoreload\n",
    "%autoreload 2"
   ]
  },
  {
   "cell_type": "code",
   "execution_count": 8,
   "metadata": {},
   "outputs": [],
   "source": [
    "import sys, os\n",
    "sys.path.append(os.path.join('..', 'Random'))\n",
    "sys.path.append(os.path.join('..', 'SA'))\n",
    "sys.path.append(os.path.join('..', 'QA'))\n",
    "sys.path.append(os.path.join('..', '4ti2', 'functions'))"
   ]
  },
  {
   "cell_type": "code",
   "execution_count": 9,
   "metadata": {},
   "outputs": [],
   "source": [
    "import QA_DwaveSampler_AutoEmbedding as qda\n",
    "import random_exact_test_functions as ret\n",
    "import SA_exact_test_functions as net\n",
    "import zsolve_t1 as zt\n",
    "import pandas as pd\n",
    "import numpy as np\n",
    "import time\n",
    "import matplotlib.pyplot as plt\n",
    "import statistics\n",
    "import math"
   ]
  },
  {
   "cell_type": "code",
   "execution_count": 10,
   "metadata": {},
   "outputs": [],
   "source": [
    "time_dic = {}"
   ]
  },
  {
   "cell_type": "code",
   "execution_count": 11,
   "metadata": {},
   "outputs": [],
   "source": [
    "y_dic = {'total_y_num':{}, 'mean_occurrence':{}, 'valid_y_num':{}}"
   ]
  },
  {
   "cell_type": "code",
   "execution_count": 12,
   "metadata": {},
   "outputs": [],
   "source": [
    "per_time_dic = {}"
   ]
  },
  {
   "cell_type": "code",
   "execution_count": 13,
   "metadata": {},
   "outputs": [],
   "source": [
    "mean_broken_chain_proportion = {}#only QA"
   ]
  },
  {
   "cell_type": "code",
   "execution_count": 29,
   "metadata": {},
   "outputs": [],
   "source": [
    "p_dic = {}"
   ]
  },
  {
   "cell_type": "code",
   "execution_count": 14,
   "metadata": {},
   "outputs": [],
   "source": [
    "chain_strength_dic = {20:10, 25:15, 30:20, 35:20, 40:30}"
   ]
  },
  {
   "cell_type": "code",
   "execution_count": 15,
   "metadata": {},
   "outputs": [],
   "source": [
    "bit_list = [20, 25, 30, 35, 40]\n",
    "num_list = [0, 1, 2, 3, 4]"
   ]
  },
  {
   "cell_type": "markdown",
   "metadata": {},
   "source": [
    "## QA\n",
    "計算時間の制約があるので一気に、まとめて計算する。"
   ]
  },
  {
   "cell_type": "code",
   "execution_count": 102,
   "metadata": {},
   "outputs": [],
   "source": [
    "n, num_reads = 10, 1000"
   ]
  },
  {
   "cell_type": "code",
   "execution_count": 103,
   "metadata": {},
   "outputs": [],
   "source": [
    "time_dic['QA'] = {}\n",
    "y_dic['total_y_num']['QA'] = {}\n",
    "y_dic['mean_occurrence']['QA'] = {}\n",
    "y_dic['valid_y_num']['QA'] = {}\n",
    "per_time_dic['QA'] = {}\n",
    "p_dic['QA'] = {}"
   ]
  },
  {
   "cell_type": "code",
   "execution_count": 105,
   "metadata": {},
   "outputs": [
    {
     "name": "stdout",
     "output_type": "stream",
     "text": [
      "20_0 finish\n",
      "20_1 finish\n",
      "20_2 finish\n",
      "20_3 finish\n",
      "20_4 finish\n",
      "25_0 finish\n",
      "25_1 finish\n",
      "25_2 finish\n",
      "25_3 finish\n",
      "25_4 finish\n",
      "30_0 finish\n",
      "30_1 finish\n",
      "30_2 finish\n",
      "30_3 finish\n",
      "30_4 finish\n",
      "35_0 finish\n",
      "35_1 finish\n",
      "35_2 finish\n",
      "35_3 finish\n",
      "35_4 finish\n",
      "40_0 finish\n",
      "40_1 finish\n"
     ]
    },
    {
     "ename": "OSError",
     "evalue": "('Connection aborted.', RemoteDisconnected('Remote end closed connection without response'))",
     "output_type": "error",
     "traceback": [
      "\u001b[0;31m---------------------------------------------------------------------------\u001b[0m",
      "\u001b[0;31mOSError\u001b[0m                                   Traceback (most recent call last)",
      "\u001b[0;32m<ipython-input-105-db981fcbd2c5>\u001b[0m in \u001b[0;36m<module>\u001b[0;34m\u001b[0m\n\u001b[1;32m     15\u001b[0m \u001b[0;34m\u001b[0m\u001b[0m\n\u001b[1;32m     16\u001b[0m         \u001b[0mqqda\u001b[0m \u001b[0;34m=\u001b[0m \u001b[0mqda\u001b[0m\u001b[0;34m.\u001b[0m\u001b[0mQA_DSampler_AEmbedding\u001b[0m\u001b[0;34m(\u001b[0m\u001b[0mdf\u001b[0m\u001b[0;34m,\u001b[0m \u001b[0mbqm\u001b[0m\u001b[0;34m,\u001b[0m \u001b[0mn\u001b[0m\u001b[0;34m,\u001b[0m \u001b[0mnum_reads\u001b[0m\u001b[0;34m,\u001b[0m \u001b[0mchain_strength\u001b[0m\u001b[0;34m)\u001b[0m\u001b[0;34m\u001b[0m\u001b[0;34m\u001b[0m\u001b[0m\n\u001b[0;32m---> 17\u001b[0;31m         \u001b[0mvalid_y_info_dic\u001b[0m\u001b[0;34m,\u001b[0m \u001b[0mcalculation_time\u001b[0m \u001b[0;34m=\u001b[0m \u001b[0mqqda\u001b[0m\u001b[0;34m.\u001b[0m\u001b[0mfind_valid_y_time_ntimes\u001b[0m\u001b[0;34m(\u001b[0m\u001b[0;34m)\u001b[0m\u001b[0;34m\u001b[0m\u001b[0;34m\u001b[0m\u001b[0m\n\u001b[0m\u001b[1;32m     18\u001b[0m \u001b[0;34m\u001b[0m\u001b[0m\n\u001b[1;32m     19\u001b[0m         \u001b[0;32mif\u001b[0m \u001b[0mlen\u001b[0m\u001b[0;34m(\u001b[0m\u001b[0mvalid_y_info_dic\u001b[0m\u001b[0;34m)\u001b[0m \u001b[0;34m>\u001b[0m \u001b[0;36m0\u001b[0m\u001b[0;34m:\u001b[0m\u001b[0;34m\u001b[0m\u001b[0;34m\u001b[0m\u001b[0m\n",
      "\u001b[0;32m~/src/github.com/twinkle13531/master_degree/202012/QA/QA_DwaveSampler_AutoEmbedding.py\u001b[0m in \u001b[0;36mfind_valid_y_time_ntimes\u001b[0;34m(self)\u001b[0m\n\u001b[1;32m     86\u001b[0m             \u001b[0mres\u001b[0m \u001b[0;34m=\u001b[0m \u001b[0mqa_sampler\u001b[0m\u001b[0;34m.\u001b[0m\u001b[0msample\u001b[0m\u001b[0;34m(\u001b[0m\u001b[0mself\u001b[0m\u001b[0;34m.\u001b[0m\u001b[0mbqm\u001b[0m\u001b[0;34m,\u001b[0m \u001b[0mchain_strength\u001b[0m \u001b[0;34m=\u001b[0m \u001b[0mself\u001b[0m\u001b[0;34m.\u001b[0m\u001b[0mchain_strength\u001b[0m\u001b[0;34m,\u001b[0m \u001b[0mchain_break_fraction\u001b[0m\u001b[0;34m=\u001b[0m\u001b[0;32mTrue\u001b[0m\u001b[0;34m,\u001b[0m \u001b[0mnum_reads\u001b[0m\u001b[0;34m=\u001b[0m\u001b[0mself\u001b[0m\u001b[0;34m.\u001b[0m\u001b[0mnum_reads\u001b[0m\u001b[0;34m)\u001b[0m\u001b[0;31m#annealing_time\u001b[0m\u001b[0;34m\u001b[0m\u001b[0;34m\u001b[0m\u001b[0m\n\u001b[1;32m     87\u001b[0m             \u001b[0mtime_0\u001b[0m \u001b[0;34m=\u001b[0m \u001b[0mtime\u001b[0m\u001b[0;34m.\u001b[0m\u001b[0mtime\u001b[0m\u001b[0;34m(\u001b[0m\u001b[0;34m)\u001b[0m\u001b[0;34m\u001b[0m\u001b[0;34m\u001b[0m\u001b[0m\n\u001b[0;32m---> 88\u001b[0;31m             \u001b[0;32mfor\u001b[0m \u001b[0msample\u001b[0m\u001b[0;34m,\u001b[0m \u001b[0menergy\u001b[0m\u001b[0;34m,\u001b[0m \u001b[0mnum_occurrences\u001b[0m\u001b[0;34m,\u001b[0m \u001b[0mchain_break_fraction\u001b[0m \u001b[0;32min\u001b[0m \u001b[0mres\u001b[0m\u001b[0;34m.\u001b[0m\u001b[0mdata\u001b[0m\u001b[0;34m(\u001b[0m\u001b[0;34m[\u001b[0m\u001b[0;34m'sample'\u001b[0m\u001b[0;34m,\u001b[0m \u001b[0;34m'energy'\u001b[0m\u001b[0;34m,\u001b[0m \u001b[0;34m'num_occurrences'\u001b[0m\u001b[0;34m,\u001b[0m \u001b[0;34m'chain_break_fraction'\u001b[0m\u001b[0;34m]\u001b[0m\u001b[0;34m)\u001b[0m\u001b[0;34m:\u001b[0m\u001b[0;34m\u001b[0m\u001b[0;34m\u001b[0m\u001b[0m\n\u001b[0m\u001b[1;32m     89\u001b[0m                 \u001b[0msample_tuple\u001b[0m \u001b[0;34m=\u001b[0m \u001b[0mtuple\u001b[0m\u001b[0;34m(\u001b[0m\u001b[0msample\u001b[0m\u001b[0;34m.\u001b[0m\u001b[0mvalues\u001b[0m\u001b[0;34m(\u001b[0m\u001b[0;34m)\u001b[0m\u001b[0;34m)\u001b[0m\u001b[0;34m\u001b[0m\u001b[0;34m\u001b[0m\u001b[0m\n\u001b[1;32m     90\u001b[0m                 \u001b[0;32mif\u001b[0m \u001b[0menergy\u001b[0m \u001b[0;34m==\u001b[0m \u001b[0;36m0.0\u001b[0m\u001b[0;34m:\u001b[0m\u001b[0;34m\u001b[0m\u001b[0;34m\u001b[0m\u001b[0m\n",
      "\u001b[0;32m~/.pyenv/versions/miniconda3-4.7.12/lib/python3.7/site-packages/dimod/sampleset.py\u001b[0m in \u001b[0;36mdata\u001b[0;34m(self, fields, sorted_by, name, reverse, sample_dict_cast, index)\u001b[0m\n\u001b[1;32m   1037\u001b[0m \u001b[0;34m\u001b[0m\u001b[0m\n\u001b[1;32m   1038\u001b[0m         \"\"\"\n\u001b[0;32m-> 1039\u001b[0;31m         \u001b[0mrecord\u001b[0m \u001b[0;34m=\u001b[0m \u001b[0mself\u001b[0m\u001b[0;34m.\u001b[0m\u001b[0mrecord\u001b[0m\u001b[0;34m\u001b[0m\u001b[0;34m\u001b[0m\u001b[0m\n\u001b[0m\u001b[1;32m   1040\u001b[0m \u001b[0;34m\u001b[0m\u001b[0m\n\u001b[1;32m   1041\u001b[0m         \u001b[0;32mif\u001b[0m \u001b[0mfields\u001b[0m \u001b[0;32mis\u001b[0m \u001b[0;32mNone\u001b[0m\u001b[0;34m:\u001b[0m\u001b[0;34m\u001b[0m\u001b[0;34m\u001b[0m\u001b[0m\n",
      "\u001b[0;32m~/.pyenv/versions/miniconda3-4.7.12/lib/python3.7/site-packages/dimod/sampleset.py\u001b[0m in \u001b[0;36mrecord\u001b[0;34m(self)\u001b[0m\n\u001b[1;32m    871\u001b[0m \u001b[0;34m\u001b[0m\u001b[0m\n\u001b[1;32m    872\u001b[0m         \"\"\"\n\u001b[0;32m--> 873\u001b[0;31m         \u001b[0mself\u001b[0m\u001b[0;34m.\u001b[0m\u001b[0mresolve\u001b[0m\u001b[0;34m(\u001b[0m\u001b[0;34m)\u001b[0m\u001b[0;34m\u001b[0m\u001b[0;34m\u001b[0m\u001b[0m\n\u001b[0m\u001b[1;32m    874\u001b[0m         \u001b[0;32mreturn\u001b[0m \u001b[0mself\u001b[0m\u001b[0;34m.\u001b[0m\u001b[0m_record\u001b[0m\u001b[0;34m\u001b[0m\u001b[0;34m\u001b[0m\u001b[0m\n\u001b[1;32m    875\u001b[0m \u001b[0;34m\u001b[0m\u001b[0m\n",
      "\u001b[0;32m~/.pyenv/versions/miniconda3-4.7.12/lib/python3.7/site-packages/dimod/sampleset.py\u001b[0m in \u001b[0;36mresolve\u001b[0;34m(self)\u001b[0m\n\u001b[1;32m   1206\u001b[0m         \u001b[0;31m# if it doesn't have the attribute then it is already resolved\u001b[0m\u001b[0;34m\u001b[0m\u001b[0;34m\u001b[0m\u001b[0;34m\u001b[0m\u001b[0m\n\u001b[1;32m   1207\u001b[0m         \u001b[0;32mif\u001b[0m \u001b[0mhasattr\u001b[0m\u001b[0;34m(\u001b[0m\u001b[0mself\u001b[0m\u001b[0;34m,\u001b[0m \u001b[0;34m'_future'\u001b[0m\u001b[0;34m)\u001b[0m\u001b[0;34m:\u001b[0m\u001b[0;34m\u001b[0m\u001b[0;34m\u001b[0m\u001b[0m\n\u001b[0;32m-> 1208\u001b[0;31m             \u001b[0msamples\u001b[0m \u001b[0;34m=\u001b[0m \u001b[0mself\u001b[0m\u001b[0;34m.\u001b[0m\u001b[0m_result_hook\u001b[0m\u001b[0;34m(\u001b[0m\u001b[0mself\u001b[0m\u001b[0;34m.\u001b[0m\u001b[0m_future\u001b[0m\u001b[0;34m)\u001b[0m\u001b[0;34m\u001b[0m\u001b[0;34m\u001b[0m\u001b[0m\n\u001b[0m\u001b[1;32m   1209\u001b[0m             \u001b[0mself\u001b[0m\u001b[0;34m.\u001b[0m\u001b[0m__init__\u001b[0m\u001b[0;34m(\u001b[0m\u001b[0msamples\u001b[0m\u001b[0;34m.\u001b[0m\u001b[0mrecord\u001b[0m\u001b[0;34m,\u001b[0m \u001b[0msamples\u001b[0m\u001b[0;34m.\u001b[0m\u001b[0mvariables\u001b[0m\u001b[0;34m,\u001b[0m \u001b[0msamples\u001b[0m\u001b[0;34m.\u001b[0m\u001b[0minfo\u001b[0m\u001b[0;34m,\u001b[0m \u001b[0msamples\u001b[0m\u001b[0;34m.\u001b[0m\u001b[0mvartype\u001b[0m\u001b[0;34m)\u001b[0m\u001b[0;34m\u001b[0m\u001b[0;34m\u001b[0m\u001b[0m\n\u001b[1;32m   1210\u001b[0m             \u001b[0;32mdel\u001b[0m \u001b[0mself\u001b[0m\u001b[0;34m.\u001b[0m\u001b[0m_future\u001b[0m\u001b[0;34m\u001b[0m\u001b[0;34m\u001b[0m\u001b[0m\n",
      "\u001b[0;32m~/.pyenv/versions/miniconda3-4.7.12/lib/python3.7/site-packages/dwave/system/composites/embedding.py\u001b[0m in \u001b[0;36masync_unembed\u001b[0;34m(response)\u001b[0m\n\u001b[1;32m    287\u001b[0m                                           \u001b[0mchain_break_method\u001b[0m\u001b[0;34m=\u001b[0m\u001b[0mchain_break_method\u001b[0m\u001b[0;34m,\u001b[0m\u001b[0;34m\u001b[0m\u001b[0;34m\u001b[0m\u001b[0m\n\u001b[1;32m    288\u001b[0m                                           \u001b[0mchain_break_fraction\u001b[0m\u001b[0;34m=\u001b[0m\u001b[0mchain_break_fraction\u001b[0m\u001b[0;34m,\u001b[0m\u001b[0;34m\u001b[0m\u001b[0;34m\u001b[0m\u001b[0m\n\u001b[0;32m--> 289\u001b[0;31m                                           return_embedding=return_embedding)\n\u001b[0m\u001b[1;32m    290\u001b[0m \u001b[0;34m\u001b[0m\u001b[0m\n\u001b[1;32m    291\u001b[0m             \u001b[0;32mif\u001b[0m \u001b[0mreturn_embedding\u001b[0m\u001b[0;34m:\u001b[0m\u001b[0;34m\u001b[0m\u001b[0;34m\u001b[0m\u001b[0m\n",
      "\u001b[0;32m~/.pyenv/versions/miniconda3-4.7.12/lib/python3.7/site-packages/dwave/embedding/transforms.py\u001b[0m in \u001b[0;36munembed_sampleset\u001b[0;34m(target_sampleset, embedding, source_bqm, chain_break_method, chain_break_fraction, return_embedding)\u001b[0m\n\u001b[1;32m    618\u001b[0m         \u001b[0;32mraise\u001b[0m \u001b[0mValueError\u001b[0m\u001b[0;34m(\u001b[0m\u001b[0;34m\"given bqm does not match the embedding\"\u001b[0m\u001b[0;34m)\u001b[0m\u001b[0;34m\u001b[0m\u001b[0;34m\u001b[0m\u001b[0m\n\u001b[1;32m    619\u001b[0m \u001b[0;34m\u001b[0m\u001b[0m\n\u001b[0;32m--> 620\u001b[0;31m     \u001b[0mrecord\u001b[0m \u001b[0;34m=\u001b[0m \u001b[0mtarget_sampleset\u001b[0m\u001b[0;34m.\u001b[0m\u001b[0mrecord\u001b[0m\u001b[0;34m\u001b[0m\u001b[0;34m\u001b[0m\u001b[0m\n\u001b[0m\u001b[1;32m    621\u001b[0m \u001b[0;34m\u001b[0m\u001b[0m\n\u001b[1;32m    622\u001b[0m     \u001b[0munembedded\u001b[0m\u001b[0;34m,\u001b[0m \u001b[0midxs\u001b[0m \u001b[0;34m=\u001b[0m \u001b[0mchain_break_method\u001b[0m\u001b[0;34m(\u001b[0m\u001b[0mtarget_sampleset\u001b[0m\u001b[0;34m,\u001b[0m \u001b[0mchains\u001b[0m\u001b[0;34m)\u001b[0m\u001b[0;34m\u001b[0m\u001b[0;34m\u001b[0m\u001b[0m\n",
      "\u001b[0;32m~/.pyenv/versions/miniconda3-4.7.12/lib/python3.7/site-packages/dimod/sampleset.py\u001b[0m in \u001b[0;36mrecord\u001b[0;34m(self)\u001b[0m\n\u001b[1;32m    871\u001b[0m \u001b[0;34m\u001b[0m\u001b[0m\n\u001b[1;32m    872\u001b[0m         \"\"\"\n\u001b[0;32m--> 873\u001b[0;31m         \u001b[0mself\u001b[0m\u001b[0;34m.\u001b[0m\u001b[0mresolve\u001b[0m\u001b[0;34m(\u001b[0m\u001b[0;34m)\u001b[0m\u001b[0;34m\u001b[0m\u001b[0;34m\u001b[0m\u001b[0m\n\u001b[0m\u001b[1;32m    874\u001b[0m         \u001b[0;32mreturn\u001b[0m \u001b[0mself\u001b[0m\u001b[0;34m.\u001b[0m\u001b[0m_record\u001b[0m\u001b[0;34m\u001b[0m\u001b[0;34m\u001b[0m\u001b[0m\n\u001b[1;32m    875\u001b[0m \u001b[0;34m\u001b[0m\u001b[0m\n",
      "\u001b[0;32m~/.pyenv/versions/miniconda3-4.7.12/lib/python3.7/site-packages/dimod/sampleset.py\u001b[0m in \u001b[0;36mresolve\u001b[0;34m(self)\u001b[0m\n\u001b[1;32m   1207\u001b[0m         \u001b[0;32mif\u001b[0m \u001b[0mhasattr\u001b[0m\u001b[0;34m(\u001b[0m\u001b[0mself\u001b[0m\u001b[0;34m,\u001b[0m \u001b[0;34m'_future'\u001b[0m\u001b[0;34m)\u001b[0m\u001b[0;34m:\u001b[0m\u001b[0;34m\u001b[0m\u001b[0;34m\u001b[0m\u001b[0m\n\u001b[1;32m   1208\u001b[0m             \u001b[0msamples\u001b[0m \u001b[0;34m=\u001b[0m \u001b[0mself\u001b[0m\u001b[0;34m.\u001b[0m\u001b[0m_result_hook\u001b[0m\u001b[0;34m(\u001b[0m\u001b[0mself\u001b[0m\u001b[0;34m.\u001b[0m\u001b[0m_future\u001b[0m\u001b[0;34m)\u001b[0m\u001b[0;34m\u001b[0m\u001b[0;34m\u001b[0m\u001b[0m\n\u001b[0;32m-> 1209\u001b[0;31m             \u001b[0mself\u001b[0m\u001b[0;34m.\u001b[0m\u001b[0m__init__\u001b[0m\u001b[0;34m(\u001b[0m\u001b[0msamples\u001b[0m\u001b[0;34m.\u001b[0m\u001b[0mrecord\u001b[0m\u001b[0;34m,\u001b[0m \u001b[0msamples\u001b[0m\u001b[0;34m.\u001b[0m\u001b[0mvariables\u001b[0m\u001b[0;34m,\u001b[0m \u001b[0msamples\u001b[0m\u001b[0;34m.\u001b[0m\u001b[0minfo\u001b[0m\u001b[0;34m,\u001b[0m \u001b[0msamples\u001b[0m\u001b[0;34m.\u001b[0m\u001b[0mvartype\u001b[0m\u001b[0;34m)\u001b[0m\u001b[0;34m\u001b[0m\u001b[0;34m\u001b[0m\u001b[0m\n\u001b[0m\u001b[1;32m   1210\u001b[0m             \u001b[0;32mdel\u001b[0m \u001b[0mself\u001b[0m\u001b[0;34m.\u001b[0m\u001b[0m_future\u001b[0m\u001b[0;34m\u001b[0m\u001b[0;34m\u001b[0m\u001b[0m\n\u001b[1;32m   1211\u001b[0m             \u001b[0;32mdel\u001b[0m \u001b[0mself\u001b[0m\u001b[0;34m.\u001b[0m\u001b[0m_result_hook\u001b[0m\u001b[0;34m\u001b[0m\u001b[0;34m\u001b[0m\u001b[0m\n",
      "\u001b[0;32m~/.pyenv/versions/miniconda3-4.7.12/lib/python3.7/site-packages/dimod/sampleset.py\u001b[0m in \u001b[0;36mrecord\u001b[0;34m(self)\u001b[0m\n\u001b[1;32m    871\u001b[0m \u001b[0;34m\u001b[0m\u001b[0m\n\u001b[1;32m    872\u001b[0m         \"\"\"\n\u001b[0;32m--> 873\u001b[0;31m         \u001b[0mself\u001b[0m\u001b[0;34m.\u001b[0m\u001b[0mresolve\u001b[0m\u001b[0;34m(\u001b[0m\u001b[0;34m)\u001b[0m\u001b[0;34m\u001b[0m\u001b[0;34m\u001b[0m\u001b[0m\n\u001b[0m\u001b[1;32m    874\u001b[0m         \u001b[0;32mreturn\u001b[0m \u001b[0mself\u001b[0m\u001b[0;34m.\u001b[0m\u001b[0m_record\u001b[0m\u001b[0;34m\u001b[0m\u001b[0;34m\u001b[0m\u001b[0m\n\u001b[1;32m    875\u001b[0m \u001b[0;34m\u001b[0m\u001b[0m\n",
      "\u001b[0;32m~/.pyenv/versions/miniconda3-4.7.12/lib/python3.7/site-packages/dimod/sampleset.py\u001b[0m in \u001b[0;36mresolve\u001b[0;34m(self)\u001b[0m\n\u001b[1;32m   1206\u001b[0m         \u001b[0;31m# if it doesn't have the attribute then it is already resolved\u001b[0m\u001b[0;34m\u001b[0m\u001b[0;34m\u001b[0m\u001b[0;34m\u001b[0m\u001b[0m\n\u001b[1;32m   1207\u001b[0m         \u001b[0;32mif\u001b[0m \u001b[0mhasattr\u001b[0m\u001b[0;34m(\u001b[0m\u001b[0mself\u001b[0m\u001b[0;34m,\u001b[0m \u001b[0;34m'_future'\u001b[0m\u001b[0;34m)\u001b[0m\u001b[0;34m:\u001b[0m\u001b[0;34m\u001b[0m\u001b[0;34m\u001b[0m\u001b[0m\n\u001b[0;32m-> 1208\u001b[0;31m             \u001b[0msamples\u001b[0m \u001b[0;34m=\u001b[0m \u001b[0mself\u001b[0m\u001b[0;34m.\u001b[0m\u001b[0m_result_hook\u001b[0m\u001b[0;34m(\u001b[0m\u001b[0mself\u001b[0m\u001b[0;34m.\u001b[0m\u001b[0m_future\u001b[0m\u001b[0;34m)\u001b[0m\u001b[0;34m\u001b[0m\u001b[0;34m\u001b[0m\u001b[0m\n\u001b[0m\u001b[1;32m   1209\u001b[0m             \u001b[0mself\u001b[0m\u001b[0;34m.\u001b[0m\u001b[0m__init__\u001b[0m\u001b[0;34m(\u001b[0m\u001b[0msamples\u001b[0m\u001b[0;34m.\u001b[0m\u001b[0mrecord\u001b[0m\u001b[0;34m,\u001b[0m \u001b[0msamples\u001b[0m\u001b[0;34m.\u001b[0m\u001b[0mvariables\u001b[0m\u001b[0;34m,\u001b[0m \u001b[0msamples\u001b[0m\u001b[0;34m.\u001b[0m\u001b[0minfo\u001b[0m\u001b[0;34m,\u001b[0m \u001b[0msamples\u001b[0m\u001b[0;34m.\u001b[0m\u001b[0mvartype\u001b[0m\u001b[0;34m)\u001b[0m\u001b[0;34m\u001b[0m\u001b[0;34m\u001b[0m\u001b[0m\n\u001b[1;32m   1210\u001b[0m             \u001b[0;32mdel\u001b[0m \u001b[0mself\u001b[0m\u001b[0;34m.\u001b[0m\u001b[0m_future\u001b[0m\u001b[0;34m\u001b[0m\u001b[0;34m\u001b[0m\u001b[0m\n",
      "\u001b[0;32m~/.pyenv/versions/miniconda3-4.7.12/lib/python3.7/site-packages/dwave/cloud/computation.py\u001b[0m in \u001b[0;36m<lambda>\u001b[0;34m(f)\u001b[0m\n\u001b[1;32m    820\u001b[0m \u001b[0;34m\u001b[0m\u001b[0m\n\u001b[1;32m    821\u001b[0m         self._sampleset = sampleset = dimod.SampleSet.from_future(\n\u001b[0;32m--> 822\u001b[0;31m             self, lambda f: f.wait_sampleset())\n\u001b[0m\u001b[1;32m    823\u001b[0m \u001b[0;34m\u001b[0m\u001b[0m\n\u001b[1;32m    824\u001b[0m         \u001b[0;32mreturn\u001b[0m \u001b[0msampleset\u001b[0m\u001b[0;34m\u001b[0m\u001b[0;34m\u001b[0m\u001b[0m\n",
      "\u001b[0;32m~/.pyenv/versions/miniconda3-4.7.12/lib/python3.7/site-packages/dwave/cloud/computation.py\u001b[0m in \u001b[0;36mwait_sampleset\u001b[0;34m(self)\u001b[0m\n\u001b[1;32m    770\u001b[0m         \u001b[0;34m\"\"\"Blocking sampleset getter.\"\"\"\u001b[0m\u001b[0;34m\u001b[0m\u001b[0;34m\u001b[0m\u001b[0m\n\u001b[1;32m    771\u001b[0m \u001b[0;34m\u001b[0m\u001b[0m\n\u001b[0;32m--> 772\u001b[0;31m         \u001b[0mresult\u001b[0m \u001b[0;34m=\u001b[0m \u001b[0mself\u001b[0m\u001b[0;34m.\u001b[0m\u001b[0m_load_result\u001b[0m\u001b[0;34m(\u001b[0m\u001b[0;34m)\u001b[0m\u001b[0;34m\u001b[0m\u001b[0;34m\u001b[0m\u001b[0m\n\u001b[0m\u001b[1;32m    773\u001b[0m         \u001b[0;32mif\u001b[0m \u001b[0;34m'sampleset'\u001b[0m \u001b[0;32min\u001b[0m \u001b[0mresult\u001b[0m\u001b[0;34m:\u001b[0m\u001b[0;34m\u001b[0m\u001b[0;34m\u001b[0m\u001b[0m\n\u001b[1;32m    774\u001b[0m             \u001b[0;32mreturn\u001b[0m \u001b[0mresult\u001b[0m\u001b[0;34m[\u001b[0m\u001b[0;34m'sampleset'\u001b[0m\u001b[0;34m]\u001b[0m\u001b[0;34m\u001b[0m\u001b[0;34m\u001b[0m\u001b[0m\n",
      "\u001b[0;32m~/.pyenv/versions/miniconda3-4.7.12/lib/python3.7/site-packages/dwave/cloud/computation.py\u001b[0m in \u001b[0;36m_load_result\u001b[0;34m(self)\u001b[0m\n\u001b[1;32m    885\u001b[0m             \u001b[0;31m# Check for other error conditions\u001b[0m\u001b[0;34m\u001b[0m\u001b[0;34m\u001b[0m\u001b[0;34m\u001b[0m\u001b[0m\n\u001b[1;32m    886\u001b[0m             \u001b[0;32mif\u001b[0m \u001b[0mself\u001b[0m\u001b[0;34m.\u001b[0m\u001b[0m_exception\u001b[0m \u001b[0;32mis\u001b[0m \u001b[0;32mnot\u001b[0m \u001b[0;32mNone\u001b[0m\u001b[0;34m:\u001b[0m\u001b[0;34m\u001b[0m\u001b[0;34m\u001b[0m\u001b[0m\n\u001b[0;32m--> 887\u001b[0;31m                 \u001b[0;32mraise\u001b[0m \u001b[0mself\u001b[0m\u001b[0;34m.\u001b[0m\u001b[0m_exception\u001b[0m\u001b[0;34m\u001b[0m\u001b[0;34m\u001b[0m\u001b[0m\n\u001b[0m\u001b[1;32m    888\u001b[0m \u001b[0;34m\u001b[0m\u001b[0m\n\u001b[1;32m    889\u001b[0m             \u001b[0;31m# If someone else took care of this while we were waiting\u001b[0m\u001b[0;34m\u001b[0m\u001b[0;34m\u001b[0m\u001b[0;34m\u001b[0m\u001b[0m\n",
      "\u001b[0;31mOSError\u001b[0m: ('Connection aborted.', RemoteDisconnected('Remote end closed connection without response'))"
     ]
    }
   ],
   "source": [
    "for bit in [20, 25, 30, 35, 40]:\n",
    "    time_dic['QA'][bit] = {}\n",
    "    y_dic['total_y_num']['QA'][bit] = {}\n",
    "    y_dic['mean_occurrence']['QA'][bit] = {}\n",
    "    y_dic['valid_y_num']['QA'][bit] = {}\n",
    "    per_time_dic['QA'][bit] = {}\n",
    "    mean_broken_chain_proportion[bit] = {}\n",
    "    p_dic['QA'][bit] = {}\n",
    "    chain_strength = chain_strength_dic[bit]\n",
    "    \n",
    "    for num in [0, 1, 2, 3, 4]:\n",
    "        path = '../input/ost{}_{}.csv'.format(bit, num)\n",
    "        df = pd.read_csv(path, sep=',')\n",
    "        bqm = qda.make_Hamiltonian(df)\n",
    "        \n",
    "        qqda = qda.QA_DSampler_AEmbedding(df, bqm, n, num_reads, chain_strength)\n",
    "        valid_y_info_dic, calculation_time = qqda.find_valid_y_time_ntimes()\n",
    "        \n",
    "        if len(valid_y_info_dic) > 0:\n",
    "            occurrence_list = [valid_y_info[0] for valid_y_info in list(valid_y_info_dic.values())]\n",
    "            broken_list = [valid_y_info[1] for valid_y_info in list(valid_y_info_dic.values())]\n",
    "\n",
    "            time_dic['QA'][bit][num] = calculation_time\n",
    "            y_dic['total_y_num']['QA'][bit][num] = sum(occurrence_list)\n",
    "            y_dic['mean_occurrence']['QA'][bit][num] = statistics.mean(occurrence_list)\n",
    "            y_dic['valid_y_num']['QA'][bit][num] = len(valid_y_info_dic)\n",
    "            per_time_dic['QA'][bit][num] = calculation_time / sum(occurrence_list)\n",
    "            mean_broken_chain_proportion[bit][num] = statistics.mean(broken_list)\n",
    "            p_dic['QA'][bit][num] = qqda.p_value(valid_y_info_dic)\n",
    "\n",
    "            print('{}_{} finish'.format(bit, num))"
   ]
  },
  {
   "cell_type": "code",
   "execution_count": 106,
   "metadata": {},
   "outputs": [
    {
     "name": "stdout",
     "output_type": "stream",
     "text": [
      "40_2 finish\n",
      "40_3 finish\n",
      "40_4 finish\n"
     ]
    }
   ],
   "source": [
    "for bit in [40]:\n",
    "    time_dic['QA'][bit] = {}\n",
    "    y_dic['total_y_num']['QA'][bit] = {}\n",
    "    y_dic['mean_occurrence']['QA'][bit] = {}\n",
    "    y_dic['valid_y_num']['QA'][bit] = {}\n",
    "    per_time_dic['QA'][bit] = {}\n",
    "    mean_broken_chain_proportion[bit] = {}\n",
    "    p_dic['QA'][bit] = {}\n",
    "    chain_strength = chain_strength_dic[bit]\n",
    "    \n",
    "    for num in [2, 3, 4]:\n",
    "        path = '../input/ost{}_{}.csv'.format(bit, num)\n",
    "        df = pd.read_csv(path, sep=',')\n",
    "        bqm = qda.make_Hamiltonian(df)\n",
    "        \n",
    "        qqda = qda.QA_DSampler_AEmbedding(df, bqm, n, num_reads, chain_strength)\n",
    "        valid_y_info_dic, calculation_time = qqda.find_valid_y_time_ntimes()\n",
    "        \n",
    "        if len(valid_y_info_dic) > 0:\n",
    "            occurrence_list = [valid_y_info[0] for valid_y_info in list(valid_y_info_dic.values())]\n",
    "            broken_list = [valid_y_info[1] for valid_y_info in list(valid_y_info_dic.values())]\n",
    "\n",
    "            time_dic['QA'][bit][num] = calculation_time\n",
    "            y_dic['total_y_num']['QA'][bit][num] = sum(occurrence_list)\n",
    "            y_dic['mean_occurrence']['QA'][bit][num] = statistics.mean(occurrence_list)\n",
    "            y_dic['valid_y_num']['QA'][bit][num] = len(valid_y_info_dic)\n",
    "            per_time_dic['QA'][bit][num] = calculation_time / sum(occurrence_list)\n",
    "            mean_broken_chain_proportion[bit][num] = statistics.mean(broken_list)\n",
    "            p_dic['QA'][bit][num] = qqda.p_value(valid_y_info_dic)\n",
    "\n",
    "            print('{}_{} finish'.format(bit, num))"
   ]
  },
  {
   "cell_type": "code",
   "execution_count": 107,
   "metadata": {},
   "outputs": [
    {
     "data": {
      "text/plain": [
       "{20: {0: 10100.302781969025,\n",
       "  1: 7083.695348590287,\n",
       "  2: 6783.629804111206,\n",
       "  3: 7001.765937281618,\n",
       "  4: 7069.230774524955},\n",
       " 25: {0: 7721.309690435541,\n",
       "  1: 7743.950730977868,\n",
       "  2: 7800.795792068823,\n",
       "  3: 7677.552796172866,\n",
       "  4: 7454.260442603152},\n",
       " 30: {0: 8788.167812805043,\n",
       "  1: 7869.4621739470385,\n",
       "  2: 7924.064222289954,\n",
       "  3: 7972.860044433406,\n",
       "  4: 8421.326937390904},\n",
       " 35: {0: 13453.390574883151,\n",
       "  1: 9065.021765900708,\n",
       "  2: 9719.771954993652,\n",
       "  3: 9453.069209528536,\n",
       "  4: 8947.405568076443},\n",
       " 40: {2: 16109.036972949694, 3: 9023.643173886478, 4: 13011.280886601266}}"
      ]
     },
     "execution_count": 107,
     "metadata": {},
     "output_type": "execute_result"
    }
   ],
   "source": [
    "time_dic['QA']"
   ]
  },
  {
   "cell_type": "code",
   "execution_count": 108,
   "metadata": {},
   "outputs": [
    {
     "data": {
      "text/plain": [
       "{20: {0: 1135, 1: 169, 2: 582, 3: 212, 4: 72},\n",
       " 25: {0: 100, 1: 270, 2: 32, 3: 8, 4: 120},\n",
       " 30: {0: 12, 1: 10, 2: 35, 3: 13, 4: 128},\n",
       " 35: {0: 6, 1: 18, 2: 22, 3: 12, 4: 16},\n",
       " 40: {2: 12, 3: 6, 4: 5}}"
      ]
     },
     "execution_count": 108,
     "metadata": {},
     "output_type": "execute_result"
    }
   ],
   "source": [
    "y_dic['total_y_num']['QA']"
   ]
  },
  {
   "cell_type": "code",
   "execution_count": 109,
   "metadata": {},
   "outputs": [
    {
     "data": {
      "text/plain": [
       "{20: {0: 2, 1: 1, 2: 1, 3: 1, 4: 1},\n",
       " 25: {0: 1, 1: 1, 2: 1, 3: 1, 4: 1},\n",
       " 30: {0: 1, 1: 1, 2: 1, 3: 1, 4: 1},\n",
       " 35: {0: 1, 1: 1, 2: 1, 3: 1, 4: 1},\n",
       " 40: {2: 1, 3: 1, 4: 1}}"
      ]
     },
     "execution_count": 109,
     "metadata": {},
     "output_type": "execute_result"
    }
   ],
   "source": [
    "y_dic['mean_occurrence']['QA']"
   ]
  },
  {
   "cell_type": "code",
   "execution_count": 110,
   "metadata": {},
   "outputs": [
    {
     "data": {
      "text/plain": [
       "{20: {0: 508, 1: 154, 2: 415, 3: 196, 4: 62},\n",
       " 25: {0: 100, 1: 270, 2: 32, 3: 8, 4: 120},\n",
       " 30: {0: 12, 1: 10, 2: 35, 3: 13, 4: 128},\n",
       " 35: {0: 6, 1: 18, 2: 22, 3: 12, 4: 16},\n",
       " 40: {2: 12, 3: 6, 4: 5}}"
      ]
     },
     "execution_count": 110,
     "metadata": {},
     "output_type": "execute_result"
    }
   ],
   "source": [
    "y_dic['valid_y_num']['QA']"
   ]
  },
  {
   "cell_type": "code",
   "execution_count": 111,
   "metadata": {},
   "outputs": [
    {
     "data": {
      "text/plain": [
       "{20: {0: 8.898945182351564,\n",
       "  1: 41.91535709225022,\n",
       "  2: 11.655721312905852,\n",
       "  3: 33.02719781736612,\n",
       "  4: 98.18376075729105},\n",
       " 25: {0: 77.21309690435541,\n",
       "  1: 28.681299003621735,\n",
       "  2: 243.77486850215072,\n",
       "  3: 959.6940995216082,\n",
       "  4: 62.11883702169293},\n",
       " 30: {0: 732.3473177337536,\n",
       "  1: 786.9462173947038,\n",
       "  2: 226.40183492257012,\n",
       "  3: 613.2969264948774,\n",
       "  4: 65.79161669836644},\n",
       " 35: {0: 2242.231762480525,\n",
       "  1: 503.61232032781714,\n",
       "  2: 441.8078161360751,\n",
       "  3: 787.7557674607114,\n",
       "  4: 559.2128480047777},\n",
       " 40: {2: 1342.4197477458079, 3: 1503.9405289810795, 4: 2602.2561773202533}}"
      ]
     },
     "execution_count": 111,
     "metadata": {},
     "output_type": "execute_result"
    }
   ],
   "source": [
    "per_time_dic['QA']"
   ]
  },
  {
   "cell_type": "code",
   "execution_count": 112,
   "metadata": {},
   "outputs": [
    {
     "data": {
      "text/plain": [
       "{20: {0: 0.3169291338582677,\n",
       "  1: 0.12987012987012986,\n",
       "  2: 0.2819277108433735,\n",
       "  3: 0.22448979591836735,\n",
       "  4: 0.46774193548387094},\n",
       " 25: {0: 0.14, 1: 0.0962962962962963, 2: 0.1875, 3: 0.0, 4: 0.2},\n",
       " 30: {0: 0.08333333333333333,\n",
       "  1: 0.1,\n",
       "  2: 0.3142857142857143,\n",
       "  3: 0.07692307692307693,\n",
       "  4: 0.0625},\n",
       " 35: {0: 0.16666666666666666, 1: 0.0, 2: 0.0, 3: 0.0, 4: 0.3125},\n",
       " 40: {2: 0.0, 3: 0.0, 4: 0.0}}"
      ]
     },
     "execution_count": 112,
     "metadata": {},
     "output_type": "execute_result"
    }
   ],
   "source": [
    "p_dic['QA']"
   ]
  },
  {
   "cell_type": "code",
   "execution_count": 113,
   "metadata": {},
   "outputs": [],
   "source": [
    "QA_mean_time_list = []\n",
    "QA_std_time_list = []\n",
    "for bit in bit_list:\n",
    "    time_list = list(per_time_dic['QA'][bit].values())\n",
    "    QA_mean_time_list.append(statistics.mean(time_list))\n",
    "    QA_std_time_list.append(statistics.pstdev(time_list))\n",
    "    \n",
    "QA_mean_time = np.array(QA_mean_time_list)\n",
    "QA_std_time = np.array(QA_std_time_list)"
   ]
  },
  {
   "cell_type": "code",
   "execution_count": 114,
   "metadata": {},
   "outputs": [
    {
     "data": {
      "text/plain": [
       "array([  38.73619643,  274.29644019,  484.95678265,  906.92410288,\n",
       "       1816.20548468])"
      ]
     },
     "execution_count": 114,
     "metadata": {},
     "output_type": "execute_result"
    }
   ],
   "source": [
    "QA_mean_time"
   ]
  },
  {
   "cell_type": "code",
   "execution_count": 115,
   "metadata": {},
   "outputs": [
    {
     "data": {
      "text/plain": [
       "array([ 32.25004287, 350.68204825, 286.85222168, 677.81181885,\n",
       "       559.71957815])"
      ]
     },
     "execution_count": 115,
     "metadata": {},
     "output_type": "execute_result"
    }
   ],
   "source": [
    "QA_std_time"
   ]
  },
  {
   "cell_type": "code",
   "execution_count": null,
   "metadata": {},
   "outputs": [],
   "source": []
  },
  {
   "cell_type": "code",
   "execution_count": null,
   "metadata": {},
   "outputs": [],
   "source": []
  },
  {
   "cell_type": "code",
   "execution_count": null,
   "metadata": {},
   "outputs": [],
   "source": []
  },
  {
   "cell_type": "code",
   "execution_count": null,
   "metadata": {},
   "outputs": [],
   "source": []
  },
  {
   "cell_type": "markdown",
   "metadata": {},
   "source": [
    "## Random"
   ]
  },
  {
   "cell_type": "code",
   "execution_count": 68,
   "metadata": {},
   "outputs": [],
   "source": [
    "num_reads = 10000"
   ]
  },
  {
   "cell_type": "code",
   "execution_count": 69,
   "metadata": {},
   "outputs": [],
   "source": [
    "time_dic['random'] = {}\n",
    "y_dic['total_y_num']['random'] = {}\n",
    "y_dic['mean_occurrence']['random'] = {}\n",
    "y_dic['valid_y_num']['random'] = {}\n",
    "per_time_dic['random'] = {}\n",
    "p_dic['random'] = {}"
   ]
  },
  {
   "cell_type": "code",
   "execution_count": 70,
   "metadata": {},
   "outputs": [],
   "source": [
    "for bit in bit_list:\n",
    "    time_dic['random'][bit] = {}\n",
    "    y_dic['total_y_num']['random'][bit] = {}\n",
    "    y_dic['mean_occurrence']['random'][bit] = {}\n",
    "    y_dic['valid_y_num']['random'][bit] = {}\n",
    "    per_time_dic['random'][bit] = {}\n",
    "    p_dic['random'][bit] = {}\n",
    "    \n",
    "    for num in num_list:\n",
    "        df_path = '../input/ost{}_{}.csv'.format(bit, num)\n",
    "        df = pd.read_csv(df_path, sep=',')\n",
    "        t_list = ret.calc_marginals(df)\n",
    "        valid_y_dic, calculation_time = ret.find_valid_y(df, num_reads)\n",
    "        \n",
    "        if len(valid_y_dic) > 0:\n",
    "            rm = ret.Random_method(df, valid_y_dic, num_reads, t_list)\n",
    "            \n",
    "            mean_occurrence_list = [i for i in list(valid_y_dic.values())]\n",
    "            \n",
    "            time_dic['random'][bit][num] = calculation_time\n",
    "            y_dic['total_y_num']['random'][bit][num] = sum(mean_occurrence_list)\n",
    "            y_dic['mean_occurrence']['random'][bit][num] = statistics.mean(mean_occurrence_list)\n",
    "            y_dic['valid_y_num']['random'][bit][num] = len(valid_y_dic)\n",
    "            per_time_dic['random'][bit][num] = calculation_time / len(valid_y_dic)\n",
    "            p_dic['random'][bit][num] = rm.p_value()"
   ]
  },
  {
   "cell_type": "code",
   "execution_count": 71,
   "metadata": {},
   "outputs": [
    {
     "data": {
      "text/plain": [
       "{20: {0: 0.17365789413452148,\n",
       "  1: 0.1555769443511963,\n",
       "  2: 0.04897308349609375,\n",
       "  3: 0.17087912559509277,\n",
       "  4: 0.1624460220336914},\n",
       " 25: {0: 0.06797575950622559,\n",
       "  1: 0.09294724464416504,\n",
       "  2: 0.12764787673950195,\n",
       "  4: 0.07495784759521484},\n",
       " 30: {1: 0.07776403427124023, 2: 0.12283015251159668, 4: 0.05878782272338867},\n",
       " 35: {1: 0.09458684921264648,\n",
       "  2: 0.14945006370544434,\n",
       "  3: 0.10146880149841309,\n",
       "  4: 0.08700895309448242},\n",
       " 40: {1: 0.08776688575744629}}"
      ]
     },
     "execution_count": 71,
     "metadata": {},
     "output_type": "execute_result"
    }
   ],
   "source": [
    "time_dic['random']"
   ]
  },
  {
   "cell_type": "code",
   "execution_count": 72,
   "metadata": {},
   "outputs": [
    {
     "data": {
      "text/plain": [
       "{20: {0: 146, 1: 10, 2: 6, 3: 26, 4: 5},\n",
       " 25: {0: 3, 1: 31, 2: 5, 4: 6},\n",
       " 30: {1: 1, 2: 4, 4: 8},\n",
       " 35: {1: 5, 2: 3, 3: 1, 4: 4},\n",
       " 40: {1: 1}}"
      ]
     },
     "execution_count": 72,
     "metadata": {},
     "output_type": "execute_result"
    }
   ],
   "source": [
    "y_dic['total_y_num']['random']"
   ]
  },
  {
   "cell_type": "code",
   "execution_count": 73,
   "metadata": {},
   "outputs": [
    {
     "data": {
      "text/plain": [
       "{20: {0: 1.006896551724138, 1: 1, 2: 1, 3: 1, 4: 1},\n",
       " 25: {0: 1, 1: 1, 2: 1, 4: 1},\n",
       " 30: {1: 1, 2: 1, 4: 1},\n",
       " 35: {1: 1, 2: 1, 3: 1, 4: 1},\n",
       " 40: {1: 1}}"
      ]
     },
     "execution_count": 73,
     "metadata": {},
     "output_type": "execute_result"
    }
   ],
   "source": [
    "y_dic['mean_occurrence']['random']"
   ]
  },
  {
   "cell_type": "code",
   "execution_count": 74,
   "metadata": {},
   "outputs": [
    {
     "data": {
      "text/plain": [
       "{20: {0: 145, 1: 10, 2: 6, 3: 26, 4: 5},\n",
       " 25: {0: 3, 1: 31, 2: 5, 4: 6},\n",
       " 30: {1: 1, 2: 4, 4: 8},\n",
       " 35: {1: 5, 2: 3, 3: 1, 4: 4},\n",
       " 40: {1: 1}}"
      ]
     },
     "execution_count": 74,
     "metadata": {},
     "output_type": "execute_result"
    }
   ],
   "source": [
    "y_dic['valid_y_num']['random']"
   ]
  },
  {
   "cell_type": "code",
   "execution_count": 75,
   "metadata": {},
   "outputs": [
    {
     "data": {
      "text/plain": [
       "{20: {0: 0.0011976406492035965,\n",
       "  1: 0.015557694435119628,\n",
       "  2: 0.008162180582682291,\n",
       "  3: 0.006572274061349722,\n",
       "  4: 0.03248920440673828},\n",
       " 25: {0: 0.022658586502075195,\n",
       "  1: 0.0029982982143279043,\n",
       "  2: 0.02552957534790039,\n",
       "  4: 0.012492974599202475},\n",
       " 30: {1: 0.07776403427124023, 2: 0.03070753812789917, 4: 0.007348477840423584},\n",
       " 35: {1: 0.018917369842529296,\n",
       "  2: 0.04981668790181478,\n",
       "  3: 0.10146880149841309,\n",
       "  4: 0.021752238273620605},\n",
       " 40: {1: 0.08776688575744629}}"
      ]
     },
     "execution_count": 75,
     "metadata": {},
     "output_type": "execute_result"
    }
   ],
   "source": [
    "per_time_dic['random']"
   ]
  },
  {
   "cell_type": "code",
   "execution_count": 76,
   "metadata": {},
   "outputs": [
    {
     "data": {
      "text/plain": [
       "{20: {0: 0.1793103448275862,\n",
       "  1: 0.1,\n",
       "  2: 0.16666666666666666,\n",
       "  3: 0.15384615384615385,\n",
       "  4: 0.6},\n",
       " 25: {0: 0.3333333333333333, 1: 0.12903225806451613, 2: 0.4, 4: 0.0},\n",
       " 30: {1: 0.0, 2: 0.25, 4: 0.125},\n",
       " 35: {1: 0.0, 2: 0.0, 3: 0.0, 4: 0.25},\n",
       " 40: {1: 0.0}}"
      ]
     },
     "execution_count": 76,
     "metadata": {},
     "output_type": "execute_result"
    }
   ],
   "source": [
    "p_dic['random']"
   ]
  },
  {
   "cell_type": "code",
   "execution_count": 77,
   "metadata": {},
   "outputs": [],
   "source": [
    "random_mean_time_list = []\n",
    "random_std_time_list = []\n",
    "for bit in bit_list:\n",
    "    time_list = list(per_time_dic['random'][bit].values())\n",
    "    random_mean_time_list.append(statistics.mean(time_list))\n",
    "    random_std_time_list.append(statistics.pstdev(time_list))\n",
    "    \n",
    "random_mean_time = np.array(random_mean_time_list)\n",
    "random_std_time = np.array(random_std_time_list)"
   ]
  },
  {
   "cell_type": "code",
   "execution_count": 78,
   "metadata": {},
   "outputs": [
    {
     "data": {
      "text/plain": [
       "array([0.14230661, 0.09088218, 0.08646067, 0.10812867, 0.08776689])"
      ]
     },
     "execution_count": 78,
     "metadata": {},
     "output_type": "execute_result"
    }
   ],
   "source": [
    "random_mean_time"
   ]
  },
  {
   "cell_type": "code",
   "execution_count": 79,
   "metadata": {},
   "outputs": [
    {
     "data": {
      "text/plain": [
       "array([0.04710018, 0.02309908, 0.02685862, 0.02439895, 0.        ])"
      ]
     },
     "execution_count": 79,
     "metadata": {},
     "output_type": "execute_result"
    }
   ],
   "source": [
    "random_std_time"
   ]
  },
  {
   "cell_type": "code",
   "execution_count": null,
   "metadata": {},
   "outputs": [],
   "source": []
  },
  {
   "cell_type": "markdown",
   "metadata": {},
   "source": [
    "## SA"
   ]
  },
  {
   "cell_type": "code",
   "execution_count": 129,
   "metadata": {},
   "outputs": [],
   "source": [
    "num_reads = 10000"
   ]
  },
  {
   "cell_type": "code",
   "execution_count": 130,
   "metadata": {},
   "outputs": [],
   "source": [
    "time_dic['SA'] = {}\n",
    "y_dic['total_y_num']['SA'] = {}\n",
    "y_dic['mean_occurrence']['SA'] = {}\n",
    "y_dic['valid_y_num']['SA'] = {}\n",
    "per_time_dic['SA'] = {}\n",
    "p_dic['SA'] = {}"
   ]
  },
  {
   "cell_type": "code",
   "execution_count": 131,
   "metadata": {},
   "outputs": [
    {
     "name": "stdout",
     "output_type": "stream",
     "text": [
      "20_0 finish\n",
      "20_1 finish\n",
      "20_2 finish\n",
      "20_3 finish\n",
      "20_4 finish\n",
      "25_0 finish\n",
      "25_1 finish\n",
      "25_2 finish\n",
      "25_3 finish\n",
      "25_4 finish\n",
      "30_0 finish\n",
      "30_1 finish\n",
      "30_2 finish\n",
      "30_3 finish\n",
      "30_4 finish\n",
      "35_0 finish\n",
      "35_1 finish\n",
      "35_2 finish\n",
      "35_3 finish\n",
      "35_4 finish\n",
      "40_0 finish\n",
      "40_1 finish\n",
      "40_2 finish\n",
      "40_3 finish\n",
      "40_4 finish\n"
     ]
    }
   ],
   "source": [
    "for bit in bit_list:\n",
    "    time_dic['SA'][bit] = {}\n",
    "    y_dic['total_y_num']['SA'][bit] = {}\n",
    "    y_dic['mean_occurrence']['SA'][bit] = {}\n",
    "    y_dic['valid_y_num']['SA'][bit] = {}\n",
    "    per_time_dic['SA'][bit] = {}\n",
    "    p_dic['SA'][bit] = {}\n",
    "    \n",
    "    for num in num_list:\n",
    "        \n",
    "        path = '../input/ost{}_{}.csv'.format(bit, num)\n",
    "        df = pd.read_csv(path, sep=',')\n",
    "        \n",
    "        time_0 = time.time()\n",
    "        res = net.make_res_data(df, num_reads)\n",
    "        valid_y_info_dic = net.find_valid_y(res)\n",
    "        time_1 = time.time()\n",
    "        calculation_time = time_1 - time_0\n",
    "        \n",
    "        if len(valid_y_info_dic) > 0:\n",
    "            rvd = net.SA_res_valid_dic(df, res, valid_y_info_dic, num_reads)\n",
    "            \n",
    "            time_dic['SA'][bit][num] = calculation_time\n",
    "            y_dic['total_y_num']['SA'][bit][num] = sum(mean_occurrence_list)\n",
    "            y_dic['mean_occurrence']['SA'][bit][num] = statistics.mean(mean_occurrence_list)\n",
    "            y_dic['valid_y_num']['SA'][bit][num] = len(valid_y_info_dic)\n",
    "            per_time_dic['SA'][bit][num] = calculation_time / len(valid_y_info_dic)\n",
    "            p_dic['SA'][bit][num] = rvd.calc_p_value()\n",
    "            \n",
    "            print('{}_{} finish'.format(bit, num))"
   ]
  },
  {
   "cell_type": "code",
   "execution_count": 132,
   "metadata": {},
   "outputs": [
    {
     "data": {
      "text/plain": [
       "{20: {0: 9.192142009735107,\n",
       "  1: 5.5356810092926025,\n",
       "  2: 5.4850780963897705,\n",
       "  3: 5.849268436431885,\n",
       "  4: 5.062978029251099},\n",
       " 25: {0: 11.261059045791626,\n",
       "  1: 13.47816276550293,\n",
       "  2: 10.009632110595703,\n",
       "  3: 7.092028856277466,\n",
       "  4: 11.799193143844604},\n",
       " 30: {0: 15.510584115982056,\n",
       "  1: 14.910096883773804,\n",
       "  2: 15.314063787460327,\n",
       "  3: 15.20064115524292,\n",
       "  4: 15.242308139801025},\n",
       " 35: {0: 18.32283902168274,\n",
       "  1: 19.380826711654663,\n",
       "  2: 18.023081064224243,\n",
       "  3: 17.786306858062744,\n",
       "  4: 17.07033920288086},\n",
       " 40: {0: 21.340198278427124,\n",
       "  1: 20.588493824005127,\n",
       "  2: 21.43675184249878,\n",
       "  3: 20.29060697555542,\n",
       "  4: 21.051637887954712}}"
      ]
     },
     "execution_count": 132,
     "metadata": {},
     "output_type": "execute_result"
    }
   ],
   "source": [
    "time_dic['SA']"
   ]
  },
  {
   "cell_type": "code",
   "execution_count": 133,
   "metadata": {},
   "outputs": [
    {
     "data": {
      "text/plain": [
       "{20: {0: 1, 1: 1, 2: 1, 3: 1, 4: 1},\n",
       " 25: {0: 1, 1: 1, 2: 1, 3: 1, 4: 1},\n",
       " 30: {0: 1, 1: 1, 2: 1, 3: 1, 4: 1},\n",
       " 35: {0: 1, 1: 1, 2: 1, 3: 1, 4: 1},\n",
       " 40: {0: 1, 1: 1, 2: 1, 3: 1, 4: 1}}"
      ]
     },
     "execution_count": 133,
     "metadata": {},
     "output_type": "execute_result"
    }
   ],
   "source": [
    "y_dic['total_y_num']['SA']"
   ]
  },
  {
   "cell_type": "code",
   "execution_count": 134,
   "metadata": {},
   "outputs": [
    {
     "data": {
      "text/plain": [
       "{20: {0: 1, 1: 1, 2: 1, 3: 1, 4: 1},\n",
       " 25: {0: 1, 1: 1, 2: 1, 3: 1, 4: 1},\n",
       " 30: {0: 1, 1: 1, 2: 1, 3: 1, 4: 1},\n",
       " 35: {0: 1, 1: 1, 2: 1, 3: 1, 4: 1},\n",
       " 40: {0: 1, 1: 1, 2: 1, 3: 1, 4: 1}}"
      ]
     },
     "execution_count": 134,
     "metadata": {},
     "output_type": "execute_result"
    }
   ],
   "source": [
    "y_dic['mean_occurrence']['SA']"
   ]
  },
  {
   "cell_type": "code",
   "execution_count": 135,
   "metadata": {},
   "outputs": [
    {
     "data": {
      "text/plain": [
       "{20: {0: 7351, 1: 1361, 2: 1635, 3: 2346, 4: 260},\n",
       " 25: {0: 6764, 1: 9283, 2: 6919, 3: 1370, 4: 7842},\n",
       " 30: {0: 9009, 1: 8531, 2: 9820, 3: 8886, 4: 9837},\n",
       " 35: {0: 9525, 1: 9782, 2: 9830, 3: 9534, 4: 9435},\n",
       " 40: {0: 9663, 1: 9797, 2: 9687, 3: 9571, 4: 9561}}"
      ]
     },
     "execution_count": 135,
     "metadata": {},
     "output_type": "execute_result"
    }
   ],
   "source": [
    "y_dic['valid_y_num']['SA']"
   ]
  },
  {
   "cell_type": "code",
   "execution_count": 136,
   "metadata": {},
   "outputs": [
    {
     "data": {
      "text/plain": [
       "{20: {0: 0.0012504614351428523,\n",
       "  1: 0.00406736297523336,\n",
       "  2: 0.003354787826538086,\n",
       "  3: 0.0024932943036794055,\n",
       "  4: 0.019472992420196532},\n",
       " 25: {0: 0.0016648520174144922,\n",
       "  1: 0.0014519188587205569,\n",
       "  2: 0.001446687687613196,\n",
       "  3: 0.005176663398742676,\n",
       "  4: 0.0015046152950579704},\n",
       " 30: {0: 0.0017216765585505668,\n",
       "  1: 0.0017477548802923226,\n",
       "  2: 0.0015594769640998297,\n",
       "  3: 0.0017106280840921584,\n",
       "  4: 0.0015494874595711116},\n",
       " 35: {0: 0.0019236576400716787,\n",
       "  1: 0.0019812744542685203,\n",
       "  2: 0.0018334772191479392,\n",
       "  3: 0.0018655660644076718,\n",
       "  4: 0.0018092569372422744},\n",
       " 40: {0: 0.002208444404266493,\n",
       "  1: 0.0021015100361340337,\n",
       "  2: 0.0022129402129140887,\n",
       "  3: 0.0021200090874052262,\n",
       "  4: 0.0022018238560772632}}"
      ]
     },
     "execution_count": 136,
     "metadata": {},
     "output_type": "execute_result"
    }
   ],
   "source": [
    "per_time_dic['SA']"
   ]
  },
  {
   "cell_type": "code",
   "execution_count": 137,
   "metadata": {},
   "outputs": [
    {
     "data": {
      "text/plain": [
       "{20: {0: 0.2274520473404979,\n",
       "  1: 0.21528288023512124,\n",
       "  2: 0.3333333333333333,\n",
       "  3: 0.2638533674339301,\n",
       "  4: 0.4153846153846154},\n",
       " 25: {0: 0.0833826138379657,\n",
       "  1: 0.06409565873101368,\n",
       "  2: 0.15074432721491546,\n",
       "  3: 0.15766423357664233,\n",
       "  4: 0.25108390716653917},\n",
       " 30: {0: 0.041736041736041736,\n",
       "  1: 0.3085218614464893,\n",
       "  2: 0.20631364562118126,\n",
       "  3: 0.10600945307224847,\n",
       "  4: 0.06567042797600894},\n",
       " 35: {0: 0.06236220472440945,\n",
       "  1: 0.04763851973011654,\n",
       "  2: 0.01261444557477111,\n",
       "  3: 0.07300188797986155,\n",
       "  4: 0.15029146793852677},\n",
       " 40: {0: 0.04284383731760323,\n",
       "  1: 0.05471062570174543,\n",
       "  2: 0.0322081139671725,\n",
       "  3: 0.06634625430989448,\n",
       "  4: 0.026880033469302376}}"
      ]
     },
     "execution_count": 137,
     "metadata": {},
     "output_type": "execute_result"
    }
   ],
   "source": [
    "p_dic['SA']"
   ]
  },
  {
   "cell_type": "code",
   "execution_count": 138,
   "metadata": {},
   "outputs": [],
   "source": [
    "SA_mean_time_list = []\n",
    "SA_std_time_list = []\n",
    "for bit in bit_list:\n",
    "    time_list = list(per_time_dic['SA'][bit].values())\n",
    "    SA_mean_time_list.append(statistics.mean(time_list))\n",
    "    SA_std_time_list.append(statistics.pstdev(time_list))\n",
    "    \n",
    "SA_mean_time = np.array(SA_mean_time_list)\n",
    "SA_std_time = np.array(SA_std_time_list)"
   ]
  },
  {
   "cell_type": "code",
   "execution_count": 139,
   "metadata": {},
   "outputs": [
    {
     "data": {
      "text/plain": [
       "array([0.00612778, 0.00224895, 0.0016578 , 0.00188265, 0.00216895])"
      ]
     },
     "execution_count": 139,
     "metadata": {},
     "output_type": "execute_result"
    }
   ],
   "source": [
    "SA_mean_time"
   ]
  },
  {
   "cell_type": "code",
   "execution_count": 140,
   "metadata": {},
   "outputs": [
    {
     "data": {
      "text/plain": [
       "array([6.73835620e-03, 1.46598730e-03, 8.52782826e-05, 6.24576246e-05,\n",
       "       4.79979140e-05])"
      ]
     },
     "execution_count": 140,
     "metadata": {},
     "output_type": "execute_result"
    }
   ],
   "source": [
    "SA_std_time"
   ]
  },
  {
   "cell_type": "code",
   "execution_count": null,
   "metadata": {},
   "outputs": [],
   "source": []
  },
  {
   "cell_type": "markdown",
   "metadata": {},
   "source": [
    "## exhaustive enumeration"
   ]
  },
  {
   "cell_type": "code",
   "execution_count": 116,
   "metadata": {},
   "outputs": [],
   "source": [
    "enu_time_dic = {}\n",
    "enu_time_dic[20] = [4.84, 0.02, 0.23, 0.38, 0.65]\n",
    "enu_time_dic[25] = [5.47, 2894.31, 4.19, 0.23, 15.37]\n",
    "enu_time_dic[30] = [120017.00, 105.15, 12792.04, 725.79]"
   ]
  },
  {
   "cell_type": "code",
   "execution_count": null,
   "metadata": {},
   "outputs": [],
   "source": [
    "#enu_time_dic[30] = [120017.00, 105.15, 12792.04, 725.79, ,]\n",
    "#enu_time_dic[35] = [, , , , , ]\n",
    "#enu_time_dic[40] = [64667.50, , , , ,]"
   ]
  },
  {
   "cell_type": "code",
   "execution_count": 117,
   "metadata": {},
   "outputs": [],
   "source": [
    "time_dic['enumeration'] = {}\n",
    "y_dic['valid_y_num']['enumeration'] = {}\n",
    "per_time_dic['enumeration'] = {}\n",
    "p_dic['enumeration'] = {}"
   ]
  },
  {
   "cell_type": "code",
   "execution_count": 118,
   "metadata": {},
   "outputs": [
    {
     "name": "stdout",
     "output_type": "stream",
     "text": [
      "20_0 finish\n",
      "20_1 finish\n",
      "20_2 finish\n",
      "20_3 finish\n",
      "20_4 finish\n",
      "25_0 finish\n",
      "25_1 finish\n",
      "25_2 finish\n",
      "25_3 finish\n",
      "25_4 finish\n"
     ]
    }
   ],
   "source": [
    "for bit in [20, 25]:\n",
    "    time_dic['enumeration'][bit] = {}\n",
    "    y_dic['valid_y_num']['enumeration'][bit] = {}\n",
    "    per_time_dic['enumeration'][bit] = {}\n",
    "    p_dic['enumeration'][bit] = {}\n",
    "    \n",
    "    for num in [0, 1, 2, 3, 4]:\n",
    "        \n",
    "        path = '../input/ost{}_{}.csv'.format(bit, num)\n",
    "        df = pd.read_csv(path, sep=',')\n",
    "        \n",
    "        zinhom_path = '../4ti2/{}bit/{}/{}bit_{}.zinhom'.format(bit, num, bit, num)\n",
    "        zinhom_num, zinhom_list = zt.make_result_list(zinhom_path)\n",
    "        \n",
    "        if zinhom_num > 0:\n",
    "            zrs = zt.zsolve_result_summerize(df, zinhom_list)\n",
    "            \n",
    "            time_dic['enumeration'][bit][num] = enu_time_dic[bit][num]\n",
    "            y_dic['valid_y_num']['enumeration'][bit][num] = zinhom_num\n",
    "            per_time_dic['enumeration'][bit][num] = enu_time_dic[bit][num] / zinhom_num\n",
    "            p_dic['enumeration'][bit][num] = zrs.calucurate_p()\n",
    "\n",
    "            print('{}_{} finish'.format(bit, num))"
   ]
  },
  {
   "cell_type": "code",
   "execution_count": 119,
   "metadata": {},
   "outputs": [
    {
     "name": "stdout",
     "output_type": "stream",
     "text": [
      "30_0 finish\n",
      "30_1 finish\n",
      "30_2 finish\n",
      "30_3 finish\n"
     ]
    }
   ],
   "source": [
    "for bit in [30]:\n",
    "    time_dic['enumeration'][bit] = {}\n",
    "    y_dic['valid_y_num']['enumeration'][bit] = {}\n",
    "    per_time_dic['enumeration'][bit] = {}\n",
    "    p_dic['enumeration'][bit] = {}\n",
    "    \n",
    "    for num in [0, 1, 2, 3]:\n",
    "        \n",
    "        path = '../input/ost{}_{}.csv'.format(bit, num)\n",
    "        df = pd.read_csv(path, sep=',')\n",
    "        \n",
    "        zinhom_path = '../4ti2/{}bit/{}/{}bit_{}.zinhom'.format(bit, num, bit, num)\n",
    "        zinhom_num, zinhom_list = zt.make_result_list(zinhom_path)\n",
    "        \n",
    "        if zinhom_num > 0:\n",
    "            zrs = zt.zsolve_result_summerize(df, zinhom_list)\n",
    "            \n",
    "            time_dic['enumeration'][bit][num] = enu_time_dic[bit][num]\n",
    "            y_dic['valid_y_num']['enumeration'][bit][num] = zinhom_num\n",
    "            per_time_dic['enumeration'][bit][num] = enu_time_dic[bit][num] / zinhom_num\n",
    "            p_dic['enumeration'][bit][num] = zrs.calucurate_p()\n",
    "\n",
    "            print('{}_{} finish'.format(bit, num))"
   ]
  },
  {
   "cell_type": "code",
   "execution_count": null,
   "metadata": {},
   "outputs": [],
   "source": []
  },
  {
   "cell_type": "code",
   "execution_count": 120,
   "metadata": {},
   "outputs": [
    {
     "data": {
      "text/plain": [
       "{20: {0: 4.84, 1: 0.02, 2: 0.23, 3: 0.38, 4: 0.65},\n",
       " 25: {0: 5.47, 1: 2894.31, 2: 4.19, 3: 0.23, 4: 15.37},\n",
       " 30: {0: 120017.0, 1: 105.15, 2: 12792.04, 3: 725.79}}"
      ]
     },
     "execution_count": 120,
     "metadata": {},
     "output_type": "execute_result"
    }
   ],
   "source": [
    "time_dic['enumeration']"
   ]
  },
  {
   "cell_type": "code",
   "execution_count": 122,
   "metadata": {},
   "outputs": [
    {
     "data": {
      "text/plain": [
       "{20: {0: 16464, 1: 1365, 2: 1638, 3: 2397, 4: 260},\n",
       " 25: {0: 12600, 1: 89796, 2: 14700, 3: 1372, 4: 21000},\n",
       " 30: {0: 58296, 1: 57159, 2: 429660, 3: 127440}}"
      ]
     },
     "execution_count": 122,
     "metadata": {},
     "output_type": "execute_result"
    }
   ],
   "source": [
    "y_dic['valid_y_num']['enumeration']"
   ]
  },
  {
   "cell_type": "code",
   "execution_count": 123,
   "metadata": {},
   "outputs": [
    {
     "data": {
      "text/plain": [
       "{20: {0: 0.00029397473275024293,\n",
       "  1: 1.4652014652014653e-05,\n",
       "  2: 0.00014041514041514042,\n",
       "  3: 0.00015853149770546517,\n",
       "  4: 0.0025},\n",
       " 25: {0: 0.0004341269841269841,\n",
       "  1: 0.03223205933449151,\n",
       "  2: 0.0002850340136054422,\n",
       "  3: 0.00016763848396501459,\n",
       "  4: 0.0007319047619047618},\n",
       " 30: {0: 2.058751886921916,\n",
       "  1: 0.0018396053114995016,\n",
       "  2: 0.029772471256342227,\n",
       "  3: 0.00569515065913371}}"
      ]
     },
     "execution_count": 123,
     "metadata": {},
     "output_type": "execute_result"
    }
   ],
   "source": [
    "per_time_dic['enumeration']"
   ]
  },
  {
   "cell_type": "code",
   "execution_count": 124,
   "metadata": {},
   "outputs": [
    {
     "data": {
      "text/plain": [
       "{20: {0: 0.22959183673469388,\n",
       "  1: 0.2153846153846154,\n",
       "  2: 0.3333333333333333,\n",
       "  3: 0.2640801001251564,\n",
       "  4: 0.4153846153846154},\n",
       " 25: {0: 0.08333333333333333,\n",
       "  1: 0.0608044901777362,\n",
       "  2: 0.15306122448979592,\n",
       "  3: 0.15743440233236153,\n",
       "  4: 0.248},\n",
       " 30: {0: 0.04459997255386304,\n",
       "  1: 0.31648559282002836,\n",
       "  2: 0.20353302611367127,\n",
       "  3: 0.11007532956685499}}"
      ]
     },
     "execution_count": 124,
     "metadata": {},
     "output_type": "execute_result"
    }
   ],
   "source": [
    "p_dic['enumeration']"
   ]
  },
  {
   "cell_type": "code",
   "execution_count": 126,
   "metadata": {},
   "outputs": [],
   "source": [
    "enu_mean_time_list = []\n",
    "enu_std_time_list = []\n",
    "for bit in [20,  25]:\n",
    "    time_list = list(per_time_dic['enumeration'][bit].values())\n",
    "    enu_mean_time_list.append(statistics.mean(time_list))\n",
    "    enu_std_time_list.append(statistics.pstdev(time_list))\n",
    "    \n",
    "enu_mean_time = np.array(enu_mean_time_list)\n",
    "enu_std_time = np.array(enu_std_time_list)"
   ]
  },
  {
   "cell_type": "code",
   "execution_count": 127,
   "metadata": {},
   "outputs": [
    {
     "data": {
      "text/plain": [
       "array([0.00062151, 0.00677015])"
      ]
     },
     "execution_count": 127,
     "metadata": {},
     "output_type": "execute_result"
    }
   ],
   "source": [
    "enu_mean_time"
   ]
  },
  {
   "cell_type": "code",
   "execution_count": 128,
   "metadata": {},
   "outputs": [
    {
     "data": {
      "text/plain": [
       "array([0.00094341, 0.01273235])"
      ]
     },
     "execution_count": 128,
     "metadata": {},
     "output_type": "execute_result"
    }
   ],
   "source": [
    "enu_std_time"
   ]
  },
  {
   "cell_type": "code",
   "execution_count": null,
   "metadata": {},
   "outputs": [],
   "source": []
  }
 ],
 "metadata": {
  "kernelspec": {
   "display_name": "Python 3",
   "language": "python",
   "name": "python3"
  },
  "language_info": {
   "codemirror_mode": {
    "name": "ipython",
    "version": 3
   },
   "file_extension": ".py",
   "mimetype": "text/x-python",
   "name": "python",
   "nbconvert_exporter": "python",
   "pygments_lexer": "ipython3",
   "version": "3.7.9"
  }
 },
 "nbformat": 4,
 "nbformat_minor": 4
}
