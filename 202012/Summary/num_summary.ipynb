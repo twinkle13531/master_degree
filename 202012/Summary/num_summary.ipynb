{
 "cells": [
  {
   "cell_type": "code",
   "execution_count": 1,
   "metadata": {},
   "outputs": [
    {
     "name": "stdout",
     "output_type": "stream",
     "text": [
      "/Users/shihosato/src/github.com/twinkle13531/master_degree/202012/Summary\n"
     ]
    }
   ],
   "source": [
    "!pwd"
   ]
  },
  {
   "cell_type": "code",
   "execution_count": 2,
   "metadata": {},
   "outputs": [],
   "source": [
    "%load_ext autoreload\n",
    "%autoreload 2"
   ]
  },
  {
   "cell_type": "code",
   "execution_count": 3,
   "metadata": {},
   "outputs": [],
   "source": [
    "import sys, os\n",
    "sys.path.append(os.path.join('..', 'Random'))\n",
    "sys.path.append(os.path.join('..', 'SA'))\n",
    "sys.path.append(os.path.join('..', 'QA'))\n",
    "sys.path.append(os.path.join('..', '4ti2', 'functions'))"
   ]
  },
  {
   "cell_type": "code",
   "execution_count": 4,
   "metadata": {},
   "outputs": [],
   "source": [
    "import QA_DwaveSampler_AutoEmbedding as qda\n",
    "import random_exact_test_functions as ret\n",
    "import SA_exact_test_functions as net\n",
    "import zsolve_t1 as zt\n",
    "import pandas as pd\n",
    "import numpy as np\n",
    "import time\n",
    "import matplotlib.pyplot as plt\n",
    "import statistics\n",
    "import math"
   ]
  },
  {
   "cell_type": "code",
   "execution_count": 5,
   "metadata": {},
   "outputs": [],
   "source": [
    "time_dic = {}"
   ]
  },
  {
   "cell_type": "code",
   "execution_count": 6,
   "metadata": {},
   "outputs": [],
   "source": [
    "y_dic = {'total_y_num':{}, 'mean_occurrence':{}, 'valid_y_num':{}}"
   ]
  },
  {
   "cell_type": "code",
   "execution_count": 7,
   "metadata": {},
   "outputs": [],
   "source": [
    "per_time_dic = {}"
   ]
  },
  {
   "cell_type": "code",
   "execution_count": 8,
   "metadata": {},
   "outputs": [],
   "source": [
    "mean_broken_chain_proportion = {}#only QA"
   ]
  },
  {
   "cell_type": "code",
   "execution_count": 9,
   "metadata": {},
   "outputs": [],
   "source": [
    "p_dic = {}"
   ]
  },
  {
   "cell_type": "code",
   "execution_count": 10,
   "metadata": {},
   "outputs": [],
   "source": [
    "chain_strength_dic = {20:10, 25:15, 30:20, 35:20, 40:30}"
   ]
  },
  {
   "cell_type": "code",
   "execution_count": 114,
   "metadata": {},
   "outputs": [],
   "source": [
    "bit_list = [20, 25, 30, 35, 40]\n",
    "num_list = [0, 1, 2, 3, 4]"
   ]
  },
  {
   "cell_type": "markdown",
   "metadata": {},
   "source": [
    "## QA\n",
    "計算時間の制約があるので一気に、まとめて計算する。\n",
    "\n",
    "\n",
    "前回からの変更点\n",
    "- calculation_time測定箇所がおかしかった→修正\n",
    "- n, num_reads.たしかにnを増やすとvalid_y_numが増えるが、per_timeもcalculation_timeも*n弱ほど増える\n",
    "  - どう頑張ってもvalid_y_numでSAには勝てない\n",
    "  - n, num_reads = 100, 100となるとどうしても計算が時間かかりすぎる25bitでさえも\n",
    "  - →n=1, num_reads=10000のtotal_timeで勝負する\n",
    "  - 時間の平均、標準偏差などはtotal_timeにする（すべての手法）\n"
   ]
  },
  {
   "cell_type": "code",
   "execution_count": 12,
   "metadata": {},
   "outputs": [],
   "source": [
    "n, num_reads = 1, 10000"
   ]
  },
  {
   "cell_type": "code",
   "execution_count": 13,
   "metadata": {},
   "outputs": [],
   "source": [
    "time_dic['QA'] = {}\n",
    "y_dic['total_y_num']['QA'] = {}\n",
    "y_dic['mean_occurrence']['QA'] = {}\n",
    "y_dic['valid_y_num']['QA'] = {}\n",
    "per_time_dic['QA'] = {}\n",
    "p_dic['QA'] = {}"
   ]
  },
  {
   "cell_type": "code",
   "execution_count": 14,
   "metadata": {},
   "outputs": [
    {
     "name": "stdout",
     "output_type": "stream",
     "text": [
      "20_0 finish\n",
      "20_1 finish\n",
      "20_2 finish\n",
      "20_3 finish\n",
      "20_4 finish\n",
      "25_0 finish\n",
      "25_1 finish\n",
      "25_2 finish\n",
      "25_3 finish\n",
      "25_4 finish\n",
      "30_0 finish\n",
      "30_1 finish\n",
      "30_2 finish\n",
      "30_3 finish\n",
      "30_4 finish\n",
      "35_0 finish\n",
      "35_1 finish\n",
      "35_2 finish\n",
      "35_3 finish\n",
      "35_4 finish\n",
      "40_0 finish\n",
      "40_1 finish\n",
      "40_2 finish\n",
      "40_3 finish\n",
      "40_4 finish\n"
     ]
    }
   ],
   "source": [
    "for bit in [20, 25, 30, 35, 40]:\n",
    "    time_dic['QA'][bit] = {}\n",
    "    y_dic['total_y_num']['QA'][bit] = {}\n",
    "    y_dic['mean_occurrence']['QA'][bit] = {}\n",
    "    y_dic['valid_y_num']['QA'][bit] = {}\n",
    "    per_time_dic['QA'][bit] = {}\n",
    "    mean_broken_chain_proportion[bit] = {}\n",
    "    p_dic['QA'][bit] = {}\n",
    "    chain_strength = chain_strength_dic[bit]\n",
    "    \n",
    "    for num in [0, 1, 2, 3, 4]:\n",
    "        path = '../input/ost{}_{}.csv'.format(bit, num)\n",
    "        df = pd.read_csv(path, sep=',')\n",
    "        bqm = qda.make_Hamiltonian(df)\n",
    "        \n",
    "        qqda = qda.QA_DSampler_AEmbedding(df, bqm, n, num_reads, chain_strength)\n",
    "        valid_y_info_dic, calculation_time = qqda.find_valid_y_time_ntimes()\n",
    "        \n",
    "        if len(valid_y_info_dic) > 0:\n",
    "            occurrence_list = [valid_y_info[0] for valid_y_info in list(valid_y_info_dic.values())]\n",
    "            broken_list = [valid_y_info[1] for valid_y_info in list(valid_y_info_dic.values())]\n",
    "\n",
    "            time_dic['QA'][bit][num] = calculation_time\n",
    "            y_dic['total_y_num']['QA'][bit][num] = sum(occurrence_list)\n",
    "            y_dic['mean_occurrence']['QA'][bit][num] = statistics.mean(occurrence_list)\n",
    "            y_dic['valid_y_num']['QA'][bit][num] = len(valid_y_info_dic)\n",
    "            per_time_dic['QA'][bit][num] = calculation_time / sum(occurrence_list)\n",
    "            mean_broken_chain_proportion[bit][num] = statistics.mean(broken_list)\n",
    "            p_dic['QA'][bit][num] = qqda.p_value(valid_y_info_dic)\n",
    "\n",
    "        print('{}_{} finish'.format(bit, num))"
   ]
  },
  {
   "cell_type": "code",
   "execution_count": 15,
   "metadata": {},
   "outputs": [
    {
     "data": {
      "text/plain": [
       "{20: {0: 4.8007480826568605,\n",
       "  1: 5.29829094078064,\n",
       "  2: 4.8907990184021,\n",
       "  3: 4.973049851913452,\n",
       "  4: 4.945617887039185},\n",
       " 25: {0: 4.76728770401001,\n",
       "  1: 4.107626649398804,\n",
       "  2: 4.130954000015259,\n",
       "  3: 4.125704976577759,\n",
       "  4: 4.125749084014893},\n",
       " 30: {0: 4.857393952865601,\n",
       "  1: 4.35492608215332,\n",
       "  2: 4.321266147155762,\n",
       "  3: 4.382329198379517,\n",
       "  4: 4.98394915725708},\n",
       " 35: {0: 4.5598540034484865,\n",
       "  1: 4.569085809249878,\n",
       "  2: 4.78381225730896,\n",
       "  3: 6.331811162490845,\n",
       "  4: 5.85717913772583},\n",
       " 40: {0: 6.264639112014771,\n",
       "  1: 6.066893073577881,\n",
       "  2: 6.663262816925049,\n",
       "  4: 6.245596858520508}}"
      ]
     },
     "execution_count": 15,
     "metadata": {},
     "output_type": "execute_result"
    }
   ],
   "source": [
    "time_dic['QA']"
   ]
  },
  {
   "cell_type": "code",
   "execution_count": 16,
   "metadata": {},
   "outputs": [
    {
     "data": {
      "text/plain": [
       "{20: {0: 388, 1: 204, 2: 342, 3: 285, 4: 47},\n",
       " 25: {0: 11, 1: 180, 2: 46, 3: 20, 4: 81},\n",
       " 30: {0: 13, 1: 5, 2: 84, 3: 6, 4: 82},\n",
       " 35: {0: 1, 1: 23, 2: 70, 3: 8, 4: 5},\n",
       " 40: {0: 8, 1: 2, 2: 1, 4: 1}}"
      ]
     },
     "execution_count": 16,
     "metadata": {},
     "output_type": "execute_result"
    }
   ],
   "source": [
    "y_dic['total_y_num']['QA']"
   ]
  },
  {
   "cell_type": "code",
   "execution_count": 17,
   "metadata": {},
   "outputs": [
    {
     "data": {
      "text/plain": [
       "{20: {0: 1, 1: 1, 2: 1, 3: 1, 4: 1},\n",
       " 25: {0: 1, 1: 1, 2: 1, 3: 1, 4: 1},\n",
       " 30: {0: 1, 1: 1, 2: 1, 3: 1, 4: 1},\n",
       " 35: {0: 1, 1: 1, 2: 1, 3: 1, 4: 1},\n",
       " 40: {0: 1, 1: 1, 2: 1, 4: 1}}"
      ]
     },
     "execution_count": 17,
     "metadata": {},
     "output_type": "execute_result"
    }
   ],
   "source": [
    "y_dic['mean_occurrence']['QA']"
   ]
  },
  {
   "cell_type": "code",
   "execution_count": 18,
   "metadata": {},
   "outputs": [
    {
     "data": {
      "text/plain": [
       "{20: {0: 261, 1: 157, 2: 200, 3: 247, 4: 41},\n",
       " 25: {0: 11, 1: 175, 2: 44, 3: 20, 4: 81},\n",
       " 30: {0: 13, 1: 5, 2: 83, 3: 6, 4: 82},\n",
       " 35: {0: 1, 1: 23, 2: 70, 3: 8, 4: 5},\n",
       " 40: {0: 8, 1: 2, 2: 1, 4: 1}}"
      ]
     },
     "execution_count": 18,
     "metadata": {},
     "output_type": "execute_result"
    }
   ],
   "source": [
    "y_dic['valid_y_num']['QA']"
   ]
  },
  {
   "cell_type": "code",
   "execution_count": 19,
   "metadata": {},
   "outputs": [
    {
     "data": {
      "text/plain": [
       "{20: {0: 0.012373062068703249,\n",
       "  1: 0.025972014415591372,\n",
       "  2: 0.014300581925152338,\n",
       "  3: 0.017449297726012114,\n",
       "  4: 0.10522591249019542},\n",
       " 25: {0: 0.43338979127363725,\n",
       "  1: 0.022820148052215578,\n",
       "  2: 0.08980334782641868,\n",
       "  3: 0.20628524882888793,\n",
       "  4: 0.05093517387672707},\n",
       " 30: {0: 0.3736456886819693,\n",
       "  1: 0.8709852164306641,\n",
       "  2: 0.05144364460899716,\n",
       "  3: 0.7303881997299194,\n",
       "  4: 0.060779867771427805},\n",
       " 35: {0: 4.5598540034484865,\n",
       "  1: 0.1986559047499947,\n",
       "  2: 0.06834017510441372,\n",
       "  3: 0.7914763953113556,\n",
       "  4: 1.171435827545166},\n",
       " 40: {0: 0.7830798890018463,\n",
       "  1: 3.0334465367889405,\n",
       "  2: 6.663262816925049,\n",
       "  4: 6.245596858520508}}"
      ]
     },
     "execution_count": 19,
     "metadata": {},
     "output_type": "execute_result"
    }
   ],
   "source": [
    "per_time_dic['QA']"
   ]
  },
  {
   "cell_type": "code",
   "execution_count": 20,
   "metadata": {},
   "outputs": [
    {
     "data": {
      "text/plain": [
       "{20: {0: 0.09578544061302682,\n",
       "  1: 0.20382165605095542,\n",
       "  2: 0.35,\n",
       "  3: 0.31983805668016196,\n",
       "  4: 0.3902439024390244},\n",
       " 25: {0: 0.09090909090909091,\n",
       "  1: 0.10857142857142857,\n",
       "  2: 0.09090909090909091,\n",
       "  3: 0.15,\n",
       "  4: 0.06172839506172839},\n",
       " 30: {0: 0.0, 1: 0.4, 2: 0.060240963855421686, 3: 0.0, 4: 0.15853658536585366},\n",
       " 35: {0: 0.0, 1: 0.13043478260869565, 2: 0.014285714285714285, 3: 0.0, 4: 0.0},\n",
       " 40: {0: 0.125, 1: 0.0, 2: 0.0, 4: 0.0}}"
      ]
     },
     "execution_count": 20,
     "metadata": {},
     "output_type": "execute_result"
    }
   ],
   "source": [
    "p_dic['QA']"
   ]
  },
  {
   "cell_type": "code",
   "execution_count": null,
   "metadata": {},
   "outputs": [],
   "source": []
  },
  {
   "cell_type": "code",
   "execution_count": null,
   "metadata": {},
   "outputs": [],
   "source": []
  },
  {
   "cell_type": "code",
   "execution_count": null,
   "metadata": {},
   "outputs": [],
   "source": []
  },
  {
   "cell_type": "markdown",
   "metadata": {},
   "source": [
    "## Random"
   ]
  },
  {
   "cell_type": "markdown",
   "metadata": {},
   "source": [
    "前回からの変更点\n",
    "- calculation_timeをret.find_valid_y(df, num_reads)の時間とした\n",
    "```python\n",
    "time_0 = time.time()\n",
    "valid_y_dic = ret.find_valid_y(df, num_reads)\n",
    "time_1 = time.time()\n",
    "calculation_time = time_1 - time_0\n",
    "```"
   ]
  },
  {
   "cell_type": "code",
   "execution_count": 21,
   "metadata": {},
   "outputs": [],
   "source": [
    "num_reads = 10000"
   ]
  },
  {
   "cell_type": "code",
   "execution_count": 22,
   "metadata": {},
   "outputs": [],
   "source": [
    "time_dic['random'] = {}\n",
    "y_dic['total_y_num']['random'] = {}\n",
    "y_dic['mean_occurrence']['random'] = {}\n",
    "y_dic['valid_y_num']['random'] = {}\n",
    "per_time_dic['random'] = {}\n",
    "p_dic['random'] = {}"
   ]
  },
  {
   "cell_type": "code",
   "execution_count": 23,
   "metadata": {},
   "outputs": [
    {
     "name": "stdout",
     "output_type": "stream",
     "text": [
      "20_0 finish\n",
      "20_1 finish\n",
      "20_2 finish\n",
      "20_3 finish\n",
      "20_4 finish\n",
      "25_0 finish\n",
      "25_1 finish\n",
      "25_2 finish\n",
      "25_3 finish\n",
      "25_4 finish\n",
      "30_0 finish\n",
      "30_1 finish\n",
      "30_2 finish\n",
      "30_3 finish\n",
      "30_4 finish\n",
      "35_0 finish\n",
      "35_1 finish\n",
      "35_2 finish\n",
      "35_3 finish\n",
      "35_4 finish\n",
      "40_0 finish\n",
      "40_1 finish\n",
      "40_2 finish\n",
      "40_3 finish\n",
      "40_4 finish\n"
     ]
    }
   ],
   "source": [
    "for bit in bit_list:\n",
    "    time_dic['random'][bit] = {}\n",
    "    y_dic['total_y_num']['random'][bit] = {}\n",
    "    y_dic['mean_occurrence']['random'][bit] = {}\n",
    "    y_dic['valid_y_num']['random'][bit] = {}\n",
    "    per_time_dic['random'][bit] = {}\n",
    "    p_dic['random'][bit] = {}\n",
    "    \n",
    "    for num in num_list:\n",
    "        df_path = '../input/ost{}_{}.csv'.format(bit, num)\n",
    "        df = pd.read_csv(df_path, sep=',')\n",
    "        t_list = ret.calc_marginals(df)\n",
    "        time_0 = time.time()\n",
    "        valid_y_dic = ret.find_valid_y(df, num_reads)\n",
    "        time_1 = time.time()\n",
    "        calculation_time = time_1 - time_0\n",
    "        \n",
    "        if len(valid_y_dic) > 0:\n",
    "            rm = ret.Random_method(df, valid_y_dic, num_reads, t_list)\n",
    "            \n",
    "            mean_occurrence_list = [i for i in list(valid_y_dic.values())]\n",
    "            \n",
    "            time_dic['random'][bit][num] = calculation_time\n",
    "            y_dic['total_y_num']['random'][bit][num] = sum(mean_occurrence_list)\n",
    "            y_dic['mean_occurrence']['random'][bit][num] = statistics.mean(mean_occurrence_list)\n",
    "            y_dic['valid_y_num']['random'][bit][num] = len(valid_y_dic)\n",
    "            per_time_dic['random'][bit][num] = calculation_time / len(valid_y_dic)\n",
    "            p_dic['random'][bit][num] = rm.p_value()\n",
    "        print('{}_{} finish'.format(bit, num))"
   ]
  },
  {
   "cell_type": "code",
   "execution_count": 24,
   "metadata": {},
   "outputs": [
    {
     "data": {
      "text/plain": [
       "{20: {0: 0.22255897521972656,\n",
       "  1: 0.17073702812194824,\n",
       "  2: 0.05727791786193848,\n",
       "  3: 0.19472885131835938,\n",
       "  4: 0.18351507186889648},\n",
       " 25: {0: 0.07721900939941406, 1: 0.11200618743896484, 4: 0.07980966567993164},\n",
       " 30: {2: 0.14279603958129883, 3: 0.08059096336364746, 4: 0.06939125061035156},\n",
       " 35: {1: 0.10467791557312012, 2: 0.15607309341430664},\n",
       " 40: {}}"
      ]
     },
     "execution_count": 24,
     "metadata": {},
     "output_type": "execute_result"
    }
   ],
   "source": [
    "time_dic['random']"
   ]
  },
  {
   "cell_type": "code",
   "execution_count": 25,
   "metadata": {},
   "outputs": [
    {
     "data": {
      "text/plain": [
       "{20: {0: 161, 1: 10, 2: 13, 3: 30, 4: 2},\n",
       " 25: {0: 3, 1: 26, 4: 8},\n",
       " 30: {2: 2, 3: 2, 4: 5},\n",
       " 35: {1: 4, 2: 7},\n",
       " 40: {}}"
      ]
     },
     "execution_count": 25,
     "metadata": {},
     "output_type": "execute_result"
    }
   ],
   "source": [
    "y_dic['total_y_num']['random']"
   ]
  },
  {
   "cell_type": "code",
   "execution_count": 26,
   "metadata": {},
   "outputs": [
    {
     "data": {
      "text/plain": [
       "{20: {0: 1.00625, 1: 1, 2: 1, 3: 1, 4: 1},\n",
       " 25: {0: 1, 1: 1, 4: 1},\n",
       " 30: {2: 1, 3: 1, 4: 1},\n",
       " 35: {1: 1, 2: 1},\n",
       " 40: {}}"
      ]
     },
     "execution_count": 26,
     "metadata": {},
     "output_type": "execute_result"
    }
   ],
   "source": [
    "y_dic['mean_occurrence']['random']"
   ]
  },
  {
   "cell_type": "code",
   "execution_count": 27,
   "metadata": {},
   "outputs": [
    {
     "data": {
      "text/plain": [
       "{20: {0: 160, 1: 10, 2: 13, 3: 30, 4: 2},\n",
       " 25: {0: 3, 1: 26, 4: 8},\n",
       " 30: {2: 2, 3: 2, 4: 5},\n",
       " 35: {1: 4, 2: 7},\n",
       " 40: {}}"
      ]
     },
     "execution_count": 27,
     "metadata": {},
     "output_type": "execute_result"
    }
   ],
   "source": [
    "y_dic['valid_y_num']['random']"
   ]
  },
  {
   "cell_type": "code",
   "execution_count": 28,
   "metadata": {},
   "outputs": [
    {
     "data": {
      "text/plain": [
       "{20: {0: 0.001390993595123291,\n",
       "  1: 0.017073702812194825,\n",
       "  2: 0.004405993681687575,\n",
       "  3: 0.006490961710611979,\n",
       "  4: 0.09175753593444824},\n",
       " 25: {0: 0.025739669799804688,\n",
       "  1: 0.004307930286114032,\n",
       "  4: 0.009976208209991455},\n",
       " 30: {2: 0.07139801979064941, 3: 0.04029548168182373, 4: 0.013878250122070312},\n",
       " 35: {1: 0.02616947889328003, 2: 0.022296156202043806},\n",
       " 40: {}}"
      ]
     },
     "execution_count": 28,
     "metadata": {},
     "output_type": "execute_result"
    }
   ],
   "source": [
    "per_time_dic['random']"
   ]
  },
  {
   "cell_type": "code",
   "execution_count": 29,
   "metadata": {},
   "outputs": [
    {
     "data": {
      "text/plain": [
       "{20: {0: 0.2375,\n",
       "  1: 0.1,\n",
       "  2: 0.38461538461538464,\n",
       "  3: 0.23333333333333334,\n",
       "  4: 0.5},\n",
       " 25: {0: 0.0, 1: 0.038461538461538464, 4: 0.375},\n",
       " 30: {2: 0.0, 3: 0.0, 4: 0.0},\n",
       " 35: {1: 0.25, 2: 0.0},\n",
       " 40: {}}"
      ]
     },
     "execution_count": 29,
     "metadata": {},
     "output_type": "execute_result"
    }
   ],
   "source": [
    "p_dic['random']"
   ]
  },
  {
   "cell_type": "code",
   "execution_count": null,
   "metadata": {},
   "outputs": [],
   "source": []
  },
  {
   "cell_type": "markdown",
   "metadata": {},
   "source": [
    "## SA\n",
    "- occurrence_list = list(valid_y_info_dic.values())箇所を変更"
   ]
  },
  {
   "cell_type": "code",
   "execution_count": 115,
   "metadata": {},
   "outputs": [],
   "source": [
    "num_reads = 10000"
   ]
  },
  {
   "cell_type": "code",
   "execution_count": 116,
   "metadata": {},
   "outputs": [],
   "source": [
    "time_dic['SA'] = {}\n",
    "y_dic['total_y_num']['SA'] = {}\n",
    "y_dic['mean_occurrence']['SA'] = {}\n",
    "y_dic['valid_y_num']['SA'] = {}\n",
    "per_time_dic['SA'] = {}\n",
    "p_dic['SA'] = {}"
   ]
  },
  {
   "cell_type": "code",
   "execution_count": 117,
   "metadata": {},
   "outputs": [
    {
     "name": "stdout",
     "output_type": "stream",
     "text": [
      "20_0 finish\n",
      "20_1 finish\n",
      "20_2 finish\n",
      "20_3 finish\n",
      "20_4 finish\n",
      "25_0 finish\n",
      "25_1 finish\n",
      "25_2 finish\n",
      "25_3 finish\n",
      "25_4 finish\n",
      "30_0 finish\n",
      "30_1 finish\n",
      "30_2 finish\n",
      "30_3 finish\n",
      "30_4 finish\n",
      "35_0 finish\n",
      "35_1 finish\n",
      "35_2 finish\n",
      "35_3 finish\n",
      "35_4 finish\n",
      "40_0 finish\n",
      "40_1 finish\n",
      "40_2 finish\n",
      "40_3 finish\n",
      "40_4 finish\n"
     ]
    }
   ],
   "source": [
    "for bit in bit_list:\n",
    "    time_dic['SA'][bit] = {}\n",
    "    y_dic['total_y_num']['SA'][bit] = {}\n",
    "    y_dic['mean_occurrence']['SA'][bit] = {}\n",
    "    y_dic['valid_y_num']['SA'][bit] = {}\n",
    "    per_time_dic['SA'][bit] = {}\n",
    "    p_dic['SA'][bit] = {}\n",
    "    \n",
    "    for num in num_list:\n",
    "        \n",
    "        path = '../input/ost{}_{}.csv'.format(bit, num)\n",
    "        df = pd.read_csv(path, sep=',')\n",
    "        \n",
    "        time_0 = time.time()\n",
    "        res = net.make_res_data(df, num_reads)\n",
    "        valid_y_info_dic = net.find_valid_y(res)\n",
    "        time_1 = time.time()\n",
    "        calculation_time = time_1 - time_0\n",
    "\n",
    "        occurrence_list = list(valid_y_info_dic.values())\n",
    "        \n",
    "        if len(valid_y_info_dic) > 0:\n",
    "            rvd = net.SA_res_valid_dic(df, res, valid_y_info_dic, num_reads)\n",
    "            \n",
    "            time_dic['SA'][bit][num] = calculation_time\n",
    "            y_dic['total_y_num']['SA'][bit][num] = sum(occurrence_list)\n",
    "            y_dic['mean_occurrence']['SA'][bit][num] = statistics.mean(occurrence_list)\n",
    "            y_dic['valid_y_num']['SA'][bit][num] = len(valid_y_info_dic)\n",
    "            per_time_dic['SA'][bit][num] = calculation_time / len(valid_y_info_dic)\n",
    "            p_dic['SA'][bit][num] = rvd.calc_p_value()\n",
    "            \n",
    "        print('{}_{} finish'.format(bit, num))"
   ]
  },
  {
   "cell_type": "code",
   "execution_count": 118,
   "metadata": {},
   "outputs": [
    {
     "data": {
      "text/plain": [
       "{20: {0: 9.18666696548462,\n",
       "  1: 5.6547510623931885,\n",
       "  2: 5.7256858348846436,\n",
       "  3: 6.279776096343994,\n",
       "  4: 5.75777792930603},\n",
       " 25: {0: 10.265526056289673,\n",
       "  1: 14.074274063110352,\n",
       "  2: 10.197137117385864,\n",
       "  3: 7.361194849014282,\n",
       "  4: 11.226624011993408},\n",
       " 30: {0: 15.163124084472656,\n",
       "  1: 16.260918140411377,\n",
       "  2: 15.577936172485352,\n",
       "  3: 15.437527894973755,\n",
       "  4: 15.91696572303772},\n",
       " 35: {0: 18.32254910469055,\n",
       "  1: 20.69321608543396,\n",
       "  2: 19.49590492248535,\n",
       "  3: 19.030593156814575,\n",
       "  4: 18.11780095100403},\n",
       " 40: {0: 21.85553789138794,\n",
       "  1: 22.198148012161255,\n",
       "  2: 22.350066900253296,\n",
       "  3: 22.198980808258057,\n",
       "  4: 21.001359939575195}}"
      ]
     },
     "execution_count": 118,
     "metadata": {},
     "output_type": "execute_result"
    }
   ],
   "source": [
    "time_dic['SA']"
   ]
  },
  {
   "cell_type": "code",
   "execution_count": 119,
   "metadata": {},
   "outputs": [
    {
     "data": {
      "text/plain": [
       "{20: {0: 9756, 1: 9874, 2: 9840, 3: 9616, 4: 9639},\n",
       " 25: {0: 9858, 1: 9790, 2: 9401, 3: 8557, 4: 9866},\n",
       " 30: {0: 9747, 1: 9269, 2: 9935, 3: 9238, 4: 9894},\n",
       " 35: {0: 9536, 1: 9804, 2: 9848, 3: 9601, 4: 9438},\n",
       " 40: {0: 9661, 1: 9761, 2: 9647, 3: 9578, 4: 9578}}"
      ]
     },
     "execution_count": 119,
     "metadata": {},
     "output_type": "execute_result"
    }
   ],
   "source": [
    "y_dic['total_y_num']['SA']"
   ]
  },
  {
   "cell_type": "code",
   "execution_count": 120,
   "metadata": {},
   "outputs": [
    {
     "data": {
      "text/plain": [
       "{20: {0: 1, 1: 7, 2: 6, 3: 4, 4: 37},\n",
       " 25: {0: 1, 1: 1, 2: 1, 3: 6, 4: 1},\n",
       " 30: {0: 1, 1: 1, 2: 1, 3: 1, 4: 1},\n",
       " 35: {0: 1, 1: 1, 2: 1, 3: 1, 4: 1},\n",
       " 40: {0: 1, 1: 1, 2: 1, 3: 1, 4: 1}}"
      ]
     },
     "execution_count": 120,
     "metadata": {},
     "output_type": "execute_result"
    }
   ],
   "source": [
    "y_dic['mean_occurrence']['SA']"
   ]
  },
  {
   "cell_type": "code",
   "execution_count": 121,
   "metadata": {},
   "outputs": [
    {
     "data": {
      "text/plain": [
       "{20: {0: 7247, 1: 1364, 2: 1630, 3: 2351, 4: 260},\n",
       " 25: {0: 6809, 1: 9290, 2: 6853, 3: 1372, 4: 7822},\n",
       " 30: {0: 8937, 1: 8590, 2: 9834, 3: 8901, 4: 9836},\n",
       " 35: {0: 9499, 1: 9796, 2: 9848, 3: 9589, 4: 9430},\n",
       " 40: {0: 9658, 1: 9759, 2: 9644, 3: 9577, 4: 9577}}"
      ]
     },
     "execution_count": 121,
     "metadata": {},
     "output_type": "execute_result"
    }
   ],
   "source": [
    "y_dic['valid_y_num']['SA']"
   ]
  },
  {
   "cell_type": "code",
   "execution_count": 122,
   "metadata": {},
   "outputs": [
    {
     "data": {
      "text/plain": [
       "{20: {0: 0.001267651023248878,\n",
       "  1: 0.004145711922575651,\n",
       "  2: 0.0035126906962482476,\n",
       "  3: 0.0026711085054632044,\n",
       "  4: 0.022145299728100115},\n",
       " 25: {0: 0.0015076407778366386,\n",
       "  1: 0.0015149918259537516,\n",
       "  2: 0.0014879814850993528,\n",
       "  3: 0.005365302368086211,\n",
       "  4: 0.001435262594220584},\n",
       " 30: {0: 0.0016966682426398855,\n",
       "  1: 0.00189300560423881,\n",
       "  2: 0.001584089502998307,\n",
       "  3: 0.001734358824286457,\n",
       "  4: 0.0016182356367464132},\n",
       " 35: {0: 0.001928892420748558,\n",
       "  1: 0.002112414871930784,\n",
       "  2: 0.0019796816533799097,\n",
       "  3: 0.0019846275061856894,\n",
       "  4: 0.0019212938442209999},\n",
       " 40: {0: 0.0022629465615435847,\n",
       "  1: 0.002274633467789861,\n",
       "  2: 0.002317510047724315,\n",
       "  3: 0.002317947249478757,\n",
       "  4: 0.002192895472441808}}"
      ]
     },
     "execution_count": 122,
     "metadata": {},
     "output_type": "execute_result"
    }
   ],
   "source": [
    "per_time_dic['SA']"
   ]
  },
  {
   "cell_type": "code",
   "execution_count": 123,
   "metadata": {},
   "outputs": [
    {
     "data": {
      "text/plain": [
       "{20: {0: 0.22602456188767767,\n",
       "  1: 0.2155425219941349,\n",
       "  2: 0.3325153374233129,\n",
       "  3: 0.264568268821778,\n",
       "  4: 0.4153846153846154},\n",
       " 25: {0: 0.07783815538258188,\n",
       "  1: 0.06167922497308934,\n",
       "  2: 0.15409309791332262,\n",
       "  3: 0.15743440233236153,\n",
       "  4: 0.2527486576323191},\n",
       " 30: {0: 0.0433031218529708,\n",
       "  1: 0.3145518044237485,\n",
       "  2: 0.20012202562538134,\n",
       "  3: 0.10920121334681497,\n",
       "  4: 0.06893045953639691},\n",
       " 35: {0: 0.062427623960416886,\n",
       "  1: 0.04797876684360964,\n",
       "  2: 0.01726238830219334,\n",
       "  3: 0.07268745437480446,\n",
       "  4: 0.15461293743372218},\n",
       " 40: {0: 0.039345620211223856,\n",
       "  1: 0.06107183113023876,\n",
       "  2: 0.03235172127747823,\n",
       "  3: 0.06787094079565625,\n",
       "  4: 0.026730708990289235}}"
      ]
     },
     "execution_count": 123,
     "metadata": {},
     "output_type": "execute_result"
    }
   ],
   "source": [
    "p_dic['SA']"
   ]
  },
  {
   "cell_type": "code",
   "execution_count": 124,
   "metadata": {},
   "outputs": [],
   "source": [
    "#path = '../input/ost{}_{}.csv'.format(bit, num)\n",
    "#df = pd.read_csv(path, sep=',')\n",
    "\n",
    "#num_reads = 10000\n",
    "\n",
    "#res = net.make_res_data(df, num_reads)"
   ]
  },
  {
   "cell_type": "code",
   "execution_count": 125,
   "metadata": {},
   "outputs": [],
   "source": [
    "#for i in res.data(['num_occurrences']):\n",
    "#    print(i)\n",
    "\n",
    "## たしか1ばかりだった"
   ]
  },
  {
   "cell_type": "code",
   "execution_count": null,
   "metadata": {},
   "outputs": [],
   "source": []
  },
  {
   "cell_type": "markdown",
   "metadata": {},
   "source": [
    "## exhaustive enumeration"
   ]
  },
  {
   "cell_type": "code",
   "execution_count": 41,
   "metadata": {},
   "outputs": [],
   "source": [
    "enu_time_dic = {}\n",
    "enu_time_dic[20] = [4.84, 0.02, 0.23, 0.38, 0.65]\n",
    "enu_time_dic[25] = [5.47, 2894.31, 4.19, 0.23, 15.37]\n",
    "enu_time_dic[30] = [120017.00, 105.15, 12792.04, 725.79]"
   ]
  },
  {
   "cell_type": "code",
   "execution_count": 42,
   "metadata": {},
   "outputs": [],
   "source": [
    "#enu_time_dic[30] = [120017.00, 105.15, 12792.04, 725.79, ,]\n",
    "#enu_time_dic[35] = [, , , , , ]\n",
    "#enu_time_dic[40] = [64667.50, , , , ,]"
   ]
  },
  {
   "cell_type": "code",
   "execution_count": 43,
   "metadata": {},
   "outputs": [],
   "source": [
    "time_dic['enumeration'] = {}\n",
    "y_dic['valid_y_num']['enumeration'] = {}\n",
    "per_time_dic['enumeration'] = {}\n",
    "p_dic['enumeration'] = {}"
   ]
  },
  {
   "cell_type": "code",
   "execution_count": 44,
   "metadata": {},
   "outputs": [
    {
     "name": "stdout",
     "output_type": "stream",
     "text": [
      "20_0 finish\n",
      "20_1 finish\n",
      "20_2 finish\n",
      "20_3 finish\n",
      "20_4 finish\n",
      "25_0 finish\n",
      "25_1 finish\n",
      "25_2 finish\n",
      "25_3 finish\n",
      "25_4 finish\n"
     ]
    }
   ],
   "source": [
    "for bit in [20, 25]:\n",
    "    time_dic['enumeration'][bit] = {}\n",
    "    y_dic['valid_y_num']['enumeration'][bit] = {}\n",
    "    per_time_dic['enumeration'][bit] = {}\n",
    "    p_dic['enumeration'][bit] = {}\n",
    "    \n",
    "    for num in [0, 1, 2, 3, 4]:\n",
    "        \n",
    "        path = '../input/ost{}_{}.csv'.format(bit, num)\n",
    "        df = pd.read_csv(path, sep=',')\n",
    "        \n",
    "        zinhom_path = '../4ti2/{}bit/{}/{}bit_{}.zinhom'.format(bit, num, bit, num)\n",
    "        zinhom_num, zinhom_list = zt.make_result_list(zinhom_path)\n",
    "        \n",
    "        if zinhom_num > 0:\n",
    "            zrs = zt.zsolve_result_summerize(df, zinhom_list)\n",
    "            \n",
    "            time_dic['enumeration'][bit][num] = enu_time_dic[bit][num]\n",
    "            y_dic['valid_y_num']['enumeration'][bit][num] = zinhom_num\n",
    "            per_time_dic['enumeration'][bit][num] = enu_time_dic[bit][num] / zinhom_num\n",
    "            p_dic['enumeration'][bit][num] = zrs.calucurate_p()\n",
    "\n",
    "        print('{}_{} finish'.format(bit, num))"
   ]
  },
  {
   "cell_type": "code",
   "execution_count": 45,
   "metadata": {},
   "outputs": [
    {
     "name": "stdout",
     "output_type": "stream",
     "text": [
      "30_0 finish\n",
      "30_1 finish\n",
      "30_2 finish\n",
      "30_3 finish\n"
     ]
    }
   ],
   "source": [
    "for bit in [30]:\n",
    "    time_dic['enumeration'][bit] = {}\n",
    "    y_dic['valid_y_num']['enumeration'][bit] = {}\n",
    "    per_time_dic['enumeration'][bit] = {}\n",
    "    p_dic['enumeration'][bit] = {}\n",
    "    \n",
    "    for num in [0, 1, 2, 3]:\n",
    "        \n",
    "        path = '../input/ost{}_{}.csv'.format(bit, num)\n",
    "        df = pd.read_csv(path, sep=',')\n",
    "        \n",
    "        zinhom_path = '../4ti2/{}bit/{}/{}bit_{}.zinhom'.format(bit, num, bit, num)\n",
    "        zinhom_num, zinhom_list = zt.make_result_list(zinhom_path)\n",
    "        \n",
    "        if zinhom_num > 0:\n",
    "            zrs = zt.zsolve_result_summerize(df, zinhom_list)\n",
    "            \n",
    "            time_dic['enumeration'][bit][num] = enu_time_dic[bit][num]\n",
    "            y_dic['valid_y_num']['enumeration'][bit][num] = zinhom_num\n",
    "            per_time_dic['enumeration'][bit][num] = enu_time_dic[bit][num] / zinhom_num\n",
    "            p_dic['enumeration'][bit][num] = zrs.calucurate_p()\n",
    "\n",
    "        print('{}_{} finish'.format(bit, num))"
   ]
  },
  {
   "cell_type": "code",
   "execution_count": null,
   "metadata": {},
   "outputs": [],
   "source": []
  },
  {
   "cell_type": "code",
   "execution_count": 46,
   "metadata": {},
   "outputs": [
    {
     "data": {
      "text/plain": [
       "{20: {0: 4.84, 1: 0.02, 2: 0.23, 3: 0.38, 4: 0.65},\n",
       " 25: {0: 5.47, 1: 2894.31, 2: 4.19, 3: 0.23, 4: 15.37},\n",
       " 30: {0: 120017.0, 1: 105.15, 2: 12792.04, 3: 725.79}}"
      ]
     },
     "execution_count": 46,
     "metadata": {},
     "output_type": "execute_result"
    }
   ],
   "source": [
    "time_dic['enumeration']"
   ]
  },
  {
   "cell_type": "code",
   "execution_count": 47,
   "metadata": {},
   "outputs": [
    {
     "data": {
      "text/plain": [
       "{20: {0: 16464, 1: 1365, 2: 1638, 3: 2397, 4: 260},\n",
       " 25: {0: 12600, 1: 89796, 2: 14700, 3: 1372, 4: 21000},\n",
       " 30: {0: 58296, 1: 57159, 2: 429660, 3: 127440}}"
      ]
     },
     "execution_count": 47,
     "metadata": {},
     "output_type": "execute_result"
    }
   ],
   "source": [
    "y_dic['valid_y_num']['enumeration']"
   ]
  },
  {
   "cell_type": "code",
   "execution_count": 48,
   "metadata": {},
   "outputs": [
    {
     "data": {
      "text/plain": [
       "{20: {0: 0.00029397473275024293,\n",
       "  1: 1.4652014652014653e-05,\n",
       "  2: 0.00014041514041514042,\n",
       "  3: 0.00015853149770546517,\n",
       "  4: 0.0025},\n",
       " 25: {0: 0.0004341269841269841,\n",
       "  1: 0.03223205933449151,\n",
       "  2: 0.0002850340136054422,\n",
       "  3: 0.00016763848396501459,\n",
       "  4: 0.0007319047619047618},\n",
       " 30: {0: 2.058751886921916,\n",
       "  1: 0.0018396053114995016,\n",
       "  2: 0.029772471256342227,\n",
       "  3: 0.00569515065913371}}"
      ]
     },
     "execution_count": 48,
     "metadata": {},
     "output_type": "execute_result"
    }
   ],
   "source": [
    "per_time_dic['enumeration']"
   ]
  },
  {
   "cell_type": "code",
   "execution_count": 49,
   "metadata": {},
   "outputs": [
    {
     "data": {
      "text/plain": [
       "{20: {0: 0.22959183673469388,\n",
       "  1: 0.2153846153846154,\n",
       "  2: 0.3333333333333333,\n",
       "  3: 0.2640801001251564,\n",
       "  4: 0.4153846153846154},\n",
       " 25: {0: 0.08333333333333333,\n",
       "  1: 0.0608044901777362,\n",
       "  2: 0.15306122448979592,\n",
       "  3: 0.15743440233236153,\n",
       "  4: 0.248},\n",
       " 30: {0: 0.04459997255386304,\n",
       "  1: 0.31648559282002836,\n",
       "  2: 0.20353302611367127,\n",
       "  3: 0.11007532956685499}}"
      ]
     },
     "execution_count": 49,
     "metadata": {},
     "output_type": "execute_result"
    }
   ],
   "source": [
    "p_dic['enumeration']"
   ]
  },
  {
   "cell_type": "code",
   "execution_count": null,
   "metadata": {},
   "outputs": [],
   "source": []
  },
  {
   "cell_type": "markdown",
   "metadata": {},
   "source": [
    "## mean, std dicについて\n",
    " - enumeration入(all_mean_time, all_std_time)と、なしを作る\n",
    "   - 入はせっかくなので4サンプルずつ20, 25, 30bitまで\n",
    "   - なしは5サンプルずつ20-40bitまで\n",
    " - 種類\n",
    "   - time\n",
    "   - per_time\n",
    "   - valid_y_num\n",
    "   - p_value//\n",
    "   \n",
    "   - total_y_num\n",
    "   - mean_occurrence"
   ]
  },
  {
   "cell_type": "code",
   "execution_count": 126,
   "metadata": {},
   "outputs": [],
   "source": [
    "method_list_all = ['enumeration', 'random', 'SA', 'QA']\n",
    "method_list_35 = ['random', 'SA', 'QA']\n",
    "method_list_40 = ['SA', 'QA']\n",
    "\n",
    "bit_list_30 = [20, 25, 30]\n",
    "bit_list_35 = [20, 25, 30, 35]\n",
    "#bit_list_all = [20, 25, 30, 35, 40]"
   ]
  },
  {
   "cell_type": "markdown",
   "metadata": {},
   "source": [
    "### time"
   ]
  },
  {
   "cell_type": "code",
   "execution_count": 127,
   "metadata": {},
   "outputs": [],
   "source": [
    "mean_time_30 = {}\n",
    "std_time_30 = {}"
   ]
  },
  {
   "cell_type": "code",
   "execution_count": 128,
   "metadata": {},
   "outputs": [],
   "source": [
    "for method in all_method_list:\n",
    "    mean_time_list = []\n",
    "    std_time_list = []\n",
    "    for bit in bit_list_30:\n",
    "        time_list = list(time_dic[method][bit].values())[:4]\n",
    "        mean_time_list.append(statistics.mean(time_list))\n",
    "        std_time_list.append(statistics.pstdev(time_list))\n",
    "\n",
    "    mean_time_30[method] = np.array(mean_time_list)\n",
    "    std_time_30[method] = np.array(std_time_list)"
   ]
  },
  {
   "cell_type": "code",
   "execution_count": 129,
   "metadata": {},
   "outputs": [
    {
     "data": {
      "text/plain": [
       "{'enumeration': array([1.3675000e+00, 7.2605000e+02, 3.3409995e+04]),\n",
       " 'random': array([0.16132569, 0.08967829, 0.09759275]),\n",
       " 'SA': array([ 6.71171999, 10.47453302, 15.60987657]),\n",
       " 'QA': array([4.99072197, 4.28289333, 4.47897885])}"
      ]
     },
     "execution_count": 129,
     "metadata": {},
     "output_type": "execute_result"
    }
   ],
   "source": [
    "mean_time_30"
   ]
  },
  {
   "cell_type": "code",
   "execution_count": 130,
   "metadata": {},
   "outputs": [],
   "source": [
    "mean_time_35 = {}\n",
    "std_time_35 = {}"
   ]
  },
  {
   "cell_type": "code",
   "execution_count": 131,
   "metadata": {},
   "outputs": [],
   "source": [
    "for method in method_list_35:\n",
    "    mean_time_list = []\n",
    "    std_time_list = []\n",
    "    for bit in bit_list_35:\n",
    "        time_list = list(time_dic[method][bit].values())\n",
    "        mean_time_list.append(statistics.mean(time_list))\n",
    "        std_time_list.append(statistics.pstdev(time_list))\n",
    "\n",
    "    mean_time_35[method] = np.array(mean_time_list)\n",
    "    std_time_35[method] = np.array(std_time_list)"
   ]
  },
  {
   "cell_type": "code",
   "execution_count": 132,
   "metadata": {},
   "outputs": [
    {
     "data": {
      "text/plain": [
       "{'random': array([0.16576357, 0.08967829, 0.09759275, 0.1303755 ]),\n",
       " 'SA': array([ 6.52093158, 10.62495122, 15.6712944 , 19.13201284]),\n",
       " 'QA': array([4.98170116, 4.25146448, 4.57997291, 5.22034847])}"
      ]
     },
     "execution_count": 132,
     "metadata": {},
     "output_type": "execute_result"
    }
   ],
   "source": [
    "mean_time_35"
   ]
  },
  {
   "cell_type": "code",
   "execution_count": 133,
   "metadata": {},
   "outputs": [],
   "source": [
    "mean_time_40 = {}\n",
    "std_time_40 = {}"
   ]
  },
  {
   "cell_type": "code",
   "execution_count": 134,
   "metadata": {},
   "outputs": [],
   "source": [
    "for method in method_list_40:\n",
    "    mean_time_list = []\n",
    "    std_time_list = []\n",
    "    for bit in bit_list:\n",
    "        time_list = list(time_dic[method][bit].values())\n",
    "        mean_time_list.append(statistics.mean(time_list))\n",
    "        std_time_list.append(statistics.pstdev(time_list))\n",
    "\n",
    "    mean_time_40[method] = np.array(mean_time_list)\n",
    "    std_time_40[method] = np.array(std_time_list)"
   ]
  },
  {
   "cell_type": "code",
   "execution_count": 135,
   "metadata": {},
   "outputs": [
    {
     "data": {
      "text/plain": [
       "{'SA': array([ 6.52093158, 10.62495122, 15.6712944 , 19.13201284, 21.92081871]),\n",
       " 'QA': array([4.98170116, 4.25146448, 4.57997291, 5.22034847, 6.31009797])}"
      ]
     },
     "execution_count": 135,
     "metadata": {},
     "output_type": "execute_result"
    }
   ],
   "source": [
    "mean_time_40"
   ]
  },
  {
   "cell_type": "code",
   "execution_count": null,
   "metadata": {},
   "outputs": [],
   "source": []
  },
  {
   "cell_type": "markdown",
   "metadata": {},
   "source": [
    "### per_time"
   ]
  },
  {
   "cell_type": "code",
   "execution_count": 136,
   "metadata": {},
   "outputs": [],
   "source": [
    "mean_per_time_30 = {}\n",
    "std_per_time_30 = {}\n",
    "\n",
    "for method in all_method_list:\n",
    "    mean_time_list = []\n",
    "    std_time_list = []\n",
    "    for bit in bit_list_30:\n",
    "        time_list = list(per_time_dic[method][bit].values())[:4]\n",
    "        mean_time_list.append(statistics.mean(time_list))\n",
    "        std_time_list.append(statistics.pstdev(time_list))\n",
    "\n",
    "    mean_per_time_30[method] = np.array(mean_time_list)\n",
    "    std_per_time_30[method] = np.array(std_time_list)"
   ]
  },
  {
   "cell_type": "code",
   "execution_count": 137,
   "metadata": {},
   "outputs": [
    {
     "data": {
      "text/plain": [
       "{'enumeration': array([1.51893346e-04, 8.27971470e-03, 5.24014779e-01]),\n",
       " 'random': array([0.00734041, 0.01334127, 0.04185725]),\n",
       " 'SA': array([0.00289929, 0.00246898, 0.00172703]),\n",
       " 'QA': array([0.01752374, 0.18807463, 0.50661569])}"
      ]
     },
     "execution_count": 137,
     "metadata": {},
     "output_type": "execute_result"
    }
   ],
   "source": [
    "mean_per_time_30"
   ]
  },
  {
   "cell_type": "code",
   "execution_count": 138,
   "metadata": {},
   "outputs": [],
   "source": [
    "mean_per_time_35 = {}\n",
    "std_per_time_35 = {}\n",
    "\n",
    "for method in method_list_35:\n",
    "    mean_time_list = []\n",
    "    std_time_list = []\n",
    "    for bit in bit_list_35:\n",
    "        time_list = list(per_time_dic[method][bit].values())\n",
    "        mean_time_list.append(statistics.mean(time_list))\n",
    "        std_time_list.append(statistics.pstdev(time_list))\n",
    "\n",
    "    mean_per_time_35[method] = np.array(mean_time_list)\n",
    "    std_per_time_35[method] = np.array(std_time_list)"
   ]
  },
  {
   "cell_type": "code",
   "execution_count": 139,
   "metadata": {},
   "outputs": [
    {
     "data": {
      "text/plain": [
       "{'random': array([0.02422384, 0.01334127, 0.04185725, 0.02423282]),\n",
       " 'SA': array([0.00674849, 0.00226224, 0.00170527, 0.00198538]),\n",
       " 'QA': array([0.03506417, 0.16064674, 0.41744852, 1.35795246])}"
      ]
     },
     "execution_count": 139,
     "metadata": {},
     "output_type": "execute_result"
    }
   ],
   "source": [
    "mean_per_time_35"
   ]
  },
  {
   "cell_type": "code",
   "execution_count": 140,
   "metadata": {},
   "outputs": [],
   "source": [
    "mean_per_time_40 = {}\n",
    "std_per_time_40 = {}\n",
    "\n",
    "for method in method_list_40:\n",
    "    mean_time_list = []\n",
    "    std_time_list = []\n",
    "    for bit in bit_list:\n",
    "        time_list = list(per_time_dic[method][bit].values())\n",
    "        mean_time_list.append(statistics.mean(time_list))\n",
    "        std_time_list.append(statistics.pstdev(time_list))\n",
    "\n",
    "    mean_per_time_40[method] = np.array(mean_time_list)\n",
    "    std_per_time_40[method] = np.array(std_time_list)"
   ]
  },
  {
   "cell_type": "code",
   "execution_count": 141,
   "metadata": {},
   "outputs": [
    {
     "data": {
      "text/plain": [
       "{'SA': array([0.00674849, 0.00226224, 0.00170527, 0.00198538, 0.00227319]),\n",
       " 'QA': array([0.03506417, 0.16064674, 0.41744852, 1.35795246, 4.18134653])}"
      ]
     },
     "execution_count": 141,
     "metadata": {},
     "output_type": "execute_result"
    }
   ],
   "source": [
    "mean_per_time_40"
   ]
  },
  {
   "cell_type": "markdown",
   "metadata": {},
   "source": [
    "### valid_y_num"
   ]
  },
  {
   "cell_type": "code",
   "execution_count": 142,
   "metadata": {},
   "outputs": [],
   "source": [
    "mean_valid_y_num_30 = {}\n",
    "std_valid_y_num_30 = {}\n",
    "\n",
    "for method in all_method_list:\n",
    "    mean_num_list = []\n",
    "    std_num_list = []\n",
    "    for bit in bit_list_30:\n",
    "        num_list = list(y_dic['valid_y_num'][method][bit].values())[:4]\n",
    "        mean_num_list.append(statistics.mean(num_list))\n",
    "        std_num_list.append(statistics.pstdev(num_list))\n",
    "\n",
    "    mean_valid_y_num_30[method] = np.array(mean_num_list)\n",
    "    std_valid_y_num_30[method] = np.array(std_num_list)"
   ]
  },
  {
   "cell_type": "code",
   "execution_count": 143,
   "metadata": {},
   "outputs": [
    {
     "data": {
      "text/plain": [
       "{'enumeration': array([  5466.  ,  29617.  , 168138.75]),\n",
       " 'random': array([53.25      , 12.33333333,  3.        ]),\n",
       " 'SA': array([3148. , 6081. , 9065.5]),\n",
       " 'QA': array([216.25,  62.5 ,  26.75])}"
      ]
     },
     "execution_count": 143,
     "metadata": {},
     "output_type": "execute_result"
    }
   ],
   "source": [
    "mean_valid_y_num_30"
   ]
  },
  {
   "cell_type": "code",
   "execution_count": 144,
   "metadata": {},
   "outputs": [],
   "source": [
    "mean_valid_y_num_35 = {}\n",
    "std_valid_y_num_35 = {}\n",
    "\n",
    "for method in method_list_35:\n",
    "    mean_num_list = []\n",
    "    std_num_list = []\n",
    "    for bit in bit_list_35:\n",
    "        num_list = list(y_dic['valid_y_num'][method][bit].values())\n",
    "        mean_num_list.append(statistics.mean(num_list))\n",
    "        std_num_list.append(statistics.pstdev(num_list))\n",
    "\n",
    "    mean_valid_y_num_35[method] = np.array(mean_num_list)\n",
    "    std_valid_y_num_35[method] = np.array(std_num_list)"
   ]
  },
  {
   "cell_type": "code",
   "execution_count": 145,
   "metadata": {},
   "outputs": [
    {
     "data": {
      "text/plain": [
       "{'random': array([43.        , 12.33333333,  3.        ,  5.5       ]),\n",
       " 'SA': array([2570.4, 6429.2, 9219.6, 9632.4]),\n",
       " 'QA': array([181.2,  66.2,  37.8,  21.4])}"
      ]
     },
     "execution_count": 145,
     "metadata": {},
     "output_type": "execute_result"
    }
   ],
   "source": [
    "mean_valid_y_num_35"
   ]
  },
  {
   "cell_type": "code",
   "execution_count": 146,
   "metadata": {},
   "outputs": [],
   "source": [
    "mean_valid_y_num_40 = {}\n",
    "std_valid_y_num_40 = {}\n",
    "\n",
    "for method in method_list_40:\n",
    "    mean_num_list = []\n",
    "    std_num_list = []\n",
    "    for bit in bit_list_40:\n",
    "        num_list = list(y_dic['valid_y_num'][method][bit].values())\n",
    "        mean_num_list.append(statistics.mean(num_list))\n",
    "        std_num_list.append(statistics.pstdev(num_list))\n",
    "\n",
    "    mean_valid_y_num_40[method] = np.array(mean_num_list)\n",
    "    std_valid_y_num_40[method] = np.array(std_num_list)"
   ]
  },
  {
   "cell_type": "code",
   "execution_count": 147,
   "metadata": {},
   "outputs": [
    {
     "data": {
      "text/plain": [
       "{'SA': array([2570.4, 6429.2, 9219.6, 9643. ]),\n",
       " 'QA': array([181.2,  66.2,  37.8,   3. ])}"
      ]
     },
     "execution_count": 147,
     "metadata": {},
     "output_type": "execute_result"
    }
   ],
   "source": [
    "mean_valid_y_num_40"
   ]
  },
  {
   "cell_type": "markdown",
   "metadata": {},
   "source": [
    "### p_value"
   ]
  },
  {
   "cell_type": "code",
   "execution_count": 148,
   "metadata": {},
   "outputs": [],
   "source": [
    "mean_p_30 = {}\n",
    "std_p_30 = {}\n",
    "\n",
    "for method in all_method_list:\n",
    "    mean_p_list = []\n",
    "    std_p_list = []\n",
    "    for bit in bit_list_30:\n",
    "        p_list = list(p_dic[method][bit].values())[:4]\n",
    "        mean_p_list.append(statistics.mean(p_list))\n",
    "        std_p_list.append(statistics.pstdev(p_list))\n",
    "\n",
    "    mean_p_30[method] = np.array(mean_p_list)\n",
    "    std_p_30[method] = np.array(std_p_list)"
   ]
  },
  {
   "cell_type": "code",
   "execution_count": 149,
   "metadata": {},
   "outputs": [
    {
     "data": {
      "text/plain": [
       "{'enumeration': array([0.26059747, 0.11365836, 0.16867348]),\n",
       " 'random': array([0.23886218, 0.13782051, 0.        ]),\n",
       " 'SA': array([0.25966267, 0.11276122, 0.16679454]),\n",
       " 'QA': array([0.24236129, 0.1100974 , 0.11506024])}"
      ]
     },
     "execution_count": 149,
     "metadata": {},
     "output_type": "execute_result"
    }
   ],
   "source": [
    "mean_p_30"
   ]
  },
  {
   "cell_type": "code",
   "execution_count": 150,
   "metadata": {},
   "outputs": [],
   "source": [
    "mean_p_35 = {}\n",
    "std_p_35 = {}\n",
    "\n",
    "for method in method_list_35:\n",
    "    mean_p_list = []\n",
    "    std_p_list = []\n",
    "    for bit in bit_list_35:\n",
    "        p_list = list(p_dic[method][bit].values())\n",
    "        mean_p_list.append(statistics.mean(p_list))\n",
    "        std_p_list.append(statistics.pstdev(p_list))\n",
    "\n",
    "    mean_p_35[method] = np.array(mean_p_list)\n",
    "    std_p_35[method] = np.array(std_p_list)"
   ]
  },
  {
   "cell_type": "code",
   "execution_count": 151,
   "metadata": {},
   "outputs": [
    {
     "data": {
      "text/plain": [
       "{'random': array([0.29108974, 0.13782051, 0.        , 0.125     ]),\n",
       " 'SA': array([0.29080706, 0.14075871, 0.14722172, 0.07099383]),\n",
       " 'QA': array([0.27193781, 0.1004236 , 0.12375551, 0.0289441 ])}"
      ]
     },
     "execution_count": 151,
     "metadata": {},
     "output_type": "execute_result"
    }
   ],
   "source": [
    "mean_p_35"
   ]
  },
  {
   "cell_type": "code",
   "execution_count": 152,
   "metadata": {},
   "outputs": [],
   "source": [
    "mean_p_40 = {}\n",
    "std_p_40 = {}\n",
    "\n",
    "for method in method_list_40:\n",
    "    mean_p_list = []\n",
    "    std_p_list = []\n",
    "    for bit in bit_list_40:\n",
    "        p_list = list(p_dic[method][bit].values())\n",
    "        mean_p_list.append(statistics.mean(p_list))\n",
    "        std_p_list.append(statistics.pstdev(p_list))\n",
    "\n",
    "    mean_p_40[method] = np.array(mean_p_list)\n",
    "    std_p_40[method] = np.array(std_p_list)"
   ]
  },
  {
   "cell_type": "code",
   "execution_count": 153,
   "metadata": {},
   "outputs": [
    {
     "data": {
      "text/plain": [
       "{'SA': array([0.29080706, 0.14075871, 0.14722172, 0.04547416]),\n",
       " 'QA': array([0.27193781, 0.1004236 , 0.12375551, 0.03125   ])}"
      ]
     },
     "execution_count": 153,
     "metadata": {},
     "output_type": "execute_result"
    }
   ],
   "source": [
    "mean_p_40"
   ]
  },
  {
   "cell_type": "markdown",
   "metadata": {},
   "source": [
    "### total_y_num"
   ]
  },
  {
   "cell_type": "code",
   "execution_count": 154,
   "metadata": {},
   "outputs": [],
   "source": [
    "mean_total_y_num_35 = {}\n",
    "std_total_y_num_35 = {}\n",
    "\n",
    "for method in method_list_35:\n",
    "    mean_total_num_list = []\n",
    "    std_total_num_list = []\n",
    "    for bit in bit_list_35:\n",
    "        total_num_list = list(y_dic['total_y_num'][method][bit].values())\n",
    "        mean_total_num_list.append(statistics.mean(total_num_list))\n",
    "        std_total_num_list.append(statistics.pstdev(total_num_list))\n",
    "\n",
    "    mean_total_y_num_35[method] = np.array(mean_total_num_list)\n",
    "    std_total_y_num_35[method] = np.array(std_total_num_list)"
   ]
  },
  {
   "cell_type": "code",
   "execution_count": 155,
   "metadata": {},
   "outputs": [
    {
     "data": {
      "text/plain": [
       "{'random': array([43.2       , 12.33333333,  3.        ,  5.5       ]),\n",
       " 'SA': array([9745, 9494, 9616, 9645]),\n",
       " 'QA': array([253,  67,  38,  21])}"
      ]
     },
     "execution_count": 155,
     "metadata": {},
     "output_type": "execute_result"
    }
   ],
   "source": [
    "mean_total_y_num_35"
   ]
  },
  {
   "cell_type": "code",
   "execution_count": 156,
   "metadata": {},
   "outputs": [],
   "source": [
    "mean_total_y_num_40 = {}\n",
    "std_total_y_num_40 = {}\n",
    "\n",
    "for method in method_list_40:\n",
    "    mean_total_num_list = []\n",
    "    std_total_num_list = []\n",
    "    for bit in bit_list_40:\n",
    "        total_num_list = list(y_dic['total_y_num'][method][bit].values())\n",
    "        mean_total_num_list.append(statistics.mean(total_num_list))\n",
    "        std_total_num_list.append(statistics.pstdev(total_num_list))\n",
    "\n",
    "    mean_total_y_num_40[method] = np.array(mean_total_num_list)\n",
    "    std_total_y_num_40[method] = np.array(std_total_num_list)"
   ]
  },
  {
   "cell_type": "code",
   "execution_count": 157,
   "metadata": {},
   "outputs": [
    {
     "data": {
      "text/plain": [
       "{'SA': array([9745, 9494, 9616, 9645]), 'QA': array([253,  67,  38,   3])}"
      ]
     },
     "execution_count": 157,
     "metadata": {},
     "output_type": "execute_result"
    }
   ],
   "source": [
    "mean_total_y_num_40"
   ]
  },
  {
   "cell_type": "markdown",
   "metadata": {},
   "source": [
    "### mean_occurrence"
   ]
  },
  {
   "cell_type": "code",
   "execution_count": 158,
   "metadata": {},
   "outputs": [],
   "source": [
    "mean_occurrence_35 = {}\n",
    "std_occurrence_35 = {}\n",
    "\n",
    "for method in method_list_35:\n",
    "    mean_occurrence_list = []\n",
    "    std_occurrence_list = []\n",
    "    for bit in bit_list_35:\n",
    "        occurrence_list = list(y_dic['mean_occurrence'][method][bit].values())\n",
    "        mean_occurrence_list.append(statistics.mean(occurrence_list))\n",
    "        std_occurrence_list.append(statistics.pstdev(occurrence_list))\n",
    "\n",
    "    mean_occurrence_35[method] = np.array(mean_occurrence_list)\n",
    "    std_occurrence_35[method] = np.array(std_occurrence_list)"
   ]
  },
  {
   "cell_type": "code",
   "execution_count": 160,
   "metadata": {},
   "outputs": [
    {
     "data": {
      "text/plain": [
       "{'random': array([1.00125, 1.     , 1.     , 1.     ]),\n",
       " 'SA': array([11,  2,  1,  1]),\n",
       " 'QA': array([1, 1, 1, 1])}"
      ]
     },
     "execution_count": 160,
     "metadata": {},
     "output_type": "execute_result"
    }
   ],
   "source": [
    "mean_occurrence_35"
   ]
  },
  {
   "cell_type": "code",
   "execution_count": 161,
   "metadata": {},
   "outputs": [],
   "source": [
    "mean_occurrence_40 = {}\n",
    "std_occurrence_40 = {}\n",
    "\n",
    "for method in method_list_40:\n",
    "    mean_occurrence_list = []\n",
    "    std_occurrence_list = []\n",
    "    for bit in bit_list_40:\n",
    "        occurrence_list = list(y_dic['mean_occurrence'][method][bit].values())\n",
    "        mean_occurrence_list.append(statistics.mean(occurrence_list))\n",
    "        std_occurrence_list.append(statistics.pstdev(occurrence_list))\n",
    "\n",
    "    mean_occurrence_40[method] = np.array(mean_occurrence_list)\n",
    "    std_occurrence_40[method] = np.array(std_occurrence_list)"
   ]
  },
  {
   "cell_type": "code",
   "execution_count": 162,
   "metadata": {},
   "outputs": [
    {
     "data": {
      "text/plain": [
       "{'SA': array([11,  2,  1,  1]), 'QA': array([1, 1, 1, 1])}"
      ]
     },
     "execution_count": 162,
     "metadata": {},
     "output_type": "execute_result"
    }
   ],
   "source": [
    "mean_occurrence_40"
   ]
  },
  {
   "cell_type": "code",
   "execution_count": null,
   "metadata": {},
   "outputs": [],
   "source": []
  }
 ],
 "metadata": {
  "kernelspec": {
   "display_name": "Python 3",
   "language": "python",
   "name": "python3"
  },
  "language_info": {
   "codemirror_mode": {
    "name": "ipython",
    "version": 3
   },
   "file_extension": ".py",
   "mimetype": "text/x-python",
   "name": "python",
   "nbconvert_exporter": "python",
   "pygments_lexer": "ipython3",
   "version": "3.7.9"
  }
 },
 "nbformat": 4,
 "nbformat_minor": 4
}
