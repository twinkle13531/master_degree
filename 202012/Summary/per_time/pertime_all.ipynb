{
 "cells": [
  {
   "cell_type": "code",
   "execution_count": 1,
   "metadata": {},
   "outputs": [
    {
     "name": "stdout",
     "output_type": "stream",
     "text": [
      "/Users/shihosato/src/github.com/twinkle13531/master_degree/202012/Summary\n"
     ]
    }
   ],
   "source": [
    "!pwd"
   ]
  },
  {
   "cell_type": "code",
   "execution_count": 2,
   "metadata": {},
   "outputs": [],
   "source": [
    "%load_ext autoreload\n",
    "%autoreload 2"
   ]
  },
  {
   "cell_type": "code",
   "execution_count": 3,
   "metadata": {},
   "outputs": [],
   "source": [
    "import sys, os\n",
    "sys.path.append(os.path.join('..', 'Random'))\n",
    "sys.path.append(os.path.join('..', 'SA'))\n",
    "sys.path.append(os.path.join('..', 'QA'))\n",
    "sys.path.append(os.path.join('..', '4ti2', 'functions'))"
   ]
  },
  {
   "cell_type": "code",
   "execution_count": 4,
   "metadata": {},
   "outputs": [],
   "source": [
    "import QA_DwaveSampler_AutoEmbedding as qda\n",
    "import random_exact_test_functions as ret\n",
    "import Neal_exact_test_functions as net\n",
    "import zsolve_t1 as zt\n",
    "import pandas as pd\n",
    "import numpy as np\n",
    "import time\n",
    "import matplotlib.pyplot as plt\n",
    "import statistics\n",
    "import math"
   ]
  },
  {
   "cell_type": "markdown",
   "metadata": {},
   "source": [
    "## random"
   ]
  },
  {
   "cell_type": "code",
   "execution_count": 5,
   "metadata": {},
   "outputs": [],
   "source": [
    "num_reads = 10000\n",
    "\n",
    "#data:[pertime, pertime, ... , pertime]\n",
    "random_time_dic = {}\n",
    "for bit in [20 ,25, 30, 35, 40]:\n",
    "    random_time_dic[bit] = []\n",
    "    for num in [0, 1, 2, 3, 4]:\n",
    "        df_path = '../input/ost{}_{}.csv'.format(bit, num)\n",
    "        df = pd.read_csv(df_path, sep=',')\n",
    "        valid_y_dic, calculation_time = ret.find_valid_y(df, num_reads)\n",
    "        if len(valid_y_dic) > 0:\n",
    "            random_time_dic[bit].append(calculation_time/len(valid_y_dic))"
   ]
  },
  {
   "cell_type": "code",
   "execution_count": 6,
   "metadata": {},
   "outputs": [
    {
     "data": {
      "text/plain": [
       "{20: [0.008216126865109072,\n",
       "  0.016391838750531598,\n",
       "  0.04828689098358154,\n",
       "  0.04989731788635254,\n",
       "  0.04582330703735352],\n",
       " 25: [0.1233820120493571,\n",
       "  0.4956386089324951,\n",
       "  0.03298638712975287,\n",
       "  0.09478180408477783],\n",
       " 30: [0.101399474673801,\n",
       "  0.14991474151611328,\n",
       "  0.1942413647969564,\n",
       "  0.5095779895782471],\n",
       " 35: [0.12998127937316895],\n",
       " 40: [0.56931471824646, 0.2284095287322998]}"
      ]
     },
     "execution_count": 6,
     "metadata": {},
     "output_type": "execute_result"
    }
   ],
   "source": [
    "random_time_dic"
   ]
  },
  {
   "cell_type": "code",
   "execution_count": 7,
   "metadata": {},
   "outputs": [],
   "source": [
    "random_mean_time = np.array([statistics.mean(random_time_dic[20]), statistics.mean(random_time_dic[25]), statistics.mean(random_time_dic[30]), statistics.mean(random_time_dic[35]), statistics.mean(random_time_dic[40])])\n",
    "random_std_time = np.array([statistics.pstdev(random_time_dic[20]), statistics.pstdev(random_time_dic[25]), statistics.pstdev(random_time_dic[30]), statistics.pstdev(random_time_dic[35]), statistics.pstdev(random_time_dic[40])])"
   ]
  },
  {
   "cell_type": "code",
   "execution_count": 8,
   "metadata": {},
   "outputs": [
    {
     "data": {
      "image/png": "[encoded data removed]",
      "text/plain": [
       "<Figure size 432x288 with 1 Axes>"
      ]
     },
     "metadata": {
      "needs_background": "light"
     },
     "output_type": "display_data"
    }
   ],
   "source": [
    "x = [20, 25, 30, 35, 40]\n",
    "fig, ax = plt.subplots(1)\n",
    "\n",
    "ax.plot(x, random_mean_time, label='random')\n",
    "\n",
    "ax.fill_between(x, random_mean_time + random_std_time, random_mean_time - random_std_time, alpha=0.4)\n",
    "\n",
    "ax.legend()\n",
    "ax.set_xlabel('data size')\n",
    "ax.set_ylabel('calculation time per sample')\n",
    "\n",
    "ax.set_xticks(x)\n",
    "ax.set_yscale('log')\n",
    "#plt.savefig('mean_std_calculation_time202530_log')\n",
    "plt.show()"
   ]
  },
  {
   "cell_type": "markdown",
   "metadata": {},
   "source": [
    "## SA"
   ]
  },
  {
   "cell_type": "code",
   "execution_count": 9,
   "metadata": {},
   "outputs": [],
   "source": [
    "num_reads = 10000\n",
    "\n",
    "#data:[pertime, pertime, ... , pertime]\n",
    "SA_time_dic = {}\n",
    "for bit in [20 ,25, 30, 35, 40]:\n",
    "    SA_time_dic[bit] = []\n",
    "    for num in [0, 1, 2, 3, 4]:\n",
    "        df_path = '../input/ost{}_{}.csv'.format(bit, num)\n",
    "        df = pd.read_csv(df_path, sep=',')\n",
    "        time_0 = time.time()\n",
    "        res = net.make_res_data(df, num_reads)\n",
    "        valid_y_dic = net.find_valid_y(res)\n",
    "        time_1 = time.time()\n",
    "        calculation_time = time_1 - time_0\n",
    "        if len(valid_y_dic) > 0:\n",
    "            SA_time_dic[bit].append(calculation_time/len(valid_y_dic))"
   ]
  },
  {
   "cell_type": "code",
   "execution_count": 10,
   "metadata": {},
   "outputs": [
    {
     "data": {
      "text/plain": [
       "{20: [0.004872754381003327,\n",
       "  0.009614242447747124,\n",
       "  0.02125853038969494,\n",
       "  0.010056379382880598,\n",
       "  0.010586409774047649],\n",
       " 25: [0.006011396975153387,\n",
       "  0.008014425528900963,\n",
       "  0.005088312601615305,\n",
       "  0.00576212494641194,\n",
       "  0.024014584311802676],\n",
       " 30: [0.0063855238233842294,\n",
       "  0.006181880074549063,\n",
       "  0.006215660820635324,\n",
       "  0.0058566728885956565,\n",
       "  0.006013498047479785],\n",
       " 35: [0.007808474291479807,\n",
       "  0.0071058949921950715,\n",
       "  0.007520608123987806,\n",
       "  0.006934679086763241,\n",
       "  0.007292952407541914],\n",
       " 40: [0.008141745979897292,\n",
       "  0.009542129663350952,\n",
       "  0.00860969312812971,\n",
       "  0.008118513868891309,\n",
       "  0.00866715829031808]}"
      ]
     },
     "execution_count": 10,
     "metadata": {},
     "output_type": "execute_result"
    }
   ],
   "source": [
    "SA_time_dic"
   ]
  },
  {
   "cell_type": "code",
   "execution_count": 11,
   "metadata": {},
   "outputs": [],
   "source": [
    "SA_mean_time = np.array([statistics.mean(SA_time_dic[20]), statistics.mean(SA_time_dic[25]), statistics.mean(SA_time_dic[30]), statistics.mean(SA_time_dic[35]), statistics.mean(SA_time_dic[40])])\n",
    "SA_std_time = np.array([statistics.pstdev(SA_time_dic[20]), statistics.pstdev(SA_time_dic[25]), statistics.pstdev(SA_time_dic[30]), statistics.pstdev(SA_time_dic[35]), statistics.pstdev(SA_time_dic[40])])"
   ]
  },
  {
   "cell_type": "code",
   "execution_count": 13,
   "metadata": {},
   "outputs": [
    {
     "data": {
      "image/png": "[encoded data removed]",
      "text/plain": [
       "<Figure size 432x288 with 1 Axes>"
      ]
     },
     "metadata": {
      "needs_background": "light"
     },
     "output_type": "display_data"
    }
   ],
   "source": [
    "x = [20, 25, 30, 35, 40]\n",
    "fig, ax = plt.subplots(1)\n",
    "\n",
    "ax.plot(x, SA_mean_time, label='SA')\n",
    "\n",
    "ax.fill_between(x, SA_mean_time + SA_std_time, SA_mean_time - SA_std_time, alpha=0.4)\n",
    "\n",
    "ax.legend()\n",
    "ax.set_xlabel('data size')\n",
    "ax.set_ylabel('calculation time per sample')\n",
    "\n",
    "ax.set_xticks(x)\n",
    "ax.set_yscale('log')\n",
    "#plt.savefig('mean_std_calculation_time202530_log')\n",
    "plt.show()"
   ]
  },
  {
   "cell_type": "markdown",
   "metadata": {},
   "source": [
    "## 4ti2"
   ]
  },
  {
   "cell_type": "code",
   "execution_count": 15,
   "metadata": {},
   "outputs": [],
   "source": [
    "_20bit_4ti2 = [4.94/16464, 0.23/2940, 2.47/1050, 0.13/2640, 0.08/2464]\n",
    "_25bit_4ti2 = [6.26/12600, 1.45/5850, 522.78/109010, 60.29/23460, 4.29/1260]\n",
    "_30bit_4ti2 = [114590.22/58296, 70282.15/819390, 4964.31/205920, 2701.98/168168, 594.18/89100]"
   ]
  },
  {
   "cell_type": "code",
   "execution_count": 16,
   "metadata": {},
   "outputs": [
    {
     "data": {
      "text/plain": [
       "{20: [0.0003000485908649174,\n",
       "  7.823129251700681e-05,\n",
       "  0.0023523809523809526,\n",
       "  4.9242424242424245e-05,\n",
       "  3.246753246753247e-05],\n",
       " 25: [0.0004968253968253968,\n",
       "  0.00024786324786324785,\n",
       "  0.00479570681588845,\n",
       "  0.002569906223358909,\n",
       "  0.003404761904761905],\n",
       " 30: [1.965661794977357,\n",
       "  0.08577374632348454,\n",
       "  0.024107954545454547,\n",
       "  0.01606714713857571,\n",
       "  0.006668686868686868]}"
      ]
     },
     "execution_count": 16,
     "metadata": {},
     "output_type": "execute_result"
    }
   ],
   "source": [
    "_4ti2_time_dic = {20:_20bit_4ti2, 25:_25bit_4ti2, 30:_30bit_4ti2}\n",
    "_4ti2_time_dic"
   ]
  },
  {
   "cell_type": "code",
   "execution_count": 18,
   "metadata": {},
   "outputs": [],
   "source": [
    "_4ti2_mean_time = np.array([statistics.mean(_4ti2_time_dic[20]), statistics.mean(_4ti2_time_dic[25]), statistics.mean(_4ti2_time_dic[30])])\n",
    "_4ti2_std_time = np.array([statistics.pstdev(_4ti2_time_dic[20]), statistics.pstdev(_4ti2_time_dic[25]), statistics.pstdev(_4ti2_time_dic[30])])"
   ]
  },
  {
   "cell_type": "code",
   "execution_count": 20,
   "metadata": {},
   "outputs": [
    {
     "data": {
      "image/png": "[encoded data removed]",
      "text/plain": [
       "<Figure size 432x288 with 1 Axes>"
      ]
     },
     "metadata": {
      "needs_background": "light"
     },
     "output_type": "display_data"
    }
   ],
   "source": [
    "x = [20, 25, 30]\n",
    "fig, ax = plt.subplots(1)\n",
    "\n",
    "ax.plot(x, _4ti2_mean_time, label='exhaustive enumeration')\n",
    "\n",
    "ax.fill_between(x, _4ti2_mean_time + _4ti2_std_time, _4ti2_mean_time - _4ti2_std_time, alpha=0.4)\n",
    "\n",
    "ax.legend()\n",
    "ax.set_xlabel('data size')\n",
    "ax.set_ylabel('calculation time per sample')\n",
    "\n",
    "ax.set_xticks(x)\n",
    "ax.set_yscale('log')\n",
    "#plt.savefig('mean_std_calculation_time202530_log')\n",
    "plt.show()"
   ]
  },
  {
   "cell_type": "markdown",
   "metadata": {},
   "source": [
    "## QA"
   ]
  },
  {
   "cell_type": "code",
   "execution_count": null,
   "metadata": {},
   "outputs": [],
   "source": [
    "chain_strength_dic = {20:10, 25:15, 30:20, 35:20, 40:30}\n",
    "n, num_reads = 10, 1000"
   ]
  },
  {
   "cell_type": "code",
   "execution_count": null,
   "metadata": {},
   "outputs": [],
   "source": [
    "QA_time_dic = {}\n",
    "for bit in [20 ,25, 30]:\n",
    "    QA_time_dic[bit] = []\n",
    "    for num in [0, 1, 2, 3, 4]:\n",
    "        valid_y_chain_info_dic[bit][num] = {}\n",
    "        path = '../input/ost{}_{}.csv'.format(bit, num)\n",
    "        df = pd.read_csv(path, sep=',')\n",
    "        bqm = qda.make_Hamiltonian(df)\n",
    "        chain_strength = chain_dic[bit]\n",
    "        QDA = qda.QA_DSampler_AEmbedding(df, bqm, n, num_reads, chain_strength)\n",
    "        valid_y_info_dic, calculation_time = QDA.find_valid_y_time_ntimes()\n",
    "        if len(valid_y_dic) > 0:\n",
    "            QA_time_dic[bit].append(calculation_time/len(valid_y_info_dic))"
   ]
  },
  {
   "cell_type": "code",
   "execution_count": null,
   "metadata": {},
   "outputs": [],
   "source": [
    "QA_time_dic"
   ]
  },
  {
   "cell_type": "code",
   "execution_count": null,
   "metadata": {},
   "outputs": [],
   "source": []
  },
  {
   "cell_type": "code",
   "execution_count": null,
   "metadata": {},
   "outputs": [],
   "source": []
  },
  {
   "cell_type": "code",
   "execution_count": null,
   "metadata": {},
   "outputs": [],
   "source": []
  },
  {
   "cell_type": "code",
   "execution_count": null,
   "metadata": {},
   "outputs": [],
   "source": []
  },
  {
   "cell_type": "code",
   "execution_count": null,
   "metadata": {},
   "outputs": [],
   "source": [
    "x = [20, 25, 30]\n",
    "fig, ax = plt.subplots(1)\n",
    "\n",
    "ax.plot(x, time_dic['4ti2'][0], label='exhaustive enumeration')\n",
    "ax.plot(x, time_dic['random'][0], label='random')\n",
    "ax.plot(x, time_dic['SA'][0], label='SA')\n",
    "ax.plot(x, time_dic['QA'][0], label='QA')\n",
    "\n",
    "ax.fill_between(x, time_dic['4ti2'][0] + time_dic['4ti2'][1], time_dic['4ti2'][0] - time_dic['4ti2'][1], alpha=0.4)\n",
    "ax.fill_between(x, time_dic['random'][0] + time_dic['random'][1], time_dic['random'][0] - time_dic['random'][1], alpha=0.4)\n",
    "ax.fill_between(x, time_dic['SA'][0] + time_dic['SA'][1], time_dic['SA'][0] - time_dic['SA'][1], alpha=0.4)\n",
    "ax.fill_between(x, time_dic['QA'][0] + time_dic['QA'][1], time_dic['QA'][0] - time_dic['QA'][1], alpha=0.4)\n",
    "\n",
    "#ax.legend(bbox_to_anchor=(0, -0.2), loc='upper left', ncol=2)\n",
    "ax.legend(loc='upper left', ncol=2)\n",
    "ax.set_xlabel('data size')\n",
    "ax.set_ylabel('calculation time per sample')\n",
    "\n",
    "ax.set_xticks(x)\n",
    "ax.set_yscale('log')\n",
    "plt.savefig('20210105_mean_std_calculation_time202530_log')\n",
    "plt.show()"
   ]
  },
  {
   "cell_type": "code",
   "execution_count": null,
   "metadata": {},
   "outputs": [],
   "source": []
  },
  {
   "cell_type": "code",
   "execution_count": null,
   "metadata": {},
   "outputs": [],
   "source": [
    "time_dic = {}\n",
    "\n",
    "_20bit_4ti2 = [4.94/16464, 0.23/2940, 2.47/1050, 0.13/2640, 0.08/2464]\n",
    "_25bit_4ti2 = [6.26/12600, 1.45/5850, 522.78/109010, 60.29/23460, 4.29/1260]\n",
    "_30bit_4ti2 = [114590.22/58296, 70282.15/819390, 4964.31/205920, 2701.98/168168, 594.18/89100]\n",
    "time_dic['4ti2'] = []\n",
    "_4ti2_mean = np.array([statistics.mean(_20bit_4ti2), statistics.mean(_25bit_4ti2), statistics.mean(_30bit_4ti2)])\n",
    "_4ti2_std = np.array([statistics.pstdev(_20bit_4ti2), statistics.pstdev(_25bit_4ti2), statistics.pstdev(_30bit_4ti2)])\n",
    "time_dic['4ti2'].append(_4ti2_mean)\n",
    "time_dic['4ti2'].append(_4ti2_std)\n",
    "\n",
    "_20bit_random = [0.18552691740005683/165, 0.0709505495000485/32, 0.06933074559992747/9, 0.18460488030004854/22, 0.18051538510007958/15]\n",
    "_25bit_random = [0.07384206859999995/3, 0.16367672419999996/1, 0.1738539143999999/28, 0.15510272619999999/11]\n",
    "_30bit_random = [0.07409351099999997/3, 0.15929082999999994/13, 0.11666194870000002/2]\n",
    "time_dic['random'] = []\n",
    "random_mean = np.array([statistics.mean(_20bit_random), statistics.mean(_25bit_random), statistics.mean(_30bit_random)])\n",
    "random_std = np.array([statistics.pstdev(_20bit_random), statistics.pstdev(_25bit_random), statistics.pstdev(_30bit_random)])\n",
    "time_dic['random'].append(random_mean)\n",
    "time_dic['random'].append(random_std)\n",
    "\n",
    "_20bit_SA = [39.3638699054718/7396, 30.394564867019653/2819, 24.911816835403442/1050, 31.526935815811157/2576, 29.0723819732666/2411]\n",
    "_25bit_SA = [51.21703791618347/6780, 42.17095327377319/4525, 50.918558835983276/9541, 55.875486850738525/7860, 36.98383378982544/1258]\n",
    "_30bit_SA = [65.2171459197998/8969, 56.08537817001343/8860, 63.485042095184326/9503, 57.39350175857544/9310, 58.64697289466858/8891]\n",
    "time_dic['SA'] = []\n",
    "SA_mean = np.array([statistics.mean(_20bit_SA), statistics.mean(_25bit_SA), statistics.mean(_30bit_SA)])\n",
    "SA_std = np.array([statistics.pstdev(_20bit_SA), statistics.pstdev(_25bit_SA), statistics.pstdev(_30bit_SA)])\n",
    "time_dic['SA'].append(SA_mean)\n",
    "time_dic['SA'].append(SA_std)\n",
    "\n",
    "_20bit_QA = [0.0032529830932617188/1100, 0.0032758712768554688/600, 0.0035250186920166016/300, 0.003698110580444336/300, 0.004288196563720703/200]\n",
    "_25bit_QA = [0.003081083297729492/180, 0.002710103988647461/10, 0.004812002182006836/320, 0.003191232681274414/30, 0.018784046173095703/30]\n",
    "_30bit_QA = [0.0031800270080566406/40, 0.004498004913330078/70, 0.003103971481323242/30]\n",
    "time_dic['QA'] = []\n",
    "QA_mean = np.array([statistics.mean(_20bit_QA), statistics.mean(_25bit_QA), statistics.mean(_30bit_QA)])\n",
    "QA_std = np.array([statistics.pstdev(_20bit_QA), statistics.pstdev(_25bit_QA), statistics.pstdev(_30bit_QA)])\n",
    "time_dic['QA'].append(QA_mean)\n",
    "time_dic['QA'].append(QA_std)\n",
    "\n",
    "#mean_calculation_time202530['random'] = [0.11997059858/48.2, 0.101650324/9.6, 0.08167518044/1.6]\n",
    "#mean_calculation_time202530['SA'] = [3.8748642719601/3260.8, 6.77062311042012/5969.6, 7.96528926591992/9087.2]\n",
    "#mean_calculation_time202530['QA'] = [0.00984470959988539/429, 0.0074053542000007/95.4, 0.0103936540000076/28.8]"
   ]
  },
  {
   "cell_type": "code",
   "execution_count": null,
   "metadata": {},
   "outputs": [],
   "source": [
    "time_dic"
   ]
  },
  {
   "cell_type": "code",
   "execution_count": null,
   "metadata": {},
   "outputs": [],
   "source": [
    "_4ti2_mean"
   ]
  },
  {
   "cell_type": "code",
   "execution_count": null,
   "metadata": {},
   "outputs": [],
   "source": [
    "_4ti2_std"
   ]
  },
  {
   "cell_type": "code",
   "execution_count": null,
   "metadata": {},
   "outputs": [],
   "source": [
    "random_mean"
   ]
  },
  {
   "cell_type": "code",
   "execution_count": null,
   "metadata": {},
   "outputs": [],
   "source": [
    "random_std"
   ]
  },
  {
   "cell_type": "code",
   "execution_count": null,
   "metadata": {},
   "outputs": [],
   "source": [
    "SA_mean"
   ]
  },
  {
   "cell_type": "code",
   "execution_count": null,
   "metadata": {},
   "outputs": [],
   "source": [
    "SA_std"
   ]
  },
  {
   "cell_type": "code",
   "execution_count": null,
   "metadata": {},
   "outputs": [],
   "source": [
    "QA_mean"
   ]
  },
  {
   "cell_type": "code",
   "execution_count": null,
   "metadata": {},
   "outputs": [],
   "source": [
    "QA_std"
   ]
  },
  {
   "cell_type": "code",
   "execution_count": null,
   "metadata": {},
   "outputs": [],
   "source": [
    "1282.537/1.07870246"
   ]
  },
  {
   "cell_type": "code",
   "execution_count": null,
   "metadata": {},
   "outputs": [],
   "source": [
    "660.861/8.24078681"
   ]
  },
  {
   "cell_type": "code",
   "execution_count": null,
   "metadata": {},
   "outputs": [],
   "source": [
    "x = [20, 25, 30]\n",
    "fig, ax = plt.subplots(1)\n",
    "\n",
    "ax.plot(x, time_dic['4ti2'][0], label='exhaustive enumeration')\n",
    "ax.plot(x, time_dic['random'][0], label='random')\n",
    "ax.plot(x, time_dic['SA'][0], label='SA')\n",
    "ax.plot(x, time_dic['QA'][0], label='QA')\n",
    "\n",
    "ax.fill_between(x, time_dic['4ti2'][0] + time_dic['4ti2'][1], time_dic['4ti2'][0] - time_dic['4ti2'][1], alpha=0.4)\n",
    "ax.fill_between(x, time_dic['random'][0] + time_dic['random'][1], time_dic['random'][0] - time_dic['random'][1], alpha=0.4)\n",
    "ax.fill_between(x, time_dic['SA'][0] + time_dic['SA'][1], time_dic['SA'][0] - time_dic['SA'][1], alpha=0.4)\n",
    "ax.fill_between(x, time_dic['QA'][0] + time_dic['QA'][1], time_dic['QA'][0] - time_dic['QA'][1], alpha=0.4)\n",
    "\n",
    "#ax.legend(bbox_to_anchor=(0, -0.2), loc='upper left', ncol=2)\n",
    "ax.legend(loc='upper left', ncol=2)\n",
    "ax.set_xlabel('data size')\n",
    "ax.set_ylabel('calculation time per sample')\n",
    "\n",
    "ax.set_xticks(x)\n",
    "ax.set_yscale('log')\n",
    "plt.savefig('mean_std_calculation_time202530_log')\n",
    "plt.show()"
   ]
  },
  {
   "cell_type": "code",
   "execution_count": null,
   "metadata": {},
   "outputs": [],
   "source": [
    "x = [20, 25, 30]\n",
    "plt.xlabel('data size')\n",
    "plt.ylabel('calculation time per sample')\n",
    "plt.plot(x, time_dic['4ti2'][0], label='exhaustive enumeration')\n",
    "plt.plot(x, time_dic['random'][0], label='random')\n",
    "plt.plot(x, time_dic['SA'][0], label='SA')\n",
    "plt.plot(x, time_dic['QA'][0], label='QA')\n",
    "plt.xticks(x, x)\n",
    "plt.legend(ncol=2)\n",
    "plt.yscale('log')\n",
    "plt.savefig('mean_log_calculation_time202530')\n",
    "plt.show()"
   ]
  },
  {
   "cell_type": "code",
   "execution_count": null,
   "metadata": {},
   "outputs": [],
   "source": [
    "x = [20, 25, 30]\n",
    "plt.xlabel('data size')\n",
    "plt.ylabel('calculation time per sample')\n",
    "plt.plot(x, time_dic['4ti2'][0], label='exhaustive enumeration')\n",
    "plt.plot(x, time_dic['random'][0], label='random')\n",
    "plt.plot(x, time_dic['SA'][0], label='SA')\n",
    "plt.plot(x, time_dic['QA'][0], label='QA')\n",
    "plt.xticks(x, x)\n",
    "plt.legend()\n",
    "plt.savefig('mean_calculation_time202530')\n",
    "plt.show()"
   ]
  },
  {
   "cell_type": "code",
   "execution_count": null,
   "metadata": {},
   "outputs": [],
   "source": [
    "x = [20, 25, 30]\n",
    "fig, ax = plt.subplots(1)\n",
    "\n",
    "ax.plot(x, time_dic['4ti2'][0], label='exhaustive enumeration')\n",
    "ax.plot(x, time_dic['random'][0], label='random')\n",
    "ax.plot(x, time_dic['SA'][0], label='SA')\n",
    "ax.plot(x, time_dic['QA'][0], label='QA')\n",
    "\n",
    "ax.fill_between(x, time_dic['4ti2'][0] + time_dic['4ti2'][1], time_dic['4ti2'][0] - time_dic['4ti2'][1], alpha=0.4)\n",
    "ax.fill_between(x, time_dic['random'][0] + time_dic['random'][1], time_dic['random'][0] - time_dic['random'][1], alpha=0.4)\n",
    "ax.fill_between(x, time_dic['SA'][0] + time_dic['SA'][1], time_dic['SA'][0] - time_dic['SA'][1], alpha=0.4)\n",
    "ax.fill_between(x, time_dic['QA'][0] + time_dic['QA'][1], time_dic['QA'][0] - time_dic['QA'][1], alpha=0.4)\n",
    "\n",
    "ax.legend(loc='upper left')\n",
    "ax.set_xlabel('data size')\n",
    "ax.set_ylabel('calculation time per sample')\n",
    "\n",
    "ax.set_xticks(x)\n",
    "#ax.set_yscale('log')\n",
    "plt.savefig('mean_std_calculation_time202530')\n",
    "plt.show()"
   ]
  },
  {
   "cell_type": "code",
   "execution_count": null,
   "metadata": {},
   "outputs": [],
   "source": [
    "x = [20, 25, 30]\n",
    "fig, ax = plt.subplots(1)\n",
    "\n",
    "ax.plot(x, time_dic['QA'][0], label='QA')\n",
    "\n",
    "ax.fill_between(x, time_dic['QA'][0] + time_dic['QA'][1], time_dic['QA'][0] - time_dic['QA'][1], alpha=0.4)\n",
    "\n",
    "ax.legend()\n",
    "ax.set_xlabel('data size')\n",
    "ax.set_ylabel('calculation time per sample')\n",
    "\n",
    "ax.set_xticks(x)\n",
    "ax.set_yscale('log')\n",
    "#plt.savefig('mean_std_calculation_time202530_log')\n",
    "plt.show()"
   ]
  },
  {
   "cell_type": "code",
   "execution_count": null,
   "metadata": {},
   "outputs": [],
   "source": []
  },
  {
   "cell_type": "code",
   "execution_count": null,
   "metadata": {},
   "outputs": [],
   "source": [
    "x = [20, 25, 30]\n",
    "fig, ax = plt.subplots(1)\n",
    "\n",
    "ax.plot(x, time_dic['SA'][0], label='SA')\n",
    "\n",
    "ax.fill_between(x, time_dic['SA'][0] + time_dic['SA'][1], time_dic['SA'][0] - time_dic['SA'][1], alpha=0.4)\n",
    "\n",
    "ax.legend()\n",
    "ax.set_xlabel('data size')\n",
    "ax.set_ylabel('calculation time per sample')\n",
    "\n",
    "ax.set_xticks(x)\n",
    "ax.set_yscale('log')\n",
    "#plt.savefig('mean_std_calculation_time202530_log')\n",
    "plt.show()"
   ]
  },
  {
   "cell_type": "code",
   "execution_count": null,
   "metadata": {},
   "outputs": [],
   "source": [
    "x = [20, 25, 30]\n",
    "fig, ax = plt.subplots(1)\n",
    "\n",
    "ax.plot(x, time_dic['random'][0], label='random')\n",
    "\n",
    "ax.fill_between(x, time_dic['random'][0] + time_dic['random'][1], time_dic['random'][0] - time_dic['random'][1], alpha=0.4)\n",
    "\n",
    "ax.legend()\n",
    "ax.set_xlabel('data size')\n",
    "ax.set_ylabel('calculation time per sample')\n",
    "\n",
    "ax.set_xticks(x)\n",
    "ax.set_yscale('log')\n",
    "#plt.savefig('mean_std_calculation_time202530_log')\n",
    "plt.show()"
   ]
  },
  {
   "cell_type": "code",
   "execution_count": null,
   "metadata": {},
   "outputs": [],
   "source": []
  }
 ],
 "metadata": {
  "kernelspec": {
   "display_name": "Python 3",
   "language": "python",
   "name": "python3"
  },
  "language_info": {
   "codemirror_mode": {
    "name": "ipython",
    "version": 3
   },
   "file_extension": ".py",
   "mimetype": "text/x-python",
   "name": "python",
   "nbconvert_exporter": "python",
   "pygments_lexer": "ipython3",
   "version": "3.7.9"
  }
 },
 "nbformat": 4,
 "nbformat_minor": 4
}
