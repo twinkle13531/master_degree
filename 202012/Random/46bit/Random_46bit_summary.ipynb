{
 "cells": [
  {
   "cell_type": "code",
   "execution_count": 1,
   "metadata": {},
   "outputs": [
    {
     "name": "stdout",
     "output_type": "stream",
     "text": [
      "/Users/shihosato/src/github.com/twinkle13531/master_degree/202012/Random/46bit\n"
     ]
    }
   ],
   "source": [
    "!pwd"
   ]
  },
  {
   "cell_type": "code",
   "execution_count": 2,
   "metadata": {},
   "outputs": [],
   "source": [
    "%load_ext autoreload\n",
    "%autoreload 2"
   ]
  },
  {
   "cell_type": "code",
   "execution_count": 3,
   "metadata": {},
   "outputs": [],
   "source": [
    "import sys, os\n",
    "sys.path.append(os.path.join('..'))"
   ]
  },
  {
   "cell_type": "code",
   "execution_count": 4,
   "metadata": {},
   "outputs": [],
   "source": [
    "import random_exact_test_functions as ret\n",
    "import pandas as pd\n",
    "import numpy as np\n",
    "import timeit\n",
    "import matplotlib.pyplot as plt"
   ]
  },
  {
   "cell_type": "code",
   "execution_count": 5,
   "metadata": {},
   "outputs": [],
   "source": [
    "bit = 46"
   ]
  },
  {
   "cell_type": "code",
   "execution_count": 6,
   "metadata": {},
   "outputs": [],
   "source": [
    "num_reads=10000"
   ]
  },
  {
   "cell_type": "code",
   "execution_count": 7,
   "metadata": {},
   "outputs": [
    {
     "data": {
      "image/png": "[encoded data removed]",
      "text/plain": [
       "<Figure size 432x288 with 1 Axes>"
      ]
     },
     "metadata": {
      "needs_background": "light"
     },
     "output_type": "display_data"
    },
    {
     "data": {
      "text/plain": [
       "<Figure size 432x288 with 0 Axes>"
      ]
     },
     "metadata": {},
     "output_type": "display_data"
    }
   ],
   "source": [
    "df_path = '../../input/ost{}.csv'.format(bit)\n",
    "df = pd.read_csv(df_path, sep=',')\n",
    "t_list = ret.calc_marginals(df)\n",
    "valid_y_list, valid_y_num = ret.find_valid_y(df, num_reads)\n",
    "rm = ret.Random_method(df, valid_y_list, valid_y_num, num_reads, t_list)\n",
    "plot_path = 'Random_{}bit_10000_y_num_t1'.format(bit)\n",
    "t_tic = rm.y_num_t1_hist(plot_path)"
   ]
  },
  {
   "cell_type": "code",
   "execution_count": 8,
   "metadata": {},
   "outputs": [
    {
     "data": {
      "image/png": "[encoded data removed]",
      "text/plain": [
       "<Figure size 432x288 with 1 Axes>"
      ]
     },
     "metadata": {
      "needs_background": "light"
     },
     "output_type": "display_data"
    }
   ],
   "source": [
    "df_path = '../../input/ost{}.csv'.format(bit)\n",
    "df = pd.read_csv(df_path, sep=',')\n",
    "t_list = ret.calc_marginals(df)\n",
    "valid_y_list, valid_y_num = ret.find_valid_y(df, num_reads)\n",
    "rm = ret.Random_method(df, valid_y_list, valid_y_num, num_reads, t_list)\n",
    "output_path = 'Random_{}bit_10000_p_value_transition'.format(bit)\n",
    "p_dic = rm.p_value_transition(output_path) "
   ]
  },
  {
   "cell_type": "code",
   "execution_count": 9,
   "metadata": {},
   "outputs": [
    {
     "data": {
      "image/png": "[encoded data removed]",
      "text/plain": [
       "<Figure size 432x288 with 1 Axes>"
      ]
     },
     "metadata": {
      "needs_background": "light"
     },
     "output_type": "display_data"
    }
   ],
   "source": [
    "df_path = '../../input/ost{}.csv'.format(bit)\n",
    "df = pd.read_csv(df_path, sep=',')\n",
    "t_list = ret.calc_marginals(df)\n",
    "valid_y_list, valid_y_num = ret.find_valid_y(df, num_reads)\n",
    "rm = ret.Random_method(df, valid_y_list, valid_y_num, num_reads, t_list)\n",
    "path = 'Random_{}bit_10000_time_num_y_transition'.format(bit)\n",
    "valid_ys, time_list, valid_y_number = rm.time_num_y_transition(path)"
   ]
  },
  {
   "cell_type": "code",
   "execution_count": 11,
   "metadata": {},
   "outputs": [
    {
     "name": "stdout",
     "output_type": "stream",
     "text": [
      "p value of 46bit data is can't calucurate p value\n"
     ]
    }
   ],
   "source": [
    "df_path = '../../input/ost{}.csv'.format(bit)\n",
    "df = pd.read_csv(df_path, sep=',')\n",
    "t_list = ret.calc_marginals(df)\n",
    "valid_y_list, valid_y_num = ret.find_valid_y(df, num_reads)\n",
    "rm = ret.Random_method(df, valid_y_list, valid_y_num, num_reads, t_list)\n",
    "print('p value of {}bit data is {}'.format(bit, rm.p_value()))"
   ]
  },
  {
   "cell_type": "code",
   "execution_count": 13,
   "metadata": {},
   "outputs": [
    {
     "name": "stdout",
     "output_type": "stream",
     "text": [
      "calucuration time of 46bit data is 0.10431681880000099\n"
     ]
    }
   ],
   "source": [
    "df_path = '../../input/ost{}.csv'.format(bit)\n",
    "df = pd.read_csv(df_path, sep=',')\n",
    "loop = 10\n",
    "result = timeit.timeit('ret.find_valid_y(df, num_reads)', globals=globals(), number=loop)\n",
    "print('calucuration time of {}bit data is {}'.format(bit, result/loop))"
   ]
  },
  {
   "cell_type": "code",
   "execution_count": null,
   "metadata": {},
   "outputs": [],
   "source": []
  }
 ],
 "metadata": {
  "kernelspec": {
   "display_name": "Python 3",
   "language": "python",
   "name": "python3"
  },
  "language_info": {
   "codemirror_mode": {
    "name": "ipython",
    "version": 3
   },
   "file_extension": ".py",
   "mimetype": "text/x-python",
   "name": "python",
   "nbconvert_exporter": "python",
   "pygments_lexer": "ipython3",
   "version": "3.7.9"
  }
 },
 "nbformat": 4,
 "nbformat_minor": 4
}
