{
 "cells": [
  {
   "cell_type": "code",
   "execution_count": 1,
   "metadata": {},
   "outputs": [
    {
     "name": "stdout",
     "output_type": "stream",
     "text": [
      "/Users/shihosato/src/github.com/twinkle13531/master_degree/202012/Random\n"
     ]
    }
   ],
   "source": [
    "!pwd"
   ]
  },
  {
   "cell_type": "code",
   "execution_count": 2,
   "metadata": {},
   "outputs": [],
   "source": [
    "%load_ext autoreload\n",
    "%autoreload 2"
   ]
  },
  {
   "cell_type": "code",
   "execution_count": 3,
   "metadata": {},
   "outputs": [],
   "source": [
    "import random_exact_test_functions as ret\n",
    "import pandas as pd\n",
    "import numpy as np\n",
    "import timeit\n",
    "import matplotlib.pyplot as plt"
   ]
  },
  {
   "cell_type": "code",
   "execution_count": 4,
   "metadata": {},
   "outputs": [],
   "source": [
    "num_reads=10000"
   ]
  },
  {
   "cell_type": "code",
   "execution_count": 9,
   "metadata": {},
   "outputs": [
    {
     "name": "stdout",
     "output_type": "stream",
     "text": [
      "mean number of valid y of 20bit data is 48.2\n",
      "mean number of valid y of 25bit data is 9.6\n",
      "mean number of valid y of 30bit data is 1.6\n",
      "mean number of valid y of 35bit data is 1.6\n",
      "mean number of valid y of 40bit data is 0.2\n"
     ]
    }
   ],
   "source": [
    "for bit in [20, 25, 30, 35, 40]:\n",
    "    valid_y_num_sum = 0\n",
    "    for num in [0, 1, 2, 3, 4]:\n",
    "        df_path = '../input/ost{}_{}.csv'.format(bit, num)\n",
    "        df = pd.read_csv(df_path, sep=',')\n",
    "        t_list = ret.calc_marginals(df)\n",
    "        valid_y_list, valid_y_num = ret.find_valid_y(df, num_reads)\n",
    "        valid_y_num_sum += valid_y_num\n",
    "    print('mean number of valid y of {}bit data is {}'.format(bit, valid_y_num_sum/5))"
   ]
  },
  {
   "cell_type": "code",
   "execution_count": 14,
   "metadata": {},
   "outputs": [
    {
     "name": "stdout",
     "output_type": "stream",
     "text": [
      "mean p value of 20bit data is 0.3713069009733636\n",
      "mean p value of 25bit data is 0.22916666666666666\n",
      "mean p value of 30bit data is 0.2\n",
      "mean p value of 35bit data is 0.0\n",
      "mean p value of 40bit data is 0.3333333333333333\n"
     ]
    }
   ],
   "source": [
    "for bit in [20, 25, 30, 35, 40]:\n",
    "    p_list = []\n",
    "    for num in [0, 1, 2, 3, 4]:\n",
    "        df_path = '../input/ost{}_{}.csv'.format(bit, num)\n",
    "        df = pd.read_csv(df_path, sep=',')\n",
    "        t_list = ret.calc_marginals(df)\n",
    "        valid_y_list, valid_y_num = ret.find_valid_y(df, num_reads)\n",
    "        rm = ret.Random_method(df, valid_y_list, valid_y_num, num_reads, t_list)\n",
    "        if type(rm.p_value())==float:\n",
    "            p_list.append(rm.p_value())\n",
    "    print('mean p value of {}bit data is {}'.format(bit, sum(p_list)/len(p_list)))"
   ]
  },
  {
   "cell_type": "code",
   "execution_count": 5,
   "metadata": {},
   "outputs": [
    {
     "name": "stdout",
     "output_type": "stream",
     "text": [
      "mean calculation time of 20bit data is 0.11997059858000014\n",
      "mean calculation time of 25bit data is 0.10165032400000015\n",
      "mean calculation time of 30bit data is 0.08167518044000006\n",
      "mean calculation time of 35bit data is 0.08657253916000016\n",
      "mean calculation time of 40bit data is 0.08342733683999995\n"
     ]
    }
   ],
   "source": [
    "for bit in [20, 25, 30, 35, 40]:\n",
    "    time_list = []\n",
    "    for num in [0, 1, 2, 3, 4]:\n",
    "        df_path = '../input/ost{}_{}.csv'.format(bit, num)\n",
    "        df = pd.read_csv(df_path, sep=',')\n",
    "        loop = 10\n",
    "        result = timeit.timeit('ret.find_valid_y(df, num_reads)', globals=globals(), number=loop)\n",
    "        time_list.append(result/loop)\n",
    "    print('mean calculation time of {}bit data is {}'.format(bit, sum(time_list)/5))"
   ]
  },
  {
   "cell_type": "code",
   "execution_count": null,
   "metadata": {},
   "outputs": [],
   "source": []
  }
 ],
 "metadata": {
  "kernelspec": {
   "display_name": "Python 3",
   "language": "python",
   "name": "python3"
  },
  "language_info": {
   "codemirror_mode": {
    "name": "ipython",
    "version": 3
   },
   "file_extension": ".py",
   "mimetype": "text/x-python",
   "name": "python",
   "nbconvert_exporter": "python",
   "pygments_lexer": "ipython3",
   "version": "3.7.9"
  }
 },
 "nbformat": 4,
 "nbformat_minor": 4
}
