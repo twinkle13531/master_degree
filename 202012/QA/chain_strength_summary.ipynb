{
 "cells": [
  {
   "cell_type": "code",
   "execution_count": 1,
   "metadata": {},
   "outputs": [
    {
     "name": "stdout",
     "output_type": "stream",
     "text": [
      "/Users/shihosato/src/github.com/twinkle13531/master_degree/202012/QA\n"
     ]
    }
   ],
   "source": [
    "!pwd"
   ]
  },
  {
   "cell_type": "code",
   "execution_count": 2,
   "metadata": {},
   "outputs": [],
   "source": [
    "%load_ext autoreload\n",
    "%autoreload 2"
   ]
  },
  {
   "cell_type": "code",
   "execution_count": 3,
   "metadata": {},
   "outputs": [],
   "source": [
    "import QA_DwaveSampler_AutoEmbedding as qda\n",
    "import pandas as pd\n",
    "import numpy as np\n",
    "import matplotlib.pyplot as plt\n",
    "import statistics\n",
    "import math"
   ]
  },
  {
   "cell_type": "code",
   "execution_count": 4,
   "metadata": {},
   "outputs": [],
   "source": [
    "chain_data = {\n",
    "    20:{\n",
    "        1:[[14, 0.8714285714285714], [6,0.7833333333333333], [3,0.7666666666666667], [1,0.85], [2,0.75]],\n",
    "        5:[[17, 0.4553191489361702],[22,0.27045454545454545], [8,0.1625], [13,0.40384615384615385], [11,0.37727272727272726]],\n",
    "        10:[[686,0.014723032069970846],[407,0.00515970515970516], [183,0.001366120218579235], [210,0.024523809523809524], [260,0.006346153846153847]],\n",
    "        20:[[481,0.0011434511434511435],[205,0.0024390243902439024], [64,0.0], [116,0.001293103448275862], [114,0.0004385964912280702]],\n",
    "    },\n",
    "    25:{\n",
    "        1:[[4, 0.87]],5:[[2, 0.32]],10:[[91, 0.01934065934065934]],20:[[55,0.0014545454545454547]]\n",
    "    },\n",
    "    30:{\n",
    "        10:[[2, 0.21666666666666667], [7,0.1619047619047619]],\n",
    "        20:[[34,0.00196078431372549], [34,0.00196078431372549]],\n",
    "        30:[[27,0.0012345679012345679], [7, 0.0]],\n",
    "        40:[[27,0.0012345679012345679], [9, 0.0]]\n",
    "    },\n",
    "    40:{\n",
    "        1:[[1,0.85]],\n",
    "        5:[[2,0.5874999999999999]],\n",
    "        20:[[4,0.025]],\n",
    "        50:[[1, 0.0]],\n",
    "        100:[[1, 0.0]]\n",
    "    }\n",
    "}"
   ]
  },
  {
   "cell_type": "code",
   "execution_count": 5,
   "metadata": {},
   "outputs": [
    {
     "data": {
      "text/plain": [
       "{20: {1: [[14, 0.8714285714285714],\n",
       "   [6, 0.7833333333333333],\n",
       "   [3, 0.7666666666666667],\n",
       "   [1, 0.85],\n",
       "   [2, 0.75]],\n",
       "  5: [[17, 0.4553191489361702],\n",
       "   [22, 0.27045454545454545],\n",
       "   [8, 0.1625],\n",
       "   [13, 0.40384615384615385],\n",
       "   [11, 0.37727272727272726]],\n",
       "  10: [[686, 0.014723032069970846],\n",
       "   [407, 0.00515970515970516],\n",
       "   [183, 0.001366120218579235],\n",
       "   [210, 0.024523809523809524],\n",
       "   [260, 0.006346153846153847]],\n",
       "  20: [[481, 0.0011434511434511435],\n",
       "   [205, 0.0024390243902439024],\n",
       "   [64, 0.0],\n",
       "   [116, 0.001293103448275862],\n",
       "   [114, 0.0004385964912280702]]},\n",
       " 25: {1: [[4, 0.87]],\n",
       "  5: [[2, 0.32]],\n",
       "  10: [[91, 0.01934065934065934]],\n",
       "  20: [[55, 0.0014545454545454547]]},\n",
       " 30: {10: [[2, 0.21666666666666667], [7, 0.1619047619047619]],\n",
       "  20: [[34, 0.00196078431372549], [34, 0.00196078431372549]],\n",
       "  30: [[27, 0.0012345679012345679], [7, 0.0]],\n",
       "  40: [[27, 0.0012345679012345679], [9, 0.0]]},\n",
       " 40: {1: [[1, 0.85]],\n",
       "  5: [[2, 0.5874999999999999]],\n",
       "  20: [[4, 0.025]],\n",
       "  50: [[1, 0.0]],\n",
       "  100: [[1, 0.0]]}}"
      ]
     },
     "execution_count": 5,
     "metadata": {},
     "output_type": "execute_result"
    }
   ],
   "source": [
    "chain_data"
   ]
  },
  {
   "cell_type": "code",
   "execution_count": 32,
   "metadata": {},
   "outputs": [],
   "source": [
    "chain_data_summ = {}\n",
    "for bit in [20]:\n",
    "    chain_data_summ[bit] = {}\n",
    "    for strength in [1, 5, 10, 20]:\n",
    "        y_num = statistics.mean([i[0] for i  in chain_data[bit][strength]])\n",
    "        broken_ = statistics.mean([i[1] for i  in chain_data[bit][strength]])\n",
    "        chain_data_summ[bit][strength] = [y_num, broken_]"
   ]
  },
  {
   "cell_type": "code",
   "execution_count": 33,
   "metadata": {},
   "outputs": [],
   "source": [
    "for bit in [25]:\n",
    "    chain_data_summ[bit] = {}\n",
    "    for strength in [1, 10, 20]:\n",
    "        y_num = statistics.mean([i[0] for i  in chain_data[bit][strength]])\n",
    "        broken_ = statistics.mean([i[1] for i  in chain_data[bit][strength]])\n",
    "        chain_data_summ[bit][strength] = [y_num, broken_]"
   ]
  },
  {
   "cell_type": "code",
   "execution_count": 34,
   "metadata": {},
   "outputs": [],
   "source": [
    "for bit in [30]:\n",
    "    chain_data_summ[bit] = {}\n",
    "    for strength in [10, 20, 30, 40]:\n",
    "        y_num = statistics.mean([i[0] for i  in chain_data[bit][strength]])\n",
    "        broken_ = statistics.mean([i[1] for i  in chain_data[bit][strength]])\n",
    "        chain_data_summ[bit][strength] = [y_num, broken_]"
   ]
  },
  {
   "cell_type": "code",
   "execution_count": 35,
   "metadata": {},
   "outputs": [],
   "source": [
    "for bit in [40]:\n",
    "    chain_data_summ[bit] = {}\n",
    "    for strength in [1, 5, 20, 50, 100]:\n",
    "        y_num = statistics.mean([i[0] for i  in chain_data[bit][strength]])\n",
    "        broken_ = statistics.mean([i[1] for i  in chain_data[bit][strength]])\n",
    "        chain_data_summ[bit][strength] = [y_num, broken_]"
   ]
  },
  {
   "cell_type": "code",
   "execution_count": 36,
   "metadata": {},
   "outputs": [
    {
     "data": {
      "text/plain": [
       "{20: {1: [5.2, 0.8042857142857143],\n",
       "  5: [14.2, 0.33387851510191935],\n",
       "  10: [349.2, 0.010423764163643722],\n",
       "  20: [196, 0.0010628350946397956]},\n",
       " 25: {1: [4, 0.87],\n",
       "  10: [91, 0.01934065934065934],\n",
       "  20: [55, 0.0014545454545454547]},\n",
       " 30: {10: [4.5, 0.18928571428571428],\n",
       "  20: [34, 0.00196078431372549],\n",
       "  30: [17, 0.0006172839506172839],\n",
       "  40: [18, 0.0006172839506172839]},\n",
       " 40: {1: [1, 0.85],\n",
       "  5: [2, 0.5874999999999999],\n",
       "  20: [4, 0.025],\n",
       "  50: [1, 0.0],\n",
       "  100: [1, 0.0]}}"
      ]
     },
     "execution_count": 36,
     "metadata": {},
     "output_type": "execute_result"
    }
   ],
   "source": [
    "chain_data_summ"
   ]
  },
  {
   "cell_type": "code",
   "execution_count": null,
   "metadata": {},
   "outputs": [],
   "source": [
    "#20は10, 25は10, 30は20, 40は20?"
   ]
  },
  {
   "cell_type": "markdown",
   "metadata": {},
   "source": [
    "when data = 20_0 and chain_strength=1 number of valid y is 14 and chain_break_% = 0.8714285714285714\n",
    "\n",
    "when data = 20_0 and chain_strength=5 number of valid y is 47 and chain_break_% = 0.4553191489361702\n",
    "\n",
    "when data = 20_0 and chain_strength=10 number of valid y is 686 and chain_break_% = 0.014723032069970846\n",
    "\n",
    "when data = 20_0 and chain_strength=20 number of valid y is 481 and chain_break_% = 0.0011434511434511435\n",
    "\n",
    "when data = 20_1 and chain_strength=1 number of valid y is 6 and chain_break_% = 0.7833333333333333\n",
    "\n",
    "when data = 20_1 and chain_strength=5 number of valid y is 22 and chain_break_% = 0.27045454545454545\n",
    "\n",
    "when data = 20_1 and chain_strength=10 number of valid y is 407 and chain_break_% = 0.00515970515970516\n",
    "\n",
    "when data = 20_1 and chain_strength=20 number of valid y is 205 and chain_break_% = 0.0024390243902439024\n",
    "\n",
    "when data = 20_2 and chain_strength=1 number of valid y is 3 and chain_break_% = 0.7666666666666667\n",
    "\n",
    "when data = 20_2 and chain_strength=5 number of valid y is 8 and chain_break_% = 0.1625\n",
    "\n",
    "when data = 20_2 and chain_strength=10 number of valid y is 183 and chain_break_% = 0.001366120218579235\n",
    "\n",
    "when data = 20_2 and chain_strength=20 number of valid y is 64 and chain_break_% = 0.0\n",
    "\n",
    "when data = 20_3 and chain_strength=1 number of valid y is 1 and chain_break_% = 0.85\n",
    "\n",
    "when data = 20_3 and chain_strength=5 number of valid y is 13 and chain_break_% = 0.40384615384615385\n",
    "\n",
    "when data = 20_3 and chain_strength=10 number of valid y is 210 and chain_break_% = 0.024523809523809524\n",
    "\n",
    "when data = 20_3 and chain_strength=20 number of valid y is 116 and chain_break_% = 0.001293103448275862\n",
    "\n",
    "when data = 20_4 and chain_strength=1 number of valid y is 2 and chain_break_% = 0.75\n",
    "\n",
    "when data = 20_4 and chain_strength=5 number of valid y is 11 and chain_break_% = 0.37727272727272726\n",
    "\n",
    "when data = 20_4 and chain_strength=10 number of valid y is 260 and chain_break_% = 0.006346153846153847\n",
    "\n",
    "when data = 20_4 and chain_strength=20 number of valid y is 114 and chain_break_% = 0.0004385964912280702\n",
    "\n",
    "when data = 25_0 and chain_strength=1 number of valid y is 4 and chain_break_% = 0.87\n",
    "\n",
    "when data = 25_0 and chain_strength=5 number of valid y is 2 and chain_break_% = 0.32\n",
    "\n",
    "when data = 25_0 and chain_strength=10 number of valid y is 91 and chain_break_% = 0.01934065934065934\n",
    "\n",
    "when data = 25_0 and chain_strength=20 number of valid y is 55 and chain_break_% = 0.0014545454545454547\n",
    "\n",
    "when data = 40_0 and chain_strength=1 number of valid y is 1 and chain_break_% = 0.85\n",
    "\n",
    "when data = 40_0 and chain_strength=5 number of valid y is 2 and chain_break_% = 0.5874999999999999\n",
    "\n",
    "when data = 40_0 and chain_strength=50 number of valid y is 1 and chain_break_% = 0.0\n",
    "\n",
    "when data = 40_1 and chain_strength=20 number of valid y is 4 and chain_break_% = 0.025\n",
    "\n",
    "when data = 40_1 and chain_strength=100 number of valid y is 1 and chain_break_% = 0.0\n",
    "\n",
    "when data = 30_1 and chain_strength=10 number of valid y is 2 and chain_break_% = 0.21666666666666667\n",
    "\n",
    "when data = 30_1 and chain_strength=20 number of valid y is 34 and chain_break_% = 0.00196078431372549\n",
    "\n",
    "when data = 30_1 and chain_strength=30 number of valid y is 27 and chain_break_% = 0.0012345679012345679\n",
    "\n",
    "when data = 30_1 and chain_strength=40 number of valid y is 27 and chain_break_% = 0.0012345679012345679\n",
    "\n",
    "when data = 30_2 and chain_strength=10 number of valid y is 7 and chain_break_% = 0.1619047619047619\n",
    "\n",
    "when data = 30_2 and chain_strength=20 number of valid y is 34 and chain_break_% = 0.00196078431372549\n",
    "\n",
    "when data = 30_2 and chain_strength=30 number of valid y is 7 and chain_break_% = 0.0\n",
    "\n",
    "when data = 30_2 and chain_strength=40 number of valid y is 9 and chain_break_% = 0.0"
   ]
  },
  {
   "cell_type": "code",
   "execution_count": null,
   "metadata": {},
   "outputs": [],
   "source": []
  }
 ],
 "metadata": {
  "kernelspec": {
   "display_name": "Python 3",
   "language": "python",
   "name": "python3"
  },
  "language_info": {
   "codemirror_mode": {
    "name": "ipython",
    "version": 3
   },
   "file_extension": ".py",
   "mimetype": "text/x-python",
   "name": "python",
   "nbconvert_exporter": "python",
   "pygments_lexer": "ipython3",
   "version": "3.7.9"
  }
 },
 "nbformat": 4,
 "nbformat_minor": 4
}
