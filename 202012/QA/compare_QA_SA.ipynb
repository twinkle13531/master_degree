{
 "cells": [
  {
   "cell_type": "code",
   "execution_count": 25,
   "metadata": {},
   "outputs": [
    {
     "name": "stdout",
     "output_type": "stream",
     "text": [
      "/Users/shihosato/src/github.com/twinkle13531/master_degree/202012/QA\n"
     ]
    }
   ],
   "source": [
    "!pwd"
   ]
  },
  {
   "cell_type": "code",
   "execution_count": 26,
   "metadata": {},
   "outputs": [
    {
     "name": "stdout",
     "output_type": "stream",
     "text": [
      "The autoreload extension is already loaded. To reload it, use:\n",
      "  %reload_ext autoreload\n"
     ]
    }
   ],
   "source": [
    "%load_ext autoreload\n",
    "%autoreload 2"
   ]
  },
  {
   "cell_type": "code",
   "execution_count": 27,
   "metadata": {},
   "outputs": [],
   "source": [
    "import sys, os\n",
    "sys.path.append(os.path.join('..','Random'))\n",
    "sys.path.append(os.path.join('..', 'SA'))\n",
    "sys.path.append(os.path.join('..', '4ti2', 'functions'))"
   ]
  },
  {
   "cell_type": "code",
   "execution_count": 28,
   "metadata": {},
   "outputs": [],
   "source": [
    "import SA_exact_test_functions as net\n",
    "import QA_DwaveSampler_AutoEmbedding as qda\n",
    "import random_exact_test_functions as ret\n",
    "import zsolve_t1 as zt\n",
    "import pandas as pd\n",
    "import numpy as np\n",
    "import timeit\n",
    "import matplotlib.pyplot as plt\n",
    "import statistics\n",
    "import time"
   ]
  },
  {
   "cell_type": "code",
   "execution_count": 29,
   "metadata": {},
   "outputs": [],
   "source": [
    "bit = 25\n",
    "num = 2"
   ]
  },
  {
   "cell_type": "code",
   "execution_count": 30,
   "metadata": {},
   "outputs": [],
   "source": [
    "chain_strength_dic = {20:10, 25:15, 30:20, 35:20, 40:30}"
   ]
  },
  {
   "cell_type": "markdown",
   "metadata": {},
   "source": [
    "## num_summaryを観察"
   ]
  },
  {
   "cell_type": "code",
   "execution_count": 12,
   "metadata": {},
   "outputs": [],
   "source": [
    "time_dic = {}\n",
    "y_dic = {}\n",
    "y_dic['valid_y_num'] = {}\n",
    "per_time_dic = {}"
   ]
  },
  {
   "cell_type": "code",
   "execution_count": 13,
   "metadata": {},
   "outputs": [],
   "source": [
    "time_dic['QA'] = {20: {0: 10100.302781969025, 1: 7083.695348590287, 2: 6783.629804111206, 3: 7001.765937281618, 4: 7069.230774524955},\n",
    "                  25: {0: 7721.309690435541, 1: 7743.950730977868, 2: 7800.795792068823, 3: 7677.552796172866, 4: 7454.260442603152},\n",
    "                  30: {0: 8788.167812805043, 1: 7869.4621739470385, 2: 7924.064222289954, 3: 7972.860044433406, 4: 8421.326937390904},\n",
    "                  35: {0: 13453.390574883151, 1: 9065.021765900708, 2: 9719.771954993652, 3: 9453.069209528536, 4: 8947.405568076443},\n",
    "                  40: {2: 16109.036972949694, 3: 9023.643173886478, 4: 13011.280886601266}}"
   ]
  },
  {
   "cell_type": "code",
   "execution_count": 14,
   "metadata": {},
   "outputs": [],
   "source": [
    "y_dic['valid_y_num']['QA'] = {20: {0: 508, 1: 154, 2: 415, 3: 196, 4: 62},\n",
    "                              25: {0: 100, 1: 270, 2: 32, 3: 8, 4: 120},\n",
    "                              30: {0: 12, 1: 10, 2: 35, 3: 13, 4: 128},\n",
    "                              35: {0: 6, 1: 18, 2: 22, 3: 12, 4: 16},\n",
    "                              40: {2: 12, 3: 6, 4: 5}}"
   ]
  },
  {
   "cell_type": "code",
   "execution_count": 15,
   "metadata": {},
   "outputs": [],
   "source": [
    "per_time_dic['QA'] = {20: {0: 8.898945182351564, 1: 41.91535709225022, 2: 11.655721312905852, 3: 33.02719781736612, 4: 98.18376075729105},\n",
    "                      25: {0: 77.21309690435541, 1: 28.681299003621735, 2: 243.77486850215072, 3: 959.6940995216082, 4: 62.11883702169293}, \n",
    "                      30: {0: 732.3473177337536, 1: 786.9462173947038, 2: 226.40183492257012, 3: 613.2969264948774, 4: 65.79161669836644},\n",
    "                      35: {0: 2242.231762480525, 1: 503.61232032781714, 2: 441.8078161360751, 3: 787.7557674607114, 4: 559.2128480047777},\n",
    "                      40: {2: 1342.4197477458079, 3: 1503.9405289810795, 4: 2602.2561773202533}}"
   ]
  },
  {
   "cell_type": "code",
   "execution_count": null,
   "metadata": {},
   "outputs": [],
   "source": []
  },
  {
   "cell_type": "code",
   "execution_count": 16,
   "metadata": {},
   "outputs": [],
   "source": [
    "time_dic['SA'] = {20: {0: 9.192142009735107, 1: 5.5356810092926025, 2: 5.4850780963897705, 3: 5.849268436431885, 4: 5.062978029251099},\n",
    "                  25: {0: 11.261059045791626, 1: 13.47816276550293, 2: 10.009632110595703, 3: 7.092028856277466, 4: 11.799193143844604},\n",
    "                  30: {0: 15.510584115982056, 1: 14.910096883773804, 2: 15.314063787460327, 3: 15.20064115524292, 4: 15.242308139801025},\n",
    "                  35: {0: 18.32283902168274, 1: 19.380826711654663, 2: 18.023081064224243, 3: 17.786306858062744, 4: 17.07033920288086}, \n",
    "                  40: {0: 21.340198278427124, 1: 20.588493824005127, 2: 21.43675184249878, 3: 20.29060697555542, 4: 21.051637887954712}}"
   ]
  },
  {
   "cell_type": "code",
   "execution_count": 17,
   "metadata": {},
   "outputs": [],
   "source": [
    "y_dic['valid_y_num']['SA'] = {20: {0: 7351, 1: 1361, 2: 1635, 3: 2346, 4: 260},\n",
    "                              25: {0: 6764, 1: 9283, 2: 6919, 3: 1370, 4: 7842},\n",
    "                              30: {0: 9009, 1: 8531, 2: 9820, 3: 8886, 4: 9837},\n",
    "                              35: {0: 9525, 1: 9782, 2: 9830, 3: 9534, 4: 9435},\n",
    "                              40: {0: 9663, 1: 9797, 2: 9687, 3: 9571, 4: 9561}}"
   ]
  },
  {
   "cell_type": "code",
   "execution_count": 18,
   "metadata": {},
   "outputs": [],
   "source": [
    "per_time_dic['SA'] = {20: {0: 0.0012504614351428523, 1: 0.00406736297523336, 2: 0.003354787826538086, 3: 0.0024932943036794055, 4: 0.019472992420196532},\n",
    "                      25: {0: 0.0016648520174144922, 1: 0.0014519188587205569, 2: 0.001446687687613196, 3: 0.005176663398742676, 4: 0.0015046152950579704},\n",
    "                      30: {0: 0.0017216765585505668, 1: 0.0017477548802923226, 2: 0.0015594769640998297, 3: 0.0017106280840921584, 4: 0.0015494874595711116},\n",
    "                      35: {0: 0.0019236576400716787, 1: 0.0019812744542685203, 2: 0.0018334772191479392, 3: 0.0018655660644076718, 4: 0.0018092569372422744},\n",
    "                      40: {0: 0.002208444404266493, 1: 0.0021015100361340337, 2: 0.0022129402129140887, 3: 0.0021200090874052262, 4: 0.0022018238560772632}}"
   ]
  },
  {
   "cell_type": "code",
   "execution_count": null,
   "metadata": {},
   "outputs": [],
   "source": []
  },
  {
   "cell_type": "markdown",
   "metadata": {},
   "source": [
    "## SA"
   ]
  },
  {
   "cell_type": "code",
   "execution_count": 37,
   "metadata": {},
   "outputs": [],
   "source": [
    "num_reads = 10000"
   ]
  },
  {
   "cell_type": "code",
   "execution_count": 38,
   "metadata": {},
   "outputs": [
    {
     "name": "stdout",
     "output_type": "stream",
     "text": [
      "if QA and 25bit_2 data, total_time = 10.234498977661133\n",
      "if SA and 25bit_2 data, per_time = 0.0014757749066562557\n"
     ]
    }
   ],
   "source": [
    "path = '../input/ost{}_{}.csv'.format(bit, num)\n",
    "df = pd.read_csv(path, sep=',')\n",
    "\n",
    "time_0 = time.time()\n",
    "res = net.make_res_data(df, num_reads)\n",
    "valid_y_info_dic = net.find_valid_y(res)\n",
    "time_1 = time.time()\n",
    "calculation_time = time_1 - time_0\n",
    "\n",
    "print('if SA and 25bit_2 data, total_time = {}'.format(calculation_time))\n",
    "print('if SA and 25bit_2 data, per_time = {}'.format(calculation_time / len(valid_y_info_dic)))"
   ]
  },
  {
   "cell_type": "code",
   "execution_count": 47,
   "metadata": {},
   "outputs": [
    {
     "name": "stdout",
     "output_type": "stream",
     "text": [
      "if SA and 25bit_2 data, valid_y_num = 6935.0\n"
     ]
    }
   ],
   "source": [
    "print('if SA and {}bit_{} data, valid_y_num = {}'.format(25, 2, 10.234498977661133 / 0.0014757749066562557))"
   ]
  },
  {
   "cell_type": "code",
   "execution_count": 59,
   "metadata": {},
   "outputs": [
    {
     "name": "stdout",
     "output_type": "stream",
     "text": [
      "if SA and 25bit_3 data, total_time = 7.598351955413818\n",
      "if SA and 25bit_3 data, per_time = 0.005546242303221765\n",
      "if SA and 25bit_3 data, valid_y_num = 1370\n"
     ]
    }
   ],
   "source": [
    "bit, num = 25, 3\n",
    "\n",
    "path = '../input/ost{}_{}.csv'.format(bit, num)\n",
    "df = pd.read_csv(path, sep=',')\n",
    "\n",
    "time_0 = time.time()\n",
    "res = net.make_res_data(df, num_reads)\n",
    "valid_y_info_dic = net.find_valid_y(res)\n",
    "time_1 = time.time()\n",
    "calculation_time = time_1 - time_0\n",
    "\n",
    "print('if SA and {}bit_{} data, total_time = {}'.format(bit, num, calculation_time))\n",
    "print('if SA and {}bit_{} data, per_time = {}'.format(bit, num, calculation_time / len(valid_y_info_dic)))\n",
    "print('if SA and {}bit_{} data, valid_y_num = {}'.format(bit, num, len(valid_y_info_dic)))"
   ]
  },
  {
   "cell_type": "markdown",
   "metadata": {},
   "source": [
    "```python\n",
    "def make_res_data(df, num_reads):\n",
    "    sa_sampler = neal.sampler.SimulatedAnnealingSampler()\n",
    "    initial_states = df['Y'].values.tolist()\n",
    "    bqm = make_Hamiltonian(df)\n",
    "    res = sa_sampler.sample(\n",
    "        bqm, num_reads = num_reads,\n",
    "        initial_states = initial_states,\n",
    "        initial_states_generator = 'tile'\n",
    "    )\n",
    "    return res\n",
    "\n",
    "\n",
    "def find_valid_y(res):\n",
    "    valid_y_info_dic = {}#sample:occurrence\n",
    "    for sample, energy, num_occurrences in list(res.data(['sample', 'energy', 'num_occurrences'])):\n",
    "        if energy==0.:\n",
    "            this_time_y = tuple(sample.values())\n",
    "            if this_time_y in list(valid_y_info_dic.keys()):#\n",
    "                valid_y_info_dic[this_time_y] += num_occurrences#\n",
    "            else:\n",
    "                valid_y_info_dic[this_time_y] = num_occurrences#\n",
    "    return valid_y_info_dic\n",
    "```"
   ]
  },
  {
   "cell_type": "markdown",
   "metadata": {},
   "source": [
    "## QA"
   ]
  },
  {
   "cell_type": "code",
   "execution_count": 33,
   "metadata": {},
   "outputs": [],
   "source": [
    "n, num_reads = 10, 1000\n",
    "chain_strength = chain_strength_dic[bit]"
   ]
  },
  {
   "cell_type": "code",
   "execution_count": 35,
   "metadata": {},
   "outputs": [
    {
     "name": "stdout",
     "output_type": "stream",
     "text": [
      "if QA and 25bit_2 data, per_time = 0.23470982144442465\n"
     ]
    }
   ],
   "source": [
    "path = '../input/ost{}_{}.csv'.format(bit, num)\n",
    "df = pd.read_csv(path, sep=',')\n",
    "bqm = qda.make_Hamiltonian(df)\n",
    "\n",
    "qqda = qda.QA_DSampler_AEmbedding(df, bqm, n, num_reads, chain_strength)\n",
    "valid_y_info_dic, calculation_time = qqda.find_valid_y_time_ntimes()\n",
    "\n",
    "print('if QA and 25bit_2 data, total_time = {}'.format(calculation_time))\n",
    "print('if QA and 25bit_2 data, per_time = {}'.format(calculation_time / len(valid_y_info_dic)))"
   ]
  },
  {
   "cell_type": "code",
   "execution_count": 36,
   "metadata": {},
   "outputs": [
    {
     "data": {
      "text/plain": [
       "12.909040179443355"
      ]
     },
     "execution_count": 36,
     "metadata": {},
     "output_type": "execute_result"
    }
   ],
   "source": [
    "calculation_time"
   ]
  },
  {
   "cell_type": "code",
   "execution_count": 39,
   "metadata": {},
   "outputs": [],
   "source": [
    "n, num_reads = 100, 100\n",
    "chain_strength = chain_strength_dic[bit]"
   ]
  },
  {
   "cell_type": "code",
   "execution_count": 40,
   "metadata": {},
   "outputs": [
    {
     "name": "stdout",
     "output_type": "stream",
     "text": [
      "if QA and 25bit_2 data, total_time = 58.7326995391845\n",
      "if QA and 25bit_2 data, per_time = 1.545597356294329\n"
     ]
    }
   ],
   "source": [
    "path = '../input/ost{}_{}.csv'.format(bit, num)\n",
    "df = pd.read_csv(path, sep=',')\n",
    "bqm = qda.make_Hamiltonian(df)\n",
    "\n",
    "qqda = qda.QA_DSampler_AEmbedding(df, bqm, n, num_reads, chain_strength)\n",
    "valid_y_info_dic, calculation_time = qqda.find_valid_y_time_ntimes()\n",
    "\n",
    "print('if QA and 25bit_2 data, total_time = {}'.format(calculation_time))\n",
    "print('if QA and 25bit_2 data, per_time = {}'.format(calculation_time / len(valid_y_info_dic)))"
   ]
  },
  {
   "cell_type": "code",
   "execution_count": 41,
   "metadata": {},
   "outputs": [
    {
     "name": "stdout",
     "output_type": "stream",
     "text": [
      "if QA and 25bit_2 data, total_time = 5.625588151473999\n",
      "if QA and 25bit_2 data, per_time = 0.43273755011338455\n"
     ]
    }
   ],
   "source": [
    "n, num_reads = 1, 10000\n",
    "chain_strength = chain_strength_dic[bit]\n",
    "\n",
    "path = '../input/ost{}_{}.csv'.format(bit, num)\n",
    "df = pd.read_csv(path, sep=',')\n",
    "bqm = qda.make_Hamiltonian(df)\n",
    "\n",
    "qqda = qda.QA_DSampler_AEmbedding(df, bqm, n, num_reads, chain_strength)\n",
    "valid_y_info_dic, calculation_time = qqda.find_valid_y_time_ntimes()\n",
    "\n",
    "print('if QA and 25bit_2 data, total_time = {}'.format(calculation_time))\n",
    "print('if QA and 25bit_2 data, per_time = {}'.format(calculation_time / len(valid_y_info_dic)))"
   ]
  },
  {
   "cell_type": "code",
   "execution_count": 43,
   "metadata": {},
   "outputs": [
    {
     "name": "stdout",
     "output_type": "stream",
     "text": [
      "if QA and 25bit_2 data, total_time = 5.474407884140015\n",
      "if QA and 25bit_2 data, per_time = 0.08829690135709702\n",
      "if QA and 25bit_3 data, total_time = 5.533382150192261\n",
      "if QA and 25bit_3 data, per_time = 0.5030347409265692\n",
      "if QA and 30bit_2 data, total_time = 5.808111878890991\n",
      "if QA and 30bit_2 data, per_time = 0.11853289548757125\n",
      "if QA and 30bit_3 data, total_time = 5.531362744827271\n",
      "if QA and 30bit_3 data, per_time = 0.27656813724136353\n"
     ]
    }
   ],
   "source": [
    "for bit in [25, 30]:\n",
    "    for num in [2, 3]:\n",
    "        chain_strength = chain_strength_dic[bit]\n",
    "\n",
    "        path = '../input/ost{}_{}.csv'.format(bit, num)\n",
    "        df = pd.read_csv(path, sep=',')\n",
    "        bqm = qda.make_Hamiltonian(df)\n",
    "\n",
    "        qqda = qda.QA_DSampler_AEmbedding(df, bqm, n, num_reads, chain_strength)\n",
    "        valid_y_info_dic, calculation_time = qqda.find_valid_y_time_ntimes()\n",
    "\n",
    "        print('if QA and {}bit_{} data, total_time = {}'.format(bit, num, calculation_time))\n",
    "        print('if QA and {}bit_{} data, per_time = {}'.format(bit, num, calculation_time / len(valid_y_info_dic)))"
   ]
  },
  {
   "cell_type": "code",
   "execution_count": 48,
   "metadata": {},
   "outputs": [
    {
     "name": "stdout",
     "output_type": "stream",
     "text": [
      "if QA and 25bit_2 data, valid_y_num = 62.0\n",
      "if QA and 25bit_3 data, valid_y_num = 11.0\n",
      "if QA and 30bit_2 data, valid_y_num = 49.0\n",
      "if QA and 30bit_3 data, valid_y_num = 20.0\n"
     ]
    }
   ],
   "source": [
    "print('if QA and {}bit_{} data, valid_y_num = {}'.format(25, 2, 5.474407884140015 / 0.08829690135709702))\n",
    "print('if QA and {}bit_{} data, valid_y_num = {}'.format(25, 3, 5.533382150192261 / 0.5030347409265692))\n",
    "print('if QA and {}bit_{} data, valid_y_num = {}'.format(30, 2, 5.808111878890991 / 0.11853289548757125))\n",
    "print('if QA and {}bit_{} data, valid_y_num = {}'.format(30, 3, 5.531362744827271 / 0.27656813724136353))"
   ]
  },
  {
   "cell_type": "code",
   "execution_count": 50,
   "metadata": {},
   "outputs": [],
   "source": [
    "bit, num = 25, 3\n",
    "chain_strength = chain_strength_dic[bit]\n",
    "n_numreads_list = [[1, 10000], [10, 1000], [100, 100], [1000, 10]]"
   ]
  },
  {
   "cell_type": "code",
   "execution_count": 53,
   "metadata": {
    "collapsed": true,
    "jupyter": {
     "outputs_hidden": true
    }
   },
   "outputs": [
    {
     "name": "stdout",
     "output_type": "stream",
     "text": [
      "if QA and 25bit_3 data, total_time = 6.524903031845093\n",
      "if QA and 25bit_3 data, per_time = 0.3838178254026525\n",
      "if QA and 25bit_3 data, valid_y_num = 17\n",
      "if QA and 25bit_3 data, total_time = 46.14255329627991\n",
      "if QA and 25bit_3 data, per_time = 0.4083411796130965\n",
      "if QA and 25bit_3 data, valid_y_num = 113\n",
      "if QA and 25bit_3 data, total_time = 416.3841992874151\n",
      "if QA and 25bit_3 data, per_time = 0.5500451773942074\n",
      "if QA and 25bit_3 data, valid_y_num = 757\n"
     ]
    },
    {
     "ename": "KeyboardInterrupt",
     "evalue": "embedding cancelled by keyboard interrupt",
     "output_type": "error",
     "traceback": [
      "\u001b[0;31m---------------------------------------------------------------------------\u001b[0m",
      "\u001b[0;31mKeyboardInterrupt\u001b[0m                         Traceback (most recent call last)",
      "\u001b[0;32m<ipython-input-53-3c2c6e0fd00a>\u001b[0m in \u001b[0;36m<module>\u001b[0;34m\u001b[0m\n\u001b[1;32m      8\u001b[0m \u001b[0;34m\u001b[0m\u001b[0m\n\u001b[1;32m      9\u001b[0m     \u001b[0mqqda\u001b[0m \u001b[0;34m=\u001b[0m \u001b[0mqda\u001b[0m\u001b[0;34m.\u001b[0m\u001b[0mQA_DSampler_AEmbedding\u001b[0m\u001b[0;34m(\u001b[0m\u001b[0mdf\u001b[0m\u001b[0;34m,\u001b[0m \u001b[0mbqm\u001b[0m\u001b[0;34m,\u001b[0m \u001b[0mn\u001b[0m\u001b[0;34m,\u001b[0m \u001b[0mnum_reads\u001b[0m\u001b[0;34m,\u001b[0m \u001b[0mchain_strength\u001b[0m\u001b[0;34m)\u001b[0m\u001b[0;34m\u001b[0m\u001b[0;34m\u001b[0m\u001b[0m\n\u001b[0;32m---> 10\u001b[0;31m     \u001b[0mvalid_y_info_dic\u001b[0m\u001b[0;34m,\u001b[0m \u001b[0mcalculation_time\u001b[0m \u001b[0;34m=\u001b[0m \u001b[0mqqda\u001b[0m\u001b[0;34m.\u001b[0m\u001b[0mfind_valid_y_time_ntimes\u001b[0m\u001b[0;34m(\u001b[0m\u001b[0;34m)\u001b[0m\u001b[0;34m\u001b[0m\u001b[0;34m\u001b[0m\u001b[0m\n\u001b[0m\u001b[1;32m     11\u001b[0m \u001b[0;34m\u001b[0m\u001b[0m\n\u001b[1;32m     12\u001b[0m     \u001b[0mprint\u001b[0m\u001b[0;34m(\u001b[0m\u001b[0;34m'if QA and 25bit_3 data, total_time = {}'\u001b[0m\u001b[0;34m.\u001b[0m\u001b[0mformat\u001b[0m\u001b[0;34m(\u001b[0m\u001b[0mcalculation_time\u001b[0m\u001b[0;34m)\u001b[0m\u001b[0;34m)\u001b[0m\u001b[0;34m\u001b[0m\u001b[0;34m\u001b[0m\u001b[0m\n",
      "\u001b[0;32m~/src/github.com/twinkle13531/master_degree/202012/QA/QA_DwaveSampler_AutoEmbedding.py\u001b[0m in \u001b[0;36mfind_valid_y_time_ntimes\u001b[0;34m(self)\u001b[0m\n\u001b[1;32m     84\u001b[0m         \u001b[0mcalculation_time\u001b[0m \u001b[0;34m=\u001b[0m \u001b[0;36m0\u001b[0m\u001b[0;34m\u001b[0m\u001b[0;34m\u001b[0m\u001b[0m\n\u001b[1;32m     85\u001b[0m         \u001b[0;32mfor\u001b[0m \u001b[0m_\u001b[0m \u001b[0;32min\u001b[0m \u001b[0mrange\u001b[0m\u001b[0;34m(\u001b[0m\u001b[0mself\u001b[0m\u001b[0;34m.\u001b[0m\u001b[0mn\u001b[0m\u001b[0;34m)\u001b[0m\u001b[0;34m:\u001b[0m\u001b[0;34m\u001b[0m\u001b[0;34m\u001b[0m\u001b[0m\n\u001b[0;32m---> 86\u001b[0;31m             \u001b[0mres\u001b[0m \u001b[0;34m=\u001b[0m \u001b[0mqa_sampler\u001b[0m\u001b[0;34m.\u001b[0m\u001b[0msample\u001b[0m\u001b[0;34m(\u001b[0m\u001b[0mself\u001b[0m\u001b[0;34m.\u001b[0m\u001b[0mbqm\u001b[0m\u001b[0;34m,\u001b[0m \u001b[0mchain_strength\u001b[0m \u001b[0;34m=\u001b[0m \u001b[0mself\u001b[0m\u001b[0;34m.\u001b[0m\u001b[0mchain_strength\u001b[0m\u001b[0;34m,\u001b[0m \u001b[0mchain_break_fraction\u001b[0m\u001b[0;34m=\u001b[0m\u001b[0;32mTrue\u001b[0m\u001b[0;34m,\u001b[0m \u001b[0mnum_reads\u001b[0m\u001b[0;34m=\u001b[0m\u001b[0mself\u001b[0m\u001b[0;34m.\u001b[0m\u001b[0mnum_reads\u001b[0m\u001b[0;34m)\u001b[0m\u001b[0;31m#annealing_time\u001b[0m\u001b[0;34m\u001b[0m\u001b[0;34m\u001b[0m\u001b[0m\n\u001b[0m\u001b[1;32m     87\u001b[0m             \u001b[0mtime_0\u001b[0m \u001b[0;34m=\u001b[0m \u001b[0mtime\u001b[0m\u001b[0;34m.\u001b[0m\u001b[0mtime\u001b[0m\u001b[0;34m(\u001b[0m\u001b[0;34m)\u001b[0m\u001b[0;34m\u001b[0m\u001b[0;34m\u001b[0m\u001b[0m\n\u001b[1;32m     88\u001b[0m             \u001b[0;32mfor\u001b[0m \u001b[0msample\u001b[0m\u001b[0;34m,\u001b[0m \u001b[0menergy\u001b[0m\u001b[0;34m,\u001b[0m \u001b[0mnum_occurrences\u001b[0m\u001b[0;34m,\u001b[0m \u001b[0mchain_break_fraction\u001b[0m \u001b[0;32min\u001b[0m \u001b[0mres\u001b[0m\u001b[0;34m.\u001b[0m\u001b[0mdata\u001b[0m\u001b[0;34m(\u001b[0m\u001b[0;34m[\u001b[0m\u001b[0;34m'sample'\u001b[0m\u001b[0;34m,\u001b[0m \u001b[0;34m'energy'\u001b[0m\u001b[0;34m,\u001b[0m \u001b[0;34m'num_occurrences'\u001b[0m\u001b[0;34m,\u001b[0m \u001b[0;34m'chain_break_fraction'\u001b[0m\u001b[0;34m]\u001b[0m\u001b[0;34m)\u001b[0m\u001b[0;34m:\u001b[0m\u001b[0;34m\u001b[0m\u001b[0;34m\u001b[0m\u001b[0m\n",
      "\u001b[0;32m~/.pyenv/versions/miniconda3-4.7.12/lib/python3.7/site-packages/dwave/system/composites/embedding.py\u001b[0m in \u001b[0;36msample\u001b[0;34m(self, bqm, **parameters)\u001b[0m\n\u001b[1;32m    631\u001b[0m             \u001b[0;32mpass\u001b[0m\u001b[0;34m\u001b[0m\u001b[0;34m\u001b[0m\u001b[0m\n\u001b[1;32m    632\u001b[0m \u001b[0;34m\u001b[0m\u001b[0m\n\u001b[0;32m--> 633\u001b[0;31m         \u001b[0;32mreturn\u001b[0m \u001b[0msuper\u001b[0m\u001b[0;34m(\u001b[0m\u001b[0mAutoEmbeddingComposite\u001b[0m\u001b[0;34m,\u001b[0m \u001b[0mself\u001b[0m\u001b[0;34m)\u001b[0m\u001b[0;34m.\u001b[0m\u001b[0msample\u001b[0m\u001b[0;34m(\u001b[0m\u001b[0mbqm\u001b[0m\u001b[0;34m,\u001b[0m \u001b[0;34m**\u001b[0m\u001b[0mparameters\u001b[0m\u001b[0;34m)\u001b[0m\u001b[0;34m\u001b[0m\u001b[0;34m\u001b[0m\u001b[0m\n\u001b[0m",
      "\u001b[0;32m~/.pyenv/versions/miniconda3-4.7.12/lib/python3.7/site-packages/dwave/system/composites/embedding.py\u001b[0m in \u001b[0;36msample\u001b[0;34m(self, bqm, chain_strength, chain_break_method, chain_break_fraction, embedding_parameters, return_embedding, warnings, **parameters)\u001b[0m\n\u001b[1;32m    236\u001b[0m \u001b[0;34m\u001b[0m\u001b[0m\n\u001b[1;32m    237\u001b[0m         embedding = self.find_embedding(source_edgelist, target_edgelist,\n\u001b[0;32m--> 238\u001b[0;31m                                         **embedding_parameters)\n\u001b[0m\u001b[1;32m    239\u001b[0m \u001b[0;34m\u001b[0m\u001b[0m\n\u001b[1;32m    240\u001b[0m         \u001b[0;32mif\u001b[0m \u001b[0mbqm\u001b[0m \u001b[0;32mand\u001b[0m \u001b[0;32mnot\u001b[0m \u001b[0membedding\u001b[0m\u001b[0;34m:\u001b[0m\u001b[0;34m\u001b[0m\u001b[0;34m\u001b[0m\u001b[0m\n",
      "\u001b[0;32m~/.pyenv/versions/miniconda3-4.7.12/lib/python3.7/site-packages/minorminer/minorminer.py\u001b[0m in \u001b[0;36mfind_embedding\u001b[0;34m(S, T, max_no_improvement, random_seed, timeout, max_beta, tries, inner_rounds, chainlength_patience, max_fill, threads, return_overlap, skip_initialization, verbose, interactive, initial_chains, fixed_chains, restrict_chains, suspend_chains)\u001b[0m\n\u001b[1;32m     56\u001b[0m                             \u001b[0mfixed_chains\u001b[0m\u001b[0;34m=\u001b[0m\u001b[0mfixed_chains\u001b[0m\u001b[0;34m,\u001b[0m\u001b[0;34m\u001b[0m\u001b[0;34m\u001b[0m\u001b[0m\n\u001b[1;32m     57\u001b[0m                             \u001b[0mrestrict_chains\u001b[0m\u001b[0;34m=\u001b[0m\u001b[0mrestrict_chains\u001b[0m\u001b[0;34m,\u001b[0m\u001b[0;34m\u001b[0m\u001b[0;34m\u001b[0m\u001b[0m\n\u001b[0;32m---> 58\u001b[0;31m                             \u001b[0msuspend_chains\u001b[0m\u001b[0;34m=\u001b[0m\u001b[0msuspend_chains\u001b[0m\u001b[0;34m,\u001b[0m\u001b[0;34m\u001b[0m\u001b[0;34m\u001b[0m\u001b[0m\n\u001b[0m\u001b[1;32m     59\u001b[0m                             )\n",
      "\u001b[0;32mminorminer/_minorminer.pyx\u001b[0m in \u001b[0;36mminorminer._minorminer.find_embedding\u001b[0;34m()\u001b[0m\n",
      "\u001b[0;31mKeyboardInterrupt\u001b[0m: embedding cancelled by keyboard interrupt"
     ]
    }
   ],
   "source": [
    "for n_numreads in n_numreads_list:\n",
    "    n = n_numreads[0]\n",
    "    n_numreads = n_numreads[1]\n",
    "    \n",
    "    path = '../input/ost{}_{}.csv'.format(bit, num)\n",
    "    df = pd.read_csv(path, sep=',')\n",
    "    bqm = qda.make_Hamiltonian(df)\n",
    "\n",
    "    qqda = qda.QA_DSampler_AEmbedding(df, bqm, n, num_reads, chain_strength)\n",
    "    valid_y_info_dic, calculation_time = qqda.find_valid_y_time_ntimes()\n",
    "\n",
    "    print('if QA and 25bit_3 data, total_time = {}'.format(calculation_time))\n",
    "    print('if QA and 25bit_3 data, per_time = {}'.format(calculation_time / len(valid_y_info_dic)))\n",
    "    print('if QA and 25bit_3 data, valid_y_num = {}'.format(len(valid_y_info_dic)))"
   ]
  },
  {
   "cell_type": "code",
   "execution_count": 57,
   "metadata": {},
   "outputs": [
    {
     "name": "stdout",
     "output_type": "stream",
     "text": [
      "if QA, 25bit_3 data, n=1, num_reads=10000, total_time = 6.524903031845093\n",
      "if QA, 25bit_3 data, n=1, num_reads=10000, per_time = 0.3838178254026525\n",
      "if QA, 25bit_3 data, n=1, num_reads=10000, valid_y_num  = 17\n",
      "if QA, 25bit_3 data, n=10, num_reads=1000, total_time = 46.14255329627991\n",
      "if QA, 25bit_3 data, n=10, num_reads=1000, per_time = 0.4083411796130965\n",
      "if QA, 25bit_3 data, n=10, num_reads=1000, valid_y_num  = 113\n",
      "if QA, 25bit_3 data, n=100, num_reads=100, total_time = 416.3841992874151\n",
      "if QA, 25bit_3 data, n=100, num_reads=100, per_time = 0.5500451773942074\n",
      "if QA, 25bit_3 data, n=100, num_reads=100, valid_y_num  = 757\n"
     ]
    }
   ],
   "source": [
    "print('if QA, 25bit_3 data, n={}, num_reads={}, total_time = {}'.format(1, 10000, 6.524903031845093))\n",
    "print('if QA, 25bit_3 data, n={}, num_reads={}, per_time = {}'.format(1, 10000, 0.3838178254026525))\n",
    "print('if QA, 25bit_3 data, n={}, num_reads={}, valid_y_num  = {}'.format(1, 10000, 17))\n",
    "print('if QA, 25bit_3 data, n={}, num_reads={}, total_time = {}'.format(10, 1000, 46.14255329627991))\n",
    "print('if QA, 25bit_3 data, n={}, num_reads={}, per_time = {}'.format(10, 1000, 0.4083411796130965))\n",
    "print('if QA, 25bit_3 data, n={}, num_reads={}, valid_y_num  = {}'.format(10, 1000, 113))\n",
    "print('if QA, 25bit_3 data, n={}, num_reads={}, total_time = {}'.format(100, 100, 416.3841992874151))\n",
    "print('if QA, 25bit_3 data, n={}, num_reads={}, per_time = {}'.format(100, 100, 0.5500451773942074))\n",
    "print('if QA, 25bit_3 data, n={}, num_reads={}, valid_y_num  = {}'.format(100, 100, 757))"
   ]
  },
  {
   "cell_type": "code",
   "execution_count": 58,
   "metadata": {},
   "outputs": [
    {
     "name": "stdout",
     "output_type": "stream",
     "text": [
      "if SA, 25bit_2 data, total_time = 10.234498977661133\n",
      "if SA, 25bit_2 data, per_time = 0.0014757749066562557\n",
      "if SA, 25bit_2 data, valid_y_num = 6935.0\n"
     ]
    }
   ],
   "source": [
    "print('if SA, 25bit_2 data, total_time = {}'.format(10.234498977661133))\n",
    "print('if SA, 25bit_2 data, per_time = {}'.format(0.0014757749066562557))\n",
    "print('if SA, 25bit_2 data, valid_y_num = {}'.format(10.234498977661133 / 0.0014757749066562557))"
   ]
  },
  {
   "cell_type": "markdown",
   "metadata": {},
   "source": [
    "### わかったこと\n",
    "- n, num_reads = 1, 10000のときの、total_timeでしか勝負できない"
   ]
  },
  {
   "cell_type": "markdown",
   "metadata": {},
   "source": [
    "```python\n",
    "class QA_DSampler_AEmbedding:\n",
    "    def __init__(self, df, bqm, n, num_reads, chain_strength):\n",
    "        self.df = df\n",
    "        self.bqm = bqm\n",
    "        self.n = n\n",
    "        self.num_reads = num_reads\n",
    "        self.chain_strength = chain_strength\n",
    "        \n",
    "    def find_y_time(self):\n",
    "        valid_y_info_dic = {}#sample:[occurrences, chain_break_fraction]\n",
    "        calculation_time = 0\n",
    "        for _ in range(self.n):\n",
    "            res = qa_sampler.sample(self.bqm, chain_strength = self.chain_strength, chain_break_fraction=True, num_reads=self.num_reads)#annealing_time\n",
    "            time_0 = time.time()\n",
    "            for sample, energy, num_occurrences, chain_break_fraction in res.data(['sample', 'energy', 'num_occurrences', 'chain_break_fraction']):\n",
    "                if energy == 0.0:\n",
    "                    if sample_tuple in list(valid_y_info_dic.keys()):\n",
    "                        valid_y_info_dic[sample_tuple][0] += num_occurrences\n",
    "                    else:\n",
    "                        valid_y_info_dic[sample_tuple] = [num_occurrences, chain_break_fraction]\n",
    "            time_1 = time.time()\n",
    "            calculation_time += time_1 - time_0 + 20*10**(-6)\n",
    "        return  calculation_time\n",
    "```"
   ]
  },
  {
   "cell_type": "code",
   "execution_count": null,
   "metadata": {},
   "outputs": [],
   "source": []
  },
  {
   "cell_type": "code",
   "execution_count": null,
   "metadata": {},
   "outputs": [],
   "source": []
  },
  {
   "cell_type": "code",
   "execution_count": null,
   "metadata": {},
   "outputs": [],
   "source": []
  },
  {
   "cell_type": "code",
   "execution_count": null,
   "metadata": {},
   "outputs": [],
   "source": []
  }
 ],
 "metadata": {
  "kernelspec": {
   "display_name": "Python 3",
   "language": "python",
   "name": "python3"
  },
  "language_info": {
   "codemirror_mode": {
    "name": "ipython",
    "version": 3
   },
   "file_extension": ".py",
   "mimetype": "text/x-python",
   "name": "python",
   "nbconvert_exporter": "python",
   "pygments_lexer": "ipython3",
   "version": "3.7.9"
  }
 },
 "nbformat": 4,
 "nbformat_minor": 4
}
