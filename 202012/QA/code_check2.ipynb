{
 "cells": [
  {
   "cell_type": "markdown",
   "metadata": {},
   "source": [
    "## ヒートマップでやりたいこと\n",
    "- 縦bit, 横chain_strength, 値valid_y_num\n",
    "- 縦bit, 横chain_strength, 値broken_chain_proportion"
   ]
  },
  {
   "cell_type": "code",
   "execution_count": 1,
   "metadata": {},
   "outputs": [],
   "source": [
    "%load_ext autoreload\n",
    "%autoreload 2"
   ]
  },
  {
   "cell_type": "code",
   "execution_count": 2,
   "metadata": {},
   "outputs": [],
   "source": [
    "import QA_DwaveSampler_AutoEmbedding as qda\n",
    "import pandas as pd\n",
    "import numpy as np\n",
    "import time\n",
    "import matplotlib.pyplot as plt\n",
    "import statistics\n",
    "import math\n",
    "%matplotlib inline"
   ]
  },
  {
   "cell_type": "code",
   "execution_count": 3,
   "metadata": {},
   "outputs": [],
   "source": [
    "chain_strength_list = [5, 10, 15, 20, 25, 30, 35]\n",
    "#chain_strength_dic = {20:10, 25:15, 30:20, 35:20, 40:30}"
   ]
  },
  {
   "cell_type": "code",
   "execution_count": 4,
   "metadata": {},
   "outputs": [],
   "source": [
    "bit_list = [20, 25, 30, 35, 40]\n",
    "num_list = [0, 1, 2, 3, 4]\n",
    "n, num_reads = 1, 10000"
   ]
  },
  {
   "cell_type": "code",
   "execution_count": null,
   "metadata": {},
   "outputs": [],
   "source": [
    "path = '../input/ost{}_{}.csv'.format(bit, num)\n",
    "df = pd.read_csv(path, sep=',')\n",
    "bqm = qda.make_Hamiltonian(df)"
   ]
  },
  {
   "cell_type": "code",
   "execution_count": 8,
   "metadata": {},
   "outputs": [
    {
     "name": "stdout",
     "output_type": "stream",
     "text": [
      "20_2 finished\n",
      "20_3 finished\n",
      "30_2 finished\n",
      "30_3 finished\n"
     ]
    }
   ],
   "source": [
    "broken_chain_proportion_list = {}\n",
    "valid_y_num_list = {}\n",
    "for bit in [20 ,30]:\n",
    "    broken_chain_proportion_list[bit] = {}\n",
    "    valid_y_num_list[bit] = {}\n",
    "    for chain_strength in [3, 10, 30]:\n",
    "        broken_chain_proportion_list[bit][chain_strength] = []\n",
    "        valid_y_num_list[bit][chain_strength] = []\n",
    "    for num in [2, 3]:\n",
    "        path = '../input/ost{}_{}.csv'.format(bit, num)\n",
    "        df = pd.read_csv(path, sep=',')\n",
    "        bqm = qda.make_Hamiltonian(df)\n",
    "        \n",
    "        for chain_strength in [3, 10, 30]:\n",
    "            qqda = qda.QA_DSampler_AEmbedding(df, bqm, n, num_reads, chain_strength)\n",
    "            valid_y_info_dic, calculation_time = qqda.find_valid_y_time_ntimes()\n",
    "\n",
    "            if len(valid_y_info_dic) > 0:\n",
    "                broken_list = [valid_y_info[1] for valid_y_info in list(valid_y_info_dic.values())]\n",
    "                broken_chain_proportion_list[bit][chain_strength].append(statistics.mean(broken_list))\n",
    "                valid_y_num_list[bit][chain_strength].append(len(valid_y_info_dic))\n",
    "        \n",
    "        print('{}_{} finished'.format(bit, num))"
   ]
  },
  {
   "cell_type": "code",
   "execution_count": null,
   "metadata": {},
   "outputs": [],
   "source": []
  }
 ],
 "metadata": {
  "kernelspec": {
   "display_name": "Python 3",
   "language": "python",
   "name": "python3"
  },
  "language_info": {
   "codemirror_mode": {
    "name": "ipython",
    "version": 3
   },
   "file_extension": ".py",
   "mimetype": "text/x-python",
   "name": "python",
   "nbconvert_exporter": "python",
   "pygments_lexer": "ipython3",
   "version": "3.7.9"
  }
 },
 "nbformat": 4,
 "nbformat_minor": 4
}
