{
 "cells": [
  {
   "cell_type": "markdown",
   "metadata": {},
   "source": [
    "## ヒートマップで得たデータの詳細を図示する"
   ]
  },
  {
   "cell_type": "code",
   "execution_count": 40,
   "metadata": {},
   "outputs": [
    {
     "name": "stdout",
     "output_type": "stream",
     "text": [
      "/Users/shihosato/src/github.com/twinkle13531/master_degree/202012/QA\n"
     ]
    }
   ],
   "source": [
    "!pwd"
   ]
  },
  {
   "cell_type": "code",
   "execution_count": 41,
   "metadata": {},
   "outputs": [
    {
     "name": "stdout",
     "output_type": "stream",
     "text": [
      "The autoreload extension is already loaded. To reload it, use:\n",
      "  %reload_ext autoreload\n"
     ]
    }
   ],
   "source": [
    "#import aws_QA_DwaveSampler_AutoEmbedding as aqa\n",
    "import pandas as pd\n",
    "import numpy as np\n",
    "import time\n",
    "import matplotlib.pyplot as plt\n",
    "import statistics\n",
    "import math\n",
    "import datetime\n",
    "%matplotlib inline\n",
    "%load_ext autoreload\n",
    "%autoreload 2"
   ]
  },
  {
   "cell_type": "code",
   "execution_count": 42,
   "metadata": {},
   "outputs": [],
   "source": [
    "bit_list = [20, 25, 30, 35, 40]"
   ]
  },
  {
   "cell_type": "code",
   "execution_count": 43,
   "metadata": {
    "jupyter": {
     "source_hidden": true
    }
   },
   "outputs": [],
   "source": [
    "broken_chain_proportion_dic = {20: {5: [0.4, 0.43333333333333335, 0.35, 0.35],\n",
    "  10: [0.006278026905829597,\n",
    "   0.002325581395348837,\n",
    "   0.0030211480362537764,\n",
    "   0.0017326732673267327,\n",
    "   0.004347826086956522,\n",
    "   0.0026373626373626374,\n",
    "   0.0029411764705882353,\n",
    "   0.0036211699164345407,\n",
    "   0.004523809523809524,\n",
    "   0.0029411764705882353],\n",
    "  15: [0.0007473841554559044,\n",
    "   0.0014851485148514852,\n",
    "   0.0012422360248447205,\n",
    "   0.0,\n",
    "   0.0,\n",
    "   0.0026706231454005935,\n",
    "   0.0013392857142857143,\n",
    "   0.0033472803347280337,\n",
    "   0.00024752475247524753,\n",
    "   0.0013513513513513514],\n",
    "  20: [0.00064,\n",
    "   0.0,\n",
    "   0.0012376237623762376,\n",
    "   0.0012711864406779662,\n",
    "   0.0,\n",
    "   0.0027593818984547464,\n",
    "   0.0024390243902439024,\n",
    "   0.0014492753623188406,\n",
    "   0.0,\n",
    "   0.002380952380952381],\n",
    "  25: [0.0005057803468208093,\n",
    "   0.0015151515151515152,\n",
    "   0.0009615384615384616,\n",
    "   0.0,\n",
    "   0.0,\n",
    "   0.0022500000000000003,\n",
    "   0.00078125,\n",
    "   0.002325581395348837,\n",
    "   0.0042452830188679245,\n",
    "   0.0071428571428571435],\n",
    "  30: [0.0004807692307692308,\n",
    "   0.0,\n",
    "   0.0005952380952380953,\n",
    "   0.0,\n",
    "   0.0,\n",
    "   0.0010115606936416186,\n",
    "   0.0014285714285714286,\n",
    "   0.0038759689922480624,\n",
    "   0.0005319148936170213,\n",
    "   0.0],\n",
    "  35: [0.0005115089514066497,\n",
    "   0.0,\n",
    "   0.0004065040650406504,\n",
    "   0.0009433962264150943,\n",
    "   0.0,\n",
    "   0.0009546539379474941,\n",
    "   0.003703703703703704,\n",
    "   0.002808988764044944,\n",
    "   0.0025423728813559325,\n",
    "   0.009090909090909092]},\n",
    " 25: {5: [0.4],\n",
    "  10: [0.01,\n",
    "   0.01641025641025641,\n",
    "   0.056,\n",
    "   0.0,\n",
    "   0.007912087912087912,\n",
    "   0.02727272727272727,\n",
    "   0.02171003717472119,\n",
    "   0.03310344827586207,\n",
    "   0.02666666666666667,\n",
    "   0.013181818181818182],\n",
    "  15: [0.003902439024390244,\n",
    "   0.0020512820512820513,\n",
    "   0.0009523809523809524,\n",
    "   0.0,\n",
    "   0.0004761904761904762,\n",
    "   0.010158730158730159,\n",
    "   0.0060818713450292395,\n",
    "   0.006,\n",
    "   0.0,\n",
    "   0.009000000000000001],\n",
    "  20: [0.0,\n",
    "   0.0007407407407407407,\n",
    "   0.0,\n",
    "   0.0027906976744186047,\n",
    "   0.004285714285714286,\n",
    "   0.004912280701754386,\n",
    "   0.007272727272727273,\n",
    "   0.0044444444444444444,\n",
    "   0.005405405405405406],\n",
    "  25: [0.0,\n",
    "   0.00043956043956043956,\n",
    "   0.0015189873417721519,\n",
    "   0.0,\n",
    "   0.0010526315789473684,\n",
    "   0.005384615384615384,\n",
    "   0.0033333333333333335,\n",
    "   0.0,\n",
    "   0.0,\n",
    "   0.0006451612903225806],\n",
    "  30: [0.0,\n",
    "   0.002564102564102564,\n",
    "   0.0,\n",
    "   0.0,\n",
    "   0.0044444444444444444,\n",
    "   0.0030075187969924814,\n",
    "   0.005,\n",
    "   0.013333333333333334,\n",
    "   0.0022222222222222222],\n",
    "  35: [0.005,\n",
    "   0.0010344827586206897,\n",
    "   0.0022222222222222222,\n",
    "   0.0,\n",
    "   0.0009523809523809524,\n",
    "   0.005,\n",
    "   0.0019230769230769232,\n",
    "   0.01,\n",
    "   0.0008695652173913044]},\n",
    " 30: {5: [0.49444444444444446, 0.45],\n",
    "  10: [0.026666666666666665,\n",
    "   0.029166666666666667,\n",
    "   0.049,\n",
    "   0.06666666666666667,\n",
    "   0.07037037037037037,\n",
    "   0.06666666666666667,\n",
    "   0.13999999999999999,\n",
    "   0.16666666666666666],\n",
    "  15: [0.008888888888888889,\n",
    "   0.0023809523809523807,\n",
    "   0.01929824561403509,\n",
    "   0.008333333333333333,\n",
    "   0.010810810810810811,\n",
    "   0.013793103448275862,\n",
    "   0.008333333333333333,\n",
    "   0.002777777777777778,\n",
    "   0.006060606060606061,\n",
    "   0.01162280701754386],\n",
    "  20: [0.0015873015873015873,\n",
    "   0.008333333333333333,\n",
    "   0.001388888888888889,\n",
    "   0.0077777777777777776,\n",
    "   0.0078125,\n",
    "   0.004166666666666667,\n",
    "   0.0,\n",
    "   0.0044444444444444444,\n",
    "   0.012121212121212121,\n",
    "   0.0053639846743295016],\n",
    "  25: [0.0,\n",
    "   0.003703703703703704,\n",
    "   0.0,\n",
    "   0.0,\n",
    "   0.0039548022598870055,\n",
    "   0.002777777777777778,\n",
    "   0.006666666666666666,\n",
    "   0.0032258064516129032,\n",
    "   0.004166666666666667,\n",
    "   0.0032863849765258214],\n",
    "  30: [0.0,\n",
    "   0.0,\n",
    "   0.0,\n",
    "   0.007407407407407408,\n",
    "   0.0031007751937984496,\n",
    "   0.003703703703703704,\n",
    "   0.0,\n",
    "   0.0024691358024691358,\n",
    "   0.0,\n",
    "   0.00321285140562249],\n",
    "  35: [0.0,\n",
    "   0.0,\n",
    "   0.0044444444444444444,\n",
    "   0.0,\n",
    "   0.0015151515151515152,\n",
    "   0.0,\n",
    "   0.0,\n",
    "   0.0,\n",
    "   0.0023809523809523807,\n",
    "   0.0022222222222222222]},\n",
    " 35: {5: [],\n",
    "  10: [0.32857142857142857, 0.3630952380952381, 0.2857142857142857],\n",
    "  15: [0.12142857142857143,\n",
    "   0.05714285714285714,\n",
    "   0.02857142857142857,\n",
    "   0.11948051948051948,\n",
    "   0.04285714285714286,\n",
    "   0.05714285714285714,\n",
    "   0.09387755102040816],\n",
    "  20: [0.009523809523809523,\n",
    "   0.025210084033613446,\n",
    "   0.014778325123152709,\n",
    "   0.013445378151260503,\n",
    "   0.012499999999999999,\n",
    "   0.0,\n",
    "   0.02706766917293233,\n",
    "   0.019047619047619046,\n",
    "   0.010714285714285714,\n",
    "   0.025274725274725275],\n",
    "  25: [0.007142857142857143,\n",
    "   0.0,\n",
    "   0.02207792207792208,\n",
    "   0.007142857142857143,\n",
    "   0.007792207792207792,\n",
    "   0.02,\n",
    "   0.009523809523809523,\n",
    "   0.005291005291005291,\n",
    "   0.0,\n",
    "   0.013445378151260503],\n",
    "  30: [0.015584415584415584,\n",
    "   0.0,\n",
    "   0.010714285714285714,\n",
    "   0.007142857142857143,\n",
    "   0.004511278195488722,\n",
    "   0.007619047619047619,\n",
    "   0.011904761904761904,\n",
    "   0.008791208791208791,\n",
    "   0.014285714285714285,\n",
    "   0.017142857142857144],\n",
    "  35: [0.004081632653061224,\n",
    "   0.0,\n",
    "   0.009523809523809523,\n",
    "   0.0,\n",
    "   0.0,\n",
    "   0.009523809523809523,\n",
    "   0.004481792717086834,\n",
    "   0.004464285714285714]},\n",
    " 40: {5: [],\n",
    "  10: [0.4083333333333333],\n",
    "  15: [0.10833333333333334, 0.1423076923076923, 0.0, 0.025, 0.125],\n",
    "  20: [0.023076923076923078,\n",
    "   0.03214285714285715,\n",
    "   0.02894736842105263,\n",
    "   0.0125,\n",
    "   0.037500000000000006,\n",
    "   0.025,\n",
    "   0.05,\n",
    "   0.025,\n",
    "   0.01388888888888889,\n",
    "   0.008333333333333333],\n",
    "  25: [0.0125,\n",
    "   0.008333333333333333,\n",
    "   0.01818181818181818,\n",
    "   0.0,\n",
    "   0.05,\n",
    "   0.029166666666666667,\n",
    "   0.015000000000000001,\n",
    "   0.02291666666666667,\n",
    "   0.009090909090909092],\n",
    "  30: [0.0125,\n",
    "   0.0,\n",
    "   0.008333333333333333,\n",
    "   0.00625,\n",
    "   0.006818181818181819,\n",
    "   0.025,\n",
    "   0.0125,\n",
    "   0.0125,\n",
    "   0.0071428571428571435,\n",
    "   0.008333333333333333],\n",
    "  35: [0.025, 0.0, 0.010714285714285714, 0.0, 0.0125, 0.0, 0.0]}}\n",
    "\n",
    "#46: {5: [],10: [],15: [],20: [0.08152173913043478, 0.021739130434782608],25: [0.0],30: [0.02717391304347826],35: []}"
   ]
  },
  {
   "cell_type": "code",
   "execution_count": 44,
   "metadata": {},
   "outputs": [],
   "source": [
    "## 5が出ないのが多いので、削除\n",
    "for bit in bit_list:\n",
    "    del broken_chain_proportion_dic[bit][5]"
   ]
  },
  {
   "cell_type": "code",
   "execution_count": 45,
   "metadata": {
    "collapsed": true,
    "jupyter": {
     "outputs_hidden": true
    }
   },
   "outputs": [
    {
     "data": {
      "text/plain": [
       "{20: {10: [0.006278026905829597,\n",
       "   0.002325581395348837,\n",
       "   0.0030211480362537764,\n",
       "   0.0017326732673267327,\n",
       "   0.004347826086956522,\n",
       "   0.0026373626373626374,\n",
       "   0.0029411764705882353,\n",
       "   0.0036211699164345407,\n",
       "   0.004523809523809524,\n",
       "   0.0029411764705882353],\n",
       "  15: [0.0007473841554559044,\n",
       "   0.0014851485148514852,\n",
       "   0.0012422360248447205,\n",
       "   0.0,\n",
       "   0.0,\n",
       "   0.0026706231454005935,\n",
       "   0.0013392857142857143,\n",
       "   0.0033472803347280337,\n",
       "   0.00024752475247524753,\n",
       "   0.0013513513513513514],\n",
       "  20: [0.00064,\n",
       "   0.0,\n",
       "   0.0012376237623762376,\n",
       "   0.0012711864406779662,\n",
       "   0.0,\n",
       "   0.0027593818984547464,\n",
       "   0.0024390243902439024,\n",
       "   0.0014492753623188406,\n",
       "   0.0,\n",
       "   0.002380952380952381],\n",
       "  25: [0.0005057803468208093,\n",
       "   0.0015151515151515152,\n",
       "   0.0009615384615384616,\n",
       "   0.0,\n",
       "   0.0,\n",
       "   0.0022500000000000003,\n",
       "   0.00078125,\n",
       "   0.002325581395348837,\n",
       "   0.0042452830188679245,\n",
       "   0.0071428571428571435],\n",
       "  30: [0.0004807692307692308,\n",
       "   0.0,\n",
       "   0.0005952380952380953,\n",
       "   0.0,\n",
       "   0.0,\n",
       "   0.0010115606936416186,\n",
       "   0.0014285714285714286,\n",
       "   0.0038759689922480624,\n",
       "   0.0005319148936170213,\n",
       "   0.0],\n",
       "  35: [0.0005115089514066497,\n",
       "   0.0,\n",
       "   0.0004065040650406504,\n",
       "   0.0009433962264150943,\n",
       "   0.0,\n",
       "   0.0009546539379474941,\n",
       "   0.003703703703703704,\n",
       "   0.002808988764044944,\n",
       "   0.0025423728813559325,\n",
       "   0.009090909090909092]},\n",
       " 25: {10: [0.01,\n",
       "   0.01641025641025641,\n",
       "   0.056,\n",
       "   0.0,\n",
       "   0.007912087912087912,\n",
       "   0.02727272727272727,\n",
       "   0.02171003717472119,\n",
       "   0.03310344827586207,\n",
       "   0.02666666666666667,\n",
       "   0.013181818181818182],\n",
       "  15: [0.003902439024390244,\n",
       "   0.0020512820512820513,\n",
       "   0.0009523809523809524,\n",
       "   0.0,\n",
       "   0.0004761904761904762,\n",
       "   0.010158730158730159,\n",
       "   0.0060818713450292395,\n",
       "   0.006,\n",
       "   0.0,\n",
       "   0.009000000000000001],\n",
       "  20: [0.0,\n",
       "   0.0007407407407407407,\n",
       "   0.0,\n",
       "   0.0027906976744186047,\n",
       "   0.004285714285714286,\n",
       "   0.004912280701754386,\n",
       "   0.007272727272727273,\n",
       "   0.0044444444444444444,\n",
       "   0.005405405405405406],\n",
       "  25: [0.0,\n",
       "   0.00043956043956043956,\n",
       "   0.0015189873417721519,\n",
       "   0.0,\n",
       "   0.0010526315789473684,\n",
       "   0.005384615384615384,\n",
       "   0.0033333333333333335,\n",
       "   0.0,\n",
       "   0.0,\n",
       "   0.0006451612903225806],\n",
       "  30: [0.0,\n",
       "   0.002564102564102564,\n",
       "   0.0,\n",
       "   0.0,\n",
       "   0.0044444444444444444,\n",
       "   0.0030075187969924814,\n",
       "   0.005,\n",
       "   0.013333333333333334,\n",
       "   0.0022222222222222222],\n",
       "  35: [0.005,\n",
       "   0.0010344827586206897,\n",
       "   0.0022222222222222222,\n",
       "   0.0,\n",
       "   0.0009523809523809524,\n",
       "   0.005,\n",
       "   0.0019230769230769232,\n",
       "   0.01,\n",
       "   0.0008695652173913044]},\n",
       " 30: {10: [0.026666666666666665,\n",
       "   0.029166666666666667,\n",
       "   0.049,\n",
       "   0.06666666666666667,\n",
       "   0.07037037037037037,\n",
       "   0.06666666666666667,\n",
       "   0.13999999999999999,\n",
       "   0.16666666666666666],\n",
       "  15: [0.008888888888888889,\n",
       "   0.0023809523809523807,\n",
       "   0.01929824561403509,\n",
       "   0.008333333333333333,\n",
       "   0.010810810810810811,\n",
       "   0.013793103448275862,\n",
       "   0.008333333333333333,\n",
       "   0.002777777777777778,\n",
       "   0.006060606060606061,\n",
       "   0.01162280701754386],\n",
       "  20: [0.0015873015873015873,\n",
       "   0.008333333333333333,\n",
       "   0.001388888888888889,\n",
       "   0.0077777777777777776,\n",
       "   0.0078125,\n",
       "   0.004166666666666667,\n",
       "   0.0,\n",
       "   0.0044444444444444444,\n",
       "   0.012121212121212121,\n",
       "   0.0053639846743295016],\n",
       "  25: [0.0,\n",
       "   0.003703703703703704,\n",
       "   0.0,\n",
       "   0.0,\n",
       "   0.0039548022598870055,\n",
       "   0.002777777777777778,\n",
       "   0.006666666666666666,\n",
       "   0.0032258064516129032,\n",
       "   0.004166666666666667,\n",
       "   0.0032863849765258214],\n",
       "  30: [0.0,\n",
       "   0.0,\n",
       "   0.0,\n",
       "   0.007407407407407408,\n",
       "   0.0031007751937984496,\n",
       "   0.003703703703703704,\n",
       "   0.0,\n",
       "   0.0024691358024691358,\n",
       "   0.0,\n",
       "   0.00321285140562249],\n",
       "  35: [0.0,\n",
       "   0.0,\n",
       "   0.0044444444444444444,\n",
       "   0.0,\n",
       "   0.0015151515151515152,\n",
       "   0.0,\n",
       "   0.0,\n",
       "   0.0,\n",
       "   0.0023809523809523807,\n",
       "   0.0022222222222222222]},\n",
       " 35: {10: [0.32857142857142857, 0.3630952380952381, 0.2857142857142857],\n",
       "  15: [0.12142857142857143,\n",
       "   0.05714285714285714,\n",
       "   0.02857142857142857,\n",
       "   0.11948051948051948,\n",
       "   0.04285714285714286,\n",
       "   0.05714285714285714,\n",
       "   0.09387755102040816],\n",
       "  20: [0.009523809523809523,\n",
       "   0.025210084033613446,\n",
       "   0.014778325123152709,\n",
       "   0.013445378151260503,\n",
       "   0.012499999999999999,\n",
       "   0.0,\n",
       "   0.02706766917293233,\n",
       "   0.019047619047619046,\n",
       "   0.010714285714285714,\n",
       "   0.025274725274725275],\n",
       "  25: [0.007142857142857143,\n",
       "   0.0,\n",
       "   0.02207792207792208,\n",
       "   0.007142857142857143,\n",
       "   0.007792207792207792,\n",
       "   0.02,\n",
       "   0.009523809523809523,\n",
       "   0.005291005291005291,\n",
       "   0.0,\n",
       "   0.013445378151260503],\n",
       "  30: [0.015584415584415584,\n",
       "   0.0,\n",
       "   0.010714285714285714,\n",
       "   0.007142857142857143,\n",
       "   0.004511278195488722,\n",
       "   0.007619047619047619,\n",
       "   0.011904761904761904,\n",
       "   0.008791208791208791,\n",
       "   0.014285714285714285,\n",
       "   0.017142857142857144],\n",
       "  35: [0.004081632653061224,\n",
       "   0.0,\n",
       "   0.009523809523809523,\n",
       "   0.0,\n",
       "   0.0,\n",
       "   0.009523809523809523,\n",
       "   0.004481792717086834,\n",
       "   0.004464285714285714]},\n",
       " 40: {10: [0.4083333333333333],\n",
       "  15: [0.10833333333333334, 0.1423076923076923, 0.0, 0.025, 0.125],\n",
       "  20: [0.023076923076923078,\n",
       "   0.03214285714285715,\n",
       "   0.02894736842105263,\n",
       "   0.0125,\n",
       "   0.037500000000000006,\n",
       "   0.025,\n",
       "   0.05,\n",
       "   0.025,\n",
       "   0.01388888888888889,\n",
       "   0.008333333333333333],\n",
       "  25: [0.0125,\n",
       "   0.008333333333333333,\n",
       "   0.01818181818181818,\n",
       "   0.0,\n",
       "   0.05,\n",
       "   0.029166666666666667,\n",
       "   0.015000000000000001,\n",
       "   0.02291666666666667,\n",
       "   0.009090909090909092],\n",
       "  30: [0.0125,\n",
       "   0.0,\n",
       "   0.008333333333333333,\n",
       "   0.00625,\n",
       "   0.006818181818181819,\n",
       "   0.025,\n",
       "   0.0125,\n",
       "   0.0125,\n",
       "   0.0071428571428571435,\n",
       "   0.008333333333333333],\n",
       "  35: [0.025, 0.0, 0.010714285714285714, 0.0, 0.0125, 0.0, 0.0]}}"
      ]
     },
     "execution_count": 45,
     "metadata": {},
     "output_type": "execute_result"
    }
   ],
   "source": [
    "broken_chain_proportion_dic"
   ]
  },
  {
   "cell_type": "code",
   "execution_count": 46,
   "metadata": {
    "jupyter": {
     "source_hidden": true
    }
   },
   "outputs": [],
   "source": [
    "valid_y_num_dic = {20: {5: [3, 3, 1, 1],\n",
    "  10: [223, 172, 331, 202, 46, 455, 102, 359, 210, 51],\n",
    "  15: [669, 101, 161, 126, 21, 674, 112, 239, 202, 37],\n",
    "  20: [625, 65, 202, 118, 27, 453, 82, 138, 109, 21],\n",
    "  25: [692, 33, 104, 145, 17, 400, 64, 129, 106, 14],\n",
    "  30: [312, 27, 168, 103, 6, 346, 35, 129, 94, 11],\n",
    "  35: [391, 45, 123, 106, 15, 419, 27, 89, 59, 11]},\n",
    " 25: {5: [1],\n",
    "  10: [8, 39, 5, 4, 91, 22, 269, 29, 3, 88],\n",
    "  15: [41, 351, 42, 8, 84, 63, 171, 20, 12, 120],\n",
    "  20: [15, 108, 31, 43, 28, 57, 22, 9, 37],\n",
    "  25: [28, 91, 79, 2, 38, 52, 156, 14, 9, 62],\n",
    "  30: [26, 78, 10, 14, 9, 133, 16, 3, 54],\n",
    "  35: [8, 116, 18, 10, 42, 16, 104, 16, 46]},\n",
    " 30: {5: [6, 4],\n",
    "  10: [5, 16, 100, 1, 9, 2, 15, 57],\n",
    "  15: [15, 14, 38, 8, 111, 29, 20, 12, 11, 152],\n",
    "  20: [21, 4, 24, 30, 64, 8, 4, 15, 11, 87],\n",
    "  25: [9, 9, 18, 9, 118, 12, 10, 31, 8, 71],\n",
    "  30: [1, 3, 3, 9, 86, 18, 3, 27, 8, 83],\n",
    "  35: [10, 1, 30, 4, 44, 4, 6, 4, 14, 45]},\n",
    " 35: {5: [],\n",
    "  10: [2, 24, 1],\n",
    "  15: [8, 3, 1, 22, 14, 2, 7],\n",
    "  20: [3, 17, 29, 17, 16, 3, 19, 18, 8, 26],\n",
    "  25: [4, 4, 22, 8, 22, 10, 24, 27, 6, 17],\n",
    "  30: [11, 6, 8, 8, 19, 15, 12, 39, 2, 5],\n",
    "  35: [7, 8, 12, 3, 7, 6, 51, 32]},\n",
    " 40: {5: [],\n",
    "  10: [9],\n",
    "  15: [3, 13, 1, 1, 5],\n",
    "  20: [13, 14, 19, 4, 2, 4, 1, 2, 9, 3],\n",
    "  25: [2, 9, 11, 1, 2, 6, 5, 12, 11],\n",
    "  30: [4, 4, 3, 8, 11, 1, 2, 4, 7, 3],\n",
    "  35: [2, 1, 7, 2, 6, 3, 6]}}\n",
    "\n",
    "#46: {5: [], 10: [], 15: [], 20: [4, 1], 25: [1], 30: [4], 35: []}"
   ]
  },
  {
   "cell_type": "code",
   "execution_count": 47,
   "metadata": {},
   "outputs": [],
   "source": [
    "for bit in bit_list:\n",
    "    del valid_y_num_dic[bit][5]"
   ]
  },
  {
   "cell_type": "code",
   "execution_count": 48,
   "metadata": {
    "collapsed": true,
    "jupyter": {
     "outputs_hidden": true
    }
   },
   "outputs": [
    {
     "data": {
      "text/plain": [
       "{20: {10: [223, 172, 331, 202, 46, 455, 102, 359, 210, 51],\n",
       "  15: [669, 101, 161, 126, 21, 674, 112, 239, 202, 37],\n",
       "  20: [625, 65, 202, 118, 27, 453, 82, 138, 109, 21],\n",
       "  25: [692, 33, 104, 145, 17, 400, 64, 129, 106, 14],\n",
       "  30: [312, 27, 168, 103, 6, 346, 35, 129, 94, 11],\n",
       "  35: [391, 45, 123, 106, 15, 419, 27, 89, 59, 11]},\n",
       " 25: {10: [8, 39, 5, 4, 91, 22, 269, 29, 3, 88],\n",
       "  15: [41, 351, 42, 8, 84, 63, 171, 20, 12, 120],\n",
       "  20: [15, 108, 31, 43, 28, 57, 22, 9, 37],\n",
       "  25: [28, 91, 79, 2, 38, 52, 156, 14, 9, 62],\n",
       "  30: [26, 78, 10, 14, 9, 133, 16, 3, 54],\n",
       "  35: [8, 116, 18, 10, 42, 16, 104, 16, 46]},\n",
       " 30: {10: [5, 16, 100, 1, 9, 2, 15, 57],\n",
       "  15: [15, 14, 38, 8, 111, 29, 20, 12, 11, 152],\n",
       "  20: [21, 4, 24, 30, 64, 8, 4, 15, 11, 87],\n",
       "  25: [9, 9, 18, 9, 118, 12, 10, 31, 8, 71],\n",
       "  30: [1, 3, 3, 9, 86, 18, 3, 27, 8, 83],\n",
       "  35: [10, 1, 30, 4, 44, 4, 6, 4, 14, 45]},\n",
       " 35: {10: [2, 24, 1],\n",
       "  15: [8, 3, 1, 22, 14, 2, 7],\n",
       "  20: [3, 17, 29, 17, 16, 3, 19, 18, 8, 26],\n",
       "  25: [4, 4, 22, 8, 22, 10, 24, 27, 6, 17],\n",
       "  30: [11, 6, 8, 8, 19, 15, 12, 39, 2, 5],\n",
       "  35: [7, 8, 12, 3, 7, 6, 51, 32]},\n",
       " 40: {10: [9],\n",
       "  15: [3, 13, 1, 1, 5],\n",
       "  20: [13, 14, 19, 4, 2, 4, 1, 2, 9, 3],\n",
       "  25: [2, 9, 11, 1, 2, 6, 5, 12, 11],\n",
       "  30: [4, 4, 3, 8, 11, 1, 2, 4, 7, 3],\n",
       "  35: [2, 1, 7, 2, 6, 3, 6]}}"
      ]
     },
     "execution_count": 48,
     "metadata": {},
     "output_type": "execute_result"
    }
   ],
   "source": [
    "valid_y_num_dic"
   ]
  },
  {
   "cell_type": "code",
   "execution_count": 49,
   "metadata": {},
   "outputs": [],
   "source": [
    "chain_strength_list = [10, 15, 20, 25, 30, 35]"
   ]
  },
  {
   "cell_type": "code",
   "execution_count": 39,
   "metadata": {},
   "outputs": [
    {
     "data": {
      "text/plain": [
       "(10.614455552060438, 10.614455552060438, 13.0, 9)"
      ]
     },
     "execution_count": 39,
     "metadata": {},
     "output_type": "execute_result"
    }
   ],
   "source": [
    "#(((2-9)**2 + (24-9)**2 + (1-9)**2)/3)**0.5, statistics.pstdev([2, 24, 1]), statistics.stdev([2, 24, 1]), statistics.mean([2, 24, 1])"
   ]
  },
  {
   "cell_type": "code",
   "execution_count": 50,
   "metadata": {},
   "outputs": [],
   "source": [
    "mean_broken_chain_proportion_dic = {}\n",
    "std_broken_chain_proportion_dic = {}\n",
    "for bit in bit_list:\n",
    "    mean_broken_chain_proportion_dic[bit] = {}\n",
    "    std_broken_chain_proportion_dic[bit] = {}\n",
    "    for chain_strength in chain_strength_list:\n",
    "        mean_broken_chain_proportion_dic[bit][chain_strength] = statistics.mean(broken_chain_proportion_dic[bit][chain_strength])\n",
    "        if len(broken_chain_proportion_dic[bit][chain_strength])==1:\n",
    "            std_broken_chain_proportion_dic[bit][chain_strength]=0\n",
    "        else:\n",
    "            std_broken_chain_proportion_dic[bit][chain_strength] = statistics.pstdev(broken_chain_proportion_dic[bit][chain_strength])"
   ]
  },
  {
   "cell_type": "code",
   "execution_count": 51,
   "metadata": {},
   "outputs": [
    {
     "data": {
      "text/plain": [
       "{20: {10: 0.003436995071049864,\n",
       "  15: 0.001243083399339305,\n",
       "  20: 0.0012177444235024074,\n",
       "  25: 0.001972744188058469,\n",
       "  30: 0.0007924023334085457,\n",
       "  35: 0.002096203762082356},\n",
       " 25: {10: 0.021225704189413972,\n",
       "  15: 0.0038622894008003123,\n",
       "  20: 0.0033168900583561266,\n",
       "  25: 0.0012374289368551259,\n",
       "  30: 0.00339684681789945,\n",
       "  35: 0.00300019200818801},\n",
       " 30: {10: 0.07690046296296296,\n",
       "  15: 0.00922998586655574,\n",
       "  20: 0.005299610949395432,\n",
       "  25: 0.0027781808502840544,\n",
       "  30: 0.0019893873513001188,\n",
       "  35: 0.0010562770562770564},\n",
       " 35: {10: 0.3257936507936508,\n",
       "  15: 0.07435727537768354,\n",
       "  20: 0.015756189604139853,\n",
       "  25: 0.009241603712191947,\n",
       "  30: 0.00976964263806369,\n",
       "  35: 0.004009416266506602},\n",
       " 40: {10: 0.4083333333333333,\n",
       "  15: 0.08012820512820512,\n",
       "  20: 0.02563893708630551,\n",
       "  25: 0.018354377104377106,\n",
       "  30: 0.009937770562770563,\n",
       "  35: 0.0068877551020408165}}"
      ]
     },
     "execution_count": 51,
     "metadata": {},
     "output_type": "execute_result"
    }
   ],
   "source": [
    "mean_broken_chain_proportion_dic"
   ]
  },
  {
   "cell_type": "code",
   "execution_count": 52,
   "metadata": {},
   "outputs": [
    {
     "data": {
      "text/plain": [
       "{20: {10: 0.0012474023880781713,\n",
       "  15: 0.0010427106491097005,\n",
       "  20: 0.0010030241516713993,\n",
       "  25: 0.0021138324019036015,\n",
       "  30: 0.001125902895890024,\n",
       "  35: 0.0026268550091358544},\n",
       " 25: {10: 0.015028072277163657,\n",
       "  15: 0.0035858993095331812,\n",
       "  20: 0.002442283950495187,\n",
       "  25: 0.0016975774642030992,\n",
       "  30: 0.003933358931237426,\n",
       "  35: 0.0029881145189770077},\n",
       " 30: {10: 0.04726522455376285,\n",
       "  15: 0.004803394975570119,\n",
       "  20: 0.0035689426555336177,\n",
       "  25: 0.0020712979526436854,\n",
       "  30: 0.0023461529757697976,\n",
       "  35: 0.0014662456882373726},\n",
       " 35: {10: 0.03165164540096709,\n",
       "  15: 0.03446349981884959,\n",
       "  20: 0.008050971527749449,\n",
       "  25: 0.007039868241777811,\n",
       "  30: 0.004996004124850584,\n",
       "  35: 0.003699300327744959},\n",
       " 40: {10: 0,\n",
       "  15: 0.05680659137056781,\n",
       "  20: 0.011853069274941107,\n",
       "  25: 0.013775329036153831,\n",
       "  30: 0.006177512143049561,\n",
       "  35: 0.008975822492734277}}"
      ]
     },
     "execution_count": 52,
     "metadata": {},
     "output_type": "execute_result"
    }
   ],
   "source": [
    "std_broken_chain_proportion_dic"
   ]
  },
  {
   "cell_type": "code",
   "execution_count": 53,
   "metadata": {},
   "outputs": [],
   "source": [
    "mean_valid_y_num_dic = {}\n",
    "std_valid_y_num_dic = {}\n",
    "for bit in bit_list:\n",
    "    mean_valid_y_num_dic[bit] = {}\n",
    "    std_valid_y_num_dic[bit] = {}\n",
    "    for chain_strength in chain_strength_list:\n",
    "        mean_valid_y_num_dic[bit][chain_strength] = statistics.mean(valid_y_num_dic[bit][chain_strength])\n",
    "        if len(valid_y_num_dic[bit][chain_strength])==1:\n",
    "            std_valid_y_num_dic[bit][chain_strength] = 0\n",
    "        else:\n",
    "            std_valid_y_num_dic[bit][chain_strength] = statistics.pstdev(valid_y_num_dic[bit][chain_strength])"
   ]
  },
  {
   "cell_type": "code",
   "execution_count": 54,
   "metadata": {
    "collapsed": true,
    "jupyter": {
     "outputs_hidden": true
    }
   },
   "outputs": [
    {
     "data": {
      "text/plain": [
       "{20: {10: 215.1, 15: 234.2, 20: 184, 25: 170.4, 30: 123.1, 35: 128.5},\n",
       " 25: {10: 55.8,\n",
       "  15: 91.2,\n",
       "  20: 38.888888888888886,\n",
       "  25: 53.1,\n",
       "  30: 38.111111111111114,\n",
       "  35: 41.77777777777778},\n",
       " 30: {10: 25.625, 15: 41, 20: 26.8, 25: 29.5, 30: 24.1, 35: 16.2},\n",
       " 35: {10: 9, 15: 8.142857142857142, 20: 15.6, 25: 14.4, 30: 12.5, 35: 15.75},\n",
       " 40: {10: 9,\n",
       "  15: 4.6,\n",
       "  20: 7.1,\n",
       "  25: 6.555555555555555,\n",
       "  30: 4.7,\n",
       "  35: 3.857142857142857}}"
      ]
     },
     "execution_count": 54,
     "metadata": {},
     "output_type": "execute_result"
    }
   ],
   "source": [
    "mean_valid_y_num_dic"
   ]
  },
  {
   "cell_type": "code",
   "execution_count": 55,
   "metadata": {
    "collapsed": true,
    "jupyter": {
     "outputs_hidden": true
    }
   },
   "outputs": [
    {
     "data": {
      "text/plain": [
       "{20: {10: 127.3282765138993,\n",
       "  15: 227.5121095678206,\n",
       "  20: 188.426643551277,\n",
       "  25: 203.44296498036005,\n",
       "  30: 114.86727123075572,\n",
       "  35: 142.8938417147499},\n",
       " 25: {10: 77.59484518961295,\n",
       "  15: 99.3708206668336,\n",
       "  20: 27.997795327666008,\n",
       "  25: 44.4059680673668,\n",
       "  30: 40.73612768496083,\n",
       "  35: 38.64878258188385},\n",
       " 30: {10: 32.7640714045126,\n",
       "  15: 46.95742752749558,\n",
       "  20: 26.156452358834905,\n",
       "  25: 34.78289809662214,\n",
       "  30: 31.14947832628983,\n",
       "  35: 16.178998732925347},\n",
       " 35: {10: 10.614455552060438,\n",
       "  15: 6.998542122237652,\n",
       "  20: 8.272847151978574,\n",
       "  25: 8.487638069569178,\n",
       "  30: 10.012492197250394,\n",
       "  35: 15.777753325489659},\n",
       " 40: {10: 0,\n",
       "  15: 4.454211490264018,\n",
       "  20: 5.940538696111658,\n",
       "  25: 4.085505846855608,\n",
       "  30: 2.9,\n",
       "  35: 2.2314999074019015}}"
      ]
     },
     "execution_count": 55,
     "metadata": {},
     "output_type": "execute_result"
    }
   ],
   "source": [
    "std_valid_y_num_dic"
   ]
  },
  {
   "cell_type": "code",
   "execution_count": 64,
   "metadata": {},
   "outputs": [
    {
     "data": {
      "text/plain": [
       "array([False, False, False])"
      ]
     },
     "execution_count": 64,
     "metadata": {},
     "output_type": "execute_result"
    }
   ],
   "source": [
    "dd= {0:3, 9:8, 7:9}\n",
    "np.array(dd.values()) == np.array(list(dd.values()))"
   ]
  },
  {
   "cell_type": "code",
   "execution_count": 61,
   "metadata": {},
   "outputs": [],
   "source": [
    "color_list = ['b', 'r', 'g', 'm', 'k', '#ff7f00']"
   ]
  },
  {
   "cell_type": "code",
   "execution_count": 73,
   "metadata": {},
   "outputs": [
    {
     "data": {
      "image/png": "[encoded data removed]",
      "text/plain": [
       "<Figure size 432x288 with 1 Axes>"
      ]
     },
     "metadata": {
      "needs_background": "light"
     },
     "output_type": "display_data"
    }
   ],
   "source": [
    "############################################## broken_chain_proportion ###################################################\n",
    "fig, ax = plt.subplots(1)\n",
    "for bit, color in zip(bit_list, color_list):\n",
    "    label = '{}bit'.format(bit)\n",
    "    m_chains = np.array(list(mean_broken_chain_proportion_dic[bit].values()))\n",
    "    s_chains = np.array(list(std_broken_chain_proportion_dic[bit].values()))\n",
    "    ax.plot(chain_strength_list, m_chains, label=label, color=color)\n",
    "    ax.fill_between(chain_strength_list, m_chains+s_chains, m_chains-s_chains, alpha=0.4, color=color) \n",
    "\n",
    "ax.legend(loc='upper right')\n",
    "ax.set_xlabel('chain strength')\n",
    "ax.set_ylabel('broken chain proportion')\n",
    "\n",
    "ax.set_xticks(chain_strength_list)\n",
    "#ax.set_yscale('log')\n",
    "plt.title('broken chain proportion')\n",
    "plt.savefig('slide/broken_chain_proportion_std.png')\n",
    "plt.show()"
   ]
  },
  {
   "cell_type": "code",
   "execution_count": 75,
   "metadata": {},
   "outputs": [
    {
     "data": {
      "image/png": "[encoded data removed]",
      "text/plain": [
       "<Figure size 432x288 with 1 Axes>"
      ]
     },
     "metadata": {
      "needs_background": "light"
     },
     "output_type": "display_data"
    }
   ],
   "source": [
    "############################################## broken_chain_proportion ###################################################\n",
    "fig, ax = plt.subplots(1)\n",
    "for bit, color in zip(bit_list, color_list):\n",
    "    label = '{}bit'.format(bit)\n",
    "    m_chains = np.array(list(mean_broken_chain_proportion_dic[bit].values()))\n",
    "    ax.plot(chain_strength_list, m_chains, label=label, color=color)\n",
    "\n",
    "ax.legend(loc='upper right')\n",
    "ax.set_xlabel('chain strength')\n",
    "ax.set_ylabel('broken chain proportion')\n",
    "\n",
    "ax.set_xticks(chain_strength_list)\n",
    "#ax.set_yscale('log')\n",
    "plt.title('broken chain proportion')\n",
    "plt.savefig('slide/broken_chain_proportion.png')\n",
    "plt.show()"
   ]
  },
  {
   "cell_type": "code",
   "execution_count": 71,
   "metadata": {},
   "outputs": [
    {
     "data": {
      "image/png": "[encoded data removed]",
      "text/plain": [
       "<Figure size 432x288 with 1 Axes>"
      ]
     },
     "metadata": {
      "needs_background": "light"
     },
     "output_type": "display_data"
    }
   ],
   "source": [
    "############################################## valid_y_num ###################################################\n",
    "fig, ax = plt.subplots(1)\n",
    "for bit, color in zip(bit_list, color_list):\n",
    "    label = '{}bit'.format(bit)\n",
    "    m_ynum = np.array(list(mean_valid_y_num_dic[bit].values()))\n",
    "    s_ynum = np.array(list(std_valid_y_num_dic[bit].values()))\n",
    "    ax.plot(chain_strength_list, m_ynum, label=label, color=color)\n",
    "    ax.fill_between(chain_strength_list, m_ynum+s_ynum, m_ynum-s_ynum, alpha=0.4, color=color) \n",
    "\n",
    "ax.legend(loc='upper right')\n",
    "ax.set_xlabel('chain strength')\n",
    "ax.set_ylabel('number of valid sample')\n",
    "\n",
    "ax.set_xticks(chain_strength_list)\n",
    "#ax.set_yscale('log')\n",
    "plt.title('number of valid sample')\n",
    "plt.savefig('slide/number_of_valid_sample_std.png')\n",
    "plt.show()"
   ]
  },
  {
   "cell_type": "code",
   "execution_count": 72,
   "metadata": {},
   "outputs": [
    {
     "data": {
      "image/png": "[encoded data removed]",
      "text/plain": [
       "<Figure size 432x288 with 1 Axes>"
      ]
     },
     "metadata": {
      "needs_background": "light"
     },
     "output_type": "display_data"
    }
   ],
   "source": [
    "############################################## valid_y_num ###################################################\n",
    "fig, ax = plt.subplots(1)\n",
    "for bit, color in zip(bit_list, color_list):\n",
    "    label = '{}bit'.format(bit)\n",
    "    m_ynum = np.array(list(mean_valid_y_num_dic[bit].values()))\n",
    "    ax.plot(chain_strength_list, m_ynum, label=label, color=color)\n",
    "\n",
    "ax.legend(loc='upper right')\n",
    "ax.set_xlabel('chain strength')\n",
    "ax.set_ylabel('number of valid sample')\n",
    "\n",
    "ax.set_xticks(chain_strength_list)\n",
    "#ax.set_yscale('log')\n",
    "plt.title('number of valid sample')\n",
    "plt.savefig('slide/number_of_valid_sample.png')\n",
    "plt.show()"
   ]
  },
  {
   "cell_type": "code",
   "execution_count": null,
   "metadata": {},
   "outputs": [],
   "source": []
  },
  {
   "cell_type": "code",
   "execution_count": null,
   "metadata": {},
   "outputs": [],
   "source": []
  },
  {
   "cell_type": "code",
   "execution_count": 39,
   "metadata": {
    "collapsed": true,
    "jupyter": {
     "outputs_hidden": true
    }
   },
   "outputs": [
    {
     "data": {
      "text/plain": [
       "{20: {5: [0.4, 0.43333333333333335, 0.35, 0.35],\n",
       "  10: [0.006278026905829597,\n",
       "   0.002325581395348837,\n",
       "   0.0030211480362537764,\n",
       "   0.0017326732673267327,\n",
       "   0.004347826086956522,\n",
       "   0.0026373626373626374,\n",
       "   0.0029411764705882353,\n",
       "   0.0036211699164345407,\n",
       "   0.004523809523809524,\n",
       "   0.0029411764705882353],\n",
       "  15: [0.0007473841554559044,\n",
       "   0.0014851485148514852,\n",
       "   0.0012422360248447205,\n",
       "   0.0,\n",
       "   0.0,\n",
       "   0.0026706231454005935,\n",
       "   0.0013392857142857143,\n",
       "   0.0033472803347280337,\n",
       "   0.00024752475247524753,\n",
       "   0.0013513513513513514],\n",
       "  20: [0.00064,\n",
       "   0.0,\n",
       "   0.0012376237623762376,\n",
       "   0.0012711864406779662,\n",
       "   0.0,\n",
       "   0.0027593818984547464,\n",
       "   0.0024390243902439024,\n",
       "   0.0014492753623188406,\n",
       "   0.0,\n",
       "   0.002380952380952381],\n",
       "  25: [0.0005057803468208093,\n",
       "   0.0015151515151515152,\n",
       "   0.0009615384615384616,\n",
       "   0.0,\n",
       "   0.0,\n",
       "   0.0022500000000000003,\n",
       "   0.00078125,\n",
       "   0.002325581395348837,\n",
       "   0.0042452830188679245,\n",
       "   0.0071428571428571435],\n",
       "  30: [0.0004807692307692308,\n",
       "   0.0,\n",
       "   0.0005952380952380953,\n",
       "   0.0,\n",
       "   0.0,\n",
       "   0.0010115606936416186,\n",
       "   0.0014285714285714286,\n",
       "   0.0038759689922480624,\n",
       "   0.0005319148936170213,\n",
       "   0.0],\n",
       "  35: [0.0005115089514066497,\n",
       "   0.0,\n",
       "   0.0004065040650406504,\n",
       "   0.0009433962264150943,\n",
       "   0.0,\n",
       "   0.0009546539379474941,\n",
       "   0.003703703703703704,\n",
       "   0.002808988764044944,\n",
       "   0.0025423728813559325,\n",
       "   0.009090909090909092]},\n",
       " 25: {5: [0.4],\n",
       "  10: [0.01,\n",
       "   0.01641025641025641,\n",
       "   0.056,\n",
       "   0.0,\n",
       "   0.007912087912087912,\n",
       "   0.02727272727272727,\n",
       "   0.02171003717472119,\n",
       "   0.03310344827586207,\n",
       "   0.02666666666666667,\n",
       "   0.013181818181818182],\n",
       "  15: [0.003902439024390244,\n",
       "   0.0020512820512820513,\n",
       "   0.0009523809523809524,\n",
       "   0.0,\n",
       "   0.0004761904761904762,\n",
       "   0.010158730158730159,\n",
       "   0.0060818713450292395,\n",
       "   0.006,\n",
       "   0.0,\n",
       "   0.009000000000000001],\n",
       "  20: [0.0,\n",
       "   0.0007407407407407407,\n",
       "   0.0,\n",
       "   0.0027906976744186047,\n",
       "   0.004285714285714286,\n",
       "   0.004912280701754386,\n",
       "   0.007272727272727273,\n",
       "   0.0044444444444444444,\n",
       "   0.005405405405405406],\n",
       "  25: [0.0,\n",
       "   0.00043956043956043956,\n",
       "   0.0015189873417721519,\n",
       "   0.0,\n",
       "   0.0010526315789473684,\n",
       "   0.005384615384615384,\n",
       "   0.0033333333333333335,\n",
       "   0.0,\n",
       "   0.0,\n",
       "   0.0006451612903225806],\n",
       "  30: [0.0,\n",
       "   0.002564102564102564,\n",
       "   0.0,\n",
       "   0.0,\n",
       "   0.0044444444444444444,\n",
       "   0.0030075187969924814,\n",
       "   0.005,\n",
       "   0.013333333333333334,\n",
       "   0.0022222222222222222],\n",
       "  35: [0.005,\n",
       "   0.0010344827586206897,\n",
       "   0.0022222222222222222,\n",
       "   0.0,\n",
       "   0.0009523809523809524,\n",
       "   0.005,\n",
       "   0.0019230769230769232,\n",
       "   0.01,\n",
       "   0.0008695652173913044]},\n",
       " 30: {5: [0.49444444444444446, 0.45],\n",
       "  10: [0.026666666666666665,\n",
       "   0.029166666666666667,\n",
       "   0.049,\n",
       "   0.06666666666666667,\n",
       "   0.07037037037037037,\n",
       "   0.06666666666666667,\n",
       "   0.13999999999999999,\n",
       "   0.16666666666666666],\n",
       "  15: [0.008888888888888889,\n",
       "   0.0023809523809523807,\n",
       "   0.01929824561403509,\n",
       "   0.008333333333333333,\n",
       "   0.010810810810810811,\n",
       "   0.013793103448275862,\n",
       "   0.008333333333333333,\n",
       "   0.002777777777777778,\n",
       "   0.006060606060606061,\n",
       "   0.01162280701754386],\n",
       "  20: [0.0015873015873015873,\n",
       "   0.008333333333333333,\n",
       "   0.001388888888888889,\n",
       "   0.0077777777777777776,\n",
       "   0.0078125,\n",
       "   0.004166666666666667,\n",
       "   0.0,\n",
       "   0.0044444444444444444,\n",
       "   0.012121212121212121,\n",
       "   0.0053639846743295016],\n",
       "  25: [0.0,\n",
       "   0.003703703703703704,\n",
       "   0.0,\n",
       "   0.0,\n",
       "   0.0039548022598870055,\n",
       "   0.002777777777777778,\n",
       "   0.006666666666666666,\n",
       "   0.0032258064516129032,\n",
       "   0.004166666666666667,\n",
       "   0.0032863849765258214],\n",
       "  30: [0.0,\n",
       "   0.0,\n",
       "   0.0,\n",
       "   0.007407407407407408,\n",
       "   0.0031007751937984496,\n",
       "   0.003703703703703704,\n",
       "   0.0,\n",
       "   0.0024691358024691358,\n",
       "   0.0,\n",
       "   0.00321285140562249],\n",
       "  35: [0.0,\n",
       "   0.0,\n",
       "   0.0044444444444444444,\n",
       "   0.0,\n",
       "   0.0015151515151515152,\n",
       "   0.0,\n",
       "   0.0,\n",
       "   0.0,\n",
       "   0.0023809523809523807,\n",
       "   0.0022222222222222222]},\n",
       " 35: {5: [],\n",
       "  10: [0.32857142857142857, 0.3630952380952381, 0.2857142857142857],\n",
       "  15: [0.12142857142857143,\n",
       "   0.05714285714285714,\n",
       "   0.02857142857142857,\n",
       "   0.11948051948051948,\n",
       "   0.04285714285714286,\n",
       "   0.05714285714285714,\n",
       "   0.09387755102040816],\n",
       "  20: [0.009523809523809523,\n",
       "   0.025210084033613446,\n",
       "   0.014778325123152709,\n",
       "   0.013445378151260503,\n",
       "   0.012499999999999999,\n",
       "   0.0,\n",
       "   0.02706766917293233,\n",
       "   0.019047619047619046,\n",
       "   0.010714285714285714,\n",
       "   0.025274725274725275],\n",
       "  25: [0.007142857142857143,\n",
       "   0.0,\n",
       "   0.02207792207792208,\n",
       "   0.007142857142857143,\n",
       "   0.007792207792207792,\n",
       "   0.02,\n",
       "   0.009523809523809523,\n",
       "   0.005291005291005291,\n",
       "   0.0,\n",
       "   0.013445378151260503],\n",
       "  30: [0.015584415584415584,\n",
       "   0.0,\n",
       "   0.010714285714285714,\n",
       "   0.007142857142857143,\n",
       "   0.004511278195488722,\n",
       "   0.007619047619047619,\n",
       "   0.011904761904761904,\n",
       "   0.008791208791208791,\n",
       "   0.014285714285714285,\n",
       "   0.017142857142857144],\n",
       "  35: [0.004081632653061224,\n",
       "   0.0,\n",
       "   0.009523809523809523,\n",
       "   0.0,\n",
       "   0.0,\n",
       "   0.009523809523809523,\n",
       "   0.004481792717086834,\n",
       "   0.004464285714285714]},\n",
       " 40: {5: [],\n",
       "  10: [0.4083333333333333],\n",
       "  15: [0.10833333333333334, 0.1423076923076923, 0.0, 0.025, 0.125],\n",
       "  20: [0.023076923076923078,\n",
       "   0.03214285714285715,\n",
       "   0.02894736842105263,\n",
       "   0.0125,\n",
       "   0.037500000000000006,\n",
       "   0.025,\n",
       "   0.05,\n",
       "   0.025,\n",
       "   0.01388888888888889,\n",
       "   0.008333333333333333],\n",
       "  25: [0.0125,\n",
       "   0.008333333333333333,\n",
       "   0.01818181818181818,\n",
       "   0.0,\n",
       "   0.05,\n",
       "   0.029166666666666667,\n",
       "   0.015000000000000001,\n",
       "   0.02291666666666667,\n",
       "   0.009090909090909092],\n",
       "  30: [0.0125,\n",
       "   0.0,\n",
       "   0.008333333333333333,\n",
       "   0.00625,\n",
       "   0.006818181818181819,\n",
       "   0.025,\n",
       "   0.0125,\n",
       "   0.0125,\n",
       "   0.0071428571428571435,\n",
       "   0.008333333333333333],\n",
       "  35: [0.025, 0.0, 0.010714285714285714, 0.0, 0.0125, 0.0, 0.0]},\n",
       " 46: {5: [],\n",
       "  10: [],\n",
       "  15: [],\n",
       "  20: [0.08152173913043478, 0.021739130434782608],\n",
       "  25: [0.0],\n",
       "  30: [0.02717391304347826],\n",
       "  35: []}}"
      ]
     },
     "execution_count": 39,
     "metadata": {},
     "output_type": "execute_result"
    }
   ],
   "source": [
    "broken_chain_proportion_dic"
   ]
  },
  {
   "cell_type": "code",
   "execution_count": 40,
   "metadata": {
    "collapsed": true,
    "jupyter": {
     "outputs_hidden": true
    }
   },
   "outputs": [
    {
     "data": {
      "text/plain": [
       "{20: {5: [3, 3, 1, 1],\n",
       "  10: [223, 172, 331, 202, 46, 455, 102, 359, 210, 51],\n",
       "  15: [669, 101, 161, 126, 21, 674, 112, 239, 202, 37],\n",
       "  20: [625, 65, 202, 118, 27, 453, 82, 138, 109, 21],\n",
       "  25: [692, 33, 104, 145, 17, 400, 64, 129, 106, 14],\n",
       "  30: [312, 27, 168, 103, 6, 346, 35, 129, 94, 11],\n",
       "  35: [391, 45, 123, 106, 15, 419, 27, 89, 59, 11]},\n",
       " 25: {5: [1],\n",
       "  10: [8, 39, 5, 4, 91, 22, 269, 29, 3, 88],\n",
       "  15: [41, 351, 42, 8, 84, 63, 171, 20, 12, 120],\n",
       "  20: [15, 108, 31, 43, 28, 57, 22, 9, 37],\n",
       "  25: [28, 91, 79, 2, 38, 52, 156, 14, 9, 62],\n",
       "  30: [26, 78, 10, 14, 9, 133, 16, 3, 54],\n",
       "  35: [8, 116, 18, 10, 42, 16, 104, 16, 46]},\n",
       " 30: {5: [6, 4],\n",
       "  10: [5, 16, 100, 1, 9, 2, 15, 57],\n",
       "  15: [15, 14, 38, 8, 111, 29, 20, 12, 11, 152],\n",
       "  20: [21, 4, 24, 30, 64, 8, 4, 15, 11, 87],\n",
       "  25: [9, 9, 18, 9, 118, 12, 10, 31, 8, 71],\n",
       "  30: [1, 3, 3, 9, 86, 18, 3, 27, 8, 83],\n",
       "  35: [10, 1, 30, 4, 44, 4, 6, 4, 14, 45]},\n",
       " 35: {5: [],\n",
       "  10: [2, 24, 1],\n",
       "  15: [8, 3, 1, 22, 14, 2, 7],\n",
       "  20: [3, 17, 29, 17, 16, 3, 19, 18, 8, 26],\n",
       "  25: [4, 4, 22, 8, 22, 10, 24, 27, 6, 17],\n",
       "  30: [11, 6, 8, 8, 19, 15, 12, 39, 2, 5],\n",
       "  35: [7, 8, 12, 3, 7, 6, 51, 32]},\n",
       " 40: {5: [],\n",
       "  10: [9],\n",
       "  15: [3, 13, 1, 1, 5],\n",
       "  20: [13, 14, 19, 4, 2, 4, 1, 2, 9, 3],\n",
       "  25: [2, 9, 11, 1, 2, 6, 5, 12, 11],\n",
       "  30: [4, 4, 3, 8, 11, 1, 2, 4, 7, 3],\n",
       "  35: [2, 1, 7, 2, 6, 3, 6]},\n",
       " 46: {5: [], 10: [], 15: [], 20: [4, 1], 25: [1], 30: [4], 35: []}}"
      ]
     },
     "execution_count": 40,
     "metadata": {},
     "output_type": "execute_result"
    }
   ],
   "source": [
    "valid_y_num_dic"
   ]
  },
  {
   "cell_type": "code",
   "execution_count": null,
   "metadata": {},
   "outputs": [],
   "source": []
  },
  {
   "cell_type": "code",
   "execution_count": 41,
   "metadata": {},
   "outputs": [],
   "source": [
    "broken_chain_proportion_46 = broken_chain_proportion_dic[46]\n",
    "valid_y_num_46 = valid_y_num_dic[46]"
   ]
  },
  {
   "cell_type": "code",
   "execution_count": 42,
   "metadata": {},
   "outputs": [
    {
     "data": {
      "text/plain": [
       "{5: [],\n",
       " 10: [],\n",
       " 15: [],\n",
       " 20: [0.08152173913043478, 0.021739130434782608],\n",
       " 25: [0.0],\n",
       " 30: [0.02717391304347826],\n",
       " 35: []}"
      ]
     },
     "execution_count": 42,
     "metadata": {},
     "output_type": "execute_result"
    }
   ],
   "source": [
    "broken_chain_proportion_46"
   ]
  },
  {
   "cell_type": "code",
   "execution_count": 43,
   "metadata": {},
   "outputs": [
    {
     "data": {
      "text/plain": [
       "{5: [], 10: [], 15: [], 20: [4, 1], 25: [1], 30: [4], 35: []}"
      ]
     },
     "execution_count": 43,
     "metadata": {},
     "output_type": "execute_result"
    }
   ],
   "source": [
    "valid_y_num_46"
   ]
  },
  {
   "cell_type": "code",
   "execution_count": 46,
   "metadata": {},
   "outputs": [],
   "source": [
    "del broken_chain_proportion_dic[46]"
   ]
  },
  {
   "cell_type": "code",
   "execution_count": 48,
   "metadata": {},
   "outputs": [
    {
     "data": {
      "text/plain": [
       "dict_keys([20, 25, 30, 35, 40])"
      ]
     },
     "execution_count": 48,
     "metadata": {},
     "output_type": "execute_result"
    }
   ],
   "source": [
    "broken_chain_proportion_dic.keys()"
   ]
  },
  {
   "cell_type": "code",
   "execution_count": 49,
   "metadata": {},
   "outputs": [],
   "source": [
    "del valid_y_num_dic[46]"
   ]
  },
  {
   "cell_type": "code",
   "execution_count": 50,
   "metadata": {},
   "outputs": [
    {
     "data": {
      "text/plain": [
       "dict_keys([20, 25, 30, 35, 40])"
      ]
     },
     "execution_count": 50,
     "metadata": {},
     "output_type": "execute_result"
    }
   ],
   "source": [
    "valid_y_num_dic.keys()"
   ]
  },
  {
   "cell_type": "code",
   "execution_count": 53,
   "metadata": {},
   "outputs": [
    {
     "ename": "KeyError",
     "evalue": "5",
     "output_type": "error",
     "traceback": [
      "\u001b[0;31m---------------------------------------------------------------------------\u001b[0m",
      "\u001b[0;31mKeyError\u001b[0m                                  Traceback (most recent call last)",
      "\u001b[0;32m<ipython-input-53-aefa2cb35f6d>\u001b[0m in \u001b[0;36m<module>\u001b[0;34m\u001b[0m\n\u001b[1;32m      1\u001b[0m \u001b[0;31m## 5が出ないのが多いので、削除\u001b[0m\u001b[0;34m\u001b[0m\u001b[0;34m\u001b[0m\u001b[0;34m\u001b[0m\u001b[0m\n\u001b[1;32m      2\u001b[0m \u001b[0;32mfor\u001b[0m \u001b[0mbit\u001b[0m \u001b[0;32min\u001b[0m \u001b[0mbit_list\u001b[0m\u001b[0;34m:\u001b[0m\u001b[0;34m\u001b[0m\u001b[0;34m\u001b[0m\u001b[0m\n\u001b[0;32m----> 3\u001b[0;31m     \u001b[0;32mdel\u001b[0m \u001b[0mbroken_chain_proportion_dic\u001b[0m\u001b[0;34m[\u001b[0m\u001b[0mbit\u001b[0m\u001b[0;34m]\u001b[0m\u001b[0;34m[\u001b[0m\u001b[0;36m5\u001b[0m\u001b[0;34m]\u001b[0m\u001b[0;34m\u001b[0m\u001b[0;34m\u001b[0m\u001b[0m\n\u001b[0m\u001b[1;32m      4\u001b[0m     \u001b[0mprint\u001b[0m\u001b[0;34m(\u001b[0m\u001b[0mbroken_chain_proportion_dic\u001b[0m\u001b[0;34m[\u001b[0m\u001b[0mbit\u001b[0m\u001b[0;34m]\u001b[0m\u001b[0;34m.\u001b[0m\u001b[0mkeys\u001b[0m\u001b[0;34m(\u001b[0m\u001b[0;34m)\u001b[0m\u001b[0;34m==\u001b[0m\u001b[0;36m6\u001b[0m\u001b[0;34m)\u001b[0m\u001b[0;34m\u001b[0m\u001b[0;34m\u001b[0m\u001b[0m\n",
      "\u001b[0;31mKeyError\u001b[0m: 5"
     ]
    }
   ],
   "source": [
    "## 5が出ないのが多いので、削除\n",
    "for bit in bit_list:\n",
    "    del broken_chain_proportion_dic[bit][5]\n",
    "    print(broken_chain_proportion_dic[bit].keys()==[10, 15, 20, 25, 30, 35])#間違えた。得られた辞書自体に問題はない"
   ]
  },
  {
   "cell_type": "code",
   "execution_count": 54,
   "metadata": {
    "collapsed": true,
    "jupyter": {
     "outputs_hidden": true
    }
   },
   "outputs": [
    {
     "data": {
      "text/plain": [
       "{20: {10: [0.006278026905829597,\n",
       "   0.002325581395348837,\n",
       "   0.0030211480362537764,\n",
       "   0.0017326732673267327,\n",
       "   0.004347826086956522,\n",
       "   0.0026373626373626374,\n",
       "   0.0029411764705882353,\n",
       "   0.0036211699164345407,\n",
       "   0.004523809523809524,\n",
       "   0.0029411764705882353],\n",
       "  15: [0.0007473841554559044,\n",
       "   0.0014851485148514852,\n",
       "   0.0012422360248447205,\n",
       "   0.0,\n",
       "   0.0,\n",
       "   0.0026706231454005935,\n",
       "   0.0013392857142857143,\n",
       "   0.0033472803347280337,\n",
       "   0.00024752475247524753,\n",
       "   0.0013513513513513514],\n",
       "  20: [0.00064,\n",
       "   0.0,\n",
       "   0.0012376237623762376,\n",
       "   0.0012711864406779662,\n",
       "   0.0,\n",
       "   0.0027593818984547464,\n",
       "   0.0024390243902439024,\n",
       "   0.0014492753623188406,\n",
       "   0.0,\n",
       "   0.002380952380952381],\n",
       "  25: [0.0005057803468208093,\n",
       "   0.0015151515151515152,\n",
       "   0.0009615384615384616,\n",
       "   0.0,\n",
       "   0.0,\n",
       "   0.0022500000000000003,\n",
       "   0.00078125,\n",
       "   0.002325581395348837,\n",
       "   0.0042452830188679245,\n",
       "   0.0071428571428571435],\n",
       "  30: [0.0004807692307692308,\n",
       "   0.0,\n",
       "   0.0005952380952380953,\n",
       "   0.0,\n",
       "   0.0,\n",
       "   0.0010115606936416186,\n",
       "   0.0014285714285714286,\n",
       "   0.0038759689922480624,\n",
       "   0.0005319148936170213,\n",
       "   0.0],\n",
       "  35: [0.0005115089514066497,\n",
       "   0.0,\n",
       "   0.0004065040650406504,\n",
       "   0.0009433962264150943,\n",
       "   0.0,\n",
       "   0.0009546539379474941,\n",
       "   0.003703703703703704,\n",
       "   0.002808988764044944,\n",
       "   0.0025423728813559325,\n",
       "   0.009090909090909092]},\n",
       " 25: {10: [0.01,\n",
       "   0.01641025641025641,\n",
       "   0.056,\n",
       "   0.0,\n",
       "   0.007912087912087912,\n",
       "   0.02727272727272727,\n",
       "   0.02171003717472119,\n",
       "   0.03310344827586207,\n",
       "   0.02666666666666667,\n",
       "   0.013181818181818182],\n",
       "  15: [0.003902439024390244,\n",
       "   0.0020512820512820513,\n",
       "   0.0009523809523809524,\n",
       "   0.0,\n",
       "   0.0004761904761904762,\n",
       "   0.010158730158730159,\n",
       "   0.0060818713450292395,\n",
       "   0.006,\n",
       "   0.0,\n",
       "   0.009000000000000001],\n",
       "  20: [0.0,\n",
       "   0.0007407407407407407,\n",
       "   0.0,\n",
       "   0.0027906976744186047,\n",
       "   0.004285714285714286,\n",
       "   0.004912280701754386,\n",
       "   0.007272727272727273,\n",
       "   0.0044444444444444444,\n",
       "   0.005405405405405406],\n",
       "  25: [0.0,\n",
       "   0.00043956043956043956,\n",
       "   0.0015189873417721519,\n",
       "   0.0,\n",
       "   0.0010526315789473684,\n",
       "   0.005384615384615384,\n",
       "   0.0033333333333333335,\n",
       "   0.0,\n",
       "   0.0,\n",
       "   0.0006451612903225806],\n",
       "  30: [0.0,\n",
       "   0.002564102564102564,\n",
       "   0.0,\n",
       "   0.0,\n",
       "   0.0044444444444444444,\n",
       "   0.0030075187969924814,\n",
       "   0.005,\n",
       "   0.013333333333333334,\n",
       "   0.0022222222222222222],\n",
       "  35: [0.005,\n",
       "   0.0010344827586206897,\n",
       "   0.0022222222222222222,\n",
       "   0.0,\n",
       "   0.0009523809523809524,\n",
       "   0.005,\n",
       "   0.0019230769230769232,\n",
       "   0.01,\n",
       "   0.0008695652173913044]},\n",
       " 30: {10: [0.026666666666666665,\n",
       "   0.029166666666666667,\n",
       "   0.049,\n",
       "   0.06666666666666667,\n",
       "   0.07037037037037037,\n",
       "   0.06666666666666667,\n",
       "   0.13999999999999999,\n",
       "   0.16666666666666666],\n",
       "  15: [0.008888888888888889,\n",
       "   0.0023809523809523807,\n",
       "   0.01929824561403509,\n",
       "   0.008333333333333333,\n",
       "   0.010810810810810811,\n",
       "   0.013793103448275862,\n",
       "   0.008333333333333333,\n",
       "   0.002777777777777778,\n",
       "   0.006060606060606061,\n",
       "   0.01162280701754386],\n",
       "  20: [0.0015873015873015873,\n",
       "   0.008333333333333333,\n",
       "   0.001388888888888889,\n",
       "   0.0077777777777777776,\n",
       "   0.0078125,\n",
       "   0.004166666666666667,\n",
       "   0.0,\n",
       "   0.0044444444444444444,\n",
       "   0.012121212121212121,\n",
       "   0.0053639846743295016],\n",
       "  25: [0.0,\n",
       "   0.003703703703703704,\n",
       "   0.0,\n",
       "   0.0,\n",
       "   0.0039548022598870055,\n",
       "   0.002777777777777778,\n",
       "   0.006666666666666666,\n",
       "   0.0032258064516129032,\n",
       "   0.004166666666666667,\n",
       "   0.0032863849765258214],\n",
       "  30: [0.0,\n",
       "   0.0,\n",
       "   0.0,\n",
       "   0.007407407407407408,\n",
       "   0.0031007751937984496,\n",
       "   0.003703703703703704,\n",
       "   0.0,\n",
       "   0.0024691358024691358,\n",
       "   0.0,\n",
       "   0.00321285140562249],\n",
       "  35: [0.0,\n",
       "   0.0,\n",
       "   0.0044444444444444444,\n",
       "   0.0,\n",
       "   0.0015151515151515152,\n",
       "   0.0,\n",
       "   0.0,\n",
       "   0.0,\n",
       "   0.0023809523809523807,\n",
       "   0.0022222222222222222]},\n",
       " 35: {10: [0.32857142857142857, 0.3630952380952381, 0.2857142857142857],\n",
       "  15: [0.12142857142857143,\n",
       "   0.05714285714285714,\n",
       "   0.02857142857142857,\n",
       "   0.11948051948051948,\n",
       "   0.04285714285714286,\n",
       "   0.05714285714285714,\n",
       "   0.09387755102040816],\n",
       "  20: [0.009523809523809523,\n",
       "   0.025210084033613446,\n",
       "   0.014778325123152709,\n",
       "   0.013445378151260503,\n",
       "   0.012499999999999999,\n",
       "   0.0,\n",
       "   0.02706766917293233,\n",
       "   0.019047619047619046,\n",
       "   0.010714285714285714,\n",
       "   0.025274725274725275],\n",
       "  25: [0.007142857142857143,\n",
       "   0.0,\n",
       "   0.02207792207792208,\n",
       "   0.007142857142857143,\n",
       "   0.007792207792207792,\n",
       "   0.02,\n",
       "   0.009523809523809523,\n",
       "   0.005291005291005291,\n",
       "   0.0,\n",
       "   0.013445378151260503],\n",
       "  30: [0.015584415584415584,\n",
       "   0.0,\n",
       "   0.010714285714285714,\n",
       "   0.007142857142857143,\n",
       "   0.004511278195488722,\n",
       "   0.007619047619047619,\n",
       "   0.011904761904761904,\n",
       "   0.008791208791208791,\n",
       "   0.014285714285714285,\n",
       "   0.017142857142857144],\n",
       "  35: [0.004081632653061224,\n",
       "   0.0,\n",
       "   0.009523809523809523,\n",
       "   0.0,\n",
       "   0.0,\n",
       "   0.009523809523809523,\n",
       "   0.004481792717086834,\n",
       "   0.004464285714285714]},\n",
       " 40: {10: [0.4083333333333333],\n",
       "  15: [0.10833333333333334, 0.1423076923076923, 0.0, 0.025, 0.125],\n",
       "  20: [0.023076923076923078,\n",
       "   0.03214285714285715,\n",
       "   0.02894736842105263,\n",
       "   0.0125,\n",
       "   0.037500000000000006,\n",
       "   0.025,\n",
       "   0.05,\n",
       "   0.025,\n",
       "   0.01388888888888889,\n",
       "   0.008333333333333333],\n",
       "  25: [0.0125,\n",
       "   0.008333333333333333,\n",
       "   0.01818181818181818,\n",
       "   0.0,\n",
       "   0.05,\n",
       "   0.029166666666666667,\n",
       "   0.015000000000000001,\n",
       "   0.02291666666666667,\n",
       "   0.009090909090909092],\n",
       "  30: [0.0125,\n",
       "   0.0,\n",
       "   0.008333333333333333,\n",
       "   0.00625,\n",
       "   0.006818181818181819,\n",
       "   0.025,\n",
       "   0.0125,\n",
       "   0.0125,\n",
       "   0.0071428571428571435,\n",
       "   0.008333333333333333],\n",
       "  35: [0.025, 0.0, 0.010714285714285714, 0.0, 0.0125, 0.0, 0.0]}}"
      ]
     },
     "execution_count": 54,
     "metadata": {},
     "output_type": "execute_result"
    }
   ],
   "source": [
    "broken_chain_proportion_dic"
   ]
  },
  {
   "cell_type": "code",
   "execution_count": 55,
   "metadata": {},
   "outputs": [
    {
     "name": "stdout",
     "output_type": "stream",
     "text": [
      "False\n",
      "False\n",
      "False\n",
      "False\n",
      "False\n"
     ]
    }
   ],
   "source": [
    "## 5が出ないのが多いので、削除\n",
    "for bit in bit_list:\n",
    "    del valid_y_num_dic[bit][5]\n",
    "    print(valid_y_num_dic[bit].keys()==[10, 15, 20, 25, 30, 35])#間違えた。得られた辞書自体に問題はない"
   ]
  },
  {
   "cell_type": "code",
   "execution_count": 56,
   "metadata": {},
   "outputs": [
    {
     "data": {
      "text/plain": [
       "{20: {10: [223, 172, 331, 202, 46, 455, 102, 359, 210, 51],\n",
       "  15: [669, 101, 161, 126, 21, 674, 112, 239, 202, 37],\n",
       "  20: [625, 65, 202, 118, 27, 453, 82, 138, 109, 21],\n",
       "  25: [692, 33, 104, 145, 17, 400, 64, 129, 106, 14],\n",
       "  30: [312, 27, 168, 103, 6, 346, 35, 129, 94, 11],\n",
       "  35: [391, 45, 123, 106, 15, 419, 27, 89, 59, 11]},\n",
       " 25: {10: [8, 39, 5, 4, 91, 22, 269, 29, 3, 88],\n",
       "  15: [41, 351, 42, 8, 84, 63, 171, 20, 12, 120],\n",
       "  20: [15, 108, 31, 43, 28, 57, 22, 9, 37],\n",
       "  25: [28, 91, 79, 2, 38, 52, 156, 14, 9, 62],\n",
       "  30: [26, 78, 10, 14, 9, 133, 16, 3, 54],\n",
       "  35: [8, 116, 18, 10, 42, 16, 104, 16, 46]},\n",
       " 30: {10: [5, 16, 100, 1, 9, 2, 15, 57],\n",
       "  15: [15, 14, 38, 8, 111, 29, 20, 12, 11, 152],\n",
       "  20: [21, 4, 24, 30, 64, 8, 4, 15, 11, 87],\n",
       "  25: [9, 9, 18, 9, 118, 12, 10, 31, 8, 71],\n",
       "  30: [1, 3, 3, 9, 86, 18, 3, 27, 8, 83],\n",
       "  35: [10, 1, 30, 4, 44, 4, 6, 4, 14, 45]},\n",
       " 35: {10: [2, 24, 1],\n",
       "  15: [8, 3, 1, 22, 14, 2, 7],\n",
       "  20: [3, 17, 29, 17, 16, 3, 19, 18, 8, 26],\n",
       "  25: [4, 4, 22, 8, 22, 10, 24, 27, 6, 17],\n",
       "  30: [11, 6, 8, 8, 19, 15, 12, 39, 2, 5],\n",
       "  35: [7, 8, 12, 3, 7, 6, 51, 32]},\n",
       " 40: {10: [9],\n",
       "  15: [3, 13, 1, 1, 5],\n",
       "  20: [13, 14, 19, 4, 2, 4, 1, 2, 9, 3],\n",
       "  25: [2, 9, 11, 1, 2, 6, 5, 12, 11],\n",
       "  30: [4, 4, 3, 8, 11, 1, 2, 4, 7, 3],\n",
       "  35: [2, 1, 7, 2, 6, 3, 6]}}"
      ]
     },
     "execution_count": 56,
     "metadata": {},
     "output_type": "execute_result"
    }
   ],
   "source": [
    "valid_y_num_dic#15, 15, 15, 20, 20"
   ]
  },
  {
   "cell_type": "code",
   "execution_count": 61,
   "metadata": {},
   "outputs": [],
   "source": [
    "new_chain_strength_list = [10, 15, 20, 25, 30, 35]\n",
    "#bit_list = [20, 25, 30, 35, 40]"
   ]
  },
  {
   "cell_type": "code",
   "execution_count": 62,
   "metadata": {},
   "outputs": [],
   "source": [
    "mean_broken_chain_proportion_dic = {}\n",
    "for bit in bit_list:\n",
    "    mean_broken_chain_proportion_dic[bit] = {}\n",
    "    for chain_strength in new_chain_strength_list:\n",
    "        mean_broken_chain_proportion_dic[bit][chain_strength] = statistics.mean(broken_chain_proportion_dic[bit][chain_strength])"
   ]
  },
  {
   "cell_type": "code",
   "execution_count": 63,
   "metadata": {},
   "outputs": [
    {
     "data": {
      "text/plain": [
       "{20: {10: 0.003436995071049864,\n",
       "  15: 0.001243083399339305,\n",
       "  20: 0.0012177444235024074,\n",
       "  25: 0.001972744188058469,\n",
       "  30: 0.0007924023334085457,\n",
       "  35: 0.002096203762082356},\n",
       " 25: {10: 0.021225704189413972,\n",
       "  15: 0.0038622894008003123,\n",
       "  20: 0.0033168900583561266,\n",
       "  25: 0.0012374289368551259,\n",
       "  30: 0.00339684681789945,\n",
       "  35: 0.00300019200818801},\n",
       " 30: {10: 0.07690046296296296,\n",
       "  15: 0.00922998586655574,\n",
       "  20: 0.005299610949395432,\n",
       "  25: 0.0027781808502840544,\n",
       "  30: 0.0019893873513001188,\n",
       "  35: 0.0010562770562770564},\n",
       " 35: {10: 0.3257936507936508,\n",
       "  15: 0.07435727537768354,\n",
       "  20: 0.015756189604139853,\n",
       "  25: 0.009241603712191947,\n",
       "  30: 0.00976964263806369,\n",
       "  35: 0.004009416266506602},\n",
       " 40: {10: 0.4083333333333333,\n",
       "  15: 0.08012820512820512,\n",
       "  20: 0.02563893708630551,\n",
       "  25: 0.018354377104377106,\n",
       "  30: 0.009937770562770563,\n",
       "  35: 0.0068877551020408165}}"
      ]
     },
     "execution_count": 63,
     "metadata": {},
     "output_type": "execute_result"
    }
   ],
   "source": [
    "mean_broken_chain_proportion_dic"
   ]
  },
  {
   "cell_type": "code",
   "execution_count": 67,
   "metadata": {},
   "outputs": [],
   "source": [
    "mean_broken_chain_proportion_list = [list(mean_broken_chain_proportion_dic[bit].values()) for bit in bit_list]"
   ]
  },
  {
   "cell_type": "code",
   "execution_count": 68,
   "metadata": {},
   "outputs": [
    {
     "data": {
      "text/plain": [
       "[[0.003436995071049864,\n",
       "  0.001243083399339305,\n",
       "  0.0012177444235024074,\n",
       "  0.001972744188058469,\n",
       "  0.0007924023334085457,\n",
       "  0.002096203762082356],\n",
       " [0.021225704189413972,\n",
       "  0.0038622894008003123,\n",
       "  0.0033168900583561266,\n",
       "  0.0012374289368551259,\n",
       "  0.00339684681789945,\n",
       "  0.00300019200818801],\n",
       " [0.07690046296296296,\n",
       "  0.00922998586655574,\n",
       "  0.005299610949395432,\n",
       "  0.0027781808502840544,\n",
       "  0.0019893873513001188,\n",
       "  0.0010562770562770564],\n",
       " [0.3257936507936508,\n",
       "  0.07435727537768354,\n",
       "  0.015756189604139853,\n",
       "  0.009241603712191947,\n",
       "  0.00976964263806369,\n",
       "  0.004009416266506602],\n",
       " [0.4083333333333333,\n",
       "  0.08012820512820512,\n",
       "  0.02563893708630551,\n",
       "  0.018354377104377106,\n",
       "  0.009937770562770563,\n",
       "  0.0068877551020408165]]"
      ]
     },
     "execution_count": 68,
     "metadata": {},
     "output_type": "execute_result"
    }
   ],
   "source": [
    "mean_broken_chain_proportion_list"
   ]
  },
  {
   "cell_type": "code",
   "execution_count": 64,
   "metadata": {},
   "outputs": [],
   "source": [
    "mean_valid_y_num_dic = {}\n",
    "for bit in bit_list:\n",
    "    mean_valid_y_num_dic[bit] = {}\n",
    "    for chain_strength in new_chain_strength_list:\n",
    "        mean_valid_y_num_dic[bit][chain_strength] = statistics.mean(valid_y_num_dic[bit][chain_strength])"
   ]
  },
  {
   "cell_type": "code",
   "execution_count": 65,
   "metadata": {},
   "outputs": [
    {
     "data": {
      "text/plain": [
       "{20: {10: 215.1, 15: 234.2, 20: 184, 25: 170.4, 30: 123.1, 35: 128.5},\n",
       " 25: {10: 55.8,\n",
       "  15: 91.2,\n",
       "  20: 38.888888888888886,\n",
       "  25: 53.1,\n",
       "  30: 38.111111111111114,\n",
       "  35: 41.77777777777778},\n",
       " 30: {10: 25.625, 15: 41, 20: 26.8, 25: 29.5, 30: 24.1, 35: 16.2},\n",
       " 35: {10: 9, 15: 8.142857142857142, 20: 15.6, 25: 14.4, 30: 12.5, 35: 15.75},\n",
       " 40: {10: 9,\n",
       "  15: 4.6,\n",
       "  20: 7.1,\n",
       "  25: 6.555555555555555,\n",
       "  30: 4.7,\n",
       "  35: 3.857142857142857}}"
      ]
     },
     "execution_count": 65,
     "metadata": {},
     "output_type": "execute_result"
    }
   ],
   "source": [
    "mean_valid_y_num_dic#20bit-15, 25bit-15, 30bit-15, 35bit-20, 40bit-10, "
   ]
  },
  {
   "cell_type": "code",
   "execution_count": 69,
   "metadata": {},
   "outputs": [],
   "source": [
    "mean_valid_y_num_list = [list(mean_valid_y_num_dic[bit].values()) for bit in bit_list]"
   ]
  },
  {
   "cell_type": "code",
   "execution_count": 70,
   "metadata": {},
   "outputs": [
    {
     "data": {
      "text/plain": [
       "[[215.1, 234.2, 184, 170.4, 123.1, 128.5],\n",
       " [55.8, 91.2, 38.888888888888886, 53.1, 38.111111111111114, 41.77777777777778],\n",
       " [25.625, 41, 26.8, 29.5, 24.1, 16.2],\n",
       " [9, 8.142857142857142, 15.6, 14.4, 12.5, 15.75],\n",
       " [9, 4.6, 7.1, 6.555555555555555, 4.7, 3.857142857142857]]"
      ]
     },
     "execution_count": 70,
     "metadata": {},
     "output_type": "execute_result"
    }
   ],
   "source": [
    "mean_valid_y_num_list"
   ]
  },
  {
   "cell_type": "code",
   "execution_count": 71,
   "metadata": {},
   "outputs": [
    {
     "data": {
      "image/png": "[encoded data removed]",
      "text/plain": [
       "<Figure size 432x288 with 2 Axes>"
      ]
     },
     "metadata": {
      "needs_background": "light"
     },
     "output_type": "display_data"
    }
   ],
   "source": [
    "import seaborn as sns\n",
    "\n",
    "names = ['{}bit'.format(i) for i in bit_list]\n",
    "\n",
    "sns.heatmap(mean_broken_chain_proportion_list, xticklabels=new_chain_strength_list, yticklabels=names)\n",
    "\n",
    "plt.xlabel('chain strength')\n",
    "plt.ylabel('dataset name')\n",
    "plt.title('broken chain proportion')\n",
    "\n",
    "plt.tight_layout()\n",
    "plt.savefig('broken_chain_proportion.png')\n",
    "plt.show()"
   ]
  },
  {
   "cell_type": "code",
   "execution_count": 72,
   "metadata": {},
   "outputs": [
    {
     "data": {
      "image/png": "[encoded data removed]",
      "text/plain": [
       "<Figure size 432x288 with 2 Axes>"
      ]
     },
     "metadata": {
      "needs_background": "light"
     },
     "output_type": "display_data"
    }
   ],
   "source": [
    "import seaborn as sns\n",
    "\n",
    "names = ['{}bit'.format(i) for i in bit_list]\n",
    "\n",
    "sns.heatmap(mean_valid_y_num_list, xticklabels=new_chain_strength_list, yticklabels=names)\n",
    "\n",
    "plt.xlabel('chain strength')\n",
    "plt.ylabel('dataset name')\n",
    "plt.title('number of valid sample')\n",
    "\n",
    "plt.tight_layout()\n",
    "plt.savefig('chain_strength_valid_y_num')\n",
    "plt.show()"
   ]
  },
  {
   "cell_type": "markdown",
   "metadata": {},
   "source": [
    "## chain_strength_dic = {20:15, 25:15, 30:15, 35:20, 40:20}と決定"
   ]
  },
  {
   "cell_type": "code",
   "execution_count": 73,
   "metadata": {},
   "outputs": [
    {
     "name": "stdout",
     "output_type": "stream",
     "text": [
      "46 bit finished\n",
      "46 bit finished\n",
      "46 bit finished\n",
      "46 bit finished\n",
      "46 bit finished\n",
      "46 bit finished\n",
      "46 bit finished\n",
      "46 bit finished\n",
      "46 bit finished\n",
      "46 bit finished\n",
      "46 bit finished\n",
      "46 bit finished\n",
      "46 bit finished\n",
      "46 bit finished\n",
      "46 bit finished\n",
      "46 bit finished\n",
      "46 bit finished\n",
      "46 bit finished\n",
      "46 bit finished\n",
      "46 bit finished\n",
      "46 bit finished\n"
     ]
    }
   ],
   "source": [
    "bit = 46\n",
    "for jj in range(3):\n",
    "    path = '../input/ost{}.csv'.format(bit)\n",
    "    df = pd.read_csv(path, sep=',')\n",
    "    bqm = aqa.make_Hamiltonian(df)\n",
    "\n",
    "    for chain_strength in chain_strength_list:\n",
    "        res = aqa.aws_get_response(bqm, chain_strength, num_reads)\n",
    "        ads = aqa.aws_DSampler(df, bqm, num_reads, chain_strength, res)\n",
    "        valid_y_info_dic = ads.find_valid_y()\n",
    "\n",
    "        if len(valid_y_info_dic) > 0:\n",
    "            broken_list = [valid_y_info[1] for valid_y_info in list(valid_y_info_dic.values())]\n",
    "            broken_chain_proportion_46[chain_strength].append(statistics.mean(broken_list))\n",
    "            valid_y_num_46[chain_strength].append(len(valid_y_info_dic))\n",
    "        \n",
    "        print('{} bit finished'.format(bit))#また位置間違えた"
   ]
  },
  {
   "cell_type": "code",
   "execution_count": 74,
   "metadata": {},
   "outputs": [
    {
     "data": {
      "text/plain": [
       "{5: [],\n",
       " 10: [],\n",
       " 15: [],\n",
       " 20: [0.08152173913043478,\n",
       "  0.021739130434782608,\n",
       "  0.043478260869565216,\n",
       "  0.09782608695652174],\n",
       " 25: [0.0, 0.0],\n",
       " 30: [0.02717391304347826, 0.010869565217391304],\n",
       " 35: [0.0, 0.0, 0.0]}"
      ]
     },
     "execution_count": 74,
     "metadata": {},
     "output_type": "execute_result"
    }
   ],
   "source": [
    "broken_chain_proportion_46"
   ]
  },
  {
   "cell_type": "code",
   "execution_count": 75,
   "metadata": {},
   "outputs": [
    {
     "data": {
      "text/plain": [
       "{5: [],\n",
       " 10: [],\n",
       " 15: [],\n",
       " 20: [4, 1, 1, 4],\n",
       " 25: [1, 2],\n",
       " 30: [4, 2],\n",
       " 35: [1, 1, 1]}"
      ]
     },
     "execution_count": 75,
     "metadata": {},
     "output_type": "execute_result"
    }
   ],
   "source": [
    "valid_y_num_46"
   ]
  },
  {
   "cell_type": "code",
   "execution_count": null,
   "metadata": {},
   "outputs": [],
   "source": [
    "#20bit\n"
   ]
  }
 ],
 "metadata": {
  "kernelspec": {
   "display_name": "Python 3",
   "language": "python",
   "name": "python3"
  },
  "language_info": {
   "codemirror_mode": {
    "name": "ipython",
    "version": 3
   },
   "file_extension": ".py",
   "mimetype": "text/x-python",
   "name": "python",
   "nbconvert_exporter": "python",
   "pygments_lexer": "ipython3",
   "version": "3.7.9"
  }
 },
 "nbformat": 4,
 "nbformat_minor": 4
}
