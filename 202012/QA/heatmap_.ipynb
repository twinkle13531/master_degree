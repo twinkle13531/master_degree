{
 "cells": [
  {
   "cell_type": "code",
   "execution_count": 19,
   "metadata": {},
   "outputs": [
    {
     "data": {
      "image/png": "[encoded data removed]",
      "text/plain": [
       "<Figure size 504x360 with 2 Axes>"
      ]
     },
     "metadata": {
      "needs_background": "light"
     },
     "output_type": "display_data"
    }
   ],
   "source": [
    "import numpy as np\n",
    "import matplotlib.pyplot as plt\n",
    "\n",
    "# 20x5のダミーデータを作成\n",
    "mat = np.random.rand(100).reshape(20,5)#y, x\n",
    "\n",
    "# ヒートマップを作成\n",
    "plt.figure(figsize=(7,5))\n",
    "plt.imshow(mat,interpolation='nearest',cmap='jet',aspect=0.25,alpha=0.5) # aspectで縦横比を調整\n",
    "\n",
    "\n",
    "# グラフ内に値を書き込む\n",
    "#ys, xs = np.meshgrid(range(mat.shape[0]),range(mat.shape[1]),indexing='ij')\n",
    "#for (x,y,val) in zip(xs.flatten(), ys.flatten(), mat.flatten()):\n",
    "    #plt.text(x,y,'{0:.2f}'.format(val), horizontalalignment='center',verticalalignment='center',)\n",
    "    \n",
    "\n",
    "# 軸ラベルを設定   \n",
    "group = ['A','B','C','D','E']\n",
    "names = ['Lot{0:02d}'.format(i+1) for i in range(20)] # 内包表記\n",
    "plt.xticks(xs[0,:], group)\n",
    "plt.yticks(ys[:,0], names)  \n",
    "\n",
    "plt.xlabel('chain strength')\n",
    "plt.ylabel('dataset number')\n",
    "plt.colorbar()\n",
    "plt.show()"
   ]
  },
  {
   "cell_type": "code",
   "execution_count": 3,
   "metadata": {
    "collapsed": true,
    "jupyter": {
     "outputs_hidden": true
    }
   },
   "outputs": [
    {
     "name": "stdout",
     "output_type": "stream",
     "text": [
      "Collecting seaborn\n",
      "  Downloading seaborn-0.11.1-py3-none-any.whl (285 kB)\n",
      "\u001b[K     |████████████████████████████████| 285 kB 9.6 MB/s eta 0:00:01\n",
      "\u001b[?25hRequirement already satisfied: numpy>=1.15 in /Users/shihosato/.pyenv/versions/miniconda3-4.7.12/lib/python3.7/site-packages (from seaborn) (1.18.2)\n",
      "Requirement already satisfied: matplotlib>=2.2 in /Users/shihosato/.pyenv/versions/miniconda3-4.7.12/lib/python3.7/site-packages (from seaborn) (3.2.1)\n",
      "Requirement already satisfied: scipy>=1.0 in /Users/shihosato/.pyenv/versions/miniconda3-4.7.12/lib/python3.7/site-packages (from seaborn) (1.4.1)\n",
      "Requirement already satisfied: pandas>=0.23 in /Users/shihosato/.pyenv/versions/miniconda3-4.7.12/lib/python3.7/site-packages (from seaborn) (1.0.3)\n",
      "Requirement already satisfied: pyparsing!=2.0.4,!=2.1.2,!=2.1.6,>=2.0.1 in /Users/shihosato/.pyenv/versions/miniconda3-4.7.12/lib/python3.7/site-packages (from matplotlib>=2.2->seaborn) (2.4.7)\n",
      "Requirement already satisfied: cycler>=0.10 in /Users/shihosato/.pyenv/versions/miniconda3-4.7.12/lib/python3.7/site-packages (from matplotlib>=2.2->seaborn) (0.10.0)\n",
      "Requirement already satisfied: python-dateutil>=2.1 in /Users/shihosato/.pyenv/versions/miniconda3-4.7.12/lib/python3.7/site-packages (from matplotlib>=2.2->seaborn) (2.8.1)\n",
      "Requirement already satisfied: kiwisolver>=1.0.1 in /Users/shihosato/.pyenv/versions/miniconda3-4.7.12/lib/python3.7/site-packages (from matplotlib>=2.2->seaborn) (1.2.0)\n",
      "Requirement already satisfied: pytz>=2017.2 in /Users/shihosato/.pyenv/versions/miniconda3-4.7.12/lib/python3.7/site-packages (from pandas>=0.23->seaborn) (2019.3)\n",
      "Requirement already satisfied: six in /Users/shihosato/.pyenv/versions/miniconda3-4.7.12/lib/python3.7/site-packages (from cycler>=0.10->matplotlib>=2.2->seaborn) (1.15.0)\n",
      "Installing collected packages: seaborn\n",
      "Successfully installed seaborn-0.11.1\n"
     ]
    }
   ],
   "source": [
    "!pip install seaborn"
   ]
  },
  {
   "cell_type": "code",
   "execution_count": 9,
   "metadata": {},
   "outputs": [],
   "source": [
    "%matplotlib inline"
   ]
  },
  {
   "cell_type": "code",
   "execution_count": 28,
   "metadata": {},
   "outputs": [
    {
     "data": {
      "text/plain": [
       "array([[0.7518062 , 0.61369072, 0.14580413, 0.35394897, 0.7336632 ],\n",
       "       [0.24391795, 0.24939089, 0.50407559, 0.56594756, 0.82915806],\n",
       "       [0.0672562 , 0.28005973, 0.40514462, 0.46128768, 0.98556348],\n",
       "       [0.20822746, 0.44869434, 0.69829331, 0.37234954, 0.71301631],\n",
       "       [0.06296648, 0.43117777, 0.07989009, 0.94568764, 0.40758099],\n",
       "       [0.24428965, 0.16922086, 0.12239414, 0.82816465, 0.18782771],\n",
       "       [0.27004242, 0.20150402, 0.09061059, 0.39858481, 0.63036377],\n",
       "       [0.02005059, 0.25032879, 0.55566535, 0.17173775, 0.06080985],\n",
       "       [0.45844264, 0.41553591, 0.22816414, 0.47169086, 0.83312145],\n",
       "       [0.72909317, 0.74657671, 0.21908703, 0.44349784, 0.32146502]])"
      ]
     },
     "execution_count": 28,
     "metadata": {},
     "output_type": "execute_result"
    }
   ],
   "source": [
    "mat = np.random.rand(50).reshape(10, 5)\n",
    "mat"
   ]
  },
  {
   "cell_type": "code",
   "execution_count": 35,
   "metadata": {},
   "outputs": [
    {
     "data": {
      "text/plain": [
       "[0, 5, 10, 15, 20, 25, 30]"
      ]
     },
     "execution_count": 35,
     "metadata": {},
     "output_type": "execute_result"
    }
   ],
   "source": [
    "chain_strength_list = [i for i in range(0, 35, 5)]\n",
    "chain_strength_list"
   ]
  },
  {
   "cell_type": "code",
   "execution_count": 37,
   "metadata": {},
   "outputs": [
    {
     "data": {
      "image/png": "[encoded data removed]",
      "text/plain": [
       "<Figure size 432x288 with 2 Axes>"
      ]
     },
     "metadata": {
      "needs_background": "light"
     },
     "output_type": "display_data"
    }
   ],
   "source": [
    "import numpy as np\n",
    "import seaborn as sns\n",
    "import matplotlib.pylab as plt\n",
    "\n",
    "bit_list = [20, 25, 30]\n",
    "num_list = [0 ,1, 2, 3 ,4]\n",
    "chain_strength_list = [i for i in range(0, 35, 5)]\n",
    "\n",
    "# 20x5のダミーデータを作成\n",
    "mat = []\n",
    "#20\n",
    "mat.append([100, 50, 25, 23, 15, 5, 1])\n",
    "mat.append([100, 50, 25, 23, 15, 5, 1])\n",
    "mat.append([100, 50, 25, 23, 15, 5, 1])\n",
    "mat.append([100, 50, 25, 23, 15, 5, 1])\n",
    "mat.append([100, 50, 25, 23, 15, 5, 1])\n",
    "\n",
    "#25\n",
    "mat.append([50, 25, 18, 14, 5, 2, 1])\n",
    "mat.append([50, 25, 18, 14, 5, 2, 1])\n",
    "mat.append([50, 25, 18, 14, 5, 2, 1])\n",
    "mat.append([50, 25, 18, 14, 5, 2, 1])\n",
    "mat.append([50, 25, 18, 14, 5, 2, 1])\n",
    "\n",
    "#30\n",
    "mat.append([15, 10, 5, 2, 1, 1, 0])\n",
    "mat.append([15, 10, 5, 2, 1, 1, 0])\n",
    "mat.append([15, 10, 5, 2, 1, 1, 0])\n",
    "mat.append([15, 10, 5, 2, 1, 1, 0])\n",
    "mat.append([15, 10, 5, 2, 1, 1, 0])\n",
    "\n",
    "#mat = np.array(mat)#変化なし\n",
    "\n",
    "#mat = np.random.rand(100).reshape(len(bit_list)*len(num_list),len(chain_strength_list))#y, x\n",
    "ax = sns.heatmap(mat, linewidth=0.0)#必要\n",
    "\n",
    "# 軸ラベルを設定   \n",
    "#group = ['A','B','C','D','E']\n",
    "names = ['{}bit_{}'.format(i, j) for i,j in zip(bit_list, num_list)] # 内包表記\n",
    "plt.xticks(xs[0,:], chain_strength_list)\n",
    "plt.yticks(ys[:,0], names) \n",
    "\n",
    "plt.xlabel('chain strength')\n",
    "plt.ylabel('dataset number')\n",
    "plt.show()"
   ]
  },
  {
   "cell_type": "code",
   "execution_count": 22,
   "metadata": {},
   "outputs": [
    {
     "data": {
      "image/png": "[encoded data removed]",
      "text/plain": [
       "<Figure size 432x288 with 2 Axes>"
      ]
     },
     "metadata": {
      "needs_background": "light"
     },
     "output_type": "display_data"
    }
   ],
   "source": [
    "import numpy as np\n",
    "import matplotlib.pyplot as plt\n",
    "\n",
    "b, a = np.meshgrid(np.linspace(0, 5, 130), np.linspace(0,5, 130))\n",
    "\n",
    "c = ( a ** 2 + b ** 2) * np.exp(-a ** 2 - b ** 2)\n",
    "c = c[:-1, :-1]\n",
    "l_a=a.min()\n",
    "r_a=a.max()\n",
    "l_b=b.min()\n",
    "r_b=b.max()\n",
    "l_c,r_c  = -np.abs(c).max(), np.abs(c).max()\n",
    "\n",
    "figure, axes = plt.subplots()\n",
    "\n",
    "c = axes.pcolormesh(a, b, c, cmap='copper', vmin=l_c, vmax=r_c)\n",
    "axes.set_title('Heatmap')\n",
    "axes.axis([l_a, r_a, l_b, r_b])\n",
    "figure.colorbar(c)\n",
    "\n",
    "plt.show()"
   ]
  },
  {
   "cell_type": "code",
   "execution_count": null,
   "metadata": {},
   "outputs": [],
   "source": []
  }
 ],
 "metadata": {
  "kernelspec": {
   "display_name": "Python 3",
   "language": "python",
   "name": "python3"
  },
  "language_info": {
   "codemirror_mode": {
    "name": "ipython",
    "version": 3
   },
   "file_extension": ".py",
   "mimetype": "text/x-python",
   "name": "python",
   "nbconvert_exporter": "python",
   "pygments_lexer": "ipython3",
   "version": "3.7.9"
  }
 },
 "nbformat": 4,
 "nbformat_minor": 4
}
