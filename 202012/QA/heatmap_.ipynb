{
 "cells": [
  {
   "cell_type": "markdown",
   "metadata": {},
   "source": [
    "## ヒートマップでやりたいこと\n",
    "- 縦bit, 横chain_strength, 値valid_y_num\n",
    "- 縦bit, 横chain_strength, 値broken_chain_proportion"
   ]
  },
  {
   "cell_type": "code",
   "execution_count": null,
   "metadata": {},
   "outputs": [],
   "source": [
    "valid_y_num_list = []\n",
    "broken_chain_proportion_list = []"
   ]
  },
  {
   "cell_type": "code",
   "execution_count": null,
   "metadata": {},
   "outputs": [],
   "source": [
    "chain_strength_list = [5, 10, 15, 20, 25, 30, 35]\n",
    "#chain_strength_dic = {20:10, 25:15, 30:20, 35:20, 40:30}"
   ]
  },
  {
   "cell_type": "code",
   "execution_count": null,
   "metadata": {},
   "outputs": [],
   "source": [
    "bit_list = [20, 25, 30, 35, 40]\n",
    "num_list = [0, 1, 2, 3, 4]"
   ]
  },
  {
   "cell_type": "code",
   "execution_count": null,
   "metadata": {},
   "outputs": [],
   "source": [
    "import numpy as np\n",
    "import matplotlib.pyplot as plt\n",
    "%matplotlib inline"
   ]
  },
  {
   "cell_type": "code",
   "execution_count": 19,
   "metadata": {},
   "outputs": [
    {
     "data": {
      "image/png": "[encoded data removed]",
      "text/plain": [
       "<Figure size 504x360 with 2 Axes>"
      ]
     },
     "metadata": {
      "needs_background": "light"
     },
     "output_type": "display_data"
    }
   ],
   "source": [
    "# ヒートマップを作成\n",
    "plt.figure(figsize=(7,5))\n",
    "plt.imshow(mat,interpolation='nearest',cmap='jet',aspect=0.25,alpha=0.5) # aspectで縦横比を調整\n",
    "\n",
    "# 軸ラベルを設定   \n",
    "data_names = ['{}bit_{}'.format(bit, num) for bit, num in zip(bit_list, num_list)] # 内包表記\n",
    "plt.xticks(xs[0,:], chain_strength_list)\n",
    "plt.yticks(ys[:,0], data_names)  \n",
    "\n",
    "plt.xlabel('chain strength')\n",
    "plt.ylabel('dataset number')\n",
    "plt.colorbar()\n",
    "plt.show()"
   ]
  },
  {
   "cell_type": "code",
   "execution_count": null,
   "metadata": {},
   "outputs": [],
   "source": []
  },
  {
   "cell_type": "code",
   "execution_count": null,
   "metadata": {},
   "outputs": [],
   "source": [
    "import seaborn as sns\n",
    "\n",
    "ax = sns.heatmap(mat, linewidth=0.0)#必要\n",
    "\n",
    "# 軸ラベルを設定   \n",
    "#group = ['A','B','C','D','E']\n",
    "names = ['{}bit_{}'.format(i, j) for i,j in zip(bit_list, num_list)] # 内包表記\n",
    "plt.xticks(xs[0,:], chain_strength_list)\n",
    "plt.yticks(ys[:,0], names) \n",
    "\n",
    "plt.xlabel('chain strength')\n",
    "plt.ylabel('dataset number')\n",
    "plt.show()"
   ]
  },
  {
   "cell_type": "code",
   "execution_count": null,
   "metadata": {},
   "outputs": [],
   "source": []
  }
 ],
 "metadata": {
  "kernelspec": {
   "display_name": "Python 3",
   "language": "python",
   "name": "python3"
  },
  "language_info": {
   "codemirror_mode": {
    "name": "ipython",
    "version": 3
   },
   "file_extension": ".py",
   "mimetype": "text/x-python",
   "name": "python",
   "nbconvert_exporter": "python",
   "pygments_lexer": "ipython3",
   "version": "3.7.9"
  }
 },
 "nbformat": 4,
 "nbformat_minor": 4
}
