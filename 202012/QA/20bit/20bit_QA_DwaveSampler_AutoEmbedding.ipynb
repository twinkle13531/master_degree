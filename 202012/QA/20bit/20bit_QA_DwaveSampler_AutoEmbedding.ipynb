{
 "cells": [
  {
   "cell_type": "code",
   "execution_count": 15,
   "metadata": {},
   "outputs": [
    {
     "name": "stdout",
     "output_type": "stream",
     "text": [
      "/Users/shihosato/src/github.com/twinkle13531/master_degree/202012/QA/20bit\n"
     ]
    }
   ],
   "source": [
    "!pwd"
   ]
  },
  {
   "cell_type": "code",
   "execution_count": 16,
   "metadata": {},
   "outputs": [
    {
     "name": "stdout",
     "output_type": "stream",
     "text": [
      "The autoreload extension is already loaded. To reload it, use:\n",
      "  %reload_ext autoreload\n"
     ]
    }
   ],
   "source": [
    "%load_ext autoreload\n",
    "%autoreload 2"
   ]
  },
  {
   "cell_type": "code",
   "execution_count": 17,
   "metadata": {},
   "outputs": [],
   "source": [
    "import sys, os\n",
    "sys.path.append(os.path.join('..'))"
   ]
  },
  {
   "cell_type": "code",
   "execution_count": 18,
   "metadata": {},
   "outputs": [],
   "source": [
    "import QA_DwaveSampler_AutoEmbedding as qda\n",
    "import pandas as pd\n",
    "import numpy as np\n",
    "import timeit"
   ]
  },
  {
   "cell_type": "code",
   "execution_count": 19,
   "metadata": {},
   "outputs": [],
   "source": [
    "bit = 20"
   ]
  },
  {
   "cell_type": "code",
   "execution_count": 27,
   "metadata": {},
   "outputs": [
    {
     "name": "stdout",
     "output_type": "stream",
     "text": [
      "mean number of valid y of 20 bit data is 429.0\n",
      "mean calculate time of 20 bit data is 0.009844709599885391\n",
      "mean p value of 20 bit data is 0.4018832092940531\n",
      "mean p value of 20 bit data is 1.0140142223905344\n"
     ]
    }
   ],
   "source": [
    "valid_y_num_sum = 0\n",
    "time_sum = 0\n",
    "p_list = []\n",
    "occurance_list_list = []\n",
    "for num in [0, 1, 2, 3, 4]:\n",
    "    path = '../../input/ost{}_{}.csv'.format(bit, num)\n",
    "    df = pd.read_csv(path, sep=',')\n",
    "    bqm = qda.make_Hamiltonian(df)\n",
    "    time_once = timeit.timeit(\"qda.make_Hamiltonian(df)\", globals=globals(), number=1)\n",
    "    n = 100\n",
    "    num_reads = 100\n",
    "    chain_strength = 11\n",
    "    QDA = qda.QA_DSampler_AEmbedding(df, bqm, time_once, n, num_reads, chain_strength)\n",
    "    \n",
    "    valid_y_info_list, valid_y_num = QDA.find_valid_y_ntimes()\n",
    "    valid_y_num_sum += valid_y_num\n",
    "    \n",
    "    time_sum += QDA.time_measurement()\n",
    "    \n",
    "    p_list.append(qda.p_value(df, valid_y_info_list))\n",
    "    \n",
    "    occurance_list = [int(valid_y_info[2]) for valid_y_info in valid_y_info_list]\n",
    "    occurance_list_list.append(sum(occurance_list)/len(occurance_list))\n",
    "print('mean number of valid y of {} bit data is {}'.format(bit, valid_y_num_sum/5))\n",
    "print('mean calculate time of {} bit data is {}'.format(bit, time_sum/5))\n",
    "print('mean p value of {} bit data is {}'.format(bit, sum(p_list)/len(p_list)))\n",
    "print('mean p value of {} bit data is {}'.format(bit, sum(occurance_list_list)/len(occurance_list_list)))"
   ]
  },
  {
   "cell_type": "code",
   "execution_count": null,
   "metadata": {},
   "outputs": [],
   "source": [
    "for num in [0, 1, 2, 3, 4]:\n",
    "    path = '../../input/ost{}_{}.csv'.format(bit, num)\n",
    "    df = pd.read_csv(path, sep=',')\n",
    "    bqm = qda.make_Hamiltonian(df)\n",
    "    time_once = timeit.timeit(\"qda.make_Hamiltonian(df)\", globals=globals(), number=1)\n",
    "    n = 100\n",
    "    num_reads = 100\n",
    "    chain_strength = 11\n",
    "    QDA = qda.QA_DSampler_AEmbedding(df, bqm, time_once, n, num_reads, chain_strength)\n",
    "    \n",
    "    # t1_hist\n",
    "    plot_path = '{}/DwSamplerAutoEmbed_{}bit_{}_n100_num100_strength11_t1_hist'.format(num, bit, num)\n",
    "    hist_dic = QDA.y_num_t1_hist(valid_y_info_list, plot_path)\n",
    "    \n",
    "    # p value transition\n",
    "    output_path = '{}/DwSamplerAutoEmbed_{}bit_{}_n100_num100_strength11_p_value_transition'.format(num, bit, num)\n",
    "    valid_y_num, valid_y_list, p_dic = QDA.p_value_transition(valid_y_info_list, output_path)\n",
    "    \n",
    "    # number of y and time\n",
    "    path = '{}/DSampler_AEmbed_{}bit_{}_time_num'.format(num, bit, num)\n",
    "    valid_y_list, valid_y_num_list, time_list = QDA.time_num_y(path)\n",
    "    \n",
    "    # occurance histgram\n",
    "    plot_path = '{}/DwSamplerAutoEmbed_{}bit_{}_n100_num100_strength11_occurance_hist'.format(bit, num)\n",
    "    occurance_list = QDA.occurance_hist(valid_y_info_list, plot_path)"
   ]
  }
 ],
 "metadata": {
  "kernelspec": {
   "display_name": "Python 3",
   "language": "python",
   "name": "python3"
  },
  "language_info": {
   "codemirror_mode": {
    "name": "ipython",
    "version": 3
   },
   "file_extension": ".py",
   "mimetype": "text/x-python",
   "name": "python",
   "nbconvert_exporter": "python",
   "pygments_lexer": "ipython3",
   "version": "3.7.9"
  }
 },
 "nbformat": 4,
 "nbformat_minor": 4
}
