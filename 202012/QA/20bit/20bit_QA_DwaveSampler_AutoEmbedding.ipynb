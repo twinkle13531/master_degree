{
 "cells": [
  {
   "cell_type": "code",
   "execution_count": 12,
   "metadata": {},
   "outputs": [
    {
     "name": "stdout",
     "output_type": "stream",
     "text": [
      "/Users/shihosato/src/github.com/twinkle13531/master_degree/202012/QA/20bit\n"
     ]
    }
   ],
   "source": [
    "!pwd"
   ]
  },
  {
   "cell_type": "code",
   "execution_count": 13,
   "metadata": {},
   "outputs": [
    {
     "name": "stdout",
     "output_type": "stream",
     "text": [
      "The autoreload extension is already loaded. To reload it, use:\n",
      "  %reload_ext autoreload\n"
     ]
    }
   ],
   "source": [
    "%load_ext autoreload\n",
    "%autoreload 2"
   ]
  },
  {
   "cell_type": "code",
   "execution_count": 14,
   "metadata": {},
   "outputs": [],
   "source": [
    "import sys, os\n",
    "sys.path.append(os.path.join('..'))"
   ]
  },
  {
   "cell_type": "code",
   "execution_count": 20,
   "metadata": {},
   "outputs": [],
   "source": [
    "import QA_DwaveSampler_AutoEmbedding as qda\n",
    "import pandas as pd\n",
    "import numpy as np\n",
    "import timeit\n",
    "import statistics\n",
    "import math"
   ]
  },
  {
   "cell_type": "code",
   "execution_count": 16,
   "metadata": {},
   "outputs": [],
   "source": [
    "bit = 20\n",
    "n = 100\n",
    "num_reads = 100\n",
    "chain_strength = 11"
   ]
  },
  {
   "cell_type": "code",
   "execution_count": 23,
   "metadata": {},
   "outputs": [
    {
     "name": "stdout",
     "output_type": "stream",
     "text": [
      "number of valid y of 20bit_0 data is 1100\n",
      "calculation time of 20bit_0 data is 0.0032529830932617188\n",
      "p value of 20bit_0 data is 0.09090909090909091\n",
      "-------------------------------------\n",
      "number of valid y of 20bit_1 data is 600\n",
      "calculation time of 20bit_1 data is 0.0032758712768554688\n",
      "p value of 20bit_1 data is 0.8333333333333334\n",
      "-------------------------------------\n",
      "number of valid y of 20bit_2 data is 300\n",
      "calculation time of 20bit_2 data is 0.0035250186920166016\n",
      "p value of 20bit_2 data is 0.3333333333333333\n",
      "-------------------------------------\n",
      "number of valid y of 20bit_3 data is 300\n",
      "calculation time of 20bit_3 data is 0.003698110580444336\n",
      "p value of 20bit_3 data is 0.6666666666666666\n",
      "-------------------------------------\n",
      "number of valid y of 20bit_4 data is 200\n",
      "calculation time of 20bit_4 data is 0.004288196563720703\n",
      "p value of 20bit_4 data is 0.0\n",
      "-------------------------------------\n",
      "mean number of valid y of 20 bit data is 500.0\n",
      "mean calculate time of 20 bit data is 0.003608036041259766\n",
      "mean p value of 20 bit data is 0.38484848484848483\n",
      "mean sample occurrence of 20 bit data is 1\n"
     ]
    }
   ],
   "source": [
    "valid_y_num_sum = 0\n",
    "time_list = []\n",
    "p_list = []\n",
    "occurance_list_list = []\n",
    "for num in [0, 1, 2, 3, 4]:\n",
    "    path = '../../input/ost{}_{}.csv'.format(bit, num)\n",
    "    df = pd.read_csv(path, sep=',')\n",
    "    bqm = qda.make_Hamiltonian(df)\n",
    "    QDA = qda.QA_DSampler_AEmbedding(df, bqm, n, num_reads, chain_strength)\n",
    "    \n",
    "    valid_y_info_list, valid_y_num, elapsed_time = QDA.find_valid_y_time_ntimes()\n",
    "    print('number of valid y of {}bit_{} data is {}'.format(bit, num, valid_y_num))\n",
    "    print('calculation time of {}bit_{} data is {}'.format(bit, num, elapsed_time))\n",
    "    valid_y_num_sum += valid_y_num\n",
    "    time_list.append(elapsed_time)\n",
    "    \n",
    "    p_ = qda.p_value(df, valid_y_info_list)\n",
    "    print('p value of {}bit_{} data is {}'.format(bit, num, p_))\n",
    "    p_list.append(p_)\n",
    "    \n",
    "    occurance_list = [int(valid_y_info[2]) for valid_y_info in valid_y_info_list]\n",
    "    #print(occurance_list)\n",
    "    print('-------------------------------------')\n",
    "    \n",
    "    if len(occurance_list) == 0:\n",
    "        occurance_list_list.append(0)\n",
    "    else:\n",
    "        occurance_list_list.append(statistics.mean(occurance_list))\n",
    "print('mean number of valid y of {} bit data is {}'.format(bit, valid_y_num_sum/5))\n",
    "print('mean calculate time of {} bit data is {}'.format(bit, statistics.mean(time_list)))\n",
    "print('mean p value of {} bit data is {}'.format(bit, statistics.mean(p_list)))\n",
    "print('mean sample occurrence of {} bit data is {}'.format(bit, statistics.mean(occurance_list_list)))"
   ]
  },
  {
   "cell_type": "code",
   "execution_count": 24,
   "metadata": {},
   "outputs": [
    {
     "data": {
      "text/plain": [
       "[1, 1, 1, 1, 1]"
      ]
     },
     "execution_count": 24,
     "metadata": {},
     "output_type": "execute_result"
    }
   ],
   "source": [
    "occurance_list_list"
   ]
  },
  {
   "cell_type": "code",
   "execution_count": null,
   "metadata": {},
   "outputs": [],
   "source": []
  },
  {
   "cell_type": "code",
   "execution_count": null,
   "metadata": {},
   "outputs": [],
   "source": [
    "valid_y_num_sum = 0\n",
    "time_sum = 0\n",
    "p_list = []\n",
    "occurance_list_list = []\n",
    "for num in [0, 1, 2, 3, 4]:\n",
    "    path = '../../input/ost{}_{}.csv'.format(bit, num)\n",
    "    df = pd.read_csv(path, sep=',')\n",
    "    bqm = qda.make_Hamiltonian(df)\n",
    "    time_once = timeit.timeit(\"qda.make_Hamiltonian(df)\", globals=globals(), number=1)\n",
    "    n = 100\n",
    "    num_reads = 100\n",
    "    chain_strength = 11\n",
    "    QDA = qda.QA_DSampler_AEmbedding(df, bqm, time_once, n, num_reads, chain_strength)\n",
    "    \n",
    "    valid_y_info_list, valid_y_num = QDA.find_valid_y_ntimes()\n",
    "    print('mean number of valid y of {} bit data is {}'.format(bit, valid_y_num_sum/5))\n",
    "    valid_y_num_sum += valid_y_num\n",
    "    \n",
    "    time_sum += QDA.time_measurement()\n",
    "    \n",
    "    p_list.append(qda.p_value(df, valid_y_info_list))\n",
    "    \n",
    "    occurance_list = [int(valid_y_info[2]) for valid_y_info in valid_y_info_list]\n",
    "    occurance_list_list.append(sum(occurance_list)/len(occurance_list))"
   ]
  },
  {
   "cell_type": "code",
   "execution_count": null,
   "metadata": {},
   "outputs": [],
   "source": [
    "occurance_list_list"
   ]
  },
  {
   "cell_type": "code",
   "execution_count": 7,
   "metadata": {},
   "outputs": [
    {
     "data": {
      "image/png": "[encoded data removed]",
      "text/plain": [
       "<Figure size 432x288 with 1 Axes>"
      ]
     },
     "metadata": {
      "needs_background": "light"
     },
     "output_type": "display_data"
    },
    {
     "data": {
      "image/png": "[encoded data removed]",
      "text/plain": [
       "<Figure size 432x288 with 1 Axes>"
      ]
     },
     "metadata": {
      "needs_background": "light"
     },
     "output_type": "display_data"
    },
    {
     "data": {
      "image/png": "[encoded data removed]",
      "text/plain": [
       "<Figure size 432x288 with 1 Axes>"
      ]
     },
     "metadata": {
      "needs_background": "light"
     },
     "output_type": "display_data"
    },
    {
     "ename": "IndexError",
     "evalue": "tuple index out of range",
     "output_type": "error",
     "traceback": [
      "\u001b[0;31m---------------------------------------------------------------------------\u001b[0m",
      "\u001b[0;31mIndexError\u001b[0m                                Traceback (most recent call last)",
      "\u001b[0;32m<ipython-input-7-70ebd821b6ee>\u001b[0m in \u001b[0;36m<module>\u001b[0;34m\u001b[0m\n\u001b[1;32m     22\u001b[0m \u001b[0;34m\u001b[0m\u001b[0m\n\u001b[1;32m     23\u001b[0m     \u001b[0;31m# occurance histgram\u001b[0m\u001b[0;34m\u001b[0m\u001b[0;34m\u001b[0m\u001b[0;34m\u001b[0m\u001b[0m\n\u001b[0;32m---> 24\u001b[0;31m     \u001b[0mplot_path\u001b[0m \u001b[0;34m=\u001b[0m \u001b[0;34m'{}/DwSamplerAutoEmbed_{}bit_{}_n100_num100_strength11_occurance_hist'\u001b[0m\u001b[0;34m.\u001b[0m\u001b[0mformat\u001b[0m\u001b[0;34m(\u001b[0m\u001b[0mbit\u001b[0m\u001b[0;34m,\u001b[0m \u001b[0mnum\u001b[0m\u001b[0;34m)\u001b[0m\u001b[0;34m\u001b[0m\u001b[0;34m\u001b[0m\u001b[0m\n\u001b[0m\u001b[1;32m     25\u001b[0m     \u001b[0moccurance_list\u001b[0m \u001b[0;34m=\u001b[0m \u001b[0mQDA\u001b[0m\u001b[0;34m.\u001b[0m\u001b[0moccurance_hist\u001b[0m\u001b[0;34m(\u001b[0m\u001b[0mvalid_y_info_list\u001b[0m\u001b[0;34m,\u001b[0m \u001b[0mplot_path\u001b[0m\u001b[0;34m)\u001b[0m\u001b[0;34m\u001b[0m\u001b[0;34m\u001b[0m\u001b[0m\n",
      "\u001b[0;31mIndexError\u001b[0m: tuple index out of range"
     ]
    }
   ],
   "source": [
    "for num in [0, 1, 2, 3, 4]:\n",
    "    path = '../../input/ost{}_{}.csv'.format(bit, num)\n",
    "    df = pd.read_csv(path, sep=',')\n",
    "    bqm = qda.make_Hamiltonian(df)\n",
    "    time_once = timeit.timeit(\"qda.make_Hamiltonian(df)\", globals=globals(), number=1)\n",
    "    n = 100\n",
    "    num_reads = 100\n",
    "    chain_strength = 11\n",
    "    QDA = qda.QA_DSampler_AEmbedding(df, bqm, time_once, n, num_reads, chain_strength)\n",
    "    \n",
    "    # t1_hist\n",
    "    plot_path = '{}/DwSamplerAutoEmbed_{}bit_{}_n100_num100_strength11_t1_hist'.format(num, bit, num)\n",
    "    hist_dic = QDA.y_num_t1_hist(valid_y_info_list, plot_path)\n",
    "    \n",
    "    # p value transition\n",
    "    output_path = '{}/DwSamplerAutoEmbed_{}bit_{}_n100_num100_strength11_p_value_transition'.format(num, bit, num)\n",
    "    valid_y_num, valid_y_list, p_dic = QDA.p_value_transition(valid_y_info_list, output_path)\n",
    "    \n",
    "    # number of y and time\n",
    "    path = '{}/DSampler_AEmbed_{}bit_{}_time_num'.format(num, bit, num)\n",
    "    valid_y_list, valid_y_num_list, time_list = QDA.time_num_y(path)\n",
    "    \n",
    "    # occurance histgram\n",
    "    plot_path = '{}/DwSamplerAutoEmbed_{}bit_{}_n100_num100_strength11_occurance_hist'.format(bit, num)\n",
    "    occurance_list = QDA.occurance_hist(valid_y_info_list, plot_path)"
   ]
  },
  {
   "cell_type": "code",
   "execution_count": null,
   "metadata": {},
   "outputs": [],
   "source": []
  }
 ],
 "metadata": {
  "kernelspec": {
   "display_name": "Python 3",
   "language": "python",
   "name": "python3"
  },
  "language_info": {
   "codemirror_mode": {
    "name": "ipython",
    "version": 3
   },
   "file_extension": ".py",
   "mimetype": "text/x-python",
   "name": "python",
   "nbconvert_exporter": "python",
   "pygments_lexer": "ipython3",
   "version": "3.7.9"
  }
 },
 "nbformat": 4,
 "nbformat_minor": 4
}
