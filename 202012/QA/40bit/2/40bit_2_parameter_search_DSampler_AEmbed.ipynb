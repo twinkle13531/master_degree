{
 "cells": [
  {
   "cell_type": "code",
   "execution_count": 1,
   "metadata": {},
   "outputs": [
    {
     "name": "stdout",
     "output_type": "stream",
     "text": [
      "/Users/shihosato/src/github.com/twinkle13531/master_degree/202012/QA/40bit/2\n"
     ]
    }
   ],
   "source": [
    "!pwd"
   ]
  },
  {
   "cell_type": "code",
   "execution_count": 2,
   "metadata": {},
   "outputs": [],
   "source": [
    "%load_ext autoreload\n",
    "%autoreload 2"
   ]
  },
  {
   "cell_type": "code",
   "execution_count": 3,
   "metadata": {},
   "outputs": [],
   "source": [
    "import sys, os\n",
    "sys.path.append(os.path.join('..', '..'))"
   ]
  },
  {
   "cell_type": "code",
   "execution_count": 4,
   "metadata": {},
   "outputs": [],
   "source": [
    "import QA_DwaveSampler_AutoEmbedding as qda\n",
    "import pandas as pd\n",
    "import numpy as np\n",
    "import timeit"
   ]
  },
  {
   "cell_type": "code",
   "execution_count": 6,
   "metadata": {},
   "outputs": [],
   "source": [
    "#今回のデータ\n",
    "bit = 40\n",
    "num = 2"
   ]
  },
  {
   "cell_type": "code",
   "execution_count": 7,
   "metadata": {},
   "outputs": [],
   "source": [
    "#chain strength\n",
    "# 20bitは11, 25bitは12, 30bitは13, 35bitは24"
   ]
  },
  {
   "cell_type": "code",
   "execution_count": 11,
   "metadata": {},
   "outputs": [
    {
     "name": "stdout",
     "output_type": "stream",
     "text": [
      "3 samplese were made if n=100, num_reads=100 and chain_strength =22\n",
      "4 samplese were made if n=100, num_reads=100 and chain_strength =23\n",
      "2 samplese were made if n=100, num_reads=100 and chain_strength =24\n",
      "2 samplese were made if n=100, num_reads=100 and chain_strength =25\n",
      "2 samplese were made if n=100, num_reads=100 and chain_strength =26\n"
     ]
    }
   ],
   "source": [
    "n = 100\n",
    "num_reads = 100\n",
    "for chain_strength in [22, 23, 24, 25, 26]:#3, 4, 2, 2, 2                                                                          m\n",
    "    path = '../../../input/ost{}_{}.csv'.format(bit, num)\n",
    "    df = pd.read_csv(path, sep=',')\n",
    "    bqm = qda.make_Hamiltonian(df)\n",
    "    time_once = timeit.timeit(\"qda.make_Hamiltonian(df)\", globals=globals(), number=1)\n",
    "    QDA = qda.QA_DSampler_AEmbedding(df, bqm, time_once, n, num_reads, chain_strength)\n",
    "    valid_y_info_list, valid_y_num = QDA.find_valid_y_ntimes()\n",
    "    print('{} samplese were made if n=100, num_reads=100 and chain_strength ={}'.format(valid_y_num, chain_strength))"
   ]
  },
  {
   "cell_type": "code",
   "execution_count": null,
   "metadata": {},
   "outputs": [],
   "source": [
    "n = 100\n",
    "num_reads = 100\n",
    "for chain_strength in [24, 25, 26]:#3, 7, 3\n",
    "    path = '../../../input/ost{}_{}.csv'.format(bit, num)\n",
    "    df = pd.read_csv(path, sep=',')\n",
    "    bqm = qda.make_Hamiltonian(df)\n",
    "    time_once = timeit.timeit(\"qda.make_Hamiltonian(df)\", globals=globals(), number=1)\n",
    "    QDA = qda.QA_DSampler_AEmbedding(df, bqm, time_once, n, num_reads, chain_strength)\n",
    "    valid_y_info_list, valid_y_num = QDA.find_valid_y_ntimes()\n",
    "    print('{} samplese were made if n=100, num_reads=100 and chain_strength ={}'.format(valid_y_num, chain_strength))"
   ]
  },
  {
   "cell_type": "code",
   "execution_count": null,
   "metadata": {},
   "outputs": [],
   "source": [
    "#22-5, *23-4, 24-3, 25-7, 26-3"
   ]
  },
  {
   "cell_type": "code",
   "execution_count": null,
   "metadata": {},
   "outputs": [],
   "source": [
    "#たぶん100, 100が一番いい。"
   ]
  },
  {
   "cell_type": "code",
   "execution_count": null,
   "metadata": {},
   "outputs": [],
   "source": [
    "chain_strength = 21\n",
    "n_numreads_list = [[10, 1000], [100, 100]]#3, 6\n",
    "for n_numreads in n_numreads_list:\n",
    "    path = '../../../input/ost{}_{}.csv'.format(bit, num)\n",
    "    df = pd.read_csv(path, sep=',')\n",
    "    bqm = qda.make_Hamiltonian(df)\n",
    "    time_once = timeit.timeit(\"qda.make_Hamiltonian(df)\", globals=globals(), number=1)\n",
    "    n = n_numreads[0]\n",
    "    num_reads = n_numreads[1]\n",
    "    QDA = qda.QA_DSampler_AEmbedding(df, bqm, time_once, n, num_reads, chain_strength)\n",
    "    valid_y_info_list, valid_y_num = QDA.find_valid_y_ntimes()\n",
    "    print('{} samplese were made if n={}, num_reads={} and chain_strength = {}'.format(valid_y_num, n_numreads[0], n_numreads[1], chain_strength))"
   ]
  },
  {
   "cell_type": "code",
   "execution_count": null,
   "metadata": {},
   "outputs": [],
   "source": [
    "chain_strength = 23\n",
    "n_numreads_list = [[10, 1000], [100, 100]]#1, 8\n",
    "for n_numreads in n_numreads_list:\n",
    "    path = '../../../input/ost{}_{}.csv'.format(bit, num)\n",
    "    df = pd.read_csv(path, sep=',')\n",
    "    bqm = qda.make_Hamiltonian(df)\n",
    "    time_once = timeit.timeit(\"qda.make_Hamiltonian(df)\", globals=globals(), number=1)\n",
    "    n = n_numreads[0]\n",
    "    num_reads = n_numreads[1]\n",
    "    QDA = qda.QA_DSampler_AEmbedding(df, bqm, time_once, n, num_reads, chain_strength)\n",
    "    valid_y_info_list, valid_y_num = QDA.find_valid_y_ntimes()\n",
    "    print('{} samplese were made if n={}, num_reads={} and chain_strength = {}'.format(valid_y_num, n_numreads[0], n_numreads[1], chain_strength))"
   ]
  },
  {
   "cell_type": "code",
   "execution_count": null,
   "metadata": {},
   "outputs": [],
   "source": [
    "chain_strength = 21\n",
    "n_numreads_list = [[1000, 10], [10000, 1]]#5, error\n",
    "for n_numreads in n_numreads_list:\n",
    "    path = '../../../input/ost{}_{}.csv'.format(bit, num)\n",
    "    df = pd.read_csv(path, sep=',')\n",
    "    bqm = qda.make_Hamiltonian(df)\n",
    "    time_once = timeit.timeit(\"qda.make_Hamiltonian(df)\", globals=globals(), number=1)\n",
    "    n = n_numreads[0]\n",
    "    num_reads = n_numreads[1]\n",
    "    QDA = qda.QA_DSampler_AEmbedding(df, bqm, time_once, n, num_reads, chain_strength)\n",
    "    valid_y_info_list, valid_y_num = QDA.find_valid_y_ntimes()\n",
    "    print('{} samplese were made if n={}, num_reads={} and chain_strength = {}'.format(valid_y_num, n_numreads[0], n_numreads[1], chain_strength))"
   ]
  },
  {
   "cell_type": "code",
   "execution_count": null,
   "metadata": {
    "collapsed": true,
    "jupyter": {
     "outputs_hidden": true
    }
   },
   "outputs": [],
   "source": [
    "chain_strength = 21\n",
    "n_numreads_list = [[10000, 1]]#error\n",
    "for n_numreads in n_numreads_list:\n",
    "    path = '../../../input/ost{}_{}.csv'.format(bit, num)\n",
    "    df = pd.read_csv(path, sep=',')\n",
    "    bqm = qda.make_Hamiltonian(df)\n",
    "    time_once = timeit.timeit(\"qda.make_Hamiltonian(df)\", globals=globals(), number=1)\n",
    "    n = n_numreads[0]\n",
    "    num_reads = n_numreads[1]\n",
    "    QDA = qda.QA_DSampler_AEmbedding(df, bqm, time_once, n, num_reads, chain_strength)\n",
    "    valid_y_info_list, valid_y_num = QDA.find_valid_y_ntimes()\n",
    "    print('{} samplese were made if n={}, num_reads={} and chain_strength = {}'.format(valid_y_num, n_numreads[0], n_numreads[1], chain_strength))\n",
    "\n",
    "chain_strength = 23\n",
    "n_numreads_list = [[1000, 10]]#無理\n",
    "for n_numreads in n_numreads_list:\n",
    "    path = '../../../input/ost{}_{}.csv'.format(bit, num)\n",
    "    df = pd.read_csv(path, sep=',')\n",
    "    bqm = qda.make_Hamiltonian(df)\n",
    "    time_once = timeit.timeit(\"qda.make_Hamiltonian(df)\", globals=globals(), number=1)\n",
    "    n = n_numreads[0]\n",
    "    num_reads = n_numreads[1]\n",
    "    QDA = qda.QA_DSampler_AEmbedding(df, bqm, time_once, n, num_reads, chain_strength)\n",
    "    valid_y_info_list, valid_y_num = QDA.find_valid_y_ntimes()\n",
    "    print('{} samplese were made if n={}, num_reads={} and chain_strength = {}'.format(valid_y_num, n_numreads[0], n_numreads[1], chain_strength))"
   ]
  },
  {
   "cell_type": "code",
   "execution_count": null,
   "metadata": {},
   "outputs": [],
   "source": [
    "chain_strength = 23\n",
    "n_numreads_list = [[10000, 1]]#多分できないので実行しない\n",
    "for n_numreads in n_numreads_list:\n",
    "    path = '../../../input/ost{}_{}.csv'.format(bit, num)\n",
    "    df = pd.read_csv(path, sep=',')\n",
    "    bqm = qda.make_Hamiltonian(df)\n",
    "    time_once = timeit.timeit(\"qda.make_Hamiltonian(df)\", globals=globals(), number=1)\n",
    "    n = n_numreads[0]\n",
    "    num_reads = n_numreads[1]\n",
    "    QDA = qda.QA_DSampler_AEmbedding(df, bqm, time_once, n, num_reads, chain_strength)\n",
    "    valid_y_info_list, valid_y_num = QDA.find_valid_y_ntimes()\n",
    "    print('{} samplese were made if n={}, num_reads={} and chain_strength = {}'.format(valid_y_num, n_numreads[0], n_numreads[1], chain_strength))"
   ]
  },
  {
   "cell_type": "code",
   "execution_count": 21,
   "metadata": {},
   "outputs": [],
   "source": [
    "#最終確認\n",
    "path = '../../../input/ost{}_{}.csv'.format(bit, num)\n",
    "df = pd.read_csv(path, sep=',')\n",
    "bqm = qda.make_Hamiltonian(df)\n",
    "time_once = timeit.timeit(\"qda.make_Hamiltonian(df)\", globals=globals(), number=1)\n",
    "n = 100\n",
    "num_reads = 100\n",
    "chain_strength = 23\n",
    "QDA = qda.QA_DSampler_AEmbedding(df, bqm, time_once, n, num_reads, chain_strength)\n",
    "valid_y_info_list, valid_y_num = QDA.find_valid_y_ntimes()"
   ]
  },
  {
   "cell_type": "code",
   "execution_count": 22,
   "metadata": {},
   "outputs": [
    {
     "name": "stdout",
     "output_type": "stream",
     "text": [
      "[[0, 1, 1, 0, 1, 0, 0, 0, 1, 1, 0, 1, 1, 1, 1, 1, 1, 1, 1, 1, 1, 1, 0, 0, 1, 0, 1, 1, 0, 1, 0, 0, 0, 1, 1, 0, 1, 1, 0, 1], 0.0, 1, 0.0]\n"
     ]
    }
   ],
   "source": [
    "for valid_y_info in valid_y_info_list:\n",
    "    print(valid_y_info)"
   ]
  },
  {
   "cell_type": "code",
   "execution_count": null,
   "metadata": {},
   "outputs": [],
   "source": [
    "## 結果が安定しない..."
   ]
  },
  {
   "cell_type": "code",
   "execution_count": null,
   "metadata": {},
   "outputs": [],
   "source": []
  },
  {
   "cell_type": "code",
   "execution_count": null,
   "metadata": {},
   "outputs": [],
   "source": []
  }
 ],
 "metadata": {
  "kernelspec": {
   "display_name": "Python 3",
   "language": "python",
   "name": "python3"
  },
  "language_info": {
   "codemirror_mode": {
    "name": "ipython",
    "version": 3
   },
   "file_extension": ".py",
   "mimetype": "text/x-python",
   "name": "python",
   "nbconvert_exporter": "python",
   "pygments_lexer": "ipython3",
   "version": "3.7.9"
  }
 },
 "nbformat": 4,
 "nbformat_minor": 4
}
