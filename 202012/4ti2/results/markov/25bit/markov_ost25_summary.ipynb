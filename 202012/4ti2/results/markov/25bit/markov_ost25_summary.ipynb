{
 "cells": [
  {
   "cell_type": "code",
   "execution_count": 14,
   "metadata": {
    "scrolled": true
   },
   "outputs": [
    {
     "name": "stdout",
     "output_type": "stream",
     "text": [
      "/Users/shihosato/src/github.com/twinkle13531/master_degree/202012/4ti2/results/markov/25bit\n"
     ]
    }
   ],
   "source": [
    "!pwd"
   ]
  },
  {
   "cell_type": "code",
   "execution_count": 15,
   "metadata": {},
   "outputs": [
    {
     "name": "stdout",
     "output_type": "stream",
     "text": [
      "The autoreload extension is already loaded. To reload it, use:\n",
      "  %reload_ext autoreload\n"
     ]
    }
   ],
   "source": [
    "%load_ext autoreload\n",
    "%autoreload 2"
   ]
  },
  {
   "cell_type": "code",
   "execution_count": 16,
   "metadata": {},
   "outputs": [],
   "source": [
    "import sys, os\n",
    "sys.path.append(os.path.join('..', '..', '..', 'functions'))"
   ]
  },
  {
   "cell_type": "code",
   "execution_count": 17,
   "metadata": {},
   "outputs": [],
   "source": [
    "import pandas as pd\n",
    "import numpy as np\n",
    "import markov_basis_make_samples as mbms "
   ]
  },
  {
   "cell_type": "markdown",
   "metadata": {},
   "source": [
    "### 25bit"
   ]
  },
  {
   "cell_type": "code",
   "execution_count": 18,
   "metadata": {},
   "outputs": [],
   "source": [
    "bit = 25"
   ]
  },
  {
   "cell_type": "markdown",
   "metadata": {},
   "source": [
    "## random method"
   ]
  },
  {
   "cell_type": "code",
   "execution_count": 20,
   "metadata": {},
   "outputs": [
    {
     "name": "stdout",
     "output_type": "stream",
     "text": [
      "20bit_ 0  data can make  2903 samples using markov basis and random method\n",
      "20bit_ 1  data can make  1639 samples using markov basis and random method\n",
      "20bit_ 2  data can make  4056 samples using markov basis and random method\n",
      "20bit_ 3  data can make  3238 samples using markov basis and random method\n",
      "20bit_ 4  data can make  297 samples using markov basis and random method\n"
     ]
    }
   ],
   "source": [
    "for num in [0, 1, 2, 3, 4]:\n",
    "    df_path = '../../../../input/ost{}_{}.csv'.format(bit, num)\n",
    "    df = pd.read_csv(df_path, sep=',')\n",
    "    matmar_path = '../../../{}bit/{}/{}bit_{}.mat.mar'.format(bit, num, bit, num)\n",
    "    result_list = mbms.make_result_list(matmar_path)\n",
    "    ms = mbms.make_samples_using_markov_basis(df, matmar_path, result_list)\n",
    "    print('20bit_', num, ' data can make ', len(ms.random(10000)), 'samples using markov basis and random method')"
   ]
  },
  {
   "cell_type": "code",
   "execution_count": 37,
   "metadata": {},
   "outputs": [
    {
     "name": "stdout",
     "output_type": "stream",
     "text": [
      "i knew that 20bit data can make  2426.6 in average samples using markov basis and random method.\n"
     ]
    }
   ],
   "source": [
    "print('i knew that 20bit data can make ', (2903+1639+4056+3238+297)/5, 'in average samples using markov basis and random method.')"
   ]
  },
  {
   "cell_type": "code",
   "execution_count": 22,
   "metadata": {},
   "outputs": [
    {
     "data": {
      "image/png": "[encoded data removed]",
      "text/plain": [
       "<Figure size 432x288 with 1 Axes>"
      ]
     },
     "metadata": {
      "needs_background": "light"
     },
     "output_type": "display_data"
    },
    {
     "data": {
      "image/png": "[encoded data removed]",
      "text/plain": [
       "<Figure size 432x288 with 1 Axes>"
      ]
     },
     "metadata": {
      "needs_background": "light"
     },
     "output_type": "display_data"
    },
    {
     "data": {
      "image/png": "[encoded data removed]",
      "text/plain": [
       "<Figure size 432x288 with 1 Axes>"
      ]
     },
     "metadata": {
      "needs_background": "light"
     },
     "output_type": "display_data"
    },
    {
     "data": {
      "image/png": "[encoded data removed]",
      "text/plain": [
       "<Figure size 432x288 with 1 Axes>"
      ]
     },
     "metadata": {
      "needs_background": "light"
     },
     "output_type": "display_data"
    },
    {
     "data": {
      "image/png": "[encoded data removed]",
      "text/plain": [
       "<Figure size 432x288 with 1 Axes>"
      ]
     },
     "metadata": {
      "needs_background": "light"
     },
     "output_type": "display_data"
    }
   ],
   "source": [
    "for num in [0, 1, 2, 3, 4]:\n",
    "    df_path = '../../../../input/ost{}_{}.csv'.format(bit, num)\n",
    "    df = pd.read_csv(df_path, sep=',')\n",
    "    matmar_path = '../../../{}bit/{}/{}bit_{}.mat.mar'.format(bit, num, bit, num)\n",
    "    result_list = mbms.make_result_list(matmar_path)\n",
    "    ms = mbms.make_samples_using_markov_basis(df, matmar_path, result_list)\n",
    "    plot_path = \"{}/random_10000_t_num\".format(num)\n",
    "    hist_dic = mbms.y_num_t1_hist(df, ms.random(10000), plot_path)"
   ]
  },
  {
   "cell_type": "code",
   "execution_count": 23,
   "metadata": {},
   "outputs": [
    {
     "name": "stdout",
     "output_type": "stream",
     "text": [
      "p values is 0.0929188255613126 when i use 20bit_ 0  data markov basis and random method\n",
      "p values is 0.1275064267352185 when i use 20bit_ 1  data markov basis and random method\n",
      "p values is 0.11182424092816588 when i use 20bit_ 2  data markov basis and random method\n",
      "p values is 0.7467889908256881 when i use 20bit_ 3  data markov basis and random method\n",
      "p values is 0.1264559068219634 when i use 20bit_ 4  data markov basis and random method\n"
     ]
    }
   ],
   "source": [
    "for num in [0, 1, 2, 3, 4]:\n",
    "    df_path = '../../../../input/ost{}_{}.csv'.format(bit, num)\n",
    "    df = pd.read_csv(df_path, sep=',')\n",
    "    matmar_path = '../../../{}bit/{}/{}bit_{}.mat.mar'.format(bit, num, bit, num)\n",
    "    result_list = mbms.make_result_list(matmar_path)\n",
    "    ms = mbms.make_samples_using_markov_basis(df, matmar_path, result_list)\n",
    "    print('p values is',mbms.p_value(df, ms.random(10000)) , 'when i use 20bit_', num, ' data markov basis and random method')"
   ]
  },
  {
   "cell_type": "code",
   "execution_count": 35,
   "metadata": {},
   "outputs": [
    {
     "name": "stdout",
     "output_type": "stream",
     "text": [
      "i knew that mean p values of 20bit dat is 0.2410988781744697 when i use markov basis and random method.\n"
     ]
    }
   ],
   "source": [
    "mean_p = (0.0929188255613126 + 0.1275064267352185 + 0.11182424092816588 + 0.7467889908256881 + 0.1264559068219634)/5\n",
    "print('i knew that mean p values of 20bit dat is', mean_p, 'when i use markov basis and random method.')"
   ]
  },
  {
   "cell_type": "markdown",
   "metadata": {},
   "source": [
    "## SA"
   ]
  },
  {
   "cell_type": "code",
   "execution_count": 25,
   "metadata": {},
   "outputs": [
    {
     "name": "stdout",
     "output_type": "stream",
     "text": [
      "20bit_ 0  data can make  1568 samples using markov basis and SA\n",
      "20bit_ 1  data can make  1247 samples using markov basis and SA\n",
      "20bit_ 2  data can make  2102 samples using markov basis and SA\n",
      "20bit_ 3  data can make  1791 samples using markov basis and SA\n",
      "20bit_ 4  data can make  527 samples using markov basis and SA\n"
     ]
    }
   ],
   "source": [
    "for num in [0, 1, 2, 3, 4]:\n",
    "    df_path = '../../../../input/ost{}_{}.csv'.format(bit, num)\n",
    "    df = pd.read_csv(df_path, sep=',')\n",
    "    matmar_path = '../../../{}bit/{}/{}bit_{}.mat.mar'.format(bit, num, bit, num)\n",
    "    result_list = mbms.make_result_list(matmar_path)\n",
    "    ms = mbms.make_samples_using_markov_basis(df, matmar_path, result_list)\n",
    "    E_list, valid_y = ms.SA(10000)\n",
    "    print('20bit_', num, ' data can make ', len(valid_y), 'samples using markov basis and SA')"
   ]
  },
  {
   "cell_type": "code",
   "execution_count": 32,
   "metadata": {},
   "outputs": [
    {
     "name": "stdout",
     "output_type": "stream",
     "text": [
      "i knew that 20bit data can make  1447.0 samples using markov basis and SA.\n"
     ]
    }
   ],
   "source": [
    "print('i knew that 20bit data can make ', (1568+1247+2102+1791+527)/5, 'samples using markov basis and SA.')"
   ]
  },
  {
   "cell_type": "code",
   "execution_count": 27,
   "metadata": {},
   "outputs": [
    {
     "data": {
      "image/png": "[encoded data removed]",
      "text/plain": [
       "<Figure size 432x288 with 1 Axes>"
      ]
     },
     "metadata": {
      "needs_background": "light"
     },
     "output_type": "display_data"
    },
    {
     "data": {
      "image/png": "[encoded data removed]",
      "text/plain": [
       "<Figure size 432x288 with 1 Axes>"
      ]
     },
     "metadata": {
      "needs_background": "light"
     },
     "output_type": "display_data"
    },
    {
     "data": {
      "image/png": "[encoded data removed]",
      "text/plain": [
       "<Figure size 432x288 with 1 Axes>"
      ]
     },
     "metadata": {
      "needs_background": "light"
     },
     "output_type": "display_data"
    },
    {
     "data": {
      "image/png": "[encoded data removed]",
      "text/plain": [
       "<Figure size 432x288 with 1 Axes>"
      ]
     },
     "metadata": {
      "needs_background": "light"
     },
     "output_type": "display_data"
    },
    {
     "data": {
      "image/png": "[encoded data removed]",
      "text/plain": [
       "<Figure size 432x288 with 1 Axes>"
      ]
     },
     "metadata": {
      "needs_background": "light"
     },
     "output_type": "display_data"
    }
   ],
   "source": [
    "for num in [0, 1, 2, 3, 4]:\n",
    "    df_path = '../../../../input/ost{}_{}.csv'.format(bit, num)\n",
    "    df = pd.read_csv(df_path, sep=',')\n",
    "    matmar_path = '../../../{}bit/{}/{}bit_{}.mat.mar'.format(bit, num, bit, num)\n",
    "    result_list = mbms.make_result_list(matmar_path)\n",
    "    ms = mbms.make_samples_using_markov_basis(df, matmar_path, result_list)\n",
    "    plot_path = \"{}/SA_10000_t_num\".format(num)\n",
    "    E_list, valid_y = ms.SA(10000)\n",
    "    hist_dic = mbms.y_num_t1_hist(df, valid_y, plot_path)"
   ]
  },
  {
   "cell_type": "code",
   "execution_count": 28,
   "metadata": {},
   "outputs": [
    {
     "name": "stdout",
     "output_type": "stream",
     "text": [
      "p values is 0.09652002626395273 when i use 20bit_ 0  data markov basis and SA\n",
      "p values is 0.10817120622568094 when i use 20bit_ 1  data markov basis and SA\n",
      "p values is 0.10714285714285714 when i use 20bit_ 2  data markov basis and SA\n",
      "p values is 0.7197013210798392 when i use 20bit_ 3  data markov basis and SA\n",
      "p values is 0.13665943600867678 when i use 20bit_ 4  data markov basis and SA\n"
     ]
    }
   ],
   "source": [
    "for num in [0, 1, 2, 3, 4]:\n",
    "    df_path = '../../../../input/ost{}_{}.csv'.format(bit, num)\n",
    "    df = pd.read_csv(df_path, sep=',')\n",
    "    matmar_path = '../../../{}bit/{}/{}bit_{}.mat.mar'.format(bit, num, bit, num)\n",
    "    result_list = mbms.make_result_list(matmar_path)\n",
    "    ms = mbms.make_samples_using_markov_basis(df, matmar_path, result_list)\n",
    "    E_list, valid_y = ms.SA(10000)\n",
    "    print('p values is',mbms.p_value(df, valid_y) , 'when i use 20bit_', num, ' data markov basis and SA')"
   ]
  },
  {
   "cell_type": "code",
   "execution_count": 36,
   "metadata": {},
   "outputs": [
    {
     "name": "stdout",
     "output_type": "stream",
     "text": [
      "i knew that mean p values of 20bit dat is 0.23363896934420136 when i use markov basis and SA.\n"
     ]
    }
   ],
   "source": [
    "mean_p = (0.09652002626395273 + 0.10817120622568094 + 0.10714285714285714 + 0.7197013210798392 + 0.13665943600867678)/5\n",
    "print('i knew that mean p values of 20bit dat is', mean_p, 'when i use markov basis and SA.')"
   ]
  },
  {
   "cell_type": "code",
   "execution_count": null,
   "metadata": {},
   "outputs": [],
   "source": []
  }
 ],
 "metadata": {
  "kernelspec": {
   "display_name": "Python 3",
   "language": "python",
   "name": "python3"
  },
  "language_info": {
   "codemirror_mode": {
    "name": "ipython",
    "version": 3
   },
   "file_extension": ".py",
   "mimetype": "text/x-python",
   "name": "python",
   "nbconvert_exporter": "python",
   "pygments_lexer": "ipython3",
   "version": "3.7.9"
  }
 },
 "nbformat": 4,
 "nbformat_minor": 4
}
