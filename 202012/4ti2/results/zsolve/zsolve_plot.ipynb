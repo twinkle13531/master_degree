{
 "cells": [
  {
   "cell_type": "code",
   "execution_count": 1,
   "metadata": {},
   "outputs": [
    {
     "name": "stdout",
     "output_type": "stream",
     "text": [
      "/Users/shihosato/src/github.com/twinkle13531/master_degree/202012/4ti2/results/zsolve\n"
     ]
    }
   ],
   "source": [
    "!pwd"
   ]
  },
  {
   "cell_type": "code",
   "execution_count": 2,
   "metadata": {},
   "outputs": [],
   "source": [
    "%load_ext autoreload\n",
    "%autoreload 2"
   ]
  },
  {
   "cell_type": "code",
   "execution_count": 3,
   "metadata": {},
   "outputs": [],
   "source": [
    "import sys, os\n",
    "sys.path.append(os.path.join('..', '..', 'functions'))"
   ]
  },
  {
   "cell_type": "code",
   "execution_count": 4,
   "metadata": {},
   "outputs": [],
   "source": [
    "import zsolve_t1 as zt\n",
    "import pandas as pd\n",
    "import numpy as np"
   ]
  },
  {
   "cell_type": "code",
   "execution_count": 10,
   "metadata": {},
   "outputs": [
    {
     "data": {
      "image/png": "[encoded data removed]",
      "text/plain": [
       "<Figure size 432x288 with 1 Axes>"
      ]
     },
     "metadata": {
      "needs_background": "light"
     },
     "output_type": "display_data"
    },
    {
     "name": "stdout",
     "output_type": "stream",
     "text": [
      "0.22959183673469388\n"
     ]
    }
   ],
   "source": [
    "for bit in [20]:\n",
    "    for num in [0]:\n",
    "        zinhom_path = '../../{}bit/{}/{}bit_{}.zinhom'.format(bit, num, bit, num)\n",
    "        zinhom_num, zinhom_list = zt.make_result_list(zinhom_path)\n",
    "        path = \"../../../input/ost{}_{}.csv\".format(bit, num)\n",
    "        df = pd.read_csv(path, sep=',')\n",
    "        zrs = zt.zsolve_result_summerize(df, zinhom_list)\n",
    "        \n",
    "        output_path = '{}bit_{}_zsolve_result'.format(bit, num)\n",
    "        hist_dic = zrs.y_num_hist(output_path)\n",
    "        \n",
    "        print(zrs.calucurate_p())"
   ]
  },
  {
   "cell_type": "code",
   "execution_count": 11,
   "metadata": {},
   "outputs": [
    {
     "data": {
      "text/plain": [
       "16464"
      ]
     },
     "execution_count": 11,
     "metadata": {},
     "output_type": "execute_result"
    }
   ],
   "source": [
    "zinhom_num"
   ]
  },
  {
   "cell_type": "code",
   "execution_count": 12,
   "metadata": {},
   "outputs": [
    {
     "data": {
      "text/plain": [
       "16464"
      ]
     },
     "execution_count": 12,
     "metadata": {},
     "output_type": "execute_result"
    }
   ],
   "source": [
    "len(zinhom_list)"
   ]
  },
  {
   "cell_type": "code",
   "execution_count": null,
   "metadata": {},
   "outputs": [],
   "source": []
  },
  {
   "cell_type": "code",
   "execution_count": null,
   "metadata": {},
   "outputs": [],
   "source": [
    "for bit in [20, 25]:\n",
    "    for num in [0, 1, 2, 3, 4]:\n",
    "        zinhom_path = '../../{}bit/{}/{}bit_{}.zinhom'.format(bit, num, bit, num)\n",
    "        zinhom_num, zinhom_list = zt.make_result_list(zinhom_path)\n",
    "        path = \"../../../input/ost{}_{}.csv\".format(bit, num)\n",
    "        df = pd.read_csv(path, sep=',')\n",
    "        zrs = zt.zsolve_result_summerize(df, zinhom_list)\n",
    "        \n",
    "        output_path = '{}bit_{}_zsolve_y_num_hist.png'.format(bit, num)\n",
    "        hist_dic = zrs.y_num_hist(output_path)"
   ]
  },
  {
   "cell_type": "code",
   "execution_count": null,
   "metadata": {},
   "outputs": [],
   "source": [
    "for bit in [30]:\n",
    "    for num in [0]:\n",
    "        zinhom_path = '../../{}bit/{}/{}bit_{}.zinhom'.format(bit, num, bit, num)\n",
    "        zinhom_num, zinhom_list = zt.make_result_list(zinhom_path)\n",
    "        path = \"../../../input/ost{}_{}.csv\".format(bit, num)\n",
    "        df = pd.read_csv(path, sep=',')\n",
    "        zrs = zt.zsolve_result_summerize(df, zinhom_list)\n",
    "        \n",
    "        output_path = '{}bit_{}_zsolve_y_num_hist.png'.format(bit, num)\n",
    "        hist_dic = zrs.y_num_hist(output_path)"
   ]
  },
  {
   "cell_type": "code",
   "execution_count": null,
   "metadata": {},
   "outputs": [],
   "source": []
  },
  {
   "cell_type": "code",
   "execution_count": null,
   "metadata": {},
   "outputs": [],
   "source": []
  },
  {
   "cell_type": "code",
   "execution_count": null,
   "metadata": {},
   "outputs": [],
   "source": []
  },
  {
   "cell_type": "code",
   "execution_count": null,
   "metadata": {},
   "outputs": [],
   "source": []
  },
  {
   "cell_type": "code",
   "execution_count": null,
   "metadata": {},
   "outputs": [],
   "source": [
    "for bit in [20]:\n",
    "    for num in [0]:\n",
    "        zinhom_path = '../../{}bit/{}/{}bit_{}.zinhom'.format(bit, num, bit, num)\n",
    "        zinhom_num, zinhom_list = zt.make_result_list(zinhom_path)\n",
    "        y_num_hist(output_path)"
   ]
  },
  {
   "cell_type": "code",
   "execution_count": 5,
   "metadata": {},
   "outputs": [
    {
     "name": "stdout",
     "output_type": "stream",
     "text": [
      "20 1\n"
     ]
    },
    {
     "data": {
      "image/png": "[encoded data removed]",
      "text/plain": [
       "<Figure size 432x288 with 1 Axes>"
      ]
     },
     "metadata": {
      "needs_background": "light"
     },
     "output_type": "display_data"
    },
    {
     "name": "stdout",
     "output_type": "stream",
     "text": [
      "20 2\n"
     ]
    },
    {
     "data": {
      "image/png": "[encoded data removed]",
      "text/plain": [
       "<Figure size 432x288 with 1 Axes>"
      ]
     },
     "metadata": {
      "needs_background": "light"
     },
     "output_type": "display_data"
    },
    {
     "name": "stdout",
     "output_type": "stream",
     "text": [
      "20 3\n"
     ]
    },
    {
     "data": {
      "image/png": "[encoded data removed]",
      "text/plain": [
       "<Figure size 432x288 with 1 Axes>"
      ]
     },
     "metadata": {
      "needs_background": "light"
     },
     "output_type": "display_data"
    },
    {
     "name": "stdout",
     "output_type": "stream",
     "text": [
      "20 4\n"
     ]
    },
    {
     "data": {
      "image/png": "[encoded data removed]",
      "text/plain": [
       "<Figure size 432x288 with 1 Axes>"
      ]
     },
     "metadata": {
      "needs_background": "light"
     },
     "output_type": "display_data"
    },
    {
     "name": "stdout",
     "output_type": "stream",
     "text": [
      "25 1\n"
     ]
    },
    {
     "data": {
      "image/png": "[encoded data removed]",
      "text/plain": [
       "<Figure size 432x288 with 1 Axes>"
      ]
     },
     "metadata": {
      "needs_background": "light"
     },
     "output_type": "display_data"
    },
    {
     "name": "stdout",
     "output_type": "stream",
     "text": [
      "25 2\n"
     ]
    },
    {
     "data": {
      "image/png": "[encoded data removed]",
      "text/plain": [
       "<Figure size 432x288 with 1 Axes>"
      ]
     },
     "metadata": {
      "needs_background": "light"
     },
     "output_type": "display_data"
    },
    {
     "name": "stdout",
     "output_type": "stream",
     "text": [
      "25 3\n"
     ]
    },
    {
     "data": {
      "image/png": "[encoded data removed]",
      "text/plain": [
       "<Figure size 432x288 with 1 Axes>"
      ]
     },
     "metadata": {
      "needs_background": "light"
     },
     "output_type": "display_data"
    },
    {
     "name": "stdout",
     "output_type": "stream",
     "text": [
      "25 4\n"
     ]
    },
    {
     "data": {
      "image/png": "[encoded data removed]",
      "text/plain": [
       "<Figure size 432x288 with 1 Axes>"
      ]
     },
     "metadata": {
      "needs_background": "light"
     },
     "output_type": "display_data"
    }
   ],
   "source": [
    "for bit in [20, 25]:\n",
    "    for num in [0, 1, 2, 3, 4]:\n",
    "        print(bit, num)\n",
    "        zinhom_path = '../../{}bit/{}/{}bit_{}.zinhom'.format(bit, num, bit, num)\n",
    "        zinhom_num, zinhom_list = zt.make_result_list(zinhom_path)\n",
    "\n",
    "        path = \"../../../input/ost{}_{}.csv\".format(bit, num)\n",
    "        df = pd.read_csv(path, sep=',')\n",
    "        \n",
    "        zrs = zt.zsolve_result_summerize(df, zinhom_list)\n",
    "        output_path = '../zsolve/{}bit_{}_zsolve_result'.format(bit, num)\n",
    "        hist_dic = zrs.y_num_hist(output_path)"
   ]
  },
  {
   "cell_type": "code",
   "execution_count": 16,
   "metadata": {},
   "outputs": [
    {
     "name": "stdout",
     "output_type": "stream",
     "text": [
      "30 0\n"
     ]
    },
    {
     "data": {
      "image/png": "[encoded data removed]",
      "text/plain": [
       "<Figure size 432x288 with 1 Axes>"
      ]
     },
     "metadata": {
      "needs_background": "light"
     },
     "output_type": "display_data"
    },
    {
     "name": "stdout",
     "output_type": "stream",
     "text": [
      "30 1\n"
     ]
    },
    {
     "data": {
      "image/png": "[encoded data removed]",
      "text/plain": [
       "<Figure size 432x288 with 1 Axes>"
      ]
     },
     "metadata": {
      "needs_background": "light"
     },
     "output_type": "display_data"
    },
    {
     "name": "stdout",
     "output_type": "stream",
     "text": [
      "30 2\n"
     ]
    },
    {
     "data": {
      "image/png": "[encoded data removed]",
      "text/plain": [
       "<Figure size 432x288 with 1 Axes>"
      ]
     },
     "metadata": {
      "needs_background": "light"
     },
     "output_type": "display_data"
    },
    {
     "name": "stdout",
     "output_type": "stream",
     "text": [
      "30 3\n"
     ]
    },
    {
     "data": {
      "image/png": "[encoded data removed]",
      "text/plain": [
       "<Figure size 432x288 with 1 Axes>"
      ]
     },
     "metadata": {
      "needs_background": "light"
     },
     "output_type": "display_data"
    }
   ],
   "source": [
    "for bit in [30]:\n",
    "    for num in [0, 1, 2, 3]:\n",
    "        print(bit, num)\n",
    "        zinhom_path = '../../{}bit/{}/{}bit_{}.zinhom'.format(bit, num, bit, num)\n",
    "        zinhom_num, zinhom_list = zt.make_result_list(zinhom_path)\n",
    "\n",
    "        path = \"../../../input/ost{}_{}.csv\".format(bit, num)\n",
    "        df = pd.read_csv(path, sep=',')\n",
    "        \n",
    "        zrs = zt.zsolve_result_summerize(df, zinhom_list)\n",
    "        output_path = '../zsolve/{}bit_{}_zsolve_result'.format(bit, num)\n",
    "        hist_dic = zrs.y_num_hist(output_path)"
   ]
  },
  {
   "cell_type": "code",
   "execution_count": null,
   "metadata": {},
   "outputs": [],
   "source": []
  }
 ],
 "metadata": {
  "kernelspec": {
   "display_name": "Python 3",
   "language": "python",
   "name": "python3"
  },
  "language_info": {
   "codemirror_mode": {
    "name": "ipython",
    "version": 3
   },
   "file_extension": ".py",
   "mimetype": "text/x-python",
   "name": "python",
   "nbconvert_exporter": "python",
   "pygments_lexer": "ipython3",
   "version": "3.7.9"
  }
 },
 "nbformat": 4,
 "nbformat_minor": 4
}
