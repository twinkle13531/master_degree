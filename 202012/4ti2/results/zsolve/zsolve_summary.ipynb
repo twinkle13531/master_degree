{
 "cells": [
  {
   "cell_type": "code",
   "execution_count": 19,
   "metadata": {},
   "outputs": [
    {
     "name": "stdout",
     "output_type": "stream",
     "text": [
      "/Users/shihosato/src/github.com/twinkle13531/master_degree/202012/4ti2/results/zsolve\n"
     ]
    }
   ],
   "source": [
    "!pwd"
   ]
  },
  {
   "cell_type": "code",
   "execution_count": 20,
   "metadata": {},
   "outputs": [
    {
     "name": "stdout",
     "output_type": "stream",
     "text": [
      "The autoreload extension is already loaded. To reload it, use:\n",
      "  %reload_ext autoreload\n"
     ]
    }
   ],
   "source": [
    "%load_ext autoreload\n",
    "%autoreload 2"
   ]
  },
  {
   "cell_type": "code",
   "execution_count": 21,
   "metadata": {},
   "outputs": [],
   "source": [
    "import sys, os\n",
    "sys.path.append(os.path.join('..', '..', 'functions'))"
   ]
  },
  {
   "cell_type": "code",
   "execution_count": 22,
   "metadata": {},
   "outputs": [],
   "source": [
    "import zsolve_t1 as zt\n",
    "import pandas as pd\n",
    "import numpy as np"
   ]
  },
  {
   "cell_type": "code",
   "execution_count": 69,
   "metadata": {},
   "outputs": [],
   "source": [
    "bit = 20\n",
    "num = 0"
   ]
  },
  {
   "cell_type": "code",
   "execution_count": 70,
   "metadata": {},
   "outputs": [
    {
     "name": "stdout",
     "output_type": "stream",
     "text": [
      "16464\n"
     ]
    },
    {
     "data": {
      "image/png": "[encoded data removed]",
      "text/plain": [
       "<Figure size 432x288 with 1 Axes>"
      ]
     },
     "metadata": {
      "needs_background": "light"
     },
     "output_type": "display_data"
    }
   ],
   "source": [
    "zinhom_path = '../../{}bit/{}/{}bit_{}.zinhom'.format(bit, num, bit, num)\n",
    "zinhom_num, zinhom_list = zt.make_result_list(zinhom_path)\n",
    "\n",
    "path = \"../../../input/ost{}_{}.csv\".format(bit, num)\n",
    "df = pd.read_csv(path, sep=',')\n",
    "output_path = '../zsolve/{}bit_{}_zsolve_result'.format(bit, num)\n",
    "hist_dic = zt.y_num_hist_all_t1(df, zinhom_list, output_path)"
   ]
  },
  {
   "cell_type": "code",
   "execution_count": 71,
   "metadata": {},
   "outputs": [
    {
     "data": {
      "image/png": "[encoded data removed]",
      "text/plain": [
       "<Figure size 432x288 with 1 Axes>"
      ]
     },
     "metadata": {
      "needs_background": "light"
     },
     "output_type": "display_data"
    }
   ],
   "source": [
    "hist_dic = zt.y_num_hist(df, zinhom_list, output_path)"
   ]
  },
  {
   "cell_type": "code",
   "execution_count": null,
   "metadata": {},
   "outputs": [],
   "source": []
  },
  {
   "cell_type": "markdown",
   "metadata": {},
   "source": [
    "## 20bitまとめ"
   ]
  },
  {
   "cell_type": "code",
   "execution_count": 23,
   "metadata": {},
   "outputs": [],
   "source": [
    "bit = 20"
   ]
  },
  {
   "cell_type": "code",
   "execution_count": 24,
   "metadata": {},
   "outputs": [
    {
     "name": "stdout",
     "output_type": "stream",
     "text": [
      "mean time is 1.1380000000000001\n"
     ]
    }
   ],
   "source": [
    "## 時間の平均 \n",
    "### .zinhomを見るしか無い\n",
    "\n",
    "time_list = [4.78, 0.23, 0.47, 0.13, 0.08]#0, 1, 2, 3, 4\n",
    "print('mean time is', sum(time_list)/len(time_list))"
   ]
  },
  {
   "cell_type": "code",
   "execution_count": 25,
   "metadata": {},
   "outputs": [
    {
     "name": "stdout",
     "output_type": "stream",
     "text": [
      "p_list = [0.22959183673469388, 0.4166666666666667, 0.47619047619047616, 0.5416666666666666, 0.2922077922077922]\n",
      "p value mean is 0.3912646876932591\n",
      "num_sample_list = [16464, 2940, 1050, 2640, 2464]\n",
      "number of sample mean is 5111.6\n"
     ]
    }
   ],
   "source": [
    "## p値の平均\n",
    "## 出力サンプル数の平均\n",
    "p_list = []\n",
    "num_sample_list = []\n",
    "for num in [0, 1, 2, 3, 4]:\n",
    "    path = \"../../../input/ost{}_{}.csv\".format(bit, num)\n",
    "    df = pd.read_csv(path, sep=',')\n",
    "    zinhom_path = '../../{}bit/{}/{}bit_{}.zinhom'.format(bit, num, bit, num)\n",
    "    zinhom_num, zinhom_list = zt.make_result_list(zinhom_path)\n",
    "    p, num_sample = zt.calucurate_p(df, zinhom_list)\n",
    "    p_list.append(p)\n",
    "    num_sample_list.append(num_sample)\n",
    "print('p_list =', p_list)\n",
    "print('p value mean is', sum(p_list)/len(p_list))\n",
    "print('num_sample_list =', num_sample_list)\n",
    "print('number of sample mean is', sum(num_sample_list)/len(num_sample_list))"
   ]
  },
  {
   "cell_type": "code",
   "execution_count": null,
   "metadata": {},
   "outputs": [],
   "source": []
  },
  {
   "cell_type": "markdown",
   "metadata": {},
   "source": [
    "## 25bitまとめ"
   ]
  },
  {
   "cell_type": "code",
   "execution_count": 26,
   "metadata": {},
   "outputs": [],
   "source": [
    "bit = 25"
   ]
  },
  {
   "cell_type": "code",
   "execution_count": 27,
   "metadata": {},
   "outputs": [
    {
     "name": "stdout",
     "output_type": "stream",
     "text": [
      "mean time is 119.01399999999998\n"
     ]
    }
   ],
   "source": [
    "## 時間の平均 \n",
    "### .zinhomを見るしか無い\n",
    "\n",
    "time_list = [6.26, 1.45, 522.78, 60.29, 4.29]#0, 1, 2, 3, 4\n",
    "print('mean time is', sum(time_list)/len(time_list))"
   ]
  },
  {
   "cell_type": "code",
   "execution_count": 28,
   "metadata": {},
   "outputs": [
    {
     "name": "stdout",
     "output_type": "stream",
     "text": [
      "p_list = [0.08333333333333333, 0.14358974358974358, 0.09687184661957618, 0.7058823529411765, 0.13333333333333333]\n",
      "p value mean is 0.23260212196343258\n",
      "num_sample_list = [12600, 5850, 109010, 23460, 1260]\n",
      "number of sample mean is 30436.0\n"
     ]
    }
   ],
   "source": [
    "## p値の平均\n",
    "## 出力サンプル数の平均\n",
    "p_list = []\n",
    "num_sample_list = []\n",
    "for num in [0, 1, 2, 3, 4]:\n",
    "    path = \"../../../input/ost{}_{}.csv\".format(bit, num)\n",
    "    df = pd.read_csv(path, sep=',')\n",
    "    zinhom_path = '../../{}bit/{}/{}bit_{}.zinhom'.format(bit, num, bit, num)\n",
    "    zinhom_num, zinhom_list = zt.make_result_list(zinhom_path)\n",
    "    p, num_sample = zt.calucurate_p(df, zinhom_list)\n",
    "    p_list.append(p)\n",
    "    num_sample_list.append(num_sample)\n",
    "print('p_list =', p_list)\n",
    "print('p value mean is', sum(p_list)/len(p_list))\n",
    "print('num_sample_list =', num_sample_list)\n",
    "print('number of sample mean is', sum(num_sample_list)/len(num_sample_list))"
   ]
  },
  {
   "cell_type": "code",
   "execution_count": null,
   "metadata": {},
   "outputs": [],
   "source": []
  },
  {
   "cell_type": "markdown",
   "metadata": {},
   "source": [
    "## 30bit\n",
    "- 以降まだ"
   ]
  },
  {
   "cell_type": "code",
   "execution_count": 29,
   "metadata": {},
   "outputs": [],
   "source": [
    "bit = 30"
   ]
  },
  {
   "cell_type": "code",
   "execution_count": null,
   "metadata": {},
   "outputs": [],
   "source": [
    "## 時間の平均 \n",
    "### .zinhomを見るしか無い\n",
    "\n",
    "time_list = [, , , , ]#0, 1, 2, 3, 4\n",
    "print('mean time is', sum(time_list)/len(time_list))"
   ]
  },
  {
   "cell_type": "code",
   "execution_count": null,
   "metadata": {},
   "outputs": [],
   "source": [
    "## p値の平均\n",
    "## 出力サンプル数の平均\n",
    "p_list = []\n",
    "num_sample_list = []\n",
    "for num in [0, 1, 2, 3, 4]:\n",
    "    path = \"../../../input/ost{}_{}.csv\".format(bit, num)\n",
    "    df = pd.read_csv(path, sep=',')\n",
    "    zinhom_path = '../../{}bit/{}/{}bit_{}.zinhom'.format(bit, num, bit, num)\n",
    "    zinhom_num, zinhom_list = zt.make_result_list(zinhom_path)\n",
    "    p, num_sample = zt.calucurate_p(df, zinhom_list)\n",
    "    p_list.append(p)\n",
    "    num_sample_list.append(num_sample)\n",
    "print('p_list =', p_list)\n",
    "print('p value mean is', sum(p_list)/len(p_list))\n",
    "print('num_sample_list =', num_sample_list)\n",
    "print('number of sample mean is', sum(num_sample_list)/len(num_sample_list))"
   ]
  }
 ],
 "metadata": {
  "kernelspec": {
   "display_name": "Python 3",
   "language": "python",
   "name": "python3"
  },
  "language_info": {
   "codemirror_mode": {
    "name": "ipython",
    "version": 3
   },
   "file_extension": ".py",
   "mimetype": "text/x-python",
   "name": "python",
   "nbconvert_exporter": "python",
   "pygments_lexer": "ipython3",
   "version": "3.7.9"
  }
 },
 "nbformat": 4,
 "nbformat_minor": 4
}
