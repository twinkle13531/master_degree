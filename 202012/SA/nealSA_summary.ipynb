{
 "cells": [
  {
   "cell_type": "code",
   "execution_count": 1,
   "metadata": {},
   "outputs": [
    {
     "name": "stdout",
     "output_type": "stream",
     "text": [
      "/Users/shihosato/src/github.com/twinkle13531/master_degree/202012/SA\n"
     ]
    }
   ],
   "source": [
    "!pwd"
   ]
  },
  {
   "cell_type": "code",
   "execution_count": 2,
   "metadata": {},
   "outputs": [],
   "source": [
    "%load_ext autoreload\n",
    "%autoreload 2"
   ]
  },
  {
   "cell_type": "code",
   "execution_count": 15,
   "metadata": {},
   "outputs": [],
   "source": [
    "import Neal_exact_test_functions as net\n",
    "import pandas as pd\n",
    "import numpy as np\n",
    "import timeit\n",
    "import matplotlib.pyplot as plt"
   ]
  },
  {
   "cell_type": "code",
   "execution_count": 16,
   "metadata": {},
   "outputs": [],
   "source": [
    "num_reads = 10000"
   ]
  },
  {
   "cell_type": "code",
   "execution_count": 17,
   "metadata": {},
   "outputs": [
    {
     "name": "stdout",
     "output_type": "stream",
     "text": [
      "mean number of valid y of 20bit data is 3260.8\n",
      "mean p value of 20bit data is 0.39121389979095655\n",
      "mean sample occurrence of 20bit data is 4.420701668262985\n",
      "--------------------------------------------------------------\n",
      "mean number of valid y of 25bit data is 5969.6\n",
      "mean p value of 25bit data is 0.23148223906483012\n",
      "mean sample occurrence of 25bit data is 2.4773561687402945\n",
      "--------------------------------------------------------------\n",
      "mean number of valid y of 30bit data is 9087.2\n",
      "mean p value of 30bit data is 0.08315433710849036\n",
      "mean sample occurrence of 30bit data is 1.0408740245775807\n",
      "--------------------------------------------------------------\n",
      "mean number of valid y of 35bit data is 9580.4\n",
      "mean p value of 35bit data is 0.11851342413341596\n",
      "mean sample occurrence of 35bit data is 1.0021025723064247\n",
      "--------------------------------------------------------------\n",
      "mean number of valid y of 40bit data is 9426.6\n",
      "mean p value of 40bit data is 0.05463821405449485\n",
      "mean sample occurrence of 40bit data is 1.000240773347951\n",
      "--------------------------------------------------------------\n"
     ]
    }
   ],
   "source": [
    "for bit in [20, 25, 30, 35, 40]:\n",
    "    valid_y_num_sum = 0\n",
    "    p_value_sum = 0\n",
    "    mean_occurrence_sum = 0\n",
    "    for num in [0, 1, 2, 3, 4]:\n",
    "        path = '../input/ost{}_{}.csv'.format(bit, num)\n",
    "        df = pd.read_csv(path, sep=',')\n",
    "        res = net.make_res_data(df, num_reads)\n",
    "        valid_y_list, valid_y_num, occurrence_list = net.find_valid_y(res)\n",
    "        plot_path = '{}bit/{}/nealSA_{}bit_{}_10000numreads'.format(bit, num, bit, num)\n",
    "        hist_dic = net.y_num_hist(df, valid_y_list, plot_path)\n",
    "        plt.close()\n",
    "\n",
    "        valid_y_num_sum += valid_y_num\n",
    "        t1 = np.dot(df['Y'], df['LI'])\n",
    "        p_value_sum += hist_dic[t1]/valid_y_num\n",
    "        mean_occurrence_sum += sum(occurrence_list)/len(occurrence_list)\n",
    "    print('mean number of valid y of {}bit data is {}'.format(bit, valid_y_num_sum/5))\n",
    "    print('mean p value of {}bit data is {}'.format(bit, p_value_sum/5))\n",
    "    print('mean sample occurrence of {}bit data is {}'.format(bit, mean_occurrence_sum/5))\n",
    "    print('--------------------------------------------------------------')"
   ]
  },
  {
   "cell_type": "code",
   "execution_count": 18,
   "metadata": {},
   "outputs": [
    {
     "name": "stdout",
     "output_type": "stream",
     "text": [
      "number of valid y of 46bit data is 9482\n",
      "p value of 46bit data is 0.03849398860999789\n",
      "sample occurrence of 46bit data is 1.0\n"
     ]
    },
    {
     "data": {
      "image/png": "[encoded data removed]",
      "text/plain": [
       "<Figure size 432x288 with 1 Axes>"
      ]
     },
     "metadata": {
      "needs_background": "light"
     },
     "output_type": "display_data"
    }
   ],
   "source": [
    "bit=46\n",
    "path = '../input/ost{}.csv'.format(bit)\n",
    "df = pd.read_csv(path, sep=',')\n",
    "res = net.make_res_data(df, num_reads)\n",
    "valid_y_list, valid_y_num, occurrence_list = net.find_valid_y(res)\n",
    "plot_path = '{}bit/nealSA_{}bit_10000numreads'.format(bit, bit)\n",
    "hist_dic = net.y_num_hist(df, valid_y_list, plot_path)\n",
    "print('number of valid y of {}bit data is {}'.format(bit, valid_y_num))\n",
    "print('p value of {}bit data is {}'.format(bit, hist_dic[np.dot(df['Y'], df['LI'])]/valid_y_num))\n",
    "print('sample occurrence of {}bit data is {}'.format(bit, sum(occurrence_list)/len(occurrence_list)))"
   ]
  },
  {
   "cell_type": "code",
   "execution_count": 21,
   "metadata": {},
   "outputs": [
    {
     "name": "stdout",
     "output_type": "stream",
     "text": [
      "mean calculation time of 20bit data is 3.874864271960105\n",
      "mean calculation time of 25bit data is 6.7706231104201295\n",
      "mean calculation time of 30bit data is 7.965289265919928\n",
      "mean calculation time of 35bit data is 8.606998953440051\n",
      "mean calculation time of 40bit data is 9.080965898620054\n"
     ]
    }
   ],
   "source": [
    "for bit in [20, 25, 30, 35, 40]:\n",
    "    time_sum = 0\n",
    "    for num in [0, 1, 2, 3, 4]:\n",
    "        path = '../input/ost{}_{}.csv'.format(bit, num)\n",
    "        df = pd.read_csv(path, sep=',')\n",
    "        res = net.make_res_data(df, num_reads)\n",
    "        loop = 10\n",
    "        result = timeit.timeit('net.find_valid_y(res)', globals=globals(), number=loop)\n",
    "        time_sum += result / loop\n",
    "    print('mean calculation time of {}bit data is {}'.format(bit, time_sum/5))"
   ]
  },
  {
   "cell_type": "code",
   "execution_count": 22,
   "metadata": {},
   "outputs": [
    {
     "name": "stdout",
     "output_type": "stream",
     "text": [
      "calculation time of 46bit data is 7.054726538100295\n"
     ]
    }
   ],
   "source": [
    "bit=46\n",
    "path = '../input/ost{}.csv'.format(bit)\n",
    "df = pd.read_csv(path, sep=',')\n",
    "res = net.make_res_data(df, num_reads)\n",
    "loop = 10\n",
    "result = timeit.timeit('net.find_valid_y(res)', globals=globals(), number=loop)\n",
    "print('calculation time of {}bit data is {}'.format(bit, result/loop))"
   ]
  }
 ],
 "metadata": {
  "kernelspec": {
   "display_name": "Python 3",
   "language": "python",
   "name": "python3"
  },
  "language_info": {
   "codemirror_mode": {
    "name": "ipython",
    "version": 3
   },
   "file_extension": ".py",
   "mimetype": "text/x-python",
   "name": "python",
   "nbconvert_exporter": "python",
   "pygments_lexer": "ipython3",
   "version": "3.7.9"
  }
 },
 "nbformat": 4,
 "nbformat_minor": 4
}
