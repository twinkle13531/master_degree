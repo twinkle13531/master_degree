{
 "cells": [
  {
   "cell_type": "code",
   "execution_count": 2,
   "metadata": {},
   "outputs": [
    {
     "name": "stdout",
     "output_type": "stream",
     "text": [
      "/Users/shihosato/src/github.com/twinkle13531/master_degree/202012/SA\n"
     ]
    }
   ],
   "source": [
    "!pwd"
   ]
  },
  {
   "cell_type": "code",
   "execution_count": 3,
   "metadata": {},
   "outputs": [],
   "source": [
    "%load_ext autoreload\n",
    "%autoreload 2"
   ]
  },
  {
   "cell_type": "code",
   "execution_count": 5,
   "metadata": {},
   "outputs": [],
   "source": [
    "import SA_exact_test_functions as net\n",
    "import pandas as pd\n",
    "import numpy as np\n",
    "import timeit"
   ]
  },
  {
   "cell_type": "code",
   "execution_count": 6,
   "metadata": {},
   "outputs": [],
   "source": [
    "num_reads = 10000"
   ]
  },
  {
   "cell_type": "code",
   "execution_count": 7,
   "metadata": {},
   "outputs": [
    {
     "data": {
      "text/plain": [
       "BinaryQuadraticModel({0: -39.0, 1: -32.0, 2: -28.0, 3: -28.0, 4: -39.0, 5: -28.0, 6: -39.0, 7: -21.0, 8: -39.0, 9: -28.0, 10: -21.0, 11: -32.0, 12: -39.0, 13: -39.0, 14: -21.0, 15: -32.0, 16: -32.0, 17: -32.0, 18: -39.0, 19: -32.0}, {(0, 1): 4, (0, 2): 4, (0, 3): 4, (0, 4): 6, (0, 5): 4, (0, 6): 6, (0, 7): 2, (0, 8): 6, (0, 9): 4, (0, 10): 2, (0, 11): 4, (0, 12): 6, (0, 13): 6, (0, 14): 2, (0, 15): 4, (0, 16): 4, (0, 17): 4, (0, 18): 6, (0, 19): 4, (1, 2): 2, (1, 3): 2, (1, 4): 4, (1, 5): 2, (1, 6): 4, (1, 7): 2, (1, 8): 4, (1, 9): 2, (1, 10): 2, (1, 11): 4, (1, 12): 4, (1, 13): 4, (1, 14): 2, (1, 15): 4, (1, 16): 4, (1, 17): 4, (1, 18): 4, (1, 19): 4, (2, 3): 4, (2, 4): 4, (2, 5): 4, (2, 6): 4, (2, 7): 2, (2, 8): 4, (2, 9): 4, (2, 10): 2, (2, 11): 2, (2, 12): 4, (2, 13): 4, (2, 14): 2, (2, 15): 2, (2, 16): 2, (2, 17): 2, (2, 18): 4, (2, 19): 2, (3, 4): 4, (3, 5): 4, (3, 6): 4, (3, 7): 2, (3, 8): 4, (3, 9): 4, (3, 10): 2, (3, 11): 2, (3, 12): 4, (3, 13): 4, (3, 14): 2, (3, 15): 2, (3, 16): 2, (3, 17): 2, (3, 18): 4, (3, 19): 2, (4, 5): 4, (4, 6): 6, (4, 7): 2, (4, 8): 6, (4, 9): 4, (4, 10): 2, (4, 11): 4, (4, 12): 6, (4, 13): 6, (4, 14): 2, (4, 15): 4, (4, 16): 4, (4, 17): 4, (4, 18): 6, (4, 19): 4, (5, 6): 4, (5, 7): 2, (5, 8): 4, (5, 9): 4, (5, 10): 2, (5, 11): 2, (5, 12): 4, (5, 13): 4, (5, 14): 2, (5, 15): 2, (5, 16): 2, (5, 17): 2, (5, 18): 4, (5, 19): 2, (6, 7): 2, (6, 8): 6, (6, 9): 4, (6, 10): 2, (6, 11): 4, (6, 12): 6, (6, 13): 6, (6, 14): 2, (6, 15): 4, (6, 16): 4, (6, 17): 4, (6, 18): 6, (6, 19): 4, (7, 8): 2, (7, 9): 2, (7, 10): 2, (7, 11): 2, (7, 12): 2, (7, 13): 2, (7, 14): 2, (7, 15): 2, (7, 16): 2, (7, 17): 2, (7, 18): 2, (7, 19): 2, (8, 9): 4, (8, 10): 2, (8, 11): 4, (8, 12): 6, (8, 13): 6, (8, 14): 2, (8, 15): 4, (8, 16): 4, (8, 17): 4, (8, 18): 6, (8, 19): 4, (9, 10): 2, (9, 11): 2, (9, 12): 4, (9, 13): 4, (9, 14): 2, (9, 15): 2, (9, 16): 2, (9, 17): 2, (9, 18): 4, (9, 19): 2, (10, 11): 2, (10, 12): 2, (10, 13): 2, (10, 14): 2, (10, 15): 2, (10, 16): 2, (10, 17): 2, (10, 18): 2, (10, 19): 2, (11, 12): 4, (11, 13): 4, (11, 14): 2, (11, 15): 4, (11, 16): 4, (11, 17): 4, (11, 18): 4, (11, 19): 4, (12, 13): 6, (12, 14): 2, (12, 15): 4, (12, 16): 4, (12, 17): 4, (12, 18): 6, (12, 19): 4, (13, 14): 2, (13, 15): 4, (13, 16): 4, (13, 17): 4, (13, 18): 6, (13, 19): 4, (14, 15): 2, (14, 16): 2, (14, 17): 2, (14, 18): 2, (14, 19): 2, (15, 16): 4, (15, 17): 4, (15, 18): 4, (15, 19): 4, (16, 17): 4, (16, 18): 4, (16, 19): 4, (17, 18): 4, (17, 19): 4, (18, 19): 4}, 173, 'BINARY')"
      ]
     },
     "execution_count": 7,
     "metadata": {},
     "output_type": "execute_result"
    }
   ],
   "source": [
    "bit  = 20\n",
    "num = 3\n",
    "path = '../input/ost{}_{}.csv'.format(bit, num)\n",
    "df = pd.read_csv(path, sep=',')\n",
    "bqm = net.make_Hamiltonian(df)\n",
    "bqm"
   ]
  },
  {
   "cell_type": "code",
   "execution_count": null,
   "metadata": {},
   "outputs": [],
   "source": [
    "def make_Hamiltonian(df, t1):\n",
    "    t_list = calc_marginals(df)\n",
    "    ## same_num_combi_list と combi_num_list は\n",
    "    ## それぞれ (i, i) と　(i, j) (ただし i < j) を格納したリストになっていますが、もう少しシンプルな記法で作れそうです。\n",
    "    ## サイズは確かにdf.shape[0]ですが、あらけじめNという変数に格納しておくと可読性が上がります。\n",
    "    ## 変数は関数の中で使うときに混同がおこらなければもっと短くてかまいません。\n",
    "    '''\n",
    "    same_num_combi_list = [(i, i) for i in range(df.shape[0])]\n",
    "    #print('same_num_combi_list:', same_num_combi_list)\n",
    "    num_num_list = [str(n) for n in range(df.shape[0])]\n",
    "    num_num = ''.join(num_num_list)\n",
    "    #print('num_num:', num_num)\n",
    "    combi_str = itertools.combinations(num_num, 2)#str\n",
    "    combi_num_list = [tuple(map(int, i)) for i in (combi_str)]\n",
    "    #print('combi_num_list:', combi_num_list)\n",
    "    '''\n",
    "    N=len(df)\n",
    "    dup_list = [(i, i) for i in range(N)]\n",
    "    comb_list = [(i, j) for i in range(N) for j in range(i+1, N)]\n",
    "    #式\n",
    "    #(y0+y1+y2+...-r0)**2\n",
    "    #or\n",
    "    #(y0*1+y1*0+y2*1+...-r1)**2\n",
    "    ## Y, LI, SEX, AOP の4つに分けて作成しあとで統合するアプローチは正しいです。\n",
    "    ## 変数が0, 1なので二乗しても変わらないことを考えると、\n",
    "    ## lin[i] と quad[i, i] を分ける必要はなくて(linに統合してしまう)\n",
    "    ## たとえばYの総和に関する制約は次のように表せます。\n",
    "    ## Y #######\n",
    "    # (Σy_i - r0)^2\n",
    "    # = (Σy_i)^2 - 2 * r0 * (Σy_i) + r0^2\n",
    "    # = Σ(y_i)^2 + 2Σ(y_i y_j) - 2 * r0 * (Σy_i) + r0^2   (ただし i < j)\n",
    "    # = 2Σ(y_i y_j) + (1 - 2 * r0) * (Σy_i) + r0^2 (y_i * y_i = y_i を利用)\n",
    "    lin_Y = [1-2*t_list[0] for (i, _) in dup_list] #同じy同士\n",
    "    quad_Y = [2 for (i, j) in comb_list] #異なるy同士\n",
    "    num_Y = t_list[0]**2 #数字の二乗\n",
    "    ## LIに関しては式が少し煩雑になりますが書き下して、\n",
    "    ## 次のように書けそうです。\n",
    "    ## LI #######\n",
    "    # (Σy_i LI_i - t1)^2\n",
    "    # = (Σy_i LI_i)^2 - 2 * t1 * (Σy_i t_i) + t1^2\n",
    "    # = Σ(y_i LI_i)^2 + 2Σ(y_i LI_i y_j LI_j) - 2 * t1 * (Σy_i LI_i) + t1^2   (ただし i < j)\n",
    "    # = 2Σ(y_i LI_i y_j LI_j) + Σ ((LI_i - 2 * t1) y_i LI_i) + t1^2 (y_i * y_i = y_i を利用)\n",
    "    # = 2Σ(LI_i LI_j y_i y_j) + Σ ((LI_i - 2 * t1) LI_i y_i) + t1^2\n",
    "    LI = df['LI'].iloc\n",
    "    lin_LI = [(LI[i] - 2 * t1) * LI[i] for (i, _) in dup_list]\n",
    "    quad_LI = [2*LI[i] * LI[j] for (i, j) in comb_list]\n",
    "    num_LI = t1**2\n",
    "    ## 以下SEX, AOPも同様に展開して修正してみてください。\n",
    "    ## ひとまず0でうめておきます。\n",
    "    lin_SEX = lin_AOP = [0 for _ in dup_list]\n",
    "    quad_SEX = quad_AOP = [0 for _ in comb_list]\n",
    "    num_SEX = num_AOP = 0\n",
    "    '''\n",
    "    ## SEX #######\n",
    "    lin_SEX = [-2*t_list[2] if df.iloc[i, 2]==1 else 0 for i in range(df.shape[0])]\n",
    "    quad_SEX_1 = [1 if df.iloc[each_same_num_combi[0], 2]==1 else 0 for each_same_num_combi in (same_num_combi_list)]\n",
    "    quad_SEX_2 = [2 if df.iloc[each_conbi[0], 2]==1 and df.iloc[each_conbi[1], 2]==1 else 0 for each_conbi in (combi_num_list)]\n",
    "    num_SEX = t_list[2]**2\n",
    "    #AOP\n",
    "    lin_AOP = [-2*t_list[3] if df.iloc[i, 3]==1 else 0 for i in range(df.shape[0])]\n",
    "    quad_AOP_1 = [1 if df.iloc[each_same_num_combi[0], 3]==1 else 0 for each_same_num_combi in (same_num_combi_list)]\n",
    "    quad_AOP_2 = [2 if df.iloc[each_conbi[0], 3]==1 and df.iloc[each_conbi[1], 3]==1 else 0 for each_conbi in (combi_num_list)]\n",
    "    num_AOP = t_list[3]**2\n",
    "    '''\n",
    "    ## zipは二つ以上のリストを引数にとることができるのと、\n",
    "    ## リスト内包表記は、辞書をつくるときにも使えるので、\n",
    "    ## コードを短くできます。\n",
    "    ##統合作業\n",
    "    #lin\n",
    "    '''\n",
    "    lin1 = [l1 + l2 for (l1, l2) in zip(lin_Y, lin_LI)]\n",
    "    lin2 = [l1 + l2 for (l1, l2) in zip(lin_SEX, lin_AOP)]\n",
    "    lin_list = [l1 + l2 for (l1, l2) in zip(lin1, lin2)]\n",
    "    lin_list = lin_Y\n",
    "    lin = {}\n",
    "    for i, li in enumerate(lin_list):\n",
    "        lin[i]=li\n",
    "    '''\n",
    "    lin_list = [sum(lin) for lin in zip(lin_Y, lin_LI, lin_SEX, lin_AOP)]\n",
    "    lin = {i: lin_list[i] for (i, _) in dup_list}\n",
    "    #quad_1\n",
    "    '''\n",
    "    quad1_1 = [q1 + q2 for (q1, q2) in zip(quad_Y_1, quad_LI_1)]\n",
    "    quad1_2 = [q1 + q2 for (q1, q2) in zip(quad_SEX_1, quad_AOP_1)]\n",
    "    quad_values1 = [q1 + q2 for (q1, q2) in zip(quad1_1, quad1_2)]#list\n",
    "    quad = {}\n",
    "    for i, each_same_num_combi in enumerate(same_num_combi_list):\n",
    "        quad[each_same_num_combi] = quad_values1[i]\n",
    "    #print('quad_ongoing:',quad)\n",
    "    #quad_2\n",
    "    quad2_1 = [q1 + q2 for (q1, q2) in zip(quad_Y_2, quad_LI_2)]\n",
    "    #print('quad2_1:', quad2_1)\n",
    "    quad2_2 = [q1 + q2 for (q1, q2) in zip(quad_SEX_2, quad_AOP_2)]\n",
    "    quad_values2 = [q1 + q2 for (q1, q2) in zip(quad2_1, quad2_2)]#list\n",
    "    #print('quad_values2:', quad_values2)\n",
    "    for i, each_num_combi in enumerate(combi_num_list):\n",
    "        quad[each_num_combi] = quad_values2[i]\n",
    "    '''\n",
    "    quad_values = [sum(quad) for quad in zip(quad_Y, quad_LI, quad_SEX, quad_AOP)]\n",
    "    quad = {ij: quad_values[n] for (n, ij) in enumerate(comb_list)}\n",
    "    #num\n",
    "    num = num_Y + num_LI + num_SEX + num_AOP\n",
    "    print('lin:', lin)\n",
    "    print('quad:', quad)\n",
    "    print('num:', num)\n",
    "    return dimod.BinaryQuadraticModel(lin, quad, num, dimod.Vartype.BINARY)#dic, dic, num"
   ]
  },
  {
   "cell_type": "code",
   "execution_count": null,
   "metadata": {},
   "outputs": [],
   "source": [
    "def make_Hamiltonian(df):\n",
    "    t_list = calc_marginals(df)\n",
    "    \n",
    "    N=len(df)\n",
    "    SEX = df['SEX'].iloc\n",
    "    AOP = df['AOP'].iloc\n",
    "    \n",
    "    dup_list = [(i, i) for i in range(N)]\n",
    "    comb_list = [(i, j) for i in range(N) for j in range(i+1, N)]\n",
    "    \n",
    "    lin_Y = [1-2*t_list[0] for (i, _) in dup_list] #同じy同士\n",
    "    lin_SEX  = [(SEX[i] - 2 * t_list[1]) * SEX[i] for (i, _) in dup_list]\n",
    "    lin_AOP = [(AOP[i] - 2 * t_list[2]) * AOP[i] for (i, _) in dup_list]\n",
    "    lin_list = [sum(lin) for lin in zip(lin_Y, lin_SEX, lin_AOP)]\n",
    "    lin = {i: lin_list[i] for (i, _) in dup_list}\n",
    "    \n",
    "    quad_Y = [2 for (i, j) in comb_list] #異なるy同士\n",
    "    quad_SEX  = [2*SEX[i] * SEX[j] for (i, j) in comb_list]\n",
    "    quad_AOP = [2*AOP[i] * AOP[j] for (i, j) in comb_list]\n",
    "    quad_values = [sum(quad) for quad in zip(quad_Y, quad_SEX, quad_AOP)]\n",
    "    quad = {ij: quad_values[n] for (n, ij) in enumerate(comb_list)}\n",
    "    \n",
    "    num_Y = t_list[0]**2 #数字の二乗\n",
    "    num_SEX  = t_list[1]**2\n",
    "    num_AOP = t_list[2]**2\n",
    "    num = num_Y + num_SEX + num_AOP\n",
    "    \n",
    "    return dimod.BinaryQuadraticModel(lin, quad, num, dimod.Vartype.BINARY)#dic, dic, num"
   ]
  },
  {
   "cell_type": "code",
   "execution_count": 8,
   "metadata": {},
   "outputs": [],
   "source": [
    "bit  = 20\n",
    "num = 3\n",
    "path = '../input/ost{}_{}.csv'.format(bit, num)\n",
    "df = pd.read_csv(path, sep=',')"
   ]
  },
  {
   "cell_type": "code",
   "execution_count": 9,
   "metadata": {},
   "outputs": [],
   "source": [
    "t_list = np.array(\n",
    "        [sum(df['Y']),\n",
    "         np.dot(df['Y'], df['SEX']),\n",
    "         np.dot(df['Y'], df['AOP'])\n",
    "\t\t])"
   ]
  },
  {
   "cell_type": "code",
   "execution_count": 10,
   "metadata": {},
   "outputs": [
    {
     "data": {
      "text/plain": [
       "array([11,  6,  4])"
      ]
     },
     "execution_count": 10,
     "metadata": {},
     "output_type": "execute_result"
    }
   ],
   "source": [
    "(Σy_i - r0)^2\n",
    "= (Σy_i)^2 - 2 * r0 * (Σy_i) + r0^2\n",
    "= Σ(y_i)^2 + 2Σ(y_i y_j) - 2 * r0 * (Σy_i) + r0^2   (ただし i < j)\n",
    "= 2Σ(y_i y_j) + (1 - 2 * r0) * (Σy_i) + r0^2 (y_i * y_i = y_i を利用)"
   ]
  },
  {
   "cell_type": "code",
   "execution_count": 30,
   "metadata": {},
   "outputs": [
    {
     "data": {
      "text/plain": [
       "190"
      ]
     },
     "execution_count": 30,
     "metadata": {},
     "output_type": "execute_result"
    }
   ],
   "source": [
    "quad_Y = [2 for (i, j) in comb_list] #異なるy同士\n",
    "len(quad_Y)"
   ]
  },
  {
   "cell_type": "markdown",
   "metadata": {},
   "source": [
    "$H = 2\\sum_{p < q} y_py_q + (1-2 \\hat{t}_0)\\sum y_p + \\hat{t}_0^2 + \\sum_{j\\neq k}(2\\sum_{p < q}x_{pj}x_{qj}y_py_q + (1 -2\\hat{t}_j)\\sum y_px_{pj} + \\hat{t}_j^2)$"
   ]
  },
  {
   "cell_type": "code",
   "execution_count": 13,
   "metadata": {},
   "outputs": [
    {
     "data": {
      "text/plain": [
       "[(0, 0),\n",
       " (1, 1),\n",
       " (2, 2),\n",
       " (3, 3),\n",
       " (4, 4),\n",
       " (5, 5),\n",
       " (6, 6),\n",
       " (7, 7),\n",
       " (8, 8),\n",
       " (9, 9),\n",
       " (10, 10),\n",
       " (11, 11),\n",
       " (12, 12),\n",
       " (13, 13),\n",
       " (14, 14),\n",
       " (15, 15),\n",
       " (16, 16),\n",
       " (17, 17),\n",
       " (18, 18),\n",
       " (19, 19)]"
      ]
     },
     "execution_count": 13,
     "metadata": {},
     "output_type": "execute_result"
    }
   ],
   "source": [
    "dup_list = [(i, i) for i in range(N)]\n",
    "dup_list"
   ]
  },
  {
   "cell_type": "code",
   "execution_count": 31,
   "metadata": {},
   "outputs": [
    {
     "data": {
      "text/plain": [
       "190"
      ]
     },
     "execution_count": 31,
     "metadata": {},
     "output_type": "execute_result"
    }
   ],
   "source": [
    "comb_list = [(i, j) for i in range(N) for j in range(i+1, N)]\n",
    "len(comb_list)"
   ]
  },
  {
   "cell_type": "code",
   "execution_count": 15,
   "metadata": {},
   "outputs": [
    {
     "data": {
      "text/plain": [
       "[-21,\n",
       " -21,\n",
       " -21,\n",
       " -21,\n",
       " -21,\n",
       " -21,\n",
       " -21,\n",
       " -21,\n",
       " -21,\n",
       " -21,\n",
       " -21,\n",
       " -21,\n",
       " -21,\n",
       " -21,\n",
       " -21,\n",
       " -21,\n",
       " -21,\n",
       " -21,\n",
       " -21,\n",
       " -21]"
      ]
     },
     "execution_count": 15,
     "metadata": {},
     "output_type": "execute_result"
    }
   ],
   "source": [
    "lin_Y = [1-2*t_list[0] for (i, _) in dup_list] #同じy同士\n",
    "lin_Y"
   ]
  },
  {
   "cell_type": "code",
   "execution_count": 16,
   "metadata": {},
   "outputs": [
    {
     "data": {
      "text/plain": [
       "[-11,\n",
       " -11,\n",
       " 0,\n",
       " 0,\n",
       " -11,\n",
       " 0,\n",
       " -11,\n",
       " 0,\n",
       " -11,\n",
       " 0,\n",
       " 0,\n",
       " -11,\n",
       " -11,\n",
       " -11,\n",
       " 0,\n",
       " -11,\n",
       " -11,\n",
       " -11,\n",
       " -11,\n",
       " -11]"
      ]
     },
     "execution_count": 16,
     "metadata": {},
     "output_type": "execute_result"
    }
   ],
   "source": [
    "SEX = df['SEX'].iloc\n",
    "lin_SEX  = [(SEX[i] - 2 * t_list[1]) * SEX[i] for (i, _) in dup_list]\n",
    "lin_SEX"
   ]
  },
  {
   "cell_type": "code",
   "execution_count": 17,
   "metadata": {},
   "outputs": [],
   "source": [
    "AOP = df['AOP'].iloc\n",
    "lin_AOP = [(AOP[i] - 2 * t_list[2]) * AOP[i] for (i, _) in dup_list]"
   ]
  },
  {
   "cell_type": "code",
   "execution_count": 18,
   "metadata": {},
   "outputs": [],
   "source": [
    "lin_list = [sum(lin) for lin in zip(lin_Y, lin_SEX, lin_AOP)]\n",
    "lin = {i: lin_list[i] for (i, _) in dup_list}"
   ]
  },
  {
   "cell_type": "code",
   "execution_count": 20,
   "metadata": {},
   "outputs": [
    {
     "data": {
      "text/plain": [
       "20"
      ]
     },
     "execution_count": 20,
     "metadata": {},
     "output_type": "execute_result"
    }
   ],
   "source": [
    "len(lin_list)"
   ]
  },
  {
   "cell_type": "code",
   "execution_count": 21,
   "metadata": {},
   "outputs": [
    {
     "data": {
      "text/plain": [
       "{0: -39,\n",
       " 1: -32,\n",
       " 2: -28,\n",
       " 3: -28,\n",
       " 4: -39,\n",
       " 5: -28,\n",
       " 6: -39,\n",
       " 7: -21,\n",
       " 8: -39,\n",
       " 9: -28,\n",
       " 10: -21,\n",
       " 11: -32,\n",
       " 12: -39,\n",
       " 13: -39,\n",
       " 14: -21,\n",
       " 15: -32,\n",
       " 16: -32,\n",
       " 17: -32,\n",
       " 18: -39,\n",
       " 19: -32}"
      ]
     },
     "execution_count": 21,
     "metadata": {},
     "output_type": "execute_result"
    }
   ],
   "source": [
    "lin"
   ]
  },
  {
   "cell_type": "code",
   "execution_count": 22,
   "metadata": {},
   "outputs": [],
   "source": [
    "quad_Y = [2 for (i, j) in comb_list] #異なるy同士"
   ]
  },
  {
   "cell_type": "code",
   "execution_count": 23,
   "metadata": {},
   "outputs": [],
   "source": [
    "quad_SEX  = [2*SEX[i] * SEX[j] for (i, j) in comb_list]"
   ]
  },
  {
   "cell_type": "code",
   "execution_count": 24,
   "metadata": {},
   "outputs": [],
   "source": [
    "quad_AOP = [2*AOP[i] * AOP[j] for (i, j) in comb_list]"
   ]
  },
  {
   "cell_type": "code",
   "execution_count": 26,
   "metadata": {},
   "outputs": [],
   "source": [
    "quad_values = [sum(quad) for quad in zip(quad_Y, quad_SEX, quad_AOP)]\n",
    "quad = {ij: quad_values[n] for (n, ij) in enumerate(comb_list)}"
   ]
  },
  {
   "cell_type": "code",
   "execution_count": 27,
   "metadata": {
    "collapsed": true,
    "jupyter": {
     "outputs_hidden": true
    }
   },
   "outputs": [
    {
     "data": {
      "text/plain": [
       "[4,\n",
       " 4,\n",
       " 4,\n",
       " 6,\n",
       " 4,\n",
       " 6,\n",
       " 2,\n",
       " 6,\n",
       " 4,\n",
       " 2,\n",
       " 4,\n",
       " 6,\n",
       " 6,\n",
       " 2,\n",
       " 4,\n",
       " 4,\n",
       " 4,\n",
       " 6,\n",
       " 4,\n",
       " 2,\n",
       " 2,\n",
       " 4,\n",
       " 2,\n",
       " 4,\n",
       " 2,\n",
       " 4,\n",
       " 2,\n",
       " 2,\n",
       " 4,\n",
       " 4,\n",
       " 4,\n",
       " 2,\n",
       " 4,\n",
       " 4,\n",
       " 4,\n",
       " 4,\n",
       " 4,\n",
       " 4,\n",
       " 4,\n",
       " 4,\n",
       " 4,\n",
       " 2,\n",
       " 4,\n",
       " 4,\n",
       " 2,\n",
       " 2,\n",
       " 4,\n",
       " 4,\n",
       " 2,\n",
       " 2,\n",
       " 2,\n",
       " 2,\n",
       " 4,\n",
       " 2,\n",
       " 4,\n",
       " 4,\n",
       " 4,\n",
       " 2,\n",
       " 4,\n",
       " 4,\n",
       " 2,\n",
       " 2,\n",
       " 4,\n",
       " 4,\n",
       " 2,\n",
       " 2,\n",
       " 2,\n",
       " 2,\n",
       " 4,\n",
       " 2,\n",
       " 4,\n",
       " 6,\n",
       " 2,\n",
       " 6,\n",
       " 4,\n",
       " 2,\n",
       " 4,\n",
       " 6,\n",
       " 6,\n",
       " 2,\n",
       " 4,\n",
       " 4,\n",
       " 4,\n",
       " 6,\n",
       " 4,\n",
       " 4,\n",
       " 2,\n",
       " 4,\n",
       " 4,\n",
       " 2,\n",
       " 2,\n",
       " 4,\n",
       " 4,\n",
       " 2,\n",
       " 2,\n",
       " 2,\n",
       " 2,\n",
       " 4,\n",
       " 2,\n",
       " 2,\n",
       " 6,\n",
       " 4,\n",
       " 2,\n",
       " 4,\n",
       " 6,\n",
       " 6,\n",
       " 2,\n",
       " 4,\n",
       " 4,\n",
       " 4,\n",
       " 6,\n",
       " 4,\n",
       " 2,\n",
       " 2,\n",
       " 2,\n",
       " 2,\n",
       " 2,\n",
       " 2,\n",
       " 2,\n",
       " 2,\n",
       " 2,\n",
       " 2,\n",
       " 2,\n",
       " 2,\n",
       " 4,\n",
       " 2,\n",
       " 4,\n",
       " 6,\n",
       " 6,\n",
       " 2,\n",
       " 4,\n",
       " 4,\n",
       " 4,\n",
       " 6,\n",
       " 4,\n",
       " 2,\n",
       " 2,\n",
       " 4,\n",
       " 4,\n",
       " 2,\n",
       " 2,\n",
       " 2,\n",
       " 2,\n",
       " 4,\n",
       " 2,\n",
       " 2,\n",
       " 2,\n",
       " 2,\n",
       " 2,\n",
       " 2,\n",
       " 2,\n",
       " 2,\n",
       " 2,\n",
       " 2,\n",
       " 4,\n",
       " 4,\n",
       " 2,\n",
       " 4,\n",
       " 4,\n",
       " 4,\n",
       " 4,\n",
       " 4,\n",
       " 6,\n",
       " 2,\n",
       " 4,\n",
       " 4,\n",
       " 4,\n",
       " 6,\n",
       " 4,\n",
       " 2,\n",
       " 4,\n",
       " 4,\n",
       " 4,\n",
       " 6,\n",
       " 4,\n",
       " 2,\n",
       " 2,\n",
       " 2,\n",
       " 2,\n",
       " 2,\n",
       " 4,\n",
       " 4,\n",
       " 4,\n",
       " 4,\n",
       " 4,\n",
       " 4,\n",
       " 4,\n",
       " 4,\n",
       " 4,\n",
       " 4]"
      ]
     },
     "execution_count": 27,
     "metadata": {},
     "output_type": "execute_result"
    }
   ],
   "source": [
    "quad_values"
   ]
  },
  {
   "cell_type": "code",
   "execution_count": 28,
   "metadata": {},
   "outputs": [
    {
     "data": {
      "text/plain": [
       "{(0, 1): 4,\n",
       " (0, 2): 4,\n",
       " (0, 3): 4,\n",
       " (0, 4): 6,\n",
       " (0, 5): 4,\n",
       " (0, 6): 6,\n",
       " (0, 7): 2,\n",
       " (0, 8): 6,\n",
       " (0, 9): 4,\n",
       " (0, 10): 2,\n",
       " (0, 11): 4,\n",
       " (0, 12): 6,\n",
       " (0, 13): 6,\n",
       " (0, 14): 2,\n",
       " (0, 15): 4,\n",
       " (0, 16): 4,\n",
       " (0, 17): 4,\n",
       " (0, 18): 6,\n",
       " (0, 19): 4,\n",
       " (1, 2): 2,\n",
       " (1, 3): 2,\n",
       " (1, 4): 4,\n",
       " (1, 5): 2,\n",
       " (1, 6): 4,\n",
       " (1, 7): 2,\n",
       " (1, 8): 4,\n",
       " (1, 9): 2,\n",
       " (1, 10): 2,\n",
       " (1, 11): 4,\n",
       " (1, 12): 4,\n",
       " (1, 13): 4,\n",
       " (1, 14): 2,\n",
       " (1, 15): 4,\n",
       " (1, 16): 4,\n",
       " (1, 17): 4,\n",
       " (1, 18): 4,\n",
       " (1, 19): 4,\n",
       " (2, 3): 4,\n",
       " (2, 4): 4,\n",
       " (2, 5): 4,\n",
       " (2, 6): 4,\n",
       " (2, 7): 2,\n",
       " (2, 8): 4,\n",
       " (2, 9): 4,\n",
       " (2, 10): 2,\n",
       " (2, 11): 2,\n",
       " (2, 12): 4,\n",
       " (2, 13): 4,\n",
       " (2, 14): 2,\n",
       " (2, 15): 2,\n",
       " (2, 16): 2,\n",
       " (2, 17): 2,\n",
       " (2, 18): 4,\n",
       " (2, 19): 2,\n",
       " (3, 4): 4,\n",
       " (3, 5): 4,\n",
       " (3, 6): 4,\n",
       " (3, 7): 2,\n",
       " (3, 8): 4,\n",
       " (3, 9): 4,\n",
       " (3, 10): 2,\n",
       " (3, 11): 2,\n",
       " (3, 12): 4,\n",
       " (3, 13): 4,\n",
       " (3, 14): 2,\n",
       " (3, 15): 2,\n",
       " (3, 16): 2,\n",
       " (3, 17): 2,\n",
       " (3, 18): 4,\n",
       " (3, 19): 2,\n",
       " (4, 5): 4,\n",
       " (4, 6): 6,\n",
       " (4, 7): 2,\n",
       " (4, 8): 6,\n",
       " (4, 9): 4,\n",
       " (4, 10): 2,\n",
       " (4, 11): 4,\n",
       " (4, 12): 6,\n",
       " (4, 13): 6,\n",
       " (4, 14): 2,\n",
       " (4, 15): 4,\n",
       " (4, 16): 4,\n",
       " (4, 17): 4,\n",
       " (4, 18): 6,\n",
       " (4, 19): 4,\n",
       " (5, 6): 4,\n",
       " (5, 7): 2,\n",
       " (5, 8): 4,\n",
       " (5, 9): 4,\n",
       " (5, 10): 2,\n",
       " (5, 11): 2,\n",
       " (5, 12): 4,\n",
       " (5, 13): 4,\n",
       " (5, 14): 2,\n",
       " (5, 15): 2,\n",
       " (5, 16): 2,\n",
       " (5, 17): 2,\n",
       " (5, 18): 4,\n",
       " (5, 19): 2,\n",
       " (6, 7): 2,\n",
       " (6, 8): 6,\n",
       " (6, 9): 4,\n",
       " (6, 10): 2,\n",
       " (6, 11): 4,\n",
       " (6, 12): 6,\n",
       " (6, 13): 6,\n",
       " (6, 14): 2,\n",
       " (6, 15): 4,\n",
       " (6, 16): 4,\n",
       " (6, 17): 4,\n",
       " (6, 18): 6,\n",
       " (6, 19): 4,\n",
       " (7, 8): 2,\n",
       " (7, 9): 2,\n",
       " (7, 10): 2,\n",
       " (7, 11): 2,\n",
       " (7, 12): 2,\n",
       " (7, 13): 2,\n",
       " (7, 14): 2,\n",
       " (7, 15): 2,\n",
       " (7, 16): 2,\n",
       " (7, 17): 2,\n",
       " (7, 18): 2,\n",
       " (7, 19): 2,\n",
       " (8, 9): 4,\n",
       " (8, 10): 2,\n",
       " (8, 11): 4,\n",
       " (8, 12): 6,\n",
       " (8, 13): 6,\n",
       " (8, 14): 2,\n",
       " (8, 15): 4,\n",
       " (8, 16): 4,\n",
       " (8, 17): 4,\n",
       " (8, 18): 6,\n",
       " (8, 19): 4,\n",
       " (9, 10): 2,\n",
       " (9, 11): 2,\n",
       " (9, 12): 4,\n",
       " (9, 13): 4,\n",
       " (9, 14): 2,\n",
       " (9, 15): 2,\n",
       " (9, 16): 2,\n",
       " (9, 17): 2,\n",
       " (9, 18): 4,\n",
       " (9, 19): 2,\n",
       " (10, 11): 2,\n",
       " (10, 12): 2,\n",
       " (10, 13): 2,\n",
       " (10, 14): 2,\n",
       " (10, 15): 2,\n",
       " (10, 16): 2,\n",
       " (10, 17): 2,\n",
       " (10, 18): 2,\n",
       " (10, 19): 2,\n",
       " (11, 12): 4,\n",
       " (11, 13): 4,\n",
       " (11, 14): 2,\n",
       " (11, 15): 4,\n",
       " (11, 16): 4,\n",
       " (11, 17): 4,\n",
       " (11, 18): 4,\n",
       " (11, 19): 4,\n",
       " (12, 13): 6,\n",
       " (12, 14): 2,\n",
       " (12, 15): 4,\n",
       " (12, 16): 4,\n",
       " (12, 17): 4,\n",
       " (12, 18): 6,\n",
       " (12, 19): 4,\n",
       " (13, 14): 2,\n",
       " (13, 15): 4,\n",
       " (13, 16): 4,\n",
       " (13, 17): 4,\n",
       " (13, 18): 6,\n",
       " (13, 19): 4,\n",
       " (14, 15): 2,\n",
       " (14, 16): 2,\n",
       " (14, 17): 2,\n",
       " (14, 18): 2,\n",
       " (14, 19): 2,\n",
       " (15, 16): 4,\n",
       " (15, 17): 4,\n",
       " (15, 18): 4,\n",
       " (15, 19): 4,\n",
       " (16, 17): 4,\n",
       " (16, 18): 4,\n",
       " (16, 19): 4,\n",
       " (17, 18): 4,\n",
       " (17, 19): 4,\n",
       " (18, 19): 4}"
      ]
     },
     "execution_count": 28,
     "metadata": {},
     "output_type": "execute_result"
    }
   ],
   "source": [
    "quad"
   ]
  },
  {
   "cell_type": "code",
   "execution_count": null,
   "metadata": {},
   "outputs": [],
   "source": []
  },
  {
   "cell_type": "code",
   "execution_count": 5,
   "metadata": {},
   "outputs": [],
   "source": [
    "for bit in [20, 25, 30, 35, 40, 46]:\n",
    "    if bit != 46:\n",
    "        for num in [0, 1, 2, 3, 4]:\n",
    "            path = '../input/ost{}_{}.csv'.format(bit, num)\n",
    "            df = pd.read_csv(path, sep=',')\n",
    "            res = net.make_res_data(df, num_reads)\n",
    "            valid_y_info_dic = net.find_valid_y(res)\n",
    "            plot_path = '{}bit/{}/nealSA_{}bit_{}_10000numreads.png'.format(bit, num, bit, num)\n",
    "            hist_dic = net.y_num_hist(df, valid_y_info_dic, path)\n",
    "    else:\n",
    "        path = '../input/ost{}.csv'.format(bit)\n",
    "        df = pd.read_csv(path, sep=',')\n",
    "        res = net.make_res_data(df, num_reads)\n",
    "        valid_y_info_dic = net.find_valid_y(res)\n",
    "        plot_path = '{}bit/nealSA_{}bit_10000numreads.png'.format(bit, bit)\n",
    "        hist_dic = net.y_num_hist(df, valid_y_info_dic, path)"
   ]
  },
  {
   "cell_type": "code",
   "execution_count": 6,
   "metadata": {},
   "outputs": [
    {
     "ename": "UnicodeDecodeError",
     "evalue": "'utf-8' codec can't decode byte 0x89 in position 0: invalid start byte",
     "output_type": "error",
     "traceback": [
      "\u001b[0;31m---------------------------------------------------------------------------\u001b[0m",
      "\u001b[0;31mUnicodeDecodeError\u001b[0m                        Traceback (most recent call last)",
      "\u001b[0;32m<ipython-input-6-1d53850053ad>\u001b[0m in \u001b[0;36m<module>\u001b[0;34m\u001b[0m\n\u001b[1;32m      3\u001b[0m         \u001b[0;32mfor\u001b[0m \u001b[0mnum\u001b[0m \u001b[0;32min\u001b[0m \u001b[0;34m[\u001b[0m\u001b[0;36m0\u001b[0m\u001b[0;34m,\u001b[0m \u001b[0;36m1\u001b[0m\u001b[0;34m,\u001b[0m \u001b[0;36m2\u001b[0m\u001b[0;34m,\u001b[0m \u001b[0;36m3\u001b[0m\u001b[0;34m,\u001b[0m \u001b[0;36m4\u001b[0m\u001b[0;34m]\u001b[0m\u001b[0;34m:\u001b[0m\u001b[0;34m\u001b[0m\u001b[0;34m\u001b[0m\u001b[0m\n\u001b[1;32m      4\u001b[0m             \u001b[0mpath\u001b[0m \u001b[0;34m=\u001b[0m \u001b[0;34m'../input/ost{}_{}.csv'\u001b[0m\u001b[0;34m.\u001b[0m\u001b[0mformat\u001b[0m\u001b[0;34m(\u001b[0m\u001b[0mbit\u001b[0m\u001b[0;34m,\u001b[0m \u001b[0mnum\u001b[0m\u001b[0;34m)\u001b[0m\u001b[0;34m\u001b[0m\u001b[0;34m\u001b[0m\u001b[0m\n\u001b[0;32m----> 5\u001b[0;31m             \u001b[0mdf\u001b[0m \u001b[0;34m=\u001b[0m \u001b[0mpd\u001b[0m\u001b[0;34m.\u001b[0m\u001b[0mread_csv\u001b[0m\u001b[0;34m(\u001b[0m\u001b[0mpath\u001b[0m\u001b[0;34m,\u001b[0m \u001b[0msep\u001b[0m\u001b[0;34m=\u001b[0m\u001b[0;34m','\u001b[0m\u001b[0;34m)\u001b[0m\u001b[0;34m\u001b[0m\u001b[0;34m\u001b[0m\u001b[0m\n\u001b[0m\u001b[1;32m      6\u001b[0m             \u001b[0mres\u001b[0m \u001b[0;34m=\u001b[0m \u001b[0mnet\u001b[0m\u001b[0;34m.\u001b[0m\u001b[0mmake_res_data\u001b[0m\u001b[0;34m(\u001b[0m\u001b[0mdf\u001b[0m\u001b[0;34m,\u001b[0m \u001b[0mnum_reads\u001b[0m\u001b[0;34m)\u001b[0m\u001b[0;34m\u001b[0m\u001b[0;34m\u001b[0m\u001b[0m\n\u001b[1;32m      7\u001b[0m             \u001b[0mvalid_y_list\u001b[0m\u001b[0;34m,\u001b[0m \u001b[0mvalid_y_num\u001b[0m\u001b[0;34m,\u001b[0m \u001b[0moccurrence_list\u001b[0m \u001b[0;34m=\u001b[0m \u001b[0mnet\u001b[0m\u001b[0;34m.\u001b[0m\u001b[0mfind_valid_y\u001b[0m\u001b[0;34m(\u001b[0m\u001b[0mres\u001b[0m\u001b[0;34m)\u001b[0m\u001b[0;34m\u001b[0m\u001b[0;34m\u001b[0m\u001b[0m\n",
      "\u001b[0;32m~/.pyenv/versions/miniconda3-4.7.12/lib/python3.7/site-packages/pandas/io/parsers.py\u001b[0m in \u001b[0;36mparser_f\u001b[0;34m(filepath_or_buffer, sep, delimiter, header, names, index_col, usecols, squeeze, prefix, mangle_dupe_cols, dtype, engine, converters, true_values, false_values, skipinitialspace, skiprows, skipfooter, nrows, na_values, keep_default_na, na_filter, verbose, skip_blank_lines, parse_dates, infer_datetime_format, keep_date_col, date_parser, dayfirst, cache_dates, iterator, chunksize, compression, thousands, decimal, lineterminator, quotechar, quoting, doublequote, escapechar, comment, encoding, dialect, error_bad_lines, warn_bad_lines, delim_whitespace, low_memory, memory_map, float_precision)\u001b[0m\n\u001b[1;32m    674\u001b[0m         )\n\u001b[1;32m    675\u001b[0m \u001b[0;34m\u001b[0m\u001b[0m\n\u001b[0;32m--> 676\u001b[0;31m         \u001b[0;32mreturn\u001b[0m \u001b[0m_read\u001b[0m\u001b[0;34m(\u001b[0m\u001b[0mfilepath_or_buffer\u001b[0m\u001b[0;34m,\u001b[0m \u001b[0mkwds\u001b[0m\u001b[0;34m)\u001b[0m\u001b[0;34m\u001b[0m\u001b[0;34m\u001b[0m\u001b[0m\n\u001b[0m\u001b[1;32m    677\u001b[0m \u001b[0;34m\u001b[0m\u001b[0m\n\u001b[1;32m    678\u001b[0m     \u001b[0mparser_f\u001b[0m\u001b[0;34m.\u001b[0m\u001b[0m__name__\u001b[0m \u001b[0;34m=\u001b[0m \u001b[0mname\u001b[0m\u001b[0;34m\u001b[0m\u001b[0;34m\u001b[0m\u001b[0m\n",
      "\u001b[0;32m~/.pyenv/versions/miniconda3-4.7.12/lib/python3.7/site-packages/pandas/io/parsers.py\u001b[0m in \u001b[0;36m_read\u001b[0;34m(filepath_or_buffer, kwds)\u001b[0m\n\u001b[1;32m    446\u001b[0m \u001b[0;34m\u001b[0m\u001b[0m\n\u001b[1;32m    447\u001b[0m     \u001b[0;31m# Create the parser.\u001b[0m\u001b[0;34m\u001b[0m\u001b[0;34m\u001b[0m\u001b[0;34m\u001b[0m\u001b[0m\n\u001b[0;32m--> 448\u001b[0;31m     \u001b[0mparser\u001b[0m \u001b[0;34m=\u001b[0m \u001b[0mTextFileReader\u001b[0m\u001b[0;34m(\u001b[0m\u001b[0mfp_or_buf\u001b[0m\u001b[0;34m,\u001b[0m \u001b[0;34m**\u001b[0m\u001b[0mkwds\u001b[0m\u001b[0;34m)\u001b[0m\u001b[0;34m\u001b[0m\u001b[0;34m\u001b[0m\u001b[0m\n\u001b[0m\u001b[1;32m    449\u001b[0m \u001b[0;34m\u001b[0m\u001b[0m\n\u001b[1;32m    450\u001b[0m     \u001b[0;32mif\u001b[0m \u001b[0mchunksize\u001b[0m \u001b[0;32mor\u001b[0m \u001b[0miterator\u001b[0m\u001b[0;34m:\u001b[0m\u001b[0;34m\u001b[0m\u001b[0;34m\u001b[0m\u001b[0m\n",
      "\u001b[0;32m~/.pyenv/versions/miniconda3-4.7.12/lib/python3.7/site-packages/pandas/io/parsers.py\u001b[0m in \u001b[0;36m__init__\u001b[0;34m(self, f, engine, **kwds)\u001b[0m\n\u001b[1;32m    878\u001b[0m             \u001b[0mself\u001b[0m\u001b[0;34m.\u001b[0m\u001b[0moptions\u001b[0m\u001b[0;34m[\u001b[0m\u001b[0;34m\"has_index_names\"\u001b[0m\u001b[0;34m]\u001b[0m \u001b[0;34m=\u001b[0m \u001b[0mkwds\u001b[0m\u001b[0;34m[\u001b[0m\u001b[0;34m\"has_index_names\"\u001b[0m\u001b[0;34m]\u001b[0m\u001b[0;34m\u001b[0m\u001b[0;34m\u001b[0m\u001b[0m\n\u001b[1;32m    879\u001b[0m \u001b[0;34m\u001b[0m\u001b[0m\n\u001b[0;32m--> 880\u001b[0;31m         \u001b[0mself\u001b[0m\u001b[0;34m.\u001b[0m\u001b[0m_make_engine\u001b[0m\u001b[0;34m(\u001b[0m\u001b[0mself\u001b[0m\u001b[0;34m.\u001b[0m\u001b[0mengine\u001b[0m\u001b[0;34m)\u001b[0m\u001b[0;34m\u001b[0m\u001b[0;34m\u001b[0m\u001b[0m\n\u001b[0m\u001b[1;32m    881\u001b[0m \u001b[0;34m\u001b[0m\u001b[0m\n\u001b[1;32m    882\u001b[0m     \u001b[0;32mdef\u001b[0m \u001b[0mclose\u001b[0m\u001b[0;34m(\u001b[0m\u001b[0mself\u001b[0m\u001b[0;34m)\u001b[0m\u001b[0;34m:\u001b[0m\u001b[0;34m\u001b[0m\u001b[0;34m\u001b[0m\u001b[0m\n",
      "\u001b[0;32m~/.pyenv/versions/miniconda3-4.7.12/lib/python3.7/site-packages/pandas/io/parsers.py\u001b[0m in \u001b[0;36m_make_engine\u001b[0;34m(self, engine)\u001b[0m\n\u001b[1;32m   1112\u001b[0m     \u001b[0;32mdef\u001b[0m \u001b[0m_make_engine\u001b[0m\u001b[0;34m(\u001b[0m\u001b[0mself\u001b[0m\u001b[0;34m,\u001b[0m \u001b[0mengine\u001b[0m\u001b[0;34m=\u001b[0m\u001b[0;34m\"c\"\u001b[0m\u001b[0;34m)\u001b[0m\u001b[0;34m:\u001b[0m\u001b[0;34m\u001b[0m\u001b[0;34m\u001b[0m\u001b[0m\n\u001b[1;32m   1113\u001b[0m         \u001b[0;32mif\u001b[0m \u001b[0mengine\u001b[0m \u001b[0;34m==\u001b[0m \u001b[0;34m\"c\"\u001b[0m\u001b[0;34m:\u001b[0m\u001b[0;34m\u001b[0m\u001b[0;34m\u001b[0m\u001b[0m\n\u001b[0;32m-> 1114\u001b[0;31m             \u001b[0mself\u001b[0m\u001b[0;34m.\u001b[0m\u001b[0m_engine\u001b[0m \u001b[0;34m=\u001b[0m \u001b[0mCParserWrapper\u001b[0m\u001b[0;34m(\u001b[0m\u001b[0mself\u001b[0m\u001b[0;34m.\u001b[0m\u001b[0mf\u001b[0m\u001b[0;34m,\u001b[0m \u001b[0;34m**\u001b[0m\u001b[0mself\u001b[0m\u001b[0;34m.\u001b[0m\u001b[0moptions\u001b[0m\u001b[0;34m)\u001b[0m\u001b[0;34m\u001b[0m\u001b[0;34m\u001b[0m\u001b[0m\n\u001b[0m\u001b[1;32m   1115\u001b[0m         \u001b[0;32melse\u001b[0m\u001b[0;34m:\u001b[0m\u001b[0;34m\u001b[0m\u001b[0;34m\u001b[0m\u001b[0m\n\u001b[1;32m   1116\u001b[0m             \u001b[0;32mif\u001b[0m \u001b[0mengine\u001b[0m \u001b[0;34m==\u001b[0m \u001b[0;34m\"python\"\u001b[0m\u001b[0;34m:\u001b[0m\u001b[0;34m\u001b[0m\u001b[0;34m\u001b[0m\u001b[0m\n",
      "\u001b[0;32m~/.pyenv/versions/miniconda3-4.7.12/lib/python3.7/site-packages/pandas/io/parsers.py\u001b[0m in \u001b[0;36m__init__\u001b[0;34m(self, src, **kwds)\u001b[0m\n\u001b[1;32m   1889\u001b[0m         \u001b[0mkwds\u001b[0m\u001b[0;34m[\u001b[0m\u001b[0;34m\"usecols\"\u001b[0m\u001b[0;34m]\u001b[0m \u001b[0;34m=\u001b[0m \u001b[0mself\u001b[0m\u001b[0;34m.\u001b[0m\u001b[0musecols\u001b[0m\u001b[0;34m\u001b[0m\u001b[0;34m\u001b[0m\u001b[0m\n\u001b[1;32m   1890\u001b[0m \u001b[0;34m\u001b[0m\u001b[0m\n\u001b[0;32m-> 1891\u001b[0;31m         \u001b[0mself\u001b[0m\u001b[0;34m.\u001b[0m\u001b[0m_reader\u001b[0m \u001b[0;34m=\u001b[0m \u001b[0mparsers\u001b[0m\u001b[0;34m.\u001b[0m\u001b[0mTextReader\u001b[0m\u001b[0;34m(\u001b[0m\u001b[0msrc\u001b[0m\u001b[0;34m,\u001b[0m \u001b[0;34m**\u001b[0m\u001b[0mkwds\u001b[0m\u001b[0;34m)\u001b[0m\u001b[0;34m\u001b[0m\u001b[0;34m\u001b[0m\u001b[0m\n\u001b[0m\u001b[1;32m   1892\u001b[0m         \u001b[0mself\u001b[0m\u001b[0;34m.\u001b[0m\u001b[0munnamed_cols\u001b[0m \u001b[0;34m=\u001b[0m \u001b[0mself\u001b[0m\u001b[0;34m.\u001b[0m\u001b[0m_reader\u001b[0m\u001b[0;34m.\u001b[0m\u001b[0munnamed_cols\u001b[0m\u001b[0;34m\u001b[0m\u001b[0;34m\u001b[0m\u001b[0m\n\u001b[1;32m   1893\u001b[0m \u001b[0;34m\u001b[0m\u001b[0m\n",
      "\u001b[0;32mpandas/_libs/parsers.pyx\u001b[0m in \u001b[0;36mpandas._libs.parsers.TextReader.__cinit__\u001b[0;34m()\u001b[0m\n",
      "\u001b[0;32mpandas/_libs/parsers.pyx\u001b[0m in \u001b[0;36mpandas._libs.parsers.TextReader._get_header\u001b[0;34m()\u001b[0m\n",
      "\u001b[0;31mUnicodeDecodeError\u001b[0m: 'utf-8' codec can't decode byte 0x89 in position 0: invalid start byte"
     ]
    }
   ],
   "source": [
    "for bit in [20, 25, 30, 35, 40, 46]:\n",
    "    if bit != 46:\n",
    "        for num in [0, 1, 2, 3, 4]:\n",
    "            path = '../input/ost{}_{}.csv'.format(bit, num)\n",
    "            df = pd.read_csv(path, sep=',')\n",
    "            res = net.make_res_data(df, num_reads)\n",
    "            valid_y_list, valid_y_num, occurrence_list = net.find_valid_y(res)\n",
    "            plot_path = '{}bit/{}/nealSA_{}bit_{}_10000numreads_occurance_hist.png'.format(bit, num, bit, num)\n",
    "            net.occurrence_hist(valid_y_info_dic, plot_path)\n",
    "    else:\n",
    "        path = '../input/ost{}.csv'.format(bit)\n",
    "        df = pd.read_csv(path, sep=',')\n",
    "        res = net.make_res_data(df, num_reads)\n",
    "        valid_y_list, valid_y_num, occurrence_list = net.find_valid_y(res)\n",
    "        plot_path = '{}bit/nealSA_{}bit_10000numreads_occurance_hist.png'.format(bit, bit)\n",
    "        net.occurrence_hist(valid_y_info_dic, plot_path)"
   ]
  },
  {
   "cell_type": "code",
   "execution_count": null,
   "metadata": {},
   "outputs": [],
   "source": [
    "for bit in [20, 25, 30, 35, 40, 46]:\n",
    "    if bit != 46:\n",
    "        for num in [0, 1, 2, 3, 4]:\n",
    "            path = '../input/ost{}_{}.csv'.format(bit, num)\n",
    "            df = pd.read_csv(path, sep=',')\n",
    "            path = '{}bit/{}/nealSA_{}bit_{}_10000numreads_time_num_hist.png'.format(bit, num, bit, num)\n",
    "            time_list = net.time_num_y(df, num_reads, path)\n",
    "    else:\n",
    "        path = '../input/ost{}.csv'.format(bit)\n",
    "        df = pd.read_csv(path, sep=',')\n",
    "        path = '{}bit/nealSA_{}bit_10000numreads_time_num_hist.png'.format(bit, bit)\n",
    "        time_list = net.time_num_y(df, num_reads, path)"
   ]
  },
  {
   "cell_type": "code",
   "execution_count": null,
   "metadata": {},
   "outputs": [],
   "source": [
    "for bit in [20, 25, 30, 35, 40, 46]:\n",
    "    if bit != 46:\n",
    "        for num in [0, 1, 2, 3, 4]:\n",
    "            path = '../input/ost{}_{}.csv'.format(bit, num)\n",
    "            df = pd.read_csv(path, sep=',')\n",
    "            res = net.make_res_data(df, num_reads)\n",
    "            path = '{}bit/{}/nealSA_{}bit_{}_10000numreads_time_num_hist.png'.format(bit, num, bit, num)\n",
    "            valid_y_list, p_dic = net.p_value_transition(res, path)\n",
    "    else:\n",
    "        path = '../input/ost{}.csv'.format(bit)\n",
    "        df = pd.read_csv(path, sep=',')\n",
    "        res = net.make_res_data(df, num_reads)\n",
    "        path = '{}bit/nealSA_{}bit_10000numreads_time_num_hist.png'.format(bit, bit)\n",
    "        valid_y_list, p_dic = net.p_value_transition(res, path)"
   ]
  }
 ],
 "metadata": {
  "kernelspec": {
   "display_name": "Python 3",
   "language": "python",
   "name": "python3"
  },
  "language_info": {
   "codemirror_mode": {
    "name": "ipython",
    "version": 3
   },
   "file_extension": ".py",
   "mimetype": "text/x-python",
   "name": "python",
   "nbconvert_exporter": "python",
   "pygments_lexer": "ipython3",
   "version": "3.7.9"
  }
 },
 "nbformat": 4,
 "nbformat_minor": 4
}
