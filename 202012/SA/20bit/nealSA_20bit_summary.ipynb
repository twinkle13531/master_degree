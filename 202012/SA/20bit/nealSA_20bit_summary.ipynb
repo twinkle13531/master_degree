{
 "cells": [
  {
   "cell_type": "code",
   "execution_count": 1,
   "metadata": {},
   "outputs": [],
   "source": [
    "!pwd"
   ]
  },
  {
   "cell_type": "code",
   "execution_count": 2,
   "metadata": {},
   "outputs": [],
   "source": [
    "%load_ext autoreload\n",
    "%autoreload 2"
   ]
  },
  {
   "cell_type": "code",
   "execution_count": 3,
   "metadata": {},
   "outputs": [],
   "source": [
    "import sys, os\n",
    "sys.path.append(os.path.join('..'))"
   ]
  },
  {
   "cell_type": "code",
   "execution_count": 7,
   "metadata": {},
   "outputs": [],
   "source": [
    "import Neal_exact_test_functions as net\n",
    "import pandas as pd\n",
    "import numpy as np\n",
    "import timeit\n",
    "import matplotlib.pyplot as plt"
   ]
  },
  {
   "cell_type": "code",
   "execution_count": 8,
   "metadata": {},
   "outputs": [],
   "source": [
    "bit = 20\n",
    "num_reads = 10000"
   ]
  },
  {
   "cell_type": "code",
   "execution_count": null,
   "metadata": {},
   "outputs": [],
   "source": [
    "valid_y_num_sum = 0\n",
    "p_value_sum = 0\n",
    "for num in [0, 1, 2, 3, 4]:\n",
    "    path = '../../input/ost{}_{}.csv'.format(bit, num)\n",
    "    df = pd.read_csv(path, sep=',')\n",
    "    res = net.make_res_data(df, num_reads)\n",
    "    valid_y_list, valid_y_num, occurrence_list = net.find_valid_y(res)\n",
    "    plot_path = '{}/nealSA_{}bit_{}_10000numreads'.format(num, bit, num)\n",
    "    hist_dic = net.y_num_hist(df, valid_y_list, plot_path)\n",
    "    plt.close()\n",
    "    \n",
    "    valid_y_num_sum += valid_y_num\n",
    "    p_value_sum += hist_dic[int(np.dot(df['Y'], df['LI']))]/valid_y_num\n",
    "print('mean number of valid y of {}bit data is {}'.format(bit, valid_y_num_sum/5))\n",
    "print('mean p value of {}bit data is {}'.format(bit, p_value_sum/5))"
   ]
  },
  {
   "cell_type": "code",
   "execution_count": null,
   "metadata": {},
   "outputs": [],
   "source": [
    "time_sum = 0\n",
    "for num in [0, 1, 2, 3, 4]:\n",
    "    path = '../../input/ost{}_{}.csv'.format(bit, num)\n",
    "    df = pd.read_csv(path, sep=',')\n",
    "    res = net.make_res_data(df, num_reads)\n",
    "    loop = 10\n",
    "    result = timeit.timeit('net.find_valid_y(res)', globals=globals(), number=loop)\n",
    "    time_sum += result / loop\n",
    "print('mean calucuration time of {}bit data is {}'.format(bit, time_sum/5))"
   ]
  },
  {
   "cell_type": "code",
   "execution_count": null,
   "metadata": {},
   "outputs": [],
   "source": []
  }
 ],
 "metadata": {
  "kernelspec": {
   "display_name": "Python 3",
   "language": "python",
   "name": "python3"
  },
  "language_info": {
   "codemirror_mode": {
    "name": "ipython",
    "version": 3
   },
   "file_extension": ".py",
   "mimetype": "text/x-python",
   "name": "python",
   "nbconvert_exporter": "python",
   "pygments_lexer": "ipython3",
   "version": "3.7.9"
  }
 },
 "nbformat": 4,
 "nbformat_minor": 4
}
