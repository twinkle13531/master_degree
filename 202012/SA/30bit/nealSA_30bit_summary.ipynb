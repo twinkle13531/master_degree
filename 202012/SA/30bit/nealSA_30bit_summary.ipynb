{
 "cells": [
  {
   "cell_type": "code",
   "execution_count": 1,
   "metadata": {},
   "outputs": [
    {
     "name": "stdout",
     "output_type": "stream",
     "text": [
      "/Users/shihosato/src/github.com/twinkle13531/master_degree/202012/SA/30bit\n"
     ]
    }
   ],
   "source": [
    "!pwd"
   ]
  },
  {
   "cell_type": "code",
   "execution_count": 2,
   "metadata": {},
   "outputs": [],
   "source": [
    "%load_ext autoreload\n",
    "%autoreload 2"
   ]
  },
  {
   "cell_type": "code",
   "execution_count": 3,
   "metadata": {},
   "outputs": [],
   "source": [
    "import sys, os\n",
    "sys.path.append(os.path.join('..'))"
   ]
  },
  {
   "cell_type": "code",
   "execution_count": 4,
   "metadata": {},
   "outputs": [],
   "source": [
    "import Neal_exact_test_functions as net\n",
    "import pandas as pd\n",
    "import numpy as np\n",
    "import timeit\n",
    "import matplotlib.pyplot as plt\n",
    "import time"
   ]
  },
  {
   "cell_type": "code",
   "execution_count": 5,
   "metadata": {},
   "outputs": [],
   "source": [
    "bit = 30\n",
    "num_reads = 10000"
   ]
  },
  {
   "cell_type": "code",
   "execution_count": 6,
   "metadata": {},
   "outputs": [
    {
     "name": "stdout",
     "output_type": "stream",
     "text": [
      "number of valid y of 30bit_0 data is 8969\n",
      "number of valid y of 30bit_1 data is 8860\n",
      "number of valid y of 30bit_2 data is 9503\n",
      "number of valid y of 30bit_3 data is 9310\n",
      "number of valid y of 30bit_4 data is 8891\n",
      "mean number of valid y of 30bit data is 9106.6\n"
     ]
    }
   ],
   "source": [
    "y_num_list = []\n",
    "for num in [0, 1, 2, 3, 4]:\n",
    "    path = '../../input/ost{}_{}.csv'.format(bit, num)\n",
    "    df = pd.read_csv(path, sep=',')\n",
    "    res = net.make_res_data(df, num_reads)\n",
    "    valid_y_list, valid_y_num, occurrence_list = net.find_valid_y(res)\n",
    "    y_num_list.append(valid_y_num)\n",
    "    print('number of valid y of {}bit_{} data is {}'.format(bit, num, y_num_list[-1]))\n",
    "print('mean number of valid y of {}bit data is {}'.format(bit, sum(y_num_list)/5))"
   ]
  },
  {
   "cell_type": "code",
   "execution_count": 7,
   "metadata": {},
   "outputs": [
    {
     "name": "stdout",
     "output_type": "stream",
     "text": [
      "p value of 30bit_0 data is 0.040102484126100034\n",
      "p value of 30bit_1 data is 0.012901016097728051\n",
      "p value of 30bit_2 data is 0.16954143878838873\n",
      "p value of 30bit_3 data is 0.10632338683615211\n",
      "p value of 30bit_4 data is 0.09532985717524371\n",
      "mean p value of 30bit data is 0.08483963660472252\n"
     ]
    }
   ],
   "source": [
    "p_list = []\n",
    "for num in [0, 1, 2, 3, 4]:\n",
    "    df_path = '../../input/ost{}_{}.csv'.format(bit, num)\n",
    "    df = pd.read_csv(df_path, sep=',')\n",
    "    res = net.make_res_data(df, num_reads)\n",
    "    p_value = net.calc_p_value(df, res)\n",
    "    p_list.append(p_value)\n",
    "    print('p value of {}bit_{} data is {}'.format(bit, num, p_list[-1]))\n",
    "print('mean p value of {}bit data is {}'.format(bit, sum(p_list)/5))"
   ]
  },
  {
   "cell_type": "code",
   "execution_count": 8,
   "metadata": {},
   "outputs": [
    {
     "name": "stdout",
     "output_type": "stream",
     "text": [
      "calculation time of 30bit_0 data is 65.2171459197998\n",
      "calculation time of 30bit_1 data is 56.08537817001343\n",
      "calculation time of 30bit_2 data is 63.485042095184326\n",
      "calculation time of 30bit_3 data is 57.39350175857544\n",
      "calculation time of 30bit_4 data is 58.64697289466858\n",
      "calculation time of 30bit data is 0.08483963660472252\n"
     ]
    }
   ],
   "source": [
    "time_list = []\n",
    "for num in [0, 1, 2, 3, 4]:\n",
    "    df_path = '../../input/ost{}_{}.csv'.format(bit, num)\n",
    "    df = pd.read_csv(df_path, sep=',')\n",
    "    time_0 = time.time()\n",
    "    res = net.make_res_data(df, num_reads)\n",
    "    valid_y_list, valid_y_num, occurrence_list = net.find_valid_y(res)\n",
    "    time_1 = time.time()\n",
    "    elapsed_time = time_1 - time_0\n",
    "    time_list.append(elapsed_time)\n",
    "    print('calculation time of {}bit_{} data is {}'.format(bit, num, time_list[-1]))\n",
    "print('mean calculation time of {}bit data is {}'.format(bit, sum(p_list)/5))"
   ]
  },
  {
   "cell_type": "code",
   "execution_count": null,
   "metadata": {},
   "outputs": [],
   "source": []
  }
 ],
 "metadata": {
  "kernelspec": {
   "display_name": "Python 3",
   "language": "python",
   "name": "python3"
  },
  "language_info": {
   "codemirror_mode": {
    "name": "ipython",
    "version": 3
   },
   "file_extension": ".py",
   "mimetype": "text/x-python",
   "name": "python",
   "nbconvert_exporter": "python",
   "pygments_lexer": "ipython3",
   "version": "3.7.9"
  }
 },
 "nbformat": 4,
 "nbformat_minor": 4
}
