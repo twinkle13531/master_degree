{
 "cells": [
  {
   "cell_type": "code",
   "execution_count": null,
   "metadata": {},
   "outputs": [],
   "source": [
    "import pandas as pd                                         \n",
    "import numpy as np                                              \n",
    "from scipy.special import comb                                      \n",
    "import math                                            \n",
    "from neal import SimulatedAnnealingSampler                            \n",
    "from pyqubo import Array, Constraint, Placeholder, solve_qubo           \n",
    "import itertools                                                        \n",
    "import random                                                           \n",
    "import matplotlib.pyplot as plt                                         \n",
    "import timeit"
   ]
  },
  {
   "cell_type": "code",
   "execution_count": null,
   "metadata": {},
   "outputs": [],
   "source": [
    "#=============                         \n",
    "# 関数定義                          \n",
    "#=============                                                        \n",
    "# make_t_list_columns_num_samples         \n",
    "# は正確検定の表の周辺和を計算しているので\n",
    "# 次の関数に置き換え          \n",
    "def calc_marginals(df):                   \n",
    "    return np.array([                      \n",
    "        sum(df['Y']),                     \n",
    "        np.dot(df['Y'], df['LI']),      \n",
    "        np.dot(df['Y'], df['SEX']),      \n",
    "        np.dot(df['Y'], df['AOP']),      \n",
    "    ])                                   "
   ]
  },
  {
   "cell_type": "markdown",
   "metadata": {},
   "source": [
    "def find_valid_y(df, num_reads):                                                        \n",
    "    t_list = calc_marginals(df)\n",
    "    var_y = Array.create('y', shape=df.shape[0], vartype='BINARY')\n",
    "    sa_sampler = SimulatedAnnealingSampler()\n",
    "    \n",
    "    valid_y_list = {}                                                                   \n",
    "    valid_y_num = {}                                                                    \n",
    "    for t1 in range(0, df.shape[0]+1):                                                                                                                                                     \n",
    "        #QUBO式で定式化                                                                 \n",
    "        H = (sum(var_y) - t_list[0])**2                                                     \n",
    "        H += (np.dot(df['LI'], var_y) - t1)**2                                        \n",
    "        for j in range(2, len(t_list)):                                                \n",
    "            v = df.to_numpy()[:, j]\n",
    "            H += (var_y.dot(v) - t_list[j]) ** 2                                                           \n",
    "                                                                                        \n",
    "        bqm = H.compile().to_bqm()                                                      \n",
    "        res = sa_sampler.sample(bqm, num_reads=num_reads)                              \n",
    "        print('res(t1=', t1, ')',res.record)                                                      \n",
    "                                                                                        \n",
    "        valid_y_list[t1] = []                                                           \n",
    "        valid_y_num[t1] = 0                                                             \n",
    "        for y_info in list(res.record):                                                 \n",
    "            if y_info[1] == 0.:\n",
    "                valid_y_num[t1] += 1                                        \n",
    "                valid_y_list[t1].append(list(y_info[0]))                    \n",
    "                print('energy0')\n",
    "                \n",
    "            '''if sum(y_info[0]) == t_list[0]:#int同士の比較  \n",
    "                print('yes')\n",
    "                y = pd.Series(y_info[0])                                                \n",
    "                if np.dot([df['LI']], y) == t1:#int同士の比較                       \n",
    "                    for j in range(2, len(t_list)):\n",
    "                        v = df.to_numpy()[:, j]\n",
    "                        if np.dot(v, y) - t_list[j] != 0:\n",
    "                            break                                                       \n",
    "                    else:                                                               \n",
    "                        if all(list(y_info[0]) != p for p in valid_y_list[t1]):         \n",
    "                            valid_y_num[t1] += 1                                        \n",
    "                            valid_y_list[t1].append(list(y_info[0]))                    \n",
    "                            print('perfect') '''                                           \n",
    "    return valid_y_list, valid_y_num                                                                                                                                          "
   ]
  },
  {
   "cell_type": "markdown",
   "metadata": {},
   "source": [
    "df"
   ]
  },
  {
   "cell_type": "markdown",
   "metadata": {},
   "source": [
    "#==========\n",
    "#テストコード\n",
    "#==========\n",
    "def test_find_valid_y():\n",
    "    df = pd.read_csv('../input/ost16.csv', sep=',', index_col=0)\n",
    "    true_t1 = sum(df['Y'] * df['LI'])\n",
    "    valid_y_list, valid_y_num = find_valid_y(df,  num_reads = 10)\n",
    "    print(valid_y_list, valid_y_num)\n",
    "    assert valid_y_num[true_t1] > 0  \n",
    "    \n",
    "test_find_valid_y()"
   ]
  },
  {
   "cell_type": "markdown",
   "metadata": {},
   "source": [
    "def test_validity():\n",
    "    df1 = pd.read_csv('../input/ost16.csv', sep=',',index_col=0)\n",
    "    df2 = pd.read_csv('../input/ost16.csv', sep=',',index_col=0)\n",
    "    new_y = np.array([1, 1, 1, 1, 1, 1, 0, 1, 1, 1, 1, 1, 0, 1, 1, 1])\n",
    "    df2['Y'] = new_y\n",
    "    t_list1 = calc_marginals(df1)\n",
    "    t_list2 = calc_marginals(df2)\n",
    "    print(t_list1)\n",
    "    print(t_list2)\n",
    "    assert np.all(t_list1[[0,2,3]] == t_list2[[0,2,3]]) \n",
    "\n",
    "test_validity()"
   ]
  },
  {
   "cell_type": "code",
   "execution_count": null,
   "metadata": {},
   "outputs": [],
   "source": []
  }
 ],
 "metadata": {
  "kernelspec": {
   "display_name": "Python 3",
   "language": "python",
   "name": "python3"
  },
  "language_info": {
   "codemirror_mode": {
    "name": "ipython",
    "version": 3
   },
   "file_extension": ".py",
   "mimetype": "text/x-python",
   "name": "python",
   "nbconvert_exporter": "python",
   "pygments_lexer": "ipython3",
   "version": "3.6.9"
  }
 },
 "nbformat": 4,
 "nbformat_minor": 4
}
