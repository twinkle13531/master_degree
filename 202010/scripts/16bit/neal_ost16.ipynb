{
 "cells": [
  {
   "cell_type": "markdown",
   "metadata": {},
   "source": [
    "# SA, dwave-neal\n",
    "\n",
    "- [SA](https://qiita.com/ShataKurashi/items/c0c6044e97fa9e4a9471#:~:text=%E7%84%BC%E3%81%8D%E3%81%AA%E3%81%BE%E3%81%97%E6%B3%95%EF%BC%88%E3%82%84%E3%81%8D%E3%81%AA%E3%81%BE%E3%81%97,%E3%81%A6%E3%80%81%E3%82%88%E3%81%84%E8%BF%91%E4%BC%BC%E3%82%92%E4%B8%8E%E3%81%88%E3%82%8B%E3%80%82)\n",
    "- [組み合わせ最適問題に対するSA法　中野秀男・中西義郎](http://www.orsj.or.jp/~archive/pdf/bul/Vol.31_01_043.pdf)"
   ]
  },
  {
   "cell_type": "code",
   "execution_count": 44,
   "metadata": {},
   "outputs": [],
   "source": [
    "import pandas as pd \n",
    "import numpy as np\n",
    "from scipy.special import comb\n",
    "import math\n",
    "from neal import SimulatedAnnealingSampler\n",
    "from pyqubo import Array, Constraint, Placeholder, solve_qubo\n",
    "import itertools\n",
    "import random\n",
    "import matplotlib.pyplot as plt\n",
    "import timeit"
   ]
  },
  {
   "cell_type": "markdown",
   "metadata": {},
   "source": [
    "### 解析用データ作成\n",
    "\n",
    "（3年間骨肉腫に罹患しない）事象と各特徴量とのP値を計算する。\n",
    "- Osteogenic sarcoma data:骨肉腫\n",
    "- LI:リンパ球浸出\n",
    "- AOP:類骨病理学"
   ]
  },
  {
   "cell_type": "code",
   "execution_count": 45,
   "metadata": {},
   "outputs": [
    {
     "data": {
      "text/plain": [
       "(16, 4)"
      ]
     },
     "execution_count": 45,
     "metadata": {},
     "output_type": "execute_result"
    }
   ],
   "source": [
    "ost16 = pd.read_csv(\"../../input/ost16.csv\", sep=',', index_col=0)\n",
    "ost16.shape"
   ]
  },
  {
   "cell_type": "code",
   "execution_count": 46,
   "metadata": {},
   "outputs": [],
   "source": [
    "#indexを振り直す\n",
    "ost16 = ost16.reset_index(drop=True)"
   ]
  },
  {
   "cell_type": "code",
   "execution_count": 47,
   "metadata": {},
   "outputs": [
    {
     "name": "stdout",
     "output_type": "stream",
     "text": [
      "[14]\n"
     ]
    }
   ],
   "source": [
    "t_list = []\n",
    "t_list.append(sum(ost16['Y']))\n",
    "print(t_list)\n",
    "t_list.append(np.dot(ost16['Y'], ost16['LI']))\n",
    "t_list.append(np.dot(ost16['Y'], ost16['SEX']))\n",
    "t_list.append(np.dot(ost16['Y'], ost16['AOP']))"
   ]
  },
  {
   "cell_type": "code",
   "execution_count": 48,
   "metadata": {},
   "outputs": [
    {
     "data": {
      "text/plain": [
       "[14, 9, 9, 8]"
      ]
     },
     "execution_count": 48,
     "metadata": {},
     "output_type": "execute_result"
    }
   ],
   "source": [
    "t_list#Y, LI, SEX, AOP"
   ]
  },
  {
   "cell_type": "code",
   "execution_count": 49,
   "metadata": {},
   "outputs": [
    {
     "data": {
      "text/plain": [
       "14"
      ]
     },
     "execution_count": 49,
     "metadata": {},
     "output_type": "execute_result"
    }
   ],
   "source": [
    "t_list[-4]"
   ]
  },
  {
   "cell_type": "code",
   "execution_count": null,
   "metadata": {},
   "outputs": [],
   "source": []
  },
  {
   "cell_type": "markdown",
   "metadata": {},
   "source": [
    "### D-wave neal"
   ]
  },
  {
   "cell_type": "code",
   "execution_count": 50,
   "metadata": {},
   "outputs": [],
   "source": [
    "columns = list(ost16.columns)\n",
    "num_samples = ost16.shape[0]"
   ]
  },
  {
   "cell_type": "code",
   "execution_count": 51,
   "metadata": {},
   "outputs": [],
   "source": [
    "def neal_sampling(df, num_reads):\n",
    "    valid_y_list = {}\n",
    "    valid_y_num = {}\n",
    "    for t1 in range(0, df.shape[0]+1):\n",
    "        y = Array.create('y', shape=df.shape[0], vartype='BINARY')\n",
    "\n",
    "        #QUBO式で定式化\n",
    "        H = (sum(y) - t_list[0])**2\n",
    "        H += (np.dot(df[columns[1]], y) - t1)**2\n",
    "        for j in range(2, len(columns)):\n",
    "            H_plus = (np.dot(df[columns[j]], y) - t_list[j])**2\n",
    "            H += H_plus\n",
    "\n",
    "        qb = H.compile().to_qubo()\n",
    "        sa_sampler = SimulatedAnnealingSampler()\n",
    "        res = sa_sampler.sample_qubo(qb[0], num_reads=num_reads)\n",
    "\n",
    "        valid_y_list[t1] = []\n",
    "        valid_y_num[t1] = 0\n",
    "        for y_info in list(res.record):\n",
    "            if sum(y_info[0]) == t_list[0]:#int同士の比較\n",
    "                y = pd.Series(y_info[0])\n",
    "                if np.dot(df[columns[1]], y) == t1:#int同士の比較\n",
    "                    for j in range(2, len(columns)):\n",
    "                        if np.dot(df[columns[j]], y) != t_list[j]:#int同士の比較\n",
    "                            break\n",
    "                    else:\n",
    "                        if all(list(y_info[0]) != p for p in valid_y_list[t1]):\n",
    "                            valid_y_num[t1] += 1\n",
    "                            valid_y_list[t1].append(list(y_info[0]))\n",
    "                            \n",
    "    return valid_y_list, valid_y_num"
   ]
  },
  {
   "cell_type": "code",
   "execution_count": 52,
   "metadata": {},
   "outputs": [
    {
     "name": "stdout",
     "output_type": "stream",
     "text": [
      "1.1514521240000248 秒\n"
     ]
    }
   ],
   "source": [
    "loop = 100\n",
    "df = ost16\n",
    "num_reads = 100\n",
    "result = timeit.timeit('neal_sampling(df, num_reads)', globals=globals(), number=loop)\n",
    "print(result / loop, '秒')\n",
    "\n",
    "#valid_y_list, valid_y_num = neal_sampling(df, num_reads)"
   ]
  },
  {
   "cell_type": "code",
   "execution_count": 53,
   "metadata": {},
   "outputs": [
    {
     "data": {
      "text/plain": [
       "{0: 0,\n",
       " 1: 0,\n",
       " 2: 0,\n",
       " 3: 0,\n",
       " 4: 0,\n",
       " 5: 0,\n",
       " 6: 0,\n",
       " 7: 0,\n",
       " 8: 0,\n",
       " 9: 2,\n",
       " 10: 3,\n",
       " 11: 0,\n",
       " 12: 0,\n",
       " 13: 0,\n",
       " 14: 0,\n",
       " 15: 0,\n",
       " 16: 0}"
      ]
     },
     "execution_count": 53,
     "metadata": {},
     "output_type": "execute_result"
    }
   ],
   "source": [
    "valid_y_num"
   ]
  },
  {
   "cell_type": "code",
   "execution_count": 55,
   "metadata": {},
   "outputs": [
    {
     "data": {
      "text/plain": [
       "{0: [],\n",
       " 1: [],\n",
       " 2: [],\n",
       " 3: [],\n",
       " 4: [],\n",
       " 5: [],\n",
       " 6: [],\n",
       " 7: [],\n",
       " 8: [],\n",
       " 9: [[0, 1, 1, 1, 0, 1, 1, 1, 1, 1, 1, 1, 1, 1, 1, 1],\n",
       "  [0, 1, 1, 1, 1, 1, 1, 1, 1, 1, 1, 1, 1, 0, 1, 1]],\n",
       " 10: [[0, 1, 1, 1, 1, 1, 1, 1, 1, 1, 0, 1, 1, 1, 1, 1],\n",
       "  [1, 1, 1, 1, 1, 1, 0, 1, 1, 1, 1, 0, 1, 1, 1, 1],\n",
       "  [0, 1, 1, 1, 1, 0, 1, 1, 1, 1, 1, 1, 1, 1, 1, 1]],\n",
       " 11: [],\n",
       " 12: [],\n",
       " 13: [],\n",
       " 14: [],\n",
       " 15: [],\n",
       " 16: []}"
      ]
     },
     "execution_count": 55,
     "metadata": {},
     "output_type": "execute_result"
    }
   ],
   "source": [
    "valid_y_list"
   ]
  },
  {
   "cell_type": "code",
   "execution_count": 54,
   "metadata": {},
   "outputs": [
    {
     "data": {
      "text/plain": [
       "0.4"
      ]
     },
     "execution_count": 54,
     "metadata": {},
     "output_type": "execute_result"
    }
   ],
   "source": [
    "valid_y_num[9]/sum(valid_y_num.values())"
   ]
  },
  {
   "cell_type": "code",
   "execution_count": null,
   "metadata": {},
   "outputs": [],
   "source": []
  },
  {
   "cell_type": "code",
   "execution_count": null,
   "metadata": {},
   "outputs": [],
   "source": []
  }
 ],
 "metadata": {
  "kernelspec": {
   "display_name": "Python 3",
   "language": "python",
   "name": "python3"
  },
  "language_info": {
   "codemirror_mode": {
    "name": "ipython",
    "version": 3
   },
   "file_extension": ".py",
   "mimetype": "text/x-python",
   "name": "python",
   "nbconvert_exporter": "python",
   "pygments_lexer": "ipython3",
   "version": "3.6.9"
  }
 },
 "nbformat": 4,
 "nbformat_minor": 4
}
