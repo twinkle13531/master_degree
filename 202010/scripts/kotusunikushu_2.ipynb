{
 "cells": [
  {
   "cell_type": "code",
   "execution_count": 65,
   "metadata": {},
   "outputs": [
    {
     "ename": "SyntaxError",
     "evalue": "invalid syntax (<ipython-input-65-c37f9212f8f7>, line 1)",
     "output_type": "error",
     "traceback": [
      "\u001b[0;36m  File \u001b[0;32m\"<ipython-input-65-c37f9212f8f7>\"\u001b[0;36m, line \u001b[0;32m1\u001b[0m\n\u001b[0;31m    from ../../hsnf import row_style_hermite_normal_form, column_style_hermite_normal_form\u001b[0m\n\u001b[0m           ^\u001b[0m\n\u001b[0;31mSyntaxError\u001b[0m\u001b[0;31m:\u001b[0m invalid syntax\n"
     ]
    }
   ],
   "source": [
    "from ../../hsnf import row_style_hermite_normal_form, column_style_hermite_normal_form"
   ]
  },
  {
   "cell_type": "code",
   "execution_count": 33,
   "metadata": {},
   "outputs": [],
   "source": [
    "import pandas as pd \n",
    "import numpy as np\n",
    "from scipy.special import comb\n",
    "import math\n",
    "from neal import SimulatedAnnealingSampler\n",
    "from pyqubo import Array, Constraint, Placeholder, solve_qubo\n",
    "import itertools\n",
    "import random"
   ]
  },
  {
   "cell_type": "markdown",
   "metadata": {},
   "source": [
    "### 解析用データ作成\n",
    "\n",
    "（3年間骨肉腫に罹患しない）事象と各特徴量とのP値を計算する。\n",
    "- Osteogenic sarcoma data:骨肉腫\n",
    "- LI:リンパ球浸出\n",
    "- AOP:類骨病理学"
   ]
  },
  {
   "cell_type": "code",
   "execution_count": 34,
   "metadata": {},
   "outputs": [
    {
     "data": {
      "text/html": [
       "<div>\n",
       "<style scoped>\n",
       "    .dataframe tbody tr th:only-of-type {\n",
       "        vertical-align: middle;\n",
       "    }\n",
       "\n",
       "    .dataframe tbody tr th {\n",
       "        vertical-align: top;\n",
       "    }\n",
       "\n",
       "    .dataframe thead th {\n",
       "        text-align: right;\n",
       "    }\n",
       "</style>\n",
       "<table border=\"1\" class=\"dataframe\">\n",
       "  <thead>\n",
       "    <tr style=\"text-align: right;\">\n",
       "      <th></th>\n",
       "      <th>LI</th>\n",
       "      <th>SEX</th>\n",
       "      <th>AOP</th>\n",
       "      <th>COUNT</th>\n",
       "    </tr>\n",
       "    <tr>\n",
       "      <th>Y</th>\n",
       "      <th></th>\n",
       "      <th></th>\n",
       "      <th></th>\n",
       "      <th></th>\n",
       "    </tr>\n",
       "  </thead>\n",
       "  <tbody>\n",
       "    <tr>\n",
       "      <th>0</th>\n",
       "      <td>0</td>\n",
       "      <td>0</td>\n",
       "      <td>0</td>\n",
       "      <td>0</td>\n",
       "    </tr>\n",
       "    <tr>\n",
       "      <th>0</th>\n",
       "      <td>0</td>\n",
       "      <td>0</td>\n",
       "      <td>1</td>\n",
       "      <td>0</td>\n",
       "    </tr>\n",
       "    <tr>\n",
       "      <th>0</th>\n",
       "      <td>0</td>\n",
       "      <td>1</td>\n",
       "      <td>0</td>\n",
       "      <td>0</td>\n",
       "    </tr>\n",
       "    <tr>\n",
       "      <th>0</th>\n",
       "      <td>0</td>\n",
       "      <td>1</td>\n",
       "      <td>1</td>\n",
       "      <td>0</td>\n",
       "    </tr>\n",
       "    <tr>\n",
       "      <th>0</th>\n",
       "      <td>1</td>\n",
       "      <td>0</td>\n",
       "      <td>0</td>\n",
       "      <td>0</td>\n",
       "    </tr>\n",
       "    <tr>\n",
       "      <th>0</th>\n",
       "      <td>1</td>\n",
       "      <td>0</td>\n",
       "      <td>1</td>\n",
       "      <td>2</td>\n",
       "    </tr>\n",
       "    <tr>\n",
       "      <th>0</th>\n",
       "      <td>1</td>\n",
       "      <td>1</td>\n",
       "      <td>0</td>\n",
       "      <td>4</td>\n",
       "    </tr>\n",
       "    <tr>\n",
       "      <th>0</th>\n",
       "      <td>1</td>\n",
       "      <td>1</td>\n",
       "      <td>1</td>\n",
       "      <td>11</td>\n",
       "    </tr>\n",
       "    <tr>\n",
       "      <th>1</th>\n",
       "      <td>0</td>\n",
       "      <td>0</td>\n",
       "      <td>0</td>\n",
       "      <td>3</td>\n",
       "    </tr>\n",
       "    <tr>\n",
       "      <th>1</th>\n",
       "      <td>0</td>\n",
       "      <td>0</td>\n",
       "      <td>1</td>\n",
       "      <td>2</td>\n",
       "    </tr>\n",
       "    <tr>\n",
       "      <th>1</th>\n",
       "      <td>0</td>\n",
       "      <td>1</td>\n",
       "      <td>0</td>\n",
       "      <td>4</td>\n",
       "    </tr>\n",
       "    <tr>\n",
       "      <th>1</th>\n",
       "      <td>0</td>\n",
       "      <td>1</td>\n",
       "      <td>1</td>\n",
       "      <td>1</td>\n",
       "    </tr>\n",
       "    <tr>\n",
       "      <th>1</th>\n",
       "      <td>1</td>\n",
       "      <td>0</td>\n",
       "      <td>0</td>\n",
       "      <td>5</td>\n",
       "    </tr>\n",
       "    <tr>\n",
       "      <th>1</th>\n",
       "      <td>1</td>\n",
       "      <td>0</td>\n",
       "      <td>1</td>\n",
       "      <td>3</td>\n",
       "    </tr>\n",
       "    <tr>\n",
       "      <th>1</th>\n",
       "      <td>1</td>\n",
       "      <td>1</td>\n",
       "      <td>0</td>\n",
       "      <td>5</td>\n",
       "    </tr>\n",
       "    <tr>\n",
       "      <th>1</th>\n",
       "      <td>1</td>\n",
       "      <td>1</td>\n",
       "      <td>1</td>\n",
       "      <td>6</td>\n",
       "    </tr>\n",
       "  </tbody>\n",
       "</table>\n",
       "</div>"
      ],
      "text/plain": [
       "   LI  SEX  AOP  COUNT\n",
       "Y                     \n",
       "0   0    0    0      0\n",
       "0   0    0    1      0\n",
       "0   0    1    0      0\n",
       "0   0    1    1      0\n",
       "0   1    0    0      0\n",
       "0   1    0    1      2\n",
       "0   1    1    0      4\n",
       "0   1    1    1     11\n",
       "1   0    0    0      3\n",
       "1   0    0    1      2\n",
       "1   0    1    0      4\n",
       "1   0    1    1      1\n",
       "1   1    0    0      5\n",
       "1   1    0    1      3\n",
       "1   1    1    0      5\n",
       "1   1    1    1      6"
      ]
     },
     "execution_count": 34,
     "metadata": {},
     "output_type": "execute_result"
    }
   ],
   "source": [
    "ost = pd.read_csv(\"../input/ost.csv\", sep=',', index_col=0)\n",
    "ost\n",
    "#論文と照らし合わせ済み"
   ]
  },
  {
   "cell_type": "code",
   "execution_count": 35,
   "metadata": {},
   "outputs": [
    {
     "data": {
      "text/plain": [
       "31"
      ]
     },
     "execution_count": 35,
     "metadata": {},
     "output_type": "execute_result"
    }
   ],
   "source": [
    "LI_count = 0\n",
    "for i in range(ost.shape[0]):\n",
    "    LI_count += ost.iloc[i, 1]*ost.iloc[i, -1]\n",
    "LI_count    "
   ]
  },
  {
   "cell_type": "code",
   "execution_count": 36,
   "metadata": {},
   "outputs": [],
   "source": [
    "ost46 = pd.DataFrame(np.arange(1*4).reshape(1, 4), columns=['Y', 'LI', 'SEX', 'AOP'])\n",
    "ost_ = ost.reset_index() #index解除\n",
    "for i in range(ost_.shape[0]):\n",
    "    if ost_.iloc[i, -1] > 0:\n",
    "        for ii in range(ost_.iloc[i, -1]):\n",
    "            ost46.loc[ost46.shape[0]] = ost_.iloc[i, :-1]"
   ]
  },
  {
   "cell_type": "code",
   "execution_count": 37,
   "metadata": {},
   "outputs": [],
   "source": [
    "ost46 = ost46.drop(0)"
   ]
  },
  {
   "cell_type": "code",
   "execution_count": 38,
   "metadata": {},
   "outputs": [
    {
     "data": {
      "text/html": [
       "<div>\n",
       "<style scoped>\n",
       "    .dataframe tbody tr th:only-of-type {\n",
       "        vertical-align: middle;\n",
       "    }\n",
       "\n",
       "    .dataframe tbody tr th {\n",
       "        vertical-align: top;\n",
       "    }\n",
       "\n",
       "    .dataframe thead th {\n",
       "        text-align: right;\n",
       "    }\n",
       "</style>\n",
       "<table border=\"1\" class=\"dataframe\">\n",
       "  <thead>\n",
       "    <tr style=\"text-align: right;\">\n",
       "      <th></th>\n",
       "      <th>Y</th>\n",
       "      <th>LI</th>\n",
       "      <th>SEX</th>\n",
       "      <th>AOP</th>\n",
       "    </tr>\n",
       "  </thead>\n",
       "  <tbody>\n",
       "    <tr>\n",
       "      <th>1</th>\n",
       "      <td>0</td>\n",
       "      <td>1</td>\n",
       "      <td>0</td>\n",
       "      <td>1</td>\n",
       "    </tr>\n",
       "    <tr>\n",
       "      <th>2</th>\n",
       "      <td>0</td>\n",
       "      <td>1</td>\n",
       "      <td>0</td>\n",
       "      <td>1</td>\n",
       "    </tr>\n",
       "    <tr>\n",
       "      <th>3</th>\n",
       "      <td>0</td>\n",
       "      <td>1</td>\n",
       "      <td>1</td>\n",
       "      <td>0</td>\n",
       "    </tr>\n",
       "    <tr>\n",
       "      <th>4</th>\n",
       "      <td>0</td>\n",
       "      <td>1</td>\n",
       "      <td>1</td>\n",
       "      <td>0</td>\n",
       "    </tr>\n",
       "    <tr>\n",
       "      <th>5</th>\n",
       "      <td>0</td>\n",
       "      <td>1</td>\n",
       "      <td>1</td>\n",
       "      <td>0</td>\n",
       "    </tr>\n",
       "  </tbody>\n",
       "</table>\n",
       "</div>"
      ],
      "text/plain": [
       "   Y  LI  SEX  AOP\n",
       "1  0   1    0    1\n",
       "2  0   1    0    1\n",
       "3  0   1    1    0\n",
       "4  0   1    1    0\n",
       "5  0   1    1    0"
      ]
     },
     "execution_count": 38,
     "metadata": {},
     "output_type": "execute_result"
    }
   ],
   "source": [
    "ost46.head()"
   ]
  },
  {
   "cell_type": "code",
   "execution_count": 39,
   "metadata": {},
   "outputs": [],
   "source": [
    "ost46 = ost46.reset_index(drop=True)"
   ]
  },
  {
   "cell_type": "code",
   "execution_count": 40,
   "metadata": {},
   "outputs": [
    {
     "data": {
      "text/html": [
       "<div>\n",
       "<style scoped>\n",
       "    .dataframe tbody tr th:only-of-type {\n",
       "        vertical-align: middle;\n",
       "    }\n",
       "\n",
       "    .dataframe tbody tr th {\n",
       "        vertical-align: top;\n",
       "    }\n",
       "\n",
       "    .dataframe thead th {\n",
       "        text-align: right;\n",
       "    }\n",
       "</style>\n",
       "<table border=\"1\" class=\"dataframe\">\n",
       "  <thead>\n",
       "    <tr style=\"text-align: right;\">\n",
       "      <th></th>\n",
       "      <th>Y</th>\n",
       "      <th>LI</th>\n",
       "      <th>SEX</th>\n",
       "      <th>AOP</th>\n",
       "    </tr>\n",
       "  </thead>\n",
       "  <tbody>\n",
       "    <tr>\n",
       "      <th>0</th>\n",
       "      <td>0</td>\n",
       "      <td>1</td>\n",
       "      <td>0</td>\n",
       "      <td>1</td>\n",
       "    </tr>\n",
       "    <tr>\n",
       "      <th>1</th>\n",
       "      <td>0</td>\n",
       "      <td>1</td>\n",
       "      <td>0</td>\n",
       "      <td>1</td>\n",
       "    </tr>\n",
       "    <tr>\n",
       "      <th>2</th>\n",
       "      <td>0</td>\n",
       "      <td>1</td>\n",
       "      <td>1</td>\n",
       "      <td>0</td>\n",
       "    </tr>\n",
       "    <tr>\n",
       "      <th>3</th>\n",
       "      <td>0</td>\n",
       "      <td>1</td>\n",
       "      <td>1</td>\n",
       "      <td>0</td>\n",
       "    </tr>\n",
       "    <tr>\n",
       "      <th>4</th>\n",
       "      <td>0</td>\n",
       "      <td>1</td>\n",
       "      <td>1</td>\n",
       "      <td>0</td>\n",
       "    </tr>\n",
       "  </tbody>\n",
       "</table>\n",
       "</div>"
      ],
      "text/plain": [
       "   Y  LI  SEX  AOP\n",
       "0  0   1    0    1\n",
       "1  0   1    0    1\n",
       "2  0   1    1    0\n",
       "3  0   1    1    0\n",
       "4  0   1    1    0"
      ]
     },
     "execution_count": 40,
     "metadata": {},
     "output_type": "execute_result"
    }
   ],
   "source": [
    "ost46.head()"
   ]
  },
  {
   "cell_type": "markdown",
   "metadata": {},
   "source": [
    "<img src = '../input/about_SA.png'>"
   ]
  },
  {
   "cell_type": "markdown",
   "metadata": {},
   "source": [
    "- [SA](https://qiita.com/ShataKurashi/items/c0c6044e97fa9e4a9471#:~:text=%E7%84%BC%E3%81%8D%E3%81%AA%E3%81%BE%E3%81%97%E6%B3%95%EF%BC%88%E3%82%84%E3%81%8D%E3%81%AA%E3%81%BE%E3%81%97,%E3%81%A6%E3%80%81%E3%82%88%E3%81%84%E8%BF%91%E4%BC%BC%E3%82%92%E4%B8%8E%E3%81%88%E3%82%8B%E3%80%82)\n",
    "- [組み合わせ最適問題に対するSA法　中野秀男・中西義郎](http://www.orsj.or.jp/~archive/pdf/bul/Vol.31_01_043.pdf)\n",
    "- [4ti2 マルコフ基底](https://github.com/4ti2/4ti2)\n",
    "- [desr](https://desr.readthedocs.io/en/latest/hermite_smith_doc.html)\n",
    "  - [desr github](https://github.com/tanbur/desr):python2のようだ"
   ]
  },
  {
   "cell_type": "code",
   "execution_count": 45,
   "metadata": {},
   "outputs": [],
   "source": [
    "def each_energy(y_sample, t1): #毎回のmaskとyが引数、合致度合いの計算を行う\n",
    "    energy_except_LI = (np.dot(ost46['SEX'], y_sample)-16)**2 + (np.dot(ost46['AOP'], y_sample) - 12)**2 + (sum(y_sample) - 29)**2\n",
    "    energy_LI = (np.dot(ost46['LI'], y_sample) - t1)**2\n",
    "    return energy_except_LI + energy_LI"
   ]
  },
  {
   "cell_type": "code",
   "execution_count": 62,
   "metadata": {},
   "outputs": [],
   "source": [
    "y_list_num = {}\n",
    "y_list_variation = {}\n",
    "each_energy_list = []\n",
    "t_init = 1e4 #10000\n",
    "y_sample = ost46['Y'].copy()\n",
    "\n",
    "\n",
    "for t1 in range(19, 30):\n",
    "    y_list_num[t1] = 0\n",
    "    y_list_variation[t1] = []\n",
    "    for t in reversed(range(1, int(t_init))):\n",
    "        i = random.randrange(ost46.shape[0])\n",
    "        y_sample[i] = 1 - y_sample[i]\n",
    "        if each_energy(y_sample, t1) == 0:\n",
    "            y_list_num[t1] += 1\n",
    "            y_list_variation[t1].append(y_sample)\n",
    "            each_energy_list.append(0)\n",
    "        elif len(each_energy_list) > 0:\n",
    "            if np.random.rand() >= np.exp((each_energy_list[-1]-each_energy(y_sample, t1))/t):\n",
    "                y_sample[i] = 1 - y_sample[i]"
   ]
  },
  {
   "cell_type": "code",
   "execution_count": 63,
   "metadata": {},
   "outputs": [
    {
     "data": {
      "text/plain": [
       "{19: 0, 20: 0, 21: 0, 22: 0, 23: 0, 24: 0, 25: 0, 26: 0, 27: 0, 28: 0, 29: 0}"
      ]
     },
     "execution_count": 63,
     "metadata": {},
     "output_type": "execute_result"
    }
   ],
   "source": [
    "y_list_num"
   ]
  },
  {
   "cell_type": "code",
   "execution_count": null,
   "metadata": {},
   "outputs": [],
   "source": []
  },
  {
   "cell_type": "code",
   "execution_count": null,
   "metadata": {},
   "outputs": [],
   "source": []
  },
  {
   "cell_type": "code",
   "execution_count": null,
   "metadata": {},
   "outputs": [],
   "source": []
  },
  {
   "cell_type": "markdown",
   "metadata": {},
   "source": [
    "#### 論文記載のTable1を再現"
   ]
  },
  {
   "cell_type": "code",
   "execution_count": null,
   "metadata": {},
   "outputs": [],
   "source": [
    "ost_original_LISEXAOP = [\n",
    "    [0, 0, 0], [0, 0, 1], [0, 1, 0], [0, 1, 1], [1, 0, 0], [1, 0, 1], [1, 1, 0], [1, 1, 1]\n",
    "]\n",
    "len(ost_original_LISEXAOP)"
   ]
  },
  {
   "cell_type": "code",
   "execution_count": null,
   "metadata": {},
   "outputs": [],
   "source": [
    "ost_original = pd.DataFrame(np.arange(32).reshape(8, 4), columns=['LI', 'SEX', 'AOP', 'Propotion DFI3'])\n",
    "\n",
    "pro_pra = [0]*8\n",
    "pro_mina = [0]*8\n",
    "for i in range(ost.shape[0]):\n",
    "    for ii in range(len(ost_original_LISEXAOP)):\n",
    "        if list(ost.iloc[i, 0:3])==ost_original_LISEXAOP[ii]:\n",
    "            if ost.index[i]==1:\n",
    "                pro_pra[ii] += ost.iloc[i, 3]\n",
    "            else:\n",
    "                pro_mina[ii] += ost.iloc[i, 3]\n",
    "\n",
    "print(pro_pra)\n",
    "print(pro_mina)  "
   ]
  },
  {
   "cell_type": "code",
   "execution_count": null,
   "metadata": {},
   "outputs": [],
   "source": [
    "for i in range(len(ost_original_LISEXAOP)):#num_samples\n",
    "    ost_original.iloc[i, :3] = ost_original_LISEXAOP[i]\n",
    "    ost_original.iloc[i, 3] = round([pro_pra[k]/(pro_pra[k]+pro_mina[k]) for k in range(len(pro_pra))][i], 2)\n",
    "ost_original"
   ]
  },
  {
   "cell_type": "code",
   "execution_count": null,
   "metadata": {},
   "outputs": [],
   "source": [
    "ost.head()"
   ]
  },
  {
   "cell_type": "markdown",
   "metadata": {},
   "source": [
    "### (t_0, t_1, t_2, t_3)を表示\n",
    "- t_i = 「（3年後に骨肉腫に罹患していない(=1)）かつ（特徴量iが1である）」サンプル数"
   ]
  },
  {
   "cell_type": "code",
   "execution_count": null,
   "metadata": {},
   "outputs": [],
   "source": [
    "t_list = []\n",
    "count_y = sum([ost.index[i]*ost.iat[i, 3] for i in range(ost.shape[0])])#単に、3年後に骨肉腫に罹患していないサンプル数\n",
    "t_list.append(count_y)\n",
    "for j in range(3):\n",
    "    count = sum([ost.iat[i, j]*ost.iat[i, 3] for i in range(ost.shape[0]) if ost.index[i]==1])\n",
    "    t_list.append(count)"
   ]
  },
  {
   "cell_type": "code",
   "execution_count": null,
   "metadata": {},
   "outputs": [],
   "source": [
    "t_list#Y, LI, SEX, AOP"
   ]
  },
  {
   "cell_type": "markdown",
   "metadata": {},
   "source": [
    "### t_1(LI)以外固定してサンプリング"
   ]
  },
  {
   "cell_type": "code",
   "execution_count": null,
   "metadata": {},
   "outputs": [],
   "source": []
  },
  {
   "cell_type": "code",
   "execution_count": null,
   "metadata": {},
   "outputs": [],
   "source": []
  },
  {
   "cell_type": "code",
   "execution_count": null,
   "metadata": {},
   "outputs": [],
   "source": []
  },
  {
   "cell_type": "code",
   "execution_count": null,
   "metadata": {},
   "outputs": [],
   "source": []
  },
  {
   "cell_type": "code",
   "execution_count": null,
   "metadata": {},
   "outputs": [],
   "source": []
  },
  {
   "cell_type": "code",
   "execution_count": null,
   "metadata": {},
   "outputs": [],
   "source": []
  },
  {
   "cell_type": "code",
   "execution_count": null,
   "metadata": {},
   "outputs": [],
   "source": [
    "pacient_num = sum(ost.iloc[:, -1])"
   ]
  },
  {
   "cell_type": "code",
   "execution_count": null,
   "metadata": {},
   "outputs": [],
   "source": [
    "li = Array.create('LI', shape=pacient_num, vartype='BINARY')\n",
    "H = (sum([li[i]*ost.iloc[i, -1] for i in range(ost.shape[0])]) - t_list[1])**2 #19になるように固定した\n",
    "qb = H.compile().to_qubo()\n",
    "sa_sampler = SimulatedAnnealingSampler()\n",
    "\n",
    "res = sa_sampler.sample_qubo(qb[0], num_reads=100) "
   ]
  },
  {
   "cell_type": "code",
   "execution_count": null,
   "metadata": {},
   "outputs": [],
   "source": [
    "print(len(res))"
   ]
  },
  {
   "cell_type": "code",
   "execution_count": null,
   "metadata": {},
   "outputs": [],
   "source": [
    "for li_info in list(res.record):\n",
    "    print(li_info[0])"
   ]
  },
  {
   "cell_type": "code",
   "execution_count": null,
   "metadata": {},
   "outputs": [],
   "source": [
    "y = Array.create('Y', shape=pacient_num, vartype='BINARY')\n",
    "sex = Array.create('SEX', shape=pacient_num, vartype='BINARY')\n",
    "aop = Array.create('AOP', shape=pacient_num, vartype='BINARY')\n",
    "li = Array.create('LI', shape=pacient_num, vartype='BINARY')\n",
    "\n",
    "H = (sum(y) - t_list[0])**2 + (sum(sex) - t_list[2])**2 + (sum(aop) - t_list[3])**2\n",
    "qb = H.compile().to_qubo()\n",
    "sa_sampler = SimulatedAnnealingSampler()\n",
    "\n",
    "res = sa_sampler.sample_qubo(qb[0], num_reads=100)"
   ]
  },
  {
   "cell_type": "code",
   "execution_count": null,
   "metadata": {},
   "outputs": [],
   "source": [
    "res.record"
   ]
  },
  {
   "cell_type": "code",
   "execution_count": null,
   "metadata": {},
   "outputs": [],
   "source": [
    "ost"
   ]
  },
  {
   "cell_type": "code",
   "execution_count": null,
   "metadata": {},
   "outputs": [],
   "source": [
    "#超幾何分布の見本\n",
    "feature_Y = pd.DataFrame(columns=['feature1', 'feature0', 'feature_sum'],index=['Y1', 'Y0', 'Y_sum'])\n",
    "feature_Y.iloc[0, 0] = 'k'\n",
    "feature_Y.iloc[0, 2] = 'K'\n",
    "feature_Y.iloc[2, 0] = 'n'\n",
    "feature_Y.iloc[2, 2] = 'N'\n",
    "\n",
    "feature_Y"
   ]
  },
  {
   "cell_type": "code",
   "execution_count": null,
   "metadata": {},
   "outputs": [],
   "source": [
    "LI_Y = pd.DataFrame(columns=['LI1', 'LI0', 'LIsum'],index=['Y1', 'Y0', 'Ysum'])\n",
    "LI_Y.fillna(0, inplace=True)\n",
    "LI_Y"
   ]
  },
  {
   "cell_type": "code",
   "execution_count": null,
   "metadata": {},
   "outputs": [],
   "source": [
    "for i in range(ost.shape[0]):\n",
    "    if ost.index[i] == 1 and ost.iloc[i, 0] == 1:\n",
    "        LI_Y.iloc[0, 0] += ost.iloc[i, -1]\n",
    "    elif ost.index[i] == 1 and ost.iloc[i, 0] == 0:\n",
    "        LI_Y.iloc[0, 1] += ost.iloc[i, -1]\n",
    "    elif ost.index[i] == 0 and ost.iloc[i, 0] == 1:\n",
    "        LI_Y.iloc[1, 0] += ost.iloc[i, -1]\n",
    "    else:\n",
    "        LI_Y.iloc[1, 1] += ost.iloc[i, -1]\n",
    "\n",
    "#print(LI_Y)\n",
    "LI_Y.iloc[0, 2] = LI_Y.iloc[0, 0] + LI_Y.iloc[0, 1]\n",
    "LI_Y.iloc[1, 2] = LI_Y.iloc[1, 0] + LI_Y.iloc[1, 1]\n",
    "LI_Y.iloc[2, 0] = LI_Y.iloc[0, 0] + LI_Y.iloc[1, 0]\n",
    "LI_Y.iloc[2, 1] = LI_Y.iloc[0, 1] + LI_Y.iloc[1, 1]\n",
    "\n",
    "if LI_Y.iloc[0, 2] + LI_Y.iloc[1, 2] == LI_Y.iloc[2, 0] + LI_Y.iloc[2, 1]:\n",
    "    LI_Y.iloc[2, 2] = LI_Y.iloc[2, 0] + LI_Y.iloc[2, 1]\n",
    "else:\n",
    "    print('error is occured')"
   ]
  },
  {
   "cell_type": "code",
   "execution_count": null,
   "metadata": {},
   "outputs": [],
   "source": [
    "LI_Y"
   ]
  },
  {
   "cell_type": "code",
   "execution_count": null,
   "metadata": {},
   "outputs": [],
   "source": [
    "LI_Y_list = LI_Y.values.tolist()\n",
    "LI_Y_list"
   ]
  },
  {
   "cell_type": "markdown",
   "metadata": {},
   "source": [
    "超幾何分布を考えると、$K=29, n=36, k=19, N=46$\n",
    "\n",
    "マルコフ基底において固定する十分統計量は$29, 17, 46, 10, 36$（周辺和）"
   ]
  },
  {
   "cell_type": "code",
   "execution_count": null,
   "metadata": {},
   "outputs": [],
   "source": [
    "#NCn\n",
    "print(comb(46, 36, exact=True))\n",
    "print(comb(LI_Y.iloc[2, 2], LI_Y.iloc[2, 0], exact=True))"
   ]
  },
  {
   "cell_type": "code",
   "execution_count": null,
   "metadata": {},
   "outputs": [],
   "source": [
    "KCk = comb(LI_Y.iloc[0, 2], LI_Y.iloc[0, 0], exact=True)\n",
    "NKCnk = comb(LI_Y.iloc[1, 2], LI_Y.iloc[1, 0], exact=True)\n",
    "NCn = comb(LI_Y.iloc[2, 2], LI_Y.iloc[2, 0], exact=True)\n",
    "p_ori = KCk*NKCnk/NCn\n",
    "p_ori"
   ]
  },
  {
   "cell_type": "code",
   "execution_count": null,
   "metadata": {},
   "outputs": [],
   "source": [
    "p_ori_chi = math.factorial(LI_Y.iloc[0, 2])*math.factorial(LI_Y.iloc[1, 2])*math.factorial(LI_Y.iloc[2, 1])*math.factorial(LI_Y.iloc[2, 0])\n",
    "p_ori_mom = math.factorial(LI_Y.iloc[2, 2])*math.factorial(LI_Y.iloc[0, 0])*math.factorial(LI_Y.iloc[0, 1])*math.factorial(LI_Y.iloc[1, 0])*math.factorial(LI_Y.iloc[1, 1])\n",
    "p_ori = p_ori_chi/p_ori_mom\n",
    "p_ori"
   ]
  },
  {
   "cell_type": "code",
   "execution_count": null,
   "metadata": {},
   "outputs": [],
   "source": [
    "p_ori_chi = math.factorial(LI_Y_list[0][-1])*math.factorial(LI_Y_list[1][-1])*math.factorial(LI_Y_list[2][1])*math.factorial(LI_Y_list[2][0])\n",
    "p_ori_mom = math.factorial(LI_Y_list[2][-1])*math.factorial(LI_Y_list[0][0])*math.factorial(LI_Y_list[0][1])*math.factorial(LI_Y_list[1][0])*math.factorial(LI_Y_list[1][1])\n",
    "p_ori = p_ori_chi/p_ori_mom\n",
    "p_ori\n"
   ]
  },
  {
   "cell_type": "code",
   "execution_count": null,
   "metadata": {},
   "outputs": [],
   "source": [
    "p_sum = 0\n",
    "range_num = min(LI_Y.iloc[0, 2], LI_Y.iloc[2, 0])+1\n",
    "for k in range(0, range_num): #k = LI_Y.iloc[0, 0]として\n",
    "    LI_Y.iloc[0, 0] = k\n",
    "    LI_Y.iloc[0, 1] = LI_Y.iloc[0, 2] - k\n",
    "    LI_Y.iloc[1, 0] = LI_Y.iloc[2, 0] - k\n",
    "    LI_Y.iloc[1, 1] = LI_Y.iloc[2, 2] - LI_Y.iloc[0, 2] - (LI_Y.iloc[2, 0] - k)\n",
    "    if min(k, LI_Y.iloc[0, 1], LI_Y.iloc[1, 0], LI_Y.iloc[1, 1]) >= 0:\n",
    "        print(LI_Y)\n",
    "        KCk = comb(LI_Y.iloc[0, 2], k, exact=True)\n",
    "        NKCnk = comb(LI_Y.iloc[1, 2], LI_Y.iloc[1, 0], exact=True)\n",
    "        NCn = comb(LI_Y.iloc[2, 2], LI_Y.iloc[2, 0], exact=True)\n",
    "        p = KCk*NKCnk/NCn\n",
    "        print('p =',p)\n",
    "        \n",
    "        p_sum += p\n",
    "        print('p_sum =', p_sum)\n",
    "\n",
    "p_sum"
   ]
  },
  {
   "cell_type": "markdown",
   "metadata": {},
   "source": []
  },
  {
   "cell_type": "code",
   "execution_count": null,
   "metadata": {},
   "outputs": [],
   "source": []
  }
 ],
 "metadata": {
  "kernelspec": {
   "display_name": "Python 3",
   "language": "python",
   "name": "python3"
  },
  "language_info": {
   "codemirror_mode": {
    "name": "ipython",
    "version": 3
   },
   "file_extension": ".py",
   "mimetype": "text/x-python",
   "name": "python",
   "nbconvert_exporter": "python",
   "pygments_lexer": "ipython3",
   "version": "3.6.9"
  }
 },
 "nbformat": 4,
 "nbformat_minor": 4
}
