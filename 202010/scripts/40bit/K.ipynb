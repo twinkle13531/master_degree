{
 "cells": [
  {
   "cell_type": "code",
   "execution_count": 1,
   "metadata": {},
   "outputs": [],
   "source": [
    "#                                                                        \n",
    "# ost40_exact_test.py                                                    \n",
    "#                                                                        \n",
    "                                                                         \n",
    "#=============                                                           \n",
    "# 準備                                                                   \n",
    "#=============                                                           \n",
    "                                                                         \n",
    "# cell ==================================                                \n",
    "                                                                         \n",
    "import pandas as pd                                                      \n",
    "import numpy as np                                                       \n",
    "from scipy.special import comb                                           \n",
    "import math                                                              \n",
    "from neal import SimulatedAnnealingSampler                               \n",
    "from pyqubo import Array, Constraint, Placeholder, solve_qubo            \n",
    "import itertools                                                         \n",
    "import random                                                            \n",
    "import matplotlib.pyplot as plt                                          \n",
    "import timeit                                                            \n",
    "                                                                         \n",
    "#=========================================                               \n",
    "                                                                         "
   ]
  },
  {
   "cell_type": "code",
   "execution_count": 5,
   "metadata": {},
   "outputs": [],
   "source": [
    "#=============                              \n",
    "# 関数定義                                  \n",
    "#=============                              \n",
    "                                            \n",
    "# make_t_list_columns_num_samples           \n",
    "# は正確検定の表の周辺和を計算しているので、\n",
    "# 次の関数に置き換え                        \n",
    "def calc_marginals(df):                     \n",
    "    return np.array([                       \n",
    "        sum(df['Y']),                      \n",
    "        np.dot(df['Y'], df['LI']),         \n",
    "        np.dot(df['Y'], df['SEX']),        \n",
    "        np.dot(df['Y'], df['AOP']),        \n",
    "    ])                                      \n",
    "                                            "
   ]
  },
  {
   "cell_type": "code",
   "execution_count": 6,
   "metadata": {},
   "outputs": [],
   "source": [
    "                                                            \n",
    "#=============                                              \n",
    "# デバッグ                                                  \n",
    "#=============                                              \n",
    "                                                            \n",
    "# cell ==================================                   \n",
    "                                                            \n",
    "# ハミルトニアンを途中まで作成                              \n",
    "df = pd.read_csv(\"../../input/ost40.csv\", sep=',', index_col=0)       \n",
    "t_list = calc_marginals(df)                                 \n",
    "                                                            \n",
    "y = Array.create('y', shape=df.shape[0], vartype='BINARY')  \n",
    "H = (sum(y) - t_list[0])**2                                 \n",
    "                                                            \n",
    "#========================================                   "
   ]
  },
  {
   "cell_type": "code",
   "execution_count": 8,
   "metadata": {},
   "outputs": [
    {
     "name": "stdout",
     "output_type": "stream",
     "text": [
      "offset value:  625.0\n"
     ]
    },
    {
     "data": {
      "text/plain": [
       "SampleSet(rec.array([([0, 0, 0, 1, 1, 0, 1, 1, 1, 0, 0, 1, 1, 1, 1, 0, 0, 1, 1, 0, 1, 1, 1, 0, 0, 1, 1, 1, 0, 1, 1, 0, 1, 1, 0, 1, 1, 1, 1, 0], -625., 1)],\n",
       "          dtype=[('sample', 'i1', (40,)), ('energy', '<f8'), ('num_occurrences', '<i8')]), ['y[0]', 'y[10]', 'y[11]', 'y[12]', 'y[13]', 'y[14]', 'y[15]', 'y[16]', 'y[17]', 'y[18]', 'y[19]', 'y[1]', 'y[20]', 'y[21]', 'y[22]', 'y[23]', 'y[24]', 'y[25]', 'y[26]', 'y[27]', 'y[28]', 'y[29]', 'y[2]', 'y[30]', 'y[31]', 'y[32]', 'y[33]', 'y[34]', 'y[35]', 'y[36]', 'y[37]', 'y[38]', 'y[39]', 'y[3]', 'y[4]', 'y[5]', 'y[6]', 'y[7]', 'y[8]', 'y[9]'], {'beta_range': [0.02829172165550797, 9.210340371976184], 'beta_schedule_type': 'geometric'}, 'BINARY')"
      ]
     },
     "execution_count": 8,
     "metadata": {},
     "output_type": "execute_result"
    }
   ],
   "source": [
    "#========================================           \n",
    "                                                    \n",
    "# ハミルトニアンをQUBOにコンパイルしてサンプリング  \n",
    "# その際、QUBOのバイアスを表示                      \n",
    "sa_sampler = SimulatedAnnealingSampler() \n",
    "q, b = H.compile().to_qubo()                        \n",
    "print(\"offset value: \", b)                          \n",
    "sa_sampler.sample(q)                           \n",
    "                                                    \n",
    "#========================================           \n",
    "                                                    "
   ]
  },
  {
   "cell_type": "code",
   "execution_count": 20,
   "metadata": {},
   "outputs": [
    {
     "data": {
      "text/plain": [
       "SampleSet(rec.array([([1, 0, 0, 1, 1, 1, 1, 0, 1, 0, 1, 1, 0, 1, 1, 0, 1, 0, 1, 1, 1, 0, 1, 0, 0, 1, 1, 1, 1, 0, 1, 0, 1, 0, 0, 1, 1, 1, 0, 1], 0., 1)],\n",
       "          dtype=[('sample', 'i1', (40,)), ('energy', '<f8'), ('num_occurrences', '<i8')]), ['y[0]', 'y[10]', 'y[11]', 'y[12]', 'y[13]', 'y[14]', 'y[15]', 'y[16]', 'y[17]', 'y[18]', 'y[19]', 'y[1]', 'y[20]', 'y[21]', 'y[22]', 'y[23]', 'y[24]', 'y[25]', 'y[26]', 'y[27]', 'y[28]', 'y[29]', 'y[2]', 'y[30]', 'y[31]', 'y[32]', 'y[33]', 'y[34]', 'y[35]', 'y[36]', 'y[37]', 'y[38]', 'y[39]', 'y[3]', 'y[4]', 'y[5]', 'y[6]', 'y[7]', 'y[8]', 'y[9]'], {'beta_range': [0.02829172165550797, 9.210340371976184], 'beta_schedule_type': 'geometric'}, 'BINARY')"
      ]
     },
     "execution_count": 20,
     "metadata": {},
     "output_type": "execute_result"
    }
   ],
   "source": [
    "#========================================               \n",
    "                                                        \n",
    "# ハミルトニアンをBQMにコンパイルしてサンプリング       \n",
    "bqm = H.compile().to_bqm()                        \n",
    "sa_sampler.sample(bqm)                                  \n",
    "                                                        \n",
    "#========================================               \n",
    "                                                        "
   ]
  },
  {
   "cell_type": "code",
   "execution_count": 28,
   "metadata": {},
   "outputs": [
    {
     "data": {
      "text/plain": [
       "SampleSet(rec.array([([1, 1, 1, 1, 1, 1, 1, 0, 1, 1, 0, 1, 1, 0, 1, 1, 0, 0, 0, 1, 1, 0, 1, 0, 1, 1, 1, 1, 0, 1, 1, 0, 1, 0, 0, 1, 0, 0, 0, 1], 0., 1)],\n",
       "          dtype=[('sample', 'i1', (40,)), ('energy', '<f8'), ('num_occurrences', '<i8')]), ['y[0]', 'y[10]', 'y[11]', 'y[12]', 'y[13]', 'y[14]', 'y[15]', 'y[16]', 'y[17]', 'y[18]', 'y[19]', 'y[1]', 'y[20]', 'y[21]', 'y[22]', 'y[23]', 'y[24]', 'y[25]', 'y[26]', 'y[27]', 'y[28]', 'y[29]', 'y[2]', 'y[30]', 'y[31]', 'y[32]', 'y[33]', 'y[34]', 'y[35]', 'y[36]', 'y[37]', 'y[38]', 'y[39]', 'y[3]', 'y[4]', 'y[5]', 'y[6]', 'y[7]', 'y[8]', 'y[9]'], {'beta_range': [0.010663802777845312, 9.210340371976184], 'beta_schedule_type': 'geometric'}, 'BINARY')"
      ]
     },
     "execution_count": 28,
     "metadata": {},
     "output_type": "execute_result"
    }
   ],
   "source": [
    "columns = list(df.columns)\n",
    "#========================================                                    \n",
    "                                                                             \n",
    "# ハミルトニアンを全て作成してサンプリング                                   \n",
    "# 元のデータと周辺和が一致するようにyに制約を加える                          \n",
    "                                                                             \n",
    "H = (sum(y) - t_list[0])**2                                                  \n",
    "t1 = 18                                                                      \n",
    "H += (np.dot(df[columns[1]], y) - t1)**2 ### ???? ここは何をしている？       \n",
    "# for j in range(2, len(columns)):                                           \n",
    "#     H_plus = (np.dot(df[columns[j]], y) - t_list[j])**2                    \n",
    "#     H += H_plus                                                            \n",
    "# ここは次のように書いてもよい。                                             \n",
    "for j in range(2, len(t_list)):                                              \n",
    "    v = df.to_numpy()[:,j] # 目的の行を取り出す                              \n",
    "    H += (y.dot(v) - t_list[j]) ** 2                                         \n",
    "                                                                             \n",
    "bqm = H.compile().to_bqm()                                             \n",
    "sa_sampler.sample(bqm)                                                       \n",
    "                                                                             \n",
    "#========================================                                                                  "
   ]
  },
  {
   "cell_type": "code",
   "execution_count": null,
   "metadata": {},
   "outputs": [],
   "source": []
  },
  {
   "cell_type": "code",
   "execution_count": null,
   "metadata": {},
   "outputs": [],
   "source": []
  }
 ],
 "metadata": {
  "kernelspec": {
   "display_name": "Python 3",
   "language": "python",
   "name": "python3"
  },
  "language_info": {
   "codemirror_mode": {
    "name": "ipython",
    "version": 3
   },
   "file_extension": ".py",
   "mimetype": "text/x-python",
   "name": "python",
   "nbconvert_exporter": "python",
   "pygments_lexer": "ipython3",
   "version": "3.6.9"
  }
 },
 "nbformat": 4,
 "nbformat_minor": 4
}
