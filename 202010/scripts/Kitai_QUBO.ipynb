{
 "cells": [
  {
   "cell_type": "markdown",
   "metadata": {},
   "source": [
    "# 1: QUBOの定義とnumpy行列による表現\n",
    "二次二値関数最適化(Quadratic Unconstrained Binary Optimization; QUBO)問題とは次のように定義される最小化問題である。\n",
    "\n",
    "$$ \\min_{\\mathbf x\\in\\{0,1\\}^N}\\sum_{i\\leq j}q_{ij}x_ix_j.$$\n",
    "\n",
    "ここで$N$は問題の次元数、上三角行列$Q=\\{q_{ij}\\in\\mathbb R\\}$は問題を定義するパラメータである。\n",
    "\n",
    "このQUBO問題自体はQをnumpy行列として作成すれば表現可能である。\n",
    "例として、\n",
    "\n",
    "$$\n",
    "\\begin{align}\n",
    "f(x) &= x_1-1x_2-2x_3 \\\\\n",
    " & +2x_1x_2-x_1x_3 \\\\\n",
    " & -2x_2x_3-x_2x_4 \\\\\n",
    " & +2x_3x_4\n",
    "\\end{align}\n",
    "$$\n",
    "という問題を考える。4ビットの問題なので解の候補は$2^4=16$通り。\n",
    "先に解を全通り試しておくと\n",
    "\n",
    "|$x_1$|$x_2$|$x_3$|$x_4$| f(x) |\n",
    "|:-:|:-:|:-:|:-:|:-:|\n",
    "|0|0|0|0|0|\n",
    "|0|0|0|1|0|\n",
    "|0|0|1|0|-2|\n",
    "|0|0|1|1|0|\n",
    "|0|1|0|0|-1|\n",
    "|0|1|0|1|-2|\n",
    "|0|1|1|0|-5|\n",
    "|0|1|1|1|-4|\n",
    "|1|0|0|0|1|\n",
    "|1|0|0|1|1|\n",
    "|1|0|1|0|-2|\n",
    "|1|0|1|1|0|\n",
    "|1|1|0|0|2|\n",
    "|1|1|0|1|1|\n",
    "|1|1|1|0|-3|\n",
    "|1|1|1|1|-2|\n",
    "\n",
    "で、最適解は$\\mathbf x= [0,1,1,0]^\\top$であると分かる。この問題の行列表現は\n",
    "$$\n",
    "Q=\\begin{pmatrix}\n",
    "1 & 2 & -1 & 0 \\\\\n",
    "0 & -1 & -2 & -1 \\\\\n",
    "0 & 0 & -2 & 2 \\\\\n",
    "0 & 0 & 0 & 0 \\\\\n",
    "\\end{pmatrix}\n",
    "$$\n",
    "なので、numpy行列としてこれを作成する。"
   ]
  },
  {
   "cell_type": "code",
   "execution_count": 1,
   "metadata": {},
   "outputs": [],
   "source": [
    "import numpy as np\n",
    "Q = np.array([\n",
    "    [1, 2, -1, 0],\n",
    "    [0, -1, -2, -1],\n",
    "    [0, 0, -2, 2],\n",
    "    [0, 0, 0, 0]\n",
    "])\n",
    "\n",
    "def xQx(x, Q):\n",
    "    return x.dot(Q.dot(x))\n",
    "\n",
    "assert xQx(np.array([0,1,1,1]), Q) == -4"
   ]
  },
  {
   "cell_type": "markdown",
   "metadata": {},
   "source": [
    "これを解くために、ここではD-Wave Systems社がPythonクラスとして提供しているQUBO問題のソルバーを利用する。ひとまず4種類挙げておく。\n",
    "\n",
    "| クラス名 | アルゴリズム |\n",
    "|:--|:--|\n",
    "|dwave_qbsolv.QBSolv| タブー探索 |\n",
    "|neal.SimulatedAnnealingSampler | 焼きなまし法(SA) |\n",
    "|dwave.system.samplers.DWaveSampler | 量子アニーリング(QA) |\n",
    "|dwave.system.composites.AutoEmbeddingComposite|量子アニーリング(QA)|\n",
    "\n",
    "QAのソルバーが二つある理由は後述する。\n",
    "\n",
    "## 1.1: タブー探索による解法\n",
    "\n",
    "まずはタブー探索で解いてみる。ソルバーのクラスのインスタンスを作成したら、その`sample_qubo`メソッドに先ほど作成した`Q`を与えればQUBO問題を解いてくれる。"
   ]
  },
  {
   "cell_type": "code",
   "execution_count": 2,
   "metadata": {},
   "outputs": [
    {
     "data": {
      "text/plain": [
       "SampleSet(rec.array([([0, 1, 1, 0], -5., 51)],\n",
       "          dtype=[('sample', 'i1', (4,)), ('energy', '<f8'), ('num_occurrences', '<i8')]), [0, 1, 2, 3], {}, 'BINARY')"
      ]
     },
     "execution_count": 2,
     "metadata": {},
     "output_type": "execute_result"
    }
   ],
   "source": [
    "# pip install dwave_qbsolv でインストールしておく\n",
    "from dwave_qbsolv import QBSolv\n",
    "qbsolv = QBSolv()\n",
    "\n",
    "res = qbsolv.sample_qubo(Q)\n",
    "res"
   ]
  },
  {
   "cell_type": "markdown",
   "metadata": {},
   "source": [
    "この出力から、答えは`dimod.sampleset.SampleSet`クラスのオブジェクトとして返されており、\n",
    "その中身は`rec.array`というオブジェクトと\\[0,1,2,3\\]というリスト、空の辞書\\{\\}と'BINARY'という文字列を含んでいるらしい。その内容は[GitHub上のソースコード](https://github.com/dwavesystems/dimod/blob/126a9056c4226d6955395620efb94ebee07581a5/dimod/sampleset.py#L311)を見ることで分かるが、`record`というメンバ変数にアクセスすることで取得できる。"
   ]
  },
  {
   "cell_type": "code",
   "execution_count": 3,
   "metadata": {
    "scrolled": true
   },
   "outputs": [
    {
     "data": {
      "text/plain": [
       "rec.array([([0, 1, 1, 0], -5., 51)],\n",
       "          dtype=[('sample', 'i1', (4,)), ('energy', '<f8'), ('num_occurrences', '<i8')])"
      ]
     },
     "execution_count": 3,
     "metadata": {},
     "output_type": "execute_result"
    }
   ],
   "source": [
    "res.record"
   ]
  },
  {
   "cell_type": "markdown",
   "metadata": {},
   "source": [
    "これはnumpyのrec.arrayというクラス(record arrayの略)のオブジェクトで、データの本体である\\[(\\[0, 1, 1, 0\\], -5., 51)\\]というリストのそれぞれの要素が'sample'と呼ばれる長さ4の整数(integer)、'energy'と呼ばれる浮動小数点数、'num_occurrences'と呼ばれる整数からなることを表している。\n",
    "\n",
    "つまりQBSolvを実行した結果、$x=[0, 1, 1, 0]^\\top$というエネルギー-5の解が51回出現したということである。\n",
    "rec.arrayオブジェクトは名前を添字としてそれぞれの配列にアクセスできる。"
   ]
  },
  {
   "cell_type": "code",
   "execution_count": 4,
   "metadata": {},
   "outputs": [
    {
     "name": "stdout",
     "output_type": "stream",
     "text": [
      "[[0 1 1 0]]\n",
      "[-5.]\n",
      "[51]\n"
     ]
    }
   ],
   "source": [
    "print(res.record['sample'])\n",
    "print(res.record['energy'])\n",
    "print(res.record['num_occurrences'])"
   ]
  },
  {
   "cell_type": "markdown",
   "metadata": {},
   "source": [
    "また、その他の情報も`variables`, `info`, `vartype`というメンバ変数(プロパティ)にアクセスすると得られる。"
   ]
  },
  {
   "cell_type": "code",
   "execution_count": 5,
   "metadata": {},
   "outputs": [
    {
     "data": {
      "text/plain": [
       "Variables([0, 1, 2, 3])"
      ]
     },
     "execution_count": 5,
     "metadata": {},
     "output_type": "execute_result"
    }
   ],
   "source": [
    "res.variables # 変数名を表す。今回は行列の形であたえたので、インデックスである0〜3がそのまま並んでいる。"
   ]
  },
  {
   "cell_type": "code",
   "execution_count": 6,
   "metadata": {},
   "outputs": [
    {
     "data": {
      "text/plain": [
       "{}"
      ]
     },
     "execution_count": 6,
     "metadata": {},
     "output_type": "execute_result"
    }
   ],
   "source": [
    "res.info # 解いたときの付加的な情報が格納される。QBSolvは特に情報を残さないので空っぽ。"
   ]
  },
  {
   "cell_type": "code",
   "execution_count": 7,
   "metadata": {},
   "outputs": [
    {
     "data": {
      "text/plain": [
       "<Vartype.BINARY: frozenset({0, 1})>"
      ]
     },
     "execution_count": 7,
     "metadata": {},
     "output_type": "execute_result"
    }
   ],
   "source": [
    "res.vartype # QUBO問題は変数が0/1なのでBINARYと表示される。変数が-1/+1であるSPINもある。"
   ]
  },
  {
   "cell_type": "markdown",
   "metadata": {},
   "source": [
    "例えば、変数名を0, 1, 2, 3ではなく a, b, c, dなどとしたい場合は、Qを辞書オブジェクトで次のように表現する。"
   ]
  },
  {
   "cell_type": "code",
   "execution_count": 8,
   "metadata": {},
   "outputs": [
    {
     "data": {
      "text/plain": [
       "Variables(['a', 'b', 'c', 'd'])"
      ]
     },
     "execution_count": 8,
     "metadata": {},
     "output_type": "execute_result"
    }
   ],
   "source": [
    "Q = {\n",
    " ('a', 'a'): 1,\n",
    " ('a', 'b'): 2,\n",
    " ('a', 'c'): -1,\n",
    " ('b', 'b'): -1,\n",
    " ('b', 'c'): -2,\n",
    " ('b', 'd'): -1,\n",
    " ('c', 'c'): -2,\n",
    " ('c', 'd'): 2\n",
    "}\n",
    "res = qbsolv.sample_qubo(Q)\n",
    "res.variables"
   ]
  },
  {
   "cell_type": "markdown",
   "metadata": {},
   "source": [
    "タブー探索のアルゴリズム自体には全く触れなかったが、詳細は[\\[Glover　& Laguna, 1998\\]](https://link.springer.com/chapter/10.1007%2F978-1-4613-0303-9_33)等を参照。\n",
    "\n",
    "## 1.2: 焼きなまし法による解法\n",
    "焼きなまし法でもまったく同様に解くことができる。"
   ]
  },
  {
   "cell_type": "code",
   "execution_count": 9,
   "metadata": {},
   "outputs": [
    {
     "data": {
      "text/plain": [
       "SampleSet(rec.array([([0, 1, 1, 0], -5., 1)],\n",
       "          dtype=[('sample', 'i1', (4,)), ('energy', '<f8'), ('num_occurrences', '<i8')]), ['a', 'b', 'c', 'd'], {'beta_range': [0.2772588722239781, 18.420680743952367], 'beta_schedule_type': 'geometric'}, 'BINARY')"
      ]
     },
     "execution_count": 9,
     "metadata": {},
     "output_type": "execute_result"
    }
   ],
   "source": [
    "# pip install dwave_neal でインストールしておく。\n",
    "from neal import SimulatedAnnealingSampler\n",
    "sa_sampler = SimulatedAnnealingSampler()\n",
    "\n",
    "res = sa_sampler.sample_qubo(Q)\n",
    "res"
   ]
  },
  {
   "cell_type": "markdown",
   "metadata": {},
   "source": [
    "ちなみにSamplerという名称や`sample_qubo`というメソッドの名称は、これらの解法がヒューリスティクスなので最適解が得られることを保証しておらず、あくまで得られるのは確率的に選ばれてくる(つまりサンプリングされてくる)解であることを意味している。\n",
    "\n",
    "焼きなまし法では`info`に付加情報が入っている。"
   ]
  },
  {
   "cell_type": "code",
   "execution_count": 10,
   "metadata": {},
   "outputs": [
    {
     "data": {
      "text/plain": [
       "{'beta_range': [0.2772588722239781, 18.420680743952367],\n",
       " 'beta_schedule_type': 'geometric'}"
      ]
     },
     "execution_count": 10,
     "metadata": {},
     "output_type": "execute_result"
    }
   ],
   "source": [
    "res.info"
   ]
  },
  {
   "cell_type": "markdown",
   "metadata": {},
   "source": [
    "これは焼きなまし法における逆温度$\\beta$のスケジューリングに関するハイパーパラメータである。詳細は省略する。\n",
    "\n",
    "## 1.3: 量子アニーリングによる解法\n",
    "D-Waveの量子アニーリングマシンの実機をつかって解をサンプリングするには`DWaveSampler`クラスを使う。\n",
    "実機へのアクセスには認証用のトークンが必要なので、\n",
    "変数`DWAVE_TOKEN`にあらかじめセットしておく。"
   ]
  },
  {
   "cell_type": "code",
   "execution_count": 11,
   "metadata": {},
   "outputs": [],
   "source": [
    "DWAVE_TOKEN=\"\" #\"replace this string with actual token\""
   ]
  },
  {
   "cell_type": "code",
   "execution_count": 12,
   "metadata": {},
   "outputs": [],
   "source": [
    "from dwave.system.samplers import DWaveSampler\n",
    "dw_sampler = DWaveSampler(\n",
    "    endpoint=\"https://cloud.dwavesys.com/sapi\",\n",
    "    solver = 'DW_2000Q_6',\n",
    "    token = DWAVE_TOKEN\n",
    ")"
   ]
  },
  {
   "cell_type": "markdown",
   "metadata": {},
   "source": [
    "実はこれで問題を解こうとするとエラーが発生する。"
   ]
  },
  {
   "cell_type": "code",
   "execution_count": 13,
   "metadata": {},
   "outputs": [
    {
     "ename": "BinaryQuadraticModelStructureError",
     "evalue": "Problem graph incompatible with solver.",
     "output_type": "error",
     "traceback": [
      "\u001b[0;31m---------------------------------------------------------------------------\u001b[0m",
      "\u001b[0;31mBinaryQuadraticModelStructureError\u001b[0m        Traceback (most recent call last)",
      "\u001b[0;32m<ipython-input-13-74e4a47f240f>\u001b[0m in \u001b[0;36m<module>\u001b[0;34m\u001b[0m\n\u001b[0;32m----> 1\u001b[0;31m \u001b[0mdw_sampler\u001b[0m\u001b[0;34m.\u001b[0m\u001b[0msample_qubo\u001b[0m\u001b[0;34m(\u001b[0m\u001b[0mQ\u001b[0m\u001b[0;34m)\u001b[0m \u001b[0;31m# ERROR\u001b[0m\u001b[0;34m\u001b[0m\u001b[0;34m\u001b[0m\u001b[0m\n\u001b[0m",
      "\u001b[0;32m~/.miniconda3/lib/python3.7/site-packages/dwave/system/samplers/dwave_sampler.py\u001b[0m in \u001b[0;36mwrapper\u001b[0;34m(sampler, *args, **kwargs)\u001b[0m\n\u001b[1;32m     43\u001b[0m         \u001b[0;32mwhile\u001b[0m \u001b[0;32mTrue\u001b[0m\u001b[0;34m:\u001b[0m\u001b[0;34m\u001b[0m\u001b[0;34m\u001b[0m\u001b[0m\n\u001b[1;32m     44\u001b[0m             \u001b[0;32mtry\u001b[0m\u001b[0;34m:\u001b[0m\u001b[0;34m\u001b[0m\u001b[0;34m\u001b[0m\u001b[0m\n\u001b[0;32m---> 45\u001b[0;31m                 \u001b[0;32mreturn\u001b[0m \u001b[0mf\u001b[0m\u001b[0;34m(\u001b[0m\u001b[0msampler\u001b[0m\u001b[0;34m,\u001b[0m \u001b[0;34m*\u001b[0m\u001b[0margs\u001b[0m\u001b[0;34m,\u001b[0m \u001b[0;34m**\u001b[0m\u001b[0mkwargs\u001b[0m\u001b[0;34m)\u001b[0m\u001b[0;34m\u001b[0m\u001b[0;34m\u001b[0m\u001b[0m\n\u001b[0m\u001b[1;32m     46\u001b[0m             \u001b[0;32mexcept\u001b[0m \u001b[0mSolverOfflineError\u001b[0m \u001b[0;32mas\u001b[0m \u001b[0merr\u001b[0m\u001b[0;34m:\u001b[0m\u001b[0;34m\u001b[0m\u001b[0;34m\u001b[0m\u001b[0m\n\u001b[1;32m     47\u001b[0m                 \u001b[0;32mif\u001b[0m \u001b[0;32mnot\u001b[0m \u001b[0msampler\u001b[0m\u001b[0;34m.\u001b[0m\u001b[0mfailover\u001b[0m\u001b[0;34m:\u001b[0m\u001b[0;34m\u001b[0m\u001b[0;34m\u001b[0m\u001b[0m\n",
      "\u001b[0;32m~/.miniconda3/lib/python3.7/site-packages/dwave/system/samplers/dwave_sampler.py\u001b[0m in \u001b[0;36msample_qubo\u001b[0;34m(self, Q, warnings, **kwargs)\u001b[0m\n\u001b[1;32m    424\u001b[0m                    for u, v in Q):\n\u001b[1;32m    425\u001b[0m             \u001b[0mmsg\u001b[0m \u001b[0;34m=\u001b[0m \u001b[0;34m\"Problem graph incompatible with solver.\"\u001b[0m\u001b[0;34m\u001b[0m\u001b[0;34m\u001b[0m\u001b[0m\n\u001b[0;32m--> 426\u001b[0;31m             \u001b[0;32mraise\u001b[0m \u001b[0mBinaryQuadraticModelStructureError\u001b[0m\u001b[0;34m(\u001b[0m\u001b[0mmsg\u001b[0m\u001b[0;34m)\u001b[0m\u001b[0;34m\u001b[0m\u001b[0;34m\u001b[0m\u001b[0m\n\u001b[0m\u001b[1;32m    427\u001b[0m \u001b[0;34m\u001b[0m\u001b[0m\n\u001b[1;32m    428\u001b[0m         \u001b[0mfuture\u001b[0m \u001b[0;34m=\u001b[0m \u001b[0mself\u001b[0m\u001b[0;34m.\u001b[0m\u001b[0msolver\u001b[0m\u001b[0;34m.\u001b[0m\u001b[0msample_qubo\u001b[0m\u001b[0;34m(\u001b[0m\u001b[0mQ\u001b[0m\u001b[0;34m,\u001b[0m \u001b[0;34m**\u001b[0m\u001b[0mkwargs\u001b[0m\u001b[0;34m)\u001b[0m\u001b[0;34m\u001b[0m\u001b[0;34m\u001b[0m\u001b[0m\n",
      "\u001b[0;31mBinaryQuadraticModelStructureError\u001b[0m: Problem graph incompatible with solver."
     ]
    }
   ],
   "source": [
    "dw_sampler.sample_qubo(Q) # ERROR"
   ]
  },
  {
   "cell_type": "markdown",
   "metadata": {},
   "source": [
    "エラーの内容は`BinaryQuadraticModelStructureError: Problem graph incompatible with solver.`\n",
    "つまり、D-Waveマシン上で量子ビットが実際には繋がっていないところにQの要素が設定されていることで生じているエラーである。\n",
    "\n",
    "D-Wave 2000Qの結合パターンはキメラグラフという(非平面グラフではあるが)疎結合な形なので、解きたい問題をその形に限定するのは無理がある。\n",
    "そこで埋め込みと呼ばれるマッピング処理で複数の量子ビットがひとつの論理ビットを表すようにグルーピングしていくと、Qが任意のビット間に要素をもっていてもD-Waveマシン上に対応する結合が存在するようになる。\n",
    "\n",
    "D-Wave 2000Qの構造では、最大64ビットまでであれば任意のQを埋め込みによって解くことができる。(ただし、実機には壊れて動作しない量子ビットがあるので実際はもう少し小さいサイズまで。)この埋め込み処理を自動でおこなってくれるのが`dwave.system.composites.AutoEmbeddingComposite`クラスである。初期化時に内部で使う`DWaveSampler`を与えるとそれに合わせて勝手に埋め込みをしてくれる。"
   ]
  },
  {
   "cell_type": "code",
   "execution_count": 14,
   "metadata": {},
   "outputs": [
    {
     "data": {
      "text/plain": [
       "SampleSet(rec.array([([0, 1, 1, 0], -5., 10, 0.)],\n",
       "          dtype=[('sample', 'i1', (4,)), ('energy', '<f8'), ('num_occurrences', '<i8'), ('chain_break_fraction', '<f8')]), ['a', 'b', 'c', 'd'], {'timing': {'qpu_sampling_time': 2389, 'qpu_anneal_time_per_sample': 20, 'qpu_readout_time_per_sample': 198, 'qpu_access_time': 13131, 'qpu_access_overhead_time': 1092, 'qpu_programming_time': 10741, 'qpu_delay_time_per_sample': 21, 'total_post_processing_time': 67, 'post_processing_overhead_time': 67, 'total_real_time': 13131, 'run_time_chip': 2389, 'anneal_time_per_run': 20, 'readout_time_per_run': 198}, 'problem_id': 'd4a62609-b7e5-4233-acc9-8f918652582d'}, 'BINARY')"
      ]
     },
     "execution_count": 14,
     "metadata": {},
     "output_type": "execute_result"
    }
   ],
   "source": [
    "from dwave.system.composites import AutoEmbeddingComposite\n",
    "qa_sampler = AutoEmbeddingComposite(dw_sampler)\n",
    "\n",
    "res = qa_sampler.sample_qubo(Q, num_reads=10)\n",
    "res"
   ]
  },
  {
   "cell_type": "markdown",
   "metadata": {},
   "source": [
    "num_readsはサンプリング回数を指定したいときに使う。`info`を見ると色々なハードウェア設定が格納されている。"
   ]
  },
  {
   "cell_type": "code",
   "execution_count": 15,
   "metadata": {},
   "outputs": [
    {
     "data": {
      "text/plain": [
       "{'timing': {'qpu_sampling_time': 2389,\n",
       "  'qpu_anneal_time_per_sample': 20,\n",
       "  'qpu_readout_time_per_sample': 198,\n",
       "  'qpu_access_time': 13131,\n",
       "  'qpu_access_overhead_time': 1092,\n",
       "  'qpu_programming_time': 10741,\n",
       "  'qpu_delay_time_per_sample': 21,\n",
       "  'total_post_processing_time': 67,\n",
       "  'post_processing_overhead_time': 67,\n",
       "  'total_real_time': 13131,\n",
       "  'run_time_chip': 2389,\n",
       "  'anneal_time_per_run': 20,\n",
       "  'readout_time_per_run': 198},\n",
       " 'problem_id': 'd4a62609-b7e5-4233-acc9-8f918652582d'}"
      ]
     },
     "execution_count": 15,
     "metadata": {},
     "output_type": "execute_result"
    }
   ],
   "source": [
    "res.info"
   ]
  },
  {
   "cell_type": "markdown",
   "metadata": {},
   "source": [
    "この中で最も重要なのが`anneal_time_per_run`の項目で、サンプリング一回のアニーリング(ハミルトニアンの変化)に20μsをかけたことを表している。\n",
    "サンプリングする際に`annealing_time`というオプションで設定することができる。"
   ]
  },
  {
   "cell_type": "code",
   "execution_count": 16,
   "metadata": {},
   "outputs": [
    {
     "data": {
      "text/plain": [
       "{'timing': {'qpu_sampling_time': 2689,\n",
       "  'qpu_anneal_time_per_sample': 50,\n",
       "  'qpu_readout_time_per_sample': 198,\n",
       "  'qpu_access_time': 13432,\n",
       "  'qpu_access_overhead_time': 2375,\n",
       "  'qpu_programming_time': 10743,\n",
       "  'qpu_delay_time_per_sample': 21,\n",
       "  'total_post_processing_time': 130,\n",
       "  'post_processing_overhead_time': 130,\n",
       "  'total_real_time': 13432,\n",
       "  'run_time_chip': 2689,\n",
       "  'anneal_time_per_run': 50,\n",
       "  'readout_time_per_run': 198},\n",
       " 'problem_id': 'c2c8966e-9077-4dd4-bf3c-23ef603625c5'}"
      ]
     },
     "execution_count": 16,
     "metadata": {},
     "output_type": "execute_result"
    }
   ],
   "source": [
    "res = qa_sampler.sample_qubo(Q, annealing_time=50, num_reads=10)\n",
    "res.info"
   ]
  },
  {
   "cell_type": "markdown",
   "metadata": {},
   "source": [
    "そのほかにQAを呼び出すときに使いそうな主なオプションをリストにしておく。詳細は[公式のマニュアルを参照](https://docs.dwavesys.com/docs/latest/c_solver_1.html)。\n",
    "また、マシンの詳細スペックはDWaveSamplerクラスのオブジェクトの`properties`にも格納されているので必要に応じて適宜チェックするとよい。\n",
    "\n",
    "|オプション名| 役割|値域 | デフォルト値 | リンク |\n",
    "|----|----|:--:|:--:|:--:|\n",
    "| num_reads | サンプリングを行う回数 |1~1000の整数| 1|[リンク](https://docs.dwavesys.com/docs/latest/c_solver_1.html#num-reads) |\n",
    "|auto_scale | h, Jの自動スケーリングをおこなうかどうか | 真偽値 | True | [リンク](https://docs.dwavesys.com/docs/latest/c_solver_1.html#auto-scale) |\n",
    "| annealing_time | 1回のアニーリング実行に使用する時間 [μs] | 1~2000 | 20 | [リンク](https://docs.dwavesys.com/docs/latest/c_solver_1.html#annealing-time) |\n",
    "| anneal_schedule | アニーリングスケジュール(0→1)の動かし方を指定  (annealing_timeとは排他利用) | タプル$$(x,y)\\in[0,2000]\\otimes[0.0,1.0]$$のリスト | なし | [リンク](https://docs.dwavesys.com/docs/latest/c_solver_1.html#anneal-sdhedule) |"
   ]
  },
  {
   "cell_type": "markdown",
   "metadata": {},
   "source": [
    "# 2: BQMオブジェクトの作成\n",
    "各種サンプラーは`sample_qubo`だけでなく`sample_ising`というメソッドも持っていて、　QUBO問題だけでなく次のイジングモデルからのサンプリングも実行可能である。\n",
    "\n",
    "$$H(\\sigma\\in\\{-1,1\\}^N)  = \\sum_{i=1}^N h_i\\sigma_i + \\sum_{i<j}^N J_{ij}\\sigma_i\\sigma_j $$\n",
    "\n",
    "これを最小化するような$\\sigma$が確率的にサンプリングされてくるはずであるが、これはQUBOと完全に等価な問題である。D-Wave Systems社のライブラリでは、`dimod.BQM`というクラスで両方の表現を統一的に扱う仕組みを提供している。たとえば上記のQから`BQM`クラスのインスタンスを作成してみる。"
   ]
  },
  {
   "cell_type": "code",
   "execution_count": 17,
   "metadata": {},
   "outputs": [
    {
     "data": {
      "text/plain": [
       "BinaryQuadraticModel({a: 1.0, b: -1.0, c: -2.0, d: 0.0}, {('a', 'b'): 2, ('a', 'c'): -1, ('b', 'c'): -2, ('b', 'd'): -1, ('c', 'd'): 2}, 0, 'BINARY')"
      ]
     },
     "execution_count": 17,
     "metadata": {},
     "output_type": "execute_result"
    }
   ],
   "source": [
    "from dimod import BQM\n",
    "bqm = BQM.from_qubo(Q)\n",
    "bqm"
   ]
  },
  {
   "cell_type": "markdown",
   "metadata": {},
   "source": [
    "`energy`や`energies`メソッドを使って目的関数の値を計算することが可能。"
   ]
  },
  {
   "cell_type": "code",
   "execution_count": 18,
   "metadata": {},
   "outputs": [
    {
     "data": {
      "text/plain": [
       "-4.0"
      ]
     },
     "execution_count": 18,
     "metadata": {},
     "output_type": "execute_result"
    }
   ],
   "source": [
    "bqm.energy({'a': 0, 'b': 1, 'c': 1, 'd': 1})"
   ]
  },
  {
   "cell_type": "markdown",
   "metadata": {},
   "source": [
    "イジングモデルへの変換も容易。`change_vartype`メソッドで`'SPIN'`を指定する(逆方向の変換の場合は`'BINARY'`と指定)。"
   ]
  },
  {
   "cell_type": "code",
   "execution_count": 19,
   "metadata": {},
   "outputs": [
    {
     "data": {
      "text/plain": [
       "BinaryQuadraticModel({a: 0.75, b: -0.75, c: -1.25, d: 0.25}, {('a', 'b'): 0.5, ('a', 'c'): -0.25, ('b', 'c'): -0.5, ('b', 'd'): -0.25, ('c', 'd'): 0.5}, -1.0, 'SPIN')"
      ]
     },
     "execution_count": 19,
     "metadata": {},
     "output_type": "execute_result"
    }
   ],
   "source": [
    "bqm_ising = bqm.change_vartype('SPIN', inplace=False)\n",
    "bqm_ising"
   ]
  },
  {
   "cell_type": "code",
   "execution_count": 20,
   "metadata": {},
   "outputs": [
    {
     "data": {
      "text/plain": [
       "-4.0"
      ]
     },
     "execution_count": 20,
     "metadata": {},
     "output_type": "execute_result"
    }
   ],
   "source": [
    "bqm_ising.energy({'a': -1, 'b': 1, 'c': 1, 'd': 1})"
   ]
  },
  {
   "cell_type": "markdown",
   "metadata": {},
   "source": [
    "## 2.1: BQMのままサンプラーに投げる\n",
    "BQMのインスタンスをサンプラーの`sample`メソッドに渡すとそのまま解いてくれる。"
   ]
  },
  {
   "cell_type": "code",
   "execution_count": 21,
   "metadata": {},
   "outputs": [
    {
     "name": "stdout",
     "output_type": "stream",
     "text": [
      "[([0, 1, 1, 0], -5., 1)]\n",
      "[([-1,  1,  1, -1], -5., 1)]\n"
     ]
    }
   ],
   "source": [
    "print(sa_sampler.sample(bqm).record) # 内部でsample_quboを呼び出してくれる\n",
    "print(sa_sampler.sample(bqm_ising).record) # 内部でsample_isingを呼び出してくれる"
   ]
  },
  {
   "cell_type": "markdown",
   "metadata": {},
   "source": [
    "## 2.2: 制約の付加\n",
    "QUBOを使っていくつかの種類の制約を表現することができる。例えば https://docs.dwavesys.com/docs/latest/c_gs_6.html の説明に乗っ取り、a, b, cのうちひとつのビットだけが1で他は0となるような制約は次のように表現できる。\n",
    "\n",
    "$$ \\min_{a,b,c} (a + b + c - 1)^2 = \\min_{a,b,c}\\left( [a,b,c]\\cdot\\begin{pmatrix}-1 & 2 & 2 \\\\ 0 & -1 & 2 \\\\ 0 & 0 & -1 \\\\ \\end{pmatrix}\\cdot[a,b,c]^\\top \\right)$$"
   ]
  },
  {
   "cell_type": "code",
   "execution_count": 22,
   "metadata": {},
   "outputs": [],
   "source": [
    "choose1_constraint = BQM.from_qubo({\n",
    "    ('a', 'a'): -1, ('b', 'b'): -1, ('c', 'c'): -1,\n",
    "    ('a', 'b'): 2, ('a', 'c'): 2, ('b', 'c'): 2\n",
    "})"
   ]
  },
  {
   "cell_type": "markdown",
   "metadata": {},
   "source": [
    "SAを使ってこのQUBOから100回サンプリングしてみると、\\[0,0,1\\], \\[0,1,0\\], \\[1,0,0\\]がすべて現れることがわかる。\n",
    "(SAは結果を集計せずに100回のサンプリング結果を生で表示するので、SampleSetを作り直してaggregateしてから表示させている。)"
   ]
  },
  {
   "cell_type": "code",
   "execution_count": 23,
   "metadata": {},
   "outputs": [
    {
     "data": {
      "text/plain": [
       "SampleSet(rec.array([([0, 1, 0], -1., 30), ([1, 0, 0], -1., 48),\n",
       "           ([0, 0, 1], -1., 22)],\n",
       "          dtype=[('sample', 'i1', (3,)), ('energy', '<f8'), ('num_occurrences', '<i8')]), ['a', 'b', 'c'], {}, 'BINARY')"
      ]
     },
     "execution_count": 23,
     "metadata": {},
     "output_type": "execute_result"
    }
   ],
   "source": [
    "from dimod import SampleSet\n",
    "SampleSet.from_samples_bqm(\n",
    "    sa_sampler.sample(choose1_constraint, num_reads=100),\n",
    "    choose1_constraint, aggregate_samples=True\n",
    ")"
   ]
  },
  {
   "cell_type": "markdown",
   "metadata": {},
   "source": [
    "この制約を表現するBQMをもとのQUBO問題を表すBQMに適当な重みで足し合わせると、制約を考慮しつつもとの問題を解くBQMができる。具体的には制約を破ることによって生じるペナルティが、元の問題のエネルギー差よりも大きければ十分。\n",
    "\n",
    "ひとつの目安として、元の問題のエネルギーギャップが最小と最大の間で7なので重みを7.0にしてみる。\n",
    "BQMには足し算や掛け算の処理が実装されていないので、`add_variable`および`add_interaction`メソッドを用いる。\n",
    "実際にはこの値はわからないので、重みは制約が満たされるようになるまで少しずつ増やしていくのがよい。"
   ]
  },
  {
   "cell_type": "code",
   "execution_count": 24,
   "metadata": {},
   "outputs": [],
   "source": [
    "bqm_constrained = bqm.copy()\n",
    "W = 7# 制約条件の重み\n",
    "for i, qii in choose1_constraint.iter_linear():\n",
    "    bqm_constrained.add_variable(i, qii * W)\n",
    "for i, j, qij in choose1_constraint.iter_quadratic():\n",
    "    bqm_constrained.add_interaction(i,j, qij * W)"
   ]
  },
  {
   "cell_type": "code",
   "execution_count": 25,
   "metadata": {},
   "outputs": [
    {
     "data": {
      "text/plain": [
       "SampleSet(rec.array([([0, 0, 1, 0], -2., 49), ([0, 1, 0, 1], -2., 48),\n",
       "           ([1, 0, 0, 0],  1.,  2), ([1, 0, 0, 1],  1.,  1)],\n",
       "          dtype=[('sample', 'i1', (4,)), ('energy', '<f8'), ('num_occurrences', '<i8')]), ['a', 'b', 'c', 'd'], {}, 'BINARY')"
      ]
     },
     "execution_count": 25,
     "metadata": {},
     "output_type": "execute_result"
    }
   ],
   "source": [
    "SampleSet.from_samples_bqm(\n",
    "    sa_sampler.sample(bqm_constrained, num_reads=100),\n",
    "    bqm, aggregate_samples=True\n",
    ")"
   ]
  },
  {
   "cell_type": "markdown",
   "metadata": {},
   "source": [
    "実際にサンプリングしてみると少数だが最適解以外の解も出てきていることがわかる。制約条件の重みを強くしすぎると、制約は満たすが最適解ではないものが多く出てくるようになるので注意。\n",
    "\n",
    "## 2.3: PyQUBOの案内\n",
    "問題と制約の合成は煩雑なので、制約を加味したQUBOを簡単に作成できるPyQUBOなどで問題を作成しておいてからこのBQMオブジェクトに変換すると手間が減るかもしれない。\n",
    "\n",
    "参考:\n",
    "* [PyQUBO](https://github.com/recruit-communications/pyqubo)\n",
    "* [マニュアル](https://pyqubo.readthedocs.io/en/latest/)"
   ]
  },
  {
   "cell_type": "markdown",
   "metadata": {},
   "source": [
    "# 3: まとめ・開発するときに覚えておくとよいこと\n",
    "今回利用したタブー探索(QBSolv), 焼きなまし法(SimulatedAnnealingSampler), 量子アニーリング(DWaveSampler)は全て、`dimod.sampleABCMeta`という抽象クラスを継承して作成されているので、`sample_qubo`や`sample_ising`、`sample`といったメソッドで処理を呼び出し、`SampleSet`クラスによって結果を返すというふうに規格が統一されている(結果を集計してくれるかどうかや、num_reads等のオプションを受け付けてくれるか等の細かい仕様はことなるが)。自分でソルバーを開発する場合も、同じように`dimod.sampleABCMeta`を継承しつつ`SimulatedAnnealingSampler`のソースコードなどを参考に進めていくとよい。\n",
    "\n",
    "ここでは紹介できなかったが、種々の実用的な組合せ最適化問題のQUBOによる定式化は https://qard.is.tohoku.ac.jp/T-Wave/?page_id=603 に詳しく解説されている。\n",
    "\n",
    "またQUBOとイジングモデルと統一して`BQM`クラスとして問題を扱えること、制約条件を表すQUBOを重み付きで問題に足し合わせることも実演した。"
   ]
  }
 ],
 "metadata": {
  "kernelspec": {
   "display_name": "Python 3",
   "language": "python",
   "name": "python3"
  },
  "language_info": {
   "codemirror_mode": {
    "name": "ipython",
    "version": 3
   },
   "file_extension": ".py",
   "mimetype": "text/x-python",
   "name": "python",
   "nbconvert_exporter": "python",
   "pygments_lexer": "ipython3",
   "version": "3.7.9"
  }
 },
 "nbformat": 4,
 "nbformat_minor": 4
}
