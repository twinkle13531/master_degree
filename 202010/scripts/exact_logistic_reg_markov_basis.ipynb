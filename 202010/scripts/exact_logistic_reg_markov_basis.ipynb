{
 "cells": [
  {
   "cell_type": "code",
   "execution_count": 26,
   "metadata": {},
   "outputs": [],
   "source": [
    "import pandas as pd \n",
    "import numpy as np\n",
    "from scipy.special import comb\n",
    "import math\n",
    "from neal import SimulatedAnnealingSampler\n",
    "from pyqubo import Array, Constraint, Placeholder, solve_qubo"
   ]
  },
  {
   "cell_type": "markdown",
   "metadata": {},
   "source": [
    "### 解析用データ作成\n",
    "\n",
    "（3年間骨肉腫に罹患しない）事象と各特徴量とのP値を計算する。\n",
    "- Osteogenic sarcoma data:骨肉腫\n",
    "- LI:リンパ球浸出\n",
    "- AOP:類骨病理学"
   ]
  },
  {
   "cell_type": "code",
   "execution_count": 2,
   "metadata": {},
   "outputs": [
    {
     "data": {
      "text/html": [
       "<div>\n",
       "<style scoped>\n",
       "    .dataframe tbody tr th:only-of-type {\n",
       "        vertical-align: middle;\n",
       "    }\n",
       "\n",
       "    .dataframe tbody tr th {\n",
       "        vertical-align: top;\n",
       "    }\n",
       "\n",
       "    .dataframe thead th {\n",
       "        text-align: right;\n",
       "    }\n",
       "</style>\n",
       "<table border=\"1\" class=\"dataframe\">\n",
       "  <thead>\n",
       "    <tr style=\"text-align: right;\">\n",
       "      <th></th>\n",
       "      <th>LI</th>\n",
       "      <th>SEX</th>\n",
       "      <th>AOP</th>\n",
       "      <th>COUNT</th>\n",
       "    </tr>\n",
       "    <tr>\n",
       "      <th>Y</th>\n",
       "      <th></th>\n",
       "      <th></th>\n",
       "      <th></th>\n",
       "      <th></th>\n",
       "    </tr>\n",
       "  </thead>\n",
       "  <tbody>\n",
       "    <tr>\n",
       "      <th>0</th>\n",
       "      <td>0</td>\n",
       "      <td>0</td>\n",
       "      <td>0</td>\n",
       "      <td>0</td>\n",
       "    </tr>\n",
       "    <tr>\n",
       "      <th>0</th>\n",
       "      <td>0</td>\n",
       "      <td>0</td>\n",
       "      <td>1</td>\n",
       "      <td>0</td>\n",
       "    </tr>\n",
       "    <tr>\n",
       "      <th>0</th>\n",
       "      <td>0</td>\n",
       "      <td>1</td>\n",
       "      <td>0</td>\n",
       "      <td>0</td>\n",
       "    </tr>\n",
       "    <tr>\n",
       "      <th>0</th>\n",
       "      <td>0</td>\n",
       "      <td>1</td>\n",
       "      <td>1</td>\n",
       "      <td>0</td>\n",
       "    </tr>\n",
       "    <tr>\n",
       "      <th>0</th>\n",
       "      <td>1</td>\n",
       "      <td>0</td>\n",
       "      <td>0</td>\n",
       "      <td>0</td>\n",
       "    </tr>\n",
       "    <tr>\n",
       "      <th>0</th>\n",
       "      <td>1</td>\n",
       "      <td>0</td>\n",
       "      <td>1</td>\n",
       "      <td>2</td>\n",
       "    </tr>\n",
       "    <tr>\n",
       "      <th>0</th>\n",
       "      <td>1</td>\n",
       "      <td>1</td>\n",
       "      <td>0</td>\n",
       "      <td>4</td>\n",
       "    </tr>\n",
       "    <tr>\n",
       "      <th>0</th>\n",
       "      <td>1</td>\n",
       "      <td>1</td>\n",
       "      <td>1</td>\n",
       "      <td>11</td>\n",
       "    </tr>\n",
       "    <tr>\n",
       "      <th>1</th>\n",
       "      <td>0</td>\n",
       "      <td>0</td>\n",
       "      <td>0</td>\n",
       "      <td>3</td>\n",
       "    </tr>\n",
       "    <tr>\n",
       "      <th>1</th>\n",
       "      <td>0</td>\n",
       "      <td>0</td>\n",
       "      <td>1</td>\n",
       "      <td>2</td>\n",
       "    </tr>\n",
       "    <tr>\n",
       "      <th>1</th>\n",
       "      <td>0</td>\n",
       "      <td>1</td>\n",
       "      <td>0</td>\n",
       "      <td>4</td>\n",
       "    </tr>\n",
       "    <tr>\n",
       "      <th>1</th>\n",
       "      <td>0</td>\n",
       "      <td>1</td>\n",
       "      <td>1</td>\n",
       "      <td>1</td>\n",
       "    </tr>\n",
       "    <tr>\n",
       "      <th>1</th>\n",
       "      <td>1</td>\n",
       "      <td>0</td>\n",
       "      <td>0</td>\n",
       "      <td>5</td>\n",
       "    </tr>\n",
       "    <tr>\n",
       "      <th>1</th>\n",
       "      <td>1</td>\n",
       "      <td>0</td>\n",
       "      <td>1</td>\n",
       "      <td>3</td>\n",
       "    </tr>\n",
       "    <tr>\n",
       "      <th>1</th>\n",
       "      <td>1</td>\n",
       "      <td>1</td>\n",
       "      <td>0</td>\n",
       "      <td>5</td>\n",
       "    </tr>\n",
       "    <tr>\n",
       "      <th>1</th>\n",
       "      <td>1</td>\n",
       "      <td>1</td>\n",
       "      <td>1</td>\n",
       "      <td>6</td>\n",
       "    </tr>\n",
       "  </tbody>\n",
       "</table>\n",
       "</div>"
      ],
      "text/plain": [
       "   LI  SEX  AOP  COUNT\n",
       "Y                     \n",
       "0   0    0    0      0\n",
       "0   0    0    1      0\n",
       "0   0    1    0      0\n",
       "0   0    1    1      0\n",
       "0   1    0    0      0\n",
       "0   1    0    1      2\n",
       "0   1    1    0      4\n",
       "0   1    1    1     11\n",
       "1   0    0    0      3\n",
       "1   0    0    1      2\n",
       "1   0    1    0      4\n",
       "1   0    1    1      1\n",
       "1   1    0    0      5\n",
       "1   1    0    1      3\n",
       "1   1    1    0      5\n",
       "1   1    1    1      6"
      ]
     },
     "execution_count": 2,
     "metadata": {},
     "output_type": "execute_result"
    }
   ],
   "source": [
    "ost = pd.read_csv(\"../input/ost.csv\", sep=',', index_col=0)\n",
    "ost\n",
    "#論文と照らし合わせ済み"
   ]
  },
  {
   "cell_type": "markdown",
   "metadata": {},
   "source": [
    "#### 論文記載のTable1を再現"
   ]
  },
  {
   "cell_type": "code",
   "execution_count": 3,
   "metadata": {},
   "outputs": [
    {
     "data": {
      "text/plain": [
       "8"
      ]
     },
     "execution_count": 3,
     "metadata": {},
     "output_type": "execute_result"
    }
   ],
   "source": [
    "ost_original_LISEXAOP = [\n",
    "    [0, 0, 0], [0, 0, 1], [0, 1, 0], [0, 1, 1], [1, 0, 0], [1, 0, 1], [1, 1, 0], [1, 1, 1]\n",
    "]\n",
    "len(ost_original_LISEXAOP)"
   ]
  },
  {
   "cell_type": "code",
   "execution_count": 4,
   "metadata": {},
   "outputs": [
    {
     "name": "stdout",
     "output_type": "stream",
     "text": [
      "[3, 2, 4, 1, 5, 3, 5, 6]\n",
      "[0, 0, 0, 0, 0, 2, 4, 11]\n"
     ]
    }
   ],
   "source": [
    "ost_original = pd.DataFrame(np.arange(32).reshape(8, 4), columns=['LI', 'SEX', 'AOP', 'Propotion DFI3'])\n",
    "\n",
    "pro_pra = [0]*8\n",
    "pro_mina = [0]*8\n",
    "for i in range(ost.shape[0]):\n",
    "    for ii in range(len(ost_original_LISEXAOP)):\n",
    "        if list(ost.iloc[i, 0:3])==ost_original_LISEXAOP[ii]:\n",
    "            if ost.index[i]==1:\n",
    "                pro_pra[ii] += ost.iloc[i, 3]\n",
    "            else:\n",
    "                pro_mina[ii] += ost.iloc[i, 3]\n",
    "\n",
    "print(pro_pra)\n",
    "print(pro_mina)  "
   ]
  },
  {
   "cell_type": "code",
   "execution_count": 5,
   "metadata": {},
   "outputs": [
    {
     "data": {
      "text/html": [
       "<div>\n",
       "<style scoped>\n",
       "    .dataframe tbody tr th:only-of-type {\n",
       "        vertical-align: middle;\n",
       "    }\n",
       "\n",
       "    .dataframe tbody tr th {\n",
       "        vertical-align: top;\n",
       "    }\n",
       "\n",
       "    .dataframe thead th {\n",
       "        text-align: right;\n",
       "    }\n",
       "</style>\n",
       "<table border=\"1\" class=\"dataframe\">\n",
       "  <thead>\n",
       "    <tr style=\"text-align: right;\">\n",
       "      <th></th>\n",
       "      <th>LI</th>\n",
       "      <th>SEX</th>\n",
       "      <th>AOP</th>\n",
       "      <th>Propotion DFI3</th>\n",
       "    </tr>\n",
       "  </thead>\n",
       "  <tbody>\n",
       "    <tr>\n",
       "      <th>0</th>\n",
       "      <td>0</td>\n",
       "      <td>0</td>\n",
       "      <td>0</td>\n",
       "      <td>1.00</td>\n",
       "    </tr>\n",
       "    <tr>\n",
       "      <th>1</th>\n",
       "      <td>0</td>\n",
       "      <td>0</td>\n",
       "      <td>1</td>\n",
       "      <td>1.00</td>\n",
       "    </tr>\n",
       "    <tr>\n",
       "      <th>2</th>\n",
       "      <td>0</td>\n",
       "      <td>1</td>\n",
       "      <td>0</td>\n",
       "      <td>1.00</td>\n",
       "    </tr>\n",
       "    <tr>\n",
       "      <th>3</th>\n",
       "      <td>0</td>\n",
       "      <td>1</td>\n",
       "      <td>1</td>\n",
       "      <td>1.00</td>\n",
       "    </tr>\n",
       "    <tr>\n",
       "      <th>4</th>\n",
       "      <td>1</td>\n",
       "      <td>0</td>\n",
       "      <td>0</td>\n",
       "      <td>1.00</td>\n",
       "    </tr>\n",
       "    <tr>\n",
       "      <th>5</th>\n",
       "      <td>1</td>\n",
       "      <td>0</td>\n",
       "      <td>1</td>\n",
       "      <td>0.60</td>\n",
       "    </tr>\n",
       "    <tr>\n",
       "      <th>6</th>\n",
       "      <td>1</td>\n",
       "      <td>1</td>\n",
       "      <td>0</td>\n",
       "      <td>0.56</td>\n",
       "    </tr>\n",
       "    <tr>\n",
       "      <th>7</th>\n",
       "      <td>1</td>\n",
       "      <td>1</td>\n",
       "      <td>1</td>\n",
       "      <td>0.35</td>\n",
       "    </tr>\n",
       "  </tbody>\n",
       "</table>\n",
       "</div>"
      ],
      "text/plain": [
       "   LI  SEX  AOP  Propotion DFI3\n",
       "0   0    0    0            1.00\n",
       "1   0    0    1            1.00\n",
       "2   0    1    0            1.00\n",
       "3   0    1    1            1.00\n",
       "4   1    0    0            1.00\n",
       "5   1    0    1            0.60\n",
       "6   1    1    0            0.56\n",
       "7   1    1    1            0.35"
      ]
     },
     "execution_count": 5,
     "metadata": {},
     "output_type": "execute_result"
    }
   ],
   "source": [
    "for i in range(len(ost_original_LISEXAOP)):#num_samples\n",
    "    ost_original.iloc[i, :3] = ost_original_LISEXAOP[i]\n",
    "    ost_original.iloc[i, 3] = round([pro_pra[k]/(pro_pra[k]+pro_mina[k]) for k in range(len(pro_pra))][i], 2)\n",
    "ost_original"
   ]
  },
  {
   "cell_type": "code",
   "execution_count": 21,
   "metadata": {},
   "outputs": [
    {
     "data": {
      "text/html": [
       "<div>\n",
       "<style scoped>\n",
       "    .dataframe tbody tr th:only-of-type {\n",
       "        vertical-align: middle;\n",
       "    }\n",
       "\n",
       "    .dataframe tbody tr th {\n",
       "        vertical-align: top;\n",
       "    }\n",
       "\n",
       "    .dataframe thead th {\n",
       "        text-align: right;\n",
       "    }\n",
       "</style>\n",
       "<table border=\"1\" class=\"dataframe\">\n",
       "  <thead>\n",
       "    <tr style=\"text-align: right;\">\n",
       "      <th></th>\n",
       "      <th>LI</th>\n",
       "      <th>SEX</th>\n",
       "      <th>AOP</th>\n",
       "      <th>COUNT</th>\n",
       "    </tr>\n",
       "    <tr>\n",
       "      <th>Y</th>\n",
       "      <th></th>\n",
       "      <th></th>\n",
       "      <th></th>\n",
       "      <th></th>\n",
       "    </tr>\n",
       "  </thead>\n",
       "  <tbody>\n",
       "    <tr>\n",
       "      <th>0</th>\n",
       "      <td>0</td>\n",
       "      <td>0</td>\n",
       "      <td>0</td>\n",
       "      <td>0</td>\n",
       "    </tr>\n",
       "    <tr>\n",
       "      <th>0</th>\n",
       "      <td>0</td>\n",
       "      <td>0</td>\n",
       "      <td>1</td>\n",
       "      <td>0</td>\n",
       "    </tr>\n",
       "    <tr>\n",
       "      <th>0</th>\n",
       "      <td>0</td>\n",
       "      <td>1</td>\n",
       "      <td>0</td>\n",
       "      <td>0</td>\n",
       "    </tr>\n",
       "    <tr>\n",
       "      <th>0</th>\n",
       "      <td>0</td>\n",
       "      <td>1</td>\n",
       "      <td>1</td>\n",
       "      <td>0</td>\n",
       "    </tr>\n",
       "    <tr>\n",
       "      <th>0</th>\n",
       "      <td>1</td>\n",
       "      <td>0</td>\n",
       "      <td>0</td>\n",
       "      <td>0</td>\n",
       "    </tr>\n",
       "  </tbody>\n",
       "</table>\n",
       "</div>"
      ],
      "text/plain": [
       "   LI  SEX  AOP  COUNT\n",
       "Y                     \n",
       "0   0    0    0      0\n",
       "0   0    0    1      0\n",
       "0   0    1    0      0\n",
       "0   0    1    1      0\n",
       "0   1    0    0      0"
      ]
     },
     "execution_count": 21,
     "metadata": {},
     "output_type": "execute_result"
    }
   ],
   "source": [
    "ost.head()"
   ]
  },
  {
   "cell_type": "markdown",
   "metadata": {},
   "source": [
    "### (t_0, t_1, t_2, t_3)を表示\n",
    "- t_i = 「（3年後に骨肉腫に罹患していない(=1)）かつ（特徴量iが1である）」サンプル数"
   ]
  },
  {
   "cell_type": "code",
   "execution_count": 6,
   "metadata": {},
   "outputs": [],
   "source": [
    "t_list = []\n",
    "count_y = sum([ost.index[i]*ost.iat[i, 3] for i in range(ost.shape[0])])#単に、3年後に骨肉腫に罹患していないサンプル数\n",
    "t_list.append(count_y)\n",
    "for j in range(3):\n",
    "    count = sum([ost.iat[i, j]*ost.iat[i, 3] for i in range(ost.shape[0]) if ost.index[i]==1])\n",
    "    t_list.append(count)"
   ]
  },
  {
   "cell_type": "code",
   "execution_count": 7,
   "metadata": {},
   "outputs": [
    {
     "data": {
      "text/plain": [
       "[29, 19, 16, 12]"
      ]
     },
     "execution_count": 7,
     "metadata": {},
     "output_type": "execute_result"
    }
   ],
   "source": [
    "t_list#Y, LI, SEX, AOP"
   ]
  },
  {
   "cell_type": "markdown",
   "metadata": {},
   "source": [
    "### t_1(LI)以外固定してサンプリング"
   ]
  },
  {
   "cell_type": "code",
   "execution_count": 31,
   "metadata": {},
   "outputs": [],
   "source": [
    "pacient_num = sum(ost.iloc[:, -1])"
   ]
  },
  {
   "cell_type": "code",
   "execution_count": 38,
   "metadata": {},
   "outputs": [],
   "source": [
    "li = Array.create('LI', shape=pacient_num, vartype='BINARY')\n",
    "H = (sum([li[i]*ost.iloc[i, -1] for i in range(ost.shape[0])]) - t_list[1])**2 #19になるように固定した\n",
    "qb = H.compile().to_qubo()\n",
    "sa_sampler = SimulatedAnnealingSampler()\n",
    "\n",
    "res = sa_sampler.sample_qubo(qb[0], num_reads=100) "
   ]
  },
  {
   "cell_type": "code",
   "execution_count": 41,
   "metadata": {},
   "outputs": [
    {
     "name": "stdout",
     "output_type": "stream",
     "text": [
      "100\n"
     ]
    }
   ],
   "source": [
    "print(len(res))"
   ]
  },
  {
   "cell_type": "code",
   "execution_count": 39,
   "metadata": {},
   "outputs": [
    {
     "name": "stdout",
     "output_type": "stream",
     "text": [
      "[1 1 0 0 0 1 1 0 1 1 1 1 0 0 0 1]\n",
      "[0 1 0 0 0 1 1 1 1 0 0 1 0 0 0 1]\n",
      "[1 1 1 0 1 0 1 1 1 1 1 1 0 0 1 0]\n",
      "[0 1 0 0 1 0 1 0 0 0 0 0 1 0 0 1]\n",
      "[0 0 1 0 1 0 0 0 0 0 0 1 0 1 0 1]\n",
      "[1 0 1 1 0 0 0 0 0 0 0 1 0 1 0 0]\n",
      "[1 0 1 0 1 0 0 0 1 0 0 1 0 1 0 1]\n",
      "[0 0 1 0 0 0 0 1 1 1 1 1 0 1 1 1]\n",
      "[0 1 0 0 1 0 1 1 0 0 1 1 1 0 0 0]\n",
      "[1 1 1 1 1 0 0 1 1 1 1 1 1 0 0 0]\n",
      "[0 1 1 1 0 1 0 1 0 0 1 0 1 0 0 0]\n",
      "[1 0 0 0 0 1 1 1 1 0 1 1 1 0 0 1]\n",
      "[1 0 0 1 1 0 1 1 0 1 1 0 0 0 1 1]\n",
      "[1 0 1 0 1 0 0 0 0 0 0 1 0 1 0 1]\n",
      "[0 0 0 0 1 1 1 0 1 0 0 1 0 0 1 0]\n",
      "[0 1 0 1 0 1 0 1 0 0 1 0 0 0 1 1]\n",
      "[1 0 0 0 0 0 1 1 1 0 0 1 0 1 0 0]\n",
      "[1 1 1 0 0 1 1 0 0 1 1 0 0 0 1 0]\n",
      "[1 0 1 0 1 0 1 0 1 0 1 1 1 0 1 0]\n",
      "[0 0 0 1 1 0 0 1 1 1 0 1 1 0 1 1]\n",
      "[0 0 0 0 1 1 0 1 1 1 0 1 1 0 1 1]\n",
      "[0 0 1 0 1 0 1 0 0 1 1 1 1 0 1 0]\n",
      "[0 0 0 1 0 0 1 1 0 1 1 1 1 0 0 1]\n",
      "[0 0 1 1 0 0 0 0 1 1 1 1 0 1 0 0]\n",
      "[1 1 0 1 1 0 0 0 1 0 1 1 0 0 1 1]\n",
      "[1 1 0 1 0 1 0 1 0 0 1 1 0 0 1 0]\n",
      "[0 0 1 0 0 1 1 1 0 1 0 1 0 0 1 1]\n",
      "[0 0 1 1 0 1 0 1 0 1 0 1 1 0 0 1]\n",
      "[1 0 1 0 1 0 1 0 1 1 0 0 1 0 1 1]\n",
      "[1 1 1 0 0 1 1 0 1 0 1 0 0 0 1 0]\n",
      "[1 1 1 1 0 0 0 0 0 0 0 1 1 0 0 1]\n",
      "[1 1 0 0 1 1 0 0 0 0 1 1 0 0 1 1]\n",
      "[0 0 1 0 1 1 1 1 1 1 1 0 1 0 0 0]\n",
      "[1 0 1 1 1 0 1 0 0 1 1 0 1 0 0 0]\n",
      "[1 0 0 0 0 1 0 1 0 0 0 0 0 1 1 0]\n",
      "[0 0 0 0 1 1 1 0 1 1 1 1 0 0 1 0]\n",
      "[0 0 0 1 1 1 0 1 0 0 1 1 1 0 0 0]\n",
      "[1 1 0 1 0 0 1 0 1 1 1 0 1 0 0 0]\n",
      "[1 0 0 1 1 1 0 0 0 0 0 1 1 0 0 0]\n",
      "[0 0 1 1 0 1 1 0 1 0 0 0 0 0 0 1]\n",
      "[1 1 0 0 1 0 1 1 0 0 1 1 1 0 0 0]\n",
      "[1 0 0 1 0 1 0 1 1 1 1 1 1 0 1 0]\n",
      "[0 1 1 1 1 0 1 1 0 0 0 0 0 0 0 0]\n",
      "[0 0 0 0 1 0 0 0 1 0 0 1 0 1 1 0]\n",
      "[1 1 0 1 1 1 0 0 0 1 1 0 0 0 0 1]\n",
      "[0 0 1 1 0 0 0 0 0 0 1 1 0 1 0 0]\n",
      "[0 0 1 0 1 0 1 1 0 0 0 1 1 0 1 0]\n",
      "[0 0 0 0 0 0 0 0 0 0 0 1 1 1 0 1]\n",
      "[0 1 0 0 0 0 1 1 0 1 0 0 1 0 1 1]\n",
      "[0 0 1 1 0 1 1 1 1 1 1 0 0 0 0 1]\n",
      "[0 0 1 0 0 1 0 1 0 0 1 0 0 1 0 1]\n",
      "[0 0 1 0 0 1 1 1 1 0 0 0 1 0 1 0]\n",
      "[0 1 0 1 1 1 0 0 0 0 1 1 0 0 0 0]\n",
      "[1 0 0 1 1 0 1 0 0 0 1 1 0 0 1 0]\n",
      "[1 1 1 0 1 1 1 0 0 0 1 0 0 0 0 0]\n",
      "[1 1 1 0 0 1 1 0 0 0 0 0 0 0 1 0]\n",
      "[0 0 1 1 0 0 1 1 0 1 0 0 1 0 1 0]\n",
      "[0 1 1 1 1 0 0 1 0 1 0 1 1 0 0 0]\n",
      "[1 0 0 0 1 1 0 0 0 0 1 1 1 0 1 1]\n",
      "[1 1 1 0 1 1 0 1 1 0 0 0 1 0 0 1]\n",
      "[0 1 0 0 1 0 1 0 0 0 0 0 1 0 0 1]\n",
      "[0 0 1 1 1 1 0 0 0 1 1 0 0 0 1 1]\n",
      "[0 1 0 1 1 0 0 1 0 1 0 1 0 0 1 1]\n",
      "[1 1 0 1 1 0 0 1 1 1 1 1 0 0 1 1]\n",
      "[0 1 1 0 0 0 1 0 0 0 1 1 1 0 0 1]\n",
      "[1 1 0 1 1 0 0 0 0 0 0 1 0 0 1 1]\n",
      "[1 1 1 1 1 0 0 1 1 0 0 0 1 0 0 1]\n",
      "[1 0 0 1 1 1 1 0 0 1 0 0 0 0 0 0]\n",
      "[1 0 0 0 1 1 1 1 0 0 1 1 0 0 1 0]\n",
      "[1 1 1 0 1 1 0 0 0 0 1 1 1 0 0 0]\n",
      "[0 0 0 1 0 1 0 0 0 1 1 1 1 0 1 0]\n",
      "[1 0 0 1 1 0 0 0 0 1 0 1 1 0 1 1]\n",
      "[0 1 0 1 0 1 0 0 1 1 0 0 0 0 1 1]\n",
      "[0 1 0 1 1 1 0 1 1 1 0 1 0 0 0 0]\n",
      "[1 1 0 0 0 1 1 0 0 1 1 1 0 0 0 1]\n",
      "[1 1 0 0 0 0 0 1 0 0 0 0 1 1 0 0]\n",
      "[0 0 0 1 0 1 1 1 0 1 1 0 0 0 1 0]\n",
      "[0 1 1 0 0 1 0 1 1 1 0 1 1 0 1 0]\n",
      "[1 0 1 1 0 0 0 0 1 1 1 1 0 1 0 0]\n",
      "[0 0 1 0 0 0 0 0 0 1 0 0 1 1 1 0]\n",
      "[1 1 1 0 0 1 1 1 1 1 0 0 0 0 1 0]\n",
      "[1 0 0 0 1 0 0 0 1 1 1 1 0 1 1 0]\n",
      "[1 0 0 1 1 0 1 0 1 0 0 0 0 0 1 1]\n",
      "[1 1 0 0 0 0 0 0 0 1 1 0 1 1 0 0]\n",
      "[1 0 1 0 0 1 0 0 0 0 0 1 0 1 0 0]\n",
      "[1 0 0 1 0 1 0 0 0 1 0 0 1 0 1 1]\n",
      "[1 1 1 1 1 0 1 1 0 0 1 0 0 0 0 0]\n",
      "[0 1 1 1 0 1 0 0 0 1 0 0 1 0 0 0]\n",
      "[0 1 0 1 0 0 1 0 1 1 0 1 0 0 0 1]\n",
      "[0 0 0 0 0 1 1 0 1 0 1 1 1 0 0 1]\n",
      "[0 1 0 1 1 1 0 0 1 1 0 0 0 0 0 1]\n",
      "[0 1 0 0 0 0 1 0 1 1 0 0 1 0 1 1]\n",
      "[0 0 1 0 0 0 0 1 1 1 0 0 1 1 1 0]\n",
      "[1 0 0 0 1 1 0 1 1 0 1 0 0 1 0 0]\n",
      "[0 1 0 0 1 1 0 1 1 1 0 1 0 0 1 1]\n",
      "[0 0 1 0 1 1 1 1 1 1 0 0 1 0 0 0]\n",
      "[1 1 1 0 0 0 1 1 1 1 0 1 1 0 0 1]\n",
      "[1 0 1 1 0 0 0 1 1 1 0 0 0 1 0 1]\n",
      "[0 1 1 0 0 1 0 0 1 0 0 1 1 0 1 0]\n",
      "[0 0 0 1 1 0 0 0 0 0 0 1 1 0 1 1]\n"
     ]
    }
   ],
   "source": [
    "for li_info in list(res.record):\n",
    "    print(li_info[0])"
   ]
  },
  {
   "cell_type": "code",
   "execution_count": 30,
   "metadata": {},
   "outputs": [],
   "source": [
    "y = Array.create('Y', shape=pacient_num, vartype='BINARY')\n",
    "sex = Array.create('SEX', shape=pacient_num, vartype='BINARY')\n",
    "aop = Array.create('AOP', shape=pacient_num, vartype='BINARY')\n",
    "li = Array.create('LI', shape=pacient_num, vartype='BINARY')\n",
    "\n",
    "H = (sum(y) - t_list[0])**2 + (sum(sex) - t_list[2])**2 + (sum(aop) - t_list[3])**2\n",
    "qb = H.compile().to_qubo()\n",
    "sa_sampler = SimulatedAnnealingSampler()\n",
    "\n",
    "res = sa_sampler.sample_qubo(qb[0], num_reads=100)"
   ]
  },
  {
   "cell_type": "code",
   "execution_count": null,
   "metadata": {},
   "outputs": [],
   "source": [
    "res.record"
   ]
  },
  {
   "cell_type": "code",
   "execution_count": 9,
   "metadata": {},
   "outputs": [
    {
     "data": {
      "text/html": [
       "<div>\n",
       "<style scoped>\n",
       "    .dataframe tbody tr th:only-of-type {\n",
       "        vertical-align: middle;\n",
       "    }\n",
       "\n",
       "    .dataframe tbody tr th {\n",
       "        vertical-align: top;\n",
       "    }\n",
       "\n",
       "    .dataframe thead th {\n",
       "        text-align: right;\n",
       "    }\n",
       "</style>\n",
       "<table border=\"1\" class=\"dataframe\">\n",
       "  <thead>\n",
       "    <tr style=\"text-align: right;\">\n",
       "      <th></th>\n",
       "      <th>LI</th>\n",
       "      <th>SEX</th>\n",
       "      <th>AOP</th>\n",
       "      <th>COUNT</th>\n",
       "    </tr>\n",
       "    <tr>\n",
       "      <th>Y</th>\n",
       "      <th></th>\n",
       "      <th></th>\n",
       "      <th></th>\n",
       "      <th></th>\n",
       "    </tr>\n",
       "  </thead>\n",
       "  <tbody>\n",
       "    <tr>\n",
       "      <th>0</th>\n",
       "      <td>0</td>\n",
       "      <td>0</td>\n",
       "      <td>0</td>\n",
       "      <td>0</td>\n",
       "    </tr>\n",
       "    <tr>\n",
       "      <th>0</th>\n",
       "      <td>0</td>\n",
       "      <td>0</td>\n",
       "      <td>1</td>\n",
       "      <td>0</td>\n",
       "    </tr>\n",
       "    <tr>\n",
       "      <th>0</th>\n",
       "      <td>0</td>\n",
       "      <td>1</td>\n",
       "      <td>0</td>\n",
       "      <td>0</td>\n",
       "    </tr>\n",
       "    <tr>\n",
       "      <th>0</th>\n",
       "      <td>0</td>\n",
       "      <td>1</td>\n",
       "      <td>1</td>\n",
       "      <td>0</td>\n",
       "    </tr>\n",
       "    <tr>\n",
       "      <th>0</th>\n",
       "      <td>1</td>\n",
       "      <td>0</td>\n",
       "      <td>0</td>\n",
       "      <td>0</td>\n",
       "    </tr>\n",
       "    <tr>\n",
       "      <th>0</th>\n",
       "      <td>1</td>\n",
       "      <td>0</td>\n",
       "      <td>1</td>\n",
       "      <td>2</td>\n",
       "    </tr>\n",
       "    <tr>\n",
       "      <th>0</th>\n",
       "      <td>1</td>\n",
       "      <td>1</td>\n",
       "      <td>0</td>\n",
       "      <td>4</td>\n",
       "    </tr>\n",
       "    <tr>\n",
       "      <th>0</th>\n",
       "      <td>1</td>\n",
       "      <td>1</td>\n",
       "      <td>1</td>\n",
       "      <td>11</td>\n",
       "    </tr>\n",
       "    <tr>\n",
       "      <th>1</th>\n",
       "      <td>0</td>\n",
       "      <td>0</td>\n",
       "      <td>0</td>\n",
       "      <td>3</td>\n",
       "    </tr>\n",
       "    <tr>\n",
       "      <th>1</th>\n",
       "      <td>0</td>\n",
       "      <td>0</td>\n",
       "      <td>1</td>\n",
       "      <td>2</td>\n",
       "    </tr>\n",
       "    <tr>\n",
       "      <th>1</th>\n",
       "      <td>0</td>\n",
       "      <td>1</td>\n",
       "      <td>0</td>\n",
       "      <td>4</td>\n",
       "    </tr>\n",
       "    <tr>\n",
       "      <th>1</th>\n",
       "      <td>0</td>\n",
       "      <td>1</td>\n",
       "      <td>1</td>\n",
       "      <td>1</td>\n",
       "    </tr>\n",
       "    <tr>\n",
       "      <th>1</th>\n",
       "      <td>1</td>\n",
       "      <td>0</td>\n",
       "      <td>0</td>\n",
       "      <td>5</td>\n",
       "    </tr>\n",
       "    <tr>\n",
       "      <th>1</th>\n",
       "      <td>1</td>\n",
       "      <td>0</td>\n",
       "      <td>1</td>\n",
       "      <td>3</td>\n",
       "    </tr>\n",
       "    <tr>\n",
       "      <th>1</th>\n",
       "      <td>1</td>\n",
       "      <td>1</td>\n",
       "      <td>0</td>\n",
       "      <td>5</td>\n",
       "    </tr>\n",
       "    <tr>\n",
       "      <th>1</th>\n",
       "      <td>1</td>\n",
       "      <td>1</td>\n",
       "      <td>1</td>\n",
       "      <td>6</td>\n",
       "    </tr>\n",
       "  </tbody>\n",
       "</table>\n",
       "</div>"
      ],
      "text/plain": [
       "   LI  SEX  AOP  COUNT\n",
       "Y                     \n",
       "0   0    0    0      0\n",
       "0   0    0    1      0\n",
       "0   0    1    0      0\n",
       "0   0    1    1      0\n",
       "0   1    0    0      0\n",
       "0   1    0    1      2\n",
       "0   1    1    0      4\n",
       "0   1    1    1     11\n",
       "1   0    0    0      3\n",
       "1   0    0    1      2\n",
       "1   0    1    0      4\n",
       "1   0    1    1      1\n",
       "1   1    0    0      5\n",
       "1   1    0    1      3\n",
       "1   1    1    0      5\n",
       "1   1    1    1      6"
      ]
     },
     "execution_count": 9,
     "metadata": {},
     "output_type": "execute_result"
    }
   ],
   "source": [
    "ost"
   ]
  },
  {
   "cell_type": "code",
   "execution_count": 22,
   "metadata": {},
   "outputs": [
    {
     "data": {
      "text/html": [
       "<div>\n",
       "<style scoped>\n",
       "    .dataframe tbody tr th:only-of-type {\n",
       "        vertical-align: middle;\n",
       "    }\n",
       "\n",
       "    .dataframe tbody tr th {\n",
       "        vertical-align: top;\n",
       "    }\n",
       "\n",
       "    .dataframe thead th {\n",
       "        text-align: right;\n",
       "    }\n",
       "</style>\n",
       "<table border=\"1\" class=\"dataframe\">\n",
       "  <thead>\n",
       "    <tr style=\"text-align: right;\">\n",
       "      <th></th>\n",
       "      <th>feature1</th>\n",
       "      <th>feature0</th>\n",
       "      <th>feature_sum</th>\n",
       "    </tr>\n",
       "  </thead>\n",
       "  <tbody>\n",
       "    <tr>\n",
       "      <th>Y1</th>\n",
       "      <td>k</td>\n",
       "      <td>NaN</td>\n",
       "      <td>K</td>\n",
       "    </tr>\n",
       "    <tr>\n",
       "      <th>Y0</th>\n",
       "      <td>NaN</td>\n",
       "      <td>NaN</td>\n",
       "      <td>NaN</td>\n",
       "    </tr>\n",
       "    <tr>\n",
       "      <th>Y_sum</th>\n",
       "      <td>n</td>\n",
       "      <td>NaN</td>\n",
       "      <td>N</td>\n",
       "    </tr>\n",
       "  </tbody>\n",
       "</table>\n",
       "</div>"
      ],
      "text/plain": [
       "      feature1 feature0 feature_sum\n",
       "Y1           k      NaN           K\n",
       "Y0         NaN      NaN         NaN\n",
       "Y_sum        n      NaN           N"
      ]
     },
     "execution_count": 22,
     "metadata": {},
     "output_type": "execute_result"
    }
   ],
   "source": [
    "#超幾何分布の見本\n",
    "feature_Y = pd.DataFrame(columns=['feature1', 'feature0', 'feature_sum'],index=['Y1', 'Y0', 'Y_sum'])\n",
    "feature_Y.iloc[0, 0] = 'k'\n",
    "feature_Y.iloc[0, 2] = 'K'\n",
    "feature_Y.iloc[2, 0] = 'n'\n",
    "feature_Y.iloc[2, 2] = 'N'\n",
    "\n",
    "feature_Y"
   ]
  },
  {
   "cell_type": "code",
   "execution_count": 11,
   "metadata": {},
   "outputs": [
    {
     "data": {
      "text/html": [
       "<div>\n",
       "<style scoped>\n",
       "    .dataframe tbody tr th:only-of-type {\n",
       "        vertical-align: middle;\n",
       "    }\n",
       "\n",
       "    .dataframe tbody tr th {\n",
       "        vertical-align: top;\n",
       "    }\n",
       "\n",
       "    .dataframe thead th {\n",
       "        text-align: right;\n",
       "    }\n",
       "</style>\n",
       "<table border=\"1\" class=\"dataframe\">\n",
       "  <thead>\n",
       "    <tr style=\"text-align: right;\">\n",
       "      <th></th>\n",
       "      <th>LI1</th>\n",
       "      <th>LI0</th>\n",
       "      <th>LIsum</th>\n",
       "    </tr>\n",
       "  </thead>\n",
       "  <tbody>\n",
       "    <tr>\n",
       "      <th>Y1</th>\n",
       "      <td>0</td>\n",
       "      <td>0</td>\n",
       "      <td>0</td>\n",
       "    </tr>\n",
       "    <tr>\n",
       "      <th>Y0</th>\n",
       "      <td>0</td>\n",
       "      <td>0</td>\n",
       "      <td>0</td>\n",
       "    </tr>\n",
       "    <tr>\n",
       "      <th>Ysum</th>\n",
       "      <td>0</td>\n",
       "      <td>0</td>\n",
       "      <td>0</td>\n",
       "    </tr>\n",
       "  </tbody>\n",
       "</table>\n",
       "</div>"
      ],
      "text/plain": [
       "      LI1  LI0  LIsum\n",
       "Y1      0    0      0\n",
       "Y0      0    0      0\n",
       "Ysum    0    0      0"
      ]
     },
     "execution_count": 11,
     "metadata": {},
     "output_type": "execute_result"
    }
   ],
   "source": [
    "LI_Y = pd.DataFrame(columns=['LI1', 'LI0', 'LIsum'],index=['Y1', 'Y0', 'Ysum'])\n",
    "LI_Y.fillna(0, inplace=True)\n",
    "LI_Y"
   ]
  },
  {
   "cell_type": "code",
   "execution_count": 12,
   "metadata": {},
   "outputs": [],
   "source": [
    "for i in range(ost.shape[0]):\n",
    "    if ost.index[i] == 1 and ost.iloc[i, 0] == 1:\n",
    "        LI_Y.iloc[0, 0] += ost.iloc[i, -1]\n",
    "    elif ost.index[i] == 1 and ost.iloc[i, 0] == 0:\n",
    "        LI_Y.iloc[0, 1] += ost.iloc[i, -1]\n",
    "    elif ost.index[i] == 0 and ost.iloc[i, 0] == 1:\n",
    "        LI_Y.iloc[1, 0] += ost.iloc[i, -1]\n",
    "    else:\n",
    "        LI_Y.iloc[1, 1] += ost.iloc[i, -1]\n",
    "\n",
    "#print(LI_Y)\n",
    "LI_Y.iloc[0, 2] = LI_Y.iloc[0, 0] + LI_Y.iloc[0, 1]\n",
    "LI_Y.iloc[1, 2] = LI_Y.iloc[1, 0] + LI_Y.iloc[1, 1]\n",
    "LI_Y.iloc[2, 0] = LI_Y.iloc[0, 0] + LI_Y.iloc[1, 0]\n",
    "LI_Y.iloc[2, 1] = LI_Y.iloc[0, 1] + LI_Y.iloc[1, 1]\n",
    "\n",
    "if LI_Y.iloc[0, 2] + LI_Y.iloc[1, 2] == LI_Y.iloc[2, 0] + LI_Y.iloc[2, 1]:\n",
    "    LI_Y.iloc[2, 2] = LI_Y.iloc[2, 0] + LI_Y.iloc[2, 1]\n",
    "else:\n",
    "    print('error is occured')"
   ]
  },
  {
   "cell_type": "code",
   "execution_count": 13,
   "metadata": {},
   "outputs": [
    {
     "data": {
      "text/html": [
       "<div>\n",
       "<style scoped>\n",
       "    .dataframe tbody tr th:only-of-type {\n",
       "        vertical-align: middle;\n",
       "    }\n",
       "\n",
       "    .dataframe tbody tr th {\n",
       "        vertical-align: top;\n",
       "    }\n",
       "\n",
       "    .dataframe thead th {\n",
       "        text-align: right;\n",
       "    }\n",
       "</style>\n",
       "<table border=\"1\" class=\"dataframe\">\n",
       "  <thead>\n",
       "    <tr style=\"text-align: right;\">\n",
       "      <th></th>\n",
       "      <th>LI1</th>\n",
       "      <th>LI0</th>\n",
       "      <th>LIsum</th>\n",
       "    </tr>\n",
       "  </thead>\n",
       "  <tbody>\n",
       "    <tr>\n",
       "      <th>Y1</th>\n",
       "      <td>19</td>\n",
       "      <td>10</td>\n",
       "      <td>29</td>\n",
       "    </tr>\n",
       "    <tr>\n",
       "      <th>Y0</th>\n",
       "      <td>17</td>\n",
       "      <td>0</td>\n",
       "      <td>17</td>\n",
       "    </tr>\n",
       "    <tr>\n",
       "      <th>Ysum</th>\n",
       "      <td>36</td>\n",
       "      <td>10</td>\n",
       "      <td>46</td>\n",
       "    </tr>\n",
       "  </tbody>\n",
       "</table>\n",
       "</div>"
      ],
      "text/plain": [
       "      LI1  LI0  LIsum\n",
       "Y1     19   10     29\n",
       "Y0     17    0     17\n",
       "Ysum   36   10     46"
      ]
     },
     "execution_count": 13,
     "metadata": {},
     "output_type": "execute_result"
    }
   ],
   "source": [
    "LI_Y"
   ]
  },
  {
   "cell_type": "code",
   "execution_count": 14,
   "metadata": {},
   "outputs": [
    {
     "data": {
      "text/plain": [
       "[[19, 10, 29], [17, 0, 17], [36, 10, 46]]"
      ]
     },
     "execution_count": 14,
     "metadata": {},
     "output_type": "execute_result"
    }
   ],
   "source": [
    "LI_Y_list = LI_Y.values.tolist()\n",
    "LI_Y_list"
   ]
  },
  {
   "cell_type": "markdown",
   "metadata": {},
   "source": [
    "超幾何分布を考えると、$K=29, n=36, k=19, N=46$\n",
    "\n",
    "マルコフ基底において固定する十分統計量は$29, 17, 46, 10, 36$（周辺和）"
   ]
  },
  {
   "cell_type": "code",
   "execution_count": null,
   "metadata": {},
   "outputs": [],
   "source": []
  },
  {
   "cell_type": "code",
   "execution_count": 15,
   "metadata": {},
   "outputs": [
    {
     "name": "stdout",
     "output_type": "stream",
     "text": [
      "4076350421\n",
      "4076350421\n"
     ]
    }
   ],
   "source": [
    "#NCn\n",
    "print(comb(46, 36, exact=True))\n",
    "print(comb(LI_Y.iloc[2, 2], LI_Y.iloc[2, 0], exact=True))"
   ]
  },
  {
   "cell_type": "code",
   "execution_count": 16,
   "metadata": {},
   "outputs": [
    {
     "data": {
      "text/plain": [
       "0.004913711514302612"
      ]
     },
     "execution_count": 16,
     "metadata": {},
     "output_type": "execute_result"
    }
   ],
   "source": [
    "KCk = comb(LI_Y.iloc[0, 2], LI_Y.iloc[0, 0], exact=True)\n",
    "NKCnk = comb(LI_Y.iloc[1, 2], LI_Y.iloc[1, 0], exact=True)\n",
    "NCn = comb(LI_Y.iloc[2, 2], LI_Y.iloc[2, 0], exact=True)\n",
    "p_ori = KCk*NKCnk/NCn\n",
    "p_ori"
   ]
  },
  {
   "cell_type": "code",
   "execution_count": 17,
   "metadata": {},
   "outputs": [
    {
     "data": {
      "text/plain": [
       "0.004913711514302612"
      ]
     },
     "execution_count": 17,
     "metadata": {},
     "output_type": "execute_result"
    }
   ],
   "source": [
    "p_ori_chi = math.factorial(LI_Y.iloc[0, 2])*math.factorial(LI_Y.iloc[1, 2])*math.factorial(LI_Y.iloc[2, 1])*math.factorial(LI_Y.iloc[2, 0])\n",
    "p_ori_mom = math.factorial(LI_Y.iloc[2, 2])*math.factorial(LI_Y.iloc[0, 0])*math.factorial(LI_Y.iloc[0, 1])*math.factorial(LI_Y.iloc[1, 0])*math.factorial(LI_Y.iloc[1, 1])\n",
    "p_ori = p_ori_chi/p_ori_mom\n",
    "p_ori"
   ]
  },
  {
   "cell_type": "code",
   "execution_count": 18,
   "metadata": {},
   "outputs": [
    {
     "data": {
      "text/plain": [
       "0.004913711514302612"
      ]
     },
     "execution_count": 18,
     "metadata": {},
     "output_type": "execute_result"
    }
   ],
   "source": [
    "p_ori_chi = math.factorial(LI_Y_list[0][-1])*math.factorial(LI_Y_list[1][-1])*math.factorial(LI_Y_list[2][1])*math.factorial(LI_Y_list[2][0])\n",
    "p_ori_mom = math.factorial(LI_Y_list[2][-1])*math.factorial(LI_Y_list[0][0])*math.factorial(LI_Y_list[0][1])*math.factorial(LI_Y_list[1][0])*math.factorial(LI_Y_list[1][1])\n",
    "p_ori = p_ori_chi/p_ori_mom\n",
    "p_ori\n"
   ]
  },
  {
   "cell_type": "code",
   "execution_count": 19,
   "metadata": {},
   "outputs": [
    {
     "name": "stdout",
     "output_type": "stream",
     "text": [
      "      LI1  LI0  LIsum\n",
      "Y1     19   10     29\n",
      "Y0     17    0     17\n",
      "Ysum   36   10     46\n",
      "p = 0.004913711514302612\n",
      "p_sum = 0.004913711514302612\n",
      "      LI1  LI0  LIsum\n",
      "Y1     20    9     29\n",
      "Y0     16    1     17\n",
      "Ysum   36   10     46\n",
      "p = 0.041766547871572204\n",
      "p_sum = 0.04668025938587482\n",
      "      LI1  LI0  LIsum\n",
      "Y1     21    8     29\n",
      "Y0     15    2     17\n",
      "Ysum   36   10     46\n",
      "p = 0.14319959270253327\n",
      "p_sum = 0.18987985208840807\n",
      "      LI1  LI0  LIsum\n",
      "Y1     22    7     29\n",
      "Y0     14    3     17\n",
      "Ysum   36   10     46\n",
      "p = 0.26036289582278777\n",
      "p_sum = 0.45024274791119584\n",
      "      LI1  LI0  LIsum\n",
      "Y1     23    6     29\n",
      "Y0     13    4     17\n",
      "Ysum   36   10     46\n",
      "p = 0.27734308468079566\n",
      "p_sum = 0.7275858325919915\n",
      "      LI1  LI0  LIsum\n",
      "Y1     24    5     29\n",
      "Y0     12    5     17\n",
      "Ysum   36   10     46\n",
      "p = 0.18027300504251717\n",
      "p_sum = 0.9078588376345087\n",
      "      LI1  LI0  LIsum\n",
      "Y1     25    4     29\n",
      "Y0     11    6     17\n",
      "Ysum   36   10     46\n",
      "p = 0.07210920201700687\n",
      "p_sum = 0.9799680396515156\n",
      "      LI1  LI0  LIsum\n",
      "Y1     26    3     29\n",
      "Y0     10    7     17\n",
      "Ysum   36   10     46\n",
      "p = 0.01743299389422144\n",
      "p_sum = 0.9974010335457371\n",
      "      LI1  LI0  LIsum\n",
      "Y1     27    2     29\n",
      "Y0      9    8     17\n",
      "Ysum   36   10     46\n",
      "p = 0.0024212491519752\n",
      "p_sum = 0.9998222826977122\n",
      "      LI1  LI0  LIsum\n",
      "Y1     28    1     29\n",
      "Y0      8    9     17\n",
      "Ysum   36   10     46\n",
      "p = 0.0001729463679982286\n",
      "p_sum = 0.9999952290657105\n",
      "      LI1  LI0  LIsum\n",
      "Y1     29    0     29\n",
      "Y0      7   10     17\n",
      "Ysum   36   10     46\n",
      "p = 4.770934289606306e-06\n",
      "p_sum = 1.0\n"
     ]
    },
    {
     "data": {
      "text/plain": [
       "1.0"
      ]
     },
     "execution_count": 19,
     "metadata": {},
     "output_type": "execute_result"
    }
   ],
   "source": [
    "p_sum = 0\n",
    "range_num = min(LI_Y.iloc[0, 2], LI_Y.iloc[2, 0])+1\n",
    "for k in range(0, range_num): #k = LI_Y.iloc[0, 0]として\n",
    "    LI_Y.iloc[0, 0] = k\n",
    "    LI_Y.iloc[0, 1] = LI_Y.iloc[0, 2] - k\n",
    "    LI_Y.iloc[1, 0] = LI_Y.iloc[2, 0] - k\n",
    "    LI_Y.iloc[1, 1] = LI_Y.iloc[2, 2] - LI_Y.iloc[0, 2] - (LI_Y.iloc[2, 0] - k)\n",
    "    if min(k, LI_Y.iloc[0, 1], LI_Y.iloc[1, 0], LI_Y.iloc[1, 1]) >= 0:\n",
    "        print(LI_Y)\n",
    "        KCk = comb(LI_Y.iloc[0, 2], k, exact=True)\n",
    "        NKCnk = comb(LI_Y.iloc[1, 2], LI_Y.iloc[1, 0], exact=True)\n",
    "        NCn = comb(LI_Y.iloc[2, 2], LI_Y.iloc[2, 0], exact=True)\n",
    "        p = KCk*NKCnk/NCn\n",
    "        print('p =',p)\n",
    "        \n",
    "        p_sum += p\n",
    "        print('p_sum =', p_sum)\n",
    "\n",
    "p_sum"
   ]
  },
  {
   "cell_type": "markdown",
   "metadata": {},
   "source": []
  },
  {
   "cell_type": "code",
   "execution_count": null,
   "metadata": {},
   "outputs": [],
   "source": []
  }
 ],
 "metadata": {
  "kernelspec": {
   "display_name": "Python 3",
   "language": "python",
   "name": "python3"
  },
  "language_info": {
   "codemirror_mode": {
    "name": "ipython",
    "version": 3
   },
   "file_extension": ".py",
   "mimetype": "text/x-python",
   "name": "python",
   "nbconvert_exporter": "python",
   "pygments_lexer": "ipython3",
   "version": "3.6.9"
  }
 },
 "nbformat": 4,
 "nbformat_minor": 4
}
