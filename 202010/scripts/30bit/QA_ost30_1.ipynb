{
 "cells": [
  {
   "cell_type": "markdown",
   "metadata": {},
   "source": [
    "## error対処後\n",
    "- OSError: ('Connection aborted.', RemoteDisconnected('Remote end closed connection without response',))"
   ]
  },
  {
   "cell_type": "code",
   "execution_count": 1,
   "metadata": {},
   "outputs": [],
   "source": [
    "#pip install matplotlib"
   ]
  },
  {
   "cell_type": "code",
   "execution_count": 2,
   "metadata": {},
   "outputs": [],
   "source": [
    "import pandas as pd \n",
    "import numpy as np\n",
    "from scipy.special import comb\n",
    "import math\n",
    "from neal import SimulatedAnnealingSampler\n",
    "from pyqubo import Array, Constraint, Placeholder, solve_qubo\n",
    "import itertools\n",
    "import random\n",
    "import matplotlib.pyplot as plt\n",
    "import timeit"
   ]
  },
  {
   "cell_type": "code",
   "execution_count": 3,
   "metadata": {},
   "outputs": [],
   "source": [
    "#!pip3 install dwave-system"
   ]
  },
  {
   "cell_type": "code",
   "execution_count": 4,
   "metadata": {},
   "outputs": [],
   "source": [
    "from dwave.system.composites import AutoEmbeddingComposite\n",
    "from dwave.system.samplers import DWaveSampler\n",
    "from pyqubo import Array, Constraint, Placeholder, solve_qubo"
   ]
  },
  {
   "cell_type": "code",
   "execution_count": 5,
   "metadata": {},
   "outputs": [],
   "source": [
    "DWAVE_TOKEN=\"TOKY-1319d5c52b9aa35f34b40feba0cea58a4f5d3c09\" #\"replace this string with actual token\""
   ]
  },
  {
   "cell_type": "code",
   "execution_count": null,
   "metadata": {},
   "outputs": [],
   "source": []
  },
  {
   "cell_type": "markdown",
   "metadata": {},
   "source": [
    "### 解析用データ作成\n",
    "\n",
    "（3年間骨肉腫に罹患しない）事象と各特徴量とのP値を計算する。\n",
    "- Osteogenic sarcoma data:骨肉腫\n",
    "- LI:リンパ球浸出\n",
    "- AOP:類骨病理学"
   ]
  },
  {
   "cell_type": "code",
   "execution_count": 6,
   "metadata": {},
   "outputs": [],
   "source": [
    "import pandas as pd\n",
    "import numpy as np"
   ]
  },
  {
   "cell_type": "code",
   "execution_count": 7,
   "metadata": {},
   "outputs": [
    {
     "data": {
      "text/plain": [
       "(30, 4)"
      ]
     },
     "execution_count": 7,
     "metadata": {},
     "output_type": "execute_result"
    }
   ],
   "source": [
    "ost30 = pd.read_csv(\"../../input/ost30.csv\", sep=',', index_col=0)\n",
    "ost30.shape"
   ]
  },
  {
   "cell_type": "code",
   "execution_count": 8,
   "metadata": {},
   "outputs": [
    {
     "data": {
      "text/html": [
       "<div>\n",
       "<style scoped>\n",
       "    .dataframe tbody tr th:only-of-type {\n",
       "        vertical-align: middle;\n",
       "    }\n",
       "\n",
       "    .dataframe tbody tr th {\n",
       "        vertical-align: top;\n",
       "    }\n",
       "\n",
       "    .dataframe thead th {\n",
       "        text-align: right;\n",
       "    }\n",
       "</style>\n",
       "<table border=\"1\" class=\"dataframe\">\n",
       "  <thead>\n",
       "    <tr style=\"text-align: right;\">\n",
       "      <th></th>\n",
       "      <th>Y</th>\n",
       "      <th>LI</th>\n",
       "      <th>SEX</th>\n",
       "      <th>AOP</th>\n",
       "    </tr>\n",
       "  </thead>\n",
       "  <tbody>\n",
       "    <tr>\n",
       "      <th>0</th>\n",
       "      <td>1</td>\n",
       "      <td>1</td>\n",
       "      <td>1</td>\n",
       "      <td>1</td>\n",
       "    </tr>\n",
       "    <tr>\n",
       "      <th>1</th>\n",
       "      <td>0</td>\n",
       "      <td>1</td>\n",
       "      <td>1</td>\n",
       "      <td>0</td>\n",
       "    </tr>\n",
       "    <tr>\n",
       "      <th>2</th>\n",
       "      <td>1</td>\n",
       "      <td>0</td>\n",
       "      <td>0</td>\n",
       "      <td>0</td>\n",
       "    </tr>\n",
       "    <tr>\n",
       "      <th>3</th>\n",
       "      <td>1</td>\n",
       "      <td>0</td>\n",
       "      <td>0</td>\n",
       "      <td>0</td>\n",
       "    </tr>\n",
       "    <tr>\n",
       "      <th>4</th>\n",
       "      <td>1</td>\n",
       "      <td>0</td>\n",
       "      <td>1</td>\n",
       "      <td>0</td>\n",
       "    </tr>\n",
       "  </tbody>\n",
       "</table>\n",
       "</div>"
      ],
      "text/plain": [
       "   Y  LI  SEX  AOP\n",
       "0  1   1    1    1\n",
       "1  0   1    1    0\n",
       "2  1   0    0    0\n",
       "3  1   0    0    0\n",
       "4  1   0    1    0"
      ]
     },
     "execution_count": 8,
     "metadata": {},
     "output_type": "execute_result"
    }
   ],
   "source": [
    "ost30.head()"
   ]
  },
  {
   "cell_type": "code",
   "execution_count": 9,
   "metadata": {},
   "outputs": [],
   "source": [
    "t_list = []\n",
    "t_list.append(sum(ost30['Y']))\n",
    "t_list.append(np.dot(ost30['Y'], ost30['LI']))\n",
    "t_list.append(np.dot(ost30['Y'], ost30['SEX']))\n",
    "t_list.append(np.dot(ost30['Y'], ost30['AOP']))"
   ]
  },
  {
   "cell_type": "code",
   "execution_count": 10,
   "metadata": {},
   "outputs": [
    {
     "data": {
      "text/plain": [
       "[18, 11, 5, 7]"
      ]
     },
     "execution_count": 10,
     "metadata": {},
     "output_type": "execute_result"
    }
   ],
   "source": [
    "t_list#Y, LI, SEX, AOP"
   ]
  },
  {
   "cell_type": "code",
   "execution_count": 11,
   "metadata": {},
   "outputs": [],
   "source": [
    "columns = list(ost30.columns)\n",
    "num_samples = ost30.shape[0]"
   ]
  },
  {
   "cell_type": "code",
   "execution_count": null,
   "metadata": {},
   "outputs": [],
   "source": []
  },
  {
   "cell_type": "markdown",
   "metadata": {},
   "source": [
    "### annealing_time = 20, num_reads=100, for t1 in range(0, ost16.shape[0]+1)"
   ]
  },
  {
   "cell_type": "code",
   "execution_count": 12,
   "metadata": {},
   "outputs": [],
   "source": [
    "#dw_sampler = DWaveSampler()\n",
    "\n",
    "#error発生"
   ]
  },
  {
   "cell_type": "code",
   "execution_count": 13,
   "metadata": {},
   "outputs": [],
   "source": [
    "dw_sampler = DWaveSampler(\n",
    "    endpoint=\"https://cloud.dwavesys.com/sapi\",\n",
    "    solver = 'DW_2000Q_6',\n",
    "    token = DWAVE_TOKEN\n",
    ")"
   ]
  },
  {
   "cell_type": "code",
   "execution_count": 14,
   "metadata": {},
   "outputs": [],
   "source": [
    "qa_sampler = AutoEmbeddingComposite(dw_sampler)"
   ]
  },
  {
   "cell_type": "code",
   "execution_count": 15,
   "metadata": {},
   "outputs": [],
   "source": [
    "def find_valid_y(df, num_reads):\n",
    "    valid_y_list = {}\n",
    "    valid_y_num = {}\n",
    "    for t1 in range(0, df.shape[0]+1):\n",
    "        y = Array.create('y', shape=df.shape[0], vartype='BINARY')\n",
    "\n",
    "        #QUBO式で定式化\n",
    "        H = (sum(y) - t_list[0])**2\n",
    "        H += (np.dot(df[columns[1]], y) - t1)**2\n",
    "        for j in range(2, len(columns)):\n",
    "            H_plus = (np.dot(df[columns[j]], y) - t_list[j])**2\n",
    "            H += H_plus\n",
    "\n",
    "        qb = H.compile().to_qubo()\n",
    "        res = qa_sampler.sample_qubo(qb[0], num_reads=100)\n",
    "\n",
    "        valid_y_list[t1] = []\n",
    "        valid_y_num[t1] = 0\n",
    "        for y_info in list(res.record):\n",
    "            if sum(y_info[0]) == t_list[0]:#int同士の比較\n",
    "                y = pd.Series(y_info[0])\n",
    "                if np.dot(df[columns[1]], y) == t1:#int同士の比較\n",
    "                    for j in range(2, len(columns)):\n",
    "                        if np.dot(df[columns[j]], y) != t_list[j]:#int同士の比較\n",
    "                            break\n",
    "                    else:\n",
    "                        if all(list(y_info[0]) != p for p in valid_y_list[t1]):\n",
    "                            valid_y_num[t1] += 1\n",
    "                            valid_y_list[t1].append(list(y_info[0]))\n",
    "                            print('perfect')\n",
    "    return valid_y_list, valid_y_num"
   ]
  },
  {
   "cell_type": "code",
   "execution_count": 16,
   "metadata": {},
   "outputs": [
    {
     "name": "stdout",
     "output_type": "stream",
     "text": [
      "{0: [], 1: [], 2: [], 3: [], 4: [], 5: [], 6: [], 7: [], 8: [], 9: [], 10: [], 11: [], 12: [], 13: [], 14: [], 15: [], 16: [], 17: [], 18: [], 19: [], 20: [], 21: [], 22: [], 23: [], 24: [], 25: [], 26: [], 27: [], 28: [], 29: [], 30: []}\n",
      "--------\n",
      "{0: 0, 1: 0, 2: 0, 3: 0, 4: 0, 5: 0, 6: 0, 7: 0, 8: 0, 9: 0, 10: 0, 11: 0, 12: 0, 13: 0, 14: 0, 15: 0, 16: 0, 17: 0, 18: 0, 19: 0, 20: 0, 21: 0, 22: 0, 23: 0, 24: 0, 25: 0, 26: 0, 27: 0, 28: 0, 29: 0, 30: 0}\n"
     ]
    }
   ],
   "source": [
    "valid_y_list, valid_y_num = find_valid_y(ost30, 100)\n",
    "print(valid_y_list)\n",
    "print('--------')\n",
    "print(valid_y_num)"
   ]
  },
  {
   "cell_type": "code",
   "execution_count": 17,
   "metadata": {},
   "outputs": [
    {
     "name": "stdout",
     "output_type": "stream",
     "text": [
      "313.9163353518 秒\n"
     ]
    }
   ],
   "source": [
    "loop = 10\n",
    "df = ost30\n",
    "num_reads = 100\n",
    "result = timeit.timeit('find_valid_y(df, num_reads)', globals=globals(), number=loop)\n",
    "print(result / loop, '秒')"
   ]
  },
  {
   "cell_type": "code",
   "execution_count": 20,
   "metadata": {},
   "outputs": [
    {
     "name": "stdout",
     "output_type": "stream",
     "text": [
      "5.23193892253 分\n"
     ]
    }
   ],
   "source": [
    "print(result / loop/60, '分')"
   ]
  },
  {
   "cell_type": "code",
   "execution_count": 18,
   "metadata": {},
   "outputs": [
    {
     "data": {
      "text/plain": [
       "{0: 0,\n",
       " 1: 0,\n",
       " 2: 0,\n",
       " 3: 0,\n",
       " 4: 0,\n",
       " 5: 0,\n",
       " 6: 0,\n",
       " 7: 0,\n",
       " 8: 0,\n",
       " 9: 0,\n",
       " 10: 0,\n",
       " 11: 0,\n",
       " 12: 0,\n",
       " 13: 0,\n",
       " 14: 0,\n",
       " 15: 0,\n",
       " 16: 0,\n",
       " 17: 0,\n",
       " 18: 0,\n",
       " 19: 0,\n",
       " 20: 0,\n",
       " 21: 0,\n",
       " 22: 0,\n",
       " 23: 0,\n",
       " 24: 0,\n",
       " 25: 0,\n",
       " 26: 0,\n",
       " 27: 0,\n",
       " 28: 0,\n",
       " 29: 0,\n",
       " 30: 0}"
      ]
     },
     "execution_count": 18,
     "metadata": {},
     "output_type": "execute_result"
    }
   ],
   "source": [
    "valid_y_num"
   ]
  },
  {
   "cell_type": "code",
   "execution_count": 19,
   "metadata": {},
   "outputs": [
    {
     "ename": "ZeroDivisionError",
     "evalue": "division by zero",
     "output_type": "error",
     "traceback": [
      "\u001b[0;31m---------------------------------------------------------------------------\u001b[0m",
      "\u001b[0;31mZeroDivisionError\u001b[0m                         Traceback (most recent call last)",
      "\u001b[0;32m<ipython-input-19-9682715c8a24>\u001b[0m in \u001b[0;36m<module>\u001b[0;34m\u001b[0m\n\u001b[0;32m----> 1\u001b[0;31m \u001b[0mvalid_y_num\u001b[0m\u001b[0;34m[\u001b[0m\u001b[0;36m9\u001b[0m\u001b[0;34m]\u001b[0m\u001b[0;34m/\u001b[0m\u001b[0msum\u001b[0m\u001b[0;34m(\u001b[0m\u001b[0mvalid_y_num\u001b[0m\u001b[0;34m.\u001b[0m\u001b[0mvalues\u001b[0m\u001b[0;34m(\u001b[0m\u001b[0;34m)\u001b[0m\u001b[0;34m)\u001b[0m\u001b[0;34m\u001b[0m\u001b[0;34m\u001b[0m\u001b[0m\n\u001b[0m",
      "\u001b[0;31mZeroDivisionError\u001b[0m: division by zero"
     ]
    }
   ],
   "source": [
    "valid_y_num[9]/sum(valid_y_num.values())"
   ]
  },
  {
   "cell_type": "code",
   "execution_count": null,
   "metadata": {},
   "outputs": [],
   "source": []
  },
  {
   "cell_type": "code",
   "execution_count": null,
   "metadata": {},
   "outputs": [],
   "source": []
  }
 ],
 "metadata": {
  "kernelspec": {
   "display_name": "Python 3",
   "language": "python",
   "name": "python3"
  },
  "language_info": {
   "codemirror_mode": {
    "name": "ipython",
    "version": 3
   },
   "file_extension": ".py",
   "mimetype": "text/x-python",
   "name": "python",
   "nbconvert_exporter": "python",
   "pygments_lexer": "ipython3",
   "version": "3.6.9"
  }
 },
 "nbformat": 4,
 "nbformat_minor": 4
}
