{
 "cells": [
  {
   "cell_type": "code",
   "execution_count": null,
   "metadata": {},
   "outputs": [],
   "source": [
    "import random\n",
    "import math\n",
    "import numpy as np\n",
    "import matplotlib.pyplot as plt"
   ]
  },
  {
   "cell_type": "code",
   "execution_count": null,
   "metadata": {},
   "outputs": [],
   "source": [
    "#通常のMCMC（返り値は[一番最後の点のエネルギー、稲の収量リスト])\n",
    "def Montecarlo(T, num_sample, MCMC_step=10000):\n",
    "    new_y = data_amount #以降要素を一つずつ変えていく #data_amountはSeries\n",
    "    E = [] #Eは配列、どんどん入れていく(一つ後ろで計算の際使用される)\n",
    "    def Energy(new_y): #\n",
    "        ener_sum = 0\n",
    "        for i in range(num_sample-1):\n",
    "            ener_sum += (2*new_y[i] - 1)*(2*new_y[i+1] - 1) \n",
    "            return - ener_sum\n",
    "    E.append(Energy(new_y)) #第一要素を追加    \n",
    "    save_y = [] #ほしいベクトルを貯める配列\n",
    "    count = 0\n",
    "    while True:\n",
    "        count += 1\n",
    "        i = random.randrange(num_sample)\n",
    "        ori_new_y_i = new_y[i]\n",
    "        new_y[i] = 1 - new_y[i]\n",
    "        #new_y[i] = random.uniform(-2, 2)\n",
    "        selector.fit(data_SNP, new_y)\n",
    "        mask_trial = selector.get_support()\n",
    "        E.append(Energy(new_y))  #mask_trialは順番に要素を足していく #E[0]=0とすでに入っている\n",
    "        r = math.exp(-(E[count]-E[count-1])/T) #温度付き\n",
    "        R = np.random.uniform(0.0, 1.0)\n",
    "        if R >= r : #f(z)が一個前のものよりも小さかったら⇔E[count]が一個前のものよりも大きかったら\n",
    "            new_y[i] = ori_new_y_i #元に戻す   \n",
    "        if count % MCMC_step == 0:\n",
    "            save_y.append(new_y)\n",
    "        else:\n",
    "            continue\n",
    "        if len(save_y) >= 1:\n",
    "            return [E[count], new_y] #P\n",
    "            break"
   ]
  },
  {
   "cell_type": "code",
   "execution_count": null,
   "metadata": {},
   "outputs": [],
   "source": [
    "def Montecarlo(T, num_sample, MCMC_step):\n",
    "    new_y=[random.randint(0, 1) for i in range(num_sample)]\n",
    "    def Energy(new_y): \n",
    "        ener_sum = 0\n",
    "        for i in range(num_sample-1):\n",
    "            ener_sum += -(2*new_y[i] - 1)*(2*new_y[i+1] - 1) \n",
    "        \n",
    "        ener_sum=ener_sum-(2*new_y[num_sample-1] - 1)*(2*new_y[1] - 1)\n",
    "        return ener_sum\n",
    "    E.append(Energy(new_y)) #第一要素を追加    \n",
    "    save_y[0]=new_y\n",
    "    #count = 0\n",
    "\n",
    "    for j in range(MCMC_step):\n",
    "        #count += 1\n",
    "        i = random.randrange(num_sample)\n",
    "        E_before=Energy(new_y)\n",
    "        ori_new_y_i = new_y[i]\n",
    "        new_y[i] = 1 - new_y[i]\n",
    "        E_after=Energy(new_y)\n",
    "        #new_y[i] = random.uniform(-2, 2)\n",
    "        #selector.fit(data_SNP, new_y)\n",
    "        #mask_trial = selector.get_support()\n",
    "        r = math.exp(-(E_after-E_before)/T) #温度付き\n",
    "        R = np.random.uniform(0.0, 1.0)\n",
    "        if R > r : #f(z)が一個前のものよりも小さかったら⇔E[count]が一個前のものよりも大きかったら\n",
    "            new_y[i] = ori_new_y_i #元に戻す   \n",
    "    \n",
    "        save_y[j+1]=new_y\n",
    "        E.append(Energy(new_y))  #mask_trialは順番に要素を足していく #E[0]=0とすでに入っている\n",
    "        #if count % MCMC_step == 0:\n",
    "        #save_y.append(new_y)\n",
    "        #else:\n",
    "        #    continue\n",
    "        #if len(save_y) >= 1:\n",
    "        #    return [E[count], new_y] #P\n",
    "        #    break\n",
    "\n",
    "T=0.1\n",
    "num_sample=10\n",
    "MCMC_step=100000\n",
    "\n",
    "E=[]\n",
    "save_y=np.empty((MCMC_step+1,num_sample),int) #ほしいベクトルを貯める配列\n",
    "\n",
    "Montecarlo(T,num_sample,MCMC_step)\n",
    "\n",
    "print(E)\n",
    "print(save_y)\n",
    "\n",
    "fig = plt.figure()\n",
    "plt.hist(E, bins=20, color='red', alpha=0.6)\n",
    "plt.savefig(\"histogram.pdf\")"
   ]
  },
  {
   "cell_type": "code",
   "execution_count": 1,
   "metadata": {},
   "outputs": [
    {
     "name": "stdout",
     "output_type": "stream",
     "text": [
      "[False False False False False False False False False False False False\n",
      " False False False  True  True  True  True  True]\n",
      "SNP.shape=(20, 20), SNP_selected.shape=(20, 5)\n"
     ]
    },
    {
     "name": "stderr",
     "output_type": "stream",
     "text": [
      "/usr/local/Caskroom/miniconda/base/lib/python3.7/site-packages/sklearn/feature_selection/univariate_selection.py:300: RuntimeWarning: invalid value encountered in true_divide\n",
      "  corr /= np.linalg.norm(y)\n",
      "/usr/local/Caskroom/miniconda/base/lib/python3.7/site-packages/scipy/stats/_distn_infrastructure.py:901: RuntimeWarning: invalid value encountered in greater\n",
      "  return (a < x) & (x < b)\n",
      "/usr/local/Caskroom/miniconda/base/lib/python3.7/site-packages/scipy/stats/_distn_infrastructure.py:901: RuntimeWarning: invalid value encountered in less\n",
      "  return (a < x) & (x < b)\n",
      "/usr/local/Caskroom/miniconda/base/lib/python3.7/site-packages/scipy/stats/_distn_infrastructure.py:1892: RuntimeWarning: invalid value encountered in less_equal\n",
      "  cond2 = cond0 & (x <= _a)\n"
     ]
    }
   ],
   "source": [
    "import pandas as pd\n",
    "\n",
    "\n",
    "# 説明変数（こっちの特徴量上位5つ取り出す）\n",
    "data_SNP = pd.read_table('training_markers.txt', header=None,  sep =  '\\t')\n",
    "\n",
    "# 目的変数\n",
    "data_yields = pd.read_table('training_yields.txt', header=None,  sep =  '\\t')\n",
    "\n",
    "data_amount_list = []\n",
    "for i in range(len(data_yields)):\n",
    "    data_amount_list.append(data_yields.iloc[i, 0])\n",
    "\n",
    "data_amount = pd.Series(data_amount_list)\n",
    "\n",
    "num_sample = data_SNP.shape[0]\n",
    "#print(num_sample)\n",
    "\n",
    "from sklearn.feature_selection import SelectKBest, f_regression\n",
    "\n",
    "# 5つの特徴量を選択\n",
    "selector = SelectKBest(score_func=f_regression, k=5) \n",
    "selector.fit(data_SNP, data_amount)\n",
    "mask = selector.get_support()    # 各特徴量を選択したか否かのmaskを取得\n",
    "print(mask)\n",
    "\n",
    "# 選択した特徴量の列のみ取得\n",
    "SNP_selected = selector.transform(data_SNP)\n",
    "print(\"SNP.shape={}, SNP_selected.shape={}\".format(data_SNP.shape, SNP_selected.shape))"
   ]
  },
  {
   "cell_type": "code",
   "execution_count": 2,
   "metadata": {
    "scrolled": true
   },
   "outputs": [
    {
     "name": "stdout",
     "output_type": "stream",
     "text": [
      "(SNPサンプル数, 塩基数)= (20, 20)\n",
      "[False False False False False False False False False False False False\n",
      " False False False  True  True  True  True  True]\n",
      "SNP.shape=(20, 20), SNP_selected.shape=(20, 5)\n"
     ]
    },
    {
     "name": "stderr",
     "output_type": "stream",
     "text": [
      "/usr/local/Caskroom/miniconda/base/lib/python3.7/site-packages/sklearn/feature_selection/univariate_selection.py:300: RuntimeWarning: invalid value encountered in true_divide\n",
      "  corr /= np.linalg.norm(y)\n",
      "/usr/local/Caskroom/miniconda/base/lib/python3.7/site-packages/scipy/stats/_distn_infrastructure.py:901: RuntimeWarning: invalid value encountered in greater\n",
      "  return (a < x) & (x < b)\n",
      "/usr/local/Caskroom/miniconda/base/lib/python3.7/site-packages/scipy/stats/_distn_infrastructure.py:901: RuntimeWarning: invalid value encountered in less\n",
      "  return (a < x) & (x < b)\n",
      "/usr/local/Caskroom/miniconda/base/lib/python3.7/site-packages/scipy/stats/_distn_infrastructure.py:1892: RuntimeWarning: invalid value encountered in less_equal\n",
      "  cond2 = cond0 & (x <= _a)\n"
     ]
    }
   ],
   "source": [
    "#import meeting1114_FeatureSelection"
   ]
  },
  {
   "cell_type": "code",
   "execution_count": 3,
   "metadata": {},
   "outputs": [],
   "source": [
    "from sklearn.metrics.cluster import normalized_mutual_info_score\n",
    "\n",
    "#print(Energy(mask))\n",
    "#print(mask)\n",
    "#print(type(E))\n",
    "#print(E[0])\n",
    "\n",
    "#mask_trial ...new_yによって選ばれた塩基mask(x)、forループを回すたび値が変わる、maskと比較するためにあるだけなので保存する必要なし\n",
    "\n",
    "import math\n",
    "import random\n",
    "\n",
    "#通常のMCMC（返り値は[一番最後の点のエネルギー、稲の収量リスト])\n",
    "def Montecarlo(T, num_sample, MCMC_step=10000):\n",
    "    new_y = data_amount #以降要素を一つずつ変えていく #data_amountはSeries\n",
    "    E = [] #Eは配列、どんどん入れていく(一つ後ろで計算の際使用される)\n",
    "    def Energy(new_y): #\n",
    "        ener_sum = 0\n",
    "        for i in range(num_sample-1):\n",
    "            ener_sum += (2*new_y[i] - 1)*(2*new_y[i+1] - 1) \n",
    "            return - ener_sum\n",
    "    E.append(Energy(new_y)) #第一要素を追加    \n",
    "    save_y = [] #ほしいベクトルを貯める配列\n",
    "    count = 0\n",
    "    while True:\n",
    "        count += 1\n",
    "        i = random.randrange(num_sample)\n",
    "        ori_new_y_i = new_y[i]\n",
    "        new_y[i] = 1 - new_y[i]\n",
    "        #new_y[i] = random.uniform(-2, 2)\n",
    "        selector.fit(data_SNP, new_y)\n",
    "        mask_trial = selector.get_support()\n",
    "        E.append(Energy(new_y))  #mask_trialは順番に要素を足していく #E[0]=0とすでに入っている\n",
    "        r = math.exp(-(E[count]-E[count-1])/T) #温度付き\n",
    "        R = np.random.uniform(0.0, 1.0)\n",
    "        if R >= r : #f(z)が一個前のものよりも小さかったら⇔E[count]が一個前のものよりも大きかったら\n",
    "            new_y[i] = ori_new_y_i #元に戻す   \n",
    "        if count % MCMC_step == 0:\n",
    "            save_y.append(new_y)\n",
    "        else:\n",
    "            continue\n",
    "        if len(save_y) >= 1:\n",
    "            return [E[count], new_y] #P\n",
    "            break"
   ]
  },
  {
   "cell_type": "code",
   "execution_count": 4,
   "metadata": {},
   "outputs": [],
   "source": [
    "# レプリカモンテカルロ法（返り値は[要素K個のエネルギーリスト、]\n",
    "def Replica(Ts, num_sample, num_step=2000): #Tsは後で指定\n",
    "    E_replica = [] #要素K個のエネルギーリスト\n",
    "    T_replica = [] #要素K個の温度リスト\n",
    "    count_replica = 0\n",
    "    while True:\n",
    "        for l in Ts:\n",
    "            Montecarlo(l, num_sample)\n",
    "            E_replica.append(Montecarlo(l, num_sample)[0])\n",
    "            T_replica.append(l)\n",
    "        count_replica += 1\n",
    "        if count_replica % num_step != 0:\n",
    "            E_replica = []\n",
    "            T_replica = []\n",
    "        else:\n",
    "            break       \n",
    "    k = random.randint(1, len(Ts)-1)\n",
    "    if np.random.uniform(size=1) < math.exp((T_replica[k+1]-T_replica[k])*(E_replica[k+1]-E_replica[k])):\n",
    "        Ts[k], Ts[k+1] = Ts[k+1], Ts[k]\n",
    "    return [E_replica, Ts]"
   ]
  },
  {
   "cell_type": "code",
   "execution_count": null,
   "metadata": {},
   "outputs": [
    {
     "name": "stderr",
     "output_type": "stream",
     "text": [
      "/usr/local/Caskroom/miniconda/base/lib/python3.7/site-packages/sklearn/feature_selection/univariate_selection.py:304: RuntimeWarning: divide by zero encountered in true_divide\n",
      "  F = corr ** 2 / (1 - corr ** 2) * degrees_of_freedom\n",
      "/usr/local/Caskroom/miniconda/base/lib/python3.7/site-packages/sklearn/feature_selection/univariate_selection.py:300: RuntimeWarning: invalid value encountered in true_divide\n",
      "  corr /= np.linalg.norm(y)\n",
      "/usr/local/Caskroom/miniconda/base/lib/python3.7/site-packages/scipy/stats/_distn_infrastructure.py:901: RuntimeWarning: invalid value encountered in greater\n",
      "  return (a < x) & (x < b)\n",
      "/usr/local/Caskroom/miniconda/base/lib/python3.7/site-packages/scipy/stats/_distn_infrastructure.py:901: RuntimeWarning: invalid value encountered in less\n",
      "  return (a < x) & (x < b)\n",
      "/usr/local/Caskroom/miniconda/base/lib/python3.7/site-packages/scipy/stats/_distn_infrastructure.py:1892: RuntimeWarning: invalid value encountered in less_equal\n",
      "  cond2 = cond0 & (x <= _a)\n",
      "/usr/local/Caskroom/miniconda/base/lib/python3.7/site-packages/sklearn/feature_selection/univariate_selection.py:300: RuntimeWarning: invalid value encountered in true_divide\n",
      "  corr /= np.linalg.norm(y)\n",
      "/usr/local/Caskroom/miniconda/base/lib/python3.7/site-packages/scipy/stats/_distn_infrastructure.py:901: RuntimeWarning: invalid value encountered in greater\n",
      "  return (a < x) & (x < b)\n",
      "/usr/local/Caskroom/miniconda/base/lib/python3.7/site-packages/scipy/stats/_distn_infrastructure.py:901: RuntimeWarning: invalid value encountered in less\n",
      "  return (a < x) & (x < b)\n",
      "/usr/local/Caskroom/miniconda/base/lib/python3.7/site-packages/scipy/stats/_distn_infrastructure.py:1892: RuntimeWarning: invalid value encountered in less_equal\n",
      "  cond2 = cond0 & (x <= _a)\n",
      "/usr/local/Caskroom/miniconda/base/lib/python3.7/site-packages/sklearn/feature_selection/univariate_selection.py:304: RuntimeWarning: divide by zero encountered in true_divide\n",
      "  F = corr ** 2 / (1 - corr ** 2) * degrees_of_freedom\n",
      "/usr/local/Caskroom/miniconda/base/lib/python3.7/site-packages/sklearn/feature_selection/univariate_selection.py:304: RuntimeWarning: divide by zero encountered in true_divide\n",
      "  F = corr ** 2 / (1 - corr ** 2) * degrees_of_freedom\n",
      "/usr/local/Caskroom/miniconda/base/lib/python3.7/site-packages/sklearn/feature_selection/univariate_selection.py:304: RuntimeWarning: divide by zero encountered in true_divide\n",
      "  F = corr ** 2 / (1 - corr ** 2) * degrees_of_freedom\n",
      "/usr/local/Caskroom/miniconda/base/lib/python3.7/site-packages/sklearn/feature_selection/univariate_selection.py:304: RuntimeWarning: divide by zero encountered in true_divide\n",
      "  F = corr ** 2 / (1 - corr ** 2) * degrees_of_freedom\n",
      "/usr/local/Caskroom/miniconda/base/lib/python3.7/site-packages/sklearn/feature_selection/univariate_selection.py:304: RuntimeWarning: divide by zero encountered in true_divide\n",
      "  F = corr ** 2 / (1 - corr ** 2) * degrees_of_freedom\n"
     ]
    }
   ],
   "source": [
    "import matplotlib.pyplot as plt\n",
    "import math \n",
    "import numpy as np\n",
    "\n",
    "num_sample = 20\n",
    "Ts = range(1, 100)\n",
    "Ys = [Montecarlo(T, num_sample)[0] for T in Ts]\n",
    "plt.plot(Ts, Ys)"
   ]
  },
  {
   "cell_type": "code",
   "execution_count": null,
   "metadata": {},
   "outputs": [],
   "source": [
    "# / feature_selection / univariate_selection.py\n",
    "\n",
    "# 回帰 f-regression\n",
    "degrees_of_freedom = y.size - (2 if center else 1)\n",
    "F = corr ** 2 / (1 - corr ** 2) * degrees_of_freedom\n",
    "pv = stats.f.sf(F, 1, degrees_of_freedom)"
   ]
  }
 ],
 "metadata": {
  "kernelspec": {
   "display_name": "Python 3",
   "language": "python",
   "name": "python3"
  },
  "language_info": {
   "codemirror_mode": {
    "name": "ipython",
    "version": 3
   },
   "file_extension": ".py",
   "mimetype": "text/x-python",
   "name": "python",
   "nbconvert_exporter": "python",
   "pygments_lexer": "ipython3",
   "version": "3.7.6"
  }
 },
 "nbformat": 4,
 "nbformat_minor": 2
}
