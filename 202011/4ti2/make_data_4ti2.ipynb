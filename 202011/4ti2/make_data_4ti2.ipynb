{
 "cells": [
  {
   "cell_type": "code",
   "execution_count": 9,
   "metadata": {},
   "outputs": [],
   "source": [
    "#import \n",
    "import numpy as np\n",
    "import pandas as pd\n",
    "import random"
   ]
  },
  {
   "cell_type": "code",
   "execution_count": 10,
   "metadata": {},
   "outputs": [],
   "source": [
    "def make_t_list(df, t1):\n",
    "    t_list = []\n",
    "    t_list.append(sum(df['Y']))\n",
    "    t_list.append(t1) #change\n",
    "    t_list.append(np.dot(df['Y'], df['SEX']))\n",
    "    t_list.append(np.dot(df['Y'], df['AOP']))\n",
    "    \n",
    "    return t_list"
   ]
  },
  {
   "cell_type": "code",
   "execution_count": 11,
   "metadata": {},
   "outputs": [],
   "source": [
    "# make .mat data\n",
    "def make_mat(df):\n",
    "    num_samples = df.shape[0]\n",
    "    feature1 = df['LI']\n",
    "    feature2 = df['SEX']\n",
    "    feature3 = df['AOP']\n",
    "    \n",
    "    mat_data = []\n",
    "    \n",
    "    #yの各要素が0, 1であることを示している\n",
    "    for m in range(num_samples):\n",
    "        all0 = [0]*num_samples\n",
    "        all0[m] = 1\n",
    "        mat_data.append(all0)\n",
    "        \n",
    "    mat_data.append([1]*num_samples) \n",
    "    mat_data.append([1]*num_samples)\n",
    "    \n",
    "    mat_data.append(feature1.values.tolist())\n",
    "    mat_data.append(feature1.values.tolist())\n",
    "\n",
    "    mat_data.append(feature2.values.tolist())\n",
    "    mat_data.append(feature2.values.tolist())\n",
    "\n",
    "    mat_data.append(feature3.values.tolist())\n",
    "    mat_data.append(feature3.values.tolist())\n",
    "    \n",
    "    return mat_data"
   ]
  },
  {
   "cell_type": "code",
   "execution_count": 12,
   "metadata": {},
   "outputs": [],
   "source": [
    "def make_data_for_4ti2(df, t1):\n",
    "    num_samples = df.shape[0]\n",
    "    feature1 = df['LI']\n",
    "    feature2 = df['SEX']\n",
    "    feature3 = df['AOP']\n",
    "    \n",
    "    t_list = make_t_list(df, t1)\n",
    "    \n",
    "    mat = []\n",
    "    mat_data = make_mat(df)\n",
    "    mat_shape = [num_samples+2*len(t_list), num_samples]\n",
    "    mat += [mat_data, mat_shape]\n",
    "    \n",
    "    rel = []\n",
    "    rel_data = [[\"<\"]*num_samples+[\">\", \"<\"]*len(t_list)]\n",
    "    rel_shape = [1, num_samples+2*len(t_list)]\n",
    "    rel += [rel_data, rel_shape]\n",
    "    \n",
    "    rhs = []\n",
    "    rhs_data = [[1]*num_samples+[t_list[0]]*2+[t_list[1]]*2+[t_list[2]]*2+[t_list[3]]*2]\n",
    "    rhs_shape = [1, num_samples+2*len(t_list)]\n",
    "    rhs += [rhs_data, rhs_shape]\n",
    "    \n",
    "    sign = []\n",
    "    sign_data = [[1]*num_samples]\n",
    "    sign_shape = [1, num_samples]\n",
    "    sign += [sign_data, sign_shape]\n",
    "    \n",
    "    return mat, rel, rhs, sign"
   ]
  },
  {
   "cell_type": "code",
   "execution_count": 13,
   "metadata": {},
   "outputs": [],
   "source": [
    "def save_system(df, t1):\n",
    "    mat, rel, rhs, sign = make_data_for_4ti2(df, t1)\n",
    "    shape_data_list = [mat, rel, rhs, sign]\n",
    "    name_list= ['mat', 'rel', 'rhs', 'sign']\n",
    "    \n",
    "    for i, shape_data in enumerate(shape_data_list):\n",
    "        shape = shape_data[1]\n",
    "        data = shape_data[0]\n",
    "        path = \"{}.{}\".format(t1, name_list[i])\n",
    "        \n",
    "        with open(path, \"w\") as f:\n",
    "            f.write(\" \".join([str(a) for a in shape])+\"\\n\")\n",
    "            for d in data:\n",
    "                f.write(\" \".join([str(a) for a in d])+\"\\n\")"
   ]
  },
  {
   "cell_type": "code",
   "execution_count": null,
   "metadata": {},
   "outputs": [],
   "source": []
  }
 ],
 "metadata": {
  "kernelspec": {
   "display_name": "Python 3",
   "language": "python",
   "name": "python3"
  },
  "language_info": {
   "codemirror_mode": {
    "name": "ipython",
    "version": 3
   },
   "file_extension": ".py",
   "mimetype": "text/x-python",
   "name": "python",
   "nbconvert_exporter": "python",
   "pygments_lexer": "ipython3",
   "version": "3.8.6"
  }
 },
 "nbformat": 4,
 "nbformat_minor": 4
}
