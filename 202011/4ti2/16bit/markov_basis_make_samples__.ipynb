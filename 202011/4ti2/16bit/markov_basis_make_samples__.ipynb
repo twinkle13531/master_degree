{
 "cells": [
  {
   "cell_type": "code",
   "execution_count": 105,
   "metadata": {},
   "outputs": [
    {
     "name": "stdout",
     "output_type": "stream",
     "text": [
      "/Users/shihosato/src/github.com/twinkle13531/master_degree/202011/4ti2/16bit\r\n"
     ]
    }
   ],
   "source": [
    "!pwd"
   ]
  },
  {
   "cell_type": "code",
   "execution_count": 186,
   "metadata": {},
   "outputs": [],
   "source": [
    "import pandas as pd\n",
    "import numpy as np\n",
    "import random\n",
    "import math\n",
    "import matplotlib.pyplot as plt"
   ]
  },
  {
   "cell_type": "code",
   "execution_count": 107,
   "metadata": {},
   "outputs": [],
   "source": [
    "def make_result_list(mat_path):\n",
    "    with open(mat_path) as f:\n",
    "        l_strip = [[s.strip()] for s in f.readlines()]\n",
    "        result_num = int(l_strip[0][0][:-(2+1)])\n",
    "        result_list = []\n",
    "        for i in range(1, result_num+1):\n",
    "            int_y = [int(l_strip[i][0].split()[j]) for j in range(len(l_strip[i][0].split()))]\n",
    "            result_list.append(int_y)\n",
    "    return result_list"
   ]
  },
  {
   "cell_type": "markdown",
   "metadata": {},
   "source": [
    "## 1. 順番にresult_listを一つずつ試していく、毎回ori_yを初期値とする"
   ]
  },
  {
   "cell_type": "code",
   "execution_count": 108,
   "metadata": {},
   "outputs": [],
   "source": [
    "def calculate_energy(df, y):\n",
    "    series_y = pd.Series(y)\n",
    "    E_dot = (sum(y) - sum(df['Y']))**2 \n",
    "    + (np.dot(series_y, df['SEX']) - np.dot(df['Y'], df['SEX']))**2 \n",
    "    + (np.dot(series_y, df['AOP']) - np.dot(df['Y'], df['AOP']))**2\n",
    "    \n",
    "    E_num = sum([0 if each_y==1 or each_y ==0 else 1 for each_y in y])\n",
    "    \n",
    "    return E_dot + E_num"
   ]
  },
  {
   "cell_type": "code",
   "execution_count": 109,
   "metadata": {},
   "outputs": [],
   "source": [
    "def make_samples1(mat_path, df):\n",
    "    ori_y = list(df['Y'])\n",
    "    result_list = make_result_list(mat_path)\n",
    "    valid_y = [ori_y]\n",
    "    print(valid_y)\n",
    "    for each_list in result_list:\n",
    "        canditate_y = [x + y for (x, y) in zip(ori_y, each_list)]\n",
    "        print('here1:', canditate_y, len(valid_y))\n",
    "        while calculate_energy(df, canditate_y)==0 and all(canditate_y != pp for pp in valid_y): \n",
    "                valid_y.append(canditate_y)\n",
    "                print('here2:', canditate_y, len(valid_y))\n",
    "                canditate_y = [x + y for (x, y) in zip(canditate_y, each_list)]\n",
    "                print('here3:', canditate_y, len(valid_y))\n",
    "            \n",
    "        else:\n",
    "            canditate_y = [x - 2*y for (x, y) in zip(canditate_y, each_list)]\n",
    "            print('here4:', canditate_y, len(valid_y))\n",
    "            while calculate_energy(df, canditate_y)==0 and all(canditate_y != pp for pp in valid_y):\n",
    "                    valid_y.append(canditate_y)\n",
    "                    print('here5:', canditate_y, len(valid_y))\n",
    "                    canditate_y = [x - y for (x, y) in zip(canditate_y, each_list)]\n",
    "                    print('here6:', canditate_y, len(valid_y))\n",
    "               \n",
    "            else:\n",
    "                print('here7')\n",
    "                continue\n",
    "            print('here8')\n",
    "            continue\n",
    "                \n",
    "    print('finish')\n",
    "        \n",
    "    return valid_y"
   ]
  },
  {
   "cell_type": "code",
   "execution_count": 110,
   "metadata": {},
   "outputs": [
    {
     "name": "stdout",
     "output_type": "stream",
     "text": [
      "[[1, 1, 1, 1, 0, 0, 1, 0, 0, 0, 1, 0, 0, 1, 0, 1]]\n",
      "here1: [1, 1, 1, 1, 0, 0, 1, 0, 0, 0, 1, 0, 0, 2, 0, 0] 1\n",
      "here4: [1, 1, 1, 1, 0, 0, 1, 0, 0, 0, 1, 0, 0, 0, 0, 2] 1\n",
      "here7\n",
      "here1: [1, 1, 2, 0, 0, 0, 1, 0, 0, 0, 1, 0, 0, 1, 0, 1] 1\n",
      "here4: [1, 1, 0, 2, 0, 0, 1, 0, 0, 0, 1, 0, 0, 1, 0, 1] 1\n",
      "here7\n",
      "here1: [1, 1, 2, 1, -1, 0, 1, 0, 0, 0, 1, 0, 0, 1, 0, 1] 1\n",
      "here4: [1, 1, 0, 1, 1, 0, 1, 0, 0, 0, 1, 0, 0, 1, 0, 1] 1\n",
      "here5: [1, 1, 0, 1, 1, 0, 1, 0, 0, 0, 1, 0, 0, 1, 0, 1] 2\n",
      "here6: [1, 1, -1, 1, 2, 0, 1, 0, 0, 0, 1, 0, 0, 1, 0, 1] 2\n",
      "here7\n",
      "here1: [1, 1, 2, 1, 0, -1, 1, 0, 0, 0, 1, 0, 0, 1, 0, 1] 2\n",
      "here4: [1, 1, 0, 1, 0, 1, 1, 0, 0, 0, 1, 0, 0, 1, 0, 1] 2\n",
      "here5: [1, 1, 0, 1, 0, 1, 1, 0, 0, 0, 1, 0, 0, 1, 0, 1] 3\n",
      "here6: [1, 1, -1, 1, 0, 2, 1, 0, 0, 0, 1, 0, 0, 1, 0, 1] 3\n",
      "here7\n",
      "here1: [1, 1, 2, 1, 0, 0, 1, 0, -1, 0, 1, 0, 0, 1, 0, 1] 3\n",
      "here4: [1, 1, 0, 1, 0, 0, 1, 0, 1, 0, 1, 0, 0, 1, 0, 1] 3\n",
      "here5: [1, 1, 0, 1, 0, 0, 1, 0, 1, 0, 1, 0, 0, 1, 0, 1] 4\n",
      "here6: [1, 1, -1, 1, 0, 0, 1, 0, 2, 0, 1, 0, 0, 1, 0, 1] 4\n",
      "here7\n",
      "here1: [1, 1, 2, 1, 0, 0, 1, 0, 0, 0, 1, -1, 0, 1, 0, 1] 4\n",
      "here4: [1, 1, 0, 1, 0, 0, 1, 0, 0, 0, 1, 1, 0, 1, 0, 1] 4\n",
      "here5: [1, 1, 0, 1, 0, 0, 1, 0, 0, 0, 1, 1, 0, 1, 0, 1] 5\n",
      "here6: [1, 1, -1, 1, 0, 0, 1, 0, 0, 0, 1, 2, 0, 1, 0, 1] 5\n",
      "here7\n",
      "here1: [1, 1, 2, 1, 0, 0, 1, 0, 0, 0, 1, 0, -1, 1, 0, 1] 5\n",
      "here4: [1, 1, 0, 1, 0, 0, 1, 0, 0, 0, 1, 0, 1, 1, 0, 1] 5\n",
      "here5: [1, 1, 0, 1, 0, 0, 1, 0, 0, 0, 1, 0, 1, 1, 0, 1] 6\n",
      "here6: [1, 1, -1, 1, 0, 0, 1, 0, 0, 0, 1, 0, 2, 1, 0, 1] 6\n",
      "here7\n",
      "here1: [1, 2, 1, 1, 0, 0, 1, -1, 0, 0, 1, 0, 0, 1, 0, 1] 6\n",
      "here4: [1, 0, 1, 1, 0, 0, 1, 1, 0, 0, 1, 0, 0, 1, 0, 1] 6\n",
      "here5: [1, 0, 1, 1, 0, 0, 1, 1, 0, 0, 1, 0, 0, 1, 0, 1] 7\n",
      "here6: [1, -1, 1, 1, 0, 0, 1, 2, 0, 0, 1, 0, 0, 1, 0, 1] 7\n",
      "here7\n",
      "here1: [1, 2, 1, 1, 0, 0, 1, 0, 0, -1, 1, 0, 0, 1, 0, 1] 7\n",
      "here4: [1, 0, 1, 1, 0, 0, 1, 0, 0, 1, 1, 0, 0, 1, 0, 1] 7\n",
      "here5: [1, 0, 1, 1, 0, 0, 1, 0, 0, 1, 1, 0, 0, 1, 0, 1] 8\n",
      "here6: [1, -1, 1, 1, 0, 0, 1, 0, 0, 2, 1, 0, 0, 1, 0, 1] 8\n",
      "here7\n",
      "here1: [1, 2, 1, 1, 0, 0, 1, 0, 0, 0, 0, 0, 0, 1, 0, 1] 8\n",
      "here4: [1, 0, 1, 1, 0, 0, 1, 0, 0, 0, 2, 0, 0, 1, 0, 1] 8\n",
      "here7\n",
      "here1: [2, 1, 1, 1, 0, 0, 0, 0, 0, 0, 1, 0, 0, 1, 0, 1] 8\n",
      "here4: [0, 1, 1, 1, 0, 0, 2, 0, 0, 0, 1, 0, 0, 1, 0, 1] 8\n",
      "here7\n",
      "here1: [2, 1, 1, 1, 0, 0, 1, 0, 0, 0, 1, 0, 0, 1, -1, 1] 8\n",
      "here4: [0, 1, 1, 1, 0, 0, 1, 0, 0, 0, 1, 0, 0, 1, 1, 1] 8\n",
      "here5: [0, 1, 1, 1, 0, 0, 1, 0, 0, 0, 1, 0, 0, 1, 1, 1] 9\n",
      "here6: [-1, 1, 1, 1, 0, 0, 1, 0, 0, 0, 1, 0, 0, 1, 2, 1] 9\n",
      "here7\n",
      "here1: [2, 2, 0, 1, 0, 0, 1, 0, 0, 0, 1, 0, 0, 0, 0, 1] 9\n",
      "here4: [0, 0, 2, 1, 0, 0, 1, 0, 0, 0, 1, 0, 0, 2, 0, 1] 9\n",
      "here7\n",
      "finish\n"
     ]
    }
   ],
   "source": [
    "df = pd.read_csv('../../input/ost16.csv', sep=',', index_col=0)\n",
    "mat_path = '16bit.mat.mar'\n",
    "valid_y = make_samples1(mat_path, df)"
   ]
  },
  {
   "cell_type": "code",
   "execution_count": 111,
   "metadata": {},
   "outputs": [
    {
     "data": {
      "text/plain": [
       "[[1, 1, 1, 1, 0, 0, 1, 0, 0, 0, 1, 0, 0, 1, 0, 1],\n",
       " [1, 1, 0, 1, 1, 0, 1, 0, 0, 0, 1, 0, 0, 1, 0, 1],\n",
       " [1, 1, 0, 1, 0, 1, 1, 0, 0, 0, 1, 0, 0, 1, 0, 1],\n",
       " [1, 1, 0, 1, 0, 0, 1, 0, 1, 0, 1, 0, 0, 1, 0, 1],\n",
       " [1, 1, 0, 1, 0, 0, 1, 0, 0, 0, 1, 1, 0, 1, 0, 1],\n",
       " [1, 1, 0, 1, 0, 0, 1, 0, 0, 0, 1, 0, 1, 1, 0, 1],\n",
       " [1, 0, 1, 1, 0, 0, 1, 1, 0, 0, 1, 0, 0, 1, 0, 1],\n",
       " [1, 0, 1, 1, 0, 0, 1, 0, 0, 1, 1, 0, 0, 1, 0, 1],\n",
       " [0, 1, 1, 1, 0, 0, 1, 0, 0, 0, 1, 0, 0, 1, 1, 1]]"
      ]
     },
     "execution_count": 111,
     "metadata": {},
     "output_type": "execute_result"
    }
   ],
   "source": [
    "valid_y"
   ]
  },
  {
   "cell_type": "code",
   "execution_count": 112,
   "metadata": {},
   "outputs": [
    {
     "data": {
      "text/plain": [
       "9"
      ]
     },
     "execution_count": 112,
     "metadata": {},
     "output_type": "execute_result"
    }
   ],
   "source": [
    "len(valid_y)"
   ]
  },
  {
   "cell_type": "markdown",
   "metadata": {},
   "source": [
    "## 2. 順番にresult_listを一つずつ試していく, canditate_yは常に初期値ori_yに戻さない"
   ]
  },
  {
   "cell_type": "code",
   "execution_count": 115,
   "metadata": {},
   "outputs": [],
   "source": [
    "def make_samples2(mat_path, df):\n",
    "    ori_y = list(df['Y'])\n",
    "    result_list = make_result_list(mat_path)\n",
    "    valid_y = [ori_y]\n",
    "    canditate_y  = ori_y\n",
    "    print(valid_y)\n",
    "    for each_list in result_list:\n",
    "        canditate_y = [x + y for (x, y) in zip(canditate_y, each_list)]\n",
    "        print('here1:', canditate_y, len(valid_y))\n",
    "        while calculate_energy(df, canditate_y)==0 and all(canditate_y != pp for pp in valid_y): \n",
    "                valid_y.append(canditate_y)\n",
    "                print('here2:', canditate_y, len(valid_y))\n",
    "                canditate_y = [x + y for (x, y) in zip(canditate_y, each_list)]\n",
    "                print('here3:', canditate_y, len(valid_y))\n",
    "            \n",
    "        else:\n",
    "            canditate_y = [x - 2*y for (x, y) in zip(canditate_y, each_list)]\n",
    "            print('here4:', canditate_y, len(valid_y))\n",
    "            while calculate_energy(df, canditate_y)==0 and all(canditate_y != pp for pp in valid_y):\n",
    "                    valid_y.append(canditate_y)\n",
    "                    print('here5:', canditate_y, len(valid_y))\n",
    "                    canditate_y = [x - y for (x, y) in zip(canditate_y, each_list)]\n",
    "                    print('here6:', canditate_y, len(valid_y))\n",
    "               \n",
    "            else:\n",
    "                print('here7')\n",
    "                continue\n",
    "            print('here8')\n",
    "            continue\n",
    "                \n",
    "    print('finish')\n",
    "        \n",
    "    return valid_y"
   ]
  },
  {
   "cell_type": "code",
   "execution_count": 116,
   "metadata": {},
   "outputs": [
    {
     "name": "stdout",
     "output_type": "stream",
     "text": [
      "[[1, 1, 1, 1, 0, 0, 1, 0, 0, 0, 1, 0, 0, 1, 0, 1]]\n",
      "here1: [1, 1, 1, 1, 0, 0, 1, 0, 0, 0, 1, 0, 0, 2, 0, 0] 1\n",
      "here4: [1, 1, 1, 1, 0, 0, 1, 0, 0, 0, 1, 0, 0, 0, 0, 2] 1\n",
      "here7\n",
      "here1: [1, 1, 2, 0, 0, 0, 1, 0, 0, 0, 1, 0, 0, 0, 0, 2] 1\n",
      "here4: [1, 1, 0, 2, 0, 0, 1, 0, 0, 0, 1, 0, 0, 0, 0, 2] 1\n",
      "here7\n",
      "here1: [1, 1, 1, 2, -1, 0, 1, 0, 0, 0, 1, 0, 0, 0, 0, 2] 1\n",
      "here4: [1, 1, -1, 2, 1, 0, 1, 0, 0, 0, 1, 0, 0, 0, 0, 2] 1\n",
      "here7\n",
      "here1: [1, 1, 0, 2, 1, -1, 1, 0, 0, 0, 1, 0, 0, 0, 0, 2] 1\n",
      "here4: [1, 1, -2, 2, 1, 1, 1, 0, 0, 0, 1, 0, 0, 0, 0, 2] 1\n",
      "here7\n",
      "here1: [1, 1, -1, 2, 1, 1, 1, 0, -1, 0, 1, 0, 0, 0, 0, 2] 1\n",
      "here4: [1, 1, -3, 2, 1, 1, 1, 0, 1, 0, 1, 0, 0, 0, 0, 2] 1\n",
      "here7\n",
      "here1: [1, 1, -2, 2, 1, 1, 1, 0, 1, 0, 1, -1, 0, 0, 0, 2] 1\n",
      "here4: [1, 1, -4, 2, 1, 1, 1, 0, 1, 0, 1, 1, 0, 0, 0, 2] 1\n",
      "here7\n",
      "here1: [1, 1, -3, 2, 1, 1, 1, 0, 1, 0, 1, 1, -1, 0, 0, 2] 1\n",
      "here4: [1, 1, -5, 2, 1, 1, 1, 0, 1, 0, 1, 1, 1, 0, 0, 2] 1\n",
      "here7\n",
      "here1: [1, 2, -5, 2, 1, 1, 1, -1, 1, 0, 1, 1, 1, 0, 0, 2] 1\n",
      "here4: [1, 0, -5, 2, 1, 1, 1, 1, 1, 0, 1, 1, 1, 0, 0, 2] 1\n",
      "here7\n",
      "here1: [1, 1, -5, 2, 1, 1, 1, 1, 1, -1, 1, 1, 1, 0, 0, 2] 1\n",
      "here4: [1, -1, -5, 2, 1, 1, 1, 1, 1, 1, 1, 1, 1, 0, 0, 2] 1\n",
      "here7\n",
      "here1: [1, 0, -5, 2, 1, 1, 1, 1, 1, 1, 0, 1, 1, 0, 0, 2] 1\n",
      "here4: [1, -2, -5, 2, 1, 1, 1, 1, 1, 1, 2, 1, 1, 0, 0, 2] 1\n",
      "here7\n",
      "here1: [2, -2, -5, 2, 1, 1, 0, 1, 1, 1, 2, 1, 1, 0, 0, 2] 1\n",
      "here4: [0, -2, -5, 2, 1, 1, 2, 1, 1, 1, 2, 1, 1, 0, 0, 2] 1\n",
      "here7\n",
      "here1: [1, -2, -5, 2, 1, 1, 2, 1, 1, 1, 2, 1, 1, 0, -1, 2] 1\n",
      "here4: [-1, -2, -5, 2, 1, 1, 2, 1, 1, 1, 2, 1, 1, 0, 1, 2] 1\n",
      "here7\n",
      "here1: [0, -1, -6, 2, 1, 1, 2, 1, 1, 1, 2, 1, 1, -1, 1, 2] 1\n",
      "here4: [-2, -3, -4, 2, 1, 1, 2, 1, 1, 1, 2, 1, 1, 1, 1, 2] 1\n",
      "here7\n",
      "finish\n"
     ]
    }
   ],
   "source": [
    "df = pd.read_csv('../../input/ost16.csv', sep=',', index_col=0)\n",
    "mat_path = '16bit.mat.mar'\n",
    "valid_y = make_samples2(mat_path, df)"
   ]
  },
  {
   "cell_type": "code",
   "execution_count": 118,
   "metadata": {},
   "outputs": [
    {
     "data": {
      "text/plain": [
       "[[1, 1, 1, 1, 0, 0, 1, 0, 0, 0, 1, 0, 0, 1, 0, 1]]"
      ]
     },
     "execution_count": 118,
     "metadata": {},
     "output_type": "execute_result"
    }
   ],
   "source": [
    "valid_y"
   ]
  },
  {
   "cell_type": "markdown",
   "metadata": {},
   "source": [
    "## 3. 順番にresult_listを一つずつ試していく, continue一個減らした\n",
    "- 良くなかった"
   ]
  },
  {
   "cell_type": "code",
   "execution_count": null,
   "metadata": {},
   "outputs": [],
   "source": [
    "#while all(p==0 or p==1 for p in canditate_y) and all(canditate_y != pp for pp in canditate_y_list): "
   ]
  },
  {
   "cell_type": "code",
   "execution_count": 123,
   "metadata": {},
   "outputs": [],
   "source": [
    "def make_samples3(mat_path, df):\n",
    "    ori_y = list(df['Y'])\n",
    "    result_list = make_result_list(mat_path)\n",
    "    canditate_y_list = [ori_y]\n",
    "    canditate_y = ori_y\n",
    "    for each_list in result_list:\n",
    "        canditate_y = [x + y for (x, y) in zip(canditate_y, each_list)]#do\n",
    "        canditate_y_list.append(canditate_y)\n",
    "        print('here1:', canditate_y, len(canditate_y_list))\n",
    "        while calculate_energy(df, canditate_y)==0 and all(canditate_y != pp for pp in valid_y): \n",
    "                canditate_y_list.append(canditate_y)\n",
    "                print('here2:', canditate_y, len(canditate_y_list))\n",
    "                canditate_y = [x + y for (x, y) in zip(canditate_y, each_list)]\n",
    "            \n",
    "        else:\n",
    "            canditate_y_list = canditate_y_list[:-1]#一つ消す\n",
    "            canditate_y = canditate_y_list[-1]#一つ戻る\n",
    "            canditate_y = [x - y for (x, y) in zip(canditate_y, each_list)]#do\n",
    "            canditate_y_list.append(canditate_y)\n",
    "            print('here3:', canditate_y, len(canditate_y_list))\n",
    "            while calculate_energy(df, canditate_y)==0 and all(canditate_y != pp for pp in valid_y): \n",
    "                    canditate_y_list.append(canditate_y)\n",
    "                    print('here4:', canditate_y, len(canditate_y_list))\n",
    "                    canditate_y = [x - y for (x, y) in zip(canditate_y, each_list)]\n",
    "               \n",
    "            else:\n",
    "                canditate_y_list = canditate_y_list[:-1]#一つ消す\n",
    "                canditate_y = canditate_y_list[-1]#一つ戻る\n",
    "                print('here5')\n",
    "                continue\n",
    "            print('here6')\n",
    "            #continue\n",
    "                \n",
    "    print('finish')\n",
    "        \n",
    "    return canditate_y_list"
   ]
  },
  {
   "cell_type": "code",
   "execution_count": 124,
   "metadata": {},
   "outputs": [
    {
     "name": "stdout",
     "output_type": "stream",
     "text": [
      "here1: [1, 1, 1, 1, 0, 0, 1, 0, 0, 0, 1, 0, 0, 2, 0, 0] 2\n",
      "here3: [1, 1, 1, 1, 0, 0, 1, 0, 0, 0, 1, 0, 0, 0, 0, 2] 2\n",
      "here5\n",
      "here1: [1, 1, 2, 0, 0, 0, 1, 0, 0, 0, 1, 0, 0, 1, 0, 1] 2\n",
      "here3: [1, 1, 0, 2, 0, 0, 1, 0, 0, 0, 1, 0, 0, 1, 0, 1] 2\n",
      "here5\n",
      "here1: [1, 1, 2, 1, -1, 0, 1, 0, 0, 0, 1, 0, 0, 1, 0, 1] 2\n",
      "here3: [1, 1, 0, 1, 1, 0, 1, 0, 0, 0, 1, 0, 0, 1, 0, 1] 2\n",
      "here5\n",
      "here1: [1, 1, 2, 1, 0, -1, 1, 0, 0, 0, 1, 0, 0, 1, 0, 1] 2\n",
      "here3: [1, 1, 0, 1, 0, 1, 1, 0, 0, 0, 1, 0, 0, 1, 0, 1] 2\n",
      "here4: [1, 1, 0, 1, 0, 1, 1, 0, 0, 0, 1, 0, 0, 1, 0, 1] 3\n",
      "here5\n",
      "here1: [1, 1, 1, 1, 0, 1, 1, 0, -1, 0, 1, 0, 0, 1, 0, 1] 3\n",
      "here3: [1, 1, -1, 1, 0, 1, 1, 0, 1, 0, 1, 0, 0, 1, 0, 1] 3\n",
      "here5\n",
      "here1: [1, 1, 1, 1, 0, 1, 1, 0, 0, 0, 1, -1, 0, 1, 0, 1] 3\n",
      "here3: [1, 1, -1, 1, 0, 1, 1, 0, 0, 0, 1, 1, 0, 1, 0, 1] 3\n",
      "here5\n",
      "here1: [1, 1, 1, 1, 0, 1, 1, 0, 0, 0, 1, 0, -1, 1, 0, 1] 3\n",
      "here3: [1, 1, -1, 1, 0, 1, 1, 0, 0, 0, 1, 0, 1, 1, 0, 1] 3\n",
      "here5\n",
      "here1: [1, 2, 0, 1, 0, 1, 1, -1, 0, 0, 1, 0, 0, 1, 0, 1] 3\n",
      "here3: [1, 0, 0, 1, 0, 1, 1, 1, 0, 0, 1, 0, 0, 1, 0, 1] 3\n",
      "here4: [1, 0, 0, 1, 0, 1, 1, 1, 0, 0, 1, 0, 0, 1, 0, 1] 4\n",
      "here5\n",
      "here1: [1, 1, 0, 1, 0, 1, 1, 1, 0, -1, 1, 0, 0, 1, 0, 1] 4\n",
      "here3: [1, -1, 0, 1, 0, 1, 1, 1, 0, 1, 1, 0, 0, 1, 0, 1] 4\n",
      "here5\n",
      "here1: [1, 1, 0, 1, 0, 1, 1, 1, 0, 0, 0, 0, 0, 1, 0, 1] 4\n",
      "here2: [1, 1, 0, 1, 0, 1, 1, 1, 0, 0, 0, 0, 0, 1, 0, 1] 5\n",
      "here3: [1, 0, 0, 1, 0, 1, 1, 1, 0, 0, 1, 0, 0, 1, 0, 1] 5\n",
      "here4: [1, 0, 0, 1, 0, 1, 1, 1, 0, 0, 1, 0, 0, 1, 0, 1] 6\n",
      "here5\n",
      "here1: [2, 0, 0, 1, 0, 1, 0, 1, 0, 0, 1, 0, 0, 1, 0, 1] 6\n",
      "here3: [0, 0, 0, 1, 0, 1, 2, 1, 0, 0, 1, 0, 0, 1, 0, 1] 6\n",
      "here5\n",
      "here1: [2, 0, 0, 1, 0, 1, 1, 1, 0, 0, 1, 0, 0, 1, -1, 1] 6\n",
      "here3: [0, 0, 0, 1, 0, 1, 1, 1, 0, 0, 1, 0, 0, 1, 1, 1] 6\n",
      "here4: [0, 0, 0, 1, 0, 1, 1, 1, 0, 0, 1, 0, 0, 1, 1, 1] 7\n",
      "here5\n",
      "here1: [1, 1, -1, 1, 0, 1, 1, 1, 0, 0, 1, 0, 0, 0, 1, 1] 7\n",
      "here3: [-1, -1, 1, 1, 0, 1, 1, 1, 0, 0, 1, 0, 0, 2, 1, 1] 7\n",
      "here5\n",
      "finish\n"
     ]
    }
   ],
   "source": [
    "df = pd.read_csv('../../input/ost16.csv', sep=',', index_col=0)\n",
    "mat_path = '16bit.mat.mar'\n",
    "valid_y = make_samples3(mat_path, df)"
   ]
  },
  {
   "cell_type": "code",
   "execution_count": 125,
   "metadata": {},
   "outputs": [
    {
     "data": {
      "text/plain": [
       "[[1, 1, 1, 1, 0, 0, 1, 0, 0, 0, 1, 0, 0, 1, 0, 1],\n",
       " [1, 1, 0, 1, 0, 1, 1, 0, 0, 0, 1, 0, 0, 1, 0, 1],\n",
       " [1, 0, 0, 1, 0, 1, 1, 1, 0, 0, 1, 0, 0, 1, 0, 1],\n",
       " [1, 1, 0, 1, 0, 1, 1, 1, 0, 0, 0, 0, 0, 1, 0, 1],\n",
       " [1, 0, 0, 1, 0, 1, 1, 1, 0, 0, 1, 0, 0, 1, 0, 1],\n",
       " [0, 0, 0, 1, 0, 1, 1, 1, 0, 0, 1, 0, 0, 1, 1, 1]]"
      ]
     },
     "execution_count": 125,
     "metadata": {},
     "output_type": "execute_result"
    }
   ],
   "source": [
    "valid_y"
   ]
  },
  {
   "cell_type": "code",
   "execution_count": 126,
   "metadata": {},
   "outputs": [
    {
     "data": {
      "text/plain": [
       "6"
      ]
     },
     "execution_count": 126,
     "metadata": {},
     "output_type": "execute_result"
    }
   ],
   "source": [
    "len(valid_y)"
   ]
  },
  {
   "cell_type": "markdown",
   "metadata": {},
   "source": [
    "## 4. random"
   ]
  },
  {
   "cell_type": "code",
   "execution_count": 128,
   "metadata": {},
   "outputs": [],
   "source": [
    "def make_samples4(mat_path, df, num):\n",
    "    ori_y = list(df['Y'])\n",
    "    valid_y = [ori_y]\n",
    "    \n",
    "    result_list = make_result_list(mat_path)\n",
    "    canditate_y = ori_y\n",
    "    \n",
    "    for _ in range(num):\n",
    "        i = random.randrange(len(result_list))\n",
    "        this_time_y = result_list[i]\n",
    "        canditate_y = [x + y for (x, y) in zip(canditate_y, this_time_y)]\n",
    "        print('here1:', canditate_y, len(valid_y))\n",
    "        while calculate_energy(df, canditate_y)==0 and all(canditate_y != pp for pp in valid_y):\n",
    "                valid_y.append(canditate_y)\n",
    "                print('here2:', canditate_y, len(valid_y))\n",
    "                canditate_y = [x + y for (x, y) in zip(canditate_y, this_time_y)]\n",
    "                print('here3:', canditate_y, len(valid_y))\n",
    "\n",
    "        else:\n",
    "            canditate_y = [x - 2*y for (x, y) in zip(canditate_y, this_time_y)]\n",
    "            print('here4:', canditate_y, len(valid_y))\n",
    "            while calculate_energy(df, canditate_y)==0 and all(canditate_y != pp for pp in valid_y): \n",
    "                    valid_y.append(canditate_y)\n",
    "                    print('here5:', canditate_y, len(valid_y))\n",
    "                    canditate_y = [x - y for (x, y) in zip(canditate_y, this_time_y)]\n",
    "                    print('here6:', canditate_y, len(valid_y))\n",
    "\n",
    "            else:\n",
    "                continue\n",
    "                \n",
    "    print('finish')\n",
    "        \n",
    "    return valid_y"
   ]
  },
  {
   "cell_type": "code",
   "execution_count": 129,
   "metadata": {},
   "outputs": [
    {
     "name": "stdout",
     "output_type": "stream",
     "text": [
      "here1: [1, 1, 2, 1, 0, 0, 1, 0, -1, 0, 1, 0, 0, 1, 0, 1] 1\n",
      "here4: [1, 1, 0, 1, 0, 0, 1, 0, 1, 0, 1, 0, 0, 1, 0, 1] 1\n",
      "here5: [1, 1, 0, 1, 0, 0, 1, 0, 1, 0, 1, 0, 0, 1, 0, 1] 2\n",
      "here6: [1, 1, -1, 1, 0, 0, 1, 0, 2, 0, 1, 0, 0, 1, 0, 1] 2\n",
      "here1: [1, 1, -1, 1, 0, 0, 1, 0, 2, 0, 1, 0, 0, 2, 0, 0] 2\n",
      "here4: [1, 1, -1, 1, 0, 0, 1, 0, 2, 0, 1, 0, 0, 0, 0, 2] 2\n",
      "here1: [2, 1, -1, 1, 0, 0, 0, 0, 2, 0, 1, 0, 0, 0, 0, 2] 2\n",
      "here4: [0, 1, -1, 1, 0, 0, 2, 0, 2, 0, 1, 0, 0, 0, 0, 2] 2\n",
      "here1: [0, 1, 0, 1, -1, 0, 2, 0, 2, 0, 1, 0, 0, 0, 0, 2] 2\n",
      "here4: [0, 1, -2, 1, 1, 0, 2, 0, 2, 0, 1, 0, 0, 0, 0, 2] 2\n",
      "here1: [0, 1, -1, 1, 1, -1, 2, 0, 2, 0, 1, 0, 0, 0, 0, 2] 2\n",
      "here4: [0, 1, -3, 1, 1, 1, 2, 0, 2, 0, 1, 0, 0, 0, 0, 2] 2\n",
      "here1: [1, 2, -4, 1, 1, 1, 2, 0, 2, 0, 1, 0, 0, -1, 0, 2] 2\n",
      "here4: [-1, 0, -2, 1, 1, 1, 2, 0, 2, 0, 1, 0, 0, 1, 0, 2] 2\n",
      "here1: [-1, 1, -2, 1, 1, 1, 2, 0, 2, -1, 1, 0, 0, 1, 0, 2] 2\n",
      "here4: [-1, -1, -2, 1, 1, 1, 2, 0, 2, 1, 1, 0, 0, 1, 0, 2] 2\n",
      "here1: [-1, -1, -1, 1, 1, 1, 2, 0, 2, 1, 1, -1, 0, 1, 0, 2] 2\n",
      "here4: [-1, -1, -3, 1, 1, 1, 2, 0, 2, 1, 1, 1, 0, 1, 0, 2] 2\n",
      "here1: [0, 0, -4, 1, 1, 1, 2, 0, 2, 1, 1, 1, 0, 0, 0, 2] 2\n",
      "here4: [-2, -2, -2, 1, 1, 1, 2, 0, 2, 1, 1, 1, 0, 2, 0, 2] 2\n",
      "here1: [-1, -2, -2, 1, 1, 1, 1, 0, 2, 1, 1, 1, 0, 2, 0, 2] 2\n",
      "here4: [-3, -2, -2, 1, 1, 1, 3, 0, 2, 1, 1, 1, 0, 2, 0, 2] 2\n",
      "finish\n"
     ]
    }
   ],
   "source": [
    "df = pd.read_csv('../../input/ost16.csv', sep=',', index_col=0)\n",
    "mat_path = '16bit.mat.mar'\n",
    "valid_y = make_samples4(mat_path, df, 10)"
   ]
  },
  {
   "cell_type": "code",
   "execution_count": 130,
   "metadata": {},
   "outputs": [
    {
     "data": {
      "text/plain": [
       "[[1, 1, 1, 1, 0, 0, 1, 0, 0, 0, 1, 0, 0, 1, 0, 1],\n",
       " [1, 1, 0, 1, 0, 0, 1, 0, 1, 0, 1, 0, 0, 1, 0, 1]]"
      ]
     },
     "execution_count": 130,
     "metadata": {},
     "output_type": "execute_result"
    }
   ],
   "source": [
    "valid_y"
   ]
  },
  {
   "cell_type": "markdown",
   "metadata": {},
   "source": [
    "## 5. モンテカルロ"
   ]
  },
  {
   "cell_type": "code",
   "execution_count": null,
   "metadata": {},
   "outputs": [],
   "source": []
  },
  {
   "cell_type": "markdown",
   "metadata": {},
   "source": [
    "## 6. MCMC ⊃ 拡張アンサンブル法（交換モンテカルロ）"
   ]
  },
  {
   "cell_type": "code",
   "execution_count": 131,
   "metadata": {},
   "outputs": [],
   "source": [
    "def make_canditate_y(result_list, canditate_y):\n",
    "    i = random.randrange(len(result_list))\n",
    "    this_time_y = result_list[i]\n",
    "    j = random.randrange(2)\n",
    "    if j==1:\n",
    "        canditate_y = [x + y for (x, y) in zip(canditate_y, this_time_y)]\n",
    "    else:\n",
    "        canditate_y = [x - y for (x, y) in zip(canditate_y, this_time_y)]\n",
    "        \n",
    "    return canditate_y"
   ]
  },
  {
   "cell_type": "code",
   "execution_count": 132,
   "metadata": {},
   "outputs": [],
   "source": [
    "def calculate_energy(df, y):\n",
    "    series_y = pd.Series(y)\n",
    "    E_dot = (sum(y) - sum(df['Y']))**2 \n",
    "    + (np.dot(series_y, df['SEX']) - np.dot(df['Y'], df['SEX']))**2 \n",
    "    + (np.dot(series_y, df['AOP']) - np.dot(df['Y'], df['AOP']))**2\n",
    "    \n",
    "    E_num = sum([0 if each_y==1 or each_y ==0 else 1 for each_y in y])\n",
    "    \n",
    "    return E_dot + E_num"
   ]
  },
  {
   "cell_type": "code",
   "execution_count": 172,
   "metadata": {},
   "outputs": [],
   "source": [
    "def exchange_MonteCarlo(matmar_path, df, temp_num, MCMC_steps):\n",
    "    result_list = make_result_list(matmar_path)\n",
    "    \n",
    "    temp_num = 10\n",
    "    b_temps = [100/i for i in range(1, temp_num)]\n",
    "    len_temp = temp_num - 1\n",
    "    replicas = {i:[each_b_temp, list(df['Y'])] for i, each_b_temp in enumerate(b_temps)}\n",
    "    E_dic = {i:[0] for i in range(len_temp)}#b_temp, y, energy\n",
    "    valid_y_list = [list(df['Y'])]\n",
    "    for num in range(MCMC_steps):\n",
    "        \n",
    "        for i in range(len_temp):\n",
    "            replicas[i][1] = make_canditate_y(result_list, replicas[i][1])\n",
    "            \n",
    "        m = random.randrange(len_temp)\n",
    "        n = random.randrange(len_temp)\n",
    "        \n",
    "        transition_p = 1#交換確率\n",
    "        delta = (replicas[m][0] - replicas[n][0])*(calculate_energy(df, replicas[n][1]) - calculate_energy(df, replicas[m][1]))\n",
    "        if delta > 0:\n",
    "            transition_p = math.exp(-delta)#詳細釣り合い条件、交換確率\n",
    "        \n",
    "        R = np.random.uniform(0.0, 1.0)\n",
    "        if R <= transition_p:#乱数と交換確率の比較\n",
    "            y_m = replicas[m][1]\n",
    "            y_n = replicas[n][1]\n",
    "            \n",
    "            replicas[m][1] = y_n\n",
    "            replicas[n][1] = y_m\n",
    "        \n",
    "        for i in range(len_temp):\n",
    "            this_time_E = calculate_energy(df, replicas[i][1])\n",
    "            this_time_y = replicas[i][1]\n",
    "            E_dic[i].append(this_time_E)\n",
    "            if this_time_E==0 and all(this_time_y != pp for pp in valid_y):\n",
    "                valid_y_list = [this_time_y]\n",
    "                \n",
    "    return replicas, E_dic, valid_y_list"
   ]
  },
  {
   "cell_type": "code",
   "execution_count": 201,
   "metadata": {},
   "outputs": [],
   "source": [
    "def result_plot(E_dic, save_plot): \n",
    "    plt.xlabel('steps')\n",
    "    plt.ylabel('energy')\n",
    "    x = [i for i in range(len(E_dic[0]))]\n",
    "    for e in E_dic.values():\n",
    "        plt.plot(x, e)\n",
    "    plt.savefig(save_plot)\n",
    "    plt.show()\n",
    "    return 0"
   ]
  },
  {
   "cell_type": "code",
   "execution_count": 202,
   "metadata": {},
   "outputs": [],
   "source": [
    "df = pd.read_csv('../../input/ost16.csv', sep=',', index_col=0)\n",
    "matmar_path = '16bit.mat.mar'\n",
    "temp_num = 10\n",
    "MCMC_steps = 100"
   ]
  },
  {
   "cell_type": "code",
   "execution_count": 203,
   "metadata": {},
   "outputs": [],
   "source": [
    "replicas, E_dic, valid_y_list = exchange_MonteCarlo(matmar_path, df, temp_num, MCMC_steps)"
   ]
  },
  {
   "cell_type": "code",
   "execution_count": 182,
   "metadata": {},
   "outputs": [
    {
     "data": {
      "text/plain": [
       "{0: [100.0, [0, -3, -17, 1, 3, 4, 2, 1, 11, 4, 1, 0, -1, -1, 1, 2]],\n",
       " 1: [50.0, [-1, -3, 1, 1, -2, 0, 1, 1, 0, 3, 1, 4, -2, 5, 2, -3]],\n",
       " 2: [33.333333333333336,\n",
       "  [8, 1, -3, 1, -1, 5, -4, 2, 6, -1, 0, 0, -6, 6, -2, -4]],\n",
       " 3: [25.0, [-3, 2, 12, 0, 0, -1, 1, -1, 1, 2, -4, -1, -6, 6, 1, -1]],\n",
       " 4: [20.0, [-5, -2, 3, 4, 0, 3, 4, 3, -2, -3, 0, -4, 2, 6, -1, 0]],\n",
       " 5: [16.666666666666668,\n",
       "  [4, 8, 3, -3, 1, 3, 3, -1, -2, -3, 0, 0, -2, -1, -3, 1]],\n",
       " 6: [14.285714285714286,\n",
       "  [6, 7, 1, -2, 1, -4, 2, 2, -4, -2, 0, -2, 7, -9, -1, 6]],\n",
       " 7: [12.5, [-8, -8, 7, -1, 0, 2, 2, -2, -2, 2, 5, 0, 1, 10, 3, -3]],\n",
       " 8: [11.11111111111111,\n",
       "  [-6, 6, 8, 0, 2, -3, 2, -3, -4, -2, -1, 2, -1, 2, 4, 2]]}"
      ]
     },
     "execution_count": 182,
     "metadata": {},
     "output_type": "execute_result"
    }
   ],
   "source": [
    "replicas"
   ]
  },
  {
   "cell_type": "code",
   "execution_count": 198,
   "metadata": {},
   "outputs": [
    {
     "data": {
      "text/plain": [
       "[[1, 1, 0, 1, 0, 0, 0, 0, 1, 0, 1, 0, 0, 1, 1, 1]]"
      ]
     },
     "execution_count": 198,
     "metadata": {},
     "output_type": "execute_result"
    }
   ],
   "source": [
    "valid_y_list"
   ]
  },
  {
   "cell_type": "code",
   "execution_count": 204,
   "metadata": {},
   "outputs": [
    {
     "data": {
      "image/png": "[encoded data removed]",
      "text/plain": [
       "<Figure size 432x288 with 1 Axes>"
      ]
     },
     "metadata": {
      "needs_background": "light"
     },
     "output_type": "display_data"
    },
    {
     "data": {
      "text/plain": [
       "0"
      ]
     },
     "execution_count": 204,
     "metadata": {},
     "output_type": "execute_result"
    }
   ],
   "source": [
    "result_plot(E_dic, 'trial_16bit')"
   ]
  },
  {
   "cell_type": "code",
   "execution_count": null,
   "metadata": {},
   "outputs": [],
   "source": []
  }
 ],
 "metadata": {
  "kernelspec": {
   "display_name": "Python 3",
   "language": "python",
   "name": "python3"
  },
  "language_info": {
   "codemirror_mode": {
    "name": "ipython",
    "version": 3
   },
   "file_extension": ".py",
   "mimetype": "text/x-python",
   "name": "python",
   "nbconvert_exporter": "python",
   "pygments_lexer": "ipython3",
   "version": "3.8.6"
  }
 },
 "nbformat": 4,
 "nbformat_minor": 4
}
