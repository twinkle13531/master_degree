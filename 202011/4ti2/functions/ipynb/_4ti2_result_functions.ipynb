{
 "cells": [
  {
   "cell_type": "code",
   "execution_count": 1,
   "metadata": {},
   "outputs": [],
   "source": [
    "import pandas as pd\n",
    "import numpy as np\n",
    "from matplotlib import pyplot as plt"
   ]
  },
  {
   "cell_type": "code",
   "execution_count": 2,
   "metadata": {},
   "outputs": [],
   "source": [
    "def calc_marginals(df):                   \n",
    "    return np.array([                      \n",
    "        sum(df['Y']),   \n",
    "        np.dot(df['Y'], df['SEX']),      \n",
    "        np.dot(df['Y'], df['AOP']),      \n",
    "    ])             "
   ]
  },
  {
   "cell_type": "code",
   "execution_count": 3,
   "metadata": {},
   "outputs": [],
   "source": [
    "def make_result_list__(input_path):\n",
    "    with open(input_path) as f:\n",
    "        l_strip = [[s.strip()] for s in f.readlines()]\n",
    "        \n",
    "        result_num = int(l_strip[0][0][:-(2+1)])\n",
    "        result_list = []\n",
    "        for i in range(1, result_num+1):\n",
    "            str_list = list(l_strip[i][0].replace(' ', ''))\n",
    "            int_y = [int(j) for j in str_list]\n",
    "            result_list.append(int_y)\n",
    "    return result_list"
   ]
  },
  {
   "cell_type": "code",
   "execution_count": null,
   "metadata": {},
   "outputs": [],
   "source": [
    "def make_result_list(input_path):\n",
    "    with open(input_path) as f:\n",
    "        l_strip = [[s.strip()] for s in f.readlines()]\n",
    "        result_num = int(l_strip[0][0][:-(2+1)])\n",
    "        result_list = []\n",
    "        for i in range(1, result_num+1):\n",
    "            int_y = [int(l_strip[i][0].split()[j]) for j in range(len(l_strip[i][0].split()))]\n",
    "            result_list.append(int_y)\n",
    "    return result_list"
   ]
  },
  {
   "cell_type": "code",
   "execution_count": 4,
   "metadata": {},
   "outputs": [],
   "source": [
    "def y_num_hist(df, input_path, output_path):\n",
    "    LI = list(df['LI'])\n",
    "    hist_dic = {}\n",
    "    valid_y_list= make_result_list(input_path)\n",
    "    for valid_y in valid_y_list:\n",
    "        t1 = int(np.dot(LI, valid_y))\n",
    "        if t1 in hist_dic.keys():\n",
    "            hist_dic[t1] += 1\n",
    "        else:\n",
    "            hist_dic[t1] = 1\n",
    "            \n",
    "    plt.xlabel('value of t1')\n",
    "    plt.ylabel('number of samples')\n",
    "    plt.bar(hist_dic.keys(), hist_dic.values())\n",
    "    plt.savefig(output_path)\n",
    "    plt.show()\n",
    "    \n",
    "    return valid_y_list, hist_dic"
   ]
  }
 ],
 "metadata": {
  "kernelspec": {
   "display_name": "Python 3",
   "language": "python",
   "name": "python3"
  },
  "language_info": {
   "codemirror_mode": {
    "name": "ipython",
    "version": 3
   },
   "file_extension": ".py",
   "mimetype": "text/x-python",
   "name": "python",
   "nbconvert_exporter": "python",
   "pygments_lexer": "ipython3",
   "version": "3.8.6"
  }
 },
 "nbformat": 4,
 "nbformat_minor": 4
}
