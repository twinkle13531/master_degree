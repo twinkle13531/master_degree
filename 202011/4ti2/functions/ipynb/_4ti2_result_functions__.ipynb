{
 "cells": [
  {
   "cell_type": "code",
   "execution_count": 45,
   "metadata": {},
   "outputs": [],
   "source": [
    "import pandas as pd\n",
    "import numpy as np\n",
    "from matplotlib import pyplot as plt"
   ]
  },
  {
   "cell_type": "code",
   "execution_count": 46,
   "metadata": {},
   "outputs": [],
   "source": [
    "def make_result_list1(input_path):\n",
    "    with open(input_path) as f:\n",
    "        l_strip = [[s.strip()] for s in f.readlines()]\n",
    "        \n",
    "        result_num = int(l_strip[0][0][:-(2+1)])\n",
    "        result_list = []\n",
    "        for i in range(1, result_num+1):\n",
    "            str_list = list(l_strip[i][0].replace(' ', ''))\n",
    "            int_y = [int(j) for j in str_list]\n",
    "            result_list.append(int_y)\n",
    "    return result_list"
   ]
  },
  {
   "cell_type": "code",
   "execution_count": 47,
   "metadata": {},
   "outputs": [],
   "source": [
    "def make_result_list(input_path):\n",
    "    with open(input_path) as f:\n",
    "        l_strip = [[s.strip()] for s in f.readlines()]\n",
    "        result_num = int(l_strip[0][0][:-(2+1)])\n",
    "        result_list = []\n",
    "        for i in range(1, result_num+1):\n",
    "            int_y = [int(l_strip[i][0].split()[j]) for j in range(len(l_strip[i][0].split()))]\n",
    "            result_list.append(int_y)\n",
    "    return result_list"
   ]
  },
  {
   "cell_type": "code",
   "execution_count": 48,
   "metadata": {},
   "outputs": [],
   "source": [
    "def make_result_list__(input_path):\n",
    "    with open(input_path) as f:\n",
    "        l_strip = [[s.strip()] for s in f.readlines()]\n",
    "        \n",
    "        result_num = int(l_strip[0][0][:-(1+1)])\n",
    "        result_list = []\n",
    "        for i in range(1, result_num+1):\n",
    "            str_list = list(l_strip[i][0].replace(' ', ''))\n",
    "            int_y = [int(j) for j in str_list]\n",
    "            result_list.append(int_y)\n",
    "    return result_list"
   ]
  },
  {
   "cell_type": "code",
   "execution_count": 52,
   "metadata": {},
   "outputs": [],
   "source": [
    "def make_result_list6(input_path):\n",
    "    with open(input_path) as f:\n",
    "        l_strip = [[s.strip()] for s in f.readlines()]\n",
    "        result_num = int(l_strip[0][0][:-(1+1)])\n",
    "        result_list = []\n",
    "        for i in range(1, result_num+1):\n",
    "            int_y = [int(l_strip[i][0].split()[j]) for j in range(len(l_strip[i][0].split()))]\n",
    "            result_list.append(int_y)\n",
    "    return result_list"
   ]
  },
  {
   "cell_type": "code",
   "execution_count": 53,
   "metadata": {
    "scrolled": true
   },
   "outputs": [],
   "source": [
    "result_list = make_result_list6('../../4ti2/6bit/6bit.zinhom')"
   ]
  },
  {
   "cell_type": "code",
   "execution_count": 54,
   "metadata": {},
   "outputs": [
    {
     "data": {
      "text/plain": [
       "[[1, 0, 0, 0, 0, 1], [1, 0, 0, 0, 1, 0]]"
      ]
     },
     "execution_count": 54,
     "metadata": {},
     "output_type": "execute_result"
    }
   ],
   "source": [
    "result_list"
   ]
  },
  {
   "cell_type": "code",
   "execution_count": 36,
   "metadata": {},
   "outputs": [],
   "source": [
    "def y_num_hist(df, input_path, output_path):\n",
    "    LI = list(df['LI'])\n",
    "    hist_dic = {}\n",
    "    valid_y_list= make_result_list(input_path)\n",
    "    for valid_y in valid_y_list:\n",
    "        t1 = int(np.dot(LI, valid_y))\n",
    "        if t1 in hist_dic.keys():\n",
    "            hist_dic[t1] += 1\n",
    "        else:\n",
    "            hist_dic[t1] = 1\n",
    "            \n",
    "    plt.xlabel('value of t1')\n",
    "    plt.ylabel('number of samples')\n",
    "    plt.bar(hist_dic.keys(), hist_dic.values())\n",
    "    plt.savefig(output_path)\n",
    "    plt.show()\n",
    "    \n",
    "    return valid_y_list, hist_dic"
   ]
  },
  {
   "cell_type": "code",
   "execution_count": 40,
   "metadata": {},
   "outputs": [],
   "source": [
    "def y_num_hist__(df, input_path, output_path):\n",
    "    LI = list(df['LI'])\n",
    "    hist_dic = {}\n",
    "    valid_y_list= make_result_list__(input_path)\n",
    "    for valid_y in valid_y_list:\n",
    "        t1 = int(np.dot(LI, valid_y))\n",
    "        if t1 in hist_dic.keys():\n",
    "            hist_dic[t1] += 1\n",
    "        else:\n",
    "            hist_dic[t1] = 1\n",
    "            \n",
    "    plt.xlabel('value of t1')\n",
    "    plt.ylabel('number of samples')\n",
    "    plt.bar(hist_dic.keys(), hist_dic.values())\n",
    "    plt.savefig(output_path)\n",
    "    plt.show()\n",
    "    \n",
    "    return valid_y_list, hist_dic"
   ]
  },
  {
   "cell_type": "code",
   "execution_count": 41,
   "metadata": {},
   "outputs": [],
   "source": [
    "df = pd.read_csv('../../input/ost6.csv', sep=',', index_col=0)"
   ]
  },
  {
   "cell_type": "code",
   "execution_count": 42,
   "metadata": {},
   "outputs": [
    {
     "data": {
      "text/plain": [
       "[1, 1, 1, 1, 1, 1]"
      ]
     },
     "execution_count": 42,
     "metadata": {},
     "output_type": "execute_result"
    }
   ],
   "source": [
    "list(df['LI'])"
   ]
  },
  {
   "cell_type": "code",
   "execution_count": 44,
   "metadata": {},
   "outputs": [
    {
     "data": {
      "image/png": "[encoded data removed]",
      "text/plain": [
       "<Figure size 432x288 with 1 Axes>"
      ]
     },
     "metadata": {
      "needs_background": "light"
     },
     "output_type": "display_data"
    },
    {
     "data": {
      "text/plain": [
       "([[1, 0, 0, 0, 0, 1], [1, 0, 0, 0, 1, 0]], {2: 2})"
      ]
     },
     "execution_count": 44,
     "metadata": {},
     "output_type": "execute_result"
    }
   ],
   "source": [
    "y_num_hist__(df, input_path='../../4ti2/6bit/6bit.zinhom', output_path='../../output/4ti2_bit')"
   ]
  },
  {
   "cell_type": "code",
   "execution_count": null,
   "metadata": {},
   "outputs": [],
   "source": []
  }
 ],
 "metadata": {
  "kernelspec": {
   "display_name": "Python 3",
   "language": "python",
   "name": "python3"
  },
  "language_info": {
   "codemirror_mode": {
    "name": "ipython",
    "version": 3
   },
   "file_extension": ".py",
   "mimetype": "text/x-python",
   "name": "python",
   "nbconvert_exporter": "python",
   "pygments_lexer": "ipython3",
   "version": "3.8.6"
  }
 },
 "nbformat": 4,
 "nbformat_minor": 4
}
