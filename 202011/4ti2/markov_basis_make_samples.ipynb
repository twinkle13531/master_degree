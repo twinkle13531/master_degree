{
 "cells": [
  {
   "cell_type": "code",
   "execution_count": 1,
   "metadata": {},
   "outputs": [],
   "source": [
    "import pandas as pd\n",
    "import numpy as np\n",
    "import random\n",
    "import math\n",
    "import matplotlib.pyplot as plt"
   ]
  },
  {
   "cell_type": "code",
   "execution_count": 2,
   "metadata": {},
   "outputs": [],
   "source": [
    "def make_result_list(mat_path):\n",
    "    with open(mat_path) as f:\n",
    "        l_strip = [[s.strip()] for s in f.readlines()]\n",
    "        result_num = int(l_strip[0][0][:-(2+1)])\n",
    "        result_list = []\n",
    "        for i in range(1, result_num+1):\n",
    "            int_y = [int(l_strip[i][0].split()[j]) for j in range(len(l_strip[i][0].split()))]\n",
    "            result_list.append(int_y)\n",
    "    return result_list"
   ]
  },
  {
   "cell_type": "code",
   "execution_count": 3,
   "metadata": {},
   "outputs": [],
   "source": [
    "def calculate_energy(df, y):\n",
    "    series_y = pd.Series(y)\n",
    "    E_dot = (sum(y) - sum(df['Y']))**2 \n",
    "    + (np.dot(series_y, df['SEX']) - np.dot(df['Y'], df['SEX']))**2 \n",
    "    + (np.dot(series_y, df['AOP']) - np.dot(df['Y'], df['AOP']))**2\n",
    "    \n",
    "    E_num = sum([0 if each_y==1 or each_y ==0 else 1 for each_y in y])\n",
    "    \n",
    "    return E_dot + E_num"
   ]
  },
  {
   "cell_type": "code",
   "execution_count": 4,
   "metadata": {},
   "outputs": [],
   "source": [
    "def result_plot_Elist(E_list, save_plot_path): \n",
    "    plt.xlabel('steps')\n",
    "    plt.ylabel('energy')\n",
    "    x = [i for i in range(len(E_list))]\n",
    "    plt.plot(x, E_list)\n",
    "    plt.savefig(save_plot_path)\n",
    "    return plt.show()"
   ]
  },
  {
   "cell_type": "code",
   "execution_count": 25,
   "metadata": {},
   "outputs": [],
   "source": [
    "def y_num_hist(df, valid_y, output_path):\n",
    "    LI = list(df['LI'])\n",
    "    hist_dic = {}\n",
    "    for each_y in valid_y:\n",
    "        t1 = int(np.dot(LI, each_y))\n",
    "        if t1 in hist_dic.keys():\n",
    "            hist_dic[t1] += 1\n",
    "        else:\n",
    "            hist_dic[t1] = 1\n",
    "            \n",
    "    plt.xlabel('value of t1')\n",
    "    plt.ylabel('number of samples')\n",
    "    plt.bar(hist_dic.keys(), hist_dic.values())\n",
    "    plt.savefig(output_path)\n",
    "    plt.show()\n",
    "    \n",
    "    return hist_dic"
   ]
  },
  {
   "cell_type": "markdown",
   "metadata": {},
   "source": [
    "## 1. 順番にresult_listを一つずつ試していく、毎回ori_yを初期値とする"
   ]
  },
  {
   "cell_type": "code",
   "execution_count": 6,
   "metadata": {},
   "outputs": [],
   "source": [
    "def make_samples1(matmar_path, df):\n",
    "    ori_y = list(df['Y'])\n",
    "    result_list = make_result_list(matmar_path)\n",
    "    valid_y = [ori_y]\n",
    "    E_list = [0]\n",
    "    for each_list in result_list:\n",
    "        canditate_y = [x + y for (x, y) in zip(ori_y, each_list)]\n",
    "        #print('here1:', canditate_y, len(valid_y))\n",
    "        while calculate_energy(df, canditate_y)==0 and all(canditate_y != pp for pp in valid_y): \n",
    "                valid_y.append(canditate_y)\n",
    "                E_list.append(0)\n",
    "                #print('here2:', canditate_y, len(valid_y))\n",
    "                canditate_y = [x + y for (x, y) in zip(canditate_y, each_list)]\n",
    "                #print('here3:', canditate_y, len(valid_y))\n",
    "            \n",
    "        else:\n",
    "            canditate_y = [x - 2*y for (x, y) in zip(canditate_y, each_list)]\n",
    "            #print('here4:', canditate_y, len(valid_y))\n",
    "            while calculate_energy(df, canditate_y)==0 and all(canditate_y != pp for pp in valid_y):\n",
    "                    valid_y.append(canditate_y)\n",
    "                    E_list.append(0)\n",
    "                    #print('here5:', canditate_y, len(valid_y))\n",
    "                    canditate_y = [x - y for (x, y) in zip(canditate_y, each_list)]\n",
    "                    #print('here6:', canditate_y, len(valid_y))\n",
    "               \n",
    "            else:\n",
    "                E_list.append(calculate_energy(df, canditate_y))\n",
    "                continue\n",
    "                \n",
    "    print('finish')\n",
    "        \n",
    "    return valid_y, E_list"
   ]
  },
  {
   "cell_type": "markdown",
   "metadata": {},
   "source": [
    "## 2. 順番にresult_listを一つずつ試していく, canditate_yは常に初期値ori_yに戻さない"
   ]
  },
  {
   "cell_type": "code",
   "execution_count": 7,
   "metadata": {},
   "outputs": [],
   "source": [
    "def make_samples2(matmar_path, df):\n",
    "    ori_y = list(df['Y'])\n",
    "    result_list = make_result_list(matmar_path)\n",
    "    valid_y = [ori_y]\n",
    "    canditate_y  = ori_y\n",
    "    E_list = [0]\n",
    "    for each_list in result_list:\n",
    "        canditate_y = [x + y for (x, y) in zip(canditate_y, each_list)]\n",
    "        #print('here1:', canditate_y, len(valid_y))\n",
    "        while calculate_energy(df, canditate_y)==0 and all(canditate_y != pp for pp in valid_y): \n",
    "                valid_y.append(canditate_y)\n",
    "                E_list.append(0)\n",
    "                #print('here2:', canditate_y, len(valid_y))\n",
    "                canditate_y = [x + y for (x, y) in zip(canditate_y, each_list)]\n",
    "                #print('here3:', canditate_y, len(valid_y))\n",
    "            \n",
    "        else:\n",
    "            canditate_y = [x - 2*y for (x, y) in zip(canditate_y, each_list)]\n",
    "            #print('here4:', canditate_y, len(valid_y))\n",
    "            while calculate_energy(df, canditate_y)==0 and all(canditate_y != pp for pp in valid_y):\n",
    "                    valid_y.append(canditate_y)\n",
    "                    E_list.append(0)\n",
    "                    #print('here5:', canditate_y, len(valid_y))\n",
    "                    canditate_y = [x - y for (x, y) in zip(canditate_y, each_list)]\n",
    "                    #print('here6:', canditate_y, len(valid_y))\n",
    "               \n",
    "            else:\n",
    "                E_list.append(calculate_energy(df, canditate_y))\n",
    "                continue\n",
    "                \n",
    "    print('finish')\n",
    "        \n",
    "    return valid_y, E_list"
   ]
  },
  {
   "cell_type": "markdown",
   "metadata": {},
   "source": [
    "## 3. 1 + 2"
   ]
  },
  {
   "cell_type": "code",
   "execution_count": 8,
   "metadata": {},
   "outputs": [],
   "source": [
    "def make_samples3(matmar_path, df):\n",
    "    ori_y = list(df['Y'])\n",
    "    result_list = make_result_list(matmar_path)\n",
    "    valid_y = [ori_y]\n",
    "    E_list = [0]\n",
    "    \n",
    "    for each_list in result_list:\n",
    "        canditate_y = [x + y for (x, y) in zip(ori_y, each_list)]\n",
    "        while calculate_energy(df, canditate_y)==0 and all(canditate_y != pp for pp in valid_y): \n",
    "                valid_y.append(canditate_y)\n",
    "                E_list.append(0)\n",
    "                canditate_y = [x + y for (x, y) in zip(canditate_y, each_list)]\n",
    "            \n",
    "        else:\n",
    "            canditate_y = [x - 2*y for (x, y) in zip(canditate_y, each_list)]\n",
    "            while calculate_energy(df, canditate_y)==0 and all(canditate_y != pp for pp in valid_y):\n",
    "                    valid_y.append(canditate_y)\n",
    "                    E_list.append(0)\n",
    "                    canditate_y = [x - y for (x, y) in zip(canditate_y, each_list)]\n",
    "               \n",
    "            else:\n",
    "                E_list.append(calculate_energy(df, canditate_y))\n",
    "                continue\n",
    "                \n",
    "    print(len(valid_y))\n",
    "    for each_list in result_list:\n",
    "        canditate_y = [x + y for (x, y) in zip(canditate_y, each_list)]\n",
    "        while calculate_energy(df, canditate_y)==0 and all(canditate_y != pp for pp in valid_y): \n",
    "                valid_y.append(canditate_y)\n",
    "                E_list.append(0)\n",
    "                canditate_y = [x + y for (x, y) in zip(canditate_y, each_list)]\n",
    "            \n",
    "        else:\n",
    "            canditate_y = [x - 2*y for (x, y) in zip(canditate_y, each_list)]\n",
    "            while calculate_energy(df, canditate_y)==0 and all(canditate_y != pp for pp in valid_y):\n",
    "                    valid_y.append(canditate_y)\n",
    "                    E_list.append(0)\n",
    "                    canditate_y = [x - y for (x, y) in zip(canditate_y, each_list)]\n",
    "               \n",
    "            else:\n",
    "                E_list.append(calculate_energy(df, canditate_y))\n",
    "                continue\n",
    "                \n",
    "    print('finish')\n",
    "        \n",
    "    return valid_y, E_list"
   ]
  },
  {
   "cell_type": "markdown",
   "metadata": {},
   "source": [
    "## 4-1 random"
   ]
  },
  {
   "cell_type": "code",
   "execution_count": 9,
   "metadata": {},
   "outputs": [],
   "source": [
    "def random4_1(matmar_path, df, num):\n",
    "    ori_y = list(df['Y'])\n",
    "    valid_y = [ori_y]\n",
    "    \n",
    "    result_list = make_result_list(matmar_path)\n",
    "    canditate_y = ori_y\n",
    "    \n",
    "    E_list = [0]\n",
    "    for _ in range(num):\n",
    "        i = random.randrange(len(result_list))\n",
    "        this_time_y = result_list[i]\n",
    "        canditate_y = [x + y for (x, y) in zip(canditate_y, this_time_y)]\n",
    "        #print('here1:', canditate_y, len(valid_y))\n",
    "        while calculate_energy(df, canditate_y)==0 and all(canditate_y != pp for pp in valid_y):\n",
    "                valid_y.append(canditate_y)\n",
    "                E_list.append(0)\n",
    "                #print('here2:', canditate_y, len(valid_y))\n",
    "                canditate_y = [x + y for (x, y) in zip(canditate_y, this_time_y)]\n",
    "                #print('here3:', canditate_y, len(valid_y))\n",
    "\n",
    "        else:\n",
    "            canditate_y = [x - 2*y for (x, y) in zip(canditate_y, this_time_y)]\n",
    "            #print('here4:', canditate_y, len(valid_y))\n",
    "            while calculate_energy(df, canditate_y)==0 and all(canditate_y != pp for pp in valid_y): \n",
    "                    valid_y.append(canditate_y)\n",
    "                    E_list.append(0)\n",
    "                    #print('here5:', canditate_y, len(valid_y))\n",
    "                    canditate_y = [x - y for (x, y) in zip(canditate_y, this_time_y)]\n",
    "                    #print('here6:', canditate_y, len(valid_y))\n",
    "\n",
    "            else:\n",
    "                E_list.append(calculate_energy(df, canditate_y))\n",
    "                continue\n",
    "                \n",
    "    print('finish')\n",
    "        \n",
    "    return valid_y, E_list"
   ]
  },
  {
   "cell_type": "markdown",
   "metadata": {},
   "source": [
    "## 4-2 random2"
   ]
  },
  {
   "cell_type": "code",
   "execution_count": 10,
   "metadata": {},
   "outputs": [],
   "source": [
    "def make_canditate_y(result_list, canditate_y):\n",
    "    i = random.randrange(len(result_list))\n",
    "    this_time_y = result_list[i]\n",
    "    j = random.randrange(2)\n",
    "    if j==1:\n",
    "        canditate_y = [x + y for (x, y) in zip(canditate_y, this_time_y)]\n",
    "    else:\n",
    "        canditate_y = [x - y for (x, y) in zip(canditate_y, this_time_y)]\n",
    "        \n",
    "    return canditate_y"
   ]
  },
  {
   "cell_type": "code",
   "execution_count": 11,
   "metadata": {},
   "outputs": [],
   "source": [
    "def random4_2(matmar_path, df, num):\n",
    "    ori_y = list(df['Y'])\n",
    "    valid_y = [ori_y]\n",
    "    \n",
    "    result_list = make_result_list(matmar_path)\n",
    "    canditate_y = ori_y\n",
    "    \n",
    "    E_list = [0]\n",
    "    for _ in range(num):\n",
    "        canditate_y = make_canditate_y(result_list, canditate_y)\n",
    "        if calculate_energy(df, canditate_y)==0 and all(canditate_y != pp for pp in valid_y):\n",
    "                valid_y.append(canditate_y)\n",
    "                E_list.append(0)\n",
    "        else:\n",
    "            E_list.append(calculate_energy(df, canditate_y))\n",
    "\n",
    "        \n",
    "    return valid_y, E_list"
   ]
  },
  {
   "cell_type": "markdown",
   "metadata": {},
   "source": [
    "## 5. SA"
   ]
  },
  {
   "cell_type": "code",
   "execution_count": 12,
   "metadata": {},
   "outputs": [],
   "source": [
    "def SA(matmar_path, df, MCMC_steps):\n",
    "    result_list = make_result_list(matmar_path)\n",
    "    T_list = [i for i in reversed(range(1, MCMC_steps))]\n",
    "    canditate_y = make_canditate_y(result_list, list(df['Y']))\n",
    "    E_list = [0]\n",
    "    valid_y = [list(df['Y'])]\n",
    "    \n",
    "    for i in range(len(T_list)):\n",
    "        old_y = canditate_y\n",
    "        canditate_y = make_canditate_y(result_list, canditate_y)\n",
    "        E_canditate = calculate_energy(df, canditate_y) \n",
    "        \n",
    "        transition_rate = 1\n",
    "        delta = E_canditate - E_list[-1]\n",
    "        if  delta > 0:\n",
    "            transition_rate = math.exp(-1/T_list[i]*delta)\n",
    "            \n",
    "        R = np.random.uniform(0.0, 1.0)\n",
    "        if R > transition_rate:#乱数と交換確率の比較\n",
    "            canditate_y = old_y\n",
    "        \n",
    "        E_list.append(calculate_energy(df, canditate_y)) \n",
    "        \n",
    "        if E_list[-1]==0 and all(canditate_y != pp for pp in valid_y): \n",
    "            valid_y.append(canditate_y)\n",
    "            \n",
    "    return E_list, valid_y"
   ]
  },
  {
   "cell_type": "markdown",
   "metadata": {},
   "source": [
    "## MCMC⊃ 拡張アンサンブル法\n",
    "\n",
    "## 6. 焼きなまし法（ST）"
   ]
  },
  {
   "cell_type": "code",
   "execution_count": 13,
   "metadata": {},
   "outputs": [],
   "source": [
    "def ST(matmar_path, df, max_temp, MC_step1, MC_step2):\n",
    "    result_list = make_result_list(matmar_path)\n",
    "    T_list = [i for i in reversed(range(1, max_temp))]\n",
    "    print(T_list)\n",
    "    canditate_y = make_canditate_y(result_list, list(df['Y']))\n",
    "    E_list = [0]\n",
    "    valid_y = [list(df['Y'])]\n",
    "    i_list = [0]\n",
    "    valid_y_num = [1]\n",
    "    \n",
    "    valid_y = [list(df['Y'])]\n",
    "    kb =1.38 * 10**-23  # ボルツマン定数 [J/K]\n",
    "    \n",
    "    for __ in range(MC_step2):\n",
    "        #yの更新\n",
    "        for _ in range(MC_step1):\n",
    "            canditate_y = make_canditate_y(result_list, canditate_y)\n",
    "            E_canditate = calculate_energy(df, canditate_y)\n",
    "            E_list.append(E_canditate)\n",
    "            if E_list[-1]==0 and all(canditate_y != pp for pp in valid_y):\n",
    "                valid_y.append(canditate_y)\n",
    "            \n",
    "        #温度の更新\n",
    "        i = i_list[-1]\n",
    "        b_h = 1/(kb*T_list[i -1])\n",
    "        b_i = 1/(kb*T_list[i])\n",
    "        b_j = 1/(kb*T_list[i +1])\n",
    "        transition_rate_h = (b_i - b_h)*E_list[-1]\n",
    "        transition_rate_j =  (b_i - b_j)*E_list[-1]\n",
    "        \n",
    "        if transition_rate_h > transition_rate_j:\n",
    "            i -= 1\n",
    "        else:\n",
    "            i += 1\n",
    "        i_list.append(i)\n",
    "        valid_y_num.append(len(valid_y))\n",
    "            \n",
    "            \n",
    "    return E_list, valid_y, i_list, valid_y_num"
   ]
  },
  {
   "cell_type": "code",
   "execution_count": 14,
   "metadata": {},
   "outputs": [],
   "source": [
    "def Temp_num_plot(max_temp, i_list, valid_y_num, output_path):\n",
    "    plt.xlabel('temperature')\n",
    "    plt.ylabel('number of valid y')\n",
    "    T_list = [i for i in reversed(range(1, max_temp))]\n",
    "    x = [T_list[i] for i in i_list]\n",
    "    plt.plot(x, valid_y_num)\n",
    "    plt.savefig(output_path)\n",
    "    return plt.show()"
   ]
  },
  {
   "cell_type": "markdown",
   "metadata": {},
   "source": [
    "## 7. 交換モンテカルロ"
   ]
  },
  {
   "cell_type": "code",
   "execution_count": 15,
   "metadata": {},
   "outputs": [],
   "source": [
    "def exchange_MonteCarlo(matmar_path, df, temp_num, a, MCMC_steps):\n",
    "    result_list = make_result_list(matmar_path)\n",
    "    \n",
    "    b_temps = [a/i for i in range(1, temp_num)]\n",
    "    len_temp = temp_num - 1\n",
    "    replicas = {i:[each_b_temp, list(df['Y'])] for i, each_b_temp in enumerate(b_temps)}\n",
    "    E_dic = {i:[0] for i in range(len_temp)}#b_temp, y, energy\n",
    "    valid_y_list = [list(df['Y'])]\n",
    "    for num in range(MCMC_steps):\n",
    "        \n",
    "        for i in range(len_temp):\n",
    "            replicas[i][1] = make_canditate_y(result_list, replicas[i][1])\n",
    "            \n",
    "        m = random.randrange(len_temp)\n",
    "        n = random.randrange(len_temp)\n",
    "        \n",
    "        \"\"\"transition_p = 1#交換確率 #意味は同じ\n",
    "        delta = (replicas[m][0] - replicas[n][0])*(calculate_energy(df, replicas[n][1]) - calculate_energy(df, replicas[m][1]))\n",
    "        if delta > 0:\n",
    "            transition_p = math.exp(-delta)#詳細釣り合い条件、交換確率\"\"\"\n",
    "        \n",
    "        delta = (replicas[m][0] - replicas[n][0])*(calculate_energy(df, replicas[m][1]) - calculate_energy(df, replicas[n][1]))\n",
    "        transition_p = math.exp(delta)\n",
    "        \n",
    "        R = np.random.uniform(0.0, 1.0)\n",
    "        if R <= transition_p:#乱数と交換確率の比較\n",
    "            y_m = replicas[m][1]\n",
    "            y_n = replicas[n][1]\n",
    "            \n",
    "            replicas[m][1] = y_n\n",
    "            replicas[n][1] = y_m\n",
    "        \n",
    "        for i in range(len_temp):\n",
    "            this_time_E = calculate_energy(df, replicas[i][1])\n",
    "            this_time_y = replicas[i][1]\n",
    "            E_dic[i].append(this_time_E)\n",
    "            if this_time_E==0 and all(this_time_y != pp for pp in valid_y):\n",
    "                valid_y_list = [this_time_y]\n",
    "                \n",
    "    return replicas, E_dic, valid_y_list"
   ]
  },
  {
   "cell_type": "code",
   "execution_count": 16,
   "metadata": {},
   "outputs": [],
   "source": [
    "def exchange_MonteCarlo_trial(matmar_path, df, temp_num, MCMC_steps):\n",
    "    a_dic = {}\n",
    "    for a in range(1, 100):\n",
    "        replicas, E_dic, valid_y_list = exchange_MonteCarlo(matmar_path, df, temp_num, a, MCMC_steps)\n",
    "        a_dic[a] = len(valid_y_list)\n",
    "    return a_dic"
   ]
  },
  {
   "cell_type": "code",
   "execution_count": 17,
   "metadata": {},
   "outputs": [],
   "source": [
    "def result_plot(E_dic, save_plot): \n",
    "    plt.xlabel('steps')\n",
    "    plt.ylabel('energy')\n",
    "    x = [i for i in range(len(E_dic[0]))]\n",
    "    for e in E_dic.values():\n",
    "        plt.plot(x, e)\n",
    "    plt.savefig(save_plot)\n",
    "    return plt.show()"
   ]
  },
  {
   "cell_type": "markdown",
   "metadata": {},
   "source": [
    "## 8. SA"
   ]
  },
  {
   "cell_type": "code",
   "execution_count": 18,
   "metadata": {},
   "outputs": [
    {
     "data": {
      "text/plain": [
       "'import pandas as pd                                         \\nimport numpy as np                                              \\nfrom scipy.special import comb                                      \\nimport math\\nfrom operator import mul\\nimport neal \\nimport dimod                                                       \\nimport random                                                           \\nimport matplotlib.pyplot as plt                                         \\nimport timeit\\nimport time\\nfrom itertools import combinations'"
      ]
     },
     "execution_count": 18,
     "metadata": {},
     "output_type": "execute_result"
    }
   ],
   "source": [
    "\"\"\"import pandas as pd                                         \n",
    "import numpy as np                                              \n",
    "from scipy.special import comb                                      \n",
    "import math\n",
    "from operator import mul\n",
    "import neal \n",
    "import dimod                                                       \n",
    "import random                                                           \n",
    "import matplotlib.pyplot as plt                                         \n",
    "import timeit\n",
    "import time\n",
    "from itertools import combinations\"\"\""
   ]
  },
  {
   "cell_type": "code",
   "execution_count": 19,
   "metadata": {},
   "outputs": [
    {
     "data": {
      "text/plain": [
       "\"def calc_marginals(df):                   \\n    return np.array([                      \\n        sum(df['Y']),   \\n        np.dot(df['Y'], df['SEX']),      \\n        np.dot(df['Y'], df['AOP']),      \\n    ])\""
      ]
     },
     "execution_count": 19,
     "metadata": {},
     "output_type": "execute_result"
    }
   ],
   "source": [
    "\"\"\"def calc_marginals(df):                   \n",
    "    return np.array([                      \n",
    "        sum(df['Y']),   \n",
    "        np.dot(df['Y'], df['SEX']),      \n",
    "        np.dot(df['Y'], df['AOP']),      \n",
    "    ])\"\"\""
   ]
  },
  {
   "cell_type": "code",
   "execution_count": 20,
   "metadata": {},
   "outputs": [
    {
     "data": {
      "text/plain": [
       "\"def make_Hamiltonian(df):\\n    t_list = calc_marginals(df)\\n    \\n    N=len(df)\\n    dup_list = [(i, i) for i in range(N)]\\n    comb_list = [(i, j) for i in range(N) for j in range(i+1, N)]\\n    \\n    lin_Y = [1-2*t_list[0] for (i, _) in dup_list] #同じy同士\\n    quad_Y = [2 for (i, j) in comb_list] #異なるy同士\\n    num_Y = t_list[0]**2 #数字の二乗\\n    \\n    SEX = df['SEX'].iloc\\n    lin_SEX  = [(SEX[i] - 2 * t_list[1]) * SEX[i] for (i, _) in dup_list]\\n    quad_SEX  = [2*SEX[i] * SEX[j] for (i, j) in comb_list]\\n    num_SEX  = t_list[1]**2\\n    \\n    AOP = df['AOP'].iloc\\n    lin_AOP = [(AOP[i] - 2 * t_list[2]) * AOP[i] for (i, _) in dup_list]\\n    quad_AOP = [2*AOP[i] * AOP[j] for (i, j) in comb_list]\\n    num_AOP = t_list[2]**2\\n    \\n    lin_list = [sum(lin) for lin in zip(lin_Y, lin_SEX, lin_AOP)]\\n    lin = {i: lin_list[i] for (i, _) in dup_list}\\n    \\n    #quad\\n    quad_values = [sum(quad) for quad in zip(quad_Y, quad_SEX, quad_AOP)]\\n    quad = {ij: quad_values[n] for (n, ij) in enumerate(comb_list)}\\n    \\n    #num\\n    num = num_Y + num_SEX + num_AOP\\n    \\n    return dimod.BinaryQuadraticModel(lin, quad, num, dimod.Vartype.BINARY)#dic, dic, num\""
      ]
     },
     "execution_count": 20,
     "metadata": {},
     "output_type": "execute_result"
    }
   ],
   "source": [
    "\"\"\"def make_Hamiltonian(df):\n",
    "    t_list = calc_marginals(df)\n",
    "    \n",
    "    N=len(df)\n",
    "    dup_list = [(i, i) for i in range(N)]\n",
    "    comb_list = [(i, j) for i in range(N) for j in range(i+1, N)]\n",
    "    \n",
    "    lin_Y = [1-2*t_list[0] for (i, _) in dup_list] #同じy同士\n",
    "    quad_Y = [2 for (i, j) in comb_list] #異なるy同士\n",
    "    num_Y = t_list[0]**2 #数字の二乗\n",
    "    \n",
    "    SEX = df['SEX'].iloc\n",
    "    lin_SEX  = [(SEX[i] - 2 * t_list[1]) * SEX[i] for (i, _) in dup_list]\n",
    "    quad_SEX  = [2*SEX[i] * SEX[j] for (i, j) in comb_list]\n",
    "    num_SEX  = t_list[1]**2\n",
    "    \n",
    "    AOP = df['AOP'].iloc\n",
    "    lin_AOP = [(AOP[i] - 2 * t_list[2]) * AOP[i] for (i, _) in dup_list]\n",
    "    quad_AOP = [2*AOP[i] * AOP[j] for (i, j) in comb_list]\n",
    "    num_AOP = t_list[2]**2\n",
    "    \n",
    "    lin_list = [sum(lin) for lin in zip(lin_Y, lin_SEX, lin_AOP)]\n",
    "    lin = {i: lin_list[i] for (i, _) in dup_list}\n",
    "    \n",
    "    #quad\n",
    "    quad_values = [sum(quad) for quad in zip(quad_Y, quad_SEX, quad_AOP)]\n",
    "    quad = {ij: quad_values[n] for (n, ij) in enumerate(comb_list)}\n",
    "    \n",
    "    #num\n",
    "    num = num_Y + num_SEX + num_AOP\n",
    "    \n",
    "    return dimod.BinaryQuadraticModel(lin, quad, num, dimod.Vartype.BINARY)#dic, dic, num\"\"\""
   ]
  },
  {
   "cell_type": "code",
   "execution_count": 21,
   "metadata": {},
   "outputs": [
    {
     "data": {
      "text/plain": [
       "\"def find_valid_y(df, num_reads):                                                        \\n    sa_sampler = neal.sampler.SimulatedAnnealingSampler()\\n    \\n    initial_states = df['Y'].values.tolist()\\n    t_list = calc_marginals(df)\\n    \\n    valid_y_list= []                                                           \\n    valid_y_num= 0\\n    bqm = make_Hamiltonian(df)\\n    res = sa_sampler.sample(\\n        bqm, num_reads=num_reads, \\n        initial_states=initial_states, \\n        initial_states_generator='tile'\\n    )                                                      \\n    for y_info in list(res.record):\\n        if y_info[1]==0.:\\n            if all(list(y_info[0]) != p for p in valid_y_list): \\n                valid_y_list.append(list(y_info[0]))\\n                valid_y_num += 1\\n                                                   \\n    return valid_y_list, valid_y_num\""
      ]
     },
     "execution_count": 21,
     "metadata": {},
     "output_type": "execute_result"
    }
   ],
   "source": [
    "\"\"\"def find_valid_y(df, num_reads):                                                        \n",
    "    sa_sampler = neal.sampler.SimulatedAnnealingSampler()\n",
    "    \n",
    "    initial_states = df['Y'].values.tolist()\n",
    "    t_list = calc_marginals(df)\n",
    "    \n",
    "    valid_y_list= []                                                           \n",
    "    valid_y_num= 0\n",
    "    bqm = make_Hamiltonian(df)\n",
    "    res = sa_sampler.sample(\n",
    "        bqm, num_reads=num_reads, \n",
    "        initial_states=initial_states, \n",
    "        initial_states_generator='tile'\n",
    "    )                                                      \n",
    "    for y_info in list(res.record):\n",
    "        if y_info[1]==0.:\n",
    "            if all(list(y_info[0]) != p for p in valid_y_list): \n",
    "                valid_y_list.append(list(y_info[0]))\n",
    "                valid_y_num += 1\n",
    "                                                   \n",
    "    return valid_y_list, valid_y_num\"\"\"       "
   ]
  },
  {
   "cell_type": "code",
   "execution_count": 22,
   "metadata": {},
   "outputs": [
    {
     "data": {
      "text/plain": [
       "\"def y_num_hist(df, num_reads, path):\\n    LI = list(df['LI'])\\n    hist_dic = {}\\n    valid_y_list, valid_y_num = find_valid_y(df, num_reads)\\n    for valid_y in valid_y_list:\\n        t1 = int(np.dot(LI, valid_y))\\n        if t1 in hist_dic.keys():\\n            hist_dic[t1] += 1\\n        else:\\n            hist_dic[t1] = 1\\n            \\n    plt.xlabel('value of t1')\\n    plt.ylabel('number of samples')\\n    plt.bar(hist_dic.keys(), hist_dic.values())\\n    plt.savefig(path)\\n    plt.show()\\n    \\n    return valid_y_list, valid_y_num, hist_dic\""
      ]
     },
     "execution_count": 22,
     "metadata": {},
     "output_type": "execute_result"
    }
   ],
   "source": [
    "\"\"\"def y_num_hist(df, num_reads, path):\n",
    "    LI = list(df['LI'])\n",
    "    hist_dic = {}\n",
    "    valid_y_list, valid_y_num = find_valid_y(df, num_reads)\n",
    "    for valid_y in valid_y_list:\n",
    "        t1 = int(np.dot(LI, valid_y))\n",
    "        if t1 in hist_dic.keys():\n",
    "            hist_dic[t1] += 1\n",
    "        else:\n",
    "            hist_dic[t1] = 1\n",
    "            \n",
    "    plt.xlabel('value of t1')\n",
    "    plt.ylabel('number of samples')\n",
    "    plt.bar(hist_dic.keys(), hist_dic.values())\n",
    "    plt.savefig(path)\n",
    "    plt.show()\n",
    "    \n",
    "    return valid_y_list, valid_y_num, hist_dic\"\"\""
   ]
  },
  {
   "cell_type": "code",
   "execution_count": 23,
   "metadata": {},
   "outputs": [
    {
     "data": {
      "text/plain": [
       "\"def time_num_y(df, num_reads, path):\\n    time_list = []\\n    time_0 = time.time() \\n    sa_sampler = neal.sampler.SimulatedAnnealingSampler()\\n    \\n    initial_states = df['Y'].values.tolist()\\n    t_list = calc_marginals(df)\\n    \\n    valid_y_list= []                                                           \\n    valid_y_num= 0\\n    bqm = make_Hamiltonian(df)\\n    res = sa_sampler.sample(\\n        bqm, num_reads=num_reads, \\n        initial_states=initial_states, \\n        initial_states_generator='tile'\\n    )                                                      \\n    for y_info in list(res.record):\\n        if y_info[1]==0.:\\n            if len(valid_y_list)==0:\\n                valid_y_list.append(list(y_info[0]))\\n                valid_y_num += 1\\n                time_1 = time.time()\\n                elapsed_time = time_1 - time_0\\n                time_list.append(elapsed_time)\\n                \\n            elif all(list(y_info[0]) != p for p in valid_y_list): \\n                valid_y_list.append(list(y_info[0]))\\n                valid_y_num += 1\\n                time_1 = time.time()\\n                elapsed_time = time_1 - time_0\\n                time_list.append(elapsed_time)\\n    \\n    valid_y_num_list = [i for i in range(1, valid_y_num+1)]\\n    \\n    plt.xlabel('time')\\n    plt.ylabel('number of hits')\\n    plt.plot(time_list, valid_y_num_list)\\n    plt.savefig(path)\\n    plt.show()\\n    \\n    return valid_y_list, valid_y_num_list, time_list\""
      ]
     },
     "execution_count": 23,
     "metadata": {},
     "output_type": "execute_result"
    }
   ],
   "source": [
    "\"\"\"def time_num_y(df, num_reads, path):\n",
    "    time_list = []\n",
    "    time_0 = time.time() \n",
    "    sa_sampler = neal.sampler.SimulatedAnnealingSampler()\n",
    "    \n",
    "    initial_states = df['Y'].values.tolist()\n",
    "    t_list = calc_marginals(df)\n",
    "    \n",
    "    valid_y_list= []                                                           \n",
    "    valid_y_num= 0\n",
    "    bqm = make_Hamiltonian(df)\n",
    "    res = sa_sampler.sample(\n",
    "        bqm, num_reads=num_reads, \n",
    "        initial_states=initial_states, \n",
    "        initial_states_generator='tile'\n",
    "    )                                                      \n",
    "    for y_info in list(res.record):\n",
    "        if y_info[1]==0.:\n",
    "            if len(valid_y_list)==0:\n",
    "                valid_y_list.append(list(y_info[0]))\n",
    "                valid_y_num += 1\n",
    "                time_1 = time.time()\n",
    "                elapsed_time = time_1 - time_0\n",
    "                time_list.append(elapsed_time)\n",
    "                \n",
    "            elif all(list(y_info[0]) != p for p in valid_y_list): \n",
    "                valid_y_list.append(list(y_info[0]))\n",
    "                valid_y_num += 1\n",
    "                time_1 = time.time()\n",
    "                elapsed_time = time_1 - time_0\n",
    "                time_list.append(elapsed_time)\n",
    "    \n",
    "    valid_y_num_list = [i for i in range(1, valid_y_num+1)]\n",
    "    \n",
    "    plt.xlabel('time')\n",
    "    plt.ylabel('number of hits')\n",
    "    plt.plot(time_list, valid_y_num_list)\n",
    "    plt.savefig(path)\n",
    "    plt.show()\n",
    "    \n",
    "    return valid_y_list, valid_y_num_list, time_list\"\"\"                                                                                                                                    "
   ]
  },
  {
   "cell_type": "code",
   "execution_count": 24,
   "metadata": {},
   "outputs": [
    {
     "data": {
      "text/plain": [
       "\"def p_value_transition(df, num_reads, output_path) :\\n    sa_sampler = neal.sampler.SimulatedAnnealingSampler()\\n    \\n    initial_states = df['Y'].values.tolist()\\n    t_list = calc_marginals(df)\\n    t1 = int(np.dot(df['Y'], df['LI']))\\n    t1_y = 0\\n    p_dic = {}\\n                                                               \\n    valid_y_num= 0\\n    valid_y_list = []\\n    bqm = make_Hamiltonian(df)\\n    res = sa_sampler.sample(\\n        bqm, num_reads=num_reads, \\n        initial_states=initial_states, \\n        initial_states_generator='tile'\\n    )\\n    \\n    \\n    for y_info in list(res.record):\\n        if y_info[1]==0.:\\n            valid_y = list(y_info[0]) \\n            if all(valid_y != p for p in valid_y_list):\\n                valid_y_num += 1\\n                valid_y_list.append(valid_y)\\n                if int(np.dot(valid_y, list(df['LI'])))==t1:\\n                    t1_y += 1\\n                    p_dic[valid_y_num] = t1_y/valid_y_num\\n                    \\n    plt.xlabel('number of hits')\\n    plt.ylabel('p value')\\n    plt.plot(p_dic.keys(), p_dic.values())\\n    plt.savefig(output_path)\\n    plt.show()\\n    \\n    return valid_y_num, valid_y_list, p_dic\""
      ]
     },
     "execution_count": 24,
     "metadata": {},
     "output_type": "execute_result"
    }
   ],
   "source": [
    "\"\"\"def p_value_transition(df, num_reads, output_path) :\n",
    "    sa_sampler = neal.sampler.SimulatedAnnealingSampler()\n",
    "    \n",
    "    initial_states = df['Y'].values.tolist()\n",
    "    t_list = calc_marginals(df)\n",
    "    t1 = int(np.dot(df['Y'], df['LI']))\n",
    "    t1_y = 0\n",
    "    p_dic = {}\n",
    "                                                               \n",
    "    valid_y_num= 0\n",
    "    valid_y_list = []\n",
    "    bqm = make_Hamiltonian(df)\n",
    "    res = sa_sampler.sample(\n",
    "        bqm, num_reads=num_reads, \n",
    "        initial_states=initial_states, \n",
    "        initial_states_generator='tile'\n",
    "    )\n",
    "    \n",
    "    \n",
    "    for y_info in list(res.record):\n",
    "        if y_info[1]==0.:\n",
    "            valid_y = list(y_info[0]) \n",
    "            if all(valid_y != p for p in valid_y_list):\n",
    "                valid_y_num += 1\n",
    "                valid_y_list.append(valid_y)\n",
    "                if int(np.dot(valid_y, list(df['LI'])))==t1:\n",
    "                    t1_y += 1\n",
    "                    p_dic[valid_y_num] = t1_y/valid_y_num\n",
    "                    \n",
    "    plt.xlabel('number of hits')\n",
    "    plt.ylabel('p value')\n",
    "    plt.plot(p_dic.keys(), p_dic.values())\n",
    "    plt.savefig(output_path)\n",
    "    plt.show()\n",
    "    \n",
    "    return valid_y_num, valid_y_list, p_dic\"\"\""
   ]
  },
  {
   "cell_type": "code",
   "execution_count": null,
   "metadata": {},
   "outputs": [],
   "source": []
  }
 ],
 "metadata": {
  "kernelspec": {
   "display_name": "Python 3",
   "language": "python",
   "name": "python3"
  },
  "language_info": {
   "codemirror_mode": {
    "name": "ipython",
    "version": 3
   },
   "file_extension": ".py",
   "mimetype": "text/x-python",
   "name": "python",
   "nbconvert_exporter": "python",
   "pygments_lexer": "ipython3",
   "version": "3.8.6"
  }
 },
 "nbformat": 4,
 "nbformat_minor": 4
}
