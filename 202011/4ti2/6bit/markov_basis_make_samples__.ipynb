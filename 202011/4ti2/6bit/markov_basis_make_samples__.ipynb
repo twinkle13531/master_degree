{
 "cells": [
  {
   "cell_type": "code",
   "execution_count": 1,
   "metadata": {},
   "outputs": [
    {
     "name": "stdout",
     "output_type": "stream",
     "text": [
      "/Users/shihosato/src/github.com/twinkle13531/master_degree/202011/4ti2/6bit\r\n"
     ]
    }
   ],
   "source": [
    "!pwd"
   ]
  },
  {
   "cell_type": "code",
   "execution_count": 2,
   "metadata": {},
   "outputs": [],
   "source": [
    "import pandas as pd\n",
    "import numpy as np"
   ]
  },
  {
   "cell_type": "code",
   "execution_count": 4,
   "metadata": {},
   "outputs": [],
   "source": [
    "def make_result_list(mat_path):\n",
    "    with open(mat_path) as f:\n",
    "        l_strip = [[s.strip()] for s in f.readlines()]\n",
    "        result_num = int(l_strip[0][0][:-(1+1)])\n",
    "        result_list = []\n",
    "        for i in range(1, result_num+1):\n",
    "            int_y = [int(l_strip[i][0].split()[j]) for j in range(len(l_strip[i][0].split()))]\n",
    "            result_list.append(int_y)\n",
    "    return result_list"
   ]
  },
  {
   "cell_type": "code",
   "execution_count": 5,
   "metadata": {},
   "outputs": [
    {
     "data": {
      "text/plain": [
       "[[0, 0, 0, 0, 1, -1], [0, 1, 0, -1, 0, 0], [1, 1, -1, 0, -1, 0]]"
      ]
     },
     "execution_count": 5,
     "metadata": {},
     "output_type": "execute_result"
    }
   ],
   "source": [
    "result_list = make_result_list('6bit.mat.mar')\n",
    "result_list"
   ]
  },
  {
   "cell_type": "code",
   "execution_count": 26,
   "metadata": {},
   "outputs": [],
   "source": [
    "def make_samples(mat_path, df):\n",
    "    ori_y = list(df['Y'])\n",
    "    result_list = make_result_list(mat_path)\n",
    "    valid_y = [ori_y]\n",
    "    print(valid_y)\n",
    "    for each_list in result_list:\n",
    "        print('here1')\n",
    "        canditate_y = [x + y for (x, y) in zip(ori_y, each_list)]\n",
    "        while all(p==0 or p==1 for p in canditate_y) and all(canditate_y != pp for pp in valid_y): \n",
    "                valid_y.append(canditate_y)\n",
    "                print('ok1')\n",
    "                print(canditate_y)\n",
    "                canditate_y = [x + y for (x, y) in zip(canditate_y, each_list)]\n",
    "            \n",
    "        else:\n",
    "            canditate_y = [x - y for (x, y) in zip(canditate_y, each_list)]\n",
    "            print('here3')\n",
    "            while all(p==0 or p==1 for p in canditate_y) and  all(canditate_y != pp for pp in valid_y):\n",
    "                    print('here5')\n",
    "                    valid_y.append(canditate_y)\n",
    "                    print('ok2')\n",
    "                    print(canditate_y)\n",
    "                    canditate_y = [x - y for (x, y) in zip(canditate_y, each_list)]\n",
    "               \n",
    "            else:\n",
    "                print('here6')\n",
    "                continue\n",
    "            print('here7')\n",
    "            continue\n",
    "                \n",
    "    print('finish')\n",
    "        \n",
    "    return valid_y"
   ]
  },
  {
   "cell_type": "code",
   "execution_count": 27,
   "metadata": {},
   "outputs": [
    {
     "name": "stdout",
     "output_type": "stream",
     "text": [
      "/Users/shihosato/src/github.com/twinkle13531/master_degree/202011/4ti2/6bit\r\n"
     ]
    }
   ],
   "source": [
    "!pwd"
   ]
  },
  {
   "cell_type": "code",
   "execution_count": 28,
   "metadata": {},
   "outputs": [
    {
     "name": "stdout",
     "output_type": "stream",
     "text": [
      "[[1, 0, 0, 0, 0, 1]]\n",
      "here1\n",
      "ok1\n",
      "[1, 0, 0, 0, 1, 0]\n",
      "here3\n",
      "here6\n",
      "here1\n",
      "here3\n",
      "here6\n",
      "here1\n",
      "here3\n",
      "here6\n",
      "finish\n"
     ]
    }
   ],
   "source": [
    "df = pd.read_csv('../../input/ost6.csv', sep=',', index_col=0)\n",
    "mat_path = '6bit.mat.mar'\n",
    "valid_y = make_samples(mat_path, df)"
   ]
  },
  {
   "cell_type": "code",
   "execution_count": 29,
   "metadata": {},
   "outputs": [
    {
     "data": {
      "text/plain": [
       "[[1, 0, 0, 0, 0, 1], [1, 0, 0, 0, 1, 0]]"
      ]
     },
     "execution_count": 29,
     "metadata": {},
     "output_type": "execute_result"
    }
   ],
   "source": [
    "valid_y"
   ]
  },
  {
   "cell_type": "code",
   "execution_count": 93,
   "metadata": {},
   "outputs": [],
   "source": [
    "def make_samples(lists):\n",
    "    ori_y = [0, 1, 1, 0]\n",
    "    valid_y_lists = [ori_y]\n",
    "    for a_list in lists:\n",
    "        a_list = [x + y for (x, y) in zip(a_list, ori_y)]\n",
    "        while all(p==0 or p==1 for p in a_list):\n",
    "            print('ok1')\n",
    "            print(a_list)\n",
    "            valid_y_lists.append(a_list)\n",
    "            a_list = [x + y for (x, y) in zip(a_list, ori_y)]\n",
    "        else:\n",
    "            while all(p==0 or p==1 for p in a_list):\n",
    "                print('ok2')\n",
    "                print(a_list)\n",
    "                valid_y_lists.append(a_list)\n",
    "                a_list = [x + y for (x, y) in zip(a_list, ori_y)]\n",
    "            else:\n",
    "                continue\n",
    "            print('next')    \n",
    "            #continue\n",
    "    print('finish')\n",
    "    print(a_list)\n",
    "        \n",
    "    return  valid_y_lists"
   ]
  },
  {
   "cell_type": "code",
   "execution_count": 94,
   "metadata": {},
   "outputs": [],
   "source": [
    "lists = [[-1, 1, 0, 0], [0, -1, 1, 0], [0, 0, 0, 0], [1, -1, -1, 1]]"
   ]
  },
  {
   "cell_type": "code",
   "execution_count": 95,
   "metadata": {},
   "outputs": [
    {
     "name": "stdout",
     "output_type": "stream",
     "text": [
      "ok1\n",
      "[0, 1, 1, 0]\n",
      "ok1\n",
      "[1, 0, 0, 1]\n",
      "ok1\n",
      "[1, 1, 1, 1]\n",
      "finish\n",
      "[1, 2, 2, 1]\n"
     ]
    },
    {
     "data": {
      "text/plain": [
       "[[0, 1, 1, 0], [0, 1, 1, 0], [1, 0, 0, 1], [1, 1, 1, 1]]"
      ]
     },
     "execution_count": 95,
     "metadata": {},
     "output_type": "execute_result"
    }
   ],
   "source": [
    "make_samples(lists)"
   ]
  },
  {
   "cell_type": "code",
   "execution_count": null,
   "metadata": {},
   "outputs": [],
   "source": [
    "for zip([2, 5, 3, 4], [3, 6, 8, 9])"
   ]
  },
  {
   "cell_type": "code",
   "execution_count": 56,
   "metadata": {},
   "outputs": [
    {
     "data": {
      "text/plain": [
       "1"
      ]
     },
     "execution_count": 56,
     "metadata": {},
     "output_type": "execute_result"
    }
   ],
   "source": [
    "hh = [1, 0, 1, 0,  1]\n",
    "hh[0]"
   ]
  },
  {
   "cell_type": "code",
   "execution_count": 58,
   "metadata": {
    "scrolled": true
   },
   "outputs": [
    {
     "data": {
      "text/plain": [
       "True"
      ]
     },
     "execution_count": 58,
     "metadata": {},
     "output_type": "execute_result"
    }
   ],
   "source": [
    "all(p==0 or p==1 for p in hh)"
   ]
  },
  {
   "cell_type": "code",
   "execution_count": 60,
   "metadata": {},
   "outputs": [
    {
     "data": {
      "text/plain": [
       "False"
      ]
     },
     "execution_count": 60,
     "metadata": {},
     "output_type": "execute_result"
    }
   ],
   "source": [
    "hj = [1, 0, 1, 3,  1]\n",
    "all(p==0 or p==1 for p in hj)"
   ]
  },
  {
   "cell_type": "code",
   "execution_count": null,
   "metadata": {},
   "outputs": [],
   "source": []
  }
 ],
 "metadata": {
  "kernelspec": {
   "display_name": "Python 3",
   "language": "python",
   "name": "python3"
  },
  "language_info": {
   "codemirror_mode": {
    "name": "ipython",
    "version": 3
   },
   "file_extension": ".py",
   "mimetype": "text/x-python",
   "name": "python",
   "nbconvert_exporter": "python",
   "pygments_lexer": "ipython3",
   "version": "3.8.6"
  }
 },
 "nbformat": 4,
 "nbformat_minor": 4
}
