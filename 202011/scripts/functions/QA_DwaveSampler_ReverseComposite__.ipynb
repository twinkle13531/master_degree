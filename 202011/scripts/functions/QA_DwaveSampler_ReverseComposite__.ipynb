{
 "cells": [
  {
   "cell_type": "code",
   "execution_count": 29,
   "metadata": {},
   "outputs": [],
   "source": [
    "#!pip3 install dwave-system"
   ]
  },
  {
   "cell_type": "code",
   "execution_count": 47,
   "metadata": {},
   "outputs": [],
   "source": [
    "import pandas as pd \n",
    "import numpy as np\n",
    "from scipy.special import comb\n",
    "import math\n",
    "from neal import SimulatedAnnealingSampler\n",
    "import itertools\n",
    "import random\n",
    "import matplotlib.pyplot as plt\n",
    "from dwave.system.composites import EmbeddingComposite\n",
    "from dwave.system import DWaveSampler, ReverseBatchStatesComposite\n",
    "from dwave.embedding.chain_strength import uniform_torque_compensation\n",
    "import dimod\n",
    "import timeit"
   ]
  },
  {
   "cell_type": "code",
   "execution_count": 31,
   "metadata": {},
   "outputs": [],
   "source": [
    "def calc_marginals(df):                   \n",
    "    return np.array([                      \n",
    "        sum(df['Y']),                     \n",
    "        np.dot(df['Y'], df['LI']),      \n",
    "        np.dot(df['Y'], df['SEX']),      \n",
    "        np.dot(df['Y'], df['AOP']),      \n",
    "    ])     "
   ]
  },
  {
   "cell_type": "code",
   "execution_count": 32,
   "metadata": {},
   "outputs": [],
   "source": [
    "def make_Hamiltonian(df, t1):\n",
    "    t_list = calc_marginals(df)\n",
    "    N=len(df)\n",
    "    dup_list = [(i, i) for i in range(N)]\n",
    "    comb_list = [(i, j) for i in range(N) for j in range(i+1, N)]\n",
    "    \n",
    "    lin_Y = [1-2*t_list[0] for (i, _) in dup_list] #同じy同士\n",
    "    quad_Y = [2 for (i, j) in comb_list] #異なるy同士\n",
    "    num_Y = t_list[0]**2 #数字の二乗\n",
    "    \n",
    "    LI = df['LI'].iloc\n",
    "    lin_LI = [(LI[i] - 2 * t1) * LI[i] for (i, _) in dup_list]\n",
    "    quad_LI = [2*LI[i] * LI[j] for (i, j) in comb_list]\n",
    "    num_LI = t1**2\n",
    "    \n",
    "    SEX = df['SEX'].iloc\n",
    "    lin_SEX  = [(SEX[i] - 2 * t_list[2]) * SEX[i] for (i, _) in dup_list]\n",
    "    quad_SEX  = [2*SEX[i] * SEX[j] for (i, j) in comb_list]\n",
    "    num_SEX  = t_list[2]**2\n",
    "    \n",
    "    AOP = df['AOP'].iloc\n",
    "    lin_AOP = [(AOP[i] - 2 * t_list[3]) * AOP[i] for (i, _) in dup_list]\n",
    "    quad_AOP = [2*AOP[i] * AOP[j] for (i, j) in comb_list]\n",
    "    num_AOP = t_list[3]**2\n",
    "    \n",
    "    #lin\n",
    "    lin_list = [sum(lin) for lin in zip(lin_Y, lin_LI, lin_SEX, lin_AOP)]\n",
    "    lin = {i: lin_list[i] for (i, _) in dup_list}\n",
    "    \n",
    "    #quad\n",
    "    quad_values = [sum(quad) for quad in zip(quad_Y, quad_LI, quad_SEX, quad_AOP)]\n",
    "    quad = {ij: quad_values[n] for (n, ij) in enumerate(comb_list)}\n",
    "    \n",
    "    #num\n",
    "    num = num_Y + num_LI + num_SEX + num_AOP\n",
    "    \n",
    "    return dimod.BinaryQuadraticModel(lin, quad, num, dimod.Vartype.BINARY)#dic, dic, num"
   ]
  },
  {
   "cell_type": "code",
   "execution_count": 33,
   "metadata": {},
   "outputs": [],
   "source": [
    "def find_valid_y(df, num_reads):                                                        \n",
    "    # dimod sampler\n",
    "    dw_sampler = DWaveSampler(\n",
    "        endpoint=\"https://cloud.dwavesys.com/sapi\",\n",
    "        solver = 'DW_2000Q_6',\n",
    "        token = \"TOKY-1319d5c52b9aa35f34b40feba0cea58a4f5d3c09\"\n",
    "    )\n",
    "    \n",
    "    # インスタンス作成\n",
    "    qa_sampler = EmbeddingComposite(dw_sampler)\n",
    "    \n",
    "    t_list = calc_marginals(df)\n",
    "    valid_y_list = {}                                                                   \n",
    "    valid_y_num = {}\n",
    "    \n",
    "    for t1 in range(0, sum(df['LI'])+1):                                                                                                                                                                                                                                               \n",
    "        #bqm\n",
    "        bqm = make_Hamiltonian(df, t1)\n",
    "        \n",
    "        res = qa_sampler.sample(bqm, chain_break_fraction=False, num_reads=num_reads)\n",
    "        \n",
    "        valid_y_list[t1] = []                                                           \n",
    "        valid_y_num[t1] = 0                                                             \n",
    "        for y_info in list(res.record):\n",
    "            #print(y_info)\n",
    "            if y_info[1] == 0.:\n",
    "                valid_y_num[t1] += 1                                        \n",
    "                valid_y_list[t1].append(list(y_info[0]))                    \n",
    "                #print('energy0')\n",
    "                                                      \n",
    "    return valid_y_list, valid_y_num       "
   ]
  },
  {
   "cell_type": "code",
   "execution_count": 41,
   "metadata": {},
   "outputs": [],
   "source": [
    "def QA_ReverseAdvanceComposite(df):\n",
    "    valid_y_list = {}                                                                   \n",
    "    valid_y_num = {}\n",
    "    for t1 in range(0, sum(df['LI'])):\n",
    "        valid_y_list[t1] = []\n",
    "        valid_y_num[t1] = 0\n",
    "        \n",
    "        bqm = make_Hamiltonian(df, t1)\n",
    "\n",
    "        dw_sampler = DWaveSampler(\n",
    "            endpoint=\"https://cloud.dwavesys.com/sapi\",\n",
    "            solver = 'DW_2000Q_6',\n",
    "            token = \"TOKY-1319d5c52b9aa35f34b40feba0cea58a4f5d3c09\"\n",
    "        )\n",
    "\n",
    "        qa_sampler = EmbeddingComposite(dw_sampler)\n",
    "        sampler_reverse = ReverseAdvanceComposite(qa_sampler)\n",
    "        init_samples = {n: y for n, y in enumerate(df['Y'].values.tolist())}\n",
    "\n",
    "        res = sampler_reverse.sample(bqm,\n",
    "                                       anneal_schedules=[[[0.0, 1.0], [t, 0.5], [20, 1.0]] for t in (5, 10, 6)],\n",
    "                                       initial_state=init_samples,\n",
    "                                       num_reads=10,\n",
    "                                       reinitialize_state=True)\n",
    "\n",
    "        for canditate_y_info in list(res.record):\n",
    "            if canditate_y_info[1]==0.:\n",
    "                if all(list(canditate_y_info[0]) != p for p in valid_y_list[t1]): \n",
    "                    valid_y_list[t1].append(list(canditate_y_info[0]))\n",
    "                    valid_y_num[t1] += 1\n",
    "                \n",
    "    return valid_y_list, valid_y_num"
   ]
  },
  {
   "cell_type": "code",
   "execution_count": 54,
   "metadata": {},
   "outputs": [],
   "source": [
    "def QA_ReverseBatchStatesComposite(df):\n",
    "    valid_y_list = {}                                                                   \n",
    "    valid_y_num = {}\n",
    "    for t1 in range(0, sum(df['LI'])):\n",
    "        valid_y_list[t1] = []\n",
    "        valid_y_num[t1] = 0\n",
    "        \n",
    "        bqm = make_Hamiltonian(df, t1)\n",
    "\n",
    "        dw_sampler = DWaveSampler(\n",
    "            endpoint=\"https://cloud.dwavesys.com/sapi\",\n",
    "            solver = 'DW_2000Q_6',\n",
    "            token = \"TOKY-1319d5c52b9aa35f34b40feba0cea58a4f5d3c09\"\n",
    "        )\n",
    "\n",
    "        qa_sampler = EmbeddingComposite(dw_sampler)\n",
    "        sampler_reverse = ReverseBatchStatesComposite(qa_sampler)\n",
    "        init_samples = {n: y for n, y in enumerate(df['Y'].values.tolist())}\n",
    "\n",
    "        res = sampler_reverse.sample(bqm,\n",
    "                                     initial_state=init_samples,\n",
    "                                     anneal_schedule=[[0.0, 1.0], [10.0, 0.5], [20, 1.0]],\n",
    "                                     num_reads=10,\n",
    "                                     reinitialize_state=True)\n",
    "\n",
    "        for canditate_y_info in list(res.record):\n",
    "            if canditate_y_info[1]==0.:\n",
    "                if all(list(canditate_y_info[0]) != p for p in valid_y_list[t1]): \n",
    "                    valid_y_list[t1].append(list(canditate_y_info[0]))\n",
    "                    valid_y_num[t1] += 1\n",
    "                \n",
    "    return valid_y_list, valid_y_num"
   ]
  },
  {
   "cell_type": "code",
   "execution_count": 64,
   "metadata": {},
   "outputs": [],
   "source": [
    "def QA_ReverseBatchStatesComposite_time(df, time_time):\n",
    "    valid_y_list = {}                                                                   \n",
    "    valid_y_num = {}\n",
    "    for t1 in range(0, sum(df['LI'])):\n",
    "        valid_y_list[t1] = []\n",
    "        valid_y_num[t1] = 0\n",
    "        \n",
    "        bqm = make_Hamiltonian(df, t1)\n",
    "\n",
    "        dw_sampler = DWaveSampler(\n",
    "            endpoint=\"https://cloud.dwavesys.com/sapi\",\n",
    "            solver = 'DW_2000Q_6',\n",
    "            token = \"TOKY-1319d5c52b9aa35f34b40feba0cea58a4f5d3c09\"\n",
    "        )\n",
    "\n",
    "        qa_sampler = EmbeddingComposite(dw_sampler)\n",
    "        sampler_reverse = ReverseBatchStatesComposite(qa_sampler)\n",
    "        init_samples = {n: y for n, y in enumerate(df['Y'].values.tolist())}\n",
    "\n",
    "        res = sampler_reverse.sample(bqm,\n",
    "                                     initial_state=init_samples,\n",
    "                                     anneal_schedule=[[0.0, 1.0], [time_time, 0.5], [20, 1.0]],\n",
    "                                     num_reads=10,\n",
    "                                     reinitialize_state=True)\n",
    "\n",
    "        for canditate_y_info in list(res.record):\n",
    "            if canditate_y_info[1]==0.:\n",
    "                if all(list(canditate_y_info[0]) != p for p in valid_y_list[t1]): \n",
    "                    valid_y_list[t1].append(list(canditate_y_info[0]))\n",
    "                    valid_y_num[t1] += 1\n",
    "                \n",
    "    return valid_y_list, valid_y_num"
   ]
  },
  {
   "cell_type": "code",
   "execution_count": null,
   "metadata": {},
   "outputs": [],
   "source": []
  },
  {
   "cell_type": "code",
   "execution_count": null,
   "metadata": {},
   "outputs": [],
   "source": []
  },
  {
   "cell_type": "code",
   "execution_count": 62,
   "metadata": {},
   "outputs": [],
   "source": [
    "df6 = pd.read_csv('../../input/ost6.csv', sep=',', index_col=0)"
   ]
  },
  {
   "cell_type": "code",
   "execution_count": 45,
   "metadata": {},
   "outputs": [
    {
     "data": {
      "text/plain": [
       "({0: [],\n",
       "  1: [],\n",
       "  2: [[1, 0, 0, 0, 0, 1], [1, 0, 0, 0, 1, 0]],\n",
       "  3: [],\n",
       "  4: [],\n",
       "  5: []},\n",
       " {0: 0, 1: 0, 2: 2, 3: 0, 4: 0, 5: 0})"
      ]
     },
     "execution_count": 45,
     "metadata": {},
     "output_type": "execute_result"
    }
   ],
   "source": [
    "QA_ReverseAdvanceComposite(df6)"
   ]
  },
  {
   "cell_type": "code",
   "execution_count": 55,
   "metadata": {},
   "outputs": [
    {
     "data": {
      "text/plain": [
       "({0: [],\n",
       "  1: [],\n",
       "  2: [[1, 0, 0, 0, 0, 1], [1, 0, 0, 0, 1, 0]],\n",
       "  3: [],\n",
       "  4: [],\n",
       "  5: []},\n",
       " {0: 0, 1: 0, 2: 2, 3: 0, 4: 0, 5: 0})"
      ]
     },
     "execution_count": 55,
     "metadata": {},
     "output_type": "execute_result"
    }
   ],
   "source": [
    "QA_ReverseBatchStatesComposite(df6)"
   ]
  },
  {
   "cell_type": "code",
   "execution_count": 66,
   "metadata": {},
   "outputs": [
    {
     "name": "stdout",
     "output_type": "stream",
     "text": [
      "{0: 0, 1: 0, 2: 1, 3: 0, 4: 0, 5: 0}\n",
      "{0: 0, 1: 0, 2: 1, 3: 0, 4: 0, 5: 0}\n",
      "{0: 0, 1: 0, 2: 1, 3: 0, 4: 0, 5: 0}\n",
      "{0: 0, 1: 0, 2: 2, 3: 0, 4: 0, 5: 0}\n",
      "{0: 0, 1: 0, 2: 1, 3: 0, 4: 0, 5: 0}\n",
      "{0: 0, 1: 0, 2: 1, 3: 0, 4: 0, 5: 0}\n",
      "{0: 0, 1: 0, 2: 2, 3: 0, 4: 0, 5: 0}\n",
      "{0: 0, 1: 0, 2: 2, 3: 0, 4: 0, 5: 0}\n",
      "{0: 0, 1: 0, 2: 2, 3: 0, 4: 0, 5: 0}\n",
      "{0: 0, 1: 0, 2: 2, 3: 0, 4: 0, 5: 0}\n",
      "{0: 0, 1: 0, 2: 1, 3: 0, 4: 0, 5: 0}\n",
      "{0: 0, 1: 0, 2: 1, 3: 0, 4: 0, 5: 0}\n",
      "{0: 0, 1: 0, 2: 1, 3: 0, 4: 0, 5: 0}\n",
      "{0: 0, 1: 0, 2: 1, 3: 0, 4: 0, 5: 0}\n",
      "{0: 0, 1: 0, 2: 1, 3: 0, 4: 0, 5: 0}\n",
      "{0: 0, 1: 0, 2: 1, 3: 0, 4: 0, 5: 0}\n",
      "{0: 0, 1: 0, 2: 2, 3: 0, 4: 0, 5: 0}\n",
      "{0: 0, 1: 0, 2: 2, 3: 0, 4: 0, 5: 0}\n",
      "{0: 0, 1: 0, 2: 1, 3: 0, 4: 0, 5: 0}\n"
     ]
    }
   ],
   "source": [
    "for time_time in range(1, 20):\n",
    "    valid_y_list, valid_y_num = QA_ReverseBatchStatesComposite_time(df6, time_time)\n",
    "    print(valid_y_num)"
   ]
  },
  {
   "cell_type": "code",
   "execution_count": null,
   "metadata": {},
   "outputs": [],
   "source": []
  },
  {
   "cell_type": "code",
   "execution_count": null,
   "metadata": {},
   "outputs": [],
   "source": []
  },
  {
   "cell_type": "code",
   "execution_count": 59,
   "metadata": {},
   "outputs": [],
   "source": [
    "df16 = pd.read_csv('../../input/ost16.csv', sep=',', index_col=0)"
   ]
  },
  {
   "cell_type": "code",
   "execution_count": 60,
   "metadata": {},
   "outputs": [
    {
     "data": {
      "text/plain": [
       "({0: [],\n",
       "  1: [],\n",
       "  2: [],\n",
       "  3: [],\n",
       "  4: [],\n",
       "  5: [],\n",
       "  6: [[1, 1, 1, 1, 0, 0, 1, 0, 0, 0, 1, 0, 0, 1, 0, 1]],\n",
       "  7: [],\n",
       "  8: [],\n",
       "  9: [],\n",
       "  10: [],\n",
       "  11: [],\n",
       "  12: [],\n",
       "  13: []},\n",
       " {0: 0,\n",
       "  1: 0,\n",
       "  2: 0,\n",
       "  3: 0,\n",
       "  4: 0,\n",
       "  5: 0,\n",
       "  6: 1,\n",
       "  7: 0,\n",
       "  8: 0,\n",
       "  9: 0,\n",
       "  10: 0,\n",
       "  11: 0,\n",
       "  12: 0,\n",
       "  13: 0})"
      ]
     },
     "execution_count": 60,
     "metadata": {},
     "output_type": "execute_result"
    }
   ],
   "source": [
    "QA_ReverseAdvanceComposite(df16)"
   ]
  },
  {
   "cell_type": "code",
   "execution_count": 61,
   "metadata": {},
   "outputs": [
    {
     "data": {
      "text/plain": [
       "({0: [],\n",
       "  1: [],\n",
       "  2: [],\n",
       "  3: [],\n",
       "  4: [],\n",
       "  5: [],\n",
       "  6: [[1, 1, 1, 1, 0, 0, 1, 0, 0, 0, 1, 0, 0, 1, 0, 1]],\n",
       "  7: [],\n",
       "  8: [],\n",
       "  9: [],\n",
       "  10: [],\n",
       "  11: [],\n",
       "  12: [],\n",
       "  13: []},\n",
       " {0: 0,\n",
       "  1: 0,\n",
       "  2: 0,\n",
       "  3: 0,\n",
       "  4: 0,\n",
       "  5: 0,\n",
       "  6: 1,\n",
       "  7: 0,\n",
       "  8: 0,\n",
       "  9: 0,\n",
       "  10: 0,\n",
       "  11: 0,\n",
       "  12: 0,\n",
       "  13: 0})"
      ]
     },
     "execution_count": 61,
     "metadata": {},
     "output_type": "execute_result"
    }
   ],
   "source": [
    "QA_ReverseBatchStatesComposite(df16)"
   ]
  },
  {
   "cell_type": "code",
   "execution_count": null,
   "metadata": {},
   "outputs": [],
   "source": []
  },
  {
   "cell_type": "code",
   "execution_count": null,
   "metadata": {},
   "outputs": [],
   "source": []
  },
  {
   "cell_type": "code",
   "execution_count": 72,
   "metadata": {},
   "outputs": [],
   "source": [
    "def time_measurement(df):\n",
    "    sum_time = 0\n",
    "    annealing_time = 20\n",
    "    for t1 in range(0, sum(df['LI'])+1):\n",
    "        timeit_repeat = timeit.repeat(\"make_Hamiltonian(df, t1)\", number=1, repeat=1, globals={\"make_Hamiltonian\": make_Hamiltonian, \"df\": df, \"t1\": t1})\n",
    "        sum_time += timeit_repeat[0] + annealing_time\n",
    "    return sum_time"
   ]
  },
  {
   "cell_type": "code",
   "execution_count": 73,
   "metadata": {},
   "outputs": [
    {
     "name": "stdout",
     "output_type": "stream",
     "text": [
      "{0: [], 1: [], 2: [[1, 0, 0, 0, 0, 1], [1, 0, 0, 0, 1, 0]], 3: [], 4: [], 5: [], 6: []} {0: 0, 1: 0, 2: 2, 3: 0, 4: 0, 5: 0, 6: 0}\n"
     ]
    }
   ],
   "source": [
    "#==========\n",
    "#テストコード\n",
    "#==========\n",
    "def test_find_valid_y():\n",
    "    df = pd.read_csv('../../input/ost6.csv', sep=',', index_col=0)\n",
    "    true_t1 = sum(df['Y'] * df['LI'])\n",
    "    valid_y_list, valid_y_num = find_valid_y(df,  num_reads=20)\n",
    "    print(valid_y_list, valid_y_num)\n",
    "    assert valid_y_num[true_t1] > 0\n",
    "    \n",
    "test_find_valid_y()"
   ]
  },
  {
   "cell_type": "code",
   "execution_count": 64,
   "metadata": {},
   "outputs": [
    {
     "name": "stdout",
     "output_type": "stream",
     "text": [
      "[2 2 0 1]\n",
      "[2 2 0 1]\n"
     ]
    }
   ],
   "source": [
    "def test_validity():\n",
    "    df1 = pd.read_csv('../../input/ost6.csv', sep=',',index_col=0)\n",
    "    df2 = pd.read_csv('../../input/ost6.csv', sep=',',index_col=0)\n",
    "    new_y = np.array([1, 0, 0, 0, 0, 1])\n",
    "    df2['Y'] = new_y\n",
    "    t_list1 = calc_marginals(df1)\n",
    "    t_list2 = calc_marginals(df2)\n",
    "    print(t_list1)\n",
    "    print(t_list2)\n",
    "    assert np.all(t_list1[[0,2,3]] == t_list2[[0,2,3]]) \n",
    "\n",
    "#test_validity()"
   ]
  },
  {
   "cell_type": "code",
   "execution_count": null,
   "metadata": {},
   "outputs": [],
   "source": []
  },
  {
   "cell_type": "code",
   "execution_count": null,
   "metadata": {},
   "outputs": [],
   "source": []
  },
  {
   "cell_type": "code",
   "execution_count": null,
   "metadata": {},
   "outputs": [],
   "source": []
  }
 ],
 "metadata": {
  "kernelspec": {
   "display_name": "Python 3",
   "language": "python",
   "name": "python3"
  },
  "language_info": {
   "codemirror_mode": {
    "name": "ipython",
    "version": 3
   },
   "file_extension": ".py",
   "mimetype": "text/x-python",
   "name": "python",
   "nbconvert_exporter": "python",
   "pygments_lexer": "ipython3",
   "version": "3.8.6"
  }
 },
 "nbformat": 4,
 "nbformat_minor": 4
}
