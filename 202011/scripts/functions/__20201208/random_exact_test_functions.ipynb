{
 "cells": [
  {
   "cell_type": "code",
   "execution_count": 1,
   "metadata": {},
   "outputs": [],
   "source": [
    "import pandas as pd                                         \n",
    "import numpy as np                                              \n",
    "from scipy.special import comb                                      \n",
    "import math\n",
    "from operator import mul \n",
    "import itertools                                                        \n",
    "import random                                                           \n",
    "import matplotlib.pyplot as plt                                         \n",
    "import timeit\n",
    "from itertools import combinations, product"
   ]
  },
  {
   "cell_type": "code",
   "execution_count": 2,
   "metadata": {},
   "outputs": [],
   "source": [
    "def calc_marginals(df):                   \n",
    "    return np.array([                      \n",
    "        sum(df['Y']),                     \n",
    "        np.dot(df['Y'], df['LI']),      \n",
    "        np.dot(df['Y'], df['SEX']),      \n",
    "        np.dot(df['Y'], df['AOP']),      \n",
    "    ])                               "
   ]
  },
  {
   "cell_type": "code",
   "execution_count": 3,
   "metadata": {},
   "outputs": [],
   "source": [
    "def find_valid_y(df, num_reads):    \n",
    "    t_list = calc_marginals(df)\n",
    "    \n",
    "    valid_y_list = {}                                                                   \n",
    "    valid_y_num = {}                                                                    \n",
    "    for t1 in range(0, sum(df['LI'])+1):                                                                                                                                                                                                                                                                                    \n",
    "        y_lists = np.random.randint(2, size=(num_reads, df.shape[0]))                                                                  \n",
    "        \n",
    "        valid_y_list[t1] = []                                                           \n",
    "        valid_y_num[t1] = 0                                                             \n",
    "        for canditate_y in y_lists:                                                     \n",
    "            if sum(canditate_y) == t_list[0]:#int同士の比較                                               \n",
    "                if np.dot(df['LI'], canditate_y) == t1:#int同士の比較                       \n",
    "                    for j in range(2, len(t_list)):\n",
    "                        if np.dot(df.iloc[:, j], canditate_y) != t_list[j]:\n",
    "                            break                                                       \n",
    "                    else:\n",
    "                        canditate_y_list = list(canditate_y)\n",
    "                        if len(valid_y_list[t1])==0:\n",
    "                            valid_y_num[t1] += 1                                        \n",
    "                            valid_y_list[t1].append(canditate_y_list)                    \n",
    "                            print('perfect')\n",
    "                    \n",
    "                        elif all([canditate_y_list != p for p in valid_y_list[t1]]):\n",
    "                            valid_y_num[t1] += 1                                    \n",
    "                            valid_y_list[t1].append(canditate_y_list)                  \n",
    "                            print('perfect')\n",
    "                    \n",
    "                            \n",
    "    return valid_y_list, valid_y_num                                                                                                                                          "
   ]
  },
  {
   "cell_type": "code",
   "execution_count": 4,
   "metadata": {},
   "outputs": [],
   "source": [
    "def time_measurement(df):\n",
    "    sum_time = 0\n",
    "    for t1 in range(0, sum(df['LI'])+1):\n",
    "        time_once = timeit.timeit(\"np.random.randint(2, size=(num_reads, df.shape[0]))\", globals=globals(), number=1)\n",
    "        sum_time += time_once\n",
    "    return sum_time"
   ]
  },
  {
   "cell_type": "code",
   "execution_count": 5,
   "metadata": {},
   "outputs": [],
   "source": [
    "#==========\n",
    "#テストコード\n",
    "#==========\n",
    "def test_find_valid_y():\n",
    "    df = pd.read_csv('../../input/ost6.csv', sep=',', index_col=0)\n",
    "    true_t1 = sum(df['Y'] * df['LI'])\n",
    "    valid_y_list, valid_y_num = find_valid_y(df,  num_reads = 100)\n",
    "    print(valid_y_list, valid_y_num)\n",
    "    assert valid_y_num[true_t1] > 0  \n",
    "    \n",
    "#test_find_valid_y()"
   ]
  },
  {
   "cell_type": "code",
   "execution_count": 6,
   "metadata": {},
   "outputs": [],
   "source": [
    "def test_validity():\n",
    "    df1 = pd.read_csv('../../input/ost6.csv', sep=',',index_col=0)\n",
    "    df2 = pd.read_csv('../../input/ost6.csv', sep=',',index_col=0)\n",
    "    new_y = np.array([1, 0, 0, 0, 0, 1])\n",
    "    df2['Y'] = new_y\n",
    "    t_list1 = calc_marginals(df1)\n",
    "    t_list2 = calc_marginals(df2)\n",
    "    print(t_list1)\n",
    "    print(t_list2)\n",
    "    \n",
    "    assert np.all(t_list1[[0,2,3]] == t_list2[[0,2,3]]) \n",
    "\n",
    "#test_validity()"
   ]
  },
  {
   "cell_type": "code",
   "execution_count": null,
   "metadata": {},
   "outputs": [],
   "source": []
  }
 ],
 "metadata": {
  "kernelspec": {
   "display_name": "Python 3",
   "language": "python",
   "name": "python3"
  },
  "language_info": {
   "codemirror_mode": {
    "name": "ipython",
    "version": 3
   },
   "file_extension": ".py",
   "mimetype": "text/x-python",
   "name": "python",
   "nbconvert_exporter": "python",
   "pygments_lexer": "ipython3",
   "version": "3.6.9"
  }
 },
 "nbformat": 4,
 "nbformat_minor": 4
}
