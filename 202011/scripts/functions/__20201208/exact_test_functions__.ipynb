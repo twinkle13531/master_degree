{
 "cells": [
  {
   "cell_type": "code",
   "execution_count": 32,
   "metadata": {},
   "outputs": [
    {
     "name": "stdout",
     "output_type": "stream",
     "text": [
      "/Users/shihosato/src/github.com/twinkle13531/master_degree/202011/scripts/functions\n"
     ]
    }
   ],
   "source": [
    "!pwd"
   ]
  },
  {
   "cell_type": "code",
   "execution_count": 33,
   "metadata": {},
   "outputs": [],
   "source": [
    "import pandas as pd                                         \n",
    "import numpy as np                                              \n",
    "from scipy.special import comb                                      \n",
    "import math\n",
    "from operator import mul \n",
    "import itertools                                                        \n",
    "import random                                                           \n",
    "import matplotlib.pyplot as plt                                         \n",
    "import timeit\n",
    "import time\n",
    "from itertools import combinations, product"
   ]
  },
  {
   "cell_type": "code",
   "execution_count": 34,
   "metadata": {},
   "outputs": [],
   "source": [
    "def calc_marginals(df):                   \n",
    "    return np.array([                      \n",
    "        sum(df['Y']),     \n",
    "        np.dot(df['Y'], df['SEX']),      \n",
    "        np.dot(df['Y'], df['AOP']),      \n",
    "    ])                               "
   ]
  },
  {
   "cell_type": "code",
   "execution_count": 35,
   "metadata": {},
   "outputs": [],
   "source": [
    "def find_valid_y(df, num_reads):    \n",
    "    t_list = calc_marginals(df)                                                                      \n",
    "        \n",
    "    valid_y_list = []                                                           \n",
    "    valid_y_num = 0\n",
    "    y_lists = np.random.randint(2, size=(num_reads, df.shape[0]))\n",
    "    for canditate_y in y_lists:                                                     \n",
    "        if sum(canditate_y) == t_list[0]:#int同士の比較                      \n",
    "            for j in range(1, len(t_list)):\n",
    "                if np.dot(df.iloc[:, j+1], canditate_y) != t_list[j]:\n",
    "                    break                                                       \n",
    "            else:\n",
    "                canditate_y_list = list(canditate_y)\n",
    "                print(canditate_y_list)\n",
    "                if len(valid_y_list)==0:\n",
    "                    valid_y_num += 1                                        \n",
    "                    valid_y_list.append(canditate_y_list)\n",
    "\n",
    "                elif all([canditate_y_list != p for p in valid_y_list]):\n",
    "                    valid_y_num += 1                                    \n",
    "                    valid_y_list.append(canditate_y_list)\n",
    "                    \n",
    "                            \n",
    "    return valid_y_list, valid_y_num                                                                                                                                          "
   ]
  },
  {
   "cell_type": "code",
   "execution_count": 42,
   "metadata": {},
   "outputs": [],
   "source": [
    "df = pd.read_csv('../../input/ost30.csv', sep=',', index_col=0)"
   ]
  },
  {
   "cell_type": "code",
   "execution_count": 43,
   "metadata": {},
   "outputs": [],
   "source": [
    "valid_y_list, valid_y_num = find_valid_y(df, num_reads=1000)"
   ]
  },
  {
   "cell_type": "code",
   "execution_count": 44,
   "metadata": {},
   "outputs": [
    {
     "name": "stdout",
     "output_type": "stream",
     "text": [
      "0\n"
     ]
    }
   ],
   "source": [
    "print(valid_y_num)"
   ]
  },
  {
   "cell_type": "code",
   "execution_count": 4,
   "metadata": {},
   "outputs": [],
   "source": [
    "def y_num_hist(df, num_reads, path):\n",
    "    LI = list(df['LI'])\n",
    "    hist_dic = {}\n",
    "    valid_y_list, valid_y_num = find_valid_y(df, num_reads)\n",
    "    for valid_y in valid_y_list:\n",
    "        t1 = int(np.dot(LI, valid_y))\n",
    "        if t1 in hist_dic.keys():\n",
    "            hist_dic[t1] += 1\n",
    "        else:\n",
    "            hist_dic[t1] = 1\n",
    "            \n",
    "    plt.xlabel('value of t1')\n",
    "    plt.ylabel('number of samples')\n",
    "    plt.bar(hist_dic.keys(), hist_dic.values())\n",
    "    plt.savefig(path)\n",
    "    plt.show()\n",
    "\n",
    "    return valid_y_list, valid_y_num, hist_dic"
   ]
  },
  {
   "cell_type": "code",
   "execution_count": 5,
   "metadata": {},
   "outputs": [],
   "source": [
    "def time_num_y(df, num_reads, path):\n",
    "    time_list = []\n",
    "    time_0 = time.time() \n",
    "    \n",
    "    t_list = calc_marginals(df)                                                                      \n",
    "    valid_y_list = []                                                           \n",
    "    valid_y_num = 0\n",
    "    y_lists = np.random.randint(2, size=(num_reads, df.shape[0]))\n",
    "    for canditate_y in y_lists:                                                     \n",
    "        if sum(canditate_y) == t_list[0]:#int同士の比較                      \n",
    "            for j in range(1, len(t_list)):\n",
    "                if np.dot(df.iloc[:, j], canditate_y) != t_list[j]:\n",
    "                    break                                                       \n",
    "            else:\n",
    "                canditate_y_list = list(canditate_y)\n",
    "                print(canditate_y_list)\n",
    "                if len(valid_y_list)==0:\n",
    "                    valid_y_num += 1                                        \n",
    "                    valid_y_list.append(canditate_y_list)\n",
    "                    time_1 = time.time()\n",
    "                    elapsed_time = time_1 - time_0\n",
    "                    time_list.append(elapsed_time)\n",
    "\n",
    "                elif all([canditate_y_list != p for p in valid_y_list]):\n",
    "                    valid_y_num += 1                                    \n",
    "                    valid_y_list.append(canditate_y_list)\n",
    "                    time_1 = time.time()\n",
    "                    elapsed_time = time_1 - time_0\n",
    "                    time_list.append(elapsed_time)\n",
    "    \n",
    "    valid_y_num_list = [i for i in range(1, valid_y_num+1)]\n",
    "    \n",
    "    plt.xlabel('time')\n",
    "    plt.ylabel('number of hits')\n",
    "    plt.plot(time_list, valid_y_num_list)\n",
    "    plt.savefig(path)\n",
    "    plt.show()\n",
    "    \n",
    "    return valid_y_list, valid_y_num_list, time_list"
   ]
  },
  {
   "cell_type": "code",
   "execution_count": 6,
   "metadata": {},
   "outputs": [],
   "source": [
    "def time_measurement(df):\n",
    "    sum_time = 0\n",
    "    time_once = timeit.timeit(\"np.random.randint(2, size=(num_reads, df.shape[0]))\", globals=globals(), number=1)\n",
    "    sum_time += time_once\n",
    "    return sum_time"
   ]
  },
  {
   "cell_type": "code",
   "execution_count": 7,
   "metadata": {},
   "outputs": [],
   "source": [
    "#==========\n",
    "#テストコード\n",
    "#==========\n",
    "def test_find_valid_y():\n",
    "    df = pd.read_csv('../../input/ost16.csv', sep=',', index_col=0)\n",
    "    valid_y_list, valid_y_num = find_valid_y(df,  num_reads = 1000)\n",
    "    print(valid_y_list, valid_y_num)\n",
    "   # assert valid_y_num> 0  \n",
    "    \n",
    "#test_find_valid_y()"
   ]
  },
  {
   "cell_type": "code",
   "execution_count": 8,
   "metadata": {},
   "outputs": [],
   "source": [
    "def test_validity():\n",
    "    df1 = pd.read_csv('../../input/ost6.csv', sep=',',index_col=0)\n",
    "    df2 = pd.read_csv('../../input/ost6.csv', sep=',',index_col=0)\n",
    "    new_y = np.array([1, 0, 0, 0, 0, 1])\n",
    "    df2['Y'] = new_y\n",
    "    t_list1 = calc_marginals(df1)\n",
    "    t_list2 = calc_marginals(df2)\n",
    "    print(t_list1)\n",
    "    print(t_list2)\n",
    "    \n",
    "    assert np.all(t_list1[[0,2]] == t_list2[[0,2]]) \n",
    "\n",
    "#test_validity()"
   ]
  },
  {
   "cell_type": "code",
   "execution_count": null,
   "metadata": {},
   "outputs": [],
   "source": []
  }
 ],
 "metadata": {
  "kernelspec": {
   "display_name": "Python 3",
   "language": "python",
   "name": "python3"
  },
  "language_info": {
   "codemirror_mode": {
    "name": "ipython",
    "version": 3
   },
   "file_extension": ".py",
   "mimetype": "text/x-python",
   "name": "python",
   "nbconvert_exporter": "python",
   "pygments_lexer": "ipython3",
   "version": "3.7.9"
  }
 },
 "nbformat": 4,
 "nbformat_minor": 4
}
