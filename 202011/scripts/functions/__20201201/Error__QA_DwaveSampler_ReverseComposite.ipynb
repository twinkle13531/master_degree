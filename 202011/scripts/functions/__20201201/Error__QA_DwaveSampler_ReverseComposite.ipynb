{
 "cells": [
  {
   "cell_type": "markdown",
   "metadata": {},
   "source": [
    "## DwaveSampler, ReverseComposite\n",
    "- BinaryQuadraticModelStructureError: Problem graph incompatible with solver."
   ]
  },
  {
   "cell_type": "code",
   "execution_count": 1,
   "metadata": {},
   "outputs": [],
   "source": [
    "#!pip3 install dwave-system"
   ]
  },
  {
   "cell_type": "code",
   "execution_count": 2,
   "metadata": {},
   "outputs": [],
   "source": [
    "import pandas as pd \n",
    "import numpy as np\n",
    "from scipy.special import comb\n",
    "import math\n",
    "from neal import SimulatedAnnealingSampler\n",
    "import itertools\n",
    "import random\n",
    "import matplotlib.pyplot as plt\n",
    "from dwave.system.samplers import DWaveSampler\n",
    "from dwave.system.composites import EmbeddingComposite\n",
    "from dwave.system import ReverseBatchStatesComposite, ReverseAdvanceComposite\n",
    "from dwave.embedding.chain_strength import uniform_torque_compensation\n",
    "import dimod\n",
    "import timeit"
   ]
  },
  {
   "cell_type": "code",
   "execution_count": 3,
   "metadata": {},
   "outputs": [],
   "source": [
    "def calc_marginals(df):                   \n",
    "    return np.array([                      \n",
    "        sum(df['Y']),    \n",
    "        np.dot(df['Y'], df['SEX']),      \n",
    "        np.dot(df['Y'], df['AOP']),      \n",
    "    ])     "
   ]
  },
  {
   "cell_type": "code",
   "execution_count": 4,
   "metadata": {},
   "outputs": [],
   "source": [
    "def make_Hamiltonian(df):\n",
    "    t_list = calc_marginals(df)\n",
    "    N=len(df)\n",
    "    dup_list = [(i, i) for i in range(N)]\n",
    "    comb_list = [(i, j) for i in range(N) for j in range(i+1, N)]\n",
    "    \n",
    "    lin_Y = [1-2*t_list[0] for (i, _) in dup_list] #同じy同士\n",
    "    quad_Y = [2 for (i, j) in comb_list] #異なるy同士\n",
    "    num_Y = t_list[0]**2 #数字の二乗\n",
    "    \n",
    "    SEX = df['SEX'].iloc\n",
    "    lin_SEX  = [(SEX[i] - 2 * t_list[1]) * SEX[i] for (i, _) in dup_list]\n",
    "    quad_SEX  = [2*SEX[i] * SEX[j] for (i, j) in comb_list]\n",
    "    num_SEX  = t_list[1]**2\n",
    "    \n",
    "    AOP = df['AOP'].iloc\n",
    "    lin_AOP = [(AOP[i] - 2 * t_list[2]) * AOP[i] for (i, _) in dup_list]\n",
    "    quad_AOP = [2*AOP[i] * AOP[j] for (i, j) in comb_list]\n",
    "    num_AOP = t_list[2]**2\n",
    "    \n",
    "    #lin\n",
    "    lin_list = [sum(lin) for lin in zip(lin_Y, lin_SEX, lin_AOP)]\n",
    "    lin = {i: lin_list[i] for (i, _) in dup_list}\n",
    "    \n",
    "    #quad\n",
    "    quad_values = [sum(quad) for quad in zip(quad_Y, quad_SEX, quad_AOP)]\n",
    "    quad = {ij: quad_values[n] for (n, ij) in enumerate(comb_list)}\n",
    "    \n",
    "    #num\n",
    "    num = num_Y + num_SEX + num_AOP\n",
    "    \n",
    "    return dimod.BinaryQuadraticModel(lin, quad, num, dimod.Vartype.BINARY)#dic, dic, num"
   ]
  },
  {
   "cell_type": "code",
   "execution_count": 5,
   "metadata": {},
   "outputs": [],
   "source": [
    "def QA_ReverseAdvanceComposite(df, numreads):\n",
    "    valid_y_list = []\n",
    "    valid_y_num= 0\n",
    "\n",
    "    bqm = make_Hamiltonian(df)\n",
    "\n",
    "    dw_sampler = DWaveSampler(\n",
    "        endpoint=\"https://cloud.dwavesys.com/sapi\",\n",
    "        solver = 'DW_2000Q_6',\n",
    "        token = \"TOKY-1319d5c52b9aa35f34b40feba0cea58a4f5d3c09\"\n",
    "    )\n",
    "\n",
    "    sampler_reverse = ReverseAdvanceComposite(dw_sampler)\n",
    "    init_samples = {n: y for n, y in enumerate(df['Y'].values.tolist())}\n",
    "\n",
    "    res = sampler_reverse.sample(bqm,\n",
    "                                   anneal_schedules=[[[0.0, 1.0], [t, 0.5], [20, 1.0]] for t in (5, 10, 6)],\n",
    "                                   initial_state=init_samples,\n",
    "                                   num_reads=numreads,\n",
    "                                   reinitialize_state=True)\n",
    "\n",
    "    for canditate_y_info in list(res.record):\n",
    "        if canditate_y_info[1]==0.:\n",
    "            canditate_y = list(canditate_y_info[0])\n",
    "            if len(valid_y_list)==0:\n",
    "                valid_y_list.append(canditate_y)\n",
    "                valid_y_num += 1\n",
    "            elif all(canditate_y != p for p in valid_y_list): \n",
    "                valid_y_list.append(canditate_y)\n",
    "                valid_y_num += 1\n",
    "                \n",
    "    return valid_y_list, valid_y_num"
   ]
  },
  {
   "cell_type": "code",
   "execution_count": 6,
   "metadata": {},
   "outputs": [],
   "source": [
    "def QA_ReverseBatchStatesComposite(df, numreads, time_time):\n",
    "    valid_y_list= []\n",
    "    valid_y_num = 0\n",
    "\n",
    "    bqm = make_Hamiltonian(df)\n",
    "\n",
    "    dw_sampler = DWaveSampler(\n",
    "        endpoint=\"https://cloud.dwavesys.com/sapi\",\n",
    "        solver = 'DW_2000Q_6',\n",
    "        token = \"TOKY-1319d5c52b9aa35f34b40feba0cea58a4f5d3c09\"\n",
    "    )\n",
    "\n",
    "    sampler_reverse = ReverseBatchStatesComposite(dw_sampler)\n",
    "    init_samples = {n: y for n, y in enumerate(df['Y'].values.tolist())}\n",
    "\n",
    "    res = sampler_reverse.sample(bqm,\n",
    "                                 initial_state=init_samples,\n",
    "                                 anneal_schedule=[[0.0, 1.0], [time_time, 0.5], [20, 1.0]],\n",
    "                                 num_reads=numreads,\n",
    "                                 reinitialize_state=True)\n",
    "\n",
    "    for canditate_y_info in list(res.record):\n",
    "        if canditate_y_info[1]==0.:\n",
    "            canditate_y = list(canditate_y_info[0])\n",
    "            if len(valid_y_list)==0:\n",
    "                valid_y_list.append(canditate_y)\n",
    "                valid_y_num += 1\n",
    "            elif all(canditate_y != p for p in valid_y_list): \n",
    "                valid_y_list.append(canditate_y)\n",
    "                valid_y_num += 1\n",
    "                \n",
    "    return valid_y_list, valid_y_num"
   ]
  },
  {
   "cell_type": "code",
   "execution_count": null,
   "metadata": {},
   "outputs": [],
   "source": []
  },
  {
   "cell_type": "markdown",
   "metadata": {},
   "source": [
    "### ost6"
   ]
  },
  {
   "cell_type": "code",
   "execution_count": 7,
   "metadata": {},
   "outputs": [
    {
     "name": "stdout",
     "output_type": "stream",
     "text": [
      "   Y  LI  SEX  AOP\n",
      "0  1   1    0    0\n",
      "1  0   1    1    1\n",
      "2  0   1    1    0\n",
      "3  0   1    1    1\n",
      "4  0   1    0    1\n",
      "5  1   1    0    1\n"
     ]
    }
   ],
   "source": [
    "df6 = pd.read_csv('../../input/ost6.csv', sep=',', index_col=0)\n",
    "print(df6)"
   ]
  },
  {
   "cell_type": "code",
   "execution_count": 8,
   "metadata": {
    "scrolled": true
   },
   "outputs": [
    {
     "ename": "BinaryQuadraticModelStructureError",
     "evalue": "Problem graph incompatible with solver.",
     "output_type": "error",
     "traceback": [
      "\u001b[0;31m---------------------------------------------------------------------------\u001b[0m",
      "\u001b[0;31mBinaryQuadraticModelStructureError\u001b[0m        Traceback (most recent call last)",
      "\u001b[0;32m<ipython-input-8-7ff6e5a54770>\u001b[0m in \u001b[0;36m<module>\u001b[0;34m\u001b[0m\n\u001b[0;32m----> 1\u001b[0;31m \u001b[0mQA_ReverseAdvanceComposite\u001b[0m\u001b[0;34m(\u001b[0m\u001b[0mdf6\u001b[0m\u001b[0;34m,\u001b[0m \u001b[0mnumreads\u001b[0m\u001b[0;34m=\u001b[0m\u001b[0;36m100\u001b[0m\u001b[0;34m)\u001b[0m\u001b[0;34m\u001b[0m\u001b[0;34m\u001b[0m\u001b[0m\n\u001b[0m",
      "\u001b[0;32m<ipython-input-5-bb55add609a2>\u001b[0m in \u001b[0;36mQA_ReverseAdvanceComposite\u001b[0;34m(df, numreads)\u001b[0m\n\u001b[1;32m     14\u001b[0m     \u001b[0minit_samples\u001b[0m \u001b[0;34m=\u001b[0m \u001b[0;34m{\u001b[0m\u001b[0mn\u001b[0m\u001b[0;34m:\u001b[0m \u001b[0my\u001b[0m \u001b[0;32mfor\u001b[0m \u001b[0mn\u001b[0m\u001b[0;34m,\u001b[0m \u001b[0my\u001b[0m \u001b[0;32min\u001b[0m \u001b[0menumerate\u001b[0m\u001b[0;34m(\u001b[0m\u001b[0mdf\u001b[0m\u001b[0;34m[\u001b[0m\u001b[0;34m'Y'\u001b[0m\u001b[0;34m]\u001b[0m\u001b[0;34m.\u001b[0m\u001b[0mvalues\u001b[0m\u001b[0;34m.\u001b[0m\u001b[0mtolist\u001b[0m\u001b[0;34m(\u001b[0m\u001b[0;34m)\u001b[0m\u001b[0;34m)\u001b[0m\u001b[0;34m}\u001b[0m\u001b[0;34m\u001b[0m\u001b[0;34m\u001b[0m\u001b[0m\n\u001b[1;32m     15\u001b[0m \u001b[0;34m\u001b[0m\u001b[0m\n\u001b[0;32m---> 16\u001b[0;31m     res = sampler_reverse.sample(bqm,\n\u001b[0m\u001b[1;32m     17\u001b[0m                                    \u001b[0manneal_schedules\u001b[0m\u001b[0;34m=\u001b[0m\u001b[0;34m[\u001b[0m\u001b[0;34m[\u001b[0m\u001b[0;34m[\u001b[0m\u001b[0;36m0.0\u001b[0m\u001b[0;34m,\u001b[0m \u001b[0;36m1.0\u001b[0m\u001b[0;34m]\u001b[0m\u001b[0;34m,\u001b[0m \u001b[0;34m[\u001b[0m\u001b[0mt\u001b[0m\u001b[0;34m,\u001b[0m \u001b[0;36m0.5\u001b[0m\u001b[0;34m]\u001b[0m\u001b[0;34m,\u001b[0m \u001b[0;34m[\u001b[0m\u001b[0;36m20\u001b[0m\u001b[0;34m,\u001b[0m \u001b[0;36m1.0\u001b[0m\u001b[0;34m]\u001b[0m\u001b[0;34m]\u001b[0m \u001b[0;32mfor\u001b[0m \u001b[0mt\u001b[0m \u001b[0;32min\u001b[0m \u001b[0;34m(\u001b[0m\u001b[0;36m5\u001b[0m\u001b[0;34m,\u001b[0m \u001b[0;36m10\u001b[0m\u001b[0;34m,\u001b[0m \u001b[0;36m6\u001b[0m\u001b[0;34m)\u001b[0m\u001b[0;34m]\u001b[0m\u001b[0;34m,\u001b[0m\u001b[0;34m\u001b[0m\u001b[0;34m\u001b[0m\u001b[0m\n\u001b[1;32m     18\u001b[0m                                    \u001b[0minitial_state\u001b[0m\u001b[0;34m=\u001b[0m\u001b[0minit_samples\u001b[0m\u001b[0;34m,\u001b[0m\u001b[0;34m\u001b[0m\u001b[0;34m\u001b[0m\u001b[0m\n",
      "\u001b[0;32m/usr/local/lib/python3.8/site-packages/dwave/system/composites/reversecomposite.py\u001b[0m in \u001b[0;36msample\u001b[0;34m(self, bqm, anneal_schedules, **parameters)\u001b[0m\n\u001b[1;32m    148\u001b[0m         \u001b[0mvectors\u001b[0m \u001b[0;34m=\u001b[0m \u001b[0;34m{\u001b[0m\u001b[0;34m}\u001b[0m\u001b[0;34m\u001b[0m\u001b[0;34m\u001b[0m\u001b[0m\n\u001b[1;32m    149\u001b[0m         \u001b[0;32mfor\u001b[0m \u001b[0mschedule_idx\u001b[0m\u001b[0;34m,\u001b[0m \u001b[0manneal_schedule\u001b[0m \u001b[0;32min\u001b[0m \u001b[0menumerate\u001b[0m\u001b[0;34m(\u001b[0m\u001b[0manneal_schedules\u001b[0m\u001b[0;34m)\u001b[0m\u001b[0;34m:\u001b[0m\u001b[0;34m\u001b[0m\u001b[0;34m\u001b[0m\u001b[0m\n\u001b[0;32m--> 150\u001b[0;31m             sampleset = child.sample(bqm, anneal_schedule=anneal_schedule, initial_state=initial_state,\n\u001b[0m\u001b[1;32m    151\u001b[0m                                      **parameters)\n\u001b[1;32m    152\u001b[0m \u001b[0;34m\u001b[0m\u001b[0m\n",
      "\u001b[0;32m/usr/local/lib/python3.8/site-packages/dwave/system/samplers/dwave_sampler.py\u001b[0m in \u001b[0;36mwrapper\u001b[0;34m(sampler, *args, **kwargs)\u001b[0m\n\u001b[1;32m     46\u001b[0m         \u001b[0;32mwhile\u001b[0m \u001b[0;32mTrue\u001b[0m\u001b[0;34m:\u001b[0m\u001b[0;34m\u001b[0m\u001b[0;34m\u001b[0m\u001b[0m\n\u001b[1;32m     47\u001b[0m             \u001b[0;32mtry\u001b[0m\u001b[0;34m:\u001b[0m\u001b[0;34m\u001b[0m\u001b[0;34m\u001b[0m\u001b[0m\n\u001b[0;32m---> 48\u001b[0;31m                 \u001b[0;32mreturn\u001b[0m \u001b[0mf\u001b[0m\u001b[0;34m(\u001b[0m\u001b[0msampler\u001b[0m\u001b[0;34m,\u001b[0m \u001b[0;34m*\u001b[0m\u001b[0margs\u001b[0m\u001b[0;34m,\u001b[0m \u001b[0;34m**\u001b[0m\u001b[0mkwargs\u001b[0m\u001b[0;34m)\u001b[0m\u001b[0;34m\u001b[0m\u001b[0;34m\u001b[0m\u001b[0m\n\u001b[0m\u001b[1;32m     49\u001b[0m             \u001b[0;32mexcept\u001b[0m \u001b[0mSolverOfflineError\u001b[0m \u001b[0;32mas\u001b[0m \u001b[0merr\u001b[0m\u001b[0;34m:\u001b[0m\u001b[0;34m\u001b[0m\u001b[0;34m\u001b[0m\u001b[0m\n\u001b[1;32m     50\u001b[0m                 \u001b[0;32mif\u001b[0m \u001b[0;32mnot\u001b[0m \u001b[0msampler\u001b[0m\u001b[0;34m.\u001b[0m\u001b[0mfailover\u001b[0m\u001b[0;34m:\u001b[0m\u001b[0;34m\u001b[0m\u001b[0;34m\u001b[0m\u001b[0m\n",
      "\u001b[0;32m/usr/local/lib/python3.8/site-packages/dwave/system/samplers/dwave_sampler.py\u001b[0m in \u001b[0;36msample\u001b[0;34m(self, bqm, warnings, **kwargs)\u001b[0m\n\u001b[1;32m    339\u001b[0m                 solver.edges.issuperset(bqm.quadratic)):\n\u001b[1;32m    340\u001b[0m             \u001b[0mmsg\u001b[0m \u001b[0;34m=\u001b[0m \u001b[0;34m\"Problem graph incompatible with solver.\"\u001b[0m\u001b[0;34m\u001b[0m\u001b[0;34m\u001b[0m\u001b[0m\n\u001b[0;32m--> 341\u001b[0;31m             \u001b[0;32mraise\u001b[0m \u001b[0mBinaryQuadraticModelStructureError\u001b[0m\u001b[0;34m(\u001b[0m\u001b[0mmsg\u001b[0m\u001b[0;34m)\u001b[0m\u001b[0;34m\u001b[0m\u001b[0;34m\u001b[0m\u001b[0m\n\u001b[0m\u001b[1;32m    342\u001b[0m \u001b[0;34m\u001b[0m\u001b[0m\n\u001b[1;32m    343\u001b[0m         \u001b[0mfuture\u001b[0m \u001b[0;34m=\u001b[0m \u001b[0msolver\u001b[0m\u001b[0;34m.\u001b[0m\u001b[0msample_bqm\u001b[0m\u001b[0;34m(\u001b[0m\u001b[0mbqm\u001b[0m\u001b[0;34m,\u001b[0m \u001b[0;34m**\u001b[0m\u001b[0mkwargs\u001b[0m\u001b[0;34m)\u001b[0m\u001b[0;34m\u001b[0m\u001b[0;34m\u001b[0m\u001b[0m\n",
      "\u001b[0;31mBinaryQuadraticModelStructureError\u001b[0m: Problem graph incompatible with solver."
     ]
    }
   ],
   "source": [
    "QA_ReverseAdvanceComposite(df6, numreads=100)"
   ]
  },
  {
   "cell_type": "code",
   "execution_count": 9,
   "metadata": {},
   "outputs": [
    {
     "ename": "BinaryQuadraticModelStructureError",
     "evalue": "Problem graph incompatible with solver.",
     "output_type": "error",
     "traceback": [
      "\u001b[0;31m---------------------------------------------------------------------------\u001b[0m",
      "\u001b[0;31mBinaryQuadraticModelStructureError\u001b[0m        Traceback (most recent call last)",
      "\u001b[0;32m<ipython-input-9-237373ec6007>\u001b[0m in \u001b[0;36m<module>\u001b[0;34m\u001b[0m\n\u001b[0;32m----> 1\u001b[0;31m \u001b[0mQA_ReverseBatchStatesComposite\u001b[0m\u001b[0;34m(\u001b[0m\u001b[0mdf6\u001b[0m\u001b[0;34m,\u001b[0m \u001b[0mnumreads\u001b[0m\u001b[0;34m=\u001b[0m\u001b[0;36m100\u001b[0m\u001b[0;34m,\u001b[0m \u001b[0mtime_time\u001b[0m\u001b[0;34m=\u001b[0m\u001b[0;36m5\u001b[0m\u001b[0;34m)\u001b[0m\u001b[0;34m\u001b[0m\u001b[0;34m\u001b[0m\u001b[0m\n\u001b[0m",
      "\u001b[0;32m<ipython-input-6-22ef6acf45b4>\u001b[0m in \u001b[0;36mQA_ReverseBatchStatesComposite\u001b[0;34m(df, numreads, time_time)\u001b[0m\n\u001b[1;32m     14\u001b[0m     \u001b[0minit_samples\u001b[0m \u001b[0;34m=\u001b[0m \u001b[0;34m{\u001b[0m\u001b[0mn\u001b[0m\u001b[0;34m:\u001b[0m \u001b[0my\u001b[0m \u001b[0;32mfor\u001b[0m \u001b[0mn\u001b[0m\u001b[0;34m,\u001b[0m \u001b[0my\u001b[0m \u001b[0;32min\u001b[0m \u001b[0menumerate\u001b[0m\u001b[0;34m(\u001b[0m\u001b[0mdf\u001b[0m\u001b[0;34m[\u001b[0m\u001b[0;34m'Y'\u001b[0m\u001b[0;34m]\u001b[0m\u001b[0;34m.\u001b[0m\u001b[0mvalues\u001b[0m\u001b[0;34m.\u001b[0m\u001b[0mtolist\u001b[0m\u001b[0;34m(\u001b[0m\u001b[0;34m)\u001b[0m\u001b[0;34m)\u001b[0m\u001b[0;34m}\u001b[0m\u001b[0;34m\u001b[0m\u001b[0;34m\u001b[0m\u001b[0m\n\u001b[1;32m     15\u001b[0m \u001b[0;34m\u001b[0m\u001b[0m\n\u001b[0;32m---> 16\u001b[0;31m     res = sampler_reverse.sample(bqm,\n\u001b[0m\u001b[1;32m     17\u001b[0m                                  \u001b[0minitial_state\u001b[0m\u001b[0;34m=\u001b[0m\u001b[0minit_samples\u001b[0m\u001b[0;34m,\u001b[0m\u001b[0;34m\u001b[0m\u001b[0;34m\u001b[0m\u001b[0m\n\u001b[1;32m     18\u001b[0m                                  \u001b[0manneal_schedule\u001b[0m\u001b[0;34m=\u001b[0m\u001b[0;34m[\u001b[0m\u001b[0;34m[\u001b[0m\u001b[0;36m0.0\u001b[0m\u001b[0;34m,\u001b[0m \u001b[0;36m1.0\u001b[0m\u001b[0;34m]\u001b[0m\u001b[0;34m,\u001b[0m \u001b[0;34m[\u001b[0m\u001b[0mtime_time\u001b[0m\u001b[0;34m,\u001b[0m \u001b[0;36m0.5\u001b[0m\u001b[0;34m]\u001b[0m\u001b[0;34m,\u001b[0m \u001b[0;34m[\u001b[0m\u001b[0;36m20\u001b[0m\u001b[0;34m,\u001b[0m \u001b[0;36m1.0\u001b[0m\u001b[0;34m]\u001b[0m\u001b[0;34m]\u001b[0m\u001b[0;34m,\u001b[0m\u001b[0;34m\u001b[0m\u001b[0;34m\u001b[0m\u001b[0m\n",
      "\u001b[0;32m/usr/local/lib/python3.8/site-packages/dwave/system/composites/reversecomposite.py\u001b[0m in \u001b[0;36msample\u001b[0;34m(self, bqm, **parameters)\u001b[0m\n\u001b[1;32m    268\u001b[0m \u001b[0;34m\u001b[0m\u001b[0m\n\u001b[1;32m    269\u001b[0m         \u001b[0;32mif\u001b[0m \u001b[0;34m'initial_states'\u001b[0m \u001b[0;32mnot\u001b[0m \u001b[0;32min\u001b[0m \u001b[0mparameters\u001b[0m\u001b[0;34m:\u001b[0m\u001b[0;34m\u001b[0m\u001b[0;34m\u001b[0m\u001b[0m\n\u001b[0;32m--> 270\u001b[0;31m             \u001b[0;32mreturn\u001b[0m \u001b[0mchild\u001b[0m\u001b[0;34m.\u001b[0m\u001b[0msample\u001b[0m\u001b[0;34m(\u001b[0m\u001b[0mbqm\u001b[0m\u001b[0;34m,\u001b[0m \u001b[0;34m**\u001b[0m\u001b[0mparameters\u001b[0m\u001b[0;34m)\u001b[0m\u001b[0;34m\u001b[0m\u001b[0;34m\u001b[0m\u001b[0m\n\u001b[0m\u001b[1;32m    271\u001b[0m \u001b[0;34m\u001b[0m\u001b[0m\n\u001b[1;32m    272\u001b[0m         \u001b[0minitial_states\u001b[0m \u001b[0;34m=\u001b[0m \u001b[0mparameters\u001b[0m\u001b[0;34m.\u001b[0m\u001b[0mpop\u001b[0m\u001b[0;34m(\u001b[0m\u001b[0;34m'initial_states'\u001b[0m\u001b[0;34m)\u001b[0m\u001b[0;34m\u001b[0m\u001b[0;34m\u001b[0m\u001b[0m\n",
      "\u001b[0;32m/usr/local/lib/python3.8/site-packages/dwave/system/samplers/dwave_sampler.py\u001b[0m in \u001b[0;36mwrapper\u001b[0;34m(sampler, *args, **kwargs)\u001b[0m\n\u001b[1;32m     46\u001b[0m         \u001b[0;32mwhile\u001b[0m \u001b[0;32mTrue\u001b[0m\u001b[0;34m:\u001b[0m\u001b[0;34m\u001b[0m\u001b[0;34m\u001b[0m\u001b[0m\n\u001b[1;32m     47\u001b[0m             \u001b[0;32mtry\u001b[0m\u001b[0;34m:\u001b[0m\u001b[0;34m\u001b[0m\u001b[0;34m\u001b[0m\u001b[0m\n\u001b[0;32m---> 48\u001b[0;31m                 \u001b[0;32mreturn\u001b[0m \u001b[0mf\u001b[0m\u001b[0;34m(\u001b[0m\u001b[0msampler\u001b[0m\u001b[0;34m,\u001b[0m \u001b[0;34m*\u001b[0m\u001b[0margs\u001b[0m\u001b[0;34m,\u001b[0m \u001b[0;34m**\u001b[0m\u001b[0mkwargs\u001b[0m\u001b[0;34m)\u001b[0m\u001b[0;34m\u001b[0m\u001b[0;34m\u001b[0m\u001b[0m\n\u001b[0m\u001b[1;32m     49\u001b[0m             \u001b[0;32mexcept\u001b[0m \u001b[0mSolverOfflineError\u001b[0m \u001b[0;32mas\u001b[0m \u001b[0merr\u001b[0m\u001b[0;34m:\u001b[0m\u001b[0;34m\u001b[0m\u001b[0;34m\u001b[0m\u001b[0m\n\u001b[1;32m     50\u001b[0m                 \u001b[0;32mif\u001b[0m \u001b[0;32mnot\u001b[0m \u001b[0msampler\u001b[0m\u001b[0;34m.\u001b[0m\u001b[0mfailover\u001b[0m\u001b[0;34m:\u001b[0m\u001b[0;34m\u001b[0m\u001b[0;34m\u001b[0m\u001b[0m\n",
      "\u001b[0;32m/usr/local/lib/python3.8/site-packages/dwave/system/samplers/dwave_sampler.py\u001b[0m in \u001b[0;36msample\u001b[0;34m(self, bqm, warnings, **kwargs)\u001b[0m\n\u001b[1;32m    339\u001b[0m                 solver.edges.issuperset(bqm.quadratic)):\n\u001b[1;32m    340\u001b[0m             \u001b[0mmsg\u001b[0m \u001b[0;34m=\u001b[0m \u001b[0;34m\"Problem graph incompatible with solver.\"\u001b[0m\u001b[0;34m\u001b[0m\u001b[0;34m\u001b[0m\u001b[0m\n\u001b[0;32m--> 341\u001b[0;31m             \u001b[0;32mraise\u001b[0m \u001b[0mBinaryQuadraticModelStructureError\u001b[0m\u001b[0;34m(\u001b[0m\u001b[0mmsg\u001b[0m\u001b[0;34m)\u001b[0m\u001b[0;34m\u001b[0m\u001b[0;34m\u001b[0m\u001b[0m\n\u001b[0m\u001b[1;32m    342\u001b[0m \u001b[0;34m\u001b[0m\u001b[0m\n\u001b[1;32m    343\u001b[0m         \u001b[0mfuture\u001b[0m \u001b[0;34m=\u001b[0m \u001b[0msolver\u001b[0m\u001b[0;34m.\u001b[0m\u001b[0msample_bqm\u001b[0m\u001b[0;34m(\u001b[0m\u001b[0mbqm\u001b[0m\u001b[0;34m,\u001b[0m \u001b[0;34m**\u001b[0m\u001b[0mkwargs\u001b[0m\u001b[0;34m)\u001b[0m\u001b[0;34m\u001b[0m\u001b[0;34m\u001b[0m\u001b[0m\n",
      "\u001b[0;31mBinaryQuadraticModelStructureError\u001b[0m: Problem graph incompatible with solver."
     ]
    }
   ],
   "source": [
    "QA_ReverseBatchStatesComposite(df6, numreads=100, time_time=5)"
   ]
  },
  {
   "cell_type": "code",
   "execution_count": 28,
   "metadata": {},
   "outputs": [
    {
     "data": {
      "text/plain": [
       "([[1, 0, 0, 0, 0, 1]], 1)"
      ]
     },
     "execution_count": 28,
     "metadata": {},
     "output_type": "execute_result"
    }
   ],
   "source": [
    "QA_ReverseBatchStatesComposite(df6, numreads=100, time_time=10)"
   ]
  },
  {
   "cell_type": "code",
   "execution_count": 29,
   "metadata": {},
   "outputs": [
    {
     "data": {
      "text/plain": [
       "([[1, 0, 0, 0, 0, 1]], 1)"
      ]
     },
     "execution_count": 29,
     "metadata": {},
     "output_type": "execute_result"
    }
   ],
   "source": [
    "QA_ReverseBatchStatesComposite(df6, numreads=100, time_time=15)"
   ]
  },
  {
   "cell_type": "code",
   "execution_count": null,
   "metadata": {},
   "outputs": [],
   "source": []
  },
  {
   "cell_type": "markdown",
   "metadata": {},
   "source": [
    "### ost16"
   ]
  },
  {
   "cell_type": "code",
   "execution_count": 30,
   "metadata": {},
   "outputs": [
    {
     "name": "stdout",
     "output_type": "stream",
     "text": [
      "    Y  LI  SEX  AOP\n",
      "0   1   1    1    0\n",
      "1   1   1    0    1\n",
      "2   1   1    1    1\n",
      "3   1   1    1    1\n",
      "4   0   1    1    1\n",
      "5   0   1    1    1\n",
      "6   1   1    1    0\n",
      "7   0   1    0    1\n",
      "8   0   1    1    1\n",
      "9   0   1    0    1\n",
      "10  1   0    0    1\n",
      "11  0   1    1    1\n",
      "12  0   1    1    1\n",
      "13  1   0    0    0\n",
      "14  0   1    1    0\n",
      "15  1   1    0    0\n"
     ]
    }
   ],
   "source": [
    "df16 = pd.read_csv('../../input/ost16.csv', sep=',', index_col=0)\n",
    "print(df16)"
   ]
  },
  {
   "cell_type": "code",
   "execution_count": 31,
   "metadata": {},
   "outputs": [
    {
     "data": {
      "text/plain": [
       "([[1, 1, 1, 1, 0, 0, 1, 0, 0, 0, 1, 0, 0, 1, 0, 1]], 1)"
      ]
     },
     "execution_count": 31,
     "metadata": {},
     "output_type": "execute_result"
    }
   ],
   "source": [
    "QA_ReverseAdvanceComposite(df16, numreads=100)"
   ]
  },
  {
   "cell_type": "code",
   "execution_count": 32,
   "metadata": {},
   "outputs": [
    {
     "data": {
      "text/plain": [
       "([[1, 1, 1, 1, 0, 0, 1, 0, 0, 0, 1, 0, 0, 1, 0, 1]], 1)"
      ]
     },
     "execution_count": 32,
     "metadata": {},
     "output_type": "execute_result"
    }
   ],
   "source": [
    "QA_ReverseBatchStatesComposite(df16, numreads=100, time_time=5)"
   ]
  },
  {
   "cell_type": "code",
   "execution_count": 33,
   "metadata": {},
   "outputs": [
    {
     "data": {
      "text/plain": [
       "([[1, 1, 1, 1, 0, 0, 1, 0, 0, 0, 1, 0, 0, 1, 0, 1]], 1)"
      ]
     },
     "execution_count": 33,
     "metadata": {},
     "output_type": "execute_result"
    }
   ],
   "source": [
    "QA_ReverseBatchStatesComposite(df16, numreads=100, time_time=10)"
   ]
  },
  {
   "cell_type": "code",
   "execution_count": 34,
   "metadata": {},
   "outputs": [
    {
     "data": {
      "text/plain": [
       "([[1, 1, 1, 1, 0, 0, 1, 0, 0, 0, 1, 0, 0, 1, 0, 1]], 1)"
      ]
     },
     "execution_count": 34,
     "metadata": {},
     "output_type": "execute_result"
    }
   ],
   "source": [
    "QA_ReverseBatchStatesComposite(df16, numreads=100, time_time=15)"
   ]
  },
  {
   "cell_type": "code",
   "execution_count": null,
   "metadata": {},
   "outputs": [],
   "source": []
  },
  {
   "cell_type": "markdown",
   "metadata": {},
   "source": [
    "### ost20"
   ]
  },
  {
   "cell_type": "code",
   "execution_count": 35,
   "metadata": {},
   "outputs": [
    {
     "name": "stdout",
     "output_type": "stream",
     "text": [
      "    Y  LI  SEX  AOP\n",
      "0   1   0    1    0\n",
      "1   1   0    1    0\n",
      "2   1   1    0    1\n",
      "3   1   1    1    0\n",
      "4   0   1    0    1\n",
      "5   0   1    1    0\n",
      "6   0   1    1    1\n",
      "7   0   1    1    1\n",
      "8   1   1    0    1\n",
      "9   1   1    1    1\n",
      "10  0   1    1    1\n",
      "11  1   1    1    1\n",
      "12  0   1    1    1\n",
      "13  0   1    1    1\n",
      "14  1   0    1    0\n",
      "15  1   1    1    1\n",
      "16  0   1    0    1\n",
      "17  1   1    1    1\n",
      "18  1   1    1    0\n",
      "19  1   1    1    0\n"
     ]
    }
   ],
   "source": [
    "df20 = pd.read_csv('../../input/ost20.csv', sep=',', index_col=0)\n",
    "print(df20)"
   ]
  },
  {
   "cell_type": "code",
   "execution_count": 36,
   "metadata": {},
   "outputs": [
    {
     "data": {
      "text/plain": [
       "([[1, 1, 1, 1, 0, 0, 0, 0, 1, 1, 0, 1, 0, 0, 1, 1, 0, 1, 1, 1]], 1)"
      ]
     },
     "execution_count": 36,
     "metadata": {},
     "output_type": "execute_result"
    }
   ],
   "source": [
    "QA_ReverseAdvanceComposite(df20, numreads=100)"
   ]
  },
  {
   "cell_type": "code",
   "execution_count": 37,
   "metadata": {},
   "outputs": [
    {
     "data": {
      "text/plain": [
       "([[1, 1, 1, 1, 0, 0, 0, 0, 1, 1, 0, 1, 0, 0, 1, 1, 0, 1, 1, 1]], 1)"
      ]
     },
     "execution_count": 37,
     "metadata": {},
     "output_type": "execute_result"
    }
   ],
   "source": [
    "QA_ReverseBatchStatesComposite(df20, numreads=100, time_time=5)"
   ]
  },
  {
   "cell_type": "code",
   "execution_count": 38,
   "metadata": {},
   "outputs": [
    {
     "data": {
      "text/plain": [
       "([[1, 1, 1, 1, 0, 0, 1, 0, 0, 0, 1, 0, 0, 1, 0, 1]], 1)"
      ]
     },
     "execution_count": 38,
     "metadata": {},
     "output_type": "execute_result"
    }
   ],
   "source": [
    "QA_ReverseBatchStatesComposite(df16, numreads=100, time_time=10)"
   ]
  },
  {
   "cell_type": "code",
   "execution_count": 39,
   "metadata": {},
   "outputs": [
    {
     "data": {
      "text/plain": [
       "([[1, 1, 1, 1, 0, 0, 1, 0, 0, 0, 1, 0, 0, 1, 0, 1]], 1)"
      ]
     },
     "execution_count": 39,
     "metadata": {},
     "output_type": "execute_result"
    }
   ],
   "source": [
    "QA_ReverseBatchStatesComposite(df16, numreads=100, time_time=15)"
   ]
  },
  {
   "cell_type": "code",
   "execution_count": null,
   "metadata": {},
   "outputs": [],
   "source": []
  },
  {
   "cell_type": "code",
   "execution_count": 72,
   "metadata": {},
   "outputs": [],
   "source": [
    "def time_measurement(df):\n",
    "    sum_time = 0\n",
    "    annealing_time = 20\n",
    "    for t1 in range(0, sum(df['LI'])+1):\n",
    "        timeit_repeat = timeit.repeat(\"make_Hamiltonian(df, t1)\", number=1, repeat=1, globals={\"make_Hamiltonian\": make_Hamiltonian, \"df\": df, \"t1\": t1})\n",
    "        sum_time += timeit_repeat[0] + annealing_time\n",
    "    return sum_time"
   ]
  },
  {
   "cell_type": "code",
   "execution_count": 73,
   "metadata": {},
   "outputs": [
    {
     "name": "stdout",
     "output_type": "stream",
     "text": [
      "{0: [], 1: [], 2: [[1, 0, 0, 0, 0, 1], [1, 0, 0, 0, 1, 0]], 3: [], 4: [], 5: [], 6: []} {0: 0, 1: 0, 2: 2, 3: 0, 4: 0, 5: 0, 6: 0}\n"
     ]
    }
   ],
   "source": [
    "#==========\n",
    "#テストコード\n",
    "#==========\n",
    "def test_find_valid_y():\n",
    "    df = pd.read_csv('../../input/ost6.csv', sep=',', index_col=0)\n",
    "    true_t1 = sum(df['Y'] * df['LI'])\n",
    "    valid_y_list, valid_y_num = find_valid_y(df,  num_reads=20)\n",
    "    print(valid_y_list, valid_y_num)\n",
    "    assert valid_y_num[true_t1] > 0\n",
    "    \n",
    "test_find_valid_y()"
   ]
  },
  {
   "cell_type": "code",
   "execution_count": 64,
   "metadata": {},
   "outputs": [
    {
     "name": "stdout",
     "output_type": "stream",
     "text": [
      "[2 2 0 1]\n",
      "[2 2 0 1]\n"
     ]
    }
   ],
   "source": [
    "def test_validity():\n",
    "    df1 = pd.read_csv('../../input/ost6.csv', sep=',',index_col=0)\n",
    "    df2 = pd.read_csv('../../input/ost6.csv', sep=',',index_col=0)\n",
    "    new_y = np.array([1, 0, 0, 0, 0, 1])\n",
    "    df2['Y'] = new_y\n",
    "    t_list1 = calc_marginals(df1)\n",
    "    t_list2 = calc_marginals(df2)\n",
    "    print(t_list1)\n",
    "    print(t_list2)\n",
    "    assert np.all(t_list1[[0,2,3]] == t_list2[[0,2,3]]) \n",
    "\n",
    "#test_validity()"
   ]
  },
  {
   "cell_type": "markdown",
   "metadata": {},
   "source": [
    "## 日記\n",
    " - reinitialize_stateを変化させても結果に違いなし\n",
    " \n",
    "## ヒントとなる？\n",
    "- num_spin_reversal_transforms：アナログエラーを回避できる？スピン反転変換の数を指定。\n",
    "- auto_scale：ℎ と 𝐽 の値の全範囲を明示的に扱う必要をなくすにはTureにする。\n",
    "- annealing_time:トンネルエネルギー（または横方向のエネルギー）A(s)を減らし、ハミルトニアンエネルギーB(s)を増やす、そんな時間。sは0~1。\n",
    "  - トンネルエネルギー: ⊿qと同等。セクション”結合したrf-SQUIDE 量子ビット”で定義されている。\n",
    "  - ハミルトニアンエネルギー：磁束量子ビット体のペア間で達成可能な最大の相互インダクタンスに関するエネルギー\n",
    "- reversal distatnce\n",
    "- max_anneal_schedule_points: PWL(ピースワイズリニア)波形。グローバルアニーリングスケジュールの変更。　pauseやquench(急冷)を導入することで前方向のスケジュールを変更することができる。D-Wave 2000Q システムの場合、スケジュールの最大のポイント数はシステムに依存するらしい。\n",
    "\n",
    "- 永久電流の二次関数的増加、すなわち、𝐵(𝑡)の二次関数的増加を”annealing_time”パラメータによりスケールさせることができる。\n",
    "- D-Wave2000Q では、新しく”anneal_schedule”パラメータによって、アニーリングプロセスの途中でポーズ（一時停止）やクエンチ（急冷）が可能。\n",
    "- ”annealing_time”と”anneal_schedule”パラメータは同時に使えない\n",
    "\n",
    "\n",
    "- スケジュールの変更は、𝑛 対のポイントからなる PWL 波形で制御される。\n",
    "- PWL 波形の各セグメントの最大の傾きは、パラメータ Annealing Slope Rangeで指定された上限値\n",
    "\n",
    "- スピン反転変換はリバース（反転）アニーリングと両立しない\n",
    "\n",
    "- h leakage, NNN(next-nearest neighbor) coupling\n",
    "\n",
    "- 埋め込み：チェーンが必要になることも。3変数(量子)をキメラグラフ（4）に埋め込む場合など。\n",
    "- マイナー埋め込み：論理量子ビットを物理量子ビットにマッピングするプロセス"
   ]
  },
  {
   "cell_type": "code",
   "execution_count": null,
   "metadata": {},
   "outputs": [],
   "source": []
  },
  {
   "cell_type": "code",
   "execution_count": null,
   "metadata": {},
   "outputs": [],
   "source": []
  }
 ],
 "metadata": {
  "kernelspec": {
   "display_name": "Python 3",
   "language": "python",
   "name": "python3"
  },
  "language_info": {
   "codemirror_mode": {
    "name": "ipython",
    "version": 3
   },
   "file_extension": ".py",
   "mimetype": "text/x-python",
   "name": "python",
   "nbconvert_exporter": "python",
   "pygments_lexer": "ipython3",
   "version": "3.8.6"
  }
 },
 "nbformat": 4,
 "nbformat_minor": 4
}
