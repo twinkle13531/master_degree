{
 "cells": [
  {
   "cell_type": "code",
   "execution_count": 1,
   "metadata": {},
   "outputs": [],
   "source": [
    "#!pip3 install dwave-system"
   ]
  },
  {
   "cell_type": "code",
   "execution_count": 2,
   "metadata": {},
   "outputs": [],
   "source": [
    "import pandas as pd \n",
    "import numpy as np\n",
    "from scipy.special import comb\n",
    "import math\n",
    "from neal import SimulatedAnnealingSampler\n",
    "import itertools\n",
    "import random\n",
    "import matplotlib.pyplot as plt\n",
    "from dwave.system.composites import EmbeddingComposite\n",
    "from dwave.system.samplers import DWaveSampler\n",
    "from dwave.embedding.chain_strength import uniform_torque_compensation\n",
    "import dimod\n",
    "import timeit"
   ]
  },
  {
   "cell_type": "code",
   "execution_count": 3,
   "metadata": {},
   "outputs": [],
   "source": [
    "def calc_marginals(df):                   \n",
    "    return np.array([                      \n",
    "        sum(df['Y']),                     \n",
    "        np.dot(df['Y'], df['LI']),      \n",
    "        np.dot(df['Y'], df['SEX']),      \n",
    "        np.dot(df['Y'], df['AOP']),      \n",
    "    ])     "
   ]
  },
  {
   "cell_type": "code",
   "execution_count": 4,
   "metadata": {},
   "outputs": [],
   "source": [
    "def make_Hamiltonian(df, t1):\n",
    "    t_list = calc_marginals(df)\n",
    "    N=len(df)\n",
    "    dup_list = [(i, i) for i in range(N)]\n",
    "    comb_list = [(i, j) for i in range(N) for j in range(i+1, N)]\n",
    "    \n",
    "    lin_Y = [1-2*t_list[0] for (i, _) in dup_list] #同じy同士\n",
    "    quad_Y = [2 for (i, j) in comb_list] #異なるy同士\n",
    "    num_Y = t_list[0]**2 #数字の二乗\n",
    "    \n",
    "    LI = df['LI'].iloc\n",
    "    lin_LI = [(LI[i] - 2 * t1) * LI[i] for (i, _) in dup_list]\n",
    "    quad_LI = [2*LI[i] * LI[j] for (i, j) in comb_list]\n",
    "    num_LI = t1**2\n",
    "    \n",
    "    SEX = df['SEX'].iloc\n",
    "    lin_SEX  = [(SEX[i] - 2 * t_list[2]) * SEX[i] for (i, _) in dup_list]\n",
    "    quad_SEX  = [2*SEX[i] * SEX[j] for (i, j) in comb_list]\n",
    "    num_SEX  = t_list[2]**2\n",
    "    \n",
    "    AOP = df['AOP'].iloc\n",
    "    lin_AOP = [(AOP[i] - 2 * t_list[3]) * AOP[i] for (i, _) in dup_list]\n",
    "    quad_AOP = [2*AOP[i] * AOP[j] for (i, j) in comb_list]\n",
    "    num_AOP = t_list[3]**2\n",
    "    \n",
    "    #lin\n",
    "    lin_list = [sum(lin) for lin in zip(lin_Y, lin_LI, lin_SEX, lin_AOP)]\n",
    "    lin = {i: lin_list[i] for (i, _) in dup_list}\n",
    "    \n",
    "    #quad\n",
    "    quad_values = [sum(quad) for quad in zip(quad_Y, quad_LI, quad_SEX, quad_AOP)]\n",
    "    quad = {ij: quad_values[n] for (n, ij) in enumerate(comb_list)}\n",
    "    \n",
    "    #num\n",
    "    num = num_Y + num_LI + num_SEX + num_AOP\n",
    "    \n",
    "    #print('lin:', lin)\n",
    "    #print('quad:', quad)\n",
    "    #print('num:', num)\n",
    "    return dimod.BinaryQuadraticModel(lin, quad, num, dimod.Vartype.BINARY)#dic, dic, num"
   ]
  },
  {
   "cell_type": "code",
   "execution_count": 71,
   "metadata": {},
   "outputs": [],
   "source": [
    "def find_valid_y(df, num_reads):                                                        \n",
    "    DWAVE_TOKEN=\"TOKY-1319d5c52b9aa35f34b40feba0cea58a4f5d3c09\"\n",
    "    \n",
    "    # dimod sampler\n",
    "    dw_sampler = DWaveSampler(\n",
    "        endpoint=\"https://cloud.dwavesys.com/sapi\",\n",
    "        solver = 'DW_2000Q_6',\n",
    "        token = DWAVE_TOKEN\n",
    "    )\n",
    "    \n",
    "    # インスタンス作成\n",
    "    #qa_sampler = AutoEmbeddingComposite(dw_sampler)\n",
    "    qa_sampler = EmbeddingComposite(dw_sampler)\n",
    "    \n",
    "    t_list = calc_marginals(df)\n",
    "    valid_y_list = {}                                                                   \n",
    "    valid_y_num = {}\n",
    "    \n",
    "    for t1 in range(0, sum(df['LI'])+1):                                                                                                                                                                                                                                               \n",
    "        #bqm\n",
    "        bqm = make_Hamiltonian(df, t1)\n",
    "        \n",
    "        #method\n",
    "        #res = qa_sampler.sample(bqm, return_embedding=True, num_reads=num_reads)\n",
    "        #res = qa_sampler.sample(bqm, chain_strength=3, chain_break_fraction=True, return_embedding=True, num_reads=num_reads)\n",
    "        res = qa_sampler.sample(bqm, chain_break_fraction=False, num_reads=num_reads)\n",
    "        \n",
    "        valid_y_list[t1] = []                                                           \n",
    "        valid_y_num[t1] = 0                                                             \n",
    "        for y_info in list(res.record):\n",
    "            #print(y_info)\n",
    "            if y_info[1] == 0.:\n",
    "                valid_y_num[t1] += 1                                        \n",
    "                valid_y_list[t1].append(list(y_info[0]))                    \n",
    "                #print('energy0')\n",
    "                                                      \n",
    "    return valid_y_list, valid_y_num       "
   ]
  },
  {
   "cell_type": "code",
   "execution_count": 157,
   "metadata": {},
   "outputs": [],
   "source": [
    "import dimod\n",
    "from dwave.system import DWaveSampler, ReverseAdvanceComposite"
   ]
  },
  {
   "cell_type": "code",
   "execution_count": 158,
   "metadata": {},
   "outputs": [],
   "source": [
    "sampler = DWaveSampler(\n",
    "        endpoint=\"https://cloud.dwavesys.com/sapi\",\n",
    "        solver = 'DW_2000Q_6',\n",
    "        token = \"TOKY-1319d5c52b9aa35f34b40feba0cea58a4f5d3c09\")"
   ]
  },
  {
   "cell_type": "code",
   "execution_count": 159,
   "metadata": {},
   "outputs": [
    {
     "data": {
      "text/plain": [
       "BinaryQuadraticModel({0: -8.0, 1: -8.0, 2: -7.0, 3: -8.0, 4: -9.0, 5: -9.0}, {(0, 1): 4, (0, 2): 4, (0, 3): 4, (0, 4): 4, (0, 5): 4, (1, 2): 6, (1, 3): 8, (1, 4): 6, (1, 5): 6, (2, 3): 6, (2, 4): 4, (2, 5): 4, (3, 4): 6, (3, 5): 6, (4, 5): 6}, 14, 'BINARY')"
      ]
     },
     "execution_count": 159,
     "metadata": {},
     "output_type": "execute_result"
    }
   ],
   "source": [
    "df = pd.read_csv('../../input/ost6.csv', sep=',', index_col=0)\n",
    "bqm = make_Hamiltonian(df, 3)\n",
    "bqm"
   ]
  },
  {
   "cell_type": "code",
   "execution_count": 163,
   "metadata": {},
   "outputs": [],
   "source": [
    "qa_sampler = EmbeddingComposite(sampler)"
   ]
  },
  {
   "cell_type": "code",
   "execution_count": 160,
   "metadata": {},
   "outputs": [],
   "source": [
    "sampler_reverse = ReverseAdvanceComposite(sampler)\n",
    "schedule = [[[0.0, 1.0], [t, 0.5], [20, 1.0]] for t in (5, 10, 6)]"
   ]
  },
  {
   "cell_type": "code",
   "execution_count": 161,
   "metadata": {},
   "outputs": [
    {
     "data": {
      "text/plain": [
       "{0: 1, 1: 0, 2: 0, 3: 0, 4: 0, 5: 1}"
      ]
     },
     "execution_count": 161,
     "metadata": {},
     "output_type": "execute_result"
    }
   ],
   "source": [
    "init_samples = {n: y for n, y in enumerate(df['Y'].values.tolist())}\n",
    "init_samples"
   ]
  },
  {
   "cell_type": "code",
   "execution_count": 162,
   "metadata": {},
   "outputs": [
    {
     "ename": "BinaryQuadraticModelStructureError",
     "evalue": "Problem graph incompatible with solver.",
     "output_type": "error",
     "traceback": [
      "\u001b[0;31m\u001b[0m",
      "\u001b[0;31mBinaryQuadraticModelStructureError\u001b[0mTraceback (most recent call last)",
      "\u001b[0;32m<ipython-input-162-336fc82b6e57>\u001b[0m in \u001b[0;36m<module>\u001b[0;34m\u001b[0m\n\u001b[1;32m      3\u001b[0m                                    \u001b[0minitial_state\u001b[0m\u001b[0;34m=\u001b[0m\u001b[0minit_samples\u001b[0m\u001b[0;34m,\u001b[0m\u001b[0;34m\u001b[0m\u001b[0;34m\u001b[0m\u001b[0m\n\u001b[1;32m      4\u001b[0m                                    \u001b[0mnum_reads\u001b[0m\u001b[0;34m=\u001b[0m\u001b[0;36m10\u001b[0m\u001b[0;34m,\u001b[0m\u001b[0;34m\u001b[0m\u001b[0;34m\u001b[0m\u001b[0m\n\u001b[0;32m----> 5\u001b[0;31m                                    reinitialize_state=True)  # doctest: +SKIP\n\u001b[0m\u001b[1;32m      6\u001b[0m \u001b[0msampleset\u001b[0m\u001b[0;34m\u001b[0m\u001b[0;34m\u001b[0m\u001b[0m\n",
      "\u001b[0;32m/usr/local/lib/python3.6/dist-packages/dwave/system/composites/reversecomposite.py\u001b[0m in \u001b[0;36msample\u001b[0;34m(self, bqm, anneal_schedules, **parameters)\u001b[0m\n\u001b[1;32m    149\u001b[0m         \u001b[0;32mfor\u001b[0m \u001b[0mschedule_idx\u001b[0m\u001b[0;34m,\u001b[0m \u001b[0manneal_schedule\u001b[0m \u001b[0;32min\u001b[0m \u001b[0menumerate\u001b[0m\u001b[0;34m(\u001b[0m\u001b[0manneal_schedules\u001b[0m\u001b[0;34m)\u001b[0m\u001b[0;34m:\u001b[0m\u001b[0;34m\u001b[0m\u001b[0;34m\u001b[0m\u001b[0m\n\u001b[1;32m    150\u001b[0m             sampleset = child.sample(bqm, anneal_schedule=anneal_schedule, initial_state=initial_state,\n\u001b[0;32m--> 151\u001b[0;31m                                      **parameters)\n\u001b[0m\u001b[1;32m    152\u001b[0m \u001b[0;34m\u001b[0m\u001b[0m\n\u001b[1;32m    153\u001b[0m             \u001b[0;31m# update vectors\u001b[0m\u001b[0;34m\u001b[0m\u001b[0;34m\u001b[0m\u001b[0;34m\u001b[0m\u001b[0m\n",
      "\u001b[0;32m/usr/local/lib/python3.6/dist-packages/dwave/system/samplers/dwave_sampler.py\u001b[0m in \u001b[0;36mwrapper\u001b[0;34m(sampler, *args, **kwargs)\u001b[0m\n\u001b[1;32m     46\u001b[0m         \u001b[0;32mwhile\u001b[0m \u001b[0;32mTrue\u001b[0m\u001b[0;34m:\u001b[0m\u001b[0;34m\u001b[0m\u001b[0;34m\u001b[0m\u001b[0m\n\u001b[1;32m     47\u001b[0m             \u001b[0;32mtry\u001b[0m\u001b[0;34m:\u001b[0m\u001b[0;34m\u001b[0m\u001b[0;34m\u001b[0m\u001b[0m\n\u001b[0;32m---> 48\u001b[0;31m                 \u001b[0;32mreturn\u001b[0m \u001b[0mf\u001b[0m\u001b[0;34m(\u001b[0m\u001b[0msampler\u001b[0m\u001b[0;34m,\u001b[0m \u001b[0;34m*\u001b[0m\u001b[0margs\u001b[0m\u001b[0;34m,\u001b[0m \u001b[0;34m**\u001b[0m\u001b[0mkwargs\u001b[0m\u001b[0;34m)\u001b[0m\u001b[0;34m\u001b[0m\u001b[0;34m\u001b[0m\u001b[0m\n\u001b[0m\u001b[1;32m     49\u001b[0m             \u001b[0;32mexcept\u001b[0m \u001b[0mSolverOfflineError\u001b[0m \u001b[0;32mas\u001b[0m \u001b[0merr\u001b[0m\u001b[0;34m:\u001b[0m\u001b[0;34m\u001b[0m\u001b[0;34m\u001b[0m\u001b[0m\n\u001b[1;32m     50\u001b[0m                 \u001b[0;32mif\u001b[0m \u001b[0;32mnot\u001b[0m \u001b[0msampler\u001b[0m\u001b[0;34m.\u001b[0m\u001b[0mfailover\u001b[0m\u001b[0;34m:\u001b[0m\u001b[0;34m\u001b[0m\u001b[0;34m\u001b[0m\u001b[0m\n",
      "\u001b[0;32m/usr/local/lib/python3.6/dist-packages/dwave/system/samplers/dwave_sampler.py\u001b[0m in \u001b[0;36msample\u001b[0;34m(self, bqm, warnings, **kwargs)\u001b[0m\n\u001b[1;32m    339\u001b[0m                 solver.edges.issuperset(bqm.quadratic)):\n\u001b[1;32m    340\u001b[0m             \u001b[0mmsg\u001b[0m \u001b[0;34m=\u001b[0m \u001b[0;34m\"Problem graph incompatible with solver.\"\u001b[0m\u001b[0;34m\u001b[0m\u001b[0;34m\u001b[0m\u001b[0m\n\u001b[0;32m--> 341\u001b[0;31m             \u001b[0;32mraise\u001b[0m \u001b[0mBinaryQuadraticModelStructureError\u001b[0m\u001b[0;34m(\u001b[0m\u001b[0mmsg\u001b[0m\u001b[0;34m)\u001b[0m\u001b[0;34m\u001b[0m\u001b[0;34m\u001b[0m\u001b[0m\n\u001b[0m\u001b[1;32m    342\u001b[0m \u001b[0;34m\u001b[0m\u001b[0m\n\u001b[1;32m    343\u001b[0m         \u001b[0mfuture\u001b[0m \u001b[0;34m=\u001b[0m \u001b[0msolver\u001b[0m\u001b[0;34m.\u001b[0m\u001b[0msample_bqm\u001b[0m\u001b[0;34m(\u001b[0m\u001b[0mbqm\u001b[0m\u001b[0;34m,\u001b[0m \u001b[0;34m**\u001b[0m\u001b[0mkwargs\u001b[0m\u001b[0;34m)\u001b[0m\u001b[0;34m\u001b[0m\u001b[0;34m\u001b[0m\u001b[0m\n",
      "\u001b[0;31mBinaryQuadraticModelStructureError\u001b[0m: Problem graph incompatible with solver."
     ]
    }
   ],
   "source": [
    "sampleset = sampler_reverse.sample(bqm,\n",
    "                                   anneal_schedules=schedule,\n",
    "                                   initial_state=init_samples,\n",
    "                                   num_reads=10,\n",
    "                                   reinitialize_state=True)  # doctest: +SKIP\n",
    "sampleset"
   ]
  },
  {
   "cell_type": "code",
   "execution_count": null,
   "metadata": {},
   "outputs": [],
   "source": []
  },
  {
   "cell_type": "code",
   "execution_count": 93,
   "metadata": {},
   "outputs": [],
   "source": [
    "sampler_reverse = ReverseBatchStatesComposite(sampler)   # doctest: +SKIP\n",
    "schedule = [[0.0, 1.0], [10.0, 0.5], [20, 1.0]]\n",
    "df = pd.read_csv('../../input/ost6.csv', sep=',', index_col=0)\n",
    "bqm = make_Hamiltonian(df, 3)"
   ]
  },
  {
   "cell_type": "code",
   "execution_count": 95,
   "metadata": {},
   "outputs": [
    {
     "name": "stdout",
     "output_type": "stream",
     "text": [
      "{0: 1, 1: 0, 2: 0, 3: 0, 4: 0, 5: 1}\n",
      "[1, 0, 0, 0, 0, 1]\n"
     ]
    }
   ],
   "source": [
    "init_samples = {n: y for n, y in enumerate(df['Y'].values.tolist())}\n",
    "#init_samples_ = df['Y'].values.tolist()\n",
    "print(init_samples)\n",
    "#print(init_samples_)\n",
    "\n",
    "initial_state = init_samples"
   ]
  },
  {
   "cell_type": "code",
   "execution_count": 137,
   "metadata": {},
   "outputs": [],
   "source": [
    "schedule = [[0.0, 1.0], [10.0, 0.5], [20, 1.0]]"
   ]
  },
  {
   "cell_type": "code",
   "execution_count": 138,
   "metadata": {},
   "outputs": [
    {
     "data": {
      "text/plain": [
       "SampleSet(rec.array([([1, 0, 0, 0, 1, 0],  1.,  1, 0.        , [-1, -1, -1, -1, -1, -1, -1, -1, -1, -1, -1, -1, -1, -1, -1]),\n",
       "           ([0, 0, 0, 0, 1, 1],  2., 23, 0.        , [-1, -1, -1, -1, -1, -1, -1, -1, -1, -1, -1, -1, -1, -1, -1]),\n",
       "           ([0, 1, 0, 0, 0, 1],  3.,  1, 0.        , [-1, -1, -1, -1, -1, -1, -1, -1, -1, -1, -1, -1, -1, -1, -1]),\n",
       "           ([0, 0, 0, 0, 0, 1],  5., 27, 0.16666667, [-1, -1, -1, -1, -1, -1, -1, -1, -1, -1, -1, -1, -1, -1, -1]),\n",
       "           ([0, 0, 0, 0, 1, 0],  5., 40, 0.16666667, [-1, -1, -1, -1, -1, -1, -1, -1, -1, -1, -1, -1, -1, -1, -1]),\n",
       "           ([0, 0, 0, 0, 0, 1],  5.,  4, 0.        , [-1, -1, -1, -1, -1, -1, -1, -1, -1, -1, -1, -1, -1, -1, -1]),\n",
       "           ([0, 0, 0, 0, 1, 0],  5.,  4, 0.        , [-1, -1, -1, -1, -1, -1, -1, -1, -1, -1, -1, -1, -1, -1, -1]),\n",
       "           ([1, 0, 0, 0, 1, 1],  2.,  9, 0.        , [ 1,  1,  1,  1,  1,  1,  1,  1,  1,  1,  1,  1,  1,  1,  1]),\n",
       "           ([0, 0, 1, 0, 1, 1],  3.,  2, 0.        , [ 1,  1,  1,  1,  1,  1,  1,  1,  1,  1,  1,  1,  1,  1,  1]),\n",
       "           ([1, 1, 0, 0, 0, 1],  3.,  1, 0.        , [ 1,  1,  1,  1,  1,  1,  1,  1,  1,  1,  1,  1,  1,  1,  1]),\n",
       "           ([1, 0, 1, 1, 0, 0],  5.,  4, 0.        , [ 1,  1,  1,  1,  1,  1,  1,  1,  1,  1,  1,  1,  1,  1,  1]),\n",
       "           ([1, 1, 1, 0, 0, 0],  5.,  4, 0.        , [ 1,  1,  1,  1,  1,  1,  1,  1,  1,  1,  1,  1,  1,  1,  1]),\n",
       "           ([0, 1, 1, 0, 0, 1],  6.,  1, 0.        , [ 1,  1,  1,  1,  1,  1,  1,  1,  1,  1,  1,  1,  1,  1,  1]),\n",
       "           ([1, 0, 1, 0, 1, 1],  7., 53, 0.        , [ 1,  1,  1,  1,  1,  1,  1,  1,  1,  1,  1,  1,  1,  1,  1]),\n",
       "           ([1, 0, 1, 1, 0, 1], 10.,  4, 0.        , [ 1,  1,  1,  1,  1,  1,  1,  1,  1,  1,  1,  1,  1,  1,  1]),\n",
       "           ([1, 1, 1, 0, 0, 1], 10., 12, 0.        , [ 1,  1,  1,  1,  1,  1,  1,  1,  1,  1,  1,  1,  1,  1,  1]),\n",
       "           ([1, 1, 1, 0, 1, 0], 10., 10, 0.        , [ 1,  1,  1,  1,  1,  1,  1,  1,  1,  1,  1,  1,  1,  1,  1])],\n",
       "          dtype=[('sample', 'i1', (6,)), ('energy', '<f8'), ('num_occurrences', '<i8'), ('chain_break_fraction', '<f8'), ('initial_state', 'i1', (15,))]), [0, 1, 2, 3, 4, 5], {}, 'BINARY')"
      ]
     },
     "execution_count": 138,
     "metadata": {},
     "output_type": "execute_result"
    }
   ],
   "source": [
    "sampleset = sampler_reverse.sample(bqm,\n",
    "                                   anneal_schedule=schedule,\n",
    "                                   initial_states=init_samples,\n",
    "                                   num_reads=100,\n",
    "                                   reinitialize_state=True)  # doctest: +SKIP\n",
    "sampleset"
   ]
  },
  {
   "cell_type": "code",
   "execution_count": 141,
   "metadata": {},
   "outputs": [
    {
     "name": "stdout",
     "output_type": "stream",
     "text": [
      "[2 2 0 1]\n",
      "[2 2 1 2]\n"
     ]
    },
    {
     "ename": "AssertionError",
     "evalue": "",
     "output_type": "error",
     "traceback": [
      "\u001b[0;31m\u001b[0m",
      "\u001b[0;31mAssertionError\u001b[0mTraceback (most recent call last)",
      "\u001b[0;32m<ipython-input-141-29187be6e091>\u001b[0m in \u001b[0;36m<module>\u001b[0;34m\u001b[0m\n\u001b[1;32m      9\u001b[0m     \u001b[0mprint\u001b[0m\u001b[0;34m(\u001b[0m\u001b[0mt_list2\u001b[0m\u001b[0;34m)\u001b[0m\u001b[0;34m\u001b[0m\u001b[0;34m\u001b[0m\u001b[0m\n\u001b[1;32m     10\u001b[0m     \u001b[0;32massert\u001b[0m \u001b[0mnp\u001b[0m\u001b[0;34m.\u001b[0m\u001b[0mall\u001b[0m\u001b[0;34m(\u001b[0m\u001b[0mt_list1\u001b[0m\u001b[0;34m[\u001b[0m\u001b[0;34m[\u001b[0m\u001b[0;36m0\u001b[0m\u001b[0;34m,\u001b[0m\u001b[0;36m2\u001b[0m\u001b[0;34m,\u001b[0m\u001b[0;36m3\u001b[0m\u001b[0;34m]\u001b[0m\u001b[0;34m]\u001b[0m \u001b[0;34m==\u001b[0m \u001b[0mt_list2\u001b[0m\u001b[0;34m[\u001b[0m\u001b[0;34m[\u001b[0m\u001b[0;36m0\u001b[0m\u001b[0;34m,\u001b[0m\u001b[0;36m2\u001b[0m\u001b[0;34m,\u001b[0m\u001b[0;36m3\u001b[0m\u001b[0;34m]\u001b[0m\u001b[0;34m]\u001b[0m\u001b[0;34m)\u001b[0m\u001b[0;34m\u001b[0m\u001b[0;34m\u001b[0m\u001b[0m\n\u001b[0;32m---> 11\u001b[0;31m \u001b[0mtest_validity\u001b[0m\u001b[0;34m(\u001b[0m\u001b[0;34m)\u001b[0m\u001b[0;34m\u001b[0m\u001b[0;34m\u001b[0m\u001b[0m\n\u001b[0m",
      "\u001b[0;32m<ipython-input-141-29187be6e091>\u001b[0m in \u001b[0;36mtest_validity\u001b[0;34m()\u001b[0m\n\u001b[1;32m      8\u001b[0m     \u001b[0mprint\u001b[0m\u001b[0;34m(\u001b[0m\u001b[0mt_list1\u001b[0m\u001b[0;34m)\u001b[0m\u001b[0;34m\u001b[0m\u001b[0;34m\u001b[0m\u001b[0m\n\u001b[1;32m      9\u001b[0m     \u001b[0mprint\u001b[0m\u001b[0;34m(\u001b[0m\u001b[0mt_list2\u001b[0m\u001b[0;34m)\u001b[0m\u001b[0;34m\u001b[0m\u001b[0;34m\u001b[0m\u001b[0m\n\u001b[0;32m---> 10\u001b[0;31m     \u001b[0;32massert\u001b[0m \u001b[0mnp\u001b[0m\u001b[0;34m.\u001b[0m\u001b[0mall\u001b[0m\u001b[0;34m(\u001b[0m\u001b[0mt_list1\u001b[0m\u001b[0;34m[\u001b[0m\u001b[0;34m[\u001b[0m\u001b[0;36m0\u001b[0m\u001b[0;34m,\u001b[0m\u001b[0;36m2\u001b[0m\u001b[0;34m,\u001b[0m\u001b[0;36m3\u001b[0m\u001b[0;34m]\u001b[0m\u001b[0;34m]\u001b[0m \u001b[0;34m==\u001b[0m \u001b[0mt_list2\u001b[0m\u001b[0;34m[\u001b[0m\u001b[0;34m[\u001b[0m\u001b[0;36m0\u001b[0m\u001b[0;34m,\u001b[0m\u001b[0;36m2\u001b[0m\u001b[0;34m,\u001b[0m\u001b[0;36m3\u001b[0m\u001b[0;34m]\u001b[0m\u001b[0;34m]\u001b[0m\u001b[0;34m)\u001b[0m\u001b[0;34m\u001b[0m\u001b[0;34m\u001b[0m\u001b[0m\n\u001b[0m\u001b[1;32m     11\u001b[0m \u001b[0mtest_validity\u001b[0m\u001b[0;34m(\u001b[0m\u001b[0;34m)\u001b[0m\u001b[0;34m\u001b[0m\u001b[0;34m\u001b[0m\u001b[0m\n",
      "\u001b[0;31mAssertionError\u001b[0m: "
     ]
    }
   ],
   "source": [
    "def test_validity():\n",
    "    df1 = pd.read_csv('../../input/ost6.csv', sep=',',index_col=0)\n",
    "    df2 = pd.read_csv('../../input/ost6.csv', sep=',',index_col=0)\n",
    "    new_y = np.array([0, 1, 0, 0, 0, 1])\n",
    "    df2['Y'] = new_y\n",
    "    t_list1 = calc_marginals(df1)\n",
    "    t_list2 = calc_marginals(df2)\n",
    "    print(t_list1)\n",
    "    print(t_list2)\n",
    "    assert np.all(t_list1[[0,2,3]] == t_list2[[0,2,3]]) \n",
    "test_validity()"
   ]
  },
  {
   "cell_type": "code",
   "execution_count": null,
   "metadata": {},
   "outputs": [],
   "source": []
  },
  {
   "cell_type": "code",
   "execution_count": 72,
   "metadata": {},
   "outputs": [],
   "source": [
    "def time_measurement(df):\n",
    "    sum_time = 0\n",
    "    annealing_time = 20\n",
    "    for t1 in range(0, sum(df['LI'])+1):\n",
    "        timeit_repeat = timeit.repeat(\"make_Hamiltonian(df, t1)\", number=1, repeat=1, globals={\"make_Hamiltonian\": make_Hamiltonian, \"df\": df, \"t1\": t1})\n",
    "        sum_time += timeit_repeat[0] + annealing_time\n",
    "    return sum_time"
   ]
  },
  {
   "cell_type": "code",
   "execution_count": 73,
   "metadata": {},
   "outputs": [
    {
     "name": "stdout",
     "output_type": "stream",
     "text": [
      "{0: [], 1: [], 2: [[1, 0, 0, 0, 0, 1], [1, 0, 0, 0, 1, 0]], 3: [], 4: [], 5: [], 6: []} {0: 0, 1: 0, 2: 2, 3: 0, 4: 0, 5: 0, 6: 0}\n"
     ]
    }
   ],
   "source": [
    "#==========\n",
    "#テストコード\n",
    "#==========\n",
    "def test_find_valid_y():\n",
    "    df = pd.read_csv('../../input/ost6.csv', sep=',', index_col=0)\n",
    "    true_t1 = sum(df['Y'] * df['LI'])\n",
    "    valid_y_list, valid_y_num = find_valid_y(df,  num_reads=20)\n",
    "    print(valid_y_list, valid_y_num)\n",
    "    assert valid_y_num[true_t1] > 0\n",
    "    \n",
    "test_find_valid_y()"
   ]
  },
  {
   "cell_type": "code",
   "execution_count": 64,
   "metadata": {},
   "outputs": [
    {
     "name": "stdout",
     "output_type": "stream",
     "text": [
      "[2 2 0 1]\n",
      "[2 2 0 1]\n"
     ]
    }
   ],
   "source": [
    "def test_validity():\n",
    "    df1 = pd.read_csv('../../input/ost6.csv', sep=',',index_col=0)\n",
    "    df2 = pd.read_csv('../../input/ost6.csv', sep=',',index_col=0)\n",
    "    new_y = np.array([1, 0, 0, 0, 0, 1])\n",
    "    df2['Y'] = new_y\n",
    "    t_list1 = calc_marginals(df1)\n",
    "    t_list2 = calc_marginals(df2)\n",
    "    print(t_list1)\n",
    "    print(t_list2)\n",
    "    assert np.all(t_list1[[0,2,3]] == t_list2[[0,2,3]]) \n",
    "\n",
    "#test_validity()"
   ]
  },
  {
   "cell_type": "code",
   "execution_count": null,
   "metadata": {},
   "outputs": [],
   "source": []
  },
  {
   "cell_type": "code",
   "execution_count": null,
   "metadata": {},
   "outputs": [],
   "source": []
  },
  {
   "cell_type": "code",
   "execution_count": null,
   "metadata": {},
   "outputs": [],
   "source": []
  }
 ],
 "metadata": {
  "kernelspec": {
   "display_name": "Python 3",
   "language": "python",
   "name": "python3"
  },
  "language_info": {
   "codemirror_mode": {
    "name": "ipython",
    "version": 3
   },
   "file_extension": ".py",
   "mimetype": "text/x-python",
   "name": "python",
   "nbconvert_exporter": "python",
   "pygments_lexer": "ipython3",
   "version": "3.8.6"
  }
 },
 "nbformat": 4,
 "nbformat_minor": 4
}
