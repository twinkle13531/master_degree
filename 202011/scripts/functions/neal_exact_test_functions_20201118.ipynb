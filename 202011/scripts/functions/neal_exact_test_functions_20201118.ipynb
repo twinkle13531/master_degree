{
 "cells": [
  {
   "cell_type": "code",
   "execution_count": 11,
   "metadata": {},
   "outputs": [],
   "source": [
    "import pandas as pd                                         \n",
    "import numpy as np                                              \n",
    "from scipy.special import comb                                      \n",
    "import math\n",
    "from operator import mul\n",
    "import neal \n",
    "import dimod                                                       \n",
    "import random                                                           \n",
    "import matplotlib.pyplot as plt                                         \n",
    "import timeit\n",
    "from itertools import combinations"
   ]
  },
  {
   "cell_type": "code",
   "execution_count": 12,
   "metadata": {},
   "outputs": [],
   "source": [
    "def calc_marginals(df):                   \n",
    "    return np.array([                      \n",
    "        sum(df['Y']),                     \n",
    "        np.dot(df['Y'], df['LI']),      \n",
    "        np.dot(df['Y'], df['SEX']),      \n",
    "        np.dot(df['Y'], df['AOP']),      \n",
    "    ])                                 "
   ]
  },
  {
   "cell_type": "code",
   "execution_count": 13,
   "metadata": {},
   "outputs": [],
   "source": [
    "def make_Hamiltonian(df, t1):\n",
    "    t_list = calc_marginals(df)\n",
    "    ## サイズは確かにdf.shape[0]ですが、あらけじめNという変数に格納しておくと可読性が上がります。\n",
    "    ## 変数は関数の中で使うときに混同がおこらなければもっと短くてかまいません。\n",
    "    N=len(df)\n",
    "    dup_list = [(i, i) for i in range(N)]\n",
    "    comb_list = [(i, j) for i in range(N) for j in range(i+1, N)]\n",
    "    \n",
    "    lin_Y = [1-2*t_list[0] for (i, _) in dup_list] #同じy同士\n",
    "    quad_Y = [2 for (i, j) in comb_list] #異なるy同士\n",
    "    num_Y = t_list[0]**2 #数字の二乗\n",
    "    \n",
    "    LI = df['LI'].iloc\n",
    "    lin_LI = [(LI[i] - 2 * t1) * LI[i] for (i, _) in dup_list]\n",
    "    quad_LI = [2*LI[i] * LI[j] for (i, j) in comb_list]\n",
    "    num_LI = t1**2\n",
    "    \n",
    "    SEX = df['SEX'].iloc\n",
    "    lin_SEX  = [(SEX[i] - 2 * t_list[2]) * SEX[i] for (i, _) in dup_list]\n",
    "    quad_SEX  = [2*SEX[i] * SEX[j] for (i, j) in comb_list]\n",
    "    num_SEX  = t_list[2]**2\n",
    "    \n",
    "    AOP = df['AOP'].iloc\n",
    "    lin_AOP = [(AOP[i] - 2 * t_list[3]) * AOP[i] for (i, _) in dup_list]\n",
    "    quad_AOP = [2*AOP[i] * AOP[j] for (i, j) in comb_list]\n",
    "    num_AOP = t_list[3]**2\n",
    "    \n",
    "    ## zipは二つ以上のリストを引数にとることができるのと、\n",
    "    ## リスト内包表記は、辞書をつくるときにも使えるので、\n",
    "    ## コードを短くできます。\n",
    "    ##統合作業\n",
    "    #lin\n",
    "    lin_list = [sum(lin) for lin in zip(lin_Y, lin_LI, lin_SEX, lin_AOP)]\n",
    "    lin = {i: lin_list[i] for (i, _) in dup_list}\n",
    "    \n",
    "    #quad\n",
    "    quad_values = [sum(quad) for quad in zip(quad_Y, quad_LI, quad_SEX, quad_AOP)]\n",
    "    quad = {ij: quad_values[n] for (n, ij) in enumerate(comb_list)}\n",
    "    \n",
    "    #num\n",
    "    num = num_Y + num_LI + num_SEX + num_AOP\n",
    "    #print('lin:', lin)\n",
    "    #print('quad:', quad)\n",
    "    #print('num:', num)\n",
    "    \n",
    "    return dimod.BinaryQuadraticModel(lin, quad, num, dimod.Vartype.BINARY)#dic, dic, num"
   ]
  },
  {
   "cell_type": "code",
   "execution_count": null,
   "metadata": {},
   "outputs": [],
   "source": [
    "def find_valid_y(df, num_reads):                                                        \n",
    "    sa_sampler = neal.sampler.SimulatedAnnealingSampler()\n",
    "    \n",
    "    use_qubits = df['Y'].values.tolist()\n",
    "    unuse_qubits = [3]*(2048-len(df))\n",
    "    #initial_states = use_qubits + unuse_qubits\n",
    "    initial_states = use_qubits\n",
    "    \n",
    "    t_list = calc_marginals(df)\n",
    "    \n",
    "    valid_y_list = {}                                                                   \n",
    "    valid_y_num = {}                                                                    \n",
    "    for t1 in range(0, sum(df['LI'])+1):                                                                                                                                                                                                                                               \n",
    "        bqm = make_Hamiltonian(df, t1)\n",
    "        res = sa_sampler.sample(\n",
    "            bqm, num_reads=num_reads, \n",
    "            initial_states=initial_states, \n",
    "            initial_states_generator='tile'\n",
    "        )\n",
    "        #res = sa_sampler.sample(\n",
    "            bqm, seed=1234, beta_range=[0.1, 4.2], num_reads=num_reads, \n",
    "            initial_states=initial_states, initial_states_generator='tile')\n",
    "                                                                                        \n",
    "        valid_y_list[t1] = []                                                           \n",
    "        valid_y_num[t1] = 0                                                             \n",
    "        for y_info in list(res.record):                                                 \n",
    "            if y_info[1] == 0.:\n",
    "                valid_y_num[t1] += 1                                        \n",
    "                valid_y_list[t1].append(list(y_info[0]))                    \n",
    "                #print('energy0')\n",
    "                                                   \n",
    "    return valid_y_list, valid_y_num                                                                                                                                          "
   ]
  },
  {
   "cell_type": "code",
   "execution_count": 15,
   "metadata": {},
   "outputs": [],
   "source": [
    "#==========\n",
    "#テストコード\n",
    "#==========\n",
    "def test_find_valid_y():\n",
    "    df = pd.read_csv('../../input/ost20.csv', sep=',', index_col=0)\n",
    "    true_t1 = sum(df['Y'] * df['LI'])\n",
    "    valid_y_list, valid_y_num = find_valid_y(df,  num_reads = 10)\n",
    "    print(valid_y_list, valid_y_num)\n",
    "    assert valid_y_num[true_t1] > 0  \n",
    "    \n",
    "#test_find_valid_y()"
   ]
  },
  {
   "cell_type": "code",
   "execution_count": 16,
   "metadata": {},
   "outputs": [],
   "source": [
    "def test_validity(canditate_list):\n",
    "    df1 = pd.read_csv('../../input/ost20.csv', sep=',',index_col=0)\n",
    "    df2 = pd.read_csv('../../input/ost20.csv', sep=',',index_col=0)\n",
    "    new_y = np.array(canditate_list)\n",
    "    df2['Y'] = new_y\n",
    "    t_list1 = calc_marginals(df1)\n",
    "    t_list2 = calc_marginals(df2)\n",
    "    print(t_list1)\n",
    "    print(t_list2)\n",
    "    assert np.all(t_list1[[0,2,3]] == t_list2[[0,2,3]]) \n",
    "\n",
    "#test_validity()"
   ]
  },
  {
   "cell_type": "code",
   "execution_count": null,
   "metadata": {},
   "outputs": [],
   "source": []
  },
  {
   "cell_type": "code",
   "execution_count": null,
   "metadata": {},
   "outputs": [],
   "source": []
  }
 ],
 "metadata": {
  "kernelspec": {
   "display_name": "Python 3",
   "language": "python",
   "name": "python3"
  },
  "language_info": {
   "codemirror_mode": {
    "name": "ipython",
    "version": 3
   },
   "file_extension": ".py",
   "mimetype": "text/x-python",
   "name": "python",
   "nbconvert_exporter": "python",
   "pygments_lexer": "ipython3",
   "version": "3.8.6"
  }
 },
 "nbformat": 4,
 "nbformat_minor": 4
}
