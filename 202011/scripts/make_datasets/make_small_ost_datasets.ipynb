{
 "cells": [
  {
   "cell_type": "code",
   "execution_count": 7,
   "metadata": {},
   "outputs": [],
   "source": [
    "import pandas as pd\n",
    "import numpy as np"
   ]
  },
  {
   "cell_type": "code",
   "execution_count": 8,
   "metadata": {},
   "outputs": [],
   "source": [
    "def mak_ost_df(ost, num_sample):\n",
    "    ost_df = pd.DataFrame(columns = ost.columns[:-1])\n",
    "    for i in range(ost.shape[0]):\n",
    "        for ii in range(ost.iloc[i, -1]):\n",
    "            ost_df = ost_df.append(ost.iloc[i, :-1])\n",
    "             \n",
    "    ost_num_df = ost_df.sample(n=num_sample)\n",
    "    ost_num_df = ost_num_df.reset_index(drop=True)\n",
    "    \n",
    "    path = '../../input/ost{}.csv'.format(num_sample)\n",
    "    return ost_num_df.to_csv(path)"
   ]
  },
  {
   "cell_type": "code",
   "execution_count": null,
   "metadata": {},
   "outputs": [],
   "source": []
  }
 ],
 "metadata": {
  "kernelspec": {
   "display_name": "Python 3",
   "language": "python",
   "name": "python3"
  },
  "language_info": {
   "codemirror_mode": {
    "name": "ipython",
    "version": 3
   },
   "file_extension": ".py",
   "mimetype": "text/x-python",
   "name": "python",
   "nbconvert_exporter": "python",
   "pygments_lexer": "ipython3",
   "version": "3.6.9"
  }
 },
 "nbformat": 4,
 "nbformat_minor": 4
}
