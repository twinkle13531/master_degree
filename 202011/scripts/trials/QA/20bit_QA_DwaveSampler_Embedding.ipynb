{
 "cells": [
  {
   "cell_type": "code",
   "execution_count": 12,
   "metadata": {},
   "outputs": [],
   "source": [
    "%run ../functions/QA_DwaveSampler_Embedding.ipynb"
   ]
  },
  {
   "cell_type": "markdown",
   "metadata": {},
   "source": [
    "# 20bit data"
   ]
  },
  {
   "cell_type": "code",
   "execution_count": 13,
   "metadata": {},
   "outputs": [
    {
     "name": "stdout",
     "output_type": "stream",
     "text": [
      "20 bit datasets t1: 9\n"
     ]
    }
   ],
   "source": [
    "df = pd.read_csv('../../input/ost20.csv', sep=',', index_col=0)\n",
    "print('20 bit datasets t1:', calc_marginals(df)[1])"
   ]
  },
  {
   "cell_type": "markdown",
   "metadata": {},
   "source": [
    "## chain_strengthを色々変えて実施"
   ]
  },
  {
   "cell_type": "code",
   "execution_count": 18,
   "metadata": {},
   "outputs": [
    {
     "data": {
      "text/plain": [
       "({0: [],\n",
       "  1: [],\n",
       "  2: [],\n",
       "  3: [],\n",
       "  4: [],\n",
       "  5: [],\n",
       "  6: [],\n",
       "  7: [],\n",
       "  8: [],\n",
       "  9: [],\n",
       "  10: [[1, 1, 1, 1, 0, 1, 1, 0, 1, 1, 1, 0, 0, 0, 0, 0, 0, 1, 1, 1]],\n",
       "  11: [],\n",
       "  12: [],\n",
       "  13: [],\n",
       "  14: [],\n",
       "  15: [],\n",
       "  16: [],\n",
       "  17: []},\n",
       " {0: 0,\n",
       "  1: 0,\n",
       "  2: 0,\n",
       "  3: 0,\n",
       "  4: 0,\n",
       "  5: 0,\n",
       "  6: 0,\n",
       "  7: 0,\n",
       "  8: 0,\n",
       "  9: 0,\n",
       "  10: 1,\n",
       "  11: 0,\n",
       "  12: 0,\n",
       "  13: 0,\n",
       "  14: 0,\n",
       "  15: 0,\n",
       "  16: 0,\n",
       "  17: 0})"
      ]
     },
     "execution_count": 18,
     "metadata": {},
     "output_type": "execute_result"
    }
   ],
   "source": [
    "num_reads = 10\n",
    "chain_strength_max = 10\n",
    "find_valid_y_4(df, num_reads, chain_strength_max)"
   ]
  },
  {
   "cell_type": "code",
   "execution_count": null,
   "metadata": {},
   "outputs": [],
   "source": []
  },
  {
   "cell_type": "code",
   "execution_count": 17,
   "metadata": {},
   "outputs": [
    {
     "data": {
      "text/plain": [
       "({0: [],\n",
       "  1: [],\n",
       "  2: [],\n",
       "  3: [],\n",
       "  4: [],\n",
       "  5: [],\n",
       "  6: [],\n",
       "  7: [],\n",
       "  8: [],\n",
       "  9: [[1, 1, 1, 1, 1, 1, 0, 1, 0, 0, 1, 0, 1, 0, 1, 0, 0, 1, 1, 0]],\n",
       "  10: [],\n",
       "  11: [],\n",
       "  12: [],\n",
       "  13: [],\n",
       "  14: [],\n",
       "  15: [],\n",
       "  16: [],\n",
       "  17: []},\n",
       " {0: 0,\n",
       "  1: 0,\n",
       "  2: 0,\n",
       "  3: 0,\n",
       "  4: 0,\n",
       "  5: 0,\n",
       "  6: 0,\n",
       "  7: 0,\n",
       "  8: 0,\n",
       "  9: 1,\n",
       "  10: 0,\n",
       "  11: 0,\n",
       "  12: 0,\n",
       "  13: 0,\n",
       "  14: 0,\n",
       "  15: 0,\n",
       "  16: 0,\n",
       "  17: 0})"
      ]
     },
     "execution_count": 17,
     "metadata": {},
     "output_type": "execute_result"
    }
   ],
   "source": [
    "num_reads = 100\n",
    "find_valid_y_1(df, num_reads)"
   ]
  },
  {
   "cell_type": "code",
   "execution_count": null,
   "metadata": {},
   "outputs": [],
   "source": []
  },
  {
   "cell_type": "code",
   "execution_count": null,
   "metadata": {},
   "outputs": [],
   "source": []
  }
 ],
 "metadata": {
  "kernelspec": {
   "display_name": "Python 3",
   "language": "python",
   "name": "python3"
  },
  "language_info": {
   "codemirror_mode": {
    "name": "ipython",
    "version": 3
   },
   "file_extension": ".py",
   "mimetype": "text/x-python",
   "name": "python",
   "nbconvert_exporter": "python",
   "pygments_lexer": "ipython3",
   "version": "3.8.6"
  }
 },
 "nbformat": 4,
 "nbformat_minor": 4
}
