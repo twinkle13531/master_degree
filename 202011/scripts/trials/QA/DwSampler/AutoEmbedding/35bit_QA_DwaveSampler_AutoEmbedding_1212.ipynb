{
 "cells": [
  {
   "cell_type": "code",
   "execution_count": 1,
   "metadata": {},
   "outputs": [
    {
     "name": "stdout",
     "output_type": "stream",
     "text": [
      "/Users/shihosato/src/github.com/twinkle13531/master_degree/202011/scripts/trials/QA/DwSampler/AutoEmbedding\n"
     ]
    }
   ],
   "source": [
    "!pwd"
   ]
  },
  {
   "cell_type": "code",
   "execution_count": 2,
   "metadata": {},
   "outputs": [],
   "source": [
    "%load_ext autoreload\n",
    "%autoreload 2"
   ]
  },
  {
   "cell_type": "code",
   "execution_count": 3,
   "metadata": {},
   "outputs": [],
   "source": [
    "import sys, os\n",
    "sys.path.append(os.path.join('..', '..', '..', '..','functions', 'QA'))"
   ]
  },
  {
   "cell_type": "code",
   "execution_count": 4,
   "metadata": {},
   "outputs": [],
   "source": [
    "import QA_DwaveSampler_AutoEmbedding as qda\n",
    "import pandas as pd\n",
    "import numpy as np"
   ]
  },
  {
   "cell_type": "code",
   "execution_count": 6,
   "metadata": {},
   "outputs": [],
   "source": [
    "df = pd.read_csv('../../../../../input/ost35.csv', sep=',')\n",
    "#df"
   ]
  },
  {
   "cell_type": "code",
   "execution_count": 7,
   "metadata": {},
   "outputs": [
    {
     "name": "stdout",
     "output_type": "stream",
     "text": [
      "35 bit datasets t1: 13\n"
     ]
    }
   ],
   "source": [
    "print('35 bit datasets t1:', np.dot(df['Y'], df['LI']))"
   ]
  },
  {
   "cell_type": "code",
   "execution_count": 8,
   "metadata": {},
   "outputs": [],
   "source": [
    "t_list = qda.calc_marginals(df)"
   ]
  },
  {
   "cell_type": "code",
   "execution_count": 9,
   "metadata": {},
   "outputs": [],
   "source": [
    "bqm = qda.make_Hamiltonian(df)"
   ]
  },
  {
   "cell_type": "code",
   "execution_count": 10,
   "metadata": {},
   "outputs": [],
   "source": [
    "import timeit\n",
    "time_once = timeit.timeit(\"qda.make_Hamiltonian(df)\", globals=globals(), number=1)"
   ]
  },
  {
   "cell_type": "code",
   "execution_count": 11,
   "metadata": {},
   "outputs": [],
   "source": [
    "n = 100\n",
    "num_reads = 100\n",
    "chain_strength = 11"
   ]
  },
  {
   "cell_type": "code",
   "execution_count": 12,
   "metadata": {},
   "outputs": [],
   "source": [
    "QDA = qda.QA_DSampler_AEmbedding(df, chain_strength, num_reads, t_list, bqm, n, time_once)"
   ]
  },
  {
   "cell_type": "code",
   "execution_count": 13,
   "metadata": {},
   "outputs": [
    {
     "name": "stdout",
     "output_type": "stream",
     "text": [
      "__class__ : <class 'type'>\n",
      "__delattr__ : <class 'method-wrapper'>\n",
      "__dict__ : <class 'dict'>\n",
      "__dir__ : <class 'builtin_function_or_method'>\n",
      "__doc__ : <class 'NoneType'>\n",
      "__eq__ : <class 'method-wrapper'>\n",
      "__format__ : <class 'builtin_function_or_method'>\n",
      "__ge__ : <class 'method-wrapper'>\n",
      "__getattribute__ : <class 'method-wrapper'>\n",
      "__gt__ : <class 'method-wrapper'>\n",
      "__hash__ : <class 'method-wrapper'>\n",
      "__init__ : <class 'method'>\n",
      "__init_subclass__ : <class 'builtin_function_or_method'>\n",
      "__le__ : <class 'method-wrapper'>\n",
      "__lt__ : <class 'method-wrapper'>\n",
      "__module__ : <class 'str'>\n",
      "__ne__ : <class 'method-wrapper'>\n",
      "__new__ : <class 'builtin_function_or_method'>\n",
      "__reduce__ : <class 'builtin_function_or_method'>\n",
      "__reduce_ex__ : <class 'builtin_function_or_method'>\n",
      "__repr__ : <class 'method-wrapper'>\n",
      "__setattr__ : <class 'method-wrapper'>\n",
      "__sizeof__ : <class 'builtin_function_or_method'>\n",
      "__str__ : <class 'method-wrapper'>\n",
      "__subclasshook__ : <class 'builtin_function_or_method'>\n",
      "__weakref__ : <class 'NoneType'>\n",
      "bqm : <class 'dimod.binary_quadratic_model.BinaryQuadraticModel'>\n",
      "chain_strength : <class 'int'>\n",
      "df : <class 'pandas.core.frame.DataFrame'>\n",
      "find_valid_y_ntimes : <class 'method'>\n",
      "make_result_df : <class 'method'>\n",
      "n : <class 'int'>\n",
      "num_reads : <class 'int'>\n",
      "p_value_transition : <class 'method'>\n",
      "t_list : <class 'numpy.ndarray'>\n",
      "time_measurement : <class 'method'>\n",
      "time_num_y : <class 'method'>\n",
      "time_once : <class 'float'>\n",
      "y_num_t1_hist : <class 'method'>\n"
     ]
    }
   ],
   "source": [
    "for x in dir(QDA):\n",
    "    print (x, ':', type(eval(\"QDA.\"+x)))"
   ]
  },
  {
   "cell_type": "code",
   "execution_count": 14,
   "metadata": {},
   "outputs": [],
   "source": [
    "valid_y_info_list, valid_y_num, valid_y_list = QDA.find_valid_y_ntimes()"
   ]
  },
  {
   "cell_type": "code",
   "execution_count": 15,
   "metadata": {},
   "outputs": [
    {
     "data": {
      "text/plain": [
       "4"
      ]
     },
     "execution_count": 15,
     "metadata": {},
     "output_type": "execute_result"
    }
   ],
   "source": [
    "valid_y_num"
   ]
  },
  {
   "cell_type": "code",
   "execution_count": 16,
   "metadata": {},
   "outputs": [
    {
     "data": {
      "image/png": "[encoded data removed]",
      "text/plain": [
       "<Figure size 432x288 with 1 Axes>"
      ]
     },
     "metadata": {
      "needs_background": "light"
     },
     "output_type": "display_data"
    }
   ],
   "source": [
    "plot_path = '../../../../../output/QA/DwSamplerAutoEmbed_35bit_n100_num100_strength11_t1_hist'\n",
    "hist_dic = QDA.y_num_t1_hist(valid_y_info_list, plot_path)"
   ]
  },
  {
   "cell_type": "code",
   "execution_count": 17,
   "metadata": {},
   "outputs": [
    {
     "data": {
      "text/plain": [
       "{16: 2, 15: 1, 17: 1}"
      ]
     },
     "execution_count": 17,
     "metadata": {},
     "output_type": "execute_result"
    }
   ],
   "source": [
    "hist_dic"
   ]
  },
  {
   "cell_type": "code",
   "execution_count": 18,
   "metadata": {},
   "outputs": [
    {
     "data": {
      "text/plain": [
       "4"
      ]
     },
     "execution_count": 18,
     "metadata": {},
     "output_type": "execute_result"
    }
   ],
   "source": [
    "sum(hist_dic.values())"
   ]
  },
  {
   "cell_type": "code",
   "execution_count": 19,
   "metadata": {},
   "outputs": [
    {
     "data": {
      "image/png": "[encoded data removed]",
      "text/plain": [
       "<Figure size 432x288 with 1 Axes>"
      ]
     },
     "metadata": {
      "needs_background": "light"
     },
     "output_type": "display_data"
    }
   ],
   "source": [
    "output_path = '../../../../../output/QA/DwSamplerAutoEmbed_35bit_n100_num100_strength11_p_value_transition'\n",
    "valid_y_num, valid_y_list, p_dic = QDA.p_value_transition(valid_y_info_list, output_path) "
   ]
  },
  {
   "cell_type": "code",
   "execution_count": 20,
   "metadata": {},
   "outputs": [
    {
     "data": {
      "text/plain": [
       "0.019789090000000842"
      ]
     },
     "execution_count": 20,
     "metadata": {},
     "output_type": "execute_result"
    }
   ],
   "source": [
    "QDA.time_measurement()"
   ]
  },
  {
   "cell_type": "code",
   "execution_count": 21,
   "metadata": {},
   "outputs": [
    {
     "data": {
      "image/png": "[encoded data removed]",
      "text/plain": [
       "<Figure size 432x288 with 1 Axes>"
      ]
     },
     "metadata": {
      "needs_background": "light"
     },
     "output_type": "display_data"
    }
   ],
   "source": [
    "path = '../../../../../output/QA/DSampler_AEmbed_35bit_time_num'\n",
    "valid_y_list, valid_y_num_list, time_list = QDA.time_num_y(path)"
   ]
  },
  {
   "cell_type": "code",
   "execution_count": null,
   "metadata": {},
   "outputs": [],
   "source": []
  },
  {
   "cell_type": "code",
   "execution_count": null,
   "metadata": {},
   "outputs": [],
   "source": []
  }
 ],
 "metadata": {
  "kernelspec": {
   "display_name": "Python 3",
   "language": "python",
   "name": "python3"
  },
  "language_info": {
   "codemirror_mode": {
    "name": "ipython",
    "version": 3
   },
   "file_extension": ".py",
   "mimetype": "text/x-python",
   "name": "python",
   "nbconvert_exporter": "python",
   "pygments_lexer": "ipython3",
   "version": "3.7.9"
  }
 },
 "nbformat": 4,
 "nbformat_minor": 4
}
