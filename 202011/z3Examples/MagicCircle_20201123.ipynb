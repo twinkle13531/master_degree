{
 "cells": [
  {
   "cell_type": "code",
   "execution_count": 1,
   "metadata": {},
   "outputs": [],
   "source": [
    "from z3 import *\n",
    "import sys"
   ]
  },
  {
   "cell_type": "code",
   "execution_count": 2,
   "metadata": {},
   "outputs": [],
   "source": [
    "n=4"
   ]
  },
  {
   "cell_type": "code",
   "execution_count": 3,
   "metadata": {},
   "outputs": [
    {
     "data": {
      "text/plain": [
       "[[x[0,0], x[0,1], x[0,2], x[0,3]],\n",
       " [x[1,0], x[1,1], x[1,2], x[1,3]],\n",
       " [x[2,0], x[2,1], x[2,2], x[2,3]],\n",
       " [x[3,0], x[3,1], x[3,2], x[3,3]]]"
      ]
     },
     "execution_count": 3,
     "metadata": {},
     "output_type": "execute_result"
    }
   ],
   "source": [
    "x = [[Int(\"x[%d,%d]\" % (i,j)) for j in range(n)] for i in range(n)]\n",
    "x"
   ]
  },
  {
   "cell_type": "code",
   "execution_count": 4,
   "metadata": {},
   "outputs": [],
   "source": [
    "s = Solver()"
   ]
  },
  {
   "cell_type": "code",
   "execution_count": 5,
   "metadata": {},
   "outputs": [],
   "source": [
    "for i in range(n):\n",
    "    for j in range(n):\n",
    "        s.add(1 <= x[i][j], x[i][j] <= n*n)"
   ]
  },
  {
   "cell_type": "code",
   "execution_count": 6,
   "metadata": {},
   "outputs": [],
   "source": [
    "s.add(Distinct(sum(x, [])))"
   ]
  },
  {
   "cell_type": "code",
   "execution_count": 7,
   "metadata": {},
   "outputs": [
    {
     "data": {
      "text/plain": [
       "[x[0,0] >= 1,\n",
       " x[0,0] <= 16,\n",
       " x[0,1] >= 1,\n",
       " x[0,1] <= 16,\n",
       " x[0,2] >= 1,\n",
       " x[0,2] <= 16,\n",
       " x[0,3] >= 1,\n",
       " x[0,3] <= 16,\n",
       " x[1,0] >= 1,\n",
       " x[1,0] <= 16,\n",
       " x[1,1] >= 1,\n",
       " x[1,1] <= 16,\n",
       " x[1,2] >= 1,\n",
       " x[1,2] <= 16,\n",
       " x[1,3] >= 1,\n",
       " x[1,3] <= 16,\n",
       " x[2,0] >= 1,\n",
       " x[2,0] <= 16,\n",
       " x[2,1] >= 1,\n",
       " x[2,1] <= 16,\n",
       " x[2,2] >= 1,\n",
       " x[2,2] <= 16,\n",
       " x[2,3] >= 1,\n",
       " x[2,3] <= 16,\n",
       " x[3,0] >= 1,\n",
       " x[3,0] <= 16,\n",
       " x[3,1] >= 1,\n",
       " x[3,1] <= 16,\n",
       " x[3,2] >= 1,\n",
       " x[3,2] <= 16,\n",
       " x[3,3] >= 1,\n",
       " x[3,3] <= 16,\n",
       " Distinct(x[0,0],\n",
       "          x[0,1],\n",
       "          x[0,2],\n",
       "          x[0,3],\n",
       "          x[1,0],\n",
       "          x[1,1],\n",
       "          x[1,2],\n",
       "          x[1,3],\n",
       "          x[2,0],\n",
       "          x[2,1],\n",
       "          x[2,2],\n",
       "          x[2,3],\n",
       "          x[3,0],\n",
       "          x[3,1],\n",
       "          x[3,2],\n",
       "          x[3,3])]"
      ]
     },
     "execution_count": 7,
     "metadata": {},
     "output_type": "execute_result"
    }
   ],
   "source": [
    "s"
   ]
  },
  {
   "cell_type": "code",
   "execution_count": 8,
   "metadata": {},
   "outputs": [],
   "source": [
    "for i in range(1, n):\n",
    "    s.add(sum(x[0]) == sum(x[i]))"
   ]
  },
  {
   "cell_type": "code",
   "execution_count": 10,
   "metadata": {},
   "outputs": [],
   "source": [
    "for j in range(1, n):\n",
    "    s.add(sum(map(lambda row: row[0], x)) == sum(map(lambda row: row[j], x)))"
   ]
  },
  {
   "cell_type": "code",
   "execution_count": 11,
   "metadata": {},
   "outputs": [
    {
     "data": {
      "text/plain": [
       "[x[0,0] >= 1,\n",
       " x[0,0] <= 16,\n",
       " x[0,1] >= 1,\n",
       " x[0,1] <= 16,\n",
       " x[0,2] >= 1,\n",
       " x[0,2] <= 16,\n",
       " x[0,3] >= 1,\n",
       " x[0,3] <= 16,\n",
       " x[1,0] >= 1,\n",
       " x[1,0] <= 16,\n",
       " x[1,1] >= 1,\n",
       " x[1,1] <= 16,\n",
       " x[1,2] >= 1,\n",
       " x[1,2] <= 16,\n",
       " x[1,3] >= 1,\n",
       " x[1,3] <= 16,\n",
       " x[2,0] >= 1,\n",
       " x[2,0] <= 16,\n",
       " x[2,1] >= 1,\n",
       " x[2,1] <= 16,\n",
       " x[2,2] >= 1,\n",
       " x[2,2] <= 16,\n",
       " x[2,3] >= 1,\n",
       " x[2,3] <= 16,\n",
       " x[3,0] >= 1,\n",
       " x[3,0] <= 16,\n",
       " x[3,1] >= 1,\n",
       " x[3,1] <= 16,\n",
       " x[3,2] >= 1,\n",
       " x[3,2] <= 16,\n",
       " x[3,3] >= 1,\n",
       " x[3,3] <= 16,\n",
       " Distinct(x[0,0],\n",
       "          x[0,1],\n",
       "          x[0,2],\n",
       "          x[0,3],\n",
       "          x[1,0],\n",
       "          x[1,1],\n",
       "          x[1,2],\n",
       "          x[1,3],\n",
       "          x[2,0],\n",
       "          x[2,1],\n",
       "          x[2,2],\n",
       "          x[2,3],\n",
       "          x[3,0],\n",
       "          x[3,1],\n",
       "          x[3,2],\n",
       "          x[3,3]),\n",
       " 0 + x[0,0] + x[0,1] + x[0,2] + x[0,3] ==\n",
       " 0 + x[1,0] + x[1,1] + x[1,2] + x[1,3],\n",
       " 0 + x[0,0] + x[0,1] + x[0,2] + x[0,3] ==\n",
       " 0 + x[2,0] + x[2,1] + x[2,2] + x[2,3],\n",
       " 0 + x[0,0] + x[0,1] + x[0,2] + x[0,3] ==\n",
       " 0 + x[3,0] + x[3,1] + x[3,2] + x[3,3],\n",
       " 0 + x[0,0] + x[1,0] + x[2,0] + x[3,0] ==\n",
       " 0 + x[0,1] + x[1,1] + x[2,1] + x[3,1],\n",
       " 0 + x[0,0] + x[1,0] + x[2,0] + x[3,0] ==\n",
       " 0 + x[0,2] + x[1,2] + x[2,2] + x[3,2],\n",
       " 0 + x[0,0] + x[1,0] + x[2,0] + x[3,0] ==\n",
       " 0 + x[0,3] + x[1,3] + x[2,3] + x[3,3]]"
      ]
     },
     "execution_count": 11,
     "metadata": {},
     "output_type": "execute_result"
    }
   ],
   "source": [
    "s"
   ]
  },
  {
   "cell_type": "code",
   "execution_count": 12,
   "metadata": {},
   "outputs": [],
   "source": [
    "s.check()\n",
    "m = s.model()"
   ]
  },
  {
   "cell_type": "code",
   "execution_count": 13,
   "metadata": {},
   "outputs": [
    {
     "name": "stdout",
     "output_type": "stream",
     "text": [
      "  1\n",
      " 16\n",
      "  5\n",
      " 12\n",
      " 11\n",
      "  2\n",
      " 15\n",
      "  6\n",
      "  8\n",
      " 13\n",
      "  4\n",
      "  9\n",
      " 14\n",
      "  3\n",
      " 10\n",
      "  7\n"
     ]
    }
   ],
   "source": [
    "for i in range(n):\n",
    "    for j in range(n):\n",
    "        sys.stdout.write(\" %2d\" % m[ x[i][j] ].as_long())\n",
    "        sys.stdout.write(\"\\n\")"
   ]
  },
  {
   "cell_type": "code",
   "execution_count": null,
   "metadata": {},
   "outputs": [],
   "source": []
  }
 ],
 "metadata": {
  "kernelspec": {
   "display_name": "Python 3",
   "language": "python",
   "name": "python3"
  },
  "language_info": {
   "codemirror_mode": {
    "name": "ipython",
    "version": 3
   },
   "file_extension": ".py",
   "mimetype": "text/x-python",
   "name": "python",
   "nbconvert_exporter": "python",
   "pygments_lexer": "ipython3",
   "version": "3.8.6"
  }
 },
 "nbformat": 4,
 "nbformat_minor": 4
}
