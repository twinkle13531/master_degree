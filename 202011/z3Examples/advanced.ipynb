{
  "cells": [
    {
      "metadata": {},
      "cell_type": "markdown",
      "source": "# Advanced Topics\n\nMore information on Z3 is available from https://github.com/z3prover/z3.git\n\n\n## Expressions, Sorts and Declarations\nIn Z3, expressions, sorts and declarations are called ASTs. ASTs are directed acyclic graphs. Every expression has a sort (aka type). The method sort() retrieves the sort of an expression."
    },
    {
      "metadata": {
        "trusted": false
      },
      "cell_type": "code",
      "source": "!pip install \"z3-solver\"\nfrom z3 import *\n\nx = Int('x')\ny = Real('y')\nprint ((x + 1).sort())\nprint ((y + 1).sort())\nprint ((x >= 2).sort())",
      "execution_count": null,
      "outputs": []
    },
    {
      "metadata": {},
      "cell_type": "markdown",
      "source": "The function eq(n1, n2) returns True if n1 and n2 are the same AST. This is a structural test."
    },
    {
      "metadata": {
        "trusted": false
      },
      "cell_type": "code",
      "source": "x, y = Ints('x y')\nprint (eq(x + y, x + y))\nprint (eq(x + y, y + x))\nn = x + y\nprint (eq(n, x + y))\n# x2 is eq to x\nx2 = Int('x') \nprint (eq(x, x2))\n# the integer variable x is not equal to \n# the real variable x\nprint (eq(Int('x'), Real('x')))",
      "execution_count": null,
      "outputs": []
    },
    {
      "metadata": {},
      "cell_type": "markdown",
      "source": "The method hash() returns a hashcode for an AST node. If eq(n1, n2) returns True, then n1.hash() is equal to n2.hash()."
    },
    {
      "metadata": {
        "trusted": false
      },
      "cell_type": "code",
      "source": "x = Int('x')\nprint ((x + 1).hash())\nprint ((1 + x).hash())\nprint (x.sort().hash())",
      "execution_count": null,
      "outputs": []
    },
    {
      "metadata": {},
      "cell_type": "markdown",
      "source": "Z3 expressions can be divided in three basic groups: applications, quantifiers and bound/free variables. Applications are all you need if your problems do not contain universal/existential quantifiers. Although we say Int('x') is an integer \"variable\", it is technically an integer constant, and internally is represented as a function application with 0 arguments. Every application is associated with a declaration and contains 0 or more arguments. The method decl() returns the declaration associated with an application. The method num_args() returns the number of arguments of an application, and arg(i) one of the arguments. The function is_expr(n) returns True if n is an expression. Similarly is_app(n) (is_func_decl(n)) returns True if n is an application (declaration)."
    },
    {
      "metadata": {
        "trusted": false
      },
      "cell_type": "code",
      "source": "x = Int('x')\nprint (\"is expression: \", is_expr(x))\nn = x + 1\nprint (\"is application:\", is_app(n))\nprint (\"decl:          \", n.decl())\nprint (\"num args:      \", n.num_args())\nfor i in range(n.num_args()):\n    print (\"arg(\", i, \") ->\", n.arg(i))",
      "execution_count": null,
      "outputs": []
    },
    {
      "metadata": {},
      "cell_type": "markdown",
      "source": "Declarations have names, they are retrieved using the method name(). A (function) declaration has an arity, a domain and range sorts."
    },
    {
      "metadata": {
        "trusted": false
      },
      "cell_type": "code",
      "source": "x   = Int('x')\nx_d = x.decl()\nprint (\"is_expr(x_d):     \", is_expr(x_d))\nprint (\"is_func_decl(x_d):\", is_func_decl(x_d))\nprint (\"x_d.name():       \", x_d.name())\nprint (\"x_d.range():      \", x_d.range())\nprint (\"x_d.arity():      \", x_d.arity())\n# x_d() creates an application with 0 arguments using x_d.\nprint (\"eq(x_d(), x):     \", eq(x_d(), x))\nprint (\"\\n\")\n# f is a function from (Int, Real) to Bool\nf   = Function('f', IntSort(), RealSort(), BoolSort())\nprint (\"f.name():         \", f.name())\nprint (\"f.range():        \", f.range())\nprint (\"f.arity():        \", f.arity())\nfor i in range(f.arity()):\n    print (\"domain(\", i, \"): \", f.domain(i))\n# f(x, x) creates an application with 2 arguments using f.\nprint (f(x, x))\nprint (eq(f(x, x).decl(), f))",
      "execution_count": null,
      "outputs": []
    },
    {
      "metadata": {},
      "cell_type": "markdown",
      "source": "The built-in declarations are identified using their kind. The kind is retrieved using the method kind(). The complete list of built-in declarations can be found in the file z3consts.py (z3_api.h) in the Z3 distribution."
    },
    {
      "metadata": {
        "trusted": false
      },
      "cell_type": "code",
      "source": "x, y = Ints('x y')\nprint ((x + y).decl().kind() == Z3_OP_ADD)\nprint ((x + y).decl().kind() == Z3_OP_SUB)",
      "execution_count": null,
      "outputs": []
    },
    {
      "metadata": {},
      "cell_type": "markdown",
      "source": "The following example demonstrates how to substitute sub-expressions in Z3 expressions."
    },
    {
      "metadata": {
        "trusted": false
      },
      "cell_type": "code",
      "source": "x, y = Ints('x y')\nf    = Function('f', IntSort(), IntSort(), IntSort())\ng    = Function('g', IntSort(), IntSort())\nn    = f(f(g(x), g(g(x))), g(g(y)))\nprint (n)\n# substitute g(g(x)) with y and g(y) with x + 1\nprint (substitute(n, (g(g(x)), y), (g(y), x + 1)))",
      "execution_count": null,
      "outputs": []
    },
    {
      "metadata": {},
      "cell_type": "markdown",
      "source": "The function Const(name, sort) declares a constant (aka variable) of the given sort. For example, the functions Int(name) and Real(name) are shorthands for Const(name, IntSort()) and Const(name, RealSort())."
    },
    {
      "metadata": {
        "trusted": false
      },
      "cell_type": "code",
      "source": "x = Const('x', IntSort())\nprint (eq(x, Int('x')))\n\na, b = Consts('a b', BoolSort())\nprint (And(a, b))",
      "execution_count": null,
      "outputs": []
    },
    {
      "metadata": {},
      "cell_type": "markdown",
      "source": "## Arrays\n\nAs part of formulating a programme of a mathematical theory of computation McCarthy proposed a basic theory of arrays as characterized by the select-store axioms. The expression Select(a, i) returns the value stored at position i of the array a; and Store(a, i, v) returns a new array identical to a, but on position i it contains the value v. In Z3Py, we can also write Select(a, i) as a[i]."
    },
    {
      "metadata": {
        "trusted": false
      },
      "cell_type": "code",
      "source": "# Use I as an alias for IntSort()\nI = IntSort()\n# A is an array from integer to integer\nA = Array('A', I, I)\nx = Int('x')\nprint (A[x])\nprint (Select(A, x))\nprint (Store(A, x, 10))\nprint (simplify(Select(Store(A, 2, x+1), 2)))",
      "execution_count": null,
      "outputs": []
    },
    {
      "metadata": {},
      "cell_type": "markdown",
      "source": "By default, Z3 assumes that arrays are extensional over select. In other words, Z3 also enforces that if two arrays agree on all positions, then the arrays are equal.\n\nZ3 also contains various extensions for operations on arrays that remain decidable and amenable to efficient saturation procedures (here efficient means, with an NP-complete satisfiability complexity). We describe these extensions in the following using a collection of examples. Additional background on these extensions is available in the paper [Generalized and Efficient Array Decision Procedures](http://research.microsoft.com/en-us/um/people/leonardo/fmcad09.pdf).\n\nArrays in Z3 are used to model unbounded or very large arrays. Arrays should not be used to model small finite collections of values. It is usually much more efficient to create different variables using list comprehensions."
    },
    {
      "metadata": {
        "trusted": false
      },
      "cell_type": "code",
      "source": "# We want an array with 3 elements.\n# 1. Bad solution\nX = Array('x', IntSort(), IntSort())\n# Example using the array\nprint (X[0] + X[1] + X[2] >=0)\n\n# 2. More efficient solution\nX = IntVector('x', 3)\nprint (X[0] + X[1] + X[2] >= 0)\nprint (Sum(X) >= 0)",
      "execution_count": null,
      "outputs": []
    },
    {
      "metadata": {},
      "cell_type": "markdown",
      "source": "### Select and Store\nLet us first check a basic property of arrays. Suppose A is an array of integers, then the constraints A[x] == x, Store(A, x, y) == A are satisfiable for an array that contains an index x that maps to x, and when x == y. We can solve these constraints."
    },
    {
      "metadata": {
        "trusted": false
      },
      "cell_type": "code",
      "source": "A = Array('A', IntSort(), IntSort())\nx, y = Ints('x y')\nsolve(A[x] == x, Store(A, x, y) == A)",
      "execution_count": null,
      "outputs": []
    },
    {
      "metadata": {},
      "cell_type": "markdown",
      "source": "The interpretation/solution for array variables is very similar to the one used for functions.\n\nThe problem becomes unsatisfiable/infeasible if we add the constraint x != y."
    },
    {
      "metadata": {
        "trusted": false
      },
      "cell_type": "code",
      "source": "A = Array('A', IntSort(), IntSort())\nx, y = Ints('x y')\nsolve(A[x] == x, Store(A, x, y) == A, x != y)",
      "execution_count": null,
      "outputs": []
    },
    {
      "metadata": {},
      "cell_type": "markdown",
      "source": "### Constant arrays\nThe array that maps all indices to some fixed value can be specified in Z3Py using the K(s, v) construct where s is a sort/type and v is an expression. K(s, v) returns a array that maps any value of s into v. The following example defines a constant array containing only ones."
    },
    {
      "metadata": {
        "trusted": false
      },
      "cell_type": "code",
      "source": "AllOne = K(IntSort(), 1)\na, i = Ints('a i')\nsolve(a == AllOne[i])\n# The following constraints do not have a solution\nsolve(a == AllOne[i], a != 1)",
      "execution_count": null,
      "outputs": []
    },
    {
      "metadata": {},
      "cell_type": "markdown",
      "source": "## Datatypes\nAlgebraic datatypes, known from programming languages such as ML, offer a convenient way for specifying common data structures. Records and tuples are special cases of algebraic datatypes, and so are scalars (enumeration types). But algebraic datatypes are more general. They can be used to specify finite lists, trees and other recursive structures.\n\nThe following example demonstrates how to declare a List in Z3Py. It is more verbose than using the SMT 2.0 front-end, but much simpler than using the Z3 C API. It consists of two phases. First, we have to declare the new datatype, its constructors and accessors. The function Datatype('List') declares a \"placeholder\" that will contain the constructors and accessors declarations. The method declare(cname, (aname, sort)+) declares a constructor named cname with the given accessors. Each accessor has an associated sort or a reference to the datatypes being declared. For example, declare('cons', ('car', IntSort()), ('cdr', List)) declares the constructor named cons that builds a new List using an integer and a List. It also declares the accessors car and cdr. The accessor car extracts the integer of a cons cell, and cdr the list of a cons cell. After all constructors were declared, we use the method create() to create the actual datatype in Z3. Z3Py makes the new Z3 declarations and constants available as slots of the new object."
    },
    {
      "metadata": {
        "trusted": false
      },
      "cell_type": "code",
      "source": "# Declare a List of integers\nList = Datatype('List')\n# Constructor cons: (Int, List) -> List\nList.declare('cons', ('car', IntSort()), ('cdr', List))\n# Constructor nil: List\nList.declare('nil')\n# Create the datatype\nList = List.create()\nprint (is_sort(List))\ncons = List.cons\ncar  = List.car\ncdr  = List.cdr\nnil  = List.nil\n# cons, car and cdr are function declarations, and nil a constant\nprint (is_func_decl(cons))\nprint (is_expr(nil))\n\nl1 = cons(10, cons(20, nil))\nprint (l1)\nprint (simplify(cdr(l1)))\nprint (simplify(car(l1)))\nprint (simplify(l1 == nil))",
      "execution_count": null,
      "outputs": []
    },
    {
      "metadata": {},
      "cell_type": "markdown",
      "source": "The following example demonstrates how to define a Python function that given a sort creates a list of the given sort."
    },
    {
      "metadata": {
        "trusted": false
      },
      "cell_type": "code",
      "source": "def DeclareList(sort):\n    List = Datatype('List_of_%s' % sort.name())\n    List.declare('cons', ('car', sort), ('cdr', List))\n    List.declare('nil')\n    return List.create()\n\nIntList     = DeclareList(IntSort())\nRealList    = DeclareList(RealSort())\nIntListList = DeclareList(IntList)\n\nl1 = IntList.cons(10, IntList.nil)\nprint (l1)\nprint (IntListList.cons(l1, IntListList.cons(l1, IntListList.nil)))\nprint (RealList.cons(\"1/3\", RealList.nil))\n\nprint (l1.sort())",
      "execution_count": null,
      "outputs": []
    },
    {
      "metadata": {},
      "cell_type": "markdown",
      "source": "The example above demonstrates that Z3 supports operator overloading. There are several functions named cons, but they are different since they receive and/or return values of different sorts. Note that it is not necessary to use a different sort name for each instance of the sort list. That is, the expression 'List_of_%s' % sort.name() is not necessary, we use it just to provide more meaningful names.\n\nAs described above enumeration types are a special case of algebraic datatypes. The following example declares an enumeration type consisting of three values: red, green and blue."
    },
    {
      "metadata": {
        "trusted": false
      },
      "cell_type": "code",
      "source": "Color = Datatype('Color')\nColor.declare('red')\nColor.declare('green')\nColor.declare('blue')\nColor = Color.create()\n\nprint (is_expr(Color.green))\nprint (Color.green == Color.blue)\nprint (simplify(Color.green == Color.blue))\n\n# Let c be a constant of sort Color\nc = Const('c', Color)\n# Then, c must be red, green or blue\nprove(Or(c == Color.green, \n         c == Color.blue,\n         c == Color.red))",
      "execution_count": null,
      "outputs": []
    },
    {
      "metadata": {},
      "cell_type": "markdown",
      "source": "Z3Py also provides the following shorthand for declaring enumeration sorts."
    },
    {
      "metadata": {
        "trusted": false
      },
      "cell_type": "code",
      "source": "Color, (red, green, blue) = EnumSort('Color', ('red', 'green', 'blue'))\n\nprint (green == blue)\nprint (simplify(green == blue))\n\nc = Const('c', Color)\nsolve(c != green, c != blue)",
      "execution_count": null,
      "outputs": []
    },
    {
      "metadata": {},
      "cell_type": "markdown",
      "source": "Mutually recursive datatypes can also be declared. The only difference is that we use the function CreateDatatypes instead of the method create() to create the mutually recursive datatypes."
    },
    {
      "metadata": {
        "trusted": false
      },
      "cell_type": "code",
      "source": "TreeList = Datatype('TreeList')\nTree     = Datatype('Tree')\nTree.declare('leaf', ('val', IntSort()))\nTree.declare('node', ('left', TreeList), ('right', TreeList))\nTreeList.declare('nil')\nTreeList.declare('cons', ('car', Tree), ('cdr', TreeList))\n\nTree, TreeList = CreateDatatypes(Tree, TreeList)\n\nt1  = Tree.leaf(10)\ntl1 = TreeList.cons(t1, TreeList.nil)\nt2  = Tree.node(tl1, TreeList.nil)\nprint (t2)\nprint (simplify(Tree.val(t1)))\n\nt1, t2, t3 = Consts('t1 t2 t3', TreeList)\n\nsolve(Distinct(t1, t2, t3))",
      "execution_count": null,
      "outputs": []
    },
    {
      "metadata": {},
      "cell_type": "markdown",
      "source": "## Uninterpreted Sorts\nFunction and constant symbols in pure first-order logic are uninterpreted or free, which means that no a priori interpretation is attached. This is in contrast to arithmetic operators such as + and - that have a fixed standard interpretation. Uninterpreted functions and constants are maximally flexible; they allow any interpretation that is consistent with the constraints over the function or constant.\n\nTo illustrate uninterpreted functions and constants let us introduce an (uninterpreted) sort A, and the constants x, y ranging over A. Finally let f be an uninterpreted function that takes one argument of sort A and results in a value of sort A. The example illustrates how one can force an interpretation where f applied twice to x results in x again, but f applied once to x is different from x."
    },
    {
      "metadata": {
        "trusted": false
      },
      "cell_type": "code",
      "source": "A    = DeclareSort('A')\nx, y = Consts('x y', A)\nf    = Function('f', A, A)\n\ns    = Solver()\ns.add(f(f(x)) == x, f(x) == y, x != y)\n\nprint (s.check())\nm = s.model()\nprint (m)\nprint (\"interpretation assigned to A:\")\nprint (m[A])",
      "execution_count": null,
      "outputs": []
    },
    {
      "metadata": {},
      "cell_type": "markdown",
      "source": "The resulting model introduces abstract values for the elements in A, because the sort A is uninterpreted. The interpretation for f in the model toggles between the two values for x and y, which are different. The expression m[A] returns the interpretation (universe) for the uninterpreted sort A in the model m.\n\n## Quantifiers\nZ3 is can solve quantifier-free problems containing arithmetic, bit-vector, Booleans, arrays, functions and datatypes. Z3 also accepts and can work with formulas that use quantifiers. It is no longer a decision procedure for such formulas in general (and for good reasons, as there can be no decision procedure for first-order logic)."
    },
    {
      "metadata": {
        "trusted": false
      },
      "cell_type": "code",
      "source": "f = Function('f', IntSort(), IntSort(), IntSort())\nx, y = Ints('x y')\nprint (ForAll([x, y], f(x, y) == 0))\nprint (Exists(x, f(x, x) >= 0))\n\na, b = Ints('a b')\nsolve(ForAll(x, f(x, x) == 0), f(a, b) == 1)",
      "execution_count": null,
      "outputs": []
    },
    {
      "metadata": {},
      "cell_type": "markdown",
      "source": "Nevertheless, Z3 is often able to handle formulas involving quantifiers. It uses several approaches to handle quantifiers. The most prolific approach is using pattern-based quantifier instantiation. This approach allows instantiating quantified formulas with ground terms that appear in the current search context based on pattern annotations on quantifiers. Z3 also contains a model-based quantifier instantiation component that uses a model construction to find good terms to instantiate quantifiers with; and Z3 also handles many decidable fragments.\n\nNote that in the previous example the constants x and y were used to create quantified formulas. This is a \"trick\" for simplifying the construction of quantified formulas in Z3Py. Internally, these constants are replaced by bounded variables. The next example demonstrates that. The method body() retrives the quantified expression. In the resultant formula the bounded variables are free. The function Var(index, sort) creates a bounded/free variable with the given index and sort."
    },
    {
      "metadata": {
        "trusted": false
      },
      "cell_type": "code",
      "source": "f = Function('f', IntSort(), IntSort(), IntSort())\nx, y = Ints('x y')\nf = ForAll([x, y], f(x, y) == 0)\nprint (f.body())\nv1 = f.body().arg(0).arg(0)\nprint (v1)\nprint (eq(v1, Var(1, IntSort())))",
      "execution_count": null,
      "outputs": []
    },
    {
      "metadata": {},
      "cell_type": "markdown",
      "source": "### Modeling with Quantifiers\nSuppose we want to model an object oriented type system with single inheritance. We would need a predicate for sub-typing. Sub-typing should be a partial order, and respect single inheritance. For some built-in type constructors, such as for array_of, sub-typing should be monotone."
    },
    {
      "metadata": {
        "trusted": false
      },
      "cell_type": "code",
      "source": "Type     = DeclareSort('Type')\nsubtype  = Function('subtype', Type, Type, BoolSort())\narray_of = Function('array_of', Type, Type)\nroot     = Const('root', Type)\n\nx, y, z  = Consts('x y z', Type)\n\naxioms = [ ForAll(x, subtype(x, x)),\n           ForAll([x, y, z], Implies(And(subtype(x, y), subtype(y, z)),\n                                     subtype(x, z))),\n           ForAll([x, y], Implies(And(subtype(x, y), subtype(y, x)),\n                                  x == y)),\n           ForAll([x, y, z], Implies(And(subtype(x, y), subtype(x, z)),\n                                     Or(subtype(y, z), subtype(z, y)))),\n           ForAll([x, y], Implies(subtype(x, y),\n                                  subtype(array_of(x), array_of(y)))),\n           \n           ForAll(x, subtype(root, x))\n           ]\ns = Solver()\ns.add(axioms)\nprint (s)\nprint (s.check())\nprint (\"Interpretation for Type:\")\nprint (s.model()[Type])\nprint (\"Model:\")\nprint (s.model())",
      "execution_count": null,
      "outputs": []
    },
    {
      "metadata": {},
      "cell_type": "markdown",
      "source": "### Patterns\nThe Stanford Pascal verifier and the subsequent Simplify theorem prover pioneered the use of pattern-based quantifier instantiation. The basic idea behind pattern-based quantifier instantiation is in a sense straight-forward: Annotate a quantified formula using a pattern that contains all the bound variables. So a pattern is an expression (that does not contain binding operations, such as quantifiers) that contains variables bound by a quantifier. Then instantiate the quantifier whenever a term that matches the pattern is created during search. This is a conceptually easy starting point, but there are several subtleties that are important.\n\nIn the following example, the first two options make sure that Model-based quantifier instantiation engine is disabled. We also annotate the quantified formula with the pattern f(g(x)). Since there is no ground instance of this pattern, the quantifier is not instantiated, and Z3 fails to show that the formula is unsatisfiable."
    },
    {
      "metadata": {
        "trusted": false
      },
      "cell_type": "code",
      "source": "f = Function('f', IntSort(), IntSort())\ng = Function('g', IntSort(), IntSort())\na, b, c = Ints('a b c')\nx = Int('x')\n\ns = Solver()\ns.set(auto_config=False, mbqi=False)\n\ns.add( ForAll(x, f(g(x)) == x, patterns = [f(g(x))]),\n       g(a) == c,\n       g(b) == c,\n       a != b )\n\n# Display solver state using internal format\nprint (s.sexpr())\nprint (s.check())",
      "execution_count": null,
      "outputs": []
    },
    {
      "metadata": {},
      "cell_type": "markdown",
      "source": "When the more permissive pattern g(x) is used. Z3 proves the formula to be unsatisfiable. More restrive patterns minimize the number of instantiations (and potentially improve performance), but they may also make Z3 \"less complete\"."
    },
    {
      "metadata": {
        "trusted": false
      },
      "cell_type": "code",
      "source": "f = Function('f', IntSort(), IntSort())\ng = Function('g', IntSort(), IntSort())\na, b, c = Ints('a b c')\nx = Int('x')\n\ns = Solver()\ns.set(auto_config=False, mbqi=False)\n\ns.add( ForAll(x, f(g(x)) == x, patterns = [g(x)]),\n       g(a) == c,\n       g(b) == c,\n       a != b )\n\n# Display solver state using internal format\nprint (s.sexpr())\nprint (s.check())",
      "execution_count": null,
      "outputs": []
    },
    {
      "metadata": {},
      "cell_type": "markdown",
      "source": "Some patterns may also create long instantiation chains. Consider the following assertion.\n\n<pre>\nForAll([x, y], Implies(subtype(x, y),\n                       subtype(array_of(x), array_of(y))),\n       patterns=[subtype(x, y)])\n</pre>       \nThe axiom gets instantiated whenever there is some ground term of the form subtype(s, t). The instantiation causes a fresh ground term subtype(array_of(s), array_of(t)), which enables a new instantiation. This undesirable situation is called a matching loop. Z3 uses many heuristics to break matching loops.\n\nBefore elaborating on the subtleties, we should address an important first question. What defines the terms that are created during search? In the context of most SMT solvers, and of the Simplify theorem prover, terms exist as part of the input formula, they are of course also created by instantiating quantifiers, but terms are also implicitly created when equalities are asserted. The last point means that terms are considered up to congruence and pattern matching takes place modulo ground equalities. We call the matching problem E-matching. For example, if we have the following equalities:"
    },
    {
      "metadata": {
        "trusted": false
      },
      "cell_type": "code",
      "source": "f = Function('f', IntSort(), IntSort())\ng = Function('g', IntSort(), IntSort())\na, b, c = Ints('a b c')\nx = Int('x')\n\ns = Solver()\ns.set(auto_config=False, mbqi=False)\n\ns.add( ForAll(x, f(g(x)) == x, patterns = [f(g(x))]),\n       a == g(b),\n       b == c,\n       f(a) != c )\n\nprint (s.check())",
      "execution_count": null,
      "outputs": []
    },
    {
      "metadata": {},
      "cell_type": "markdown",
      "source": "The terms f(a) and f(g(b)) are equal modulo the equalities. The pattern f(g(x)) can be matched and x bound to b and the equality f(g(b)) == b is deduced.\n\nWhile E-matching is an NP-complete problem, the main sources of overhead in larger verification problems comes from matching thousands of patterns in the context of an evolving set of terms and equalities. Z3 integrates an efficient E-matching engine using term indexing techniques.\n\n### Multi-patterns\nIn some cases, there is no pattern that contains all bound variables and does not contain interpreted symbols. In these cases, we use multi-patterns. In the following example, the quantified formula states that f is injective. This quantified formula is annotated with the multi-pattern MultiPattern(f(x), f(y))."
    },
    {
      "metadata": {
        "trusted": false
      },
      "cell_type": "code",
      "source": "A = DeclareSort('A')\nB = DeclareSort('B')\nf = Function('f', A, B)\na1, a2 = Consts('a1 a2', A)\nb      = Const('b', B)\nx,  y  = Consts('x y', A)\n\ns = Solver()\ns.add(a1 != a2,\n      f(a1) == b,\n      f(a2) == b,\n      ForAll([x, y], Implies(f(x) == f(y), x == y),\n             patterns=[MultiPattern(f(x), f(y))])\n      )\nprint (s.check())",
      "execution_count": null,
      "outputs": []
    },
    {
      "metadata": {},
      "cell_type": "markdown",
      "source": "The quantified formula is instantiated for every pair of occurrences of f. A simple trick allows formulating injectivity of f in such a way that only a linear number of instantiations is required. The trick is to realize that f is injective if and only if it has a partial inverse."
    },
    {
      "metadata": {
        "trusted": false
      },
      "cell_type": "code",
      "source": "A = DeclareSort('A')\nB = DeclareSort('B')\nf = Function('f', A, B)\nfinv = Function('finv', B, A)\na1, a2 = Consts('a1 a2', A)\nb      = Const('b', B)\nx,  y  = Consts('x y', A)\n\ns = Solver()\ns.add(a1 != a2,\n      f(a1) == b,\n      f(a2) == b,\n      ForAll(x, finv(f(x)) == x)\n      )\nprint (s.check())",
      "execution_count": null,
      "outputs": []
    },
    {
      "metadata": {},
      "cell_type": "markdown",
      "source": "### Other attributes\nIn Z3Py, the following additional attributes are supported: qid (quantifier identifier for debugging), weight (hint to the quantifier instantiation module: \"more weight equals less instances\"), no_patterns (expressions that should not be used as patterns, skid (identifier prefix used to create skolem constants/functions."
    },
    {
      "metadata": {},
      "cell_type": "markdown",
      "source": "## Multiple Solvers\nIn Z3Py and Z3 4.0 multiple solvers can be simultaneously used. It is also very easy to copy assertions/formulas from one solver to another."
    },
    {
      "metadata": {
        "trusted": false
      },
      "cell_type": "code",
      "source": "x, y = Ints('x y')\ns1 = Solver()\ns1.add(x > 10, y > 10)\ns2 = Solver()\n# solver s2 is empty\nprint (s2)\n# copy assertions from s1 to s2\ns2.add(s1.assertions())\nprint (s2)",
      "execution_count": null,
      "outputs": []
    },
    {
      "metadata": {},
      "cell_type": "markdown",
      "source": "## Unsat Cores and Soft Constraints\nZ3Py also supports unsat core extraction. The basic idea is to use assumptions, that is, auxiliary propositional variables that we want to track. Assumptions are also available in the Z3 SMT 2.0 frontend, and in other Z3 front-ends. They are used to extract unsatisfiable cores. They may be also used to \"retract\" constraints. Note that, assumptions are not really soft constraints, but they can be used to implement them."
    },
    {
      "metadata": {
        "trusted": false
      },
      "cell_type": "code",
      "source": "p1, p2, p3 = Bools('p1 p2 p3')\nx, y = Ints('x y')\n# We assert Implies(p, C) to track constraint C using p\ns = Solver()\ns.add(Implies(p1, x > 10),\n      Implies(p1, y > x),\n      Implies(p2, y < 5),\n      Implies(p3, y > 0))\nprint (s)\n# Check satisfiability assuming p1, p2, p3 are true\nprint (s.check(p1, p2, p3))\nprint (s.unsat_core())\n\n# Try again retracting p2\nprint (s.check(p1, p3))\nprint (s.model())",
      "execution_count": null,
      "outputs": []
    },
    {
      "metadata": {},
      "cell_type": "markdown",
      "source": "The example above also shows that a Boolean variable (p1) can be used to track more than one constraint. Note that Z3 does not guarantee that the unsat cores are minimal.\n\n## Formatter\nZ3Py uses a formatter (aka pretty printer) for displaying formulas, expressions, solvers, and other Z3 objects. The formatter supports many configuration options. The command set_option(html_mode=False) makes all formulas and expressions to be displayed in Z3Py notation."
    },
    {
      "metadata": {
        "trusted": false
      },
      "cell_type": "code",
      "source": "x = Int('x')\ny = Int('y')\nset_option(html_mode=True)\nprint (x**2 + y**2 >= 1)\nset_option(html_mode=False)\nprint (x**2 + y**2 >= 1)",
      "execution_count": null,
      "outputs": []
    },
    {
      "metadata": {},
      "cell_type": "markdown",
      "source": "By default, Z3Py will truncate the output if the object being displayed is too big. Z3Py uses … to denote the output is truncated. The following configuration options can be set to control the behavior of Z3Py's formatter:\n\n* max_depth Maximal expression depth. Deep expressions are replaced with ….\n* max_args Maximal number of arguments to display per node.\n* rational_to_decimal Display rationals as decimals if True.\n* precision Maximal number of decimal places for numbers being displayed in decimal notation.\n* max_lines Maximal number of lines to be displayed.\n* max_width Maximal line width (this is a suggestion to Z3Py).\n* max_indent Maximal indentation."
    },
    {
      "metadata": {
        "trusted": false
      },
      "cell_type": "code",
      "source": "x = IntVector('x', 20)\ny = IntVector('y', 20)\nf = And(Sum(x) >= 0, Sum(y) >= 0)\n\nset_option(max_args=5)\nprint (\"\\ntest 1:\", f)\n\nset_option(max_args=100, max_lines=10)\nprint (\"\\ntest 2:\", f)\n\nset_option(max_width=300)\nprint (\"\\ntest 3:\", f)\n",
      "execution_count": null,
      "outputs": []
    },
    {
      "metadata": {
        "trusted": false
      },
      "cell_type": "code",
      "source": "",
      "execution_count": null,
      "outputs": []
    }
  ],
  "metadata": {
    "kernelspec": {
      "name": "python3",
      "display_name": "Python 3",
      "language": "python"
    },
    "language_info": {
      "mimetype": "text/x-python",
      "nbconvert_exporter": "python",
      "name": "python",
      "file_extension": ".py",
      "version": "3.5.4",
      "pygments_lexer": "ipython3",
      "codemirror_mode": {
        "version": 3,
        "name": "ipython"
      }
    }
  },
  "nbformat": 4,
  "nbformat_minor": 2
}