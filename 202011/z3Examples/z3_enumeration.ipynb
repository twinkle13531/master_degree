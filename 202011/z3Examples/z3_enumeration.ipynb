{
 "cells": [
  {
   "cell_type": "code",
   "execution_count": 1,
   "metadata": {},
   "outputs": [],
   "source": [
    "#!pip3 install \"z3-solver\"\n",
    "#https://wiki.mma.club.uec.ac.jp/CTF/Toolkit/z3py#A.2BUjZ9BDBuii1bmg.28.2BMNMwwzDIMNkwrzDIMOs.29"
   ]
  },
  {
   "cell_type": "code",
   "execution_count": 2,
   "metadata": {
    "scrolled": true
   },
   "outputs": [],
   "source": [
    "#import \n",
    "import numpy as np\n",
    "import pandas as pd\n",
    "import random\n",
    "from z3 import *"
   ]
  },
  {
   "cell_type": "code",
   "execution_count": 4,
   "metadata": {},
   "outputs": [],
   "source": [
    "def calc_marginals(df):                   \n",
    "    return np.array([                      \n",
    "        sum(df['Y']),                     \n",
    "        np.dot(df['Y'], df['LI']),      \n",
    "        np.dot(df['Y'], df['SEX']),      \n",
    "        np.dot(df['Y'], df['AOP']),      \n",
    "    ])"
   ]
  },
  {
   "cell_type": "code",
   "execution_count": 6,
   "metadata": {},
   "outputs": [],
   "source": [
    "def n_solutions_all(df):\n",
    "    y_dic = {}\n",
    "    for t1 in range(sum(df['LI'])):\n",
    "        y_dic[t1] = []\n",
    "        for _ in range(2**df.shape[0]):\n",
    "            \n",
    "            t_list = calc_marginals(df)\n",
    "            s = Solver()\n",
    "            y = [Int(\"y[%s]\" % i) for i in range(df.shape[0])]\n",
    "    \n",
    "            for i in range(df.shape[0]):\n",
    "                s.add(And(0 <= y[i], y[i] <= 1))\n",
    "        \n",
    "            s.add(And(sum(y)==int(t_list[0])))\n",
    "            s.add(And(sum([df.iloc[i, 1]*y[i] for i in range(df.shape[0])])==t1))\n",
    "    \n",
    "            for j in range(2, df.shape[1]):\n",
    "                s.add(And(sum([df.iloc[i, j]*y[i] for i in range(df.shape[0])])==int(t_list[j])))\n",
    "        \n",
    "            if s.check() == sat:\n",
    "                m = s.model()\n",
    "                #print(m)\n",
    "                new_y = [m.evaluate(y[i]) for i in range(df.shape[0])]\n",
    "                if not new_y in y_dic[t1]:\n",
    "                    y_dic[t1].append(new_y)\n",
    "    return y_dic"
   ]
  },
  {
   "cell_type": "code",
   "execution_count": 9,
   "metadata": {},
   "outputs": [],
   "source": [
    "def n_solutions_each(df, t1):\n",
    "    y_list= []\n",
    "    for _ in range(2**df.shape[0]):\n",
    "\n",
    "        t_list = calc_marginals(df)\n",
    "        s = Solver()\n",
    "        y = [Int(\"y[%s]\" % i) for i in range(df.shape[0])]\n",
    "\n",
    "        for i in range(df.shape[0]):\n",
    "            s.add(And(0 <= y[i], y[i] <= 1))\n",
    "\n",
    "        s.add(And(sum(y)==int(t_list[0])))\n",
    "        s.add(And(sum([df.iloc[i, 1]*y[i] for i in range(df.shape[0])])==t1))\n",
    "\n",
    "        for j in range(2, df.shape[1]):\n",
    "            s.add(And(sum([df.iloc[i, j]*y[i] for i in range(df.shape[0])])==int(t_list[j])))\n",
    "\n",
    "        if s.check() == sat:\n",
    "            m = s.model()\n",
    "            new_y = [m.evaluate(y[i]) for i in range(df.shape[0])]\n",
    "            if not new_y in y_list:\n",
    "                y_list.append(new_y)\n",
    "    return y_list"
   ]
  },
  {
   "cell_type": "code",
   "execution_count": null,
   "metadata": {},
   "outputs": [],
   "source": [
    "def n_solutions_each(df, t1):\n",
    "    loop = 10\n",
    "    result = timeit.timeit('n_solutions_all(df)', globals=globals(), number=loop)\n",
    "    return result / loop"
   ]
  }
 ],
 "metadata": {
  "kernelspec": {
   "display_name": "Python 3",
   "language": "python",
   "name": "python3"
  },
  "language_info": {
   "codemirror_mode": {
    "name": "ipython",
    "version": 3
   },
   "file_extension": ".py",
   "mimetype": "text/x-python",
   "name": "python",
   "nbconvert_exporter": "python",
   "pygments_lexer": "ipython3",
   "version": "3.8.6"
  }
 },
 "nbformat": 4,
 "nbformat_minor": 4
}
