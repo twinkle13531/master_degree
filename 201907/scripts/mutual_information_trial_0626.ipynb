{
 "cells": [
  {
   "cell_type": "markdown",
   "metadata": {},
   "source": [
    "参考文献<br/>\n",
    "https://logics-of-blue.com/information-theory-basic/　<br/>\n",
    "https://www.jstage.jst.go.jp/article/yakushi/128/11/128_11_1525/_pdf/-char/ja <br/>\n",
    "http://watanabe-www.math.dis.titech.ac.jp/users/swatanab/klinf.html\n"
   ]
  },
  {
   "cell_type": "markdown",
   "metadata": {},
   "source": [
    "https://github.com/tsudalab/mp-lamp/blob/master/samples/sample_data/sample_item.csv\n",
    "に関する質問、確認\n",
    "* 転写因子１つを発現させたときにある遺伝子が発現するかどうかを示した表、という理解であっているかどうか\n",
    "* 転写因子はいくつもある中から今回は4つ挙げたということだろうか\n",
    "\n"
   ]
  },
  {
   "cell_type": "markdown",
   "metadata": {},
   "source": [
    "Selective Inference\n",
    "* 統計的仮説検定法\n",
    "* データに基づいて選択された仮説を同一のデータで評価する際に、選択バイアスを除去するため、仮説を選択するイベントの条件付分布により統計的仮 説検定を行うもの\n",
    "* データに基づくモデル選択の影響を適切に扱った統計的推測"
   ]
  },
  {
   "cell_type": "markdown",
   "metadata": {},
   "source": [
    "## エントロピー\n",
    "$I\\left(p(x)\\right)=-\\int p(x)log\\left(p(x)\\right)dx$\n",
    "\n",
    "* $I\\left(p(x)\\right)$..確率変数xに関するエントロピー。確率変数xがどんな値になるかを知るときに得られる情報量の期待値\n",
    "* $p(x)$...確率変数$x$の確率密度分布 "
   ]
  },
  {
   "cell_type": "markdown",
   "metadata": {},
   "source": [
    "\n",
    "# 相互情報量"
   ]
  },
  {
   "cell_type": "markdown",
   "metadata": {},
   "source": [
    "$I(B;C)=H(B)+H(C)-H(B|C)$\n",
    "* $I(B;C)$...CがわかったことでどれほどBの不確実性が減ったか。相互情報量\n",
    "* $H(B)$...Bの不確実性。Bのもつ情報エントロピー\n",
    "* $H(C)$...Cの不確実性。Cのもつ情報エントロピー\n",
    "* $H(B|C)$...CがわかったときのBの不確実性。条件付きエントロピー\n",
    "\n",
    "不確実性＝情報エントロピー＝平均情報量"
   ]
  },
  {
   "cell_type": "markdown",
   "metadata": {},
   "source": [
    "### ある遺伝子が転写因子がわかるとどれくらいエントロピーが減るのか調べる\n",
    "まず\n",
    "* $B$=遺伝子G\n",
    "* $C$=転写因子TF\n",
    "\n",
    "とし、\n",
    "* $H(B)$=(遺伝子Gが発現するか否か)\n",
    "* $H(B|C)$=(転写因子TFがわかったとき遺伝子Gが発現するか否か)\n",
    "とする。\n",
    "\n",
    "すなわち\n",
    "$I(G;TF)=H(G)-H(G|TF)$\n",
    "を求めることにする。"
   ]
  },
  {
   "cell_type": "markdown",
   "metadata": {},
   "source": [
    "まず$H(G)$について<br/>\n",
    "今発現するか否かは$0, 1$なので、どの遺伝子においても\n",
    "$$\n",
    "\\begin{align}\n",
    "H(G)&=\\sum_{i=1}^2-P(x_i)✕log_2P(x_i)\\\\\n",
    "&=-\\frac{1}{2}✕\n",
    "\\left\\{log_2\\frac{1}{2}+log_2\\frac{1}{2}\n",
    "\\right\\}\\\\\n",
    "&=1\n",
    "\\end{align}\n",
    "$$"
   ]
  },
  {
   "cell_type": "markdown",
   "metadata": {},
   "source": [
    "次に$H(G|TF)$について<br/>\n",
    "遺伝子と転写因子がわかると発現するか否かはわかる。\n",
    "すなわち\n",
    "\n",
    "$$\n",
    "\\begin{align}\n",
    "H(G|TF)&=\\sum^1_{i=1}-P(x_i)✕log_2P(x_i)\\\\\n",
    "&=-1✕log_21\\\\\n",
    "&=0\n",
    "\\end{align}\n",
    "$$"
   ]
  },
  {
   "cell_type": "markdown",
   "metadata": {},
   "source": [
    "以上より全ての遺伝子、転写因子において\n",
    "$$\n",
    "\\begin{align}\n",
    "I(G;TF)&=H(G)-H(G|TF)\\\\\n",
    "&=1-0\\\\\n",
    "&=1\n",
    "\\end{align}\n",
    "$$\n",
    "<br/>"
   ]
  },
  {
   "cell_type": "markdown",
   "metadata": {},
   "source": [
    "### 転写因子による発現状態を比較することで、遺伝子間の関連性を調べる\n",
    "もし$X, Y$が比較したい配列であるとすると、相互情報量によって、2配列がどれほど類似した塩基の並び順であるかを表すことができる<br/>\n",
    "\n",
    "もし$X, Y$を比較したい遺伝子とし、$i, j=$ (発現状態)とすると、\n",
    "$$I(X;Y)=\\sum_{\\begin{array}{c}i=0,1\\\\j=0, 1\\end{array}} P_{i, j}log_2\n",
    "\\left(\\frac{P_{ij}}{P_iP_j}\n",
    "\\right)$$\n",
    "となる"
   ]
  },
  {
   "cell_type": "markdown",
   "metadata": {},
   "source": [
    "練習として\n",
    "* $X=G_1$\n",
    "* $Y=G_2$\n",
    "\n",
    "とする。$G_1, G_2$はそれぞれ"
   ]
  },
  {
   "cell_type": "markdown",
   "metadata": {},
   "source": [
    "* $G_1=(1, 1, 1, 0)$\n",
    "* $G_2=(1, 1, 1, 0)$\n",
    "\n",
    "である。\n",
    "各発現状態の出現確率$[P(X), P(Y)]$はそれぞれ\n",
    "\n",
    "* $P(X_0)=\\frac{1}{4}$\n",
    "\n",
    "* $P(X_1)=\\frac{3}{4}$\n",
    "\n",
    "* $P(Y_0)=\\frac{1}{4}$\n",
    "\n",
    "* $P(Y_1)=\\frac{3}{4}$\n",
    "\n",
    "また各転写因子における遺伝子Xと遺伝子Yの同じ発現となる確率$[P(X;Y)]$は\n",
    "* $P(X_0;Y_0)=\\frac{1}{4}$\n",
    "* $P(X_1;Y_1)=\\frac{3}{4}$\n",
    "\n",
    "したがって遺伝子Xと遺伝子Yの相互情報量は\n",
    "$$\n",
    "\\begin{align}\n",
    "I(X;Y)&=P_{00}log_2\\frac{P_{00}}{P_0P_0}+P_{11}log_2\\frac{P_{11}}{P_1P_1}\\\\\n",
    "&=\\frac{1}{4}log_2\\frac{\\frac{1}{4}}{\\frac{1}{4}✕\\frac{1}{4}}+\\frac{3}{4}log_2\\frac{\\frac{3}{4}}{\\frac{3}{4}✕\\frac{3}{4}}\\\\\n",
    "&≒0.81\n",
    "\\end{align}\n",
    "$$"
   ]
  },
  {
   "cell_type": "markdown",
   "metadata": {},
   "source": [
    "# 相対エントロピー＝Kullback–Leibler divergence\n",
    "\n",
    "* 情報源$q(x)$からのデータを、受信機$p(x)$で符号化するときの符号長\n",
    "* 確率分布の差異を表す指標、分布間擬距離\n",
    "* KLダイバージェンスの最小化=尤度の最大化\n",
    "* 相対エントロピーの最小化=最尤推定\n"
   ]
  },
  {
   "cell_type": "markdown",
   "metadata": {},
   "source": [
    "$H(p||q)=\\sum_xp(x)logp(x)-\\sum_xp(x)logq(x)$\n",
    "\n",
    "* $H(p||q)$...相対エントロピー。\n",
    "\n"
   ]
  },
  {
   "cell_type": "markdown",
   "metadata": {},
   "source": [
    "<img src=\"../images/2019-07-12 8.56.17.png\">\n",
    "<img src=\"../images/2019-07-12 8.58.27.png\">\n",
    "<img src=\"../images/2019-07-09 23.34.15.png\">\n",
    "<img src=\"../images/2019-07-09 23.34.03.png\">\n",
    "\n",
    "* 相互情報量が足し算になるのか。\n",
    "* TF1-4が仮に全部の転写因子だとしたとき、そして全部発現したとき、遺伝子が発現したかどうかの結果 = sample_expression_over1.csv\n",
    "* 大体の転写因子は一緒に働く"
   ]
  },
  {
   "cell_type": "code",
   "execution_count": 1,
   "metadata": {},
   "outputs": [],
   "source": [
    "import pandas as pd\n",
    "left  = pd.read_csv('sample_item.csv', index_col=0) #1列目をインデックスにしたい場合\n",
    "right = pd.read_csv('sample_expression_over1.csv', index_col=0) #1列目をインデックスにしたい場合\n",
    "\n",
    "df = left.join(right)\n",
    "\n",
    "df.to_csv('sample.csv')"
   ]
  },
  {
   "cell_type": "code",
   "execution_count": 2,
   "metadata": {
    "scrolled": true
   },
   "outputs": [
    {
     "data": {
      "text/html": [
       "<div>\n",
       "<style scoped>\n",
       "    .dataframe tbody tr th:only-of-type {\n",
       "        vertical-align: middle;\n",
       "    }\n",
       "\n",
       "    .dataframe tbody tr th {\n",
       "        vertical-align: top;\n",
       "    }\n",
       "\n",
       "    .dataframe thead th {\n",
       "        text-align: right;\n",
       "    }\n",
       "</style>\n",
       "<table border=\"1\" class=\"dataframe\">\n",
       "  <thead>\n",
       "    <tr style=\"text-align: right;\">\n",
       "      <th></th>\n",
       "      <th>TF1</th>\n",
       "      <th>TF2</th>\n",
       "      <th>TF3</th>\n",
       "      <th>TF4</th>\n",
       "      <th>expression</th>\n",
       "    </tr>\n",
       "    <tr>\n",
       "      <th>#gene</th>\n",
       "      <th></th>\n",
       "      <th></th>\n",
       "      <th></th>\n",
       "      <th></th>\n",
       "      <th></th>\n",
       "    </tr>\n",
       "  </thead>\n",
       "  <tbody>\n",
       "    <tr>\n",
       "      <th>A</th>\n",
       "      <td>1</td>\n",
       "      <td>1</td>\n",
       "      <td>1</td>\n",
       "      <td>0</td>\n",
       "      <td>1</td>\n",
       "    </tr>\n",
       "    <tr>\n",
       "      <th>B</th>\n",
       "      <td>1</td>\n",
       "      <td>1</td>\n",
       "      <td>1</td>\n",
       "      <td>0</td>\n",
       "      <td>1</td>\n",
       "    </tr>\n",
       "    <tr>\n",
       "      <th>C</th>\n",
       "      <td>1</td>\n",
       "      <td>0</td>\n",
       "      <td>0</td>\n",
       "      <td>1</td>\n",
       "      <td>0</td>\n",
       "    </tr>\n",
       "    <tr>\n",
       "      <th>D</th>\n",
       "      <td>0</td>\n",
       "      <td>0</td>\n",
       "      <td>0</td>\n",
       "      <td>0</td>\n",
       "      <td>0</td>\n",
       "    </tr>\n",
       "    <tr>\n",
       "      <th>E</th>\n",
       "      <td>1</td>\n",
       "      <td>1</td>\n",
       "      <td>1</td>\n",
       "      <td>0</td>\n",
       "      <td>1</td>\n",
       "    </tr>\n",
       "    <tr>\n",
       "      <th>F</th>\n",
       "      <td>1</td>\n",
       "      <td>0</td>\n",
       "      <td>0</td>\n",
       "      <td>0</td>\n",
       "      <td>0</td>\n",
       "    </tr>\n",
       "    <tr>\n",
       "      <th>G</th>\n",
       "      <td>1</td>\n",
       "      <td>1</td>\n",
       "      <td>1</td>\n",
       "      <td>1</td>\n",
       "      <td>1</td>\n",
       "    </tr>\n",
       "    <tr>\n",
       "      <th>H</th>\n",
       "      <td>0</td>\n",
       "      <td>0</td>\n",
       "      <td>0</td>\n",
       "      <td>0</td>\n",
       "      <td>1</td>\n",
       "    </tr>\n",
       "    <tr>\n",
       "      <th>I</th>\n",
       "      <td>0</td>\n",
       "      <td>1</td>\n",
       "      <td>0</td>\n",
       "      <td>1</td>\n",
       "      <td>0</td>\n",
       "    </tr>\n",
       "    <tr>\n",
       "      <th>J</th>\n",
       "      <td>0</td>\n",
       "      <td>0</td>\n",
       "      <td>1</td>\n",
       "      <td>0</td>\n",
       "      <td>0</td>\n",
       "    </tr>\n",
       "    <tr>\n",
       "      <th>K</th>\n",
       "      <td>0</td>\n",
       "      <td>0</td>\n",
       "      <td>0</td>\n",
       "      <td>1</td>\n",
       "      <td>0</td>\n",
       "    </tr>\n",
       "    <tr>\n",
       "      <th>L</th>\n",
       "      <td>0</td>\n",
       "      <td>0</td>\n",
       "      <td>0</td>\n",
       "      <td>1</td>\n",
       "      <td>0</td>\n",
       "    </tr>\n",
       "    <tr>\n",
       "      <th>M</th>\n",
       "      <td>0</td>\n",
       "      <td>0</td>\n",
       "      <td>0</td>\n",
       "      <td>1</td>\n",
       "      <td>1</td>\n",
       "    </tr>\n",
       "    <tr>\n",
       "      <th>N</th>\n",
       "      <td>1</td>\n",
       "      <td>1</td>\n",
       "      <td>1</td>\n",
       "      <td>0</td>\n",
       "      <td>1</td>\n",
       "    </tr>\n",
       "    <tr>\n",
       "      <th>O</th>\n",
       "      <td>0</td>\n",
       "      <td>0</td>\n",
       "      <td>0</td>\n",
       "      <td>0</td>\n",
       "      <td>0</td>\n",
       "    </tr>\n",
       "  </tbody>\n",
       "</table>\n",
       "</div>"
      ],
      "text/plain": [
       "       TF1  TF2  TF3  TF4  expression\n",
       "#gene                                \n",
       "A        1    1    1    0           1\n",
       "B        1    1    1    0           1\n",
       "C        1    0    0    1           0\n",
       "D        0    0    0    0           0\n",
       "E        1    1    1    0           1\n",
       "F        1    0    0    0           0\n",
       "G        1    1    1    1           1\n",
       "H        0    0    0    0           1\n",
       "I        0    1    0    1           0\n",
       "J        0    0    1    0           0\n",
       "K        0    0    0    1           0\n",
       "L        0    0    0    1           0\n",
       "M        0    0    0    1           1\n",
       "N        1    1    1    0           1\n",
       "O        0    0    0    0           0"
      ]
     },
     "execution_count": 2,
     "metadata": {},
     "output_type": "execute_result"
    }
   ],
   "source": [
    "pd.read_csv('sample.csv', index_col=0) "
   ]
  },
  {
   "cell_type": "code",
   "execution_count": 3,
   "metadata": {},
   "outputs": [],
   "source": [
    "T12 = df.drop(['TF3', 'TF4', 'expression'], axis=1)\n",
    "#print(T12)\n",
    "T12_l = T12.values.tolist()\n",
    "#T12_l"
   ]
  },
  {
   "cell_type": "code",
   "execution_count": 4,
   "metadata": {
    "scrolled": true
   },
   "outputs": [
    {
     "data": {
      "text/plain": [
       "[0, 0]    7\n",
       "[1, 1]    5\n",
       "[1, 0]    2\n",
       "[0, 1]    1\n",
       "dtype: int64"
      ]
     },
     "execution_count": 4,
     "metadata": {},
     "output_type": "execute_result"
    }
   ],
   "source": [
    "sr = pd.Series(T12_l)\n",
    "sr.value_counts() # それぞれの値の出現回数をカウントしてくれる。"
   ]
  },
  {
   "cell_type": "code",
   "execution_count": 5,
   "metadata": {
    "scrolled": true
   },
   "outputs": [],
   "source": [
    "T12e = df.drop(['TF3', 'TF4'], axis=1)\n",
    "T12e_l = T12e.values.tolist()\n",
    "#T12e_l"
   ]
  },
  {
   "cell_type": "code",
   "execution_count": 6,
   "metadata": {
    "scrolled": true
   },
   "outputs": [
    {
     "data": {
      "text/plain": [
       "[0, 0, 0]    5\n",
       "[1, 1, 1]    5\n",
       "[1, 0, 0]    2\n",
       "[0, 0, 1]    2\n",
       "[0, 1, 0]    1\n",
       "dtype: int64"
      ]
     },
     "execution_count": 6,
     "metadata": {},
     "output_type": "execute_result"
    }
   ],
   "source": [
    "sr = pd.Series(T12e_l)\n",
    "sr.value_counts() # それぞれの値の出現回数をカウントしてくれる。"
   ]
  },
  {
   "cell_type": "code",
   "execution_count": 7,
   "metadata": {
    "scrolled": true
   },
   "outputs": [
    {
     "data": {
      "text/html": [
       "<div>\n",
       "<style scoped>\n",
       "    .dataframe tbody tr th:only-of-type {\n",
       "        vertical-align: middle;\n",
       "    }\n",
       "\n",
       "    .dataframe tbody tr th {\n",
       "        vertical-align: top;\n",
       "    }\n",
       "\n",
       "    .dataframe thead th {\n",
       "        text-align: right;\n",
       "    }\n",
       "</style>\n",
       "<table border=\"1\" class=\"dataframe\">\n",
       "  <thead>\n",
       "    <tr style=\"text-align: right;\">\n",
       "      <th></th>\n",
       "      <th>[0 ,0]</th>\n",
       "      <th>[1, 1]</th>\n",
       "      <th>[1, 0]</th>\n",
       "      <th>[0, 1]</th>\n",
       "    </tr>\n",
       "  </thead>\n",
       "  <tbody>\n",
       "    <tr>\n",
       "      <th>0</th>\n",
       "      <td>5</td>\n",
       "      <td>0</td>\n",
       "      <td>2</td>\n",
       "      <td>1</td>\n",
       "    </tr>\n",
       "    <tr>\n",
       "      <th>1</th>\n",
       "      <td>2</td>\n",
       "      <td>5</td>\n",
       "      <td>0</td>\n",
       "      <td>0</td>\n",
       "    </tr>\n",
       "  </tbody>\n",
       "</table>\n",
       "</div>"
      ],
      "text/plain": [
       "   [0 ,0]  [1, 1]  [1, 0]  [0, 1]\n",
       "0       5       0       2       1\n",
       "1       2       5       0       0"
      ]
     },
     "execution_count": 7,
     "metadata": {},
     "output_type": "execute_result"
    }
   ],
   "source": [
    "val12e_00 = [5, 2]\n",
    "val12e_11 = [0 ,5]\n",
    "val12e_10 = [2, 0]\n",
    "val12e_01 = [1, 0]\n",
    "dict12e = {\"[0 ,0]\": val12e_00, \"[1, 1]\": val12e_11, \"[1, 0]\": val12e_10, \"[0, 1]\": val12e_01}\n",
    "\n",
    "df12e = pd.DataFrame.from_dict(dict12e)\n",
    "df12e"
   ]
  },
  {
   "cell_type": "code",
   "execution_count": 8,
   "metadata": {},
   "outputs": [],
   "source": [
    "from sklearn.metrics.cluster import normalized_mutual_info_score"
   ]
  },
  {
   "cell_type": "code",
   "execution_count": 9,
   "metadata": {
    "scrolled": true
   },
   "outputs": [
    {
     "name": "stdout",
     "output_type": "stream",
     "text": [
      "TF1, TF2, expression の相関係数 =  0.8660254037844386\n"
     ]
    },
    {
     "name": "stderr",
     "output_type": "stream",
     "text": [
      "/miniconda3/lib/python3.7/site-packages/sklearn/metrics/cluster/supervised.py:859: FutureWarning: The behavior of NMI will change in version 0.22. To match the behavior of 'v_measure_score', NMI will use average_method='arithmetic' by default.\n",
      "  FutureWarning)\n"
     ]
    }
   ],
   "source": [
    "# 偏りが大きいとTF1, TF2セットでexpression と関係があるだろう、ということがわかる\n",
    "print(\"I(TF1, TF2 | expression) = \", normalized_mutual_info_score([5, 0, 2, 1], [2, 5, 0, 0])) #相互情報量"
   ]
  },
  {
   "cell_type": "code",
   "execution_count": 10,
   "metadata": {},
   "outputs": [],
   "source": [
    "T13 = df.drop(['TF2', 'TF4', 'expression'], axis=1)\n",
    "#print(T13)\n",
    "T13_l = T13.values.tolist()\n",
    "#T13_l"
   ]
  },
  {
   "cell_type": "code",
   "execution_count": 11,
   "metadata": {},
   "outputs": [
    {
     "data": {
      "text/plain": [
       "[0, 0]    7\n",
       "[1, 1]    5\n",
       "[1, 0]    2\n",
       "[0, 1]    1\n",
       "dtype: int64"
      ]
     },
     "execution_count": 11,
     "metadata": {},
     "output_type": "execute_result"
    }
   ],
   "source": [
    "sr = pd.Series(T13_l)\n",
    "sr.value_counts() # それぞれの値の出現回数をカウントしてくれる。"
   ]
  },
  {
   "cell_type": "code",
   "execution_count": 12,
   "metadata": {
    "scrolled": true
   },
   "outputs": [
    {
     "data": {
      "text/plain": [
       "[0, 0, 0]    5\n",
       "[1, 1, 1]    5\n",
       "[1, 0, 0]    2\n",
       "[0, 0, 1]    2\n",
       "[0, 1, 0]    1\n",
       "dtype: int64"
      ]
     },
     "execution_count": 12,
     "metadata": {},
     "output_type": "execute_result"
    }
   ],
   "source": [
    "T13e = df.drop(['TF2', 'TF4'], axis=1)\n",
    "T13e_l = T13e.values.tolist()\n",
    "#T13e_l\n",
    "\n",
    "sr = pd.Series(T13e_l)\n",
    "sr.value_counts() # それぞれの値の出現回数をカウントしてくれる。"
   ]
  },
  {
   "cell_type": "code",
   "execution_count": 13,
   "metadata": {
    "scrolled": false
   },
   "outputs": [
    {
     "data": {
      "text/html": [
       "<div>\n",
       "<style scoped>\n",
       "    .dataframe tbody tr th:only-of-type {\n",
       "        vertical-align: middle;\n",
       "    }\n",
       "\n",
       "    .dataframe tbody tr th {\n",
       "        vertical-align: top;\n",
       "    }\n",
       "\n",
       "    .dataframe thead th {\n",
       "        text-align: right;\n",
       "    }\n",
       "</style>\n",
       "<table border=\"1\" class=\"dataframe\">\n",
       "  <thead>\n",
       "    <tr style=\"text-align: right;\">\n",
       "      <th></th>\n",
       "      <th>[0 ,0]</th>\n",
       "      <th>[1, 1]</th>\n",
       "      <th>[1, 0]</th>\n",
       "      <th>[0, 1]</th>\n",
       "    </tr>\n",
       "  </thead>\n",
       "  <tbody>\n",
       "    <tr>\n",
       "      <th>0</th>\n",
       "      <td>5</td>\n",
       "      <td>0</td>\n",
       "      <td>2</td>\n",
       "      <td>1</td>\n",
       "    </tr>\n",
       "    <tr>\n",
       "      <th>1</th>\n",
       "      <td>2</td>\n",
       "      <td>5</td>\n",
       "      <td>0</td>\n",
       "      <td>0</td>\n",
       "    </tr>\n",
       "  </tbody>\n",
       "</table>\n",
       "</div>"
      ],
      "text/plain": [
       "   [0 ,0]  [1, 1]  [1, 0]  [0, 1]\n",
       "0       5       0       2       1\n",
       "1       2       5       0       0"
      ]
     },
     "execution_count": 13,
     "metadata": {},
     "output_type": "execute_result"
    }
   ],
   "source": [
    "val13e_00 = [5, 2]\n",
    "val13e_11 = [0 ,5]\n",
    "val13e_10 = [2, 0]\n",
    "val13e_01 = [1, 0]\n",
    "dict13e = {\"[0 ,0]\": val13e_00, \"[1, 1]\": val13e_11, \"[1, 0]\": val13e_10, \"[0, 1]\": val13e_01}\n",
    "\n",
    "df13e = pd.DataFrame.from_dict(dict13e)\n",
    "df13e"
   ]
  },
  {
   "cell_type": "code",
   "execution_count": 14,
   "metadata": {
    "scrolled": true
   },
   "outputs": [
    {
     "name": "stdout",
     "output_type": "stream",
     "text": [
      "TF1, TF3, expression の相互情報量 =  0.8660254037844386\n"
     ]
    },
    {
     "name": "stderr",
     "output_type": "stream",
     "text": [
      "/miniconda3/lib/python3.7/site-packages/sklearn/metrics/cluster/supervised.py:859: FutureWarning: The behavior of NMI will change in version 0.22. To match the behavior of 'v_measure_score', NMI will use average_method='arithmetic' by default.\n",
      "  FutureWarning)\n"
     ]
    }
   ],
   "source": [
    "print(\"I(TF1, TF3 | expression) = \", normalized_mutual_info_score([5, 0, 2, 1], [2, 5, 0, 0])) #相互情報量"
   ]
  },
  {
   "cell_type": "code",
   "execution_count": 15,
   "metadata": {},
   "outputs": [],
   "source": [
    "T14 = df.drop(['TF2', 'TF3', 'expression'], axis=1)\n",
    "#print(T14)\n",
    "T14_l = T14.values.tolist()\n",
    "#T14_l"
   ]
  },
  {
   "cell_type": "code",
   "execution_count": 16,
   "metadata": {
    "scrolled": true
   },
   "outputs": [
    {
     "data": {
      "text/plain": [
       "[1, 0]    5\n",
       "[0, 0]    4\n",
       "[0, 1]    4\n",
       "[1, 1]    2\n",
       "dtype: int64"
      ]
     },
     "execution_count": 16,
     "metadata": {},
     "output_type": "execute_result"
    }
   ],
   "source": [
    "sr = pd.Series(T14_l)\n",
    "sr.value_counts() # それぞれの値の出現回数をカウントしてくれる。"
   ]
  },
  {
   "cell_type": "code",
   "execution_count": 17,
   "metadata": {
    "scrolled": true
   },
   "outputs": [
    {
     "data": {
      "text/plain": [
       "[1, 0, 1]    4\n",
       "[0, 1, 0]    3\n",
       "[0, 0, 0]    3\n",
       "[0, 0, 1]    1\n",
       "[1, 1, 0]    1\n",
       "[1, 1, 1]    1\n",
       "[1, 0, 0]    1\n",
       "[0, 1, 1]    1\n",
       "dtype: int64"
      ]
     },
     "execution_count": 17,
     "metadata": {},
     "output_type": "execute_result"
    }
   ],
   "source": [
    "T14e = df.drop(['TF2', 'TF3'], axis=1)\n",
    "T14e_l = T14e.values.tolist()\n",
    "#T14e_l\n",
    "\n",
    "sr = pd.Series(T14e_l)\n",
    "sr.value_counts() # それぞれの値の出現回数をカウントしてくれる。"
   ]
  },
  {
   "cell_type": "code",
   "execution_count": 18,
   "metadata": {
    "scrolled": true
   },
   "outputs": [
    {
     "data": {
      "text/html": [
       "<div>\n",
       "<style scoped>\n",
       "    .dataframe tbody tr th:only-of-type {\n",
       "        vertical-align: middle;\n",
       "    }\n",
       "\n",
       "    .dataframe tbody tr th {\n",
       "        vertical-align: top;\n",
       "    }\n",
       "\n",
       "    .dataframe thead th {\n",
       "        text-align: right;\n",
       "    }\n",
       "</style>\n",
       "<table border=\"1\" class=\"dataframe\">\n",
       "  <thead>\n",
       "    <tr style=\"text-align: right;\">\n",
       "      <th></th>\n",
       "      <th>[0 ,0]</th>\n",
       "      <th>[1, 1]</th>\n",
       "      <th>[1, 0]</th>\n",
       "      <th>[0, 1]</th>\n",
       "    </tr>\n",
       "  </thead>\n",
       "  <tbody>\n",
       "    <tr>\n",
       "      <th>0</th>\n",
       "      <td>3</td>\n",
       "      <td>1</td>\n",
       "      <td>1</td>\n",
       "      <td>3</td>\n",
       "    </tr>\n",
       "    <tr>\n",
       "      <th>1</th>\n",
       "      <td>1</td>\n",
       "      <td>1</td>\n",
       "      <td>4</td>\n",
       "      <td>1</td>\n",
       "    </tr>\n",
       "  </tbody>\n",
       "</table>\n",
       "</div>"
      ],
      "text/plain": [
       "   [0 ,0]  [1, 1]  [1, 0]  [0, 1]\n",
       "0       3       1       1       3\n",
       "1       1       1       4       1"
      ]
     },
     "execution_count": 18,
     "metadata": {},
     "output_type": "execute_result"
    }
   ],
   "source": [
    "val14e_00 = [3, 1]\n",
    "val14e_11 = [1 ,1]\n",
    "val14e_10 = [1, 4]\n",
    "val14e_01 = [3, 1]\n",
    "dict14e = {\"[0 ,0]\": val14e_00, \"[1, 1]\": val14e_11, \"[1, 0]\": val14e_10, \"[0, 1]\": val14e_01}\n",
    "\n",
    "df14e = pd.DataFrame.from_dict(dict14e)\n",
    "df14e"
   ]
  },
  {
   "cell_type": "code",
   "execution_count": 19,
   "metadata": {},
   "outputs": [
    {
     "name": "stdout",
     "output_type": "stream",
     "text": [
      "TF1, TF4, expression の相互情報量 =  0.3455920299442113\n"
     ]
    },
    {
     "name": "stderr",
     "output_type": "stream",
     "text": [
      "/miniconda3/lib/python3.7/site-packages/sklearn/metrics/cluster/supervised.py:859: FutureWarning: The behavior of NMI will change in version 0.22. To match the behavior of 'v_measure_score', NMI will use average_method='arithmetic' by default.\n",
      "  FutureWarning)\n"
     ]
    }
   ],
   "source": [
    "print(\"I(TF1, TF4 | expression) = \", normalized_mutual_info_score([3, 1, 1, 3], [1, 1, 4, 1])) #相互情報量"
   ]
  },
  {
   "cell_type": "code",
   "execution_count": 20,
   "metadata": {},
   "outputs": [],
   "source": [
    "T23 = df.drop(['TF1', 'TF4', 'expression'], axis=1)\n",
    "#print(T23)\n",
    "T23_l = T23.values.tolist()\n",
    "#T23_l"
   ]
  },
  {
   "cell_type": "code",
   "execution_count": 21,
   "metadata": {
    "scrolled": true
   },
   "outputs": [
    {
     "data": {
      "text/plain": [
       "[0, 0]    8\n",
       "[1, 1]    5\n",
       "[1, 0]    1\n",
       "[0, 1]    1\n",
       "dtype: int64"
      ]
     },
     "execution_count": 21,
     "metadata": {},
     "output_type": "execute_result"
    }
   ],
   "source": [
    "sr = pd.Series(T23_l)\n",
    "sr.value_counts() # それぞれの値の出現回数をカウントしてくれる。"
   ]
  },
  {
   "cell_type": "code",
   "execution_count": 22,
   "metadata": {
    "scrolled": true
   },
   "outputs": [
    {
     "data": {
      "text/plain": [
       "[0, 0, 0]    6\n",
       "[1, 1, 1]    5\n",
       "[0, 0, 1]    2\n",
       "[1, 0, 0]    1\n",
       "[0, 1, 0]    1\n",
       "dtype: int64"
      ]
     },
     "execution_count": 22,
     "metadata": {},
     "output_type": "execute_result"
    }
   ],
   "source": [
    "T23e = df.drop(['TF1', 'TF4'], axis=1)\n",
    "T23e_l = T23e.values.tolist()\n",
    "#T23e_l\n",
    "\n",
    "sr = pd.Series(T23e_l)\n",
    "sr.value_counts() # それぞれの値の出現回数をカウントしてくれる。"
   ]
  },
  {
   "cell_type": "code",
   "execution_count": 23,
   "metadata": {
    "scrolled": true
   },
   "outputs": [
    {
     "data": {
      "text/html": [
       "<div>\n",
       "<style scoped>\n",
       "    .dataframe tbody tr th:only-of-type {\n",
       "        vertical-align: middle;\n",
       "    }\n",
       "\n",
       "    .dataframe tbody tr th {\n",
       "        vertical-align: top;\n",
       "    }\n",
       "\n",
       "    .dataframe thead th {\n",
       "        text-align: right;\n",
       "    }\n",
       "</style>\n",
       "<table border=\"1\" class=\"dataframe\">\n",
       "  <thead>\n",
       "    <tr style=\"text-align: right;\">\n",
       "      <th></th>\n",
       "      <th>[0 ,0]</th>\n",
       "      <th>[1, 1]</th>\n",
       "      <th>[1, 0]</th>\n",
       "      <th>[0, 1]</th>\n",
       "    </tr>\n",
       "  </thead>\n",
       "  <tbody>\n",
       "    <tr>\n",
       "      <th>0</th>\n",
       "      <td>6</td>\n",
       "      <td>0</td>\n",
       "      <td>1</td>\n",
       "      <td>1</td>\n",
       "    </tr>\n",
       "    <tr>\n",
       "      <th>1</th>\n",
       "      <td>2</td>\n",
       "      <td>5</td>\n",
       "      <td>0</td>\n",
       "      <td>0</td>\n",
       "    </tr>\n",
       "  </tbody>\n",
       "</table>\n",
       "</div>"
      ],
      "text/plain": [
       "   [0 ,0]  [1, 1]  [1, 0]  [0, 1]\n",
       "0       6       0       1       1\n",
       "1       2       5       0       0"
      ]
     },
     "execution_count": 23,
     "metadata": {},
     "output_type": "execute_result"
    }
   ],
   "source": [
    "val23e_00 = [6, 2]\n",
    "val23e_11 = [0 ,5]\n",
    "val23e_10 = [1, 0]\n",
    "val23e_01 = [1, 0]\n",
    "dict23e = {\"[0 ,0]\": val23e_00, \"[1, 1]\": val23e_11, \"[1, 0]\": val23e_10, \"[0, 1]\": val23e_01}\n",
    "\n",
    "df23e = pd.DataFrame.from_dict(dict23e)\n",
    "df23e"
   ]
  },
  {
   "cell_type": "code",
   "execution_count": 24,
   "metadata": {
    "scrolled": true
   },
   "outputs": [
    {
     "name": "stdout",
     "output_type": "stream",
     "text": [
      "TF2, TF3, expression の相互情報量 =  1.0\n"
     ]
    },
    {
     "name": "stderr",
     "output_type": "stream",
     "text": [
      "/miniconda3/lib/python3.7/site-packages/sklearn/metrics/cluster/supervised.py:859: FutureWarning: The behavior of NMI will change in version 0.22. To match the behavior of 'v_measure_score', NMI will use average_method='arithmetic' by default.\n",
      "  FutureWarning)\n"
     ]
    }
   ],
   "source": [
    "print(\"I(TF2, TF3 | expression) = \", normalized_mutual_info_score([6, 0, 1 ,1], [2, 5, 0, 0])) #相互情報量"
   ]
  },
  {
   "cell_type": "code",
   "execution_count": 25,
   "metadata": {},
   "outputs": [],
   "source": [
    "T24 = df.drop(['TF1', 'TF3', 'expression'], axis=1)\n",
    "#print(T24)\n",
    "T24_l = T24.values.tolist()\n",
    "#T24_l"
   ]
  },
  {
   "cell_type": "code",
   "execution_count": 26,
   "metadata": {
    "scrolled": true
   },
   "outputs": [
    {
     "data": {
      "text/plain": [
       "[0, 0]    5\n",
       "[0, 1]    4\n",
       "[1, 0]    4\n",
       "[1, 1]    2\n",
       "dtype: int64"
      ]
     },
     "execution_count": 26,
     "metadata": {},
     "output_type": "execute_result"
    }
   ],
   "source": [
    "sr = pd.Series(T24_l)\n",
    "sr.value_counts() # それぞれの値の出現回数をカウントしてくれる。"
   ]
  },
  {
   "cell_type": "code",
   "execution_count": 27,
   "metadata": {
    "scrolled": true
   },
   "outputs": [
    {
     "data": {
      "text/plain": [
       "[1, 0, 1]    4\n",
       "[0, 0, 0]    4\n",
       "[0, 1, 0]    3\n",
       "[1, 1, 0]    1\n",
       "[0, 1, 1]    1\n",
       "[0, 0, 1]    1\n",
       "[1, 1, 1]    1\n",
       "dtype: int64"
      ]
     },
     "execution_count": 27,
     "metadata": {},
     "output_type": "execute_result"
    }
   ],
   "source": [
    "T24e = df.drop(['TF1', 'TF3'], axis=1)\n",
    "T24e_l = T24e.values.tolist()\n",
    "#T24e_l\n",
    "\n",
    "sr = pd.Series(T24e_l)\n",
    "sr.value_counts() # それぞれの値の出現回数をカウントしてくれる。"
   ]
  },
  {
   "cell_type": "code",
   "execution_count": 28,
   "metadata": {
    "scrolled": false
   },
   "outputs": [
    {
     "data": {
      "text/html": [
       "<div>\n",
       "<style scoped>\n",
       "    .dataframe tbody tr th:only-of-type {\n",
       "        vertical-align: middle;\n",
       "    }\n",
       "\n",
       "    .dataframe tbody tr th {\n",
       "        vertical-align: top;\n",
       "    }\n",
       "\n",
       "    .dataframe thead th {\n",
       "        text-align: right;\n",
       "    }\n",
       "</style>\n",
       "<table border=\"1\" class=\"dataframe\">\n",
       "  <thead>\n",
       "    <tr style=\"text-align: right;\">\n",
       "      <th></th>\n",
       "      <th>[0 ,0]</th>\n",
       "      <th>[1, 1]</th>\n",
       "      <th>[1, 0]</th>\n",
       "      <th>[0, 1]</th>\n",
       "    </tr>\n",
       "  </thead>\n",
       "  <tbody>\n",
       "    <tr>\n",
       "      <th>0</th>\n",
       "      <td>4</td>\n",
       "      <td>1</td>\n",
       "      <td>0</td>\n",
       "      <td>3</td>\n",
       "    </tr>\n",
       "    <tr>\n",
       "      <th>1</th>\n",
       "      <td>1</td>\n",
       "      <td>1</td>\n",
       "      <td>4</td>\n",
       "      <td>1</td>\n",
       "    </tr>\n",
       "  </tbody>\n",
       "</table>\n",
       "</div>"
      ],
      "text/plain": [
       "   [0 ,0]  [1, 1]  [1, 0]  [0, 1]\n",
       "0       4       1       0       3\n",
       "1       1       1       4       1"
      ]
     },
     "execution_count": 28,
     "metadata": {},
     "output_type": "execute_result"
    }
   ],
   "source": [
    "val24e_00 = [4, 1]\n",
    "val24e_11 = [1 ,1]\n",
    "val24e_10 = [0, 4]\n",
    "val24e_01 = [3, 1]\n",
    "dict24e = {\"[0 ,0]\": val24e_00, \"[1, 1]\": val24e_11, \"[1, 0]\": val24e_10, \"[0, 1]\": val24e_01}\n",
    "\n",
    "df24e = pd.DataFrame.from_dict(dict24e)\n",
    "df24e"
   ]
  },
  {
   "cell_type": "code",
   "execution_count": 29,
   "metadata": {
    "scrolled": false
   },
   "outputs": [
    {
     "name": "stdout",
     "output_type": "stream",
     "text": [
      "TF2, TF4, expression の相互情報量 =  0.6368979998630601\n"
     ]
    },
    {
     "name": "stderr",
     "output_type": "stream",
     "text": [
      "/miniconda3/lib/python3.7/site-packages/sklearn/metrics/cluster/supervised.py:859: FutureWarning: The behavior of NMI will change in version 0.22. To match the behavior of 'v_measure_score', NMI will use average_method='arithmetic' by default.\n",
      "  FutureWarning)\n"
     ]
    }
   ],
   "source": [
    "print(\"I(TF2, TF4 | expression) = \", normalized_mutual_info_score([4, 1, 0, 3], [1, 1, 4, 1])) #相互情報量"
   ]
  },
  {
   "cell_type": "code",
   "execution_count": 30,
   "metadata": {},
   "outputs": [],
   "source": [
    "T34 = df.drop(['TF1', 'TF2', 'expression'], axis=1)\n",
    "#print(T34)\n",
    "T34_l = T34.values.tolist()\n",
    "#T34_l"
   ]
  },
  {
   "cell_type": "code",
   "execution_count": 31,
   "metadata": {
    "scrolled": true
   },
   "outputs": [
    {
     "data": {
      "text/plain": [
       "[0, 1]    5\n",
       "[1, 0]    5\n",
       "[0, 0]    4\n",
       "[1, 1]    1\n",
       "dtype: int64"
      ]
     },
     "execution_count": 31,
     "metadata": {},
     "output_type": "execute_result"
    }
   ],
   "source": [
    "sr = pd.Series(T34_l)\n",
    "sr.value_counts() # それぞれの値の出現回数をカウントしてくれる。"
   ]
  },
  {
   "cell_type": "code",
   "execution_count": 32,
   "metadata": {
    "scrolled": true
   },
   "outputs": [
    {
     "data": {
      "text/plain": [
       "[0, 1, 0]    4\n",
       "[1, 0, 1]    4\n",
       "[0, 0, 0]    3\n",
       "[1, 0, 0]    1\n",
       "[0, 1, 1]    1\n",
       "[0, 0, 1]    1\n",
       "[1, 1, 1]    1\n",
       "dtype: int64"
      ]
     },
     "execution_count": 32,
     "metadata": {},
     "output_type": "execute_result"
    }
   ],
   "source": [
    "T34e = df.drop(['TF1', 'TF2'], axis=1)\n",
    "T34e_l = T34e.values.tolist()\n",
    "#T34e_l\n",
    "\n",
    "sr = pd.Series(T34e_l)\n",
    "sr.value_counts() # それぞれの値の出現回数をカウントしてくれる。"
   ]
  },
  {
   "cell_type": "code",
   "execution_count": 33,
   "metadata": {
    "scrolled": true
   },
   "outputs": [
    {
     "data": {
      "text/html": [
       "<div>\n",
       "<style scoped>\n",
       "    .dataframe tbody tr th:only-of-type {\n",
       "        vertical-align: middle;\n",
       "    }\n",
       "\n",
       "    .dataframe tbody tr th {\n",
       "        vertical-align: top;\n",
       "    }\n",
       "\n",
       "    .dataframe thead th {\n",
       "        text-align: right;\n",
       "    }\n",
       "</style>\n",
       "<table border=\"1\" class=\"dataframe\">\n",
       "  <thead>\n",
       "    <tr style=\"text-align: right;\">\n",
       "      <th></th>\n",
       "      <th>[0 ,0]</th>\n",
       "      <th>[1, 1]</th>\n",
       "      <th>[1, 0]</th>\n",
       "      <th>[0, 1]</th>\n",
       "    </tr>\n",
       "  </thead>\n",
       "  <tbody>\n",
       "    <tr>\n",
       "      <th>0</th>\n",
       "      <td>3</td>\n",
       "      <td>0</td>\n",
       "      <td>1</td>\n",
       "      <td>4</td>\n",
       "    </tr>\n",
       "    <tr>\n",
       "      <th>1</th>\n",
       "      <td>1</td>\n",
       "      <td>1</td>\n",
       "      <td>4</td>\n",
       "      <td>1</td>\n",
       "    </tr>\n",
       "  </tbody>\n",
       "</table>\n",
       "</div>"
      ],
      "text/plain": [
       "   [0 ,0]  [1, 1]  [1, 0]  [0, 1]\n",
       "0       3       0       1       4\n",
       "1       1       1       4       1"
      ]
     },
     "execution_count": 33,
     "metadata": {},
     "output_type": "execute_result"
    }
   ],
   "source": [
    "val34e_00 = [3, 1]\n",
    "val34e_11 = [0 ,1]\n",
    "val34e_10 = [1, 4]\n",
    "val34e_01 = [4, 1]\n",
    "dict34e = {\"[0 ,0]\": val34e_00, \"[1, 1]\": val34e_11, \"[1, 0]\": val34e_10, \"[0, 1]\": val34e_01}\n",
    "\n",
    "df34e = pd.DataFrame.from_dict(dict34e)\n",
    "df34e"
   ]
  },
  {
   "cell_type": "code",
   "execution_count": 34,
   "metadata": {},
   "outputs": [
    {
     "name": "stdout",
     "output_type": "stream",
     "text": [
      "TF3, TF4, expression の相互情報量 =  0.6368979998630601\n"
     ]
    },
    {
     "name": "stderr",
     "output_type": "stream",
     "text": [
      "/miniconda3/lib/python3.7/site-packages/sklearn/metrics/cluster/supervised.py:859: FutureWarning: The behavior of NMI will change in version 0.22. To match the behavior of 'v_measure_score', NMI will use average_method='arithmetic' by default.\n",
      "  FutureWarning)\n"
     ]
    }
   ],
   "source": [
    "print(\"I(TF3, TF4 | expression) = \", normalized_mutual_info_score([3, 0 ,1, 4], [1, 1, 4, 1])) #相互情報量"
   ]
  },
  {
   "cell_type": "code",
   "execution_count": 35,
   "metadata": {},
   "outputs": [],
   "source": [
    "T123 = df.drop(['TF4', 'expression'], axis=1)\n",
    "#print(T123)\n",
    "T123_l = T123.values.tolist()\n",
    "#T123_l"
   ]
  },
  {
   "cell_type": "code",
   "execution_count": 36,
   "metadata": {
    "scrolled": true
   },
   "outputs": [
    {
     "data": {
      "text/plain": [
       "[0, 0, 0]    6\n",
       "[1, 1, 1]    5\n",
       "[1, 0, 0]    2\n",
       "[0, 1, 0]    1\n",
       "[0, 0, 1]    1\n",
       "dtype: int64"
      ]
     },
     "execution_count": 36,
     "metadata": {},
     "output_type": "execute_result"
    }
   ],
   "source": [
    "sr = pd.Series(T123_l)\n",
    "sr.value_counts() # それぞれの値の出現回数をカウントしてくれる。"
   ]
  },
  {
   "cell_type": "code",
   "execution_count": 37,
   "metadata": {
    "scrolled": true
   },
   "outputs": [
    {
     "data": {
      "text/plain": [
       "[1, 1, 1, 1]    5\n",
       "[0, 0, 0, 0]    4\n",
       "[1, 0, 0, 0]    2\n",
       "[0, 0, 0, 1]    2\n",
       "[0, 1, 0, 0]    1\n",
       "[0, 0, 1, 0]    1\n",
       "dtype: int64"
      ]
     },
     "execution_count": 37,
     "metadata": {},
     "output_type": "execute_result"
    }
   ],
   "source": [
    "T123e = df.drop(['TF4'], axis=1)\n",
    "T123e_l = T123e.values.tolist()\n",
    "#T123e_l\n",
    "\n",
    "sr = pd.Series(T123e_l)\n",
    "sr.value_counts() # それぞれの値の出現回数をカウントしてくれる。"
   ]
  },
  {
   "cell_type": "code",
   "execution_count": 38,
   "metadata": {
    "scrolled": true
   },
   "outputs": [
    {
     "data": {
      "text/html": [
       "<div>\n",
       "<style scoped>\n",
       "    .dataframe tbody tr th:only-of-type {\n",
       "        vertical-align: middle;\n",
       "    }\n",
       "\n",
       "    .dataframe tbody tr th {\n",
       "        vertical-align: top;\n",
       "    }\n",
       "\n",
       "    .dataframe thead th {\n",
       "        text-align: right;\n",
       "    }\n",
       "</style>\n",
       "<table border=\"1\" class=\"dataframe\">\n",
       "  <thead>\n",
       "    <tr style=\"text-align: right;\">\n",
       "      <th></th>\n",
       "      <th>[0 ,0, 0]</th>\n",
       "      <th>[1, 1, 1]</th>\n",
       "      <th>[1, 0, 0]</th>\n",
       "      <th>[0, 1, 0]</th>\n",
       "      <th>[0, 0, 1]</th>\n",
       "    </tr>\n",
       "  </thead>\n",
       "  <tbody>\n",
       "    <tr>\n",
       "      <th>0</th>\n",
       "      <td>4</td>\n",
       "      <td>0</td>\n",
       "      <td>2</td>\n",
       "      <td>1</td>\n",
       "      <td>1</td>\n",
       "    </tr>\n",
       "    <tr>\n",
       "      <th>1</th>\n",
       "      <td>2</td>\n",
       "      <td>5</td>\n",
       "      <td>0</td>\n",
       "      <td>0</td>\n",
       "      <td>0</td>\n",
       "    </tr>\n",
       "  </tbody>\n",
       "</table>\n",
       "</div>"
      ],
      "text/plain": [
       "   [0 ,0, 0]  [1, 1, 1]  [1, 0, 0]  [0, 1, 0]  [0, 0, 1]\n",
       "0          4          0          2          1          1\n",
       "1          2          5          0          0          0"
      ]
     },
     "execution_count": 38,
     "metadata": {},
     "output_type": "execute_result"
    }
   ],
   "source": [
    "val123e_000 = [4, 2]\n",
    "val123e_111 = [0 ,5]\n",
    "val123e_100 = [2, 0]\n",
    "val123e_010 = [1, 0]\n",
    "val123e_001 = [1, 0]\n",
    "\n",
    "dict123e = {\"[0 ,0, 0]\": val123e_000, \"[1, 1, 1]\": val123e_111, \"[1, 0, 0]\": val123e_100, \"[0, 1, 0]\": val123e_010, \"[0, 0, 1]\": val123e_001}\n",
    "\n",
    "df123e = pd.DataFrame.from_dict(dict123e)\n",
    "df123e"
   ]
  },
  {
   "cell_type": "code",
   "execution_count": 39,
   "metadata": {
    "scrolled": false
   },
   "outputs": [
    {
     "name": "stdout",
     "output_type": "stream",
     "text": [
      "TF1, TF2, TF3, expression の相互情報量 =  0.8445829977473509\n"
     ]
    },
    {
     "name": "stderr",
     "output_type": "stream",
     "text": [
      "/miniconda3/lib/python3.7/site-packages/sklearn/metrics/cluster/supervised.py:859: FutureWarning: The behavior of NMI will change in version 0.22. To match the behavior of 'v_measure_score', NMI will use average_method='arithmetic' by default.\n",
      "  FutureWarning)\n"
     ]
    }
   ],
   "source": [
    "print(\"I(TF1, TF2, TF3 | expression) = \", normalized_mutual_info_score([4, 0, 2, 1, 1], [2, 5, 0, 0, 0])) #相互情報量"
   ]
  },
  {
   "cell_type": "code",
   "execution_count": 40,
   "metadata": {},
   "outputs": [],
   "source": [
    "T124 = df.drop(['TF3', 'expression'], axis=1)\n",
    "#print(T124)\n",
    "T124_l = T124.values.tolist()\n",
    "#T124_l"
   ]
  },
  {
   "cell_type": "code",
   "execution_count": 41,
   "metadata": {
    "scrolled": true
   },
   "outputs": [
    {
     "data": {
      "text/plain": [
       "[1, 1, 0]    4\n",
       "[0, 0, 0]    4\n",
       "[0, 0, 1]    3\n",
       "[0, 1, 1]    1\n",
       "[1, 0, 1]    1\n",
       "[1, 1, 1]    1\n",
       "[1, 0, 0]    1\n",
       "dtype: int64"
      ]
     },
     "execution_count": 41,
     "metadata": {},
     "output_type": "execute_result"
    }
   ],
   "source": [
    "sr = pd.Series(T124_l)\n",
    "sr.value_counts() # それぞれの値の出現回数をカウントしてくれる。"
   ]
  },
  {
   "cell_type": "code",
   "execution_count": 42,
   "metadata": {
    "scrolled": true
   },
   "outputs": [
    {
     "data": {
      "text/plain": [
       "[1, 1, 0, 1]    4\n",
       "[0, 0, 0, 0]    3\n",
       "[0, 0, 1, 0]    2\n",
       "[0, 0, 0, 1]    1\n",
       "[1, 0, 1, 0]    1\n",
       "[0, 1, 1, 0]    1\n",
       "[0, 0, 1, 1]    1\n",
       "[1, 1, 1, 1]    1\n",
       "[1, 0, 0, 0]    1\n",
       "dtype: int64"
      ]
     },
     "execution_count": 42,
     "metadata": {},
     "output_type": "execute_result"
    }
   ],
   "source": [
    "T124e = df.drop(['TF3'], axis=1)\n",
    "T124e_l = T124e.values.tolist()\n",
    "#T124e_l\n",
    "\n",
    "sr = pd.Series(T124e_l)\n",
    "sr.value_counts() # それぞれの値の出現回数をカウントしてくれる。"
   ]
  },
  {
   "cell_type": "code",
   "execution_count": 43,
   "metadata": {
    "scrolled": true
   },
   "outputs": [
    {
     "data": {
      "text/html": [
       "<div>\n",
       "<style scoped>\n",
       "    .dataframe tbody tr th:only-of-type {\n",
       "        vertical-align: middle;\n",
       "    }\n",
       "\n",
       "    .dataframe tbody tr th {\n",
       "        vertical-align: top;\n",
       "    }\n",
       "\n",
       "    .dataframe thead th {\n",
       "        text-align: right;\n",
       "    }\n",
       "</style>\n",
       "<table border=\"1\" class=\"dataframe\">\n",
       "  <thead>\n",
       "    <tr style=\"text-align: right;\">\n",
       "      <th></th>\n",
       "      <th>[0 ,0, 0]</th>\n",
       "      <th>[1, 1, 1]</th>\n",
       "      <th>[1, 0, 0]</th>\n",
       "      <th>[0, 1, 0]</th>\n",
       "      <th>[0, 0, 1]</th>\n",
       "      <th>[0, 1, 1]</th>\n",
       "    </tr>\n",
       "  </thead>\n",
       "  <tbody>\n",
       "    <tr>\n",
       "      <th>0</th>\n",
       "      <td>3</td>\n",
       "      <td>0</td>\n",
       "      <td>1</td>\n",
       "      <td>1</td>\n",
       "      <td>2</td>\n",
       "      <td>1</td>\n",
       "    </tr>\n",
       "    <tr>\n",
       "      <th>1</th>\n",
       "      <td>1</td>\n",
       "      <td>1</td>\n",
       "      <td>0</td>\n",
       "      <td>0</td>\n",
       "      <td>1</td>\n",
       "      <td>0</td>\n",
       "    </tr>\n",
       "  </tbody>\n",
       "</table>\n",
       "</div>"
      ],
      "text/plain": [
       "   [0 ,0, 0]  [1, 1, 1]  [1, 0, 0]  [0, 1, 0]  [0, 0, 1]  [0, 1, 1]\n",
       "0          3          0          1          1          2          1\n",
       "1          1          1          0          0          1          0"
      ]
     },
     "execution_count": 43,
     "metadata": {},
     "output_type": "execute_result"
    }
   ],
   "source": [
    "val124e_000 = [3, 1]\n",
    "val124e_111 = [0 ,1]\n",
    "val124e_100 = [1, 0]\n",
    "val124e_010 = [1, 0]\n",
    "val124e_001 = [2, 1]\n",
    "val124e_011 = [1, 0]\n",
    "dict124e = {\n",
    "    \"[0 ,0, 0]\": val124e_000, \"[1, 1, 1]\": val124e_111, \"[1, 0, 0]\": val124e_100, \n",
    "    \"[0, 1, 0]\": val124e_010, \"[0, 0, 1]\": val124e_001,  \"[0, 1, 1]\": val124e_011}\n",
    "\n",
    "df124e = pd.DataFrame.from_dict(dict124e)\n",
    "df124e"
   ]
  },
  {
   "cell_type": "code",
   "execution_count": 44,
   "metadata": {
    "scrolled": false
   },
   "outputs": [
    {
     "name": "stdout",
     "output_type": "stream",
     "text": [
      "TF1, TF2, TF4, expression の相互情報量 =  0.7469175933811301\n"
     ]
    },
    {
     "name": "stderr",
     "output_type": "stream",
     "text": [
      "/miniconda3/lib/python3.7/site-packages/sklearn/metrics/cluster/supervised.py:859: FutureWarning: The behavior of NMI will change in version 0.22. To match the behavior of 'v_measure_score', NMI will use average_method='arithmetic' by default.\n",
      "  FutureWarning)\n"
     ]
    }
   ],
   "source": [
    "print(\"I(TF1, TF2, TF4 | expression) = \", normalized_mutual_info_score([3, 0, 1, 1, 2, 1], [1, 1, 0, 0, 1, 0])) #相互情報量"
   ]
  },
  {
   "cell_type": "code",
   "execution_count": 45,
   "metadata": {},
   "outputs": [],
   "source": [
    "T134 = df.drop(['TF2', 'expression'], axis=1)\n",
    "#print(T134)\n",
    "T134_l = T134.values.tolist()\n",
    "#T134_l"
   ]
  },
  {
   "cell_type": "code",
   "execution_count": 46,
   "metadata": {
    "scrolled": true
   },
   "outputs": [
    {
     "data": {
      "text/plain": [
       "[0, 0, 1]    4\n",
       "[1, 1, 0]    4\n",
       "[0, 0, 0]    3\n",
       "[1, 0, 1]    1\n",
       "[0, 1, 0]    1\n",
       "[1, 1, 1]    1\n",
       "[1, 0, 0]    1\n",
       "dtype: int64"
      ]
     },
     "execution_count": 46,
     "metadata": {},
     "output_type": "execute_result"
    }
   ],
   "source": [
    "sr = pd.Series(T134_l)\n",
    "sr.value_counts() # それぞれの値の出現回数をカウントしてくれる。"
   ]
  },
  {
   "cell_type": "code",
   "execution_count": 47,
   "metadata": {
    "scrolled": true
   },
   "outputs": [
    {
     "data": {
      "text/plain": [
       "[1, 1, 0, 1]    4\n",
       "[0, 0, 1, 0]    3\n",
       "[0, 0, 0, 0]    2\n",
       "[0, 0, 0, 1]    1\n",
       "[1, 0, 1, 0]    1\n",
       "[0, 0, 1, 1]    1\n",
       "[1, 1, 1, 1]    1\n",
       "[1, 0, 0, 0]    1\n",
       "[0, 1, 0, 0]    1\n",
       "dtype: int64"
      ]
     },
     "execution_count": 47,
     "metadata": {},
     "output_type": "execute_result"
    }
   ],
   "source": [
    "T134e = df.drop(['TF2'], axis=1)\n",
    "T134e_l = T134e.values.tolist()\n",
    "#T134e_l\n",
    "\n",
    "sr = pd.Series(T134e_l)\n",
    "sr.value_counts() # それぞれの値の出現回数をカウントしてくれる。"
   ]
  },
  {
   "cell_type": "code",
   "execution_count": 48,
   "metadata": {
    "scrolled": true
   },
   "outputs": [
    {
     "data": {
      "text/html": [
       "<div>\n",
       "<style scoped>\n",
       "    .dataframe tbody tr th:only-of-type {\n",
       "        vertical-align: middle;\n",
       "    }\n",
       "\n",
       "    .dataframe tbody tr th {\n",
       "        vertical-align: top;\n",
       "    }\n",
       "\n",
       "    .dataframe thead th {\n",
       "        text-align: right;\n",
       "    }\n",
       "</style>\n",
       "<table border=\"1\" class=\"dataframe\">\n",
       "  <thead>\n",
       "    <tr style=\"text-align: right;\">\n",
       "      <th></th>\n",
       "      <th>[0 ,0, 0]</th>\n",
       "      <th>[1, 1, 1]</th>\n",
       "      <th>[1, 0, 0]</th>\n",
       "      <th>[0, 1, 0]</th>\n",
       "      <th>[0, 0, 1]</th>\n",
       "      <th>[0, 1, 1]</th>\n",
       "    </tr>\n",
       "  </thead>\n",
       "  <tbody>\n",
       "    <tr>\n",
       "      <th>0</th>\n",
       "      <td>3</td>\n",
       "      <td>0</td>\n",
       "      <td>1</td>\n",
       "      <td>1</td>\n",
       "      <td>3</td>\n",
       "      <td>1</td>\n",
       "    </tr>\n",
       "    <tr>\n",
       "      <th>1</th>\n",
       "      <td>1</td>\n",
       "      <td>1</td>\n",
       "      <td>0</td>\n",
       "      <td>0</td>\n",
       "      <td>1</td>\n",
       "      <td>0</td>\n",
       "    </tr>\n",
       "  </tbody>\n",
       "</table>\n",
       "</div>"
      ],
      "text/plain": [
       "   [0 ,0, 0]  [1, 1, 1]  [1, 0, 0]  [0, 1, 0]  [0, 0, 1]  [0, 1, 1]\n",
       "0          3          0          1          1          3          1\n",
       "1          1          1          0          0          1          0"
      ]
     },
     "execution_count": 48,
     "metadata": {},
     "output_type": "execute_result"
    }
   ],
   "source": [
    "val134e_000 = [3, 1]\n",
    "val134e_111 = [0 ,1]\n",
    "val134e_100 = [1, 0]\n",
    "val134e_010 = [1, 0]\n",
    "val134e_001 = [3, 1]\n",
    "val134e_101 = [1, 0]\n",
    "dict134e = {\n",
    "    \"[0 ,0, 0]\": val134e_000, \"[1, 1, 1]\": val134e_111, \"[1, 0, 0]\": val134e_100, \n",
    "    \"[0, 1, 0]\": val134e_010, \"[0, 0, 1]\": val134e_001,  \"[0, 1, 1]\": val134e_101}\n",
    "\n",
    "df134e = pd.DataFrame.from_dict(dict134e)\n",
    "df134e"
   ]
  },
  {
   "cell_type": "code",
   "execution_count": 49,
   "metadata": {
    "scrolled": false
   },
   "outputs": [
    {
     "name": "stdout",
     "output_type": "stream",
     "text": [
      "TF1, TF3, TF4, expression の相互情報量 =  0.8278474974061264\n"
     ]
    },
    {
     "name": "stderr",
     "output_type": "stream",
     "text": [
      "/miniconda3/lib/python3.7/site-packages/sklearn/metrics/cluster/supervised.py:859: FutureWarning: The behavior of NMI will change in version 0.22. To match the behavior of 'v_measure_score', NMI will use average_method='arithmetic' by default.\n",
      "  FutureWarning)\n"
     ]
    }
   ],
   "source": [
    "print(\"I(TF1, TF3, TF4 | expression) = \", normalized_mutual_info_score([3, 0, 1, 1, 3, 1], [1, 1, 0, 0, 1, 0])) #相互情報量"
   ]
  },
  {
   "cell_type": "code",
   "execution_count": 50,
   "metadata": {},
   "outputs": [],
   "source": [
    "T234 = df.drop(['TF1', 'expression'], axis=1)\n",
    "#print(T234)\n",
    "T234_l = T234.values.tolist()\n",
    "#T234_l"
   ]
  },
  {
   "cell_type": "code",
   "execution_count": 51,
   "metadata": {
    "scrolled": true
   },
   "outputs": [
    {
     "data": {
      "text/plain": [
       "[0, 0, 0]    4\n",
       "[0, 0, 1]    4\n",
       "[1, 1, 0]    4\n",
       "[1, 1, 1]    1\n",
       "[1, 0, 1]    1\n",
       "[0, 1, 0]    1\n",
       "dtype: int64"
      ]
     },
     "execution_count": 51,
     "metadata": {},
     "output_type": "execute_result"
    }
   ],
   "source": [
    "sr = pd.Series(T234_l)\n",
    "sr.value_counts() # それぞれの値の出現回数をカウントしてくれる。"
   ]
  },
  {
   "cell_type": "code",
   "execution_count": 52,
   "metadata": {
    "scrolled": false
   },
   "outputs": [
    {
     "data": {
      "text/plain": [
       "[1, 1, 0, 1]    4\n",
       "[0, 0, 1, 0]    3\n",
       "[0, 0, 0, 0]    3\n",
       "[1, 0, 1, 0]    1\n",
       "[0, 1, 0, 0]    1\n",
       "[0, 0, 0, 1]    1\n",
       "[1, 1, 1, 1]    1\n",
       "[0, 0, 1, 1]    1\n",
       "dtype: int64"
      ]
     },
     "execution_count": 52,
     "metadata": {},
     "output_type": "execute_result"
    }
   ],
   "source": [
    "T234e = df.drop(['TF1'], axis=1)\n",
    "T234e_l = T234e.values.tolist()\n",
    "#T234e_l\n",
    "\n",
    "sr = pd.Series(T234e_l)\n",
    "sr.value_counts() # それぞれの値の出現回数をカウントしてくれる。"
   ]
  },
  {
   "cell_type": "code",
   "execution_count": 53,
   "metadata": {
    "scrolled": true
   },
   "outputs": [
    {
     "data": {
      "text/html": [
       "<div>\n",
       "<style scoped>\n",
       "    .dataframe tbody tr th:only-of-type {\n",
       "        vertical-align: middle;\n",
       "    }\n",
       "\n",
       "    .dataframe tbody tr th {\n",
       "        vertical-align: top;\n",
       "    }\n",
       "\n",
       "    .dataframe thead th {\n",
       "        text-align: right;\n",
       "    }\n",
       "</style>\n",
       "<table border=\"1\" class=\"dataframe\">\n",
       "  <thead>\n",
       "    <tr style=\"text-align: right;\">\n",
       "      <th></th>\n",
       "      <th>[0 ,0, 0]</th>\n",
       "      <th>[1, 1, 1]</th>\n",
       "      <th>[0, 1, 0]</th>\n",
       "      <th>[0, 0, 1]</th>\n",
       "      <th>[0, 1, 1]</th>\n",
       "    </tr>\n",
       "  </thead>\n",
       "  <tbody>\n",
       "    <tr>\n",
       "      <th>0</th>\n",
       "      <td>3</td>\n",
       "      <td>0</td>\n",
       "      <td>1</td>\n",
       "      <td>3</td>\n",
       "      <td>1</td>\n",
       "    </tr>\n",
       "    <tr>\n",
       "      <th>1</th>\n",
       "      <td>1</td>\n",
       "      <td>1</td>\n",
       "      <td>0</td>\n",
       "      <td>1</td>\n",
       "      <td>0</td>\n",
       "    </tr>\n",
       "  </tbody>\n",
       "</table>\n",
       "</div>"
      ],
      "text/plain": [
       "   [0 ,0, 0]  [1, 1, 1]  [0, 1, 0]  [0, 0, 1]  [0, 1, 1]\n",
       "0          3          0          1          3          1\n",
       "1          1          1          0          1          0"
      ]
     },
     "execution_count": 53,
     "metadata": {},
     "output_type": "execute_result"
    }
   ],
   "source": [
    "val234e_000 = [3, 1]\n",
    "val234e_111 = [0 ,1]\n",
    "val234e_010 = [1, 0]\n",
    "val234e_001 = [3, 1]\n",
    "val234e_101 = [1, 0]\n",
    "dict234e = {\"[0 ,0, 0]\": val234e_000, \"[1, 1, 1]\": val234e_111, \"[0, 1, 0]\": val234e_010, \"[0, 0, 1]\": val234e_001,  \"[0, 1, 1]\": val234e_101}\n",
    "\n",
    "df234e = pd.DataFrame.from_dict(dict234e)\n",
    "df234e"
   ]
  },
  {
   "cell_type": "code",
   "execution_count": 54,
   "metadata": {
    "scrolled": true
   },
   "outputs": [
    {
     "name": "stdout",
     "output_type": "stream",
     "text": [
      "TF2, TF3, TF4, expression の相互情報量 =  0.7987327627644502\n"
     ]
    },
    {
     "name": "stderr",
     "output_type": "stream",
     "text": [
      "/miniconda3/lib/python3.7/site-packages/sklearn/metrics/cluster/supervised.py:859: FutureWarning: The behavior of NMI will change in version 0.22. To match the behavior of 'v_measure_score', NMI will use average_method='arithmetic' by default.\n",
      "  FutureWarning)\n"
     ]
    }
   ],
   "source": [
    "print(\"I(TF2, TF3, TF4 | expression) = \", normalized_mutual_info_score([3, 0, 1, 3, 1], [1, 1, 0, 1, 0])) #相互情報量"
   ]
  },
  {
   "cell_type": "code",
   "execution_count": 55,
   "metadata": {},
   "outputs": [],
   "source": [
    "T1234 = df.drop(['expression'], axis=1)\n",
    "#print(T1234)\n",
    "T1234_l = T1234.values.tolist()\n",
    "#T1234_l"
   ]
  },
  {
   "cell_type": "code",
   "execution_count": 56,
   "metadata": {
    "scrolled": true
   },
   "outputs": [
    {
     "data": {
      "text/plain": [
       "[1, 1, 1, 0]    4\n",
       "[0, 0, 0, 0]    3\n",
       "[0, 0, 0, 1]    3\n",
       "[0, 1, 0, 1]    1\n",
       "[1, 0, 0, 1]    1\n",
       "[0, 0, 1, 0]    1\n",
       "[1, 1, 1, 1]    1\n",
       "[1, 0, 0, 0]    1\n",
       "dtype: int64"
      ]
     },
     "execution_count": 56,
     "metadata": {},
     "output_type": "execute_result"
    }
   ],
   "source": [
    "sr = pd.Series(T1234_l)\n",
    "sr.value_counts() # それぞれの値の出現回数をカウントしてくれる。"
   ]
  },
  {
   "cell_type": "code",
   "execution_count": 57,
   "metadata": {
    "scrolled": true
   },
   "outputs": [
    {
     "data": {
      "text/plain": [
       "[1, 1, 1, 0, 1]    4\n",
       "[0, 0, 0, 1, 0]    2\n",
       "[0, 0, 0, 0, 0]    2\n",
       "[0, 0, 0, 0, 1]    1\n",
       "[0, 0, 0, 1, 1]    1\n",
       "[1, 0, 0, 1, 0]    1\n",
       "[0, 1, 0, 1, 0]    1\n",
       "[1, 1, 1, 1, 1]    1\n",
       "[1, 0, 0, 0, 0]    1\n",
       "[0, 0, 1, 0, 0]    1\n",
       "dtype: int64"
      ]
     },
     "execution_count": 57,
     "metadata": {},
     "output_type": "execute_result"
    }
   ],
   "source": [
    "T1234e_l = df.values.tolist()\n",
    "#T124e_l\n",
    "\n",
    "sr = pd.Series(T1234e_l)\n",
    "sr.value_counts() # それぞれの値の出現回数をカウントしてくれる。"
   ]
  },
  {
   "cell_type": "code",
   "execution_count": 58,
   "metadata": {},
   "outputs": [
    {
     "data": {
      "text/html": [
       "<div>\n",
       "<style scoped>\n",
       "    .dataframe tbody tr th:only-of-type {\n",
       "        vertical-align: middle;\n",
       "    }\n",
       "\n",
       "    .dataframe tbody tr th {\n",
       "        vertical-align: top;\n",
       "    }\n",
       "\n",
       "    .dataframe thead th {\n",
       "        text-align: right;\n",
       "    }\n",
       "</style>\n",
       "<table border=\"1\" class=\"dataframe\">\n",
       "  <thead>\n",
       "    <tr style=\"text-align: right;\">\n",
       "      <th></th>\n",
       "      <th>[1,1, 1, 0]</th>\n",
       "      <th>[0, 0, 0, 0]</th>\n",
       "      <th>[0, 0, 0, 1]</th>\n",
       "      <th>[0, 1, 0, 1]</th>\n",
       "      <th>[1, 0, 0, 1]</th>\n",
       "      <th>[0, 0, 1, 0]</th>\n",
       "      <th>[1, 1, 1, 1]</th>\n",
       "      <th>[1, 0, 0, 0]</th>\n",
       "    </tr>\n",
       "  </thead>\n",
       "  <tbody>\n",
       "    <tr>\n",
       "      <th>0</th>\n",
       "      <td>0</td>\n",
       "      <td>2</td>\n",
       "      <td>2</td>\n",
       "      <td>1</td>\n",
       "      <td>1</td>\n",
       "      <td>1</td>\n",
       "      <td>0</td>\n",
       "      <td>1</td>\n",
       "    </tr>\n",
       "    <tr>\n",
       "      <th>1</th>\n",
       "      <td>4</td>\n",
       "      <td>1</td>\n",
       "      <td>1</td>\n",
       "      <td>0</td>\n",
       "      <td>0</td>\n",
       "      <td>0</td>\n",
       "      <td>1</td>\n",
       "      <td>0</td>\n",
       "    </tr>\n",
       "  </tbody>\n",
       "</table>\n",
       "</div>"
      ],
      "text/plain": [
       "   [1,1, 1, 0]  [0, 0, 0, 0]  [0, 0, 0, 1]  [0, 1, 0, 1]  [1, 0, 0, 1]  \\\n",
       "0            0             2             2             1             1   \n",
       "1            4             1             1             0             0   \n",
       "\n",
       "   [0, 0, 1, 0]  [1, 1, 1, 1]  [1, 0, 0, 0]  \n",
       "0             1             0             1  \n",
       "1             0             1             0  "
      ]
     },
     "execution_count": 58,
     "metadata": {},
     "output_type": "execute_result"
    }
   ],
   "source": [
    "val1234e_1110 = [0, 4]\n",
    "val1234e_0000 = [2 ,1]\n",
    "val1234e_0001 = [2, 1]\n",
    "val1234e_0101 = [1, 0]\n",
    "val1234e_1001 = [1, 0]\n",
    "val1234e_0010 = [1, 0]\n",
    "val1234e_1111 = [0, 1]\n",
    "val1234e_1000 = [1, 0]\n",
    "\n",
    "dict1234e = {\n",
    "    \"[1,1, 1, 0]\": val1234e_1110, \"[0, 0, 0, 0]\": val1234e_0000, \"[0, 0, 0, 1]\": val1234e_0001, \n",
    "    \"[0, 1, 0, 1]\": val1234e_0101, \"[1, 0, 0, 1]\": val1234e_1001, \"[0, 0, 1, 0]\": val1234e_1001, \n",
    "    \"[1, 1, 1, 1]\": val1234e_1111, \"[1, 0, 0, 0]\": val1234e_1000}\n",
    "\n",
    "df1234e = pd.DataFrame.from_dict(dict1234e)\n",
    "df1234e"
   ]
  },
  {
   "cell_type": "code",
   "execution_count": 59,
   "metadata": {},
   "outputs": [
    {
     "name": "stdout",
     "output_type": "stream",
     "text": [
      "TF1, TF2, TF3, TF4, expression の相互情報量 =  0.7958654927045228\n"
     ]
    },
    {
     "name": "stderr",
     "output_type": "stream",
     "text": [
      "/miniconda3/lib/python3.7/site-packages/sklearn/metrics/cluster/supervised.py:859: FutureWarning: The behavior of NMI will change in version 0.22. To match the behavior of 'v_measure_score', NMI will use average_method='arithmetic' by default.\n",
      "  FutureWarning)\n"
     ]
    }
   ],
   "source": [
    "print(\"I(TF1, TF2, TF3, TF4 | expression) = \", normalized_mutual_info_score([0, 2, 2, 1, 1 ,1 ,0, 1], [4, 1, 1, 0, 0, 0, 1, 0])) \n",
    "#相互情報量"
   ]
  },
  {
   "cell_type": "code",
   "execution_count": 60,
   "metadata": {
    "scrolled": true
   },
   "outputs": [
    {
     "name": "stdout",
     "output_type": "stream",
     "text": [
      "#gene       A  B  C  D  E  F  G  H  I  J  K  L  M  N  O\n",
      "expression  1  1  0  0  1  0  1  1  0  0  0  0  1  1  0\n"
     ]
    }
   ],
   "source": [
    "ex = df.drop(['TF1', 'TF2', 'TF3', 'TF4'], axis=1).T\n",
    "ex\n",
    "\n",
    "ex.to_csv('expression.csv')\n",
    "print(ex)"
   ]
  },
  {
   "cell_type": "code",
   "execution_count": 61,
   "metadata": {},
   "outputs": [
    {
     "data": {
      "text/plain": [
       "[1, 1, 0, 0, 1, 0, 1, 1, 0, 0, 0, 0, 1, 1, 0]"
      ]
     },
     "execution_count": 61,
     "metadata": {},
     "output_type": "execute_result"
    }
   ],
   "source": [
    "ex_l = ex.values.tolist()\n",
    "ex_l[0]"
   ]
  },
  {
   "cell_type": "code",
   "execution_count": 62,
   "metadata": {},
   "outputs": [
    {
     "data": {
      "text/plain": [
       "[0, 0, 1, 0, 0, 0, 1, 0, 1, 0, 1, 1, 1, 0, 0]"
      ]
     },
     "execution_count": 62,
     "metadata": {},
     "output_type": "execute_result"
    }
   ],
   "source": [
    "T4 = df.drop(['TF1', 'TF2', 'TF3', 'expression'], axis=1).T\n",
    "\n",
    "T4_l = T4.values.tolist()\n",
    "T4_l[0]"
   ]
  },
  {
   "cell_type": "code",
   "execution_count": 63,
   "metadata": {
    "scrolled": true
   },
   "outputs": [
    {
     "name": "stdout",
     "output_type": "stream",
     "text": [
      "TF4とexpression の相互情報量 =  0.03540165529093586\n"
     ]
    },
    {
     "name": "stderr",
     "output_type": "stream",
     "text": [
      "/miniconda3/lib/python3.7/site-packages/sklearn/metrics/cluster/supervised.py:859: FutureWarning: The behavior of NMI will change in version 0.22. To match the behavior of 'v_measure_score', NMI will use average_method='arithmetic' by default.\n",
      "  FutureWarning)\n"
     ]
    }
   ],
   "source": [
    "print(\"I(TF4, expression) = \", normalized_mutual_info_score(T4_l[0], ex_l[0]))  #相互情報量"
   ]
  },
  {
   "cell_type": "code",
   "execution_count": 64,
   "metadata": {},
   "outputs": [
    {
     "data": {
      "text/plain": [
       "[1, 1, 0, 0, 1, 0, 1, 0, 0, 1, 0, 0, 0, 1, 0]"
      ]
     },
     "execution_count": 64,
     "metadata": {},
     "output_type": "execute_result"
    }
   ],
   "source": [
    "T3 = df.drop(['TF1', 'TF2', 'TF4', 'expression'], axis=1).T\n",
    "\n",
    "T3_l = T3.values.tolist()\n",
    "T3_l[0]"
   ]
  },
  {
   "cell_type": "code",
   "execution_count": 65,
   "metadata": {
    "scrolled": true
   },
   "outputs": [
    {
     "name": "stdout",
     "output_type": "stream",
     "text": [
      "TF3とexpression の相互情報量 =  0.2828459468602975\n"
     ]
    },
    {
     "name": "stderr",
     "output_type": "stream",
     "text": [
      "/miniconda3/lib/python3.7/site-packages/sklearn/metrics/cluster/supervised.py:859: FutureWarning: The behavior of NMI will change in version 0.22. To match the behavior of 'v_measure_score', NMI will use average_method='arithmetic' by default.\n",
      "  FutureWarning)\n"
     ]
    }
   ],
   "source": [
    "print(\"I(TF3, expression) = \", normalized_mutual_info_score(T3_l[0], ex_l[0])) #相互情報量"
   ]
  },
  {
   "cell_type": "code",
   "execution_count": 66,
   "metadata": {},
   "outputs": [
    {
     "data": {
      "text/plain": [
       "[1, 1, 0, 0, 1, 0, 1, 0, 1, 0, 0, 0, 0, 1, 0]"
      ]
     },
     "execution_count": 66,
     "metadata": {},
     "output_type": "execute_result"
    }
   ],
   "source": [
    "T2 = df.drop(['TF1', 'TF3', 'TF4', 'expression'], axis=1).T\n",
    "\n",
    "T2_l = T2.values.tolist()\n",
    "T2_l[0]"
   ]
  },
  {
   "cell_type": "code",
   "execution_count": 67,
   "metadata": {
    "scrolled": false
   },
   "outputs": [
    {
     "name": "stdout",
     "output_type": "stream",
     "text": [
      "TF2とexpression の相互情報量 =  0.2828459468602975\n"
     ]
    },
    {
     "name": "stderr",
     "output_type": "stream",
     "text": [
      "/miniconda3/lib/python3.7/site-packages/sklearn/metrics/cluster/supervised.py:859: FutureWarning: The behavior of NMI will change in version 0.22. To match the behavior of 'v_measure_score', NMI will use average_method='arithmetic' by default.\n",
      "  FutureWarning)\n"
     ]
    }
   ],
   "source": [
    "print(\"I(TF2, expression)  = \", normalized_mutual_info_score(T2_l[0], ex_l[0])) #相互情報量"
   ]
  },
  {
   "cell_type": "code",
   "execution_count": 68,
   "metadata": {},
   "outputs": [
    {
     "data": {
      "text/plain": [
       "[1, 1, 1, 0, 1, 1, 1, 0, 0, 0, 0, 0, 0, 1, 0]"
      ]
     },
     "execution_count": 68,
     "metadata": {},
     "output_type": "execute_result"
    }
   ],
   "source": [
    "T1 = df.drop(['TF2', 'TF3', 'TF4', 'expression'], axis=1).T\n",
    "\n",
    "T1_l = T1.values.tolist()\n",
    "T1_l[0]"
   ]
  },
  {
   "cell_type": "code",
   "execution_count": 69,
   "metadata": {
    "scrolled": true
   },
   "outputs": [
    {
     "name": "stdout",
     "output_type": "stream",
     "text": [
      "TF1とexpression の相互情報量 =  0.16183960796129196\n"
     ]
    },
    {
     "name": "stderr",
     "output_type": "stream",
     "text": [
      "/miniconda3/lib/python3.7/site-packages/sklearn/metrics/cluster/supervised.py:859: FutureWarning: The behavior of NMI will change in version 0.22. To match the behavior of 'v_measure_score', NMI will use average_method='arithmetic' by default.\n",
      "  FutureWarning)\n"
     ]
    }
   ],
   "source": [
    "print(\"I(TF1, expression)  = \", normalized_mutual_info_score(T1_l[0], ex_l[0])) #相互情報量"
   ]
  },
  {
   "cell_type": "code",
   "execution_count": 70,
   "metadata": {
    "scrolled": true
   },
   "outputs": [
    {
     "name": "stderr",
     "output_type": "stream",
     "text": [
      "/miniconda3/lib/python3.7/site-packages/sklearn/metrics/cluster/supervised.py:859: FutureWarning: The behavior of NMI will change in version 0.22. To match the behavior of 'v_measure_score', NMI will use average_method='arithmetic' by default.\n",
      "  FutureWarning)\n",
      "/miniconda3/lib/python3.7/site-packages/sklearn/metrics/cluster/supervised.py:859: FutureWarning: The behavior of NMI will change in version 0.22. To match the behavior of 'v_measure_score', NMI will use average_method='arithmetic' by default.\n",
      "  FutureWarning)\n",
      "/miniconda3/lib/python3.7/site-packages/sklearn/metrics/cluster/supervised.py:859: FutureWarning: The behavior of NMI will change in version 0.22. To match the behavior of 'v_measure_score', NMI will use average_method='arithmetic' by default.\n",
      "  FutureWarning)\n",
      "/miniconda3/lib/python3.7/site-packages/sklearn/metrics/cluster/supervised.py:859: FutureWarning: The behavior of NMI will change in version 0.22. To match the behavior of 'v_measure_score', NMI will use average_method='arithmetic' by default.\n",
      "  FutureWarning)\n"
     ]
    },
    {
     "data": {
      "text/html": [
       "<div>\n",
       "<style scoped>\n",
       "    .dataframe tbody tr th:only-of-type {\n",
       "        vertical-align: middle;\n",
       "    }\n",
       "\n",
       "    .dataframe tbody tr th {\n",
       "        vertical-align: top;\n",
       "    }\n",
       "\n",
       "    .dataframe thead th {\n",
       "        text-align: right;\n",
       "    }\n",
       "</style>\n",
       "<table border=\"1\" class=\"dataframe\">\n",
       "  <thead>\n",
       "    <tr style=\"text-align: right;\">\n",
       "      <th></th>\n",
       "      <th>TF1</th>\n",
       "      <th>TF2</th>\n",
       "      <th>TF3</th>\n",
       "      <th>TF4</th>\n",
       "    </tr>\n",
       "  </thead>\n",
       "  <tbody>\n",
       "    <tr>\n",
       "      <th>0</th>\n",
       "      <td>0.16184</td>\n",
       "      <td>0.282846</td>\n",
       "      <td>0.282846</td>\n",
       "      <td>0.035402</td>\n",
       "    </tr>\n",
       "  </tbody>\n",
       "</table>\n",
       "</div>"
      ],
      "text/plain": [
       "       TF1       TF2       TF3       TF4\n",
       "0  0.16184  0.282846  0.282846  0.035402"
      ]
     },
     "execution_count": 70,
     "metadata": {},
     "output_type": "execute_result"
    }
   ],
   "source": [
    "val1_TF1 = [normalized_mutual_info_score(T1_l[0], ex_l[0])]\n",
    "val1_TF2 = [normalized_mutual_info_score(T2_l[0], ex_l[0])]\n",
    "val1_TF3 = [normalized_mutual_info_score(T3_l[0], ex_l[0])]\n",
    "val1_TF4 = [normalized_mutual_info_score(T4_l[0], ex_l[0])]\n",
    "\n",
    "dict1_result = {\"TF1\": val1_TF1, \"TF2\": val1_TF2, \"TF3\": val1_TF3, \"TF4\": val1_TF4}\n",
    "\n",
    "df1_result = pd.DataFrame.from_dict(dict1_result)\n",
    "df1_result"
   ]
  },
  {
   "cell_type": "code",
   "execution_count": 71,
   "metadata": {
    "scrolled": true
   },
   "outputs": [
    {
     "data": {
      "text/html": [
       "<div>\n",
       "<style scoped>\n",
       "    .dataframe tbody tr th:only-of-type {\n",
       "        vertical-align: middle;\n",
       "    }\n",
       "\n",
       "    .dataframe tbody tr th {\n",
       "        vertical-align: top;\n",
       "    }\n",
       "\n",
       "    .dataframe thead th {\n",
       "        text-align: right;\n",
       "    }\n",
       "</style>\n",
       "<table border=\"1\" class=\"dataframe\">\n",
       "  <thead>\n",
       "    <tr style=\"text-align: right;\">\n",
       "      <th></th>\n",
       "      <th>TF1, TF2</th>\n",
       "      <th>TF1, TF3</th>\n",
       "      <th>TF1, TF4</th>\n",
       "      <th>TF2, TF3</th>\n",
       "      <th>TF2, TF4</th>\n",
       "      <th>TF3, TF4</th>\n",
       "    </tr>\n",
       "  </thead>\n",
       "  <tbody>\n",
       "    <tr>\n",
       "      <th>0</th>\n",
       "      <td>0.866025</td>\n",
       "      <td>0.866025</td>\n",
       "      <td>0.345592</td>\n",
       "      <td>1.0</td>\n",
       "      <td>0.636898</td>\n",
       "      <td>0.636898</td>\n",
       "    </tr>\n",
       "  </tbody>\n",
       "</table>\n",
       "</div>"
      ],
      "text/plain": [
       "   TF1, TF2  TF1, TF3  TF1, TF4  TF2, TF3  TF2, TF4  TF3, TF4\n",
       "0  0.866025  0.866025  0.345592       1.0  0.636898  0.636898"
      ]
     },
     "execution_count": 71,
     "metadata": {},
     "output_type": "execute_result"
    }
   ],
   "source": [
    "val2_TF12 = [0.8660254037844386]\n",
    "val2_TF13 = [0.8660254037844386]\n",
    "val2_TF14 = [0.3455920299442113]\n",
    "val2_TF23 = [1.0]\n",
    "val2_TF24 = [0.6368979998630601]\n",
    "val2_TF34 = [0.6368979998630601]\n",
    "\n",
    "dict2_result = {\n",
    "    \"TF1, TF2\": val2_TF12, \"TF1, TF3\": val2_TF13, \"TF1, TF4\": val2_TF14, \n",
    "    \"TF2, TF3\": val2_TF23, \"TF2, TF4\": val2_TF24, \"TF3, TF4\": val2_TF34}\n",
    "\n",
    "df2_result = pd.DataFrame.from_dict(dict2_result)\n",
    "df2_result"
   ]
  },
  {
   "cell_type": "code",
   "execution_count": 72,
   "metadata": {
    "scrolled": true
   },
   "outputs": [
    {
     "data": {
      "text/html": [
       "<div>\n",
       "<style scoped>\n",
       "    .dataframe tbody tr th:only-of-type {\n",
       "        vertical-align: middle;\n",
       "    }\n",
       "\n",
       "    .dataframe tbody tr th {\n",
       "        vertical-align: top;\n",
       "    }\n",
       "\n",
       "    .dataframe thead th {\n",
       "        text-align: right;\n",
       "    }\n",
       "</style>\n",
       "<table border=\"1\" class=\"dataframe\">\n",
       "  <thead>\n",
       "    <tr style=\"text-align: right;\">\n",
       "      <th></th>\n",
       "      <th>TF1, TF2, TF3</th>\n",
       "      <th>TF1, TF2, TF4</th>\n",
       "      <th>TF1, TF3, TF4</th>\n",
       "      <th>TF2, TF3, TF4</th>\n",
       "    </tr>\n",
       "  </thead>\n",
       "  <tbody>\n",
       "    <tr>\n",
       "      <th>0</th>\n",
       "      <td>0.844583</td>\n",
       "      <td>0.746918</td>\n",
       "      <td>0.827847</td>\n",
       "      <td>0.798733</td>\n",
       "    </tr>\n",
       "  </tbody>\n",
       "</table>\n",
       "</div>"
      ],
      "text/plain": [
       "   TF1, TF2, TF3  TF1, TF2, TF4  TF1, TF3, TF4  TF2, TF3, TF4\n",
       "0       0.844583       0.746918       0.827847       0.798733"
      ]
     },
     "execution_count": 72,
     "metadata": {},
     "output_type": "execute_result"
    }
   ],
   "source": [
    "val3_TF123 = [0.8445829977473509]\n",
    "val3_TF124 = [0.7469175933811301]\n",
    "val3_TF134 = [0.8278474974061264]\n",
    "val3_TF234 = [ 0.7987327627644502]\n",
    "\n",
    "dict3_result = {\n",
    "    \"TF1, TF2, TF3\": val3_TF123, \"TF1, TF2, TF4\": val3_TF124, \"TF1, TF3, TF4\": val3_TF134, \n",
    "    \"TF2, TF3, TF4\": val3_TF234}\n",
    "\n",
    "df3_result = pd.DataFrame.from_dict(dict3_result)\n",
    "df3_result"
   ]
  },
  {
   "cell_type": "code",
   "execution_count": 73,
   "metadata": {},
   "outputs": [
    {
     "data": {
      "text/html": [
       "<div>\n",
       "<style scoped>\n",
       "    .dataframe tbody tr th:only-of-type {\n",
       "        vertical-align: middle;\n",
       "    }\n",
       "\n",
       "    .dataframe tbody tr th {\n",
       "        vertical-align: top;\n",
       "    }\n",
       "\n",
       "    .dataframe thead th {\n",
       "        text-align: right;\n",
       "    }\n",
       "</style>\n",
       "<table border=\"1\" class=\"dataframe\">\n",
       "  <thead>\n",
       "    <tr style=\"text-align: right;\">\n",
       "      <th></th>\n",
       "      <th>TF1, TF2, TF3, TF4</th>\n",
       "    </tr>\n",
       "  </thead>\n",
       "  <tbody>\n",
       "    <tr>\n",
       "      <th>0</th>\n",
       "      <td>0.795865</td>\n",
       "    </tr>\n",
       "  </tbody>\n",
       "</table>\n",
       "</div>"
      ],
      "text/plain": [
       "   TF1, TF2, TF3, TF4\n",
       "0            0.795865"
      ]
     },
     "execution_count": 73,
     "metadata": {},
     "output_type": "execute_result"
    }
   ],
   "source": [
    "dict4_result = {\"TF1, TF2, TF3, TF4\": [ 0.7958654927045228]}\n",
    "\n",
    "df4_result = pd.DataFrame.from_dict(dict4_result)\n",
    "df4_result"
   ]
  }
 ],
 "metadata": {
  "kernelspec": {
   "display_name": "Python 3",
   "language": "python",
   "name": "python3"
  },
  "language_info": {
   "codemirror_mode": {
    "name": "ipython",
    "version": 3
   },
   "file_extension": ".py",
   "mimetype": "text/x-python",
   "name": "python",
   "nbconvert_exporter": "python",
   "pygments_lexer": "ipython3",
   "version": "3.7.6"
  }
 },
 "nbformat": 4,
 "nbformat_minor": 2
}
