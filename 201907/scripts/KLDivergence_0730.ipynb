{
 "cells": [
  {
   "cell_type": "markdown",
   "metadata": {},
   "source": [
    "### 参考文献\n",
    "https://qiita.com/ceptree/items/9a473b5163d5655420e8 <br/>\n",
    "https://yul.hatenablog.com/entry/2019/01/07/152738 <br/>\n",
    "数学もきっちりかいてある https://www.hellocybernetics.tech/entry/2016/04/21/132645 <br/>\n",
    "北大の資料情報理論の基礎http://www-ikn.ist.hokudai.ac.jp/~kida/lecture/IT_3.pdf <br/>\n",
    "pythonでクロス集計を作成https://datumstudio.jp/blog/pythonでクロス集計を実行 <br/>\n",
    "DataFrame から ピボットテーブルを作成－Python pandas http://ailaby.com/dataframe_pivot/#id2 <br/>\n",
    "KL情報量のnumpyを用いた計算コードhttp://sucrose.hatenablog.com/entry/2013/11/10/001555 <br/>\n",
    "Pythonで浮動小数点数floatの誤差を考慮して比較（math.isclose）https://note.nkmk.me/python-math-isclose/"
   ]
  },
  {
   "cell_type": "markdown",
   "metadata": {},
   "source": [
    "# KL divergence練習\n",
    "\n",
    "- 確率が0になると計算ができなかったので、0が一つでもある行列に対しては、すべてのカウントを+1しました。"
   ]
  },
  {
   "cell_type": "code",
   "execution_count": 8,
   "metadata": {
    "scrolled": true
   },
   "outputs": [
    {
     "data": {
      "text/html": [
       "<div>\n",
       "<style scoped>\n",
       "    .dataframe tbody tr th:only-of-type {\n",
       "        vertical-align: middle;\n",
       "    }\n",
       "\n",
       "    .dataframe tbody tr th {\n",
       "        vertical-align: top;\n",
       "    }\n",
       "\n",
       "    .dataframe thead th {\n",
       "        text-align: right;\n",
       "    }\n",
       "</style>\n",
       "<table border=\"1\" class=\"dataframe\">\n",
       "  <thead>\n",
       "    <tr style=\"text-align: right;\">\n",
       "      <th></th>\n",
       "      <th>TF1</th>\n",
       "      <th>TF2</th>\n",
       "      <th>TF3</th>\n",
       "      <th>TF4</th>\n",
       "      <th>expression</th>\n",
       "    </tr>\n",
       "    <tr>\n",
       "      <th>#gene</th>\n",
       "      <th></th>\n",
       "      <th></th>\n",
       "      <th></th>\n",
       "      <th></th>\n",
       "      <th></th>\n",
       "    </tr>\n",
       "  </thead>\n",
       "  <tbody>\n",
       "    <tr>\n",
       "      <th>A</th>\n",
       "      <td>1</td>\n",
       "      <td>1</td>\n",
       "      <td>1</td>\n",
       "      <td>0</td>\n",
       "      <td>1</td>\n",
       "    </tr>\n",
       "    <tr>\n",
       "      <th>B</th>\n",
       "      <td>1</td>\n",
       "      <td>1</td>\n",
       "      <td>1</td>\n",
       "      <td>0</td>\n",
       "      <td>1</td>\n",
       "    </tr>\n",
       "    <tr>\n",
       "      <th>C</th>\n",
       "      <td>1</td>\n",
       "      <td>0</td>\n",
       "      <td>0</td>\n",
       "      <td>1</td>\n",
       "      <td>0</td>\n",
       "    </tr>\n",
       "    <tr>\n",
       "      <th>D</th>\n",
       "      <td>0</td>\n",
       "      <td>0</td>\n",
       "      <td>0</td>\n",
       "      <td>0</td>\n",
       "      <td>0</td>\n",
       "    </tr>\n",
       "    <tr>\n",
       "      <th>E</th>\n",
       "      <td>1</td>\n",
       "      <td>1</td>\n",
       "      <td>1</td>\n",
       "      <td>0</td>\n",
       "      <td>1</td>\n",
       "    </tr>\n",
       "    <tr>\n",
       "      <th>F</th>\n",
       "      <td>1</td>\n",
       "      <td>0</td>\n",
       "      <td>0</td>\n",
       "      <td>0</td>\n",
       "      <td>0</td>\n",
       "    </tr>\n",
       "    <tr>\n",
       "      <th>G</th>\n",
       "      <td>1</td>\n",
       "      <td>1</td>\n",
       "      <td>1</td>\n",
       "      <td>1</td>\n",
       "      <td>1</td>\n",
       "    </tr>\n",
       "    <tr>\n",
       "      <th>H</th>\n",
       "      <td>0</td>\n",
       "      <td>0</td>\n",
       "      <td>0</td>\n",
       "      <td>0</td>\n",
       "      <td>1</td>\n",
       "    </tr>\n",
       "    <tr>\n",
       "      <th>I</th>\n",
       "      <td>0</td>\n",
       "      <td>1</td>\n",
       "      <td>0</td>\n",
       "      <td>1</td>\n",
       "      <td>0</td>\n",
       "    </tr>\n",
       "    <tr>\n",
       "      <th>J</th>\n",
       "      <td>0</td>\n",
       "      <td>0</td>\n",
       "      <td>1</td>\n",
       "      <td>0</td>\n",
       "      <td>0</td>\n",
       "    </tr>\n",
       "    <tr>\n",
       "      <th>K</th>\n",
       "      <td>0</td>\n",
       "      <td>0</td>\n",
       "      <td>0</td>\n",
       "      <td>1</td>\n",
       "      <td>0</td>\n",
       "    </tr>\n",
       "    <tr>\n",
       "      <th>L</th>\n",
       "      <td>0</td>\n",
       "      <td>0</td>\n",
       "      <td>0</td>\n",
       "      <td>1</td>\n",
       "      <td>0</td>\n",
       "    </tr>\n",
       "    <tr>\n",
       "      <th>M</th>\n",
       "      <td>0</td>\n",
       "      <td>0</td>\n",
       "      <td>0</td>\n",
       "      <td>1</td>\n",
       "      <td>1</td>\n",
       "    </tr>\n",
       "    <tr>\n",
       "      <th>N</th>\n",
       "      <td>1</td>\n",
       "      <td>1</td>\n",
       "      <td>1</td>\n",
       "      <td>0</td>\n",
       "      <td>1</td>\n",
       "    </tr>\n",
       "    <tr>\n",
       "      <th>O</th>\n",
       "      <td>0</td>\n",
       "      <td>0</td>\n",
       "      <td>0</td>\n",
       "      <td>0</td>\n",
       "      <td>0</td>\n",
       "    </tr>\n",
       "  </tbody>\n",
       "</table>\n",
       "</div>"
      ],
      "text/plain": [
       "       TF1  TF2  TF3  TF4  expression\n",
       "#gene                                \n",
       "A        1    1    1    0           1\n",
       "B        1    1    1    0           1\n",
       "C        1    0    0    1           0\n",
       "D        0    0    0    0           0\n",
       "E        1    1    1    0           1\n",
       "F        1    0    0    0           0\n",
       "G        1    1    1    1           1\n",
       "H        0    0    0    0           1\n",
       "I        0    1    0    1           0\n",
       "J        0    0    1    0           0\n",
       "K        0    0    0    1           0\n",
       "L        0    0    0    1           0\n",
       "M        0    0    0    1           1\n",
       "N        1    1    1    0           1\n",
       "O        0    0    0    0           0"
      ]
     },
     "execution_count": 8,
     "metadata": {},
     "output_type": "execute_result"
    }
   ],
   "source": [
    "import pandas as pd\n",
    "df = pd.read_csv('sample.csv', index_col=0)\n",
    "df"
   ]
  },
  {
   "cell_type": "markdown",
   "metadata": {},
   "source": [
    "### TF1 & TF2について"
   ]
  },
  {
   "cell_type": "code",
   "execution_count": 9,
   "metadata": {},
   "outputs": [],
   "source": [
    "T12 = df.drop(['TF3', 'TF4', 'expression'], axis=1)\n",
    "#print(T12)\n",
    "T12_l = T12.values.tolist()\n",
    "#T12_l"
   ]
  },
  {
   "cell_type": "code",
   "execution_count": 10,
   "metadata": {
    "scrolled": false
   },
   "outputs": [
    {
     "data": {
      "text/plain": [
       "[0, 0]    7\n",
       "[1, 1]    5\n",
       "[1, 0]    2\n",
       "[0, 1]    1\n",
       "dtype: int64"
      ]
     },
     "execution_count": 10,
     "metadata": {},
     "output_type": "execute_result"
    }
   ],
   "source": [
    "sr = pd.Series(T12_l)\n",
    "sr.value_counts() # それぞれの値の出現回数をカウントしてくれる。"
   ]
  },
  {
   "cell_type": "code",
   "execution_count": 11,
   "metadata": {},
   "outputs": [
    {
     "name": "stdout",
     "output_type": "stream",
     "text": [
      "       TF1  TF2\n",
      "#gene          \n",
      "A        1    1\n",
      "B        1    1\n",
      "C        1    0\n",
      "D        0    0\n",
      "E        1    1\n",
      "F        1    0\n",
      "G        1    1\n",
      "H        0    0\n",
      "I        0    1\n",
      "J        0    0\n",
      "K        0    0\n",
      "L        0    0\n",
      "M        0    0\n",
      "N        1    1\n",
      "O        0    0\n"
     ]
    }
   ],
   "source": [
    "T12e = df.drop(['TF3', 'TF4'], axis=1)\n",
    "print(T12)\n",
    "T12e_l = T12e.values.tolist()\n",
    "#T12e_l"
   ]
  },
  {
   "cell_type": "code",
   "execution_count": 12,
   "metadata": {},
   "outputs": [
    {
     "data": {
      "text/plain": [
       "[0, 0, 0]    5\n",
       "[1, 1, 1]    5\n",
       "[1, 0, 0]    2\n",
       "[0, 0, 1]    2\n",
       "[0, 1, 0]    1\n",
       "dtype: int64"
      ]
     },
     "execution_count": 12,
     "metadata": {},
     "output_type": "execute_result"
    }
   ],
   "source": [
    "sr = pd.Series(T12e_l)\n",
    "sr.value_counts() # それぞれの値の出現回数をカウントしてくれる。"
   ]
  },
  {
   "cell_type": "markdown",
   "metadata": {},
   "source": [
    "DataFrameはざっくり言うと二次元配列に相当、一次元配列はSeries"
   ]
  },
  {
   "cell_type": "markdown",
   "metadata": {},
   "source": [
    "二重確率行列を作りたいhttps://ja.wikipedia.org/wiki/二重確率行列"
   ]
  },
  {
   "cell_type": "code",
   "execution_count": 13,
   "metadata": {
    "scrolled": true
   },
   "outputs": [],
   "source": [
    "#df12=pd.DataFrame([[7,1, 8], [2, 5, 7], [9, 6, 15]], index=['TF1=0', 'TF1=1', 'each_sum_TF2'], columns=['TF2=0','TF2=1', 'each_sum_TF1'])"
   ]
  },
  {
   "cell_type": "code",
   "execution_count": 14,
   "metadata": {
    "scrolled": true
   },
   "outputs": [
    {
     "data": {
      "text/html": [
       "<div>\n",
       "<style scoped>\n",
       "    .dataframe tbody tr th:only-of-type {\n",
       "        vertical-align: middle;\n",
       "    }\n",
       "\n",
       "    .dataframe tbody tr th {\n",
       "        vertical-align: top;\n",
       "    }\n",
       "\n",
       "    .dataframe thead th {\n",
       "        text-align: right;\n",
       "    }\n",
       "</style>\n",
       "<table border=\"1\" class=\"dataframe\">\n",
       "  <thead>\n",
       "    <tr style=\"text-align: right;\">\n",
       "      <th></th>\n",
       "      <th>TF2=0</th>\n",
       "      <th>TF2=1</th>\n",
       "      <th>each_sum_TF1</th>\n",
       "    </tr>\n",
       "  </thead>\n",
       "  <tbody>\n",
       "    <tr>\n",
       "      <th>TF1=0</th>\n",
       "      <td>0.50</td>\n",
       "      <td>0.166667</td>\n",
       "      <td>0.666667</td>\n",
       "    </tr>\n",
       "    <tr>\n",
       "      <th>TF1=1</th>\n",
       "      <td>0.25</td>\n",
       "      <td>0.083333</td>\n",
       "      <td>0.333333</td>\n",
       "    </tr>\n",
       "    <tr>\n",
       "      <th>each_sum_TF2</th>\n",
       "      <td>0.75</td>\n",
       "      <td>0.250000</td>\n",
       "      <td>1.000000</td>\n",
       "    </tr>\n",
       "  </tbody>\n",
       "</table>\n",
       "</div>"
      ],
      "text/plain": [
       "              TF2=0     TF2=1  each_sum_TF1\n",
       "TF1=0          0.50  0.166667      0.666667\n",
       "TF1=1          0.25  0.083333      0.333333\n",
       "each_sum_TF2   0.75  0.250000      1.000000"
      ]
     },
     "execution_count": 14,
     "metadata": {},
     "output_type": "execute_result"
    }
   ],
   "source": [
    "df12_ex0=pd.DataFrame([[(5+1)/12,(1+1)/12, (6+2)/12], [(2+1)/12, (0+1)/12, (2+2)/12], [(7+2)/12, (1+2)/12, (8+4)/12]], \n",
    "                      index=['TF1=0', 'TF1=1', 'each_sum_TF2'], columns=['TF2=0','TF2=1', 'each_sum_TF1'])\n",
    "df12_ex0"
   ]
  },
  {
   "cell_type": "code",
   "execution_count": 15,
   "metadata": {},
   "outputs": [
    {
     "data": {
      "text/html": [
       "<div>\n",
       "<style scoped>\n",
       "    .dataframe tbody tr th:only-of-type {\n",
       "        vertical-align: middle;\n",
       "    }\n",
       "\n",
       "    .dataframe tbody tr th {\n",
       "        vertical-align: top;\n",
       "    }\n",
       "\n",
       "    .dataframe thead th {\n",
       "        text-align: right;\n",
       "    }\n",
       "</style>\n",
       "<table border=\"1\" class=\"dataframe\">\n",
       "  <thead>\n",
       "    <tr style=\"text-align: right;\">\n",
       "      <th></th>\n",
       "      <th>TF2=0</th>\n",
       "      <th>TF2=1</th>\n",
       "      <th>each_sum_TF1</th>\n",
       "    </tr>\n",
       "  </thead>\n",
       "  <tbody>\n",
       "    <tr>\n",
       "      <th>TF1=0</th>\n",
       "      <td>0.272727</td>\n",
       "      <td>0.090909</td>\n",
       "      <td>0.363636</td>\n",
       "    </tr>\n",
       "    <tr>\n",
       "      <th>TF1=1</th>\n",
       "      <td>0.090909</td>\n",
       "      <td>0.545455</td>\n",
       "      <td>0.636364</td>\n",
       "    </tr>\n",
       "    <tr>\n",
       "      <th>each_sum_TF2</th>\n",
       "      <td>0.363636</td>\n",
       "      <td>0.636364</td>\n",
       "      <td>1.000000</td>\n",
       "    </tr>\n",
       "  </tbody>\n",
       "</table>\n",
       "</div>"
      ],
      "text/plain": [
       "                 TF2=0     TF2=1  each_sum_TF1\n",
       "TF1=0         0.272727  0.090909      0.363636\n",
       "TF1=1         0.090909  0.545455      0.636364\n",
       "each_sum_TF2  0.363636  0.636364      1.000000"
      ]
     },
     "execution_count": 15,
     "metadata": {},
     "output_type": "execute_result"
    }
   ],
   "source": [
    "df12_ex1=pd.DataFrame([[(2+1)/11,(0+1)/11, (2+2)/11], [(0+1)/11, (5+1)/11, (5+2)/11], [(2+2)/11, (5+2)/11, (7+4)/11]], \n",
    "                      index=['TF1=0', 'TF1=1', 'each_sum_TF2'], columns=['TF2=0','TF2=1', 'each_sum_TF1'])\n",
    "df12_ex1"
   ]
  },
  {
   "cell_type": "code",
   "execution_count": 16,
   "metadata": {},
   "outputs": [
    {
     "data": {
      "text/plain": [
       "0.25"
      ]
     },
     "execution_count": 16,
     "metadata": {},
     "output_type": "execute_result"
    }
   ],
   "source": [
    "df12_ex0.iloc[2, 1] #each_sum_TF2 and TF2=1"
   ]
  },
  {
   "cell_type": "code",
   "execution_count": 17,
   "metadata": {},
   "outputs": [],
   "source": [
    "def shinkhorn(matrix0, matrix1):\n",
    "    repeat = True\n",
    "    while repeat:\n",
    "        for i in range(0, 2):\n",
    "            if matrix0.iloc[2, i] != matrix1.iloc[2, i]:\n",
    "                for j in range(0, 2):\n",
    "                    matrix0.iloc[j, i] = matrix0.iloc[j, i] / matrix0.iloc[2, i] * matrix1.iloc[2, i]\n",
    "        matrix0.iloc[2, 0] = matrix0.iloc[0, 0] + matrix0.iloc[1, 0]\n",
    "        matrix0.iloc[2, 1] = matrix0.iloc[0, 1] + matrix0.iloc[1, 1]\n",
    "        matrix0.iloc[0, 2] = matrix0.iloc[0, 0] + matrix0.iloc[0, 1]\n",
    "        matrix0.iloc[1, 2] = matrix0.iloc[1, 0] + matrix0.iloc[1, 1]\n",
    "        \n",
    "        for k in range(0, 2):\n",
    "                if matrix0.iloc[k, 2] != matrix1.iloc[k, 2]:\n",
    "                    for l in range(0, 2):\n",
    "                        matrix0.iloc[l, k] = matrix0.iloc[l, k] / matrix0.iloc[l, 2] * matrix1.iloc[l, 2]\n",
    "        matrix0.iloc[2, 0] = matrix0.iloc[0, 0] + matrix0.iloc[1, 0]\n",
    "        matrix0.iloc[2, 1] = matrix0.iloc[0, 1] + matrix0.iloc[1, 1]\n",
    "        matrix0.iloc[0, 2] = matrix0.iloc[0, 0] + matrix0.iloc[0, 1]\n",
    "        matrix0.iloc[1, 2] = matrix0.iloc[1, 0] + matrix0.iloc[1, 1]\n",
    "        \n",
    "        repeat = False\n",
    "        for i in range(0, 2):\n",
    "            if (matrix0.iloc[2, i] - matrix1.iloc[2, i])**2 >= 0.0001:\n",
    "                repeat = True          \n",
    "        for k in range(0, 2):\n",
    "            if (matrix0.iloc[k, 2] - matrix1.iloc[k, 2])**2 >= 0.0001:\n",
    "                repeat = True\n",
    "                \n",
    "    matrix0.iloc[2, 2] = matrix0.iloc[2, 0] + matrix0.iloc[2, 1]  \n",
    "    return matrix0"
   ]
  },
  {
   "cell_type": "code",
   "execution_count": 18,
   "metadata": {},
   "outputs": [
    {
     "data": {
      "text/html": [
       "<div>\n",
       "<style scoped>\n",
       "    .dataframe tbody tr th:only-of-type {\n",
       "        vertical-align: middle;\n",
       "    }\n",
       "\n",
       "    .dataframe tbody tr th {\n",
       "        vertical-align: top;\n",
       "    }\n",
       "\n",
       "    .dataframe thead th {\n",
       "        text-align: right;\n",
       "    }\n",
       "</style>\n",
       "<table border=\"1\" class=\"dataframe\">\n",
       "  <thead>\n",
       "    <tr style=\"text-align: right;\">\n",
       "      <th></th>\n",
       "      <th>TF2=0</th>\n",
       "      <th>TF2=1</th>\n",
       "      <th>each_sum_TF1</th>\n",
       "    </tr>\n",
       "  </thead>\n",
       "  <tbody>\n",
       "    <tr>\n",
       "      <th>TF1=0</th>\n",
       "      <td>0.50</td>\n",
       "      <td>0.166667</td>\n",
       "      <td>0.666667</td>\n",
       "    </tr>\n",
       "    <tr>\n",
       "      <th>TF1=1</th>\n",
       "      <td>0.25</td>\n",
       "      <td>0.083333</td>\n",
       "      <td>0.333333</td>\n",
       "    </tr>\n",
       "    <tr>\n",
       "      <th>each_sum_TF2</th>\n",
       "      <td>0.75</td>\n",
       "      <td>0.250000</td>\n",
       "      <td>1.000000</td>\n",
       "    </tr>\n",
       "  </tbody>\n",
       "</table>\n",
       "</div>"
      ],
      "text/plain": [
       "              TF2=0     TF2=1  each_sum_TF1\n",
       "TF1=0          0.50  0.166667      0.666667\n",
       "TF1=1          0.25  0.083333      0.333333\n",
       "each_sum_TF2   0.75  0.250000      1.000000"
      ]
     },
     "execution_count": 18,
     "metadata": {},
     "output_type": "execute_result"
    }
   ],
   "source": [
    "df12_ex0 #p12"
   ]
  },
  {
   "cell_type": "code",
   "execution_count": 19,
   "metadata": {
    "scrolled": true
   },
   "outputs": [
    {
     "data": {
      "text/html": [
       "<div>\n",
       "<style scoped>\n",
       "    .dataframe tbody tr th:only-of-type {\n",
       "        vertical-align: middle;\n",
       "    }\n",
       "\n",
       "    .dataframe tbody tr th {\n",
       "        vertical-align: top;\n",
       "    }\n",
       "\n",
       "    .dataframe thead th {\n",
       "        text-align: right;\n",
       "    }\n",
       "</style>\n",
       "<table border=\"1\" class=\"dataframe\">\n",
       "  <thead>\n",
       "    <tr style=\"text-align: right;\">\n",
       "      <th></th>\n",
       "      <th>TF2=0</th>\n",
       "      <th>TF2=1</th>\n",
       "      <th>each_sum_TF1</th>\n",
       "    </tr>\n",
       "  </thead>\n",
       "  <tbody>\n",
       "    <tr>\n",
       "      <th>TF1=0</th>\n",
       "      <td>0.132231</td>\n",
       "      <td>0.231405</td>\n",
       "      <td>0.363636</td>\n",
       "    </tr>\n",
       "    <tr>\n",
       "      <th>TF1=1</th>\n",
       "      <td>0.231405</td>\n",
       "      <td>0.404959</td>\n",
       "      <td>0.636364</td>\n",
       "    </tr>\n",
       "    <tr>\n",
       "      <th>each_sum_TF2</th>\n",
       "      <td>0.363636</td>\n",
       "      <td>0.636364</td>\n",
       "      <td>1.000000</td>\n",
       "    </tr>\n",
       "  </tbody>\n",
       "</table>\n",
       "</div>"
      ],
      "text/plain": [
       "                 TF2=0     TF2=1  each_sum_TF1\n",
       "TF1=0         0.132231  0.231405      0.363636\n",
       "TF1=1         0.231405  0.404959      0.636364\n",
       "each_sum_TF2  0.363636  0.636364      1.000000"
      ]
     },
     "execution_count": 19,
     "metadata": {},
     "output_type": "execute_result"
    }
   ],
   "source": [
    "shinkhorn(df12_ex0.copy(), df12_ex1) #pp12"
   ]
  },
  {
   "cell_type": "code",
   "execution_count": 20,
   "metadata": {},
   "outputs": [
    {
     "data": {
      "text/html": [
       "<div>\n",
       "<style scoped>\n",
       "    .dataframe tbody tr th:only-of-type {\n",
       "        vertical-align: middle;\n",
       "    }\n",
       "\n",
       "    .dataframe tbody tr th {\n",
       "        vertical-align: top;\n",
       "    }\n",
       "\n",
       "    .dataframe thead th {\n",
       "        text-align: right;\n",
       "    }\n",
       "</style>\n",
       "<table border=\"1\" class=\"dataframe\">\n",
       "  <thead>\n",
       "    <tr style=\"text-align: right;\">\n",
       "      <th></th>\n",
       "      <th>TF2=0</th>\n",
       "      <th>TF2=1</th>\n",
       "      <th>each_sum_TF1</th>\n",
       "    </tr>\n",
       "  </thead>\n",
       "  <tbody>\n",
       "    <tr>\n",
       "      <th>TF1=0</th>\n",
       "      <td>0.272727</td>\n",
       "      <td>0.090909</td>\n",
       "      <td>0.363636</td>\n",
       "    </tr>\n",
       "    <tr>\n",
       "      <th>TF1=1</th>\n",
       "      <td>0.090909</td>\n",
       "      <td>0.545455</td>\n",
       "      <td>0.636364</td>\n",
       "    </tr>\n",
       "    <tr>\n",
       "      <th>each_sum_TF2</th>\n",
       "      <td>0.363636</td>\n",
       "      <td>0.636364</td>\n",
       "      <td>1.000000</td>\n",
       "    </tr>\n",
       "  </tbody>\n",
       "</table>\n",
       "</div>"
      ],
      "text/plain": [
       "                 TF2=0     TF2=1  each_sum_TF1\n",
       "TF1=0         0.272727  0.090909      0.363636\n",
       "TF1=1         0.090909  0.545455      0.636364\n",
       "each_sum_TF2  0.363636  0.636364      1.000000"
      ]
     },
     "execution_count": 20,
     "metadata": {},
     "output_type": "execute_result"
    }
   ],
   "source": [
    "df12_ex1 #q12"
   ]
  },
  {
   "cell_type": "code",
   "execution_count": 21,
   "metadata": {},
   "outputs": [],
   "source": [
    "import numpy as np\n",
    "\n",
    "def kl(p, q):\n",
    "    return np.sum(np.where(p != 0, p * np.log2(p / q), 0))"
   ]
  },
  {
   "cell_type": "code",
   "execution_count": 22,
   "metadata": {},
   "outputs": [],
   "source": [
    "p12 = np.array([[(5+1)/12,(1+1)/12, (6+2)/12], [(2+1)/12, (0+1)/12, (2+2)/12], [(7+2)/12, (1+2)/12, (8+4)/12]])\n",
    "pp12 = np.array([[0.132231, 0.231405, 0.363636], [0.2311405, 0.404959, 0.636364], [0.363636, 0.636364,  1.000000]])\n",
    "q12 = np.array([[(2+1)/11,(0+1)/11, (2+2)/11], [(0+1)/11, (5+1)/11, (5+2)/11], [(2+2)/11, (5+2)/11, (7+4)/11]])"
   ]
  },
  {
   "cell_type": "code",
   "execution_count": 23,
   "metadata": {},
   "outputs": [
    {
     "data": {
      "text/plain": [
       "1.7814420918511125"
      ]
     },
     "execution_count": 23,
     "metadata": {},
     "output_type": "execute_result"
    }
   ],
   "source": [
    "kl(q12,  p12)"
   ]
  },
  {
   "cell_type": "code",
   "execution_count": 24,
   "metadata": {},
   "outputs": [
    {
     "data": {
      "text/plain": [
       "0.27428156560774863"
      ]
     },
     "execution_count": 24,
     "metadata": {},
     "output_type": "execute_result"
    }
   ],
   "source": [
    "kl(q12, pp12) #interaction"
   ]
  },
  {
   "cell_type": "code",
   "execution_count": 25,
   "metadata": {
    "scrolled": false
   },
   "outputs": [
    {
     "data": {
      "text/plain": [
       "1.5069622287613549"
      ]
     },
     "execution_count": 25,
     "metadata": {},
     "output_type": "execute_result"
    }
   ],
   "source": [
    "kl(pp12, p12) # "
   ]
  },
  {
   "cell_type": "code",
   "execution_count": 79,
   "metadata": {},
   "outputs": [
    {
     "name": "stdout",
     "output_type": "stream",
     "text": [
      "True\n"
     ]
    }
   ],
   "source": [
    "import math\n",
    "print(math.isclose(kl(q12,  p12), kl(q12,  pp12) + kl(pp12,  p12),  abs_tol=0.01))"
   ]
  },
  {
   "cell_type": "markdown",
   "metadata": {},
   "source": [
    "### TF1 & TF3について"
   ]
  },
  {
   "cell_type": "code",
   "execution_count": 27,
   "metadata": {},
   "outputs": [],
   "source": [
    "T13 = df.drop(['TF2', 'TF4', 'expression'], axis=1)\n",
    "#print(T13)\n",
    "T13_l = T13.values.tolist()\n",
    "#T13_l\n",
    "\n",
    "T13e = df.drop(['TF2', 'TF4'], axis=1)\n",
    "#print(T13)\n",
    "T13e_l = T13e.values.tolist()\n",
    "#T13e_l"
   ]
  },
  {
   "cell_type": "code",
   "execution_count": 28,
   "metadata": {},
   "outputs": [
    {
     "data": {
      "text/plain": [
       "[0, 0, 0]    5\n",
       "[1, 1, 1]    5\n",
       "[1, 0, 0]    2\n",
       "[0, 0, 1]    2\n",
       "[0, 1, 0]    1\n",
       "dtype: int64"
      ]
     },
     "execution_count": 28,
     "metadata": {},
     "output_type": "execute_result"
    }
   ],
   "source": [
    "sr = pd.Series(T13e_l)\n",
    "sr.value_counts() # それぞれの値の出現回数をカウントしてくれる。"
   ]
  },
  {
   "cell_type": "code",
   "execution_count": 29,
   "metadata": {},
   "outputs": [
    {
     "data": {
      "text/html": [
       "<div>\n",
       "<style scoped>\n",
       "    .dataframe tbody tr th:only-of-type {\n",
       "        vertical-align: middle;\n",
       "    }\n",
       "\n",
       "    .dataframe tbody tr th {\n",
       "        vertical-align: top;\n",
       "    }\n",
       "\n",
       "    .dataframe thead th {\n",
       "        text-align: right;\n",
       "    }\n",
       "</style>\n",
       "<table border=\"1\" class=\"dataframe\">\n",
       "  <thead>\n",
       "    <tr style=\"text-align: right;\">\n",
       "      <th></th>\n",
       "      <th>TF3=0</th>\n",
       "      <th>TF3=1</th>\n",
       "      <th>each_sum_TF1</th>\n",
       "    </tr>\n",
       "  </thead>\n",
       "  <tbody>\n",
       "    <tr>\n",
       "      <th>TF1=0</th>\n",
       "      <td>0.500000</td>\n",
       "      <td>0.250000</td>\n",
       "      <td>0.75</td>\n",
       "    </tr>\n",
       "    <tr>\n",
       "      <th>TF1=1</th>\n",
       "      <td>0.166667</td>\n",
       "      <td>0.083333</td>\n",
       "      <td>0.25</td>\n",
       "    </tr>\n",
       "    <tr>\n",
       "      <th>each_sum_TF3</th>\n",
       "      <td>0.666667</td>\n",
       "      <td>0.333333</td>\n",
       "      <td>1.00</td>\n",
       "    </tr>\n",
       "  </tbody>\n",
       "</table>\n",
       "</div>"
      ],
      "text/plain": [
       "                 TF3=0     TF3=1  each_sum_TF1\n",
       "TF1=0         0.500000  0.250000          0.75\n",
       "TF1=1         0.166667  0.083333          0.25\n",
       "each_sum_TF3  0.666667  0.333333          1.00"
      ]
     },
     "execution_count": 29,
     "metadata": {},
     "output_type": "execute_result"
    }
   ],
   "source": [
    "df13_ex0=pd.DataFrame([[(5+1)/12, (2+1)/12, (7+2)/12], [(1+1)/12, (0+1)/12, (1+2)/12], [(6+2)/12, (2+2)/12, (8+4)/12]], \n",
    "                      index=['TF1=0', 'TF1=1', 'each_sum_TF3'], columns=['TF3=0','TF3=1', 'each_sum_TF1'])\n",
    "df13_ex0 #p13"
   ]
  },
  {
   "cell_type": "code",
   "execution_count": 30,
   "metadata": {},
   "outputs": [
    {
     "data": {
      "text/html": [
       "<div>\n",
       "<style scoped>\n",
       "    .dataframe tbody tr th:only-of-type {\n",
       "        vertical-align: middle;\n",
       "    }\n",
       "\n",
       "    .dataframe tbody tr th {\n",
       "        vertical-align: top;\n",
       "    }\n",
       "\n",
       "    .dataframe thead th {\n",
       "        text-align: right;\n",
       "    }\n",
       "</style>\n",
       "<table border=\"1\" class=\"dataframe\">\n",
       "  <thead>\n",
       "    <tr style=\"text-align: right;\">\n",
       "      <th></th>\n",
       "      <th>TF3=0</th>\n",
       "      <th>TF3=1</th>\n",
       "      <th>each_sum_TF1</th>\n",
       "    </tr>\n",
       "  </thead>\n",
       "  <tbody>\n",
       "    <tr>\n",
       "      <th>TF1=0</th>\n",
       "      <td>0.272727</td>\n",
       "      <td>0.090909</td>\n",
       "      <td>0.363636</td>\n",
       "    </tr>\n",
       "    <tr>\n",
       "      <th>TF1=1</th>\n",
       "      <td>0.090909</td>\n",
       "      <td>0.545455</td>\n",
       "      <td>0.636364</td>\n",
       "    </tr>\n",
       "    <tr>\n",
       "      <th>each_sum_TF3</th>\n",
       "      <td>0.363636</td>\n",
       "      <td>0.636364</td>\n",
       "      <td>1.000000</td>\n",
       "    </tr>\n",
       "  </tbody>\n",
       "</table>\n",
       "</div>"
      ],
      "text/plain": [
       "                 TF3=0     TF3=1  each_sum_TF1\n",
       "TF1=0         0.272727  0.090909      0.363636\n",
       "TF1=1         0.090909  0.545455      0.636364\n",
       "each_sum_TF3  0.363636  0.636364      1.000000"
      ]
     },
     "execution_count": 30,
     "metadata": {},
     "output_type": "execute_result"
    }
   ],
   "source": [
    "df13_ex1=pd.DataFrame([[(2+1)/11, (0+1)/11 ,(2+2)/11], [(0+1)/11, (5+1)/11, (5+2)/11], [(2+2)/11, (5+2)/11, (7+4)/11]], \n",
    "                      index=['TF1=0', 'TF1=1', 'each_sum_TF3'], columns=['TF3=0','TF3=1', 'each_sum_TF1'])\n",
    "df13_ex1 #q13"
   ]
  },
  {
   "cell_type": "code",
   "execution_count": 31,
   "metadata": {},
   "outputs": [
    {
     "data": {
      "text/html": [
       "<div>\n",
       "<style scoped>\n",
       "    .dataframe tbody tr th:only-of-type {\n",
       "        vertical-align: middle;\n",
       "    }\n",
       "\n",
       "    .dataframe tbody tr th {\n",
       "        vertical-align: top;\n",
       "    }\n",
       "\n",
       "    .dataframe thead th {\n",
       "        text-align: right;\n",
       "    }\n",
       "</style>\n",
       "<table border=\"1\" class=\"dataframe\">\n",
       "  <thead>\n",
       "    <tr style=\"text-align: right;\">\n",
       "      <th></th>\n",
       "      <th>TF3=0</th>\n",
       "      <th>TF3=1</th>\n",
       "      <th>each_sum_TF1</th>\n",
       "    </tr>\n",
       "  </thead>\n",
       "  <tbody>\n",
       "    <tr>\n",
       "      <th>TF1=0</th>\n",
       "      <td>0.132231</td>\n",
       "      <td>0.231405</td>\n",
       "      <td>0.363636</td>\n",
       "    </tr>\n",
       "    <tr>\n",
       "      <th>TF1=1</th>\n",
       "      <td>0.231405</td>\n",
       "      <td>0.404959</td>\n",
       "      <td>0.636364</td>\n",
       "    </tr>\n",
       "    <tr>\n",
       "      <th>each_sum_TF3</th>\n",
       "      <td>0.363636</td>\n",
       "      <td>0.636364</td>\n",
       "      <td>1.000000</td>\n",
       "    </tr>\n",
       "  </tbody>\n",
       "</table>\n",
       "</div>"
      ],
      "text/plain": [
       "                 TF3=0     TF3=1  each_sum_TF1\n",
       "TF1=0         0.132231  0.231405      0.363636\n",
       "TF1=1         0.231405  0.404959      0.636364\n",
       "each_sum_TF3  0.363636  0.636364      1.000000"
      ]
     },
     "execution_count": 31,
     "metadata": {},
     "output_type": "execute_result"
    }
   ],
   "source": [
    "shinkhorn(df13_ex0.copy(), df13_ex1) #pp13"
   ]
  },
  {
   "cell_type": "code",
   "execution_count": 32,
   "metadata": {},
   "outputs": [],
   "source": [
    "p13 = np.array([[(5+1)/12, (2+1)/12, (7+2)/12], [(1+1)/12, (0+1)/12, (1+2)/12], [(6+2)/12, (2+2)/12, (8+4)/12]])\n",
    "pp13 = np.array([[0.132231, 0.231405, 0.363636], [0.2311405, 0.404959, 0.636364], [0.363636, 0.636364,  1.000000]])\n",
    "q13 = np.array([[(2+1)/11,(0+1)/11, (2+2)/11], [(0+1)/11, (5+1)/11, (5+2)/11], [(2+2)/11, (5+2)/11, (7+4)/11]])"
   ]
  },
  {
   "cell_type": "code",
   "execution_count": 33,
   "metadata": {},
   "outputs": [
    {
     "data": {
      "text/plain": [
       "1.7814420918511125"
      ]
     },
     "execution_count": 33,
     "metadata": {},
     "output_type": "execute_result"
    }
   ],
   "source": [
    "kl(q13,  p13)"
   ]
  },
  {
   "cell_type": "code",
   "execution_count": 34,
   "metadata": {},
   "outputs": [
    {
     "data": {
      "text/plain": [
       "0.27428156560774863"
      ]
     },
     "execution_count": 34,
     "metadata": {},
     "output_type": "execute_result"
    }
   ],
   "source": [
    "kl(q13, pp13)"
   ]
  },
  {
   "cell_type": "code",
   "execution_count": 35,
   "metadata": {
    "scrolled": true
   },
   "outputs": [
    {
     "data": {
      "text/plain": [
       "1.506807506179914"
      ]
     },
     "execution_count": 35,
     "metadata": {},
     "output_type": "execute_result"
    }
   ],
   "source": [
    "kl(pp13, p13)"
   ]
  },
  {
   "cell_type": "code",
   "execution_count": 80,
   "metadata": {},
   "outputs": [
    {
     "name": "stdout",
     "output_type": "stream",
     "text": [
      "True\n"
     ]
    }
   ],
   "source": [
    "print(math.isclose(kl(q13,  p13), kl(q13,  pp13) + kl(pp13,  p13),  abs_tol=0.01))"
   ]
  },
  {
   "cell_type": "markdown",
   "metadata": {},
   "source": [
    "### TF1 & TF4 について"
   ]
  },
  {
   "cell_type": "code",
   "execution_count": 37,
   "metadata": {},
   "outputs": [],
   "source": [
    "T14 = df.drop(['TF2', 'TF3', 'expression'], axis=1)\n",
    "#print(T14)\n",
    "T14_l = T14.values.tolist()\n",
    "#T14_l\n",
    "\n",
    "T14e = df.drop(['TF2', 'TF3'], axis=1)\n",
    "#print(T14)\n",
    "T14e_l = T14e.values.tolist()\n",
    "#T14e_l"
   ]
  },
  {
   "cell_type": "code",
   "execution_count": 38,
   "metadata": {},
   "outputs": [
    {
     "data": {
      "text/plain": [
       "[1, 0, 1]    4\n",
       "[0, 1, 0]    3\n",
       "[0, 0, 0]    3\n",
       "[0, 0, 1]    1\n",
       "[1, 1, 0]    1\n",
       "[1, 1, 1]    1\n",
       "[1, 0, 0]    1\n",
       "[0, 1, 1]    1\n",
       "dtype: int64"
      ]
     },
     "execution_count": 38,
     "metadata": {},
     "output_type": "execute_result"
    }
   ],
   "source": [
    "sr = pd.Series(T14e_l)\n",
    "sr.value_counts() # それぞれの値の出現回数をカウントしてくれる。"
   ]
  },
  {
   "cell_type": "code",
   "execution_count": 39,
   "metadata": {},
   "outputs": [
    {
     "data": {
      "text/html": [
       "<div>\n",
       "<style scoped>\n",
       "    .dataframe tbody tr th:only-of-type {\n",
       "        vertical-align: middle;\n",
       "    }\n",
       "\n",
       "    .dataframe tbody tr th {\n",
       "        vertical-align: top;\n",
       "    }\n",
       "\n",
       "    .dataframe thead th {\n",
       "        text-align: right;\n",
       "    }\n",
       "</style>\n",
       "<table border=\"1\" class=\"dataframe\">\n",
       "  <thead>\n",
       "    <tr style=\"text-align: right;\">\n",
       "      <th></th>\n",
       "      <th>TF4=0</th>\n",
       "      <th>TF4=1</th>\n",
       "      <th>each_sum_TF1</th>\n",
       "    </tr>\n",
       "  </thead>\n",
       "  <tbody>\n",
       "    <tr>\n",
       "      <th>TF1=0</th>\n",
       "      <td>0.375</td>\n",
       "      <td>0.375</td>\n",
       "      <td>0.75</td>\n",
       "    </tr>\n",
       "    <tr>\n",
       "      <th>TF1=1</th>\n",
       "      <td>0.125</td>\n",
       "      <td>0.125</td>\n",
       "      <td>0.25</td>\n",
       "    </tr>\n",
       "    <tr>\n",
       "      <th>each_sum_TF4</th>\n",
       "      <td>0.500</td>\n",
       "      <td>0.500</td>\n",
       "      <td>1.00</td>\n",
       "    </tr>\n",
       "  </tbody>\n",
       "</table>\n",
       "</div>"
      ],
      "text/plain": [
       "              TF4=0  TF4=1  each_sum_TF1\n",
       "TF1=0         0.375  0.375          0.75\n",
       "TF1=1         0.125  0.125          0.25\n",
       "each_sum_TF4  0.500  0.500          1.00"
      ]
     },
     "execution_count": 39,
     "metadata": {},
     "output_type": "execute_result"
    }
   ],
   "source": [
    "df14_ex0=pd.DataFrame([[3/8, 3/8, 6/8], [1/8, 1/8, 2/8], [4/8, 4/8, 8/8]], \n",
    "                      index=['TF1=0', 'TF1=1', 'each_sum_TF4'], columns=['TF4=0','TF4=1', 'each_sum_TF1'])\n",
    "df14_ex0 #p14"
   ]
  },
  {
   "cell_type": "code",
   "execution_count": 40,
   "metadata": {},
   "outputs": [
    {
     "data": {
      "text/html": [
       "<div>\n",
       "<style scoped>\n",
       "    .dataframe tbody tr th:only-of-type {\n",
       "        vertical-align: middle;\n",
       "    }\n",
       "\n",
       "    .dataframe tbody tr th {\n",
       "        vertical-align: top;\n",
       "    }\n",
       "\n",
       "    .dataframe thead th {\n",
       "        text-align: right;\n",
       "    }\n",
       "</style>\n",
       "<table border=\"1\" class=\"dataframe\">\n",
       "  <thead>\n",
       "    <tr style=\"text-align: right;\">\n",
       "      <th></th>\n",
       "      <th>TF4=0</th>\n",
       "      <th>TF4=1</th>\n",
       "      <th>each_sum_TF1</th>\n",
       "    </tr>\n",
       "  </thead>\n",
       "  <tbody>\n",
       "    <tr>\n",
       "      <th>TF1=0</th>\n",
       "      <td>0.142857</td>\n",
       "      <td>0.142857</td>\n",
       "      <td>0.285714</td>\n",
       "    </tr>\n",
       "    <tr>\n",
       "      <th>TF1=1</th>\n",
       "      <td>0.571429</td>\n",
       "      <td>0.142857</td>\n",
       "      <td>0.714286</td>\n",
       "    </tr>\n",
       "    <tr>\n",
       "      <th>each_sum_TF4</th>\n",
       "      <td>0.714286</td>\n",
       "      <td>0.285714</td>\n",
       "      <td>1.000000</td>\n",
       "    </tr>\n",
       "  </tbody>\n",
       "</table>\n",
       "</div>"
      ],
      "text/plain": [
       "                 TF4=0     TF4=1  each_sum_TF1\n",
       "TF1=0         0.142857  0.142857      0.285714\n",
       "TF1=1         0.571429  0.142857      0.714286\n",
       "each_sum_TF4  0.714286  0.285714      1.000000"
      ]
     },
     "execution_count": 40,
     "metadata": {},
     "output_type": "execute_result"
    }
   ],
   "source": [
    "df14_ex1=pd.DataFrame([[1/7, 1/7, 2/7], [4/7, 1/7, 5/7], [5/7, 2/7, 7/7]], \n",
    "                      index=['TF1=0', 'TF1=1', 'each_sum_TF4'], columns=['TF4=0','TF4=1', 'each_sum_TF1'])\n",
    "df14_ex1 #q14"
   ]
  },
  {
   "cell_type": "code",
   "execution_count": 41,
   "metadata": {},
   "outputs": [
    {
     "data": {
      "text/html": [
       "<div>\n",
       "<style scoped>\n",
       "    .dataframe tbody tr th:only-of-type {\n",
       "        vertical-align: middle;\n",
       "    }\n",
       "\n",
       "    .dataframe tbody tr th {\n",
       "        vertical-align: top;\n",
       "    }\n",
       "\n",
       "    .dataframe thead th {\n",
       "        text-align: right;\n",
       "    }\n",
       "</style>\n",
       "<table border=\"1\" class=\"dataframe\">\n",
       "  <thead>\n",
       "    <tr style=\"text-align: right;\">\n",
       "      <th></th>\n",
       "      <th>TF4=0</th>\n",
       "      <th>TF4=1</th>\n",
       "      <th>each_sum_TF1</th>\n",
       "    </tr>\n",
       "  </thead>\n",
       "  <tbody>\n",
       "    <tr>\n",
       "      <th>TF1=0</th>\n",
       "      <td>0.204082</td>\n",
       "      <td>0.081633</td>\n",
       "      <td>0.285714</td>\n",
       "    </tr>\n",
       "    <tr>\n",
       "      <th>TF1=1</th>\n",
       "      <td>0.510204</td>\n",
       "      <td>0.204082</td>\n",
       "      <td>0.714286</td>\n",
       "    </tr>\n",
       "    <tr>\n",
       "      <th>each_sum_TF4</th>\n",
       "      <td>0.714286</td>\n",
       "      <td>0.285714</td>\n",
       "      <td>1.000000</td>\n",
       "    </tr>\n",
       "  </tbody>\n",
       "</table>\n",
       "</div>"
      ],
      "text/plain": [
       "                 TF4=0     TF4=1  each_sum_TF1\n",
       "TF1=0         0.204082  0.081633      0.285714\n",
       "TF1=1         0.510204  0.204082      0.714286\n",
       "each_sum_TF4  0.714286  0.285714      1.000000"
      ]
     },
     "execution_count": 41,
     "metadata": {},
     "output_type": "execute_result"
    }
   ],
   "source": [
    "shinkhorn(df14_ex0.copy(), df14_ex1) #pp14"
   ]
  },
  {
   "cell_type": "code",
   "execution_count": 42,
   "metadata": {},
   "outputs": [],
   "source": [
    "p14 = np.array([[3/8, 3/8, 6/8], [1/8, 1/8, 2/8], [4/8, 4/8, 8/8]])\n",
    "pp14 = np.array([[0.204082, 0.081633, 0.285714], [0.510204, 0.204082, 0.714286], [0.714286, 0.285714,  1.000000]])\n",
    "q14 = np.array([[1/7, 1/7, 2/7], [4/7, 1/7, 5/7], [5/7, 2/7, 7/7]])"
   ]
  },
  {
   "cell_type": "code",
   "execution_count": 43,
   "metadata": {},
   "outputs": [
    {
     "data": {
      "text/plain": [
       "1.7035682261113303"
      ]
     },
     "execution_count": 43,
     "metadata": {},
     "output_type": "execute_result"
    }
   ],
   "source": [
    "kl(q14,  p14)"
   ]
  },
  {
   "cell_type": "code",
   "execution_count": 44,
   "metadata": {},
   "outputs": [
    {
     "data": {
      "text/plain": [
       "0.06174187196002533"
      ]
     },
     "execution_count": 44,
     "metadata": {},
     "output_type": "execute_result"
    }
   ],
   "source": [
    "kl(q14, pp14)"
   ]
  },
  {
   "cell_type": "code",
   "execution_count": 45,
   "metadata": {
    "scrolled": true
   },
   "outputs": [
    {
     "data": {
      "text/plain": [
       "1.6418265276716526"
      ]
     },
     "execution_count": 45,
     "metadata": {},
     "output_type": "execute_result"
    }
   ],
   "source": [
    "kl(pp14, p14)"
   ]
  },
  {
   "cell_type": "code",
   "execution_count": 81,
   "metadata": {},
   "outputs": [
    {
     "name": "stdout",
     "output_type": "stream",
     "text": [
      "True\n"
     ]
    }
   ],
   "source": [
    "print(math.isclose(kl(q14,  p14), kl(q14,  pp14) + kl(pp14,  p14),  abs_tol=0.01))"
   ]
  },
  {
   "cell_type": "markdown",
   "metadata": {},
   "source": [
    "### TF2 & TF3 について"
   ]
  },
  {
   "cell_type": "code",
   "execution_count": 47,
   "metadata": {},
   "outputs": [],
   "source": [
    "T23 = df.drop(['TF2', 'TF4', 'expression'], axis=1)\n",
    "#print(T23)\n",
    "T23_l = T23.values.tolist()\n",
    "#T23_l\n",
    "\n",
    "T23e = df.drop(['TF2', 'TF4'], axis=1)\n",
    "#print(T23)\n",
    "T23e_l = T23e.values.tolist()\n",
    "#T23e_l"
   ]
  },
  {
   "cell_type": "code",
   "execution_count": 48,
   "metadata": {},
   "outputs": [
    {
     "data": {
      "text/plain": [
       "[0, 0, 0]    5\n",
       "[1, 1, 1]    5\n",
       "[1, 0, 0]    2\n",
       "[0, 0, 1]    2\n",
       "[0, 1, 0]    1\n",
       "dtype: int64"
      ]
     },
     "execution_count": 48,
     "metadata": {},
     "output_type": "execute_result"
    }
   ],
   "source": [
    "sr = pd.Series(T23e_l)\n",
    "sr.value_counts() # それぞれの値の出現回数をカウントしてくれる。"
   ]
  },
  {
   "cell_type": "code",
   "execution_count": 49,
   "metadata": {},
   "outputs": [
    {
     "data": {
      "text/html": [
       "<div>\n",
       "<style scoped>\n",
       "    .dataframe tbody tr th:only-of-type {\n",
       "        vertical-align: middle;\n",
       "    }\n",
       "\n",
       "    .dataframe tbody tr th {\n",
       "        vertical-align: top;\n",
       "    }\n",
       "\n",
       "    .dataframe thead th {\n",
       "        text-align: right;\n",
       "    }\n",
       "</style>\n",
       "<table border=\"1\" class=\"dataframe\">\n",
       "  <thead>\n",
       "    <tr style=\"text-align: right;\">\n",
       "      <th></th>\n",
       "      <th>TF3=0</th>\n",
       "      <th>TF3=1</th>\n",
       "      <th>each_sum_TF2</th>\n",
       "    </tr>\n",
       "  </thead>\n",
       "  <tbody>\n",
       "    <tr>\n",
       "      <th>TF2=0</th>\n",
       "      <td>0.50</td>\n",
       "      <td>0.166667</td>\n",
       "      <td>0.666667</td>\n",
       "    </tr>\n",
       "    <tr>\n",
       "      <th>TF2=1</th>\n",
       "      <td>0.25</td>\n",
       "      <td>0.083333</td>\n",
       "      <td>0.333333</td>\n",
       "    </tr>\n",
       "    <tr>\n",
       "      <th>each_sum_TF3</th>\n",
       "      <td>0.75</td>\n",
       "      <td>0.250000</td>\n",
       "      <td>1.000000</td>\n",
       "    </tr>\n",
       "  </tbody>\n",
       "</table>\n",
       "</div>"
      ],
      "text/plain": [
       "              TF3=0     TF3=1  each_sum_TF2\n",
       "TF2=0          0.50  0.166667      0.666667\n",
       "TF2=1          0.25  0.083333      0.333333\n",
       "each_sum_TF3   0.75  0.250000      1.000000"
      ]
     },
     "execution_count": 49,
     "metadata": {},
     "output_type": "execute_result"
    }
   ],
   "source": [
    "df23_ex0=pd.DataFrame([[(5+1)/12, (1+1)/12, (6+2)/12], [(2+1)/12, (0+1)/12, (2+2)/12], [(7+2)/12, (1+2)/12, (8+4)/12]], \n",
    "                      index=['TF2=0', 'TF2=1', 'each_sum_TF3'], columns=['TF3=0','TF3=1', 'each_sum_TF2'])\n",
    "df23_ex0 #p23"
   ]
  },
  {
   "cell_type": "code",
   "execution_count": 50,
   "metadata": {},
   "outputs": [
    {
     "data": {
      "text/html": [
       "<div>\n",
       "<style scoped>\n",
       "    .dataframe tbody tr th:only-of-type {\n",
       "        vertical-align: middle;\n",
       "    }\n",
       "\n",
       "    .dataframe tbody tr th {\n",
       "        vertical-align: top;\n",
       "    }\n",
       "\n",
       "    .dataframe thead th {\n",
       "        text-align: right;\n",
       "    }\n",
       "</style>\n",
       "<table border=\"1\" class=\"dataframe\">\n",
       "  <thead>\n",
       "    <tr style=\"text-align: right;\">\n",
       "      <th></th>\n",
       "      <th>TF4=0</th>\n",
       "      <th>TF4=1</th>\n",
       "      <th>each_sum_TF1</th>\n",
       "    </tr>\n",
       "  </thead>\n",
       "  <tbody>\n",
       "    <tr>\n",
       "      <th>TF1=0</th>\n",
       "      <td>0.272727</td>\n",
       "      <td>0.090909</td>\n",
       "      <td>0.363636</td>\n",
       "    </tr>\n",
       "    <tr>\n",
       "      <th>TF1=1</th>\n",
       "      <td>0.090909</td>\n",
       "      <td>0.545455</td>\n",
       "      <td>0.636364</td>\n",
       "    </tr>\n",
       "    <tr>\n",
       "      <th>each_sum_TF4</th>\n",
       "      <td>0.363636</td>\n",
       "      <td>0.636364</td>\n",
       "      <td>1.000000</td>\n",
       "    </tr>\n",
       "  </tbody>\n",
       "</table>\n",
       "</div>"
      ],
      "text/plain": [
       "                 TF4=0     TF4=1  each_sum_TF1\n",
       "TF1=0         0.272727  0.090909      0.363636\n",
       "TF1=1         0.090909  0.545455      0.636364\n",
       "each_sum_TF4  0.363636  0.636364      1.000000"
      ]
     },
     "execution_count": 50,
     "metadata": {},
     "output_type": "execute_result"
    }
   ],
   "source": [
    "df23_ex1=pd.DataFrame([[(2+1)/11, (0+1)/11, (2+2)/11], [(0+1)/11, (5+1)/11, (5+2)/11], [(2+2)/11, (5+2)/11, (7+4)/11]], \n",
    "                      index=['TF1=0', 'TF1=1', 'each_sum_TF4'], columns=['TF4=0','TF4=1', 'each_sum_TF1'])\n",
    "df23_ex1 #q23"
   ]
  },
  {
   "cell_type": "code",
   "execution_count": 51,
   "metadata": {},
   "outputs": [
    {
     "data": {
      "text/html": [
       "<div>\n",
       "<style scoped>\n",
       "    .dataframe tbody tr th:only-of-type {\n",
       "        vertical-align: middle;\n",
       "    }\n",
       "\n",
       "    .dataframe tbody tr th {\n",
       "        vertical-align: top;\n",
       "    }\n",
       "\n",
       "    .dataframe thead th {\n",
       "        text-align: right;\n",
       "    }\n",
       "</style>\n",
       "<table border=\"1\" class=\"dataframe\">\n",
       "  <thead>\n",
       "    <tr style=\"text-align: right;\">\n",
       "      <th></th>\n",
       "      <th>TF3=0</th>\n",
       "      <th>TF3=1</th>\n",
       "      <th>each_sum_TF2</th>\n",
       "    </tr>\n",
       "  </thead>\n",
       "  <tbody>\n",
       "    <tr>\n",
       "      <th>TF2=0</th>\n",
       "      <td>0.132231</td>\n",
       "      <td>0.231405</td>\n",
       "      <td>0.363636</td>\n",
       "    </tr>\n",
       "    <tr>\n",
       "      <th>TF2=1</th>\n",
       "      <td>0.231405</td>\n",
       "      <td>0.404959</td>\n",
       "      <td>0.636364</td>\n",
       "    </tr>\n",
       "    <tr>\n",
       "      <th>each_sum_TF3</th>\n",
       "      <td>0.363636</td>\n",
       "      <td>0.636364</td>\n",
       "      <td>1.000000</td>\n",
       "    </tr>\n",
       "  </tbody>\n",
       "</table>\n",
       "</div>"
      ],
      "text/plain": [
       "                 TF3=0     TF3=1  each_sum_TF2\n",
       "TF2=0         0.132231  0.231405      0.363636\n",
       "TF2=1         0.231405  0.404959      0.636364\n",
       "each_sum_TF3  0.363636  0.636364      1.000000"
      ]
     },
     "execution_count": 51,
     "metadata": {},
     "output_type": "execute_result"
    }
   ],
   "source": [
    "shinkhorn(df23_ex0.copy(), df23_ex1) #pp23"
   ]
  },
  {
   "cell_type": "code",
   "execution_count": 52,
   "metadata": {},
   "outputs": [],
   "source": [
    "p23 = np.array([[(5+1)/12, (1+1)/12, (6+2)/12], [(2+1)/12, (0+1)/12, (2+2)/12], [(7+2)/12, (1+2)/12, (8+4)/12]])\n",
    "pp23 = np.array([[0.132231, 0.231405, 0.363636], [0.231405, 0.404959, 0.636364], [0.363636, 0.636364,  1.000000]])\n",
    "q23 = np.array([[(2+1)/11, (0+1)/11, (2+2)/11], [(0+1)/11, (5+1)/11, (5+2)/11], [(2+2)/11, (5+2)/11, (7+4)/11]])"
   ]
  },
  {
   "cell_type": "code",
   "execution_count": 53,
   "metadata": {},
   "outputs": [
    {
     "data": {
      "text/plain": [
       "1.7814420918511125"
      ]
     },
     "execution_count": 53,
     "metadata": {},
     "output_type": "execute_result"
    }
   ],
   "source": [
    "kl(q23,  p23)"
   ]
  },
  {
   "cell_type": "code",
   "execution_count": 54,
   "metadata": {},
   "outputs": [
    {
     "data": {
      "text/plain": [
       "0.2741315684212672"
      ]
     },
     "execution_count": 54,
     "metadata": {},
     "output_type": "execute_result"
    }
   ],
   "source": [
    "kl(q23,  pp23)"
   ]
  },
  {
   "cell_type": "code",
   "execution_count": 55,
   "metadata": {
    "scrolled": true
   },
   "outputs": [
    {
     "data": {
      "text/plain": [
       "1.507314109551623"
      ]
     },
     "execution_count": 55,
     "metadata": {},
     "output_type": "execute_result"
    }
   ],
   "source": [
    "kl(pp23,  p23)"
   ]
  },
  {
   "cell_type": "code",
   "execution_count": 82,
   "metadata": {},
   "outputs": [
    {
     "name": "stdout",
     "output_type": "stream",
     "text": [
      "True\n"
     ]
    }
   ],
   "source": [
    "print(math.isclose(kl(q23,  p23), kl(q23,  pp23) + kl(pp23,  p23),  abs_tol=0.01))"
   ]
  },
  {
   "cell_type": "markdown",
   "metadata": {},
   "source": [
    "### TF2 & TF4 について"
   ]
  },
  {
   "cell_type": "code",
   "execution_count": 57,
   "metadata": {},
   "outputs": [],
   "source": [
    "T24 = df.drop(['TF1', 'TF3', 'expression'], axis=1)\n",
    "#print(T24)\n",
    "T24_l = T24.values.tolist()\n",
    "#T24_l\n",
    "\n",
    "T24e = df.drop(['TF1', 'TF3'], axis=1)\n",
    "#print(T24)\n",
    "T24e_l = T24e.values.tolist()\n",
    "#T24e_l"
   ]
  },
  {
   "cell_type": "code",
   "execution_count": 58,
   "metadata": {},
   "outputs": [
    {
     "data": {
      "text/plain": [
       "[1, 0, 1]    4\n",
       "[0, 0, 0]    4\n",
       "[0, 1, 0]    3\n",
       "[1, 1, 0]    1\n",
       "[0, 1, 1]    1\n",
       "[0, 0, 1]    1\n",
       "[1, 1, 1]    1\n",
       "dtype: int64"
      ]
     },
     "execution_count": 58,
     "metadata": {},
     "output_type": "execute_result"
    }
   ],
   "source": [
    "sr = pd.Series(T24e_l)\n",
    "sr.value_counts() # それぞれの値の出現回数をカウントしてくれる。"
   ]
  },
  {
   "cell_type": "code",
   "execution_count": 59,
   "metadata": {},
   "outputs": [
    {
     "data": {
      "text/html": [
       "<div>\n",
       "<style scoped>\n",
       "    .dataframe tbody tr th:only-of-type {\n",
       "        vertical-align: middle;\n",
       "    }\n",
       "\n",
       "    .dataframe tbody tr th {\n",
       "        vertical-align: top;\n",
       "    }\n",
       "\n",
       "    .dataframe thead th {\n",
       "        text-align: right;\n",
       "    }\n",
       "</style>\n",
       "<table border=\"1\" class=\"dataframe\">\n",
       "  <thead>\n",
       "    <tr style=\"text-align: right;\">\n",
       "      <th></th>\n",
       "      <th>TF4=0</th>\n",
       "      <th>TF4=1</th>\n",
       "      <th>each_sum_TF2</th>\n",
       "    </tr>\n",
       "  </thead>\n",
       "  <tbody>\n",
       "    <tr>\n",
       "      <th>TF2=0</th>\n",
       "      <td>0.416667</td>\n",
       "      <td>0.333333</td>\n",
       "      <td>0.75</td>\n",
       "    </tr>\n",
       "    <tr>\n",
       "      <th>TF2=1</th>\n",
       "      <td>0.083333</td>\n",
       "      <td>0.166667</td>\n",
       "      <td>0.25</td>\n",
       "    </tr>\n",
       "    <tr>\n",
       "      <th>each_sum_TF4</th>\n",
       "      <td>0.500000</td>\n",
       "      <td>0.500000</td>\n",
       "      <td>1.00</td>\n",
       "    </tr>\n",
       "  </tbody>\n",
       "</table>\n",
       "</div>"
      ],
      "text/plain": [
       "                 TF4=0     TF4=1  each_sum_TF2\n",
       "TF2=0         0.416667  0.333333          0.75\n",
       "TF2=1         0.083333  0.166667          0.25\n",
       "each_sum_TF4  0.500000  0.500000          1.00"
      ]
     },
     "execution_count": 59,
     "metadata": {},
     "output_type": "execute_result"
    }
   ],
   "source": [
    "df24_ex0=pd.DataFrame([[(4+1)/12, (3+1)/12, (7+2)/12], [(0+1)/12 ,(1+1)/12, (1+2)/12], [(4+2)/12, (4+2)/12, (8+4)/12]], \n",
    "                      index=['TF2=0', 'TF2=1', 'each_sum_TF4'], columns=['TF4=0','TF4=1', 'each_sum_TF2'])\n",
    "df24_ex0 #p24"
   ]
  },
  {
   "cell_type": "code",
   "execution_count": 60,
   "metadata": {},
   "outputs": [
    {
     "data": {
      "text/html": [
       "<div>\n",
       "<style scoped>\n",
       "    .dataframe tbody tr th:only-of-type {\n",
       "        vertical-align: middle;\n",
       "    }\n",
       "\n",
       "    .dataframe tbody tr th {\n",
       "        vertical-align: top;\n",
       "    }\n",
       "\n",
       "    .dataframe thead th {\n",
       "        text-align: right;\n",
       "    }\n",
       "</style>\n",
       "<table border=\"1\" class=\"dataframe\">\n",
       "  <thead>\n",
       "    <tr style=\"text-align: right;\">\n",
       "      <th></th>\n",
       "      <th>TF4=0</th>\n",
       "      <th>TF4=1</th>\n",
       "      <th>each_sum_TF2</th>\n",
       "    </tr>\n",
       "  </thead>\n",
       "  <tbody>\n",
       "    <tr>\n",
       "      <th>TF2=0</th>\n",
       "      <td>0.142857</td>\n",
       "      <td>0.142857</td>\n",
       "      <td>0.285714</td>\n",
       "    </tr>\n",
       "    <tr>\n",
       "      <th>TF2=1</th>\n",
       "      <td>0.571429</td>\n",
       "      <td>0.142857</td>\n",
       "      <td>0.714286</td>\n",
       "    </tr>\n",
       "    <tr>\n",
       "      <th>each_sum_TF4</th>\n",
       "      <td>0.714286</td>\n",
       "      <td>0.285714</td>\n",
       "      <td>1.000000</td>\n",
       "    </tr>\n",
       "  </tbody>\n",
       "</table>\n",
       "</div>"
      ],
      "text/plain": [
       "                 TF4=0     TF4=1  each_sum_TF2\n",
       "TF2=0         0.142857  0.142857      0.285714\n",
       "TF2=1         0.571429  0.142857      0.714286\n",
       "each_sum_TF4  0.714286  0.285714      1.000000"
      ]
     },
     "execution_count": 60,
     "metadata": {},
     "output_type": "execute_result"
    }
   ],
   "source": [
    "df24_ex1=pd.DataFrame([[1/7, 1/7 ,2/7], [4/7, 1/7, 5/7], [5/7, 2/7, 7/7]], \n",
    "                      index=['TF2=0', 'TF2=1', 'each_sum_TF4'], columns=['TF4=0','TF4=1', 'each_sum_TF2'])\n",
    "df24_ex1 #q24"
   ]
  },
  {
   "cell_type": "code",
   "execution_count": 61,
   "metadata": {},
   "outputs": [
    {
     "data": {
      "text/html": [
       "<div>\n",
       "<style scoped>\n",
       "    .dataframe tbody tr th:only-of-type {\n",
       "        vertical-align: middle;\n",
       "    }\n",
       "\n",
       "    .dataframe tbody tr th {\n",
       "        vertical-align: top;\n",
       "    }\n",
       "\n",
       "    .dataframe thead th {\n",
       "        text-align: right;\n",
       "    }\n",
       "</style>\n",
       "<table border=\"1\" class=\"dataframe\">\n",
       "  <thead>\n",
       "    <tr style=\"text-align: right;\">\n",
       "      <th></th>\n",
       "      <th>TF4=0</th>\n",
       "      <th>TF4=1</th>\n",
       "      <th>each_sum_TF2</th>\n",
       "    </tr>\n",
       "  </thead>\n",
       "  <tbody>\n",
       "    <tr>\n",
       "      <th>TF2=0</th>\n",
       "      <td>0.237504</td>\n",
       "      <td>0.048210</td>\n",
       "      <td>0.285714</td>\n",
       "    </tr>\n",
       "    <tr>\n",
       "      <th>TF2=1</th>\n",
       "      <td>0.473833</td>\n",
       "      <td>0.240453</td>\n",
       "      <td>0.714286</td>\n",
       "    </tr>\n",
       "    <tr>\n",
       "      <th>each_sum_TF4</th>\n",
       "      <td>0.711338</td>\n",
       "      <td>0.288662</td>\n",
       "      <td>1.000000</td>\n",
       "    </tr>\n",
       "  </tbody>\n",
       "</table>\n",
       "</div>"
      ],
      "text/plain": [
       "                 TF4=0     TF4=1  each_sum_TF2\n",
       "TF2=0         0.237504  0.048210      0.285714\n",
       "TF2=1         0.473833  0.240453      0.714286\n",
       "each_sum_TF4  0.711338  0.288662      1.000000"
      ]
     },
     "execution_count": 61,
     "metadata": {},
     "output_type": "execute_result"
    }
   ],
   "source": [
    "shinkhorn(df24_ex0.copy(), df24_ex1) #pp24"
   ]
  },
  {
   "cell_type": "code",
   "execution_count": 62,
   "metadata": {},
   "outputs": [],
   "source": [
    "p24 = np.array([[(4+1)/12, (3+1)/12, (7+2)/12], [(0+1)/12, (1+1)/12, (1+2)/12], [(4+2)/12, (4+2)/12, (8+4)/12]])\n",
    "pp24 = np.array([[0.237504, 0.048210, 0.285714], [0.473833, 0.240453, 0.714286], [0.711338, 0.288662,  1.000000]])\n",
    "q24 = np.array([[1/7, 1/7, 2/7], [4/7, 1/7, 5/7], [5/7, 2/7, 7/7]])"
   ]
  },
  {
   "cell_type": "code",
   "execution_count": 63,
   "metadata": {},
   "outputs": [
    {
     "data": {
      "text/plain": [
       "1.9811017134831936"
      ]
     },
     "execution_count": 63,
     "metadata": {},
     "output_type": "execute_result"
    }
   ],
   "source": [
    "kl(q24,  p24)"
   ]
  },
  {
   "cell_type": "code",
   "execution_count": 64,
   "metadata": {},
   "outputs": [
    {
     "data": {
      "text/plain": [
       "0.16622864737702492"
      ]
     },
     "execution_count": 64,
     "metadata": {},
     "output_type": "execute_result"
    }
   ],
   "source": [
    "kl(q24,  pp24)"
   ]
  },
  {
   "cell_type": "code",
   "execution_count": 65,
   "metadata": {
    "scrolled": true
   },
   "outputs": [
    {
     "data": {
      "text/plain": [
       "1.8052046046154082"
      ]
     },
     "execution_count": 65,
     "metadata": {},
     "output_type": "execute_result"
    }
   ],
   "source": [
    "kl(pp24,  p24)"
   ]
  },
  {
   "cell_type": "code",
   "execution_count": 83,
   "metadata": {},
   "outputs": [
    {
     "name": "stdout",
     "output_type": "stream",
     "text": [
      "True\n"
     ]
    }
   ],
   "source": [
    "print(math.isclose(kl(q24,  p24), kl(q24,  pp24) + kl(pp24,  p24),  abs_tol=0.01))"
   ]
  },
  {
   "cell_type": "markdown",
   "metadata": {},
   "source": [
    "### TF3 & TF4 について"
   ]
  },
  {
   "cell_type": "code",
   "execution_count": 67,
   "metadata": {},
   "outputs": [],
   "source": [
    "T34 = df.drop(['TF1', 'TF2', 'expression'], axis=1)\n",
    "#print(T34)\n",
    "T34_l = T34.values.tolist()\n",
    "#T34_l\n",
    "\n",
    "T34e = df.drop(['TF1', 'TF2'], axis=1)\n",
    "#print(T34)\n",
    "T34e_l = T34e.values.tolist()\n",
    "#T34e_l"
   ]
  },
  {
   "cell_type": "code",
   "execution_count": 68,
   "metadata": {},
   "outputs": [
    {
     "data": {
      "text/plain": [
       "[0, 1, 0]    4\n",
       "[1, 0, 1]    4\n",
       "[0, 0, 0]    3\n",
       "[1, 0, 0]    1\n",
       "[0, 1, 1]    1\n",
       "[0, 0, 1]    1\n",
       "[1, 1, 1]    1\n",
       "dtype: int64"
      ]
     },
     "execution_count": 68,
     "metadata": {},
     "output_type": "execute_result"
    }
   ],
   "source": [
    "sr = pd.Series(T34e_l)\n",
    "sr.value_counts() # それぞれの値の出現回数をカウントしてくれる。"
   ]
  },
  {
   "cell_type": "code",
   "execution_count": 69,
   "metadata": {},
   "outputs": [
    {
     "data": {
      "text/html": [
       "<div>\n",
       "<style scoped>\n",
       "    .dataframe tbody tr th:only-of-type {\n",
       "        vertical-align: middle;\n",
       "    }\n",
       "\n",
       "    .dataframe tbody tr th {\n",
       "        vertical-align: top;\n",
       "    }\n",
       "\n",
       "    .dataframe thead th {\n",
       "        text-align: right;\n",
       "    }\n",
       "</style>\n",
       "<table border=\"1\" class=\"dataframe\">\n",
       "  <thead>\n",
       "    <tr style=\"text-align: right;\">\n",
       "      <th></th>\n",
       "      <th>TF4=0</th>\n",
       "      <th>TF4=1</th>\n",
       "      <th>each_sum_TF3</th>\n",
       "    </tr>\n",
       "  </thead>\n",
       "  <tbody>\n",
       "    <tr>\n",
       "      <th>TF3=0</th>\n",
       "      <td>0.333333</td>\n",
       "      <td>0.416667</td>\n",
       "      <td>0.75</td>\n",
       "    </tr>\n",
       "    <tr>\n",
       "      <th>TF3=1</th>\n",
       "      <td>0.166667</td>\n",
       "      <td>0.083333</td>\n",
       "      <td>0.25</td>\n",
       "    </tr>\n",
       "    <tr>\n",
       "      <th>each_sum_TF4</th>\n",
       "      <td>0.500000</td>\n",
       "      <td>0.500000</td>\n",
       "      <td>1.00</td>\n",
       "    </tr>\n",
       "  </tbody>\n",
       "</table>\n",
       "</div>"
      ],
      "text/plain": [
       "                 TF4=0     TF4=1  each_sum_TF3\n",
       "TF3=0         0.333333  0.416667          0.75\n",
       "TF3=1         0.166667  0.083333          0.25\n",
       "each_sum_TF4  0.500000  0.500000          1.00"
      ]
     },
     "execution_count": 69,
     "metadata": {},
     "output_type": "execute_result"
    }
   ],
   "source": [
    "df34_ex0=pd.DataFrame([[(3+1)/12, (4+1)/12, (7+2)/12], [(1+1)/12, (0+1)/12 ,(1+2)/12], [(4+2)/12 ,(4+2)/12, (8+4)/12]], \n",
    "                      index=['TF3=0', 'TF3=1', 'each_sum_TF4'], columns=['TF4=0','TF4=1', 'each_sum_TF3'])\n",
    "df34_ex0 #p34"
   ]
  },
  {
   "cell_type": "code",
   "execution_count": 70,
   "metadata": {},
   "outputs": [
    {
     "data": {
      "text/html": [
       "<div>\n",
       "<style scoped>\n",
       "    .dataframe tbody tr th:only-of-type {\n",
       "        vertical-align: middle;\n",
       "    }\n",
       "\n",
       "    .dataframe tbody tr th {\n",
       "        vertical-align: top;\n",
       "    }\n",
       "\n",
       "    .dataframe thead th {\n",
       "        text-align: right;\n",
       "    }\n",
       "</style>\n",
       "<table border=\"1\" class=\"dataframe\">\n",
       "  <thead>\n",
       "    <tr style=\"text-align: right;\">\n",
       "      <th></th>\n",
       "      <th>TF4=0</th>\n",
       "      <th>TF4=1</th>\n",
       "      <th>each_sum_TF3</th>\n",
       "    </tr>\n",
       "  </thead>\n",
       "  <tbody>\n",
       "    <tr>\n",
       "      <th>TF3=0</th>\n",
       "      <td>0.142857</td>\n",
       "      <td>0.142857</td>\n",
       "      <td>0.285714</td>\n",
       "    </tr>\n",
       "    <tr>\n",
       "      <th>TF3=1</th>\n",
       "      <td>0.571429</td>\n",
       "      <td>0.142857</td>\n",
       "      <td>0.714286</td>\n",
       "    </tr>\n",
       "    <tr>\n",
       "      <th>each_sum_TF4</th>\n",
       "      <td>0.714286</td>\n",
       "      <td>0.285714</td>\n",
       "      <td>1.000000</td>\n",
       "    </tr>\n",
       "  </tbody>\n",
       "</table>\n",
       "</div>"
      ],
      "text/plain": [
       "                 TF4=0     TF4=1  each_sum_TF3\n",
       "TF3=0         0.142857  0.142857      0.285714\n",
       "TF3=1         0.571429  0.142857      0.714286\n",
       "each_sum_TF4  0.714286  0.285714      1.000000"
      ]
     },
     "execution_count": 70,
     "metadata": {},
     "output_type": "execute_result"
    }
   ],
   "source": [
    "df34_ex1=pd.DataFrame([[1/7, 1/7, 2/7], [4/7, 1/7, 5/7], [5/7, 2/7, 7/7]], \n",
    "                      index=['TF3=0', 'TF3=1', 'each_sum_TF4'], columns=['TF4=0','TF4=1', 'each_sum_TF3'])\n",
    "df34_ex1 #q34"
   ]
  },
  {
   "cell_type": "code",
   "execution_count": 71,
   "metadata": {},
   "outputs": [
    {
     "data": {
      "text/html": [
       "<div>\n",
       "<style scoped>\n",
       "    .dataframe tbody tr th:only-of-type {\n",
       "        vertical-align: middle;\n",
       "    }\n",
       "\n",
       "    .dataframe tbody tr th {\n",
       "        vertical-align: top;\n",
       "    }\n",
       "\n",
       "    .dataframe thead th {\n",
       "        text-align: right;\n",
       "    }\n",
       "</style>\n",
       "<table border=\"1\" class=\"dataframe\">\n",
       "  <thead>\n",
       "    <tr style=\"text-align: right;\">\n",
       "      <th></th>\n",
       "      <th>TF4=0</th>\n",
       "      <th>TF4=1</th>\n",
       "      <th>each_sum_TF3</th>\n",
       "    </tr>\n",
       "  </thead>\n",
       "  <tbody>\n",
       "    <tr>\n",
       "      <th>TF3=0</th>\n",
       "      <td>0.164835</td>\n",
       "      <td>0.120879</td>\n",
       "      <td>0.285714</td>\n",
       "    </tr>\n",
       "    <tr>\n",
       "      <th>TF3=1</th>\n",
       "      <td>0.552283</td>\n",
       "      <td>0.162003</td>\n",
       "      <td>0.714286</td>\n",
       "    </tr>\n",
       "    <tr>\n",
       "      <th>each_sum_TF4</th>\n",
       "      <td>0.717118</td>\n",
       "      <td>0.282882</td>\n",
       "      <td>1.000000</td>\n",
       "    </tr>\n",
       "  </tbody>\n",
       "</table>\n",
       "</div>"
      ],
      "text/plain": [
       "                 TF4=0     TF4=1  each_sum_TF3\n",
       "TF3=0         0.164835  0.120879      0.285714\n",
       "TF3=1         0.552283  0.162003      0.714286\n",
       "each_sum_TF4  0.717118  0.282882      1.000000"
      ]
     },
     "execution_count": 71,
     "metadata": {},
     "output_type": "execute_result"
    }
   ],
   "source": [
    "shinkhorn(df34_ex0.copy(), df34_ex1) #pp34"
   ]
  },
  {
   "cell_type": "code",
   "execution_count": 72,
   "metadata": {},
   "outputs": [],
   "source": [
    "p34 = np.array([[(3+1)/12, (4+1)/12, (7+2)/12], [(1+1)/12, (0+1)/12, (1+2)/12], [(4+2)/12, (4+2)/12, (8+4)/12]])\n",
    "pp34 = np.array([[0.164835, 0.120879, 0.285714], [0.552283, 0.162003, 0.714286], [0.717118, 0.282882,  1.000000]])\n",
    "q34 = np.array([[1/7, 1/7, 2/7], [4/7, 1/7, 5/7], [5/7, 2/7, 7/7]])"
   ]
  },
  {
   "cell_type": "code",
   "execution_count": 73,
   "metadata": {},
   "outputs": [
    {
     "data": {
      "text/plain": [
       "1.5525302849117648"
      ]
     },
     "execution_count": 73,
     "metadata": {},
     "output_type": "execute_result"
    }
   ],
   "source": [
    "kl(q34,  p34)"
   ]
  },
  {
   "cell_type": "code",
   "execution_count": 74,
   "metadata": {},
   "outputs": [
    {
     "data": {
      "text/plain": [
       "0.007139119237834075"
      ]
     },
     "execution_count": 74,
     "metadata": {},
     "output_type": "execute_result"
    }
   ],
   "source": [
    "kl(q34,  pp34)"
   ]
  },
  {
   "cell_type": "code",
   "execution_count": 75,
   "metadata": {},
   "outputs": [
    {
     "data": {
      "text/plain": [
       "1.5513728582414896"
      ]
     },
     "execution_count": 75,
     "metadata": {},
     "output_type": "execute_result"
    }
   ],
   "source": [
    "kl(pp34,  p34)"
   ]
  },
  {
   "cell_type": "code",
   "execution_count": 84,
   "metadata": {},
   "outputs": [
    {
     "name": "stdout",
     "output_type": "stream",
     "text": [
      "True\n"
     ]
    }
   ],
   "source": [
    "print(math.isclose(kl(q34,  p34), kl(q34,  pp34) + kl(pp34,  p34),  abs_tol=0.01))"
   ]
  }
 ],
 "metadata": {
  "kernelspec": {
   "display_name": "Python 3",
   "language": "python",
   "name": "python3"
  },
  "language_info": {
   "codemirror_mode": {
    "name": "ipython",
    "version": 3
   },
   "file_extension": ".py",
   "mimetype": "text/x-python",
   "name": "python",
   "nbconvert_exporter": "python",
   "pygments_lexer": "ipython3",
   "version": "3.7.3"
  }
 },
 "nbformat": 4,
 "nbformat_minor": 2
}
