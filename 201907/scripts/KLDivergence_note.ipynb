{
 "cells": [
  {
   "cell_type": "markdown",
   "metadata": {},
   "source": [
    "<img src=\"20190723102854.png\" width=80%>\n",
    "<img src=\"20190723104045.png\" width=80%>\n",
    "<img src=\"20190723105205.png\" width=70%>\n",
    "<img src=\"20190723110608.png\" width=70%>\n",
    "<img src=\"20190723111426.png\" width=70%>\n",
    "<img src=\"20190723114054.png\" width=70%>\n",
    "\n",
    "\n",
    "パラメータとは、母集団全体の記述的測度です。ただし、母集団全体を測定することができないため、通常その値は不明です。したがって、母集団からランダムサンプルを抽出してパラメータ推定値を取得できます。統計分析の目的の1つは、母集団パラメータの推定値と、これらの推定値に付随する誤差の量を得ることです。これらの推定値は、サンプル統計量とも呼ばれています。\n",
    "パラメータ推定値には点推定値、信頼区間があります。<br/>\n",
    "- 点推定値は、パラメータの最も可能性がある単一の値です。たとえば、母平均（パラメータ）の点推定値はサンプルの平均値（パラメータ推定値）です。\n",
    "- 信頼区間とは、母集団パラメータの含まれる可能性が高い値の範囲です。\n",
    "\n",
    "\n",
    "<img src=\"20190724163551.png\" width=70%>\n",
    "<img src=\"20190724165225.png\" width=70%>\n",
    "<img src=\"20190724171335.png\" width=50%>"
   ]
  },
  {
   "cell_type": "markdown",
   "metadata": {},
   "source": [
    "２種類のみの結果しか得られないような実験、試行（ベルヌーイ試行）の結果を0と1で表した分布を指します。 1である確率がpであるとき0である確率は1-pとなる、非常にシンプルな確率分布"
   ]
  }
 ],
 "metadata": {
  "kernelspec": {
   "display_name": "Python 3",
   "language": "python",
   "name": "python3"
  },
  "language_info": {
   "codemirror_mode": {
    "name": "ipython",
    "version": 3
   },
   "file_extension": ".py",
   "mimetype": "text/x-python",
   "name": "python",
   "nbconvert_exporter": "python",
   "pygments_lexer": "ipython3",
   "version": "3.7.3"
  }
 },
 "nbformat": 4,
 "nbformat_minor": 2
}
