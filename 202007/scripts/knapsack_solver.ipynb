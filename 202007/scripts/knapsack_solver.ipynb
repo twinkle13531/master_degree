{
 "cells": [
  {
   "cell_type": "markdown",
   "metadata": {},
   "source": [
    "## ナップザック問題解答例\n",
    "ナップザック問題をどのように解くのか事例を知りたいと思った"
   ]
  },
  {
   "cell_type": "markdown",
   "metadata": {},
   "source": [
    "### pythonライブラリ\n",
    "- 通常の関数だけでも作れることを知った"
   ]
  },
  {
   "cell_type": "code",
   "execution_count": 2,
   "metadata": {},
   "outputs": [
    {
     "name": "stdin",
     "output_type": "stream",
     "text": [
      " 4\n",
      " 2 3\n",
      " 4\n"
     ]
    },
    {
     "ename": "ValueError",
     "evalue": "not enough values to unpack (expected 2, got 1)",
     "output_type": "error",
     "traceback": [
      "\u001b[0;31m\u001b[0m",
      "\u001b[0;31mValueError\u001b[0mTraceback (most recent call last)",
      "\u001b[0;32m<ipython-input-2-e9d861ad6b82>\u001b[0m in \u001b[0;36m<module>\u001b[0;34m\u001b[0m\n\u001b[1;32m      3\u001b[0m \u001b[0mv\u001b[0m \u001b[0;34m=\u001b[0m \u001b[0;34m[\u001b[0m\u001b[0;34m]\u001b[0m\u001b[0;34m\u001b[0m\u001b[0;34m\u001b[0m\u001b[0m\n\u001b[1;32m      4\u001b[0m \u001b[0;32mfor\u001b[0m \u001b[0mi\u001b[0m \u001b[0;32min\u001b[0m \u001b[0mrange\u001b[0m\u001b[0;34m(\u001b[0m\u001b[0mn\u001b[0m\u001b[0;34m)\u001b[0m\u001b[0;34m:\u001b[0m\u001b[0;34m\u001b[0m\u001b[0;34m\u001b[0m\u001b[0m\n\u001b[0;32m----> 5\u001b[0;31m     \u001b[0mx\u001b[0m\u001b[0;34m,\u001b[0m\u001b[0my\u001b[0m \u001b[0;34m=\u001b[0m \u001b[0mmap\u001b[0m\u001b[0;34m(\u001b[0m\u001b[0mint\u001b[0m\u001b[0;34m,\u001b[0m\u001b[0minput\u001b[0m\u001b[0;34m(\u001b[0m\u001b[0;34m)\u001b[0m\u001b[0;34m.\u001b[0m\u001b[0msplit\u001b[0m\u001b[0;34m(\u001b[0m\u001b[0;34m)\u001b[0m\u001b[0;34m)\u001b[0m\u001b[0;34m\u001b[0m\u001b[0;34m\u001b[0m\u001b[0m\n\u001b[0m\u001b[1;32m      6\u001b[0m     \u001b[0mw\u001b[0m\u001b[0;34m.\u001b[0m\u001b[0mappend\u001b[0m\u001b[0;34m(\u001b[0m\u001b[0mx\u001b[0m\u001b[0;34m)\u001b[0m\u001b[0;34m\u001b[0m\u001b[0;34m\u001b[0m\u001b[0m\n\u001b[1;32m      7\u001b[0m     \u001b[0mv\u001b[0m\u001b[0;34m.\u001b[0m\u001b[0mappend\u001b[0m\u001b[0;34m(\u001b[0m\u001b[0my\u001b[0m\u001b[0;34m)\u001b[0m\u001b[0;34m\u001b[0m\u001b[0;34m\u001b[0m\u001b[0m\n",
      "\u001b[0;31mValueError\u001b[0m: not enough values to unpack (expected 2, got 1)"
     ]
    }
   ],
   "source": [
    "n = int(input())\n",
    "w = []\n",
    "v = []\n",
    "for i in range(n):\n",
    "    x,y = map(int,input().split())\n",
    "    w.append(x)\n",
    "    v.append(y)\n",
    "W = int(input())\n",
    "dp = [[0]*(W+1) for j in range(n+1)]\n",
    "\n",
    "for i in range(n-1,-1,-1):\n",
    "    for j in range(W+1):\n",
    "        if j < w[i]:\n",
    "            dp[i][j] = dp[i+1][j]\n",
    "        else:\n",
    "            dp[i][j] = max(dp[i+1][j],dp[i+1][j-w[i]]+v[i])\n",
    "print(dp[0][W])"
   ]
  },
  {
   "cell_type": "markdown",
   "metadata": {},
   "source": [
    "dp[i][j] : i 番目以降の品物から重さが j 以下になるように選んだ時の価値の最大値\n",
    "\n",
    "dpについて\n",
    "一番下の段（i = n) は０（n 番目の物など存在しない）\n",
    "\n",
    "dp[i][j]について\n",
    "i+1 番目以降の品物の理想の選び方が分かってるとしたら（dp[i+1][~]がわかってるとしたら）\n",
    "① i 番目の品物はそもそも持てない（ j < w[i]）\n",
    "　dp[i][j] = dp[i+1][j] ( i +1 番目以降の物のみを使う場合の理想の選び方）\n",
    "\n",
    "② i 番目の品物を持とうと思えば持てる ( j >= w[i] )\n",
    "　dp[i][j] は\n",
    "　⑴ i 番目の品物を持たなかった場合の理想の選び方 ( dp[i+1][j]）\n",
    "　⑵ i + 1 番目の品物を持った場合の理想の選び方 (dp[i+1][j-w[i]] + v[i]）\n",
    "　のどちらか良いほうである。\n",
    " \n",
    " \n",
    "想定入力例\n",
    "```\n",
    "4\n",
    "2 3\n",
    "1 2\n",
    "3 4\n",
    "2 2\n",
    "5\n",
    "```\n",
    "出力　`7`"
   ]
  },
  {
   "cell_type": "markdown",
   "metadata": {},
   "source": [
    "### minisat\n",
    "- `NameError: name 'SatSolver' is not defined`となって使えなかった"
   ]
  },
  {
   "cell_type": "code",
   "execution_count": 4,
   "metadata": {},
   "outputs": [
    {
     "name": "stdout",
     "output_type": "stream",
     "text": [
      "Collecting minisat\n",
      "  Downloading https://files.pythonhosted.org/packages/75/f6/92786702539157e16b4ae79fc47ab40b1e16d10ce0083abf6657eb946a52/minisat-0.0.0.tar.gz\n",
      "Building wheels for collected packages: minisat\n",
      "  Running setup.py bdist_wheel for minisat ... \u001b[?25ldone\n",
      "\u001b[?25h  Stored in directory: /root/.cache/pip/wheels/98/39/8c/ef1ae79cfc6d117d1ac626bd50c4fd3ba7af340be9a68b3d81\n",
      "Successfully built minisat\n",
      "Installing collected packages: minisat\n",
      "Successfully installed minisat-0.0.0\n"
     ]
    }
   ],
   "source": [
    "!pip3 install minisat"
   ]
  },
  {
   "cell_type": "code",
   "execution_count": 13,
   "metadata": {},
   "outputs": [
    {
     "ename": "NameError",
     "evalue": "name 'SatSolver' is not defined",
     "output_type": "error",
     "traceback": [
      "\u001b[0;31m\u001b[0m",
      "\u001b[0;31mNameError\u001b[0mTraceback (most recent call last)",
      "\u001b[0;32m<ipython-input-13-a3091ce5de4a>\u001b[0m in \u001b[0;36m<module>\u001b[0;34m\u001b[0m\n\u001b[1;32m      1\u001b[0m \u001b[0;32mfrom\u001b[0m \u001b[0mminisat\u001b[0m \u001b[0;32mimport\u001b[0m \u001b[0;34m*\u001b[0m\u001b[0;34m\u001b[0m\u001b[0;34m\u001b[0m\u001b[0m\n\u001b[1;32m      2\u001b[0m \u001b[0;34m\u001b[0m\u001b[0m\n\u001b[0;32m----> 3\u001b[0;31m \u001b[0msolver\u001b[0m \u001b[0;34m=\u001b[0m \u001b[0mSatSolver\u001b[0m\u001b[0;34m(\u001b[0m\u001b[0;34m)\u001b[0m\u001b[0;34m\u001b[0m\u001b[0;34m\u001b[0m\u001b[0m\n\u001b[0m\u001b[1;32m      4\u001b[0m \u001b[0ma\u001b[0m \u001b[0;34m=\u001b[0m \u001b[0mSatVar\u001b[0m\u001b[0;34m(\u001b[0m\u001b[0;34m)\u001b[0m\u001b[0;34m\u001b[0m\u001b[0;34m\u001b[0m\u001b[0m\n\u001b[1;32m      5\u001b[0m \u001b[0mb\u001b[0m \u001b[0;34m=\u001b[0m \u001b[0mSatVar\u001b[0m\u001b[0;34m(\u001b[0m\u001b[0;34m)\u001b[0m\u001b[0;34m\u001b[0m\u001b[0;34m\u001b[0m\u001b[0m\n",
      "\u001b[0;31mNameError\u001b[0m: name 'SatSolver' is not defined"
     ]
    }
   ],
   "source": [
    "from minisat import *\n",
    "\n",
    "solver = SatSolver()\n",
    "a = SatVar()\n",
    "b = SatVar()\n",
    "solver.append((-a, -b))\n",
    "solver.append((-a, b))\n",
    "solver.append((a, -b))\n",
    "#solver.append((a, b))\n",
    "satisfy = solver.solve()\n",
    "\n",
    "solver.view()\n",
    "if satisfy:\n",
    "    print(solver[a], solver[b], solver[c])"
   ]
  },
  {
   "cell_type": "markdown",
   "metadata": {},
   "source": [
    "### pulp\n",
    "- わかりやすいし、成功していた"
   ]
  },
  {
   "cell_type": "code",
   "execution_count": 6,
   "metadata": {},
   "outputs": [
    {
     "name": "stdout",
     "output_type": "stream",
     "text": [
      "Collecting pulp\n",
      "  Downloading https://files.pythonhosted.org/packages/16/c8/cdb6e4c47c775e837f6f1a26162963440b7f9d47d01dcb92ce712d5eecb9/PuLP-2.2-py3-none-any.whl (40.6MB)\n",
      "\u001b[K    100% |################################| 40.6MB 32kB/s eta 0:00:01   17% |#####                           | 7.1MB 1.5MB/s eta 0:00:23    29% |#########                       | 12.0MB 976kB/s eta 0:00:30    30% |#########                       | 12.2MB 1.1MB/s eta 0:00:26    32% |##########                      | 13.0MB 821kB/s eta 0:00:34    37% |###########                     | 15.1MB 1.1MB/s eta 0:00:24    41% |#############                   | 16.8MB 1.2MB/s eta 0:00:20    60% |###################             | 24.7MB 1.0MB/s eta 0:00:16    62% |####################            | 25.5MB 1.6MB/s eta 0:00:10    66% |#####################           | 27.0MB 1.0MB/s eta 0:00:13    71% |######################          | 29.1MB 1.1MB/s eta 0:00:11    72% |#######################         | 29.2MB 1.3MB/s eta 0:00:09    76% |########################        | 31.0MB 1.5MB/s eta 0:00:07\n",
      "\u001b[?25hCollecting amply>=0.1.2 (from pulp)\n",
      "  Downloading https://files.pythonhosted.org/packages/7f/11/33cb09557ac838d9488779b79e05a2a3c1f3ce9747cd242ba68332736778/amply-0.1.2.tar.gz\n",
      "Requirement already satisfied: docutils>=0.3 in /usr/local/lib/python3.6/dist-packages (from amply>=0.1.2->pulp)\n",
      "Requirement already satisfied: pyparsing in /usr/local/lib/python3.6/dist-packages (from amply>=0.1.2->pulp)\n",
      "Building wheels for collected packages: amply\n",
      "  Running setup.py bdist_wheel for amply ... \u001b[?25ldone\n",
      "\u001b[?25h  Stored in directory: /root/.cache/pip/wheels/84/18/f7/e5c3ed13ed5bb721763f77d4a924331d59ef115ce61c9d26eb\n",
      "Successfully built amply\n",
      "Installing collected packages: amply, pulp\n",
      "Successfully installed amply-0.1.2 pulp-2.2\n"
     ]
    }
   ],
   "source": [
    "!pip3 install pulp"
   ]
  },
  {
   "cell_type": "code",
   "execution_count": 10,
   "metadata": {},
   "outputs": [
    {
     "name": "stdout",
     "output_type": "stream",
     "text": [
      "最大価値:17.0 / 組み合わせ:[0, 3, 4]\n"
     ]
    }
   ],
   "source": [
    "from pulp import *\n",
    "\n",
    "# 重さ\n",
    "w = [4, 2, 2, 1, 10]\n",
    "\n",
    "# 価値\n",
    "v = [12, 2, 1, 1, 4]\n",
    "\n",
    "# 制約：15kg\n",
    "W = 15\n",
    "\n",
    "r = range(len(w))\n",
    "\n",
    "# 数理モデル\n",
    "m = LpProblem(sense=LpMaximize)\n",
    "\n",
    "# 変数\n",
    "x = [LpVariable('x%d'%i, cat=LpBinary) for i in r]\n",
    "\n",
    "# 目的関数\n",
    "m += lpDot(v, x)\n",
    "\n",
    "# 制約\n",
    "m += lpDot(w, x) <= W \n",
    "m.solve() \n",
    "print('最大価値:{} / 組み合わせ:{}'.format(value(m.objective), [i for i in r if value(x[i]) > 0.5]))\n"
   ]
  },
  {
   "cell_type": "markdown",
   "metadata": {},
   "source": [
    "### ortoolpyのKnapsack\n",
    "- [参考にした記事](https://dev2prod.site/python/napsack/)で最もおすすめされていた"
   ]
  },
  {
   "cell_type": "code",
   "execution_count": 14,
   "metadata": {},
   "outputs": [
    {
     "name": "stdout",
     "output_type": "stream",
     "text": [
      "Collecting ortoolpy\n",
      "  Downloading https://files.pythonhosted.org/packages/97/8a/7c7ee8c19ca5157c89f498e062ccb421c97cb0ce0c2a77754e09865d9a48/ortoolpy-0.2.30.tar.gz\n",
      "Requirement already satisfied: pulp in /usr/local/lib/python3.6/dist-packages (from ortoolpy)\n",
      "Requirement already satisfied: amply>=0.1.2 in /usr/local/lib/python3.6/dist-packages (from pulp->ortoolpy)\n",
      "Requirement already satisfied: pyparsing in /usr/local/lib/python3.6/dist-packages (from amply>=0.1.2->pulp->ortoolpy)\n",
      "Requirement already satisfied: docutils>=0.3 in /usr/local/lib/python3.6/dist-packages (from amply>=0.1.2->pulp->ortoolpy)\n",
      "Building wheels for collected packages: ortoolpy\n",
      "  Running setup.py bdist_wheel for ortoolpy ... \u001b[?25ldone\n",
      "\u001b[?25h  Stored in directory: /root/.cache/pip/wheels/04/b2/96/f6ef2da1545a11cd91ee4bd9da930d588dde5751ac7e088a74\n",
      "Successfully built ortoolpy\n",
      "Installing collected packages: ortoolpy\n",
      "Successfully installed ortoolpy-0.2.30\n"
     ]
    }
   ],
   "source": [
    "!pip3 install ortoolpy"
   ]
  },
  {
   "cell_type": "code",
   "execution_count": 15,
   "metadata": {},
   "outputs": [
    {
     "name": "stdout",
     "output_type": "stream",
     "text": [
      "最大価値:17.0 / 組み合わせ:(17.0, [0, 3, 4])\n"
     ]
    }
   ],
   "source": [
    "from ortoolpy import knapsack\n",
    "\n",
    "# 重さ\n",
    "w = [4, 2, 2, 1, 10]\n",
    "\n",
    "# 価値\n",
    "v = [12, 2, 1, 1, 4]\n",
    "\n",
    "# 制約：15kg\n",
    "W = 15\n",
    "\n",
    "result = knapsack(w, v, W)\n",
    "\n",
    "print('最大価値:{} / 組み合わせ:{}'.format(result[0], result))"
   ]
  },
  {
   "cell_type": "markdown",
   "metadata": {},
   "source": [
    "### cvxpy\n",
    "- `AttributeError: module 'cvxpy' has no attribute 'ECOS_BB'`が発生している。未解決"
   ]
  },
  {
   "cell_type": "code",
   "execution_count": 16,
   "metadata": {},
   "outputs": [
    {
     "name": "stdout",
     "output_type": "stream",
     "text": [
      "Collecting cvxpy\n",
      "  Downloading https://files.pythonhosted.org/packages/e1/a2/22ced5f7917d50df84209d58f3b75214e05d91252c7855387c2150598ba5/cvxpy-1.1.3.tar.gz (994kB)\n",
      "\u001b[K    100% |################################| 1.0MB 854kB/s ta 0:00:01\n",
      "\u001b[?25hCollecting ecos>=2 (from cvxpy)\n",
      "  Downloading https://files.pythonhosted.org/packages/55/ed/d131ff51f3a8f73420eb1191345eb49f269f23cadef515172e356018cde3/ecos-2.0.7.post1-cp36-cp36m-manylinux1_x86_64.whl (147kB)\n",
      "\u001b[K    100% |################################| 153kB 1.4MB/s ta 0:00:01\n",
      "\u001b[?25hRequirement already satisfied: numpy>=1.15 in /usr/local/lib/python3.6/dist-packages (from cvxpy)\n",
      "Collecting osqp>=0.4.1 (from cvxpy)\n",
      "  Downloading https://files.pythonhosted.org/packages/6c/59/2b80e881be227eecef3f2b257339d182167b55d22a1315ff4303ddcfd42f/osqp-0.6.1-cp36-cp36m-manylinux1_x86_64.whl (208kB)\n",
      "\u001b[K    100% |################################| 215kB 1.5MB/s ta 0:00:01\n",
      "\u001b[?25hRequirement already satisfied: scipy>=1.1.0 in /usr/local/lib/python3.6/dist-packages (from cvxpy)\n",
      "Collecting scs>=1.1.3 (from cvxpy)\n",
      "  Downloading https://files.pythonhosted.org/packages/1a/72/33be87cce255d4e9dbbfef547e9fd6ec7ee94d0d0910bb2b13badea3fbbe/scs-2.1.2.tar.gz (3.5MB)\n",
      "\u001b[K    100% |################################| 3.6MB 433kB/s ta 0:00:01    16% |#####                           | 573kB 1.8MB/s eta 0:00:02\n",
      "\u001b[?25hRequirement already satisfied: future in /usr/local/lib/python3.6/dist-packages (from osqp>=0.4.1->cvxpy)\n",
      "Building wheels for collected packages: cvxpy, scs\n",
      "  Running setup.py bdist_wheel for cvxpy ... \u001b[?25ldone\n",
      "\u001b[?25h  Stored in directory: /root/.cache/pip/wheels/3c/b1/d2/90665270884f32548cdd74d6814d818d89ab6cc61766cde3f3\n",
      "  Running setup.py bdist_wheel for scs ... \u001b[?25ldone\n",
      "\u001b[?25h  Stored in directory: /root/.cache/pip/wheels/df/d0/79/37ea880586da03c620ca9ecd5e42adbd86bc6ea84363965c5f\n",
      "Successfully built cvxpy scs\n",
      "Installing collected packages: ecos, osqp, scs, cvxpy\n",
      "Successfully installed cvxpy-1.1.3 ecos-2.0.7.post1 osqp-0.6.1 scs-2.1.2\n"
     ]
    }
   ],
   "source": [
    "!pip3 install cvxpy"
   ]
  },
  {
   "cell_type": "code",
   "execution_count": 18,
   "metadata": {},
   "outputs": [
    {
     "name": "stderr",
     "output_type": "stream",
     "text": [
      "/usr/local/lib/python3.6/dist-packages/cvxpy/expressions/expression.py:516: UserWarning: \n",
      "This use of ``*`` has resulted in matrix multiplication.\n",
      "Using ``*`` for matrix multiplication has been deprecated since CVXPY 1.1.\n",
      "    Use ``*`` for matrix-scalar and vector-scalar multiplication.\n",
      "    Use ``@`` for matrix-matrix and matrix-vector multiplication.\n",
      "    Use ``multiply`` for elementwise multiplication.\n",
      "\n",
      "  warnings.warn(__STAR_MATMUL_WARNING__, UserWarning)\n",
      "/usr/local/lib/python3.6/dist-packages/cvxpy/expressions/expression.py:516: UserWarning: \n",
      "This use of ``*`` has resulted in matrix multiplication.\n",
      "Using ``*`` for matrix multiplication has been deprecated since CVXPY 1.1.\n",
      "    Use ``*`` for matrix-scalar and vector-scalar multiplication.\n",
      "    Use ``@`` for matrix-matrix and matrix-vector multiplication.\n",
      "    Use ``multiply`` for elementwise multiplication.\n",
      "\n",
      "  warnings.warn(__STAR_MATMUL_WARNING__, UserWarning)\n"
     ]
    },
    {
     "ename": "AttributeError",
     "evalue": "module 'cvxpy' has no attribute 'ECOS_BB'",
     "output_type": "error",
     "traceback": [
      "\u001b[0;31m\u001b[0m",
      "\u001b[0;31mAttributeError\u001b[0mTraceback (most recent call last)",
      "\u001b[0;32m<ipython-input-18-85ed17ef99f9>\u001b[0m in \u001b[0;36m<module>\u001b[0;34m\u001b[0m\n\u001b[1;32m     21\u001b[0m \u001b[0mprob\u001b[0m \u001b[0;34m=\u001b[0m \u001b[0mcvxpy\u001b[0m\u001b[0;34m.\u001b[0m\u001b[0mProblem\u001b[0m\u001b[0;34m(\u001b[0m\u001b[0mobjective\u001b[0m\u001b[0;34m,\u001b[0m \u001b[0mconstraints\u001b[0m\u001b[0;34m)\u001b[0m\u001b[0;34m\u001b[0m\u001b[0;34m\u001b[0m\u001b[0m\n\u001b[1;32m     22\u001b[0m \u001b[0;34m\u001b[0m\u001b[0m\n\u001b[0;32m---> 23\u001b[0;31m \u001b[0mprob\u001b[0m\u001b[0;34m.\u001b[0m\u001b[0msolve\u001b[0m\u001b[0;34m(\u001b[0m\u001b[0msolver\u001b[0m\u001b[0;34m=\u001b[0m\u001b[0mcvxpy\u001b[0m\u001b[0;34m.\u001b[0m\u001b[0mECOS_BB\u001b[0m\u001b[0;34m)\u001b[0m\u001b[0;34m\u001b[0m\u001b[0;34m\u001b[0m\u001b[0m\n\u001b[0m\u001b[1;32m     24\u001b[0m \u001b[0;34m\u001b[0m\u001b[0m\n\u001b[1;32m     25\u001b[0m \u001b[0mprint\u001b[0m\u001b[0;34m(\u001b[0m\u001b[0;34m'最大価値:{} / 組み合わせ:{}'\u001b[0m\u001b[0;34m.\u001b[0m\u001b[0mformat\u001b[0m\u001b[0;34m(\u001b[0m\u001b[0mround\u001b[0m\u001b[0;34m(\u001b[0m\u001b[0mprob\u001b[0m\u001b[0;34m.\u001b[0m\u001b[0mvalue\u001b[0m\u001b[0;34m,\u001b[0m \u001b[0;36m0\u001b[0m\u001b[0;34m)\u001b[0m\u001b[0;34m,\u001b[0m \u001b[0;34m[\u001b[0m\u001b[0mi\u001b[0m \u001b[0;32mfor\u001b[0m \u001b[0mi\u001b[0m \u001b[0;32min\u001b[0m \u001b[0mrange\u001b[0m\u001b[0;34m(\u001b[0m\u001b[0mlen\u001b[0m\u001b[0;34m(\u001b[0m\u001b[0mv\u001b[0m\u001b[0;34m)\u001b[0m\u001b[0;34m)\u001b[0m \u001b[0;32mif\u001b[0m \u001b[0mround\u001b[0m\u001b[0;34m(\u001b[0m\u001b[0mx\u001b[0m\u001b[0;34m.\u001b[0m\u001b[0mvalue\u001b[0m\u001b[0;34m[\u001b[0m\u001b[0mi\u001b[0m\u001b[0;34m]\u001b[0m\u001b[0;34m,\u001b[0m \u001b[0;36m0\u001b[0m\u001b[0;34m)\u001b[0m \u001b[0;34m==\u001b[0m \u001b[0;36m1\u001b[0m\u001b[0;34m]\u001b[0m\u001b[0;34m)\u001b[0m\u001b[0;34m)\u001b[0m\u001b[0;34m\u001b[0m\u001b[0;34m\u001b[0m\u001b[0m\n",
      "\u001b[0;31mAttributeError\u001b[0m: module 'cvxpy' has no attribute 'ECOS_BB'"
     ]
    }
   ],
   "source": [
    "from cvxpy import *\n",
    "\n",
    "# 重さ\n",
    "w = [4, 2, 2, 1, 10]\n",
    "\n",
    "# 価値\n",
    "v = [12, 2, 1, 1, 4]\n",
    "\n",
    "# 制約：15kg\n",
    "W = 15\n",
    "\n",
    "# 変数\n",
    "x = cvxpy.Variable(shape=len(v), boolean=True)\n",
    "\n",
    "#　目的関数\n",
    "objective = cvxpy.Maximize(v * x)\n",
    "\n",
    "# 制約\n",
    "constraints = [W >= w * x]\n",
    "\n",
    "prob = cvxpy.Problem(objective, constraints)\n",
    "\n",
    "prob.solve(solver=cvxpy.ECOS_BB)\n",
    "\n",
    "print('最大価値:{} / 組み合わせ:{}'.format(round(prob.value, 0), [i for i in range(len(v)) if round(x.value[i], 0) == 1]))"
   ]
  },
  {
   "cell_type": "code",
   "execution_count": null,
   "metadata": {},
   "outputs": [],
   "source": []
  },
  {
   "cell_type": "code",
   "execution_count": 20,
   "metadata": {},
   "outputs": [
    {
     "name": "stdout",
     "output_type": "stream",
     "text": [
      "Collecting z3-solver\n",
      "  Downloading https://files.pythonhosted.org/packages/d9/c8/96c9a89e4f5e101404ac19a1da17eed972f27d22a8a0ec3e441234eb513f/z3_solver-4.8.8.0-py2.py3-none-manylinux1_x86_64.whl (29.6MB)\n",
      "\u001b[K    100% |################################| 29.6MB 58kB/s eta 0:00:01  1% |                                | 409kB 189kB/s eta 0:02:34    1% |                                | 430kB 179kB/s eta 0:02:43    9% |##                              | 2.7MB 1.8MB/s eta 0:00:15    9% |###                             | 2.9MB 1.9MB/s eta 0:00:15    23% |#######                         | 7.0MB 2.5MB/s eta 0:00:10    42% |#############                   | 12.7MB 1.9MB/s eta 0:00:09    49% |###############                 | 14.7MB 2.0MB/s eta 0:00:08    54% |#################               | 16.2MB 2.5MB/s eta 0:00:06    78% |#########################       | 23.1MB 2.2MB/s eta 0:00:03    78% |#########################       | 23.2MB 2.0MB/s eta 0:00:04    88% |############################    | 26.2MB 2.2MB/s eta 0:00:02    91% |#############################   | 27.1MB 1.4MB/s eta 0:00:02\n",
      "\u001b[?25hInstalling collected packages: z3-solver\n",
      "Successfully installed z3-solver-4.8.8.0\n"
     ]
    }
   ],
   "source": [
    "#!pip3 install z3-solver"
   ]
  },
  {
   "cell_type": "code",
   "execution_count": null,
   "metadata": {},
   "outputs": [],
   "source": [
    "ys = BoolVector(\"y\", 5)"
   ]
  }
 ],
 "metadata": {
  "kernelspec": {
   "display_name": "Python 3",
   "language": "python",
   "name": "python3"
  },
  "language_info": {
   "codemirror_mode": {
    "name": "ipython",
    "version": 3
   },
   "file_extension": ".py",
   "mimetype": "text/x-python",
   "name": "python",
   "nbconvert_exporter": "python",
   "pygments_lexer": "ipython3",
   "version": "3.6.9"
  }
 },
 "nbformat": 4,
 "nbformat_minor": 4
}
