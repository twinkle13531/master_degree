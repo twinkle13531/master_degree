{
 "cells": [
  {
   "cell_type": "markdown",
   "metadata": {},
   "source": [
    "### incremental SMT solver\n",
    "\n",
    "- ABVFP, ALIA, ANIA, AUFNIRA, BV, BVFP, LIA, LRA, QF_ABV, QF_ABVFP, QF_ALIA, QF_ANIA, QF_AUFBV, QF_AUFBVLIA, QF_AUFBVNIA, QF_AUFLIA, QF_BV, QF_BVFP, QF_FP, QF_LIA, QF_LRA, QF_NIA, QF_UF, QF_UFBV, QF_UFBVLIA, QF_UFLIA, QF_UFLRA, QF_UFNIA, UFLRA\n",
    "\n",
    "Instructions on how to clone each repository are available in the repository's space. You can also download this bash script, uncomment the lines relevant to the logic/repositories you want to clone, and run it. Note: Benchmarks with a size of 10MB+ are stored via Git LFS. You will need to install and set up Git LFS before cloning any repositories.\n",
    "\n",
    "<br/>\n",
    "\n",
    "**[SMT-COMP2020](https://smt-comp.github.io/2020/results/results-incremental)**\n",
    "- [CVC4](https://github.com/CVC4/CVC4)というところが勝ったよう。\n",
    "\n",
    "<br/>\n",
    "\n",
    "### PySMT\n",
    "複数のソルバーを使えるようだ。\n",
    "- MathSAT (http://mathsat.fbk.eu/)\n",
    "- Z3 (https://github.com/Z3Prover/z3/)\n",
    "- CVC4 (http://cvc4.cs.nyu.edu/web/ , https://github.com/pysmt/CVC4)\n",
    "- Yices 2 (http://yices.csl.sri.com/)\n",
    "- CUDD (http://vlsi.colorado.edu/~fabio/CUDD/)\n",
    "- PicoSAT (http://fmv.jku.at/picosat/)\n",
    "- Boolector (http://fmv.jku.at/boolector/)\n",
    "\n",
    "前回Z3を単体でインストールして使ったが、👆を使えばよかった(・_・;)<br/>\n",
    "今回は成績が良かったCVC4を使いたい。"
   ]
  },
  {
   "cell_type": "code",
   "execution_count": 2,
   "metadata": {},
   "outputs": [
    {
     "name": "stdout",
     "output_type": "stream",
     "text": [
      "Collecting PySMT\n",
      "  Downloading https://files.pythonhosted.org/packages/e0/6e/69ae88f759b3739ac302ab08238f38d01266f43e82b220142835fd608dde/PySMT-0.9.0-py2.py3-none-any.whl (317kB)\n",
      "\u001b[K    100% |################################| 317kB 911kB/s ta 0:00:01\n",
      "\u001b[?25hRequirement already satisfied: six in /usr/lib/python3/dist-packages (from PySMT)\n",
      "Installing collected packages: PySMT\n",
      "Successfully installed PySMT-0.9.0\n"
     ]
    }
   ],
   "source": [
    "!pip3 install PySMT"
   ]
  },
  {
   "cell_type": "code",
   "execution_count": 3,
   "metadata": {},
   "outputs": [
    {
     "name": "stdout",
     "output_type": "stream",
     "text": [
      "Installed Solvers:\n",
      "  msat      False (None)              Not in Python's path!\n",
      "  cvc4      False (None)              Not in Python's path!\n",
      "  z3        False (None)              Not in Python's path!\n",
      "  yices     False (None)              Not in Python's path!\n",
      "  btor      False (None)              Not in Python's path!\n",
      "  picosat   False (None)              Not in Python's path!\n",
      "  bdd       False (None)              Not in Python's path!\n",
      "\n",
      "Solvers: \n",
      "Quantifier Eliminators: shannon, selfsub\n",
      "UNSAT-Cores: \n",
      "Interpolators: \n"
     ]
    }
   ],
   "source": [
    "!pysmt-install --check\n",
    "#docker fileに書いていないからz3も消えた。"
   ]
  },
  {
   "cell_type": "markdown",
   "metadata": {},
   "source": [
    "```\n",
    "Installed Solvers:\n",
    "  msat      False (None)              Not in Python's path!\n",
    "  cvc4      False (None)              Not in Python's path!\n",
    "  z3        True (4.8.8)             \n",
    "  yices     False (None)              Not in Python's path!\n",
    "  btor      False (None)              Not in Python's path!\n",
    "  picosat   False (None)              Not in Python's path!\n",
    "  bdd       False (None)              Not in Python's path!\n",
    "\n",
    "Solvers: z3\n",
    "Quantifier Eliminators: z3, shannon, selfsub\n",
    "UNSAT-Cores: z3\n",
    "Interpolators: \n",
    "```\n",
    "\n",
    "前回インストールしたz3が活きている。"
   ]
  },
  {
   "cell_type": "code",
   "execution_count": 5,
   "metadata": {},
   "outputs": [],
   "source": [
    "#!yes | pysmt-install --cvc4\n",
    "#失敗する。記載されている`CVC4 (http://cvc4.cs.nyu.edu/web/)`も開けない\n",
    "\n",
    "#`brew insntall cvc4/cvc4/cvc4`をterminalで実行した\n",
    "#`!pysmt-install --check`に反映されていない！！！"
   ]
  },
  {
   "cell_type": "code",
   "execution_count": 5,
   "metadata": {},
   "outputs": [],
   "source": [
    "#!yes | pysmt-install --msat\n",
    "#こちらもエラー"
   ]
  },
  {
   "cell_type": "code",
   "execution_count": null,
   "metadata": {},
   "outputs": [],
   "source": []
  }
 ],
 "metadata": {
  "kernelspec": {
   "display_name": "Python 3",
   "language": "python",
   "name": "python3"
  },
  "language_info": {
   "codemirror_mode": {
    "name": "ipython",
    "version": 3
   },
   "file_extension": ".py",
   "mimetype": "text/x-python",
   "name": "python",
   "nbconvert_exporter": "python",
   "pygments_lexer": "ipython3",
   "version": "3.6.9"
  }
 },
 "nbformat": 4,
 "nbformat_minor": 4
}
