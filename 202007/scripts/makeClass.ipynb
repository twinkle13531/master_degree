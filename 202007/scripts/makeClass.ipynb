{
 "cells": [
  {
   "cell_type": "markdown",
   "metadata": {},
   "source": [
    "# 不等式のQUBO変換を用いて基底エネルギー以下のサンプルを得る\n",
    "\n",
    "\n",
    "#### **このファイルのミッション**\n",
    "classを作る→最低限の入力で計算ができる関数を作る\n",
    "\n",
    "\n",
    "#### **データ、条件**\n",
    "small, binary data"
   ]
  },
  {
   "cell_type": "markdown",
   "metadata": {},
   "source": [
    "### **調整したこと**\n",
    "- XはSNPを想定。SNPの発生する箇所は95%ほとんどある塩基、5%ある別の塩基としか出現しないので0, 1で置換可能。\n",
    "- Xは標準化しない\n",
    "- 特徴量選択は内積が大きいものを取り出す\n",
    "- ay-byは内積のままでok\n",
    "- 場合によってはイジングモデルを採用しよう"
   ]
  },
  {
   "cell_type": "markdown",
   "metadata": {},
   "source": [
    "## class\n",
    "- 未完成"
   ]
  },
  {
   "cell_type": "code",
   "execution_count": 27,
   "metadata": {},
   "outputs": [
    {
     "name": "stdout",
     "output_type": "stream",
     "text": [
      "複素数\n",
      "複素数\n",
      "数値\n",
      "数値\n"
     ]
    }
   ],
   "source": [
    "\t# -*- coding: UTF-8 -*-\n",
    "class Num :\n",
    "    name = \"数値\"\n",
    "    def __init__(self, v) :\n",
    "        self.v = v\n",
    "        \n",
    "    def add(self, v) :\n",
    "        x = Num(self.v + v)\n",
    "        return x\n",
    "    \n",
    "    # クラスメソッド\n",
    "    @classmethod\n",
    "    def class_method(cls) :\n",
    "        print(cls.name)\n",
    "        \n",
    "    # スタティックメソッド\n",
    "    @staticmethod\n",
    "    def static_method() :\n",
    "        print(Num.name)\n",
    "        \n",
    "class Int(Num) :\n",
    "    name = \"整数\"\n",
    "    \n",
    "class Complex(Num) :\n",
    "    name = \"複素数\"\n",
    "    def __init__(self, re, im = 0.0) :\n",
    "        self.re = re\n",
    "        self.im = im\n",
    "        \n",
    "    def add(self, v) :\n",
    "        x = Complex(self.re + v.re, self.im + v.im)\n",
    "        return x\n",
    "    \n",
    "# -*- coding: UTF-8 -*-\n",
    "x = Complex(1, 2)\n",
    "Complex.class_method()\n",
    "x.class_method()\n",
    "Complex.static_method()\n",
    "x.static_method()"
   ]
  },
  {
   "cell_type": "code",
   "execution_count": 1,
   "metadata": {},
   "outputs": [
    {
     "name": "stdout",
     "output_type": "stream",
     "text": [
      "15\n"
     ]
    }
   ],
   "source": [
    "class Spam:\n",
    "    def __init__(self,ham,egg):\n",
    "        self.ham = ham\n",
    "        self.egg = egg\n",
    "    def output(self):\n",
    "        sum = self.ham + self.egg\n",
    "        print(\"{0}\".format(sum))\n",
    "\n",
    "spam = Spam(5,10)\n",
    "spam.output()"
   ]
  },
  {
   "cell_type": "code",
   "execution_count": 23,
   "metadata": {},
   "outputs": [],
   "source": [
    "class Hamil_sum0:\n",
    "    def __init__(self,X,y, sel_col_num):\n",
    "        self.X = X\n",
    "        self.y = y\n",
    "        self.sel_col_num = sel_col_num\n",
    "        \n",
    "    def drop_str0_X(self, X):\n",
    "        X = self.X\n",
    "        for each_col in X.columns:\n",
    "            if X[each_col].std()==0.0:\n",
    "                X = X.drop(each_col, axis=1)\n",
    "        return X"
   ]
  },
  {
   "cell_type": "code",
   "execution_count": 24,
   "metadata": {},
   "outputs": [
    {
     "data": {
      "text/plain": [
       "<__main__.Hamil_sum0 at 0x7f7f931ed048>"
      ]
     },
     "execution_count": 24,
     "metadata": {},
     "output_type": "execute_result"
    }
   ],
   "source": [
    "Hamil_sum0 = Hamil_sum0(X_ori55, ori_y5, sel_col_num2)\n",
    "Hamil_sum0"
   ]
  },
  {
   "cell_type": "code",
   "execution_count": 13,
   "metadata": {},
   "outputs": [],
   "source": [
    "class Hamil_sum:\n",
    "    def __init__(self,X,y, sel_col_num):\n",
    "        self.X = X\n",
    "        self.y = y\n",
    "        self.sel_col_num = sel_col_num\n",
    "        \n",
    "    def drop_str0_X(self, X):\n",
    "        X = self.X\n",
    "        for each_col in X.columns:\n",
    "            if X[each_col].std()==0.0:\n",
    "                X = X.drop(each_col, axis=1)\n",
    "        return X\n",
    "    \n",
    "    def featrure_InnerProduct_sel_mul(self, X, y, sel_col_num):\n",
    "        X = self.X\n",
    "        y = self.y\n",
    "        sel_col_num = self.sel_col_num\n",
    "        inner_product_list = [np.dot(X[each_col], y) for each_col in X.columns] #内積のリスト\n",
    "        sort_inner_product_list = sorted(inner_product_list ,reverse=True)\n",
    "\n",
    "        elect_cols = []\n",
    "        for i in range(sel_col_num):\n",
    "            iindex = inner_product_list.index(sort_inner_product_list[i])\n",
    "            select_cols.append(X.columns[iindex])\n",
    "\n",
    "        else_cols = list(X.columns)\n",
    "        for col in select_cols:\n",
    "            else_cols.remove(col)\n",
    "\n",
    "        return select_cols, else_cols\n",
    "    \n",
    "    def make_ax_by(self, X, y, select_cols, else_cols):\n",
    "        ij = []\n",
    "        ax_by = []\n",
    "        for i in select_cols:\n",
    "            for j in else_cols:\n",
    "                row_each_axby = np.dot(X[i], y) - np.dot(X[j], y)\n",
    "                ax_by.append(row_each_axby)\n",
    "        return ax_by\n",
    "    \n",
    "    def H(self, ax_by, index_ax_by):\n",
    "        W = X.max(axis=1).max() *1*X.shape[0] - X.min(axis=1).min()*1*X.shape[0]\n",
    "        z = [0]*W\n",
    "\n",
    "        each_axby = ax_by[index_ax_by]\n",
    "        sum_w_z = 0\n",
    "\n",
    "        if each_axby >= 1:\n",
    "            z[each_axby] = 1\n",
    "            sum_w_z = sum([each_axby*z[w] for w in range(W)])\n",
    "        else:\n",
    "            z[0] = 1\n",
    "            sum_w_z = sum([1*z[w] for w in range(W)])\n",
    "\n",
    "        sum_z = sum(z)\n",
    "\n",
    "        ans_h =  (1-sum_z)**2 + (sum_w_z - each_axby)**2\n",
    "        return ans_h\n",
    "    \n",
    "    def H_sum(self, ax_by):\n",
    "        H_sum =  sum([H(ax_by, index_ax_by) for index_ax_by in range(len(ax_by))])\n",
    "        return H_sum"
   ]
  },
  {
   "cell_type": "code",
   "execution_count": 16,
   "metadata": {},
   "outputs": [
    {
     "ename": "TypeError",
     "evalue": "'Hamil_sum' object is not callable",
     "output_type": "error",
     "traceback": [
      "\u001b[0;31m\u001b[0m",
      "\u001b[0;31mTypeError\u001b[0mTraceback (most recent call last)",
      "\u001b[0;32m<ipython-input-16-1ab7dfb7c49a>\u001b[0m in \u001b[0;36m<module>\u001b[0;34m\u001b[0m\n\u001b[0;32m----> 1\u001b[0;31m \u001b[0mHamil_sum\u001b[0m \u001b[0;34m=\u001b[0m \u001b[0mHamil_sum\u001b[0m\u001b[0;34m(\u001b[0m\u001b[0mX_ori55\u001b[0m\u001b[0;34m,\u001b[0m \u001b[0mori_y5\u001b[0m\u001b[0;34m,\u001b[0m \u001b[0msel_col_num2\u001b[0m\u001b[0;34m)\u001b[0m\u001b[0;34m\u001b[0m\u001b[0;34m\u001b[0m\u001b[0m\n\u001b[0m\u001b[1;32m      2\u001b[0m \u001b[0mH_sum\u001b[0m \u001b[0;34m=\u001b[0m \u001b[0mHamil_sum\u001b[0m\u001b[0;34m.\u001b[0m\u001b[0mH_sum\u001b[0m\u001b[0;34m\u001b[0m\u001b[0;34m\u001b[0m\u001b[0m\n\u001b[1;32m      3\u001b[0m \u001b[0mH_sum\u001b[0m\u001b[0;34m\u001b[0m\u001b[0;34m\u001b[0m\u001b[0m\n",
      "\u001b[0;31mTypeError\u001b[0m: 'Hamil_sum' object is not callable"
     ]
    }
   ],
   "source": [
    "Hamil_sum = Hamil_sum(X_ori55, ori_y5, sel_col_num2)\n",
    "H_sum = Hamil_sum.H_sum\n",
    "H_sum"
   ]
  },
  {
   "cell_type": "code",
   "execution_count": null,
   "metadata": {},
   "outputs": [],
   "source": []
  },
  {
   "cell_type": "code",
   "execution_count": null,
   "metadata": {},
   "outputs": [],
   "source": []
  },
  {
   "cell_type": "markdown",
   "metadata": {},
   "source": [
    "##### import"
   ]
  },
  {
   "cell_type": "code",
   "execution_count": 28,
   "metadata": {},
   "outputs": [],
   "source": [
    "import itertools\n",
    "import pandas as pd\n",
    "import numpy as np\n",
    "from sklearn.feature_selection import SelectKBest, f_regression\n",
    "import random\n",
    "from pyqubo import Array, OneHotEncInteger, solve_qubo\n",
    "import scipy.stats"
   ]
  },
  {
   "cell_type": "markdown",
   "metadata": {},
   "source": [
    "#### X"
   ]
  },
  {
   "cell_type": "code",
   "execution_count": 29,
   "metadata": {},
   "outputs": [],
   "source": [
    "#標準偏差が0である列をなくす\n",
    "def drop_str0_X(X):\n",
    "    for each_col in X.columns:\n",
    "        if X[each_col].std()==0.0:\n",
    "            X = X.drop(each_col, axis=1)\n",
    "    return X"
   ]
  },
  {
   "cell_type": "code",
   "execution_count": 32,
   "metadata": {},
   "outputs": [],
   "source": [
    "X_ori55 = pd.read_csv(\"../input/SNP_df55.csv\", sep=',', index_col=0)\n",
    "X_ori55_ad = drop_str0_X(X_ori55)"
   ]
  },
  {
   "cell_type": "code",
   "execution_count": 33,
   "metadata": {},
   "outputs": [],
   "source": [
    "max_X_element = X_ori55_ad.max(axis=1).max() \n",
    "min_X_element = X_ori55_ad.min(axis=1).min() \n",
    "\n",
    "num_samples = X_ori55_ad.shape[0]\n",
    "num_cols = X_ori55_ad.shape[1]"
   ]
  },
  {
   "cell_type": "markdown",
   "metadata": {},
   "source": [
    "#### y"
   ]
  },
  {
   "cell_type": "code",
   "execution_count": 34,
   "metadata": {},
   "outputs": [],
   "source": [
    "ori_y5 = pd.Series([1, 0, 1, 1, 0])\n",
    "#ori_y5"
   ]
  },
  {
   "cell_type": "code",
   "execution_count": 35,
   "metadata": {},
   "outputs": [],
   "source": [
    "sel_col_num1 = 1\n",
    "sel_col_num2 = 2\n",
    "sel_col_num3 = 3"
   ]
  },
  {
   "cell_type": "markdown",
   "metadata": {},
   "source": [
    "#### 特徴量選択"
   ]
  },
  {
   "cell_type": "code",
   "execution_count": 60,
   "metadata": {},
   "outputs": [],
   "source": [
    "def featrure_InnerProduct_sel_mul(X, y, sel_col_num):\n",
    "    inner_product_list = [np.dot(X[each_col], y) for each_col in X.columns] #内積のリスト\n",
    "    sort_inner_product_list = sorted(inner_product_list ,reverse=True)\n",
    "    \n",
    "    if sort_inner_product_list[sel_col_num-1] == sort_inner_product_list[sel_col_num]:\n",
    "        return 'error', 'please change the number'\n",
    "    else:  \n",
    "        select_cols = []\n",
    "        for i in range(sel_col_num):\n",
    "            iindex = inner_product_list.index(sort_inner_product_list[i])\n",
    "            select_cols.append(X.columns[iindex])\n",
    "\n",
    "        else_cols = list(X.columns)\n",
    "        for col in select_cols:\n",
    "            else_cols.remove(col)\n",
    "\n",
    "        return select_cols, else_cols"
   ]
  },
  {
   "cell_type": "code",
   "execution_count": 62,
   "metadata": {},
   "outputs": [
    {
     "data": {
      "text/plain": [
       "['B']"
      ]
     },
     "execution_count": 62,
     "metadata": {},
     "output_type": "execute_result"
    }
   ],
   "source": [
    "select_cols, else_cols = featrure_InnerProduct_sel_mul(X_ori55_ad, ori_y5, selected_col_num1)\n",
    "select_cols"
   ]
  },
  {
   "cell_type": "code",
   "execution_count": null,
   "metadata": {},
   "outputs": [],
   "source": []
  },
  {
   "cell_type": "markdown",
   "metadata": {},
   "source": [
    "### ハミルトニアン\n",
    "したいこと→ハミルトニアンを最小化させる（xを最適化）"
   ]
  },
  {
   "cell_type": "code",
   "execution_count": 63,
   "metadata": {},
   "outputs": [],
   "source": [
    "# W : ay - byの最大値\n",
    "\n",
    "#xの要素で最大値とxの要素の最小値を知れば推定はできる\n",
    "W = max_X_element *1*num_samples - min_X_element*1*num_samples"
   ]
  },
  {
   "cell_type": "code",
   "execution_count": 64,
   "metadata": {},
   "outputs": [],
   "source": [
    "# while True & if break バージョン\n",
    "def make_y(y_after):\n",
    "    while True:\n",
    "        select_index = random.randrange(num_samples)\n",
    "        y_after[select_index] = 1 - y_after[select_index]\n",
    "        if np.dot(np.array([1]*num_samples).T, y_after) == sum(list(ori_y)):\n",
    "            if y_after.std():\n",
    "                #print(y_after.std())\n",
    "                break\n",
    "    return y_after "
   ]
  },
  {
   "cell_type": "code",
   "execution_count": 65,
   "metadata": {},
   "outputs": [],
   "source": [
    "def make_ax_by(X, y, select_cols, else_cols):\n",
    "    ij = []\n",
    "    ax_by = []\n",
    "    for i in select_cols:\n",
    "        for j in else_cols:\n",
    "            row_each_axby = np.dot(X[i], y) - np.dot(X[j], y)\n",
    "            ij.append([i, j])\n",
    "            ax_by.append(row_each_axby)\n",
    "    return ij, ax_by"
   ]
  },
  {
   "cell_type": "code",
   "execution_count": 73,
   "metadata": {},
   "outputs": [],
   "source": [
    "def H(ax_by, index_ax_by):\n",
    "    # W : ay - byの最大値\n",
    "    z = [0]*W\n",
    "        \n",
    "    each_axby = ax_by[index_ax_by]\n",
    "    sum_w_z = 0\n",
    "    \n",
    "    if each_axby >= 1:\n",
    "        z[each_axby] = 1\n",
    "        sum_w_z = sum([each_axby*z[w] for w in range(W)])\n",
    "    else:\n",
    "        z[0] = 1\n",
    "        sum_w_z = sum([1*z[w] for w in range(W)])\n",
    "        \n",
    "    sum_z = sum(z)\n",
    "\n",
    "    ans_h =  (1-sum_z)**2 + (sum_w_z - each_axby)**2\n",
    "    return ans_h"
   ]
  },
  {
   "cell_type": "code",
   "execution_count": 74,
   "metadata": {},
   "outputs": [],
   "source": [
    "def H_sum(ax_by):\n",
    "    H_sum =  sum([H(ax_by, index_ax_by) for index_ax_by in range(len(ax_by))])\n",
    "    return H_sum"
   ]
  },
  {
   "cell_type": "code",
   "execution_count": 75,
   "metadata": {},
   "outputs": [],
   "source": [
    "ij, ax_by = make_ax_by(X_ori55_ad, ori_y5, select_cols, else_cols)"
   ]
  },
  {
   "cell_type": "code",
   "execution_count": 76,
   "metadata": {},
   "outputs": [
    {
     "data": {
      "text/plain": [
       "[['B', 'A'], ['B', 'C'], ['B', 'D'], ['B', 'E']]"
      ]
     },
     "execution_count": 76,
     "metadata": {},
     "output_type": "execute_result"
    }
   ],
   "source": [
    "ij"
   ]
  },
  {
   "cell_type": "code",
   "execution_count": 77,
   "metadata": {},
   "outputs": [
    {
     "data": {
      "text/plain": [
       "[1, 1, 1, 1]"
      ]
     },
     "execution_count": 77,
     "metadata": {},
     "output_type": "execute_result"
    }
   ],
   "source": [
    "ax_by"
   ]
  },
  {
   "cell_type": "code",
   "execution_count": 78,
   "metadata": {},
   "outputs": [
    {
     "data": {
      "text/plain": [
       "0"
      ]
     },
     "execution_count": 78,
     "metadata": {},
     "output_type": "execute_result"
    }
   ],
   "source": [
    "ori_H_sum = H_sum(ax_by)\n",
    "ori_H_sum"
   ]
  },
  {
   "cell_type": "code",
   "execution_count": null,
   "metadata": {},
   "outputs": [],
   "source": []
  },
  {
   "cell_type": "code",
   "execution_count": null,
   "metadata": {},
   "outputs": [],
   "source": []
  }
 ],
 "metadata": {
  "kernelspec": {
   "display_name": "Python 3",
   "language": "python",
   "name": "python3"
  },
  "language_info": {
   "codemirror_mode": {
    "name": "ipython",
    "version": 3
   },
   "file_extension": ".py",
   "mimetype": "text/x-python",
   "name": "python",
   "nbconvert_exporter": "python",
   "pygments_lexer": "ipython3",
   "version": "3.6.9"
  }
 },
 "nbformat": 4,
 "nbformat_minor": 4
}
