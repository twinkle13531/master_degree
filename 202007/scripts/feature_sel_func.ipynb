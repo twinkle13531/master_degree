{
 "cells": [
  {
   "cell_type": "markdown",
   "metadata": {},
   "source": [
    "### このノートの目的\n",
    "- どんなデータを入力してもエラーの出ない特徴量選択関数の作成"
   ]
  },
  {
   "cell_type": "code",
   "execution_count": null,
   "metadata": {},
   "outputs": [],
   "source": []
  },
  {
   "cell_type": "code",
   "execution_count": 78,
   "metadata": {},
   "outputs": [],
   "source": [
    "import itertools\n",
    "import pandas as pd\n",
    "import numpy as np\n",
    "from sklearn.feature_selection import SelectKBest, f_regression\n",
    "import random\n",
    "from pyqubo import Array, OneHotEncInteger, solve_qubo\n",
    "import scipy.stats"
   ]
  },
  {
   "cell_type": "markdown",
   "metadata": {},
   "source": [
    "## 特徴量選択関数を作るのに試したいデータの複数作成\n",
    "\n",
    "#### 特徴量5"
   ]
  },
  {
   "cell_type": "code",
   "execution_count": 79,
   "metadata": {},
   "outputs": [
    {
     "data": {
      "text/plain": [
       "32"
      ]
     },
     "execution_count": 79,
     "metadata": {},
     "output_type": "execute_result"
    }
   ],
   "source": [
    "bina_len5 = [list(i) for i in itertools.product([0, 1], repeat=5)]\n",
    "len(bina_len5)"
   ]
  },
  {
   "cell_type": "code",
   "execution_count": 80,
   "metadata": {},
   "outputs": [],
   "source": [
    "SNP_df55= pd.DataFrame([bina_len5[9], bina_len5[30], bina_len5[10], bina_len5[20], bina_len5[3]], columns=list('ABCDE'))\n",
    "#SNP_df55"
   ]
  },
  {
   "cell_type": "code",
   "execution_count": 81,
   "metadata": {},
   "outputs": [],
   "source": [
    "SNP_df65= pd.DataFrame([bina_len5[11], bina_len5[29], bina_len5[23], bina_len5[18], bina_len5[5], bina_len5[9]], columns=list('ABCDE'))\n",
    "#SNP_df65"
   ]
  },
  {
   "cell_type": "code",
   "execution_count": 82,
   "metadata": {},
   "outputs": [],
   "source": [
    "# CSV ファイル として出力\n",
    "#SNP_df55.to_csv(\"../input/SNP_df55.csv\")"
   ]
  },
  {
   "cell_type": "code",
   "execution_count": 83,
   "metadata": {},
   "outputs": [],
   "source": [
    "# CSV ファイル として出力\n",
    "#SNP_df65.to_csv(\"../input/SNP_df65.csv\")"
   ]
  },
  {
   "cell_type": "code",
   "execution_count": 84,
   "metadata": {},
   "outputs": [],
   "source": [
    "X_ori55 = pd.read_csv(\"../input/SNP_df55.csv\", sep=',', index_col=0)\n",
    "#X_ori55"
   ]
  },
  {
   "cell_type": "code",
   "execution_count": 85,
   "metadata": {},
   "outputs": [],
   "source": [
    "X_ori65 = pd.read_csv(\"../input/SNP_df65.csv\", sep=',', index_col=0)\n",
    "#X_ori65.shape"
   ]
  },
  {
   "cell_type": "code",
   "execution_count": null,
   "metadata": {},
   "outputs": [],
   "source": []
  },
  {
   "cell_type": "markdown",
   "metadata": {},
   "source": [
    "#### 特徴量10"
   ]
  },
  {
   "cell_type": "code",
   "execution_count": 86,
   "metadata": {},
   "outputs": [
    {
     "data": {
      "text/plain": [
       "1024"
      ]
     },
     "execution_count": 86,
     "metadata": {},
     "output_type": "execute_result"
    }
   ],
   "source": [
    "bina_len10 = [list(i) for i in itertools.product([0, 1], repeat=10)]\n",
    "len(bina_len10)"
   ]
  },
  {
   "cell_type": "code",
   "execution_count": 87,
   "metadata": {},
   "outputs": [],
   "source": [
    "SNP_df1010 = pd.DataFrame(\n",
    "    [bina_len10[1000], bina_len10[3], bina_len10[200], bina_len10[80], bina_len10[500], \n",
    "     bina_len10[700], bina_len10[30], bina_len10[800], bina_len10[50], bina_len10[300]], \n",
    "    columns=list('ABCDEFGHIJ'))\n",
    "#SNP_df1010.head()"
   ]
  },
  {
   "cell_type": "code",
   "execution_count": 88,
   "metadata": {},
   "outputs": [],
   "source": [
    "SNP_df1110 = pd.DataFrame(\n",
    "    [bina_len10[1010], bina_len10[10], bina_len10[401], bina_len10[79], bina_len10[550], \n",
    "     bina_len10[690], bina_len10[25], bina_len10[810], bina_len10[49], bina_len10[310], bina_len10[200]], \n",
    "    columns=list('ABCDEFGHIJ'))\n",
    "#SNP_df1110.head()"
   ]
  },
  {
   "cell_type": "code",
   "execution_count": 89,
   "metadata": {},
   "outputs": [],
   "source": [
    "# CSV ファイルとして出力\n",
    "#SNP_df1010.to_csv(\"../input/SNP_df1010.csv\")"
   ]
  },
  {
   "cell_type": "code",
   "execution_count": 90,
   "metadata": {},
   "outputs": [],
   "source": [
    "# CSV ファイルとして出力\n",
    "#SNP_df1110.to_csv(\"../input/SNP_df1110.csv\")"
   ]
  },
  {
   "cell_type": "code",
   "execution_count": 91,
   "metadata": {},
   "outputs": [],
   "source": [
    "X_ori1010 = pd.read_csv(\"../input/SNP_df1010.csv\", sep=',', index_col=0)\n",
    "#X_ori1010.head()"
   ]
  },
  {
   "cell_type": "code",
   "execution_count": 92,
   "metadata": {},
   "outputs": [],
   "source": [
    "X_ori1110 = pd.read_csv(\"../input/SNP_df1110.csv\", sep=',', index_col=0)\n",
    "#X_ori1110.head()"
   ]
  },
  {
   "cell_type": "code",
   "execution_count": null,
   "metadata": {},
   "outputs": [],
   "source": []
  },
  {
   "cell_type": "markdown",
   "metadata": {},
   "source": [
    "#### y（長さ（サンプル数別））"
   ]
  },
  {
   "cell_type": "code",
   "execution_count": 93,
   "metadata": {},
   "outputs": [],
   "source": [
    "ori_y5 = pd.Series([1, 0, 1, 1, 0])\n",
    "#ori_y5"
   ]
  },
  {
   "cell_type": "code",
   "execution_count": 119,
   "metadata": {},
   "outputs": [],
   "source": [
    "ori_y6 = pd.Series([1, 0, 0, 1, 0, 1])\n",
    "#ori_y6"
   ]
  },
  {
   "cell_type": "code",
   "execution_count": 95,
   "metadata": {},
   "outputs": [],
   "source": [
    "ori_y10 = pd.Series([1, 0, 1, 1, 0, 1, 1, 0, 0 , 0])\n",
    "#ori_y10"
   ]
  },
  {
   "cell_type": "code",
   "execution_count": 96,
   "metadata": {},
   "outputs": [],
   "source": [
    "ori_y11 = pd.Series([1, 1, 0, 1, 1, 0, 1, 1, 0, 0 , 0])\n",
    "#ori_y11"
   ]
  },
  {
   "cell_type": "code",
   "execution_count": 97,
   "metadata": {},
   "outputs": [],
   "source": [
    "sel_col_num1 = 1\n",
    "sel_col_num2 = 2\n",
    "sel_col_num3 = 3"
   ]
  },
  {
   "cell_type": "code",
   "execution_count": null,
   "metadata": {},
   "outputs": [],
   "source": []
  },
  {
   "cell_type": "markdown",
   "metadata": {},
   "source": [
    "### 関数定義"
   ]
  },
  {
   "cell_type": "code",
   "execution_count": 98,
   "metadata": {},
   "outputs": [],
   "source": [
    "#標準偏差が0である列をなくす\n",
    "def drop_str0_X(X):\n",
    "    for each_col in X.columns:\n",
    "        if X[each_col].std()==0.0:\n",
    "            X = X.drop(each_col, axis=1)\n",
    "    return X"
   ]
  },
  {
   "cell_type": "code",
   "execution_count": 36,
   "metadata": {},
   "outputs": [],
   "source": [
    "#内積を使った特徴量選択の関数\n",
    "#max_indexが複数になったときはどうなるのか気になる\n",
    "def featrure_InnerProduct_sel1(X, y, sel_col_num):\n",
    "    inner_product_list = [np.dot(X[each_col], y) for each_col in X.columns]\n",
    "    max_index = inner_product_list.index(max(inner_product_list))\n",
    "    select_cols = [X.columns[max_index]]\n",
    "    \n",
    "    else_cols = list(X.columns)\n",
    "    del else_cols[max_index]\n",
    "    \n",
    "    return select_cols, else_cols"
   ]
  },
  {
   "cell_type": "code",
   "execution_count": null,
   "metadata": {},
   "outputs": [],
   "source": []
  },
  {
   "cell_type": "code",
   "execution_count": null,
   "metadata": {},
   "outputs": [],
   "source": []
  },
  {
   "cell_type": "code",
   "execution_count": null,
   "metadata": {},
   "outputs": [],
   "source": []
  },
  {
   "cell_type": "code",
   "execution_count": 126,
   "metadata": {},
   "outputs": [],
   "source": [
    "def featrure_InnerProduct_sel_mul(X, y, sel_col_num):\n",
    "    inner_product_list = [np.dot(X[each_col], y) for each_col in X.columns] #内積のリスト\n",
    "    sort_inner_product_list = sorted(inner_product_list ,reverse=True)\n",
    "    \n",
    "    select_cols = []\n",
    "    for i in range(sel_col_num):\n",
    "        iindex = inner_product_list.index(sort_inner_product_list[i])\n",
    "        select_cols.append(iindex)\n",
    "    \n",
    "    else_cols = list(X.columns)\n",
    "    for col in select_cols:\n",
    "        else_cols.remove(col)\n",
    "    \n",
    "    return select_cols, else_cols"
   ]
  },
  {
   "cell_type": "code",
   "execution_count": null,
   "metadata": {},
   "outputs": [],
   "source": []
  },
  {
   "cell_type": "markdown",
   "metadata": {},
   "source": [
    "### dataframeの調整（adjust）"
   ]
  },
  {
   "cell_type": "code",
   "execution_count": 99,
   "metadata": {},
   "outputs": [
    {
     "data": {
      "text/plain": [
       "(5, 5)"
      ]
     },
     "execution_count": 99,
     "metadata": {},
     "output_type": "execute_result"
    }
   ],
   "source": [
    "X_ori55_ad = drop_str0_X(X_ori55)\n",
    "X_ori55_ad.shape"
   ]
  },
  {
   "cell_type": "code",
   "execution_count": 100,
   "metadata": {},
   "outputs": [
    {
     "data": {
      "text/plain": [
       "(6, 5)"
      ]
     },
     "execution_count": 100,
     "metadata": {},
     "output_type": "execute_result"
    }
   ],
   "source": [
    "X_ori65_ad = drop_str0_X(X_ori65)\n",
    "X_ori65_ad.shape"
   ]
  },
  {
   "cell_type": "code",
   "execution_count": 101,
   "metadata": {},
   "outputs": [
    {
     "data": {
      "text/plain": [
       "(10, 10)"
      ]
     },
     "execution_count": 101,
     "metadata": {},
     "output_type": "execute_result"
    }
   ],
   "source": [
    "X_ori1010_ad = drop_str0_X(X_ori1010)\n",
    "X_ori1010_ad.shape"
   ]
  },
  {
   "cell_type": "code",
   "execution_count": 102,
   "metadata": {},
   "outputs": [
    {
     "data": {
      "text/plain": [
       "(11, 10)"
      ]
     },
     "execution_count": 102,
     "metadata": {},
     "output_type": "execute_result"
    }
   ],
   "source": [
    "X_ori1110_ad = drop_str0_X(X_ori1110)\n",
    "X_ori1110_ad.shape"
   ]
  },
  {
   "cell_type": "code",
   "execution_count": null,
   "metadata": {},
   "outputs": [],
   "source": []
  },
  {
   "cell_type": "markdown",
   "metadata": {},
   "source": [
    "### 特徴量選択の試行\n",
    "\n",
    "#### 特徴量選択数：1"
   ]
  },
  {
   "cell_type": "code",
   "execution_count": 114,
   "metadata": {},
   "outputs": [
    {
     "data": {
      "text/plain": [
       "[1, 2, 1, 1, 1]"
      ]
     },
     "execution_count": 114,
     "metadata": {},
     "output_type": "execute_result"
    }
   ],
   "source": [
    "inner_product_list55 = [np.dot(X_ori55_ad[each_col], ori_y5) for each_col in X_ori55_ad.columns]\n",
    "inner_product_list55"
   ]
  },
  {
   "cell_type": "code",
   "execution_count": 103,
   "metadata": {},
   "outputs": [
    {
     "data": {
      "text/plain": [
       "['B']"
      ]
     },
     "execution_count": 103,
     "metadata": {},
     "output_type": "execute_result"
    }
   ],
   "source": [
    "select_cols, else_cols = featrure_InnerProduct_sel1(X_ori55_ad, ori_y5, sel_col_num1)\n",
    "select_cols"
   ]
  },
  {
   "cell_type": "code",
   "execution_count": 117,
   "metadata": {},
   "outputs": [
    {
     "data": {
      "text/plain": [
       "(6, 5)"
      ]
     },
     "execution_count": 117,
     "metadata": {},
     "output_type": "execute_result"
    }
   ],
   "source": [
    "X_ori65_ad.shape"
   ]
  },
  {
   "cell_type": "code",
   "execution_count": 120,
   "metadata": {},
   "outputs": [
    {
     "data": {
      "text/plain": [
       "(6,)"
      ]
     },
     "execution_count": 120,
     "metadata": {},
     "output_type": "execute_result"
    }
   ],
   "source": [
    "ori_y6.shape"
   ]
  },
  {
   "cell_type": "code",
   "execution_count": 121,
   "metadata": {},
   "outputs": [
    {
     "data": {
      "text/plain": [
       "[1, 2, 0, 2, 2]"
      ]
     },
     "execution_count": 121,
     "metadata": {},
     "output_type": "execute_result"
    }
   ],
   "source": [
    "inner_product_list65 = [np.dot(X_ori65_ad[each_col], ori_y6) for each_col in X_ori65_ad.columns]\n",
    "inner_product_list65"
   ]
  },
  {
   "cell_type": "code",
   "execution_count": 124,
   "metadata": {},
   "outputs": [
    {
     "data": {
      "text/plain": [
       "1"
      ]
     },
     "execution_count": 124,
     "metadata": {},
     "output_type": "execute_result"
    }
   ],
   "source": [
    "max_index65 = inner_product_list65.index(max(inner_product_list65))\n",
    "max_index65 #1つしか出力されない。そして一番若い番号が出力される。"
   ]
  },
  {
   "cell_type": "code",
   "execution_count": 107,
   "metadata": {},
   "outputs": [
    {
     "data": {
      "text/plain": [
       "['G']"
      ]
     },
     "execution_count": 107,
     "metadata": {},
     "output_type": "execute_result"
    }
   ],
   "source": [
    "select_cols, else_cols = featrure_InnerProduct_sel1(X_ori1010_ad, ori_y10, sel_col_num1)\n",
    "select_cols"
   ]
  },
  {
   "cell_type": "code",
   "execution_count": 108,
   "metadata": {},
   "outputs": [
    {
     "data": {
      "text/plain": [
       "[2, 1, 3, 3, 2, 3, 4, 2, 1, 0]"
      ]
     },
     "execution_count": 108,
     "metadata": {},
     "output_type": "execute_result"
    }
   ],
   "source": [
    "inner_product_list1010 = [np.dot(X_ori1010_ad[each_col], ori_y10) for each_col in X_ori1010.columns]\n",
    "inner_product_list1010"
   ]
  },
  {
   "cell_type": "code",
   "execution_count": 122,
   "metadata": {},
   "outputs": [
    {
     "data": {
      "text/plain": [
       "6"
      ]
     },
     "execution_count": 122,
     "metadata": {},
     "output_type": "execute_result"
    }
   ],
   "source": [
    "max_index1010 = inner_product_list1010.index(max(inner_product_list1010))\n",
    "max_index1010 #4という数字は一つだったので、特徴量選択数一つという条件において問題にならなかった"
   ]
  },
  {
   "cell_type": "code",
   "execution_count": 116,
   "metadata": {},
   "outputs": [
    {
     "data": {
      "text/plain": [
       "[3, 2, 1, 2, 3, 2, 4, 2, 5, 2]"
      ]
     },
     "execution_count": 116,
     "metadata": {},
     "output_type": "execute_result"
    }
   ],
   "source": [
    "inner_product_list1110 = [np.dot(X_ori1110_ad[each_col], ori_y11) for each_col in X_ori1110_ad.columns]\n",
    "inner_product_list1110"
   ]
  },
  {
   "cell_type": "code",
   "execution_count": 123,
   "metadata": {},
   "outputs": [
    {
     "data": {
      "text/plain": [
       "8"
      ]
     },
     "execution_count": 123,
     "metadata": {},
     "output_type": "execute_result"
    }
   ],
   "source": [
    "max_index1110 = inner_product_list1110.index(max(inner_product_list1110))\n",
    "max_index1110 #5という数字は一つだったので、特徴量選択数一つという条件において問題にならなかった"
   ]
  },
  {
   "cell_type": "markdown",
   "metadata": {},
   "source": [
    "#### 特徴量選択数: 2以上"
   ]
  },
  {
   "cell_type": "code",
   "execution_count": 142,
   "metadata": {},
   "outputs": [],
   "source": [
    "def featrure_InnerProduct_sel_mul(X, y, sel_col_num):\n",
    "    inner_product_list = [np.dot(X[each_col], y) for each_col in X.columns] #内積のリスト\n",
    "    sort_inner_product_list = sorted(inner_product_list ,reverse=True)\n",
    "    \n",
    "    select_cols = []\n",
    "    for i in range(sel_col_num):\n",
    "        iindex = inner_product_list.index(sort_inner_product_list[i])\n",
    "        select_cols.append(X.columns[iindex])\n",
    "    \n",
    "    else_cols = list(X.columns)\n",
    "    for col in select_cols:\n",
    "        else_cols.remove(col)\n",
    "    \n",
    "    return select_cols, else_cols"
   ]
  },
  {
   "cell_type": "code",
   "execution_count": 143,
   "metadata": {},
   "outputs": [
    {
     "data": {
      "text/plain": [
       "[1, 2, 1, 1, 1]"
      ]
     },
     "execution_count": 143,
     "metadata": {},
     "output_type": "execute_result"
    }
   ],
   "source": [
    "inner_product_list55 = [np.dot(X_ori55_ad[each_col], ori_y5) for each_col in X_ori55_ad.columns]\n",
    "inner_product_list55"
   ]
  },
  {
   "cell_type": "code",
   "execution_count": 146,
   "metadata": {},
   "outputs": [
    {
     "data": {
      "text/plain": [
       "['B', 'A']"
      ]
     },
     "execution_count": 146,
     "metadata": {},
     "output_type": "execute_result"
    }
   ],
   "source": [
    "select_cols, else_cols = featrure_InnerProduct_sel_mul(X_ori55_ad, ori_y5, sel_col_num2)\n",
    "select_cols"
   ]
  },
  {
   "cell_type": "code",
   "execution_count": 147,
   "metadata": {},
   "outputs": [
    {
     "data": {
      "text/plain": [
       "['C', 'D', 'E']"
      ]
     },
     "execution_count": 147,
     "metadata": {},
     "output_type": "execute_result"
    }
   ],
   "source": [
    "else_cols"
   ]
  },
  {
   "cell_type": "code",
   "execution_count": 144,
   "metadata": {},
   "outputs": [
    {
     "data": {
      "text/plain": [
       "[2, 1, 1, 1, 1]"
      ]
     },
     "execution_count": 144,
     "metadata": {},
     "output_type": "execute_result"
    }
   ],
   "source": [
    "sort_inner_product_list55 = sorted(inner_product_list55,reverse=True)\n",
    "sort_inner_product_list55"
   ]
  },
  {
   "cell_type": "code",
   "execution_count": 145,
   "metadata": {},
   "outputs": [
    {
     "data": {
      "text/plain": [
       "[1, 0]"
      ]
     },
     "execution_count": 145,
     "metadata": {},
     "output_type": "execute_result"
    }
   ],
   "source": [
    "select_cols = []\n",
    "for i in range(sel_col_num2):\n",
    "    iindex55 = inner_product_list55.index(sort_inner_product_list55[i])\n",
    "    select_cols.append(iindex55)\n",
    "select_cols"
   ]
  },
  {
   "cell_type": "code",
   "execution_count": null,
   "metadata": {},
   "outputs": [],
   "source": []
  },
  {
   "cell_type": "markdown",
   "metadata": {},
   "source": [
    "### featrure_InnerProduct_sel_mulを採用する"
   ]
  },
  {
   "cell_type": "code",
   "execution_count": null,
   "metadata": {},
   "outputs": [],
   "source": [
    "def featrure_InnerProduct_sel(X, y, sel_col_num):\n",
    "    inner_product_list = [np.dot(X[each_col], y) for each_col in X.columns] #内積のリスト\n",
    "    sort_inner_product_list = sorted(inner_product_list ,reverse=True)\n",
    "    \n",
    "    select_cols = []\n",
    "    for i in range(sel_col_num):\n",
    "        iindex = inner_product_list.index(sort_inner_product_list[i])\n",
    "        select_cols.append(X.columns[iindex])\n",
    "    \n",
    "    else_cols = list(X.columns)\n",
    "    for col in select_cols:\n",
    "        else_cols.remove(col)\n",
    "    \n",
    "    return select_cols, else_cols"
   ]
  },
  {
   "cell_type": "code",
   "execution_count": null,
   "metadata": {},
   "outputs": [],
   "source": []
  },
  {
   "cell_type": "code",
   "execution_count": null,
   "metadata": {},
   "outputs": [],
   "source": []
  },
  {
   "cell_type": "code",
   "execution_count": null,
   "metadata": {},
   "outputs": [],
   "source": [
    "#scikit-learn/blob/master/sklearn/feature_selection/_univariate_selection.py\n",
    "#https://github.com/scikit-learn/scikit-learn/blob/master/sklearn/feature_selection/_univariate_selection.py\n",
    "class SelectKBest(_BaseFilter):\n",
    "    \"\"\"Select features according to the k highest scores.\n",
    "    Read more in the :ref:`User Guide <univariate_feature_selection>`.\n",
    "    Parameters\n",
    "    ----------\n",
    "    score_func : callable, default=f_classif\n",
    "        Function taking two arrays X and y, and returning a pair of arrays\n",
    "        (scores, pvalues) or a single array with scores.\n",
    "        Default is f_classif (see below \"See also\"). The default function only\n",
    "        works with classification tasks.\n",
    "        .. versionadded:: 0.18\n",
    "    k : int or \"all\", default=10\n",
    "        Number of top features to select.\n",
    "        The \"all\" option bypasses selection, for use in a parameter search.\n",
    "    Attributes\n",
    "    ----------\n",
    "    scores_ : array-like of shape (n_features,)\n",
    "        Scores of features.\n",
    "    pvalues_ : array-like of shape (n_features,)\n",
    "        p-values of feature scores, None if `score_func` returned only scores.\n",
    "    Examples\n",
    "    --------\n",
    "    >>> from sklearn.datasets import load_digits\n",
    "    >>> from sklearn.feature_selection import SelectKBest, chi2\n",
    "    >>> X, y = load_digits(return_X_y=True)\n",
    "    >>> X.shape\n",
    "    (1797, 64)\n",
    "    >>> X_new = SelectKBest(chi2, k=20).fit_transform(X, y)\n",
    "    >>> X_new.shape\n",
    "    (1797, 20)\n",
    "    Notes\n",
    "    -----\n",
    "    Ties between features with equal scores will be broken in an unspecified\n",
    "    way.\n",
    "    See also\n",
    "    --------\n",
    "    f_classif: ANOVA F-value between label/feature for classification tasks.\n",
    "    mutual_info_classif: Mutual information for a discrete target.\n",
    "    chi2: Chi-squared stats of non-negative features for classification tasks.\n",
    "    f_regression: F-value between label/feature for regression tasks.\n",
    "    mutual_info_regression: Mutual information for a continuous target.\n",
    "    SelectPercentile: Select features based on percentile of the highest\n",
    "        scores.\n",
    "    SelectFpr: Select features based on a false positive rate test.\n",
    "    SelectFdr: Select features based on an estimated false discovery rate.\n",
    "    SelectFwe: Select features based on family-wise error rate.\n",
    "    GenericUnivariateSelect: Univariate feature selector with configurable\n",
    "        mode.\n",
    "    \"\"\"\n",
    "    @_deprecate_positional_args\n",
    "    def __init__(self, score_func=f_classif, *, k=10):\n",
    "        super().__init__(score_func=score_func)\n",
    "        self.k = k\n",
    "\n",
    "    def _check_params(self, X, y):\n",
    "        if not (self.k == \"all\" or 0 <= self.k <= X.shape[1]):\n",
    "            raise ValueError(\"k should be >=0, <= n_features = %d; got %r. \"\n",
    "                             \"Use k='all' to return all features.\"\n",
    "                             % (X.shape[1], self.k))\n",
    "\n",
    "    def _get_support_mask(self):\n",
    "        check_is_fitted(self)\n",
    "\n",
    "        if self.k == 'all':\n",
    "            return np.ones(self.scores_.shape, dtype=bool)\n",
    "        elif self.k == 0:\n",
    "            return np.zeros(self.scores_.shape, dtype=bool)\n",
    "        else:\n",
    "            scores = _clean_nans(self.scores_)\n",
    "            mask = np.zeros(scores.shape, dtype=bool)\n",
    "\n",
    "            # Request a stable sort. Mergesort takes more memory (~40MB per\n",
    "            # megafeature on x86-64).\n",
    "            mask[np.argsort(scores, kind=\"mergesort\")[-self.k:]] = 1\n",
    "            return mask"
   ]
  }
 ],
 "metadata": {
  "kernelspec": {
   "display_name": "Python 3",
   "language": "python",
   "name": "python3"
  },
  "language_info": {
   "codemirror_mode": {
    "name": "ipython",
    "version": 3
   },
   "file_extension": ".py",
   "mimetype": "text/x-python",
   "name": "python",
   "nbconvert_exporter": "python",
   "pygments_lexer": "ipython3",
   "version": "3.6.9"
  }
 },
 "nbformat": 4,
 "nbformat_minor": 4
}
