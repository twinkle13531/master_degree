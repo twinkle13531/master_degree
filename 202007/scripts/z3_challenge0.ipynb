{
 "cells": [
  {
   "cell_type": "markdown",
   "metadata": {},
   "source": [
    "### このノート\n",
    "- SMT（背景論理付きSATソルバー）を使いたい\n",
    "  - Z3を使ってみる\n",
    "  \n",
    "- data : SNP_df55.csv, y5.csv"
   ]
  },
  {
   "cell_type": "code",
   "execution_count": 72,
   "metadata": {},
   "outputs": [],
   "source": [
    "#`brew install z3`をterminalで実行した"
   ]
  },
  {
   "cell_type": "code",
   "execution_count": 59,
   "metadata": {},
   "outputs": [],
   "source": [
    "import itertools\n",
    "import pandas as pd\n",
    "import numpy as np\n",
    "from z3 import *"
   ]
  },
  {
   "cell_type": "code",
   "execution_count": 60,
   "metadata": {},
   "outputs": [],
   "source": [
    "X55 = pd.read_csv(\"../input/SNP_df55.csv\", sep=',', index_col=0)\n",
    "y5 = pd.read_csv('../input/y5.csv', sep=',', index_col=0)['y']"
   ]
  },
  {
   "cell_type": "code",
   "execution_count": 61,
   "metadata": {},
   "outputs": [],
   "source": [
    "num_samples = X55.shape[0]\n",
    "num_cols = X55.shape[1]"
   ]
  },
  {
   "cell_type": "code",
   "execution_count": 62,
   "metadata": {},
   "outputs": [],
   "source": [
    "selected_col_num2 = 2"
   ]
  },
  {
   "cell_type": "code",
   "execution_count": 63,
   "metadata": {},
   "outputs": [
    {
     "data": {
      "text/plain": [
       "3"
      ]
     },
     "execution_count": 63,
     "metadata": {},
     "output_type": "execute_result"
    }
   ],
   "source": [
    "y1_sum = sum(y5)\n",
    "y1_sum"
   ]
  },
  {
   "cell_type": "code",
   "execution_count": 64,
   "metadata": {},
   "outputs": [],
   "source": [
    "def featrure_InnerProduct_sel_mul(X, y, sel_col_num):\n",
    "    inner_product_list = [np.dot(X[each_col], y) for each_col in X.columns] #内積のリスト\n",
    "    sort_inner_product_list = sorted(inner_product_list ,reverse=True)\n",
    "    select_cols = []\n",
    "    for i in range(sel_col_num):\n",
    "        iindex = inner_product_list.index(sort_inner_product_list[i])\n",
    "        select_cols.append(X.columns[iindex])\n",
    "    \n",
    "    else_cols = list(X.columns)\n",
    "    for col in select_cols:\n",
    "        else_cols.remove(col)\n",
    "    \n",
    "    return select_cols, else_cols"
   ]
  },
  {
   "cell_type": "code",
   "execution_count": 65,
   "metadata": {},
   "outputs": [],
   "source": [
    "select_cols, else_cols = featrure_InnerProduct_sel_mul(X55, y5, selected_col_num2)"
   ]
  },
  {
   "cell_type": "code",
   "execution_count": null,
   "metadata": {},
   "outputs": [],
   "source": []
  },
  {
   "cell_type": "code",
   "execution_count": 66,
   "metadata": {},
   "outputs": [],
   "source": [
    "ys = [BitVec(\"y%d\" % i, 1) for i in range(num_samples)]"
   ]
  },
  {
   "cell_type": "code",
   "execution_count": 67,
   "metadata": {},
   "outputs": [],
   "source": [
    "s = Solver()"
   ]
  },
  {
   "cell_type": "code",
   "execution_count": 68,
   "metadata": {},
   "outputs": [],
   "source": [
    "for sel in select_cols:\n",
    "    for els in else_cols:\n",
    "        formu_plus = 0\n",
    "        formu_minu = 0\n",
    "        y_sum = 0\n",
    "        for sum_num in range(num_samples):\n",
    "            formu_plus += X55[sel][sum_num]*ys[sum_num]\n",
    "            formu_minu += X55[els][sum_num]*ys[sum_num]\n",
    "            y_sum += ys[sum_num]\n",
    "        s.add(formu_plus - formu_minu >= 0)\n",
    "        s.add(y_sum == y1_sum)"
   ]
  },
  {
   "cell_type": "code",
   "execution_count": 69,
   "metadata": {},
   "outputs": [],
   "source": [
    "#別の方法で試そうとした形跡\n",
    "\n",
    "#論理And\n",
    "#And([P1, P2, ...])\n",
    "#P_list = \n",
    "#s.add(And(P_list))"
   ]
  },
  {
   "cell_type": "code",
   "execution_count": 70,
   "metadata": {},
   "outputs": [],
   "source": [
    "s.check()\n",
    "m = s.model()"
   ]
  },
  {
   "cell_type": "code",
   "execution_count": 71,
   "metadata": {},
   "outputs": [
    {
     "name": "stdout",
     "output_type": "stream",
     "text": [
      "0\n",
      "1\n",
      "1\n",
      "1\n",
      "0\n"
     ]
    }
   ],
   "source": [
    "for v in ys:\n",
    "    print(m[v].as_long())"
   ]
  },
  {
   "cell_type": "code",
   "execution_count": null,
   "metadata": {},
   "outputs": [],
   "source": []
  },
  {
   "cell_type": "code",
   "execution_count": null,
   "metadata": {},
   "outputs": [],
   "source": []
  }
 ],
 "metadata": {
  "kernelspec": {
   "display_name": "Python 3",
   "language": "python",
   "name": "python3"
  },
  "language_info": {
   "codemirror_mode": {
    "name": "ipython",
    "version": 3
   },
   "file_extension": ".py",
   "mimetype": "text/x-python",
   "name": "python",
   "nbconvert_exporter": "python",
   "pygments_lexer": "ipython3",
   "version": "3.6.9"
  }
 },
 "nbformat": 4,
 "nbformat_minor": 4
}
