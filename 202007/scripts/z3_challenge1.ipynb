{
 "cells": [
  {
   "cell_type": "markdown",
   "metadata": {},
   "source": [
    "### このノート\n",
    "- SMT（背景論理付きSATソルバー）を使いたい\n",
    "  - Z3を使ってみる\n",
    "  \n",
    "- data : X_mushroom, y_mushroom\n",
    "\n",
    "\n",
    "#### 起こったトラブルとその解決\n",
    "- 選択したい特徴量の選択レベル（判定基準となる数値）が同じであったが、はじめに選んだ選択量を次回以降選ばないという制約を付けなかったために、2回目以降もはじめに選んだ特徴量を選んでしまっていた"
   ]
  },
  {
   "cell_type": "code",
   "execution_count": 1,
   "metadata": {},
   "outputs": [
    {
     "name": "stdout",
     "output_type": "stream",
     "text": [
      "Collecting z3-solver\n",
      "  Downloading https://files.pythonhosted.org/packages/d9/c8/96c9a89e4f5e101404ac19a1da17eed972f27d22a8a0ec3e441234eb513f/z3_solver-4.8.8.0-py2.py3-none-manylinux1_x86_64.whl (29.6MB)\n",
      "\u001b[K    100% |################################| 29.6MB 60kB/s eta 0:00:011 6% |##                              | 2.0MB 689kB/s eta 0:00:41    52% |################                | 15.7MB 5.2MB/s eta 0:00:03    76% |########################        | 22.7MB 8.4MB/s eta 0:00:01    86% |###########################     | 25.5MB 5.8MB/s eta 0:00:01\n",
      "\u001b[?25hInstalling collected packages: z3-solver\n",
      "Successfully installed z3-solver-4.8.8.0\n"
     ]
    }
   ],
   "source": [
    "!pip3 install z3-solver"
   ]
  },
  {
   "cell_type": "code",
   "execution_count": 2,
   "metadata": {},
   "outputs": [],
   "source": [
    "import itertools\n",
    "import pandas as pd\n",
    "import numpy as np\n",
    "from z3 import *"
   ]
  },
  {
   "cell_type": "code",
   "execution_count": 3,
   "metadata": {},
   "outputs": [],
   "source": [
    "X_mushroom = pd.read_csv(\"../input/X_mushroom.csv\", sep=',', index_col=0)\n",
    "y_mushroom = pd.read_csv('../input/y_mushroom.csv', sep=',', index_col=0)['21']"
   ]
  },
  {
   "cell_type": "code",
   "execution_count": 4,
   "metadata": {},
   "outputs": [],
   "source": [
    "num_samples = X_mushroom.shape[0]\n",
    "num_cols = X_mushroom.shape[1]"
   ]
  },
  {
   "cell_type": "code",
   "execution_count": 5,
   "metadata": {},
   "outputs": [],
   "source": [
    "selected_col_num2 = 2"
   ]
  },
  {
   "cell_type": "code",
   "execution_count": 6,
   "metadata": {},
   "outputs": [
    {
     "data": {
      "text/plain": [
       "4208"
      ]
     },
     "execution_count": 6,
     "metadata": {},
     "output_type": "execute_result"
    }
   ],
   "source": [
    "y1_sum = sum(y_mushroom)\n",
    "y1_sum"
   ]
  },
  {
   "cell_type": "code",
   "execution_count": 7,
   "metadata": {},
   "outputs": [],
   "source": [
    "def make_select_cols(X, y, sel_col_num):\n",
    "    inner_product_list = [np.dot(X[each_col], y) for each_col in X.columns] #内積のリスト\n",
    "    sort_inner_product_list = sorted(inner_product_list ,reverse=True)\n",
    "    \n",
    "    select_cols = []\n",
    "    remain_num = sel_col_num\n",
    "    \n",
    "    while True:\n",
    "        next_index = sel_col_num - remain_num\n",
    "        next_colindexs = [j for j, x in enumerate(inner_product_list) if x == sort_inner_product_list[next_index]]\n",
    "        \n",
    "        if len(next_colindexs) >= remain_num:\n",
    "            select_cols += next_colindexs[:remain_num]\n",
    "            break\n",
    "        select_cols += next_colindexs\n",
    "        remain_num = remain_num - len(next_colindexs)\n",
    "    \n",
    "    select_cols = [str(n) for n in select_cols]\n",
    "    else_cols = list(X.columns)\n",
    "    for col in select_cols:\n",
    "        else_cols.remove(str(col))\n",
    "        \n",
    "    return select_cols, else_cols "
   ]
  },
  {
   "cell_type": "code",
   "execution_count": 8,
   "metadata": {},
   "outputs": [
    {
     "data": {
      "text/plain": [
       "['1', '80']"
      ]
     },
     "execution_count": 8,
     "metadata": {},
     "output_type": "execute_result"
    }
   ],
   "source": [
    "select_cols, else_cols = make_select_cols(X_mushroom, y_mushroom, selected_col_num2)\n",
    "select_cols"
   ]
  },
  {
   "cell_type": "code",
   "execution_count": null,
   "metadata": {},
   "outputs": [],
   "source": []
  },
  {
   "cell_type": "code",
   "execution_count": 9,
   "metadata": {},
   "outputs": [],
   "source": [
    "ys = [BitVec(\"y%d\" % i, 1) for i in range(num_samples)]"
   ]
  },
  {
   "cell_type": "code",
   "execution_count": 10,
   "metadata": {},
   "outputs": [],
   "source": [
    "s = Solver()"
   ]
  },
  {
   "cell_type": "code",
   "execution_count": 11,
   "metadata": {},
   "outputs": [],
   "source": [
    "for sel in select_cols:\n",
    "    for els in else_cols:\n",
    "        formu_plus = 0\n",
    "        formu_minu = 0\n",
    "        y_sum = 0\n",
    "        for sum_num in range(num_samples):\n",
    "            formu_plus += X_mushroom[sel][sum_num]*ys[sum_num]\n",
    "            formu_minu += X_mushroom[els][sum_num]*ys[sum_num]\n",
    "            y_sum += ys[sum_num]\n",
    "        s.add(formu_plus - formu_minu >= 0)\n",
    "        s.add(y_sum == y1_sum)"
   ]
  },
  {
   "cell_type": "code",
   "execution_count": null,
   "metadata": {},
   "outputs": [],
   "source": [
    "s.check()\n",
    "m = s.model()"
   ]
  },
  {
   "cell_type": "code",
   "execution_count": null,
   "metadata": {},
   "outputs": [],
   "source": [
    "for v in ys:\n",
    "    print(m[v].as_long())"
   ]
  },
  {
   "cell_type": "code",
   "execution_count": null,
   "metadata": {},
   "outputs": [],
   "source": []
  }
 ],
 "metadata": {
  "kernelspec": {
   "display_name": "Python 3",
   "language": "python",
   "name": "python3"
  },
  "language_info": {
   "codemirror_mode": {
    "name": "ipython",
    "version": 3
   },
   "file_extension": ".py",
   "mimetype": "text/x-python",
   "name": "python",
   "nbconvert_exporter": "python",
   "pygments_lexer": "ipython3",
   "version": "3.6.9"
  }
 },
 "nbformat": 4,
 "nbformat_minor": 4
}
