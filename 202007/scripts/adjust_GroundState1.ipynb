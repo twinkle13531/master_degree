{
 "cells": [
  {
   "cell_type": "markdown",
   "metadata": {},
   "source": [
    "**完了確認済み2020/07/24**\n",
    "\n",
    "# 不等式のQUBO変換を用いて基底エネルギー以下のサンプルを得る\n",
    "\n",
    "\n",
    "#### **このファイルのミッション**\n",
    "今までの誤解を取り払って、条件を整えて分析する\n",
    "\n",
    "\n",
    "#### **データ、条件**\n",
    "small, binary data"
   ]
  },
  {
   "cell_type": "markdown",
   "metadata": {},
   "source": [
    "### **調整したこと**\n",
    "- XはSNPを想定。SNPの発生する箇所は95%ほとんどある塩基、5%ある別の塩基としか出現しないので0, 1で置換可能。\n",
    "- Xは標準化しない\n",
    "- 特徴量選択は内積が大きいものを取り出す\n",
    "- ay-byは内積のままでok\n",
    "- 場合によってはイジングモデルを採用しよう"
   ]
  },
  {
   "cell_type": "markdown",
   "metadata": {},
   "source": [
    "##### import"
   ]
  },
  {
   "cell_type": "code",
   "execution_count": 38,
   "metadata": {},
   "outputs": [],
   "source": [
    "import itertools\n",
    "import pandas as pd\n",
    "import numpy as np\n",
    "from sklearn.feature_selection import SelectKBest, f_regression\n",
    "import random\n",
    "from pyqubo import Array, OneHotEncInteger, solve_qubo\n",
    "import scipy.stats"
   ]
  },
  {
   "cell_type": "markdown",
   "metadata": {},
   "source": [
    "#### X"
   ]
  },
  {
   "cell_type": "code",
   "execution_count": 39,
   "metadata": {},
   "outputs": [],
   "source": [
    "#標準偏差が0である列をなくす\n",
    "def drop_str0_X(X):\n",
    "    for each_col in X.columns:\n",
    "        if X[each_col].std()==0.0:\n",
    "            X = X.drop(each_col, axis=1)\n",
    "    return X"
   ]
  },
  {
   "cell_type": "code",
   "execution_count": 40,
   "metadata": {},
   "outputs": [],
   "source": [
    "X_ori55 = pd.read_csv(\"../input/SNP_df55.csv\", sep=',', index_col=0)\n",
    "X_ori55_ad = drop_str0_X(X_ori55)"
   ]
  },
  {
   "cell_type": "code",
   "execution_count": 41,
   "metadata": {},
   "outputs": [],
   "source": [
    "max_X_element = X_ori55_ad.max(axis=1).max() \n",
    "min_X_element = X_ori55_ad.min(axis=1).min() \n",
    "\n",
    "num_samples = X_ori55_ad.shape[0]\n",
    "num_cols = X_ori55_ad.shape[1]"
   ]
  },
  {
   "cell_type": "markdown",
   "metadata": {},
   "source": [
    "#### y"
   ]
  },
  {
   "cell_type": "code",
   "execution_count": 42,
   "metadata": {},
   "outputs": [
    {
     "data": {
      "text/plain": [
       "0    1\n",
       "1    0\n",
       "2    1\n",
       "3    1\n",
       "4    0\n",
       "Name: y, dtype: int64"
      ]
     },
     "execution_count": 42,
     "metadata": {},
     "output_type": "execute_result"
    }
   ],
   "source": [
    "ori_y5 = pd.read_csv('../input/y5.csv', sep=',', index_col=0)['y']\n",
    "ori_y5"
   ]
  },
  {
   "cell_type": "code",
   "execution_count": 43,
   "metadata": {},
   "outputs": [],
   "source": [
    "selected_col_num1 = 1\n",
    "selected_col_num2 = 2\n",
    "selected_col_num3 = 3"
   ]
  },
  {
   "cell_type": "markdown",
   "metadata": {},
   "source": [
    "#### 特徴量選択"
   ]
  },
  {
   "cell_type": "code",
   "execution_count": 44,
   "metadata": {},
   "outputs": [],
   "source": [
    "def featrure_InnerProduct_sel_mul(X, y, sel_col_num):\n",
    "    inner_product_list = [np.dot(X[each_col], y) for each_col in X.columns] #内積のリスト\n",
    "    sort_inner_product_list = sorted(inner_product_list ,reverse=True)\n",
    "    \n",
    "    select_cols = []\n",
    "    for i in range(sel_col_num):\n",
    "        iindex = inner_product_list.index(sort_inner_product_list[i])\n",
    "        select_cols.append(X.columns[iindex])\n",
    "    \n",
    "    else_cols = list(X.columns)\n",
    "    for col in select_cols:\n",
    "        else_cols.remove(col)\n",
    "    \n",
    "    return select_cols, else_cols"
   ]
  },
  {
   "cell_type": "code",
   "execution_count": 45,
   "metadata": {},
   "outputs": [],
   "source": [
    "select_cols, else_cols = featrure_InnerProduct_sel_mul(X_ori55_ad, ori_y5, selected_col_num2)"
   ]
  },
  {
   "cell_type": "code",
   "execution_count": 47,
   "metadata": {},
   "outputs": [
    {
     "data": {
      "text/plain": [
       "['C', 'D', 'E']"
      ]
     },
     "execution_count": 47,
     "metadata": {},
     "output_type": "execute_result"
    }
   ],
   "source": [
    "select_cols\n",
    "else_cols"
   ]
  },
  {
   "cell_type": "markdown",
   "metadata": {},
   "source": [
    "### ハミルトニアン\n",
    "したいこと→ハミルトニアンを最小化させる（xを最適化）"
   ]
  },
  {
   "cell_type": "code",
   "execution_count": 48,
   "metadata": {},
   "outputs": [],
   "source": [
    "# W : ay - byの最大値\n",
    "\n",
    "#xの要素で最大値とxの要素の最小値を知れば推定はできる\n",
    "W = max_X_element *1*num_samples - min_X_element*1*num_samples"
   ]
  },
  {
   "cell_type": "code",
   "execution_count": 49,
   "metadata": {},
   "outputs": [],
   "source": [
    "# while True & if break バージョン\n",
    "def make_y(y_after):\n",
    "    while True:\n",
    "        select_index = random.randrange(num_samples)\n",
    "        y_after[select_index] = 1 - y_after[select_index]\n",
    "        if np.dot(np.array([1]*num_samples).T, y_after) == sum(list(ori_y)):\n",
    "            if y_after.std():\n",
    "                #print(y_after.std())\n",
    "                break\n",
    "    return y_after "
   ]
  },
  {
   "cell_type": "code",
   "execution_count": 50,
   "metadata": {},
   "outputs": [],
   "source": [
    "def make_ax_by(X, y, select_cols, else_cols):\n",
    "    ij = []\n",
    "    ax_by = []\n",
    "    for i in select_cols:\n",
    "        for j in else_cols:\n",
    "            row_each_axby = np.dot(X[i], y) - np.dot(X[j], y)\n",
    "            ax_by.append(row_each_axby)\n",
    "    return ax_by"
   ]
  },
  {
   "cell_type": "code",
   "execution_count": 63,
   "metadata": {},
   "outputs": [],
   "source": [
    "def H(ax_by, index_ax_by):\n",
    "    # W : ay - byの最大値\n",
    "    #W = X.max(axis=1).max() *1*num_samples - X.min(axis=1).min()*1*num_samples\n",
    "    \n",
    "    z = [0]*W\n",
    "        \n",
    "    each_axby = ax_by[index_ax_by]\n",
    "    sum_w_z = 0\n",
    "    \n",
    "    if each_axby >= 0: #変えた\n",
    "        z[each_axby] = 1\n",
    "        sum_w_z = sum([each_axby*z[w] for w in range(W)])\n",
    "    else:\n",
    "        z[0] = 1\n",
    "        sum_w_z = sum([1*z[w] for w in range(W)])\n",
    "        \n",
    "    sum_z = sum(z)\n",
    "\n",
    "    ans_h =  (1-sum_z)**2 + (sum_w_z - each_axby)**2\n",
    "    return ans_h"
   ]
  },
  {
   "cell_type": "code",
   "execution_count": 64,
   "metadata": {},
   "outputs": [],
   "source": [
    "def H_sum(ax_by):\n",
    "    H_sum =  sum([H(ax_by, index_ax_by) for index_ax_by in range(len(ax_by))])\n",
    "    return H_sum"
   ]
  },
  {
   "cell_type": "code",
   "execution_count": 65,
   "metadata": {},
   "outputs": [],
   "source": [
    "ax_by = make_ax_by(X_ori55_ad, ori_y5, select_cols, else_cols)"
   ]
  },
  {
   "cell_type": "code",
   "execution_count": 66,
   "metadata": {},
   "outputs": [
    {
     "data": {
      "text/plain": [
       "[1, 1, 1, 0, 0, 0]"
      ]
     },
     "execution_count": 66,
     "metadata": {},
     "output_type": "execute_result"
    }
   ],
   "source": [
    "#特徴量を複数選ぶときは、どうしても0となってしまう箇所が含まれる確率が高くなる\n",
    "#エラーではない\n",
    "ax_by"
   ]
  },
  {
   "cell_type": "code",
   "execution_count": 67,
   "metadata": {},
   "outputs": [
    {
     "data": {
      "text/plain": [
       "0"
      ]
     },
     "execution_count": 67,
     "metadata": {},
     "output_type": "execute_result"
    }
   ],
   "source": [
    "ori_H_sum = H_sum(ax_by)\n",
    "ori_H_sum"
   ]
  },
  {
   "cell_type": "code",
   "execution_count": 68,
   "metadata": {},
   "outputs": [],
   "source": [
    "#ori_yからはめでたいことに一つも出力されなくなった\n",
    "for index_ax_by in range(len(ax_by)):\n",
    "    if H(ax_by, index_ax_by) > 0:\n",
    "        print(H(ax_by, index_ax_by)) #Hの値を知る\n",
    "        #print(ij[index_ax_by]) #どの特徴量同士から発生している問題か知る\n",
    "        print(ax_by[index_ax_by]) #マイナスになっているのか確認\n",
    "        print('--------')"
   ]
  },
  {
   "cell_type": "code",
   "execution_count": null,
   "metadata": {},
   "outputs": [],
   "source": []
  }
 ],
 "metadata": {
  "kernelspec": {
   "display_name": "Python 3",
   "language": "python",
   "name": "python3"
  },
  "language_info": {
   "codemirror_mode": {
    "name": "ipython",
    "version": 3
   },
   "file_extension": ".py",
   "mimetype": "text/x-python",
   "name": "python",
   "nbconvert_exporter": "python",
   "pygments_lexer": "ipython3",
   "version": "3.6.9"
  }
 },
 "nbformat": 4,
 "nbformat_minor": 4
}
