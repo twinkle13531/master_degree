{
 "cells": [
  {
   "cell_type": "markdown",
   "metadata": {},
   "source": [
    "#### このノート\n",
    "- data: X_mushroom, y_mushroom\n",
    "- CNF式を再現してみた。\n",
    "- 1の総数は指定しなかった方法と、した方法\n",
    "- 単数出力、複数出力\n",
    "\n",
    "\n",
    "\n",
    "#### 教訓\n",
    "**変数aに変数bを代入し、その後変数bの値を変える場合、変数aは代入時の値と変わってしまう**\n",
    "\n",
    "対策\n",
    "- copy.copy('代入したい値')\n",
    "- copy.deepcopy('代入したい値')\n",
    "- '代入したい値'.copy()\n",
    "- '代入したい値'[:]\n",
    "\n",
    "\n",
    "**ValueError: The truth value of an array with more than one element is ambiguous. Use a.any() or a.all()**\n",
    "\n",
    "対策\n",
    "- とりあえず`a.all()`を当てはめてみる\n",
    "\n",
    "https://ieeexplore.ieee.org/stamp/stamp.jsp?tp=&arnumber=7163203"
   ]
  },
  {
   "cell_type": "code",
   "execution_count": 1,
   "metadata": {},
   "outputs": [],
   "source": [
    "import copy\n",
    "import itertools\n",
    "import pandas as pd\n",
    "import numpy as np\n",
    "from sklearn.feature_selection import SelectKBest, f_regression\n",
    "import random\n",
    "from pyqubo import Array, OneHotEncInteger, solve_qubo\n",
    "import scipy.stats"
   ]
  },
  {
   "cell_type": "code",
   "execution_count": 2,
   "metadata": {},
   "outputs": [],
   "source": [
    "#標準偏差が0である列をなくす\n",
    "def drop_str0_X(X):\n",
    "    for each_col in X.columns:\n",
    "        if X[each_col].std()==0.0:\n",
    "            X = X.drop(each_col, axis=1)\n",
    "    return X"
   ]
  },
  {
   "cell_type": "code",
   "execution_count": 3,
   "metadata": {},
   "outputs": [],
   "source": [
    "X_mushroom = pd.read_csv('../input/X_mushroom.csv', sep=',', index_col=0)\n",
    "X_mushroom_ad = drop_str0_X(X_mushroom)\n",
    "\n",
    "num_samples = X_mushroom.shape[0]"
   ]
  },
  {
   "cell_type": "code",
   "execution_count": 4,
   "metadata": {},
   "outputs": [
    {
     "data": {
      "text/html": [
       "<div>\n",
       "<style scoped>\n",
       "    .dataframe tbody tr th:only-of-type {\n",
       "        vertical-align: middle;\n",
       "    }\n",
       "\n",
       "    .dataframe tbody tr th {\n",
       "        vertical-align: top;\n",
       "    }\n",
       "\n",
       "    .dataframe thead th {\n",
       "        text-align: right;\n",
       "    }\n",
       "</style>\n",
       "<table border=\"1\" class=\"dataframe\">\n",
       "  <thead>\n",
       "    <tr style=\"text-align: right;\">\n",
       "      <th></th>\n",
       "      <th>0</th>\n",
       "      <th>1</th>\n",
       "      <th>2</th>\n",
       "      <th>3</th>\n",
       "      <th>4</th>\n",
       "      <th>5</th>\n",
       "      <th>6</th>\n",
       "      <th>7</th>\n",
       "      <th>8</th>\n",
       "      <th>9</th>\n",
       "      <th>...</th>\n",
       "      <th>109</th>\n",
       "      <th>110</th>\n",
       "      <th>111</th>\n",
       "      <th>112</th>\n",
       "      <th>113</th>\n",
       "      <th>114</th>\n",
       "      <th>115</th>\n",
       "      <th>116</th>\n",
       "      <th>117</th>\n",
       "      <th>118</th>\n",
       "    </tr>\n",
       "  </thead>\n",
       "  <tbody>\n",
       "    <tr>\n",
       "      <th>0</th>\n",
       "      <td>1</td>\n",
       "      <td>0</td>\n",
       "      <td>0</td>\n",
       "      <td>0</td>\n",
       "      <td>0</td>\n",
       "      <td>1</td>\n",
       "      <td>0</td>\n",
       "      <td>0</td>\n",
       "      <td>1</td>\n",
       "      <td>0</td>\n",
       "      <td>...</td>\n",
       "      <td>1</td>\n",
       "      <td>0</td>\n",
       "      <td>0</td>\n",
       "      <td>0</td>\n",
       "      <td>0</td>\n",
       "      <td>0</td>\n",
       "      <td>0</td>\n",
       "      <td>0</td>\n",
       "      <td>1</td>\n",
       "      <td>0</td>\n",
       "    </tr>\n",
       "    <tr>\n",
       "      <th>1</th>\n",
       "      <td>0</td>\n",
       "      <td>1</td>\n",
       "      <td>0</td>\n",
       "      <td>0</td>\n",
       "      <td>0</td>\n",
       "      <td>1</td>\n",
       "      <td>0</td>\n",
       "      <td>0</td>\n",
       "      <td>1</td>\n",
       "      <td>0</td>\n",
       "      <td>...</td>\n",
       "      <td>0</td>\n",
       "      <td>0</td>\n",
       "      <td>0</td>\n",
       "      <td>0</td>\n",
       "      <td>1</td>\n",
       "      <td>0</td>\n",
       "      <td>0</td>\n",
       "      <td>0</td>\n",
       "      <td>0</td>\n",
       "      <td>0</td>\n",
       "    </tr>\n",
       "    <tr>\n",
       "      <th>2</th>\n",
       "      <td>1</td>\n",
       "      <td>1</td>\n",
       "      <td>0</td>\n",
       "      <td>0</td>\n",
       "      <td>0</td>\n",
       "      <td>0</td>\n",
       "      <td>0</td>\n",
       "      <td>0</td>\n",
       "      <td>1</td>\n",
       "      <td>0</td>\n",
       "      <td>...</td>\n",
       "      <td>0</td>\n",
       "      <td>0</td>\n",
       "      <td>0</td>\n",
       "      <td>0</td>\n",
       "      <td>0</td>\n",
       "      <td>0</td>\n",
       "      <td>1</td>\n",
       "      <td>0</td>\n",
       "      <td>0</td>\n",
       "      <td>0</td>\n",
       "    </tr>\n",
       "    <tr>\n",
       "      <th>3</th>\n",
       "      <td>1</td>\n",
       "      <td>0</td>\n",
       "      <td>0</td>\n",
       "      <td>0</td>\n",
       "      <td>0</td>\n",
       "      <td>1</td>\n",
       "      <td>0</td>\n",
       "      <td>0</td>\n",
       "      <td>0</td>\n",
       "      <td>1</td>\n",
       "      <td>...</td>\n",
       "      <td>1</td>\n",
       "      <td>0</td>\n",
       "      <td>0</td>\n",
       "      <td>0</td>\n",
       "      <td>0</td>\n",
       "      <td>0</td>\n",
       "      <td>0</td>\n",
       "      <td>0</td>\n",
       "      <td>1</td>\n",
       "      <td>0</td>\n",
       "    </tr>\n",
       "    <tr>\n",
       "      <th>4</th>\n",
       "      <td>0</td>\n",
       "      <td>1</td>\n",
       "      <td>0</td>\n",
       "      <td>0</td>\n",
       "      <td>0</td>\n",
       "      <td>1</td>\n",
       "      <td>0</td>\n",
       "      <td>0</td>\n",
       "      <td>1</td>\n",
       "      <td>0</td>\n",
       "      <td>...</td>\n",
       "      <td>0</td>\n",
       "      <td>0</td>\n",
       "      <td>0</td>\n",
       "      <td>0</td>\n",
       "      <td>1</td>\n",
       "      <td>0</td>\n",
       "      <td>0</td>\n",
       "      <td>0</td>\n",
       "      <td>0</td>\n",
       "      <td>0</td>\n",
       "    </tr>\n",
       "  </tbody>\n",
       "</table>\n",
       "<p>5 rows × 111 columns</p>\n",
       "</div>"
      ],
      "text/plain": [
       "   0  1  2  3  4  5  6  7  8  9  ...  109  110  111  112  113  114  115  116  \\\n",
       "0  1  0  0  0  0  1  0  0  1  0  ...    1    0    0    0    0    0    0    0   \n",
       "1  0  1  0  0  0  1  0  0  1  0  ...    0    0    0    0    1    0    0    0   \n",
       "2  1  1  0  0  0  0  0  0  1  0  ...    0    0    0    0    0    0    1    0   \n",
       "3  1  0  0  0  0  1  0  0  0  1  ...    1    0    0    0    0    0    0    0   \n",
       "4  0  1  0  0  0  1  0  0  1  0  ...    0    0    0    0    1    0    0    0   \n",
       "\n",
       "   117  118  \n",
       "0    1    0  \n",
       "1    0    0  \n",
       "2    0    0  \n",
       "3    1    0  \n",
       "4    0    0  \n",
       "\n",
       "[5 rows x 111 columns]"
      ]
     },
     "execution_count": 4,
     "metadata": {},
     "output_type": "execute_result"
    }
   ],
   "source": [
    "X_mushroom_ad.head()"
   ]
  },
  {
   "cell_type": "code",
   "execution_count": 5,
   "metadata": {},
   "outputs": [
    {
     "data": {
      "text/plain": [
       "0    0\n",
       "1    1\n",
       "2    1\n",
       "3    0\n",
       "4    1\n",
       "Name: 21, dtype: int64"
      ]
     },
     "execution_count": 5,
     "metadata": {},
     "output_type": "execute_result"
    }
   ],
   "source": [
    "y_mushroom = pd.read_csv('../input/y_mushroom.csv', sep=',', index_col=0)['21'] #いずれ21→yとなるはず\n",
    "y_mushroom.head()"
   ]
  },
  {
   "cell_type": "code",
   "execution_count": 6,
   "metadata": {},
   "outputs": [],
   "source": [
    "y1_sum = sum(y_mushroom)"
   ]
  },
  {
   "cell_type": "code",
   "execution_count": 7,
   "metadata": {},
   "outputs": [
    {
     "data": {
      "text/plain": [
       "pandas.core.series.Series"
      ]
     },
     "execution_count": 7,
     "metadata": {},
     "output_type": "execute_result"
    }
   ],
   "source": [
    "type(y_mushroom)"
   ]
  },
  {
   "cell_type": "code",
   "execution_count": 8,
   "metadata": {},
   "outputs": [],
   "source": [
    "def featrure_InnerProduct_sel_mul(X, y, sel_col_num):\n",
    "    inner_product_list = [np.dot(X[each_col], y) for each_col in X.columns] #内積のリスト\n",
    "    sort_inner_product_list = sorted(inner_product_list ,reverse=True)\n",
    "    \n",
    "    select_cols = []\n",
    "    for i in range(sel_col_num):\n",
    "        iindex = inner_product_list.index(sort_inner_product_list[i])\n",
    "        select_cols.append(X.columns[iindex])\n",
    "    \n",
    "    else_cols = list(X.columns)\n",
    "    for col in select_cols:\n",
    "        else_cols.remove(col)\n",
    "    \n",
    "    return select_cols, else_cols"
   ]
  },
  {
   "cell_type": "code",
   "execution_count": 9,
   "metadata": {},
   "outputs": [],
   "source": [
    "selected_col_num2 = 2\n",
    "select_cols, else_cols = featrure_InnerProduct_sel_mul(X_mushroom_ad, y_mushroom, selected_col_num2)"
   ]
  },
  {
   "cell_type": "markdown",
   "metadata": {},
   "source": [
    "## SATのシステムをオリジナルで書いてみる\n",
    "- 単数出力、1の総数未指定\n",
    "- 複数出力、1の総数未指定\n",
    "- 単数出力、1の総数指定\n",
    "- 複数出力、1の総数指定"
   ]
  },
  {
   "cell_type": "code",
   "execution_count": 10,
   "metadata": {},
   "outputs": [],
   "source": [
    "#len, 0と1だけ使用する、という条件だけ指定し、自動でlistを作ってもらう\n",
    "def make(num_samples):\n",
    "    shou = num_samples//2\n",
    "    if num_samples%2 == 0:\n",
    "        infer_y0 = pd.Series([0, 1]*shou)\n",
    "    else:\n",
    "        infer_y0 = pd.Series([0, 1]*shou + [0])\n",
    "    return infer_y0"
   ]
  },
  {
   "cell_type": "code",
   "execution_count": 11,
   "metadata": {},
   "outputs": [],
   "source": [
    "infer_y0 = make(num_samples)"
   ]
  },
  {
   "cell_type": "code",
   "execution_count": 12,
   "metadata": {},
   "outputs": [
    {
     "name": "stdout",
     "output_type": "stream",
     "text": [
      "ok\n"
     ]
    }
   ],
   "source": [
    "dot_list_ori = [np.dot(X_mushroom_ad[i], y_mushroom) - np.dot(X_mushroom_ad[j], y_mushroom) for i in select_cols for j in else_cols]\n",
    "for each_dot in dot_list_ori:\n",
    "    if each_dot < 0 :\n",
    "        print('error is here')\n",
    "        break\n",
    "print('ok')"
   ]
  },
  {
   "cell_type": "code",
   "execution_count": 13,
   "metadata": {},
   "outputs": [],
   "source": [
    "#合っているか確認\n",
    "def check_decide_y_fuc(X, ori_y, selected_col_num, deci_y):\n",
    "    select_cols, else_cols = featrure_InnerProduct_sel_mul(X, ori_y, selected_col_num)\n",
    "    \n",
    "    dot_list_confirm = [np.dot(X[i], deci_y) - np.dot(X[j], deci_y) for i in select_cols for j in else_cols]\n",
    "    if len([ll for ll in dot_list_confirm if ll <0]) != 0:\n",
    "        print('{} is wrong'.format(deci_y.values.tolist()))"
   ]
  },
  {
   "cell_type": "code",
   "execution_count": 14,
   "metadata": {},
   "outputs": [],
   "source": [
    "check_decide_y_fuc(X_mushroom_ad, y_mushroom, selected_col_num2, y_mushroom)"
   ]
  },
  {
   "cell_type": "code",
   "execution_count": 15,
   "metadata": {},
   "outputs": [
    {
     "name": "stdout",
     "output_type": "stream",
     "text": [
      "there is no problem\n"
     ]
    }
   ],
   "source": [
    "if len([ll for ll in dot_list_ori if ll <0]) == 0:\n",
    "    print('there is no problem')"
   ]
  },
  {
   "cell_type": "code",
   "execution_count": 16,
   "metadata": {},
   "outputs": [],
   "source": [
    "#合っているか確認(複数出力)\n",
    "def check_decide_y_fuc_mul(X, ori_y, selected_col_num, deci_y_list):\n",
    "    select_cols, else_cols = featrure_InnerProduct_sel_mul(X, ori_y, selected_col_num)\n",
    "\n",
    "    for m in deci_y_list:\n",
    "        dot_list_confirm = [np.dot(X[i], m) - np.dot(X[j], m) for i in select_cols for j in else_cols]\n",
    "        if len([ll for ll in dot_list_confirm if ll <0]) == 0:\n",
    "            continue\n",
    "        else:\n",
    "            print('{} is wrong'.format(m.values.tolist()))"
   ]
  },
  {
   "cell_type": "code",
   "execution_count": null,
   "metadata": {},
   "outputs": [],
   "source": []
  },
  {
   "cell_type": "markdown",
   "metadata": {},
   "source": [
    "### 単数出力、1の総数未指定"
   ]
  },
  {
   "cell_type": "code",
   "execution_count": 17,
   "metadata": {},
   "outputs": [],
   "source": [
    "# 出力一つ\n",
    "def decide_y(X, ori_y, infer_y, selected_col_num):\n",
    "    select_cols, else_cols = featrure_InnerProduct_sel_mul(X, ori_y, selected_col_num)\n",
    "    deci_y = 0\n",
    "    dot_list = [np.dot(X[i], infer_y) - np.dot(X[j], infer_y) for i in select_cols for j in else_cols]\n",
    "    if len([ll for ll in dot_list if ll <0]) == 0:\n",
    "        deci_y = infer_y\n",
    "        return deci_y\n",
    "    else:\n",
    "        for kk in reversed(range(num_samples)):\n",
    "            for k in reversed(range(kk+1)):\n",
    "                infer_y[k] = 1 - infer_y[k]\n",
    "                dot_list = [np.dot(X[i], infer_y) - np.dot(X[j], infer_y) for i in select_cols for j in else_cols]\n",
    "                if len([ll for ll in dot_list if ll <0]) == 0:\n",
    "                    deci_y = infer_y\n",
    "                    return deci_y\n",
    "                else:\n",
    "                    infer_y[k] = 1 - infer_y[k]\n",
    "            infer_y[kk] = 1 - infer_y[kk]\n",
    "    return deci_y #series"
   ]
  },
  {
   "cell_type": "code",
   "execution_count": null,
   "metadata": {},
   "outputs": [],
   "source": [
    "deci_y0 = decide_y(X_mushroom_ad, y_mushroom, infer_y0, selected_col_num2)\n",
    "deci_y0"
   ]
  },
  {
   "cell_type": "code",
   "execution_count": null,
   "metadata": {},
   "outputs": [],
   "source": [
    "check_decide_y_fuc(X_mushroom_ad, y_mushroom, selected_col_num2, deci_y0)"
   ]
  },
  {
   "cell_type": "code",
   "execution_count": null,
   "metadata": {},
   "outputs": [],
   "source": [
    "dot_list_confirm0 = [np.dot(X_mushroom_ad[i], deci_y0) - np.dot(X_mushroom_ad[j], deci_y0) for i in select_cols for j in else_cols]\n",
    "dot_list_confirm0"
   ]
  },
  {
   "cell_type": "code",
   "execution_count": null,
   "metadata": {},
   "outputs": [],
   "source": [
    "# 出力複数\n",
    "def decide_y_mul(X, ori_y, infer_y, selected_col_num):\n",
    "    select_cols, else_cols = featrure_InnerProduct_sel_mul(X, ori_y, selected_col_num)\n",
    "    deci_y_list = []\n",
    "    dot_list = [np.dot(X[i], infer_y) - np.dot(X[j], infer_y) for i in select_cols for j in else_cols]\n",
    "    \n",
    "    if len([ll for ll in dot_list if ll <0]) == 0:\n",
    "        deci_y_list.append(copy.deepcopy(infer_y))\n",
    "    for kk in reversed(range(num_samples)):\n",
    "        for k in reversed(range(kk+1)):\n",
    "            infer_y[k] = 1 - infer_y[k]\n",
    "            dot_list = [np.dot(X[i], infer_y) - np.dot(X[j], infer_y) for i in select_cols for j in else_cols]\n",
    "            if len([ll for ll in dot_list if ll <0]) == 0:\n",
    "                if len(deci_y_list) == 0:\n",
    "                    deci_y_list.append(copy.deepcopy(infer_y))\n",
    "                elif (deci_y_list[-1] == infer_y).all() == False:\n",
    "                    deci_y_list.append(copy.deepcopy(infer_y))\n",
    "            infer_y[k] = 1 - infer_y[k]\n",
    "        infer_y[kk] = 1 - infer_y[kk]\n",
    "    \n",
    "    return deci_y_list"
   ]
  },
  {
   "cell_type": "code",
   "execution_count": null,
   "metadata": {},
   "outputs": [],
   "source": [
    "infer_y0 = make(num_samples)\n",
    "deci_y1 = decide_y_mul(X_mushroom_ad, y_mushroom, infer_y0, selected_col_num2)\n",
    "deci_y1\n",
    "#[[1, 1, 0, 1, 0]]"
   ]
  },
  {
   "cell_type": "code",
   "execution_count": null,
   "metadata": {},
   "outputs": [],
   "source": [
    "check_decide_y_fuc_mul(X_mushroom_ad, y_mushroom, selected_col_num2, deci_y1)"
   ]
  },
  {
   "cell_type": "code",
   "execution_count": null,
   "metadata": {},
   "outputs": [],
   "source": [
    "dot_list_confirm1 = [np.dot(X_mushroom_ad[i], deci_y1[0]) - np.dot(X_mushroom_ad[j], deci_y1[0]) for i in select_cols for j in else_cols]\n",
    "dot_list_confirm1"
   ]
  },
  {
   "cell_type": "code",
   "execution_count": null,
   "metadata": {},
   "outputs": [],
   "source": [
    "# 出力一つ、yに含まれる1を固定\n",
    "def decide_y_fix_y1(X, ori_y, infer_y, selected_col_num, y1_sum):\n",
    "    select_cols, else_cols = featrure_InnerProduct_sel_mul(X, ori_y, selected_col_num)\n",
    "    deci_y = []\n",
    "    dot_list = [np.dot(X[i], infer_y) - np.dot(X[j], infer_y) for i in select_cols for j in else_cols]\n",
    "    \n",
    "    if len([ll for ll in dot_list if ll <0]) == 0 and sum(infer_y) == y1_sum:\n",
    "        deci_y.append(copy.deepcopy(infer_y))\n",
    "    else:\n",
    "        for kk in reversed(range(num_samples)):\n",
    "            for k in reversed(range(kk+1)):\n",
    "                infer_y[k] = 1 - infer_y[k]\n",
    "                dot_list = [np.dot(X[i], infer_y) - np.dot(X[j], infer_y) for i in select_cols for j in else_cols]\n",
    "                if len([ll for ll in dot_list if ll <0]) == 0 and sum(infer_y) == y1_sum:\n",
    "                    deci_y.append(copy.deepcopy(infer_y))\n",
    "\n",
    "                else:\n",
    "                    infer_y[k] = 1 - infer_y[k]\n",
    "            infer_y[kk] = 1 - infer_y[kk]\n",
    "    return deci_y"
   ]
  },
  {
   "cell_type": "code",
   "execution_count": null,
   "metadata": {},
   "outputs": [],
   "source": [
    "infer_y0 = make(num_samples)\n",
    "deci_y2 = decide_y_fix_y1(X_mushroom_ad, y_mushroom, infer_y0, selected_col_num2, y1_sum)\n",
    "deci_y2#なし"
   ]
  },
  {
   "cell_type": "code",
   "execution_count": null,
   "metadata": {},
   "outputs": [],
   "source": [
    "# 出力複数、yに含まれる1を固定\n",
    "def decide_y_fix_y1_mul(X, ori_y, infer_y, selected_col_num, y1_sum):\n",
    "    select_cols, else_cols = featrure_InnerProduct_sel_mul(X, ori_y, selected_col_num)\n",
    "    deci_y_list = []\n",
    "    dot_list = [np.dot(X[i], infer_y) - np.dot(X[j], infer_y) for i in select_cols for j in else_cols]\n",
    "    \n",
    "    if len([ll for ll in dot_list if ll <0]) == 0 and sum(infer_y) == y1_sum:\n",
    "        deci_y_list.append(copy.deepcopy(infer_y))\n",
    "        \n",
    "    for kk in reversed(range(num_samples)):\n",
    "        for k in reversed(range(kk+1)):\n",
    "            infer_y[k] = 1 - infer_y[k]\n",
    "            dot_list = [np.dot(X[i], infer_y) - np.dot(X[j], infer_y) for i in select_cols for j in else_cols]\n",
    "            if len([ll for ll in dot_list if ll <0]) == 0 and sum(infer_y) == y1_sum:\n",
    "                if (len(deci_y_list) == 0) or (deci_y_list[-1] == infer_y).all() == False:\n",
    "                    deci_y_list.append(copy.deepcopy(infer_y))\n",
    "            infer_y[k] = 1 - infer_y[k]\n",
    "        infer_y[kk] = 1 - infer_y[kk]\n",
    "        \n",
    "    return deci_y_list"
   ]
  },
  {
   "cell_type": "code",
   "execution_count": null,
   "metadata": {},
   "outputs": [],
   "source": [
    "infer_y0 = make(num_samples)\n",
    "deci_y3 = decide_y_fix_y1_mul(X_mushroom_ad, y_mushroom, infer_y0, selected_col_num2, y1_sum)\n",
    "deci_y3"
   ]
  },
  {
   "cell_type": "code",
   "execution_count": null,
   "metadata": {},
   "outputs": [],
   "source": [
    "check_decide_y_fuc_mul(X_mushroom_ad, y_mushroom, selected_col_num2, deci_y3)"
   ]
  },
  {
   "cell_type": "code",
   "execution_count": null,
   "metadata": {},
   "outputs": [],
   "source": [
    "dot_list_confirm3 = [np.dot(X_mushroom_ad[i], deci_y3[0]) - np.dot(X_mushroom_ad[j], deci_y3[0]) for i in select_cols for j in else_cols]\n",
    "dot_list_confirm3"
   ]
  },
  {
   "cell_type": "code",
   "execution_count": null,
   "metadata": {},
   "outputs": [],
   "source": []
  }
 ],
 "metadata": {
  "kernelspec": {
   "display_name": "Python 3",
   "language": "python",
   "name": "python3"
  },
  "language_info": {
   "codemirror_mode": {
    "name": "ipython",
    "version": 3
   },
   "file_extension": ".py",
   "mimetype": "text/x-python",
   "name": "python",
   "nbconvert_exporter": "python",
   "pygments_lexer": "ipython3",
   "version": "3.6.9"
  }
 },
 "nbformat": 4,
 "nbformat_minor": 4
}
