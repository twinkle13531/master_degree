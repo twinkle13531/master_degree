{
 "cells": [
  {
   "cell_type": "markdown",
   "metadata": {},
   "source": [
    "**完了確認済み2020/07/24**"
   ]
  },
  {
   "cell_type": "markdown",
   "metadata": {},
   "source": [
    "# 不等式のQUBO変換を用いて基底エネルギー以下のサンプルを得る\n",
    "\n",
    "\n",
    "#### **このファイルのミッション**\n",
    "今までの誤解を取り払って、条件を整えて分析する\n",
    "\n",
    "\n",
    "#### **データ、条件**\n",
    "small, binary data"
   ]
  },
  {
   "cell_type": "markdown",
   "metadata": {},
   "source": [
    "### **調整したこと**\n",
    "- XはSNPを想定。SNPの発生する箇所は95%ほとんどある塩基、5%ある別の塩基としか出現しないので0, 1で置換可能。\n",
    "- Xは標準化しない\n",
    "- 特徴量選択は内積が大きいものを取り出す\n",
    "- ay-byは内積のままでok\n",
    "- 場合によってはイジングモデルを採用しよう"
   ]
  },
  {
   "cell_type": "markdown",
   "metadata": {},
   "source": [
    "### import"
   ]
  },
  {
   "cell_type": "code",
   "execution_count": 1,
   "metadata": {},
   "outputs": [
    {
     "name": "stdout",
     "output_type": "stream",
     "text": [
      "/data/202007/scripts\n"
     ]
    }
   ],
   "source": [
    "!pwd"
   ]
  },
  {
   "cell_type": "code",
   "execution_count": 2,
   "metadata": {},
   "outputs": [],
   "source": [
    "import itertools\n",
    "import pandas as pd\n",
    "import numpy as np\n",
    "from sklearn.feature_selection import SelectKBest, f_regression\n",
    "import random\n",
    "from pyqubo import Array, OneHotEncInteger, solve_qubo\n",
    "import scipy.stats"
   ]
  },
  {
   "cell_type": "code",
   "execution_count": 3,
   "metadata": {},
   "outputs": [],
   "source": [
    "#標準偏差が0である列をなくす\n",
    "def drop_str0_X(X):\n",
    "    for each_col in X.columns:\n",
    "        if X[each_col].std()==0.0:\n",
    "            X = X.drop(each_col, axis=1)\n",
    "    return X"
   ]
  },
  {
   "cell_type": "code",
   "execution_count": 4,
   "metadata": {},
   "outputs": [],
   "source": [
    "X_ori55 = pd.read_csv(\"../input/SNP_df55.csv\", sep=',', index_col=0)\n",
    "X_ori55_ad = drop_str0_X(X_ori55)"
   ]
  },
  {
   "cell_type": "code",
   "execution_count": 5,
   "metadata": {},
   "outputs": [],
   "source": [
    "#ori_y5 = pd.Series([1, 0, 1, 1, 0], name='y')\n",
    "#ori_y5.to_csv('../input/y5.csv')\n",
    "#ori_y5"
   ]
  },
  {
   "cell_type": "code",
   "execution_count": 64,
   "metadata": {},
   "outputs": [
    {
     "data": {
      "text/plain": [
       "0    1\n",
       "1    0\n",
       "2    1\n",
       "3    1\n",
       "4    0\n",
       "Name: y, dtype: int64"
      ]
     },
     "execution_count": 64,
     "metadata": {},
     "output_type": "execute_result"
    }
   ],
   "source": [
    "ori_y5 = pd.read_csv('../input/y5.csv', sep=',', index_col=0)['y']\n",
    "ori_y5"
   ]
  },
  {
   "cell_type": "code",
   "execution_count": 65,
   "metadata": {},
   "outputs": [
    {
     "data": {
      "text/plain": [
       "1"
      ]
     },
     "execution_count": 65,
     "metadata": {},
     "output_type": "execute_result"
    }
   ],
   "source": [
    "ori_y5.iloc[0]"
   ]
  },
  {
   "cell_type": "code",
   "execution_count": 68,
   "metadata": {},
   "outputs": [],
   "source": [
    "y1_sum = sum(ori_y5)"
   ]
  },
  {
   "cell_type": "code",
   "execution_count": 7,
   "metadata": {},
   "outputs": [],
   "source": [
    "selected_col_num1 = 1\n",
    "selected_col_num2 = 2\n",
    "selected_col_num3 = 3"
   ]
  },
  {
   "cell_type": "markdown",
   "metadata": {},
   "source": [
    "## 特徴量選択\n",
    "\n",
    "<br/>\n",
    "\n",
    "#### **ピアソンの相関係数**\n",
    "$\n",
    "r_{xy} = \\frac{{\\displaystyle \\sum_{i = 1}^n (x_i - \\overline{x})\n",
    "(y_i - \\overline{y})}}{\\sqrt{{\\displaystyle \\sum_{i = 1}^n \n",
    "(x_i - \\overline{x})^2}} \\sqrt{{\\displaystyle \\sum_{i = 1}^n \n",
    "(y_i - \\overline{y})^2}}} = \\frac{s_{xy}}{s_xs_y} = \\frac{x'・y'}{||x'||  ||y'||} = cosθ\n",
    "$\n",
    "\n",
    "- [２つのデータをベクトルと捉えると、n次元空間上の2本のベクトルの間の角度と捉える事ができる](https://www.slideshare.net/matsukenbook/5-55326268?next_slideshow=1)\n",
    "- どちらか一方でも標準偏差が0、分散が0のとき分母が0となり計算できないことに注意"
   ]
  },
  {
   "cell_type": "markdown",
   "metadata": {},
   "source": [
    "#### 最適な関数と出力"
   ]
  },
  {
   "cell_type": "code",
   "execution_count": 8,
   "metadata": {},
   "outputs": [],
   "source": [
    "def featrure_InnerProduct_sel_mul(X, y, sel_col_num):\n",
    "    inner_product_list = [np.dot(X[each_col], y) for each_col in X.columns] #内積のリスト\n",
    "    sort_inner_product_list = sorted(inner_product_list ,reverse=True)\n",
    "    \n",
    "    select_cols = []\n",
    "    for i in range(sel_col_num):\n",
    "        iindex = inner_product_list.index(sort_inner_product_list[i])\n",
    "        select_cols.append(X.columns[iindex])\n",
    "    \n",
    "    else_cols = list(X.columns)\n",
    "    for col in select_cols:\n",
    "        else_cols.remove(col)\n",
    "    \n",
    "    return select_cols, else_cols"
   ]
  },
  {
   "cell_type": "code",
   "execution_count": 9,
   "metadata": {},
   "outputs": [],
   "source": [
    "select_cols, else_cols = featrure_InnerProduct_sel_mul(X_ori55_ad, ori_y5, selected_col_num2)"
   ]
  },
  {
   "cell_type": "code",
   "execution_count": null,
   "metadata": {},
   "outputs": [],
   "source": []
  },
  {
   "cell_type": "markdown",
   "metadata": {},
   "source": [
    "#### 試行錯誤過程"
   ]
  },
  {
   "cell_type": "code",
   "execution_count": 10,
   "metadata": {},
   "outputs": [],
   "source": [
    "from decimal import *"
   ]
  },
  {
   "cell_type": "code",
   "execution_count": 11,
   "metadata": {},
   "outputs": [],
   "source": [
    "#標準偏差が0である列をなくす\n",
    "def drop_str0_X(X):\n",
    "    for each_col in X.columns:\n",
    "        if X[each_col].std()==0.0:\n",
    "            X = X.drop(each_col, axis=1)\n",
    "    return X"
   ]
  },
  {
   "cell_type": "code",
   "execution_count": 13,
   "metadata": {},
   "outputs": [
    {
     "data": {
      "text/html": [
       "<div>\n",
       "<style scoped>\n",
       "    .dataframe tbody tr th:only-of-type {\n",
       "        vertical-align: middle;\n",
       "    }\n",
       "\n",
       "    .dataframe tbody tr th {\n",
       "        vertical-align: top;\n",
       "    }\n",
       "\n",
       "    .dataframe thead th {\n",
       "        text-align: right;\n",
       "    }\n",
       "</style>\n",
       "<table border=\"1\" class=\"dataframe\">\n",
       "  <thead>\n",
       "    <tr style=\"text-align: right;\">\n",
       "      <th></th>\n",
       "      <th>A</th>\n",
       "      <th>B</th>\n",
       "      <th>C</th>\n",
       "      <th>D</th>\n",
       "      <th>E</th>\n",
       "    </tr>\n",
       "  </thead>\n",
       "  <tbody>\n",
       "    <tr>\n",
       "      <th>0</th>\n",
       "      <td>0</td>\n",
       "      <td>1</td>\n",
       "      <td>0</td>\n",
       "      <td>0</td>\n",
       "      <td>1</td>\n",
       "    </tr>\n",
       "    <tr>\n",
       "      <th>1</th>\n",
       "      <td>1</td>\n",
       "      <td>1</td>\n",
       "      <td>1</td>\n",
       "      <td>1</td>\n",
       "      <td>0</td>\n",
       "    </tr>\n",
       "    <tr>\n",
       "      <th>2</th>\n",
       "      <td>0</td>\n",
       "      <td>1</td>\n",
       "      <td>0</td>\n",
       "      <td>1</td>\n",
       "      <td>0</td>\n",
       "    </tr>\n",
       "    <tr>\n",
       "      <th>3</th>\n",
       "      <td>1</td>\n",
       "      <td>0</td>\n",
       "      <td>1</td>\n",
       "      <td>0</td>\n",
       "      <td>0</td>\n",
       "    </tr>\n",
       "    <tr>\n",
       "      <th>4</th>\n",
       "      <td>0</td>\n",
       "      <td>0</td>\n",
       "      <td>0</td>\n",
       "      <td>1</td>\n",
       "      <td>1</td>\n",
       "    </tr>\n",
       "  </tbody>\n",
       "</table>\n",
       "</div>"
      ],
      "text/plain": [
       "   A  B  C  D  E\n",
       "0  0  1  0  0  1\n",
       "1  1  1  1  1  0\n",
       "2  0  1  0  1  0\n",
       "3  1  0  1  0  0\n",
       "4  0  0  0  1  1"
      ]
     },
     "execution_count": 13,
     "metadata": {},
     "output_type": "execute_result"
    }
   ],
   "source": [
    "drop_str0_X(X_ori55_ad)"
   ]
  },
  {
   "cell_type": "code",
   "execution_count": 16,
   "metadata": {},
   "outputs": [],
   "source": [
    "max_X_element = X_ori55_ad.max(axis=1).max() \n",
    "min_X_element = X_ori55_ad.min(axis=1).min() \n",
    "\n",
    "num_samples = X_ori55_ad.shape[0]\n",
    "num_cols = X_ori55_ad.shape[1]"
   ]
  },
  {
   "cell_type": "code",
   "execution_count": 18,
   "metadata": {
    "scrolled": true
   },
   "outputs": [
    {
     "data": {
      "text/plain": [
       "[array([1]), array([2]), array([1]), array([1]), array([1])]"
      ]
     },
     "execution_count": 18,
     "metadata": {},
     "output_type": "execute_result"
    }
   ],
   "source": [
    "#特徴量選択(内積で取り出す)\n",
    "inner_product_list = [np.dot(X_ori55_ad[each_col], ori_y5) for each_col in X_ori55_ad.columns]\n",
    "inner_product_list"
   ]
  },
  {
   "cell_type": "code",
   "execution_count": 19,
   "metadata": {},
   "outputs": [
    {
     "data": {
      "text/plain": [
       "1"
      ]
     },
     "execution_count": 19,
     "metadata": {},
     "output_type": "execute_result"
    }
   ],
   "source": [
    "max_index = inner_product_list.index(max(inner_product_list))\n",
    "max_index"
   ]
  },
  {
   "cell_type": "code",
   "execution_count": 20,
   "metadata": {},
   "outputs": [
    {
     "data": {
      "text/plain": [
       "['B']"
      ]
     },
     "execution_count": 20,
     "metadata": {},
     "output_type": "execute_result"
    }
   ],
   "source": [
    "select_cols = [X_ori55_ad.columns[max_index]]\n",
    "select_cols"
   ]
  },
  {
   "cell_type": "code",
   "execution_count": 21,
   "metadata": {},
   "outputs": [
    {
     "data": {
      "text/plain": [
       "['A', 'C', 'D', 'E']"
      ]
     },
     "execution_count": 21,
     "metadata": {},
     "output_type": "execute_result"
    }
   ],
   "source": [
    "else_cols = list(X_ori55_ad.columns)\n",
    "del else_cols[max_index]\n",
    "else_cols"
   ]
  },
  {
   "cell_type": "code",
   "execution_count": 22,
   "metadata": {},
   "outputs": [],
   "source": [
    "def featrure_InnerProduct_sel(X, y, sel_col_num):\n",
    "    inner_product_list = [np.dot(X[each_col], y) for each_col in X.columns] #内積のリスト\n",
    "    sort_inner_product_list = sorted(inner_product_list ,reverse=True)\n",
    "    \n",
    "    select_cols = []\n",
    "    for i in range(sel_col_num):\n",
    "        iindex = inner_product_list.index(sort_inner_product_list[i])\n",
    "        select_cols.append(X.columns[iindex])\n",
    "    \n",
    "    else_cols = list(X.columns)\n",
    "    for col in select_cols:\n",
    "        else_cols.remove(col)\n",
    "    \n",
    "    return select_cols, else_cols"
   ]
  },
  {
   "cell_type": "code",
   "execution_count": null,
   "metadata": {},
   "outputs": [],
   "source": []
  },
  {
   "cell_type": "code",
   "execution_count": 25,
   "metadata": {},
   "outputs": [
    {
     "name": "stdout",
     "output_type": "stream",
     "text": [
      "[2]\n",
      "[1]\n",
      "正になっている必要があります👉1\n",
      "(0, 0)\n",
      "----------------\n",
      "[2]\n",
      "[1]\n",
      "正になっている必要があります👉1\n",
      "(0, 1)\n",
      "----------------\n",
      "[2]\n",
      "[1]\n",
      "正になっている必要があります👉1\n",
      "(0, 2)\n",
      "----------------\n",
      "[2]\n",
      "[1]\n",
      "正になっている必要があります👉1\n",
      "(0, 3)\n",
      "----------------\n"
     ]
    }
   ],
   "source": [
    "#内積での様子を知る\n",
    "\n",
    "ij = []\n",
    "ax_by = []\n",
    "for i in range(selected_col_num1):\n",
    "    for j in range(num_cols - selected_col_num1):\n",
    "        row_each_axby = np.dot(X_ori55_ad[select_cols[i]], ori_y5) - np.dot(X_ori55_ad[else_cols[j]], ori_y5)\n",
    "        print(np.dot(X_ori55_ad[select_cols[i]], ori_y5))\n",
    "        print(np.dot(X_ori55_ad[else_cols[j]], ori_y5))\n",
    "        #print(row_each_axby)\n",
    "        print('正になっている必要があります👉{}'.format(int(row_each_axby)))\n",
    "        print((i, j))\n",
    "        ax_by.append(int(row_each_axby))\n",
    "        ij.append((i, j))\n",
    "        print('----------------')"
   ]
  },
  {
   "cell_type": "markdown",
   "metadata": {},
   "source": [
    "## すべての不等式が成り立つ：条件\n",
    "したいこと→ハミルトニアンを最小化させる（xを最適化）"
   ]
  },
  {
   "cell_type": "code",
   "execution_count": 26,
   "metadata": {},
   "outputs": [],
   "source": [
    "# W : ay - byの最大値\n",
    "\n",
    "#xの要素で最大値とxの要素の最小値を知れば推定はできる\n",
    "W = max_X_element *1*num_samples - min_X_element*1*num_samples"
   ]
  },
  {
   "cell_type": "code",
   "execution_count": 27,
   "metadata": {},
   "outputs": [
    {
     "data": {
      "text/plain": [
       "numpy.int64"
      ]
     },
     "execution_count": 27,
     "metadata": {},
     "output_type": "execute_result"
    }
   ],
   "source": [
    "type(W)"
   ]
  },
  {
   "cell_type": "code",
   "execution_count": 28,
   "metadata": {},
   "outputs": [],
   "source": [
    "#while not バージョン\n",
    "def make_y1(y_after):\n",
    "    select_index = random.randrange(num_samples)\n",
    "    y_after[select_index] = 1 - y_after[select_index]\n",
    "    while not y_after.std()>0:\n",
    "        select_index = random.randrange(num_samples)\n",
    "        y_after[select_index] = 1 - y_after[select_index]\n",
    "    return y_after"
   ]
  },
  {
   "cell_type": "code",
   "execution_count": 73,
   "metadata": {},
   "outputs": [],
   "source": [
    "# while True & if break バージョン\n",
    "def make_y(y_after):\n",
    "    while True:\n",
    "        select_index = random.randrange(num_samples)\n",
    "        y_after[select_index] = 1 - y_after[select_index]\n",
    "        if np.dot(np.array([1]*num_samples).T, y_after) == y1_sum:\n",
    "            if y_after.std():\n",
    "                #print(y_after.std())\n",
    "                break\n",
    "    return y_after "
   ]
  },
  {
   "cell_type": "code",
   "execution_count": 34,
   "metadata": {},
   "outputs": [],
   "source": [
    "def make_ax_by(X, y, select_cols, else_cols):\n",
    "    ij = []\n",
    "    ax_by = []\n",
    "    for i in select_cols:\n",
    "        for j in else_cols:\n",
    "            row_each_axby = np.dot(X[i], y) - np.dot(X[j], y)\n",
    "            ax_by.append(row_each_axby)\n",
    "    return ax_by"
   ]
  },
  {
   "cell_type": "code",
   "execution_count": 39,
   "metadata": {},
   "outputs": [],
   "source": [
    "def H(ax_by, index_ax_by):\n",
    "    z = [0]*W\n",
    "        \n",
    "    each_axby = int(ax_by[index_ax_by])\n",
    "    sum_w_z = 0\n",
    "    \n",
    "    if each_axby >= 0: #変えた\n",
    "        z[each_axby] = 1\n",
    "        sum_w_z = sum([each_axby*z[w] for w in range(W)])\n",
    "    else:\n",
    "        z[0] = 1\n",
    "        sum_w_z = sum([1*z[w] for w in range(W)])\n",
    "        \n",
    "    sum_z = sum(z)\n",
    "\n",
    "    ans_h =  (1-sum_z)**2 + (sum_w_z - each_axby)**2\n",
    "    return ans_h"
   ]
  },
  {
   "cell_type": "code",
   "execution_count": 36,
   "metadata": {},
   "outputs": [],
   "source": [
    "def H_sum(ax_by):\n",
    "    H_sum =  sum([H(ax_by, index_ax_by) for index_ax_by in range(len(ax_by))])\n",
    "    return H_sum"
   ]
  },
  {
   "cell_type": "code",
   "execution_count": 37,
   "metadata": {},
   "outputs": [
    {
     "data": {
      "text/plain": [
       "[array([1]), array([1]), array([1]), array([1])]"
      ]
     },
     "execution_count": 37,
     "metadata": {},
     "output_type": "execute_result"
    }
   ],
   "source": [
    "ax_by = make_ax_by(X_ori55_ad, ori_y5, select_cols, else_cols)\n",
    "ax_by"
   ]
  },
  {
   "cell_type": "code",
   "execution_count": 40,
   "metadata": {},
   "outputs": [
    {
     "data": {
      "text/plain": [
       "0"
      ]
     },
     "execution_count": 40,
     "metadata": {},
     "output_type": "execute_result"
    }
   ],
   "source": [
    "ori_H_sum = H_sum(ax_by)\n",
    "ori_H_sum"
   ]
  },
  {
   "cell_type": "code",
   "execution_count": 41,
   "metadata": {},
   "outputs": [],
   "source": [
    "#ori_yからはめでたいことに一つも出力されなくなった\n",
    "for index_ax_by in range(len(ax_by)):\n",
    "    if H(ax_by, index_ax_by) > 0:\n",
    "        print(H(ax_by, index_ax_by)) #Hの値を知る\n",
    "        print(ij[index_ax_by]) #どの特徴量同士から発生している問題か知る\n",
    "        print(ax_by[index_ax_by]) #マイナスになっているのか確認\n",
    "        print('--------')"
   ]
  },
  {
   "cell_type": "code",
   "execution_count": 75,
   "metadata": {},
   "outputs": [
    {
     "name": "stdout",
     "output_type": "stream",
     "text": [
      "0    1\n",
      "1    0\n",
      "2    1\n",
      "3    1\n",
      "4    0\n",
      "Name: y, dtype: int64\n",
      "(0, 3)\n",
      "1\n",
      "--------\n",
      "0    1\n",
      "1    1\n",
      "2    1\n",
      "3    0\n",
      "4    0\n",
      "Name: y, dtype: int64\n",
      "(0, 3)\n",
      "2\n",
      "--------\n",
      "0    1\n",
      "1    1\n",
      "2    1\n",
      "3    0\n",
      "4    0\n",
      "Name: y, dtype: int64\n",
      "(0, 3)\n",
      "2\n",
      "--------\n",
      "0    1\n",
      "1    1\n",
      "2    1\n",
      "3    0\n",
      "4    0\n",
      "Name: y, dtype: int64\n",
      "(0, 3)\n",
      "2\n",
      "--------\n",
      "0    1\n",
      "1    0\n",
      "2    1\n",
      "3    1\n",
      "4    0\n",
      "Name: y, dtype: int64\n",
      "(0, 3)\n",
      "1\n",
      "--------\n",
      "0    1\n",
      "1    1\n",
      "2    1\n",
      "3    0\n",
      "4    0\n",
      "Name: y, dtype: int64\n",
      "(0, 3)\n",
      "2\n",
      "--------\n",
      "0    1\n",
      "1    1\n",
      "2    1\n",
      "3    0\n",
      "4    0\n",
      "Name: y, dtype: int64\n",
      "(0, 3)\n",
      "2\n",
      "--------\n",
      "0    1\n",
      "1    1\n",
      "2    1\n",
      "3    0\n",
      "4    0\n",
      "Name: y, dtype: int64\n",
      "(0, 3)\n",
      "2\n",
      "--------\n",
      "0    1\n",
      "1    0\n",
      "2    1\n",
      "3    1\n",
      "4    0\n",
      "Name: y, dtype: int64\n",
      "(0, 3)\n",
      "1\n",
      "--------\n",
      "0    1\n",
      "1    1\n",
      "2    1\n",
      "3    0\n",
      "4    0\n",
      "Name: y, dtype: int64\n",
      "(0, 3)\n",
      "2\n",
      "--------\n",
      "0    1\n",
      "1    0\n",
      "2    1\n",
      "3    1\n",
      "4    0\n",
      "Name: y, dtype: int64\n",
      "(0, 3)\n",
      "1\n",
      "--------\n",
      "0    1\n",
      "1    0\n",
      "2    1\n",
      "3    1\n",
      "4    0\n",
      "Name: y, dtype: int64\n",
      "(0, 3)\n",
      "1\n",
      "--------\n",
      "0    1\n",
      "1    0\n",
      "2    1\n",
      "3    1\n",
      "4    0\n",
      "Name: y, dtype: int64\n",
      "(0, 3)\n",
      "1\n",
      "--------\n",
      "0    1\n",
      "1    0\n",
      "2    1\n",
      "3    1\n",
      "4    0\n",
      "Name: y, dtype: int64\n",
      "(0, 3)\n",
      "1\n",
      "--------\n",
      "0    1\n",
      "1    1\n",
      "2    1\n",
      "3    0\n",
      "4    0\n",
      "Name: y, dtype: int64\n",
      "(0, 3)\n",
      "2\n",
      "--------\n",
      "0    1\n",
      "1    1\n",
      "2    1\n",
      "3    0\n",
      "4    0\n",
      "Name: y, dtype: int64\n",
      "(0, 3)\n",
      "2\n",
      "--------\n",
      "0    1\n",
      "1    0\n",
      "2    1\n",
      "3    1\n",
      "4    0\n",
      "Name: y, dtype: int64\n",
      "(0, 3)\n",
      "1\n",
      "--------\n",
      "0    1\n",
      "1    0\n",
      "2    1\n",
      "3    1\n",
      "4    0\n",
      "Name: y, dtype: int64\n",
      "(0, 3)\n",
      "1\n",
      "--------\n",
      "0    1\n",
      "1    0\n",
      "2    1\n",
      "3    1\n",
      "4    0\n",
      "Name: y, dtype: int64\n",
      "(0, 3)\n",
      "1\n",
      "--------\n",
      "0    1\n",
      "1    0\n",
      "2    1\n",
      "3    1\n",
      "4    0\n",
      "Name: y, dtype: int64\n",
      "(0, 3)\n",
      "1\n",
      "--------\n",
      "0    1\n",
      "1    0\n",
      "2    1\n",
      "3    1\n",
      "4    0\n",
      "Name: y, dtype: int64\n",
      "(0, 3)\n",
      "1\n",
      "--------\n",
      "0    1\n",
      "1    1\n",
      "2    1\n",
      "3    0\n",
      "4    0\n",
      "Name: y, dtype: int64\n",
      "(0, 3)\n",
      "2\n",
      "--------\n",
      "0    1\n",
      "1    1\n",
      "2    1\n",
      "3    0\n",
      "4    0\n",
      "Name: y, dtype: int64\n",
      "(0, 3)\n",
      "2\n",
      "--------\n"
     ]
    },
    {
     "data": {
      "text/plain": [
       "[[1, 0, 1, 1, 0], [1, 1, 1, 0, 0]]"
      ]
     },
     "execution_count": 75,
     "metadata": {},
     "output_type": "execute_result"
    }
   ],
   "source": [
    "#yを変えてみて、どれだけダミーyが得られるのか調べてみる\n",
    "appropriate_y_list = []\n",
    "y_after = make_y(ori_y5)\n",
    "for ii in range(100):\n",
    "    y_after = make_y(y_after)\n",
    "    ax_by = make_ax_by(X_ori55_ad, y_after, select_cols, else_cols)\n",
    "    each_H_sum = H_sum(ax_by)\n",
    "    if each_H_sum == 0:\n",
    "        print(y_after)\n",
    "        print(ij[index_ax_by])\n",
    "        print(ax_by[index_ax_by])\n",
    "        print('--------')\n",
    "        if not list(y_after) in appropriate_y_list:\n",
    "            #appropriate_y_list.append(list(y_after))\n",
    "            appropriate_y_list.append(list(y_after))\n",
    "appropriate_y_list"
   ]
  },
  {
   "cell_type": "code",
   "execution_count": null,
   "metadata": {},
   "outputs": [],
   "source": [
    "#本当に選ばれたyを用いるとBが特徴量として選ばれるのか確認する。\n",
    "\n",
    "selector.fit(X_ori, pd.Series(appropriate_y_list[0]))\n",
    "mask = selector.get_support()\n",
    "mask #たしかにA, DのみがTrue"
   ]
  },
  {
   "cell_type": "code",
   "execution_count": null,
   "metadata": {},
   "outputs": [],
   "source": [
    "selector.fit(X_ori, pd.Series(appropriate_y_list[1]))\n",
    "mask = selector.get_support()\n",
    "mask #たしかにA, DのみがTrue"
   ]
  },
  {
   "cell_type": "code",
   "execution_count": null,
   "metadata": {},
   "outputs": [],
   "source": [
    "#得られるyは他にないのか確認\n",
    "appropriate_y_list = []\n",
    "y_after = make_y(ori_y)\n",
    "for ii in range(200):\n",
    "    y_after = make_y(y_after)\n",
    "    ij, ax_by = make_ax_by(y_after)\n",
    "    each_H_sum = H_sum(ax_by)\n",
    "    if each_H_sum == 0:\n",
    "        print(y_after)\n",
    "        print(ij[index_ax_by])\n",
    "        print(ax_by[index_ax_by])\n",
    "        print('--------')\n",
    "        if not list(y_after) in appropriate_y_list:\n",
    "            #appropriate_y_list.append(list(y_after))\n",
    "            appropriate_y_list.append(list(y_after))\n",
    "appropriate_y_list #3個以上にはならなかった"
   ]
  },
  {
   "cell_type": "code",
   "execution_count": null,
   "metadata": {},
   "outputs": [],
   "source": []
  }
 ],
 "metadata": {
  "kernelspec": {
   "display_name": "Python 3",
   "language": "python",
   "name": "python3"
  },
  "language_info": {
   "codemirror_mode": {
    "name": "ipython",
    "version": 3
   },
   "file_extension": ".py",
   "mimetype": "text/x-python",
   "name": "python",
   "nbconvert_exporter": "python",
   "pygments_lexer": "ipython3",
   "version": "3.6.9"
  }
 },
 "nbformat": 4,
 "nbformat_minor": 4
}
