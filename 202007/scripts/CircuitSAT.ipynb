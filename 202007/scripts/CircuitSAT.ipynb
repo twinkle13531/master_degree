{
 "cells": [
  {
   "cell_type": "markdown",
   "metadata": {},
   "source": [
    "### お題\n",
    "\n",
    "$\n",
    "H = (1-\\sum_{w = 1}^W x_w)^2 - [\\sum_{w = 1}^W wx_w - (a·y - b·y)]^2\n",
    "$\n",
    "\n",
    "### 用語\n",
    "- SAT(boolean SATisfiability testing) : 命題論理式の充足可能性判定1のことで，CNF (Conjuctive Normal Form) を扱うことが一般的\n",
    "- CNF式 : 節∧節∧節∧節∧節∧...\n",
    "- 節 : リテラル∨リテラル∨リテラル∨リテラル∨リテラル∨...（今回節=$H$）\n",
    "- リテラル : 変数 or ¬変数 \n",
    "\n",
    "- Circuit SAT（circuit satisfiability） :  SAT（論理式の充足可能性問題）の回路版である。出力が1になるような入力が存在するときに、その回路をCircuit SATという。\n",
    "\n",
    "file:///Users/shihosato/Downloads/IPSJ-MGN570805.pdf\n",
    "\n",
    "file:///Users/shihosato/Downloads/KJ00005931314.pdf\n",
    "\n",
    "★http://bach.istc.kobe-u.ac.jp/papers/pdf/jevec2016.pdf\n",
    "\n",
    "\n",
    "### 使用するライブラリ\n",
    "- [PySat](https://pysathq.github.io/) : ※[documentation](https://pysathq.github.io/docs/pysat.pdf)"
   ]
  },
  {
   "cell_type": "code",
   "execution_count": 2,
   "metadata": {},
   "outputs": [
    {
     "name": "stdout",
     "output_type": "stream",
     "text": [
      "Requirement already satisfied: python-sat in /usr/local/lib/python3.6/dist-packages\n",
      "Requirement already satisfied: six in /usr/lib/python3/dist-packages (from python-sat)\n"
     ]
    }
   ],
   "source": [
    "#!pip3 install python-sat"
   ]
  },
  {
   "cell_type": "code",
   "execution_count": null,
   "metadata": {},
   "outputs": [],
   "source": []
  },
  {
   "cell_type": "code",
   "execution_count": null,
   "metadata": {},
   "outputs": [],
   "source": []
  }
 ],
 "metadata": {
  "kernelspec": {
   "display_name": "Python 3",
   "language": "python",
   "name": "python3"
  },
  "language_info": {
   "codemirror_mode": {
    "name": "ipython",
    "version": 3
   },
   "file_extension": ".py",
   "mimetype": "text/x-python",
   "name": "python",
   "nbconvert_exporter": "python",
   "pygments_lexer": "ipython3",
   "version": "3.6.9"
  }
 },
 "nbformat": 4,
 "nbformat_minor": 4
}
