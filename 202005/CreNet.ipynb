{
 "cells": [
  {
   "cell_type": "markdown",
   "metadata": {},
   "source": [
    "# kouroshz/creNet: \n",
    "- Fit a GLM with a combination of lasso and overlapping group lasso regularization\n",
    "- Fit a regularized generalized linear model via penalized maximum likelihood. The model is fit for a path of values of the penalty parameter. Fits linear and logistic models. Modified code from package SGL."
   ]
  },
  {
   "cell_type": "code",
   "execution_count": 7,
   "metadata": {},
   "outputs": [
    {
     "name": "stderr",
     "output_type": "stream",
     "text": [
      "Bioconductor version 3.10 (BiocManager 1.30.10), ?BiocManager::install for help\n",
      "Bioconductor version '3.10' is out-of-date; the current release version '3.11'\n",
      "  is available with R version '4.0'; see https://bioconductor.org/install\n",
      "\n",
      "Attaching package: ‘BiocManager’\n",
      "\n",
      "The following object is masked from ‘package:devtools’:\n",
      "\n",
      "    install\n",
      "\n",
      "Bioconductor version 3.10 (BiocManager 1.30.10), R 3.6.3 (2020-02-29)\n",
      "Installing package(s) 'affy', 'Biobase', 'limma', 'QuaternaryProd',\n",
      "  'org.Hs.eg.db'\n"
     ]
    },
    {
     "name": "stdout",
     "output_type": "stream",
     "text": [
      "\n",
      "The downloaded binary packages are in\n",
      "\t/var/folders/fn/nyxc8hg15671d8q7mcn194mc0000gn/T//Rtmpt6Q6uA/downloaded_packages\n"
     ]
    },
    {
     "name": "stderr",
     "output_type": "stream",
     "text": [
      "installing the source package ‘org.Hs.eg.db’\n",
      "\n",
      "Old packages: 'backports', 'boot', 'broom', 'callr', 'class', 'curl', 'dbplyr',\n",
      "  'devtools', 'fs', 'gh', 'git2r', 'intervals', 'IRkernel', 'isoband',\n",
      "  'KernSmooth', 'lattice', 'lubridate', 'MASS', 'mime', 'modelr', 'nlme',\n",
      "  'nnet', 'openssl', 'pillar', 'pkgbuild', 'plyr', 'prettyunits', 'processx',\n",
      "  'ps', 'remotes', 'reshape2', 'rex', 'rlang', 'rstudioapi', 'scales',\n",
      "  'SnowballC', 'spatial', 'survival', 'sys', 'tidyr', 'tinytex', 'usethis',\n",
      "  'uuid', 'whisker', 'withr', 'xfun', 'xml2', 'zoo'\n",
      "Skipping install of 'pystr' from a github remote, the SHA1 (d8fc3ddb) has not changed since last install.\n",
      "  Use `force = TRUE` to force installation\n",
      "Skipping install of 'creNet' from a github remote, the SHA1 (5d865b98) has not changed since last install.\n",
      "  Use `force = TRUE` to force installation\n"
     ]
    }
   ],
   "source": [
    "library(BiocManager)\n",
    "library(devtools)\n",
    "BiocManager::install(c(\"affy\", \"Biobase\", \"limma\", \"QuaternaryProd\", \"org.Hs.eg.db\"))\n",
    "install_github(c(\"nicolewhite/pystr\", \"kouroshz/creNet\"))"
   ]
  },
  {
   "cell_type": "code",
   "execution_count": null,
   "metadata": {},
   "outputs": [],
   "source": []
  }
 ],
 "metadata": {
  "kernelspec": {
   "display_name": "R",
   "language": "R",
   "name": "ir"
  },
  "language_info": {
   "codemirror_mode": "r",
   "file_extension": ".r",
   "mimetype": "text/x-r-source",
   "name": "R",
   "pygments_lexer": "r",
   "version": "3.6.3"
  }
 },
 "nbformat": 4,
 "nbformat_minor": 2
}
