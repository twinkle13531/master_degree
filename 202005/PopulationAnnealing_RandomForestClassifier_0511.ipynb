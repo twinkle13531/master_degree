{
 "cells": [
  {
   "cell_type": "markdown",
   "metadata": {},
   "source": [
    "# RandomForestClassifier"
   ]
  },
  {
   "cell_type": "markdown",
   "metadata": {},
   "source": [
    "- Boruta_pyはpandas.DataFrameを扱えない\n",
    "- 「ランダムフォレストと検定を用いた特徴量選択手法 Boruta」https://aotamasaki.hatenablog.com/entry/2019/01/05/195813"
   ]
  },
  {
   "cell_type": "markdown",
   "metadata": {},
   "source": [
    "特徴量選択の手法としてよく知られているものとの比較というか私感\n",
    "\n",
    "- ランダムフォレスト\n",
    "  - どれぐらいの特徴量重要度があったら重要だと言えるのかがイマイチ\n",
    "  - ランダム性から訓練するたびに特徴量重要度が変動する\n",
    "- Forward selectionやBackward eliminationと言ったステップワイズな方法\n",
    "  - 計算量が多い\n",
    "  - 選んだ特徴量が過学習する\n",
    "- lasso\n",
    "  - 選んだ特徴量が過学習する\n",
    "  - ロジスティクス回帰やSVMで用いたことしかないので、めっちゃ効く手法もあるかも"
   ]
  },
  {
   "cell_type": "code",
   "execution_count": 1,
   "metadata": {},
   "outputs": [],
   "source": [
    "#conda install -c conda-forge boruta_py #"
   ]
  },
  {
   "cell_type": "code",
   "execution_count": 2,
   "metadata": {
    "scrolled": true
   },
   "outputs": [
    {
     "name": "stdout",
     "output_type": "stream",
     "text": [
      "3.7.3 (default, Mar 27 2019, 16:54:48) \n",
      "[Clang 4.0.1 (tags/RELEASE_401/final)]\n"
     ]
    }
   ],
   "source": [
    "import sys\n",
    "print(sys.version)"
   ]
  },
  {
   "cell_type": "code",
   "execution_count": 3,
   "metadata": {},
   "outputs": [],
   "source": [
    "#!pip install Boruta"
   ]
  },
  {
   "cell_type": "code",
   "execution_count": 4,
   "metadata": {},
   "outputs": [],
   "source": [
    "#import\n",
    "import pandas as pd\n",
    "import numpy as np\n",
    "import matplotlib.pyplot as plt\n",
    "import random, math, warnings\n",
    "from sklearn.ensemble import RandomForestClassifier\n",
    "from boruta import BorutaPy\n",
    "import pprint\n",
    "import itertools"
   ]
  },
  {
   "cell_type": "code",
   "execution_count": 5,
   "metadata": {},
   "outputs": [],
   "source": [
    "#valiable\n",
    "num_select = 3\n",
    "every_MCS = 100"
   ]
  },
  {
   "cell_type": "code",
   "execution_count": 6,
   "metadata": {},
   "outputs": [
    {
     "name": "stdout",
     "output_type": "stream",
     "text": [
      "bのトップバッターは0.001である\n",
      "bのラストは4.999である\n",
      "max_stepは2500である\n"
     ]
    }
   ],
   "source": [
    "b = [i / 1000 for i in range(1, 5000, 2)]\n",
    "print(\"bのトップバッターは{}である\".format(b[0])) #0を目指したかった\n",
    "print(\"bのラストは{}である\".format(b[-1])) #5を目指したかった\n",
    "max_step = len(b)\n",
    "print(\"max_stepは{}である\".format(max_step)) "
   ]
  },
  {
   "cell_type": "code",
   "execution_count": 7,
   "metadata": {
    "scrolled": true
   },
   "outputs": [
    {
     "name": "stdout",
     "output_type": "stream",
     "text": [
      "X.shape is (781, 16799)\n"
     ]
    }
   ],
   "source": [
    "X = pd.read_table('geneX_df.txt',sep ='\\t')# 説明変数（こっちの特徴量上位5つ取り出す）\n",
    "print(\"X.shape is {}\".format(X.shape))\n",
    "\n",
    "y = pd.read_table('ERY_df.txt' ,sep ='\\t')# 目的変数\n",
    "#print('type of y is {}'.format(type(y)))\n",
    "\n",
    "num_sample = X.shape[0]#サンプル数\n",
    "num_feature = X.shape[1]#特徴量の数\n",
    "\n",
    "#Kをはじめにlist upするyの数とする"
   ]
  },
  {
   "cell_type": "code",
   "execution_count": 8,
   "metadata": {},
   "outputs": [
    {
     "data": {
      "text/plain": [
       "781"
      ]
     },
     "execution_count": 8,
     "metadata": {},
     "output_type": "execute_result"
    }
   ],
   "source": [
    "len(y)"
   ]
  },
  {
   "cell_type": "code",
   "execution_count": 9,
   "metadata": {},
   "outputs": [],
   "source": [
    "# 1 行目の 1 列目の値を取得\n",
    "#df.iloc[1,1]\n",
    "\n",
    "for i in range(len(y)):\n",
    "    if y.iloc[i, 0]==\"Positive\":\n",
    "        y.iloc[i, 0]=np.float(1)\n",
    "    else:\n",
    "        y.iloc[i, 0]=np.float(0)\n",
    "\n",
    "series_y = y.loc[:, 'ER_Status_nature2012']"
   ]
  },
  {
   "cell_type": "code",
   "execution_count": 10,
   "metadata": {},
   "outputs": [
    {
     "data": {
      "text/plain": [
       "pandas.core.series.Series"
      ]
     },
     "execution_count": 10,
     "metadata": {},
     "output_type": "execute_result"
    }
   ],
   "source": [
    "type(series_y)"
   ]
  },
  {
   "cell_type": "code",
   "execution_count": 11,
   "metadata": {},
   "outputs": [
    {
     "data": {
      "text/plain": [
       "Index(['ARHGEF10L', 'HIF3A', 'RNF17', 'RNF11', 'REM1', 'RTN4RL2', 'C16orf13',\n",
       "       'C16orf11', 'FGFR1OP2', 'TSKS',\n",
       "       ...\n",
       "       'TULP2', 'NPY5R', 'GNGT2', 'GNGT1', 'TULP3', 'PTRF', 'BCL6B', 'GSTK1',\n",
       "       'SELP', 'SELS'],\n",
       "      dtype='object', length=16799)"
      ]
     },
     "execution_count": 11,
     "metadata": {},
     "output_type": "execute_result"
    }
   ],
   "source": [
    "# 今回使用する特徴量\n",
    "X.columns #pandas.core.indexes.base.Index"
   ]
  },
  {
   "cell_type": "code",
   "execution_count": 12,
   "metadata": {},
   "outputs": [],
   "source": [
    "K = 2*210"
   ]
  },
  {
   "cell_type": "code",
   "execution_count": 13,
   "metadata": {},
   "outputs": [
    {
     "ename": "SyntaxError",
     "evalue": "invalid character in identifier (<ipython-input-13-f268270b654b>, line 22)",
     "output_type": "error",
     "traceback": [
      "\u001b[0;36m  File \u001b[0;32m\"<ipython-input-13-f268270b654b>\"\u001b[0;36m, line \u001b[0;32m22\u001b[0m\n\u001b[0;31m    forest = RandomForestClassifier()\u001b[0m\n\u001b[0m                                     ^\u001b[0m\n\u001b[0;31mSyntaxError\u001b[0m\u001b[0;31m:\u001b[0m invalid character in identifier\n"
     ]
    }
   ],
   "source": [
    "'''\n",
    "# define random forest classifier, with utilising all cores and\n",
    "# sampling in proportion to y labels\n",
    "rf = RandomForestClassifier(n_jobs=-1, class_weight='balanced', max_depth=5)\n",
    "\n",
    "# define Boruta feature selection method\n",
    "feat_selector = BorutaPy(rf, n_estimators='auto', verbose=2, random_state=1)\n",
    "\n",
    "# find all relevant features - 5 features should be selected\n",
    "feat_selector.fit(X, y)\n",
    "\n",
    "# check selected features - first 5 features are selected\n",
    "feat_selector.support_\n",
    "\n",
    "# check ranking of features\n",
    "feat_selector.ranking_\n",
    "\n",
    "# call transform() on X to filter it down to selected features\n",
    "X_filtered = feat_selector.transform(X)\n",
    "'''\n",
    "\n",
    "forest = RandomForestClassifier()　\n",
    "# define Boruta feature selection method\n",
    "select = BorutaPy(forest, n_estimators='auto', two_step=False)\n",
    "select.fit(X.values, series_y.values.ravel())\n",
    "mask_ori = select.support_"
   ]
  },
  {
   "cell_type": "code",
   "execution_count": null,
   "metadata": {},
   "outputs": [],
   "source": [
    "mask_ori"
   ]
  },
  {
   "cell_type": "code",
   "execution_count": null,
   "metadata": {},
   "outputs": [],
   "source": [
    "#エネルギーが0(最低)となるのがいつか基準を先に計算しておきましょう\n",
    "def E(y): #毎回のmaskとyが引数、合致度合いの計算を行う\n",
    "    #selector = SelectKBest(score_func=chi2, k=num_select) #SelectKBest #chi2...分類\n",
    "    forest = RandomForestClassifier()\n",
    "    # define Boruta feature selection method\n",
    "    select = boruta_py.BorutaPy(forest, n_estimators=10)\n",
    "    select.fit(X, y)\n",
    "    mask_each = select.support_\n",
    "    \n",
    "    energy_trait_sum = 1 #0を回避するため\n",
    "    for i in range(len(mask_each)):\n",
    "        if mask_each[i]!=mask_ori[i]:\n",
    "            energy_trait_sum += 1\n",
    "    return - energy_trait_sum #もとのyのときのmask(これをmaskとしている)との合致度合い（大きい⇒よく合致している）"
   ]
  },
  {
   "cell_type": "code",
   "execution_count": null,
   "metadata": {
    "scrolled": true
   },
   "outputs": [],
   "source": [
    "E(series_y)"
   ]
  },
  {
   "cell_type": "code",
   "execution_count": null,
   "metadata": {},
   "outputs": [],
   "source": [
    "series_y"
   ]
  },
  {
   "cell_type": "markdown",
   "metadata": {},
   "source": [
    "👇ここで毎回```The kernel appears to have died. It will restart automatically.```\n",
    "- num_sample = 10 できた\n",
    "- num_sample = 100　もうだめ\n",
    "- num_sample = 50　これでもだめ"
   ]
  },
  {
   "cell_type": "markdown",
   "metadata": {},
   "source": [
    "### 今日教わったこと、わかったこと\n",
    "```itertools.product```禁止\n",
    "\n",
    "- そもそもモンテカルロはエネルギー差を見るもの。１つだけ変えるからエネルギー差がわかる"
   ]
  },
  {
   "cell_type": "markdown",
   "metadata": {},
   "source": [
    "tried👇but didn't succeed"
   ]
  },
  {
   "cell_type": "markdown",
   "metadata": {},
   "source": [
    "頻繁に起こるエラー\n",
    "```'int' object is not subscriptable```。箇所は```ori_yj = y[j]```。```y```は```int```ではないのになぜ。"
   ]
  },
  {
   "cell_type": "code",
   "execution_count": null,
   "metadata": {},
   "outputs": [],
   "source": [
    "series_y #一行前までseriesなのになぜか数字になる時がある。"
   ]
  },
  {
   "cell_type": "code",
   "execution_count": null,
   "metadata": {},
   "outputs": [],
   "source": [
    "Ene = [] #これからi(温度)ごとに入れていく。一行に入っているのもlistにしたい(行i, 列k, 要素Ene)\n",
    "y_list = [] #これからi(温度)ごとに、選択したyを記録していく。(行i, 要素num_tl)\n",
    "\n",
    "Ene.append({})\n",
    "y_list.append([])\n",
    "for k in range(K):\n",
    "    Ene[-1][k]= 1\n",
    "    y_list[-1].append(series_y)\n",
    "    \n",
    "for i in range(1, max_step):   \n",
    "    Ene.append({})\n",
    "    y_list.append([])\n",
    "    for k in range(K): #一度に熟すサンプル数\n",
    "        #MCS\n",
    "        #𝑃(B)/𝑃(A)>random ならば状態Bを採用し，そうでなければ状態Aを採用(Bを先、Aを過去とする)\n",
    "        j = random.randrange(num_sample) #何番目の0 or 1をいじるか決める\n",
    "        ori_yj = series_y[j]\n",
    "        series_y[j] = 1-series_y[j]\n",
    "        Ene[-1][k]= E(pd.Series(series_y))\n",
    "        y_list[-1].append(series_y)\n",
    "        \n",
    "        #今回のターンはiね。\n",
    "        r = math.exp(-Ene[i][k]*b[i]-(-Ene[i-1][k]*b[i-1])) #Ene[i-1][k]*b[i-1] - Ene[i][k]*b[i] #大きいほうが良い\n",
    "        #rr = math.exp(-eene[0][0]*b[3]-(-eene[1][0]*b[2])) \n",
    "        R = np.random.uniform(0.0, 1.0)\n",
    "        if R > r : #乱数R > エネルギー差の大きさを用いた計算\n",
    "            Ene[-1][k] = Ene[i-1][k]\n",
    "            y_list[-1][k] = y_list[i-1][k]\n",
    "            series_y = y_list[i-1][k]\n",
    "    \n",
    "    \n",
    "    #Eneのi行目に数値が全部入って、かつ👇を満たすようだったら\n",
    "    if i%every_MCS == 0:\n",
    "        Ei_sorted = sorted(Ene[-1].items(), key=lambda x:x[1]) #辞書をvalueを元にsort\n",
    "        tuple_kE_list = Ei_sorted[0:int(len(Ei_sorted))] #tuple(k, Ene)\n",
    "        \n",
    "        #y_list[-1](y_listの最後尾)を並べ替え\n",
    "        y_list_sort = [y_list[-1][tuple_kE_list[k][0]] for k in range(K)]\n",
    "        \n",
    "        #ここまでで、Ei_sorted, tuple_kE_list, y_list_sortによってsortedされたEneとy_listが得られた\n",
    "        \n",
    "        #Ene[i][k]はいつでも0以外にしないとエラーが起こる\n",
    "        sumQ = sum([math.exp(-(b[i]-b[i-1])*Ene[i][k]) for k in range(K)])\n",
    "        \n",
    "        #すべてのアイテムについてコピー可能数を計算する\n",
    "        tbi = [K*math.exp(-(b[i]-b[i-1])*tuple_kE_list[k][1])/sumQ for k in range(K)]\n",
    "        \n",
    "        next_K = 0 #次のKの値を決めよう\n",
    "        reserve_min_num = 0\n",
    "        for k in range(K):\n",
    "            if next_K <= K:\n",
    "                if tbi[k] % 1 >= 0.5:\n",
    "                    tbi[k] = tbi[k] // 1 +1\n",
    "                else:\n",
    "                    tbi[k] = tbi[k] // 1\n",
    "                    \n",
    "                next_K += tbi[k]\n",
    "            else:\n",
    "                reserve_min_num = k-1\n",
    "                break #forループを抜ける\n",
    "        \n",
    "        \n",
    "        #k, k+1, ..., Kにおいてtuple_kE_list[k][1]を0, 1, ...k-1のととって変える\n",
    "        for k in range(reserve_min_num): #次にも引き継がれるk\n",
    "            for kk in range(tbi[k]): #kによって含まれる要素数が異なる\n",
    "                ll = tbi[k]*k + kk + 1 #エネルギー大きいほうからll番目\n",
    "                ori_k = tuple_kE_list[-ll][0]#いわゆるkを知る\n",
    "                y_list[-1][ori_k] = y_list_sort[-ll]\n",
    "                Ene[-1][ori_k] = tuple_kE_list[-ll][1]\n",
    "                \n",
    "        K = int(next_K)\n",
    "                \n",
    "\n",
    "if len(Ene) == max_step:               \n",
    "    #初期値を抜く\n",
    "    del Ene[0]\n",
    "    del y_list[0]"
   ]
  },
  {
   "cell_type": "code",
   "execution_count": null,
   "metadata": {},
   "outputs": [],
   "source": [
    "pd.DataFrame(Ene)"
   ]
  },
  {
   "cell_type": "code",
   "execution_count": null,
   "metadata": {},
   "outputs": [],
   "source": [
    "Ene_v_sum_list = []\n",
    "Ene_v_sum_list_append = Ene_v_sum_list.append\n",
    "for each_Ene in Ene:\n",
    "    Ene_v_sum = sum([Ene_v for Ene_v in each_Ene.values()])\n",
    "    Ene_v_sum_list_append(Ene_v_sum/K)\n",
    "#Ene_v_sum_list\n",
    "plt.plot(Ene_v_sum_list)\n",
    "plt.savefig('meeting_0428_0_figure_0.png')\n",
    "print(Ene_v_sum_list[-1])"
   ]
  },
  {
   "cell_type": "code",
   "execution_count": null,
   "metadata": {
    "scrolled": true
   },
   "outputs": [],
   "source": [
    "#毎度(約)K個あるアイテムの内、0, 100, 200, 400番目のアイテムのエネルギーの移り変わりをplotする\n",
    "ene0 = []\n",
    "ene100 = []\n",
    "ene200 = []\n",
    "ene400 = []\n",
    "for i in range(len(Ene)):\n",
    "    ene0.append(Ene[i][0])\n",
    "    ene100.append(Ene[i][100])\n",
    "    ene200.append(Ene[i][200])\n",
    "    ene400.append(Ene[i][400])\n",
    "\n",
    "plt.plot(ene0)\n",
    "plt.plot(ene100)\n",
    "plt.plot(ene200)\n",
    "plt.plot(ene400)\n",
    "plt.savefig('meeting_0428_0_figure_1.png')"
   ]
  },
  {
   "cell_type": "code",
   "execution_count": null,
   "metadata": {},
   "outputs": [],
   "source": [
    "#エネルギーが最小(1)のアイテム数の移り変わりをplotする\n",
    "\n",
    "ene0_num = []\n",
    "for i in range(len(Ene)):\n",
    "    ene0_num.append(len([k for k, v in Ene[i].items() if v == 1]))\n",
    "    \n",
    "plt.plot(ene0_num)\n",
    "plt.savefig('meeting_0428_0_figure_2.png')"
   ]
  },
  {
   "cell_type": "code",
   "execution_count": null,
   "metadata": {},
   "outputs": [],
   "source": []
  }
 ],
 "metadata": {
  "kernelspec": {
   "display_name": "Python 3",
   "language": "python",
   "name": "python3"
  },
  "language_info": {
   "codemirror_mode": {
    "name": "ipython",
    "version": 3
   },
   "file_extension": ".py",
   "mimetype": "text/x-python",
   "name": "python",
   "nbconvert_exporter": "python",
   "pygments_lexer": "ipython3",
   "version": "3.7.6"
  }
 },
 "nbformat": 4,
 "nbformat_minor": 2
}
