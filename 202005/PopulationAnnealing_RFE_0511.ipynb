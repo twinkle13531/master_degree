{
 "cells": [
  {
   "cell_type": "markdown",
   "metadata": {},
   "source": [
    "# RFE\n",
    "RFEは、変数減少法と同じく、最初に全ての特徴量を使ってモデルを構築します。 そのモデルの中で最も重要度の低いを特徴量を削り、性能を再計測するという処理を、指定数(デフォルトでは1)の特徴量になるまで繰り返します。 重要度の指標にはfeature_importancesやcoefが使われます。\n",
    "\n",
    "【機械学習】RFEを用いた特徴量の選別 https://qiita.com/nanairoGlasses/items/d7d4c190d11ba663635d\n",
    "\n",
    "- Recursive Feature Elimination　の略。再帰的特徴消去。\n",
    "- 特徴に重みを割り当てる外部推定機（ランダムフォレストや勾配ブースティング、線形モデルなど）が与えられた時、特徴集合を走査、どの特徴が重要であるかを発見し、指定した特徴数になるまで特徴の消去を行う。\n",
    "- Wrapper Methodのうちのひとつ\n",
    "\n",
    "## Wrapper Method\n",
    "- モデルを実際に訓練することで変数選択をする\n",
    "- 超遅い。\n",
    "- 交差検証を使用する。\n",
    "- 結構良い特徴の部分集合が見つかる。Filter Methodよりも過学習が起きやすい。\n",
    "- Forward Selection, Backward Elimination, Recursive Feature Eliminationなど\n",
    "\n",
    "\n",
    "## GradientBoostingRegressor\n",
    "勾配ブースト回帰\n",
    "\n",
    "\n",
    "## ブースティング法 \n",
    "- アンサンブル学習の一つ。\n",
    "- ベース推定器が順次構築され、結合推定器のバイアスを低減しようとする。 モチベーションはいくつかの弱いモデルを組み合わせて強力なアンサンブルを作り出すことです。例：AdaBoost、勾配ツリーブースト、..."
   ]
  },
  {
   "cell_type": "code",
   "execution_count": 1,
   "metadata": {},
   "outputs": [],
   "source": [
    "#import\n",
    "import pandas as pd\n",
    "import numpy as np\n",
    "import matplotlib.pyplot as plt\n",
    "import random, math, warnings\n",
    "from sklearn.feature_selection import RFE\n",
    "from sklearn.ensemble import GradientBoostingRegressor\n",
    "import pprint\n",
    "import itertools"
   ]
  },
  {
   "cell_type": "code",
   "execution_count": 2,
   "metadata": {},
   "outputs": [],
   "source": [
    "every_MCS = 100"
   ]
  },
  {
   "cell_type": "code",
   "execution_count": 3,
   "metadata": {},
   "outputs": [
    {
     "name": "stdout",
     "output_type": "stream",
     "text": [
      "bのトップバッターは0.001である\n",
      "bのラストは4.999である\n",
      "max_stepは2500である\n"
     ]
    }
   ],
   "source": [
    "#変えた\n",
    "\n",
    "b = [i / 1000 for i in range(1, 5000, 2)]\n",
    "print(\"bのトップバッターは{}である\".format(b[0])) #0を目指したかった\n",
    "print(\"bのラストは{}である\".format(b[-1])) #5を目指したかった\n",
    "max_step = len(b)\n",
    "print(\"max_stepは{}である\".format(max_step)) "
   ]
  },
  {
   "cell_type": "code",
   "execution_count": 4,
   "metadata": {
    "scrolled": true
   },
   "outputs": [
    {
     "name": "stdout",
     "output_type": "stream",
     "text": [
      "X.shape is (781, 16799)\n"
     ]
    }
   ],
   "source": [
    "X = pd.read_table('geneX_df.txt',sep ='\\t')# 説明変数（こっちの特徴量上位5つ取り出す）\n",
    "print(\"X.shape is {}\".format(X.shape))\n",
    "\n",
    "y = pd.read_table('ERY_df.txt' ,sep ='\\t')# 目的変数\n",
    "#print('type of y is {}'.format(type(y)))\n",
    "\n",
    "num_sample = X.shape[0]#サンプル数\n",
    "num_feature = X.shape[1]#特徴量の数\n",
    "\n",
    "#Kをはじめにlist upするyの数とする"
   ]
  },
  {
   "cell_type": "markdown",
   "metadata": {},
   "source": [
    "サンプルが"
   ]
  },
  {
   "cell_type": "code",
   "execution_count": 5,
   "metadata": {},
   "outputs": [],
   "source": [
    "#falseしかない！！\n",
    "#X.isnull().apply(lambda col: col.value_counts(), axis=0).fillna(0).astype(np.int)"
   ]
  },
  {
   "cell_type": "code",
   "execution_count": 6,
   "metadata": {
    "scrolled": true
   },
   "outputs": [
    {
     "data": {
      "text/html": [
       "<div>\n",
       "<style scoped>\n",
       "    .dataframe tbody tr th:only-of-type {\n",
       "        vertical-align: middle;\n",
       "    }\n",
       "\n",
       "    .dataframe tbody tr th {\n",
       "        vertical-align: top;\n",
       "    }\n",
       "\n",
       "    .dataframe thead th {\n",
       "        text-align: right;\n",
       "    }\n",
       "</style>\n",
       "<table border=\"1\" class=\"dataframe\">\n",
       "  <thead>\n",
       "    <tr style=\"text-align: right;\">\n",
       "      <th></th>\n",
       "      <th>ARHGEF10L</th>\n",
       "      <th>HIF3A</th>\n",
       "      <th>RNF17</th>\n",
       "      <th>RNF11</th>\n",
       "      <th>REM1</th>\n",
       "      <th>RTN4RL2</th>\n",
       "      <th>C16orf13</th>\n",
       "      <th>C16orf11</th>\n",
       "      <th>FGFR1OP2</th>\n",
       "      <th>TSKS</th>\n",
       "      <th>...</th>\n",
       "      <th>TULP2</th>\n",
       "      <th>NPY5R</th>\n",
       "      <th>GNGT2</th>\n",
       "      <th>GNGT1</th>\n",
       "      <th>TULP3</th>\n",
       "      <th>PTRF</th>\n",
       "      <th>BCL6B</th>\n",
       "      <th>GSTK1</th>\n",
       "      <th>SELP</th>\n",
       "      <th>SELS</th>\n",
       "    </tr>\n",
       "  </thead>\n",
       "  <tbody>\n",
       "    <tr>\n",
       "      <td>TCGA-A8-A092-01</td>\n",
       "      <td>-0.92667</td>\n",
       "      <td>-4.836158</td>\n",
       "      <td>-0.545559</td>\n",
       "      <td>-0.425362</td>\n",
       "      <td>-2.511796</td>\n",
       "      <td>1.420118</td>\n",
       "      <td>-0.076931</td>\n",
       "      <td>-0.583953</td>\n",
       "      <td>-0.064954</td>\n",
       "      <td>-1.262546</td>\n",
       "      <td>...</td>\n",
       "      <td>-0.727478</td>\n",
       "      <td>-1.319172</td>\n",
       "      <td>-0.534283</td>\n",
       "      <td>-0.871063</td>\n",
       "      <td>0.137041</td>\n",
       "      <td>-0.494064</td>\n",
       "      <td>-0.396097</td>\n",
       "      <td>-1.178462</td>\n",
       "      <td>-1.748619</td>\n",
       "      <td>-0.659749</td>\n",
       "    </tr>\n",
       "    <tr>\n",
       "      <td>TCGA-D8-A1JK-01</td>\n",
       "      <td>-0.83967</td>\n",
       "      <td>-3.260158</td>\n",
       "      <td>0.420041</td>\n",
       "      <td>0.718538</td>\n",
       "      <td>-0.322796</td>\n",
       "      <td>-1.267982</td>\n",
       "      <td>0.252869</td>\n",
       "      <td>-0.583953</td>\n",
       "      <td>-0.031154</td>\n",
       "      <td>-1.634746</td>\n",
       "      <td>...</td>\n",
       "      <td>-0.165278</td>\n",
       "      <td>-1.691372</td>\n",
       "      <td>0.783017</td>\n",
       "      <td>0.037337</td>\n",
       "      <td>-0.051459</td>\n",
       "      <td>0.730136</td>\n",
       "      <td>1.388803</td>\n",
       "      <td>1.339138</td>\n",
       "      <td>-1.924519</td>\n",
       "      <td>0.075451</td>\n",
       "    </tr>\n",
       "    <tr>\n",
       "      <td>TCGA-E2-A10C-01</td>\n",
       "      <td>-0.11937</td>\n",
       "      <td>-4.646958</td>\n",
       "      <td>-0.545559</td>\n",
       "      <td>-0.453962</td>\n",
       "      <td>-1.073796</td>\n",
       "      <td>-1.506382</td>\n",
       "      <td>1.084969</td>\n",
       "      <td>1.680847</td>\n",
       "      <td>0.010146</td>\n",
       "      <td>0.890654</td>\n",
       "      <td>...</td>\n",
       "      <td>-0.166078</td>\n",
       "      <td>-1.129972</td>\n",
       "      <td>-0.350883</td>\n",
       "      <td>-0.681864</td>\n",
       "      <td>-0.206159</td>\n",
       "      <td>-0.406364</td>\n",
       "      <td>0.354103</td>\n",
       "      <td>-0.003162</td>\n",
       "      <td>-0.903719</td>\n",
       "      <td>-0.195349</td>\n",
       "    </tr>\n",
       "    <tr>\n",
       "      <td>TCGA-BH-A0C7-01</td>\n",
       "      <td>0.28803</td>\n",
       "      <td>-1.599358</td>\n",
       "      <td>-0.545559</td>\n",
       "      <td>-0.211162</td>\n",
       "      <td>-2.041396</td>\n",
       "      <td>-0.156182</td>\n",
       "      <td>-0.861231</td>\n",
       "      <td>-0.583953</td>\n",
       "      <td>-0.249454</td>\n",
       "      <td>-1.029746</td>\n",
       "      <td>...</td>\n",
       "      <td>-0.122478</td>\n",
       "      <td>-0.488172</td>\n",
       "      <td>-0.616583</td>\n",
       "      <td>-1.243263</td>\n",
       "      <td>0.330741</td>\n",
       "      <td>-0.188764</td>\n",
       "      <td>0.420403</td>\n",
       "      <td>-0.456262</td>\n",
       "      <td>0.914881</td>\n",
       "      <td>-0.427849</td>\n",
       "    </tr>\n",
       "    <tr>\n",
       "      <td>TCGA-A8-A06N-01</td>\n",
       "      <td>0.61053</td>\n",
       "      <td>-4.268858</td>\n",
       "      <td>-0.545559</td>\n",
       "      <td>0.764638</td>\n",
       "      <td>-2.182996</td>\n",
       "      <td>-1.431682</td>\n",
       "      <td>-0.876131</td>\n",
       "      <td>-0.583953</td>\n",
       "      <td>0.560146</td>\n",
       "      <td>-1.634746</td>\n",
       "      <td>...</td>\n",
       "      <td>-0.429378</td>\n",
       "      <td>2.566228</td>\n",
       "      <td>-1.073483</td>\n",
       "      <td>-1.243263</td>\n",
       "      <td>0.133141</td>\n",
       "      <td>-2.727864</td>\n",
       "      <td>-0.306397</td>\n",
       "      <td>-0.882762</td>\n",
       "      <td>-3.308419</td>\n",
       "      <td>-0.224949</td>\n",
       "    </tr>\n",
       "  </tbody>\n",
       "</table>\n",
       "<p>5 rows × 16799 columns</p>\n",
       "</div>"
      ],
      "text/plain": [
       "                 ARHGEF10L     HIF3A     RNF17     RNF11      REM1   RTN4RL2  \\\n",
       "TCGA-A8-A092-01   -0.92667 -4.836158 -0.545559 -0.425362 -2.511796  1.420118   \n",
       "TCGA-D8-A1JK-01   -0.83967 -3.260158  0.420041  0.718538 -0.322796 -1.267982   \n",
       "TCGA-E2-A10C-01   -0.11937 -4.646958 -0.545559 -0.453962 -1.073796 -1.506382   \n",
       "TCGA-BH-A0C7-01    0.28803 -1.599358 -0.545559 -0.211162 -2.041396 -0.156182   \n",
       "TCGA-A8-A06N-01    0.61053 -4.268858 -0.545559  0.764638 -2.182996 -1.431682   \n",
       "\n",
       "                 C16orf13  C16orf11  FGFR1OP2      TSKS  ...     TULP2  \\\n",
       "TCGA-A8-A092-01 -0.076931 -0.583953 -0.064954 -1.262546  ... -0.727478   \n",
       "TCGA-D8-A1JK-01  0.252869 -0.583953 -0.031154 -1.634746  ... -0.165278   \n",
       "TCGA-E2-A10C-01  1.084969  1.680847  0.010146  0.890654  ... -0.166078   \n",
       "TCGA-BH-A0C7-01 -0.861231 -0.583953 -0.249454 -1.029746  ... -0.122478   \n",
       "TCGA-A8-A06N-01 -0.876131 -0.583953  0.560146 -1.634746  ... -0.429378   \n",
       "\n",
       "                    NPY5R     GNGT2     GNGT1     TULP3      PTRF     BCL6B  \\\n",
       "TCGA-A8-A092-01 -1.319172 -0.534283 -0.871063  0.137041 -0.494064 -0.396097   \n",
       "TCGA-D8-A1JK-01 -1.691372  0.783017  0.037337 -0.051459  0.730136  1.388803   \n",
       "TCGA-E2-A10C-01 -1.129972 -0.350883 -0.681864 -0.206159 -0.406364  0.354103   \n",
       "TCGA-BH-A0C7-01 -0.488172 -0.616583 -1.243263  0.330741 -0.188764  0.420403   \n",
       "TCGA-A8-A06N-01  2.566228 -1.073483 -1.243263  0.133141 -2.727864 -0.306397   \n",
       "\n",
       "                    GSTK1      SELP      SELS  \n",
       "TCGA-A8-A092-01 -1.178462 -1.748619 -0.659749  \n",
       "TCGA-D8-A1JK-01  1.339138 -1.924519  0.075451  \n",
       "TCGA-E2-A10C-01 -0.003162 -0.903719 -0.195349  \n",
       "TCGA-BH-A0C7-01 -0.456262  0.914881 -0.427849  \n",
       "TCGA-A8-A06N-01 -0.882762 -3.308419 -0.224949  \n",
       "\n",
       "[5 rows x 16799 columns]"
      ]
     },
     "execution_count": 6,
     "metadata": {},
     "output_type": "execute_result"
    }
   ],
   "source": [
    "X.head()"
   ]
  },
  {
   "cell_type": "code",
   "execution_count": 7,
   "metadata": {},
   "outputs": [],
   "source": [
    "#type(X.iloc[3, 5]) #numpy.float64"
   ]
  },
  {
   "cell_type": "code",
   "execution_count": 8,
   "metadata": {
    "scrolled": true
   },
   "outputs": [
    {
     "data": {
      "text/html": [
       "<div>\n",
       "<style scoped>\n",
       "    .dataframe tbody tr th:only-of-type {\n",
       "        vertical-align: middle;\n",
       "    }\n",
       "\n",
       "    .dataframe tbody tr th {\n",
       "        vertical-align: top;\n",
       "    }\n",
       "\n",
       "    .dataframe thead th {\n",
       "        text-align: right;\n",
       "    }\n",
       "</style>\n",
       "<table border=\"1\" class=\"dataframe\">\n",
       "  <thead>\n",
       "    <tr style=\"text-align: right;\">\n",
       "      <th></th>\n",
       "      <th>ER_Status_nature2012</th>\n",
       "    </tr>\n",
       "  </thead>\n",
       "  <tbody>\n",
       "    <tr>\n",
       "      <td>TCGA-A8-A092-01</td>\n",
       "      <td>Positive</td>\n",
       "    </tr>\n",
       "    <tr>\n",
       "      <td>TCGA-D8-A1JK-01</td>\n",
       "      <td>Negative</td>\n",
       "    </tr>\n",
       "    <tr>\n",
       "      <td>TCGA-E2-A10C-01</td>\n",
       "      <td>Positive</td>\n",
       "    </tr>\n",
       "    <tr>\n",
       "      <td>TCGA-BH-A0C7-01</td>\n",
       "      <td>Positive</td>\n",
       "    </tr>\n",
       "    <tr>\n",
       "      <td>TCGA-A8-A06N-01</td>\n",
       "      <td>Positive</td>\n",
       "    </tr>\n",
       "  </tbody>\n",
       "</table>\n",
       "</div>"
      ],
      "text/plain": [
       "                ER_Status_nature2012\n",
       "TCGA-A8-A092-01             Positive\n",
       "TCGA-D8-A1JK-01             Negative\n",
       "TCGA-E2-A10C-01             Positive\n",
       "TCGA-BH-A0C7-01             Positive\n",
       "TCGA-A8-A06N-01             Positive"
      ]
     },
     "execution_count": 8,
     "metadata": {},
     "output_type": "execute_result"
    }
   ],
   "source": [
    "y.head()"
   ]
  },
  {
   "cell_type": "code",
   "execution_count": 9,
   "metadata": {},
   "outputs": [
    {
     "data": {
      "text/plain": [
       "781"
      ]
     },
     "execution_count": 9,
     "metadata": {},
     "output_type": "execute_result"
    }
   ],
   "source": [
    "len(y)"
   ]
  },
  {
   "cell_type": "code",
   "execution_count": 10,
   "metadata": {},
   "outputs": [],
   "source": [
    "# 1 行目の 1 列目の値を取得\n",
    "#df.iloc[1,1]\n",
    "\n",
    "for i in range(len(y)):\n",
    "    if y.iloc[i, 0]==\"Positive\":\n",
    "        y.iloc[i, 0]=np.float(1)\n",
    "    else:\n",
    "        y.iloc[i, 0]=np.float(0)"
   ]
  },
  {
   "cell_type": "code",
   "execution_count": 11,
   "metadata": {
    "scrolled": false
   },
   "outputs": [
    {
     "data": {
      "text/html": [
       "<div>\n",
       "<style scoped>\n",
       "    .dataframe tbody tr th:only-of-type {\n",
       "        vertical-align: middle;\n",
       "    }\n",
       "\n",
       "    .dataframe tbody tr th {\n",
       "        vertical-align: top;\n",
       "    }\n",
       "\n",
       "    .dataframe thead th {\n",
       "        text-align: right;\n",
       "    }\n",
       "</style>\n",
       "<table border=\"1\" class=\"dataframe\">\n",
       "  <thead>\n",
       "    <tr style=\"text-align: right;\">\n",
       "      <th></th>\n",
       "      <th>ER_Status_nature2012</th>\n",
       "    </tr>\n",
       "  </thead>\n",
       "  <tbody>\n",
       "    <tr>\n",
       "      <td>TCGA-A8-A092-01</td>\n",
       "      <td>1</td>\n",
       "    </tr>\n",
       "    <tr>\n",
       "      <td>TCGA-D8-A1JK-01</td>\n",
       "      <td>0</td>\n",
       "    </tr>\n",
       "    <tr>\n",
       "      <td>TCGA-E2-A10C-01</td>\n",
       "      <td>1</td>\n",
       "    </tr>\n",
       "    <tr>\n",
       "      <td>TCGA-BH-A0C7-01</td>\n",
       "      <td>1</td>\n",
       "    </tr>\n",
       "    <tr>\n",
       "      <td>TCGA-A8-A06N-01</td>\n",
       "      <td>1</td>\n",
       "    </tr>\n",
       "  </tbody>\n",
       "</table>\n",
       "</div>"
      ],
      "text/plain": [
       "                 ER_Status_nature2012\n",
       "TCGA-A8-A092-01                     1\n",
       "TCGA-D8-A1JK-01                     0\n",
       "TCGA-E2-A10C-01                     1\n",
       "TCGA-BH-A0C7-01                     1\n",
       "TCGA-A8-A06N-01                     1"
      ]
     },
     "execution_count": 11,
     "metadata": {},
     "output_type": "execute_result"
    }
   ],
   "source": [
    "y.head()"
   ]
  },
  {
   "cell_type": "code",
   "execution_count": 12,
   "metadata": {},
   "outputs": [
    {
     "data": {
      "text/plain": [
       "pandas.core.frame.DataFrame"
      ]
     },
     "execution_count": 12,
     "metadata": {},
     "output_type": "execute_result"
    }
   ],
   "source": [
    "type(y)"
   ]
  },
  {
   "cell_type": "code",
   "execution_count": 13,
   "metadata": {
    "scrolled": false
   },
   "outputs": [
    {
     "data": {
      "text/plain": [
       "TCGA-A8-A092-01    1\n",
       "TCGA-D8-A1JK-01    0\n",
       "TCGA-E2-A10C-01    1\n",
       "TCGA-BH-A0C7-01    1\n",
       "TCGA-A8-A06N-01    1\n",
       "                  ..\n",
       "TCGA-EW-A1OX-01    1\n",
       "TCGA-BH-A0BJ-01    1\n",
       "TCGA-EW-A1IY-01    1\n",
       "TCGA-D8-A142-01    0\n",
       "TCGA-BH-A1FC-01    0\n",
       "Name: ER_Status_nature2012, Length: 781, dtype: int64"
      ]
     },
     "execution_count": 13,
     "metadata": {},
     "output_type": "execute_result"
    }
   ],
   "source": [
    "series_y = y.loc[:, 'ER_Status_nature2012']\n",
    "series_y"
   ]
  },
  {
   "cell_type": "code",
   "execution_count": 14,
   "metadata": {},
   "outputs": [
    {
     "data": {
      "text/plain": [
       "pandas.core.series.Series"
      ]
     },
     "execution_count": 14,
     "metadata": {},
     "output_type": "execute_result"
    }
   ],
   "source": [
    "type(series_y)"
   ]
  },
  {
   "cell_type": "code",
   "execution_count": 15,
   "metadata": {},
   "outputs": [],
   "source": [
    "num_sample = X.shape[0]#サンプル数\n",
    "num_feature = X.shape[1]#特徴量の数"
   ]
  },
  {
   "cell_type": "code",
   "execution_count": 16,
   "metadata": {},
   "outputs": [],
   "source": [
    "K = 2*210"
   ]
  },
  {
   "cell_type": "markdown",
   "metadata": {},
   "source": [
    "### 特徴量選択\n",
    "\n",
    "```\n",
    "'''その一　Filter method'''\n",
    "#https://aotamasaki.hatenablog.com/entry/2018/04/27/222536\n",
    "\n",
    "#mask_oriの計算（以降のエネルギー計算の基準となる）\n",
    "#ori_y == yとなる場合だけ、E(y)==0となる仕様\n",
    "\n",
    "selector = SelectKBest(k=num_select) #Filter method #単変量選択（分類：chi2、f_classif、mutual_info_classif）\n",
    "selector.fit(X, series_y)\n",
    "mask_ori = selector.get_support() #各特徴量を選択したか否かのmaskを取得\n",
    "\n",
    "\n",
    "'''その二　Wrapper method'''\n",
    "#recursive feature eliminationを用いた選択\n",
    "#スコア算出ができるので特徴量数を指定できるかもしれない\n",
    "select = RFECV(LogisticRegression(), cv=10, scoring='average_precision')\n",
    "select.fit(X, y)\n",
    "mask = select.support_\n",
    "\n",
    "\n",
    "'''その三　Boruta：randomForestを用いた変数選択法'''\n",
    "#https://www.google.co.jp/url?sa=t&rct=j&q=&esrc=s&source=web&cd=1&ved=0ahUKEwiEzMP4p9naAhWBk5QKHbRjC9oQFggoMAA&url=https%3A%2F%2Fwww.jstatsoft.org%2Farticle%2Fview%2Fv036i11%2Fv36i11.pdf&usg=AOvVaw3tyiHN0BCe2fkkAA6xEVDE\n",
    "\n",
    "forest = RandomForestClassifier()\n",
    "# define Boruta feature selection method\n",
    "select = boruta_py.BorutaPy(forest, n_estimators=10)\n",
    "select.fit(X, y)\n",
    "mask = select.support_\n",
    "```"
   ]
  },
  {
   "cell_type": "code",
   "execution_count": 17,
   "metadata": {},
   "outputs": [],
   "source": [
    "# RFEモデルの生成\n",
    "# 外部推定機には勾配ブースティングを指定。目標特徴量は２０に設定\n",
    "rfe = RFE(estimator=GradientBoostingRegressor(random_state=0), n_features_to_select=20, step=0.5)\n",
    "\n",
    "# 特徴量削減の実行\n",
    "rfe.fit(X, series_y.values.ravel())\n",
    "\n",
    "mask_ori = rfe.support_"
   ]
  },
  {
   "cell_type": "code",
   "execution_count": 18,
   "metadata": {},
   "outputs": [
    {
     "data": {
      "text/plain": [
       "TCGA-A8-A092-01    1\n",
       "TCGA-D8-A1JK-01    0\n",
       "TCGA-E2-A10C-01    1\n",
       "TCGA-BH-A0C7-01    1\n",
       "TCGA-A8-A06N-01    1\n",
       "                  ..\n",
       "TCGA-EW-A1OX-01    1\n",
       "TCGA-BH-A0BJ-01    1\n",
       "TCGA-EW-A1IY-01    1\n",
       "TCGA-D8-A142-01    0\n",
       "TCGA-BH-A1FC-01    0\n",
       "Name: ER_Status_nature2012, Length: 781, dtype: int64"
      ]
     },
     "execution_count": 18,
     "metadata": {},
     "output_type": "execute_result"
    }
   ],
   "source": [
    "series_y"
   ]
  },
  {
   "cell_type": "code",
   "execution_count": 19,
   "metadata": {},
   "outputs": [
    {
     "data": {
      "text/plain": [
       "array([False, False, False, ..., False, False, False])"
      ]
     },
     "execution_count": 19,
     "metadata": {},
     "output_type": "execute_result"
    }
   ],
   "source": [
    "mask_ori"
   ]
  },
  {
   "cell_type": "code",
   "execution_count": 20,
   "metadata": {},
   "outputs": [],
   "source": [
    "#エネルギーが0(最低)となるのがいつか基準を先に計算しておきましょう\n",
    "def E(y): #毎回のmaskとyが引数、合致度合いの計算を行う\n",
    "    #selector = SelectKBest(score_func=chi2, k=num_select) #SelectKBest #chi2...分類\n",
    "    rfe = RFE(estimator=GradientBoostingRegressor(random_state=0), n_features_to_select=20, step=0.5)\n",
    "    rfe.fit(X, y.values.ravel())\n",
    "    mask_each = rfe.support_\n",
    "    \n",
    "    energy_trait_sum = 1 #0を回避するため\n",
    "    for i in range(len(mask_each)):\n",
    "        if mask_each[i]!=mask_ori[i]:\n",
    "            energy_trait_sum += 1\n",
    "    return energy_trait_sum #もとのyのときのmask(これをmaskとしている)との合致度合い（大きい⇒よく合致している）"
   ]
  },
  {
   "cell_type": "code",
   "execution_count": 21,
   "metadata": {
    "scrolled": true
   },
   "outputs": [
    {
     "data": {
      "text/plain": [
       "1"
      ]
     },
     "execution_count": 21,
     "metadata": {},
     "output_type": "execute_result"
    }
   ],
   "source": [
    "E(series_y)"
   ]
  },
  {
   "cell_type": "code",
   "execution_count": 22,
   "metadata": {},
   "outputs": [
    {
     "data": {
      "text/plain": [
       "TCGA-A8-A092-01    1\n",
       "TCGA-D8-A1JK-01    0\n",
       "TCGA-E2-A10C-01    1\n",
       "TCGA-BH-A0C7-01    1\n",
       "TCGA-A8-A06N-01    1\n",
       "                  ..\n",
       "TCGA-EW-A1OX-01    1\n",
       "TCGA-BH-A0BJ-01    1\n",
       "TCGA-EW-A1IY-01    1\n",
       "TCGA-D8-A142-01    0\n",
       "TCGA-BH-A1FC-01    0\n",
       "Name: ER_Status_nature2012, Length: 781, dtype: int64"
      ]
     },
     "execution_count": 22,
     "metadata": {},
     "output_type": "execute_result"
    }
   ],
   "source": [
    "series_y"
   ]
  },
  {
   "cell_type": "markdown",
   "metadata": {},
   "source": [
    "👇ここで毎回```The kernel appears to have died. It will restart automatically.```\n",
    "- num_sample = 10 できた\n",
    "- num_sample = 100　もうだめ\n",
    "- num_sample = 50　これでもだめ"
   ]
  },
  {
   "cell_type": "markdown",
   "metadata": {},
   "source": [
    "### 今日教わったこと、わかったこと\n",
    "```itertools.product```禁止\n",
    "\n",
    "- そもそもモンテカルロはエネルギー差を見るもの。１つだけ変えるからエネルギー差がわかる"
   ]
  },
  {
   "cell_type": "markdown",
   "metadata": {},
   "source": [
    "tried👇but didn't succeed"
   ]
  },
  {
   "cell_type": "markdown",
   "metadata": {},
   "source": [
    "頻繁に起こるエラー\n",
    "```'int' object is not subscriptable```。箇所は```ori_yj = y[j]```。```y```は```int```ではないのになぜ。"
   ]
  },
  {
   "cell_type": "code",
   "execution_count": 23,
   "metadata": {},
   "outputs": [
    {
     "data": {
      "text/plain": [
       "TCGA-A8-A092-01    1\n",
       "TCGA-D8-A1JK-01    0\n",
       "TCGA-E2-A10C-01    1\n",
       "TCGA-BH-A0C7-01    1\n",
       "TCGA-A8-A06N-01    1\n",
       "                  ..\n",
       "TCGA-EW-A1OX-01    1\n",
       "TCGA-BH-A0BJ-01    1\n",
       "TCGA-EW-A1IY-01    1\n",
       "TCGA-D8-A142-01    0\n",
       "TCGA-BH-A1FC-01    0\n",
       "Name: ER_Status_nature2012, Length: 781, dtype: int64"
      ]
     },
     "execution_count": 23,
     "metadata": {},
     "output_type": "execute_result"
    }
   ],
   "source": [
    "series_y #一行前までseriesなのになぜか数字になる時がある。"
   ]
  },
  {
   "cell_type": "code",
   "execution_count": null,
   "metadata": {},
   "outputs": [],
   "source": [
    "Ene = [] #これからi(温度)ごとに入れていく。一行に入っているのもlistにしたい(行i, 列k, 要素Ene)\n",
    "y_list = [] #これからi(温度)ごとに、選択したyを記録していく。(行i, 要素num_tl)\n",
    "\n",
    "Ene.append({})\n",
    "y_list.append([])\n",
    "for k in range(K):\n",
    "    Ene[-1][k]= 1\n",
    "    y_list[-1].append(series_y)\n",
    "    \n",
    "for i in range(1, max_step):   \n",
    "    Ene.append({})\n",
    "    y_list.append([])\n",
    "    for k in range(K): #一度に熟すサンプル数\n",
    "        #MCS\n",
    "        #𝑃(B)/𝑃(A)>random ならば状態Bを採用し，そうでなければ状態Aを採用(Bを先、Aを過去とする)\n",
    "        j = random.randrange(num_sample) #何番目の0 or 1をいじるか決める\n",
    "        ori_yj = series_y[j]\n",
    "        series_y[j] = 1-series_y[j]\n",
    "        Ene[-1][k]= E(pd.Series(series_y))\n",
    "        y_list[-1].append(series_y)\n",
    "        \n",
    "        #今回のターンはiね。\n",
    "        r = math.exp(-Ene[i][k]*b[i]-(-Ene[i-1][k]*b[i-1])) #Ene[i-1][k]*b[i-1] - Ene[i][k]*b[i] #大きいほうが良い\n",
    "        #rr = math.exp(-eene[0][0]*b[3]-(-eene[1][0]*b[2])) \n",
    "        R = np.random.uniform(0.0, 1.0)\n",
    "        if R > r : #乱数R > エネルギー差の大きさを用いた計算\n",
    "            Ene[-1][k] = Ene[i-1][k]\n",
    "            y_list[-1][k] = y_list[i-1][k]\n",
    "            series_y = y_list[i-1][k]\n",
    "    \n",
    "    \n",
    "    #Eneのi行目に数値が全部入って、かつ👇を満たすようだったら\n",
    "    if i%every_MCS == 0:\n",
    "        Ei_sorted = sorted(Ene[-1].items(), key=lambda x:x[1]) #辞書をvalueを元にsort\n",
    "        tuple_kE_list = Ei_sorted[0:int(len(Ei_sorted))] #tuple(k, Ene)\n",
    "        \n",
    "        #y_list[-1](y_listの最後尾)を並べ替え\n",
    "        y_list_sort = [y_list[-1][tuple_kE_list[k][0]] for k in range(K)]\n",
    "        \n",
    "        #ここまでで、Ei_sorted, tuple_kE_list, y_list_sortによってsortedされたEneとy_listが得られた\n",
    "        \n",
    "        #Ene[i][k]はいつでも0以外にしないとエラーが起こる\n",
    "        sumQ = sum([math.exp(-(b[i]-b[i-1])*Ene[i][k]) for k in range(K)])\n",
    "        \n",
    "        #すべてのアイテムについてコピー可能数を計算する\n",
    "        tbi = [K*math.exp(-(b[i]-b[i-1])*tuple_kE_list[k][1])/sumQ for k in range(K)]\n",
    "        \n",
    "        next_K = 0 #次のKの値を決めよう\n",
    "        reserve_min_num = 0\n",
    "        for k in range(K):\n",
    "            if next_K <= K:\n",
    "                if tbi[k] % 1 >= 0.5:\n",
    "                    tbi[k] = tbi[k] // 1 +1\n",
    "                else:\n",
    "                    tbi[k] = tbi[k] // 1\n",
    "                    \n",
    "                next_K += tbi[k]\n",
    "            else:\n",
    "                reserve_min_num = k-1\n",
    "                break #forループを抜ける\n",
    "        \n",
    "        \n",
    "        #k, k+1, ..., Kにおいてtuple_kE_list[k][1]を0, 1, ...k-1のととって変える\n",
    "        for k in range(reserve_min_num): #次にも引き継がれるk\n",
    "            for kk in range(tbi[k]): #kによって含まれる要素数が異なる\n",
    "                ll = tbi[k]*k + kk + 1 #エネルギー大きいほうからll番目\n",
    "                ori_k = tuple_kE_list[-ll][0]#いわゆるkを知る\n",
    "                y_list[-1][ori_k] = y_list_sort[-ll]\n",
    "                Ene[-1][ori_k] = tuple_kE_list[-ll][1]\n",
    "                \n",
    "        K = int(next_K)\n",
    "                \n",
    "\n",
    "if len(Ene) == max_step:               \n",
    "    #初期値を抜く\n",
    "    del Ene[0]\n",
    "    del y_list[0]"
   ]
  },
  {
   "cell_type": "code",
   "execution_count": null,
   "metadata": {},
   "outputs": [],
   "source": [
    "pd.DataFrame(Ene)"
   ]
  },
  {
   "cell_type": "code",
   "execution_count": null,
   "metadata": {},
   "outputs": [],
   "source": [
    "Ene_v_sum_list = []\n",
    "Ene_v_sum_list_append = Ene_v_sum_list.append\n",
    "for each_Ene in Ene:\n",
    "    Ene_v_sum = sum([Ene_v for Ene_v in each_Ene.values()])\n",
    "    Ene_v_sum_list_append(Ene_v_sum/K)\n",
    "#Ene_v_sum_list\n",
    "plt.plot(Ene_v_sum_list)\n",
    "plt.savefig('meeting_0428_0_figure_0.png')\n",
    "print(Ene_v_sum_list[-1])"
   ]
  },
  {
   "cell_type": "code",
   "execution_count": null,
   "metadata": {
    "scrolled": true
   },
   "outputs": [],
   "source": [
    "#毎度(約)K個あるアイテムの内、0, 100, 200, 400番目のアイテムのエネルギーの移り変わりをplotする\n",
    "ene0 = []\n",
    "ene100 = []\n",
    "ene200 = []\n",
    "ene400 = []\n",
    "for i in range(len(Ene)):\n",
    "    ene0.append(Ene[i][0])\n",
    "    ene100.append(Ene[i][100])\n",
    "    ene200.append(Ene[i][200])\n",
    "    ene400.append(Ene[i][400])\n",
    "\n",
    "plt.plot(ene0)\n",
    "plt.plot(ene100)\n",
    "plt.plot(ene200)\n",
    "plt.plot(ene400)\n",
    "plt.savefig('meeting_0428_0_figure_1.png')"
   ]
  },
  {
   "cell_type": "code",
   "execution_count": null,
   "metadata": {},
   "outputs": [],
   "source": [
    "#エネルギーが最小(1)のアイテム数の移り変わりをplotする\n",
    "\n",
    "ene0_num = []\n",
    "for i in range(len(Ene)):\n",
    "    ene0_num.append(len([k for k, v in Ene[i].items() if v == 1]))\n",
    "    \n",
    "plt.plot(ene0_num)\n",
    "plt.savefig('meeting_0428_0_figure_2.png')"
   ]
  },
  {
   "cell_type": "code",
   "execution_count": null,
   "metadata": {},
   "outputs": [],
   "source": []
  }
 ],
 "metadata": {
  "kernelspec": {
   "display_name": "Python 3",
   "language": "python",
   "name": "python3"
  },
  "language_info": {
   "codemirror_mode": {
    "name": "ipython",
    "version": 3
   },
   "file_extension": ".py",
   "mimetype": "text/x-python",
   "name": "python",
   "nbconvert_exporter": "python",
   "pygments_lexer": "ipython3",
   "version": "3.7.6"
  }
 },
 "nbformat": 4,
 "nbformat_minor": 2
}
