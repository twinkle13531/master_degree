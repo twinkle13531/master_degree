{
 "cells": [
  {
   "cell_type": "markdown",
   "metadata": {},
   "source": [
    "# 決定木\n",
    "https://pythondatascience.plavox.info/scikit-learn/scikit-learnで決定木分析"
   ]
  },
  {
   "cell_type": "code",
   "execution_count": 1,
   "metadata": {},
   "outputs": [],
   "source": [
    "#!pip install Boruta"
   ]
  },
  {
   "cell_type": "code",
   "execution_count": 2,
   "metadata": {},
   "outputs": [],
   "source": [
    "#import\n",
    "import pandas as pd\n",
    "import numpy as np\n",
    "import matplotlib.pyplot as plt\n",
    "import random, math, warnings\n",
    "from sklearn import tree\n",
    "import pprint\n",
    "import itertools"
   ]
  },
  {
   "cell_type": "code",
   "execution_count": 3,
   "metadata": {},
   "outputs": [],
   "source": [
    "#valiable\n",
    "num_select = 3\n",
    "\n",
    "every_MCS = 100"
   ]
  },
  {
   "cell_type": "code",
   "execution_count": 4,
   "metadata": {},
   "outputs": [
    {
     "name": "stdout",
     "output_type": "stream",
     "text": [
      "bのトップバッターは0.001である\n",
      "bのラストは4.999である\n",
      "max_stepは2500である\n"
     ]
    }
   ],
   "source": [
    "b = [i / 1000 for i in range(1, 5000, 2)]\n",
    "print(\"bのトップバッターは{}である\".format(b[0])) #0を目指したかった\n",
    "print(\"bのラストは{}である\".format(b[-1])) #5を目指したかった\n",
    "max_step = len(b)\n",
    "print(\"max_stepは{}である\".format(max_step)) "
   ]
  },
  {
   "cell_type": "code",
   "execution_count": 5,
   "metadata": {
    "scrolled": true
   },
   "outputs": [
    {
     "name": "stdout",
     "output_type": "stream",
     "text": [
      "X.shape is (781, 16799)\n"
     ]
    }
   ],
   "source": [
    "X = pd.read_table('geneX_df.txt',sep ='\\t')# 説明変数（こっちの特徴量上位5つ取り出す）\n",
    "print(\"X.shape is {}\".format(X.shape))\n",
    "\n",
    "y = pd.read_table('ERY_df.txt' ,sep ='\\t')# 目的変数\n",
    "#print('type of y is {}'.format(type(y)))\n",
    "\n",
    "num_sample = X.shape[0]#サンプル数\n",
    "num_feature = X.shape[1]#特徴量の数\n",
    "\n",
    "#Kをはじめにlist upするyの数とする"
   ]
  },
  {
   "cell_type": "code",
   "execution_count": 6,
   "metadata": {},
   "outputs": [
    {
     "data": {
      "text/plain": [
       "781"
      ]
     },
     "execution_count": 6,
     "metadata": {},
     "output_type": "execute_result"
    }
   ],
   "source": [
    "len(y)"
   ]
  },
  {
   "cell_type": "code",
   "execution_count": 7,
   "metadata": {},
   "outputs": [],
   "source": [
    "# 1 行目の 1 列目の値を取得\n",
    "#df.iloc[1,1]\n",
    "\n",
    "for i in range(len(y)):\n",
    "    if y.iloc[i, 0]==\"Positive\":\n",
    "        y.iloc[i, 0]=np.float(1)\n",
    "    else:\n",
    "        y.iloc[i, 0]=np.float(0)\n",
    "\n",
    "series_y = y.loc[:, 'ER_Status_nature2012']"
   ]
  },
  {
   "cell_type": "code",
   "execution_count": 8,
   "metadata": {},
   "outputs": [
    {
     "data": {
      "text/plain": [
       "pandas.core.series.Series"
      ]
     },
     "execution_count": 8,
     "metadata": {},
     "output_type": "execute_result"
    }
   ],
   "source": [
    "type(series_y)"
   ]
  },
  {
   "cell_type": "code",
   "execution_count": 9,
   "metadata": {},
   "outputs": [],
   "source": [
    "K = 2*210"
   ]
  },
  {
   "cell_type": "code",
   "execution_count": 10,
   "metadata": {},
   "outputs": [],
   "source": [
    "'''\n",
    "# define random forest classifier, with utilising all cores and\n",
    "# sampling in proportion to y labels\n",
    "rf = RandomForestClassifier(n_jobs=-1, class_weight='balanced', max_depth=5)\n",
    "\n",
    "# define Boruta feature selection method\n",
    "feat_selector = BorutaPy(rf, n_estimators='auto', verbose=2, random_state=1)\n",
    "\n",
    "# find all relevant features - 5 features should be selected\n",
    "feat_selector.fit(X, y)\n",
    "\n",
    "# check selected features - first 5 features are selected\n",
    "feat_selector.support_\n",
    "\n",
    "# check ranking of features\n",
    "feat_selector.ranking_\n",
    "\n",
    "# call transform() on X to filter it down to selected features\n",
    "X_filtered = feat_selector.transform(X)\n",
    "'''\n",
    "clf = tree.DecisionTreeClassifier(max_depth=3)\n",
    "clf = clf.fit(X.values, series_y.values.ravel())\n",
    "feature_list_ori = [i for i, x in enumerate(clf.feature_importances_) if x != 0.]"
   ]
  },
  {
   "cell_type": "code",
   "execution_count": 11,
   "metadata": {},
   "outputs": [],
   "source": [
    "#clf.feature_importances_"
   ]
  },
  {
   "cell_type": "code",
   "execution_count": 12,
   "metadata": {},
   "outputs": [],
   "source": [
    "#エネルギーが0(最低)となるのがいつか基準を先に計算しておきましょう\n",
    "def E(y): #毎回のmaskとyが引数、合致度合いの計算を行う\n",
    "    #selector = SelectKBest(score_func=chi2, k=num_select) #SelectKBest #chi2...分類\n",
    "    clf = tree.DecisionTreeClassifier(max_depth=3)\n",
    "    clf = clf.fit(X.values, y.values.ravel())\n",
    "    feature_list_each = [i for i, x in enumerate(clf.feature_importances_) if x != 0.]\n",
    "    \n",
    "    energy_trait_sum = 0 #0を回避するため\n",
    "    for i in range(len(feature_list_each)):\n",
    "        if feature_list_each[i] in feature_list_ori:\n",
    "            energy_trait_sum += 1\n",
    "    return - energy_trait_sum #もとのyのときのmask(これをmaskとしている)との合致度合い（大きい⇒よく合致している）"
   ]
  },
  {
   "cell_type": "code",
   "execution_count": 13,
   "metadata": {
    "scrolled": true
   },
   "outputs": [
    {
     "data": {
      "text/plain": [
       "-5"
      ]
     },
     "execution_count": 13,
     "metadata": {},
     "output_type": "execute_result"
    }
   ],
   "source": [
    "E(series_y)"
   ]
  },
  {
   "cell_type": "code",
   "execution_count": 14,
   "metadata": {},
   "outputs": [
    {
     "data": {
      "text/plain": [
       "TCGA-A8-A092-01    1\n",
       "TCGA-D8-A1JK-01    0\n",
       "TCGA-E2-A10C-01    1\n",
       "TCGA-BH-A0C7-01    1\n",
       "TCGA-A8-A06N-01    1\n",
       "                  ..\n",
       "TCGA-EW-A1OX-01    1\n",
       "TCGA-BH-A0BJ-01    1\n",
       "TCGA-EW-A1IY-01    1\n",
       "TCGA-D8-A142-01    0\n",
       "TCGA-BH-A1FC-01    0\n",
       "Name: ER_Status_nature2012, Length: 781, dtype: int64"
      ]
     },
     "execution_count": 14,
     "metadata": {},
     "output_type": "execute_result"
    }
   ],
   "source": [
    "series_y"
   ]
  },
  {
   "cell_type": "code",
   "execution_count": 15,
   "metadata": {
    "scrolled": true
   },
   "outputs": [
    {
     "data": {
      "text/plain": [
       "TCGA-A8-A092-01    1\n",
       "TCGA-D8-A1JK-01    0\n",
       "TCGA-E2-A10C-01    1\n",
       "TCGA-BH-A0C7-01    1\n",
       "TCGA-A8-A06N-01    1\n",
       "                  ..\n",
       "TCGA-EW-A1OX-01    1\n",
       "TCGA-BH-A0BJ-01    1\n",
       "TCGA-EW-A1IY-01    1\n",
       "TCGA-D8-A142-01    0\n",
       "TCGA-BH-A1FC-01    0\n",
       "Name: ER_Status_nature2012, Length: 781, dtype: int64"
      ]
     },
     "execution_count": 15,
     "metadata": {},
     "output_type": "execute_result"
    }
   ],
   "source": [
    "series_y #一行前までseriesなのになぜか数字になる時がある。"
   ]
  },
  {
   "cell_type": "code",
   "execution_count": null,
   "metadata": {},
   "outputs": [],
   "source": [
    "Ene = [] #これからi(温度)ごとに入れていく。一行に入っているのもlistにしたい(行i, 列k, 要素Ene)\n",
    "y_list = [] #これからi(温度)ごとに、選択したyを記録していく。(行i, 要素num_tl)\n",
    "\n",
    "Ene.append({})\n",
    "y_list.append([])\n",
    "for k in range(K):\n",
    "    Ene[-1][k]= 1\n",
    "    y_list[-1].append(series_y)\n",
    "    \n",
    "for i in range(1, max_step):   \n",
    "    Ene.append({})\n",
    "    y_list.append([])\n",
    "    for k in range(K): #一度に熟すサンプル数\n",
    "        #MCS\n",
    "        #𝑃(B)/𝑃(A)>random ならば状態Bを採用し，そうでなければ状態Aを採用(Bを先、Aを過去とする)\n",
    "        j = random.randrange(num_sample) #何番目の0 or 1をいじるか決める\n",
    "        ori_yj = series_y[j]\n",
    "        series_y[j] = 1-series_y[j]\n",
    "        Ene[-1][k]= E(pd.Series(series_y))\n",
    "        y_list[-1].append(series_y)\n",
    "        \n",
    "        #今回のターンはiね。\n",
    "        r = math.exp(-Ene[i][k]*b[i]-(-Ene[i-1][k]*b[i-1])) #Ene[i-1][k]*b[i-1] - Ene[i][k]*b[i] #大きいほうが良い\n",
    "        #rr = math.exp(-eene[0][0]*b[3]-(-eene[1][0]*b[2])) \n",
    "        R = np.random.uniform(0.0, 1.0)\n",
    "        if R > r : #乱数R > エネルギー差の大きさを用いた計算\n",
    "            Ene[-1][k] = Ene[i-1][k]\n",
    "            y_list[-1][k] = y_list[i-1][k]\n",
    "            series_y = y_list[i-1][k]\n",
    "    \n",
    "    \n",
    "    #Eneのi行目に数値が全部入って、かつ👇を満たすようだったら\n",
    "    if i%every_MCS == 0:\n",
    "        Ei_sorted = sorted(Ene[-1].items(), key=lambda x:x[1]) #辞書をvalueを元にsort\n",
    "        tuple_kE_list = Ei_sorted[0:int(len(Ei_sorted))] #tuple(k, Ene)\n",
    "        \n",
    "        #y_list[-1](y_listの最後尾)を並べ替え\n",
    "        y_list_sort = [y_list[-1][tuple_kE_list[k][0]] for k in range(K)]\n",
    "        \n",
    "        #ここまでで、Ei_sorted, tuple_kE_list, y_list_sortによってsortedされたEneとy_listが得られた\n",
    "        \n",
    "        #Ene[i][k]はいつでも0以外にしないとエラーが起こる\n",
    "        sumQ = sum([math.exp(-(b[i]-b[i-1])*Ene[i][k]) for k in range(K)])\n",
    "        \n",
    "        #すべてのアイテムについてコピー可能数を計算する\n",
    "        tbi = [K*math.exp(-(b[i]-b[i-1])*tuple_kE_list[k][1])/sumQ for k in range(K)]\n",
    "        \n",
    "        next_K = 0 #次のKの値を決めよう\n",
    "        reserve_min_num = 0\n",
    "        for k in range(K):\n",
    "            if next_K <= K: #毎回Kより少なくなる。それで良いのか？\n",
    "                if tbi[k] % 1 >= 0.5:\n",
    "                    tbi[k] = tbi[k] // 1 +1\n",
    "                else:\n",
    "                    tbi[k] = tbi[k] // 1\n",
    "                    \n",
    "                next_K += tbi[k] #どんどん足していく\n",
    "            else:\n",
    "                reserve_min_num = k-1\n",
    "                break #forループを抜ける\n",
    "        \n",
    "        \n",
    "        #k, k+1, ..., Kにおいてtuple_kE_list[k][1]を0, 1, ...k-1のととって変える\n",
    "        for k in range(reserve_min_num): #次にも引き継がれるk\n",
    "            for kk in range(tbi[k]): #kによって含まれる要素数が異なる\n",
    "                ll = tbi[k]*k + kk + 1 #エネルギー大きいほうからll番目\n",
    "                ori_k = tuple_kE_list[-ll][0]#いわゆるkを知る\n",
    "                y_list[-1][ori_k] = y_list_sort[-ll]\n",
    "                Ene[-1][ori_k] = tuple_kE_list[-ll][1]\n",
    "                \n",
    "        K = int(next_K)\n",
    "                \n",
    "\n",
    "if len(Ene) == max_step:               \n",
    "    #初期値を抜く\n",
    "    del Ene[0]\n",
    "    del y_list[0]"
   ]
  },
  {
   "cell_type": "code",
   "execution_count": null,
   "metadata": {},
   "outputs": [],
   "source": [
    "pd.DataFrame(Ene)"
   ]
  },
  {
   "cell_type": "code",
   "execution_count": null,
   "metadata": {},
   "outputs": [],
   "source": [
    "Ene_v_sum_list = []\n",
    "Ene_v_sum_list_append = Ene_v_sum_list.append\n",
    "for each_Ene in Ene:\n",
    "    Ene_v_sum = sum([Ene_v for Ene_v in each_Ene.values()])\n",
    "    Ene_v_sum_list_append(Ene_v_sum/K)\n",
    "#Ene_v_sum_list\n",
    "plt.plot(Ene_v_sum_list)\n",
    "plt.savefig('meeting_0428_0_figure_0.png')\n",
    "print(Ene_v_sum_list[-1])"
   ]
  },
  {
   "cell_type": "code",
   "execution_count": null,
   "metadata": {
    "scrolled": true
   },
   "outputs": [],
   "source": [
    "#毎度(約)K個あるアイテムの内、0, 100, 200, 400番目のアイテムのエネルギーの移り変わりをplotする\n",
    "ene0 = []\n",
    "ene100 = []\n",
    "ene200 = []\n",
    "ene400 = []\n",
    "for i in range(len(Ene)):\n",
    "    ene0.append(Ene[i][0])\n",
    "    ene100.append(Ene[i][100])\n",
    "    ene200.append(Ene[i][200])\n",
    "    ene400.append(Ene[i][400])\n",
    "\n",
    "plt.plot(ene0)\n",
    "plt.plot(ene100)\n",
    "plt.plot(ene200)\n",
    "plt.plot(ene400)\n",
    "plt.savefig('meeting_0428_0_figure_1.png')"
   ]
  },
  {
   "cell_type": "code",
   "execution_count": null,
   "metadata": {},
   "outputs": [],
   "source": [
    "#エネルギーが最小(1)のアイテム数の移り変わりをplotする\n",
    "\n",
    "ene0_num = []\n",
    "for i in range(len(Ene)):\n",
    "    ene0_num.append(len([k for k, v in Ene[i].items() if v == 1]))\n",
    "    \n",
    "plt.plot(ene0_num)\n",
    "plt.savefig('meeting_0428_0_figure_2.png')"
   ]
  },
  {
   "cell_type": "code",
   "execution_count": null,
   "metadata": {},
   "outputs": [],
   "source": []
  }
 ],
 "metadata": {
  "kernelspec": {
   "display_name": "Python 3",
   "language": "python",
   "name": "python3"
  },
  "language_info": {
   "codemirror_mode": {
    "name": "ipython",
    "version": 3
   },
   "file_extension": ".py",
   "mimetype": "text/x-python",
   "name": "python",
   "nbconvert_exporter": "python",
   "pygments_lexer": "ipython3",
   "version": "3.6.9"
  }
 },
 "nbformat": 4,
 "nbformat_minor": 4
}
